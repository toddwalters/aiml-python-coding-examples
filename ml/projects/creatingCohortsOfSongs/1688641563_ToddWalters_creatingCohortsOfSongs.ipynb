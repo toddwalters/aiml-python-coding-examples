{
 "cells": [
  {
   "cell_type": "markdown",
   "metadata": {},
   "source": [
    "# Creatubg Cohorts of Songs"
   ]
  },
  {
   "cell_type": "markdown",
   "metadata": {},
   "source": [
    "------------------------\n",
    "## **Context**\n",
    "------------------------\n",
    "\n",
    "The customer always looks forward to specialized treatment, whether shopping over an e-commerce website or watching Netflix. They want to see what they might like. To keep the customers engaged, it is crucial for companies to always present the most relevant information. \n",
    "\n",
    "Spotify, a Swedish audio streaming and media service provider, has over 456 million active monthly users, including over 195 million paying subscribers as of September 2022. The company intends to create cohorts of different songs that will aid in the recommendation of songs to users based on various relevant features. Each cohort would contain similar types of songs."
   ]
  },
  {
   "cell_type": "markdown",
   "metadata": {},
   "source": [
    "------------------------\n",
    "## **Objectives**\n",
    "------------------------\n",
    "\n",
    "As a data scientist, your goal is to perform exploratory data analysis and cluster analysis to create cohorts of songs. The objective is to gain a better understanding of the various factors that contribute to creating a cohort of songs. Specifically, you need to:\n",
    "\n",
    "1. Perform initial data inspection and data cleaning.\n",
    "2. Conduct exploratory data analysis (EDA) and feature engineering.\n",
    "3. Perform cluster analysis to identify and define cohorts of songs."
   ]
  },
  {
   "cell_type": "markdown",
   "metadata": {},
   "source": [
    "------------------------\n",
    "## **Data Set Details**\n",
    "------------------------\n",
    "\n",
    "The dataset contains data from Spotify's API about all albums for the Rolling Stones listed on Spotify. Each song has unique IDs and several features. The following table lists the name and description of each feature within the dataset:\n",
    "\n",
    "| Feature         | Description                                                                                   |\n",
    "|-----------------|-----------------------------------------------------------------------------------------------|\n",
    "| `name`          | The name of the song.                                                                         |\n",
    "| `album`         | The name of the album.                                                                        |\n",
    "| `release_date`  | The release date of the album (day, month, year).                                             |\n",
    "| `track number`  | The order the song appears on the album.                                                      |\n",
    "| `id`            | The Spotify ID for the song.                                                                  |\n",
    "| `uri`           | The Spotify URI for the song.                                                                 |\n",
    "| `acousticness`  | A confidence measure from 0.0 to 1.0 of whether the track is acoustic.                        |\n",
    "| `danceability`  | Describes how suitable a track is for dancing, based on a combination of musical elements.    |\n",
    "| `energy`        | A measure from 0.0 to 1.0 representing a perceptual measure of intensity and activity.        |\n",
    "| `instrumentalness` | Predicts whether a track contains no vocals.                                              |\n",
    "| `liveness`      | Detects the presence of an audience in the recording.                                         |\n",
    "| `loudness`      | The overall loudness of a track in decibels (dB).                                             |\n",
    "| `speechiness`   | Detects the presence of spoken words in a track.                                              |\n",
    "| `tempo`         | The overall estimated tempo of a track in beats per minute (BPM).                             |\n",
    "| `valence`       | A measure from 0.0 to 1.0 describing the musical positiveness conveyed by a track.            |\n",
    "| `popularity`    | The popularity of the song, from 0 to 100.                                                    |\n",
    "| `duration_ms`   | The duration of the track in milliseconds.                                                    |"
   ]
  },
  {
   "cell_type": "markdown",
   "metadata": {},
   "source": [
    "------------------------\n",
    "## **Analysis Steps to Perform**\n",
    "------------------------\n",
    "\n",
    "### Initial Data Inspection and Data Cleaning\n",
    "- Check whether the data has duplicates, missing values, irrelevant (erroneous) values, or outliers.\n",
    "- Depending on your findings, clean the data for further processing.\n",
    "\n",
    "### Exploratory Data Analysis and Feature Engineering\n",
    "- Use appropriate visualizations to find out which two albums should be recommended to anyone based on the number of popular songs in an album.\n",
    "- Perform exploratory data analysis to dive deeper into different features of songs and identify patterns.\n",
    "- Discover how a song's popularity relates to various factors and how this has changed over time.\n",
    "- Comment on the importance of dimensionality reduction techniques, share your ideas, and explain your observations.\n",
    "\n",
    "### Cluster Analysis\n",
    "- Identify the right number of clusters using appropriate methods.\n",
    "- Use a suitable clustering algorithm to create cohorts of songs.\n",
    "- Define each cluster based on the features and analyze the characteristics of each cluster."
   ]
  },
  {
   "cell_type": "markdown",
   "metadata": {},
   "source": [
    "----------------------------------------\n",
    "## **Setup: Import Necessary Libraries**\n",
    "----------------------------------------"
   ]
  },
  {
   "cell_type": "code",
   "execution_count": null,
   "metadata": {},
   "outputs": [],
   "source": [
    "# Importing necessary libraries\n",
    "import pandas as pd\n",
    "import numpy as np\n",
    "import matplotlib.pyplot as plt\n",
    "import seaborn as sns\n",
    "from sklearn.cluster import KMeans\n",
    "from sklearn.decomposition import PCA\n",
    "from sklearn.preprocessing import StandardScaler\n",
    "\n",
    "# Setting plot aesthetics\n",
    "sns.set(style='whitegrid')"
   ]
  },
  {
   "cell_type": "markdown",
   "metadata": {},
   "source": [
    "-----------------------\n",
    "## **Load the dataset**\n",
    "-----------------------"
   ]
  },
  {
   "cell_type": "code",
   "execution_count": null,
   "metadata": {},
   "outputs": [],
   "source": [
    "# Load the dataset\n",
    "data = pd.read_csv('rolling_stones_spotify.csv')\n",
    "\n",
    "# Display the first few rows of the dataset\n",
    "data.head()"
   ]
  },
  {
   "cell_type": "code",
   "execution_count": null,
   "metadata": {},
   "outputs": [],
   "source": [
    "data.tail()"
   ]
  },
  {
   "cell_type": "markdown",
   "metadata": {},
   "source": [
    "------------------------------------------------\n",
    "## **Initial Data Inspection and Data Cleaning**\n",
    "------------------------------------------------"
   ]
  },
  {
   "cell_type": "code",
   "execution_count": null,
   "metadata": {},
   "outputs": [],
   "source": [
    "# Drop the first column\n",
    "data = data.drop(data.columns[0], axis=1)\n",
    "\n",
    "data.head()"
   ]
  },
  {
   "cell_type": "code",
   "execution_count": null,
   "metadata": {},
   "outputs": [],
   "source": [
    "# Check for duplicates\n",
    "duplicates = data.duplicated().sum()\n",
    "print(f'Number of duplicate rows: {duplicates}')\n",
    "\n",
    "# Drop duplicates if any\n",
    "data = data.drop_duplicates()"
   ]
  },
  {
   "cell_type": "code",
   "execution_count": null,
   "metadata": {},
   "outputs": [],
   "source": [
    "# Check for missing values\n",
    "missing_values = data.isnull().sum()\n",
    "print('Missing values in each column:')\n",
    "print(missing_values)"
   ]
  },
  {
   "cell_type": "code",
   "execution_count": null,
   "metadata": {},
   "outputs": [],
   "source": [
    "data.info()"
   ]
  },
  {
   "cell_type": "code",
   "execution_count": null,
   "metadata": {},
   "outputs": [],
   "source": [
    "# Display basic statistics\n",
    "data.describe().transpose()"
   ]
  },
  {
   "cell_type": "code",
   "execution_count": null,
   "metadata": {},
   "outputs": [],
   "source": [
    "# Visualizing outliers for key features using boxplots\n",
    "plt.figure(figsize=(20, 15))\n",
    "\n",
    "# Boxplot for acousticness\n",
    "plt.subplot(3, 4, 1)\n",
    "sns.boxplot(data['acousticness'])\n",
    "plt.title('Boxplot of Acousticness')\n",
    "\n",
    "# Boxplot for danceability\n",
    "plt.subplot(3, 4, 2)\n",
    "sns.boxplot(data['danceability'])\n",
    "plt.title('Boxplot of Danceability')\n",
    "\n",
    "# Boxplot for energy\n",
    "plt.subplot(3, 4, 3)\n",
    "sns.boxplot(data['energy'])\n",
    "plt.title('Boxplot of Energy')\n",
    "\n",
    "# Boxplot for instrumentalness\n",
    "plt.subplot(3, 4, 4)\n",
    "sns.boxplot(data['instrumentalness'])\n",
    "plt.title('Boxplot of Instrumentalness')\n",
    "\n",
    "# Boxplot for liveness\n",
    "plt.subplot(3, 4, 5)\n",
    "sns.boxplot(data['liveness'])\n",
    "plt.title('Boxplot of Liveness')\n",
    "\n",
    "# Boxplot for loudness\n",
    "plt.subplot(3, 4, 6)\n",
    "sns.boxplot(data['loudness'])\n",
    "plt.title('Boxplot of Loudness')\n",
    "\n",
    "# Boxplot for speechiness\n",
    "plt.subplot(3, 4, 7)\n",
    "sns.boxplot(data['speechiness'])\n",
    "plt.title('Boxplot of Speechiness')\n",
    "\n",
    "# Boxplot for tempo\n",
    "plt.subplot(3, 4, 8)\n",
    "sns.boxplot(data['tempo'])\n",
    "plt.title('Boxplot of Tempo')\n",
    "\n",
    "# Boxplot for valence\n",
    "plt.subplot(3, 4, 9)\n",
    "sns.boxplot(data['valence'])\n",
    "plt.title('Boxplot of Valence')\n",
    "\n",
    "# Boxplot for popularity\n",
    "plt.subplot(3, 4, 10)\n",
    "sns.boxplot(data['popularity'])\n",
    "plt.title('Boxplot of Popularity')\n",
    "\n",
    "# Boxplot for duration_ms\n",
    "plt.subplot(3, 4, 11)\n",
    "sns.boxplot(data['duration_ms'])\n",
    "plt.title('Boxplot of Duration')\n",
    "\n",
    "plt.tight_layout()\n",
    "plt.show()"
   ]
  },
  {
   "cell_type": "code",
   "execution_count": null,
   "metadata": {},
   "outputs": [],
   "source": [
    "# Select the features for the heatmap\n",
    "features = ['acousticness', 'danceability', 'energy', 'instrumentalness', 'liveness', 'loudness', \n",
    "            'speechiness', 'tempo', 'valence', 'duration_ms', 'popularity']\n",
    "\n",
    "# Compute the correlation matrix\n",
    "correlation_matrix = data[features].corr()\n",
    "\n",
    "# Create a heatmap\n",
    "plt.figure(figsize=(12, 8))\n",
    "sns.heatmap(correlation_matrix, annot=True, cmap='coolwarm', center=0)\n",
    "plt.title('Heatmap of Features Correlation')\n",
    "plt.show()"
   ]
  },
  {
   "cell_type": "markdown",
   "metadata": {},
   "source": [
    "## **Exploratory Data Analysis (EDA)**"
   ]
  },
  {
   "cell_type": "code",
   "execution_count": null,
   "metadata": {},
   "outputs": [],
   "source": [
    "# Exploratory Data Analysis (EDA) and Feature Engineering\n",
    "\n",
    "# Visualization: Number of Popular Songs in Each Album\n",
    "popular_songs = data[data['popularity'] > 70]  # Assuming popularity > 50 is considered popular\n",
    "album_popularity = popular_songs['album'].value_counts().head(10)  # Top 10 albums with most popular songs\n",
    "\n",
    "plt.figure(figsize=(12, 6))\n",
    "sns.barplot(x=album_popularity.values, y=album_popularity.index, hue=album_popularity.index, legend=False, palette='viridis')\n",
    "plt.title('Top 10 Albums with Most Popular Songs')\n",
    "plt.xlabel('Number of Popular Songs')\n",
    "plt.ylabel('Album')\n",
    "plt.show()\n",
    "\n",
    "# Visualization: Distribution of Song Popularity\n",
    "plt.figure(figsize=(12, 6))\n",
    "sns.histplot(data['popularity'], bins=30, kde=True)\n",
    "plt.title('Distribution of Song Popularity')\n",
    "plt.xlabel('Popularity')\n",
    "plt.ylabel('Frequency')\n",
    "plt.show()\n",
    "\n",
    "# Analysis: How Song Popularity Relates to Various Factors\n",
    "plt.figure(figsize=(15, 10))\n",
    "\n",
    "# Danceability vs Popularity\n",
    "plt.subplot(2, 3, 1)\n",
    "sns.scatterplot(x='danceability', y='popularity', data=data)\n",
    "plt.title('Danceability vs Popularity')\n",
    "\n",
    "# Energy vs Popularity\n",
    "plt.subplot(2, 3, 2)\n",
    "sns.scatterplot(x='energy', y='popularity', data=data)\n",
    "plt.title('Energy vs Popularity')\n",
    "\n",
    "# Acousticness vs Popularity\n",
    "plt.subplot(2, 3, 3)\n",
    "sns.scatterplot(x='acousticness', y='popularity', data=data)\n",
    "plt.title('Acousticness vs Popularity')\n",
    "\n",
    "# Instrumentalness vs Popularity\n",
    "plt.subplot(2, 3, 4)\n",
    "sns.scatterplot(x='instrumentalness', y='popularity', data=data)\n",
    "plt.title('Instrumentalness vs Popularity')\n",
    "\n",
    "# Liveness vs Popularity\n",
    "plt.subplot(2, 3, 5)\n",
    "sns.scatterplot(x='liveness', y='popularity', data=data)\n",
    "plt.title('Liveness vs Popularity')\n",
    "\n",
    "# Valence vs Popularity\n",
    "plt.subplot(2, 3, 6)\n",
    "sns.scatterplot(x='valence', y='popularity', data=data)\n",
    "plt.title('Valence vs Popularity')\n",
    "\n",
    "plt.tight_layout()\n",
    "plt.show()\n",
    "\n",
    "# Analysis: Popularity Change Over Time\n",
    "data['release_date'] = pd.to_datetime(data['release_date'])\n",
    "data['year'] = data['release_date'].dt.year\n",
    "\n",
    "plt.figure(figsize=(12, 6))\n",
    "sns.lineplot(x='year', y='popularity', data=data.groupby('year')['popularity'].mean().reset_index())\n",
    "plt.title('Average Song Popularity Over Time')\n",
    "plt.xlabel('Year')\n",
    "plt.ylabel('Average Popularity')\n",
    "plt.show()\n",
    "\n",
    "# Dimensionality Reduction Discussion\n",
    "# Using PCA to reduce dimensionality\n",
    "features = ['acousticness', 'danceability', 'energy', 'instrumentalness', 'liveness', 'loudness', \n",
    "            'speechiness', 'tempo', 'valence', 'duration_ms']\n",
    "x = data[features].fillna(0)  # Filling missing values with 0 for simplicity\n",
    "scaler = StandardScaler()\n",
    "x_scaled = scaler.fit_transform(x)\n",
    "\n",
    "pca = PCA(n_components=2)\n",
    "principal_components = pca.fit_transform(x_scaled)\n",
    "data['pca_one'] = principal_components[:, 0]\n",
    "data['pca_two'] = principal_components[:, 1]\n",
    "\n",
    "plt.figure(figsize=(12, 6))\n",
    "sns.scatterplot(x='pca_one', y='pca_two', hue='popularity', palette='coolwarm', data=data)\n",
    "plt.title('PCA of Song Features')\n",
    "plt.xlabel('Principal Component 1')\n",
    "plt.ylabel('Principal Component 2')\n",
    "plt.show()\n",
    "\n",
    "print(\"Explained Variance Ratio of the Principal Components: \", pca.explained_variance_ratio_)"
   ]
  },
  {
   "cell_type": "markdown",
   "metadata": {},
   "source": [
    "### **Observations and Inferences**\n",
    "\n",
    "1. **Number of Popular Songs in Each Album**\n",
    "\n",
    "\t*Observation:*\n",
    "\t\n",
    "\t- Certain albums have a significantly higher number of popular songs compared to others.\n",
    "\t- Albums like “Some Girls” and “Sticky Fingers” appear to have more popular tracks, suggesting these albums are particularly well-received.\n",
    "\t\n",
    "\t\n",
    "\t*Inference:*\n",
    "\t\n",
    "\t- These albums might have a consistent style or quality that appeals to a wide audience. Recommending these albums could potentially satisfy a broad range of listeners.\n",
    "\t\n",
    "2. **Distribution of Song Popularity**\n",
    "\n",
    "\t*Observation:*\n",
    "\n",
    "\t- The distribution of song popularity shows a right-skewed distribution, indicating that most songs have a lower popularity score, with a few songs having very high popularity.\n",
    "\n",
    "\t*Inference:*\n",
    "\n",
    "\t- The majority of the songs may appeal to niche audiences or might be less known. Highly popular songs can be used as anchor tracks to attract new listeners to similar but less popular songs.\n",
    "\n",
    "3. Relationship Between Song Features and Popularity\n",
    "\n",
    "\t*Observations:*\n",
    "\t\n",
    "\t- **Danceability vs. Popularity:** No strong correlation observed, suggesting danceability alone does not determine popularity.\n",
    "\t- **Energy vs. Popularity:** Slight positive trend, indicating energetic songs tend to be slightly more popular.\n",
    "\t- **Acousticness vs. Popularity:** No clear trend, implying acoustic nature is not a strong factor in popularity.\n",
    "\t- **Instrumentalness vs. Popularity:** Negative trend, indicating songs with vocals are generally more popular.\n",
    "\t- **Liveness vs. Popularity:** No significant trend, suggesting live recordings do not strongly affect popularity.\n",
    "\t- **Valence vs. Popularity:** Slight positive trend, indicating happier songs might be more popular.\n",
    "\t\n",
    "\t*Inferences:*\n",
    "\t\n",
    "\t- **No Single Feature Dominates Popularity:** No single feature consistently dominated in determining song popularity. Instead, a combination of features contributes to a song’s success.\n",
    "\t- **Vocals are Important:** Songs with vocals are generally more popular than purely instrumental tracks.\n",
    "\t- **Energy and Valence Matter:** Energetic and positive (high valence) songs tend to be more popular, indicating a preference for lively and cheerful music.\n",
    "\t- **Fluctuating Trends Over Time:** The popularity of songs changes over time, reflecting evolving musical trends and listener preferences.\n",
    "\n",
    "4. **Popularity Change Over Time**\n",
    "\n",
    "\t*Observation:*\n",
    "\n",
    "\t- The average popularity of songs shows fluctuations over the years, with certain periods having higher average popularity.\n",
    "\n",
    "\t*Inference:*\n",
    "\n",
    "\t- Changes in average popularity over time might reflect evolving musical trends, changes in the band’s style, or external factors such as marketing efforts and cultural events.\n",
    "\n",
    "5. **Dimensionality Reduction Using PCA**\n",
    "\n",
    "\t*Observation:*\n",
    "\n",
    "\t- The PCA plot shows the distribution of songs based on the first two principal components. Songs with similar characteristics cluster together.\n",
    "\t- The explained variance ratio indicates how much variance is captured by the first two principal components.\n",
    "\n",
    "\t*Inference:*\n",
    "\n",
    "\t- PCA helps in visualizing high-dimensional data in a 2D space, making it easier to identify patterns and clusters.\n",
    "\t- The variance captured by the first two components suggests that these principal components represent significant underlying patterns in the data.\n",
    "\n",
    "\t**Discussion on Dimensionality Reduction Techniques**\n",
    "\n",
    "\tDimensionality reduction is a crucial step in data analysis and machine learning, especially when dealing with high-dimensional datasets. It helps in simplifying the dataset, improving model performance, and reducing computational cost. The dimensionality reduction technique used in this analysis is  Principal Component Analysis (PCA).\n",
    "\n",
    "\tPCA is a statistical technique that transforms the original features into a new set of features called principal components. These components are orthogonal (uncorrelated) and are ordered in such a way that the first few retain most of the variation present in the original dataset.\n",
    "\n",
    "\t- Advantages of PCA:\n",
    "\t- Reduces the dimensionality of the data while retaining most of the variance.\n",
    "\t- Helps in visualizing high-dimensional data in 2D or 3D.\n",
    "\t- Removes multicollinearity by transforming correlated variables into uncorrelated principal components.\n",
    "\t- Improves computational efficiency and reduces noise in the data.\n",
    "\t- Disadvantages of PCA:\n",
    "\t- PCA is a linear method and might not capture complex, non-linear relationships.\n",
    "\t- The principal components are not easily interpretable as they are linear combinations of the original features.\n",
    "\n",
    "**Conclusions**\n",
    "\n",
    "The EDA and feature engineering provide valuable insights into the characteristics and popularity of songs:\n",
    "\n",
    "- Certain albums are more popular due to consistent quality or style.\n",
    "- Popularity does not solely depend on a single feature but rather a combination of features.\n",
    "- Vocal and energetic songs tend to be more popular.\n",
    "- The popularity of songs changes over time, reflecting evolving trends and external influences.\n",
    "- Dimensionality reduction using PCA helps in visualizing and identifying patterns in the data.\n",
    "\n",
    "\n"
   ]
  },
  {
   "cell_type": "markdown",
   "metadata": {},
   "source": [
    "## **Cluster Analysis**"
   ]
  },
  {
   "cell_type": "markdown",
   "metadata": {},
   "source": [
    "### **1. Identify the Appropriate Number of Clusters**"
   ]
  },
  {
   "cell_type": "code",
   "execution_count": null,
   "metadata": {},
   "outputs": [],
   "source": [
    "from sklearn.cluster import KMeans\n",
    "import matplotlib.pyplot as plt\n",
    "import seaborn as sns\n",
    "from sklearn.preprocessing import StandardScaler\n",
    "\n",
    "# Features to be used for clustering\n",
    "features = ['acousticness', 'danceability', 'energy', 'instrumentalness', 'liveness', 'loudness', \n",
    "            'speechiness', 'tempo', 'valence', 'duration_ms']\n",
    "\n",
    "# Prepare the data\n",
    "x = data[features].fillna(0)  # Fill missing values with 0\n",
    "scaler = StandardScaler()\n",
    "x_scaled = scaler.fit_transform(x)\n",
    "\n",
    "# Determine the optimal number of clusters using the Elbow Method\n",
    "sse = []\n",
    "for k in range(1, 11):\n",
    "    kmeans = KMeans(n_clusters=k, random_state=42)\n",
    "    kmeans.fit(x_scaled)\n",
    "    sse.append(kmeans.inertia_)\n",
    "\n",
    "# Plot the SSE for each k\n",
    "plt.figure(figsize=(10, 6))\n",
    "plt.plot(range(1, 11), sse, marker='o')\n",
    "plt.title('Elbow Method for Optimal Number of Clusters')\n",
    "plt.xlabel('Number of Clusters')\n",
    "plt.ylabel('SSE')\n",
    "plt.show()"
   ]
  },
  {
   "cell_type": "markdown",
   "metadata": {},
   "source": [
    "**Elbow Method:** Plots the SSE for different values of k (number of clusters). The point where the SSE starts to decrease more slowly (forming an “elbow”) indicates the optimal number of clusters. In this example, we assume 4 clusters based on the Elbow Method plot.\n"
   ]
  },
  {
   "cell_type": "markdown",
   "metadata": {},
   "source": [
    "### **2. Use a Suitable Clustering Algorithm**"
   ]
  },
  {
   "cell_type": "code",
   "execution_count": null,
   "metadata": {},
   "outputs": [],
   "source": [
    "# Applying K-Means with the optimal number of clusters (let's assume 4 from the Elbow Method)\n",
    "optimal_clusters = 4\n",
    "kmeans = KMeans(n_clusters=optimal_clusters, random_state=42)\n",
    "clusters = kmeans.fit_predict(x_scaled)\n",
    "data['cluster'] = clusters"
   ]
  },
  {
   "cell_type": "markdown",
   "metadata": {},
   "source": [
    "**K-Means Algorithm:** K-Means is used to cluster the songs based on their features. The optimal number of clusters identified is used to fit the K-Means model, and each song is assigned to a cluster."
   ]
  },
  {
   "cell_type": "markdown",
   "metadata": {},
   "source": [
    "### **3. Define Each Cluster Based on the Features**"
   ]
  },
  {
   "cell_type": "code",
   "execution_count": null,
   "metadata": {},
   "outputs": [],
   "source": [
    "# Import additional necessary libraries\n",
    "from sklearn.decomposition import PCA\n",
    "from sklearn.metrics import silhouette_score\n",
    "\n",
    "# PCA for visualization\n",
    "pca = PCA(n_components=2)\n",
    "principal_components = pca.fit_transform(x_scaled)\n",
    "data['pca_one'] = principal_components[:, 0]\n",
    "data['pca_two'] = principal_components[:, 1]\n",
    "\n",
    "plt.figure(figsize=(12, 6))\n",
    "sns.scatterplot(x='pca_one', y='pca_two', hue='cluster', palette='viridis', data=data, legend='full')\n",
    "plt.title('Clusters of Songs based on PCA')\n",
    "plt.xlabel('Principal Component 1')\n",
    "plt.ylabel('Principal Component 2')\n",
    "plt.show()\n",
    "\n",
    "# Calculate silhouette score for the clustering\n",
    "silhouette_avg = silhouette_score(x_scaled, clusters)\n",
    "print(f'Silhouette Score for {optimal_clusters} clusters: {silhouette_avg}')\n",
    "\n",
    "# Analyze cluster centers\n",
    "cluster_centers = scaler.inverse_transform(kmeans.cluster_centers_)\n",
    "cluster_centers_df = pd.DataFrame(cluster_centers, columns=features)\n",
    "cluster_centers_df['cluster'] = range(optimal_clusters)\n",
    "\n",
    "# Separate plots for each feature's cluster center\n",
    "for feature in features:\n",
    "    plt.figure(figsize=(10, 6))\n",
    "    sns.barplot(x='cluster', y=feature, data=cluster_centers_df,hue='cluster', palette='viridis', legend=False)\n",
    "    plt.title(f'Cluster Centers for {feature}')\n",
    "    plt.xlabel('Cluster')\n",
    "    plt.ylabel(f'{feature}')\n",
    "    plt.show()"
   ]
  },
  {
   "cell_type": "markdown",
   "metadata": {},
   "source": [
    "**PCA Visualization:** The clusters are visualized in a 2D space using the first two principal components from PCA. This helps in understanding the distribution of clusters.\n",
    "**Silhouette Score:** This score evaluates the quality of clustering. A higher silhouette score indicates better-defined clusters. The score is calculated and printed for reference.\n",
    "**Cluster Centers:** The cluster centers are analyzed to understand the characteristics of each cluster. The bar plot shows the mean value of each feature for each cluster, helping to define and interpret the clusters."
   ]
  },
  {
   "cell_type": "markdown",
   "metadata": {},
   "source": [
    "### **Observations, Inferences and Conclusions**"
   ]
  },
  {
   "cell_type": "markdown",
   "metadata": {},
   "source": [
    "Based on the cluster analysis performed using the K-Means algorithm, we can make several observations and inferences about the clusters formed and the characteristics of the songs in each cluster.\n",
    "\n",
    "**1. Optimal Number of Clusters**\n",
    "\n",
    "- Observation: The Elbow Method suggested that the optimal number of clusters for this dataset is 4. This was determined by identifying the “elbow point” in the plot of SSE versus the number of clusters.\n",
    "\n",
    "**2. Quality of Clustering**\n",
    "\n",
    "- Observation: The silhouette score for the clustering with 4 clusters was calculated to evaluate the quality of the clustering. A silhouette score close to 1 indicates well-defined clusters, while a score close to -1 indicates overlapping clusters. The actual score provides insight into the clarity of the clusters formed.\n",
    "\n",
    "**3. Visualization of Clusters**\n",
    "\n",
    "- Observation: The PCA scatter plot visualizing the clusters shows the distribution of songs in a 2D space based on the first two principal components. Each cluster is represented by a different color, helping to visually assess the separation and cohesion of clusters.\n",
    "\n",
    "**4. Analysis of Cluster Centers**\n",
    "\n",
    "- Observation: The bar plot of cluster centers shows the mean values of each feature for the clusters. This helps to understand the characteristics of each cluster. The features considered include acousticness, danceability, energy, instrumentalness, liveness, loudness, speechiness, tempo, valence, and duration.\n",
    "\n",
    "**Detailed Observations for Each Cluster:**\n",
    "\n",
    "Based on the cluster center plots, we can observe and infer the characteristics of each cluster by examining the average values of different features within each cluster. Here are detailed observations for each cluster:\n",
    "\n",
    "- **Cluster 0:** Contains high-energy songs with a good balance of acoustic and instrumental elements. These songs are generally loud and have a higher tempo, making them suitable for energetic and lively playlists.\n",
    "\n",
    "- **Cluster 1:** consists of highly danceable and positive songs with a significant amount of instrumental content. These songs are moderately energetic and have a balanced loudness and tempo, making them ideal for upbeat and instrumental-focused playlists.\n",
    "\n",
    "- **Cluster 2:** includes songs that are energetic with high liveness and tempo. These songs also have higher speechiness and instrumental content, but lower valence. This cluster may include live performances or songs with spoken word content, suitable for more eclectic and dynamic playlists.\n",
    "\n",
    "- **Cluster 3:** is characterized by highly acoustic songs with moderate danceability and low energy. These songs have a balanced loudness and tempo with low instrumental content. This cluster is suitable for acoustic and mellow playlists.\n",
    "\n",
    "**Conclusion**\n",
    "\n",
    "The cluster analysis provides valuable insights into the characteristics of songs and helps in grouping them based on similar features. This can enhance Spotify’s ability to recommend songs and create playlists that match users’ preferences, ultimately improving user engagement and satisfaction."
   ]
  },
  {
   "cell_type": "code",
   "execution_count": null,
   "metadata": {},
   "outputs": [],
   "source": [
    "# Print the first 10 song titles and albums for each cluster\n",
    "for cluster_num in range(optimal_clusters):\n",
    "    cluster_data = data[data['cluster'] == cluster_num]\n",
    "    print(f\"Cluster {cluster_num} (First 10 Entries):\\n\")\n",
    "    print(cluster_data[['name', 'album']].head(10))\n",
    "    print(\"\\n\")"
   ]
  }
 ],
 "metadata": {
  "kernelspec": {
   "display_name": ".conda",
   "language": "python",
   "name": "python3"
  },
  "language_info": {
   "codemirror_mode": {
    "name": "ipython",
    "version": 3
   },
   "file_extension": ".py",
   "mimetype": "text/x-python",
   "name": "python",
   "nbconvert_exporter": "python",
   "pygments_lexer": "ipython3",
   "version": "3.11.8"
  }
 },
 "nbformat": 4,
 "nbformat_minor": 2
}
