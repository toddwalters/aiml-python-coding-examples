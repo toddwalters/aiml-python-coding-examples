{
 "cells": [
  {
   "cell_type": "markdown",
   "metadata": {
    "id": "EvifF1nipk6i"
   },
   "source": [
    "#__Applying Random Forest__\n",
    "\n",
    "Let's examine how to construct a random forest regression. "
   ]
  },
  {
   "cell_type": "markdown",
   "metadata": {
    "id": "Y2aGelTNkI95"
   },
   "source": [
    "## Step 1: Import Required Libraries and Read the Dataset\n",
    "\n",
    "- Import pandas and NumPy libraries\n",
    "- Read the dataset and display the head\n",
    "- Check the dataset information\n"
   ]
  },
  {
   "cell_type": "code",
   "execution_count": null,
   "metadata": {
    "id": "8amcdf-sjlSX"
   },
   "outputs": [],
   "source": [
    "import pandas as pd\n",
    "import numpy as np"
   ]
  },
  {
   "cell_type": "code",
   "execution_count": null,
   "metadata": {
    "id": "qRObLCpPjlSZ"
   },
   "outputs": [],
   "source": [
    "dataset = pd.read_csv('petrol_consumption.csv')"
   ]
  },
  {
   "cell_type": "code",
   "execution_count": null,
   "metadata": {
    "colab": {
     "base_uri": "https://localhost:8080/",
     "height": 206
    },
    "executionInfo": {
     "elapsed": 9,
     "status": "ok",
     "timestamp": 1683257229413,
     "user": {
      "displayName": "Sreelakshmi C V",
      "userId": "04477517605899898333"
     },
     "user_tz": -330
    },
    "id": "xss9q-HyjlSa",
    "outputId": "c393d37a-5650-48bf-cc09-a76a449d85a9"
   },
   "outputs": [],
   "source": [
    "dataset.head()"
   ]
  },
  {
   "cell_type": "markdown",
   "metadata": {
    "id": "HB_iN8vw9CDx"
   },
   "source": [
    "__Observation__\n",
    "- Here, you can see the first few rows of the dataset."
   ]
  },
  {
   "cell_type": "markdown",
   "metadata": {
    "id": "PD7uyTcMqNsW"
   },
   "source": [
    "We will predict petrol consumption based on the above attribute.  "
   ]
  },
  {
   "cell_type": "code",
   "execution_count": null,
   "metadata": {
    "colab": {
     "base_uri": "https://localhost:8080/"
    },
    "executionInfo": {
     "elapsed": 466,
     "status": "ok",
     "timestamp": 1683258213773,
     "user": {
      "displayName": "Sreelakshmi C V",
      "userId": "04477517605899898333"
     },
     "user_tz": -330
    },
    "id": "quNVj_bMjlSb",
    "outputId": "60b49bba-9797-4dd8-fbdc-77044e5ebad1"
   },
   "outputs": [],
   "source": [
    "dataset.info()"
   ]
  },
  {
   "cell_type": "markdown",
   "metadata": {
    "id": "lRehsIsNAIf2"
   },
   "source": [
    "__Observation__\n",
    "- All data types are in numeric and there are no missing values."
   ]
  },
  {
   "cell_type": "markdown",
   "metadata": {
    "id": "9KPFqbQMkMzW"
   },
   "source": [
    "## Step 2: Prepare the data\n",
    "\n",
    "- Let's create X and y.\n"
   ]
  },
  {
   "cell_type": "code",
   "execution_count": null,
   "metadata": {
    "id": "3CWaxBjQjlSb"
   },
   "outputs": [],
   "source": [
    "X = dataset.iloc[:, 0:4].values\n",
    "y = dataset.iloc[:, 4].values"
   ]
  },
  {
   "cell_type": "markdown",
   "metadata": {
    "id": "gtQwE9_8kO_X"
   },
   "source": [
    "## Step 3: Split the Data into Training and Testing Sets\n",
    "\n",
    "- Use train_test_split from sklearn.model_selection to split the data\n"
   ]
  },
  {
   "cell_type": "code",
   "execution_count": null,
   "metadata": {
    "id": "K1qNFfkxjlSb"
   },
   "outputs": [],
   "source": [
    "from sklearn.model_selection import train_test_split\n",
    "\n",
    "X_train, X_test, y_train, y_test = train_test_split(X, y, test_size=0.2, random_state=0)"
   ]
  },
  {
   "cell_type": "markdown",
   "metadata": {
    "id": "JC77OXyLkiGw"
   },
   "source": [
    "## Step 4: Standardize the Data\n",
    "\n",
    "- Standardize the data using StandardScaler from sklearn.preprocessing\n"
   ]
  },
  {
   "cell_type": "code",
   "execution_count": null,
   "metadata": {
    "id": "zL_lmlkxjlSc"
   },
   "outputs": [],
   "source": [
    "from sklearn.preprocessing import StandardScaler\n",
    "\n",
    "sc = StandardScaler()\n",
    "X_train = sc.fit_transform(X_train)\n",
    "X_test = sc.transform(X_test)"
   ]
  },
  {
   "cell_type": "markdown",
   "metadata": {
    "id": "235UlWLZklQP"
   },
   "source": [
    "## Step 5: Train the RandomForestRegressor\n",
    "\n",
    "- Import RandomForestRegressor from sklearn.ensemble\n",
    "- Create a regressor object, fit it with the training data, and make predictions on the test data\n"
   ]
  },
  {
   "cell_type": "code",
   "execution_count": null,
   "metadata": {
    "id": "e3LWeaRQjlSc"
   },
   "outputs": [],
   "source": [
    "from sklearn.ensemble import RandomForestRegressor\n",
    "\n",
    "regressor = RandomForestRegressor(n_estimators=20, random_state=0)\n",
    "regressor.fit(X_train, y_train)\n",
    "y_pred = regressor.predict(X_test)"
   ]
  },
  {
   "cell_type": "markdown",
   "metadata": {
    "id": "FZXkJXn6knrJ"
   },
   "source": [
    "## Step 6: Evaluate the Performance of the RandomForestRegressor\n",
    "\n",
    "- Calculate the Mean Absolute Error, Mean Squared Error, and Root Mean Squared Error using metrics from sklearn\n"
   ]
  },
  {
   "cell_type": "code",
   "execution_count": null,
   "metadata": {
    "colab": {
     "base_uri": "https://localhost:8080/"
    },
    "executionInfo": {
     "elapsed": 506,
     "status": "ok",
     "timestamp": 1683258867114,
     "user": {
      "displayName": "Sreelakshmi C V",
      "userId": "04477517605899898333"
     },
     "user_tz": -330
    },
    "id": "uz6VegpiBpJL",
    "outputId": "1780ebb9-5027-4210-c930-872797c7f5fa"
   },
   "outputs": [],
   "source": [
    "from sklearn import metrics\n",
    "\n",
    "print('Train MAE:', metrics.mean_absolute_error(y_train, regressor.predict(X_train)))\n",
    "print('Mean Square:', metrics.mean_squared_error(y_train, regressor.predict(X_train)))\n",
    "print('Train RMSE:', np.sqrt(metrics.mean_squared_error(y_train, regressor.predict(X_train))))"
   ]
  },
  {
   "cell_type": "code",
   "execution_count": null,
   "metadata": {
    "colab": {
     "base_uri": "https://localhost:8080/"
    },
    "executionInfo": {
     "elapsed": 350,
     "status": "ok",
     "timestamp": 1683258925764,
     "user": {
      "displayName": "Sreelakshmi C V",
      "userId": "04477517605899898333"
     },
     "user_tz": -330
    },
    "id": "iDi6pnIOjlSc",
    "outputId": "dc77b629-2e7a-4dbf-cfb8-9de166b051fe"
   },
   "outputs": [],
   "source": [
    "print('Train MAE:', metrics.mean_absolute_error(y_test, regressor.predict(X_test)))\n",
    "print('Mean Square:', metrics.mean_squared_error(y_test, regressor.predict(X_test)))\n",
    "print('Train RMSE:', np.sqrt(metrics.mean_squared_error(y_test, regressor.predict(X_test))))"
   ]
  },
  {
   "cell_type": "markdown",
   "metadata": {
    "id": "JmgtxaJVuX68"
   },
   "source": [
    "__Observation__\n",
    "\n",
    "- Notice that there is a huge difference in metric value in terms of test and train using cross validation."
   ]
  },
  {
   "cell_type": "markdown",
   "metadata": {
    "id": "I_t6BwK_Dr6M"
   },
   "source": [
    "In the case of a classification problem, we will need to change the random forest regressor to a random forest classifier, and we will be able to get the classifier model."
   ]
  }
 ],
 "metadata": {
  "colab": {
   "provenance": []
  },
  "kernelspec": {
   "display_name": "Python 3 (ipykernel)",
   "language": "python",
   "name": "python3"
  },
  "language_info": {
   "codemirror_mode": {
    "name": "ipython",
    "version": 3
   },
   "file_extension": ".py",
   "mimetype": "text/x-python",
   "name": "python",
   "nbconvert_exporter": "python",
   "pygments_lexer": "ipython3",
   "version": "3.11.7"
  }
 },
 "nbformat": 4,
 "nbformat_minor": 4
}
