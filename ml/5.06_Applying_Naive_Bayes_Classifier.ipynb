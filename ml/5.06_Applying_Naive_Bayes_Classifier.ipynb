{
 "cells": [
  {
   "cell_type": "markdown",
   "metadata": {
    "id": "nhoYGkdHeEcV"
   },
   "source": [
    "## __Applying Naive Bayes Algorithm__\n",
    "Let's look at how to create the Naive Bayes classifier. "
   ]
  },
  {
   "cell_type": "markdown",
   "metadata": {
    "id": "zeDt3VWQpoHY"
   },
   "source": [
    "## Step 1: Import Required Libraries and Configure Settings\n",
    "\n",
    "- Import NumPy, matplotlib.pyplot, and Seaborn libraries\n",
    "- Import make_blobs from sklearn.datasets\n",
    "- Import GaussianNB from sklearn.naive_bayes\n",
    "- Set the seaborn style\n"
   ]
  },
  {
   "cell_type": "code",
   "execution_count": null,
   "metadata": {
    "id": "QbAigXCunVJJ"
   },
   "outputs": [],
   "source": [
    "%matplotlib inline\n",
    "import numpy as np\n",
    "import matplotlib.pyplot as plt\n",
    "import seaborn as sns; sns.set()"
   ]
  },
  {
   "cell_type": "markdown",
   "metadata": {
    "id": "fU0LrzpXp74K"
   },
   "source": [
    "## Step 2: Generate the Data\n",
    "\n",
    "- Generate the data using make_blobs\n",
    "- Plot a scatter plot of the data\n"
   ]
  },
  {
   "cell_type": "code",
   "execution_count": null,
   "metadata": {
    "colab": {
     "base_uri": "https://localhost:8080/",
     "height": 434
    },
    "executionInfo": {
     "elapsed": 7,
     "status": "ok",
     "timestamp": 1683107768923,
     "user": {
      "displayName": "Sreelakshmi C V",
      "userId": "04477517605899898333"
     },
     "user_tz": -330
    },
    "id": "YHCB1Iw-nVJL",
    "outputId": "be8717a0-ce76-4a06-ab18-6d6f891960c0"
   },
   "outputs": [],
   "source": [
    "from sklearn.datasets import make_blobs\n",
    "X, y = make_blobs(100, 2, centers=2, random_state=2, cluster_std=1.5)\n",
    "plt.scatter(X[:, 0], X[:, 1], c=y, s=50, cmap='RdBu');"
   ]
  },
  {
   "cell_type": "markdown",
   "metadata": {
    "id": "nYTOx5f4gRXA"
   },
   "source": [
    "__Observations__\n",
    " - Scatter plot of X and y\n",
    " - You can see above that there are two clusters in the dataset."
   ]
  },
  {
   "cell_type": "markdown",
   "metadata": {
    "id": "kvf5nZksqBAN"
   },
   "source": [
    "## Step 3: Train the Gaussian Naive Bayes Model\n",
    "\n",
    "- Import the library\n",
    "- Instantiate the Gaussian NB model\n",
    "- Fit the model with the generated data\n"
   ]
  },
  {
   "cell_type": "code",
   "execution_count": null,
   "metadata": {
    "id": "L0um10CrnVJM"
   },
   "outputs": [],
   "source": [
    "from sklearn.naive_bayes import GaussianNB\n",
    "model = GaussianNB()\n",
    "model.fit(X, y);"
   ]
  },
  {
   "cell_type": "markdown",
   "metadata": {
    "id": "56rOlSRaqE9v"
   },
   "source": [
    "## Step 4: Generate New Data and Predict the Labels\n",
    "\n",
    "- Generate new data using NumPy.random\n",
    "- Predict the labels of the new data using the trained model\n"
   ]
  },
  {
   "cell_type": "code",
   "execution_count": null,
   "metadata": {
    "id": "JDZ1wIFZnVJM"
   },
   "outputs": [],
   "source": [
    "rng = np.random.RandomState(0)\n",
    "Xnew = [-6, -14] + [14, 18] * rng.rand(2000, 2)\n",
    "ynew = model.predict(Xnew)"
   ]
  },
  {
   "cell_type": "markdown",
   "metadata": {
    "id": "h8uUZEwPqI3U"
   },
   "source": [
    "## Step 5: Plot the Predictions on the Scatter Plot\n",
    "\n",
    "- Plot the original data and the new data with the predicted labels"
   ]
  },
  {
   "cell_type": "code",
   "execution_count": null,
   "metadata": {
    "colab": {
     "base_uri": "https://localhost:8080/",
     "height": 434
    },
    "executionInfo": {
     "elapsed": 2189,
     "status": "ok",
     "timestamp": 1683107895786,
     "user": {
      "displayName": "Sreelakshmi C V",
      "userId": "04477517605899898333"
     },
     "user_tz": -330
    },
    "id": "irP1GfeSnVJN",
    "outputId": "135ccb93-5df0-4137-c73c-19aa005881cf"
   },
   "outputs": [],
   "source": [
    "plt.scatter(X[:, 0], X[:, 1], c=y, s=50, cmap='RdBu')\n",
    "lim = plt.axis()\n",
    "plt.scatter(Xnew[:, 0], Xnew[:, 1], c=ynew, s=20, cmap='RdBu', alpha=0.1)\n",
    "plt.axis(lim);"
   ]
  },
  {
   "cell_type": "markdown",
   "metadata": {
    "id": "CHNSZh92iU87"
   },
   "source": [
    "__Observations__\n",
    "- Scatter plot of X and Y with a new prediction\n",
    "- As you can see in the plot above, 2000 new predictions have been made.\n",
    "- Predictions are in a light color, and the actuals are in a dark color."
   ]
  },
  {
   "cell_type": "markdown",
   "metadata": {
    "id": "kijOJnf2qLBs"
   },
   "source": [
    "## Step 6: Calculate the Class Probabilities\n",
    "\n",
    "- Predict the probability of Xnew, and let's check the data for the first state.\n"
   ]
  },
  {
   "cell_type": "code",
   "execution_count": null,
   "metadata": {
    "colab": {
     "base_uri": "https://localhost:8080/"
    },
    "executionInfo": {
     "elapsed": 490,
     "status": "ok",
     "timestamp": 1683107961730,
     "user": {
      "displayName": "Sreelakshmi C V",
      "userId": "04477517605899898333"
     },
     "user_tz": -330
    },
    "id": "I0P9hGV_nVJN",
    "outputId": "da351c7a-94c5-4044-8f5d-afc5d5036c41"
   },
   "outputs": [],
   "source": [
    "yprob = model.predict_proba(Xnew)\n",
    "yprob[-8:].round(2)"
   ]
  },
  {
   "cell_type": "markdown",
   "metadata": {
    "id": "ZS7-1Y8WjxjW"
   },
   "source": [
    "__Obeservations__\n",
    "- For the first one, there is a probability of 0.89.\n",
    "- The probabilities for the remaining 7 are 1 and 0."
   ]
  }
 ],
 "metadata": {
  "colab": {
   "provenance": []
  },
  "kernelspec": {
   "display_name": "Python 3 (ipykernel)",
   "language": "python",
   "name": "python3"
  },
  "language_info": {
   "codemirror_mode": {
    "name": "ipython",
    "version": 3
   },
   "file_extension": ".py",
   "mimetype": "text/x-python",
   "name": "python",
   "nbconvert_exporter": "python",
   "pygments_lexer": "ipython3",
   "version": "3.11.7"
  }
 },
 "nbformat": 4,
 "nbformat_minor": 4
}
