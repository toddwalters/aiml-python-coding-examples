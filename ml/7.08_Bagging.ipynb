{
 "cells": [
  {
   "cell_type": "markdown",
   "metadata": {
    "id": "QBsCy6ylfOBj"
   },
   "source": [
    "#__Bagging__\n",
    "Now, let us see how bagging works."
   ]
  },
  {
   "cell_type": "markdown",
   "metadata": {
    "id": "Ls2vQrf75pgW"
   },
   "source": [
    "## Step 1: Import Required Libraries\n",
    "\n",
    "- Import pandas, sklearn.model_selection, sklearn.ensemble, and sklearn.tree libraries\n"
   ]
  },
  {
   "cell_type": "code",
   "execution_count": null,
   "metadata": {
    "id": "j7b-6uhX5Dfy"
   },
   "outputs": [],
   "source": [
    "import pandas\n",
    "from sklearn import model_selection\n",
    "from sklearn.ensemble import BaggingClassifier\n",
    "from sklearn.linear_model import LogisticRegression\n",
    "from sklearn.tree import DecisionTreeClassifier\n",
    "from sklearn.model_selection import train_test_split\n",
    "from sklearn.metrics import classification_report"
   ]
  },
  {
   "cell_type": "markdown",
   "metadata": {
    "id": "eAUPSBSy5sI5"
   },
   "source": [
    "## Step 2: Load the Dataset\n",
    "\n",
    "- Load the Pima Indians Diabetes dataset using the given URL and assign the names\n",
    "- Check the head of the data using the head() method\n"
   ]
  },
  {
   "cell_type": "code",
   "execution_count": null,
   "metadata": {
    "colab": {
     "base_uri": "https://localhost:8080/",
     "height": 206
    },
    "executionInfo": {
     "elapsed": 1137,
     "status": "ok",
     "timestamp": 1683223110434,
     "user": {
      "displayName": "Sreelakshmi C V",
      "userId": "04477517605899898333"
     },
     "user_tz": -330
    },
    "id": "KJZNHKUJ5Dfz",
    "outputId": "379de780-90c6-45e6-bab3-1e26b5a84c05"
   },
   "outputs": [],
   "source": [
    "url=\"https://raw.githubusercontent.com/jbrownlee/Datasets/master/pima-indians-diabetes.data.csv\"\n",
    "\n",
    "names = ['preg', 'plas', 'pres', 'skin', 'test', 'mass', 'pedi', 'age', 'class']\n",
    "data = pandas.read_csv(url, names=names)\n",
    "data.head()"
   ]
  },
  {
   "cell_type": "markdown",
   "metadata": {
    "id": "Obwd4hL4k4b3"
   },
   "source": [
    "__Observations:__\n",
    "- This is the head of the dataset.\n",
    "- Create a DataFrame called data, which takes the data from the URL mentioned along with the names\n",
    "- Create a feature matrix X and a target vector Y\n",
    "- Assign all the rows up to the 8th column of the data to X\n",
    "- Assign the 9th column of the same data to Y"
   ]
  },
  {
   "cell_type": "code",
   "execution_count": null,
   "metadata": {
    "id": "CRSA67UoknYF"
   },
   "outputs": [],
   "source": [
    "array = data.values\n",
    "X = array[:,0:8]\n",
    "Y = array[:,8]"
   ]
  },
  {
   "cell_type": "markdown",
   "metadata": {
    "id": "kjjS_5Gr5z_v"
   },
   "source": [
    "## Step 3: Create a Decision Tree Classifier and a Bagging Classifier\n",
    "\n",
    "- Set up the k-fold cross-validation with n_splits to 10\n",
    "- Create a decision tree classifier named cart\n",
    "- The estimator will be set to 100, which is equal to the number of trees.\n"
   ]
  },
  {
   "cell_type": "code",
   "execution_count": null,
   "metadata": {
    "id": "5uEtSPGI5Dfz"
   },
   "outputs": [],
   "source": [
    "kfold = model_selection.KFold(n_splits=10) # implemt cv=10\n",
    "cart = DecisionTreeClassifier()\n",
    "num_trees = 100"
   ]
  },
  {
   "cell_type": "markdown",
   "metadata": {
    "id": "I6J5QOgfmpwD"
   },
   "source": [
    "Now, let's apply the bagging technique.\n",
    "- Create a bagging classifier with the decision tree classifier (cart) as the base estimator\n",
    "- The estimator will be set to 100, the number of trees."
   ]
  },
  {
   "cell_type": "code",
   "execution_count": null,
   "metadata": {
    "colab": {
     "base_uri": "https://localhost:8080/"
    },
    "executionInfo": {
     "elapsed": 6288,
     "status": "ok",
     "timestamp": 1683197685458,
     "user": {
      "displayName": "Akshay Kukkaje",
      "userId": "07529526247935866270"
     },
     "user_tz": -330
    },
    "id": "xY9AXU9k5Df0",
    "outputId": "e3360a36-ed39-4ad1-a392-f0e3327a8ad9"
   },
   "outputs": [],
   "source": [
    "model = BaggingClassifier(estimator=cart,n_estimators=num_trees, random_state=12)\n",
    "\n",
    "results = model_selection.cross_val_score(model, X, Y, cv=kfold)\n",
    "\n",
    "print(results.mean())"
   ]
  },
  {
   "cell_type": "code",
   "execution_count": null,
   "metadata": {},
   "outputs": [],
   "source": [
    "log = LogisticRegression()\n",
    "model = BaggingClassifier(estimator=log, a, random_state=2, max_samples=0.8,max_features=0.8, verbose=2 )\n",
    "model.fit(X,Y)"
   ]
  },
  {
   "cell_type": "code",
   "execution_count": null,
   "metadata": {},
   "outputs": [],
   "source": [
    "model.max_features"
   ]
  },
  {
   "cell_type": "code",
   "execution_count": null,
   "metadata": {},
   "outputs": [],
   "source": [
    "model.estimator_"
   ]
  },
  {
   "cell_type": "code",
   "execution_count": null,
   "metadata": {},
   "outputs": [],
   "source": [
    "model.predict(X)"
   ]
  },
  {
   "cell_type": "code",
   "execution_count": null,
   "metadata": {},
   "outputs": [],
   "source": [
    "model.predict_proba(X[:5])"
   ]
  },
  {
   "cell_type": "code",
   "execution_count": null,
   "metadata": {},
   "outputs": [],
   "source": [
    "from sklearn.ensemble import RandomForestClassifier\n",
    "rf = RandomForestClassifier(n_estimators=100, criterion='gini', max_depth=10, max_features='sqrt')"
   ]
  },
  {
   "cell_type": "code",
   "execution_count": null,
   "metadata": {},
   "outputs": [],
   "source": [
    "rf.fit(X,Y)"
   ]
  },
  {
   "cell_type": "code",
   "execution_count": null,
   "metadata": {},
   "outputs": [],
   "source": [
    "from sklearn.neighbors import KNeighborsClassifier\n",
    "from sklearn.ensemble import VotingClassifier\n",
    "\n",
    "log = LogisticRegression()\n",
    "dt = DecisionTreeClassifier()\n",
    "knn = KNeighborsClassifier()\n",
    "\n",
    "estimators = [(\"logistic\",log) , ('decisiontree',dt),('knn',knn)]\n",
    "\n",
    "voting = VotingClassifier(estimators = estimators)\n",
    "voting.fit(X,Y)"
   ]
  },
  {
   "cell_type": "code",
   "execution_count": null,
   "metadata": {},
   "outputs": [],
   "source": [
    "voting.predict(X)"
   ]
  },
  {
   "cell_type": "code",
   "execution_count": null,
   "metadata": {},
   "outputs": [],
   "source": []
  },
  {
   "cell_type": "code",
   "execution_count": null,
   "metadata": {},
   "outputs": [],
   "source": []
  },
  {
   "cell_type": "code",
   "execution_count": null,
   "metadata": {},
   "outputs": [],
   "source": []
  },
  {
   "cell_type": "markdown",
   "metadata": {
    "id": "dq8BCxsyZpj3"
   },
   "source": [
    "__Observations:__\n",
    "- The mean cross-validation score is 0.76688.\n",
    "- We have an accuracy of 76%."
   ]
  }
 ],
 "metadata": {
  "colab": {
   "provenance": []
  },
  "kernelspec": {
   "display_name": "Python 3 (ipykernel)",
   "language": "python",
   "name": "python3"
  },
  "language_info": {
   "codemirror_mode": {
    "name": "ipython",
    "version": 3
   },
   "file_extension": ".py",
   "mimetype": "text/x-python",
   "name": "python",
   "nbconvert_exporter": "python",
   "pygments_lexer": "ipython3",
   "version": "3.11.7"
  }
 },
 "nbformat": 4,
 "nbformat_minor": 4
}
