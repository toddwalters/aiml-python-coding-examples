{
 "cells": [
  {
   "cell_type": "code",
   "execution_count": null,
   "metadata": {
    "id": "tx8Wp9p_-Dng"
   },
   "outputs": [],
   "source": [
    "import numpy as np\n",
    "import pandas as pd\n",
    "import matplotlib.pyplot as plt\n",
    "import seaborn as sns\n",
    "from sklearn.tree import DecisionTreeRegressor"
   ]
  },
  {
   "cell_type": "code",
   "execution_count": null,
   "metadata": {
    "id": "qtBqp0en-iFg"
   },
   "outputs": [],
   "source": [
    "np.random.seed(42)\n",
    "X = np.random.rand(100,1) - 0.5\n",
    "y = 3*X[:,0]**2 + 0.05 *np.random.randn(100)"
   ]
  },
  {
   "cell_type": "code",
   "execution_count": null,
   "metadata": {
    "colab": {
     "base_uri": "https://localhost:8080/",
     "height": 435
    },
    "id": "OPy6y_N5-vE9",
    "outputId": "8abdc7e4-690b-4bea-f630-940fcc6890d9"
   },
   "outputs": [],
   "source": [
    "plt.plot(X,y,\"*\")\n",
    "plt.show()"
   ]
  },
  {
   "cell_type": "code",
   "execution_count": null,
   "metadata": {
    "colab": {
     "base_uri": "https://localhost:8080/",
     "height": 74
    },
    "id": "74E8yDDV-0QM",
    "outputId": "5884cbdd-8c42-41f5-e51a-57fad51bf757"
   },
   "outputs": [],
   "source": [
    "tree_reg1 = DecisionTreeRegressor(max_depth=2, random_state=42)\n",
    "tree_reg1.fit(X,y)"
   ]
  },
  {
   "cell_type": "code",
   "execution_count": null,
   "metadata": {
    "colab": {
     "base_uri": "https://localhost:8080/",
     "height": 422
    },
    "id": "0Y2r8d45_K0m",
    "outputId": "c238aa21-ee5d-464d-dfc3-b598c02ea1c8"
   },
   "outputs": [],
   "source": [
    "from sklearn.tree import plot_tree\n",
    "plt.figure(figsize=(10,5))\n",
    "plot_tree(tree_reg1)\n",
    "plt.show()"
   ]
  },
  {
   "cell_type": "code",
   "execution_count": null,
   "metadata": {
    "colab": {
     "base_uri": "https://localhost:8080/",
     "height": 435
    },
    "id": "67JFk2cs_OzJ",
    "outputId": "538e13b8-9898-4592-a72f-08cdb0989c2f"
   },
   "outputs": [],
   "source": [
    "x1 = np.linspace(-0.5,0.5,500).reshape(-1,1)\n",
    "y_pred = tree_reg1.predict(x1)\n",
    "plt.plot(X,y,\"*\")\n",
    "plt.plot(x1,y_pred,linewidth=2, label='Tree 1')\n",
    "plt.legend()\n",
    "plt.show()"
   ]
  },
  {
   "cell_type": "code",
   "execution_count": null,
   "metadata": {
    "colab": {
     "base_uri": "https://localhost:8080/",
     "height": 74
    },
    "id": "Q1G_3fWQ_nly",
    "outputId": "60f672be-3db0-430f-d3ea-39b740549b82"
   },
   "outputs": [],
   "source": [
    "y2 = (y - tree_reg1.predict(X))\n",
    "tree_reg2 = DecisionTreeRegressor(max_depth=2, random_state=42)\n",
    "tree_reg2.fit(X,y2)"
   ]
  },
  {
   "cell_type": "code",
   "execution_count": null,
   "metadata": {
    "colab": {
     "base_uri": "https://localhost:8080/",
     "height": 448
    },
    "id": "PUnj-vacAdbg",
    "outputId": "870cadf2-0da3-4463-fc7b-366ebfc55244"
   },
   "outputs": [],
   "source": [
    "plt.plot(X,y2,\"+k\")"
   ]
  },
  {
   "cell_type": "code",
   "execution_count": null,
   "metadata": {
    "colab": {
     "base_uri": "https://localhost:8080/",
     "height": 74
    },
    "id": "Z34JdwEvArpc",
    "outputId": "c8ef3816-6c75-4f77-de21-72c8daa0485b"
   },
   "outputs": [],
   "source": [
    "y3 =(y2 - tree_reg2.predict(X))\n",
    "tree_reg3 = DecisionTreeRegressor(max_depth=2, random_state=42)\n",
    "tree_reg3.fit(X,y3)"
   ]
  },
  {
   "cell_type": "code",
   "execution_count": null,
   "metadata": {
    "colab": {
     "base_uri": "https://localhost:8080/"
    },
    "id": "VFpJIdpZA5qo",
    "outputId": "41504d64-2b9b-47b4-d3fd-91f3a57c09be"
   },
   "outputs": [],
   "source": [
    "X_new = np.array([[0.5]])\n",
    "model_tree = [tree_reg1, tree_reg2, tree_reg3]\n",
    "lr = 1\n",
    "y_pred = np.sum([lr*tree.predict(X_new) for tree in model_tree])\n",
    "y_pred"
   ]
  },
  {
   "cell_type": "code",
   "execution_count": null,
   "metadata": {
    "id": "RRfNgM8MBZQZ"
   },
   "outputs": [],
   "source": [
    "[tree.predict(X_new) for tree in model_tree]"
   ]
  },
  {
   "cell_type": "code",
   "execution_count": null,
   "metadata": {
    "id": "bHKbPJICAV-b"
   },
   "outputs": [],
   "source": [
    "def plot_predictions(regressors, X,y,style=\"r-\", data_style='b.',data_label=None,label=None):\n",
    "  x1 = np.linspace(-0.5,0.5,500).reshape(-1,1)\n",
    "  y_pred = sum(regressor.predict(x1) for regressor in regressors)\n",
    "  plt.plot(X[:,0],y,data_style,label = data_label)\n",
    "  plt.plot(x1,y_pred,style,linewidth=2,label=label)\n"
   ]
  },
  {
   "cell_type": "code",
   "execution_count": null,
   "metadata": {
    "colab": {
     "base_uri": "https://localhost:8080/",
     "height": 930
    },
    "id": "0hrBCQnnBs2F",
    "outputId": "d1f569d9-bd3b-4662-a74f-260ed57190ae"
   },
   "outputs": [],
   "source": [
    "plt.figure(figsize=(11,11))\n",
    "\n",
    "plt.subplot(321)\n",
    "plot_predictions([tree_reg1], X,y,label='Model 1', style='g-', data_label='Training set')\n",
    "plt.ylabel(\"y\")\n",
    "plt.title(\"Residuals and Tree Preds\")\n",
    "plt.legend()\n",
    "\n",
    "plt.subplot(322)\n",
    "plot_predictions([tree_reg1], X,y,label='Model 1', data_label='Training set')\n",
    "plt.ylabel(\"y\")\n",
    "plt.title(\"Ensemble Predictions\")\n",
    "plt.legend()\n",
    "\n",
    "plt.subplot(323)\n",
    "plot_predictions([tree_reg2], X,y2,label='Model 2', style='g-', data_style='k+', data_label='Residuals')\n",
    "plt.ylabel(\"y- model1 pred\")\n",
    "plt.legend()\n",
    "\n",
    "plt.subplot(324)\n",
    "plot_predictions([tree_reg1,tree_reg2], X,y,label='Model 2 overall predictions', data_label='Training set')\n",
    "plt.ylabel(\"Model 2 overall preds\")\n",
    "plt.legend()\n",
    "\n",
    "plt.subplot(325)\n",
    "plot_predictions([tree_reg3], X,y3,label='Model 3', style='g-', data_style='k+', data_label='Residuals')\n",
    "plt.ylabel(\"model1 pred - model2 pred\")\n",
    "plt.legend()\n",
    "\n",
    "plt.subplot(326)\n",
    "plot_predictions([tree_reg1,tree_reg2,tree_reg3], X,y,label='Model 3 overall predictions',data_label='Training set')\n",
    "plt.ylabel(\"Model 3 overall preds\")\n",
    "plt.legend()\n",
    "plt.show()\n"
   ]
  },
  {
   "cell_type": "code",
   "execution_count": null,
   "metadata": {
    "id": "d7wV0UdABuAv"
   },
   "outputs": [],
   "source": [
    "# figure\n",
    "# axes\n"
   ]
  },
  {
   "cell_type": "code",
   "execution_count": null,
   "metadata": {
    "id": "Zbm6giX9kO_v"
   },
   "outputs": [],
   "source": [
    "# from sklearn.multiclass import OneVsOneClassifier\n",
    "# onevsone = OneVsOneClassifier(LogisticRegression())\n",
    "# onevsone.fit(X_train,y_train)"
   ]
  },
  {
   "cell_type": "code",
   "execution_count": null,
   "metadata": {},
   "outputs": [],
   "source": []
  },
  {
   "cell_type": "code",
   "execution_count": null,
   "metadata": {},
   "outputs": [],
   "source": []
  },
  {
   "cell_type": "code",
   "execution_count": null,
   "metadata": {},
   "outputs": [],
   "source": []
  }
 ],
 "metadata": {
  "colab": {
   "provenance": []
  },
  "kernelspec": {
   "display_name": "Python 3 (ipykernel)",
   "language": "python",
   "name": "python3"
  },
  "language_info": {
   "codemirror_mode": {
    "name": "ipython",
    "version": 3
   },
   "file_extension": ".py",
   "mimetype": "text/x-python",
   "name": "python",
   "nbconvert_exporter": "python",
   "pygments_lexer": "ipython3",
   "version": "3.11.7"
  }
 },
 "nbformat": 4,
 "nbformat_minor": 4
}
