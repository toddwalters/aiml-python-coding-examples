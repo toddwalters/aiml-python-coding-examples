{
 "cells": [
  {
   "cell_type": "markdown",
   "metadata": {
    "id": "rJZxEswEXAta"
   },
   "source": [
    "#__Applying Decision Tree__\n",
    "\n",
    "Let's look at how to construct a decision tree model."
   ]
  },
  {
   "cell_type": "markdown",
   "metadata": {
    "id": "MwMsrJX0i61G"
   },
   "source": [
    "## Step 1: Import Required Libraries and Read the Dataset\n",
    "\n",
    "- Import NumPy, pandas, Seaborn, and matplotlib.pyplot libraries\n",
    "- Configure matplotlib settings\n",
    "- Read the dataset and display the first few rows\n"
   ]
  },
  {
   "cell_type": "code",
   "execution_count": null,
   "metadata": {
    "id": "RmtbIB9ZiZwR"
   },
   "outputs": [],
   "source": [
    "import numpy as np\n",
    "import pandas as pd\n",
    "import seaborn as sns\n",
    "import matplotlib.pyplot as plt\n",
    "%matplotlib inline"
   ]
  },
  {
   "cell_type": "code",
   "execution_count": null,
   "metadata": {
    "colab": {
     "base_uri": "https://localhost:8080/",
     "height": 206
    },
    "executionInfo": {
     "elapsed": 400,
     "status": "ok",
     "timestamp": 1683256233350,
     "user": {
      "displayName": "Sreelakshmi C V",
      "userId": "04477517605899898333"
     },
     "user_tz": -330
    },
    "id": "xKQcpLSNiZwS",
    "outputId": "ed1d638c-d299-4f52-a88f-be3968f20877"
   },
   "outputs": [],
   "source": [
    "df = pd.read_csv('balance-scale.data',sep=',')\n",
    "df.head()"
   ]
  },
  {
   "cell_type": "markdown",
   "metadata": {
    "id": "9OJ7i_wP5AMm"
   },
   "source": [
    "__Observation__\n",
    "- In the above output, the first few rows of the dataset can be seen."
   ]
  },
  {
   "cell_type": "markdown",
   "metadata": {
    "id": "316A0AT0jA29"
   },
   "source": [
    "## Step 2: Analyze the Dataset\n",
    "\n",
    "- Display information about the dataset\n"
   ]
  },
  {
   "cell_type": "code",
   "execution_count": null,
   "metadata": {
    "colab": {
     "base_uri": "https://localhost:8080/"
    },
    "executionInfo": {
     "elapsed": 383,
     "status": "ok",
     "timestamp": 1683256324228,
     "user": {
      "displayName": "Sreelakshmi C V",
      "userId": "04477517605899898333"
     },
     "user_tz": -330
    },
    "id": "-xsxaKmLiZwT",
    "outputId": "26328a57-e691-4da1-f6cb-7be3d498b72f"
   },
   "outputs": [],
   "source": [
    "df.info()"
   ]
  },
  {
   "cell_type": "markdown",
   "metadata": {
    "id": "yxtX0JKA5Vsu"
   },
   "source": [
    "__Observations__\n",
    "- Class Name is the target variable that we are going to predict.\n",
    "- You can also see that these are non null values."
   ]
  },
  {
   "cell_type": "markdown",
   "metadata": {
    "id": "WZht4OcCjE61"
   },
   "source": [
    "## Step 3: Split the Dataset\n",
    "\n",
    "- Split the dataset into training and testing sets\n"
   ]
  },
  {
   "cell_type": "code",
   "execution_count": null,
   "metadata": {
    "id": "dK9XU_MXiZwT"
   },
   "outputs": [],
   "source": [
    "from sklearn.model_selection import train_test_split\n",
    "X = df.drop('Class Name',axis=1)\n",
    "y = df[['Class Name']]\n",
    "X_train, X_test, y_train, y_test = train_test_split(X, y, test_size = 0.3,random_state=42)"
   ]
  },
  {
   "cell_type": "markdown",
   "metadata": {
    "id": "ChtrPYGMjJGq"
   },
   "source": [
    "## Step 4: Train the Decision Tree Classifier\n",
    "\n",
    "- Import DecisionTreeClassifier from sklearn.tree\n",
    "- Train the model using the training dataset\n"
   ]
  },
  {
   "cell_type": "code",
   "execution_count": null,
   "metadata": {
    "colab": {
     "base_uri": "https://localhost:8080/",
     "height": 75
    },
    "executionInfo": {
     "elapsed": 416,
     "status": "ok",
     "timestamp": 1683256467643,
     "user": {
      "displayName": "Sreelakshmi C V",
      "userId": "04477517605899898333"
     },
     "user_tz": -330
    },
    "id": "2uFIp8FdiZwU",
    "outputId": "81e56a4e-759e-42e3-b39a-443b1d7be2a9"
   },
   "outputs": [],
   "source": [
    "from sklearn.tree import DecisionTreeClassifier\n",
    "clf_model = DecisionTreeClassifier(criterion=\"gini\", random_state=42, max_depth=3, min_samples_leaf=5)   \n",
    "clf_model.fit(X_train,y_train)"
   ]
  },
  {
   "cell_type": "markdown",
   "metadata": {
    "id": "A1217pbzjSpj"
   },
   "source": [
    "## Step 5: Make Predictions\n",
    "\n",
    "- Predict the outcomes using the testing dataset\n"
   ]
  },
  {
   "cell_type": "code",
   "execution_count": null,
   "metadata": {
    "id": "KY3fbKHBiZwU"
   },
   "outputs": [],
   "source": [
    "y_predict = clf_model.predict(X_test)"
   ]
  },
  {
   "cell_type": "markdown",
   "metadata": {
    "id": "pWeS9wxOjV_b"
   },
   "source": [
    "## Step 6: Evaluate the Model\n",
    "\n",
    "- Import accuracy_score, classification_report, and confusion_matrix from sklearn.metrics\n",
    "- Calculate the accuracy score\n"
   ]
  },
  {
   "cell_type": "code",
   "execution_count": null,
   "metadata": {
    "colab": {
     "base_uri": "https://localhost:8080/"
    },
    "executionInfo": {
     "elapsed": 7,
     "status": "ok",
     "timestamp": 1683256854283,
     "user": {
      "displayName": "Sreelakshmi C V",
      "userId": "04477517605899898333"
     },
     "user_tz": -330
    },
    "id": "-q_K3vJ3iZwU",
    "outputId": "2eed26e9-c47f-4d1d-99dd-0d3bd7a4e5b5"
   },
   "outputs": [],
   "source": [
    "from sklearn.metrics import accuracy_score, classification_report, confusion_matrix\n",
    "\n",
    "# Assuming y_test contains the true labels and y_predict contains the predicted labels\n",
    "accuracy = accuracy_score(y_test, y_predict)\n",
    "print(\"Accuracy:\", accuracy)\n",
    "\n",
    "cm = confusion_matrix(y_test, y_predict)\n",
    "print(\"Confusion Matrix:\")\n",
    "print(cm)\n",
    "\n",
    "report = classification_report(y_test, y_predict, zero_division=1)\n",
    "print(\"Classification Report:\")\n",
    "print(report)"
   ]
  },
  {
   "cell_type": "markdown",
   "metadata": {
    "id": "zrdOT9kT7ZFz"
   },
   "source": [
    "__Observation__\n",
    "- In the above output, you can see the confusion matrix and the values for accuracy, precision, recall, f1-score, and support."
   ]
  },
  {
   "cell_type": "markdown",
   "metadata": {
    "id": "oYStRuYujaWJ"
   },
   "source": [
    "## Step 7: Display the Decision Tree\n",
    "\n",
    "- Create a list of target and feature names\n",
    "- Import export_text from sklearn.tree\n",
    "- Display the decision tree as text\n"
   ]
  },
  {
   "cell_type": "code",
   "execution_count": null,
   "metadata": {
    "id": "0rPBvlNIiZwU"
   },
   "outputs": [],
   "source": [
    "target = list(df['Class Name'].unique())\n",
    "feature_names = list(X.columns)"
   ]
  },
  {
   "cell_type": "markdown",
   "metadata": {
    "id": "oQh-V-8o8FTt"
   },
   "source": [
    "__Observation__\n",
    "- Now, we have created a target."
   ]
  },
  {
   "cell_type": "markdown",
   "metadata": {
    "id": "6DCBohAs8Qnr"
   },
   "source": [
    "Let's plot the decision tree using an export_tree."
   ]
  },
  {
   "cell_type": "code",
   "execution_count": null,
   "metadata": {
    "colab": {
     "base_uri": "https://localhost:8080/"
    },
    "executionInfo": {
     "elapsed": 7,
     "status": "ok",
     "timestamp": 1683257029308,
     "user": {
      "displayName": "Sreelakshmi C V",
      "userId": "04477517605899898333"
     },
     "user_tz": -330
    },
    "id": "mw5OtYhUiZwU",
    "outputId": "45106bd5-aa8f-4516-f167-5a097ddc0912"
   },
   "outputs": [],
   "source": [
    "from sklearn.tree import export_text\n",
    "r = export_text(clf_model, feature_names=feature_names)\n",
    "print(r)"
   ]
  },
  {
   "cell_type": "code",
   "execution_count": null,
   "metadata": {},
   "outputs": [],
   "source": [
    "from sklearn.tree import plot_tree"
   ]
  },
  {
   "cell_type": "code",
   "execution_count": null,
   "metadata": {},
   "outputs": [],
   "source": [
    "plt.figure(figsize=(20,20))\n",
    "plot_tree(clf_model,feature_names=X_train.columns)\n",
    "plt.show()"
   ]
  },
  {
   "cell_type": "code",
   "execution_count": null,
   "metadata": {},
   "outputs": [],
   "source": [
    "clf_model.get_depth()"
   ]
  },
  {
   "cell_type": "code",
   "execution_count": null,
   "metadata": {},
   "outputs": [],
   "source": [
    "clf_model.criterion"
   ]
  },
  {
   "cell_type": "code",
   "execution_count": null,
   "metadata": {},
   "outputs": [],
   "source": [
    "clf_model.feature_importances_"
   ]
  },
  {
   "cell_type": "code",
   "execution_count": null,
   "metadata": {},
   "outputs": [],
   "source": [
    "y_train.value_counts(normalize=True)"
   ]
  },
  {
   "cell_type": "code",
   "execution_count": null,
   "metadata": {},
   "outputs": [],
   "source": [
    "1 - y_train.value_counts(normalize=True)"
   ]
  },
  {
   "cell_type": "code",
   "execution_count": null,
   "metadata": {},
   "outputs": [],
   "source": [
    "from sklearn.tree import DecisionTreeClassifier\n",
    "clf_model = DecisionTreeClassifier(criterion=\"gini\", random_state=42, max_depth=3, min_samples_leaf=5)   \n",
    "clf_model.fit(X_train,y_train)"
   ]
  },
  {
   "cell_type": "code",
   "execution_count": null,
   "metadata": {},
   "outputs": [],
   "source": [
    "from sklearn.tree import DecisionTreeClassifier\n",
    "clf_model = DecisionTreeClassifier(criterion=\"entropy\", random_state=42, max_depth=3, min_samples_leaf=5)   \n",
    "clf_model.fit(X_train,y_train)"
   ]
  },
  {
   "cell_type": "code",
   "execution_count": null,
   "metadata": {},
   "outputs": [],
   "source": [
    "from sklearn.model_selection import GridSearchCV\n",
    "\n",
    "params = {\"criterion\":['gini','entropy'],\n",
    "         \"max_depth\":[2,3,4,5,6],\n",
    "         \"min_samples_leaf\": [2,3,4,5,6,7,8]}\n",
    "\n",
    "grid = GridSearchCV(DecisionTreeClassifier(), param_grid=params, cv=5,verbose=1)"
   ]
  },
  {
   "cell_type": "code",
   "execution_count": null,
   "metadata": {},
   "outputs": [],
   "source": [
    "grid.fit(X_train,y_train)"
   ]
  },
  {
   "cell_type": "code",
   "execution_count": null,
   "metadata": {},
   "outputs": [],
   "source": [
    "grid.best_estimator_"
   ]
  },
  {
   "cell_type": "code",
   "execution_count": null,
   "metadata": {},
   "outputs": [],
   "source": [
    "grid.best_score_"
   ]
  },
  {
   "cell_type": "code",
   "execution_count": null,
   "metadata": {},
   "outputs": [],
   "source": [
    "# Recommended to Apply GridSearchCV"
   ]
  },
  {
   "cell_type": "markdown",
   "metadata": {
    "id": "saV6taJNcUMb"
   },
   "source": [
    "__Observations__\n",
    "- You can see how the decision tree has spread.\n",
    "- For example, in the above case, the left weight is distributed between two points: less than 2.5 and greater than 2.5.\n",
    "- The right distance is divided into two points: less than 1.5 and greater than 5.\n",
    "- Finally, we have a class that is making predictions, as this is how it has been predicted from top to bottom."
   ]
  }
 ],
 "metadata": {
  "colab": {
   "provenance": []
  },
  "kernelspec": {
   "display_name": "Python 3 (ipykernel)",
   "language": "python",
   "name": "python3"
  },
  "language_info": {
   "codemirror_mode": {
    "name": "ipython",
    "version": 3
   },
   "file_extension": ".py",
   "mimetype": "text/x-python",
   "name": "python",
   "nbconvert_exporter": "python",
   "pygments_lexer": "ipython3",
   "version": "3.11.7"
  }
 },
 "nbformat": 4,
 "nbformat_minor": 4
}
