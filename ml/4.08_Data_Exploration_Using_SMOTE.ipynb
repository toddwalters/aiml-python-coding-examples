{
 "cells": [
  {
   "cell_type": "markdown",
   "metadata": {
    "id": "_uwm01w5Gk09"
   },
   "source": [
    "## __Data Exploration Using SMOTE__\n",
    "Let's see how to prepare, explore, and visualize the data. Also, let's learn how to train the logistic model and evaluate the data."
   ]
  },
  {
   "cell_type": "markdown",
   "metadata": {
    "id": "32FxLQjgjFjw"
   },
   "source": [
    "## Step 1: Import the Required Libraries and Read the Dataset\n",
    "\n",
    "- Let's start by importing the required libraries, such as Pandas, Matplotlib.pyplot, and Numpy.\n"
   ]
  },
  {
   "cell_type": "code",
   "execution_count": null,
   "metadata": {
    "executionInfo": {
     "elapsed": 1200,
     "status": "ok",
     "timestamp": 1685955030388,
     "user": {
      "displayName": "Sreelakshmi C V",
      "userId": "04477517605899898333"
     },
     "user_tz": -330
    },
    "id": "QIDoNapXh09Z"
   },
   "outputs": [],
   "source": [
    "import pandas as pd\n",
    "import matplotlib.pyplot as plt\n",
    "import numpy as np"
   ]
  },
  {
   "cell_type": "markdown",
   "metadata": {
    "id": "C-SRb1mOHaj8"
   },
   "source": [
    "- From the local drive, upload and read the __cuisines__ dataset."
   ]
  },
  {
   "cell_type": "code",
   "execution_count": null,
   "metadata": {
    "executionInfo": {
     "elapsed": 513,
     "status": "ok",
     "timestamp": 1685955035708,
     "user": {
      "displayName": "Sreelakshmi C V",
      "userId": "04477517605899898333"
     },
     "user_tz": -330
    },
    "id": "kBbitz8Ih09b"
   },
   "outputs": [],
   "source": [
    "df  = pd.read_csv('datasets/cuisines.csv')"
   ]
  },
  {
   "cell_type": "markdown",
   "metadata": {
    "id": "aE9tYrWtHbq0"
   },
   "source": [
    "- The head() function gives the first five rows of the data."
   ]
  },
  {
   "cell_type": "code",
   "execution_count": null,
   "metadata": {
    "colab": {
     "base_uri": "https://localhost:8080/",
     "height": 317
    },
    "executionInfo": {
     "elapsed": 513,
     "status": "ok",
     "timestamp": 1685955041344,
     "user": {
      "displayName": "Sreelakshmi C V",
      "userId": "04477517605899898333"
     },
     "user_tz": -330
    },
    "id": "DyO0p1P6h09c",
    "outputId": "07ecf789-8f46-4901-9832-9716d5fcf499"
   },
   "outputs": [],
   "source": [
    "df.head()"
   ]
  },
  {
   "cell_type": "markdown",
   "metadata": {
    "id": "5mOGskkMHpq0"
   },
   "source": [
    "- Let's see the data types using the info() method."
   ]
  },
  {
   "cell_type": "code",
   "execution_count": null,
   "metadata": {
    "colab": {
     "base_uri": "https://localhost:8080/"
    },
    "executionInfo": {
     "elapsed": 500,
     "status": "ok",
     "timestamp": 1685955045140,
     "user": {
      "displayName": "Sreelakshmi C V",
      "userId": "04477517605899898333"
     },
     "user_tz": -330
    },
    "id": "w0ZapNHPh09d",
    "outputId": "7ac53fe6-66e4-44a2-e934-26820d4d3e50"
   },
   "outputs": [],
   "source": [
    "df.info()"
   ]
  },
  {
   "cell_type": "markdown",
   "metadata": {
    "id": "hSZ0ECxwUoUU"
   },
   "source": [
    "__Observation__:\n",
    "\n",
    "- The dataset has 385 entries, with 384 numerical and 1 categorical entry."
   ]
  },
  {
   "cell_type": "markdown",
   "metadata": {
    "id": "UDDHNXjKjKon"
   },
   "source": [
    "## Step 2: Visualize Cuisine Distribution and Create Cuisine-Specific DataFrames\n",
    "\n",
    "- Plot the distribution of cuisines. Use the bar graph to plot the value counts of different cuisines.\n"
   ]
  },
  {
   "cell_type": "code",
   "execution_count": null,
   "metadata": {
    "colab": {
     "base_uri": "https://localhost:8080/",
     "height": 447
    },
    "executionInfo": {
     "elapsed": 628,
     "status": "ok",
     "timestamp": 1685955049445,
     "user": {
      "displayName": "Sreelakshmi C V",
      "userId": "04477517605899898333"
     },
     "user_tz": -330
    },
    "id": "m04HuBRrh09d",
    "outputId": "809425bf-52a8-4e4a-84dd-c9ebf30ba6f9"
   },
   "outputs": [],
   "source": [
    "df.cuisine.value_counts().plot.barh()"
   ]
  },
  {
   "cell_type": "markdown",
   "metadata": {
    "id": "d6B0q3ZMh09e"
   },
   "source": [
    "- Create a DataFrame for each cuisine\n",
    "- Print the shape of each DataFrame to get the number of rows and columns in each DataFrame"
   ]
  },
  {
   "cell_type": "code",
   "execution_count": null,
   "metadata": {
    "colab": {
     "base_uri": "https://localhost:8080/"
    },
    "executionInfo": {
     "elapsed": 3,
     "status": "ok",
     "timestamp": 1685955052195,
     "user": {
      "displayName": "Sreelakshmi C V",
      "userId": "04477517605899898333"
     },
     "user_tz": -330
    },
    "id": "HyWRHcXKh09f",
    "outputId": "793c2f2c-f4ca-4ed8-8c8c-71c67fc5e513"
   },
   "outputs": [],
   "source": [
    "thai_df = df[(df.cuisine == \"thai\")]\n",
    "japanese_df = df[(df.cuisine == \"japanese\")]\n",
    "chinese_df = df[(df.cuisine == \"chinese\")]\n",
    "indian_df = df[(df.cuisine == \"indian\")]\n",
    "korean_df = df[(df.cuisine == \"korean\")]\n",
    "\n",
    "print(f'thai df: {thai_df.shape}')\n",
    "print(f'japanese df: {japanese_df.shape}')\n",
    "print(f'chinese df: {chinese_df.shape}')\n",
    "print(f'indian df: {indian_df.shape}')\n",
    "print(f'korean df: {korean_df.shape}')"
   ]
  },
  {
   "cell_type": "markdown",
   "metadata": {
    "id": "9QNJs4jijOX4"
   },
   "source": [
    "Step 3: Create a Function to Analyze Ingredient Usage\n",
    "\n",
    "- Define a function to create an ingredient DataFrame\n",
    "- Create a function, create_ingredient(), in Python to create an ingredient DataFrame\n",
    "- This function will remove an unnecessary column and count the ingredients."
   ]
  },
  {
   "cell_type": "code",
   "execution_count": null,
   "metadata": {
    "executionInfo": {
     "elapsed": 698,
     "status": "ok",
     "timestamp": 1685955060993,
     "user": {
      "displayName": "Sreelakshmi C V",
      "userId": "04477517605899898333"
     },
     "user_tz": -330
    },
    "id": "enx02ALBh09f"
   },
   "outputs": [],
   "source": [
    "def create_ingredient_df(df):\n",
    "    ingredient_df = df.T.drop(['cuisine','Unnamed: 0']).sum(axis=1).to_frame('value')\n",
    "    ingredient_df = ingredient_df[(ingredient_df.T != 0).any()]\n",
    "    ingredient_df = ingredient_df.sort_values(by='value', ascending=False,\n",
    "    inplace=False)\n",
    "    return ingredient_df"
   ]
  },
  {
   "cell_type": "markdown",
   "metadata": {
    "id": "AhWNU9pbKPKg"
   },
   "source": [
    "- Check and plot the top 10 ingredients for each cuisine"
   ]
  },
  {
   "cell_type": "code",
   "execution_count": null,
   "metadata": {
    "colab": {
     "base_uri": "https://localhost:8080/",
     "height": 447
    },
    "executionInfo": {
     "elapsed": 530,
     "status": "ok",
     "timestamp": 1685955069617,
     "user": {
      "displayName": "Sreelakshmi C V",
      "userId": "04477517605899898333"
     },
     "user_tz": -330
    },
    "id": "AJxpTniih09g",
    "outputId": "eb3be6a6-b7fc-49f6-cdc8-ab4ed7cc3a3d"
   },
   "outputs": [],
   "source": [
    "thai_ingredient_df = create_ingredient_df(thai_df)\n",
    "thai_ingredient_df.head(10).plot.barh()"
   ]
  },
  {
   "cell_type": "code",
   "execution_count": null,
   "metadata": {
    "colab": {
     "base_uri": "https://localhost:8080/",
     "height": 447
    },
    "executionInfo": {
     "elapsed": 504,
     "status": "ok",
     "timestamp": 1685955075944,
     "user": {
      "displayName": "Sreelakshmi C V",
      "userId": "04477517605899898333"
     },
     "user_tz": -330
    },
    "id": "EhWrSapMh09g",
    "outputId": "a0c3b3dd-5d2a-44d8-f77a-d6bbe0a0f6d5"
   },
   "outputs": [],
   "source": [
    "japanese_ingredient_df = create_ingredient_df(japanese_df)\n",
    "japanese_ingredient_df.head(10).plot.barh()"
   ]
  },
  {
   "cell_type": "code",
   "execution_count": null,
   "metadata": {
    "colab": {
     "base_uri": "https://localhost:8080/",
     "height": 447
    },
    "executionInfo": {
     "elapsed": 1337,
     "status": "ok",
     "timestamp": 1685955081082,
     "user": {
      "displayName": "Sreelakshmi C V",
      "userId": "04477517605899898333"
     },
     "user_tz": -330
    },
    "id": "qtyVDlLch09h",
    "outputId": "10f99acc-16c0-4d65-bf13-bec23ee88421"
   },
   "outputs": [],
   "source": [
    "chinese_ingredient_df = create_ingredient_df(chinese_df)\n",
    "chinese_ingredient_df.head(10).plot.barh()"
   ]
  },
  {
   "cell_type": "code",
   "execution_count": null,
   "metadata": {
    "colab": {
     "base_uri": "https://localhost:8080/",
     "height": 447
    },
    "executionInfo": {
     "elapsed": 538,
     "status": "ok",
     "timestamp": 1685955083388,
     "user": {
      "displayName": "Sreelakshmi C V",
      "userId": "04477517605899898333"
     },
     "user_tz": -330
    },
    "id": "LJys4JFrh09h",
    "outputId": "70c52d06-d249-4b98-ab15-854d2d5eee9f"
   },
   "outputs": [],
   "source": [
    "indian_ingredient_df = create_ingredient_df(indian_df)\n",
    "indian_ingredient_df.head(10).plot.barh()"
   ]
  },
  {
   "cell_type": "code",
   "execution_count": null,
   "metadata": {
    "colab": {
     "base_uri": "https://localhost:8080/",
     "height": 447
    },
    "executionInfo": {
     "elapsed": 541,
     "status": "ok",
     "timestamp": 1685955087859,
     "user": {
      "displayName": "Sreelakshmi C V",
      "userId": "04477517605899898333"
     },
     "user_tz": -330
    },
    "id": "TR7Brxw8h09h",
    "outputId": "b65bfb5c-ad95-42f6-fc36-250be33d483b"
   },
   "outputs": [],
   "source": [
    "korean_ingredient_df = create_ingredient_df(korean_df)\n",
    "korean_ingredient_df.head(10).plot.barh()"
   ]
  },
  {
   "cell_type": "markdown",
   "metadata": {
    "id": "wydUy4r1NzKV"
   },
   "source": [
    "- It is apparent that there are common ingredients in each cuisine.\n",
    "- They can be dropped so that they do not influence the model."
   ]
  },
  {
   "cell_type": "code",
   "execution_count": null,
   "metadata": {
    "colab": {
     "base_uri": "https://localhost:8080/",
     "height": 300
    },
    "executionInfo": {
     "elapsed": 6,
     "status": "ok",
     "timestamp": 1685955091090,
     "user": {
      "displayName": "Sreelakshmi C V",
      "userId": "04477517605899898333"
     },
     "user_tz": -330
    },
    "id": "SRhBS3HPh09i",
    "outputId": "188378ed-fbb5-4602-b973-9ec6ca17999a"
   },
   "outputs": [],
   "source": [
    "feature_df= df.drop(['cuisine','Unnamed: 0','rice','garlic','ginger'], axis=1)\n",
    "labels_df = df.cuisine\n",
    "feature_df.head()"
   ]
  },
  {
   "cell_type": "markdown",
   "metadata": {
    "id": "iQEt6dh7VSHH"
   },
   "source": [
    "__Observation:__\n",
    "- You can also see that all the cuisines here have different numbers of observations.\n",
    "- This is called an imbalanced dataset.\n",
    "- To balance this, we can use a technique called SMOTE."
   ]
  },
  {
   "cell_type": "markdown",
   "metadata": {
    "id": "R94OEsyXjsX-"
   },
   "source": [
    "## Step 4: Prepare the Data for Classification\n",
    "\n",
    "\n",
    "- Import and use oversampling from SMOTE\n",
    "- Once imported, transform the same using the features and labels df.\n"
   ]
  },
  {
   "cell_type": "code",
   "execution_count": null,
   "metadata": {
    "executionInfo": {
     "elapsed": 2224,
     "status": "ok",
     "timestamp": 1685955099097,
     "user": {
      "displayName": "Sreelakshmi C V",
      "userId": "04477517605899898333"
     },
     "user_tz": -330
    },
    "id": "8yzXYvSFh09i"
   },
   "outputs": [],
   "source": [
    "from imblearn.over_sampling import SMOTE\n",
    "oversample = SMOTE()\n",
    "transformed_feature_df, transformed_label_df = oversample.fit_resample(feature_df, labels_df)"
   ]
  },
  {
   "cell_type": "markdown",
   "metadata": {
    "id": "acBPOeq-SNXG"
   },
   "source": [
    "- Check out the new value counts for each cuisine\n",
    "- Compare the new counts with the old counts"
   ]
  },
  {
   "cell_type": "code",
   "execution_count": null,
   "metadata": {
    "colab": {
     "base_uri": "https://localhost:8080/"
    },
    "executionInfo": {
     "elapsed": 470,
     "status": "ok",
     "timestamp": 1685955102737,
     "user": {
      "displayName": "Sreelakshmi C V",
      "userId": "04477517605899898333"
     },
     "user_tz": -330
    },
    "id": "9hhYDzjqh09j",
    "outputId": "bbe56c41-892b-403d-a251-436412a578ab"
   },
   "outputs": [],
   "source": [
    "print(f'new label count: {transformed_label_df.value_counts()}')\n",
    "print(f'old label count: {df.cuisine.value_counts()}')"
   ]
  },
  {
   "cell_type": "markdown",
   "metadata": {
    "id": "vQn8LKLNTTx0"
   },
   "source": [
    "__Observation__:\n",
    "- You can see that all the cuisines have 799 rows now."
   ]
  },
  {
   "cell_type": "markdown",
   "metadata": {
    "id": "Os4bKFVrkCGq"
   },
   "source": [
    "## Step 5: Train a Logistic Regression Model\n",
    "\n",
    "- Import the libraries for logistic regression model\n",
    "\n"
   ]
  },
  {
   "cell_type": "code",
   "execution_count": null,
   "metadata": {
    "executionInfo": {
     "elapsed": 551,
     "status": "ok",
     "timestamp": 1685955108313,
     "user": {
      "displayName": "Sreelakshmi C V",
      "userId": "04477517605899898333"
     },
     "user_tz": -330
    },
    "id": "ypNCGfqbh09j"
   },
   "outputs": [],
   "source": [
    "from sklearn.linear_model import LogisticRegression\n",
    "from sklearn.model_selection import train_test_split, cross_val_score\n",
    "from sklearn.metrics import accuracy_score,precision_score,confusion_matrix,classification_report, precision_recall_curve\n",
    "import numpy as np"
   ]
  },
  {
   "cell_type": "markdown",
   "metadata": {
    "id": "oJ4z977GZocW"
   },
   "source": [
    "- Split the data into training and testing sets in the ratio 70:30"
   ]
  },
  {
   "cell_type": "code",
   "execution_count": null,
   "metadata": {
    "executionInfo": {
     "elapsed": 424,
     "status": "ok",
     "timestamp": 1685955113851,
     "user": {
      "displayName": "Sreelakshmi C V",
      "userId": "04477517605899898333"
     },
     "user_tz": -330
    },
    "id": "Qo_FGeXPh09j"
   },
   "outputs": [],
   "source": [
    "X_train, X_test, y_train, y_test = train_test_split(transformed_feature_df, transformed_label_df, test_size=0.3)"
   ]
  },
  {
   "cell_type": "markdown",
   "metadata": {
    "id": "UTR512AlakzQ"
   },
   "source": [
    "- Train the logistic regression model and calculate the accuracy.\n",
    "- The model **lr** is fitted to the variable model.\n",
    "- Next, accuracy needs to be calculated using the method model."
   ]
  },
  {
   "cell_type": "code",
   "execution_count": null,
   "metadata": {
    "colab": {
     "base_uri": "https://localhost:8080/"
    },
    "executionInfo": {
     "elapsed": 594,
     "status": "ok",
     "timestamp": 1685955116428,
     "user": {
      "displayName": "Sreelakshmi C V",
      "userId": "04477517605899898333"
     },
     "user_tz": -330
    },
    "id": "Fk3MRlFgh09j",
    "outputId": "032e3b7f-49ce-4dd8-d7b9-b4f272e5789d"
   },
   "outputs": [],
   "source": [
    "lr = LogisticRegression(multi_class='ovr',solver='liblinear')\n",
    "model = lr.fit(X_train, np.ravel(y_train))\n",
    "\n",
    "accuracy = model.score(X_test, y_test)\n",
    "print (\"Accuracy is {}\".format(accuracy))"
   ]
  },
  {
   "cell_type": "markdown",
   "metadata": {
    "id": "hcp8xmggcQuw"
   },
   "source": [
    "__Observation:__\n",
    "- From the results, it is apparent that the accuracy is 78 percent."
   ]
  },
  {
   "cell_type": "markdown",
   "metadata": {
    "id": "f_rQ5ntfkeMG"
   },
   "source": [
    "\n",
    "## Step 6: Make Predictions and Analyze the Results\n",
    "\n",
    "- Now, let's make a prediction for a specific test instance.\n",
    "- Let's calculate and print the probabilities for each class.\n",
    "- Display the top predicted cuisines\n"
   ]
  },
  {
   "cell_type": "code",
   "execution_count": null,
   "metadata": {
    "colab": {
     "base_uri": "https://localhost:8080/"
    },
    "executionInfo": {
     "elapsed": 4,
     "status": "ok",
     "timestamp": 1685955118826,
     "user": {
      "displayName": "Sreelakshmi C V",
      "userId": "04477517605899898333"
     },
     "user_tz": -330
    },
    "id": "g95G3NPsh09k",
    "outputId": "1b1e8286-a5b1-46b7-a336-5f279e947a75"
   },
   "outputs": [],
   "source": [
    "print(f'ingredients: {X_test.iloc[50][X_test.iloc[50]!=0].keys()}')\n",
    "print(f'cuisine: {y_test.iloc[50]}')"
   ]
  },
  {
   "cell_type": "markdown",
   "metadata": {
    "id": "PiMFYKNreCEX"
   },
   "source": [
    "- In the above code, we are entering one ingredient as an input. The prediction is displayed as thai, along with the ingredients for the same.\n",
    "\n",
    "- Let's test what our model will predict.\n",
    "- Since we want the probability, we can use the predict_proba method.\n",
    "- Let's store the value in the resultdf DataFrame.\n",
    "- Finally, let's sort the values by index values.\n",
    "\n",
    "\n",
    "\n"
   ]
  },
  {
   "cell_type": "code",
   "execution_count": null,
   "metadata": {
    "colab": {
     "base_uri": "https://localhost:8080/",
     "height": 261
    },
    "executionInfo": {
     "elapsed": 7,
     "status": "ok",
     "timestamp": 1685955122115,
     "user": {
      "displayName": "Sreelakshmi C V",
      "userId": "04477517605899898333"
     },
     "user_tz": -330
    },
    "id": "j7fBk4vuh09k",
    "outputId": "7e736638-577c-4cd8-d882-ff37ace7ea7b"
   },
   "outputs": [],
   "source": [
    "test= X_test.iloc[50].values.reshape(-1, 1).T\n",
    "proba = model.predict_proba(test)\n",
    "classes = model.classes_\n",
    "resultdf = pd.DataFrame(data=proba, columns=classes)\n",
    "\n",
    "topPrediction = resultdf.T.sort_values(by=[0], ascending = [False])\n",
    "topPrediction.head()"
   ]
  },
  {
   "cell_type": "markdown",
   "metadata": {
    "id": "DfRmqdhmhpkD"
   },
   "source": [
    "__Observation:__\n",
    " - As you can see, our model can predict thai as the cuisine with high probability."
   ]
  },
  {
   "cell_type": "markdown",
   "metadata": {
    "id": "c2Bn3gSmkrR-"
   },
   "source": [
    "## Step 7: Evaluate the Model\n",
    "\n",
    "- Generate a classification report to evaluate the model's performance\n",
    "- Now, let's check the classification report using the method classification_report.\n"
   ]
  },
  {
   "cell_type": "code",
   "execution_count": null,
   "metadata": {
    "colab": {
     "base_uri": "https://localhost:8080/"
    },
    "executionInfo": {
     "elapsed": 412,
     "status": "ok",
     "timestamp": 1685955125829,
     "user": {
      "displayName": "Sreelakshmi C V",
      "userId": "04477517605899898333"
     },
     "user_tz": -330
    },
    "id": "2R6ysTAHh09k",
    "outputId": "e03f6899-3a4a-4b87-c298-655ea92c9c29"
   },
   "outputs": [],
   "source": [
    "y_pred = model.predict(X_test)\n",
    "print(classification_report(y_test,y_pred))"
   ]
  },
  {
   "cell_type": "markdown",
   "metadata": {
    "id": "xxvenxtgidGT"
   },
   "source": [
    "__Observation:__\n",
    "- As we already know, the accuracy is calculated to be 79 percent."
   ]
  }
 ],
 "metadata": {
  "colab": {
   "provenance": []
  },
  "kernelspec": {
   "display_name": "Python 3 (ipykernel)",
   "language": "python",
   "name": "python3"
  },
  "language_info": {
   "codemirror_mode": {
    "name": "ipython",
    "version": 3
   },
   "file_extension": ".py",
   "mimetype": "text/x-python",
   "name": "python",
   "nbconvert_exporter": "python",
   "pygments_lexer": "ipython3",
   "version": "3.11.8"
  }
 },
 "nbformat": 4,
 "nbformat_minor": 4
}
