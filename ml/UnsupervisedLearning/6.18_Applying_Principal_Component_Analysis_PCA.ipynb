{
 "cells": [
  {
   "cell_type": "markdown",
   "id": "0",
   "metadata": {
    "id": "-iQi2upgg4sb"
   },
   "source": [
    "## __Applying Principal Component Analysis (PCA)__ ##\n",
    "Let's build a principal component analysis."
   ]
  },
  {
   "cell_type": "markdown",
   "id": "1",
   "metadata": {
    "id": "3nsXUpebgSAV"
   },
   "source": [
    "## Step 1: Import the Necessary Libraries and Load Data set\n",
    "\n",
    "- Import the **matplotlib.pyplot, pandas, NumPy, Seaborn,** and **sklearn** libraries\n",
    "- Load the breast cancer data set from sklearn\n"
   ]
  },
  {
   "cell_type": "code",
   "execution_count": null,
   "id": "2",
   "metadata": {
    "id": "kM1GRx41fW90"
   },
   "outputs": [],
   "source": [
    "import matplotlib.pyplot as plt\n",
    "import pandas as pd\n",
    "import numpy as np\n",
    "%matplotlib inline"
   ]
  },
  {
   "cell_type": "code",
   "execution_count": null,
   "id": "3",
   "metadata": {
    "id": "nKKk9YftfW92"
   },
   "outputs": [],
   "source": [
    "from sklearn.datasets import load_breast_cancer\n",
    "cancer = load_breast_cancer()"
   ]
  },
  {
   "cell_type": "code",
   "execution_count": null,
   "id": "4",
   "metadata": {
    "colab": {
     "base_uri": "https://localhost:8080/"
    },
    "executionInfo": {
     "elapsed": 559,
     "status": "ok",
     "timestamp": 1682674012008,
     "user": {
      "displayName": "Sreelakshmi C V",
      "userId": "04477517605899898333"
     },
     "user_tz": -330
    },
    "id": "Y0yiWgiSfW94",
    "outputId": "bde5bc84-98d0-4bb7-e2ec-8e27d43cc03e"
   },
   "outputs": [],
   "source": [
    "print(cancer['DESCR'])"
   ]
  },
  {
   "cell_type": "markdown",
   "id": "5",
   "metadata": {
    "id": "d2E3NsCzmoFU"
   },
   "source": [
    "__Observation:__\n",
    "- The cancer DESCR has given us all the information regarding the cancer data set."
   ]
  },
  {
   "cell_type": "markdown",
   "id": "6",
   "metadata": {
    "id": "LxSdre6tgfUP"
   },
   "source": [
    "## Step 2: Create a DataFrame\n",
    "\n",
    "- Create a DataFrame from the cancer data set\n"
   ]
  },
  {
   "cell_type": "code",
   "execution_count": null,
   "id": "7",
   "metadata": {
    "id": "j6GwefLHfW94"
   },
   "outputs": [],
   "source": [
    "df = pd.DataFrame(cancer['data'], columns=cancer['feature_names'])"
   ]
  },
  {
   "cell_type": "code",
   "execution_count": null,
   "id": "8",
   "metadata": {
    "id": "9MqJqpFqfW94",
    "outputId": "878f3272-f70d-4323-bcda-bfccd091e5cd"
   },
   "outputs": [],
   "source": [
    "df.head()"
   ]
  },
  {
   "cell_type": "markdown",
   "id": "9",
   "metadata": {
    "id": "0eP59F-vqczr"
   },
   "source": [
    "__Observation:__\n",
    "- We can see a DataFrame with cancer data and feature names as columns."
   ]
  },
  {
   "cell_type": "markdown",
   "id": "10",
   "metadata": {
    "id": "2FD7n21PghXE"
   },
   "source": [
    "\n",
    "## Step 3: Pre-process the Data\n",
    "\n",
    "- Split the data into training and testing\n",
    "- Instantiate a StandardScaler object and fit it to the data\n",
    "- Transform the data using the StandardScaler object\n"
   ]
  },
  {
   "cell_type": "code",
   "execution_count": null,
   "id": "11",
   "metadata": {
    "id": "Q7v8imelfW95"
   },
   "outputs": [],
   "source": [
    "from sklearn.preprocessing import StandardScaler\n",
    "from sklearn.model_selection import train_test_split\n",
    "from sklearn.decomposition import PCA"
   ]
  },
  {
   "cell_type": "code",
   "execution_count": null,
   "id": "12",
   "metadata": {
    "id": "yzTPI1WaNAvw"
   },
   "outputs": [],
   "source": [
    "X_train, X_test = train_test_split(df, test_size=0.2, random_state=42)\n",
    "sc = StandardScaler()\n",
    "sc.fit(X_train)\n",
    "X_train_std = sc.transform(X_train)\n",
    "X_test_std = sc.transform(X_test)"
   ]
  },
  {
   "cell_type": "code",
   "execution_count": null,
   "id": "13",
   "metadata": {
    "id": "XchF8uYEfW95",
    "outputId": "a7366906-2e56-4a33-beb3-25c587ad5325"
   },
   "outputs": [],
   "source": [
    "scaler = StandardScaler()\n",
    "scaler.fit(df)"
   ]
  },
  {
   "cell_type": "code",
   "execution_count": null,
   "id": "14",
   "metadata": {
    "id": "SKlcE49qfW95"
   },
   "outputs": [],
   "source": [
    "scaled_data = scaler.transform(df)"
   ]
  },
  {
   "cell_type": "markdown",
   "id": "15",
   "metadata": {
    "id": "GeFT0NU0gkEL"
   },
   "source": [
    "## Step 4: Apply PCA\n",
    "\n",
    "- Import PCA from sklearn.decomposition\n",
    "- Instantiate a PCA object with two components\n",
    "- Fit PCA to the scaled data\n",
    "- Transform the scaled data using PCA\n",
    "- Check the shape of the transformed data\n"
   ]
  },
  {
   "cell_type": "code",
   "execution_count": null,
   "id": "16",
   "metadata": {
    "id": "b_KjvYEUfW95"
   },
   "outputs": [],
   "source": [
    "from sklearn.decomposition import PCA"
   ]
  },
  {
   "cell_type": "code",
   "execution_count": null,
   "id": "17",
   "metadata": {
    "id": "nNkC6x3rfW96"
   },
   "outputs": [],
   "source": [
    "pca = PCA()"
   ]
  },
  {
   "cell_type": "code",
   "execution_count": null,
   "id": "18",
   "metadata": {
    "id": "GxaNgP-ofW96",
    "outputId": "cfd124b0-2572-4830-dcaa-82ae3109a0d4"
   },
   "outputs": [],
   "source": [
    "pca.fit(scaled_data)"
   ]
  },
  {
   "cell_type": "code",
   "execution_count": null,
   "id": "19",
   "metadata": {
    "id": "A6jhMYdQfW96"
   },
   "outputs": [],
   "source": [
    "X_new = pca.transform(scaled_data)"
   ]
  },
  {
   "cell_type": "code",
   "execution_count": null,
   "id": "20",
   "metadata": {},
   "outputs": [],
   "source": [
    "scaled_data[:5]"
   ]
  },
  {
   "cell_type": "code",
   "execution_count": null,
   "id": "21",
   "metadata": {},
   "outputs": [],
   "source": [
    "X_new[:5]"
   ]
  },
  {
   "cell_type": "code",
   "execution_count": null,
   "id": "22",
   "metadata": {},
   "outputs": [],
   "source": [
    "pca.explained_variance_ratio_"
   ]
  },
  {
   "cell_type": "code",
   "execution_count": null,
   "id": "23",
   "metadata": {},
   "outputs": [],
   "source": [
    "pca.explained_variance_ratio_.cumsum()"
   ]
  },
  {
   "cell_type": "code",
   "execution_count": null,
   "id": "24",
   "metadata": {
    "id": "blCRAK_-fW96",
    "outputId": "843ef245-1fcc-4b91-8ace-04b2fb7d950b"
   },
   "outputs": [],
   "source": [
    "scaled_data.shape"
   ]
  },
  {
   "cell_type": "code",
   "execution_count": null,
   "id": "25",
   "metadata": {},
   "outputs": [],
   "source": [
    "pca = PCA(n_components=4)\n",
    "pca.fit(scaled_data)\n",
    "X_new = pca.transform(scaled_data)"
   ]
  },
  {
   "cell_type": "code",
   "execution_count": null,
   "id": "26",
   "metadata": {
    "id": "1RP7AvnFfW96",
    "outputId": "982dbdb6-1b59-42df-9edf-9888c765986a"
   },
   "outputs": [],
   "source": [
    "X_new.shape"
   ]
  },
  {
   "cell_type": "code",
   "execution_count": null,
   "id": "27",
   "metadata": {},
   "outputs": [],
   "source": [
    "X_new[:5]"
   ]
  },
  {
   "cell_type": "markdown",
   "id": "28",
   "metadata": {
    "id": "WqCns2Uygop-"
   },
   "source": [
    "## Step 5: Visualize the PCA Results\n",
    "\n",
    "- Create a scatter plot of the two principal components, with the target variable as color"
   ]
  },
  {
   "cell_type": "code",
   "execution_count": null,
   "id": "29",
   "metadata": {
    "id": "_QZy_SbUfW97",
    "outputId": "cf0d0cec-dcd1-4633-8165-b5dbcc592b3a"
   },
   "outputs": [],
   "source": [
    "plt.figure(figsize=(8,6))\n",
    "plt.scatter(X_new[:,0],X_new[:,1],c=cancer['target'],cmap='plasma')\n",
    "plt.xlabel('First principal component')\n",
    "plt.ylabel('Second Principal Component')"
   ]
  },
  {
   "cell_type": "markdown",
   "id": "30",
   "metadata": {
    "id": "xq1M6TX4gu9i"
   },
   "source": [
    "## Step 6: Analyze the PCA Components\n",
    "\n",
    "- Display the PCA component matrix\n",
    "- Display the explained variance\n"
   ]
  },
  {
   "cell_type": "code",
   "execution_count": null,
   "id": "31",
   "metadata": {
    "id": "GWuYlL-8fW97",
    "outputId": "8ca1e999-8e69-40e1-f76a-7680b8d08ef1"
   },
   "outputs": [],
   "source": [
    "pca.components_"
   ]
  },
  {
   "cell_type": "code",
   "execution_count": null,
   "id": "32",
   "metadata": {
    "id": "E5MkSR4kfW97",
    "outputId": "d87bca4e-40b0-4141-f75b-cecc3a2c1689"
   },
   "outputs": [],
   "source": [
    "pca.explained_variance_"
   ]
  },
  {
   "cell_type": "code",
   "execution_count": null,
   "id": "33",
   "metadata": {},
   "outputs": [],
   "source": []
  }
 ],
 "metadata": {
  "colab": {
   "provenance": []
  },
  "kernelspec": {
   "display_name": "Python 3 (ipykernel)",
   "language": "python",
   "name": "python3"
  },
  "language_info": {
   "codemirror_mode": {
    "name": "ipython",
    "version": 3
   },
   "file_extension": ".py",
   "mimetype": "text/x-python",
   "name": "python",
   "nbconvert_exporter": "python",
   "pygments_lexer": "ipython3",
   "version": "3.11.7"
  }
 },
 "nbformat": 4,
 "nbformat_minor": 5
}
