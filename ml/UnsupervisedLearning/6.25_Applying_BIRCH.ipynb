{
 "cells": [
  {
   "cell_type": "markdown",
   "id": "0",
   "metadata": {
    "id": "5hsOngTwj0CQ"
   },
   "source": [
    "## **Applying BIRCH**"
   ]
  },
  {
   "cell_type": "markdown",
   "id": "1",
   "metadata": {
    "id": "ZYUnOOXxkGR8"
   },
   "source": [
    "## Step 1: Import Required Libraries\n",
    "\n",
    "- Import the **NumPy, matplotlib.pyplot, Seaborn**, and **sklearn** libraries.\n"
   ]
  },
  {
   "cell_type": "code",
   "execution_count": null,
   "id": "2",
   "metadata": {
    "id": "F3q0Fq4Lj0CS",
    "jp-MarkdownHeadingCollapsed": true
   },
   "outputs": [],
   "source": [
    "import numpy as np\n",
    "from matplotlib import pyplot as plt\n",
    "import seaborn as sns\n",
    "sns.set()\n",
    "from sklearn.datasets import make_blobs\n",
    "from sklearn.cluster import Birch"
   ]
  },
  {
   "cell_type": "markdown",
   "id": "3",
   "metadata": {
    "id": "VjBcw_ddkMC3"
   },
   "source": [
    "## Step 2: Generate the Dataset\n",
    "\n",
    "- Generate a dataset with blobs using the **make_blobs** function\n",
    "- Plot the data points using a scatterplot\n"
   ]
  },
  {
   "cell_type": "code",
   "execution_count": null,
   "id": "4",
   "metadata": {
    "colab": {
     "base_uri": "https://localhost:8080/",
     "height": 452
    },
    "executionInfo": {
     "elapsed": 3188,
     "status": "ok",
     "timestamp": 1682993004185,
     "user": {
      "displayName": "Sreelakshmi C V",
      "userId": "04477517605899898333"
     },
     "user_tz": -330
    },
    "id": "G17ETv7Hj0CT",
    "outputId": "21a61e5d-267b-4984-ecff-8359b8a8aaf0"
   },
   "outputs": [],
   "source": [
    "X, clusters = make_blobs(n_samples=450, centers=6, cluster_std=0.70, random_state=0)\n",
    "plt.scatter(X[:,0], X[:,1], alpha=0.7, edgecolors='b')"
   ]
  },
  {
   "cell_type": "markdown",
   "id": "5",
   "metadata": {
    "id": "SpzY7Qw5LHQz"
   },
   "source": [
    "__Observations:__\n",
    "- We can see the scatter plot for X attributes.\n",
    "- Here, six different clusters have been created."
   ]
  },
  {
   "cell_type": "markdown",
   "id": "6",
   "metadata": {
    "id": "foWoIr3OkTh7"
   },
   "source": [
    "## Step 3: Implement the BIRCH\n",
    "\n",
    "- Create an instance of the BIRCH clustering model\n",
    "- Fit the model to the data\n"
   ]
  },
  {
   "cell_type": "code",
   "execution_count": null,
   "id": "7",
   "metadata": {
    "colab": {
     "base_uri": "https://localhost:8080/",
     "height": 75
    },
    "executionInfo": {
     "elapsed": 376,
     "status": "ok",
     "timestamp": 1682993027075,
     "user": {
      "displayName": "Sreelakshmi C V",
      "userId": "04477517605899898333"
     },
     "user_tz": -330
    },
    "id": "o5a9iIU1j0CU",
    "outputId": "dfa13bd0-0867-4884-ceda-70dd025a8cf1"
   },
   "outputs": [],
   "source": [
    " brc = Birch(branching_factor = 50, n_clusters = None, threshold = 1.5)\n",
    "brc.fit(X)"
   ]
  },
  {
   "cell_type": "markdown",
   "id": "8",
   "metadata": {
    "id": "Z1pI-S1-OtBt"
   },
   "source": [
    "__Observation:__\n",
    "- A BIRCH model has been created here."
   ]
  },
  {
   "cell_type": "code",
   "execution_count": null,
   "id": "9",
   "metadata": {
    "id": "rSon_jtFNRfh"
   },
   "outputs": [],
   "source": [
    "Birch(n_clusters=None, threshold=1.5)\n",
    "labels = brc.predict(X)"
   ]
  },
  {
   "cell_type": "code",
   "execution_count": null,
   "id": "10",
   "metadata": {
    "colab": {
     "base_uri": "https://localhost:8080/",
     "height": 452
    },
    "executionInfo": {
     "elapsed": 1359,
     "status": "ok",
     "timestamp": 1682993316486,
     "user": {
      "displayName": "Sreelakshmi C V",
      "userId": "04477517605899898333"
     },
     "user_tz": -330
    },
    "id": "4F8deQ6NNh3W",
    "outputId": "fba10a39-589f-48b6-d216-e5f2f74669ce"
   },
   "outputs": [],
   "source": [
    "plt.scatter(X[:, 0], X[:, 1], c=labels, cmap='rainbow', alpha=0.7, edgecolors='b')"
   ]
  },
  {
   "cell_type": "markdown",
   "id": "11",
   "metadata": {
    "id": "6TXCmHVnODD0"
   },
   "source": [
    "__Observations:__\n",
    "- Here, we can see the scatter plot with six clusters.\n",
    "- The algorithm has created six different clusters based on our data set.\n",
    "- This is how we can implement BIRCH to create different clusters."
   ]
  }
 ],
 "metadata": {
  "colab": {
   "provenance": []
  },
  "kernelspec": {
   "display_name": "Python 3 (ipykernel)",
   "language": "python",
   "name": "python3"
  },
  "language_info": {
   "codemirror_mode": {
    "name": "ipython",
    "version": 3
   },
   "file_extension": ".py",
   "mimetype": "text/x-python",
   "name": "python",
   "nbconvert_exporter": "python",
   "pygments_lexer": "ipython3",
   "version": "3.11.7"
  }
 },
 "nbformat": 4,
 "nbformat_minor": 5
}
