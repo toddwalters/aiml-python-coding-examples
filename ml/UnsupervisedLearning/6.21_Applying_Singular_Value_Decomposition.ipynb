{
 "cells": [
  {
   "cell_type": "markdown",
   "metadata": {
    "id": "hxdMPILjYScS"
   },
   "source": [
    "## __Applying Singular Value Decomposition (SVD)__ "
   ]
  },
  {
   "cell_type": "markdown",
   "metadata": {
    "id": "vvgiRdEShBuE"
   },
   "source": [
    "## Step 1: Import the Required Libraries and Create the Dataset\n",
    "\n",
    "- Import **pandas** and **NumPy** libraries\n",
    "- Create the **post_words** DataFrame\n"
   ]
  },
  {
   "cell_type": "code",
   "execution_count": null,
   "metadata": {
    "colab": {
     "base_uri": "https://localhost:8080/",
     "height": 238
    },
    "executionInfo": {
     "elapsed": 2587,
     "status": "ok",
     "timestamp": 1682996462923,
     "user": {
      "displayName": "Sreelakshmi C V",
      "userId": "04477517605899898333"
     },
     "user_tz": -330
    },
    "id": "6VnXBMqSg11F",
    "outputId": "4f403ea8-6f93-4bd9-c7b5-3c961cdb9916"
   },
   "outputs": [],
   "source": [
    "import pandas as pd\n",
    "\n",
    "c_names = ['post1', 'post2', 'post3', 'post4']\n",
    "words = ['ice', 'snow', 'tahoe', 'goal', 'puck']\n",
    "post_words = pd.DataFrame([[4, 4, 6, 2],\n",
    "                           [6, 1, 0, 5],\n",
    "                           [3, 0, 0, 5],\n",
    "                           [0, 6, 5, 1],\n",
    "                           [0, 4, 5, 0]],\n",
    "                          index = words,\n",
    "                          columns = c_names)\n",
    "post_words.index.names = ['word:']\n",
    "post_words"
   ]
  },
  {
   "cell_type": "markdown",
   "metadata": {
    "id": "nMA82BNsY-Jq"
   },
   "source": [
    "__Observation:__\n",
    "- Here, we can see the rows of the data.\n"
   ]
  },
  {
   "cell_type": "markdown",
   "metadata": {
    "id": "4_09qr7ihQxr"
   },
   "source": [
    "## Step 2: Perform Singular Value Decomposition (SVD) on the Dataset\n",
    "\n",
    "- Create the column space of the data, U, and the row space of the data, V\n",
    "- Calculate the SVD using NumPy\n",
    "- Display the V matrix\n"
   ]
  },
  {
   "cell_type": "code",
   "execution_count": null,
   "metadata": {
    "colab": {
     "base_uri": "https://localhost:8080/"
    },
    "executionInfo": {
     "elapsed": 886,
     "status": "ok",
     "timestamp": 1682996546265,
     "user": {
      "displayName": "Sreelakshmi C V",
      "userId": "04477517605899898333"
     },
     "user_tz": -330
    },
    "id": "EKPPbP-Lg11H",
    "outputId": "f6a2c59e-748f-47c9-f320-b996210f4bd3"
   },
   "outputs": [],
   "source": [
    "import numpy as np\n",
    "\n",
    "U, sigma, V = np.linalg.svd(post_words)\n",
    "print(np.round(V, decimals=2))"
   ]
  },
  {
   "cell_type": "markdown",
   "metadata": {
    "id": "0OjxveHKadCP"
   },
   "source": [
    "__Observation:__\n",
    "- The diagonal values in **sigma** are always in descending order, and you can see that the vectors are also placed in that corresponding order."
   ]
  },
  {
   "cell_type": "code",
   "execution_count": null,
   "metadata": {
    "colab": {
     "base_uri": "https://localhost:8080/"
    },
    "executionInfo": {
     "elapsed": 5,
     "status": "ok",
     "timestamp": 1682996774978,
     "user": {
      "displayName": "Sreelakshmi C V",
      "userId": "04477517605899898333"
     },
     "user_tz": -330
    },
    "id": "wnBqwW02g11P",
    "outputId": "aa3b5cb6-b84f-4411-bda4-2c78306bf287"
   },
   "outputs": [],
   "source": [
    "sigma"
   ]
  },
  {
   "cell_type": "markdown",
   "metadata": {
    "id": "7ZIM0_cEd_ZM"
   },
   "source": [
    "__Observation:__\n",
    "- Here, we can see that the singular values in sigma have been created."
   ]
  },
  {
   "cell_type": "markdown",
   "metadata": {
    "id": "H5JqPti-hpEM"
   },
   "source": [
    "## Step 3: Approximate the Original Dataset Using the First Two Components\n",
    "\n",
    "- Calculate the approximate dataset using the first two components\n",
    "- Display the approximation and the error from the actual values\n",
    "\n",
    "\n",
    "\n"
   ]
  },
  {
   "cell_type": "code",
   "execution_count": null,
   "metadata": {
    "colab": {
     "base_uri": "https://localhost:8080/"
    },
    "executionInfo": {
     "elapsed": 5,
     "status": "ok",
     "timestamp": 1682996881524,
     "user": {
      "displayName": "Sreelakshmi C V",
      "userId": "04477517605899898333"
     },
     "user_tz": -330
    },
    "id": "4qps1aeAg11Q",
    "outputId": "30eafed6-510a-4981-d0e2-06d65ec55afe"
   },
   "outputs": [],
   "source": [
    "A_approx = np.matrix(U[:, :2]) * np.diag(sigma[:2]) * np.matrix(V[:2, :])\n",
    "\n",
    "print(\"A calculated using only the first two components:\\n\")\n",
    "print(pd.DataFrame(A_approx, index=words, columns=c_names))"
   ]
  },
  {
   "cell_type": "markdown",
   "metadata": {
    "id": "3Ky9GnKWgatP"
   },
   "source": [
    "__Observation:__\n",
    "- Here, A was calculated using only the first two components, and we got an approximate A by multiplying the matrix U and V."
   ]
  },
  {
   "cell_type": "code",
   "execution_count": null,
   "metadata": {
    "colab": {
     "base_uri": "https://localhost:8080/"
    },
    "executionInfo": {
     "elapsed": 610,
     "status": "ok",
     "timestamp": 1682996889654,
     "user": {
      "displayName": "Sreelakshmi C V",
      "userId": "04477517605899898333"
     },
     "user_tz": -330
    },
    "id": "jdEF3-l9bnX-",
    "outputId": "76faf272-9088-4d28-e207-5a325fed4d87"
   },
   "outputs": [],
   "source": [
    "print(\"\\nError from actual value:\\n\")\n",
    "print(post_words - A_approx)"
   ]
  },
  {
   "cell_type": "markdown",
   "metadata": {
    "id": "VTLD3-Xhg0MO"
   },
   "source": [
    "__Observation:__\n",
    "- Here, we can see the difference from the actual by the approximate value of A."
   ]
  },
  {
   "cell_type": "markdown",
   "metadata": {
    "id": "ie6cxIOch3Jk"
   },
   "source": [
    "## Step 4: Visualize the V Matrix as an Image\n",
    "\n",
    "- Import matplotlib.pyplot\n",
    "- Plot the V matrix as an image\n",
    "- Pass the c_names values to the xticks and the words to the yticks\n",
    "- Initialize ax\n",
    "- Declare the title as SVD\n",
    "- Plot the colorbar\n"
   ]
  },
  {
   "cell_type": "code",
   "execution_count": null,
   "metadata": {
    "colab": {
     "base_uri": "https://localhost:8080/",
     "height": 452
    },
    "executionInfo": {
     "elapsed": 542,
     "status": "ok",
     "timestamp": 1682997032546,
     "user": {
      "displayName": "Sreelakshmi C V",
      "userId": "04477517605899898333"
     },
     "user_tz": -330
    },
    "id": "e980_oG1g11Q",
    "outputId": "f6fafd86-a796-4f49-b6e9-bf3dedf5f3d8"
   },
   "outputs": [],
   "source": [
    "%matplotlib inline\n",
    "import matplotlib.pyplot as plt\n",
    "\n",
    "plt.imshow(V, interpolation='none')\n",
    "plt.xticks(range(len(c_names)))\n",
    "plt.yticks(range(len(words)))\n",
    "plt.ylim([len(words) - 1.5, -.5])\n",
    "ax = plt.gca()\n",
    "ax.set_xticklabels(c_names)\n",
    "ax.set_yticklabels(range(1, len(words) + 1))\n",
    "plt.title(\"SVD\")\n",
    "plt.colorbar();"
   ]
  },
  {
   "cell_type": "markdown",
   "metadata": {
    "id": "OR3ZcEF_cNC-"
   },
   "source": [
    "__Observations:__\n",
    "- Here, we can see the singular value decomposition plot.\n",
    "- Notice that the lighter blue of post 1 and post 4 of row 1 have similar values."
   ]
  },
  {
   "cell_type": "markdown",
   "metadata": {
    "id": "q5Vj3st8h7kT"
   },
   "source": [
    "## Step 5: Analyze the U Matrix\n",
    "\n",
    "- Display the second column of the U matrix\n"
   ]
  },
  {
   "cell_type": "code",
   "execution_count": null,
   "metadata": {
    "id": "wMb3R9_bg11R",
    "outputId": "7400c2f5-348f-49e6-a8a1-113ff8ee67c2"
   },
   "outputs": [],
   "source": [
    "pd.DataFrame(U[:,1], index=words)"
   ]
  },
  {
   "cell_type": "markdown",
   "metadata": {
    "id": "SkMRuigydHVF"
   },
   "source": [
    "__Observations:__\n",
    "- Here, we can see that snow and tahoe are identical, whereas goal and puck have similar values."
   ]
  },
  {
   "cell_type": "markdown",
   "metadata": {
    "id": "8Z9djDN0dvpF"
   },
   "source": [
    "__Conclusion__\n",
    "\n",
    "This is how we can apply single value decomposition, or SVD."
   ]
  }
 ],
 "metadata": {
  "colab": {
   "provenance": []
  },
  "kernelspec": {
   "display_name": "Python 3 (ipykernel)",
   "language": "python",
   "name": "python3"
  },
  "language_info": {
   "codemirror_mode": {
    "name": "ipython",
    "version": 3
   },
   "file_extension": ".py",
   "mimetype": "text/x-python",
   "name": "python",
   "nbconvert_exporter": "python",
   "pygments_lexer": "ipython3",
   "version": "3.11.7"
  }
 },
 "nbformat": 4,
 "nbformat_minor": 4
}
