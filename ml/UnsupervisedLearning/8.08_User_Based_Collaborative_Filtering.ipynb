{
 "cells": [
  {
   "cell_type": "markdown",
   "id": "0",
   "metadata": {
    "id": "XMEXxEyf3in3"
   },
   "source": [
    "#__User-Based Collaborative Filtering__\n",
    "\n",
    "Let's explore how to create collaborative filtering based on users.\n",
    "\n"
   ]
  },
  {
   "cell_type": "markdown",
   "id": "1",
   "metadata": {
    "id": "_G80pQ5YHYLX"
   },
   "source": [
    "## Step 1: Import Required Libraries\n",
    "\n",
    "- Import pandas, NumPy, scipy.stats, seaborn, and cosine_similarity\n",
    "- Import Matplotlib for visualization\n"
   ]
  },
  {
   "cell_type": "code",
   "execution_count": null,
   "id": "2",
   "metadata": {
    "id": "J8FPPF0CGccL"
   },
   "outputs": [],
   "source": [
    "import pandas as pd\n",
    "import numpy as np\n",
    "import scipy.stats\n",
    "import seaborn as sns\n",
    "from sklearn.metrics.pairwise import cosine_similarity"
   ]
  },
  {
   "cell_type": "markdown",
   "id": "3",
   "metadata": {
    "id": "qC5yVTY7HdF1"
   },
   "source": [
    "## Step 2: Load and Preprocess the Data\n",
    "\n",
    "- Read the CSV files containing the anime and rating data\n",
    "- Filter the ratings data\n",
    "- Check the number of ratings, unique users, and unique animes\n"
   ]
  },
  {
   "cell_type": "markdown",
   "id": "4",
   "metadata": {
    "id": "AqZXzD6NwIvt"
   },
   "source": [
    "- We are using 2 datasets here: \n",
    "1.   anime\n",
    "2.   rating\n",
    "\n"
   ]
  },
  {
   "cell_type": "code",
   "execution_count": null,
   "id": "5",
   "metadata": {
    "id": "4bvpMUGWGccN"
   },
   "outputs": [],
   "source": [
    "animes = pd.read_csv('anime.csv')"
   ]
  },
  {
   "cell_type": "code",
   "execution_count": null,
   "id": "6",
   "metadata": {
    "id": "JL9nIRazGccN"
   },
   "outputs": [],
   "source": [
    "ratings = pd.read_csv('rating.csv')"
   ]
  },
  {
   "cell_type": "markdown",
   "id": "7",
   "metadata": {
    "id": "D6RMgh86wqBm"
   },
   "source": [
    "- In rating, we have a few people who did not rate.\n",
    "- Let's not consider that."
   ]
  },
  {
   "cell_type": "code",
   "execution_count": null,
   "id": "8",
   "metadata": {
    "colab": {
     "base_uri": "https://localhost:8080/",
     "height": 206
    },
    "executionInfo": {
     "elapsed": 530,
     "status": "ok",
     "timestamp": 1682937017525,
     "user": {
      "displayName": "Payal Prakash",
      "userId": "09532794939522559997"
     },
     "user_tz": -330
    },
    "id": "Z-PcndNuGccN",
    "outputId": "5ee7075d-3eb2-4220-d6a6-7e47c94d65e2"
   },
   "outputs": [],
   "source": [
    "ratings = ratings[ratings.rating != -1]\n",
    "ratings.head()"
   ]
  },
  {
   "cell_type": "markdown",
   "id": "9",
   "metadata": {
    "id": "9Vee-Xkcw-rd"
   },
   "source": [
    "__Observations:__\n",
    "- Here, you can see a few rows from the rating data.\n",
    "- The fields are user_id, anime_id, and rating."
   ]
  },
  {
   "cell_type": "code",
   "execution_count": null,
   "id": "10",
   "metadata": {
    "colab": {
     "base_uri": "https://localhost:8080/",
     "height": 206
    },
    "executionInfo": {
     "elapsed": 21,
     "status": "ok",
     "timestamp": 1682937017526,
     "user": {
      "displayName": "Payal Prakash",
      "userId": "09532794939522559997"
     },
     "user_tz": -330
    },
    "id": "p23O3B6PGccO",
    "outputId": "0645d405-8dab-411b-f07f-83c33742dd82"
   },
   "outputs": [],
   "source": [
    "animes.head()"
   ]
  },
  {
   "cell_type": "markdown",
   "id": "11",
   "metadata": {
    "id": "mFqcBMSSxPz0"
   },
   "source": [
    "__Observations:__\n",
    "- Here, you can see the top five observations about anime.\n",
    "- The fields are anime_id, name, genre, type, episodes, rating, and members."
   ]
  },
  {
   "cell_type": "markdown",
   "id": "12",
   "metadata": {
    "id": "kbzIfLewHxei"
   },
   "source": [
    "## Step 3: Data Exploration\n",
    "\n",
    "- Calculate and visualize the average number of anime rated per user\n",
    "- Calculate and visualize the average number of ratings given per anime\n"
   ]
  },
  {
   "cell_type": "code",
   "execution_count": null,
   "id": "13",
   "metadata": {
    "colab": {
     "base_uri": "https://localhost:8080/"
    },
    "executionInfo": {
     "elapsed": 21,
     "status": "ok",
     "timestamp": 1682937017527,
     "user": {
      "displayName": "Payal Prakash",
      "userId": "09532794939522559997"
     },
     "user_tz": -330
    },
    "id": "Qd8Em8DTGccP",
    "outputId": "e9442c08-0f6d-41b2-9548-3f713a8436eb"
   },
   "outputs": [],
   "source": [
    "len(ratings)"
   ]
  },
  {
   "cell_type": "markdown",
   "id": "14",
   "metadata": {
    "id": "9fKis2SryboY"
   },
   "source": [
    "__Observation:__\n",
    "- The length of the rating is 509577."
   ]
  },
  {
   "cell_type": "code",
   "execution_count": null,
   "id": "15",
   "metadata": {
    "colab": {
     "base_uri": "https://localhost:8080/"
    },
    "executionInfo": {
     "elapsed": 19,
     "status": "ok",
     "timestamp": 1682937017528,
     "user": {
      "displayName": "Payal Prakash",
      "userId": "09532794939522559997"
     },
     "user_tz": -330
    },
    "id": "u8nicuIdGccP",
    "outputId": "5b332dc4-b8d7-4f49-900c-b4fb9cb0c1f1"
   },
   "outputs": [],
   "source": [
    "len(ratings['user_id'].unique())"
   ]
  },
  {
   "cell_type": "markdown",
   "id": "16",
   "metadata": {
    "id": "KICKtB-OyjTg"
   },
   "source": [
    "__Observation:__\n",
    "- There are 5726 old users."
   ]
  },
  {
   "cell_type": "code",
   "execution_count": null,
   "id": "17",
   "metadata": {
    "colab": {
     "base_uri": "https://localhost:8080/"
    },
    "executionInfo": {
     "elapsed": 17,
     "status": "ok",
     "timestamp": 1682937017528,
     "user": {
      "displayName": "Payal Prakash",
      "userId": "09532794939522559997"
     },
     "user_tz": -330
    },
    "id": "hafnSkHkGccP",
    "outputId": "3ce5c37d-e96a-41ac-9ff7-a0b6b6a9a86e"
   },
   "outputs": [],
   "source": [
    "len(animes['anime_id'].unique())"
   ]
  },
  {
   "cell_type": "markdown",
   "id": "18",
   "metadata": {
    "id": "Rw4AsUxozQBA"
   },
   "source": [
    "__Observation:__\n",
    "- There are 12294 unique anime IDs.\n",
    "- Import statistics\n",
    "- Group by ratings per user"
   ]
  },
  {
   "cell_type": "code",
   "execution_count": null,
   "id": "19",
   "metadata": {
    "colab": {
     "base_uri": "https://localhost:8080/"
    },
    "executionInfo": {
     "elapsed": 16,
     "status": "ok",
     "timestamp": 1682937017529,
     "user": {
      "displayName": "Payal Prakash",
      "userId": "09532794939522559997"
     },
     "user_tz": -330
    },
    "id": "J--WaLN8GccQ",
    "outputId": "ba0bc293-5c35-4bfa-9eaf-069dd4256bb4"
   },
   "outputs": [],
   "source": [
    "import statistics\n",
    "ratings_per_user = ratings.groupby('user_id')['rating'].count()\n",
    "statistics.mean(ratings_per_user.tolist())"
   ]
  },
  {
   "cell_type": "markdown",
   "id": "20",
   "metadata": {
    "id": "TPVeyGhWze_A"
   },
   "source": [
    "__Observation:__\n",
    "- On average, there are 88 ratings per user."
   ]
  },
  {
   "cell_type": "markdown",
   "id": "21",
   "metadata": {
    "id": "dI7YoEDEz18T"
   },
   "source": [
    "Create a per-user rating histogram"
   ]
  },
  {
   "cell_type": "code",
   "execution_count": null,
   "id": "22",
   "metadata": {
    "colab": {
     "base_uri": "https://localhost:8080/",
     "height": 447
    },
    "executionInfo": {
     "elapsed": 587,
     "status": "ok",
     "timestamp": 1682937018101,
     "user": {
      "displayName": "Payal Prakash",
      "userId": "09532794939522559997"
     },
     "user_tz": -330
    },
    "id": "bTbpUJ9eGccQ",
    "outputId": "f9a653be-1f8c-4402-f70a-0bc0a75fcb0f"
   },
   "outputs": [],
   "source": [
    "import matplotlib.pyplot as plt\n",
    "%matplotlib inline\n",
    "ratings_per_user.hist(bins=20, range=(0,500))"
   ]
  },
  {
   "cell_type": "markdown",
   "id": "23",
   "metadata": {
    "id": "qL3KeH-r06VD"
   },
   "source": [
    "__Observations:__\n",
    "- Here, we can see the histogram based on rating per user using 20 bins.\n",
    "- It is clear from the histogram that the first bin has a higher value.\n",
    "\n"
   ]
  },
  {
   "cell_type": "markdown",
   "id": "24",
   "metadata": {
    "id": "PzNcN4TJ0VyW"
   },
   "source": [
    "Now, let's check the rating per anime."
   ]
  },
  {
   "cell_type": "code",
   "execution_count": null,
   "id": "25",
   "metadata": {
    "colab": {
     "base_uri": "https://localhost:8080/"
    },
    "executionInfo": {
     "elapsed": 14,
     "status": "ok",
     "timestamp": 1682937018102,
     "user": {
      "displayName": "Payal Prakash",
      "userId": "09532794939522559997"
     },
     "user_tz": -330
    },
    "id": "KL87IkGhGccQ",
    "outputId": "50ecc1d6-3046-4501-d384-05cead3eab49"
   },
   "outputs": [],
   "source": [
    "ratings_per_anime = ratings.groupby('anime_id')['rating'].count()\n",
    "statistics.mean(ratings_per_anime.tolist())"
   ]
  },
  {
   "cell_type": "markdown",
   "id": "26",
   "metadata": {
    "id": "a8pzh4C90cuV"
   },
   "source": [
    "__Observation:__\n",
    "- The average rating per anime is 72.075."
   ]
  },
  {
   "cell_type": "code",
   "execution_count": null,
   "id": "27",
   "metadata": {
    "colab": {
     "base_uri": "https://localhost:8080/",
     "height": 447
    },
    "executionInfo": {
     "elapsed": 563,
     "status": "ok",
     "timestamp": 1682937018654,
     "user": {
      "displayName": "Payal Prakash",
      "userId": "09532794939522559997"
     },
     "user_tz": -330
    },
    "id": "ToZblp7CGccR",
    "outputId": "12e439a0-1eaa-4c7d-a264-1d55ca997001"
   },
   "outputs": [],
   "source": [
    "import matplotlib.pyplot as plt\n",
    "%matplotlib inline\n",
    "ratings_per_anime.hist(bins=20, range=(0,2500))"
   ]
  },
  {
   "cell_type": "markdown",
   "id": "28",
   "metadata": {
    "id": "SjhgewKh0y38"
   },
   "source": [
    "__Observation:__\n",
    "- Here, we can see the histogram based on rating per anime using 20 bins."
   ]
  },
  {
   "cell_type": "markdown",
   "id": "29",
   "metadata": {
    "id": "Z5xxgDg-1Bsz"
   },
   "source": [
    "Create a DataFrame per anime and a filter\n",
    "  - Filter ratings greater than 1000 to find a popular anime"
   ]
  },
  {
   "cell_type": "code",
   "execution_count": null,
   "id": "30",
   "metadata": {
    "id": "G3xx_BpFGccR"
   },
   "outputs": [],
   "source": [
    "ratings_per_anime_df = pd.DataFrame(ratings_per_anime)\n",
    "\n",
    "filtered_ratings_per_anime_df = ratings_per_anime_df[ratings_per_anime_df.rating >= 1000]\n",
    "\n",
    "popular_anime = filtered_ratings_per_anime_df.index.tolist()"
   ]
  },
  {
   "cell_type": "markdown",
   "id": "31",
   "metadata": {
    "id": "IHkhnpuk1YTz"
   },
   "source": [
    "Create ratings per user DataFrame\n",
    "  - Filter the ratings greater than 500 and create an index to list prolific users"
   ]
  },
  {
   "cell_type": "code",
   "execution_count": null,
   "id": "32",
   "metadata": {
    "id": "6x0IHlOdGccZ"
   },
   "outputs": [],
   "source": [
    "ratings_per_user_df = pd.DataFrame(ratings_per_user)\n",
    "\n",
    "filtered_ratings_per_user_df = ratings_per_user_df[ratings_per_user_df.rating >= 500]\n",
    "\n",
    "prolific_users = filtered_ratings_per_user_df.index.tolist()"
   ]
  },
  {
   "cell_type": "markdown",
   "id": "33",
   "metadata": {
    "id": "ToGj6dfbLR3n"
   },
   "source": [
    "## Step 4: Filtering the Data\n",
    "\n",
    "- Filter the data based on the number of ratings per user and per anime\n",
    "- Create a pivot table from the filtered data\n",
    "- Fill NaN values with 0 in the rating matrix"
   ]
  },
  {
   "cell_type": "code",
   "execution_count": null,
   "id": "34",
   "metadata": {
    "colab": {
     "base_uri": "https://localhost:8080/"
    },
    "executionInfo": {
     "elapsed": 21,
     "status": "ok",
     "timestamp": 1682937018656,
     "user": {
      "displayName": "Payal Prakash",
      "userId": "09532794939522559997"
     },
     "user_tz": -330
    },
    "id": "l37qeBLzGccZ",
    "outputId": "b33a8a1b-bd04-4425-cc72-32624fe036dc"
   },
   "outputs": [],
   "source": [
    "filtered_ratings = ratings[ratings.anime_id.isin(popular_anime)]\n",
    "filtered_ratings = ratings[ratings.user_id.isin(prolific_users)]\n",
    "len(filtered_ratings)"
   ]
  },
  {
   "cell_type": "code",
   "execution_count": null,
   "id": "35",
   "metadata": {
    "colab": {
     "base_uri": "https://localhost:8080/",
     "height": 331
    },
    "executionInfo": {
     "elapsed": 20,
     "status": "ok",
     "timestamp": 1682937018657,
     "user": {
      "displayName": "Payal Prakash",
      "userId": "09532794939522559997"
     },
     "user_tz": -330
    },
    "id": "ERFcUmZSGcca",
    "outputId": "a8fdf287-02bc-4577-c4d8-cb05d2e1dc6b"
   },
   "outputs": [],
   "source": [
    "rating_matrix = filtered_ratings.pivot_table(index='user_id', columns='anime_id', values='rating')\n",
    "rating_matrix = rating_matrix.fillna(0)\n",
    "rating_matrix.head()"
   ]
  },
  {
   "cell_type": "markdown",
   "id": "36",
   "metadata": {
    "id": "SucDtT9L2qPQ"
   },
   "source": [
    "__Observation:__\n",
    "- The anime and user ID details are displayed above."
   ]
  },
  {
   "cell_type": "markdown",
   "id": "37",
   "metadata": {
    "id": "1Ovx8AvxJdOJ"
   },
   "source": [
    "## Step 5: Define the similar_users Function\n",
    "\n",
    "- Define a function to find similar_users based on the cosine similarity of their rating vectors"
   ]
  },
  {
   "cell_type": "code",
   "execution_count": null,
   "id": "38",
   "metadata": {
    "id": "TZO5GzadGcca"
   },
   "outputs": [],
   "source": [
    "from sklearn.metrics.pairwise import cosine_similarity\n",
    "import operator\n",
    "def similar_users(user_id, matrix, k=3):\n",
    "    user = matrix[matrix.index == user_id]\n",
    "    \n",
    "    other_users = matrix[matrix.index != user_id]\n",
    "    \n",
    "    similarities = cosine_similarity(user,other_users)[0].tolist()\n",
    "    \n",
    "    indices = other_users.index.tolist()\n",
    "    \n",
    "    index_similarity = dict(zip(indices, similarities))\n",
    "    \n",
    "    index_similarity_sorted = sorted(index_similarity.items(), key=operator.itemgetter(1))\n",
    "    index_similarity_sorted.reverse()\n",
    "    \n",
    "    top_users_similarities = index_similarity_sorted[:k]\n",
    "    users = [u[0] for u in top_users_similarities]\n",
    "    \n",
    "    return users"
   ]
  },
  {
   "cell_type": "markdown",
   "id": "39",
   "metadata": {
    "id": "bLWFk9CyJg2N"
   },
   "source": [
    "## Step 6: Test the similar_users Function\n",
    "\n",
    "- Test the `similar_users` function with a sample user ID\n"
   ]
  },
  {
   "cell_type": "code",
   "execution_count": null,
   "id": "40",
   "metadata": {
    "colab": {
     "base_uri": "https://localhost:8080/"
    },
    "executionInfo": {
     "elapsed": 20,
     "status": "ok",
     "timestamp": 1682937018658,
     "user": {
      "displayName": "Payal Prakash",
      "userId": "09532794939522559997"
     },
     "user_tz": -330
    },
    "id": "vs0GkmRRGccb",
    "outputId": "89154b44-b9cc-46a5-efe5-b1acd55f7182"
   },
   "outputs": [],
   "source": [
    "current_user = 226\n",
    "similar_user_indices = similar_users(current_user, rating_matrix)\n",
    "print(similar_user_indices)"
   ]
  },
  {
   "cell_type": "markdown",
   "id": "41",
   "metadata": {
    "id": "Vam-CY-IGon_"
   },
   "source": [
    "__Observation:__\n",
    "- Here, we have similar indices."
   ]
  },
  {
   "cell_type": "markdown",
   "id": "42",
   "metadata": {
    "id": "1_2aXXS2Ji1A"
   },
   "source": [
    "## Step 7: Define the recommend_item Function\n",
    "\n",
    "- Define a function to recommend items (animes) for a user based on the average ratings of similar users\n",
    "- Test the `recommend_item` function with a sample user ID and the similar user indices obtained in Step 6\n"
   ]
  },
  {
   "cell_type": "code",
   "execution_count": null,
   "id": "43",
   "metadata": {
    "colab": {
     "base_uri": "https://localhost:8080/",
     "height": 206
    },
    "executionInfo": {
     "elapsed": 19,
     "status": "ok",
     "timestamp": 1682937018659,
     "user": {
      "displayName": "Payal Prakash",
      "userId": "09532794939522559997"
     },
     "user_tz": -330
    },
    "id": "-eTqZ5i7Gccb",
    "outputId": "4bea99dc-532d-493f-bda0-4a9dfb666dab"
   },
   "outputs": [],
   "source": [
    "def recommend_item(user_index, similar_user_indices, matrix, items=5):\n",
    "    \n",
    "    similar_users = matrix[matrix.index.isin(similar_user_indices)]\n",
    "   \n",
    "    similar_users = similar_users.mean(axis=0)\n",
    "    \n",
    "    similar_users_df = pd.DataFrame(similar_users, columns=['mean'])\n",
    "    \n",
    "    user_df = matrix[matrix.index == user_index]\n",
    "\n",
    "    user_df_transposed = user_df.transpose()\n",
    "   \n",
    "    user_df_transposed.columns = ['rating']\n",
    "    \n",
    "    user_df_transposed = user_df_transposed[user_df_transposed['rating']==0]\n",
    "   \n",
    "    animes_unseen = user_df_transposed.index.tolist()\n",
    "    \n",
    "  \n",
    "    similar_users_df_filtered = similar_users_df[similar_users_df.index.isin(animes_unseen)]\n",
    " \n",
    "    similar_users_df_ordered = similar_users_df.sort_values(by=['mean'], ascending=False)\n",
    "   \n",
    "    top_n_anime = similar_users_df_ordered.head(items)\n",
    "    top_n_anime_indices = top_n_anime.index.tolist()\n",
    "\n",
    "    anime_information = animes[animes['anime_id'].isin(top_n_anime_indices)]\n",
    "    \n",
    "    return anime_information\n",
    "\n",
    "recommend_item(226, similar_user_indices, rating_matrix)"
   ]
  },
  {
   "cell_type": "markdown",
   "id": "44",
   "metadata": {
    "id": "otdf33wy4pJz"
   },
   "source": [
    "__Observation:__\n",
    "\n",
    "The recommendations shown above were given to the user."
   ]
  }
 ],
 "metadata": {
  "colab": {
   "provenance": []
  },
  "kernelspec": {
   "display_name": "Python 3 (ipykernel)",
   "language": "python",
   "name": "python3"
  },
  "language_info": {
   "codemirror_mode": {
    "name": "ipython",
    "version": 3
   },
   "file_extension": ".py",
   "mimetype": "text/x-python",
   "name": "python",
   "nbconvert_exporter": "python",
   "pygments_lexer": "ipython3",
   "version": "3.11.7"
  }
 },
 "nbformat": 4,
 "nbformat_minor": 5
}
