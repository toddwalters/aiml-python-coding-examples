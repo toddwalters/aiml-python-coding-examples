{
 "cells": [
  {
   "cell_type": "markdown",
   "metadata": {
    "id": "X-FNljggnv4f"
   },
   "source": [
    "## **KNN for Anomaly Detection**"
   ]
  },
  {
   "cell_type": "markdown",
   "metadata": {
    "id": "w8qWfFkLfp9v"
   },
   "source": [
    "## Step 1: Import the Required Libraries and Load the Data\n",
    "\n",
    "- Import the **pandas, NumPy, matplotlib.pyplot, and sklearn.neighbors** libraries\n",
    "- Load the **iris** dataset and create a DataFrame with only **sepal_length** and **sepal_width** columns\n"
   ]
  },
  {
   "cell_type": "code",
   "execution_count": null,
   "metadata": {
    "id": "zCkCG9bTfVBX"
   },
   "outputs": [],
   "source": [
    "import pandas as pd\n",
    "import numpy as np\n",
    "import matplotlib.pyplot as plt\n",
    "from sklearn.neighbors import NearestNeighbors"
   ]
  },
  {
   "cell_type": "code",
   "execution_count": null,
   "metadata": {
    "id": "F29t_n3EfVBZ"
   },
   "outputs": [],
   "source": [
    "data = pd.read_csv(\"https://raw.githubusercontent.com/uiuc-cse/data-fa14/gh-pages/data/iris.csv\")\n",
    "df = data[[\"sepal_length\", \"sepal_width\"]]"
   ]
  },
  {
   "cell_type": "markdown",
   "metadata": {
    "id": "aZ3PJsTXfsgQ"
   },
   "source": [
    "## Step 2: Plot the Input Data\n",
    "\n",
    "- Create a scatterplot of the input data\n"
   ]
  },
  {
   "cell_type": "code",
   "execution_count": null,
   "metadata": {
    "id": "BecpQvSEfVBZ",
    "outputId": "76b6d34f-74b9-4a61-9147-432851ec6a23"
   },
   "outputs": [],
   "source": [
    "plt.scatter(df[\"sepal_length\"], df[\"sepal_width\"])"
   ]
  },
  {
   "cell_type": "markdown",
   "metadata": {
    "id": "5N8x87NAS_n9"
   },
   "source": [
    "__Observations:__\n",
    "- Here, we can see the scatter plot of sepal length and sepal width.\n",
    "- We may observe some anomalies in the data, so let’s try KNN to identify them."
   ]
  },
  {
   "cell_type": "markdown",
   "metadata": {
    "id": "BXvCQM2Qfugi"
   },
   "source": [
    "## Step 3: Instantiate and Fit the Nearest Neighbors Model\n",
    "\n",
    "- Create an array for the input data\n",
    "- Instantiate the NearestNeighbors model with 3 neighbors\n",
    "- Fit the model to the input data"
   ]
  },
  {
   "cell_type": "code",
   "execution_count": null,
   "metadata": {
    "id": "7bEme2H3fVBb"
   },
   "outputs": [],
   "source": [
    "X = df.values"
   ]
  },
  {
   "cell_type": "code",
   "execution_count": null,
   "metadata": {
    "id": "4A8BNFqFfVBb",
    "outputId": "9ccda250-14e4-43b0-a8c4-1e148e607a5c"
   },
   "outputs": [],
   "source": [
    "nbrs = NearestNeighbors(n_neighbors = 3)\n",
    "nbrs.fit(X)"
   ]
  },
  {
   "cell_type": "markdown",
   "metadata": {
    "id": "LA2O5ocKfww6"
   },
   "source": [
    "## Step 4: Calculate the Mean Distances and Determine the Cutoff Value\n",
    "\n",
    "- Get the distances and indexes of the k-nearest neighbors from the model output\n",
    "- Calculate the mean of the k-distances for each observation\n",
    "- Plot the mean distances\n",
    "- Determine the cutoff value for outliers (e.g., > 0.15)\n"
   ]
  },
  {
   "cell_type": "code",
   "execution_count": null,
   "metadata": {
    "id": "QMwPTbfffVBb",
    "outputId": "d09ca294-4759-4474-fa68-593123b88348"
   },
   "outputs": [],
   "source": [
    "distances, indexes = nbrs.kneighbors(X)\n",
    "plt.plot(distances.mean(axis =1))"
   ]
  },
  {
   "cell_type": "markdown",
   "metadata": {
    "id": "j80fNmWHTtDB"
   },
   "source": [
    "__Observations:__\n",
    "- Here, we can see the mean distance from the k-neighbors.\n",
    "- The point above 0.15 is considered an anomaly.\n"
   ]
  },
  {
   "cell_type": "code",
   "execution_count": null,
   "metadata": {
    "id": "TUDrQhaOfVBc",
    "outputId": "cf1418ff-aa47-4a46-b32e-d70c5f79c901"
   },
   "outputs": [],
   "source": [
    "outlier_index = np.where(distances.mean(axis = 1) > 0.15)\n",
    "outlier_index"
   ]
  },
  {
   "cell_type": "markdown",
   "metadata": {
    "id": "TJGF8anaUabu"
   },
   "source": [
    "__Observation:__\n",
    "- These are the arrays that have anomalies."
   ]
  },
  {
   "cell_type": "markdown",
   "metadata": {
    "id": "VisdXy-Xf24T"
   },
   "source": [
    "## Step 5: Filter and Plot the Outlier Values\n",
    "\n",
    "- Filter the outlier values from the original data\n",
    "- Plot the original data and the outlier values in different colors\n"
   ]
  },
  {
   "cell_type": "code",
   "execution_count": null,
   "metadata": {
    "id": "TqCes1iHfVBc",
    "outputId": "31a0a2d4-d86c-4894-98f0-fab2bfb19f90"
   },
   "outputs": [],
   "source": [
    "outlier_values = df.iloc[outlier_index]\n",
    "outlier_values"
   ]
  },
  {
   "cell_type": "markdown",
   "metadata": {
    "id": "bg2XM_GBU8P7"
   },
   "source": [
    "__Observation:__\n",
    "- These are the values of the outliers for the arrays with anomalies."
   ]
  },
  {
   "cell_type": "code",
   "execution_count": null,
   "metadata": {
    "id": "6C1dB8XAfVBc",
    "outputId": "daf9a46a-9161-44b4-bbf3-d715e26270ae"
   },
   "outputs": [],
   "source": [
    "plt.scatter(df[\"sepal_length\"], df[\"sepal_width\"], color = \"b\", s = 65)\n",
    "plt.scatter(outlier_values[\"sepal_length\"], outlier_values[\"sepal_width\"], color = \"r\")"
   ]
  },
  {
   "cell_type": "markdown",
   "metadata": {
    "id": "ndpYLCgRVSZh"
   },
   "source": [
    "__Observations:__\n",
    "- Here, we can see the anomalies using k-nearest neighbor.\n",
    "- The anomalies are highlighted in the scatter plot in red.\n",
    "\n"
   ]
  },
  {
   "cell_type": "code",
   "execution_count": null,
   "metadata": {
    "id": "gedTWbUvfVBc"
   },
   "outputs": [],
   "source": []
  }
 ],
 "metadata": {
  "colab": {
   "provenance": []
  },
  "kernelspec": {
   "display_name": "Python 3 (ipykernel)",
   "language": "python",
   "name": "python3"
  },
  "language_info": {
   "codemirror_mode": {
    "name": "ipython",
    "version": 3
   },
   "file_extension": ".py",
   "mimetype": "text/x-python",
   "name": "python",
   "nbconvert_exporter": "python",
   "pygments_lexer": "ipython3",
   "version": "3.11.7"
  }
 },
 "nbformat": 4,
 "nbformat_minor": 4
}
