{
 "cells": [
  {
   "cell_type": "markdown",
   "metadata": {},
   "source": [
    "\n",
    "# Problem Statement\n",
    "\n",
    "## Effective Prompt Design in GPT\n",
    "\n",
    "At Healthcare Innovations Inc., we’re dedicated to improving healthcare delivery in the commercial sector by combining technology with patient-centered care. Since 2010, we’ve worked with healthcare providers, insurers, and pharma organizations to streamline workflows, enhance patient engagement, and drive better outcomes through innovative solutions like telemedicine, personalized tools, and data analytics.\n",
    "\n",
    "Our goal is simple: to make healthcare more accessible, efficient, and focused on the needs of patients. With a team of experts across medicine, tech, and business, we’re committed to transforming healthcare and improving lives, one solution at a time.\n",
    "\n",
    "\n",
    "Prompt Engineering: It refers to the practice of designing and refining the input prompts given to AI models, such as language models, in order to elicit specific, useful, and accurate responses. The goal is to frame the prompt in a way that guides the AI to generate the desired outcome, whether it’s answering a question, writing content, solving a problem, or performing a task.\n",
    "\n",
    "### Objectives\n",
    "Effective prompt design aims to provide clear, concise instructions that guide users toward accurate inputs, ensuring smooth interaction, adaptability, and clarity for achieving desired outcomes.\n",
    "   "
   ]
  },
  {
   "cell_type": "markdown",
   "metadata": {},
   "source": [
    "## Data Description\n",
    "\n",
    "### Dataset Overview\n",
    "The dataset contains patient information and visit records from healthcare providers. Below is a description of each column in the dataset:\n",
    "\n",
    "- HCP_ID: Unique identifier for each healthcare professional (HCP).\n",
    "- Name: Full name of the healthcare professional.\n",
    "- Specialty: Medical specialty or area of expertise of the healthcare professional (e.g., Cardiology, Pediatrics).\n",
    "- Location: The geographical location of the healthcare professional's practice (e.g., City, State).\n",
    "- Hospital_Affiliation: The name of the hospital or healthcare institution the professional is affiliated with.\n",
    "- Years_of_Experience: The number of years the healthcare professional has been practicing in their specialty.\n",
    "- Patient_Count: The number of patients the healthcare professional is currently seeing or has seen in a certain period.\n",
    "- Engagement_Score: A score representing the level of engagement or interaction of the healthcare professional with the organization or brand.\n",
    "- Email: Email address of the healthcare professional.\n",
    "- Phone_Number: Contact phone number of the healthcare professional.\n",
    "- Last_Interaction_Date: The date of the most recent interaction or communication with the healthcare professional.\n",
    "- Preferred_Contact_Method: The preferred method of contact for the healthcare professional (e.g., Email, Phone, In-person).\n",
    "- Compliance_Flag: A flag indicating whether the healthcare professional is compliant with relevant standards or regulations (e.g., Yes/No, True/False).\n",
    "- Associated_Brand: The name of the brand or company associated with the healthcare professional, if applicable.\n",
    "- Region: The geographical region in which the healthcare professional practices or is located (e.g., North America, Europe)."
   ]
  },
  {
   "cell_type": "code",
   "execution_count": null,
   "metadata": {},
   "outputs": [],
   "source": [
    "!pip install langchain-openai"
   ]
  },
  {
   "cell_type": "code",
   "execution_count": 5,
   "metadata": {},
   "outputs": [],
   "source": [
    "# Importing Necessary Liberaries\n",
    "\n",
    "from langchain_openai import ChatOpenAI\n",
    "import os\n",
    "from langchain_community.document_loaders.csv_loader import CSVLoader\n",
    "import pandas as pd \n",
    "import numpy as np\n",
    "from langchain.prompts import PromptTemplate\n",
    "from langchain.schema.output_parser import StrOutputParser"
   ]
  },
  {
   "cell_type": "markdown",
   "metadata": {},
   "source": [
    "## Step 1: Data Preprocessing\n",
    "\n",
    "### Explanation:\n",
    "- Purpose: Setting up Large Language Model and Loading up dataset\n",
    "  \n",
    "### Steps:\n",
    "1: Setting the OpenAI API Key and Initializing the Chat Model\n",
    "- Set API Key: Configure your OpenAI API key as an environment variable to authenticate requests.\n",
    "- Initialize Model: Create a ChatOpenAI object to interact with GPT-4, enabling the sending and receiving of prompts and responses.\n",
    "\n",
    "2: Reading Data from a CSV File\n",
    "- Read CSV: Use pandas to load data from the CSV file (synthetic_hcp_data_10k.csv) into a DataFrame (data).\n",
    "- Data Access: This allows you to manipulate and analyze the structured data easily.\n",
    "\n",
    "3: Defining a Function to Retrieve Specific Data\n",
    "- Define Function: Create a function (get_HCP_data) to filter the DataFrame based on specific conditions (e.g., matching Name and Email columns).\n",
    "- Return Data: The function returns the subset of data corresponding to the provided name and email.\n"
   ]
  },
  {
   "cell_type": "markdown",
   "metadata": {},
   "source": [
    "Setting up ChatGpt Model\n",
    "- Configures the API key for authentication (you can refer this documentation for getting new api key and understanding how to make openai API calls https://platform.openai.com/docs/quickstart?language-preference=python)"
   ]
  },
  {
   "cell_type": "code",
   "execution_count": 6,
   "metadata": {},
   "outputs": [],
   "source": [
    "# os.environ['OPENAI_API_KEY']= \"your_api_key\"\n",
    "llm=ChatOpenAI(model=\"gpt-4o\")"
   ]
  },
  {
   "cell_type": "markdown",
   "metadata": {},
   "source": [
    "Loading the Data"
   ]
  },
  {
   "cell_type": "code",
   "execution_count": null,
   "metadata": {},
   "outputs": [],
   "source": [
    "file_path = \"Healthcare_Professionals_Data.csv\"\n",
    "\n",
    "data = pd.read_csv(file_path)\n",
    "data.head(5)"
   ]
  },
  {
   "cell_type": "markdown",
   "metadata": {},
   "source": [
    "Defining a Function to Retrieve Specific Data"
   ]
  },
  {
   "cell_type": "code",
   "execution_count": null,
   "metadata": {},
   "outputs": [],
   "source": [
    "def get_HCP_data(doc_name, doc_email):\n",
    "    doc_data = data[(data['Name'] == doc_name) & (data['Email'] == doc_email)]\n",
    "    return doc_data\n",
    "\n",
    "get_HCP_data(\"Eric Clark\", \"jessicareynolds@yahoo.com\")"
   ]
  },
  {
   "cell_type": "markdown",
   "metadata": {},
   "source": [
    "## Steps:\n",
    "### 1. Define Email Drafting Process:\n",
    "- Create a template for an email to invite healthcare providers to a webinar, using placeholders like {doctor_information} and provide styling for response for dynamic content.\n",
    "### 2. Basic Email Generation:\n",
    "- Generate the email by invoking the model chain with the basic template and relevant doctor details.\n",
    "### 3. Enhance Email with Context:\n",
    "- Expand the template with additional context about the company, ensuring professionalism and compliance.\n",
    "### 4. Zero-Shot Learning:\n",
    "- Use the model in a zero-shot setting to generate an email without specific examples, guided by provided context.\n",
    "### 5. Chain of Thought Email Drafting:\n",
    "- Break down the email drafting process into structured steps (objective, recipient, compliance, effectiveness) to guide the model.\n",
    "### 6. Few-Shot Learning:\n",
    "- Include example emails in the template to guide the model on structure, tone, and language for generating compliant emails."
   ]
  },
  {
   "cell_type": "markdown",
   "metadata": {},
   "source": [
    "### Step 1\n",
    "#### Create a simple template that outlines the task, instructing the model to write an email to a healthcare provider about an upcoming webinar on a new drug.\n",
    "### Example 1"
   ]
  },
  {
   "cell_type": "code",
   "execution_count": null,
   "metadata": {},
   "outputs": [],
   "source": [
    "template = \"\"\"\n",
    "Write an email to a healthcare provider about an upcoming webinar on a new drug. \n",
    "\"\"\"\n",
    "\n",
    "chain = llm | StrOutputParser()\n",
    "\n",
    "result = chain.invoke(template)\n",
    "\n",
    "print(result)"
   ]
  },
  {
   "cell_type": "markdown",
   "metadata": {},
   "source": [
    "### Step 1: Example 2"
   ]
  },
  {
   "cell_type": "code",
   "execution_count": null,
   "metadata": {},
   "outputs": [],
   "source": [
    "template = \"\"\"\n",
    "Write an email to a healthcare provider about an upcoming webinar on a new drug. \n",
    "\"\"\"\n",
    "\n",
    "chain = llm | StrOutputParser()\n",
    "\n",
    "result = chain.invoke(template)\n",
    "\n",
    "print(result)"
   ]
  },
  {
   "cell_type": "markdown",
   "metadata": {},
   "source": [
    "### Step 1: Example 3: Styling "
   ]
  },
  {
   "cell_type": "code",
   "execution_count": null,
   "metadata": {},
   "outputs": [],
   "source": [
    "template = \"\"\"\n",
    "Write an email to a healthcare provider about an upcoming webinar on a new drug.\n",
    "Make email more formal \"\"\"\n",
    " \n",
    " \n",
    "chain = llm | StrOutputParser()\n",
    " \n",
    "result = chain.invoke(template)\n",
    " \n",
    "print(result)"
   ]
  },
  {
   "cell_type": "markdown",
   "metadata": {},
   "source": [
    "### Step 2:  Example 1\n",
    "#### Using the basic template, an email is generated by invoking the model chain. The model generates the email content based on the template and context passed in the doctor_information."
   ]
  },
  {
   "cell_type": "code",
   "execution_count": null,
   "metadata": {},
   "outputs": [],
   "source": [
    "doc_name = \"Albert Jones\"\n",
    "\n",
    "doc_email = \"jerry19@yahoo.com\"\n",
    "\n",
    "template = \"\"\"\n",
    "You are drafting an email for a sales representative in a healthcare company. \n",
    "The goal is to invite a healthcare provider to an educational webinar on a newly FDA-approved drug for diabetes management. \n",
    "The tone should be professional, compliant, and informative.\n",
    "{doctor_information}\n",
    "\"\"\"\n",
    "\n",
    "prompt = template.format(doctor_information=get_HCP_data(doc_name, doc_email))\n",
    "\n",
    "chain = llm | StrOutputParser()\n",
    "\n",
    "result = chain.invoke([prompt])\n",
    "\n",
    "print(result)"
   ]
  },
  {
   "cell_type": "markdown",
   "metadata": {},
   "source": [
    "### Step 2: Example 2: "
   ]
  },
  {
   "cell_type": "code",
   "execution_count": null,
   "metadata": {},
   "outputs": [],
   "source": [
    "doc_name = \"John Pittman\"\n",
    "\n",
    "doc_email = \"twilkinson@hotmail.com\"\n",
    "\n",
    "template = \"\"\"\n",
    "You are drafting an email for a sales representative in a healthcare company. \n",
    "The goal is to invite a healthcare provider to an educational webinar on a newly FDA-approved drug for diabetes management. \n",
    "The tone should be professional, compliant, and informative.\n",
    "{doctor_information}\n",
    "\"\"\"\n",
    "\n",
    "prompt = template.format(doctor_information=get_HCP_data(doc_name, doc_email))\n",
    "\n",
    "chain = llm | StrOutputParser()\n",
    "\n",
    "result = chain.invoke([prompt])\n",
    "\n",
    "print(result)"
   ]
  },
  {
   "cell_type": "markdown",
   "metadata": {},
   "source": [
    "### Step 3: Example 1\n",
    "#### Zero-Shot Model Application: The model is used in a zero-shot setting, where it generates an email without having specific examples to learn from. The email is created using the same template but guided by additional context about the company’s mission, the email’s goal, and the tone to use."
   ]
  },
  {
   "cell_type": "code",
   "execution_count": null,
   "metadata": {},
   "outputs": [],
   "source": [
    "doc_name = \"Albert Jones\"\n",
    "\n",
    "doc_email = \"jerry19@yahoo.com\"\n",
    "\n",
    "template = \"\"\"\n",
    "At Healthcare Innovations Inc., we’re dedicated to improving healthcare delivery in the commercial sector by combining technology with patient-centered care. \n",
    "Since 2010, we’ve worked with healthcare providers, insurers, and pharma organizations to streamline workflows, enhance patient engagement, and drive better outcomes through innovative solutions like telemedicine, personalized tools, and data analytics. \n",
    "Our goal is simple: to make healthcare more accessible, efficient, and focused on the needs of patients. With a team of experts across medicine, tech, and business, we’re committed to transforming healthcare and improving lives, one solution at a time.\n",
    "You are drafting an email for a sales representative in a healthcare company. \n",
    "The goal is to invite a healthcare provider to an educational webinar on a newly FDA-approved drug for diabetes management. \n",
    "The tone should be professional, compliant, and informative.\n",
    "\n",
    "NOTE: Do not give Webinar Details. give the doctor name as the sender name \n",
    "{doctor_information}\n",
    "\"\"\"\n",
    "\n",
    "prompt = template.format(doctor_information=get_HCP_data(doc_name, doc_email))\n",
    "\n",
    "chain = llm | StrOutputParser()\n",
    "\n",
    "result = chain.invoke([prompt])\n",
    "\n",
    "print(result)"
   ]
  },
  {
   "cell_type": "markdown",
   "metadata": {},
   "source": [
    "### Step 3: Example 2 "
   ]
  },
  {
   "cell_type": "code",
   "execution_count": null,
   "metadata": {},
   "outputs": [],
   "source": [
    "doc_name = \"Laura Cox\"\n",
    "\n",
    "doc_email = \"chris61@gmail.com\"\n",
    "\n",
    "template = \"\"\"\n",
    "At Healthcare Innovations Inc., we’re dedicated to improving healthcare delivery in the commercial sector by combining technology with patient-centered care. \n",
    "Since 2010, we’ve worked with healthcare providers, insurers, and pharma organizations to streamline workflows, enhance patient engagement, and drive better outcomes through innovative solutions like telemedicine, personalized tools, and data analytics. \n",
    "Our goal is simple: to make healthcare more accessible, efficient, and focused on the needs of patients. With a team of experts across medicine, tech, and business, we’re committed to transforming healthcare and improving lives, one solution at a time.\n",
    "You are drafting an email for a sales representative in a healthcare company. \n",
    "The goal is to invite a healthcare provider to an educational webinar on a newly FDA-approved drug for diabetes management. \n",
    "The tone should be professional, compliant, and informative.\n",
    "\n",
    "NOTE: Do not give Webinar Details. give the doctor name as the sender name \n",
    "{doctor_information}\n",
    "\"\"\"\n",
    "\n",
    "prompt = template.format(doctor_information=get_HCP_data(doc_name, doc_email))\n",
    "\n",
    "chain = llm | StrOutputParser()\n",
    "\n",
    "result = chain.invoke([prompt])\n",
    "\n",
    "print(result)"
   ]
  },
  {
   "cell_type": "markdown",
   "metadata": {},
   "source": [
    "### Step 4: Example 1:\n",
    "#### Chain of Thought Prompting: A chain of thought is applied by breaking down the email drafting process into smaller thought steps, such as the email's objective, recipient, regulatory considerations, and effective communication strategies. These steps guide the model to generate more thoughtful and structured email content."
   ]
  },
  {
   "cell_type": "code",
   "execution_count": null,
   "metadata": {},
   "outputs": [],
   "source": [
    "doc_name = \"Albert Jones\"\n",
    "\n",
    "doc_email = \"jerry19@yahoo.com\"\n",
    "\n",
    "template = \"\"\"\n",
    "Thought 1: What is the primary objective?\n",
    "\n",
    "Need to write a sales email inviting healthcare providers to a webinar\n",
    "Must be compliant with healthcare regulations\n",
    "Focus is on education about new FDA-approved diabetes drug\n",
    "Cannot include specific webinar details\n",
    "\n",
    "Thought 2: Who is involved in this communication?\n",
    "\n",
    "Sender: A doctor from Healthcare Innovations Inc.\n",
    "Recipient: Healthcare providers (potential customers)\n",
    "Context: Company has been in healthcare tech since 2010\n",
    "Relationship: Professional, business-to-business communication\n",
    "\n",
    "Thought 3: What regulatory considerations must be addressed?\n",
    "\n",
    "Cannot make direct product claims\n",
    "Must maintain FDA marketing compliance\n",
    "Need to focus on educational value\n",
    "Should avoid specific medical recommendations\n",
    "\n",
    "Thought 4: What elements will make this email effective?\n",
    "\n",
    "Professional tone establishes credibility\n",
    "Educational focus rather than sales pitch\n",
    "FDA approval mention adds legitimacy\n",
    "Simple response mechanism encourages engagement\n",
    "\n",
    "Thought 5: What potential concerns need to be avoided?\n",
    "\n",
    "Aggressive sales language could deter healthcare professionals\n",
    "Too much technical detail might overwhelm\n",
    "Promotional content could violate regulations\n",
    "Specific claims about outcomes must be avoided\n",
    "\n",
    "NOTE: Do not give Webinar Details. give the doctor name as the sender name \n",
    "\n",
    "{doctor_information}\n",
    "\"\"\"\n",
    "\n",
    "prompt = template.format(doctor_information=get_HCP_data(doc_name, doc_email))\n",
    "\n",
    "chain = llm | StrOutputParser()\n",
    "\n",
    "result = chain.invoke([prompt])\n",
    "\n",
    "print(result)"
   ]
  },
  {
   "cell_type": "markdown",
   "metadata": {},
   "source": [
    "### Step 4: Example 2: "
   ]
  },
  {
   "cell_type": "code",
   "execution_count": null,
   "metadata": {},
   "outputs": [],
   "source": [
    "doc_name = \"Donald Vaughan\"\n",
    "\n",
    "doc_email = \"mccoycalvin@peterson.com\"\n",
    "\n",
    "template = \"\"\"\n",
    "Thought 1: What is the primary objective?\n",
    "\n",
    "Need to write a sales email inviting healthcare providers to a webinar\n",
    "Must be compliant with healthcare regulations\n",
    "Focus is on education about new FDA-approved diabetes drug\n",
    "Cannot include specific webinar details\n",
    "\n",
    "Thought 2: Who is involved in this communication?\n",
    "\n",
    "Sender: A doctor from Healthcare Innovations Inc.\n",
    "Recipient: Healthcare providers (potential customers)\n",
    "Context: Company has been in healthcare tech since 2010\n",
    "Relationship: Professional, business-to-business communication\n",
    "\n",
    "Thought 3: What regulatory considerations must be addressed?\n",
    "\n",
    "Cannot make direct product claims\n",
    "Must maintain FDA marketing compliance\n",
    "Need to focus on educational value\n",
    "Should avoid specific medical recommendations\n",
    "\n",
    "Thought 4: What elements will make this email effective?\n",
    "\n",
    "Professional tone establishes credibility\n",
    "Educational focus rather than sales pitch\n",
    "FDA approval mention adds legitimacy\n",
    "Simple response mechanism encourages engagement\n",
    "\n",
    "Thought 5: What potential concerns need to be avoided?\n",
    "\n",
    "Aggressive sales language could deter healthcare professionals\n",
    "Too much technical detail might overwhelm\n",
    "Promotional content could violate regulations\n",
    "Specific claims about outcomes must be avoided\n",
    "\n",
    "NOTE: Do not give Webinar Details. give the doctor name as the sender name \n",
    "\n",
    "{doctor_information}\n",
    "\"\"\"\n",
    "\n",
    "prompt = template.format(doctor_information=get_HCP_data(doc_name, doc_email))\n",
    "\n",
    "chain = llm | StrOutputParser()\n",
    "\n",
    "result = chain.invoke([prompt])\n",
    "\n",
    "print(result)"
   ]
  },
  {
   "cell_type": "markdown",
   "metadata": {},
   "source": [
    "### Step 5:\n",
    "#### Few-Shot: A set of example emails is included in the template to guide the model on how to construct a compliant and informative email. These examples provide the model with context on structure, tone, and language, ensuring the output aligns with the desired outcome.\n",
    "\n",
    "### Example 1:"
   ]
  },
  {
   "cell_type": "code",
   "execution_count": null,
   "metadata": {},
   "outputs": [],
   "source": [
    "doc_name = \"Albert Jones\"\n",
    "\n",
    "doc_email = \"jerry19@yahoo.com\"\n",
    "\n",
    "template = \"\"\"\n",
    "At Healthcare Innovations Inc., we’re dedicated to improving healthcare delivery in the commercial sector by combining technology with patient-centered care. \n",
    "Since 2010, we’ve worked with healthcare providers, insurers, and pharma organizations to streamline workflows, enhance patient engagement, and drive better outcomes through innovative solutions like telemedicine, personalized tools, and data analytics. \n",
    "Our goal is simple: to make healthcare more accessible, efficient, and focused on the needs of patients. With a team of experts across medicine, tech, and business, we’re committed to transforming healthcare and improving lives, one solution at a time.\n",
    "You are drafting an email for a sales representative in a healthcare company. \n",
    "The goal is to invite a healthcare provider to an educational webinar on a newly FDA-approved drug for diabetes management. \n",
    "The tone should be professional, compliant, and informative.\n",
    "\n",
    "NOTE: Do not give Webinar Details. give the doctor name as the sender name \n",
    "{doctor_information}\n",
    "\n",
    "Example:\n",
    "Name=Peter Lewis, Email=robert27@gonzalez-benjamin.info\n",
    "response=Subject: Discover Cutting-Edge Advancements in Diabetes Treatment\n",
    "Dear Healthcare Professional,\n",
    "I hope this message reaches you in good health and high spirits. My name is Peter Lewis, and I represent Healthcare Innovations Inc., a company at the forefront of healthcare technology since 2010.\n",
    "We are thrilled to invite you to an upcoming webinar focused on the latest FDA-approved advancements in diabetes care. This session will highlight groundbreaking therapies and innovative approaches that can transform patient outcomes.\n",
    "Our aim is to equip you with up-to-date, actionable knowledge that aligns with FDA regulations and enhances your practice. This educational opportunity is perfect for those committed to staying ahead in the ever-evolving field of diabetes management.\n",
    "If this piques your interest, please reply to this email, and I’ll gladly provide additional details on how to join the session.\n",
    "Thank you for your unwavering commitment to improving patient care. I look forward to the possibility of welcoming you to this enriching event.\n",
    "Best regards,\n",
    "Peter Lewis\n",
    "Healthcare Innovations Inc.\n",
    "[robert27@gonzalez-benjamin.info]\n",
    "+1-627-300-0235\n",
    "\n",
    "Name=Stephanie Christensen, Email=larry21@hotmail.com\n",
    "response=Subject: Enhance Your Expertise in Diabetes Care\n",
    "Dear Healthcare Provider,\n",
    "I trust this message finds you well. My name is Stephanie Christensen, and I’m reaching out from Healthcare Innovations Inc., a trusted leader in healthcare solutions for over a decade.\n",
    "We are excited to offer you the chance to participate in a specialized webinar focusing on new, FDA-approved treatments for diabetes. This engaging session is designed to explore emerging therapies and provide practical insights that you can apply directly in your practice.\n",
    "At Healthcare Innovations Inc., we prioritize sharing accurate and reliable information to support healthcare professionals in delivering exceptional patient care. This webinar will equip you with the latest knowledge to stay at the forefront of diabetes treatment advancements.\n",
    "If you’re interested in joining us, simply respond to this email, and I’ll be happy to provide further details about the event.\n",
    "Thank you for your dedication to advancing medical care. I hope to connect with you at the webinar.\n",
    "Warm regards,\n",
    "Stephanie Christensen\n",
    "Healthcare Innovations Inc.\n",
    "[larry21@hotmail.com]\n",
    "766-701-7097\n",
    "\"\"\"\n",
    "\n",
    "prompt = template.format(doctor_information=get_HCP_data(doc_name, doc_email))\n",
    "\n",
    "chain = llm | StrOutputParser()\n",
    "\n",
    "result = chain.invoke([prompt])\n",
    "\n",
    "print(result)"
   ]
  },
  {
   "cell_type": "markdown",
   "metadata": {},
   "source": [
    "### Step 5: Example 2:"
   ]
  },
  {
   "cell_type": "code",
   "execution_count": null,
   "metadata": {},
   "outputs": [],
   "source": [
    "doc_name = \"Alison Flowers\"\n",
    "\n",
    "doc_email = \"vrobinson@flynn.com\"\n",
    "\n",
    "template = \"\"\"\n",
    "At Healthcare Innovations Inc., we’re dedicated to improving healthcare delivery in the commercial sector by combining technology with patient-centered care. \n",
    "Since 2010, we’ve worked with healthcare providers, insurers, and pharma organizations to streamline workflows, enhance patient engagement, and drive better outcomes through innovative solutions like telemedicine, personalized tools, and data analytics. \n",
    "Our goal is simple: to make healthcare more accessible, efficient, and focused on the needs of patients. With a team of experts across medicine, tech, and business, we’re committed to transforming healthcare and improving lives, one solution at a time.\n",
    "You are drafting an email for a sales representative in a healthcare company. \n",
    "The goal is to invite a healthcare provider to an educational webinar on a newly FDA-approved drug for diabetes management. \n",
    "The tone should be professional, compliant, and informative.\n",
    "\n",
    "NOTE: Do not give Webinar Details. give the doctor name as the sender name \n",
    "{doctor_information}\n",
    "\n",
    "Example:\n",
    "Name=Peter Lewis, Email=robert27@gonzalez-benjamin.info\n",
    "response=Subject: Discover Cutting-Edge Advancements in Diabetes Treatment\n",
    "Dear Healthcare Professional,\n",
    "I hope this message reaches you in good health and high spirits. My name is Peter Lewis, and I represent Healthcare Innovations Inc., a company at the forefront of healthcare technology since 2010.\n",
    "We are thrilled to invite you to an upcoming webinar focused on the latest FDA-approved advancements in diabetes care. This session will highlight groundbreaking therapies and innovative approaches that can transform patient outcomes.\n",
    "Our aim is to equip you with up-to-date, actionable knowledge that aligns with FDA regulations and enhances your practice. This educational opportunity is perfect for those committed to staying ahead in the ever-evolving field of diabetes management.\n",
    "If this piques your interest, please reply to this email, and I’ll gladly provide additional details on how to join the session.\n",
    "Thank you for your unwavering commitment to improving patient care. I look forward to the possibility of welcoming you to this enriching event.\n",
    "Best regards,\n",
    "Peter Lewis\n",
    "Healthcare Innovations Inc.\n",
    "[robert27@gonzalez-benjamin.info]\n",
    "+1-627-300-0235\n",
    "\n",
    "Name=Stephanie Christensen, Email=larry21@hotmail.com\n",
    "response=Subject: Enhance Your Expertise in Diabetes Care\n",
    "Dear Healthcare Provider,\n",
    "I trust this message finds you well. My name is Stephanie Christensen, and I’m reaching out from Healthcare Innovations Inc., a trusted leader in healthcare solutions for over a decade.\n",
    "We are excited to offer you the chance to participate in a specialized webinar focusing on new, FDA-approved treatments for diabetes. This engaging session is designed to explore emerging therapies and provide practical insights that you can apply directly in your practice.\n",
    "At Healthcare Innovations Inc., we prioritize sharing accurate and reliable information to support healthcare professionals in delivering exceptional patient care. This webinar will equip you with the latest knowledge to stay at the forefront of diabetes treatment advancements.\n",
    "If you’re interested in joining us, simply respond to this email, and I’ll be happy to provide further details about the event.\n",
    "Thank you for your dedication to advancing medical care. I hope to connect with you at the webinar.\n",
    "Warm regards,\n",
    "Stephanie Christensen\n",
    "Healthcare Innovations Inc.\n",
    "[larry21@hotmail.com]\n",
    "766-701-7097\n",
    "\"\"\"\n",
    "\n",
    "prompt = template.format(doctor_information=get_HCP_data(doc_name, doc_email))\n",
    "\n",
    "chain = llm | StrOutputParser()\n",
    "\n",
    "result = chain.invoke([prompt])\n",
    "\n",
    "print(result)"
   ]
  },
  {
   "cell_type": "markdown",
   "metadata": {},
   "source": [
    "# Conclusion: Email Drafting Process for Healthcare Webinar Invitation\n",
    "## Explanation:\n",
    "- Purpose: Demonstrate the process of generating an email for inviting healthcare providers to a webinar, using dynamic content and contextual information to ensure the email is professional and compliant.\n",
    "## Code Overview:\n",
    "### 1. Define the Email Template:\n",
    "- template = \"\"\"...\"\"\": The email template is created with placeholders for dynamic information (e.g., doctor’s name and email).\n",
    "The template ensures the email has a professional tone, is informative, and compliant with healthcare regulations.\n",
    "### 2. Generate the Email:\n",
    "- chain.invoke([prompt]): This function is used to generate the email by invoking the model with the template and filling in the dynamic content (doctor's information).\n",
    "- The model processes the template, applying contextual information such as the company’s mission and regulatory guidelines to generate the email.\n",
    "### 3. Enhance with Context:\n",
    "- The email generation is enhanced by providing additional context, such as the company’s background, to make the email more personalized and engaging for the recipient.\n",
    "### 4. Zero-Shot and Few-Shot Learning:\n",
    "- Zero-Shot: The model generates the email without prior examples, guided solely by the template and provided context.\n",
    "- Few-Shot: Example emails are included to guide the model in structuring the response, ensuring consistency in tone and format.\n",
    "\n",
    "## Output:\n",
    "- Generated Email: A well-crafted, professional email inviting healthcare providers to a webinar about a new FDA-approved drug, tailored to comply with healthcare regulations.\n",
    "- This process demonstrates how a dynamic, contextually informed email can be generated using a template-based approach, ensuring compliance and professionalism in healthcare communications."
   ]
  },
  {
   "cell_type": "code",
   "execution_count": null,
   "metadata": {},
   "outputs": [],
   "source": []
  }
 ],
 "metadata": {
  "kernelspec": {
   "display_name": "Python 3 [3.10]",
   "language": "python",
   "name": "python3"
  },
  "language_info": {
   "codemirror_mode": {
    "name": "ipython",
    "version": 3
   },
   "file_extension": ".py",
   "mimetype": "text/x-python",
   "name": "python",
   "nbconvert_exporter": "python",
   "pygments_lexer": "ipython3",
   "version": "3.10.2"
  }
 },
 "nbformat": 4,
 "nbformat_minor": 4
}
