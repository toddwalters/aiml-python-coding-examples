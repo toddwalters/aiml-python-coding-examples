{
 "cells": [
  {
   "cell_type": "markdown",
   "metadata": {},
   "source": [
    "# Creating Designs by Leveraging OpenAI and Gradio UI"
   ]
  },
  {
   "cell_type": "markdown",
   "metadata": {},
   "source": [
    "## Overview\n",
    "In this project, we explore how to leverage OpenAI's API (specifically DALL-E) and Gradio's UI\n",
    "to create a platform that generates bespoke images from user-provided text prompts."
   ]
  },
  {
   "cell_type": "markdown",
   "metadata": {},
   "source": [
    "---\n",
    "\n",
    "## 1. Import Essential Libraries\n",
    "\n",
    "We need the following libraries:\n",
    "- openai: for accessing OpenAI's API (DALL-E),\n",
    "- requests: for making HTTP requests to retrieve generated images,\n",
    "- PIL (from Pillow): for manipulating and displaying images,\n",
    "- io.BytesIO: for handling binary data (image files in memory),\n",
    "- gradio: for building a user-friendly web UI."
   ]
  },
  {
   "cell_type": "code",
   "execution_count": null,
   "metadata": {},
   "outputs": [],
   "source": [
    "# !pip install openai gradio  # Uncomment if you need to install in a fresh environment\n",
    "\n",
    "import os\n",
    "from dotenv import load_dotenv\n",
    "from openai import OpenAI\n",
    "import gradio as gr\n",
    "import requests\n",
    "from PIL import Image\n",
    "from io import BytesIO\n",
    "import logging\n",
    "import traceback"
   ]
  },
  {
   "cell_type": "code",
   "execution_count": 2,
   "metadata": {},
   "outputs": [],
   "source": [
    "# Set up logging for debugging\n",
    "logging.basicConfig(level=logging.DEBUG)"
   ]
  },
  {
   "cell_type": "markdown",
   "metadata": {},
   "source": [
    "---\n",
    "\n",
    "## 2. Configure OpenAI API Key\n",
    "\n",
    "Your API key is required for authenticating requests to OpenAI."
   ]
  },
  {
   "cell_type": "code",
   "execution_count": null,
   "metadata": {},
   "outputs": [],
   "source": [
    "load_dotenv(verbose=True, dotenv_path='.env', override=True)\n",
    "\n",
    "# Retrieve the API key from the environment\n",
    "api_key = os.getenv('OPENAI_API_KEY')\n",
    "\n",
    "if not api_key:\n",
    "    raise ValueError(\"API key not found. Please ensure 'OPENAI_API_KEY' is set in your .env file.\")\n",
    "\n",
    "# Create the OpenAI client with the API key\n",
    "\n",
    "client = OpenAI(api_key=os.getenv('OPENAI_API_KEY'))\n",
    "\n",
    "def test_openai_api():\n",
    "    try:\n",
    "        # Create a chat completion\n",
    "        response = client.chat.completions.create(\n",
    "            model=\"gpt-4\",\n",
    "            messages=[\n",
    "                {\"role\": \"user\", \"content\": \"Say this is a test\"},\n",
    "            ],\n",
    "        )\n",
    "        # Print the response content\n",
    "        print(response.choices[0].message.content)\n",
    "    except Exception as e:\n",
    "        print(f\"An error occurred: {e}\")\n",
    "\n",
    "# Run the test function\n",
    "test_openai_api()"
   ]
  },
  {
   "cell_type": "markdown",
   "metadata": {},
   "source": [
    "---\n",
    "\n",
    "## 3. Define the Image Generation Function\n",
    "\n",
    "This function takes a text prompt, calls DALL-E to generate an image, \n",
    "retrieves the image from the returned URL, and returns it as a Pillow Image object."
   ]
  },
  {
   "cell_type": "code",
   "execution_count": null,
   "metadata": {},
   "outputs": [],
   "source": [
    "import requests\n",
    "from PIL import Image\n",
    "from io import BytesIO\n",
    "\n",
    "def generate_image(prompt):\n",
    "    \"\"\"\n",
    "    Generates an image based on the specified text prompt using OpenAI's image generation API.\n",
    "\n",
    "    Args:\n",
    "        prompt (str): The text prompt describing the desired image.\n",
    "\n",
    "    Returns:\n",
    "        PIL.Image: A PIL image generated from the prompt.\n",
    "    \"\"\"\n",
    "    try:\n",
    "        # Validate the prompt input\n",
    "        if not prompt.strip():\n",
    "            raise ValueError(\"Prompt cannot be empty.\")\n",
    "\n",
    "        # Call OpenAI to create the image\n",
    "        response = client.images.generate(\n",
    "            model='dall-e-3',\n",
    "            prompt=prompt,\n",
    "            size=\"512x512\",\n",
    "            quality=\"standard\",\n",
    "            n=1,\n",
    "        )\n",
    "\n",
    "        # Extract the image URL from the response\n",
    "        image_url = response.data[0].url\n",
    "        # print(f\"Image URL: {image_url}\")\n",
    "\n",
    "        # Fetch the image from the URL\n",
    "        image_response = requests.get(image_url)\n",
    "        image_response.raise_for_status()  # Raise an error for bad status codes\n",
    "\n",
    "        # Convert the image to a PIL object and return\n",
    "        img = Image.open(BytesIO(image_response.content))\n",
    "        return img\n",
    "\n",
    "    except Exception as e:\n",
    "        # Log the error and return a placeholder image\n",
    "        print(f\"Error: {e}\")\n",
    "        return create_error_image(str(e))\n",
    "\n",
    "\n",
    "def create_error_image(message):\n",
    "    \"\"\"\n",
    "    Creates a placeholder image with an error message.\n",
    "    \"\"\"\n",
    "    from PIL import ImageDraw\n",
    "\n",
    "    img = Image.new('RGB', (512, 512), color=(255, 0, 0))  # Red background\n",
    "    draw = ImageDraw.Draw(img)\n",
    "    draw.text((10, 10), f\"Error: {message}\", fill=(255, 255, 255))  # White text\n",
    "    return img"
   ]
  },
  {
   "cell_type": "code",
   "execution_count": null,
   "metadata": {},
   "outputs": [],
   "source": [
    "# prompt=\"A surreal landscape with floating islands and a pink sky\"\n",
    "# img = generate_image(prompt)\n",
    "# display(img)"
   ]
  },
  {
   "cell_type": "markdown",
   "metadata": {},
   "source": [
    "---\n",
    "\n",
    "## 4. Create the Gradio Interface\n",
    "\n",
    "We'll set up a Gradio interface with:\n",
    "- A text input box for the user prompt\n",
    "- An image output to display the generated image"
   ]
  },
  {
   "cell_type": "code",
   "execution_count": null,
   "metadata": {},
   "outputs": [],
   "source": [
    "# Set up the Gradio interface\n",
    "interface = gr.Interface(\n",
    "    fn=generate_image,     # The function that handles generation\n",
    "    inputs=\"text\",         # We'll take a simple text string as input\n",
    "    outputs=\"image\",       # We'll return a generated image\n",
    "    title=\"AI-Generated Designs for Netflix Campaigns\",\n",
    "    description=(\n",
    "        \"Enter a detailed text prompt describing the design you'd like to see. \"\n",
    "        \"For instance, 'a futuristic cityscape with neon lights, in the style of cyberpunk' \"\n",
    "        \"or 'a minimalist poster featuring a detective theme for a new Netflix series.'\"\n",
    "    )\n",
    ")"
   ]
  },
  {
   "cell_type": "markdown",
   "metadata": {},
   "source": [
    "---\n",
    "\n",
    "## 5. Launch the Gradio Interface\n",
    "\n",
    "Running `launch()` will start a local web server (and display a shareable link in some environments).\n",
    "Clicking the link will open the Gradio interface where you can enter prompts and see generated images."
   ]
  },
  {
   "cell_type": "code",
   "execution_count": null,
   "metadata": {},
   "outputs": [],
   "source": [
    "interface.launch()"
   ]
  },
  {
   "cell_type": "markdown",
   "metadata": {},
   "source": [
    "---\n",
    "\n",
    "## Result\n",
    "\n",
    "By completing this notebook, I have illustrated the powerful synergy between OpenAI’s DALL-E\n",
    "and Gradio’s UI. This platform enables designers to quickly prototype and generate custom \n",
    "visual content for high-profile marketing campaigns, such as those by Netflix."
   ]
  }
 ],
 "metadata": {
  "kernelspec": {
   "display_name": "1720693600_20241227_v2",
   "language": "python",
   "name": "python3"
  },
  "language_info": {
   "codemirror_mode": {
    "name": "ipython",
    "version": 3
   },
   "file_extension": ".py",
   "mimetype": "text/x-python",
   "name": "python",
   "nbconvert_exporter": "python",
   "pygments_lexer": "ipython3",
   "version": "3.10.12"
  }
 },
 "nbformat": 4,
 "nbformat_minor": 2
}
