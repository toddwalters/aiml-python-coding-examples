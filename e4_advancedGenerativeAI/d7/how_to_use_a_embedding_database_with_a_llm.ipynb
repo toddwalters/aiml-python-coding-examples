{
  "cells": [
    {
      "cell_type": "code",
      "execution_count": null,
      "id": "e40c73b9",
      "metadata": {
        "execution": {
          "iopub.execute_input": "2024-07-12T16:06:46.231579Z",
          "iopub.status.busy": "2024-07-12T16:06:46.231145Z",
          "iopub.status.idle": "2024-07-12T16:07:16.752439Z",
          "shell.execute_reply": "2024-07-12T16:07:16.750816Z"
        },
        "papermill": {
          "duration": 30.537837,
          "end_time": "2024-07-12T16:07:16.755336",
          "exception": false,
          "start_time": "2024-07-12T16:06:46.217499",
          "status": "completed"
        },
        "tags": [],
        "id": "e40c73b9"
      },
      "outputs": [],
      "source": [
        "!pip install -q transformers==4.41.2"
      ]
    },
    {
      "cell_type": "code",
      "execution_count": null,
      "id": "9225070c",
      "metadata": {
        "execution": {
          "iopub.execute_input": "2024-07-12T16:07:16.784028Z",
          "iopub.status.busy": "2024-07-12T16:07:16.783606Z",
          "iopub.status.idle": "2024-07-12T16:08:28.459947Z",
          "shell.execute_reply": "2024-07-12T16:08:28.458693Z"
        },
        "papermill": {
          "duration": 71.693563,
          "end_time": "2024-07-12T16:08:28.462852",
          "exception": false,
          "start_time": "2024-07-12T16:07:16.769289",
          "status": "completed"
        },
        "scrolled": true,
        "tags": [],
        "id": "9225070c"
      },
      "outputs": [],
      "source": [
        "!pip install -q sentence-transformers==2.2.2\n",
        "#!pip install -q xformers==0.0.23\n",
        "!pip install -q chromadb==0.4.20"
      ]
    },
    {
      "cell_type": "code",
      "execution_count": null,
      "id": "8448ce50",
      "metadata": {
        "execution": {
          "iopub.execute_input": "2024-07-12T16:08:28.516764Z",
          "iopub.status.busy": "2024-07-12T16:08:28.516327Z",
          "iopub.status.idle": "2024-07-12T16:08:28.522026Z",
          "shell.execute_reply": "2024-07-12T16:08:28.520939Z"
        },
        "papermill": {
          "duration": 0.02294,
          "end_time": "2024-07-12T16:08:28.524409",
          "exception": false,
          "start_time": "2024-07-12T16:08:28.501469",
          "status": "completed"
        },
        "tags": [],
        "id": "8448ce50"
      },
      "outputs": [],
      "source": [
        "import numpy as np\n",
        "import pandas as pd"
      ]
    },
    {
      "cell_type": "code",
      "execution_count": null,
      "id": "04db13e2",
      "metadata": {
        "execution": {
          "iopub.execute_input": "2024-07-12T16:08:28.577398Z",
          "iopub.status.busy": "2024-07-12T16:08:28.576984Z",
          "iopub.status.idle": "2024-07-12T16:08:29.513016Z",
          "shell.execute_reply": "2024-07-12T16:08:29.511863Z"
        },
        "papermill": {
          "duration": 0.952812,
          "end_time": "2024-07-12T16:08:29.515785",
          "exception": false,
          "start_time": "2024-07-12T16:08:28.562973",
          "status": "completed"
        },
        "tags": [],
        "id": "04db13e2"
      },
      "outputs": [],
      "source": [
        "news = pd.read_csv('labelled_newscatcher_dataset.csv', sep=';')\n",
        "MAX_NEWS = 1000\n",
        "DOCUMENT=\"title\"\n",
        "TOPIC=\"topic\"\n"
      ]
    },
    {
      "cell_type": "markdown",
      "id": "549c36c3",
      "metadata": {
        "papermill": {
          "duration": 0.012361,
          "end_time": "2024-07-12T16:08:29.540904",
          "exception": false,
          "start_time": "2024-07-12T16:08:29.528543",
          "status": "completed"
        },
        "tags": [],
        "id": "549c36c3"
      },
      "source": [
        "ChromaDB requires that the data has a unique identifier. We can make it with this statement, which will create a new column called **Id**.\n"
      ]
    },
    {
      "cell_type": "code",
      "execution_count": null,
      "id": "52a7e9f7",
      "metadata": {
        "execution": {
          "iopub.execute_input": "2024-07-12T16:08:29.568185Z",
          "iopub.status.busy": "2024-07-12T16:08:29.567767Z",
          "iopub.status.idle": "2024-07-12T16:08:29.594511Z",
          "shell.execute_reply": "2024-07-12T16:08:29.593509Z"
        },
        "papermill": {
          "duration": 0.043406,
          "end_time": "2024-07-12T16:08:29.596982",
          "exception": false,
          "start_time": "2024-07-12T16:08:29.553576",
          "status": "completed"
        },
        "tags": [],
        "id": "52a7e9f7"
      },
      "outputs": [],
      "source": [
        "news[\"id\"] = news.index\n",
        "news.head()"
      ]
    },
    {
      "cell_type": "code",
      "execution_count": null,
      "id": "9d2d90f0",
      "metadata": {
        "execution": {
          "iopub.execute_input": "2024-07-12T16:08:29.6249Z",
          "iopub.status.busy": "2024-07-12T16:08:29.624494Z",
          "iopub.status.idle": "2024-07-12T16:08:29.629882Z",
          "shell.execute_reply": "2024-07-12T16:08:29.62879Z"
        },
        "papermill": {
          "duration": 0.022406,
          "end_time": "2024-07-12T16:08:29.632353",
          "exception": false,
          "start_time": "2024-07-12T16:08:29.609947",
          "status": "completed"
        },
        "tags": [],
        "id": "9d2d90f0"
      },
      "outputs": [],
      "source": [
        "subset_news = news.head(MAX_NEWS)"
      ]
    },
    {
      "cell_type": "code",
      "execution_count": null,
      "id": "82035556",
      "metadata": {
        "execution": {
          "iopub.execute_input": "2024-07-12T16:08:29.686168Z",
          "iopub.status.busy": "2024-07-12T16:08:29.685736Z",
          "iopub.status.idle": "2024-07-12T16:08:30.542685Z",
          "shell.execute_reply": "2024-07-12T16:08:30.541615Z"
        },
        "papermill": {
          "duration": 0.874542,
          "end_time": "2024-07-12T16:08:30.546158",
          "exception": false,
          "start_time": "2024-07-12T16:08:29.671616",
          "status": "completed"
        },
        "tags": [],
        "id": "82035556"
      },
      "outputs": [],
      "source": [
        "import chromadb\n",
        "from chromadb.config import Settings"
      ]
    },
    {
      "cell_type": "code",
      "execution_count": null,
      "id": "eee78a0f",
      "metadata": {
        "execution": {
          "iopub.execute_input": "2024-07-12T16:08:30.613693Z",
          "iopub.status.busy": "2024-07-12T16:08:30.612549Z",
          "iopub.status.idle": "2024-07-12T16:08:31.202842Z",
          "shell.execute_reply": "2024-07-12T16:08:31.201676Z"
        },
        "papermill": {
          "duration": 0.613695,
          "end_time": "2024-07-12T16:08:31.206102",
          "exception": false,
          "start_time": "2024-07-12T16:08:30.592407",
          "status": "completed"
        },
        "tags": [],
        "id": "eee78a0f"
      },
      "outputs": [],
      "source": [
        "chroma_client = chromadb.PersistentClient(path=\"/path/to/persist/directory\")"
      ]
    },
    {
      "cell_type": "code",
      "execution_count": null,
      "id": "d41b73cc",
      "metadata": {
        "execution": {
          "iopub.execute_input": "2024-07-12T16:08:31.266281Z",
          "iopub.status.busy": "2024-07-12T16:08:31.265328Z",
          "iopub.status.idle": "2024-07-12T16:08:31.270639Z",
          "shell.execute_reply": "2024-07-12T16:08:31.26957Z"
        },
        "papermill": {
          "duration": 0.023518,
          "end_time": "2024-07-12T16:08:31.273489",
          "exception": false,
          "start_time": "2024-07-12T16:08:31.249971",
          "status": "completed"
        },
        "tags": [],
        "id": "d41b73cc"
      },
      "outputs": [],
      "source": [
        "from datetime import datetime"
      ]
    },
    {
      "cell_type": "code",
      "execution_count": null,
      "id": "9ae2ef8d",
      "metadata": {
        "execution": {
          "iopub.execute_input": "2024-07-12T16:08:31.311254Z",
          "iopub.status.busy": "2024-07-12T16:08:31.31082Z",
          "iopub.status.idle": "2024-07-12T16:08:31.372055Z",
          "shell.execute_reply": "2024-07-12T16:08:31.370847Z"
        },
        "papermill": {
          "duration": 0.083165,
          "end_time": "2024-07-12T16:08:31.375242",
          "exception": false,
          "start_time": "2024-07-12T16:08:31.292077",
          "status": "completed"
        },
        "tags": [],
        "id": "9ae2ef8d"
      },
      "outputs": [],
      "source": [
        "collection_name = \"news_collection\"+datetime.now().strftime(\"%s\")\n",
        "if len(chroma_client.list_collections()) > 0 and collection_name in [chroma_client.list_collections()[0].name]:\n",
        "        chroma_client.delete_collection(name=collection_name)\n",
        "\n",
        "collection = chroma_client.create_collection(name=collection_name)\n"
      ]
    },
    {
      "cell_type": "code",
      "execution_count": null,
      "id": "1ac852b1",
      "metadata": {
        "execution": {
          "iopub.execute_input": "2024-07-12T16:08:31.452981Z",
          "iopub.status.busy": "2024-07-12T16:08:31.452434Z",
          "iopub.status.idle": "2024-07-12T16:09:48.217981Z",
          "shell.execute_reply": "2024-07-12T16:09:48.216949Z"
        },
        "papermill": {
          "duration": 76.789481,
          "end_time": "2024-07-12T16:09:48.220779",
          "exception": false,
          "start_time": "2024-07-12T16:08:31.431298",
          "status": "completed"
        },
        "tags": [],
        "id": "1ac852b1"
      },
      "outputs": [],
      "source": [
        "collection.add(\n",
        "    documents=subset_news[DOCUMENT].tolist(),\n",
        "    metadatas=[{TOPIC: topic} for topic in subset_news[TOPIC].tolist()],\n",
        "    ids=[f\"id{x}\" for x in range(MAX_NEWS)],\n",
        ")"
      ]
    },
    {
      "cell_type": "code",
      "execution_count": null,
      "id": "1d5c788e",
      "metadata": {
        "execution": {
          "iopub.execute_input": "2024-07-12T16:09:48.257951Z",
          "iopub.status.busy": "2024-07-12T16:09:48.25752Z",
          "iopub.status.idle": "2024-07-12T16:09:48.377993Z",
          "shell.execute_reply": "2024-07-12T16:09:48.376725Z"
        },
        "papermill": {
          "duration": 0.142327,
          "end_time": "2024-07-12T16:09:48.380548",
          "exception": false,
          "start_time": "2024-07-12T16:09:48.238221",
          "status": "completed"
        },
        "tags": [],
        "id": "1d5c788e"
      },
      "outputs": [],
      "source": [
        "results = collection.query(query_texts=[\"laptop\"], n_results=10 )\n",
        "\n",
        "print(results)"
      ]
    },
    {
      "cell_type": "markdown",
      "id": "51a57488",
      "metadata": {
        "papermill": {
          "duration": 0.017367,
          "end_time": "2024-07-12T16:09:48.415601",
          "exception": false,
          "start_time": "2024-07-12T16:09:48.398234",
          "status": "completed"
        },
        "tags": [],
        "id": "51a57488"
      },
      "source": [
        "## Vector MAP"
      ]
    },
    {
      "cell_type": "code",
      "execution_count": null,
      "id": "8a6d987a",
      "metadata": {
        "execution": {
          "iopub.execute_input": "2024-07-12T16:09:48.453093Z",
          "iopub.status.busy": "2024-07-12T16:09:48.452117Z",
          "iopub.status.idle": "2024-07-12T16:09:49.624769Z",
          "shell.execute_reply": "2024-07-12T16:09:49.623594Z"
        },
        "papermill": {
          "duration": 1.194434,
          "end_time": "2024-07-12T16:09:49.627701",
          "exception": false,
          "start_time": "2024-07-12T16:09:48.433267",
          "status": "completed"
        },
        "tags": [],
        "id": "8a6d987a"
      },
      "outputs": [],
      "source": [
        "import matplotlib.pyplot as plt\n",
        "from sklearn.decomposition import PCA"
      ]
    },
    {
      "cell_type": "code",
      "execution_count": null,
      "id": "bd7decf3",
      "metadata": {
        "execution": {
          "iopub.execute_input": "2024-07-12T16:09:49.665205Z",
          "iopub.status.busy": "2024-07-12T16:09:49.664783Z",
          "iopub.status.idle": "2024-07-12T16:09:49.672432Z",
          "shell.execute_reply": "2024-07-12T16:09:49.671525Z"
        },
        "papermill": {
          "duration": 0.029261,
          "end_time": "2024-07-12T16:09:49.67479",
          "exception": false,
          "start_time": "2024-07-12T16:09:49.645529",
          "status": "completed"
        },
        "tags": [],
        "id": "bd7decf3"
      },
      "outputs": [],
      "source": [
        "getado = collection.get(ids=\"id141\",\n",
        "                       include=[\"documents\", \"embeddings\"])\n"
      ]
    },
    {
      "cell_type": "code",
      "execution_count": null,
      "id": "a9e07e01",
      "metadata": {
        "_kg_hide-output": true,
        "execution": {
          "iopub.execute_input": "2024-07-12T16:09:49.711316Z",
          "iopub.status.busy": "2024-07-12T16:09:49.71092Z",
          "iopub.status.idle": "2024-07-12T16:09:49.723984Z",
          "shell.execute_reply": "2024-07-12T16:09:49.722853Z"
        },
        "papermill": {
          "duration": 0.034424,
          "end_time": "2024-07-12T16:09:49.72658",
          "exception": false,
          "start_time": "2024-07-12T16:09:49.692156",
          "status": "completed"
        },
        "scrolled": true,
        "tags": [],
        "id": "a9e07e01"
      },
      "outputs": [],
      "source": [
        "word_vectors = getado[\"embeddings\"]\n",
        "word_list = getado[\"documents\"]\n",
        "word_vectors"
      ]
    },
    {
      "cell_type": "code",
      "execution_count": null,
      "id": "302fa173",
      "metadata": {
        "execution": {
          "iopub.execute_input": "2024-07-12T16:09:49.836569Z",
          "iopub.status.busy": "2024-07-12T16:09:49.835514Z",
          "iopub.status.idle": "2024-07-12T16:10:42.741119Z",
          "shell.execute_reply": "2024-07-12T16:10:42.73997Z"
        },
        "papermill": {
          "duration": 52.928172,
          "end_time": "2024-07-12T16:10:42.744425",
          "exception": false,
          "start_time": "2024-07-12T16:09:49.816253",
          "status": "completed"
        },
        "tags": [],
        "id": "302fa173"
      },
      "outputs": [],
      "source": [
        "from transformers import AutoTokenizer, AutoModelForCausalLM, pipeline\n",
        "\n",
        "model_id = \"TinyLlama/TinyLlama-1.1B-Chat-v1.0\"\n",
        "tokenizer = AutoTokenizer.from_pretrained(model_id)\n",
        "lm_model = AutoModelForCausalLM.from_pretrained(model_id)"
      ]
    },
    {
      "cell_type": "code",
      "execution_count": null,
      "id": "557e9cce",
      "metadata": {
        "execution": {
          "iopub.execute_input": "2024-07-12T16:10:42.826013Z",
          "iopub.status.busy": "2024-07-12T16:10:42.825179Z",
          "iopub.status.idle": "2024-07-12T16:10:42.831258Z",
          "shell.execute_reply": "2024-07-12T16:10:42.830194Z"
        },
        "papermill": {
          "duration": 0.029775,
          "end_time": "2024-07-12T16:10:42.833699",
          "exception": false,
          "start_time": "2024-07-12T16:10:42.803924",
          "status": "completed"
        },
        "tags": [],
        "id": "557e9cce"
      },
      "outputs": [],
      "source": [
        "pipe = pipeline(\n",
        "    \"text-generation\",\n",
        "    model=lm_model,\n",
        "    tokenizer=tokenizer,\n",
        "    max_new_tokens=256,\n",
        "    device_map=\"auto\",\n",
        ")"
      ]
    },
    {
      "cell_type": "code",
      "execution_count": null,
      "id": "50cf6013",
      "metadata": {
        "execution": {
          "iopub.execute_input": "2024-07-12T16:10:42.912851Z",
          "iopub.status.busy": "2024-07-12T16:10:42.91246Z",
          "iopub.status.idle": "2024-07-12T16:10:42.921178Z",
          "shell.execute_reply": "2024-07-12T16:10:42.920081Z"
        },
        "papermill": {
          "duration": 0.031766,
          "end_time": "2024-07-12T16:10:42.923488",
          "exception": false,
          "start_time": "2024-07-12T16:10:42.891722",
          "status": "completed"
        },
        "tags": [],
        "id": "50cf6013"
      },
      "outputs": [],
      "source": [
        "question = \"Can I buy a new Toshiba laptop?\"\n",
        "context = \" \".join([f\"#{str(i)}\" for i in results[\"documents\"][0]])\n",
        "prompt_template = f\"\"\"\n",
        "Relevant context: {context}\n",
        "Considering the relevant context, answer the question.\n",
        "Question: {question}\n",
        "Answer: \"\"\"\n",
        "prompt_template"
      ]
    },
    {
      "cell_type": "code",
      "execution_count": null,
      "id": "8a9a2511",
      "metadata": {
        "execution": {
          "iopub.execute_input": "2024-07-12T16:10:43.004278Z",
          "iopub.status.busy": "2024-07-12T16:10:43.003859Z",
          "iopub.status.idle": "2024-07-12T16:10:55.374325Z",
          "shell.execute_reply": "2024-07-12T16:10:55.373189Z"
        },
        "papermill": {
          "duration": 12.394809,
          "end_time": "2024-07-12T16:10:55.377008",
          "exception": false,
          "start_time": "2024-07-12T16:10:42.982199",
          "status": "completed"
        },
        "tags": [],
        "id": "8a9a2511"
      },
      "outputs": [],
      "source": [
        "lm_response = pipe(prompt_template)\n",
        "print(lm_response[0][\"generated_text\"])"
      ]
    }
  ],
  "metadata": {
    "kaggle": {
      "accelerator": "none",
      "dataSources": [
        {
          "databundleVersionId": 9096686,
          "datasetId": 1977878,
          "sourceId": 8934230,
          "sourceType": "datasetVersion"
        },
        {
          "databundleVersionId": 6183126,
          "datasetId": 3496946,
          "sourceId": 6104553,
          "sourceType": "datasetVersion"
        },
        {
          "databundleVersionId": 1461511,
          "datasetId": 836401,
          "sourceId": 1428159,
          "sourceType": "datasetVersion"
        }
      ],
      "dockerImageVersionId": 30527,
      "isGpuEnabled": false,
      "isInternetEnabled": true,
      "language": "python",
      "sourceType": "notebook"
    },
    "kernelspec": {
      "display_name": "Python 3",
      "language": "python",
      "name": "python3"
    },
    "language_info": {
      "codemirror_mode": {
        "name": "ipython",
        "version": 3
      },
      "file_extension": ".py",
      "mimetype": "text/x-python",
      "name": "python",
      "nbconvert_exporter": "python",
      "pygments_lexer": "ipython3",
      "version": "3.10.12"
    },
    "papermill": {
      "default_parameters": {},
      "duration": 264.244307,
      "end_time": "2024-07-12T16:10:58.241005",
      "environment_variables": {},
      "exception": null,
      "input_path": "__notebook__.ipynb",
      "output_path": "__notebook__.ipynb",
      "parameters": {},
      "start_time": "2024-07-12T16:06:33.996698",
      "version": "2.4.0"
    },
    "colab": {
      "provenance": []
    }
  },
  "nbformat": 4,
  "nbformat_minor": 5
}