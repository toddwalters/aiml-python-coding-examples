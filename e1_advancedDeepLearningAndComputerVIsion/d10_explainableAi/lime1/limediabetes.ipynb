{
 "cells": [
  {
   "cell_type": "code",
   "execution_count": null,
   "metadata": {
    "id": "BloTASV4oC-5"
   },
   "outputs": [],
   "source": []
  },
  {
   "cell_type": "markdown",
   "metadata": {
    "id": "D7GnjhH3oVO1"
   },
   "source": [
    "**LIME (Local Interpretable Model -agnostic Explanations)**"
   ]
  },
  {
   "cell_type": "code",
   "execution_count": null,
   "metadata": {
    "id": "aly_or55o6rU"
   },
   "outputs": [],
   "source": [
    "import pandas as pd\n",
    "import numpy as np\n",
    "import matplotlib.pyplot as plt\n"
   ]
  },
  {
   "cell_type": "code",
   "execution_count": null,
   "metadata": {
    "id": "56fq5Sgro6t8"
   },
   "outputs": [],
   "source": [
    "df = pd.read_csv('diabetes.csv')"
   ]
  },
  {
   "cell_type": "code",
   "execution_count": null,
   "metadata": {
    "colab": {
     "base_uri": "https://localhost:8080/",
     "height": 206
    },
    "id": "IJClGZWGo6w1",
    "outputId": "17b6f704-ab1f-4635-91ee-e68609078d46"
   },
   "outputs": [],
   "source": [
    "df.head()"
   ]
  },
  {
   "cell_type": "code",
   "execution_count": null,
   "metadata": {
    "colab": {
     "base_uri": "https://localhost:8080/"
    },
    "id": "aipMUDVHo6zn",
    "outputId": "2eda009c-51b3-4474-b5c7-9703f80d21d1"
   },
   "outputs": [],
   "source": [
    "df.shape"
   ]
  },
  {
   "cell_type": "code",
   "execution_count": null,
   "metadata": {
    "colab": {
     "base_uri": "https://localhost:8080/"
    },
    "id": "OTrY9H2Mo62e",
    "outputId": "9505554f-2e51-4ba2-d776-08cea6a4aac7"
   },
   "outputs": [],
   "source": [
    "df.columns"
   ]
  },
  {
   "cell_type": "code",
   "execution_count": null,
   "metadata": {
    "colab": {
     "base_uri": "https://localhost:8080/",
     "height": 178
    },
    "id": "Ypf9LpmZxegP",
    "outputId": "cdf886f8-30c0-4e11-badc-8e9bc8c3eeee"
   },
   "outputs": [],
   "source": [
    "df.Outcome.value_counts()"
   ]
  },
  {
   "cell_type": "code",
   "execution_count": null,
   "metadata": {
    "id": "6x_F5pnQo65p"
   },
   "outputs": [],
   "source": [
    "X = df[['Pregnancies', 'Glucose', 'BloodPressure', 'SkinThickness', 'Insulin',\n",
    "       'BMI', 'DiabetesPedigreeFunction', 'Age']]\n",
    "\n",
    "y = df[['Outcome']]"
   ]
  },
  {
   "cell_type": "code",
   "execution_count": null,
   "metadata": {
    "id": "xH_FUSCXpj0Q"
   },
   "outputs": [],
   "source": [
    "from sklearn.model_selection import train_test_split\n",
    "X_train, X_test, y_train, y_test = train_test_split(X, y, train_size=0.8, random_state=123)"
   ]
  },
  {
   "cell_type": "code",
   "execution_count": null,
   "metadata": {
    "colab": {
     "base_uri": "https://localhost:8080/"
    },
    "id": "r45h1LPbEMCK",
    "outputId": "b966e829-3a49-4fd3-cdcf-351bbe6326b3"
   },
   "outputs": [],
   "source": [
    "X_test.shape"
   ]
  },
  {
   "cell_type": "code",
   "execution_count": null,
   "metadata": {
    "colab": {
     "base_uri": "https://localhost:8080/",
     "height": 248
    },
    "id": "9E5uUs3IprPz",
    "outputId": "2c613a3a-17d6-4955-bf05-da4033db7cd9"
   },
   "outputs": [],
   "source": [
    "# Xgboost Classifier\n",
    "from xgboost import XGBClassifier\n",
    "xgb = XGBClassifier()\n",
    "xgb.fit(X_train, y_train)"
   ]
  },
  {
   "cell_type": "code",
   "execution_count": null,
   "metadata": {
    "colab": {
     "base_uri": "https://localhost:8080/",
     "height": 74
    },
    "id": "IjajdXAXW-rq",
    "outputId": "02223bfa-a5c1-4444-852a-882808641e3d"
   },
   "outputs": [],
   "source": [
    "# Decision Tree Classifier\n",
    "from sklearn.tree import DecisionTreeClassifier\n",
    "tree = DecisionTreeClassifier(max_depth=5)\n",
    "tree.fit(X_train, y_train)"
   ]
  },
  {
   "cell_type": "code",
   "execution_count": null,
   "metadata": {
    "id": "9Rc20U9ip2Gs"
   },
   "outputs": [],
   "source": [
    "import pickle\n",
    "pickle.dump(xgb, open('xgb.pkl', 'wb'))"
   ]
  },
  {
   "cell_type": "code",
   "execution_count": null,
   "metadata": {
    "colab": {
     "base_uri": "https://localhost:8080/"
    },
    "id": "hYPjK0GIqBaI",
    "outputId": "d2fd3051-8729-4c2d-b6bb-24d30ad948ca"
   },
   "outputs": [],
   "source": [
    "!pip install lime"
   ]
  },
  {
   "cell_type": "code",
   "execution_count": null,
   "metadata": {
    "id": "CDis8qrfqLSe"
   },
   "outputs": [],
   "source": [
    "import lime\n",
    "from lime import lime_tabular"
   ]
  },
  {
   "cell_type": "code",
   "execution_count": null,
   "metadata": {
    "id": "8uBC4PvvqXh0"
   },
   "outputs": [],
   "source": [
    "# LimeTabularExplainer is used to explain predictions of machine learning models for tabular data.\n",
    "interpretation = lime_tabular.LimeTabularExplainer(\n",
    "    training_data = np.array(X_train),\n",
    "    feature_names = X_train.columns,\n",
    "    mode = 'classification'\n",
    ")"
   ]
  },
  {
   "cell_type": "code",
   "execution_count": null,
   "metadata": {
    "colab": {
     "base_uri": "https://localhost:8080/",
     "height": 335
    },
    "id": "WoOiAm7EwsIV",
    "outputId": "92f085ab-58be-4af4-efbe-6c22e6d21e24"
   },
   "outputs": [],
   "source": [
    "X_test.iloc[7]"
   ]
  },
  {
   "cell_type": "code",
   "execution_count": null,
   "metadata": {
    "colab": {
     "base_uri": "https://localhost:8080/",
     "height": 502
    },
    "id": "gKGXmyB2wPwa",
    "outputId": "9917353d-8742-4d78-cb6b-537775c73db3"
   },
   "outputs": [],
   "source": [
    "# The explain_instance() method from LIME’s LimeTabularExplainer is used to generate explanations\n",
    "#  for predictions made by a machine learning model.\n",
    "\n",
    "result = interpretation.explain_instance(\n",
    "    data_row = X_test.iloc[7],\n",
    "    predict_fn = xgb.predict_proba\n",
    ")\n",
    "result.show_in_notebook(show_table=True)"
   ]
  },
  {
   "cell_type": "code",
   "execution_count": null,
   "metadata": {
    "colab": {
     "base_uri": "https://localhost:8080/",
     "height": 536
    },
    "id": "UnMVMQ12ZR9s",
    "outputId": "72f08427-a359-4cdc-fa28-53749bf1df99"
   },
   "outputs": [],
   "source": [
    "# The explain_instance() method from LIME’s LimeTabularExplainer is used to generate explanations\n",
    "# for predictions made by a machine learning model.\n",
    "result = interpretation.explain_instance(\n",
    "    data_row = X_test.iloc[7],\n",
    "    predict_fn = tree.predict_proba\n",
    ")\n",
    "result.show_in_notebook(show_table=True)"
   ]
  },
  {
   "cell_type": "code",
   "execution_count": null,
   "metadata": {
    "colab": {
     "base_uri": "https://localhost:8080/",
     "height": 502
    },
    "id": "bETJWT1iw9du",
    "outputId": "4c70214c-dda1-41c9-9bf8-4156825b46fc"
   },
   "outputs": [],
   "source": [
    "result = interpretation.explain_instance(\n",
    "    data_row = X_test.iloc[21],\n",
    "    predict_fn = xgb.predict_proba\n",
    ")\n",
    "\n",
    "result.show_in_notebook(show_table=True)"
   ]
  },
  {
   "cell_type": "code",
   "execution_count": null,
   "metadata": {
    "colab": {
     "base_uri": "https://localhost:8080/",
     "height": 536
    },
    "id": "Lkq9RFsRaT2H",
    "outputId": "d72b6ca3-60d8-432c-8d0b-0a0d7f365863"
   },
   "outputs": [],
   "source": [
    "result = interpretation.explain_instance(\n",
    "    data_row = X_test.iloc[21],\n",
    "    predict_fn = tree.predict_proba\n",
    ")\n",
    "\n",
    "result.show_in_notebook(show_table=True)"
   ]
  },
  {
   "cell_type": "code",
   "execution_count": null,
   "metadata": {
    "colab": {
     "base_uri": "https://localhost:8080/",
     "height": 502
    },
    "id": "e07j_CzaxVxY",
    "outputId": "37d82030-30dd-40e7-c828-62d0b44908cc"
   },
   "outputs": [],
   "source": [
    "result = interpretation.explain_instance(\n",
    "    data_row = X_test.iloc[100],\n",
    "    predict_fn = xgb.predict_proba\n",
    ")\n",
    "\n",
    "result.show_in_notebook(show_table=True)"
   ]
  },
  {
   "cell_type": "code",
   "execution_count": null,
   "metadata": {
    "colab": {
     "base_uri": "https://localhost:8080/",
     "height": 536
    },
    "id": "Av5E0EwPx9SM",
    "outputId": "2736715c-be5f-4507-fab2-982a88d5db97"
   },
   "outputs": [],
   "source": [
    "result = interpretation.explain_instance(\n",
    "    data_row = X_test.iloc[100],\n",
    "    predict_fn = tree.predict_proba\n",
    ")\n",
    "\n",
    "result.show_in_notebook(show_table=True)"
   ]
  }
 ],
 "metadata": {
  "colab": {
   "provenance": []
  },
  "kernelspec": {
   "display_name": "Python 3",
   "name": "python3"
  },
  "language_info": {
   "name": "python"
  }
 },
 "nbformat": 4,
 "nbformat_minor": 0
}
