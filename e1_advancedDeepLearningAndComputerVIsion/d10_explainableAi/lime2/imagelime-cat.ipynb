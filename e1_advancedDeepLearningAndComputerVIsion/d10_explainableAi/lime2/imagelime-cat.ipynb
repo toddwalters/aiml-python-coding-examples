{
 "cells": [
  {
   "cell_type": "code",
   "execution_count": null,
   "metadata": {
    "colab": {
     "base_uri": "https://localhost:8080/"
    },
    "id": "vQBTIIRF_Kws",
    "outputId": "0d27f9a4-b93f-4535-bf5b-294e5cfa9744"
   },
   "outputs": [],
   "source": [
    "!pip install lime"
   ]
  },
  {
   "cell_type": "code",
   "execution_count": null,
   "metadata": {
    "id": "3zjWT-q0-Obi"
   },
   "outputs": [],
   "source": [
    "import numpy as np\n",
    "import matplotlib.pyplot as plt\n",
    "import pandas as pd\n",
    "import matplotlib.image as img\n",
    "from IPython.display import Image, display"
   ]
  },
  {
   "cell_type": "code",
   "execution_count": null,
   "metadata": {
    "id": "k-WwYEj8-VKs"
   },
   "outputs": [],
   "source": [
    "import warnings\n",
    "warnings.filterwarnings('ignore')"
   ]
  },
  {
   "cell_type": "code",
   "execution_count": null,
   "metadata": {
    "id": "8X_5f8H--Vdn"
   },
   "outputs": [],
   "source": [
    "import tensorflow as tf\n",
    "from tensorflow import keras\n",
    "from tensorflow.keras.preprocessing import image\n",
    "from tensorflow.keras.applications.xception import Xception, preprocess_input, decode_predictions"
   ]
  },
  {
   "cell_type": "code",
   "execution_count": null,
   "metadata": {
    "colab": {
     "base_uri": "https://localhost:8080/"
    },
    "id": "7tM4V9vcB0Ub",
    "outputId": "dce5656c-c262-4f32-d491-adc37a4a8735"
   },
   "outputs": [],
   "source": [
    "!pip install lime"
   ]
  },
  {
   "cell_type": "code",
   "execution_count": null,
   "metadata": {
    "id": "-dOlUR0q-Vi_"
   },
   "outputs": [],
   "source": [
    "import lime\n",
    "from lime import lime_image"
   ]
  },
  {
   "cell_type": "code",
   "execution_count": null,
   "metadata": {
    "id": "7k5IyBQmAda3"
   },
   "outputs": [],
   "source": [
    "from skimage.segmentation import mark_boundaries\n",
    "np.random.seed(123)"
   ]
  },
  {
   "cell_type": "code",
   "execution_count": null,
   "metadata": {
    "id": "N1-Ae-Kj_JwR"
   },
   "outputs": [],
   "source": [
    "path = '/content/cat2.jpg'"
   ]
  },
  {
   "cell_type": "code",
   "execution_count": null,
   "metadata": {
    "id": "sI2gE0JOFXJp"
   },
   "outputs": [],
   "source": [
    "#path = '/content/Gun.jpeg'"
   ]
  },
  {
   "cell_type": "code",
   "execution_count": null,
   "metadata": {
    "id": "ATHJZPwKFXMg"
   },
   "outputs": [],
   "source": []
  },
  {
   "cell_type": "code",
   "execution_count": null,
   "metadata": {
    "colab": {
     "base_uri": "https://localhost:8080/",
     "height": 413
    },
    "id": "BksW9q_4_lB-",
    "outputId": "a81fb95a-fd28-4999-aa27-6169d13b73fd"
   },
   "outputs": [],
   "source": [
    "img = image.load_img(path)\n",
    "img_arr = image.img_to_array(img)\n",
    "print(img_arr.shape)\n",
    "plt.imshow(img)\n",
    "plt.show()"
   ]
  },
  {
   "cell_type": "code",
   "execution_count": null,
   "metadata": {
    "id": "j7xICjP4-Vlj"
   },
   "outputs": [],
   "source": [
    "img = image.load_img(path, target_size=(299, 299))"
   ]
  },
  {
   "cell_type": "code",
   "execution_count": null,
   "metadata": {
    "colab": {
     "base_uri": "https://localhost:8080/",
     "height": 452
    },
    "id": "yV0K5TZg-Vok",
    "outputId": "c2cc7ad6-1e18-4733-971b-3e40ac62be28"
   },
   "outputs": [],
   "source": [
    "img_arr = image.img_to_array(img)\n",
    "print(img_arr.shape)\n",
    "plt.imshow(img)\n",
    "plt.show()"
   ]
  },
  {
   "cell_type": "code",
   "execution_count": null,
   "metadata": {
    "colab": {
     "base_uri": "https://localhost:8080/"
    },
    "id": "lhHNDOJrAD3r",
    "outputId": "a7757ba0-4d2c-4340-e3df-fced0a0a8035"
   },
   "outputs": [],
   "source": [
    "img_arr = np.expand_dims(img_arr, axis=0)\n",
    "print(img_arr.shape)"
   ]
  },
  {
   "cell_type": "code",
   "execution_count": null,
   "metadata": {
    "id": "6KSzk6maBPot"
   },
   "outputs": [],
   "source": [
    "norm_img = img_arr/255.0"
   ]
  },
  {
   "cell_type": "code",
   "execution_count": null,
   "metadata": {
    "colab": {
     "base_uri": "https://localhost:8080/",
     "height": 435
    },
    "id": "bGdPU1ofBTjb",
    "outputId": "961c8c23-4c2a-4dd3-f4ac-b851f4667f65"
   },
   "outputs": [],
   "source": [
    "norm_img = norm_img[0]\n",
    "plt.imshow(norm_img[0])\n",
    "plt.show()"
   ]
  },
  {
   "cell_type": "code",
   "execution_count": null,
   "metadata": {
    "colab": {
     "base_uri": "https://localhost:8080/"
    },
    "id": "FgRDJrrLBXho",
    "outputId": "9a2bd549-afe9-4108-d49f-7a9e345ffa0f"
   },
   "outputs": [],
   "source": [
    "model = Xception(weights='imagenet')\n",
    "model_pred = model.predict(norm_img)"
   ]
  },
  {
   "cell_type": "code",
   "execution_count": null,
   "metadata": {
    "colab": {
     "base_uri": "https://localhost:8080/"
    },
    "id": "TgaZjt1sEaVz",
    "outputId": "e7dc9135-d148-47cf-8351-45c1aaf4c8f1"
   },
   "outputs": [],
   "source": [
    "pred_orig = decode_predictions(model_pred, top=1)[0][0]"
   ]
  },
  {
   "cell_type": "code",
   "execution_count": null,
   "metadata": {
    "colab": {
     "base_uri": "https://localhost:8080/"
    },
    "id": "WFn_WihEEj8Q",
    "outputId": "d8239d79-09b2-4995-9c1c-86b637014309"
   },
   "outputs": [],
   "source": [
    "print(\"The image is :\", pred_orig[1])"
   ]
  },
  {
   "cell_type": "code",
   "execution_count": null,
   "metadata": {
    "id": "ne_Ean--Eoq0"
   },
   "outputs": [],
   "source": [
    "top5_pred = decode_predictions(model_pred, top=5)[0]"
   ]
  },
  {
   "cell_type": "code",
   "execution_count": null,
   "metadata": {
    "colab": {
     "base_uri": "https://localhost:8080/"
    },
    "id": "waIQOtlxE92f",
    "outputId": "345eddfe-6d16-4e83-bfad-3a52f953c63f"
   },
   "outputs": [],
   "source": [
    "top5_pred"
   ]
  },
  {
   "cell_type": "code",
   "execution_count": null,
   "metadata": {
    "id": "7M310w0DE_Ee"
   },
   "outputs": [],
   "source": [
    "explainer = lime.lime_image.LimeImageExplainer()"
   ]
  },
  {
   "cell_type": "code",
   "execution_count": null,
   "metadata": {
    "colab": {
     "base_uri": "https://localhost:8080/",
     "height": 1000,
     "referenced_widgets": [
      "e5edebfbcfde4e589a4e7eb3b149833c",
      "f06e384c99944e68b1666d8f28acadf6",
      "efd066f178e5452697e79988f5d176d8",
      "ea62b0a54725467599fa28ee908d6ed7",
      "1d0d6913fe8a414f9f9c056f60ef94f1",
      "03c01205892a4493bbe96e10585c96e1",
      "dcf26cde2abc4e0497ab948694b05f6c",
      "ebf8e9ae84214dd3b4b87ced59659164",
      "08ff74edfb4a4eff9f75814950d934be",
      "555de99d29374d40ac31cafec455c429",
      "935a81eb2b134a529f1959455f2b2093"
     ]
    },
    "id": "FzjmcVTGIu3c",
    "outputId": "0f668d96-0856-45be-e7cf-10dc02c75bcf"
   },
   "outputs": [],
   "source": [
    "result = explainer.explain_instance(norm_img[0],\n",
    "                                    model.predict,\n",
    "                                    top_labels=5,\n",
    "                                    num_samples=1000)"
   ]
  },
  {
   "cell_type": "code",
   "execution_count": null,
   "metadata": {
    "colab": {
     "base_uri": "https://localhost:8080/",
     "height": 202
    },
    "id": "zokpuZAUI24B",
    "outputId": "fa623f83-fc1d-4145-d2e7-7d9dd5e731b2"
   },
   "outputs": [],
   "source": [
    "f, ax = plt.subplots(1,6, figsize=(25,8))\n",
    "ax[0].imshow(norm_img[0])\n",
    "ax[0].axis(\"off\")\n",
    "ax[0].set_title(\"Original Image\")\n",
    "\n",
    "for axes in range(1,6):\n",
    "  image, mask = result.get_image_and_mask(result.top_labels[axes-1],\n",
    "                                          positive_only=True,\n",
    "                                          num_features=5,\n",
    "                                          hide_rest=True,\n",
    "                                          min_weight = 0.001)\n",
    "  ax[axes].imshow(mark_boundaries(image, mask))\n",
    "  ax[axes].axis(\"off\")\n",
    "\n",
    "  label = top5_pred[axes-1]\n",
    "  ax[axes].set_title(\"Pred : {}\\nScore : {:.4f}\".format(label[1], label[2]))\n",
    "plt.show()"
   ]
  },
  {
   "cell_type": "code",
   "execution_count": null,
   "metadata": {
    "id": "XGqIyUnrMIOs"
   },
   "outputs": [],
   "source": []
  }
 ],
 "metadata": {
  "colab": {
   "provenance": []
  },
  "kernelspec": {
   "display_name": "Python 3",
   "name": "python3"
  },
  "language_info": {
   "name": "python"
  }
 },
 "nbformat": 4,
 "nbformat_minor": 0
}
