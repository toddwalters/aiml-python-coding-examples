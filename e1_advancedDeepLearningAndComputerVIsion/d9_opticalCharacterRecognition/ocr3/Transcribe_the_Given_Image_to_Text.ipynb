{
 "cells": [
  {
   "cell_type": "markdown",
   "metadata": {
    "id": "W6dAMj8qBXD6"
   },
   "source": [
    "# Transcribe the Given Image to Text"
   ]
  },
  {
   "cell_type": "code",
   "execution_count": null,
   "metadata": {
    "colab": {
     "base_uri": "https://localhost:8080/"
    },
    "executionInfo": {
     "elapsed": 55318,
     "status": "ok",
     "timestamp": 1725721034838,
     "user": {
      "displayName": "Dr. Nisarg Gandhewar",
      "userId": "08865821500269811620"
     },
     "user_tz": -330
    },
    "id": "y_ZzcNyyF5s0",
    "outputId": "1ae99406-2ea3-488a-fb6d-efc58f601045"
   },
   "outputs": [],
   "source": [
    "!sudo apt install tesseract-ocr\n",
    "!pip install pytesseract\n",
    "!pip install keras-ocr\n",
    "!pip install easyocr\n",
    "!pip install pybind11\n",
    "!pip install fastwer"
   ]
  },
  {
   "cell_type": "markdown",
   "metadata": {
    "id": "U0ST1OdVBXD-"
   },
   "source": [
    "## Step 1: Import all the Required Libraries"
   ]
  },
  {
   "cell_type": "code",
   "execution_count": null,
   "metadata": {
    "executionInfo": {
     "elapsed": 16356,
     "status": "ok",
     "timestamp": 1725721056498,
     "user": {
      "displayName": "Dr. Nisarg Gandhewar",
      "userId": "08865821500269811620"
     },
     "user_tz": -330
    },
    "id": "K581Qzs9He6s"
   },
   "outputs": [],
   "source": [
    "import cv2\n",
    "import matplotlib.pyplot as plt\n",
    "import pytesseract\n",
    "import easyocr\n",
    "import keras_ocr\n",
    "import fastwer"
   ]
  },
  {
   "cell_type": "markdown",
   "metadata": {
    "id": "V55bEVgYBXD_"
   },
   "source": [
    "## Step 2: Visualize the Loaded Image\n",
    "- Load the image using **img = cv2.imread('image_ocr.png')**\n",
    "- Display the image with Matplotlib using **plt.imshow(img)**\n",
    "- Customize the display by setting the title with **plt.title(\"Original\")** and removing axis numbering using **plt.axis(\"off\")**"
   ]
  },
  {
   "cell_type": "code",
   "execution_count": null,
   "metadata": {
    "colab": {
     "base_uri": "https://localhost:8080/",
     "height": 312
    },
    "executionInfo": {
     "elapsed": 937,
     "status": "ok",
     "timestamp": 1725721070716,
     "user": {
      "displayName": "Dr. Nisarg Gandhewar",
      "userId": "08865821500269811620"
     },
     "user_tz": -330
    },
    "id": "7TYI-gd1Hj7e",
    "outputId": "64547957-3ca9-49d8-be81-1107753b176b"
   },
   "outputs": [],
   "source": [
    "img = cv2.imread('ocr1.png')\n",
    "# cv2.imshow('original', img)\n",
    "# cv2.waitKey(0)\n",
    "# cv2.destroyAllWindows()\n",
    "plt.imshow(img)\n",
    "plt.title(\"Original\")\n",
    "plt.axis(\"off\")\n",
    "plt.show()"
   ]
  },
  {
   "cell_type": "markdown",
   "metadata": {
    "id": "a7uCR6rjBXD_"
   },
   "source": [
    "## Step 3: Extract and Process the OCR Text\n",
    "- Define and display original text:\n",
    "   - Store the expected text in the variable original\n",
    "   - Print the expected text for reference\n",
    "\n",
    "\n",
    "\n",
    "\n"
   ]
  },
  {
   "cell_type": "code",
   "execution_count": null,
   "metadata": {
    "colab": {
     "base_uri": "https://localhost:8080/"
    },
    "executionInfo": {
     "elapsed": 432,
     "status": "ok",
     "timestamp": 1725721087451,
     "user": {
      "displayName": "Dr. Nisarg Gandhewar",
      "userId": "08865821500269811620"
     },
     "user_tz": -330
    },
    "id": "xH2UUKs-Hp8P",
    "outputId": "56923189-960d-48fa-a29e-1bf8064ea12d"
   },
   "outputs": [],
   "source": [
    "original =  \"We Start With Good Because all businesses should be doing something good.\"\n",
    "print(original)"
   ]
  },
  {
   "cell_type": "markdown",
   "metadata": {
    "id": "_ojrc0NABXEA"
   },
   "source": [
    "- Use Pytesseract for OCR:\n",
    "  - Extract text from the image using pytesseract.image_to_string.\n",
    "  - Print the raw extracted result."
   ]
  },
  {
   "cell_type": "code",
   "execution_count": null,
   "metadata": {
    "colab": {
     "base_uri": "https://localhost:8080/"
    },
    "executionInfo": {
     "elapsed": 1182,
     "status": "ok",
     "timestamp": 1725721103501,
     "user": {
      "displayName": "Dr. Nisarg Gandhewar",
      "userId": "08865821500269811620"
     },
     "user_tz": -330
    },
    "id": "MLvGDCpwHu2d",
    "outputId": "1a4066cf-1710-4bb5-b1d6-258e3dbe2c8e"
   },
   "outputs": [],
   "source": [
    "res = pytesseract.image_to_string(img)\n",
    "print(res)"
   ]
  },
  {
   "cell_type": "markdown",
   "metadata": {
    "id": "FZrj-lZYBXEB"
   },
   "source": [
    "## Step 4: Clean and Format the OCR Result\n",
    "- Remove non-alphanumeric elements from the OCR result and store it in the predicted variable\n",
    "- Extract structured OCR results using pytesseract.image_to_data\n",
    "- Display the keys of the structured data\n",
    "- Access and show the extracted text portions\n"
   ]
  },
  {
   "cell_type": "code",
   "execution_count": null,
   "metadata": {
    "executionInfo": {
     "elapsed": 430,
     "status": "ok",
     "timestamp": 1725721126976,
     "user": {
      "displayName": "Dr. Nisarg Gandhewar",
      "userId": "08865821500269811620"
     },
     "user_tz": -330
    },
    "id": "Fl3Iq0GpJA_o"
   },
   "outputs": [],
   "source": [
    "predicted = ' '.join([x for x in res.split() if x.isalnum()])"
   ]
  },
  {
   "cell_type": "code",
   "execution_count": null,
   "metadata": {
    "executionInfo": {
     "elapsed": 453,
     "status": "ok",
     "timestamp": 1725721129992,
     "user": {
      "displayName": "Dr. Nisarg Gandhewar",
      "userId": "08865821500269811620"
     },
     "user_tz": -330
    },
    "id": "Zn40R5-jpg0x"
   },
   "outputs": [],
   "source": [
    "res = pytesseract.image_to_data(img, output_type=pytesseract.Output.DICT)"
   ]
  },
  {
   "cell_type": "code",
   "execution_count": null,
   "metadata": {
    "colab": {
     "base_uri": "https://localhost:8080/"
    },
    "executionInfo": {
     "elapsed": 3,
     "status": "ok",
     "timestamp": 1725721131482,
     "user": {
      "displayName": "Dr. Nisarg Gandhewar",
      "userId": "08865821500269811620"
     },
     "user_tz": -330
    },
    "id": "fIAIEahorm8p",
    "outputId": "404e328e-6101-40dd-d5f1-3ab4e658010d"
   },
   "outputs": [],
   "source": [
    "res[\"text\"]"
   ]
  },
  {
   "cell_type": "markdown",
   "metadata": {
    "id": "_WoQIA5BBXEC"
   },
   "source": [
    "## Step 5: Visualize Text Localizations on Image\n",
    "- Duplicate the original image for modifications\n",
    "- For each text segment in res [text], retrieve bounding box data and filter out non-alphanumeric words\n",
    "- Overlay bounding boxes and corresponding text on the copied image\n",
    "- Display the annotated image using matplotlib with the axis turned off"
   ]
  },
  {
   "cell_type": "code",
   "execution_count": null,
   "metadata": {
    "colab": {
     "base_uri": "https://localhost:8080/",
     "height": 290
    },
    "executionInfo": {
     "elapsed": 1060,
     "status": "ok",
     "timestamp": 1725721202799,
     "user": {
      "displayName": "Dr. Nisarg Gandhewar",
      "userId": "08865821500269811620"
     },
     "user_tz": -330
    },
    "id": "8lmr9QCHp6iU",
    "outputId": "7641c5a2-ca35-400a-edc0-410410b09e83"
   },
   "outputs": [],
   "source": [
    "image = img.copy()\n",
    "# loop over each of the individual text localizations\n",
    "for i in list(range(0, len(res[\"text\"]))):\n",
    "  if res[\"text\"][i]!= \"\":\n",
    "    # extract the bounding box coordinates of the text region from\n",
    "    # the current result\n",
    "    x = res[\"left\"][i]\n",
    "    y = res[\"top\"][i]\n",
    "    w = res[\"width\"][i]\n",
    "    h = res[\"height\"][i]\n",
    "    # extract the OCR text itself along with the confidence of the\n",
    "    # text localization\n",
    "    text = res[\"text\"][i]\n",
    "    conf = int(res[\"conf\"][i])\n",
    "    text = ' '.join([x for x in text.split() if x.isalnum()])\n",
    "    cv2.rectangle(image, (x, y), (x + w, y + h), (0, 255, 0), 2)\n",
    "    cv2.putText(image, text, (x, y+h ), cv2.FONT_HERSHEY_SIMPLEX, 0.75, (255, 0, 0), 2)\n",
    "plt.imshow(image)\n",
    "plt.axis(\"off\")\n",
    "plt.show()"
   ]
  },
  {
   "cell_type": "markdown",
   "metadata": {
    "id": "MAF5UfaLBXEC"
   },
   "source": [
    "## Step 6: Tesseract Prediction Evaluation\n",
    "- Display the image with text annotations\n",
    "- Print the predicted text from Tesseract\n",
    "- Compute the Character Error Rate (CER) using fastwer\n",
    "- Compute the Word Error Rate (WER) using fastwer\n",
    "- Print the computed CER and WER values"
   ]
  },
  {
   "cell_type": "code",
   "execution_count": null,
   "metadata": {
    "colab": {
     "base_uri": "https://localhost:8080/",
     "height": 335
    },
    "executionInfo": {
     "elapsed": 1062,
     "status": "ok",
     "timestamp": 1725721220410,
     "user": {
      "displayName": "Dr. Nisarg Gandhewar",
      "userId": "08865821500269811620"
     },
     "user_tz": -330
    },
    "id": "V_zXTpkYqCv7",
    "outputId": "b0844fcd-0b30-4ff2-8d5d-42359d097529"
   },
   "outputs": [],
   "source": [
    "plt.imshow(image)"
   ]
  },
  {
   "cell_type": "code",
   "execution_count": null,
   "metadata": {
    "colab": {
     "base_uri": "https://localhost:8080/"
    },
    "executionInfo": {
     "elapsed": 455,
     "status": "ok",
     "timestamp": 1725721227694,
     "user": {
      "displayName": "Dr. Nisarg Gandhewar",
      "userId": "08865821500269811620"
     },
     "user_tz": -330
    },
    "id": "QjZnX-jnJX18",
    "outputId": "5d4277d7-17a0-4cc9-d4a9-d635051ed41d"
   },
   "outputs": [],
   "source": [
    "print(predicted)"
   ]
  }
 ],
 "metadata": {
  "colab": {
   "collapsed_sections": [
    "I1dbc2dIKVMU"
   ],
   "provenance": []
  },
  "kernelspec": {
   "display_name": "Python 3 [3.10]",
   "language": "python",
   "name": "python3"
  },
  "language_info": {
   "codemirror_mode": {
    "name": "ipython",
    "version": 3
   },
   "file_extension": ".py",
   "mimetype": "text/x-python",
   "name": "python",
   "nbconvert_exporter": "python",
   "pygments_lexer": "ipython3",
   "version": "3.10.2"
  }
 },
 "nbformat": 4,
 "nbformat_minor": 0
}
