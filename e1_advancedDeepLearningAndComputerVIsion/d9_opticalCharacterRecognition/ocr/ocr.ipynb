{
 "cells": [
  {
   "cell_type": "code",
   "execution_count": null,
   "metadata": {
    "colab": {
     "base_uri": "https://localhost:8080/"
    },
    "id": "4ZpAUZis5OVC",
    "outputId": "b2ef9aa4-e663-43a6-ed0c-86d203218d7f"
   },
   "outputs": [],
   "source": [
    "!sudo apt-get update\n",
    "!sudo apt-get install tesseract-ocr\n"
   ]
  },
  {
   "cell_type": "code",
   "execution_count": null,
   "metadata": {
    "colab": {
     "base_uri": "https://localhost:8080/"
    },
    "id": "zEdIeaoM5cS0",
    "outputId": "ced8bf81-6067-44a8-f5d4-70bf4883ea7d"
   },
   "outputs": [],
   "source": [
    "!pip install pytesseract"
   ]
  },
  {
   "cell_type": "code",
   "execution_count": null,
   "metadata": {
    "id": "o6NiWPui6Rld"
   },
   "outputs": [],
   "source": [
    "import pytesseract\n",
    "import cv2\n",
    "from matplotlib import pyplot as plt\n",
    "import numpy as np"
   ]
  },
  {
   "cell_type": "code",
   "execution_count": null,
   "metadata": {
    "id": "gfTuBXDZ6VtS"
   },
   "outputs": [],
   "source": [
    "img = cv2.imread('/content/ocr1.png')"
   ]
  },
  {
   "cell_type": "code",
   "execution_count": null,
   "metadata": {
    "colab": {
     "base_uri": "https://localhost:8080/",
     "height": 318
    },
    "id": "ugueLLbd7hQk",
    "outputId": "4998f88a-40fe-4a60-9feb-6d4cabc312f3"
   },
   "outputs": [],
   "source": [
    "plt.imshow(img)\n",
    "plt.show()"
   ]
  },
  {
   "cell_type": "code",
   "execution_count": null,
   "metadata": {
    "colab": {
     "base_uri": "https://localhost:8080/",
     "height": 313
    },
    "id": "aaZwDDSC7sY6",
    "outputId": "7f8614bb-f653-487e-eb1b-b8b86e194579"
   },
   "outputs": [],
   "source": [
    "img = cv2.cvtColor(img, cv2.COLOR_BGR2RGB)\n",
    "img"
   ]
  },
  {
   "cell_type": "code",
   "execution_count": null,
   "metadata": {
    "colab": {
     "base_uri": "https://localhost:8080/"
    },
    "id": "iBA2Vz0-76Qk",
    "outputId": "dd77c1bb-201a-4eeb-cc28-f396cc7d9fde"
   },
   "outputs": [],
   "source": [
    "text = pytesseract.image_to_string(img)\n",
    "print(text)"
   ]
  },
  {
   "cell_type": "code",
   "execution_count": null,
   "metadata": {
    "colab": {
     "base_uri": "https://localhost:8080/",
     "height": 203
    },
    "id": "X0lHVHq198aV",
    "outputId": "097c30ff-063e-4b16-b10f-f033d8967df5"
   },
   "outputs": [],
   "source": [
    "img = cv2.imread('ocr2.png')\n",
    "img = cv2.cvtColor(img, cv2.COLOR_BGR2RGB)\n",
    "img"
   ]
  },
  {
   "cell_type": "code",
   "execution_count": null,
   "metadata": {
    "colab": {
     "base_uri": "https://localhost:8080/"
    },
    "id": "jCLXoBzJ-bH3",
    "outputId": "bc015a47-6887-4515-d512-ed3f92fbf453"
   },
   "outputs": [],
   "source": [
    "text = pytesseract.image_to_string(img)\n",
    "print(text)"
   ]
  },
  {
   "cell_type": "code",
   "execution_count": null,
   "metadata": {
    "id": "uHl8w_hk-fJK"
   },
   "outputs": [],
   "source": [
    "img = cv2.imread('ocr3.png')\n",
    "img = cv2.cvtColor(img, cv2.COLOR_BGR2RGB)\n",
    "#img"
   ]
  },
  {
   "cell_type": "code",
   "execution_count": null,
   "metadata": {
    "colab": {
     "base_uri": "https://localhost:8080/",
     "height": 612
    },
    "id": "hZchgTUUiLAs",
    "outputId": "12485b5e-8578-43ab-d7d3-e89b9a5604f1"
   },
   "outputs": [],
   "source": [
    "img"
   ]
  },
  {
   "cell_type": "code",
   "execution_count": null,
   "metadata": {
    "colab": {
     "base_uri": "https://localhost:8080/"
    },
    "id": "3ObmYBt0_zQh",
    "outputId": "034ecbc8-53f0-4ae0-a800-3f5c4265ae92"
   },
   "outputs": [],
   "source": [
    "text = pytesseract.image_to_string(img)\n",
    "print(text)"
   ]
  },
  {
   "cell_type": "code",
   "execution_count": null,
   "metadata": {
    "colab": {
     "base_uri": "https://localhost:8080/",
     "height": 435
    },
    "id": "DTbvx5MS_9J_",
    "outputId": "463eb562-5ed8-4a0e-e132-1bd42f8d0cfb"
   },
   "outputs": [],
   "source": [
    "img = cv2.imread('ocr4.png')\n",
    "#img = cv2.cvtColor(img, cv2.COLOR_BGR2RGB)\n",
    "plt.imshow(img)\n",
    "plt.show()"
   ]
  },
  {
   "cell_type": "code",
   "execution_count": null,
   "metadata": {
    "colab": {
     "base_uri": "https://localhost:8080/"
    },
    "id": "IlMTwozOAUnA",
    "outputId": "99fac7ab-735a-4a64-83e1-d1ae18fc9a1e"
   },
   "outputs": [],
   "source": [
    "text = pytesseract.image_to_string(img)\n",
    "print(text)"
   ]
  },
  {
   "cell_type": "code",
   "execution_count": null,
   "metadata": {
    "colab": {
     "base_uri": "https://localhost:8080/",
     "height": 412
    },
    "id": "83M4qtgbAeE8",
    "outputId": "8870c8df-73fc-4ae2-b9e6-6bcfae226df3"
   },
   "outputs": [],
   "source": [
    "img = cv2.imread('ocr5.jpg')\n",
    "img = cv2.cvtColor(img, cv2.COLOR_BGR2RGB)\n",
    "plt.imshow(img)\n",
    "plt.show()"
   ]
  },
  {
   "cell_type": "code",
   "execution_count": null,
   "metadata": {
    "colab": {
     "base_uri": "https://localhost:8080/"
    },
    "id": "56CJA4R3BEpT",
    "outputId": "140cfb21-65fd-452b-ba7f-02e02e13b85a"
   },
   "outputs": [],
   "source": [
    "text = pytesseract.image_to_string(img)\n",
    "print(text)"
   ]
  },
  {
   "cell_type": "code",
   "execution_count": null,
   "metadata": {
    "colab": {
     "base_uri": "https://localhost:8080/",
     "height": 435
    },
    "id": "-PK1kg4PCgGc",
    "outputId": "0d03ffd7-ea6b-4f2e-b1dc-aa1eff82aafd"
   },
   "outputs": [],
   "source": [
    "img = cv2.imread('invoice.png')\n",
    "img = cv2.cvtColor(img, cv2.COLOR_BGR2RGB)\n",
    "plt.imshow(img)\n",
    "plt.show()"
   ]
  },
  {
   "cell_type": "code",
   "execution_count": null,
   "metadata": {
    "colab": {
     "base_uri": "https://localhost:8080/"
    },
    "id": "wPKW8V9EDZsK",
    "outputId": "6f2ed366-8b0b-465b-b8eb-8dc226f948a8"
   },
   "outputs": [],
   "source": [
    "text = pytesseract.image_to_string(img)\n",
    "print(text)"
   ]
  },
  {
   "cell_type": "code",
   "execution_count": null,
   "metadata": {
    "colab": {
     "base_uri": "https://localhost:8080/",
     "height": 313
    },
    "id": "eR6d6gD1EKPX",
    "outputId": "c4e501e9-50c9-4733-8747-5264b15c6fa9"
   },
   "outputs": [],
   "source": [
    "img = cv2.imread('abstract.png')\n",
    "img = cv2.cvtColor(img, cv2.COLOR_BGR2RGB)\n",
    "plt.imshow(img)\n",
    "plt.show()"
   ]
  },
  {
   "cell_type": "code",
   "execution_count": null,
   "metadata": {
    "colab": {
     "base_uri": "https://localhost:8080/"
    },
    "id": "zRNVrFeME4tJ",
    "outputId": "c4474f6e-4f51-4dea-f976-2ff439e7a27e"
   },
   "outputs": [],
   "source": [
    "text = pytesseract.image_to_string(img)\n",
    "print(text)"
   ]
  },
  {
   "cell_type": "markdown",
   "metadata": {
    "id": "j2qw_olFF2Li"
   },
   "source": [
    "**Read Pdf file**"
   ]
  },
  {
   "cell_type": "code",
   "execution_count": null,
   "metadata": {
    "colab": {
     "base_uri": "https://localhost:8080/"
    },
    "id": "bY-iAGhpE9C7",
    "outputId": "8eb1a4bc-5819-48cd-f9dd-6458b2656787"
   },
   "outputs": [],
   "source": [
    "!sudo apt-get install -y poppler-utils\n",
    "!pip install pdf2image pytesseract"
   ]
  },
  {
   "cell_type": "code",
   "execution_count": null,
   "metadata": {
    "id": "JedyKm8QGGST"
   },
   "outputs": [],
   "source": [
    "import pytesseract\n",
    "from pdf2image import convert_from_path"
   ]
  },
  {
   "cell_type": "code",
   "execution_count": null,
   "metadata": {
    "id": "3KwmdOQbGP6a"
   },
   "outputs": [],
   "source": [
    "def pdf_to_text(pdf_path):\n",
    "  pages = convert_from_path(pdf_path, 500)\n",
    "\n",
    "  text = \"\"\n",
    "\n",
    "  for page_number, page in enumerate(pages):\n",
    "    page = page.convert('L')\n",
    "    page_array = np.array(page)\n",
    "\n",
    "    page_text = pytesseract.image_to_string(page_array)\n",
    "    text += f\"Page{page_number +1}:\\n{page_text}\\n\\n\"\n",
    "\n",
    "  return text\n",
    "\n",
    "\n",
    "\n",
    "\n",
    "\n"
   ]
  },
  {
   "cell_type": "code",
   "execution_count": null,
   "metadata": {
    "id": "_g3ymDjUHBsn"
   },
   "outputs": [],
   "source": [
    "pdf_path = '/content/p1.pdf'"
   ]
  },
  {
   "cell_type": "code",
   "execution_count": null,
   "metadata": {
    "colab": {
     "base_uri": "https://localhost:8080/"
    },
    "id": "Mq03OwXTHWcS",
    "outputId": "72cc3872-81bf-451f-b820-a9124b2cca74"
   },
   "outputs": [],
   "source": [
    "extracted_text = pdf_to_text(pdf_path)\n",
    "print(extracted_text)"
   ]
  },
  {
   "cell_type": "code",
   "execution_count": null,
   "metadata": {
    "id": "XwqoQ_qbHi6U"
   },
   "outputs": [],
   "source": []
  }
 ],
 "metadata": {
  "colab": {
   "provenance": []
  },
  "kernelspec": {
   "display_name": "Python 3",
   "name": "python3"
  },
  "language_info": {
   "name": "python"
  }
 },
 "nbformat": 4,
 "nbformat_minor": 0
}
