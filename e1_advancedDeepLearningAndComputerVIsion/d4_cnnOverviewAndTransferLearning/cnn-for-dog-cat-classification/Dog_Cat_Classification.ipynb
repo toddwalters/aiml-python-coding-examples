{
 "cells": [
  {
   "cell_type": "markdown",
   "metadata": {
    "colab_type": "text",
    "id": "view-in-github"
   },
   "source": [
    "<a href=\"https://colab.research.google.com/github/toddwalters/pgaiml-python-coding-examples/blob/main/advanced-deep-learning-computer-vision/d4/Dog_Cat_Classification.ipynb\" target=\"_parent\"><img src=\"https://colab.research.google.com/assets/colab-badge.svg\" alt=\"Open In Colab\"/></a>"
   ]
  },
  {
   "cell_type": "code",
   "execution_count": null,
   "metadata": {
    "id": "Qpd1yZW0Q9_g"
   },
   "outputs": [],
   "source": [
    "from keras.models import Sequential\n",
    "from keras.layers import Conv2D\n",
    "from keras.layers import MaxPooling2D\n",
    "from keras.layers import Flatten\n",
    "from keras.layers import Dense,Dropout,BatchNormalization\n",
    "from tensorflow.keras.regularizers import l2"
   ]
  },
  {
   "cell_type": "code",
   "execution_count": null,
   "metadata": {
    "id": "Ft5fm7hyW7i8"
   },
   "outputs": [],
   "source": [
    "# Ways to try and improve model performance:\n",
    "\n",
    "# Number of Filters\n",
    "# Size of Filter\n",
    "# Try regularization techniques\n",
    "# Try to add more hidden layers\n",
    "# Try to modify number of neurons in the hidden layer\n",
    "# Try to modify the batch size\n",
    "# Try to modify the number of epochs\n",
    "# Try to modify augmentation"
   ]
  },
  {
   "cell_type": "code",
   "execution_count": null,
   "metadata": {
    "colab": {
     "base_uri": "https://localhost:8080/"
    },
    "id": "GNH7ib3XOQJR",
    "outputId": "083a687a-f4a2-4649-f073-a4a180b08a53"
   },
   "outputs": [],
   "source": [
    "from google.colab import drive\n",
    "drive.mount('/content/drive')"
   ]
  },
  {
   "cell_type": "code",
   "execution_count": null,
   "metadata": {
    "id": "gkOr-yKEVnzo"
   },
   "outputs": [],
   "source": [
    "# ! unzip /content/cats_and_dogs\n",
    "# ! unzip /content/drive/MyDrive/Adv Deep Learning /Day3/cats_and_dogs.zip\n",
    "# ! unzip /content/drive/MyDrive/Adv Deep Learning /Day3/cats_and_dogs"
   ]
  },
  {
   "cell_type": "code",
   "execution_count": null,
   "metadata": {
    "id": "S3dTP7chQ9_n"
   },
   "outputs": [],
   "source": [
    "classifier = Sequential()"
   ]
  },
  {
   "cell_type": "code",
   "execution_count": null,
   "metadata": {
    "id": "x712TwcGQ9_p"
   },
   "outputs": [],
   "source": [
    "# Convolution\n",
    "# classifier.add(Conv2D(32, 5, 5, input_shape = (256, 256, 3), activation = 'relu', kernel_regularizer=l2(l2=0.001)))\n",
    "classifier.add(Conv2D(64, 5, 5, input_shape = (256, 256, 3), activation = 'relu', kernel_regularizer=l2(l2=0.001)))\n",
    "classifier.add(BatchNormalization())"
   ]
  },
  {
   "cell_type": "code",
   "execution_count": null,
   "metadata": {
    "id": "R8soJ6-wQ9_q"
   },
   "outputs": [],
   "source": [
    "# Pooling\n",
    "classifier.add(MaxPooling2D(pool_size = (2, 2)))\n",
    "classifier.add(Dropout(0.3))"
   ]
  },
  {
   "cell_type": "code",
   "execution_count": null,
   "metadata": {
    "id": "fNw3xpPbQ9_r"
   },
   "outputs": [],
   "source": [
    "# Adding a second convolutional layer\n",
    "classifier.add(Conv2D(64, 5, 5, activation = 'relu',kernel_regularizer=l2(l2=0.001)))\n",
    "classifier.add(BatchNormalization())\n",
    "classifier.add(MaxPooling2D(pool_size = (2, 2)))\n",
    "classifier.add(Dropout(0.3))"
   ]
  },
  {
   "cell_type": "code",
   "execution_count": null,
   "metadata": {
    "id": "aLHuC_jpQ9_s"
   },
   "outputs": [],
   "source": [
    "# Flattening\n",
    "classifier.add(Flatten())"
   ]
  },
  {
   "cell_type": "code",
   "execution_count": null,
   "metadata": {
    "id": "E7EkrqWuQ9_t"
   },
   "outputs": [],
   "source": [
    "# Full connection\n",
    "classifier.add(Dense(128, activation = 'relu',kernel_regularizer=l2(l2=0.001)))\n",
    "classifier.add(Dropout(0.2))\n",
    "classifier.add(Dense(1, activation = 'sigmoid'))"
   ]
  },
  {
   "cell_type": "code",
   "execution_count": null,
   "metadata": {
    "colab": {
     "base_uri": "https://localhost:8080/",
     "height": 559
    },
    "id": "tbaFmr5qQ9_u",
    "outputId": "daff76a4-a72f-4431-cf6d-d7442a900f8b"
   },
   "outputs": [],
   "source": [
    "classifier.summary()"
   ]
  },
  {
   "cell_type": "code",
   "execution_count": null,
   "metadata": {
    "id": "px_k-7qEQ9_w"
   },
   "outputs": [],
   "source": [
    "classifier.compile(optimizer = 'adam', loss = 'binary_crossentropy', metrics = ['accuracy'])"
   ]
  },
  {
   "cell_type": "code",
   "execution_count": null,
   "metadata": {
    "id": "2YxxAifCQ9_x"
   },
   "outputs": [],
   "source": [
    "# from keras.preprocessing.image import ImageDataGenerator\n",
    "from tensorflow.keras.preprocessing.image import ImageDataGenerator\n",
    "\n",
    "# train_datagen = ImageDataGenerator(rescale = 1./255,\n",
    "#                                    shear_range = 0.2,\n",
    "#                                    zoom_range = 0.2,\n",
    "#                                    horizontal_flip = True)\n",
    "train_datagen = ImageDataGenerator(rescale = 1./255,\n",
    "                                   shear_range = 0.2,\n",
    "                                   zoom_range = 0.2,\n",
    "                                   horizontal_flip = True,\n",
    "                                   rotation_range=40,\n",
    "                                   width_shift_range=0.2,\n",
    "                                   height_shift_range=0.2,\n",
    "                                   fill_mode='nearest')"
   ]
  },
  {
   "cell_type": "code",
   "execution_count": null,
   "metadata": {
    "id": "m6ZmzBFkQ9_y"
   },
   "outputs": [],
   "source": [
    "test_datagen = ImageDataGenerator(rescale = 1./255)"
   ]
  },
  {
   "cell_type": "code",
   "execution_count": null,
   "metadata": {
    "colab": {
     "base_uri": "https://localhost:8080/"
    },
    "id": "Wzqz5nR6Q9_z",
    "outputId": "dfcd418e-692d-4cf4-f3a0-019b43492e18"
   },
   "outputs": [],
   "source": [
    "training_set = train_datagen.flow_from_directory('/content/drive/MyDrive/Colab Notebooks/datasets/cats_and_dogs/train',\n",
    "                                                 target_size = (256, 256),\n",
    "                                                 batch_size = 16,\n",
    "                                                 class_mode = 'binary')"
   ]
  },
  {
   "cell_type": "code",
   "execution_count": null,
   "metadata": {
    "id": "kY-lzaweQ9_0"
   },
   "outputs": [],
   "source": []
  },
  {
   "cell_type": "code",
   "execution_count": null,
   "metadata": {
    "colab": {
     "base_uri": "https://localhost:8080/"
    },
    "id": "eTLPDOFTQ9_0",
    "outputId": "a55aa823-0589-40a8-9766-2334ca1989a0"
   },
   "outputs": [],
   "source": [
    "test_set = test_datagen.flow_from_directory('/content/drive/MyDrive/Colab Notebooks/datasets/cats_and_dogs/test',\n",
    "                                            target_size = (256, 256),\n",
    "                                            batch_size = 16,\n",
    "                                            class_mode = 'binary')\n"
   ]
  },
  {
   "cell_type": "code",
   "execution_count": null,
   "metadata": {
    "colab": {
     "base_uri": "https://localhost:8080/"
    },
    "id": "jko0W1twQ9_1",
    "outputId": "e16abb9e-53b2-4c54-f998-bbcf50c488d8"
   },
   "outputs": [],
   "source": [
    "! pip install livelossplot\n",
    "from livelossplot import PlotLossesKerasTF"
   ]
  },
  {
   "cell_type": "code",
   "execution_count": null,
   "metadata": {
    "colab": {
     "base_uri": "https://localhost:8080/",
     "height": 958
    },
    "id": "Sr2iYH-wQ9_1",
    "outputId": "a12c96af-4fca-4d26-e586-7966b30633d3"
   },
   "outputs": [],
   "source": [
    "classifier.fit(training_set,epochs=50,validation_data = test_set,callbacks=[PlotLossesKerasTF()])\n"
   ]
  },
  {
   "cell_type": "code",
   "execution_count": null,
   "metadata": {
    "colab": {
     "base_uri": "https://localhost:8080/"
    },
    "id": "GwgVBpnXQ9_2",
    "outputId": "e168c120-6077-481c-abe3-41128b6e8132"
   },
   "outputs": [],
   "source": [
    "import numpy as np\n",
    "from keras.preprocessing import image\n",
    "test_image = image.load_img('/content/drive/MyDrive/Colab Notebooks/datasets/cats_and_dogs/test/dogs/dog.2002.jpg',target_size=(256,256))\n",
    "test_image = image.img_to_array(test_image)\n",
    "test_image = np.expand_dims(test_image,axis=0)\n",
    "result = classifier.predict(test_image)\n",
    "training_set.class_indices\n",
    "if result[0][0]>=0.5:\n",
    "    prediction= 'Dog'\n",
    "    print('Result is',result[0][0])\n",
    "else:\n",
    "    prediction = 'Cat'\n",
    "    print('Result is',result[0][0])\n",
    "print(prediction)"
   ]
  },
  {
   "cell_type": "code",
   "execution_count": null,
   "metadata": {
    "colab": {
     "base_uri": "https://localhost:8080/"
    },
    "id": "1bSYd1id1xmV",
    "outputId": "df67562c-05f0-41d1-9cdb-ccc0664bc21c"
   },
   "outputs": [],
   "source": [
    "result[0][0]"
   ]
  },
  {
   "cell_type": "code",
   "execution_count": null,
   "metadata": {
    "id": "hblCyTnrQ9_3"
   },
   "outputs": [],
   "source": []
  }
 ],
 "metadata": {
  "accelerator": "GPU",
  "colab": {
   "gpuType": "T4",
   "include_colab_link": true,
   "provenance": []
  },
  "kernelspec": {
   "display_name": "Python 3",
   "name": "python3"
  },
  "language_info": {
   "codemirror_mode": {
    "name": "ipython",
    "version": 3
   },
   "file_extension": ".py",
   "mimetype": "text/x-python",
   "name": "python",
   "nbconvert_exporter": "python",
   "pygments_lexer": "ipython3",
   "version": "3.9.13"
  }
 },
 "nbformat": 4,
 "nbformat_minor": 0
}
