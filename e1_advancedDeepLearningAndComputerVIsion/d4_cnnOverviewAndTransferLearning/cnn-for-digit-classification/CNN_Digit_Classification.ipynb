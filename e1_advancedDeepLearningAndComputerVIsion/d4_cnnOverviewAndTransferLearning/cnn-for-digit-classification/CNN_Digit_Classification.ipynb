{
 "cells": [
  {
   "cell_type": "markdown",
   "metadata": {
    "colab_type": "text",
    "id": "view-in-github"
   },
   "source": [
    "<a href=\"https://colab.research.google.com/github/toddwalters/pgaiml-python-coding-examples/blob/main/advanced-deep-learning-computer-vision/d4/CNN_Digit_Classification.ipynb\" target=\"_parent\"><img src=\"https://colab.research.google.com/assets/colab-badge.svg\" alt=\"Open In Colab\"/></a>"
   ]
  },
  {
   "cell_type": "code",
   "execution_count": null,
   "metadata": {
    "id": "1114q5fukbuf"
   },
   "outputs": [],
   "source": [
    "from tensorflow.keras.datasets import mnist\n",
    "\n",
    "#load MNIST dataset\n",
    "(x_train,y_train),(x_test,y_test)=mnist.load_data()"
   ]
  },
  {
   "cell_type": "code",
   "execution_count": null,
   "metadata": {
    "colab": {
     "base_uri": "https://localhost:8080/"
    },
    "id": "hYIMtNXSkbup",
    "outputId": "07cbe1bd-d4bd-4315-c063-1cdb6d8311be"
   },
   "outputs": [],
   "source": [
    "y_train"
   ]
  },
  {
   "cell_type": "code",
   "execution_count": null,
   "metadata": {
    "colab": {
     "base_uri": "https://localhost:8080/"
    },
    "id": "J92GLdQOkbus",
    "outputId": "fc1c2137-ce24-440a-d4c5-db351ca281ac"
   },
   "outputs": [],
   "source": [
    "print(x_train.shape)"
   ]
  },
  {
   "cell_type": "code",
   "execution_count": null,
   "metadata": {
    "colab": {
     "base_uri": "https://localhost:8080/"
    },
    "id": "lmU2y4cfkbuu",
    "outputId": "09d88d68-028a-4a9f-a523-138a177450ae"
   },
   "outputs": [],
   "source": [
    "x_test.shape"
   ]
  },
  {
   "cell_type": "code",
   "execution_count": null,
   "metadata": {
    "colab": {
     "base_uri": "https://localhost:8080/"
    },
    "id": "F8oh5c1Skbuv",
    "outputId": "b3870bb9-2197-4f3e-fdfb-68014c4ac1bc"
   },
   "outputs": [],
   "source": [
    "x_train[0].shape\n"
   ]
  },
  {
   "cell_type": "code",
   "execution_count": null,
   "metadata": {
    "id": "N4Q2ICl2kbuw"
   },
   "outputs": [],
   "source": [
    "from matplotlib import pyplot as plt"
   ]
  },
  {
   "cell_type": "code",
   "execution_count": null,
   "metadata": {
    "colab": {
     "base_uri": "https://localhost:8080/",
     "height": 430
    },
    "id": "0a7Smhcbkbux",
    "outputId": "a834c838-c561-4f94-a235-08dbfcd83167"
   },
   "outputs": [],
   "source": [
    "plt.imshow(x_train[-1])\n",
    "plt.gray()\n",
    "plt.show()"
   ]
  },
  {
   "cell_type": "code",
   "execution_count": null,
   "metadata": {
    "colab": {
     "base_uri": "https://localhost:8080/"
    },
    "id": "hsH0T6t9kbuz",
    "outputId": "0d1980a3-39a2-4a3f-c239-ebeb4029b513"
   },
   "outputs": [],
   "source": [
    "y_train[-1]"
   ]
  },
  {
   "cell_type": "markdown",
   "metadata": {
    "id": "kz6mmYJJkbu0"
   },
   "source": [
    "# Model Architecture"
   ]
  },
  {
   "cell_type": "code",
   "execution_count": null,
   "metadata": {
    "id": "r0Z3XG8Okbu5"
   },
   "outputs": [],
   "source": [
    "from tensorflow.keras.layers import Dense, Flatten\n",
    "from tensorflow.keras.layers import Conv2D, MaxPooling2D\n",
    "from tensorflow.keras.models import Sequential\n",
    "from tensorflow.keras.utils import to_categorical\n"
   ]
  },
  {
   "cell_type": "code",
   "execution_count": null,
   "metadata": {
    "id": "kCG10Tkikbu6"
   },
   "outputs": [],
   "source": [
    "# set image information\n",
    "channels=1\n",
    "height=28\n",
    "width=28"
   ]
  },
  {
   "cell_type": "code",
   "execution_count": null,
   "metadata": {
    "colab": {
     "base_uri": "https://localhost:8080/"
    },
    "id": "CcUu7jUwkbu8",
    "outputId": "f5d8fdce-e303-4e88-8138-2c9aa0bb0f13"
   },
   "outputs": [],
   "source": [
    "x_train.shape"
   ]
  },
  {
   "cell_type": "code",
   "execution_count": null,
   "metadata": {
    "colab": {
     "base_uri": "https://localhost:8080/"
    },
    "id": "fbWWxJA4kbu9",
    "outputId": "df0844c1-6e76-4abc-9194-8cda279e1986"
   },
   "outputs": [],
   "source": [
    "x_train"
   ]
  },
  {
   "cell_type": "code",
   "execution_count": null,
   "metadata": {
    "colab": {
     "base_uri": "https://localhost:8080/"
    },
    "id": "KgGGke9zkbu9",
    "outputId": "4073c3aa-ee79-410b-dbad-eef92112bf63"
   },
   "outputs": [],
   "source": [
    "x_train.shape"
   ]
  },
  {
   "cell_type": "code",
   "execution_count": null,
   "metadata": {
    "id": "wl8powVEkbu-"
   },
   "outputs": [],
   "source": [
    "#Keras format for img (no_of_img,height,width,,channel)\n",
    "train_data=x_train.reshape(x_train.shape[0],height,width,channels)"
   ]
  },
  {
   "cell_type": "code",
   "execution_count": null,
   "metadata": {
    "colab": {
     "base_uri": "https://localhost:8080/"
    },
    "id": "acsHjv4_kbu_",
    "outputId": "b27874f1-9dbe-46d1-d31b-1bac275455c8"
   },
   "outputs": [],
   "source": [
    "train_data.shape"
   ]
  },
  {
   "cell_type": "code",
   "execution_count": null,
   "metadata": {
    "id": "9gpi_nZ7kbvA"
   },
   "outputs": [],
   "source": [
    "test_data=x_test.reshape(x_test.shape[0],height,width,channels)"
   ]
  },
  {
   "cell_type": "code",
   "execution_count": null,
   "metadata": {
    "id": "XBMKjAkjkbvB"
   },
   "outputs": [],
   "source": [
    "# scale the data\n",
    "train_data=train_data/255\n",
    "test_data=test_data/255"
   ]
  },
  {
   "cell_type": "code",
   "execution_count": null,
   "metadata": {
    "colab": {
     "base_uri": "https://localhost:8080/"
    },
    "id": "EYj00kUskbvD",
    "outputId": "44556edf-bed9-4d38-ab6d-b578bc6a9a87"
   },
   "outputs": [],
   "source": [
    "y_train"
   ]
  },
  {
   "cell_type": "code",
   "execution_count": null,
   "metadata": {
    "id": "K0pnffc4kbvE"
   },
   "outputs": [],
   "source": [
    "# Encoding  of data\n",
    "train_target=to_categorical(y_train)\n",
    "test_target=to_categorical(y_test)"
   ]
  },
  {
   "cell_type": "code",
   "execution_count": null,
   "metadata": {
    "colab": {
     "base_uri": "https://localhost:8080/"
    },
    "id": "3JZEovl2kbvF",
    "outputId": "d1859385-097d-4240-a799-a4583f880559"
   },
   "outputs": [],
   "source": [
    "train_target"
   ]
  },
  {
   "cell_type": "code",
   "execution_count": null,
   "metadata": {
    "colab": {
     "base_uri": "https://localhost:8080/"
    },
    "id": "LsOuzd1UkbvG",
    "outputId": "df925b53-dbe9-416d-9b9c-87679b8b8240"
   },
   "outputs": [],
   "source": [
    "test_target.shape[1]"
   ]
  },
  {
   "cell_type": "code",
   "execution_count": null,
   "metadata": {
    "id": "cfKeNlyCkbvG"
   },
   "outputs": [],
   "source": [
    "#number of classes\n",
    "number_of_classes=test_target.shape[1]"
   ]
  },
  {
   "cell_type": "code",
   "execution_count": null,
   "metadata": {
    "id": "IZKqz8q-kbvH"
   },
   "outputs": [],
   "source": [
    "#model building\n",
    "\n",
    "model=Sequential()\n",
    "\n",
    "model.add(Conv2D(filters=64,kernel_size=(5,5),input_shape=(height,width,channels),activation='relu'))\n",
    "model.add(MaxPooling2D(pool_size=(2,2)))\n",
    "\n",
    "model.add(Conv2D(filters=32,kernel_size=(5,5),activation='relu'))\n",
    "model.add(MaxPooling2D(pool_size=(2,2)))\n",
    "\n",
    "model.add(Flatten())\n",
    "\n",
    "model.add(Dense(128,activation='relu'))\n",
    "\n",
    "model.add(Dense(number_of_classes,activation='softmax'))"
   ]
  },
  {
   "cell_type": "code",
   "execution_count": null,
   "metadata": {
    "colab": {
     "base_uri": "https://localhost:8080/"
    },
    "id": "U6DZ5K0DkbvI",
    "outputId": "214a6d25-1c4f-47b2-a52f-e3ed2893f447"
   },
   "outputs": [],
   "source": [
    "5*5*64+64"
   ]
  },
  {
   "cell_type": "code",
   "execution_count": null,
   "metadata": {
    "colab": {
     "base_uri": "https://localhost:8080/"
    },
    "id": "0fqc1R8IkbvI",
    "outputId": "b47ede37-f12b-4e55-da73-2e59225efda3"
   },
   "outputs": [],
   "source": [
    "(32*5*5)*64+32"
   ]
  },
  {
   "cell_type": "code",
   "execution_count": null,
   "metadata": {
    "colab": {
     "base_uri": "https://localhost:8080/",
     "height": 362
    },
    "id": "HV8y76g5kbvJ",
    "outputId": "3d5a9beb-d9dc-4763-87b7-4ff047ed2f86"
   },
   "outputs": [],
   "source": [
    "model.summary()"
   ]
  },
  {
   "cell_type": "code",
   "execution_count": null,
   "metadata": {
    "id": "ypCO5M_bkbvJ"
   },
   "outputs": [],
   "source": [
    "#compile the model\n",
    "model.compile(loss='categorical_crossentropy',optimizer='adam',metrics=['accuracy'])"
   ]
  },
  {
   "cell_type": "code",
   "execution_count": null,
   "metadata": {
    "colab": {
     "base_uri": "https://localhost:8080/"
    },
    "id": "b4oEXibjlhpp",
    "outputId": "d5441904-e304-41df-d5f5-2f46806f5314"
   },
   "outputs": [],
   "source": [
    "!pip install livelossplot"
   ]
  },
  {
   "cell_type": "code",
   "execution_count": null,
   "metadata": {
    "id": "dByPWuuukbvK"
   },
   "outputs": [],
   "source": [
    "from livelossplot import PlotLossesKerasTF"
   ]
  },
  {
   "cell_type": "code",
   "execution_count": null,
   "metadata": {
    "colab": {
     "base_uri": "https://localhost:8080/",
     "height": 939
    },
    "id": "TspfLcvlkbvK",
    "outputId": "9ef2227e-8b57-4525-a138-e3e5db9cda23"
   },
   "outputs": [],
   "source": [
    "# train the model\n",
    "res=model.fit(train_data,train_target,batch_size=16,epochs=5,validation_data=(test_data,test_target),callbacks=[PlotLossesKerasTF()])"
   ]
  },
  {
   "cell_type": "code",
   "execution_count": null,
   "metadata": {
    "colab": {
     "base_uri": "https://localhost:8080/"
    },
    "id": "o32rIelXkbvL",
    "outputId": "5be01b1e-e94f-4e81-9461-ff0dd5b3d539"
   },
   "outputs": [],
   "source": [
    "model.save(\"digitModel.h5\")"
   ]
  },
  {
   "cell_type": "code",
   "execution_count": null,
   "metadata": {
    "id": "3MLOpWfAkbvM"
   },
   "outputs": [],
   "source": [
    "from tensorflow.keras.models import load_model"
   ]
  },
  {
   "cell_type": "code",
   "execution_count": null,
   "metadata": {
    "colab": {
     "base_uri": "https://localhost:8080/"
    },
    "id": "V5H_zB7vkbvM",
    "outputId": "289f06e7-0e7a-49e5-dcfb-65feba3e56f5"
   },
   "outputs": [],
   "source": [
    "network=load_model('digitModel.h5')"
   ]
  },
  {
   "cell_type": "code",
   "execution_count": null,
   "metadata": {
    "colab": {
     "base_uri": "https://localhost:8080/",
     "height": 378
    },
    "id": "Kcn98b6_kbvN",
    "outputId": "d3fe1c56-06dd-4188-b9b3-942fd51417ad"
   },
   "outputs": [],
   "source": [
    "network.summary()"
   ]
  },
  {
   "cell_type": "code",
   "execution_count": null,
   "metadata": {
    "id": "qDwZgAHwkbvN"
   },
   "outputs": [],
   "source": [
    "import cv2"
   ]
  },
  {
   "cell_type": "code",
   "execution_count": null,
   "metadata": {
    "id": "KPy65JpFkbvO"
   },
   "outputs": [],
   "source": [
    "img=cv2.imread('/content/three.png',0)"
   ]
  },
  {
   "cell_type": "code",
   "execution_count": null,
   "metadata": {
    "colab": {
     "base_uri": "https://localhost:8080/"
    },
    "id": "du3HGjvDkbvO",
    "outputId": "5d73600f-7000-43a3-8975-5d358e31bfcf"
   },
   "outputs": [],
   "source": [
    "img.shape"
   ]
  },
  {
   "cell_type": "code",
   "execution_count": null,
   "metadata": {
    "id": "YQJp0xoqkbvP"
   },
   "outputs": [],
   "source": [
    "img = cv2.resize(img, (28, 28))\n",
    "x=img.reshape(1,28,28,1)"
   ]
  },
  {
   "cell_type": "code",
   "execution_count": null,
   "metadata": {
    "id": "xdPHSiyUkbvP"
   },
   "outputs": [],
   "source": [
    "x=x/255"
   ]
  },
  {
   "cell_type": "code",
   "execution_count": null,
   "metadata": {
    "colab": {
     "base_uri": "https://localhost:8080/"
    },
    "id": "u1x4XKUJkbv1",
    "outputId": "1df1a8b9-3ada-4ca5-9dc2-548ac5dde4b4"
   },
   "outputs": [],
   "source": [
    "network.predict(x)"
   ]
  },
  {
   "cell_type": "code",
   "execution_count": null,
   "metadata": {
    "colab": {
     "base_uri": "https://localhost:8080/"
    },
    "id": "FsVdacRfkbv2",
    "outputId": "c5369536-1adc-438b-cc72-d98b5607cf80"
   },
   "outputs": [],
   "source": [
    "network.predict(x).argmax(axis=1)"
   ]
  },
  {
   "cell_type": "code",
   "execution_count": null,
   "metadata": {
    "colab": {
     "base_uri": "https://localhost:8080/",
     "height": 449
    },
    "id": "gvFjYBYzkbv2",
    "outputId": "cd58dbd2-e028-4c7b-f295-07d1f9120bf8"
   },
   "outputs": [],
   "source": [
    "plt.imshow(img)\n"
   ]
  }
 ],
 "metadata": {
  "accelerator": "GPU",
  "colab": {
   "gpuType": "T4",
   "include_colab_link": true,
   "provenance": []
  },
  "kernelspec": {
   "display_name": "Python 3",
   "name": "python3"
  },
  "language_info": {
   "codemirror_mode": {
    "name": "ipython",
    "version": 3
   },
   "file_extension": ".py",
   "mimetype": "text/x-python",
   "name": "python",
   "nbconvert_exporter": "python",
   "pygments_lexer": "ipython3",
   "version": "3.9.13"
  }
 },
 "nbformat": 4,
 "nbformat_minor": 0
}
