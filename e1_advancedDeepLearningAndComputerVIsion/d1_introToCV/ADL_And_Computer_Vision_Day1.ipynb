{
 "cells": [
  {
   "cell_type": "markdown",
   "metadata": {
    "colab_type": "text",
    "id": "view-in-github"
   },
   "source": [
    "<a href=\"https://colab.research.google.com/github/toddwalters/pgaiml-python-coding-examples/blob/main/advanced-deep-learning-computer-vision/ADL_And_Computer_Vision_Day1.ipynb\" target=\"_parent\"><img src=\"https://colab.research.google.com/assets/colab-badge.svg\" alt=\"Open In Colab\"/></a>"
   ]
  },
  {
   "cell_type": "code",
   "execution_count": null,
   "metadata": {
    "colab": {
     "base_uri": "https://localhost:8080/"
    },
    "id": "8yP1of__LEkr",
    "outputId": "3cd9c32c-80b2-4ae2-dbc9-347c67a35d23"
   },
   "outputs": [],
   "source": [
    "!pip install opencv-python"
   ]
  },
  {
   "cell_type": "code",
   "execution_count": null,
   "metadata": {
    "id": "ZfpMGkBGKoPf"
   },
   "outputs": [],
   "source": [
    "# Import libraries\n",
    "import cv2\n",
    "import matplotlib.pyplot as plt\n",
    "from matplotlib.pyplot import imshow\n",
    "from google.colab.patches import cv2_imshow"
   ]
  },
  {
   "cell_type": "code",
   "execution_count": null,
   "metadata": {
    "id": "4M8M6XCKOC9t"
   },
   "outputs": [],
   "source": [
    "image1_path = '/content/drive/MyDrive/Colab Notebooks/datasets/1703138137_dataset/part_1/dataset_hist_structures/stuctures_dataset/gargoyle/000ed2fb-ff2b-4b3d-93fe-947abc3ab847.jpg'"
   ]
  },
  {
   "cell_type": "code",
   "execution_count": null,
   "metadata": {
    "id": "c4JG0EOxLYcU"
   },
   "outputs": [],
   "source": [
    "# Loading of image\n",
    "image = cv2.imread(image1_path)"
   ]
  },
  {
   "cell_type": "code",
   "execution_count": null,
   "metadata": {
    "colab": {
     "base_uri": "https://localhost:8080/",
     "height": 168
    },
    "id": "BsDUBVW8MEI5",
    "outputId": "a7a77327-dcb1-41f1-e62e-211f1725a95c"
   },
   "outputs": [],
   "source": [
    "image"
   ]
  },
  {
   "cell_type": "code",
   "execution_count": null,
   "metadata": {
    "colab": {
     "base_uri": "https://localhost:8080/",
     "height": 453
    },
    "id": "i9vIQi4mNG8n",
    "outputId": "f087f53f-add8-4252-bed1-6ba745065398"
   },
   "outputs": [],
   "source": [
    "imshow(image)"
   ]
  },
  {
   "cell_type": "code",
   "execution_count": null,
   "metadata": {
    "colab": {
     "base_uri": "https://localhost:8080/",
     "height": 145
    },
    "id": "uFp7iTtSMK95",
    "outputId": "064eb3cc-7cfa-4229-ea2b-1b6347a217c2"
   },
   "outputs": [],
   "source": [
    "cv2_imshow(image)"
   ]
  },
  {
   "cell_type": "code",
   "execution_count": null,
   "metadata": {
    "colab": {
     "base_uri": "https://localhost:8080/"
    },
    "id": "-PAR6L9CM679",
    "outputId": "ca16dc25-1d6c-4cd0-bffc-509e15841b2a"
   },
   "outputs": [],
   "source": [
    "image.shape"
   ]
  },
  {
   "cell_type": "code",
   "execution_count": null,
   "metadata": {
    "id": "bQjakwn4M_ew"
   },
   "outputs": [],
   "source": [
    "height,width,channel = image.shape"
   ]
  },
  {
   "cell_type": "code",
   "execution_count": null,
   "metadata": {
    "colab": {
     "base_uri": "https://localhost:8080/"
    },
    "id": "3Jr_zbdrNR-q",
    "outputId": "a446901e-781c-4c6b-80cc-8e7b3dfee810"
   },
   "outputs": [],
   "source": [
    "print(f'Image dimension: {image.shape}')\n",
    "print(f'Image height: {height}')\n",
    "print(f'Image width: {width}')\n",
    "print(f'Image channel: {channel}')"
   ]
  },
  {
   "cell_type": "code",
   "execution_count": null,
   "metadata": {
    "id": "LDcYLW4QNg-m"
   },
   "outputs": [],
   "source": [
    "# Input image in grayscale format\n",
    "# img_gray = cv2.imread(image1_path, cv2.IMREAD_GRAYSCALE)\n",
    "img_gray = cv2.imread(image1_path, cv2.IMREAD_COLOR)"
   ]
  },
  {
   "cell_type": "code",
   "execution_count": null,
   "metadata": {
    "colab": {
     "base_uri": "https://localhost:8080/",
     "height": 168
    },
    "id": "C4OaS_VUN9CL",
    "outputId": "ca89ab8a-0f88-4014-b67d-979fad14ba96"
   },
   "outputs": [],
   "source": [
    "img_gray"
   ]
  },
  {
   "cell_type": "code",
   "execution_count": null,
   "metadata": {
    "colab": {
     "base_uri": "https://localhost:8080/",
     "height": 168
    },
    "id": "_x9k8ycTOxMF",
    "outputId": "e015fa32-a55a-4752-d822-49ee91e64d07"
   },
   "outputs": [],
   "source": [
    "# Convert to RGB\n",
    "img_color = cv2.cvtColor(image, cv2.COLOR_BGR2RGB)\n",
    "img_color"
   ]
  },
  {
   "cell_type": "code",
   "execution_count": null,
   "metadata": {
    "colab": {
     "base_uri": "https://localhost:8080/",
     "height": 145
    },
    "id": "fer_UelGPUQ7",
    "outputId": "f420da06-7c0d-432d-e952-72af5e1ca9a6"
   },
   "outputs": [],
   "source": [
    "cv2_imshow(img_color)"
   ]
  },
  {
   "cell_type": "code",
   "execution_count": null,
   "metadata": {
    "colab": {
     "base_uri": "https://localhost:8080/",
     "height": 440
    },
    "id": "QDItPlL_QOJT",
    "outputId": "0434f4a3-7e48-49db-f36f-a92d04663546"
   },
   "outputs": [],
   "source": [
    "# resize the image\n",
    "new_image = cv2.resize(img_color, (400,400)) # (width, height)\n",
    "\n",
    "new_image"
   ]
  },
  {
   "cell_type": "code",
   "execution_count": null,
   "metadata": {
    "colab": {
     "base_uri": "https://localhost:8080/",
     "height": 454
    },
    "id": "Po5XmK-_SOcX",
    "outputId": "59277f4b-db7e-437c-e60a-2e08e164c4db"
   },
   "outputs": [],
   "source": [
    "imshow(new_image)"
   ]
  },
  {
   "cell_type": "code",
   "execution_count": null,
   "metadata": {
    "colab": {
     "base_uri": "https://localhost:8080/",
     "height": 217
    },
    "id": "wg4s7aHVRS3l",
    "outputId": "a1bb7233-6bd5-4bae-afe5-c1d1a26e85e9"
   },
   "outputs": [],
   "source": [
    "crop_img = new_image[100:300, 50:350] #(height(start:end), width(start:end))\n",
    "cv2_imshow(crop_img)"
   ]
  }
 ],
 "metadata": {
  "colab": {
   "authorship_tag": "ABX9TyNNDMS0HU9ZvGhhc7yKyOtu",
   "include_colab_link": true,
   "mount_file_id": "1Pyu1jQn17Gsb0gFDIJRYDJ2mCS2WU6ce",
   "provenance": []
  },
  "kernelspec": {
   "display_name": "Python 3",
   "name": "python3"
  },
  "language_info": {
   "name": "python"
  }
 },
 "nbformat": 4,
 "nbformat_minor": 0
}
