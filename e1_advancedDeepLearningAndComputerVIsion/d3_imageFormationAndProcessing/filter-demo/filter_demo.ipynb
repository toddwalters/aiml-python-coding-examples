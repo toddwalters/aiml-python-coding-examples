{
 "cells": [
  {
   "cell_type": "markdown",
   "metadata": {
    "colab_type": "text",
    "id": "view-in-github"
   },
   "source": [
    "<a href=\"https://colab.research.google.com/github/toddwalters/pgaiml-python-coding-examples/blob/main/advanced-deep-learning-computer-vision/d3/filter%20demo/Day3.ipynb\" target=\"_parent\"><img src=\"https://colab.research.google.com/assets/colab-badge.svg\" alt=\"Open In Colab\"/></a>"
   ]
  },
  {
   "cell_type": "code",
   "execution_count": null,
   "metadata": {
    "colab": {
     "base_uri": "https://localhost:8080/"
    },
    "id": "hYjTqM8OEJWN",
    "outputId": "74a83b93-e7ea-4655-b700-6f7c114da9dd"
   },
   "outputs": [],
   "source": [
    "from google.colab import drive\n",
    "drive.mount('/content/drive')"
   ]
  },
  {
   "cell_type": "code",
   "execution_count": null,
   "metadata": {
    "id": "_dBu66x3QZ2e"
   },
   "outputs": [],
   "source": [
    "file_path = '/content/drive/MyDrive/Colab Notebooks/datasets/advDLandCV/d3/leopard.jpg'"
   ]
  },
  {
   "cell_type": "markdown",
   "metadata": {
    "id": "ihS8rcqSQb_s"
   },
   "source": [
    "**Image Preprocesing Steps**\n",
    "\n",
    "- *Load Image*\n",
    "\n",
    "- *Resize*\n",
    "\n",
    "Standardization --> Classification\n",
    "\n",
    "- *Roatation (OPtional)*\n",
    "\n",
    "Standardization\n",
    "\n",
    "- *Grayscale Conversion*\n",
    "\n",
    "Simplication--> Edge Detection, Contouring\n",
    "\n",
    "- *Histogram Equalization*\n",
    "\n",
    "Contrast Enhancement --> Classification, Segmenatation\n",
    "\n",
    "- *Filters (Noise Reduction)*\n",
    "\n",
    "- Thresholding\n",
    "\n",
    "Binarization --> Segmentation, Object detection\n",
    "\n",
    "- *Edge Detection*\n",
    "\n",
    "Object detection, Feature Extraction\n",
    "\n",
    "- Contour Detection\n",
    "\n",
    "Boundary detection --> Object detection, Shape Analysis\n",
    "\n",
    "- Houugh Transformation\n",
    "\n",
    "Shape detection --> Object detection, Feature Extraction\n",
    "\n"
   ]
  },
  {
   "cell_type": "code",
   "execution_count": null,
   "metadata": {
    "id": "tlD0Xgq4WSmw"
   },
   "outputs": [],
   "source": [
    "import cv2\n",
    "\n",
    "import numpy as np\n",
    "import matplotlib.pyplot as plt\n",
    "\n",
    "from google.colab.patches import cv2_imshow"
   ]
  },
  {
   "cell_type": "code",
   "execution_count": null,
   "metadata": {
    "id": "LIS3WuN2WSqL"
   },
   "outputs": [],
   "source": []
  },
  {
   "cell_type": "markdown",
   "metadata": {
    "id": "75wBGb1aUl79"
   },
   "source": [
    "**Fiters**\n",
    "\n",
    "- Gaussian Filter\n",
    "\n",
    "Noise Reduction, Image Blur (blur edges)\n",
    "\n",
    "- High Pass Filter\n",
    "\n",
    "Edge deetction, Image sharpening , amplify noise\n",
    "\n",
    "- Low Pas Filter\n",
    "\n",
    "Noise Reduction, Image Blur\n",
    "\n"
   ]
  },
  {
   "cell_type": "code",
   "execution_count": null,
   "metadata": {
    "colab": {
     "base_uri": "https://localhost:8080/",
     "height": 398
    },
    "id": "nKykqOo9Q_Zp",
    "outputId": "d08a1ddf-3643-4995-f106-53541c67014b"
   },
   "outputs": [],
   "source": [
    "# GaussianBlur\n",
    "\n",
    "img_color = cv2.imread(file_path, cv2.IMREAD_COLOR)\n",
    "\n",
    "gray_img = cv2.cvtColor(img_color, cv2.COLOR_BGR2GRAY)\n",
    "\n",
    "gaussian_blur = cv2.GaussianBlur(gray_img, (15,15), 0)\n",
    "\n",
    "plt.figure(figsize=(12,8))\n",
    "plt.subplot(1,2,1)\n",
    "plt.imshow(gray_img, cmap='gray')\n",
    "plt.title('Original Grayscale Image')\n",
    "\n",
    "plt.subplot(1,2,2)\n",
    "plt.imshow(gaussian_blur, cmap='gray')\n",
    "plt.title('Gaussian Blur Image')"
   ]
  },
  {
   "cell_type": "markdown",
   "metadata": {
    "id": "DykcxruQeXKb"
   },
   "source": [
    "High Pass Filter"
   ]
  },
  {
   "cell_type": "code",
   "execution_count": null,
   "metadata": {
    "colab": {
     "base_uri": "https://localhost:8080/",
     "height": 398
    },
    "id": "8JDazLCja-1m",
    "outputId": "16453309-d4b0-4e78-93e3-95492cfa9633"
   },
   "outputs": [],
   "source": [
    "\n",
    "low_pass = cv2.GaussianBlur(gray_img, (15,15), 0)\n",
    "\n",
    "high_pass = cv2.subtract(gray_img, low_pass)\n",
    "\n",
    "plt.figure(figsize=(12,8))\n",
    "plt.subplot(1,2,1)\n",
    "plt.imshow(gray_img, cmap='gray')\n",
    "plt.title('Original Grayscale Image')\n",
    "\n",
    "plt.subplot(1,2,2)\n",
    "plt.imshow(high_pass, cmap='gray')\n",
    "plt.title('High Pass Filtered Image')\n",
    "\n"
   ]
  },
  {
   "cell_type": "code",
   "execution_count": null,
   "metadata": {
    "colab": {
     "base_uri": "https://localhost:8080/",
     "height": 398
    },
    "id": "wgswyEgXdBCx",
    "outputId": "35aafe8c-213d-4b02-f4e9-774329812c1c"
   },
   "outputs": [],
   "source": [
    "# Low pass filter\n",
    "\n",
    "low_pass = cv2.GaussianBlur(gray_img, (15,15), 0)\n",
    "\n",
    "plt.figure(figsize=(12,8))\n",
    "plt.subplot(1,2,1)\n",
    "plt.imshow(gray_img, cmap='gray')\n",
    "plt.title('Original Grayscale Image')\n",
    "\n",
    "plt.subplot(1,2,2)\n",
    "plt.imshow(low_pass, cmap='gray')\n",
    "plt.title('Low Pass Filtered Image')"
   ]
  },
  {
   "cell_type": "markdown",
   "metadata": {
    "id": "1q7pXOVQe5Mn"
   },
   "source": [
    "**Histogram Equalization**"
   ]
  },
  {
   "cell_type": "code",
   "execution_count": null,
   "metadata": {
    "id": "2i9ohxDS4-TN"
   },
   "outputs": [],
   "source": [
    "# Histogram Equalization is a computer image processing technique used to improve contrast in images\n",
    "# Contrast Enhancement --> Classification, Segmenatation"
   ]
  },
  {
   "cell_type": "code",
   "execution_count": null,
   "metadata": {
    "colab": {
     "base_uri": "https://localhost:8080/",
     "height": 398
    },
    "id": "U-WJ5Pk-d6sL",
    "outputId": "f2842f10-7783-40c3-ee9d-350a0fc0c46a"
   },
   "outputs": [],
   "source": [
    "img_color = cv2.imread(file_path, cv2.IMREAD_COLOR)\n",
    "\n",
    "gray_img = cv2.cvtColor(img_color, cv2.COLOR_BGR2GRAY)\n",
    "\n",
    "#equalizeHist() function normalises the brightness and also increases the contrast.\n",
    "# This algorithm can be applied to improve the contrast of the images.\n",
    "\n",
    "equalized_image = cv2.equalizeHist(gray_img)\n",
    "plt.figure(figsize=(12,8))\n",
    "\n",
    "plt.subplot(1,2,1)\n",
    "plt.imshow(gray_img, cmap='gray')\n",
    "plt.title('Original Grayscale Image')\n",
    "\n",
    "plt.subplot(1,2,2)\n",
    "plt.imshow(equalized_image, cmap='gray')\n",
    "plt.title('Histogram Equalized Image')\n",
    "\n"
   ]
  },
  {
   "cell_type": "code",
   "execution_count": null,
   "metadata": {
    "id": "jRAxrVLUjrNB"
   },
   "outputs": [],
   "source": []
  }
 ],
 "metadata": {
  "colab": {
   "include_colab_link": true,
   "provenance": []
  },
  "kernelspec": {
   "display_name": "Python 3",
   "name": "python3"
  },
  "language_info": {
   "name": "python"
  }
 },
 "nbformat": 4,
 "nbformat_minor": 0
}
