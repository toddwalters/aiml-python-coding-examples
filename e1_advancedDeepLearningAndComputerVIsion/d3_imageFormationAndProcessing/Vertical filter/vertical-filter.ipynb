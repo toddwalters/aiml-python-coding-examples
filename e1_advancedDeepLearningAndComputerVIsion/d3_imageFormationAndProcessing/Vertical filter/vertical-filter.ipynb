{
 "cells": [
  {
   "cell_type": "code",
   "execution_count": null,
   "metadata": {
    "executionInfo": {
     "elapsed": 517,
     "status": "ok",
     "timestamp": 1723914116357,
     "user": {
      "displayName": "Dr. Nisarg Gandhewar",
      "userId": "08865821500269811620"
     },
     "user_tz": -330
    },
    "id": "ONdR0EBKvxGV"
   },
   "outputs": [],
   "source": [
    "import cv2\n",
    "\n",
    "import numpy as np\n",
    "import matplotlib.pyplot as plt\n",
    "\n",
    "from google.colab.patches import cv2_imshow"
   ]
  },
  {
   "cell_type": "code",
   "execution_count": null,
   "metadata": {
    "colab": {
     "base_uri": "https://localhost:8080/",
     "height": 388
    },
    "executionInfo": {
     "elapsed": 3173,
     "status": "ok",
     "timestamp": 1723914227496,
     "user": {
      "displayName": "Dr. Nisarg Gandhewar",
      "userId": "08865821500269811620"
     },
     "user_tz": -330
    },
    "id": "nwfAuIjCwMn4",
    "outputId": "29fb78da-187e-48a9-b503-666b22b7d5bd"
   },
   "outputs": [],
   "source": [
    "image = cv2.imread('/content/city.jpg')\n",
    "plt.imshow(image)"
   ]
  },
  {
   "cell_type": "code",
   "execution_count": null,
   "metadata": {
    "colab": {
     "base_uri": "https://localhost:8080/"
    },
    "executionInfo": {
     "elapsed": 487,
     "status": "ok",
     "timestamp": 1723914240111,
     "user": {
      "displayName": "Dr. Nisarg Gandhewar",
      "userId": "08865821500269811620"
     },
     "user_tz": -330
    },
    "id": "ztui4QOtwae6",
    "outputId": "143c881e-4dd3-4c22-8427-fbec4c6d206c"
   },
   "outputs": [],
   "source": [
    "image.shape"
   ]
  },
  {
   "cell_type": "code",
   "execution_count": null,
   "metadata": {
    "colab": {
     "base_uri": "https://localhost:8080/"
    },
    "executionInfo": {
     "elapsed": 719,
     "status": "ok",
     "timestamp": 1723914247398,
     "user": {
      "displayName": "Dr. Nisarg Gandhewar",
      "userId": "08865821500269811620"
     },
     "user_tz": -330
    },
    "id": "wze5ZfxZwg8i",
    "outputId": "6cbf5e2a-7eef-4b36-d6a3-df678a90931d"
   },
   "outputs": [],
   "source": [
    "depth = image.dtype\n",
    "depth"
   ]
  },
  {
   "cell_type": "code",
   "execution_count": null,
   "metadata": {
    "colab": {
     "base_uri": "https://localhost:8080/",
     "height": 388
    },
    "executionInfo": {
     "elapsed": 3016,
     "status": "ok",
     "timestamp": 1723914260259,
     "user": {
      "displayName": "Dr. Nisarg Gandhewar",
      "userId": "08865821500269811620"
     },
     "user_tz": -330
    },
    "id": "CHGLiNbxwl9J",
    "outputId": "d6e3af52-b057-462f-f7a5-722f4377e5b9"
   },
   "outputs": [],
   "source": [
    "image_rgb = cv2.cvtColor(image, cv2.COLOR_BGR2RGB)\n",
    "\n",
    "plt.imshow(image_rgb)"
   ]
  },
  {
   "cell_type": "markdown",
   "metadata": {
    "id": "SkpwZxM3w65n"
   },
   "source": [
    "**Edge Detector**\n",
    "\n",
    "- Vertical Edge Detector\n",
    "\n",
    "detect change in intensity in vertical direction\n",
    "\n",
    "- Horizontal Edge detector\n",
    "\n",
    "detect change in intensity in horizontal  direction"
   ]
  },
  {
   "cell_type": "code",
   "execution_count": null,
   "metadata": {
    "colab": {
     "base_uri": "https://localhost:8080/",
     "height": 388
    },
    "executionInfo": {
     "elapsed": 3109,
     "status": "ok",
     "timestamp": 1723914334491,
     "user": {
      "displayName": "Dr. Nisarg Gandhewar",
      "userId": "08865821500269811620"
     },
     "user_tz": -330
    },
    "id": "qYlOH5MAwzWw",
    "outputId": "2110b8a8-9cbd-4b7f-bacd-abf02bf49971"
   },
   "outputs": [],
   "source": [
    "kernel = np.float32([[-1, 0, 1],\n",
    "                    [-1, 0, 1],\n",
    "                    [-1, 0, 1]])\n",
    "\n",
    "vertical_edges = cv2.filter2D(image, -1, kernel)\n",
    "\n",
    "plt.imshow(vertical_edges)"
   ]
  },
  {
   "cell_type": "code",
   "execution_count": null,
   "metadata": {
    "colab": {
     "base_uri": "https://localhost:8080/",
     "height": 268
    },
    "executionInfo": {
     "elapsed": 5429,
     "status": "ok",
     "timestamp": 1723914373972,
     "user": {
      "displayName": "Dr. Nisarg Gandhewar",
      "userId": "08865821500269811620"
     },
     "user_tz": -330
    },
    "id": "lxKwADM5x1Jg",
    "outputId": "9495c20b-08a2-449a-c805-74a777d1515c"
   },
   "outputs": [],
   "source": [
    "v_kernel = np.float32([[-1, 0, 1],\n",
    "                    [-2, 0, 2],\n",
    "                    [-1, 0, 1]])\n",
    "\n",
    "vertical_edges_2 = cv2.filter2D(image, -1, v_kernel)\n",
    "# -1 : depth of destination image\n",
    "\n",
    "plt.figure(figsize=(12, 8))\n",
    "\n",
    "plt.subplot(1, 3, 1)\n",
    "plt.imshow(image)\n",
    "plt.title('Original Image')\n",
    "\n",
    "plt.subplot(1, 3, 2)\n",
    "plt.imshow(vertical_edges)\n",
    "plt.title('Vertical Edge')\n",
    "\n",
    "plt.subplot(1, 3, 3)\n",
    "plt.imshow(vertical_edges_2)\n",
    "plt.title('Vertical Edge 2')"
   ]
  },
  {
   "cell_type": "code",
   "execution_count": null,
   "metadata": {
    "colab": {
     "base_uri": "https://localhost:8080/"
    },
    "executionInfo": {
     "elapsed": 468,
     "status": "ok",
     "timestamp": 1723810036568,
     "user": {
      "displayName": "Dr. Nisarg Gandhewar",
      "userId": "08865821500269811620"
     },
     "user_tz": -330
    },
    "id": "cY_8q9CCyL4R",
    "outputId": "5e249192-a7ce-4fa6-ede8-d3f6ef44c946"
   },
   "outputs": [],
   "source": [
    "2**16"
   ]
  },
  {
   "cell_type": "markdown",
   "metadata": {
    "id": "qpfghTLr0-je"
   },
   "source": [
    "Horizontal edge detector"
   ]
  },
  {
   "cell_type": "code",
   "execution_count": null,
   "metadata": {
    "colab": {
     "base_uri": "https://localhost:8080/",
     "height": 268
    },
    "executionInfo": {
     "elapsed": 5975,
     "status": "ok",
     "timestamp": 1723914449733,
     "user": {
      "displayName": "Dr. Nisarg Gandhewar",
      "userId": "08865821500269811620"
     },
     "user_tz": -330
    },
    "id": "UrroIZLW0MBk",
    "outputId": "a2354e57-0b6e-465f-a9f1-0eb80bbffebf"
   },
   "outputs": [],
   "source": [
    "h_kernel_1 = np.float32([[-1, -1, -1],\n",
    "                    [0, 0, 0],\n",
    "                    [1, 1, 1]])\n",
    "\n",
    "horizontal_edges_1 = cv2.filter2D(image, -1, h_kernel_1)\n",
    "# -1 : depth of destination image\n",
    "\n",
    "\n",
    "h_kernel_2 = np.float32([[-1, -2, -1],\n",
    "                    [0, 0, 0],\n",
    "                    [1, 2, 1]])\n",
    "horizontal_edges_2 = cv2.filter2D(image, -1, h_kernel_2)\n",
    "\n",
    "plt.figure(figsize=(12, 8))\n",
    "\n",
    "plt.subplot(1, 3, 1)\n",
    "plt.imshow(image)\n",
    "plt.title('Origincal Image')\n",
    "\n",
    "plt.subplot(1, 3, 2)\n",
    "plt.imshow(horizontal_edges_1)\n",
    "plt.title('Horizontal Edge 1')\n",
    "\n",
    "plt.subplot(1, 3, 3)\n",
    "plt.imshow(horizontal_edges_2)\n",
    "plt.title('Horizontal Edge 2')"
   ]
  },
  {
   "cell_type": "code",
   "execution_count": null,
   "metadata": {
    "id": "5B-KrpHL1vIV"
   },
   "outputs": [],
   "source": []
  }
 ],
 "metadata": {
  "colab": {
   "provenance": []
  },
  "kernelspec": {
   "display_name": "Python 3",
   "name": "python3"
  },
  "language_info": {
   "name": "python"
  }
 },
 "nbformat": 4,
 "nbformat_minor": 0
}
