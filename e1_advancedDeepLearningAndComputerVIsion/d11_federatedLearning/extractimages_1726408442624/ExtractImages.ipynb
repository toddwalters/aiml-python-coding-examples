{
  "cells": [
    {
      "cell_type": "code",
      "execution_count": 1,
      "id": "8b866eb5",
      "metadata": {
        "id": "8b866eb5"
      },
      "outputs": [],
      "source": [
        "import cv2\n",
        "import os\n",
        "import matplotlib.pyplot as plt"
      ]
    },
    {
      "cell_type": "code",
      "execution_count": null,
      "id": "d4a4ed4c",
      "metadata": {
        "id": "d4a4ed4c"
      },
      "outputs": [],
      "source": [
        "#!pip3 install opencv-python"
      ]
    },
    {
      "cell_type": "code",
      "execution_count": 5,
      "id": "88fa8d09",
      "metadata": {
        "colab": {
          "base_uri": "https://localhost:8080/"
        },
        "id": "88fa8d09",
        "outputId": "068e2c8d-6686-4136-ebbc-81806b448a41"
      },
      "outputs": [
        {
          "output_type": "stream",
          "name": "stdout",
          "text": [
            "frames per second = 24.0\n"
          ]
        }
      ],
      "source": [
        "# Check for frames per second\n",
        "video = cv2.VideoCapture('/content/bird.mp4')\n",
        "fps = video.get(cv2.CAP_PROP_FPS)\n",
        "print('frames per second =',fps)"
      ]
    },
    {
      "cell_type": "code",
      "execution_count": 6,
      "id": "9ecfae4b",
      "metadata": {
        "id": "9ecfae4b"
      },
      "outputs": [],
      "source": [
        "# Opens the Video file\n",
        "cap= cv2.VideoCapture('/content/bird.mp4')\n",
        "\n",
        "i=0\n",
        "while(cap.isOpened()):\n",
        "    ret, frame = cap.read()\n",
        "    if ret == False:\n",
        "        break\n",
        "    #cv2.imwrite('/content/output'+'P'+str(i)+'.jpg',frame)\n",
        "    cv2.imwrite('/content/output/'+str(i)+'.jpg',frame)\n",
        "    i+=1\n",
        "\n",
        "\n",
        "cap.release()\n",
        "cv2.destroyAllWindows()"
      ]
    }
  ],
  "metadata": {
    "kernelspec": {
      "display_name": "Python 3 (ipykernel)",
      "language": "python",
      "name": "python3"
    },
    "language_info": {
      "codemirror_mode": {
        "name": "ipython",
        "version": 3
      },
      "file_extension": ".py",
      "mimetype": "text/x-python",
      "name": "python",
      "nbconvert_exporter": "python",
      "pygments_lexer": "ipython3",
      "version": "3.11.5"
    },
    "colab": {
      "provenance": []
    }
  },
  "nbformat": 4,
  "nbformat_minor": 5
}