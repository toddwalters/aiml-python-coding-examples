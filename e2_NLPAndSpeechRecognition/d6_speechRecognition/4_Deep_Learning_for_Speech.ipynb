{
  "cells": [
    {
      "cell_type": "markdown",
      "metadata": {
        "id": "je7nxqWidWvs"
      },
      "source": [
        "# <center> <font size = 24 color = 'steelblue'>**Deep Learning for speech**"
      ]
    },
    {
      "cell_type": "markdown",
      "metadata": {
        "id": "V-VlJK2_dWvu"
      },
      "source": [
        "<div class=\"alert alert-block alert-info\">\n",
        "<font size = 4>\n",
        "    \n",
        "**By the end of this notebook you will be able to:**\n",
        "- Apply EDA with audio data    \n",
        "- Extraction features\n",
        "- Perform data pre-processing\n",
        "- Build a CNN model\n",
        "- Perform Model evaluation"
      ]
    },
    {
      "cell_type": "markdown",
      "metadata": {
        "id": "bngT7navdWvv"
      },
      "source": [
        "# <a id= 'd0'>\n",
        "<font size = 4>\n",
        "\n",
        "**Table of Content**<br>\n",
        "[1. Data description](#d1)<br>\n",
        "[2. Exploratory data analysis](#d2)<br>\n",
        "[3. Data pre-processing](#d3)<br>\n",
        "[4. Feature extraction](#d4)<br>\n",
        "[5. Data preparation for model building](#d5)<br>\n",
        "[6. Model development](#d6)<br>\n",
        "[7. Post-model analysis](#d7)<br>"
      ]
    },
    {
      "cell_type": "markdown",
      "metadata": {
        "id": "LmXv8q5XdWvv"
      },
      "source": [
        "##### <a id = 'd1'>\n",
        "<font size = 10 color = 'midnightblue'> <b>Data Description"
      ]
    },
    {
      "cell_type": "markdown",
      "metadata": {
        "id": "WVvz6swudWvv"
      },
      "source": [
        "<div class=\"alert alert-block alert-success\">\n",
        "<font size = 4>\n",
        "    \n",
        "- The data used here is the `Ryerson Audio-Visual Database of Emotional Speech and Song or RAVDESS`.\n",
        "- The section of data used here comprises **1440 files**, resulting from **60 trials per actor multiplied by 24 actors**.\n",
        "- The RAVDESS features 24 professional actors, evenly divided between 12 females and 12 males.\n",
        "- These actors vocalize two lexically-matched statements in a neutral North American accent.\n",
        "- Speech emotions included in the dataset encompass calm, happy, sad, angry, fearful, surprise, and disgust expressions.\n",
        "- Each expression is generated at two levels of emotional intensity, namely normal and strong, with an additional neutral expression.\n",
        "    \n",
        "Citation: Livingstone SR, Russo FA (2018) The Ryerson Audio-Visual Database of Emotional Speech and Song (RAVDESS): A dynamic, multimodal set of facial and vocal expressions in North American English. PLoS ONE 13(5): e0196391. https://doi.org/10.1371/journal.pone.0196391."
      ]
    },
    {
      "cell_type": "markdown",
      "metadata": {
        "id": "Kc3lo1sGdWvw"
      },
      "source": [
        "[top](#d0)"
      ]
    },
    {
      "cell_type": "markdown",
      "metadata": {
        "id": "8tXmNKpbKags"
      },
      "source": [
        "##### <a id = 'd2'>\n",
        "<font size = 10 color = 'midnightblue'> <b> Exploratory data analysis"
      ]
    },
    {
      "cell_type": "markdown",
      "metadata": {
        "id": "wb2P_PjddWvw"
      },
      "source": [
        "<font size = 5 color = seagreen><b> Install and import required libraries"
      ]
    },
    {
      "cell_type": "code",
      "execution_count": 1,
      "metadata": {
        "collapsed": true,
        "id": "AL4NJtJGMeZu",
        "jupyter": {
          "outputs_hidden": true
        }
      },
      "outputs": [
        {
          "name": "stdout",
          "output_type": "stream",
          "text": [
            "Collecting scikeras\n",
            "  Using cached scikeras-0.13.0-py3-none-any.whl.metadata (3.1 kB)\n",
            "Requirement already satisfied: keras>=3.2.0 in /opt/homebrew/anaconda3/envs/nlp-play/lib/python3.12/site-packages (from scikeras) (3.6.0)\n",
            "Requirement already satisfied: scikit-learn>=1.4.2 in /opt/homebrew/anaconda3/envs/nlp-play/lib/python3.12/site-packages (from scikeras) (1.5.2)\n",
            "Requirement already satisfied: absl-py in /opt/homebrew/anaconda3/envs/nlp-play/lib/python3.12/site-packages (from keras>=3.2.0->scikeras) (2.1.0)\n",
            "Requirement already satisfied: numpy in /opt/homebrew/anaconda3/envs/nlp-play/lib/python3.12/site-packages (from keras>=3.2.0->scikeras) (1.26.4)\n",
            "Requirement already satisfied: rich in /opt/homebrew/anaconda3/envs/nlp-play/lib/python3.12/site-packages (from keras>=3.2.0->scikeras) (13.9.2)\n",
            "Requirement already satisfied: namex in /opt/homebrew/anaconda3/envs/nlp-play/lib/python3.12/site-packages (from keras>=3.2.0->scikeras) (0.0.8)\n",
            "Requirement already satisfied: h5py in /opt/homebrew/anaconda3/envs/nlp-play/lib/python3.12/site-packages (from keras>=3.2.0->scikeras) (3.12.1)\n",
            "Requirement already satisfied: optree in /opt/homebrew/anaconda3/envs/nlp-play/lib/python3.12/site-packages (from keras>=3.2.0->scikeras) (0.13.0)\n",
            "Requirement already satisfied: ml-dtypes in /opt/homebrew/anaconda3/envs/nlp-play/lib/python3.12/site-packages (from keras>=3.2.0->scikeras) (0.3.2)\n",
            "Requirement already satisfied: packaging in /opt/homebrew/anaconda3/envs/nlp-play/lib/python3.12/site-packages (from keras>=3.2.0->scikeras) (24.1)\n",
            "Requirement already satisfied: scipy>=1.6.0 in /opt/homebrew/anaconda3/envs/nlp-play/lib/python3.12/site-packages (from scikit-learn>=1.4.2->scikeras) (1.13.1)\n",
            "Requirement already satisfied: joblib>=1.2.0 in /opt/homebrew/anaconda3/envs/nlp-play/lib/python3.12/site-packages (from scikit-learn>=1.4.2->scikeras) (1.4.2)\n",
            "Requirement already satisfied: threadpoolctl>=3.1.0 in /opt/homebrew/anaconda3/envs/nlp-play/lib/python3.12/site-packages (from scikit-learn>=1.4.2->scikeras) (3.5.0)\n",
            "Requirement already satisfied: typing-extensions>=4.5.0 in /opt/homebrew/anaconda3/envs/nlp-play/lib/python3.12/site-packages (from optree->keras>=3.2.0->scikeras) (4.12.2)\n",
            "Requirement already satisfied: markdown-it-py>=2.2.0 in /opt/homebrew/anaconda3/envs/nlp-play/lib/python3.12/site-packages (from rich->keras>=3.2.0->scikeras) (3.0.0)\n",
            "Requirement already satisfied: pygments<3.0.0,>=2.13.0 in /opt/homebrew/anaconda3/envs/nlp-play/lib/python3.12/site-packages (from rich->keras>=3.2.0->scikeras) (2.18.0)\n",
            "Requirement already satisfied: mdurl~=0.1 in /opt/homebrew/anaconda3/envs/nlp-play/lib/python3.12/site-packages (from markdown-it-py>=2.2.0->rich->keras>=3.2.0->scikeras) (0.1.2)\n",
            "Using cached scikeras-0.13.0-py3-none-any.whl (26 kB)\n",
            "Installing collected packages: scikeras\n",
            "Successfully installed scikeras-0.13.0\n",
            "Requirement already satisfied: resampy in /opt/homebrew/anaconda3/envs/nlp-play/lib/python3.12/site-packages (0.4.3)\n",
            "Requirement already satisfied: numpy>=1.17 in /opt/homebrew/anaconda3/envs/nlp-play/lib/python3.12/site-packages (from resampy) (1.26.4)\n",
            "Requirement already satisfied: numba>=0.53 in /opt/homebrew/anaconda3/envs/nlp-play/lib/python3.12/site-packages (from resampy) (0.60.0)\n",
            "Requirement already satisfied: llvmlite<0.44,>=0.43.0dev0 in /opt/homebrew/anaconda3/envs/nlp-play/lib/python3.12/site-packages (from numba>=0.53->resampy) (0.43.0)\n"
          ]
        }
      ],
      "source": [
        "# After installation, restart the session and then run the below cells\n",
        "! pip install scikeras\n",
        "! pip3 install resampy"
      ]
    },
    {
      "cell_type": "code",
      "execution_count": 2,
      "metadata": {},
      "outputs": [
        {
          "name": "stdout",
          "output_type": "stream",
          "text": [
            "Running in local environment\n",
            "\n"
          ]
        }
      ],
      "source": [
        "import os\n",
        "from dotenv import load_dotenv\n",
        "\n",
        "try:\n",
        "    from google.colab import drive\n",
        "    # drive.mount('/content/drive')\n",
        "    load_dotenv(verbose=True, dotenv_path='.env', override=True)\n",
        "    DATASET_PATH = os.getenv('COLAB_DATASET_PATH')\n",
        "    print(\"Running in Colab environment\")\n",
        "except ModuleNotFoundError:\n",
        "    load_dotenv(verbose=True, dotenv_path='.env', override=True)\n",
        "    DATASET_PATH = os.getenv('DATASET_PATH', default='/default/dataset/path')\n",
        "    print(\"Running in local environment\\n\")"
      ]
    },
    {
      "cell_type": "code",
      "execution_count": 3,
      "metadata": {
        "id": "UL3tAsAcKagz"
      },
      "outputs": [],
      "source": [
        "import librosa\n",
        "%matplotlib inline\n",
        "import matplotlib.pyplot as plt\n",
        "import librosa.display\n",
        "from IPython.display import Audio\n",
        "import numpy as np\n",
        "import tensorflow as tf\n",
        "from matplotlib.pyplot import specgram\n",
        "import pandas as pd\n",
        "from sklearn.metrics import confusion_matrix\n",
        "import IPython.display as ipd  # To play sound in the notebook\n",
        "import os # interface with underlying OS that python is running on\n",
        "import sys\n",
        "import warnings\n",
        "# ignore warnings\n",
        "if not sys.warnoptions:\n",
        "    warnings.simplefilter(\"ignore\")\n",
        "warnings.filterwarnings(\"ignore\", category=DeprecationWarning)\n",
        "from sklearn.model_selection import train_test_split\n",
        "from sklearn.preprocessing import LabelEncoder\n",
        "import tensorflow.keras\n",
        "from tensorflow.keras.models import Sequential\n",
        "from tensorflow.keras.layers import Conv1D, MaxPooling1D, AveragePooling1D\n",
        "from tensorflow.keras.layers import Input, Flatten, Dropout, Activation, BatchNormalization, Dense\n",
        "from sklearn.model_selection import GridSearchCV\n",
        "\n",
        "from scikeras.wrappers import KerasClassifier\n",
        "\n",
        "import soundfile as sf\n",
        "\n",
        "from tensorflow.keras.optimizers import SGD\n",
        "from tensorflow.keras.regularizers import l2\n",
        "import seaborn as sns\n",
        "from tensorflow.keras.callbacks import EarlyStopping, ModelCheckpoint\n",
        "from tensorflow.keras.utils import to_categorical\n",
        "from sklearn.metrics import classification_report"
      ]
    },
    {
      "cell_type": "code",
      "execution_count": 3,
      "metadata": {
        "id": "txD8CEcVhL7f"
      },
      "outputs": [],
      "source": [
        "# unzip\n",
        "import os\n",
        "import zipfile\n",
        "\n",
        "# READ IN AUDIO FILES\n",
        "# audio = \"/content/ravdess-emotional-speech-audio.zip\"\n",
        "audio = f\"{DATASET_PATH}/ravdess-emotional-speech-audio.zip\"\n",
        "\n",
        "# Open the zip file\n",
        "with zipfile.ZipFile(audio, 'r') as zip_ref:\n",
        "    # Extract all the contents to a temporary directory\n",
        "    # zip_ref.extractall('/content/')\n",
        "    zip_ref.extractall({DATASET_PATH})"
      ]
    },
    {
      "cell_type": "markdown",
      "metadata": {
        "id": "0rSDMZredWvy"
      },
      "source": [
        "<font size = 5 color = pwdrblue><b> Explore wave plots and melspectrograms for various emotions of males and females"
      ]
    },
    {
      "cell_type": "markdown",
      "metadata": {
        "id": "CFUVjHnEKag2"
      },
      "source": [
        "<font size = 5 color = seagreen><b> Male Neutral"
      ]
    },
    {
      "cell_type": "code",
      "execution_count": 4,
      "metadata": {
        "colab": {
          "base_uri": "https://localhost:8080/"
        },
        "id": "44SPypJCdWvy",
        "outputId": "094ea88a-9a95-49c1-cff8-6bc4a1e83a9a"
      },
      "outputs": [
        {
          "data": {
            "text/plain": [
              "['Actor_16',\n",
              " 'Actor_11',\n",
              " 'Actor_18',\n",
              " 'Actor_20',\n",
              " 'Actor_21',\n",
              " 'Actor_19',\n",
              " 'Actor_10',\n",
              " 'Actor_17',\n",
              " '.DS_Store',\n",
              " 'Actor_04',\n",
              " 'Actor_03',\n",
              " 'Actor_02',\n",
              " 'Actor_05',\n",
              " 'Actor_12',\n",
              " 'Actor_15',\n",
              " 'Actor_23',\n",
              " 'Actor_24',\n",
              " 'Actor_22',\n",
              " 'Actor_14',\n",
              " 'Actor_13',\n",
              " 'Actor_09',\n",
              " 'Actor_07',\n",
              " 'Actor_06',\n",
              " 'Actor_01',\n",
              " 'Actor_08']"
            ]
          },
          "execution_count": 4,
          "metadata": {},
          "output_type": "execute_result"
        }
      ],
      "source": [
        "# address = '/content'\n",
        "address = DATASET_PATH\n",
        "# os.listdir('/content/ravdess-emotional-speech-audio/')\n",
        "os.listdir(f'{DATASET_PATH}/ravdess-emotional-speech-audio/')\n"
      ]
    },
    {
      "cell_type": "code",
      "execution_count": 5,
      "metadata": {
        "id": "6NH1HOEdKag2"
      },
      "outputs": [],
      "source": [
        "# LOAD IN FILE\n",
        "x, sr = librosa.load(address + '/ravdess-emotional-speech-audio/Actor_01/03-01-01-01-01-01-01.wav')"
      ]
    },
    {
      "cell_type": "code",
      "execution_count": 6,
      "metadata": {
        "colab": {
          "base_uri": "https://localhost:8080/",
          "height": 410
        },
        "id": "ud52cJM8Kag3",
        "outputId": "7b959f77-c2c4-44ff-abc2-d8e7b8c8cfa1"
      },
      "outputs": [
        {
          "data": {
            "image/png": "[encoded data removed]",
            "text/plain": [
              "<Figure size 800x400 with 1 Axes>"
            ]
          },
          "metadata": {},
          "output_type": "display_data"
        }
      ],
      "source": [
        "# DISPLAY WAVEPLOT\n",
        "plt.figure(figsize=(8, 4))\n",
        "librosa.display.waveshow(x, sr=sr)\n",
        "plt.title('Waveplot - Male Neutral')\n",
        "plt.savefig(f'{DATASET_PATH}/Waveplot_MaleNeutral.png')"
      ]
    },
    {
      "cell_type": "code",
      "execution_count": 7,
      "metadata": {
        "id": "15uUUZR3hL7g"
      },
      "outputs": [],
      "source": [
        "# create a directory for Audio Files\n",
        "os.mkdir(os.path.join(address , 'IPD_Audio_Files'))"
      ]
    },
    {
      "cell_type": "code",
      "execution_count": 8,
      "metadata": {
        "colab": {
          "base_uri": "https://localhost:8080/",
          "height": 75
        },
        "id": "U2AwfR7jKag3",
        "outputId": "86ec35c3-db76-4f75-a3a7-6d6d9bea1488"
      },
      "outputs": [
        {
          "data": {
            "text/html": [
              "\n",
              "                <audio  controls=\"controls\" >\n",
              "                    <source src=\"data:audio/wav;base64,UklGRjA5AgBXQVZFZm10IBAAAAABAAEAIlYAAESsAAACABAAZGF0YQw5AgAAAAAAAAAAAAAAAAAAAAAAAAAAAAAAAAAAAAAAAAABAP7/BwAGAP7/AQD//wEA//8BAP7/CwABAAAAAAACAAsA/v8CAP7/CQAEAP//AQAAAAAAAAAAAAAAAAAAAAAAAAAAAAAAAAAAAAAAAAAAAAAAAAAAAAAAAAAAAAAAAAAAAAAAAAAAAAAAAAAAAAAAAAAAAAAAAAAAAAAAAAAAAAAAAAAAAAAAAAAAAAAAAAAAAAAAAAAAAAAAAAAAAAAAAAAAAAAAAAAAAAAAAAAAAAAAAAAAAAAAAAAAAAAAAAAAAAAAAAAAAAAAAAAAAAAAAAAAAAAAAAAAAAAAAAAAAAAAAAAAAAAAAAAAAAAAAAAAAAAAAAAAAAAAAAAAAAAAAAAAAAAAAAAAAAAAAAAAAAAAAAAAAAAAAAAAAAAAAAAAAAAAAAAAAAAAAAAAAAAAAAAAAAAAAAAAAAAAAAAAAAAAAAAAAAAAAAAAAAAAAAAAAAAAAAAAAAAAAAAAAAAAAAAAAAAAAAAAAAAAAAAAAAAAAAAAAAAAAAAAAAAAAAAAAAAAAAAAAAAAAAAAAAAAAAAAAAAAAAAAAAAAAAAAAAAAAAAAAAAAAAAAAAAAAAAAAAAAAAAAAAAAAAAAAAAAAAAAAAAAAAAAAAAAAAAAAAAAAAAAAAAAAAAAAAAAAAAAAAAAAAAAAAAAAAAAAAAAAAAAAAAAAAAAAAAAAAAAAAAAAAAAAAAAAAAAAAAAAAAAAAAAAAAAAAAAAAAAAAAAAAAAAAAAAAAAAAAAAAAAAAAAAAAAAAAAAAAAAAAAAAAAAAAAAAAAAAAAAAAAAAAAAAAAAAAAAAAAAAAAAAAAAAAAAAAAAAAAAAAAAAAAAAAAAAAAAAAAAAAAAAAAAAAAAAAAAAAAAAAAAAAAAAAAAAAAAAAAAAAAAAAAAAAAAAAAAAAAAAAAAAAAAAAAAAAAAAAAAAAAAAAAAAAAAAAAAAAAAAAAAAAAAAAAAAAAAAAAAAAAAAAAAAAAAAAAAAAAAAAAAAAAAAAAAAAAAAAAAAAAAAAAAAAAAAAAAAAAAAAAAAAAAAAAAAAAAAAAAAAAAAAAAAAAAAAAAAAAAAAAAAAAAAAAAAAAAAAAAAAAAAAAAAAAAAAAAAAAAAAAAAAAAAAAAAAAAAAAAAAAAAAAAAAAAAAAAAAAAAAAAAAAAAAAAAAAAAAAAAAAAAAAAAAAAAAAAAAAAAAAAAAAAAAAAAAAAAAAAAAAAAAAAAAAAAAAAAAAAAAAAAAAAAAAAAAAAAAAAAAAAAAAAAAAAAAAAAAAAAAAAAAAAAAAAAAAAAAAAAAAAAAAAAAAAAAAAAAAAAAAAAAAAAAAAAAAAAAAAAAAAAAAAAAAAAAAAAAAAAAAAAAAAAAAAAAAAAAAAAAAAAAAAAAAAAAAAAAAAAAAAAAAAAAAAAAAAAAAAAAAAAAAAAAAAAAAAAAAAAAAAAAAAAAAAAAAAAAAAAAAAAAAAAAAAAAAAAAAAAAAAAAAAAAAAAAAAAAAAAAAAAAAAAAAAAAAAAAAAAAAAAAAAAAAAAAAAAAAAAAAAAAAAAAAAAAAAAAAAAAAAAAAAAAAAAAAAAAAAAAAAAAAAAAAAAAAAAAAAAAAAAAAAAAAAAAAAAAAAAAAAAAAAAAAAAAAAAAAAAAAAAAAAAAAAAAAAAAAAAAAAAAAAAAAAAAAAAAAAAAAAAAAAAAAAAAAAAAAAAAAAAAAAAAAAAAAAAAAAAAAAAAAAAAAAAAAAAAAAAAAAAAAAAAAAAAAAAAAAAAAAAAAAAAAAAAAAAAAAAAAAAAAAAAAAAAAAAAAAAAAAAAAAAAAAAAAAAAAAAAAAAAAAAAAAAAAAAAAAAAAAAAAAAAAAAAAAAAAAAAAAAAAAAAAAAAAAAAAAAAAAAAAAAAAAAAAAAAAAAAAAAAAAAAAAAAAAAAAAAAAAAAAAAAAAAAAAAAAAAAAAAAAAAAAAAAAAAAAAAAAAAAAAAAAAAAAAAAAAAAAAAAAAAAAAAAAAAAAAAAAAAAAAAAAAAAAAAAAAAAAAAAAAAAAAAAAAAAAAAAAAAAAAAAAAAAAAAAAAAAAAAAAAAAAAAAAAAAAAAAAAAAAAAAAAAAAAAAAAAAAAAAAAAAAAAAAAAAAAAAAAAAAAAAAAAAAAAAAAAAAAAAAAAAAAAAAAAAAAAAAAAAAAAAAAAAAAAAAAAAAAAAAAAAAAAAAAAAAAAAAAAAAAAAAAAAAAAAAAAAAAAAAAAAAAAAAAAAAAAAAAAAAAAAAAAAAAAAAAAAAAAAAAAAAAAAAAAAAAAAAAAAAAAAAAAAAAAAAAAAAAAAAAAAAAAAAAAAAAAAAAAAAAAAAAAAAAAAAAAAAAAAAAAAAAAAAAAAAAAAAAAAAAAAAAAAAAAAAAAAAAAAAAAAAAAAAAAAAAAAAAAAAAAAAAAAAAAAAAAAAAAAAAAAAAAAAAAAAAAAAAAAAAAAAAAAAAAAAAAAAAAAAAAAAAAAAAAAAAAAAAAAAAAAAAAAAAAAAAAAAAAAAAAAAAAAAAAAAAAAAAAAAAAAAAAAAAAAAAAAAAAAAAAAAAAAAAAAAAAAAAAAAAAAAAAAAAAAAAAAAAAAAAAAAAAAAAAAAAQD+/wgABQD+/wEAAAAAAAAAAAAAAAAAAAAAAAAAAAAAAAAAAAAAAAAAAAAAAAAAAAAAAAAAAAAAAAAAAAAAAAAAAAAAAAAAAAAAAAAAAAAAAAAAAAAAAAAAAAAAAAAAAAAAAAAAAAAAAAAAAAAAAAAAAAAAAAAAAAAAAAAAAAAAAAAAAAAAAAAAAAAAAAAAAAAAAAAAAAAAAAAAAAAAAAAAAAAAAAAAAAAAAAAAAAAAAAAAAAAAAAAAAAAAAAAAAAAAAAAAAAAAAAAAAAAAAAAAAAAAAAAAAAAAAAAAAAAAAAAAAAAAAAAAAAAAAAAAAAAAAAAAAAAAAAAAAAAAAAAAAAAAAAAAAAAAAAAAAAAAAAAAAAAAAAAAAAAAAAAAAAAAAAAAAAAAAAAAAAAAAAAAAAAAAAAAAAAAAAAAAAAAAAAAAAAAAAAAAAAAAAAAAAAAAAAAAAAAAAAAAAAAAAAAAAAAAAAAAAAAAAAAAAAAAAAAAAAAAAAAAAAAAAAAAAAAAAAAAAAAAAAAAAAAAAAAAAAAAAAAAAAAAAAAAAAAAAAAAAAAAAAAAAAAAAAAAAAAAAAAAAAAAAAAAAAAAAAAAAAAAAAAAAAAAAAAAAAAAAAAAAAAAAAAAAAAAAAAAAAAAAAAAAAAAAAAAAAAAAAAAAAAAAAAAAAAAAAAAAAAAAAAAAAAAAAAAAAAAAAAAAAAAAAAAAAAAAAAAAAAAAAAAAAAAAAAAAAAAAAAAAAAAAAAAAAAAAAAAAAAAAAAAAAAAAAAAAAAAAAAAAAAAAAAAAAAAAAAAAAAAAAAAAAAAAAAAAAAAAAAAAAAAAAAAAAAAAAAAAAAAAAAAAAAAAAAAAAAAAAAAAAAAAAAAAAAAAAAAAAAAAAAAAAAAAAAAAAAAAAAAAAAAAAAAAAAAAAAAAAAAAAAAAAAAAAAAAAAAAAAAAAAAAAAAAAAAAAAAAAAAAAAAAAAAAAAAAAAAAAAAAAAAAAAAAAAAAAAAAAAAAAAAAAAAAAAAAAAAAAAAAAAAAAAAAAAAAAAAAAAAAAAAQD2//7/AQAAAAAAAAAAAPb//v8CAP3/9/8BAAAAAAD+//b/AQD//wAAAAAAAAAAAAAAAAAAAQD3//3/+P/9/wIA//8BAP//AAAAAAAAAAAAAAAAAAAAAAAAAAAAAAAAAAAAAAAAAAAAAAAAAAAAAAAAAAAAAAAAAAAAAAAAAAAAAAAAAAAAAAAAAAAAAAAAAAAAAAAAAAAAAAAAAAAAAAAAAAAAAAAAAAAAAAAAAAAAAAAAAAAAAAAAAAAAAAAAAAAAAAAAAAAAAAAAAAAAAAAAAAAAAAAAAAAAAAAAAAAAAAAAAAAAAAAAAAAAAAAAAAAAAAAAAAAAAAAAAAAAAAAAAAAAAAAAAAAAAAAAAAAAAAAAAAAAAAAAAAAAAAAAAAAAAAAAAAAAAAAAAAAAAAAAAAAAAAAAAAAAAAAAAAAAAAAAAAAAAAAAAAAAAAAAAAAAAAAAAAAAAAAAAAAAAAAAAAAAAAAAAAAAAAAAAAAAAAAAAAAAAAAAAAAAAAAAAAAAAAAAAAAAAAAAAAAAAAAAAAAAAAAAAAAAAAAAAAAAAAAAAAAAAAAAAAAAAAAAAAAAAAAAAAAAAAAAAAAAAAAAAAAAAAAAAAAAAAAAAAAAAAAAAAAAAAAAAAAAAAAAAAAAAAAAAAAAAAAAAAAAAAAAAAAAAAAAAAAAAAAAAAAAAAAAAAAAAAAAAAAAAAAAAAAAAAAAAAAAAAAAAAAAAAAAAAAAAAAAAAAAAAAAAAAAAAAAAAAAAAAAAAAAAAAAAAAAAAAAAAAAAAAAAAAAAAAAAAAAAAAAAAAAAAAAAAAAAAAAAAAAAAAAAAAAAAAAAAAAAAAAAAAAAAAAAAAAAAAAAAAAAAAAAAAAAAAAAAAAAAAAAAAAAAAAAAAAAAAAAAAAAAAAAAAAAAAAAAAAAAAAAAAAAAAAAAAAAAAAAAAAAAAAAAAAAAAAAAAAAAAAAAAAAAAAAAAAAAAAAAAAAAAAAAAAAAAAAAAAAAAAAAAAAAAAAAAAAAAAAAAAAAAAAAAAAAAAAAAAAAAAAAAAAAAAAAAAAAAAAAAAAAAAAAAAAAAAAAAAAAAAAAAAAAAAAAAAAAAAAAAAAAAAAAAAAAAAAAAAAAAAAAAAAAAAAAAAAAAAAAAAAAAAAAAAAAAAAAAAAAAAAAAAAAAAAAAAAAAAAAAAAAAAAAAAAAAAAAAAAAAAAAAAAAAAAAAAAAAAAAAAAAAAAAAAAAAAAAAAAAAAAAAAAAAAAAAAAAAAAAAAAAAAAAAAAAAAAAAAAAAAAAAAAAAAAAAAAAAAAAAAAAAAAAAAAAAAAAAAAAAAAAABAP//BAAJAP//AAAAAAAAAAAAAAAAAAAAAAAAAAAAAAAA//8BAP7/BQAIAP7/AQAAAAAA//8EAA8AAwAAAAAAAAAAAAAAAAAAAAAAAAAAAAAAAAAAAAAAAAAAAAAAAAAAAAAAAAAAAAAAAAAAAAAAAAAAAAAAAAAAAAAAAQAKAAAAAAAAAAAAAAD//woAAwD//wAAAAAAAAAAAAAAAAAAAAAAAAAAAAAAAAAAAAAAAAAAAAAAAAAAAAAAAAAAAAAAAAAAAAAAAAAAAAAAAAAAAAAAAAAAAAAAAAAAAAAAAAAAAAAAAAAAAAAAAAAAAAAAAAAAAAAAAAAAAAAAAAAAAAAAAAAAAAAAAAAAAAAAAAAAAAAAAAAAAAAAAAAAAAAAAAAAAAAAAAAAAAAAAAAAAAAAAAAAAAABAP//AgD4//v/AgD1/wAAAAAAAAAAAAAAAAEA+P/7/wIA//8BAAAAAAAAAAAAAAAAAAAAAAAAAAAAAAAAAAAAAAAAAAAAAAAAAAAAAAD3//3/AgD+/wIA+//4//f///8AAAAAAAAAAAAAAAAAAAAAAAAAAAAAAAAAAAAAAAAAAAAAAAAAAAAAAAAAAAAAAAAAAAAAAAAAAAAAAAAAAAAAAAAAAAAAAAAAAAAAAAAAAAAAAAAAAAAAAAAAAAAAAAAAAAAAAAAAAAAAAAAAAAAAAAAAAAAAAAAAAAAAAAAAAAAAAAAAAAAAAAAAAAAAAAAAAAAAAAAAAAAAAAAAAAAAAAAAAAAAAAAAAAAAAAAAAAAAAAAAAAAAAAAAAAAAAAAAAAAAAAAAAAAAAAAAAAAAAAAAAAAAAAAAAAAAAAAAAAAAAAAAAAAAAAAAAAAAAAAAAAAAAAAAAAAAAAAAAAAAAAAAAAAAAAAAAAAAAAAAAAAAAAAAAAAAAAAAAAAAAAAAAAAAAAAAAAAAAAAAAAAAAAAAAAAAAAAAAAAAAAAAAAAAAAAAAAAAAAAAAAAAAAAAAAAAAAAAAAAAAAAAAAAAAAAAAAAAAAAAAAAAAAAAAAAAAAAAAAAAAAAAAAAAAAAAAAAAAAAAAAAAAAAAAAAAAAAAAAAAAAAAAAAAAAAAAAAAAAAAAAAAAAAAAAAAAAAAAAAAAAAAAAAAAAAAAAAAAAAAAAAAAAAAAAAAAAAAAAAAAAAAAAAAAAAAAAAAAAAAAAAAAAAAAAAAAAAAAAAAAAAAAAAAAAAAAAAAAAAAAAAAAAAAAAAAAAAAAAAAAAAAAAAAAAAAAAAAAAAAAAAAAAAAAAAAAQD+/wgABQD9/wsAAQAAAAAAAAAAAAAAAAAAAAAAAAAAAAAAAAAAAAAAAAAAAAAAAAAAAAAAAAAAAAAAAAAAAAAAAAAAAAAAAAAAAAAAAAAAAAAAAAAAAAAACgABAAAAAAAAAAAAAQD9/woADwD9/wEAAAAAAAAA//8CAP3/CQAEAAIACAANAAwA+v8KAAMA//8AAAAAAAAAAAAAAAAAAAAAAAAAAAAAAAAAAAAAAAAAAAAAAAAAAAAAAAAAAAAAAAAAAAAAAAAAAAAAAAAAAAAAAAAAAAAAAAAAAAAAAAAAAAAAAAAAAAAAAAAAAAAAAAAAAAAAAAAAAAAAAAAAAAAAAAAAAAAAAAAAAAAAAAAAAAAAAAAAAAAAAAAAAAAAAAAAAAAAAAAAAAAAAAAAAAAAAAAAAAAAAAAAAAAAAAAAAAAAAAAAAAAAAAAAAAAAAAAAAAAAAAAAAAAAAAAAAAAAAAAAAAAAAAAAAAAAAAAAAAAAAAAAAAAAAAAAAAAAAAAAAAAAAAAAAAAAAAAAAAAAAAAAAAAAAAAAAAAAAAAAAAAAAAAAAAAAAAAAAAAAAAAAAAAAAAAAAAAAAAAAAAAAAAAAAAAAAAAAAAAAAAABAP//AQD//wEA///3//7/9/8AAAAAAAAAAAEA+P/7/wIA//8BAP//AAAAAAAAAAAAAAAAAAAAAAAA9v8AAAAAAAABAP//AgD3//z/AQAAAAAAAAAAAAAAAAAAAAAAAAAAAAAAAAAAAAAAAAAAAAAAAAAAAAAAAAAAAAAAAAAAAAAAAAAAAAAAAAAAAAAAAAAAAAAAAAAAAAAAAAAAAAAAAAAAAAAAAAAAAAAAAAAAAAAAAAAAAAAAAAAAAAAAAAAAAAAAAAAAAAAAAAAAAAAAAAAAAAAAAAAAAAAAAAAAAAAAAAAAAAAAAAAAAAAAAAAAAAAAAAAAAAAAAAAAAAAAAAAAAAAAAAAAAAAAAAAAAAAAAAAAAAAAAAAAAAAAAAAAAAAAAAAAAAAAAAAAAAAAAAAAAAAAAAAAAAAAAAAAAAAAAAAAAAAAAAAAAAAAAAAAAAAAAAAAAAAAAAAAAAAAAAAAAAAAAAAAAAAAAAAAAAAAAAAAAAAAAAAAAAAAAAAAAAAAAAAAAAAAAAAAAAAAAAAAAAAAAAAAAAAAAAAAAAAAAAAAAAAAAAAAAAAAAAAAAAAAAAAAAAAAAAAAAAAAAAAAAAAAAAAAAAAAAAAAAAAAAAAAAAAAAAAAAAAAAAAAAAAAAAAAAAAAAAAAAAAAAAAAAAAAAAAAAAAAAAAAAAAAAAAAAAAAAAAAAAAAAAAAAAAAAAAAAAAAAAAAAAAAAAAAAAAAAAAAAAAAAAAAAAAAAAAAAAAAAAAAAAAAAAAAAAAAAAAAAAAAAAAAAAAAAAAAAAAAAAAAAAAAAAAAAAAAAAAAAAAAAAAAAAAAAAAAAAAAAAAAAAAAAAAAAAAAAAAAAAAAAAAAAAAAAAAAAAAAAAAAAAAAAAAAAAAAAAAAAAAAAAAAAAAAAAAAAAAAAAAAAAAAAAAAAAAAAAAAAAAAAAAAAAAAAAAAAAAAAAAAAAAAAAAAAAAAAAAAAAAAAAAAAAAAAAAAAAAAAAAAAAAAAAAAAAAAAAAAAAAAAAAAAAAAAAAAAAAAAAAAAAAAAAAAAAAAAAAAAAAAAAAAAAAAAAAAAAAAAAAAAAAAAAAAAAAAAAAAAAAAAAAAAAAAAAAAAAAAAAAAAAAAAAAAAAAAAAAAAAAAAAAAAAAAAAAAAAAAAAAAAAAAAAAAAAAAAAAAAAAAAAAAAAAAAAAAAAAAAAAAAAAAAAAAAAAAAAAAAAAAAAAAAAAAAAAAAAAAAAAAAAAAAAAAAAAAAAAAAAAAAAAAAAAAAAAAAAAAAAAAAAAAAAAAAAAAAAAKAAEAAAAAAAAAAAAAAAAAAAAAAAAAAAAAAAAAAAAAAAAAAAAAAAAAAAAAAAAAAAAAAAAAAAAAAAAAAAAAAAAAAAAAAAAAAAAAAAAAAAAAAAAAAAAAAAAAAAAAAAAAAAAAAAAAAAAAAAAAAAAAAAAAAAAAAAAAAAAAAAAAAAAAAAAAAAAAAAAAAAAAAAAAAAAAAAAAAAAAAAAAAAAAAAAAAAAAAAAAAAAAAAAAAAAAAAAAAAAAAAAAAAAAAAAAAAAAAAAAAAAAAAAAAAAAAAAAAAAAAAAAAAAAAAAAAAAAAAAAAAAAAAAAAAAAAAAAAAAAAAAAAAAAAAAAAAAAAAAAAAAAAAAAAAAAAAAAAAAAAAAAAAAAAAAAAAAAAAAAAAAAAAAAAAAAAAAAAAAAAAAAAAAAAAAAAAAAAAAAAAAAAAAAAAAAAAAA//8CAPj/+/8BAP//AAAAAAAAAAAAAAAAAAABAP3/9v8BAAAAAAAAAAAAAAAAAAAAAAAAAAAAAAAAAAAAAAAAAAAAAAAAAAAAAAAAAAAAAAAAAAAAAAAAAAAAAAAAAAAAAAAAAAAAAAAAAAAAAAAAAAAAAAAAAAAAAAAAAAAAAAAAAAAAAAAAAAAAAAAAAAAAAAAAAAAAAAAAAAAAAAAAAAAAAAAAAAAAAAAAAAAAAAAAAAAAAAAAAAAAAAAAAAAAAAAAAAAAAAAAAAAAAAAAAAAAAAAAAAAAAQD+//b/AAAAAAAAAAAAAAAAAAAAAAAAAAAAAAAAAAAAAAAAAAAAAAAAAAAAAAAAAAAAAAAAAAAAAAAAAAAAAAAAAAAAAAAAAAAAAAAAAAAAAAAAAAAAAAAAAAAAAAAAAAAAAAAAAAAAAAAAAAAAAAAAAAAAAAAAAAAAAAAAAAAAAAAAAAAAAAAAAAAAAAAAAAAAAAAAAAAAAAAAAAAAAAAAAAAAAAAAAAAAAAAAAAAAAAAAAAAAAAAAAAAAAAAAAAAAAAAAAAAAAAAAAAAAAAAAAAAAAAAAAAAAAAAAAAAAAAAAAAAAAAAAAAAAAAAAAAAAAAAAAAAAAAAAAAAAAAAAAAAAAAAAAAAAAAAAAAAAAAAAAAAAAAAAAAAAAAAAAAAAAAAAAAAAAAAAAAAAAAAAAAAAAAAAAAAAAAAAAAAAAAAAAAAAAAAAAAAAAAAAAAAAAAAAAAAAAAAAAAAAAAAAAAAAAAAAAAAAAAAAAAAAAAAAAAAAAAAAAAAAAAAAAAAAAAAAAAAAAAAAAAAAAAAAAAAAAAAAAAAAAAAAAAAIAAgABgD//wAAAAAAAAAAAAAAAAAAAAAAAAAAAAAAAAAAAAAAAAAA//8BAP7/BgAHAP7/AQAAAAAAAAAAAAAAAAAAAAAAAAAAAAAAAAAAAAAAAAAAAAAAAAAAAAAAAAAAAAAAAAAAAAAAAAAAAAAAAAAAAAAAAAAAAAAAAAAAAAAAAAAAAAAAAAAAAAAAAAAAAAAAAAAAAAAAAAAAAAAAAAAAAAAAAAAAAAAAAAAAAAAAAAAAAAAAAAAAAAAAAAAAAAAAAAAAAAAAAAAAAAAAAAAAAAAAAAAAAAAAAAAAAAAAAAAAAAAAAAAAAAAAAAAAAAAAAAABAPz/9/8EAPf//P8BAAAAAAAAAAAAAAAAAAAAAAAAAAAAAAAAAAAAAAAAAAEA9v/+/wEAAAAAAAAAAAAAAAAAAAAAAAAAAAAAAAAAAAAAAP//AQD//wEA//8BAP7/+v/2//3////u//n/+f8BAPP/9/8BAAAA8v/k/////f/0/+n/9//6//b//f/n/+//7v/7////9f8CAAAAAAAAAP//AwD5/+//AAD2/wEA9//8/wQA+v/7//n//f/t//3/9f/z//7/9/8BAAEA9//9/wAAAQD4//v/AAAAAPv/9/8EAPf//P8BAP//9////wEA//8BAP//AgD4//r/BAD5//r/AAAAAP3/9/8CAP//AAAAAAAAAAAAAAAAAAAAAAAAAAAAAAAAAAAAAAAAAAAAAAAAAAAAAAAAAAAAAAAAAAAAAAAAAAAAAAAAAAAAAAAAAAAAAAAAAAAAAAAAAAAAAAAAAAAAAAAAAAAAAAAAAAAAAAAAAAAAAAAAAAAAAAAAAAAAAAAAAAAAAAAAAAAAAAAAAAAAAAAAAAAAAAAAAAAAAAAAAAAAAAAAAAAAAAAAAAAAAAAAAAAAAAAAAAAAAAAAAAAAAAAAAAAAAAAAAAAAAAAAAAAAAAAAAAAAAAAAAAAAAAAAAAAAAAAAAAAAAAAAAAAAAAAAAAAAAAAAAAAAAAAAAAAAAAAAAAAAAAAAAAAAAAAAAAAAAAAAAAAAAAAAAAAAAAAAAAAAAAAAAAAAAAAAAAAAAAAAAAAAAAAAAAAAAAAAAAAAAAAAAAAAAAAACgABAAAAAAAAAAAAAAAAAAAAAAAAAAAAAAAAAAAAAAAAAAAAAAAAAAAAAAAAAAAAAAAAAAAAAAAAAAAAAAAAAAAAAAAAAAAAAAAAAAAAAAAAAAAAAAAAAAAAAAAAAAAAAAAAAAAAAAAAAAAAAAAAAAAAAAAAAAAAAAAAAAAAAAAAAAAAAAAAAAAAAAAAAAAAAAAAAAAAAAAAAAAAAAAAAAAAAAAAAAAAAAAAAAAAAAAAAAAAAAAAAAAAAAAAAAAAAAAAAAAAAAAAAAAAAAAAAAAAAAAAAAAAAAAAAAAAAAAAAAAAAAAAAAAAAAAAAAEA///2/wAAAAAAAAAAAAAAAAAAAAAAAAAAAAAAAAAAAAAAAAAAAAAAAAAAAAAAAAAAAAAAAAAAAAAAAAAAAAAAAAAAAAAAAAAAAAAAAAAAAAAAAAAAAAAAAAAAAAAAAAAAAAAAAAAAAAAAAAAAAAAAAAAAAAAAAAAAAAAAAAAAAAAAAAAAAAAAAAAAAAAAAAAAAAAAAAAAAAAAAAAAAAAAAAAAAAAAAAAAAAAAAAAAAAAAAAAAAAAAAAAAAAAAAAAAAAAAAAAAAAAAAAAAAAAAAAAAAAAAAAAAAAAAAAAAAAAAAAAAAAAAAAAAAAAAAAAAAAAAAAAAAAAAAAAAAAAAAAAAAAAAAAAAAAAAAAAAAAAAAAAAAAAAAAAAAAAAAAAAAAAAAAAAAAAAAAAAAAAAAAAAAAAAAAAAAAAAAAAAAAAAAAAAAAAAAAAAAAAAAAAAAAAAAAAAAAAAAAAAAAAAAAAAAAAAAAAAAAAAAAAAAAAAAAAAAAAAAAAAAAAAAAAAAAAAAAAAAAAAAAAAAAAAAAAAAAAAAAAAAAAAAAAAAAAAAAAAAAAAAAAAAAAAAAAAAAAAAAAAAAAAAAAAAAAAAAAAAAAAAAAAAAAAAAAAAAAAAAAAAAAAAAAAAAAAAAAAAAAAAAAAAAAAAAAAAAAAAAAAAAAAAAAAAAAAAAAAAAAAAAAAAAAAAAAAAAAAAAAAAAAAAAAAAAAAAAAAAAAAAAAAAAAAAAAAAAAAAAAAAAAAAAAAAAAAAAAAAAAAAAAAAAAAAAAAAAAAAAAAAAAAAAAAAAAAAAAAAAAAAAAAAAAAAAAAAAAAAAAAAAAAAAAAAAAAAAAAAAAAAAAAAAAAAAAAAAAAAAAAAAAAAAAAAAAAAAAAAAAAAAAAAAAAAAAAAAAAAAAAAAAAAAAAAAAAAAAAAAAAAAAAAAAAAAAAAAAAAAAAAAAAAAAAAAAAAAAAAAAAAAAAAAAAAAAAAAAAAAAAAAAAAAAAAAAAAAAAAAAAAAAAAAAAAAAAAAAAAAAAAAAAAAAAAAAAAAAAAAAAAAAAAAAAAAAAAAAAAAAAAAAAAAAAAAAAAAAAAAAAAAAAAAAAAAAAAAAAAAAAAAAAAAAAAAAAAAAAAAAAAAAAAAAAAAAAAAAAAAAAAAAAAAAAAAAAAAAAAAAAAAAAAAAAAAAAAAAAAAAAAAAAAAAAAAAAAAAAAAABAP7/CAAFAP7/AQAAAAAAAAAAAAAAAAAAAAAAAAAAAAAAAAAAAAAAAAAAAAAAAAAAAAAAAAAAAAAAAAAAAAAAAAAAAAAAAAAAAAAAAAAAAAAAAAAAAAAAAAAAAAAAAAAAAAAAAAAAAAAAAAAAAAAAAAAAAAAAAAAAAAAAAAAAAAAAAAAAAAAAAAAAAAAAAAAAAAAAAAAAAAAAAAAAAAAAAAAAAAAAAAAAAAAAAAAAAAAAAAAKAAEA//8AAAAAAAAAAAAAAAAAAAAAAAAAAAAAAAAAAAAAAAAAAAAAAAAAAAAAAAAAAAAA//8KAAMA/v8RAA4AAgAAAAAAAAAAAAAAAAAAAP//AQD//wMACQD//wAAAAAAAAAAAAAAAAAAAAABAP7/BQAIAP//AAAAAP//BQAIAP7/AQAAAAAAAAAAAAAAAAAAAAAAAAAAAAAAAQD//wUACAD+/wEAAAAAAAAAAAAAAAAAAAAAAAAAAAAAAAAAAAAAAAAAAAAAAAAAAAAAAAAAAAAAAAAAAAAAAAAAAAAAAAAAAAAAAAAAAAAAAAAAAAAAAAAAAAAAAAAAAAAAAAAAAAAAAAAAAAAAAAAAAAAAAAAAAAAAAAAAAAAAAAAAAAAAAAAAAAAAAAAAAAAAAAAAAAAAAAAAAAAAAAAAAAAAAAAAAAAAAAAAAAAAAAAAAAAAAAAAAAAAAAAAAAAAAAAAAAAAAAAAAAAAAAAAAAAAAAAAAAAAAAAAAAAAAAAAAAAAAAAAAAAAAAAAAAAAAAAAAAAAAAAAAAAAAAAAAAAAAAAAAAAAAAAAAAAAAAAAAAAAAAAAAAAAAAEA//8CAPf//P8BAAAAAAD1/wAAAAAAAAAAAAAAAAAAAAAAAAAAAAAAAAAAAAAAAAAAAAAAAAAAAAAAAAAAAAAAAAAAAAAAAAAAAAAAAAAAAAAAAAAAAAAAAPf//f8CAP7/AgD7//j/AAAAAAAAAQD+/wMA7f/u/wIA//8AAAAAAAAAAAEA9//8/wIA/v8CAPz/+P8BAAAAAAAAAAAAAAAAAAAAAAAAAAAAAAAAAAAAAAAAAAAAAAAAAAAAAAAAAAAAAAAAAAAAAAAAAAAAAAAAAAAAAAAAAAAAAAAAAAAAAAAAAAAAAAAAAAAAAAAAAAAAAAAAAAAAAAAAAAAAAAAAAAAAAAAAAAAAAAAAAAAAAAAAAAAAAAAAAAAAAAAAAAAAAAAAAAAAAAAAAAAAAAAAAAAAAAAAAAAAAAAAAAAAAAAAAAAAAAAAAAAAAAAAAAAAAAAAAAAAAAAAAAAAAAAAAAAAAAAAAAAAAAAAAAAAAAAAAAAAAAAAAAAAAAAAAAAAAAAAAAAAAAAAAAAAAAAAAAAAAAAAAAAAAAAAAAAAAAAAAAAAAAAAAAAAAAAAAAAAAAAAAAAAAAAAAAAAAAAAAAAAAAAAAAAAAAAAAAAAAAAAAAAAAAAAAAAAAAAAAAAAAAAAAAAAAAAAAAAAAAAAAAAAAAAAAAAAAAAAAAAAAAAAAAAAAAAAAAAAAAAAAAAAAAAAAAAAAAAAAAAAAAAAAAAAAAAAAAAAAAAAAAAAAAAAAAAAAAAAAAAAAAAAAAAAAAAAAAAAAAAAAAAAAAAAAAAAAAAAAAAAAAAAAAAAAAAAAAAAAAAAAAAAAAAAAAAAAAAAAAAAAAAAAAAAAAAAAAAAAAAAAAAAAAAAAAAAAAAAAAAAAAAAAAAAAAAAAAAAAAAAAAAAAAAAAAAAAAAAAAAAAAAAAAAAAAAAAAAAAAAAAAAAAAAAAAAAAAAAAAAAAAAAAAAAAAAAAAAAAAAAAAAAAAAAAAAAAAAAAAAAAAAAAAAAAAAAAAAAAAAAAAAAAAAAAAAAAAAAAAAAAAAAAAAAAAAAAAAAAAAAAAAAAAAAAAAAAAAAAAAAAAAAAAAAAAAAAAAAAAAAAAAAAAAAAAAAAAAAAAAAAAAAAAAAAAAAAAAAAAAAAAAAAAAAAAAAAAABAPb//v8BAP//9P/3/wEA//8AAAAAAAAAAAAAAAAAAAAAAAAAAAAAAAAAAAAAAAAAAAAAAAAAAAAAAAAAAAAAAAAAAAAAAAAAAAAAAAAAAAAAAAAAAAAAAAAAAAAAAAAAAAAAAAAAAAAAAAAAAAAAAAAAAAAAAAAAAAAAAAAAAAAAAAAAAAAAAAAAAAAAAAAAAAAAAAAAAAAAAAAAAAAAAAAAAAAAAAAAAAAAAAAAAAAAAAAAAAAAAAAAAAAAAAAAAAAAAAD//wIA/f8OAAwA/f8MAAAAAAAAAP//DAAJAAgABAD//wAAAAD//wMACQAAAP7/CAAEAAcABQD+/wEA//8AAAAAAAAAAAAAAAAAAAAAAAAAAAAAAAAAAAAAAAAAAAAAAAAAAAAAAAAAAAAAAAAAAAAAAAAAAAAAAAAAAAAAAAAAAAAAAAAAAAAAAAAAAAAAAAAAAAAAAAAAAAAAAAAAAAAAAAAAAAAAAAAAAAAAAAAAAAAAAAAAAAAAAAAAAAAAAAAAAAAAAAAAAAAAAAAAAAAAAAAAAAAAAAAAAAAAAAAAAAAAAAAAAAAAAAAAAAAAAAAAAAAAAAAAAAAAAAAAAAAAAAAAAAAAAAAAAAAAAAAAAAAAAAAAAAAAAAAAAAAAAAAAAAAAAAAAAAAAAAAAAAAAAAAAAAAAAAAAAAAAAAAAAAAAAAAAAAAAAAAAAAAAAAAAAAAAAAAAAAAA//8CAPr/+f8CAP//AAAAAAAAAAAAAAAAAAAAAP//AgD3//z/AgD//wIA9//8//n//P8DAP3/9/8AAAAAAAAAAAAAAAAAAAAAAAAAAAAAAAAAAAAAAAAAAAAAAAAAAAAAAAAAAAAAAAAAAAAAAAAAAAAAAAAAAAAAAAAAAAAAAAAAAAAAAAAAAAAAAAAAAAAAAAAAAAAAAAAAAAAAAAAAAAAAAAAAAAAAAAAAAAAAAAAAAAAAAAAAAAAAAAAAAAAAAAAAAAAAAAAAAAAAAAAAAAAAAAAAAAAAAAAAAAAAAAAAAAAAAAAAAAAAAAAAAAAAAAAAAAAAAAAAAAAAAAAAAAAAAAAAAAAAAAAAAAAAAAAAAAAAAAAAAAAAAAAAAAAAAAAAAAAAAAAAAAAAAAAAAAAAAAAAAAAAAAAAAAAAAAAAAAAAAAAAAAAAAAAAAAAAAAAAAAAAAAAAAAAAAAAAAAAAAAAAAAAAAAAAAAAAAAAAAAAAAAAAAAAAAAAAAAAAAAAAAAAAAAAAAAAAAAAAAAAAAAAAAAAAAAAAAAAAAAAAAAAAAAAAAAAAAAAAAAAAAAAAAAAAAAAAAAAAAAAAAAAAAAAAAAAAAAAAAAAAAAAAAAAAAAAAAAAAAAAAAAAAAAAAAAAAAAAAAAAAAAAAAAAAAAAAAAAAAAAAAAAAAAAAAAAAAAAAAAAAAAAAAAAAAAAAAAAAAAAAAAAAAAAAAAAAAAAAAAAAAAAAAAAAAAAAAAAAAAAAAAAAAAAAAAAAAAAAAAAAAAAAAAAAAAAAAAAAAAAAAAAAAAAAAAAAAAAAAAAAAAAAAAAAAAAAAAAAAAAAAAAAAAAAAAAAAAAAAAAAAAAAAAAAAAAAAAAAAAAAAAAAAAAAAAAAAAAAAAAAAAAAAAAAAAAAAAAAAAAAAAAAAAAAAAAAAAAAAAAAAAAAAAAAAAAAAAAAAAAAAAAAAAAAAAAAAAAAAAAAAAAAAAAAAAAAAAAAAAAAAAAAAAAAAAAAAAAAAAAAAAAAAAAAAAAAAAAAAAAAAAAAAAAAAAAAAAAAAAAAAAAAAAAAAAAAAAAAAAAAAAAAAAAAAAAAAAAAAAAAAAAAAAAAAAAAAAAAAAAAAAAAAAAAAAAAAAAAAAAAAAAAAAAAAAAAAAAAAAAAAAAAAAAAAAAAAAAAAAAAAAAAAAAAAAAAAAAAAAAAAAAAAAAAAAAAAAAAAAAAAAAAAAAAAAAAAAAAAAAAAAAAAAAAAAAAAAAAAAAAAAAAAAAAAAAAAAAAAAAAAAAAAAAAAAAAAAAAAAAAAAAAAAAAAAAAAAAAAAAAAAAAAAAAAAAAAAAAAAAAAAAAAAAAAAAAAAAAAAAAAAAAAAAAAAAAAAAAAAAAAAAAAAAAAAAAAAAAAAAAAAAAAAAAAAAAAAAAAAAAAAAAAAAAAAAAAAAAAAAAAAAAAAAAAAAAAAAAAAAAAAAAAAAAAAAAAAAAAAAAAAAAAAAAAAAAAAAAAAAAAAAAAAAAAAAAAAAAAAAAAAAAAAAAAAAAAAAAAAAAAAAAAAAAAAAAAAAAAAAAAAAAAAAAAAAAAAAAAAAAAAAAAAAAAAAAAAAAAAAAAAAAAAAAAAAAAAAAAAAAAAAAAAAAAAAAAAAAAAAAAAAAAAAAAAAAAAAAAAAAAAAAAAAAAAAAAAAAAAAAAAAAAAAAAAAAAAAAAAAAAAAAAAAAAAAAAAAAAAAAAAAAAAAAAAAAAAAAAAAAAAAAAAAAAAAAAAAAAAAAAAAAAAAAAAAAAAAAAAAAAAAAAAAAAAAAAAAAAAAAAAAAAAAAAAAAAAAAAAAAAAAAAAAAAAAAAAAAAAAAAAAAAAAAAAAAAAAAAAAAAAAAAAAAAAAAAAAAAAAAAAAAAAAAAAAAAAABAP//AwAKAP//AAAAAAAAAAAAAAAAAAAAAAAAAAAAAAAAAQD//wMACQD//wAAAAALAAAAAAAAAAAACwAAAAAAAAAAAAAAAAAAAAAAAAAAAAAAAAAAAAAAAAAAAAAAAAAAAAAAAAAAAAAAAAAAAAAAAAAAAAAAAAAAAAAAAAAAAAAAAAAAAAAAAAAAAAAAAAAAAAAAAAAAAAAAAAAAAAAAAAAAAAAAAAAAAAAAAAAAAAAAAAAAAAAAAAAAAAAAAAAAAAAAAAAAAAAAAAAAAAAAAAAAAAAAAAAAAAAAAAAAAAAAAAAAAAAAAAAAAAAAAAAAAAAAAAAAAAAAAAAAAAAAAAAAAAAAAAAAAAAAAAAAAAAAAAAAAAAAAAAAAAAAAAAAAAAAAAAAAAAAAAAAAAAAAAAAAAAAAQD3//3/9//+/wEA//8BAP//AAAAAAAAAAAAAAAAAAAAAAAAAAAAAAAAAAAAAAAAAAAAAAAAAAAAAAAAAAAAAAAAAAAAAAAAAAAAAAAAAAAAAAAAAAAAAAAAAAAAAAAAAAAAAAAAAAAAAAAAAAAAAAAAAAAAAAAAAAAAAAAAAAAAAAAAAAAAAAAAAAAAAAAAAAAAAAAAAAAAAAAAAAAAAAAAAAAAAAAAAAAAAAAAAAAAAAAAAAAAAAAAAAAAAAAAAAAAAAAAAAAAAAAAAAAAAAAAAAAAAAAAAAAAAAAAAAAAAAAAAAAAAAAAAAAAAAAAAAAAAAAAAAAAAAAAAAAAAAAAAAAAAAAAAAAAAAAAAAAAAAAAAAAAAAAAAAAAAAAAAAABAP//AwAJAP//AAAAAAAAAAAAAAAAAAAAAAAAAAAAAAAAAAAAAAAAAAAAAAAAAAAAAAAAAAAAAAAAAAAAAAAAAAAAAAAAAAAAAAAAAAAAAAAAAAAAAAAAAAAAAAAAAAAAAAAAAAAAAAAAAAAAAAAAAAAAAAAAAAAAAAAAAAAAAAAAAAAAAAAAAAAAAAAAAAAAAAAAAAAAAAAAAAAAAAAAAAAAAAAAAAAAAAAAAAAAAAAAAAAAAAAAAAAAAAAAAAAAAAAAAAAAAAAAAAAAAAAAAAAAAAAAAQD///b/AAAAAAAAAAAAAAAA//8BAP//AgD9//f/AAACAPn/+v8CAP//AAAAAAAAAAAAAAAAAAAAAAAAAAAAAAAAAAAAAAAAAAAAAAAAAAAAAAAAAAAAAAAAAAAAAAAAAAAAAAAAAAAAAAAAAAAAAAAAAAAAAAAAAAAAAAAAAAAAAAAAAAAAAAAAAAAAAAAAAAD//wEA/f/3//j/8/8AAAAAAAAAAAAAAAD///b/AAAAAP//AgDu//r/AgD//wAAAAAAAAAAAAAAAAAAAAAAAAAAAAAAAAAAAAAAAAAAAAAAAAAAAAAAAAAAAAAAAAAAAAAAAAAAAAAAAAAAAAAAAAAAAAAAAAAAAAAAAAAAAAAAAAAAAAAAAAAAAAAAAAAAAAAAAAAAAAAAAAAAAAAAAAAAAAAAAAAAAAAAAAAAAAAAAAAAAAAAAAAAAAAAAAAAAAAAAAAAAAAAAAAAAAAAAAAAAAAAAAAAAAAAAAAAAAAAAAAAAAAAAAAAAAAAAAAAAAAAAAAAAAAAAAEA//8CAAkAAAAAAAAA//8BAP//AQAHAAoABQAAAAAAAAAJAAMACAABAP//AgD+/wIA/v8CAP7/AQAIAAMA/f8FAAgA//8AAP//CAAFAP7/AQAAAAwADAAIAAkAAAAGAAYABgAGAP7/AAAFAAgAEAADAP//CwAGAAYA/f8CAAgAAwAJAAAAAAD//wYABwD+/wIA//8BAP7/CQAFAP//AQAAAAAAAAAAAAAAAAAAAAAAAAAAAAAAAAAAAAAAAAAAAAAAAAAAAAAAAAAAAAAAAAAAAAAAAAAAAAAAAAAAAAAAAAAAAAAAAAAAAAAAAAAAAAAAAAAAAAAAAAAAAAAAAAAAAAAAAAAAAAAAAAAAAAAAAAAAAAAAAAAAAAAAAAAAAAAAAAAAAAAAAAAAAAAAAAAAAAAAAAAAAAAAAAAAAAAAAAAAAAAAAAAAAAAAAAAAAAAAAAAAAAAAAAAAAAAAAAAAAAAAAAAAAAAAAAAAAAAAAAAAAAAAAAAAAAAAAAAAAAAAAAAAAAAAAAAAAAAAAAAAAAAAAAAAAAAAAAAAAP//AgD7//j/AgD//wAAAAAAAAAAAAAAAAAAAAAAAAAAAAAAAAAAAAAAAAAAAAAAAAAAAAAAAAAAAAAAAAAAAAAAAAAAAAAAAAAAAAAAAAAAAAAAAAAAAAAAAAAAAAAAAAAAAAAAAAAAAAAAAAAAAAAAAAAAAAAAAAAAAAAAAAAAAAAAAAAAAAAAAAAAAAAAAAAAAAAAAAAAAAAAAAAAAAAAAAAAAAAAAAAAAAAAAAAAAAAAAAAAAAAAAAAAAAAAAAAAAAAAAAAAAAAAAAAAAAAAAAAAAAAAAAAAAAD2////AAAAAAAAAAAAAAAAAAAAAAAAAAAAAAAAAAAAAAAAAAAAAAAAAAAAAAAAAAAAAAAAAAAAAAAAAAAAAAAAAAAAAAAAAAAAAAAAAAAAAAAAAAAAAAAAAAAAAAAAAAAAAAAAAAAAAAAAAAAAAAAAAAAAAAAAAAAAAAAAAAAAAAAAAAAAAAAAAAAAAAAAAAAAAAAAAAAAAAAAAAAAAAAAAAAAAAAAAAAAAAAAAAAAAAAAAAAAAAAAAAAAAAAAAAAAAAAAAAAAAAAAAAAAAAAAAAAAAAAAAAAAAAAAAAAAAAAAAAAAAAAAAAAAAAAAAAAAAAAAAAAAAAAAAAAAAAAAAAAAAAAAAAAAAAAAAAAAAAAAAAAAAAAAAAAAAAAAAAAAAAAAAAAAAAAAAAAAAAAAAAAAAAAAAAAAAAAAAAAAAAAAAAAAAAAAAAAAAAAAAAAAAAAAAAAAAAAAAAAAAAAAAAAAAAAAAAAAAAAAAAAAAAAAAAAAAAAAAAAAAAAAAAAAAAAAAAAAAAAAAAAAAAAAAAAAAAAAAAAAAAAAAAAAAAAAAAAAAAAAAAAAAAAAAAAAAAAAAAAAAAAAAAAAAAAAAAAAAAAAAAAAAAAAAAAAAAAAAAAAAAAAAAAAAAAAAAAAAAAAAAAAAAAAAAAAAAAAAAAAAAAAAAAAAAAAAAAAAAAAAAAAAAAAAAAAAAAAAAAAAAAAAAAAAAAAAAAAAAAAAAAAAAAAAAAAAAAAAAAAAAAAAAAAAAAAAAAAAAAAAAAAAAAAAAAAAAAAAAAAAAAAAAAAAAAAAAAAAAAAAAAAAAAAAAAAAAAAAAAAAAAAAAAAAAAAAAAAAAAAAAAAAAAAAAAAAAAAAAAAAAAAAAAAAAAAAAAAAAAAAAAAAAAAAAAAAAAAAAAAAAAAAAAAAAAAAAAAAAAAAAAAAAAAAAAAAAAAAAAAAAAAAAAAAAAAAAAAAAAAAAAAAAAAAAAAAAAAAAAAAAAAAAAAAAAAAAAAAAAAAAAAAAAAAAAAAAAAAAAAAAAAAAAAAAAAAAAAAAAAAAAAAAAAAAAAAAAAAAAAAAAAAAAAAAAAAAAAAAAAAAAAAAAAAAAAAAAAAAAAAAAAAAAAAAAAAAAAAAAAAAAAAAAAAAAAAAAAAAAAAAAAAAAAAAAAAAAAAAAAAAAAAAAAAAAAAAAAAAAAAAAAAAAAAAAAAAAAAAAAAAAAAAAAAAAAAAAAAAAAAAAAAAAAAAAAAAAAAAAAAAAAAAAAAAAAAAAAAAAAAAAAAAAAAAAAAAAAAAAAAAAAAAAAAAAAAAAAAAAAAAAAAAAAAAAAAAAAAAAAAAAAAAAAAAAAAAAAAAAAAAAAAAAAAAAAAAAAAAAAAAAAAAAAAAAAAAAAAAAAAAAAAAAAAAAAAAAAAAAAAAAAAAAAAAAAAAAAAAAAAAAAAAAAAAAAAAAAAAAAAAAAAAAAAAAAAAAAAAAAAAAAAAAAAAAAAAAAAAAAAAAAAAAAAAAAAAAAAAAAAAAAAAAAAAAAAAAAAAAAAAAAAAAAAAAAAAAAAAAAAAAAAAAAAAAAAAABAP7/BQAIAP7/AQAAAAAAAAAAAAAAAAAAAAAAAAAAAAAAAAAAAAAAAAAAAAAAAAAAAAAAAAAAAAAAAAAAAAAAAAAAAAAAAAAAAAAAAAAAAAAAAAAAAAAAAAAAAAAAAAAAAAAAAAAAAAAAAAAAAAAAAAAAAAAAAAAAAAAAAAAAAAAAAAAAAAAAAAAAAAAAAAAAAAAAAAAAAAAAAAAAAAAAAAAAAAAAAAAAAAAAAAAAAAAAAAAAAAAAAAAAAAAAAAAAAAAAAAAAAAAAAAAAAAAA9v/+/wEAAAAAAAAAAAAAAAAAAAAAAAAAAAAAAAAAAAAAAAAAAAAAAAAAAAAAAAAAAAAAAAAAAAAAAAAAAAAAAAAAAAAAAAAAAAAAAAAAAAAAAAAAAAAAAAAAAAAAAAAAAAAAAAAAAAAAAAAAAAAAAAAAAAAAAAAAAAAAAAAAAAAAAAAAAAAAAAAAAAAAAAAAAAAAAAAAAAAAAAAAAAAAAAAAAAAAAAAAAAAAAAAAAAAAAAAAAAAAAAAAAAAAAAAAAAAAAAAAAAAAAAAAAAAAAAAAAAAAAAAAAAAAAAAAAAAAAAAAAAAAAAAAAAAAAAAAAAAAAAAAAAAAAAAAAAAAAAAAAAAAAAAAAAAAAAAAAAAAAAAAAAAAAAAAAAAAAAAAAAAAAAAAAAAAAAAAAAAAAAAAAAAAAAAAAAAAAAAAAAAAAAAAAAAAAAAAAAAAAAAAAAAAAAAAAAAAAAAAAAAAAAAAAAAAAAAAAAAAAAAAAAAAAAAAAAAAAAAAAAAAAAAAAAAAAAAAAAAAAAAAAAAAAAAAAAAAAAAAAAAAAAAAAAAAAAAAAAAAAAAAAAAAAAAAAAAAAAAAAAAAAAAAAAAAAAAAAAAAAAAAAAAAAAAAAAAAAAAAAAAAAAAAAAAAAAAAAAAAAAAAAAAAAAAAAAAAAAAAAAAAAAAAAAAAAAAAAAAAAAAAAAAAAAAAAAABAP//AwAJAP//AAAAAAAAAAAAAAAAAAAAAAAAAAAAAAAAAAAAAAAAAAAAAAAAAAAAAAAAAAAAAAAAAAAAAAAAAAAAAAAAAAAAAAAAAAAAAAAAAAAAAAAAAAAAAAAAAAAAAAAAAAAAAAAAAAAAAAAAAAAAAAAAAAAAAAAAAAAAAAAAAAAAAAAAAAAAAAAAAAAAAAAAAAAAAAAAAAAAAAAAAAAAAAAAAAAAAAAAAAAAAAAAAAAAAAAAAAAAAAAAAAAAAAAAAAAAAAAAAAAAAAAAAAAAAAAAAAAAAAAAAAAAAAAAAAAAAAAAAAAAAAAAAAAAAAAAAAAAAAAAAAAAAAAAAAAAAAAAAAAAAAAAAAAAAAAAAAAAAAAAAAAAAAAAAAAAAAAAAAAAAAAAAAAAAAAAAAAAAAAAAAAAAAAAAAAAAAAAAAAAAAEA+f/6/wIA//8BAP//9f8AAP//AgD5//v/+//5/wMA/v8BAP//AAAAAAAAAAAAAAAAAAAAAAAAAAAAAAAAAAAAAAAA9v///wAAAAAAAAAAAAD1/wAAAAAAAAAA9v8AAAAAAAAAAAAAAAAAAAAAAAAAAAAAAAAAAAAAAAAAAAAAAAAAAAAA9v/+/wEAAAAAAAAAAAAAAAAAAAAAAAAAAAAAAAAAAAAAAAAAAAAAAAAAAAAAAAAAAAAAAAAAAAAAAAAAAAAAAAAAAAAAAAAAAAAAAAAAAAAAAAAAAAAAAAAAAAAAAAAAAAAAAAAAAAAAAAAAAAAAAAAAAAAAAAAAAAAAAAAAAAAAAAAAAAAAAAAAAAAAAAAAAAAAAAAAAAAAAAAAAAAAAAAAAAAAAAAAAAAAAAAAAAAAAAAAAAAAAAAAAAAAAAAAAAAAAAAAAAAAAAAAAAAAAAAAAAAAAAAAAAAAAAAAAAAAAAAAAAAAAAAAAAAAAAAAAAAAAAAAAAAAAAAAAAAAAAAAAAAAAAAAAAAAAAAAAAAAAAAAAAAAAAAAAAAAAAAAAAAAAAAAAAAAAAAAAAAAAAAAAAAAAAAAAAAAAAAAAAAAAAAAAAAAAAAAAAAAAAAAAAAAAAAAAAAAAAAAAAAAAAAAAAAAAAAAAAAAAAAAAAAAAAAAAAAAAAAAAAAAAAAAAAAAAAAAAAAAAAAAAAAAAAAAAAAAAAAAAAAAAAAAAAAAAAAAAAAAAAAAAAAAAAAAAAAAAAAAAAAAAAAAAAAAAAAAAAAAAAAAAAAAAAAAAAAAAAAAAAAAAAAAAAAAAAAAAAAAAAAAAAAAAAAAAAAAAAAAAAAAAAAAAAAAAAAAAAAAAAAAAAAAAAAAAAAAAAAAAAAAAAAAAAAAAAAAAAAAAAAAAAAAAAAAAAAAAAAAAAAAAAAAAAAAAAAAAAAAAAAAAAAAAAAAAAAAAAAAAAAAAAAAAAAAAAAAAAAAAAAAAAAAAAAAAAAAAAAAAAAAAAAAAAAAAAAAAAAAAAAAAAAAAAAAAAAAAAAAAAAAAAAAAAAAAAAAAAAAAAAAAAAAAAAAAAAAAAAAAAAAAAAAAAAAAAAAAAAAAAAAAAAAAAAAAAAAAAAAAAAAAAAAAAAAAAAAAAAAAAAAAAAAAAAAAAAAAAAAAAAAAAAAAAAAAAAAAAAAAAAAAAAAAAAAAAAAAAAAAAAAAAAAAAAAAAAAAAAAAAAAAAAAAAAAAAAAAAAAAAAAAAAAAAAAAAAAAAAAAAAAAAAAAAAAAAAAAAAAAAAAAAAAAAAAAAAAAAAAAAAAAAAAAAAAAAAAAAAAAAAAAAAAAAAAAAAAAAAAAAAAAAAAAAAAAAAAAAAAAAAAAAAAAAAAAAAAAAAAAAAAAAAAAAAAAAAAAAAAAAAAAAAAAAAAAAAAAAAAAAAAAAAAAAAAAAAAAAAAAAAAAAAAAAAAAAAAAAAAAAAAAAAAAAAAAAAAAAAAAAAAAAAAAAAAAAAAAAAAAAAAAAAAAAAAAAAAAAAAAAAAAAAAAAAAAAAAAAAAAAAAAAAAAAAAAAAAAAAAAAAAAAAAAAAAAAAAAAAAAAAAAAAAAAAAAAAAAAAAAAAAAAAAAAAAAAAAAAAAAAAAAAAAAP//AgAKAP//AAAKAAAAAAAAAAAAAAAAAAAAAAAAAAAAAAAAAAAAAAAAAAAAAAAAAAAAAAAAAAAAAAAAAAAAAAAAAAAAAAAAAAAAAAAAAAAAAAAAAAAAAAAAAAAAAAAAAAAAAAAAAAAAAAAAAAAAAAAAAAAAAAAAAAAAAAAAAAAAAAAAAAAAAAAAAAAAAAAAAAAAAAAAAAAAAAAAAAAAAAAAAAAAAAAAAAAAAAAAAAAAAAAAAAAAAAAAAAAAAAAAAAAAAAAAAAAAAAAAAAAAAAAAAAAAAAAAAAAAAAAAAAAAAAAAAAAAAAAAAAAAAAAAAAAAAAAAAAAAAAAAAAAAAAAAAAAAAAAAAAAAAAAAAAAAAAAAAAAAAAAAAAAAAAAAAAAAAAAAAAAAAAAAAAAAAAAAAAAAAAAAAAAAAAAAAAAAAAAAAAAAAAAAAAAAAAAAAAAAAAAAAAAAAAAAAAAAAAAAAAAAAAAAAAAAAAAAAAAAAAAAAAAAAAAAAAAAAAAAAAAAAAAAAAAAAAAAAAAAAAAAAAAAAAAAAAAAAAAAAAAAAAAAAAAAAAAAAAAAAAAAAAAAAAAAAAAAAAAAAAAAAAAAAAAAAAAAAAAAAAAAAAAAAAAAAAAAAAAAAAAAAAAAAAAAAAAAAAAAAAAAAAAAAAAAAAAAAAAAAAAAAAAAAAAAAAAAAAAAAAAAAAAAAAAAAAAAAAAAAAAAAAAAAAAAAAAAAAAAAAAAAAAAAAAAAAAAAAAAAAAAAAAAAAAAAAAAAAAAAAAAAAAAAAAAAAAAAAAAAAAAAAAAAAAAAAAAAAAAAAAAAAAAAAAAAAAAAAAAAAAAAAAAAAAAAAAAAAAAAAAAAAAAAAAAAAAAAAAAAAAAAAAAAAAAAAAAAAAAAAAAAAAAAAAAAAAAAAAAAAAAAAAAAAAAAAAAAAAAAAAAAAAAAAAAAAAAAAAAAAAAAAAAAAAAAAAAAAAAAAAAAAAAAAAAAAAAAAAAAAAAAAAAAAAAAAAAAAAAAAAAAAAAAAAAAAAAAAAAAAAAAAAAAAAAAAAAAAAAAAAAAAAAAAAAAAAAAAAAAAAAAAAAAAAAAAAAAAAAAAAAAAAAAAAAAAAAAAAAAAAAAAAAAAAAAAAAAAAAAAAAAAAAAAAAAAAAAAAAAAAAAAAAAAAAAAAAAAAAAAAAAAAAAAAAAAAAAAAAAAAAAAAAAAAAAAAAAAAAAAAAAAAAAAAAAAAAAAAAAAAAAAAAAAAAAAAAAAAAAAAAAAAAAAAAAAAAAAAAAAAAAAAAAAAAAAAAAAAAAAAAAAAAAAAAAAAAAAAAAAAAAAAAAAAAAAAAAAAAAAAAAAAAAAAAAAAAAAAAAAAAAAAAAAAAAAAAAAAAAAAAAAAAAAAAAAAAAAAAAAAAAAAAAAAAAAAAAAAAAAAAAAAAAAAAAAAAAAAAAAAAAAAAAAAAAAAAAAAAAAAAAAAAAAAAAAAAAAAAAAAAAAAAAAAAAAAAAAAAAAAAAAAAAAAAAAAAAAAAAAAAAAAAAAAAAAAAAAAAAAAAAAAAAAAAAAAAAAAAAAAAAAAAAAAAAAAAAAAAAAAAAAAAAAAAAAAAAAAAAAAAAAAAAAAAAAAAAAAAAAAAAAAAAAAAAAAAAAAAAP//AgD7//j/AgD//wAAAAAAAAAAAAAAAAAAAAAAAAAAAAAAAAAAAAAAAAAAAAAAAAAAAAAAAAAAAAAAAAAAAAAAAAAAAAAAAAAAAAAAAAAAAAAAAAAAAAAAAAAAAAAAAAAAAAAAAAAAAAAAAAAAAAAAAAAAAAAAAAAAAAAAAAAAAAAAAAAAAAAAAAAAAAAAAAAAAAAAAAAAAAAAAAAAAAAAAAAAAAAAAAAAAAAAAAAAAAAAAAAAAAAAAAAACgAAAAAAAAAAAAAAAAAAAAAAAAAAAAAAAAAAAAAAAAAAAAAAAAAAAAAAAAABAP//AgAKAP//AAAAAAAAAAAAAAAAAAAAAAAAAAAAAAAAAAAAAAAAAAAAAAAAAAAAAAAAAAAAAAAAAAAAAAAAAAAAAAAAAAAAAAAAAAAAAAAAAAAAAAAAAAAAAAAAAAAAAAAAAAAAAAAAAAAAAAAAAAAAAAAAAAAAAAAAAAAAAAAAAAAAAAAAAAAAAAAAAAAAAAAAAAAAAAAAAAAAAAAAAAAAAAAAAAAAAAAAAAAAAAAAAAAAAAAAAAAAAAAAAAAAAAAAAAAAAAAAAAAAAAAAAAAAAAAAAAAAAAAAAAAAAAAAAAAAAAAAAAAAAAAAAAAAAAAAAAAAAAAAAAAAAAAAAAAAAAAAAAAAAAAAAAAAAAAAAAAAAAAAAAAAAAAAAAAAAAAAAAAAAAAAAAAAAAAAAAAAAAAAAAAAAAAAAAAAAAAAAAAAAAAAAAAAAAAAAAAAAAAAAAAAAAAAAAAAAAAAAAAAAAAAAAAAAAAAAAAAAAAAAAAAAAAAAAAAAAAAAAAAAAAAAAAAAAAAAAAAAAAAAAAAAAAAAAAAAAAAAAAAAAAAAAAAAAAAAAAAAAAAAAAAAAAAAAAAAAAAAAAAAAAAAAAAAAAAAAAAAAAAAAAAAAAAAAAAAAAAAAAAAAAAAAAAAAAAAAAAAAAAAAAAAAAAAAAAAAAAAAAAAAAAAAAAAAAAAAAAAAAAAAAAAAAAAAAAAAAAAAAAAAAAAAAAAAAAAAAAAAAAAAAAAAAAAAAAAAAAAAAAAAAAAAAAAAAAAAAAAAAAAAAAAAAAAAAAAAAAAAAAAAAAAAAAAAAAAAAAAAAAAAAAAAAAAAAAAAAAAAAAAAAAAAAAAAAAAAAAAAAAAAAAAAAAAAAAAAAAAAAAAAAAAAAAAAAAAAAAAAAAAAAAAAAAAAAAAAAAAAAAAAAAAAAAAAAAAAAAAAAAAAAAAAAAAAAAAAAAAAAAAAAAAAAAAAAAAAAAAAAAAAAAAAAAAAAAAAAAAAAAAAAAAAAAAAAAAAAAAAAAAAAAAAAAAAAAAAAAAAAAAAAAAAAAAAAAAAAAAAAAAAAAAAAAAAAAAAAAAAAAAAAAAAAAAAAAAAAAAAAAAAAAAAAAAAAAAAAAAAAAAAAAAAAAAAAAAAAAAAAAAAAAAAAAAAAAAAAAAAAAAAAAAAAAAAAAAAAAAAAAAAAAAAAAAAAAAAAAAAAAAAAAAAAAAAAAAAAAAAAAAAAAAAAAAAAAAAAAAAAAAAAAAAAAAAAAAAAAAAAAAAAAAAAAAAAAAAAAAAAAAAAAAAAAAAAAAAAAAAAAAAAAAAAAAAAAAAAAAAAAAAAAAAAAAAAAAAAAAAAAAAAAAAAAAAAAAAAAAAAAAAAAAAAAAAAAAAAAAAAAAAAAAAAAAAAAAAAAAAAAAAAAAAAAAAAAAAAAAAAAAAAAAAAAAAAAAAAAAAAAAAAAAAAAAAAAAAAAAAAAAAAAAAAAAAAAAAAAAAAAAAAAAAAAAAAAAAAAAAAAAAAAAAAAAAAAAAAAAAAAAAAAAAAAAAAAAAAAAAAAAAAAAAAAAAAAAAAAAAAAAAAAAAAAAAAAAAAAAAAAAAAAAAAAAAAAAAAAAAAAAAAAAAAAAAAAAAAAAAAAAAAAAAAAAAAAAAAAAAAAAAAAAAAAAAAAAAAAAAAAAAAAAAAAAAAAAAAAAAAAAAAAAAAAAAAA//8CAPn/+v8CAP//AQD//wIA9//8/wEA//8AAAAAAAAAAAAAAAAAAAAAAAAAAAAAAAAAAAAAAAAAAAAAAAAAAAAAAAAAAAAAAAAAAAAAAAAAAAAAAAAAAAAAAAAAAAAAAAAAAAAAAAAAAAAAAAAAAAAAAAAAAAAAAAAAAAAAAAAAAAAAAAAAAAAAAAAAAAAAAAAAAAAAAAAAAAAAAAAAAAAAAAAAAAAAAAAAAAAAAAAAAAAAAAAAAAAAAAAAAAAAAAAAAAAAAAAAAAAAAAAAAAAAAAAAAAAAAAAAAAAAAAAAAAAAAAAAAAAAAAAAAAAAAAAAAAAAAAAAAAAAAAAAAAAAAAAAAAAAAAAAAAAAAAAAAAAAAAAAAAAAAAAAAAAAAAAAAAAAAAAAAAAAAAAAAAAAAAAAAAAAAAAAAAAAAAAAAAAAAAAAAAAAAAAAAAAAAAAAAAAAAAAAAAAAAAAAAAAAAAAAAAAAAAAAAAAAAAAAAAAAAAAAAAAAAAAAAAAAAAAAAAAAAAAAAAAAAAAAAAAAAAAAAAAAAAAAAAAAAAAAAAAAAAAAAAAAAAAAAAAAAAAAAAAAAAAAAAAAAAAAAAAAAAAAAAAAAAAAAAAAAAAAAAAAAAAAAAAAAAAAAAAAAAAAAAAAAAAAAAAAAAAAAAAAAAAAAAAAAAAAAAAAAAAAAAAAAAAAAAAAAAAAAAAAAAAAAAAAAAAAAAAAAAAAAAAAAAAAAAAAAAAAAAAAAAAAAAAAAAAAAAAAAAAAAAAAAAAAAAAAAAAAAAAAAAAAAAAAAAAAAAAAAAAAAAAAAAAAAAAAAAAAAAAAAAAAAAAAAAAAAAAAAAAAAAAAAAAAAAAAAAAAAAAAAAAAAAAAAAAAAAAAAAAAAAAAAAAAAAAAAAAAAAAAAAAAAAAAAAAAAAAAAAAAAAAAAAAAAAAAAAAAAAAAAAAAAAAAAAAAAAAAAAAAAAAAAAAAAAAAAAAAAAAAAAAAAAAAAAAAAAAAAAAAAAAAAAAAAAAAAAAAAAAAAAAAAAAAAAABAPf//f8BAAAAAAAAAAAAAAAAAAEA/v/2/wEAAAAAAAAAAAAAAAAAAAAAAAAAAAAAAAAAAAAAAAAAAAAAAAAAAAAAAAAAAAAAAAAAAAAAAAAAAAAAAAAAAAAAAAAAAAAAAAAAAAAAAAAAAAAAAAAAAAAAAAAAAAAAAAAAAAAAAAAAAAAAAAAAAAAAAAAAAAAAAAAAAAAAAAAAAAAAAAAAAAAAAAAAAAAAAAAAAAAAAAAAAAAAAAAAAAAAAAAAAAAAAAAAAAAAAAAAAAAAAAAAAAAAAAAAAAAAAAAAAAAAAAAAAAAAAAAAAAAAAAAAAAAAAAAAAAAAAAAAAAAAAAAAAAAAAAAAAAAAAAAAAAAAAAAAAAAAAAAAAAAAAAAAAAAAAAAAAAAAAAAAAAAAAAAAAAAAAAAAAAAAAAAAAAAAAAAAAAAAAAAAAAAAAAAAAAAAAAAAAAAAAAAAAAAAAAAAAAAAAAAAAAAAAAAAAAAAAAAAAAAAAAAAAAAAAAAAAAAAAAAAAAAAAAAAAAAAAAAAAAAAAAAAAAAAAAAAAAAAAAAAAAAAAAAAAAAAAAAAAAAAAAAAAAAAAAAAAAAAAAAAAAAAAAAAAAAAAAAAAAAAAAAAAAAAAAAAAAAAAAAAAAAAAAAAAAAAAAAAAAAAAAAAAAAAAAAAAAAAAAAAAAAAAAAAAAAAAAAAAAAAAAAAAAAAAAAAAAAAAAAAAAAAAAAAAAAAAAAAAAAAAAAAAAAAAAAAAAAAAAAAAAAAAAAAAAAAAAAAAAAAAAAAAAAAAAAAAAAAAAAAAAAAAAAAAAAAAAAAAAAAAAAAAAAAAAAAAAAAAAAAAAAAAAAAAAAAAAAAAAAAAAAAAAAAAAAAAAAAAAAAAAAAAAAAAAAAAAAAAAAAAAAAAAAAAAAAAAAAAAAAAAAAAAAAAAAAAAAAAAAAAAAAAAAAAAAAAAAAAAAAAAAAAAAAAAAAAAAAAAAAAAAAAAAAAAAAAAAAAAAAAAAAAAAAAAAAAAAAAAAAAAAAAAAAAAAAAAAAAAAAAAAAAAAAAAAAAAAAAAAAAAAAAAAAAAAAAAAAAAAAAAAAAAAAAAAAAAAAAAAAAAAAAAAAAAAAAAAAAAAAAAAAAAAAAAAAAAAAAAAAAAAAAAAAAAAAAAAAAAAAAAAAAAAAAAAAAAAAAAAAAAAAAAAAAAAAAAAAAAAAAAAAAAAAAAAAAAAAAAAAAAAAAAAAAAAAAAAAAAAAAAAAAAAAAAAAAAAAAAAAAAAAAAAAAAAAAAAAAAAAAAAAAAAAAAAAAAAAAAAAAAAAAAAAAAAAAAAAAAAAAAAAAAAAAAAAAAAAAAAAAAAAAAAAAAAAAAAAAAAAAAAAAAAAAAAAAAAAAAAAAAAAAAAAAAAAAAAAAAAAAAAAAAAAAAAAAAAAAAAAAAAAAAAAAAAAAAAAAAAAAAAAAAAAAAAAAAAAAAAAAAAAAAAAAAAAAAAAAAAAAAAAAAAAAAAAAAAAAAAAAAAAAAAAAAAAAAAAAAAAAAAAAAAAAAAAAAAAAAAAAAAAAAAAAAAAAAAAAAAAAAAAAAAAAAAAAAAAAAAAAAAAAAAAAAAAAAAAAAAAAAAAAAAAAAAAAAAAAAAAAAAAAAAAAAAAAAAAAAAAAAAAAAAAAAAAAAAAAAAAAAAAAAAAAAAAAAAAAAAAAAAAAAAAAAAAAAAAAAAAAAAAAAAAAAAAAAAAAAAAAAAAAAAAAAAAAAAAAAAAAAAAAAAAAAAAAAAAAAAAAAAAAAAAAAAAAAAAAAAAAAAAAAAAAAAAAAAAAAAAAAAAAAAAAAAAAAAAAAAAAAAAAAAAAAAAAAAAAAAAAAAAAAAAAAAAAAAAAAAAAAAAAAAAAAAAAAAAAAAAAAAAAAAAAAAAAAAAAAAAAAAAAAAAAAAAAAAAAAAAAAAAAAAAAAAAAAAAAAAAAAAAAAAAAAAAAAAAAAAAAAAAAAAAAAAAAAAAAAAAAAAAAAAAAAAAAAAAAAAAAAAAAAAAAAAAAAAAAAAAAAAAAAAAAAAAAAAAAAAAAAAAAAAAAAAAAAAAAAAAAAAAAAAAAAAAAAAAAAAAAAAAAAAA//8CAPn/+v8CAP//AAAAAAAAAAAAAAAAAAAAAAAAAAAAAAAAAAAAAAAAAAAAAAAAAAAAAAAAAAAAAAAAAAAAAAAAAAAAAAAAAAAAAAAAAAAAAAAAAAAAAAAAAAAAAAAAAAAAAAAAAAAAAAAAAAAAAAAAAAAAAAAAAAAAAAAAAAAAAAAAAAAAAAAAAAAAAAAAAAAAAAAAAAAAAAAAAAAAAAAAAAAAAAAAAAAAAAAAAAAAAAAAAAAAAAAAAAAAAAAAAAAAAAAAAAAAAAAAAAAAAAAAAAAAAAAAAAAAAAAAAAAAAAAAAAAAAAAAAAAAAAAAAAAAAAAAAAAAAAAAAAAAAAAAAAAAAAAAAAAAAAAAAAAAAAAAAAAAAAAAAAAAAAAAAAAAAAAAAAAAAAAAAAAAAAAAAAAAAAAAAAAAAAAAAAAAAAAAAAAAAAAAAAAAAAAAAAAAAAAAAAAAAAAAAAAAAAAAAAAAAAAAAAAAAAAAAAAAAAAAAAAAAAAAAAAAAAAAAAAAAAAAAAAAAAAAAAAAAAAAAAAAAAAAAAAAAAAAAAAAAAAAAAAAAAAAAAAAAAAAAAAAAAAAAAAAAAAAAAAAAAAAAAAAAAAAAAAAAAAAAAAAAAAAAAAAAAAAAAAAAAAAAAAAAAAAAAAAAAAAAAAAAAAAAAAAAAAAAAAAAAAAAAAAAAAAAAAAAAAAAAAAAAAAAAAAAAAAAAAAAAAAAAAAAAAAAAAAAAAAAAAAAAAAAAAAAAAAAAAAAAAAAAABAPf//P8BAP//AAAAAAAAAAAAAAAAAAAAAAAAAAAAAAAAAAAAAAAAAAAAAAAAAAAAAAAAAAAAAAAAAAAAAAAAAAAAAAAAAAAAAAAAAAAAAAAAAAAAAAAAAAAAAAAAAAAAAAAAAAAAAAAAAAAAAAAAAAAAAAAAAAAAAAAAAAAAAAAAAAAAAAAAAAAAAAAAAAAAAAAAAAAAAAAAAAAAAAAAAAAAAAAAAAAAAAAAAAAAAAAAAAAAAAAAAAAAAAAAAAAAAAAAAAAAAAAAAAAAAAAAAAAAAAAAAAAAAAAAAAAAAAAAAAAAAAAAAAAAAAAAAAAAAAAAAAAAAAAAAAAAAAAAAAAAAAAAAAAAAAAAAAAAAAAAAAAAAAAAAAAAAAAAAAAAAAAAAAAAAAAAAAAAAAAAAAAAAAAAAAAAAAAAAAAAAAAAAAAAAAAAAAAAAAAAAAAAAAAAAAAAAAAAAAAAAAAAAAAAAAAAAAAAAAAAAAAAAAAAAAAAAAAAAAAAAAAAAAAAAAAAAAAAAAAAAAAAAAAAAAAAAAAAAAAAAAAAAAAAAAAAAAAAAAAAAAAAAAAAAAAAAAAAAAAAAAAAAAAAAAAAAAAAAAAAAAAAAAAAAAAAAAAAAAAAAAAAAAAAAAAAAAAAAAAAAAAAAAAAAAAAAAAAAAAAAAAAAAAAAAoAAAAAAAAAAAAAAAAAAAAAAAAAAAAAAAAAAAAAAAAAAAAAAAAAAAAAAAAAAAAAAAAAAAAAAAAAAAAAAAAAAAAAAAAAAAAAAAAAAAAAAAAAAAAAAAAAAAAAAAAAAAAAAAAAAAAAAAAAAAAAAAAAAAAAAAAAAAAAAAAAAAAAAAAAAAAAAAAAAAAAAAAAAAAAAAAAAAAAAAAAAAAAAAAAAAAAAAAAAAAAAAAAAAAAAAAAAAAAAAAAAAAAAAAAAAAAAAAAAAAAAAAAAAAAAAAAAAAAAAAAAAAAAAAAAAAAAAAAAAAAAAAAAAAAAAAAAAAAAAAAAAAAAAAAAAAAAAAAAAAAAAAAAAAAAAAAAAAAAAAAAAAAAAAAAAAAAAAAAAAAAAAAAAAAAAAAAAAAAAAAAAAAAAAAAAAAAAAAAAAAAAAAAAAAAAAAAAAAAAAAAAAAAAAAAAAAAAAAAAAAAAAAAAAAAAAAAAAAAAAAAAAAAAAAAAAAAAAAAAAAAAAAAAAAAAAAAAAAAAAAAAAAAAAAAAAAAAAAAAAAAAAAAAD//wIA+//4/wIA//8AAAAAAAAAAAAAAAAAAAAAAAAAAAAAAAAAAAAAAAAAAAAAAAAAAAAAAAAAAAAAAAAAAAAAAAAAAAAAAAAAAAAAAAAAAAAAAAAAAAAAAAAAAAAAAAAAAAAAAAAAAAAAAAAAAAAAAAAAAAAAAAAAAAAAAAAAAAAAAAAAAAAAAAAAAAAAAAAAAAAAAAAAAAAAAAAAAAAAAAAAAAAAAAAAAAAAAAAAAAAAAAAAAAAAAAAAAAAAAAAAAAAAAAAAAAAAAAAAAAAAAAAAAAAAAAAAAAAAAAAAAAAAAAAAAAAAAAAAAAAAAAAAAAAAAAAAAAAAAAAAAAAAAAAAAAAAAAAAAP//AQAKAAAAAAAAAAAAAAAAAAAAAAAAAAAAAAAAAAAAAAAAAAAAAAAAAAAAAAAAAAAAAAAAAAAAAAAAAAAAAAAAAAAAAAAAAAAAAAAAAAAAAAAAAAAAAAAAAAAAAAAAAAAAAAAAAAAAAAAAAAAAAAAAAAAAAAAAAAAAAAAAAAAAAAAAAAAAAAAAAAAAAAAAAAAAAAAAAAAAAAAAAAAAAAAAAAAAAAAAAAAAAAAAAAAAAAAAAAAAAAAAAAAAAAAAAAAAAAAAAAAAAAAAAAAAAAAAAAAAAAAAAAAAAAAAAAAAAAAAAAAAAAAAAAAAAAAAAAAAAAAAAAAAAAAAAAAAAAAAAAAAAAAAAAAAAAAAAAAAAAAAAAAAAAAAAAAAAAAAAAAAAAAAAAAAAAAAAAAAAAAAAAAAAAAAAAAAAAAAAAAAAAAAAAAAAAAAAAAAAAAAAAAAAAAAAAAAAAAAAAAAAAAAAAAAAAAAAAAAAAAAAAAAAAAAAAAAAAAAAAAAAAAAAAAAAAAAAAAAAAAAAAAAAAAAAAAAAAAAAAAAAAAAAAAAAAAAAAAAAAAAAAAAAAAAAAAAAAAAAAAAAAAAAAAAAAAAAAAAAAAAAAAAAAAAAAAAAAAAAAAAAAAAAAAAAAAAAAAAAAAAAAAAAAAAAAAAAAAAAAAAAAAAAAAAAAAAAAAAAAAAAAAAAAAAAAAAAAAAAAAAAAAAAAAAAAAAAAAAAAAAAAAAAAAAAAAAAAAAAAAAAAAAAAAAAAAAAAAAAAAAAAAAAAAAAAAAAAAAAAAAAAAAAAAAAAAAAAAAAAAAAAAAAAAAAAAAAAAAAAAAAAAAAAAAAAAAAAAAAAAAAAAAAAAAAAAAAAAAAAAAAAAAAAAAAAAAAAAAAAAAAAAAAAAAAAAAAAAAAAAAAAAAAAAAAAAAAAAAAAAAAAAAAAAAAAAAAAAAAAAAAAAAAAAAAAAAAAAAAAAAAAAAAAAAAAAAAAAAAAAAAAAAAAAAAAAAAAAAAAAAAAAAAAAAAAAAAAAAAAAAAAAAAAAAAAAAAAAAAAAAAAAAAAAAAAAAAAAAAAAAAAAAAAAAAAAAAAAAAAAAAAAAAAAAAAAAAAAAAAAAAAAAAAAAAAAAAAAAAAAAAAAAAAAAAAAA//8KAAIA//8BAAAAAAAAAAAAAAAAAAAAAAAAAAAAAAAAAAAAAAAAAAAAAAAAAAAAAAAAAAAAAAAAAAAAAAAAAAAAAAAAAAAAAAAAAAAAAAAAAAAAAAAAAAAAAAAAAAAAAAAAAAAAAAAAAAAAAAAAAAAAAAAAAAAAAAAAAAAAAAAAAAAAAAAAAAAAAAAAAAAAAAAAAAAAAAAAAAAAAAAAAAAAAAAAAAAAAAAAAAAAAAAAAAAAAAAAAAAAAAAAAAAAAAAAAAAAAAAAAAAAAAAAAAAAAAAAAAAAAAAAAAAAAAAAAAAAAAAAAAAAAAAAAAAAAAAAAAAAAAAAAAAAAAAAAAAAAQD3//z/AQD//wAAAAAAAAAAAAAAAAAAAAAAAAAAAAAAAAAAAAAAAAAAAAAAAAEA/f/2/wIA//8BAP//AQD+/wMA9v/x/wAA9P8DAP7/AgD//wIA+//t/wEAAAAAAAAAAAAAAAAA///z//f/AgD+/wIA/P/3/wAAAAD///b/AAAAAAAAAAAAAAAAAAAAAAAAAAAAAAAAAAAAAAAAAAAAAAAAAQD2////AAAAAAAAAAAAAAAAAAABAP3/7f8AAAAAAAAAAAAAAAAAAAAAAAAAAAAAAAAAAAAAAAAAAAAAAAAAAAAAAAAAAAAAAAAAAAAAAAAAAAAAAAAAAAAAAAAAAAAAAAAAAAAAAAAAAAAAAAAAAAAAAAAAAAAAAAAAAAAAAAAAAAAAAAAAAAAAAAAAAAAAAAAAAAAAAAAAAAAAAAAAAAAAAAAAAAAAAAAAAAAAAAAAAAAAAAAAAAAAAAAAAAAAAAAAAAAAAAAAAAAAAAAAAAAAAAAAAAAAAAAAAAAAAAAAAAAAAAAAAAAAAAAAAAAAAAAAAAAAAAAAAAAAAAAAAAAA//8JAAMA//8BAAAAAAAAAAAAAAAAAAAAAAAAAAAAAAAAAAAAAAAAAAAAAAAAAAAAAAAAAAAAAAAAAAAAAAAAAAAAAAAAAAAAAAAAAAAAAAAAAAAAAAABAAoAAAAAAAAAAAAAAAAAAAAAAAAAAAAAAAAAAAAAAAAAAAAAAAAAAAAAAAAAAAAAAAAAAAAAAAAAAAAAAAAAAAAAAAAAAAAAAAAAAAAAAAAAAAAAAAAAAAAAAAAAAAAAAAAAAAAAAAAAAAAAAAAAAAAAAAAAAAAAAAAAAAAAAAAAAAAAAAAAAAAAAAAAAAAAAAAAAAAAAAAAAAAAAAAAAAAAAAAAAAAAAAAAAAAAAAAAAAAAAAAAAAAAAAAAAAAAAAAAAAAAAAAAAAAAAAAAAAAAAAAAAAAAAAAAAAAAAAAAAAAAAAAAAAAAAAAAAAAAAAAAAAAAAAAAAAAAAAAAAAAAAAAAAAAAAAAAAAAAAAAAAAAAAAAAAAAAAAAAAAAAAAAAAAAAAAAAAAAAAAAAAAAAAAAAAAAAAAAAAAAAAAAAAAAAAAAAAAAAAAAAAAAAAAAAAAAAAAAAAAAAAAAAAAAAAAAAAAAAAAAAAAAAAAAAAAAAAAAAAAAAAAAAAAAAAAAAAAAAAAAAAAAAAAAAAAAAAAAAAAAAAAAAAAAAAAAAAAAAAAAAAAAAAAAAAAAAAAAAAAAAAAAAAAAAAAAAAAAAAAAAAAAAAAAAAAAAAAAAAAAAAAAAAAAAAAAAAAAAAAAAAAAAAAAAAAAAAAAAAAAAAAAAAAAAAAAAAAAAAAAAAAAAAAAAAAABAP7/9v8BAAAAAAAAAAAAAAD2////AAAAAAAAAAAAAAAAAAAAAAAAAAAAAAAAAAAAAAAAAAAAAAAAAAAAAAAAAAAAAAAAAAAAAAAAAAAAAAAAAAAAAAAAAAAAAAAAAAAAAAAAAAAAAAAAAAAAAAAAAAAAAAAAAAAAAAAAAAAAAAAAAAAAAAAAAAAAAAAAAAAAAAAAAAAAAAAAAAAAAAAAAAAAAAAAAAAAAAAAAAAAAAAAAAAAAAAAAAAAAAAAAAAAAAAAAAAAAAAAAAAAAAAAAAAAAAAAAAAAAAAAAAAAAAAAAAAAAAAAAAAAAAAAAAAAAAAAAAAAAAAAAAAAAAAAAAAAAAAAAAAAAAAAAAAAAAAAAAAAAAAAAAAAAAAAAAAAAAAAAAAAAAAAAAAAAAAAAAAAAAAAAAAAAAAAAAAAAAAAAAAAAAAAAAAAAAAAAAAAAAAAAAAAAAAAAAAAAAAAAAAAAAAAAAAAAAAAAAAAAAAAAAAAAAAAAAAAAAAAAAAAAAAAAAAAAAAAAAAAAAAAAAAAAAAAAAAAAAAAAAAAAAAAAAAAAAAAAAAAAAAAAAAAAAAAAAAAAAAAAAAAAAAAAAAAAAAAAAAAAAAAAAAAAAAAAAAAAAAAAAAAAAAAAAAAAAAAAAAAAAAAAAAAAAAAAAAAAAAAAAAAAAAAAAAAAAAAAAAAAAAAAAAAAAAAAAAAAAAAAAAAAAAAAAAAAAAAAAAAAAAAAAAAAAAAAAAAAAAAAAAAAAAAAAAAAAAAAAAAAAAAAAAAAAAAAAAAAAAAAAAAAAAAAAAAAAAAAAAAAAAAAAAAAAAAAAAAAAAAAAAAAAAAAAAAAAAAAAAAAAAAAAAAAAAAAAAAAAAAAAAAAAAAAAAAAAAAAAAAAAAAAAAAAAAAAAAAAAAAAAAAAAAAAAAAAAAAAAAAAAAAAAAAAAAAAAAAAAAAAAAAAAAAAAAAAAAAAAAAAAAAAAAAAAAAAAAAAAAAAAAAAAAAAAAAAAAAAAAAAAAAAAAAAAAAAAAAAAAAAAAAAAAAAAAAAAAAAAAAAAAAAAAAAAAAAAAAAAAAAAAAAAAAAAAAAAAAAAAAAAAAAAAAAAAAAAAAAAAAAAAAAAAAAAAAAAAAAAAAAAAAAAAAAAAAAAAAAAAAAAAAAAAAAAAAAAAAAAAAAAAAAAAAAAAAAAAAAAAAAAAAAAAAAAAAAAAAAAAAAAAAAAAAAAAAAAAAAAAAAAAAAAAAAAAAAAAAAAAAAAAAAAAAAAAAAAAAAAAAAAAAAAAAAAAAAAAAAAAAAAAAAAAAAAAAAAAAAAAAAAAAAAAAAAAAAAAAAAAAAAAAAAAAAAAAAAAAAAAAAAAAAAAAAAAAAAAAAAAAAAAAAAAAAAAAAAAAAAAAAAAAAAAAAAAAAAAAAAAAAAAAAAAAAAAAAAAAAAAAAAAAAAAAAAAAAAAAAAAAAAAAAAAAAAAAAAAAAAAAAAAAAAAAAAAAAAAAAAAAAAAAAAAAAAAAAAAAAAAAAAAAAAAAAAAAAAAAAAAAAAAAAAAAAAAAAAAAAAAAAAAAAAAAAAAAAAAAAAAAAAAAAAAAAAAAAAAAAAAAAAAAAAAAAAAAAAAAAAAAAAAAAAAAAAAAAAAAAAAAAAAAAAAAAAAAAAAAAAAAAAAAAAAAAAAAAAAAAAAAAAAAAAAAAAAAAAAAAAAAAAAAAAAAAAAAAAAAAAAAAAAAAAAAAAAAAAAAAAAAAAAAAAAAAAAAAAAAAAAAAAAAAAAAAAAAAAAAAAAAAAAAAAAAAAAAAAAAAAAAAAAAAAAAAAAAAAAAAAAAAAAAAAAAAAAAAAAAAAAAAAAAAAAAAAAAAAAAAAAAAAAA9v8AAAAAAAAAAAAAAAAAAAEA//8BAP//AgD9//f/AQAAAAAAAAAAAAAAAAAAAAAAAAAAAAAAAAAAAAAA//8CAPv/+P8CAP//AAAAAAAAAAAAAAAAAAAAAAAAAAAAAAAAAAAAAAAAAAAAAAAAAAAAAAAAAAAAAAAAAAAAAAAAAAAAAAAAAAAAAAAAAAAAAAAAAAAAAAAAAAAAAAAAAAAAAAAAAAAAAAAAAAAAAAAAAAAAAAAAAAAAAAAAAAAAAAAAAAAAAAAAAAAAAAAAAAAAAAAAAAAAAAAAAAAAAAAAAAAAAAAAAAAAAAAAAAAAAAAAAAAAAAAAAAAAAAAAAAAAAAAAAAAAAAAAAAAAAAAAAAAAAAAAAAAAAAAAAAAAAAAAAAAAAAAAAAAAAAAAAAAAAAAAAAAAAAAAAAAAAAAAAAAAAAAAAAAAAAAAAAAAAAAAAAAAAAAAAAAAAAAAAAAAAAAAAAAAAAAAAAAAAAAAAAAAAAAAAAAAAAAAAAAAAAAAAAAAAAAAAAAAAAAAAAAAAAAAAAAAAAAAAAAAAAAAAAAAAAAAAAAAAAAAAAAAAAAAAAAAAAAAAAAAAAAAAAAAAAAAAAAAAAAAAAAAAAAAAAAAAAAAAAAAAAAAAAAAAAAAAAAAAAAAAAAAAAAAAAAAAAAAAAAAAAAAAAAAAAAAAAAAAAAAAAAAAAAAAAAAAAAAAAAAAAAAAAAAAAAAAAAAAAAAAAAAAAAAAAAAAAAAAAAAAAAAAAAAAAAAAAAAAAAAAAAAAAAAAAAAAAAAAAAAAAAAAAAAAAAAAAAAAAAAAAAAAAAAAAAAAAAAAAAAAAAAAAAAAAAAAAAAAAAAAAAAAAAAAAAAAAAAAAAAAAAAAAAAAAAAAAAAAAAAAAAAAAAAAAAAAAAAAAAAAAAAAAAAAAAAAAAAAAAAAAAAAAAAAAAAAAAAAAAAAAAAAAAAAAAAAAAAAAAAAAAAAAAAAAAAAAAAAAAAAAAAAAAAAAAAAAAAAAAAAAAAAAAAAAAAAAAAAAAAAAAAAAAAAAAAAAAAAAAAAAAAAAAAAAAAAAAAAAAAAAAAAAAAAAAAAAAAAAAA//8CAPz/+P8CAP//AAAAAAAAAAAAAAAAAAAAAAAAAAAAAAAAAAAAAAAAAAAAAAAAAAAAAAAAAAAAAAAAAAD2//7/AQAAAAAAAAAAAAAAAAAAAAAAAAAAAAAAAAAAAAAAAAAAAAAAAAAAAAAAAAAAAAAAAAAAAAAAAAAAAAAAAAAAAAAAAAAAAAAAAAAAAAAAAAAAAAAAAAAAAAAAAAAAAAAAAAAAAAAAAAAAAAAAAAAAAAAAAAAAAAAAAAAAAAAAAAAAAAAAAAAAAAAAAAAAAAAAAAAAAAAAAAAAAAAAAAAAAAAAAAAAAAAAAAAAAAAAAAAAAAAAAAAAAAAAAAAAAAAAAAAAAAAAAAAAAAAAAAAAAAAAAAAAAAAAAAAAAAAAAAAAAAAAAAAAAAAAAAAAAAAAAAAAAAAAAAAAAAAAAAAAAAAAAAAAAAAAAAAAAAAAAAAAAAAAAAAAAAAAAAAAAAAAAAAAAAAAAAAAAAAAAAAAAAAAAAAAAAAAAAAAAAAAAAAAAAAAAAAAAAAAAAAAAAAAAAAAAAAAAAAAAAAAAAAAAAAAAAAAAAAAAAAAAAAAAAAAAAAAAAAAAAAAAAAAAAAAAAAAAAAAAAAAAAAAAAAAAAAAAAAAAAAAAAAAAAAAAAAAAAAAAAAAAAAAAAAAAAAAAAAAAAAAAAAAAAAAAAAAAAAAAAAAAAAAAAAAAAAAAAAAAAAAAAAAAAAAAAAAAAAAAAAAAAAAAAAAAAAAAAAAAAAAAAAAAAAAAAAAAAAAAAAAAAAAAAAAAAAAAAAAAAAAAAAAAAAAAAAAAAAAAAAAAAAAAAAAAAAAAAAAAAAAAAAAAAAAAAAAAAAAAAAAAAAAAAAAAAAAAAAAAAAAAAAAAAAAAAAAAAAAAAAAAAAAAAAAAAAAAAAAAAAAAAAAAAAAAAAAAAAAAAAAAAAAAAAAAAAAAAAAAAAAAAAAAAAAAAAAAAAAAAAAAAAAAAAAAAAAAAAAAAAAAAAAAAAAAAAAAAAAAAAAAAAAAAAAAAAAAAAAAAAAAAAAAAAAAAAAAAAAAAAAAAAAAAAAAAAAAAAAAAAAAAAAAAAAAAAAAAAAAAAAAAAAAAAAAAAAAAAAAAAAAAAAAAAAAAAAAAAAAAAAAAAAAAAAAAAAAAAAAAAAAAAAAAAAAAAAAAAAAAAAAAAAAAAAAAAAAAAAAAAAAAAAAAAAAAAAAAAAAAAAAAAAAAAAAAAAAAAAAAAAAAAAAAAAAAAAAAAAAAAAAAAAAAAAAAAAAAAAAAAAAAAAAAAAAAAAAAAAAAAAAAAAAAAAAAAAAAAAAAAAAAAAAAAAAAAAAAAAAAAAAAAAAAAAAAAAAAAAAAAAAAAAAAAAAAAAAAAAAAAAAAAAAAAAAAAAAAAAAAAAAAAAAAAAAAAAAAAAAAAAAAAAAAAAAAAAAAAAAAAAAAAAAAAAAAAAAAAAAAAAAAAAAAAAAAAAAAAAAAAAAAAAAAAAAAAAAAAAAAAAAAAAAAAAAAAAAAAAAAAAAAAAAAAAAAAAAAAAAAAAAAAAAAAAAAAAAAAAAAAAAAAAAAAAAAAAAAAAAAAAAAAAAAAAAAAAAAAAAAAAAAAAAAAAAAAAAAoAAgD//wAAAAAAAAAAAAAAAAAAAAAAAAAAAAAAAAAAAAAAAAAAAAAAAAAAAAAAAAAAAAAAAAAAAAAAAAAAAAAAAAAAAAAAAAAAAAAAAAAAAAAAAAAAAAAAAAAAAAAAAAAAAAAAAAAAAAAAAAAAAAAAAAAAAAAAAAAAAAAAAAAAAAAAAAAAAAAAAAAAAAAAAAAAAAAAAAAAAAAAAAAAAAAAAAAAAAAAAAAAAAAAAAAAAAAAAAAAAAABAPn/+v8DAP7/AgD+/wIA/P/4/wAAAAAAAAAA/v/s/wAAAAACAPb/5/8BAP//AQAAAAAAAAAAAAAAAAAAAAAAAAAAAAAAAAAAAAAAAAD1/wAAAAAAAAAA+f/3//z////2/wAAAAD//wMA9P/z/wIA//8AAAAAAAABAPX///8BAPj/5P/t////9v8AAPn/+f/0//n//v/v////AAAAAAAA7v/6//T/+P8AAPf/9v/x//r/+//5//7/AQD//wEAAAAAAAAAAAAAAAAAAAAAAAAAAAAAAAAAAAAAAAAAAAAAAAAAAAAAAAAAAAAAAAAAAAAAAAAAAAAAAAAAAAAAAAAAAAAAAAAAAAAAAAAAAAAAAAAAAAAAAAAAAAAAAAAAAAAAAAAAAAAAAAAAAAAAAAAAAAAAAAAAAAAAAAAAAAAAAAAAAAAAAAAAAAAAAAAAAAAAAAAAAAAAAAAAAAAAAAAAAAAAAAAAAAAAAAAAAAAAAAAAAAAAAAAAAAAAAAAAAAAAAAAAAAAAAAAAAAAAAAAAAAAAAAAAAAAAAAAAAAAAAAAAAAAAAAAAAAAAAAAAAAAAAAAAAAAAAAAAAAAAAAAAAAAAAAAAAAAAAAAAAAAAAAAAAAAAAAAAAAAAAAAAAAAAAAAAAAAAAAAAAAAAAAAAAAAAAAAAAAAAAAAAAAAAAAAAAAAAAAAAAAAAAAAAAAAAAAAAAAAAAAAAAAAAAAAAAAAAAAAAAAAAAAAAAAAAAAAAAAAAAAAAAAAAAAAAAAAAAAAAAAAAAAAAAAAAAAAAAAAAAAAAAAAAAAAAAAAAAAAAAAAAAAAAAAAAAAAAAAAAAAAAAAAAAAAAAAAAAAAAAAAAAAAAAAAAAAAAAAAAAAAAAAAAAAAAAAAAAAAAAAAAAAAAAAAAAAAAAAAAAAAAAQD+/wgABQD+/wEAAAAAAAAAAAAAAAAAAAAAAAAAAAAAAAAAAAAAAAAAAAAAAAAAAAAAAAAAAAAAAAAAAAAAAAAAAAAAAAAAAAAAAAAAAAAAAAAAAAAAAAAAAAAAAAAAAAAAAAAAAAAAAAAAAAAAAAAAAAAAAAAAAAAAAAAAAAAAAAAAAAAAAAAAAAAAAAAAAAAAAAAAAAAAAAAAAAAAAAAAAAAAAAAAAAAAAAAAAAAAAAAAAAAAAAAAAAAAAAAAAAAAAAAAAAAAAAAAAAAAAAAAAQD2//7/AQAAAAAAAAAAAAEA+v/5/wIA//8BAAAAAAAAAAAAAAAAAAAAAAAAAAAAAAAAAAAAAAAAAAAAAAAAAAAAAAAAAAAAAAAAAAAAAAAAAAAAAAAAAAAAAAAAAAAAAAAAAAAAAAAAAAAAAAAAAAAAAAAAAAAAAAAAAAAAAAAAAAAAAAAAAAAAAAAAAAAAAAAAAAAAAAAAAAAAAAAAAAAAAAAAAAAAAAAAAAAAAAAAAAAAAAAAAAAAAAAAAAAAAAAAAAAAAAAAAAAAAAAAAAAAAAAAAAAAAAAAAAAAAAAAAAAAAAAAAAAAAAAAAAAAAAAAAAAAAAAAAAAAAAAAAAAAAAAAAAAAAAAAAAAAAAAAAAAAAAAAAAAAAAAAAAAAAAAAAAAAAAAAAAAAAAAAAAAAAAAAAAAAAAAAAAAAAAAAAAAAAQD//wMACQD//wEAAAAAAP//AQD+/wcABgD+/wEA//8AAAAAAAAAAAAAAAAAAAAAAAAAAAEA/v8HAAYA/v8BAP//AAAAAAAAAAAAAAAAAAAAAAAAAAAAAAAAAAAAAAAAAAAAAAAAAAAAAAAAAAAAAAAAAAAAAAAAAAAAAAAAAAAAAAAAAAAAAAAAAAAAAAAAAAAAAAAAAAAAAAAAAAAAAAAAAAAAAAAAAAAAAAAAAAAAAAAAAAAAAAAAAAAAAAAAAAAAAAAAAAAAAAAAAAAAAAAAAAAAAP//AgD3//z/AQD//wAAAAAAAAAAAAAAAAAAAAAAAAAAAAAAAAAAAAAAAAAAAAAAAAAAAAAAAAAAAAAAAAAAAAAAAAAA//8BAPf//P8BAP//AAAAAAAAAAAAAAAAAAAAAAAAAAAAAAAAAAAAAAAAAAAAAAAAAAAAAAAAAAAAAAAAAAAAAAAAAAAAAAAAAAAAAAAAAAAAAAAAAAAAAAAAAAAAAAAAAAAAAAAAAAAAAAAAAAAAAAAAAAAAAAAAAAAAAAAAAAAAAAAAAAAAAAAAAAAAAAAAAAAAAAAAAAAAAAAAAAAAAAAAAAAAAAAAAAAAAAAAAAAAAAAAAAAAAAAAAAAAAAAAAAAAAAAAAAAAAAAAAAAAAAAAAAAAAAAAAAAAAAAAAAAAAAAAAAAAAAAAAAAAAAAAAAAAAAAAAAAAAAAAAAAAAAAAAAAAAAAAAAAAAAAAAAAAAAAAAAAAAAAAAAAAAAAAAAAAAAAAAAAAAAAAAAD2//7/AQAAAAAAAAAAAAAAAAAAAAAAAAAAAAAAAAAAAAAAAAAAAAAAAAAAAAAAAAAAAAAAAAAAAAAAAAAAAAAAAAAAAAAAAAAAAAAAAAAAAAAAAAAAAAAAAAAAAAAAAAAAAAAAAAAAAAAAAAAAAAAAAAAAAAAAAAAAAAAAAAAAAAAAAAAAAAAAAAAAAAAAAAAAAAAAAAAAAAAAAAAAAAAAAAAAAAAAAAAAAAAAAAAAAAAAAAAAAAAAAAABAP//BAAJAP//AAAAAAAAAAAAAAAAAAAAAAAAAAAAAAAAAAAAAAAAAAAAAAAAAAAAAAAAAAAAAAAAAAAAAAAAAAAAAAAAAAAAAAAAAAAAAAAAAAAAAAAAAAAAAAAAAAAAAAAAAAAAAAAAAAAAAP//AQAKAAAAAAAAAAAAAAAMAP3/BgAGAAQACAD9/wIA/f8GAAgACAACAA4ABwD+/wEA//8BAP//AQD//wEA//8BAP//AQAKAAAAAAAAAAAAAAAAAAAAAAAAAAAAAAAAAAAAAAAAAAAAAAAAAAAAAAAAAAAAAAAAAAAAAAAAAAAAAAAAAAAAAAAAAAAAAAAAAAAAAAAAAAAAAAAAAAAAAAAAAAAAAAAAAAAAAAAAAAAAAAAAAAAAAAAAAAAAAAAAAAAAAAAAAAAAAAAAAAAAAAAAAAAAAAAAAAAAAAAAAAAAAQD//wEA/v8CAPv/+f8AAAEA+P/7/wMA+f/v//z/9v/l////9//5//f/+//y//X/+f/u//L/8P/w//T//P/q//X/9//s//P/8v/z//L/8v/q/+f/+f/k/+b/6f/x/+D/5//2/+P/7f/p/+j/7f/8/+z/+P/3//v/7f/o/wUA+v/o/+3/+f8AAPj//P8DAP3/AwDj//z/+f/8////8P/u/+7/+v/o//r/+f/8//j/9/8AAAAAAAAAAAAAAAAAAAAAAAAAAPX/AAD+//b/AgD//wEAAAAAAAAAAAAAAAAAAAAAAAAAAAAAAAAAAAAAAAAAAAAAAAAAAAAAAAAAAAAAAAAAAAAAAAAAAAAAAAAAAAAAAAAAAAAAAAAAAAAAAAAAAAAAAAAAAAAAAAAAAAAAAAAAAAAAAAAAAAAAAAAAAAD//wcABgD+/wEACAADAP3/BAAJAP7/BQAJAAYACQAMAAIA/f8JAAUA//8AAAoAAQD//wEA//8BAAgACQAFABsACAD6/xAADAD8/wUAEgAAAAAAAAD//wQACQAHAAMA/P8IABIA/f8BABEABgD9/wIA/v8DAAcACQADAP//CwAMAAsAEgAMAAEAAAANAAoA/v8FABEAEQAGABQADgD8/wIACgD//wwAEAALAAYABAAKAAcABwAJAAQABwAEAAEADgAIAAUAFQATAPv/AgD//wAABgAJAAcA//8AAAAAAAAAAAAAAAAAAAAAAAAAAAAAAAAAAAAAAAAAAAAAAAAAAP//CgACAP//AQD//wEA//8BAP//AQD+/wUACAD//wAAAAD//wQACQAJAAwA//8AABMABgD8/wQACAAAAAAAAAAAAAAAAAAAAAoAAgD//wEAAAAAAAAAAAAAAAAAAAAAAAAAAAAAAAAAAAAAAAAAAAAAAAAAAAAAAAAAAAAAAAAAAAAAAAAAAAAAAAAAAAAAAAAAAAAAAAAAAAAAAAAAAAAAAAAAAAAAAAAAAAAAAPz/9//5////AQD///j//f8DAPv/+P8AAAAA9f8BAP7/8v/5//f/AAAAAAAAAAABAO7/+v8CAP//AQD1/wAAAAAAAAAAAAAAAAAAAQD9/+z/AQD6//b/+//z/+b/+P8DAO//9f/p//7/5f/3/+v/9v/5/+7/AADs/+7/8P/1//D/9P/x/wMA9f////X/AgD0//L//P/s//f/7v/4//7//P/t//z/+P8DAP7////j//P/AADt//z/9v8GAPT/AAD1/wAA+f/u/wMA/v8CAP7/AwD1//H/+//3//n/+f/x//P/+/8AAPb/AAAAAAAAAAD4//f//f/4//z/AQAAAAAA9f8BAAAAAAD1/wAAAAAAAAAA9v/+//j/9//+//3/9v8DAP7/AQAAAPf//v/2/wAAAAABAPr/+f8CAP//AAAAAAAAAAAAAAAAAAAAAAAAAAAAAAAAAAAAAAAAAAAAAAAAAAD//wEA/v8FAAgAAAAAAAAA//8BAP//AQAJAAAABgAKAAUAAAAAAAAABwAFAP3/AwAIAAEA//8KABEADgAFAPv/GgALABEAFgALAAwAAgAbAAQAEQAdABcA+P8YACYADQARAAEACwD7/xYAAQALABgA/f8CAP3/BQAHAA0ADQAPAA4AIAASAA0AKAAUAAUAGwAOABMAIwAIABUAGAAaABAAFwAVABgAHwAaABoAFgAaABMADgAcABAABAAoACIADgASAB0AGQANAA0AHQANAP3/AQAVAP//DAAPAAAADQADAA0A//8OAPv/EAAKAAAAFAAJAAQAAgAKAP3/AgD//wEA/v8GAAgA/v8AAAcABQD8/wQACAABAAYACAABABoAEAD8/wIA//8AAAAAAAAAAAAAAAAAAAAAAAAAAAAAAAAAAAAAAAAAAAAAAAAAAAAAAAAAAAAAAAAAAAAAAAAAAAAAAAAAAAAAAAAAAAAAAAAAAAAAAAAAAAAAAAAAAAAAAAAAAAAAAAAAAAAAAAABAPn/+v8DAPX///8BAPj/+/8CAP7/+f/2/+//AwD+//r/9v/3//T/8f/z//D/7/8DAPn/5P///wIA/P/u//j//f8AAAAA/v/2/wAAAAAAAAAA//8BAP//AgD+/wMA9f////z/+P/3/wAA/v/2/wIA9f/0/wEA/f/3/wEAAAAAAAEA+P/z////AAAAAAAAAAD2/////P/1//v/9f///wAAAAAAAAAA//8BAPT/9v///+z///8AAAAAAAAAAAAAAAABAP//AwDu//X/BAADAP3/9/8AAAAAAAAAAAAAAAAAAAAAAAAAAAAA+f/3//r/AAAAAP//BAABAPX//P8AAAAAAAABAP//AgD9//f/AAAAAAAAAQD9//f/AQAAAAAA8//3/wEAAAAAAAAAAAAAAAAAAQD6//n/BAD6//n/AAABAPn/+v8DAPn/+f8DAPf//P8BAP//AAAAAAAAAAAAAAAAAAAAAAAAAAAAAAAAAAAAAAAAAAAAAAAAAAAAAAAAAAAAAAAAAAAAAAAAAAAAAAAAAAAAAAAAAAAAAAAAAAAAAAAAAAAAAAAAAAAAAAAAAAAAAAAAAAAAAAAAAAAAAAAAAAAAAAAAAAAAAAAAAAAAAAEACgAAAAAAAAD//wcABgD+/wIA/v8HAAcA/P8LAAEAAAD//wcABgD+/wIA/v8CAAgACQAEAP//AQD//wEA//8BAP7/BwATAPv/BwAGAAAA/v8KAAIAAwAJAP7/AQAAAAAAAAAKAAIACgD//wkABAD+/wIA/v8BAP//AQD//wEA//8BAP//AQD//wAAAAAAAAAAAAAAAAEACwD9/w0A//8CAAkAAAAAAAEACQADAAkAAAAAAAAAAAAAAAAAAAAAAAAAEgAGAP3/AgD+/wEA//8BAAAAAAAFAAkABwAAAAAAAAAAAP//CAAEAP7/AQD//wAAAAAAAAAAAAAAAAAAAAAAAAAAAAAAAAAAAAAAAAAAAAAAAAAAAAAAAAAAAAD//wkAAwD//wEA//8AAAAAAAAAAAAAAAAAAAAAAQD///b/AAAAAP//AgD5//j/+P8AAAAAAAD///X/AQD//wEA//8CAPf//f/+//X/BQD7//n//f/z//j/BAD2//v/7P8BAPr/+P8EAN3/9P8AAOT/7P/4/+D/7f/8/+f/7//q/+X/9v/m/+j/6v/0/+v/5f/9//H/0v/o/+L/5f/2/+T/6/8FAPP/1//5//j//v/j//D/3//z//r/7//0//3/7f/p//v/5v/1/9z/BwDp//j/7//4//j/6P/8/+f/7P/k//3/5//1/+T/8v/m/9L/8v/f//D/8v/z/+//9//8/+f/5v8DAPv/7P/7/9//8P/9//v/8//n/wgA/P/Q/+z/BQD+//z/+P/8//f/5v/8//f/9P8AAPT/BAD6//P/+/8BAP//AQD7//f/DAABAAIA+f/w//v/+f8DAP7/AgD+/wMA+f/s/wYA9//7/wEAAAAAAAAAAAAAAAEA/f/2/wMACAACAPz/+P8BAAAAAAAAAAAAAAAAAAAAAAAAAAAAAAAAAAAAAQD//wIA/f8JAAQAAQAKAAAA//8HAAYA/v8BAP//CwAAAAAAAAAAAAAA//8HAAYA/f8CAAcABgD4/xsAGgD+/xkABAAGAAYAAgAFABgACwAMAAsADAAaAA4AAAATAAUABgAeAPn/CwAGAAgACAACAAoA//8GABgADgAAAAQADQAPAAwAHAAFAAkAOQAQAAMAAgAJABUAAAAKAAwAGQAHABEAEQADABAAAwAGAAcAAQAoAAwAAQAVAAYABAD+/wEA/v8QAA4ADAALAAIABQATAP7/AAAAAP//AgD+/wMA/P8LAAIABAAHAAUABwAEAAkABwAAAAAAAAABAP//BAAJAP7/AQAMAAoABgAKAAQAEwAEAAEACgAHAAMA/v8BAP//AAAAAAAAAAAAAAAAAAAAAAAAAAAAAAAAAAAAAAAA//8BAP3/CAADAA4ACwD7/wQA/f8DAP3/BQAIAAAAAAAAAAAAAAAAAAAAAAAAAAAAAAAAAAAAAAAAAAAAAAAAAP//AgD6/woABwD9/wIA//8BAAAAAAAAAAAAAAD//wIA+v/5/wEAAAAAAAAAAAABAP7/9v8BAAAA///7/wsAAgD7/wwA9f/7/wIA+//4/wEAAQDw//X/BgD3//v/AgD3//z/AQAAAO//+f8DAP7/+P/9//f/AAD5//r/BQD3//z/AAAAAAAAAAAAAAAAAAAAAAAAAAAAAAAAAAABAPX/AAD///b/AQD8//X/8f/z/wIA6f/h/wAA8//9/+r/6v8CAPr/8//n/wEA8f/o//H/8//4/+3/8v/0/+z/3v/s/+//9P/x//T/9v/u//n/AwD3//D/BADy//P/BwD4//7/6f/+////7f/9//H/7v/t/wAAAAABAPD/8//7/wAA7v/8//r/+/8CAPT//P/w////AAD///f//v/3/wAAAQD+//n/9f8HAPv/8v8AAAAAAAACAPH/9f8EAPv/+P8AAAAAAAABAP3/9v8CAP//AgD+/wMA9//u/wQA/v8BAAAAAAAAAAAAAAAAAAAAAAABAP//AQD//wAACAADAP3/BAARAAUA+/8KAAQAAAAAAP3/9f8LAAkACwARAP7/DAAAAAwA/f8LAAQAEAAOAAAAFAACACEABgD6/xQACgARAAcA//8iAAsABwAHAA4AAQASABUA+P8GAPv/CwACAAAAAAAFAAoADAAVAAcAAQASABYAAQAAAAQAHQAHAAUAAAAPAAAABQAGAAMABQAJAAsAEwAJAAQAFAD5/xUA8/8QAAAAIADu/z4A6v8cAOH/JgD3/xMACwATAPT/DgANAA0AFADz/y8A1P9HAML/YwCJ/6sAh/+ZAFP/xABF/9YAVv/yAJr/U/51AxD+JwG3/mMBjf9hAN7/YwBQAJn/bQCv/3gApv+3AGL/lQCd/2kA1P83AMj/MgDv/ykA/f8EAA0A//8RAOz/FgDo/xkA5/8ZAOj/FwDq/xQA7v8QAPL/DADz//7/9f/6//r/AQAAAP//AgD9/wMA/P8EAPH/AwD9/wMA/f8DAP7/AgD//wEAAAAAAAAAAAD7//b/CgDp/xAA5f+d/yoAIgCv/+H/CgD0/+T/7f8AAAUAzP///+r/7f/g/xgACQB5/yYA6//O/9L/5v/z/9H/AADv//L/AAD8//P/6f/7/wMA6v/n//P/+v/v/+L/3v8EAPb////o/+///P/z/9//8v/k//r/7//U/wcA8f/4/97/+//m/wMAAQDP/+z/+v/7//n/AwD+/wEAAAAAAAAAAAABAP7/BAD0//L/AQAAAAAAAQD//wEA/v8CAP7/9/8AAAAAEwDn/////P/0/wMA/v8CAP7/AgD+/wIA/v8CAP7/AwD1////AAAAAAAAAAAAAAAAAAAAAAAAAAAAAAAAFQAFAPz//v8EAPf//v/7////EQABAOv/BQD5/xgAAAAFAAsA7/8gAPH/+v8SAAEA9/8DAAAAFgAHAAkAAQD+/wYABgAAAP7/GgAAAAQAFgAXAAIACAD6/wsACgAMAA8ABAASABYABQAMAPz/CQAtAAUALgD7/wIA/v8FABUA+v8SAA0AEwD4/x0AGAAGAAIAHwAAAAUAEAAAAAoA+/8WAPD/FwANAAQABQABABIAAAAKAAIA/v8IAAUAAAAMAPr/DwANAPr/BwAHAAAACgAAAAAAAAAAAAoABwAHAPz/BgAHAP//AAAAAAAAAAABAP//AgAJAP//AAAAAAAAAAAAAAAAAAAAAAAAAAAAAAAAAAAAAAAACAAFAPz/BgDt////DgD2/wMA/v8CAP3/CAATAPv/AwD9/wUABwAAAAAAAQD//wIA/P8OABMA5/8JAPj/CAD2/+3/CQAAAAUA//8KAAQAFAD//wAACwAAAAAAAQD9//f/AgAKAAAA//8FAAQABAD9//b/AgACAAEA9//2/wUA9P///wAAAAAAAAAA/v/0/wcA///x/wIA9v/+/wIA/v/v//P/AAAAAAAA8//3/wEAAAAAAP//9v8BAAAAAAABAPn/+v8DAP3/BQDw//T/BgDx//H/+/8CAPn/7//0/wUA9//8/wAAAAAAAPb/8//w//H/AAD///n/9//8/wEA+P/4//r/AgD3//n/7v/2////AQD3//T/+v/5/wIAAAD4//z/AwD+/wIA/f8EAPj//P/5//r/AgD//wAAAAD1/wIA/P/3/wMA/f8FAOT/8f/7/wEA+P/u/wQA/f/6//L/6v8CAPf/8P/8/9//4v8IAPH/5v/o//D/7v/n/wYA1/8PAPf/z//1/+7//P/1/wAAAAD5//T/7v/z/+b/7//9//7/AwDp/wEA7f/s/+z/6P/z//H/CQDy//n/5//w/wQA6v///+7/4//+/+z/AAAAAO7/7f8AAO3/9v/0/wAA4P/o//7/EQD5/+3/BQD8/wEA7/8MAPP/DgDz/ygA5P8RAN7/7f/6/wUABwAsAEkA1P/o/jYAPAALAAcALQAPAJP/NgDL/10Aif96AF//xgBI/4kAIv9fASn/iwLl+Cb+aha975jw0RfyAi7qCwgWDLv2m/w6Be8Aj/3F/z8B7QG9/CAACgOc/1L9aAHdAZ/+GP+9AUcA0v6ZAMMARf/k/wcB8P/e/zQAUQDe/xYATgAeAPH/PQAAADAA8/8QAGMA1//8/3cA/f/G/3oAIwCU/4sAeACH/zIAhwAGAOz/LwAnAPX/JAA9ABkABAAJAB0A+f8EAP//OAAlAPf/CQAjAAgA+P8cAPn/CgDy/z4A9/8IACwAIQDt/xoAiP/4AJgBwPzTAMYDmfyL/mwEzP4e/VQDYwAv/ccBOwEo/ngAGwGV/+n/MwDg/0kAUABB/y0AIQFb/5L/owAcANb/LwCi/yQA4QB1/1j/rgBuAIb/HAA5AO3/6/90ADcAb//e/5AAXACI/7P/RQAqAPH/CgD5/wYABAAWALL/sv/zABEAOf8qABAA6v+DAPb/W/8BANAAif+t/wYB4P7F/4IBPP8w/8cAIwDc//7/6P/z/xgA0f/O/xwAAgAAAOz/xf8aAHIA1P/M/wQA6v8DAH8Ao/+g/x8AEQD4/w8Au/+Z/3cACgCY/zQA3v9V/+IA9f9F/0sA3v9+/2gAZQAl/8//PQCS/zAANgB//xYAAwDb/xwAyf/b/wkA/f8AAAEA8v/h/+T/LQD4/1D/9P8tAPj/x/8OACEAdv/q/ygA+f+Q/y0ASQD7/s7/tQD4/yj/1v+vAHr/qf92ALn/cv9ZAB8AW/9uABEA4v4aAOIAdf9v/0cA9P9m/+f/oADs/1b/9v8+AKD/2v+gALX/CP9OACcAuv/o/wAAAACw/9//AwD//wAA/P+t//T/6f/w/4gAq/9K/4EA6v8k/6IAYAAH/9X/vQBi/1r/EAH+/1P/ZQAPAIf/RwDo/8H/lQB0/6H/6ACw//j+HQF/AHj+jwAoAdP+fv91AXT/jv4vAZMA2/7w/7QAyf+L/ykAQgDT/53/ZQB4AGT/uf/YAKr/j/++AOH/ff9TADsAuv8iAC0A7P8vAPb/2f9xAPn/l/9bAEcAl/8vAGwAuP8BAFEADQD7/wMA/v8BAAoA//8EAAkA/f8HAAcA/v8xAOb/7f+YANj/gv/8ABkAkf5EAaYAP/7WAEABz/7o/0YBjf9S/9AAeQBW/xMARQD2/wwAAgABAAAADwD1/z4ADAADADQA+f/R/4YALgCd/3YALACf/1AAeADT/+//iAAHAJ3/jgBEAKH/HgCgAKz/2//iAMH/pP/ZAC8ATP96AHsA2v8AABsALgAqAMv/IAC+ANP/m/+ZAEgAu/88ADUA3f9NAFEArv8qAGIA7f/f/2EAMgDK/xAAjAAZAHj/nAB7AFX/IwChAK7/BABoAM7/xP+lADYAaP9oAFoAvv89AFQA4/8QADQA1/8nAGsA0P/f/1cADADP/wAAWQAiAIL/IABoAN3/5f8GABkABAD3/xIA/v/d/yYADQDf/ysAHADU/wAAZwDq/7L/ZgAbAKv/PAAeAJ7/QwB9AFr/uv/rAMn/gf98AD8AzP/u/0UADgC3/wAAbQDb/7P/UwD2/63/TAAQAKv/EAAXANj/5/8mAPf/1v8AAAUAyf/u/1IA7v+A/zkAUAB//+X/OwDr/9j//v/o/wsAAAC3/wgAAADM//L/LwC2/6H/OAAAALb/5f8cANb/3//9/w0Auf+6/4MAlf9p/4EADAA//wsAZwCH/6b/QAAIAHz/CAAkAIz/8f9BAJP/tP9QAMH/pP8UAAAAzf/r//n/BwDl/6v/+v8pAML/rv8MAAYAwv/P/wkA+//K//H/BgCl//f/8P+o/wgA8v/d/wAA2v/a/xQAv/+0/wwA6P+Z/woARQB2/9D/SACt/5b/XQD7/1T/DABAAKD/pP9DANT/pf/8/wEA2//M/wcA6v/e/wsAAwDe/+T/4v8GAPX/yv8AAAQA2P/+/wUAyf/V/xkA9/93/0cAagBO//X/eQCY/8j/ZQDF/7f/OgARAMX/+/85AOT/y/9bADMAlv8GAF0A9//j/ywAEQD5/wcACAD9/wMA/P8dACYA6f8gACsA4/8FAEEACwAFAAQAAAAGAAkA8P85ADwAwv8lAHEA9P/n/2kAOwDQ/woASgAOAPn/FgAwAAIAAgBRAEUA7v/s/1sAMwDL/zgAOwDx/zwAMwD1/xwAKAD4/wsAYQAfAO//VwA/APz/EwAsAA0ADwAFAEIAPQDj/xwAXQADAOb/VwBKAPf/DQBYAPz/CABsAPb/CwCiABUA7v+EADYA6v8qAF0AAgANAEsAHQD1/yIAYQAEABgAWAANAOr/PQBqAO7/8v+LAEMA1/9HADsA9f8rAE8A7P8pAJAA6P/x/48AEwCd/4MAagDU/xIAZgARAO//LAA4AAEAGgB8AAoA/P8gADYA8//1/xQAAAAJAAIA+/8bABQA8P8mACMA+f/n/yYAEgDI/yEAQgC6/+7/RQDX/83/ZAATAMP/CQArAOn/t/8ZAC0A3v+T/z0AHgCR//f/MgDS/8X/GwDz//L//f/j////DwDD//P/EgDq/+z/CADt/8///v/+/9P/5/9HAM//qP99AMD/ev9VAAMAaP/3/2EAfv+y/yQA7/+L/wAA6v/b/77/EAAAAHH/JwC+/9L/+f/Z/6H/DwDt/4f/9f8AAJ3/zP8XALD/q/8FANf/n/8MAOn/lv+8/xcAvv+4/wkA0f/D/wkAxv/S/xYAj//O/xgAl/+V/x4AAABR/8f/OgBh/3//UQC1/1H/PQD3/1r/3v8bAIP/i/8bANT/q//h/wEA7f/K/9X/2f/p//b/wP/h/wgA8P/X/+n/6//c/wUAzf/G/wsA5v+7/wsA5v+g/x8A6P91/wMAOQCd/6r/RADg/7L/GwD2/7b/9f8dAM//0P8qAM7/ff8/AAsAYf/y/0wAkP+7/1gAuP+q/xIA5v+4/xEA/f+4/xoAAADD/+f/JgD1/9b/CwD5/9j/9f8RAOn/4P8AAP3/7f/+/wUA6f/y/xYA8v/m/xEABQDU/xUAIgDD/xkALgDk/wYAEwD//wEAJgAFAAAAKgARAPj/GwANAPr/KwATAPn/EQD7/wgAGQAJABQA9P80ACgA9f8aAAEA/f8TABQA+/8CABYA/f8WACEAAwD+/yoAFQD3/0EAEADi/0MAYgDe/xkAYwAKAAEAQAAXAAwALAAPACUAFAAbAAsAFAAaAEsAMwDu/zsARgD2//n/VgAkANv/SQBDAPf/JgArAAAACQBBABUAGgAmAPr/KgAkABUAAgAJAFQAIwD6/0AALADl/0YAUADq/x8AdQAAAOj/egA1AM7/TQBZAN//LQBVABYA9f9XADsA7f8qAD0ADQAEAD0AFAD2/zYAGQDz/x0ACwADAB8AKAACAAsADgD8/wEACwASAAAAEgAXAAkA7P85AEEA0v8lAC8A8v8JAPj/FgAEAAAAPgASAPr/CQAGAP//LgAIAPT/FAAIAPL/9v8yAAEA9v8aAAoA4v/6/x8ABQABAAoA//8AAAYACQDz//H/CQAGAAAAAAAAAP//CwABAO//+v8TAOD//f8UAPL/AwD3//r/4/8AAP//4P8EABAA5P/0/yMA4f/Z/wkA/v/j/wEA8//p/xgA7v/u/wUA8//3//j/+v8BAAAA+P/8/wMA+//6//z/9v/w/wAA7//i/wIA+//c/+7/BgDp/+z//P8BAPP/7v/y/wAAAQDv//L////1/+X/9f/t//n/4v/5//P/+v8BAN7/BADv/+n/9v8JAOX/9f/8/+7/7//2//L/5f8BAOP/5//n/9//x//1//b/7//+//3/5P/1//n/7/8DAP//AQDY//j/BgDl/9j////4/+f/8P8KANb/3v8AALf/xv8FAO//qv/j/w8Az//Y//7/7f/u//H/AwAAAPz/2f8AAPr/2P8BAPr/0f/v/wUA6f///wEA+P/7/wEA4v/1/+7/6v8GAPr/6f/4/wQA9v/1//T/5v/v/wAA9f/V//z/AAC5/+L/BADg/7H/CQDz/8v/8P///wYAzv8BAAkA6v/t/wcA9P/y/wMA//8BAP//AQD//wEAAAAAAAAAAAAAAAAAAAAAAAAAAQD//wIA/f8MACcA+v8IABoA+v8HABAABQAAAAUABwAXAA4A9v8tAFwADwABAEkANADy/yYALQAKABUAFAAQAA8AKQA7ABwADwBIAB0AEQAnACYACAAOABUADQAIABYAKQABAAsABAD8/xIAHAACAPr/GAAsAPD/BgAbAP//CAAbAAoA+P8tAAcADQAdAAcAEgAPAA0ABQAPAP7/BwANAAQAFwAKAAYACgAYABkAEgAEAA4ALAASAPn/GAARAPn/MQAeAA4AGQAaAA4AAAATAAUACAD8/woAEgD0/wQAIgABAPP/KAATAOn/BgAFAP//AAAAAAsAAAAHAA8AAAAAAAAAAQD//wIA+//t/w0ACgD+/woAAgD//wAAAAAAAAkAAwD9/wkABAD//wAAAAAAAAAAAAAAAAAAAAD//wEA//8BAP//AgAVAP7/BAAJAP3/AwAJAAAAAAAAAAAAAAAAAAAAAAAKAAEA//8BAP//AQD//wEA//8BAAAA9//+/wIA/v/t//7/AQAAAAAAAAAAAAAA//8BAP7/AwD6/w4AIwD///7/+P/3////AAAAAAAAAAAAAPb/AAD5//z/9//l/w0A/P/l/wwABQDl/+D/AAD0//P/AADk//H//v/h/+T/7//k/9//7v/0/+n/3//f/+f/2v/w/9L/4P/y/9P/+P/4/8b/8/8BANj/yf8FAAcA0//6/wMA7//U/wYA5//p/w8A9//P//H/BADU/+n////f/9z/BgDe/+f/AgDw/9//5//o/9j//P/0/9P/8P/3//v/8f/x/+n/5v/y/+v/8f/q/+X/7f/8//7/BAABAPz/+P8AAAIA6//x/wIAAAAAAAAA//8CAP3/EQAJAPP/AQAAAAAAAAAAAAEA//8CAPr/+f8BAAAAAAABAP//+f/2//H/AQAAAAAAAAD//wEA/v8DAPj//P/6//r/AgD//wAAAAAAAAAAAAAAAAAAAAAAAAAAAAAAAAAA//8JAAQA/v8BAP//AAAAAAAAAAAAAAAAAAAAAAAAAAAAAAAAAAAAAAAAAAAAAAAAAAAAAAAAAAAAAAAAAAAKAAIA//8BAP//AQD//wEA/v8CAPz/DwAUAA4AHQANAP7/DAATAAEAKQA8AAAAGQBRAAQAOQBJAAQABAApAD0AFQA9AB4ADgAeAA0AFAA4ABEAAAAvABwAAAAPACMA9f8WAC0AEQAOAAgAEAASACwABgACACYADwAaACAAEgD3/xEALgAOAP//FgBLACwACwARABUAFgAPADsAGQAbAEwATQA3AC0AOgA0AC8AMQA7ACIAKQAlADEADgAJAEUAJgAHAPv/BAAHAAEAAAARAA4AAwAIAAMACQAHABwAIAA0AB4AAwAwABgA9v8VACoAIgD6/w4AKAACABwACQD8/wEAGQAKAPv/BAD9/wIA/v8CAP//AQD//wAAAQAMAPv/CQAVABUACgAIAP3/CAAQAAAAIwASAAAADAAxAAQACgARAPz/BAD1////8//q/wMA6/+//+P/xf/e//f/0f/a/wYA8P/H//b/BADL/9b/5//B/+v/CADq/8n/8P8AAAAAAAAAAAAAAAAAAAAAAAD9/7z/6v8KAOH/v//R//b/Zv+b/9f/zv/F/8z/qv+o/6L/hv/R/7z/tf/E/wEA7P+u/8v/9P/S/9D/9f/m/+z/3P/Q/+z/6f/P//r/9//w/wUAwf/F/9L/4P/8/+v/1f/j//b/wf+e/7D/m//I/9H/r//Q/73/y/+a/4b/lP+4/+L/AgD2/wAA9v+6/9T/4P+k/7T/AAAAAPT/AwD4/6j/0/+m/5P/q/+u/6z/zP/Q/6H/sP+j//H/uP/I//7/9P8EAPv////P/+P/5v/v//f/8v8IAPj/+////wIACQAAAAEAEQAfABQAHQAWAAoANgAfAAAA9f/z//D/CwAEAPT//P8GAAgA//8MANr/9f/2//f/AgAAAPH/5f8AAPj/7P/S//r/AAAAAP//AwD0/+X/BgD8/+7/+/8FAPT///8DAAsA+f8QACEA/v8PABkAEAAqAFEA+v8IACkAAQD4/wMABwD//xcABwAEAPj/EQAUACYAGwAgAFIAOwBIAEsAHgA+AFUAKAA9ADwA/f8RAEkAIAA9ACgAJQBEAAwAEAAtAEEALAAzAFQALQBIAEUADAASABUAJAAUAGMAPAASADMAKwAaAPr/EQAOACMAPwA8AB4ATwAxABcAVwA8AB0ARQBuAHEARABfAIIAWABeAFYAUwBIADQAKQAwAB8AMQBBACAAGgAmABwAGgAtABYACAAsAA4A/////woAKAD6/wMA/v8CAA4AJQABABAAOwAEABIAMQAqAAgAKQAiAPr/JQAqABAACgD9/wIA//8AAAAAAAABAP7/DgAMAP3/AgD//wEAAAAAAAsAAAACAAoA//8AAAAAAAABAP//AgD9/wQA+/8HAOj/8/8SAAIABgAKAAUAAAANABQAGQALAAkA+/8cAPb/BAASAAIAEwD5/w4AAAAFAAgA/v8DAAkAAAAAAAAA//8IAAYAEwAAAAAA/v/p/wcABwAAAAAADQD7//D/+f/r//D/AAD8//H/4//t//D/5P/u/+//9//u/97/3P8KAPn//v8AANT/7f////L/9P/7//v/9/8CAPr/+P8EAOD/4//v//v/+P8EAPT/3P/0/wcA7f/+/wsA5//w//r//f/1/wQA7//f/+7/+f/Y/97/2f/R/+b/5f/Q/7n/5v/j/9T/zf/b/9X/1f/Z/6//yv/a/8H/of+l/6v/uP/A/5X/kf/Q/8f/q//5//3/zP/H//b/2P+t/9L/z//H/6L/sP+s/5z/o/+4/63/s//0//P/xP+s//r/yv/G//v/2//l/+3/9f/1//X/9f/8/+r/8v/m//X/BAD+/wAA7f/2//f//v8AAAAAAADu//v/AQDi//P//P/5//7/AwD7/wEAGwAJAP7/AwAGAAUABgAFAA8ACAAVABwACwAAAP//AgD+/wQACAAAAAAAAQD//wEA//8AAAAAAAAAAAAAAQDs//z/AgD//wEA//8AAAAAAAD0/wIA/v8CAP3/+P///wMA+f/6/wAAAAD9/+7/+v/5/wEAAAAAAAAAAAD2/wwACgD+/wIA/v8CAP3/CwABAAAADwAKAAAAFgD3/yEAJQAFACQAJwAtAAAACQAUABEAEgAMAAAACAAEAB0ACAAVACUAHQAwAP7/DAAeAAcA+/8HAAYA+f/6/wgA7v/7/wgA9//8/wsAAwANAAsAIgASAAcADAAFACwADAD7////IAAHAPz/AgARAAYAHAABAAoAHAD4/wkAFwANAA4AMQAcACQADwAyABkAFQAuABEAAAAjABQADQAyACAAMwA7ADoAKAArAC0AQAArAD4ALwA7AEYAJwAsADwAOgAnAE0AMQAyADQAMwAoACkASQBKAC8AQQA2ABgALwAlAAQAIAA7AAIAIAA7ADMAAQD//xcAKwA0ABoACwAAADAAJAAWAAoACgATACQAIQDs/xQAIgD7/wUACAAAAAAAAAAAAAAAAQD//wYABwD+/wEA//8AAAAAAAAAAAAACQADAP7/AwAdAAIA//8BAAAADQD+/xoA7P8DABIA9//7//7/DQDd/wMA8//W//D/9f/q/7r/7v8BAOX/+f/4//j/9f/o/+L/7f/M/8L/2//r/9r/4f/Z/9j/FwD1/wUA2//X/+//5f8HAOH/7P/z//z/8v/b/wIA/v8CAP3/BwAPAAgAEADw/wcA+P8SAAgACAAYAAIAFQD9/wMA9v/9/wIA/v8CAP7/AwD9/wMA/P8FAPn/+//6//r/AAAAAP//6/8BAPn//P/5//v/AQAAAAAAAQD+/wIA/f8DAP3/AgDx/wQA4f////j/+f/y/+v/8//u//n/6f/8/9n/GQDb/wQAv/8QAM3/QwCh/9MAGwCY/oAA3/6N/4sA/f8l/4P/RAA8ACX/aACx/97+TgEFABX/wv/C/+j//f/f/+3/fP8BAAEA1P8DAMz/6/8cAOD//f8XAOr/7v8bABAA6P/8/wEA/v8OAA4A8/8UAP//AQAAAAAAAAAAAAAAAAAAAAAAAAAAAAAABQAPAAEAAAAAAAAAAAAAAAAAAAAAAP//AQD//wAACQADAP7/AQDw//P/8//V/9n/wv/b/wMA/v/s/wAA+f/6/w4A/v8DAPT/8v8DAP7/AgD9/w0AJAD7/wkA+v/u//n/KwAOAOf/CwAyAA0A+v8wAAkAAAD9/wcA3f/w//3/+P8DAP3/8P/+//v/4v////f//v/q/+//+P/7/wQA+P/Y//v/xv/N/woA6f/8/wAAAAAAAP//+P/9/wwAAAAFAAcACwAKABcACgALACgAMwAXAP7/NwANAFAANgAqADoAKgAVABkAUgBJAHYARQBNAEsAGAAVADgAHAAqABIA/////wYADQD3/wMAAAAWAP7/HQAHAPz/BAD4//v/AAABAP7/BADu/+7/7//6/9//wv/m/+3/tf+w/+r/5v/R/+n/4v+7/woA6P+1/+j/EgDn//r/9v/f/7z/vv/m/7T/+v/a/7L/l/8NAK//7P+r/4T/yP+0/9X/r//o/8j/4/+E/7v/mf/R/6H/hf+j/5r/kf9k/3D/Tv+G/6X/kv+N/6D/dv+H/8L/zP+t/9j/4v/y/+n/CADa/+n/9P/5/+f/6P/s//H/+f+2/+r/u//u/+X/7//u/wAAAAAAAA4ADAD7/yUA+/8FAPz/AwD//wAABQAKAF4AWwBXADsAlwCdAKoAXQD4AFMBZwJoAq8ClgL+A0IE2AOAAwAGGQfmBTAE3AWqBxcFoAnRCd8IlASEBgkExwK2BDcEygMzAp8ChP8w/7f+if7F/LL9D/5Y/Vv9ePvM+lL5QvYY+yH7a/ye++n9W/vN/H79IvtW/gj8Iv8x/Mv+Yf3rAWwBaP7d/2j/Mf/gAIoEKwMxAt4AdAJDAmz//QH0/Z0BQAE7A9QAGv/4Ab36KwK3+iQBLPwWAt3/d/3N9v37IAAG854GHvr+/ab49v1t+JT3+QBd+n0D3vjLA6X0a/lw/Mv89P4V+bgGs/O2BNz9fQYh/H8AtwQjACcIWPXJBBL9qABR9Sv/swN4/O3/cvekBm8SoAm+CMEMRgcz+nj+ffxXBqwJPQSaAvQB5QIU/iUBm/i7Bf794gVfAmL8ePj/+rv7T/oY/Zr7AADr/cr9uvlv/1/8rvuA+nAB4v0dA9b7jv2X/HP8oP72AysG9/2hAX0FrAJWAbkEwwBQBOD/IQRQBNMGE/2mBRwGAQVRAWAE7QQWBjgByP5RBdgDOwmh/PP/xvytAyP8ZANfACQAvv/I+wf9Kvf1/DL+dv+v/pr96Pjz+rD5j/SW9ob6av1lCjEFFQK/9VLwAPoa/j4AqwNlBtkDBQGm/Mj92wbwDjYKVgoZBeYBLgCO/fkE6QKQCMULPA4pBRL+6PwzAO8BBADNA2L/ngKt+fP55PdC/kH9o/s2+h37Ofk+/D75ivXx9ib53fwT+wD2XfTa/Ff5kfyP+0sFhgAs/8r2+QM+AZ0BRAELCW4KfwNcB6777gSJB18H7gKsDbANYQ9V+7X7CwBfDnUNxv7c/2r/8Qg5BqH4JvraBaQD7AEa9u720v98BWr5ePa/+f/9zvqB/ob5+frP/dH8GP3y/B4BRgUuAa33Z/kw+w4Dvf+XCLoC/wECANUBNALYA1H+LweFBgEEpwWv+v4DhQWwB7cD5Aao/XUE2/7aB/MKWAPKAl4FVwiD/rH+LQIsA1UEoQFw+ygBpv5MAEUAggBB/bYCkv+i/wH5qfzIAHcD4f1F9H39+v7N/zr8XgF6ALcBiwCt/2n+nP/f/tgD3AJn/ccAswTABpEG1f0d+bgBGgBoAk8CPP9/AqgF2v/D+aEARgGDA/P/qPvn+fT9bACj/EsC6fsAAYX86fkV/Aj9XwFnAl8A4fsU+f74CPvy/KH/bPju+y/+pvfx+fP9cPif/Df+bvvY+5D93/5c/+f64//4AGIBgwHa/bP8kwEbBUMBZgbNBQQC9vka+YT7DgdPAy4DOAPnBDcAwPp891H8iwIKARsFJP29/Ov5JwKu/AP/Yvy4/64GtwMN+274JvpH+y8CDgELA5T82v8x+oX+Cf53/VUANwQ+ASr9kQGJ/P37YPyBAtMIBwXt/igBFwI6AQUAqADcBEYCMAIpBL0BqAOoAhkCkwBfA1kCDQdEAO7/dv9x/hn+NQL7/iECwwavAIIB0/uWAsj9j/8Q+YEGCwTUAi//PfsB/13+3gNu/hMCUQLgBQr/lPkD+fAChAjNBTQCgfxSACMDswBF/8gAeQSyAnwEef/sAaAEJQVk/KP9gwP9AcEIlf8C/Xv80QEWApkAAv3i/icBh/37/DT8Cfsp/v3/uP8k/d/9Qvxa+wr8YPrZA/sA8v9P+2v8qvr2/gX/bQB0AwkCwALq+Aj+sf9XAHQCFgK/A7EDHgW6A438n/74/7QEmQJRA9j/oQH/BOP94P4zANUDBgE9At4AnQJr/tL9PQH6AZP9CfzIAdP+6vyr/Q//5Pz++x4CP/7mAhP94/tF//n5awF7/rQDcfsf/mf7AwC+AHcBZQCw++kBxfje/zn/FQclCLQGwfpX+wwBG/8UBggBEgEdAZwERQDbAKEDMf9SAZgAuwGaA07/Rv1R/dYDQwHU/of9zwAG/wr8PwAt/sACsf9cAI324fppBlUEXvqJ+tz/gwHkAfv+PAHx/nsAv/nBAE8DmgRQ/z4Adf4A/uIDJQSxBPz+sAFbAIIFqQLqA5sDXv8YAGUAJACl/8sCJAX9AKX9fvk5/IcArAOgAf4EPgBj+bn3y/c9A7cHEAbl9y7+d/8K/qj4Ovhe/UgDvQVK/vb3Y/4AAU79lfuq/CsFqQONAbv57f0/AAIFCP4H/j3/Pgc5Biz/ZP+c/ZAA0/2LAwUICAukA6X+n/bs+MYBiQbDAkEBfwMVANb/2vzV+B79IAIzA+z/HQDJ/gb9QvyR97z45fuyAccAK/6c/DH9w/y+/nT8Uf4nA2EDHQAj+2T7SQBMArn/dAAaBO0EAAJ2ANP88wG/A8AEgAM0AtoA6AE3Akb+FP9uAU8FewH4ANz8pPu8/CUAhQICAvsC4wIGAaT6qfqD/dgA+wA0AEoArwLUAScBFgB3/dj9Yv8J/i4AcQWtBKsCEf8hAAMAMf+VAOcDxwI7AJQAUQArAYIBXQEZANH/Yf/GAnQD0wC9/sX/4ADqAHABAQNIBJgAOP1L+2/9jP+NAH//MgLrBY8CGf7+/JX+pvx1/Rv/bgIeA2oDJQRIADf9x/3HADsCGgRwAa4C2gHwAqIB8gBRAWYBNwKRAUABBwGEA8ACAwLL/XwA/wDxA0YAbv9tAdT/iP99/fkAIwF+AKj7g/zi/0cAjv/a/h39pv1S/7v7lvsmAHT+0fyo/Xv/m//z/GP8CPuU++f+zwC//R/8+vjQ+XD6TftN+1z4uflF+CP62/k7+T76ifdA+AD41fiE+w/7lvko+G/4A/kq/CL/If0z+4H6m/oL+pz6oP3W/GL85P0X/rD92P/TACD+Qv7o/hABfANZAWEATf+j/7YBVgIvA3UDaQPjAHD/hP7RAb8H8QazBD4CX/+IAFECZgEMAi4FMgfhB8sH5gROA/YEDQSyBNoHPAu5DN4J9wi6B+kI1gtuDbgPQBBoEHkQ/Q4dDrIPAxBqEP8RyhPwE0YToRBZDYsNSA/ZD5ARGBHvDqIOTgv1CPAIPQr8CZwJ3QguBs0DdwXdAywBowADAvQCYwADAdf+if04+yv7svl1+uz61vq8+pb41Pc19mL2/fRe9U/09/QY85zz9/Lp8fzwMfG18EDu9u2S7rjt0uy47QjpouoU6bboZenp5uHljefn6aPoGugG6OTl6+BE4KPiruX/6DDo/uWE5RniOeLK4gLjzOU86Gnq/eha59DiD+Ib4+HhxuKd5ZfmiOml9NX6YQj4DcwHnf/39R31M/mNCNAUKR/ZJe4oRCx2K5koBSaDIfwfECWMLIo4nDvuOIgzTi2cKNwovik8JcgiSCDMG4EcDh2tGF8YURKnC0QJoQYXBfMCwP9d/doAagQfBvcGFAOl/pr8vftVAHEDNgW8CLMKLwswDMQO5gydDa4OCBAWE3sWyBgRGrgX5ha9FtUUzxeOFdQTcBDgEOcPMw8SDo0KBAoEBloDUgCI/nb6A/jZ8rHvCO887uTuYet+6JrmyOa84/Xgkt8J3nDeO97e3qLgj+Hn4Hzfwt263Izcid3f3MfdCN+w39/iKuJN3rTdMtv/1yLY89cR2bLa4dg1123Vb9Nl1GnRMc+By4TF1cLowvDFS94oAWAODxPhApXfU8k+z3LnzgOFImsvkDHTMCkuuTLNNUQveCcBJoowLUSoVdxanUnLN0w0ujxZRqhJC0DYKX4a6Re0HbwnKyg9INsWNwpLA6cAv/oG7O/gtN425nXzLvs8+W/ssdml0SXYs90B5oPqm+wV9I/+HgmdDRcMBwa9BA4KbRQrJI8uCTKzMQIz+DZEO1g+NTuqM0IrxyyeMy83ezbiMC0oWCFWHvkZlhRoCpICl/z1+Uf8Wv2x+uD0+e3n5bbktOHC3I7ZuNcZ2GjefOW45G/iStxI1kfVFtog4F7lceiX6KHpKe2J75Tv7u4a7KLrHuzN8Jjy//CQ8ADrM+lQ6GDlKuTl4GbbqNca16zVNNPD0C7K98E9vre85b08vH23grHUqFuldKo4ya/sEf89C373R9Kxu+m+ItxR/xQkETbcNic3xTYiP25E0T2IN7w0LUG1Vb5qKXMUXmJLhkUoTaJbtWBNVW85/SHOG9QhCi36Lf8mlRsDCtgDtwAf94Xk+dDPy1bT+uQf9K70IuY+z+bFuscfzV3U5NUe2BLc6ee3+F8CfwSqAAoAIQtuHlIxizV2LgwlCyRKMrNEzFOSV+dRHEj+QRpA2j7gOqY1gDBfLtoxRDOMLFoWCAGs8lbwbPdS/Fz7RPRd6xbkT+KS22LUM87Oy8TNjNae36bgXd6y1ZzP28/l11jeE+Hf4T/hwuaG7hX1kPb99F7wde3178z07vcI9x710fKZ9VX4Efek8cvlktrU1uzX6dpI247WfNGwyKTCKr8HvdC3PK+2rIKjxZvVn+rAjum6+joK6PYjyRutA68R0LD4xCHPNOMwOyvNKk89FEsuQvg1qiyTNllPW268e0NhH0eSQHBO62OkbbdhUD8hILoWAyKAM3sz9Ch1GmYJIgeXCzIFAOoIygu+m8aG3+72evoU6NHHa7y5w9XM7tOy0dXPg9BD3dbyyQCYAdT45PY1/pcMHyXyMs42fjNaMUQ8vkVxTCVL20aVQc9Ftk9CUihNFUFmOIo1OzXSNM4vhxswCwEB9f05/qv87vrJ8xfu8OgS6hTg0NNnzezIBcvk1yfjGeLf3g/VydBI0M7VcNkg24rdlOA17CL12vvu+aL1UfDP7HLxa/ai94T4AfjJ9yX5h/n7+Wbzneru3d/X5NeM1WrVmNOc0PDIzMTrwCi2ja9OpAebn5WJjSSkG9Mh+PkJBwRI3qCqQppctEfemwwuK44x8ivcJ643L0yRT0RApixDLtlA3F6XeWBwJ1DVO/xHe2SndW5yCk+XIngJzg7MKfQ3IzJSIhUSWQlgCZgJkfRQzkS0LrUE0XPwiwDm+cPancBBvyjOodfO1TjRDM7E1i3srQJXDVkGSf7dAMcIBxN3HpUsSy5SL65G0FqSX3tbQk5yOc8toDklSdxLFUl3RV1EYEG0Ot4ynxxNBr/8WfyE+3T4nPnX8//qrOam6HnkLNX0xui/Y73sxufZR+PW4Dnb2Nl813XWydTE0j/Sidh16JH5VgVkBiACZv2Z9wT4IAGGAswAhgDoAXYBDQIPBE/9R/so+DXxiO9c5nXbyNSozsPPKM/DzUrHQLyisXakHZ4Ol3eL5ok5nVW/P+Sf+dTyUtHup5ibua380hL4Zw6lGOEXbR5pMrhEYkjhPtc1SzbcQs1ab2VNX3lPKUgvWlVz/38EdCBW/DFIHdEhky+oNBcwsSf2I3oh+xsEEOzzWdOqwVfIJtt37XP0C+qX1qbJSMuS1ZfZU9S+zZbL9NHw3nPvl/dT9zP7QgWDDx8WZRb5GeAe+CP1M9xLJlooVktSrknwOwM5r0JcRKk/WUMkSxpNcEPwOSoo4BN2CFAICAXD+2z4M/YL8V3qh+lD5Uzce9AhzB7KVcu50KTT9dQo007YAt6i3w/Zi9QT1OTVROCc7oP4fvxDAOj/i/05+ez4xflh9xH7SAPsBmIGogZAAwn4LvKz8dHqb+tI6R3kDuAk16TRg8r2xMLCAL4muqGwuaSOmQiMVpX7rIHNKOrA8BLnzsaYr4mu2buV1kbu+wOiEXsZ+SvSOcc+sDojMo80LDkDSvdYJ1g/UTZJKVM1ZvF2d3p+agFTAzlxKgwp0SjWKyounjItNVMwdCNQCs/u69Zjz2TZFuRh7MjtJuaa3LzWqdln2tTWMdLFzWjOItDB2dzj+uqz9aMAXAtnEM8O0gs4DccSwBuGKqs4HEBjRqFIOUewQgg9njo3NyQ5vzxIQ+hD1TtUM1co9B5bFm8RpAcz+z73TvbX9K/yVe315ffdhdkv2O7UVNLrzWvN1M4t0vDYe9vE2/rYl9cS2KLbS+Jr6NrtZ/Gk9DL4xPpH/HP7Tftn+aX1/ffF+Ar9dQInBcMEp/2c+Grwa+z758fih+Lp2zHZt9q92DTSRNAxy6zA37jfr1OkEJgvoAm4zNUj8Zn4+e0O0LO1p7YAxSDZQuxT++8GUA+YI+E1mjrcNcAqYSt7MT08b0dlRnk9MjmOSqVntXrHerVpMExPMbImkyuFMWgypTQeOss9fzkDMLkdEQOE7t3p6u5M9Ij2a/TD7TvoROm+79rwbuZa247T683/zEHTYdoW4OnppffGAqIEof6E9W3vKe2U9J8IGhsvKQQ0eDOoLeIlUB9YIJUifyi0MJ84NjpvM1svjybyH+YeBhx3F/4MkgX2/6r6aPrU+pj8z/uu9xTz/OnM34HYQtbC1dTY6uId51jlT+M04LbdXt2+4T3lneZl6MLre/Ag8l3zTfWu9br1x/ZH9nbzxe9R77TyUP7UBsoG7AVa/FPtT+KG30bgN+Ci44zrPuqG5F7cKdUIy829u8Cmv2C3eLL3t/7C3tCR6NPvhelX2fXDBcG/yAjVouIT8ND6LgXHGH4qQzA+K04deBrYHcYlbTb9P7lA0D59ScBXPGBAYwpcaE3vPKc18jk2PNY8TDwKPFo96TwPPKM0HyXSEtIIsgVTA+0EuwSR/+D6hfex+Kb5wPSr68zi/tnn0WTUithg11natt224fnkkOUG5vri8uNO6ETy4/r2+ob+WgGVBRwN/RMEGvUZAhtvH/AiICTHJGEmDSV7JDgpKypnJVYfgBpLF68VUhnYGOgVlw+KCvoIsQPF/Tz4yfNI757vCfLW75fsi+rb5pfkE+Kl4DziJONL5S3m5uUe41Xh1OMQ5gfoPeps7lbv1+yB7MfttO4n76XuZPMG+hj6lfis9/3yE+7f7mHsQOfB6Lzr4OmQ6W7qT+l+43vZwNY81UPKW8q203jXkOMd7zjuvOUG2gHUxNOv2xDk3ej477HyH/xZCRgQKRWWFAsVcBr4HuEjbSQMIbscdyC4L4Q+fEsfUO5Ly0S4OnM28DUTMgEx2DNdOVw/OEP9QK03zixyItQeOR8dHOQYehPpCQ8FsgSxBeMGuQR5/aX1lOxY4vPdC9r01bTXRd1c4YnjT+G92nDVdNJN1K3d6eKN4wjlBuUD55Xqge+Q84f3EPxEALsG2ggICEUKhAsaDqcUahr2HJ4eQR8EHxwgmCB6HxAepxnyFpkW5xQvEckNHQsTCaEIOgf9Auz8rfXn9Qv5ivU57bDoaPhk+mXvFPHL+Or2x+r77SDwMerg7eztrO4v8sX5EgEA/a75+vrT+lDy4O1J8e36Hfj39YL8PQNL/0D1hvml+U71m+/a8MnvHuvo6cfmQ+n067TpYuYr4eXYL9Oq0Y3RTdmM4t3iiODc4VLhIt4D3f7dQd6o4KXmau5k9qn5WP2hAYMFcQ3XFJMXFxdUFskWNhk4IkwsFTOfOLo6iTxVPms90jqwNp40LTTeNA44VzqANyIyqC5aKwsn4CPSIKcc2hUFDwMMQgg0Ax0AZ/6m+WP3pvZk8dbsGugI4n7fmeBM4Q7hnN/z28HZ8drf2wzdxuC44bDgy+D548rouurB7G3xsfRZ9m/7GwCBAbsEUAg0Cg8OjRD8D/QO2A6UDikQ1RJcFfEWgxa+FBYVMBN0D+IM5guxDF4OdA6wDa4SFxQqEIAKBQf7BooG7QROAiEIEwwSCTAO2AbAB8AFNwN/Anz9eAQeACAAn/6CA5kGUAI2/gQA1/u09iH2RO5P9d3yaO9b8EnwofE/6hjlpuLa4hze09273ojet97X35bhu9zD3NjbCNsz2cnZjNvi2IfXydvU4X7lNevJ7+7uUeya7cjvTfFZ9sT8Zv8/A/kIHA3DD6QQUhI8E3MV1xvqH/cgxSADIEMfrh4PIXkicCLJIlsiRyJ7IWgg3R7SG9UY3BaDFC4T5hICEggQhg6HDgYMvAoICOMCswHQ/if8ZPqa+Vf6PPmj+qX6UfhX9cXzOvNK8QjwTvGA8U7x+vTF9AP2mvYH+Ib4HvgK+r35rfo5+af4rvjC+6/+0gB7AtIFAQYuBHgFUQecCMAH2AlwCxANNg6fD4EQ+BHmD5YSYhS9FrgZMBmWFpMTdRbTFGUTWxXqFzQUChXGEkET9BK9Dt4LjAqDCKgFOgTa/kL+l/gG/v77Bfsj9gfzVfAK6S7nyOQJ6r3j4+Xo5FvqGOY05X/k4eEG4r3fuORy4lbmPuOa5oDorule7DbuyO1o8ZvzafQ39Qb2Qffd99f8fP8hA8EBWgFuAIIAM/83ADYBvgAqAmwDzQJuAQ4AOP3p+UX4qPpP+yX7RvpJ+Cf3vfXC9z76Tfkk+3r7W/uw/Fr9kv60/TT9uP6uADcFPwi8CswMYAspCwsM3AxjDXkLyQsiDesNfA6qDwUQwQ21DTsNawxbC1gKCwdjBPECdAIqA9gDYAOZAdgCvwMLAeL+Nv+J/Ez5xfpcAVkB4f8PBAwFHgUmBCQF5wbLAxQBBwOgBVcGnwgGDY4PcBFoEzUTiBFyDS4KNwnSCQYNcg+5FKYUhRRnFCIR3g91CaYFdgPVBCIEiwLOAuQCKv4X/Mb6lvmR91bxyfA07qPuievS7Dnt7O6/7ZjuAvDN7K7veuyh7JXr7+5g9DH4/fW597H6wfwJ+mn6gQL0AT8BDwLHB7kIXwrPCE0J1AcJCWcIFgmICMAGjQlpB8cHWQS0AzkBUP/u+rv72fxg+gX4VPbM92/2efId7/XukusE6tzto/Ds7s3uNu867czsYuv27HXtSOxL75/xgPPt85fzcfSp9D/2iPmt+Uv6yflD+vr8c/9+AgAF2AdwCF4HvghYCOIF5gV3BtoJFwyFDcsOYA3KCk4IWQgSCfMH8AicCQsJFgkOCgsLqAkBCqkK7gpBC78N3woLDPkKRQpWDvQOhxKGEj8UThNTEz4SrRI9ELAP4RBPEaoUWhWwFfQPgQ5nDCALwAfNCX4K9ARWA5QAaQH+/pn8YfjY9gz2fPVu86PyhPAX8GXupO2479fsGfEv7jzwCe767rzxRvFu8bn1Svek9gv5rvcD/C75p/yK/8QCqQJUBVMJ2gmCBpEJlgujChcI+ApyEGkMpw6lDn4SswsnDGgNIQ3dCAsJ0AUkAyEClwBvAt7+QQF4+ur82vlJ+zD0LfQy9J7xrPW99D33xfCC85vwWu8R8UX0HvbG8hbztvRy9n310PZt+an1FfVd90z6o/Sp+Df+dPtB+iD67v6J+v/4Mvce+5n5V/qn+yb8UftR+VH8L/rB+Wb5jPtu+mH3zPcr/K76Rfsn/bn94/5x/i/+8f1E/08AeQIGBFQGuglqCpUJAwrbDD8LnguLDbwORBCbElAUZhONEXUNXg/9DRoO/wxdDo8NRw0tCmYIrwY1BJICWABVAZz+2ABi+pr6zfgr90314Pg9+Nn0lvff82v02fGY8DnyPfal9Ab3DvxW+vf5ofZD+SL8HPen94L+sgO9ADEAkgEkBeACigKFBOsG7wlRBzEGiAjzCx8I7AcOCioO5AutCt4LtQhhCQUF+AYVBiQGxAW9BHYF8QQmBwwBggB+/RoB4f5fAj76cvt7BCP8QPyB+BMDj/1n+Lb+8/+h/Ov4wP3V/cr5oP0r/4H/x/x0+zL/RwJR+E362v2OAS4AdPnk/6D9aQJQ90L7av+BAOP8QfoXABoEj/gc++cC7/kL/2f8tgKy/JT/4PyPAVL/oPuKAw3/Vv17AN0Bb/5pBL3+ZANuADsBqwQ//y8AigBKBA8Dtv61AEEEhQA5AGb/1ACKAOj7mf+x/rD6APul+2L76fhd+D36XfkW9qf2afZa9rX0qPd+9pz0xfi59mb2avfu9yL2T/dn+/X43PiW/Fr8hPzG/IUAHf8f+48BeQIy/vz/+wPsBPQCMAI4Cu4IAgOACigIhQkKCZMGqgx2DH0N4AmyCwoOcQ5vEDoKKAe+DcIO/A2NB4gH4hHoBggJiwyXC7oJAwc2ChwHBgRVB/AF+QE5A+UAyAkeBHYHZQOS/8AGivubAHkE0ALS/Vr+swJUBX38H/yGBF4B0fgZ/C8F4/mY/DP/z/4xAAP80fKnBLYAAfJG+Zj7SgOP9jz36ALXAHz1RfqTAmr9zvJh/3gDJfkc+g4CTQRp+0P53AXtBT/6kQFS/uwH5gIrAo4EHv4oCPoCx/96AL0DrwRKADP8WgPGBwf/tP7a//3/U/5L/5T6Z/s8/Oz3GABP+/j07f5l/6v1DfIN9AD6RvqL79Lwv/zl+knx4OzW+Fz5CfGc7nr1U/yh8jvqMPhl/jb2lfJq8i//iPrB8YHxtfvr+zX2Pvo0+yH/ogBs/Xr97AFY+Uf9Jge6BAcCWgBmBzYIHwVOBe0FKwngB/QJAQiRCWcLHAcCC08McgnBC9IRqw0kBRAIFhEXDJgGggoCD3ENCwV1B6sIIwfcB9oJ8QniAbMFZA6SCRH/Uv0IAQcHCgQI/UH8CwKgCVr/6PYc/0sD7ACV+r/4xv37+x78H/hL+2cAsf6k+An8I/7S+536nPd+/Vz5Jv8J/p76Qv+0Ay8A3vZ9/1IFSv9J+/4D3gXD/Kv+0gieBfz9DvxXDnQFoe/+BacONgHS9wIKTQ1Y/hP31wSBEecB2O3e8+sWWQH56x4AKA1UAczuhPnTDDoFyuFt8pIROA3O7/ndwwc1FuX3F+A09goRNAWN7zrq7f98CYIHUfFI6TwBEBJMBcnjwejxD8AS2vmh7HHyOhJeE03xTeZnA6YNLQMd85bxEgqnCab4sPgaAUr7E/vsAOT+R/JH9lcHOwVy+Ff1p/6CCu/76u4n+i8Bpv9R/Bj7QP7aAhAAzP8/AFAAfAGOAQ4A2gTXAun/xQXPB74EYwShBWkHnwkMBYMBPgVRC2IH1wIsBxYKZwaeA0sHqw37/7z5ZATuC2YOG/737q4GOBifBBTzY/TRB5oOY/2/70b8MArSCpj0ovKwAyMEOP599p38Pvw2+L4ERwue92nvDwNZEuYIwvHc6+UL1hb/++7vagCLEs4RR/zN96kG8AzmCfAAngAL+zURphN0+3buawqpHqgI3fhj8cYIkRQ/Awz5TQHJCMH+afozC4gARQeH9XfzGg9TDI38SfO29ob9kRiW/FLwF/YDCrwHuvfg/PMI5AZK6hX6HA9pBhn4cf4//yH+ZPwCDaUPEPbf5wQADht1DTjrTO1BDM8T8AXP6qb+jhKJASv8Ou979UUMTA1q+ovoKfmqCpIKuuuh68cCXARK+mLtA/B9+TT/aPV+9YrzqPJQ8qf6Lfuq8sj1Ae+U9Gz9IPpg+qzyLu02+mL/yfkq+Yr5Rvk9/e/+Mv87/0f+uv7m/ZQFkgYkAYj+rfjUAAcNbQrqAzf9hf3pCcELOvxT/doHNwGl/L0DUwiQAzP75vhHA9MHgAYL+8rwa/o4DxAN/vWK8iP9agwDCp75nfnYAG4E/gmgAQf86f9yCcwOfgGi+hUCqgsnCxwENgEOC6UJTgmnBtIDsgcwBbYR3wvuBJUFRPw8/9AWUhmnBB/1W/pOEQIWEAjM94zzkf6wH6YUevCX7uwIwBcsBjXyRvfDERAMQPJQ9sMPNQqAAPj5wfQ+FGMaVwTJ+iP8rAhuB14BZBLiF1P6FvMrBFoZCBSgAXXx6PclDa8KRfvm8jAD4wbR8uXtmwcNDYgA5e456kP0kQkU/1bvM+3u9B0ASva+8Z3zZvgn6fDpSvZaAhHzYeFd5kv5av3m87jqv+XK7vrwvu/17DfrqORa5XjpkvBz9ED5Pvd59OPy4/A88tnyz/G58Yf39Pzf/oAADP8P/5QHBgk8CTMKCAnHBDsDoQRfBeIIlA54DUQQCBZTEpkMgwqRCMIIIA1hCq8GrwnsCNUFiQXKBtMOyQzjBQ0ElwUTCBkCcvYT9CwBjwyIBgn9QwBhBQ0J+gJd+9X6aPwWAzsFX/3I96j98AWwBycEcgE8Ba8Iigm8B8sAxwCtCMQNSw1qCt0HwA+OE80Okg1DDugRIxMsDJcGJw8eFZAQ2wdWDS4VghGLBu8Euw0EDg0Ge/52AuEJlg6VBqMAef/E/7YCqwG1AlcD4Pqx+T3/xPu5/2YJrPul8F/6dwaGBPvyAvVB/GbztfZ8BZQAIO/v6Zn/EQVQ8+nta/VE+4n5CfLw8wn1SfNO8sPt+e6a9gP+IPHT5Qfka+8q9j/1eemK5UnoF+8w9CnqqupJ6V/j3OMR7Gzw9Ojq3Jfb5NtN53zxwPUj89/zCfjO+Br36/FD7AjsLPk2AzUG2wN5AxYHdg/+FT8a4heoGAkXYBPTEqASlxVEFjQXWh/dJrIkUx9uG1cXgxQ1EBAMTQ+bEGILAAPlAFoDWQtdCwIDev7C/Zr9zPdJ8nvwrO8/77fyWv3VAE36Y/Yp9k33afdl+L/6kfs/983zK/jEAQcDEAVNB/QFpAtuDhsJ5gR+BegIAQx9EccY/Rq7GlUYWxenFt4XthYRFwMZWxcTFFgRaBJ3EyMXzhdpE00RZQ8iCLcBvf7//Zb/wwESAtQBkP+d/F375/h19E71FPia9SD3iPcW9k7zNvbQ9yj7QAfiAWH3kfM37Wj39f/Y+lz3C/gzAPT/pfrt9YL6jwB8+XnpQfC2/fADhP8w4ELeXu4S+w0HWPuO5j7gm9ye6fH5W/jG60nbbtl13j7xSffW7Izf/dWC2qXotvRp73Pittji2eDZVN276ODt1erq7vv5iwdiCxQDLvbS51ftxgHuE+AXuQ/IBToG7hThKfEz+C8UJ/Ed5RyKIcolhCHlF00U/xm2KgA3+DOCJTsXVRBjDogSBhM4DwUHRPzr9jb4zf25BEkFg/zb9mb2svP/7WDoVeLo32Xjmeoe8+r5MvoG9F7w9PGn9y/7CPi49Fb2N/mE+4L+NAL+CRcQWBOpFyoV8g0KCc4HqQryDAEO8xCdEwIZSyCnJdAlux5QFa4OMw5kDQcNnQ8gE0ATyQ75D1oVvxSkEOYJVgF0/fD6efih9ob2Qfmn+/n8XAAeAqUAVPs79rz1YPb0+b75I/iT+5/+IQDo/yMAyQIYBe8EN//z+FL4F/lb97v6CQB9/Qv7DPnP/Xr+D/iG8z7xM/MG8EvtfOqi8b/zgurz6sfwzPT+9RfxBen/5FPdTt606Vbv4+396JHmDenA5+3jv+R25YnkMOTE42ziw93W2afSm8yr0tHkdAKbHLwj5xKD9Cfao9Y+7D0KWyLVJssUIAJpAVYW+TOsRiJF/zQNJokguyQgKZYjmBcdENoUMSttRFVOCUCmHZ8BJvgQAOoQ7xcUEP34X+R34cvtQ/+sBfn/cvTH7BvnveJj4CvZzM4ez0/abOs3/OoDkv5D8nPrUOr37tD1L/xY//f+iPwr+3H+IAlkE7cbESOHIk8bsBJKDfILKQvjCWIOrxQDHMoiZiYFJgogCBjYE2QVPxjVElMJlQOVAVIHgA9pEwEUkBHZCzUFEf8K/ST5W/Vi82jygfae+y7/EgEUAJL9BPyC+Iz6wAAKAtH+XfuF+iT9BwScDDkPpAyWB0ECIAKiAdf/D/2n+gz5/Pp1/p4BYwMk/1L30O456zrtc+/D7+HrCeaV4tviLOZ957frB+pn6JLriel25XLfe9lN1KrTlNlU5LDvXPRJ7Crh0No/3CnivuUh51vnseTq3IPX/dT608bWtuGH+w8bwy6IKSMJtOR90cvbEgF1I+kwfCXfEGwICxHKKv9BbEgXPCgm0hxxILMmbCbxGWwO4gzzGhU0yEVJRvcvXw5b84Tq4vSiA9ULCwfH9pHqpOeM7mv4nfwl+ijzZO0M5w3h2Nq11ijZod9r6Sf2QQADB4QITQRO+j7wYe4+80b+uwkGEUsQxgmvBl4KFxU2IkopJCirHAMP+Qi1B3YJrgyCDTIPYhQhHAoieyARG+cPvARz/3cBAwoIEIgPGQpFA20AVgPgCO8PMhFzCxMEFv6T+hL6WPx//rcCYQYzBxEHtQaTB1sF3ACd/2wAdwPGBlII/AgCCOAFrQLPA/IHfAqfCS8E/vwL+J/2hPda+nf6nPfA8+b0KfUG9RTzj+5Z7RTpIOcx50Xnu+Xi553sPOx76SXmzuVG5+vp7fKs+KX1tey15WbkOuXD5ufp0e958EnyevR48sTr0uaZ5VjmLudy5jLqBuq/4abRhsYpzg7leQSNIT0t5hkT8z3WS89O484F8R24IHAQtQHPA6oYajLoPpg5ZCnfHtkeliMTKdklJhnWDU0OBR9HNkxHeUZ+MRUWbf7f9H76hwMnChQIWQC/9rrwEfIx+C8A9gKB/UXxG+U24M/dY9zZ3m3i/OgX8Nz4fQAwBaYGvgBx9Ufr1ugw8Bz8WwY1DA0MvgpbC8IRkxgEHC8cxxb/DgYHNwPaA10GegqeDkwTNhcmFoQUrBLRD3QKmgE2+0b3e/q1A3UMSBHnEHILZASVAtIDTwTnAg4CNwFBAEoAKwBPAO0D+QkEDRkNsQnJBAIBAQD+/8b+nf4VAJ8D5gdiDDUP0QwLBtT/0vuu+/39f/+O/vv5mPak9EX1H/uwAWkBLwM4/W7vG+087pztju0X8cvzhvS+8on1kfYM9Lf0q/ZQ9MPxaPWt8yrw4e+i8bru1+vZ7afxfPQu8+vwUvG58Njudu4T7HPqLOp05crh0+Cx4vDi1d1B2EzUM9OA18jn9/4gEmkW9ARZ5gDPCsy74N4ALRqCHkoRHwJL/ioLqyJgOOM+xDObISgUXBLUGbofaCLHInAjFygpMD42TTWjLHkdNQvT/yX+oQNJDFURFhAWB/z5NPC+8Pf5+QLJBnICkfTZ43/XDtSf3Kjs9Pl5/iL7cvUJ81jzqfR29qL02/AE8bL1dv0+BmcKVwcfA3ECjQX9CsUPUBG1Db4G5f9l+4r8lALCCv0RURQJEvkMgAbbAv8ADwGBA2cHjwmxCXwKCQtuCnYKWQx1C2wMfQu4CyULuwiWBiYDWwKqAkkG4QqED7gOXAkQAwUA/P9ZA4MGvwdoCPAGyQSoA9kDHwIVBX8FwQTrA7UC7AJ5AcMAuf7v/uz/QQCmAWIBTQICBGkBW/14+vj8rfub+BP9IQNV/yb5ZPS38pr7awNWCG39NfM39zf9Lflr9A34l/bd7wrpVPCi+OD1JvVi+TD2SPDU6dPl9ueG55LoFOq85/ngpd+h4zTkKulc6vPgLNj4z4HNU9MV3e7q3vmaAksB4PXJ5dvbSt8A7uH+mAvqDB8E1/tb/NUH0RmxKZ4wpC2pIt0V7AyzDKMTTB3YJS4rVyzxKCEmqyM2I4QjjyBNGf8PNQooCGwICgnqCXsJwQZgBSgF8gSuA7b/fvm+8U/qHeV65Yvq7PIK/GYAJv9s+l72DPNf8QvyJfML8mrwA/B+77/x0vWv+2AEWAkQB9MB8PuS9rXzNPRV+Ev9KAD8AdsDWAQuBJgEBAWVBecF9ARkAnUAeAKoB1EL6ww2DT8NsA3SDrsQQhLTD/AKOwb1AtwD0AjmDQgRRBEZDqcJIgWGBh4K/A/nD/oJ9gR5ApIAKwY3D6QS6Q/uCMkHXAPY/8wB4gXcB8kGOQRqCjEKPwVcCW4LCgqYBf4CzwEJ/ywEywdOBJgAFP+D/yEC1gEp/fT/NgCp+9b4DvZu7mLxqvMt8Z/xyfXH9Rfyhe7e6IzobO2c7z/vxO+v673owubL6m7quvAd84ry7vKH763tEuvn7IXu//H98pzyv/ET9LDzbfPy8yT1A/XP8qrxWe9d7k/uevCR9cD75v2M/WL6YvXt8gD0e/aG+or9cv2V/EL9Cv+5Av8HrQvgDJcM3gySDDIMAQzjC88LOwzoDfkReBbVF4oYixgYFrsSNRAmDnkKIQhxB6UGmgWiBL4EbAfFC3kMkgq7B64Cj/+q//z+Bv3f/IH7Jfpb/KoA/ATOBBYEPAGP/uf9hfyp+xf8Lfza+8n9yP70/vb9Vv6M//P/DADv/+j+F/3Q+ab43/mp+2//ggFOAe3/GP+n/WH8yvx5/qb/BQGMAZUAegA5AG4A7QKbBC4HLAp5Cp4ImQUbBdcFmwguC9oL8gzaDbQO7w80EP4QLRHaEbYTnBOeFA0VUhPcEakQcw88Dz8QyhBoEUMQpwzTCVkIhwf1BgAIbQhaBRMBl/4V/on+2/3k/Jr6m/fB9bn0b/XD9LHyzvCj7yHvn+/Y8Hnx+vBG7+vtMe3t7Ifu6e+U8G/x3fAY8N7wO/Jy9PT10fV+9ub2zvbQ9/f5w/v+/Mz8cPxN/Gz8+/2x/3YAbAAwAO//P/9r/jj+n/78/2YATwAdAAAA8/+h/wL/Sf7//Zr8PPs1+z/8C/3j/Gb8M/zS+mf4g/fx9+P5YvuZ+7v5pPbv9PjzsvTE9s340PlU+Tr4nvfK9lP2UfdC+eT5AvpG+iD6efp7+v76pvw1/iH///7o/iQA7wDgAbkCGQM4BBgFUgXfBr8HOQdMB4YH6weTCKsIzQdwCBoLLgzVC80LGQpjCEYIGwmkCbYJbAk3CO8GZAY1B0gImQgvCPUHJwiCB/sFtAQvBDkDSgItAosCFgQFBYYF2QagBgAFaAQKBBsEBAULBjoGbAW1BV0FSAXhBmgIfAmkCZ8JYgk+CAoGEgSQA8UCkgJbA8ID0gRJBTYFagT+A40E9AOyAv4AAP87/bf7Ovs8/WP/fgCOAPX/y/4B/Zv7dvvq+2D7tPr8+Zn4kveI90z4nvmE+r37bv0b/jP9sfsv+i34ofcm+Tb7Kf4QABMBEgE2AK3/Sv8FAN0BrwOEBA8DcgCT/pj9o/6nAbYEdQX1BCcDfgA//h3+y/6J/k3++/3f/Z/9Kf1v+775g/n2+eH6QfwS/Ir6pfmo91r1jPQW9af3xvne+iX7lvn590T2YfbL9974z/hA+On37vfn92b36vhs+p/7NfxK/BL8gPtk+sb5CvsZ/Fr9if6+/k3/YP8X/xYAxwDxAN8AnwEeAkgCOAP7Aq4C4gKMAlsCywLpAycFYQXpBEMEigMoA4ACNAKaAucC2gLtAsYC+QGmAGUASgE2AdwB4QFTABD/Xv6R/hn/qP8AAe8B7AHLAIT/Rf+X/64AWwJMAxADNgLcAMgAkgFjAkQDlwRiBfcF2Ab8BhQGvAR3A+ICAAQQBcMF8gWVBVEFBwU8BHUDQQP3AkUCrAEIAi8CjwG8AAYA5v+2/57/BwARAKv/G/8g/uz8kvwj/Uf+Qf+o//j/vP/G/9v/Mv+P/iD+Xf5r/6sAigHSAeMBagE3ASsCxAN8BccG8wawBSwE1QLDAg8EGwVeBY4FswXXBdUFGQV5BHUDiQIDAh8CVQL3AVgBVwCg/9L/qwBcAU8BWQBO/wD+Lv29/KX8Ov0V/W38TfzL/E39Cf4a/lz9E/y1+pb6Nvvr+7n87fwX/Jn75vuG/Nn86Pxu/S3+Ev7A/Ur9Pfy6+1T8Zf0Z/rD+3P6+/mX+Yv7m/sf+gf4Q/8v/FACm/2P/3f/tABICwAKzAmoCQgLNAY8BowF5AtcCtQLRAi8DtgMFBAYEzQN1Az4DeQNLA/YCzQJaAm4CuAJbA/IDbwPrAgMC3gBkAE4AGQAhAC8A/v/t/8//3v/4/1sAcAAdAG0APAA+/1X+4f2o/ef9Gv71/SP+yP61/xUAJQAm/wr9BPtY+WL4KflC+s36Uftm+yb7rvpR+tz5a/kk+cT49vdV96D2/PV39l34lfnC+fX57Pkt+sL6TPsM+6n6JPo9+kD7ePwC/hj/Cf///qz/QAAVAbwBcgG9AIkAFwEjAoUDWgSKBCsEIATDBEUFWQXvBDUEZwN4AhUC+QITBA4FbAVWBbgEqQMsAnwBzgFIAtgCnAIzAuMB6gFRAogCgAJUAv0BlwEXAXsACwCy/+/+tv4p/1H/zf5h/hD+av3L/DD8Evwn/M77QPsh++L62Pmg+fr5kvpL+5v76vuW+xn7vfqS+vr6v/uL/Ob8Tv0f/nT+Mf81ADkBOwKVArYCUQOaBKgFkwZ4BhsGogZqB3gIKQnjCZUJLgmSCbEJAgrCChULGApbCYcI2ge1B6oHIwg+CBQIawepBhYG5QSoBLEEnATsAxUDxgJjAoMCcgKAApMCbgKCAmwCgwHBACYA+v8BAA8AKwD9/7n/Ov/T/sb+pP4S/kH+U/7r/bj9r/2R/Q79Af0I/R79c/3L/az9Y/0Y/YD8s/zS/DL9Dv51/gv+pP2J/df92P66/xIAyv8z/5v+uv5P/93/+P/e/27/JP96/8r//P/n/1X/zP6N/mv+fP5o/nD+nP4N/o79k/1+/TP90fwl/ab9Qf5D/mv9nvzH+5T79fu6/Fn9d/3a/d/9I/65/vj+Wf93/9//+v/9/wgAFgBKAHUAMQEMAQIBQAEsAXgBjgHaAC4A5v9x/2b/YP+K/x//pv5N/nf9h/z8++P7/vs6/D781/v2+hb6u/gC+A/4e/h1+Y760/q4+hP6G/mt+Lv4g/lq+hb7Yvuc+3v7nPuJ/GX+5v91AO0A9AB7AB4AiwCkAXwCZwMWBDYENASdBCwFigXiBckFvAXMBU0GaQY1BvsF3gXVBa8FHAbPBgwHmQZdBuUFRAVsBbEF+wX9BbkFHQWbBEoEIgTrBGsFLAXsBHwEoANJA1QDMwMHA54CLQJPAnICMgK2AYkBzAD8/w8ALgBGAA4A0v81/z7+yv3s/Yj+Of8M/8T+Sv7S/X39av2i/Tv9Uf2c/ev9aP6R/mP+uP0j/d78+/z5/dv+7v4D/9L+iP50/rj+Q/+K/7X/sf+k/zP/xP6j/p7+5P6J//b/DQDr/5L/u/6//Tj9Av2Z/TX+gP7f/uz+fv7d/VP9R/2b/ej9Rf4X/qv9qv1e/U/9xf0p/nL+Lv/Q/wYA/f/O/4z/dv+u/7X/pP8fAMUAVQFzAbgANQD4/wcA+f8mAGwALgBk/5n+0f1j/Yr9Dv57/vb+E/9n/jP9Jfzh+lb6Zfqm+rr7k/zM/Bz8ifuH+kj6q/p/+y/88fxY/N37HvsO/Ez8yv0P/8v/KwC1/1AFPwwNCnP9nPEj8qsF9htNIHUMpPiV8zEAyQyfDnwGDAE/AN8EfRHFGa4XwAobBcMCBweoCCEIrQKS/7ABngSjB8MChv3Z/fYANAJcAI//4QGkAbf+9Pst/+gAxwMw/rL4Cvfn+1wD+AAD+Gn1twC/Av0AAPps/PT9qv1v/6f+6QLv/G/6oQCgBJP+5v+j/zr7VPk0/G0HdQ/1EFsDMPlw+/MCXwzLDyr+2fUF/skRGBck+z/4BAXGD48G9PuH+JIIMgsnA5cAMgCbBIr/OgVs9ID2rfjiAggDff6i+BMAmgQW+5cEk/hA+1H9ggFHAZH/8fOp9C0BLwunA9f/jP7r71P0af5BCdEAsfCm+6UMPQUo/OX37wGhAsL/iQFwAOz1eALGAzX0D/opCMQRZP0H7336cQTO/7//cPgEBw4CB/eI+5YAzwRV++f3F/7IAP/5ZPmQ+BcD2/k8/aICS/au7gsBJg2S/97vdPAgBcYBbgA89+MFJAHc+JoCtv8iB44AigPlAW36JQPREdf/K+/r+qsNAg+M+7j1+f9gBAwAcf5Z/wUGKPo++o8ANwAZALb5jf+p+Sf3xQOFBvP1MPAg/jMNHAsz+0X1afxDCL4JzPU395QE8wbqACr9xwIG/YUHL/h++dj5JQEcCgv+NvdQ+94FN/cd/+3/HAip/Jb3BwBAAd/4KfVRASEMtgK+/fcAhfvDBG3/cQCn/iEFFv9cA6n+1gTVASz64QCi/W0LlAD+/Of8Sv5D/vIDZfyWAP0FL/4mAMP5xP1PA4AD9PiG+zoC1QWz/x/9p/2x/EICM/6iCpQB+vnaADwCFf4u/lAIMAUfB9UBvARDAGj+KQVfB8UDrP1tAFIHsgq+/kv5tQbICNQBjgMBBRf/I/R6Aj8EoQGJ+XX/PQUV/9H6kvoKBZsAaP3r9PkB8QOIAdb6f/jL+34CWwV6AND90fyVAwP6WgEHBYoOyAYWAGb+kAnIC5kBegOA+wIISwl+ClQEAQNQAsgHJQQlBIMF1gWJBUP9uQHb/RACuwLBAoT+WAPc/xgD8v9F/X79IfnKAfgHwAnE/dj5pf0qCgwJcQHQ/8YGmAiPBJv+kAQgBHYAnv2ABQYMWwXx++j3uwRHAjECZ/cIAEv9kvwt91v5/AR+/1L3UvF6/Bn+6Pru8NT3ePdw+I779QGV/5LvaPNg/KIFpwJS+hXz0vlz/0sAtf589jUAyQcNBXz5Ev7lAg8AqvqH+doCfwDZAI762fv7/kj7Bv/2Apz8rflA+nn5A/88/fP47fpIAmb/yPkB/Dv8mPwS/nwA2/99/Jv76AF/Bp8CTP5gALcE7gcNA3n8z/w6/5v/LAA/B9AHdwM7/eT6EwDdBq4E/vz//4H/vQIS/4L+/QOa/nL7Dv8GBh4D8f/M9Af64P3mAmEF2P8H/i/25fsZ/SAANf4l/OX42/s5/2cC+gL/+4z3sfmpAjoEUADL/gv9HfsH/ygC7AZbBDT/nPuPAs8EqQR1AMj8W/9cA3wIDAapBHgB3gBV/6cEvQVnBPgFmwXuASwEhgiyB9kEBAHSBEIKxArsBAACpQJz/0QCnwiRCYIKWATW/Sv83QH/BngEzf26/K0B/f4G+6/68/6lAFD//P9ZAWABdABM/Gz5+/vFAO0FsAOt/4z9g/1g/Dj/HP4I/VoCNQHv/ob8YP4kAYoBjv1u/agCsAYdAMP6Svlg96382gGIAqICegKbATYCov/JAOMAUwCh/PsA0gL8/6X+PP6g+mj6e/24//QGRgS5/Pv6df47/Tr72Pbw/Pr/KgPgAA/9g/lF92j5/f0SA+cDpAOT/Nv8WvwKAPgAVQD3AdAC1gJgBJL+Bvw8/YgBSQVWAogBQwDYABsBKv9O/En/QgAR/738qf2QAAIAR/7j/M/9mgGUAIT9wPhx+W386PwzANT+nP0T/rr9T/1KABcBn/42/CP95v2f//QA8P2d/Or+JQSpBcoDNQB1+5z4kPtZ/v0B5ANkAXL+1vyfALkCW//7+3/7Df53AHb9u/94AbEAWv9l/jMCfQQyA/n+JP1W/sQDgweCBa4Au/+nAiMGdwexBD8EHwRaBK8DXQSOBYwDrAL0AO8BRwmwCmwDPv0J+1MBjgSWB9IDY/0N/sP+DQHTABgEDQIUAJv8vP7WAEH/y/y1+Nv7/v+HA8EBmP9X+gP7+Px2AOwBHQCSADL9M/7kAE0Engb0BZ8Blf/hAQgD9ABS/zT+q/yo/8wB2ADu/if+gf27ABUGSgf7BHn/Tf2V/Ij+MQGdAgIBGP3g/ZcAPQEMArD/yvyx/vP/egJ3ARj/gPwi/Az9bf8kAgQBjf6D+x79+QCeAzcByv5P/n4AegQtB38Es/xa91n5f/7bANsBXgBb/If5nPuW/tn/SAAsAZcA4f3i+7z95fuA+YL5vPoi/tH/dwCW/vf9uPyw/9YEXwZPBXUD2QDX/Fj9EP/O/03+RQD9Ae3+vvz/+738Hf2S/vL9I/7Z/uz/Y/z9/FH/EAJ/BCUCAQIM/Jf6QPzS/u7/aAFwALABwAJXAXD/k/4dArMBpgJZAXoAR/+j+8/5bf0LAZQEjQb9BOsDsAHwADkBgf8X/hT9UP2H/yj+I/xf+oD7MgHABf8GvAIr/7/7rvmO+q/7Pv3c/Fv9p/+nAh4ElQMBAjkCxgH8ADMB/QL+AYv+Yf2g/hAALgKXAtMB8QJtAqUDmgOGAXj9T/1//U79Hv/w/4oAKAGqA18FmQaqBRsGqQRQA+8C6QC4/yP+mv7e/3sAmQKnBJIEkATgAdj/3P8nAOn+QP3+/en+Tv+oABMBEAABAEABvQIgBAkDbQCXABwANP7j+zD9zP4R/iL7IfzE/j4BqQMaAfr+cf+hAZIBxf0y+vb7bf5QAWMBOgGPACX/g/8d/+AA+AJyApkAjv7t/AD9i/x9/MX9yABGAoACRwELAcMASgDJ/zz+tP2S/mv/ef+x/qf9Nf0p/vH/nQEjA5ABkf94/DD7rPrA++3+LAF2AzkEsAOQBAcE8AL9Ad8ALwP/AsoBI/8D/Bb+AQAJAeMBpQLKAUIBAwAc/kYACgGmAIT/2P4D/7n/Vv+a/iYANwStB5IF+QKJAFn+Pfyd+pP7OP1c/gv96Prg/UkCsgGC/zX+QQDkAZoAtf/G+xz43/bR96/6Vv02ANIDrATRAtoAGgAyABcAIQCG/Fz6H/e/9zb4UvkI/VkASgWdBUIFPwIgAGz/wwApAaUBCQLvA9gC6v7i/goB6QPWCEsNjQunBpEAifw+9wL4G/v6/ZP/pP/n/5n/jQDn/wUAEgObBfQEHQVTAYT6RPX684j3aP0eBNEG3ANYAN//fQDs/77/i//lAHgC0P+x+MHz8/Ix9VX78gKECBMJWgY+A5YBCwGCBHgGbAeeBacBtv9h/R3+0f1+/hcAjAKrBlYHTQMS/TP6MPvC/SH+fv4T/jH7R/st/br+IABLAgUEzQeUC/YKwwcBBXcD6QMGBgUJEgvDCKQFqAAG/60BegRFBH4AEAA1/7j/5f+v/y4ApADQA3sGZAiWCNQGCAStBM0FiQc6BtoB/P96AHADJANlApQB6AIJA78CGwJ4AFX/DPyA+eH10vU9+FD7pf2a/+X/3P7s/kX9wP1k/gX9h/qI+Xr6mPl99YL07/X79zL7tvyv/Er6yPuE+7n4RvcY+LP6vPqP+SX56PnP+Nf49/qa/qkAfgCY/2H+yvwG/EL8KPt0/KX+bf2x+8L5f/m7+k379Pwu/83/WP1P+xn9jf51/rwAIQKDAQ7/jP6P+3X4Ovr7/tsAxf9bAN8A4wJYAkICcgLfBJ4GYQYEBXEByP5n/ZL9O/5AAU8FZwZvBJsCUwAo/+7+JgF5BZcGggRp/977/vl3+wT/KwBpAsADIgaHBjQEhgIaAa8CKwXgCFgMPQrDBP3/Jf9nAKgC8wMLBFYDOAFdAUEBBAIlA4UFSwhhCQEJ7wa6BLACwQHMAswEcgcZB9YDswP8BH8G7AYvB+4HcwmfCvAKoAmLBjMFYwNdA+UFQAjcB7oE5AK9ASsDdwQ+BWkFugQQBfQE6gQrA5QBsgDb/nf+NwBvAhcB1/uw+en3+fe6+Zb7xPx5/Pv78/ju9vj2QPhc+Y75nPr6+1b8kvow93v1UfZY+PP4Tvsz/Eb6ufc59ZX2LveC9h72NvVb9sD01/Gb7uLrLO7A8or2y/aM9nb4IPog+yv9Lf5W/7T+vPoc+Fn4Vfe287rwN/Do8bz29vcG9tj1EPgg+n/6Bf67/1r/8v4k/tH+/P+4/6L/Xf8fAKIALQHf/xj8c/pJ+iD6vvsp/Jj59vYq9r/4Mfpv/GD+yP4//yYAMwO5BfAH0AvpD4UUsBlIHqwhPCJGIScjYyVNJSIjcSCcGzQV7xKyEfwOGA3zDKULVArSCoQKgQi4Bm0GWAjCCkELfAnxCEMJlAlKDBwPsRDYEBoRwhCTDwMQKA9kC2cIEQgNCDcGnAO8AFb/7P4f/2X/gv9M/kP85vuZ+3H8t/1g/tH9VvyC/KT9Qv3r+4P6Ovkw+Av3RfVm8+jxavHA8HDwRfGN8dbxdvCH8EDyRvWc98b3ZfiB+Ej4r/e59rn1GvW79Kr0S/R580DzWvJZ8Cbvsu4e7xPvfe8f7hzsx+tY65PqUOsx7artYe2f7x/ykPGI8CvyC/VJ9Zv14vQ38ybwcO216wnrvOrg6T3mweFB4ODiyuVV5OTmzvGz/9sKfRIAGAAc2SC8KQYweTI6L+QoziPiHpAcSBjZETwNSgpNC2kL8gjFBLsBPgGHAOsA5v8L/6f7KfeG9WT4svwv/z8B7AP5BRsKMg9aEXIT5BXSGCMb3RqPGrcXxBEIDToLDBBDEx0T0hGoDxUPLRAiEu4SfhIbE68S3RKkEVkOYAr2BZAF1QY0C2cLRginBM0AWQD+AHYBOwFYAMT/9v59/on+jf1b/sb/iQKEBbwGbQUHAmIAMQA4AiUEsgNJAjQAhf8T/uL8Ef08+9f5CPh19mX0LvB+7EvorubY5kXnzumu6/ns0+1i74ryXvV7+Af58fdt92n1OvLK7ZDqeuiw51HnVuUp4grhSOKH423jBeTM5jfoVuYG5ZjmTOUy407kAedr59XlYeSa5Z/jIOHL4F3gCt/83BPhxum494AInha/IX8pJC+cN/hANEiORp1AdTnxL6UlpxtVFGcMTgZjBBEF5AMv/zf8qPsU+nf7p/1k/mX5PPQm83fwgu6v7yn12/hf+6cBPQhEDHQPXBXuHc8iYSdwLAAsfybaIB8egBkKFDUQRgtrBAD9lPcV9HrvT+5T8AbzMvTG9KX1ePYZ+Jn7gwKHC+ER5RXpGpceDyLpI84mlCb6JYQkBSHEG7kUdA3PBjACPv/u/Iv5Q/Yc8oXwP+8G8eDzwPcR+3n9PQBeASoCSgNVBlUJYgsTDWkMCgntBCwAofzo+V34Kfan8gTva+y/6j/qCexH74ry0/T29on4yPil96j1KfQK9PbzAPMf8E/t0up/6Rzp7egC6T3oiuam5Jrirt9x3M3ZRdc41YXUitIt0O3N2stgywrNq8470PTPvM/GzRjRCeLP+b0QPCb4Nn5ArEfmUltiImvtajRj8lm8SaQ09SMDFBkChPWJ8pLwDOgw4DfcC9rh2YDgwOx38CvuVeyq7A/qSeUm6N7t1fHq96cAEwlLCygQxhy6KUQ14D/dSDVKrER0Pzg5iy/NI6sZmRAkA9bz0uaW27/R7MyDzwLUq9Y128vgYuY96irwBfmU/3gEbgj+C0wLigw9E5ga4SGlKQ4xQDgXPAE/Gz9CO0U1Wi0MJg4Yxght+rTr9d7K11jWVtax2NbdOuQN7DX0yPxVBWYM4xKwFwsahRdwE/MPdgvhCKkH+AaCBJcAOAAV/5n9Lf38/A38JPls97T1k/HO7C7qEuqq6aHoCOlu6Njm/eV06GrrkOzY7WbvJ/Do7hTu5OvC54nkAuJz38XaMtWs0L7LNMYOw6rCycEuwQrD8sagx7/G5cbvyB3V1+z2B8gjbTeAQhZLyVOcYwRzf3ucdqBpbFrpQwQvzRzJCjX8cvLg7KPkmNpB0S3MHcz7zwTbcuSg523mFeX95dHkZ+j08Jj6sgR3DKkV0xn9HIwnsjT2QrFN9VRGVrNPT0eVPQIyjyOfFIoILvsY6mHXZMZYufKyqLVKvTfFAcv20DnZHOFI6un13AB/CjwS/BiFGzMZ9RYfFhkZOx41J4gzXznOOBM4xTiGOXU3HjY8MWclpRXwBPD0xeJJ1WjQENCm0TrVOtos3trj0++e/+8OrhqtI3so1CbpIgsfdhpEFcgR8g/gCzcGhQAO/DX5//fB+8j/DQCq/cj5gPX771frcunZ52jnE+eN5w7n9OOS4+jlwOmY7t/zrvab9Fbw/uxf6arleeFv3FHVUM5Mx4bA+7omt5u2M7qxvzHFD8tkzh7QjNJE1iTZ0+XE++AR9iXTN45FD008U2Jfmm0FdcRxn2d/Wq9DeCxoHGENp/yV7jfnKd9Q0mDIhsWKxUXGwc502njgNOAU4iPp8etl8Pr6sQfWEeEXTiJEKjosLDJYPVJJ5k76UZNT7E3HQT412irHHD4LlP3r8crhCs+2wBy3CrCGr3q2DMDuxr7N19c84lXsyfcrBQsSAxsBI8MoMinvJuEl4yhtLC0uLS/KLdAqdSoVLTYsviZJIoYe/BgPECsFePc26DPcANeS1knVq9Yh2rPeKOZl8sUAsww1F3ghrCmyLDsskigIIhsaPxT3DywJDAH9+cf01fFo8XXzrvUW9q33X/o4+ov3dfQS8rjvP+7Z7uzt1epZ56DlTeZf5x/pDusz7Zju1O+c74nsiOkT5t7h/9x42E7TdMyRxV3BzL+VwdfFm87A2dbf0+S56Yvsyu3R73/yEvdF/6AJyxTjHtYlzCwrNtRA+kvJVaVYoFKNSso+iTC6IdsSTAXA9vjpNd9E1SnNDsjNyTbPdtYB4Lro5+9/9Gn6JQHlBecJ4A6iFP4WcRjJGS4a8hslIIEnqyzLLr8uDy3oKXkjER1eFjsM7AFj+OTtq+EZ1WPMjsdIxsrIEs7k04nZb+En7On3XANsDlUYqR9hJVQp8yoyKkIo9yaZJcMiLSDuHAQd1CCBIv4gSx9zH3gdpBm8E7QLaQHi9qLuuelM46bdqd744VfmIO/k+2AGgw9lGeIjmiuxLZwteSptIzYaqRE3CaD9+/MH7rLqbejD5xrqT+2V8ab3XP5yAd0BjAGOALf+p/om9hLwAeqQ5D3hEuBF3dXbptxG4Orj/ud+6h/q/+ip5zTmJOKV28rU088nyjTDA79RvjbB/chU0oTZvt6t40Hnsut673f1Xf+FCxMZtSnjON88wz2ZQfBGNExbTwpPmkaeNOcgHRFmBbT4iO6F6nblb98r3YHd4Nzg2z7hGesF8nT1MvnC+8H5l/c1+uoA/wZuDhgY9h/pIrMjKinYL3g0njkYPMI41y+kJdobNg9AAa31VO2t5W3dD9eG0aXLIsqLzybZLONC7Pn1Bv5sAxEJUg87FNQX4Bt5H5EgZR7NGrEXjhZZFm8ZzCJtK88rgScHJJMhrx3gGJUUjAy3AUj3DO7w43PZb9ca3YTkg+ym9wkDcQmwDnQXFiElJYkn5yigJYkcdhIyCpIApPhi9Lj0M/SV8ZfxZfJG8uDzL/lt/kYARwBOAJn9o/d38mTvwO2Q7D/tcO6w7A3rlupm65TsR+6a8HPx2PCq7efogOAY2IzQHsuFxy7E+MD0vOO7G72swTfLMdrr5v3tn/PA+S36DfVb8U/xwPGc9WwBQxGnHgEnqS+nOC0/V0VfUIpXkFFSRHc0ux8MCoL7V/Iy6f/fvdmw2OzYwdke3Xzkt+te83z+wAZKCc8FRQEl/jn7fPx3AZsGcwkpC28PPxWDHKwkBS6MNoY7FDtsNy4vYCH2EsUGPf338m/p5+GR2tXUSNPT11DgXupT9mQCiguIDyoSzBMxE2oRixAAECkMigbWAUb/Ev0M/xAIbRbbI9ssYDLkNeI28TQ9Mo8r1CBmEl8E1vTs49fWv88d0GnVdeC/7Sf6IATFDQsYkiC8Jkwqnio3JHAaBw//AvL1KuvS5l/lCOeW6SLuEPKY9af7uQHBCBYNew/tDdQH6/9+91nwbepS55zmv+b05ZHmzOfl6UXtZvFU9d73j/lM9hjvPOZt3TzWs85wysjKpskXxLbCx8iRzfbQXdpb51TvD/OG93H6uPYN79/q9up24jHa2t9h7e38dw5gJEMxiTRBOxFIAlQMVu1QnEhtN7MfsQ9PBOX2neqq5TTpVepY7PjwNvTb9dX2Av4CBXYEzACS+6TyPuj64YfisuYB62zyAvxFBw8S7hxZKukzijvgQV1G0ka6Pnwx4CLSFYQKjAIn/jr4h/Hw7g7xV/P29A73J/rJ/Hz+EwAo/m722uus5BrhFN8u35DiCudu7Ob1mAewHEgqQjNRQHtMlFAuTwdKgD1mKusaJA7yAE/wLeMN39fchN8f6Jz1kv5FBB4O4BUkGDAXQBWXENsHXP8d+0r0tOwq6D7pMO5d8m/71wS/DFMSjhZoGxkcThkEFLUMYQNG+Srxmur344jfI9+B4THm8Osu8oP3+/ru/H79aP3B+pb0cewK5BncfdTJzl3KxcYyxv3IWM1j0QDWY9xJ4wrpNu0b8rD1svRr9er2Y/Z/7zTouuGP2frR9sxcyovEB8Yo05rvswvkInQzHTrHPu5DY1HwWOBTrEV2NIsjLhIgCboCqf6T+0f+SwoaEX8WfhWqEssORwr4DOsJtv7Z7NHZlM01xSnE1sgzzVLUh+Ae8sQFgxNHHq4n3DBOPflFikpIQ380PSiMHnEbERfiEW4NoQdXBykIownjBuEBrv/u/VH88fYf7tnhZtVxzZTMX88l0vDVrdtK5aHyAAUCG/YqpjSnO2lGdEz2SqFDYzgvKjQdnhZFDZQExPgv9bf0Mvcf/Q4ClgkdCXkKbwuxCroGSAEI/FH1JPCo7kDw4u5J78nxvfqbAwcMMhWvGZkcxxpyGZsW6g+OB2v+MPfM77HpeuZq43DhZeK355rubPPY9p75kvsT/Jf7efol92/xiezw5/DjkOC83MTbatzf3TzfZOIm5lTm1Oey6o3uA/Go8iPyVu8O7Q7ptOW/4T7dNtum2pHdr92m3jfgpuJl5mjn9+nj50rk8OJn77EEjRjCIw4m1CJiHpgkUDG1OLYy3ShyI3UfWBp/FQMUURGWEZYazyK2JD4c9xR9C84AkPxJ+x/5UOzF3GfTfNAJ1JjZHuDb5pruEv22DaAWAxdvFbYYtR9NI8okgB6VFeUMpQfcCT8JvAflBw4N+xMpGAEcvBozFjURZhBhEDwMOgTi+lzzt+ob5sXksOUe5+/qcfP+/EMFXwwuEZkYpx4IJPMnVyn8JGQcSRepE9wO6AeKBXYBqACJ/4gDzAbpCEUMfQ/AFI8TFxCkCq8Fjf8g/Nr5r/eM8gPxBvTl95v88QAVCI8MXBAZFHgVAxOxDGwGZ/9w9+zwX+uI5jLift/K4BblMetr8ED1IfqD/cj/KgBq/s35v/Rp8bruhevL6EHng+gT6+nvbfUT+nL9bgDwA2UFtASlAlYAQ/zR92X0VPHu7BnpMucz5+LnZukG6xHsqe0/8F/yQPPA8aru9uvb6gjqM+do5MLgDd8e33Tgz+Gz4NPgyuDf5D/xDQGNDoQSuhZoFkgY+R66I/MiGRnnFvkSsBGXDvoKCwu5C5QTphpmIM0hBh82Hf8ZIRXZD6sJAAMy+XnvLuv06rDrUe2u73v3SwApCwUUAhQcELEMVA4rDpYIkgD6+P/1GfZK98T3gvir/DYE4A8RGQ0e/x/yIM4fjhyQGZQWIxIaDRgIUQQMAXYAVAHdAGoBigV4DM4RDxWxExURWgxvCx4IuALk/LT3dfX/8hLyTvBI8RX1q/v7AbAHywrGDdgPyREoEfAOrg2+C/MKVAjbBRcDVgE0AOz/zf/W/XL7/vjV9aDx4e4k7aDruOoD6tzpz+qB7RHw3PFL9K/3dPt8/gcADwDW//D/gQESBKwEXwVUBtAHPgk0CpUKQQn0CJMIzQdNBQsBX/wL91HznfEK8Q/xRfGJ8aDxzPFj83f0u/Rb9Gfzw/K88TnxEO+X7PXsz/Dw9rH86gAdBL4Fgge+CSwLZAqYB3AFsQKh/277sfY/8qvvUO+x8Gbyq/Mp9JbzdPJH8TnxePDB7yHukuwq6i3pnOlj6WTqBu2A8377xwL9B0AKPwt4DD0NZQ3nC0oIKQTFAQ8CCQKOAlUFMgkWDzsVexuXHk4fGyC0H78e+htlGAsTaQ0zCCUEWAIwAnsCFAK1Aq0EIAfwCEEJXweGBFwCAQEF/1T7ePej9C3zyvMo9aj22/cV+c77Kv7PALUCSwQSBSEGqQePCX4Kigo5CiMKFww4DZgOTgzUCugIWwfJBHsCugGS//T9DPue+Tf4dvey9ov2j/Yl95j3AvmR+b75avpS+4b9hP+FAcUDcAWPB58ISQolC1ULbAzqCggJ1AWDBCwCRABo/m79I/3C/R//PgBqAf8BDQQQBiYIbAifCXAJswhTB10FMgStAWkAAv87/nL9jf1L/uT9bf63/+EAiAGbAjADJwNOAvYCUAPaAt4A1P+z/g3+ufxk+wH7UvrW+uz5d/rg+BP4e/YA9iH1uvRz9fb1b/dN+Hf5Lfmp+VT7SP0x/dv84fxi/WX8rPsO+yb7D/wn/TX/1ADUAtsDhwX9BSoFdAPZAVcBiACe/9b9jPyV+1r7CfyY/Eb9Jf9IAJ7/IP5i/Gf77Pnl96b1kfRw9Bj23/d/+e/6pvx6/0YBcwIPAqUAof9u/kf9kvul+Wv4pvfK+ID5Kvvc+8L8S/1l/VH9af1y/QL80Poh+Sz5WPke+nX5DPoy+iH8Tf2f/pL/AQDXAVEDDAYSBn4GJAXfBHMELwXoBBADIwEHAIz/cv70/l3/tf/g/+YBAgTXBSYHVAeQB2YHDwcqBg0ErwAR/dH7Hvsf+9T7FP1O/gkA3AL1Bd0HAAp3C8UMvwxSCz8LpwpgCnQJDQlnCNUIAQljCZoJrwk0CuIKPQt7CsIJiQitB3wGfgWCBEgD6gGuAMX/s/6f/XX92vyE/Jv8zf12/sj+4/6g/u/+Gf/L/9P/Sv+a/cT8sPy8/Oz7b/vs+vH6ufuL/Wv/dQCJARoDOgXBBckFTwW7A2kBYgBo/wP+Avzb+n76a/su/B3+7v/KAFMCkAPMBIMDHAI0AIn+j/sZ+ZT3ffZk9rz2CfgN+Vn7Bv0h/2YAcQF+At0CvgL2AM7/Bv6h/KH7Svsc++L6RftL+/D7XvwM/er9yv6J/qL92PxL+0n62vg5+Oz3l/i6+XL69/uo/Sf/FADWAUIDigRFBTkF0gTQA7MCywFnAN7/V/8L/9n+uf72/vz+PACNAYMDugR9Bc0FcQbjBhwHfQZpBTcE+AIzAucAFQCL/uT9i/3r/Rv+jP4z/3n/EQBhAH0B+AHkAU8BzwAMAekA3wBoAG4AMQF7AcICSgOiAzADBgMiAwcDpwIoAfT/H/6B/YX8n/z8/D/9mv3r/psAeAHFAj8DgwTYBBgFBAShAg8CZQGCAD0ASADy/+P/tf4N/lT+Rv/f/9z/GQBAAMUALAHAAGkAkQDuALoAMwDk/+/+2P1K/en8FP6a/r3+oP5l/i3+6/0E/g79p/xW+x37i/tz+tr5h/mH+VP6Wvvo+5z8Xfw+/Lf8Evyq/D/8CP2Y/Lf9m/90/zD/Kv30/T3+//9z/oT+AgCbAZsEkQTVBcEFfAefBjMFwQKU/6z+GPz0+dj3zPjC+un9bP6H/gkAdgC2ATgBjgDn//oAWgGyAVgBsgAxAmID2AP7AyQFFwYOBoAFYwToA4cDnwN/A5YC1gHeAD4ALP+d/e38Y/wW+3P6D/vu+4H8lv2+/ksAewFLAh8CwQHPAD4BZwEwAJMArQF2AyAEPgRtBH4F4wbQB2kIZwiKBzYIhQdMBmsE/AJrAhcBBgBU/RX83fqS+XX52fn5+pX8iP67/8IABQLiAX0CTwMeA6kCOgEAAHEARAFuALwAkAIWBBMGHAcpB4cHmwdOBjUFLQMcAX0Abv9O/pP9WPyW+/v8lv3W/R/+Uf8NALn/GAAAAPQAjAAMAN7+Hf2V/Av8f/uX+uv5l/ky+u76LftW+hr6Tvm2+BD4pvbu9dD1CfVU9SP1NvUm9+/3Q/g5+ev5YPoL/Oj8ff3h/vn/HAG2AowC5wFrAe8AMAA5ATUBSgElAoAC2AKSAn4CzgLyApkBdwAAAHH/X/5I/Qb9qf2x/jEAjwCgARkBfQKDA44D4wO9Ay4FaAUwBeMEHwRQBCcEZAOwAhMB6AAtAGb/W/6g/oz+bv8AAPj+yf5G/4n+vv0O/RT9w/23/X/9L/32/gP/2v8AABYAHAGkA9YDZAPlA1YDTQS+BIoEagRVBNcCJAKRAl4BQAHLAFUCGwLkAe0BZQCfAoAABwDu/uH/4ADuAeMADwE6A5IESAUbBHUFMAXfB6YGCgdRBdUFaQYhBo0E8gMsBKoEPQV9A8oIcAaBB7ICjwKuA3cDxQGg/V3/EgCCAgIB5wApAHYCXwCBABIA/AGQAfT/NP40/U4A/v+v/1r8Qvt0+uj5e/jh9yv4r/m2+DP40vjL+Ej6xvks+YP5B/s4/OX76/se+8j8DP8//hL+svy2/H//7/+y/jH+bACMAlkCCwFv/wMAuAAd/4P8e/su/LT88vli95P3vPki+9H6jvoo+/L+JwC9AWgBrQFrAkkCSwPUAREDwwInAp4A3P/S/6oAYwJLA1kDjgQPBQoGXQWaAsYC+QIiAyEBYACl/h3/uv0e+0f6QPwF/4P+O/7N/ZH/Tf9g/pz8u/wC/gv+Dv4a/Jj7xfvj+8z9tf0h/Gf7rfv2/bX//v7o/DP94v5c/5f9Vv3F/N7+tP8Z/xcAlABTAgEBzf9AADwDSQU2BgEFYAUpByUGeQQtBBQFngMVAcT/ZgBXAi4CjP97AHj/ogCAAtD/KQAtAN4CewJVAEcAMAF0BNIBOAAZAL8ApQLxAvAArgBpBNUEjwM4AhkD/QNIBb4Bgv+K/9wAoAKGARkAqv5QAbP/rP8P/xn/Af/J/qz9e/zZ/b/+Pf59+uz5XfoZ+5j7F/tD+7z7Iv3F/3kAmQDUAEMCgQI0AtMBswDxAE8BewGSALX/8P6P/yT/IP15/S8A9wLXA1cDEQLtAq0DTQKKAYYChgIEAbYAf/6A/Y796vxx/p/9tfwQ/tP+6v9I/63/6P+S/7r+1/2Z/Q78Bf7h/l3+MP0FBAgHWQRKAZr/YwVIA2QDdAGBAigFqQZ7BocD6wOwAbQCvADDADQEDgQFBLYB8gDnAfUBWwEBAC0AD/9T/tb78vvy+kf7iPpy+DT6UfqF+x/7b/oP+wj9cf3m/N391P/E/+f/mP/+/pz/2/9k/63+DwCTARAD7wIVAhACWAFhAYUC0ANwBLAE8QNzA5cCkwADAMn95vzH/Sr/bADD/6//av6K/lP/t/5F/qz/ogGCAfz/Mf7X/aL+k/1b+2j8OABDAR8AXf9p/jIAagIYA14C8wBsAKQBTgI4ATAAdADMAAf/Dv7C/Tn+igAvAAz/xf8gAGUAy/9v/oz9Of6A/r/9gP2B/nH+Bv/O/93/CABC/wwAZgDLAewANQDiAGQAKgEHAdkAzQAuAgUC2wARAM//6P/TAKQBoQFvAjoBdAESAXYAXwDgALEBkQAhAB7/TgCgAYsBZwFVAMT/5P/yABgBlgAgARkBKQKSAc7/HQDd/9//Mv+S/tj+TAApAAAAx/33/Jv9sv1+/zb/zQA3AOX/Ev6X/YT+xf/gAMT/SAArAGIADQDQ/0v/GwDUAIYBbwFqAIAArP8J//T/DwA9AaMBngCD/lb9uvyP/Hb+k/74/+T/rv+u/xX/Uv75/u7/hQA8AlgCawFVAJf+5/yV/Nb8U/47/sj+rf9jAGAAjf7X/Yf+HADc/4H/+/+I/8b/zv5S/v3+LP4E/5//yf9k/00A7wCIABsBqAH4AnoDLAJgABgAOgCwAEgB8wHYAZcBtQA6ANr/ZQC0AIkB6QK6AlQCigG1AI4ACQGkAGMC9wFMAdIA4P/3/ygAAwDIAJ4AGwAwALH/LgBH/3v/vv7c/uT/GwC+ADsBUwAOAPj/LwD0/9AAkgDD/17+/Pxk/uj84f2P/gMAcwAn/9n9qPzS/Iv82P0h/xUAUQB3/6T8Lfs5/OD99v+6/7T/6P4L/5P/Yv7L/V39mf94/4L+IP8FACUA6/9U/0L+N/8q/zMABwELAYoBXwFqAn8CKQJLAUcBRgFQAegBEgIdAlUCbAIDArABIQCgANcA/QBHAHD/4P+HAQYCvQBsAG0AyABSAO3/H/9XAC8B+gBdAC7/UQDx/+P+Hv7//44BYgBNAJ0AHwKQAZ0AUABlAXECfQOdAY0BjgKNArwCuwExAhgCswPTATEC0QJ9BHMEugLOAQ4CwQMQA8YDCwJoAy0DUAOoA24CawM+AzgDGgIVAswCbgPFAtYB5wGxAXoB0gDnAcoBdgGeAaABwQEIAjQCDAFoAWgBYgJLAVb/AP9jABsBuf9V/yT/YAAp/6H9Sv01/SX9tPvd+ub7zf0p/WX7Rvlf+fX5ZPn99xr49/n5+TL4tfTi9KH1ofVs9Cb0UvVE92v1GPNq9Kb1KPbu9AD1mPMC9Wz2mPW79br13/VR99H2g/YO9zj3cfjr90n4ivmD+Zr5cPl3+U/5Nvmo+qr7ev2M/kT/Yv+p/sz/RgB2/8oAtADAAsMDdgO1BKoDRQUxBecF2AVLB8MI7QkZCx0LiAxTDT4PLg9QEVURqxJJFIoUFxYNFmwYmBj3F7IWVxbaFS4V0BW0FLcU7xNaE1USgxA9D3wNBww3C54Kfwm9CJEHjQVNBDADgALTAR0BnQDx/6L/Pf+z/mz9KP2C/M/7Lvyn+yv7UPth+377Yfsb+3L7//sr/C78Dfw1/ZD+2f1M/Rz9LP07/EL7GvtO+8z7TfuJ+tr5Xfr2+tD56Pcu95T2QveR96r2NvYg9efz1vLq8gHyifDp7xfvgu6k7kLti+wu62/rKeoU6iTpy+fE6Krnvugw5xHpZ+hw5wTnLeWQ5aTlMeOg4sjfyul1+A/6VgGs+bHsUeV66LDyL/4SDN0N0xHyDg8MaRCcD6MQKhMJFGcZkyPKJtUpniSGGi4bDB/IITAjmyKoHq0caRyFHaId+RhhFTYSDAwICt4K0AmPCM8GtwNDAvMAFv+I/tH2UvKF8mHzofY39s32SvV38unxbPGy9Cf5Xv0xAFD/YAAdAJUCrgbnB5EMsw6oEGsSNxOJEvoSwxRbFeIXOxiwGtUZUxnUFbUTeBNIEhsTFRAJEOgMmAvpCLEHbAagBNsDcv83/cL6afoy9/33aPhf9n72pPQC89zwBvCU75TwC/Hf8oDzhPP683LzB/Nf83v0aPQ29Yr10fbA9wL4APi++Hf47vjO+HL3Ffg19tz17vWJ9Mr05vSx8gvxJPCy7Y3sweqi6UzoFuj25q3kvOPQ4Z3gg92s3HzcvNxw3HDelNsp2kXYBtdF47fpjvRx+EX0neto47Lm/Ovs+zwHUhDiFJ8R4BI+FlYbwR5aIP0gzyYULfEzjDiuND4xHy8KLxUwCTNoNCMwBS07Ko4qTCm+I8welBXsDasJuwfJBnkECQFK/HP5v/V09CTyRu1B6lvoE+nC6trsCO3t65Lpj+gJ6Xjq1ewE8MLy7vQG90b7+/3l/zEApwEsAwYG3wchDKgYKRVcGC8ZChUuEZsUkRevGH0edR6CIgwafxtSF40Thg8jEIoNfguSEBwLNQ3KAj8C/v2j/U/9+f20/7f9jwAI/Cr/v/tK/nj79Prb+aT6k/wl/MIANf18/qT7VftX+Zz6RPnp+IL6NPrr+5/5JfnM9RH1WfIh8yjyjPLn8lbwhu8C7Tbrj+kK6tLnKujD5Y/ke+P04M/f5d1B3tHbktzT2m3YQ9k22P3Xo9eA1hbVeNQv1ODT09PL0mrSZNuK5T7uJfjG9pfv/uqG64/0agf5Gdcl8ymnJZgiXCMvJ1ksgjCJMCk0zzgEPPFAID3DNfMv8yymLSowxjDkLNgmPB+2G0IaYxZBE2gMZAPV/Q37ZvpK+jr4tvMw8JTsYOvn6wPqCenj6AjqleyG737xBPOM8yDzCPUo9oX4lftF/bz+hAB/AtkE2AbCBqUGZgYVBpAHZwlmCqsK8Qj7B6oGRgdvBlULfw6QD88RVA4oCycK1QweDMcRvxLtFFgVERQ+FBcS6RFLD8sQSwyKD94PfxGcEV4OEw24CX4KHgg0CqEGoAe1BooGqAa6BaUFVAJpAkr/TgCX/qn/AP93/sL9G/wD+2/43veR9L3zs/GU8Yzw3u8j7uHrH+u36bXpQeie54LmyuQZ48DiLOLl4Xnh5eDR3qnbwdrh2SXaZNp33Fnb09qa26rYlNiZ12fZ/diY2szalttt3GLb9tzu2LfXMtZT4A3qV/jdBQIEtQFT+Lf23fwaDjogDC2SNQowYy3fK/gsUDA3MaUwVDGiNFA69j9TPjM4ny88KI8lJSaeJdQhcRtCFEMPPg/UDG0KpgQl+1z0IO9c8Fzxo/FA8E3tBOq06EbqVekO6UXoZeh96lHvnvOc9gH56vh0+nD8lP4CAeoCugMBBGcFUwgZCzwNcQzlCjsI5gZFB8AImQsoDY8NtAwyCgUIpwZOBpELlQvfDfQPLg6uCwYLDgq4CNcMJA8vFEcV5BdyFokT9g85DTsNZw2BEesQGBNeD3QOvgsACbEI6gYZCKIGewkjCJkJfAkrCUQIfwUaBE8B7wDu/h//of07/Z78R/sM+Zr28fMb8envrO4T73fuFe9n7irt5upR6avnGeYw5kvlceUE5pLl5eVU5gXmBue95qHlleQe5EnjUuP95JbkEuUz5TzjDeIC4TTgjeCw4frhwONk4QTg/t223GXci9u92jnYiOBG5wL0JgCsAtQAo/oS+Sr8+gscGwknLixLJ5cl8yMnKNcr4SxNKMEjjiSIJhIvjDGqLl8ppCHwHRMdXxyeGEITbAzuB6YJjQo2DHcJ7wEv+hb06/ER8iH0QPMS85DyT/Nj9TL3Zfi997D3F/bM9+P57Pz7/6wAaQIQA5kE7QXLBuEFcgMnApkBJgNGBsIIAQs3C5QJRwejBFUC2gEKASMCpwIYA9cD7gP4Bg4FOgYfB8MGXgZQCCsJMAnUDTkP1xJBE7YVpxR0E30RGA8LDzoOQREyEW0TnBFJEikQrw4DDfIK0guFCQAMagsrDGEKxQmHB8kEJgMQAacAv/4M/978svww+2L5p/cM9uvz3vIt88HxivGk8FHwgO/j72/wv/Aa8Mnv/e4b7vLtL+4575/vkPBV8Dvwvu4k7gntv+sK7LrqEuuC6Vnox+b65X/k6OF84fregt4C3ibd0Nu22fTWFda81YbWGtgn2M3VjtPD0NDR6NhA4JbuYvj6/okBzgFFAjYDLgp4Du4VpBq2Hj4kQCn3LpkxdTGSKxonXCSUJV0qai4NMfcwui61LCMq/yUwIrMcQBeQEjMQgA5CDHcJmASe/7P9gvzm/LT+Fv6H/Ln55PZn9MP0C/bd+Mn8fv4YAOz/BADq/w0A8//E/wr/G/4w/6//VQHxAx8G0gb8BmIGugT1AkABi/8y/qD9//79/2EAXwAd/wP+sfyD/RH+Av+5/6kAdgEOA4QFGwcDCSoKdQtNDecPDxK3E9ISTRLkEVwSNBRaFkYXxxXvFBwSxBC6D3EPwQ5RDS8MPAr+CJ8HWgdiBZgDVQFj/+b9vPxd+2P55fdn9Xb0NfP58tvyAPNg8/7yYfIa8iXynPGJ8ovyB/MS9Ov02vUy90H4Zfjo92f2L/ZO9pr3R/kw+vz5OPkB+O/1cPQj8qzv1uzU6grpEuiu53jn1+bH5Yzkc+Lc4E3eEt7p3PzcUt0l3bHdD9103ZzciNvz2cLYTthB2v3dIuX87NH18v0OAwUI8Ah+C4IMgA2pDyUQIBM9FnobpSB0JGYmLCXrI4giiiNBJk4n5CfYJHwf9hryFu0UJBQ6FZAVNxWHFHcRgg6iCzMJfQdnBRMEXgRUBQYH8wcfB08FHwMaAvwCCAWtBQoG2gT+AZMA3/+s/1P/pv7F/TD9mP3p/r3/dv8j/hT8Afpy+Dr3qvXN9In0WvSB9Ar1ZvSj82rzdfKS8tXznvU9+A/7J/4OAeYCKwX3BhAI1wkrDO0OABEPE7UUfRXKFn4X9RcBGEIXWRfuFv8WQReYFvEVHxQyEgIQ8w1mDAMLZwoYCg0K8wn+CLcHXAa8BCYDRgJAAmQBOwHCAN//0f84/3P+hv3Q/J78t/yq/EH9vP13/dX9Ef5y/Rb9HP3G+4/6w/k9+CP3gfZE9s31efXi9E30YfNV8vfwJe9w7Rns5+qQ6R7pN+i15/zmteXF45jh9t9/3qPd39yN3NDboNvr2pDZTNhZ1VvT3NDuzsDOOc6az7HSKteT3prmnO0n82b1kfex+KL6cv1D/50C1wX6CjUQcRRJGDkarRzWHxQluCsYMb011jZSNbEyPy8rLWwrGiurKgwqeSnMJz4mJSQLIvMfKR57HOcaeBlOGDAWQxPeDpgJjQQIAGT9ifvG+rT5x/h897z1X/QQ8//xU/CV7+Xu2+0T7iDume2f7Bnr0uhQ5tfkmeTX5V3oousX78bxHfSH9d71jPYJ95T3t/jN+jn9pf+ZAqQERAYOCBsJKgu5DUUQNxObFWIYzBpJHDMdRB2YHB8bCxolGTIZUxqNGukaQxrXGPMXFBcQF2IXURjSGBcZRRkVGIkWwRSFEjMQOQ4EDSkMeQsTC8oJDgiMBv0E9wNXA6oCuwGoAMD/M/6n/Ef7dPmi97D1bvOZ8Q3wLe7p7LHrqOqS6pLqieru6VzokOYs5EbiHeFb4E3gReDv3yvfJt7J3A/cRtvX2rbaUtqS2rTaTdun2yPcaNzx2+7bUtsd2yTbyNqk2v7ZE9kh2fPYKdle25PeAuVP7SL1g/x4AFsDuwQSBUAGjQWuB2ELLRBqF1gc8h+sIKwgMyJTJKMpHy4lMng01TO3MsAvYSwKKWclEiOdIbQgtyDmH+IegR1PGxoZpBZMFIQSsBA6D/cM1Ql1BTABJ/4o+xD5FfdP9bHzY/Jd8YHx1PHO8eLxXPEl8b3wrvBm8C7v+u1B7PHqfuqX6sHrYe1Q7xTy9PN+9d72offh+J35jvpN+/f7Wvwq/f/+lADLAhcF7wb/CEwLqQ7oEdwTARbVFmQXrhgeGRIaKRpcGfsY/xjpGdwa+BsXHNcbZxvOGtAaCBt6G1Ab8BpFGmwZRxjuFt4USBL6D5UNiQtcCswJCgnOCD4ImwdeB9AGMwZhBe4DtQHj/wv+Lvyw+uj46/Z/9KvxWO+j7bfsYuws7Czsz+up64vrHetv6kXp/eee5gzm0OV85f7kU+Ql4wriguEo4XPhv+Er4sjig+MM5CDkjuPO4vjh4eEa4g3iFeKH4eHg8t8s3//eON+Y3+LfWt+Z3uXdId0a3SfeAeGL5eXrY/It+LD8o/5RAAkBJQJtBIIG1AodDzoUPxkKHIYezB+BIT4kUSjvLGkwKTNjM9Ux4S/5LHsqqygeJ8cliCQwI5Yhyx+pHQEbXxhCFmgUwxKbERAQdw2sCQUFigBe/P34c/a79HvzqfJd8jnyEPLL8XbwUu5R7NHqqOqJ6/zs2e0j7gruf+1i7Vvtzu2h7g3wEPJR9Pb2Iflo+kf7Tvz9/F7+9f/iAUIEAAeTCT8LEA09DoMPsxATEhYUAhZ1GBUb1xyhHocfax/8HuIdKB3iHP8c3BypHP8bGxvyGt0a6hr8Gv0a3hpyGrEZyBibF94VEhQbEl8QIw8DDv0M8Qt+Ch0J8weVBh8FiwOjAdb/Uf51/Jb6xvgz92f1EPSU8pTw0O7H7Mnquegb57LlluTd4wjjYuLv4Y/h+eDO37DeKN2C27naIdr/2W3aPdvb23fcvdwm3Krbl9vX2/jcr97U33jh2uIQ5B7lSOW75ZnlEOZJ51Ho2OkB6/frIeyQ6zTry+r76mDr4et07D3uvPAw9CL5M/3xAL8DjgX5BsYH6AmOC6QNxxDWEusVChijGfIawhtXHnMhtSW/KZ8sMC4eLVwr0SivJVsjMyGqH7UeJR1hGxgZixa+E7gQiw67DGYLeApCCbwHkAXgAjYAMf0g+pz3zvVQ9KPzIfMj81fzj/P+87jzs/P+84j0cPW09sj3QfiG+Hv4wPdd9xj3P/cL+Nj46flT+4j8wP12/hT/8/9eAOUBKwPGBIgGPQiaCh8M5w0jDzsQAxKSE04VVxctGfEamRxTHZgdox2+HaYdyh1uHtkeXh83H3ge+hw5G7YZGxhgFxgXVBeBFxAX6RW/E5QRAw9TDLIJ9gbSBJgCXwAq/sX7p/mO9xr22/S68yLzFvL68DTvOe0164fplOh652rmO+XT4zziKOFn4A3g89+I4ErhJ+Ke4+Xk0eVD5nLm8OXk5WTm2+a350roxOiV6XfqTuth7EHtNO5M70bwg/E98g/zgvMV87nyCfI08c3wYPDy74rvl+/L78jv9O8374nuoe2o7J/sQOws7P3rpOzv7ejvm/Os9hr6mPw5/sb/YgBmAvIDPAWXByoJpQvsDc0P1xEIE14V0BfUGjYexyDCImAj1CL8ISAgnh5WHawbqxoGGdwX2BarFZQU4RJDEZ4PPQ6kDSQN9gxGDC4LuAmtB54FjQPpAZoA8v+L/03/XP80/5f+gv1y/NP7lfv3+4b8Ov3D/b79Pv00/Ez7efog+gr6D/p1+hv70PuL/Nj81fzM/Gf91f5wAPACUgV0B78IpgkTChgKjQoEC0AMHA5IEKgS0hQ3Fj8XFRdrF8gXaBjAGRwaaBrRGaQYFBe9FLESChF0D4kO9A3CDUwNdgwkC2MJfAd9BS4EJQPUAY8Adf+c/dL7RvqK+FX3ZfZa9YP0+vNi897yKPKR8fvwFvCp7//um+4V7k7tV+xA66bq5emN6Uvp4+jZ6A7pk+mH6r7r0+zV7ZjuKO/K7wjwc/DH8O7wMvGQ8RnyavKI8pbyq/I68+PzbvRa9er1hfbW9rH2ifYe9gn2OvZY9mL2IfZm9cjzBPKJ8NPuou3s7IHsx+v06rXpXOiJ53/nZ+ks7D/vXvJT9F31ivVo9YT12vQc9jD4K/sj/98BpAQFBgkHOAkfDHsQUxV6GQ4dwR6rH8cfvB7LHSkdkh3uHTse+x6PHpwdGhwIGusYeBjyGAkauRpIG/AaUxlGF7QU6hFUDwYNzgrgCP8GHQUrA1cBhv8q/nX94vwf/X39v/3N/af9H/0s/Cj76vnJ+HH3ZfbC9VH19/Ra9CX0LfRw9DD10vbH+ML6TP2r/18BbQMMBa8FVQb3BvwHYwg/CaYKcgu7DFMOpg/TEFAS5hNTFeYWJhh3GPIYmxi3F7oWgxVJFLMSNhGYD1gODQ3zCzYLqQodCoMJ2AgCCPsGfgVDBMQC6wDQ/zz+Nfy3+qT4BvZP9LbyRvHD8FrwYfBP8Bjwyu/F7jfuuO3l7JfsbOwF7O3r2+t462frOus765nrbOxe7VnuZO+e8G3xRPJ482P0r/Vc9s/2FPf79rP2ivaR9k72AfZe9s72Kfd59wv31fb+9hj3Nffp9pb2+fWI9JTz/PFN8GTvpe6U7oXudO6W7Xnst+sw6j7pyej+6DXqA+y17pTwCvIw8+rzNfS59Fv28/cA+lH8Xf4cAO4BzwN1BQUHmwmeDDkQYRThFxcbSx3fHp0fRCDUIAAhlSEkIn8iliJcInEhkSCEH5keEx7RHdMdpR02Hbwc5RuJGhIZLxcrFVATfxEeDzkN5QpYCPkFrgOXAQEAKP8q/pH9ovy4+3v6M/n69272VfV79MPzIfNW8i/xhe8l7o/srOuF69fruOxZ7UjuEe+3777w2fFg8+j1ePh8+xj+1f9PAXwCRwOcA1MEAga4B6EJ1wucDeUO4Q/+EKsRdxL6EysVDRbkFqYWeRUCFCcS7Q/mDT8M4gqKCRAItwbRBP0CnAGAAP//qP87/2f+VP25+wn6s/iZ9xP3P/ZH9a70o/Pz8lbyw/E88g/zePRj9gX4Q/kS+tL6Mvuo+8v8i/2V/mH/if88/8H+Rv7a/Sv+xP6L/xoAZQCiAMkAqQBFAAUAff+Y/tv9Gf1K/Eb7CPqf+Ev3Lfb89Cr0YfO38mzyNPI+8lryS/L78ZPxA/Fu8Pbvve+9787v5u+J7zvv4O5z7mDupO4r79nvYvCy8OLwePBL8ELwT/DW8Knx1fJM9Mz1Yfee+Mf5Qfus/H7+tv9yAYUDVQUaBz0IkwngCl0MoQ7KEEsTCBZAGHcaNxwGHk0fVSA9IY0hsyGZIRohQSDBHiYdXRuVGekXBBatFNgSKRGeD/oNpQw7C4kJ+wcNBjkEFwJNAAP/6Pws+0f5Z/fD9VL0BvPb8cfw3e8c79juG++D78/vTvCr8N/wLPE98V/xZ/F/8VzxgfEV8uTy5/Pc9KD1hPZu90z4pPkP+/382/5RANcBLQNxBJsFUwbsBokHKwjjCJYJkwo8C48LpAsZDGsMsgzfDeAOlw9EEPwQVRFtEaoRoRFtESkR0xB3EJAPiA6LDQwMqQqtCWYIewf+BooG4QUXBVEEnQP2AmECKgJ0AdIAOABc/23+Sv0V/OD6qflk+GP3q/bq9UP1zfRS9Lzzh/N08xzzDPPL8lTy//Gq8VnxAPG18HfwOvA88D7whPDi8Dbx9PGx8nnzSfQ49Q/2ufaa94H4EPm5+Un66/qc+0H8Hv2S/Rv+0P5v/wwA7ACIAR4C1wJ0AxAEfgThBAcFFgUeBRUFEwU7BUcFJAXmBMgExwTFBOgE9QSYBDgEpQPiAisCwAFaAd4AqgBhABAAyv9G/8D+Pf6C/S39zvyd/Kf8hPwv/Lz7Rvv0+tH6/Po1+1/7hPua+4b7k/ud+6z70Pv0+4L8+/xT/dT9Z/6H/tz+Nf+7//L/HAAhADgAMAByAG4A/gBTAVoCOwRFBB8FAwVBBUwFgQXDBRIGcAbDBlUHggckCFsIUwjDBzEHtgaGBgEGWgX2BOgEjgRaBCgEcgMOA7sCPgKdAcQA3f9b/6r+Cf49/cj8Ffwg/ET8vPz2/SL/EACKAKADQAX+BosHvwfWB+AGEgetBsoGsQb5Bo4GzQb+B/4I4AnfCvIKQQtHC/kKmQrYCXEIKgfoBZoE/wMyA4kCAwIGAukBXQIsAjMCAgJVAbkAawApAP7/4/8c/4f+P/6N/rr+0f7Z/ib/qP/y/yUAKQARADcAIgD//w4ACQAVABQADgD4/xoAJgAKAOf/Z//U/iT+L/1R/I/7SfoV+Uv4dPex9uH1xvQX9G7zufJk8s3xFfH+8GvwdO8P79/u3+6V7l7uR+5d7pvug+7Z7abtj+357PLsF+4l7qDtf+2M7WPtgu067mnubu717d3tlO4n8cz08vid/YwBfAXgCp8QSRZoGtgdvx8iIA0gDiCbHzgdrxqMF3IVhxMGE6QSqRBADhsMDQpQCPEFLgKS/VX4zvNI71frd+em46Tgs9954DXiY+Vt6Jfr9u6c8jP3XPvu/jwBeAPLBfQHswqYDOYN0g4EEF8S9RSZF6cZ8BpPGy4bkhqcGOkVUxJxDjMK2QU/Asj+lvrp9in0UfKb8YHynvMC9Tv2uPjY/c8CBwcJCooM6Qy/DeAPsxFyEugTVhbVF2UZkRtRHGccIh3SHIAcGBwsHPAYyhOyDUUIGQQdAe/+Jfwz+0v7y/xp/Rn+3v68/0wAdAF1AnwCBQKwAF/+b/s5+qj5uvm0+WL60frK++j8Ev1S/C/7efoe+vn55/jE9xH27fM58vTxBvJB8qnyVfOh8xj0evTL84/yXfGt8JLvMe6F7HvqROgX5g7lPeUk5e/ln+aY55fnEOiR6PnoPukR6Ornt+d26KDoZ+ib52PmxuV45pPn9ujw6F3pKuiM5cbml+3e+W8JjRujJ1QuHjLJNbU3/ze8Nz40by66KOIkvB94GlgVthCUDfkNtxFyFWcVUxCABnb7kvHd6G/hY9nz0d7MGcyuzgzSX9X42RPhTupk9wwFYQ9cFk4aPRwSHKUc6R0IHggeKyBLIwEmIikXKuooxCZtJVclzSQoIskbPxL2BlX8EfIS6XfhYdt52HrYPNoR3L3dGt+B4Gric+bm6s3uYfLU9D/1r/Xj9sv5b/39AbYItA/kFrIdgiJEJU4puCvkLgMxzjCzLSwpAyM1GzcU0g0SCOwClwDX/jv9Yvsj+sf2YPVk9MD1IPfT+OH6HPtG/Nf8a/61/wEDQgY4C5QPIhTHFjsY2BfMFqcVsRS3FLkShRE5DpILgggaBo8DmAFDAOP/Lv8v/dn6lvYN8n7tbur75xznzubt5lLnxud/6KPobejD5wHnWeb+5TvlieT04gzhaOAX4TXjAeX95h3pc+qG693siezG6vno5+YU5STkyuPq4fvebdyh2SbXq9ZZ2IXYJNnc2mvb2tpv25vicPBnBZYeXTSGP3xCpkEtQUtBmEDgPEY2Ji/3K5MsjyzjKnUl0B8SHHkdUiGYIqUa3gqC9zrmhtmH0NTIZsASu2O9C8iV1K7fl+a06xPy8/xCCqwUzRkUG68ZOhjuGMMaPByqHCYf1iQOLYw1eDrAOEcxQCcTHlIWsA3gAtf1u+iN3uTX1tMd0RrPzM8o1fXcheV+7MjvBPBu7kzuPu+68HPzDvf/+gkAigeuEIUY3R5bJMIoay0gMTU0vDJmLfElWx9mGasTGw+TCYYE/AB3AMH/Dv67+mH4vfX99Lb1kvZ49lX2NvfW97r6h/9iBhcM3xHUFo8bdh88ImQiPCCwHcYcXhyLG38a5RffFQcUQROQETwPqgsICIIEYQFo/l36/vV28dPtIutF6vTpV+qF6mXqNers6frpU+kD6Krm3OXm5ejmF+dy5lnlQ+Vt5nTozeoU7YbvxvDO8gvzxvHY7vvr4OkY6C7nZObq5evjS+I832zcstkQ2WPYH9go15LVBtSn0kfS8NAt0nrTjNUt1gLY4t2P6w7+hRWyLCo9uEY/TBJOq0vISFNDBD0CNFAu5CnGJjMkDCJBH2Ec4RrJGpkYdRChBFv11OUN1wPNJMX0v7q+9cPezdPZ/+ZQ8gL7qAETCOMOmBSEF84ZQhoyGgUbpx0uIaMkVyl6Lww1PznXOjk3+y0OIYsTHAY6+nvvyeaw3zLbaNoi27zcW96Q4EXjAuYA6THrQeub6bXnjOZM583qoPHS+n8EGA/VGUwjFCp5Lf4t2iv1J3ojlx5hGL4REA3MCv0KZgzxDn8SMBV/Fs4WlhR1D80JAwQ9/yb7Rfk8+QL6Q/zu/lADLAkTDz4U+BdsGXMZYxgYFdIPXQvsB/IFmAYyCU4MDA9SEgQUJxQpEzIRgw1YCf4E5wDc/dj6efhl9jH15PQm9Xz1S/V58x/wt+sq56ziXd853QvdOt4L4XTlrOkD7TDv6e8h7+btiuxK6s7n3ea+5X3l0+aL6AvpWuoQ6wDrBuqz6TnnCuIl3BDWj9CtyvbHgcZkxiHHvMpyznbR+dLp0yPTGtCN0yfjPfvJGNY2B0n9TWhKXEUUQbI9ZzpvN3czaDB5Mbk0mjRtL4kp9yJHH+8eRh4YFKX+IuaCz4e/pbiguFK7kcCXywjc9uve93P8B/zf+v/8IwRtDMgSRhWTFtMZkx87KBgy9DkCPwpDF0a9RLc8AS5SG6UIpPuG9XbzH/Ga7THqyuZS5Fbi+9+Z207XWtbH1zXZ8dlJ2pDakdxb5G3xKgAlDloaVSKqJqAo6yjEJsgioB4/Ha0eRyHZIy8keiYiKD8rly07LR0m4BwsEc0DOfgp77bp1eUE6QzvtfnzAlULoA3FDC8JSwaWA2AAtf2J+zX9MP7jAgkH4gyBEJ0WAxpmHAMcYBh/EEMG/v5f+f/4OPoY/5cCbQgeDZIQRBDVDRcJ4QKB/br3MvOH7ejpVubK5fHmAevH75TzhPZ696X3zvSO8f3rMOdo5MrkYOfg65PwwPPq9hH5aPs4+2z6/fZ88lzsdecL4kndeNnc1nLVE9Xe1ZTUmtKgz3XMwMctxgHEtMIGwJPAocCBwvHE/ssM3LnyEhNoMwNKek47SWw8UzEtK6Ir2yyBLRQvAzVQOqQ9nj3wNpUs9B+FGhgT4wjU9VjehsevuAy5Z8KEzYLXeOGI7Iz1ufvq/Mv1ce8a7W300v+9DMIYQyGIKNgwwzsFRhFMd0sVR14/SDYHLEMfDBAPAuT6Tfv6/hMCHgE2+1jxaOcL32TWl86wx0nFDsZIyuTRmNlk4TnpYfMY/sMH/Q8IFJYSOA+UDIENmBBgFvwdtCbcL7o3OjyeOgY0wyvaJ0wlASLPG9oTegcs/r/5mPlB/OAAgQawCHMJbgcHBL78P/WM7efr3+7C9///RAXNB/AJcg4pEVgU6xQAFfcSFBIdD9sLkQfrBeQFFAkjDyIU+xbpEzcOrwW0/w37d/hA9t70e/PR8j/yl/Df7dfpTOfG5azmGudR5l7kkOJR4g/lCOr77nTzZfdJ+q77Z/vW+f33tvYK9lH3cfkW+4P61vea80vvbuxI6qfpHeZd4R/bN9Zg0AHLGcdZxCjFyMdgzF7Ptc8kzabKT8cpxm/HYMpH0M/gs/eGEjEuD0JtShFGLj//NqcywzDVMOcvUywYLNcuOzJ3M4IxWC7KJx8g0BbLBlDxB9o1ypfAocDiyHbTU91P5DfrSu908RLy/fBR8GfyJfnFAg0N9hW/He0m7DCBOwlEMEiqRplA4jiWLykm8RxoFr4SZBFmEnASTA9EB2b9IfMo6I3fSNm91OPQo8/z0WfVD9sX4sLogO5a8xD40Plb+Q34ovcj+hoA0gmGFYwgsCpMMrQ2gTfyM6EuIyjLJ9QoLSmjJsAh+xm9EncP1wy/CwcKXQjCAYT7e/PR7TDo0uRf4/jl++wZ9Wb7h/uh/Oz8ZgHeA3wIZAq8DPQNog5dDwEPXBFoEusVqRdEG5cabhigEagKmgQSAfIA3/+w/wr8xfj087Xwu+zz6Zrny+Y351nomem46BDoDejM6gHu7PF29NL1WPXi85XySPK486L2cfr+/QUAOwHiAEr8//Qj7vLoEebb5Vjlh+Id39Tb/NYh1UbV7dNU0ovTwdNd0KLNSMz3xiLD+cUYy6jOJNI71wHYVeCH8+0RYjDBQmtHQz2WLa4iUyL4JpUpBi3EMIMzrDg8Oxg98jVULTIkmhyPFFcFNPMG3HPMl8fS0Vvg+unF7l3wR+867BzpX+Si3frbAeTW8HD/+AqaFZkbJSNCLo06lUJMQvk9pzR3K5gk4CF/II4fQCL6JncpvyY+HWoObv1o8KXoVuNj34Xar9ir127Y99r13eDgyuKJ5RDnjebN497hveFI5TTu/Py7CwkYryBIJg4oIieJJaMi9CKZJYYq9C+HNlk1kjDXLE0oJyJeHmsa1g9dBfX8x/Vg7lvs6+tv7ozwavQj9ZXz+/FW793uLO/Y9GH5YP48AG0DzgYtDM8RNhYVGrIbAR1lG98ZThVWERgORA2wC7gKJAnyBPn/0/rx94f0//Lc8T/wXe1c6oznNeUL5Kfka+aT6TDuf/KS9SH2u/Xe9dD2tPd9+Wn63vnm+Ir4T/fA9jT3x/Wf82XwuexD6bvm/ONn4eDeFdwl2bnWo9Po0cnTe9UT2F3aktln1jbUQNAUzCHNCc+Bz5PTX9dy1RXdkfBkBocgQTqeQlw6Pi9nJKockB13JIsokyyZMMU30D8MRKZDuz3zNLUoSR0FDjv6N+VN16fUStr15ILuLPPS8XzvMe3B6BviPt3t2pzc1OKQ7L32EABqC4MZYynvNS88ujq+MlopAyP1IK8hhSKTJd0ppiyrLPUoLiGcFV8M5AWD/9/2Xe0H5IbbTtib2dXcQ+CL42TlpeTz4EDcU9jI1jXZVuHF7HH3vACjB54NbBKYGEAdziAtIkUl5yy5MIcwozBhMrcwejSEOXY1HitMI1sXWQm5AwUB3/6o/R7/pPuL+NjzSu6159Dk0OVg6Jztve6V72/v5fSQ+oIBiAdPDRAQShH0EjMRXw8+DgISZhO4FjoX9hX8EAoNSQrlBZ8DpwDI/lL5lfUn8Y/u/+t766zs1e3Q75DvYu7H6qzpGOqV7RjwsfHb8erwPfCA79HvIe/x7zTwbvIk8izwROtP5iPjkeGl46/l5+Z55I7jguIt4hjhgeKT47TizeH537Ldsdlg14TVBtYn1xPa79yQ3Qva0tfW1PbYM+rX/2kakCu6MNoncxyFFnQVfh+fKI0sBS8oMlU1NTgcO6M8qTlIOLc18y5MHzIKJPgG6yDrwvLo/DcAvv50+i31fe+h6XHkjd+43cvfOOUY6RXtCPF/+uMFsROUHoAitx/5F2ETTBA/EeoToxj2Ha0ifia0J3MlVyA/HMMZRRZwEC4Jlv8g9rXubOym7Pfu7PK39S328PG16xzkXt622m/bXN4C4jLmTOoY74X0ZvqHABUGTAnDC94NZBN1Fc8X/x0pJmEuHjQtOGA3oDL8LZMqziUZIqIe4hwJGUQThw2rB98CHwDQ/iX9DPuH9o/xaeuk5irlS+ib7L7wG/VO+Un8xfx9/mb/BgLmBM4IvApMCe8G3wUfCFQKYg6hEIIS9xCzDSQI8QAT+yb3Z/bs9bn3YvhR+Eb21fW19R32qffu95L1OvAw65TmbOQB49bkt+dR7GTwfPKt8RDtWejF5DjjqeFB4vrhUeFg4PzgheNk5oLpa+xG7rjrquj05c3il94o3MnccN7q4ATk8+dP6JvmpeSV4sXdYNzH5SzxpvzwCiQV5hVEFY0YehvYG1AgbiSfJFUiLiK9JAcmVihVLXY0WjV5M6cwdCg5G/cQiwxWCFwFwwX/B+4GLwX+BBIDkv99/PP8Tvxx96LyiO806xnn2+hO7rPy/Pcs/08ETAV7BEkD4/8F/Y77EP1M/3QATgKHBZ0JkA0yEx0YnRlnGLMWpRI6DA0HWAQJA9YDEgf5CXQLLQuACvIISAVHAff9fPlZ9PTwL+9p7RfsnO2I7wvynfXv+gf/rP/Q/wQAT/8S/pwAggN8BV4KARL5FhIa1R0GH1cdVRsmGa0VrRJZD3gMZQu1Ch4KywtIDWYMEwsJChUHhAJ+/pr6hvjL99j4gfpN++z6LfvP/P38uP3H/f/8EfrG9y/2kPM48obxLvMl9O/1JvgL+l/6cPm6+Bn4svcv95z4wPk0+g76FvzZ+xz8WP0Q/gYAyP+lANv/kf/1/Xf81/v4+vr6aPvD++b6/vmJ+eH5Hfo6/FD8dvvJ+U335/Sg8nTx4/FT80j1mfeY+DP5Kviq94H3vfau9tP2FPYQ9YH00fQ+9W715/VW9tT23fZf91D3rfXq81rzlPMQ9Bj1TPaU9wf4lPgQ+uT7IP4HAB8C/wOsBBcGdAfOBw4IawlpCzENChAEE/YTNxNnE2ATyhKaEowSRREBD0ANCAwkC/gJSQkJCcwILwhmByQGvgPGAA7+Lfy5+pH5Zvna+bL5HfrP+/X85Pyx/Xf/nwCHAa0C4gKRAQAB/gE8A0IEuQVhBywIRQiFCF8IfAcQBjgFGQTsAssBTwAx/wL+qf3e/Uj+lP7y/j//zv/z/8D/NP9D/Rv7pfmK+JP3RfcZ+Kv5ofvb/RkA4QBxAH7/TP4A/QD8wfyt/Q/+av6s/woBhQN2BwYLQA1uDoMORg2fC3EKNAlbCHwIjwngCsQLbQyPC30LvAqkCqgK9AlvCOYFBAQoAkQBJwHzAmUEiAUlBtgFdQSiAY7/Jv5Z/Tn9Dv2Y/CD8pvs/+437pvug+3H72PqI+VT3Ffao9A/0OvWD93f5oPrf+vP5jvjA91T4h/kQ+7j8Ef4u/kv+UP4p/vj9Lv7I/uH/KwBM/4z+qv2X/P/7s/wr/bj9U/6u/sT9Lv1M/Vr9e/0y/Rz9Gv24/PL7vvuw+5T8tP0P/zkAbQAkAJD/Pf///nr/+/9x/0H+Vf1r/Fv7SvvF+977jvt4+0T7WvoQ+c33afZO9Vz10vU09v31ePXz9Ff1UfaE9/f4+flC+jb6Bfrz+Pr3CPjO+A36iPwS/0kAGQEPAtACNQT4BasHJAluCm0LPAy0DF0MwAt9C68LnAtEDBkMeQqyCF4HLwb8BOoEAAVIBLADwQOaA1YDPANKA/MCbAKzAc8AEAA3/5T+hf5p/yIAaAEmA8cD4gPQA0MDvAFMAPf/Yf9C/hv+nf6O/mT+//6z/4j/tf/y/0j/F/7V/Hz74vnp+MH4wvg++V36Ovt8/Jb9M/5k/kX+5f1Z/WP9S/2x/SD/CAFgA8EFKAirCckJOwqDCjkK2AmiCU8JDgmFCVAKNAsADA8NoQ3ODXcNMAyBCqYI/wbWBWIFzARhBP8DHgO6AQABkwCh/1D/zf8hABkA+QAjAUkA6f+0/6r/sv9o/zP/wv55/i3+ff7h/iT/0P9GAEgACgAdAAIAx/9B/1T+r/2j/Rn9xvyV/M/8hPyz/Ov8Af1k/ST91vzf+5L7CvvV+vv6HvvT+7D8qP3Z/oX/9f+5/9L/GAAc/6X+lv5I/gn+V//q/37/VP8l/33+q/3n/a790vxg/D/83fuY+wf7IvrN+AH43Peq92n3XvY39Y/0YvQv9Yr23vd0+az6xfuW/A/9JP1//Gz8n/wa/UP9Iv0f/d38b/1x/nz/z/+o/3L+rPz/+nf5gvgi+H74M/mw+gL8fPzc+8/69/lp+VH5o/l7+Vb5F/rj+t/7PP3H/t//0QBYArQDaASsBJAEAwTlA6wE2AUnBxwJQAuhDL4NjA6BDisNBwxRC0EKzgmzCdgJzAmgCSEKHArcCRsJ8AeABn8EeQKhAGf/Ff6j/QL+Z/6l/j7+qf2Y/Ir7AfuS+rH6Hvv5++L8Mf6s/78AvwFPArkCFAMsAyMDBwMZAwgD4wI6AxcDkwIRAuMBJwG4AMQAXQAEAMj/uP9X/4X/1P8BAIIA+QAUAacBxgIeA5oDNgSUBOwEtgXQBqEHUQhVCWQK7QqBC6kLjQvvCmMKzgmyCTwJIQlHCW0JbgkrCfoIoAemBokEFQTKAooB7QDs/97/iv8PAND/3/4M/mn9x/x5+5r5Jflw+FP4wvfA9/f3kviK+YH6EPvd+ub6Q/ru+qb64/py+gr7N/t/+yn9bv3K/bf9T/31/Kr8Gvzs++b7wvzS/Kz9P/7s/v/+Ev/u/xsANwC//1L/VP5D/vb8m/1q/Wf+BP+J/n//OP5Q/lL8DPtG+ob54Pkd+t353PhR+Ln3ifdw9zn3g/bX9Rn1v/T889fz/vOS88HzVfQV9Sn1ovVy9aD0FfRZ9BP13PV/9z75xvob/Mj9pP4Z/8H/KQCBAB8BEQK/AjEDwgPNBK4FmwY0B38HlAfMBrcFhAQvAxgCegE1AdcAyACZABwA8//l//n/9f8kAGYAngA9ATsC7gK2A68ElQUlBtMGmAcrCKUIJwmsCQ8KVgr8CVsJdgjnBysHHgcLB4cGAAYmBTQEMQNTAl8BgAC3/yb/Wv7s/Rn9t/yk/N/8uv1Q/gD/H/+7/8b/z/8GACUAFwFsAbgBCQIHA/0DigT5BZEHmghJCcsJEAqqCTgJ1wimCA8I+wc/CIMIuQhvCOcICQkeCZkHMQfLBXAEMwOVAS0BegBIAXoBuwHRAdwB9QBFACwAUwBbAFgA+v/P//f/qf+W/0oAcgF8AbgBxgG8AWEAfv9P/0n+pP2Q/ZP+YP/s/oT/E/8f/9/+lP4o/0z/P/+J/Un92vsy/In81vxu/bv9O/4u/lL+Gv2n/Db8Qfz9+578bfzx/Gv90Pzj/Fn9ov0i/S/9aP1i/UP8PPyO+9r7+ftK/Ej8afsv/DX7jvo3+bj4zviG+CD5dfmq+Q/51/hu+e75L/qo+hD7P/ut++L71Puh+zv81/wg/Y/9j/0S/Xz8Hvxh+7X6ZfoR+u/5B/qR+Tj5IPjS9oD1fvXs9bv1zvXs9WP2SvYl9674tvmC+v76q/vO/Fv90/05/iL/+f8/AbICHQQEBR4FmQU3BtIGzwbbBqoG2gYzB7IHJwg1CAoI1QcACNEHDwdEBl8FcQTgA9UD7gOxA/gDHwRQBBkFhQQxBNsDYAP0Am0CMALvAQoC5gGXAqADggQKBZ8FiAUuBaIE0APlAowCUwLxAcwBJwKXAooC+AL2Ai8DGAOhAqECAgJ5AIv/Cf/l/rf+fP8MADQAwQC9AbICagKnAq0DlwR2BJoELQVoBaIFgQaiBykIHQixCC4JZQlTCWkJXwnDCHgIxAfyB0kIgggMCCsIVwnACFMIFgieB5oGAQWsBFUEtQMAAhgDOwIkAV8B2ABrAFj/bwA7/8j/F//W/u39s/y8/NL7+fsO/HL9RP2H/XX+hv1y/eH8Z/yg+yL7w/rF+az53vhL+fL3wvhd+r35Evnh+L/4w/dY98H26vag+GL5/vhL+sP7zPpZ+lz8pfxR/Ej8J/0O/Jj6GvvK+dX5w/lo+8P8mPwe/FP6CPlP+OH33fZQ9en0y/Sr89Ty4PEp8orxCPEv8ODwvPAQ70Tur++u8ojz3vRC9zP5wPhP+SL7uPyL/Jv8oP6SAOMBhQOjBSAHeAhsCmEMhA3kDQgNgQumCk8KzgkqCT4J2gn3CaIJQQn6B9QFRAT3Au8BqQDT/5H+hv33/En9lf1X/eP9n/4I/6f+oP7R/Zb8kPsX/Jb9T/4M/y0AOAGkAQkCuwK/AsEBPAGiAYsB+wDjANcAgwAOASUChgKJAnYCGAKnAOf/zf8k/4D+mf6X/w4A2ABKAoEDMQU3BocHCwl1CQEJXwhCCL4HCgi/CRoLoAx4Dw4RYBHrEWcStRHRENIPjg68DckMIgwUDF8MGQ34DaIOgQ7IDXQMtgp2CnAJZgdvBiAHEgfbBR0GGQenBn4GrQbaBh4GyAQpBPkC5wFxATYCHwKkAcQAZwC+/7/+2/3/+7L6Avth+j/4V/iy+C748/fg+Fn5SfmJ+LT2+/Y39wP2tPU/9nv2Mvb29bH22fZj9UP03/P18mzxO/EN8nHxz+/y8CPx5O+57k3vce7P7b7u3e2M7CTsuOzm62ztPO5n7ynvXO/Y7mru8+0W7U7tKO1e7Zrw2fLf77vvdu/D75nw5PXu+qb9M/9WAjoGPQm0C0gNPA71DE4OQhLZFeoVsRedGEoakByHIPMgBx6fGl4WFxTuEDsOqgqOBx4FwgSCBFADDgCk/Dn5OPa183rxN+456nDoyedb6XDrsOyv7cLvh/HN8u3zovPG8qvyfvQQ+GP7gf55Ac0E8AcSC6wN0Q6iDpsOQg8iDxkPiw+iD3gPsRBbEiYTThILEe8OvguFCOwFzAL2/zr+/Pxu/JL7/fy8/tH9nP3J/d37YPlX+jL9f/4XAgMGmweeB2UJ2wsbDdgOfBEPE7UTrhTwFOEUdRSvFSYXIRhQGJgYxxa6E7QRFxCqDvAO0w4BDggNcgs+CVEGuARrAkEBTQDE/9D91fsZ+p/4ZvjD+JP57/k++nr5ivgC90D2xvW19uj3vfnH+4v8g/0E/Vf99P06/wMAUQCoADYABQCS/0b/1v3Y/Zb9X/2U/F774/j49Wz0BfOn8q7ye/JG8UDvoewc7F3ra+zr61/seusI6fznQOc85kfk1uXv5qbn9ucs6fDnf+Wi5RXl9OJs4/rjnuEZ4ZDgzN3q21XdYeP8643+WRAZFkQWsw5cBNb+nQO1DdATzRnjHv8iIij0LBU0izPtMc4wrzDiLLIj+Rp1D90GDgiQEk4arBtdGDkQ4wRG/Hj04u3/5FrhP+M65XDlIOUC5TDijuOR6B7uIu5y6vHl8+DS3c7hrOmU8nb6KwPnC8UPhA9ADVwK5gYFCU8OcBKXFDkW3RfxGCgamRxwHrYcnBnqFXoP4AbvAAL+x/wu/aIBfQUbBWUCfv7A90TwEe0z6/fpSekW66jsI+8E8/7/JglmC44NSwuiBAz/4ANeBucHIA+OGjgegiNWKm8pnSPgIXoh+h5XHqUduBvFFooWxxncG3YZexofGCkSwgv8Bu3+xvYV9dn1nvdT+Xv8jPmF9mHzMvH37lbtSuzP6w/sAOyg7mvw3/Ja9eT5d/xW/gX+jvs8+ET2mviM+3EALwTlB50I+Ag3B8cFgwIeAAUA/v+v/0T//P4G/Hz6O/kn+uD53frx+D32x/Ek7lPqZei15yXnu+lr67/rS+q46A3k3eA34FrgSOCC4zbkvOTR41DkCuTT4lHj9+Op43Pi2uIK4S7fad034y/s//dlCXUXnhg8FbYNYAUTAcsF5Q4ZFqYeBiPnKBMsQjBuM7UzUTH4LR0rXCZ/HocXyBF9DRkQ6RY0HXIdCRr3D5ME4/eF7o/pWeXN43HlxOgo6e/q0Oph6HXl7+SU5WfkxeES4fDek97V453rTfVE/aQEsgg+CWUHRgbQBNoDQwZrCp8PzhQ1GbYchB22HJwdXR1NGwoZvhYvElUN2wqzCR8KNAt3DlwP+AwfCfwDrP3O9rHyH/Bx70fv9fG38+P0iPUc+pH7IPu3+jv57/WQ8jL38/kU/h0ETQ2CDrUROBUHFigUsxR+Fl0VpRfmGgAfiR7bIGohVCELHsEePBwVGCAUJhEgDEYHoQdYB3MH2QZ4B7sCRf9/+l72H/Fi7nPtL+2v7UHuXe+P7pjuZ+4a7jjtm+3s7IrscOy17fTv0PKS9lf5l/u1/Dn9zvzq+/j6OPtY/BL+EwH9AjwEiwQ/BNYCSgJjAXsAAP/U/Of6UPhh9w73bPck99H2gPZY9B3xL+6W65jppeie6APoSemk6uXq/OqY6gnpDuiB55rn8ueI5+nm8OYV6AjpJ+wI7hDuj+zw63vsKO/Q9FH/VAa8CQELhwjKBMsBjwU3C7APcBP0F4EYkxhPHMUh1CJiI/4jPyLVHtMcZhzhF4UTQhODFSAWdxliG8EXqhCHC80HxgMGAT0A7P0d+Vj3Rvdr9gT18/Se9Dfz3/EM8pXw6Oya6hHqv+mV6y/w1/OF9tj3Svga+E330fdK+Vf61/tQ/mkAKQNLBhAJPQuGDGkNoA4fDyoOwwxlC30Kygk4C+QNSg+2DwwRoxD0DlgNlAtuCBUFoANNAnYBnAAQAtoB0ALIBHgEJgPDAUYAtP0i/eX9j/5+/rv/jAA1AYsCvgSsBdkFGQbJBTQFbgSgBP4E6QWMB08Jowk6CjMKOwlMCO4H9AYSBr8FbAX3BDUEkQOYAhcCmgGfAXcBnACb/+L9ufsO+v345Pjf+A75/vg6+Mz3Zve69hv3t/fs9xr4pvfs9iz2GvYQ93/4O/qq/Iv+zf8LAPv/4P9O/0//zv9hADoBGwIAA98DrgOVA/EDwQOXA/YDAwRBAo8AHgAR/3D+4f42/1z+Uv38/JD8mPtq+zT7/vnt+Ln4xvg5+IL4CvkC+f344PlC+vf5APos+rT5v/lG+iT6LvrT+Wf5F/nB+J/4lPhS+Nn3FPd09uP1HvVh9Kj0V/TJ8zT0bvQy9Ofz3vNh8wPztfML9dP17Pbh9x/45vjL+vD8pf7J/0MATQA6AGUA9AAtAesB/wOcBfoGtwgrCXEI3gd+B5sHYgemBx4IBwgrCO0ITwk9CYkJlgkgCoAKtQqCCu4JhglFCckJ5gq+C0EMtAzcDJwMuAwSDboM5QwIDb0MTQypC+IKOgp7CdMI7weVBnIFRQQJA44BTgAs/xn+af0c/UD8Jvu8+Xj3b/Vp9MnzDPO88t/yV/IT8rDyxvLs8tTz/vQx9WL1wPWY9d31Q/c/+VD7t/0pALYBlgKoA3oEqwRVBQQHhwjNCRILAgyADPgMrw0fDmYO0g5+DncNZwwgC+wJBAnzCN8JhQo0CzwLHwoUCPIFtQShA0gDfgPZA+YDFwRHBAMEewNRA30DBQObApACpQFvADgAEQBOAMUA8QF8AuwBwQFjARcA2v4S/pj8wvvD+2/8fvw1/Nv7ePv1+q/6F/us+iz6jPnu+G34jvjL+CT5M/mk+V/6vvqs+wP8vftu+7b7BPyo/Df9Pv13/ZP9pv0O/jj++P1y/af8Efzh+8v7fPs0+8j6mfpL+iD69fkT+WX4DPi798n33/dL96r2QfY09vz1xPWF9Rf1kvRa9Nj0C/Ur9QL1kvRL9B/0XvSk9Jr0yvQP9aP1Zvbw9pL3A/iU+B35lvk8+hz7DPzT/JD9tP6h//7/CgFFAikDPATGBekGhQd8CHkJ+wm0CiEMAw2MDYMOOw9WD0IPgg+eD4EP5A9+EDwQ7Q+RD6MO1g0PDXMMjAvyCl4KFgnkB+AGhQVJBJUD6wL/AS8BTwAa/6L9SPxU+2T6Ifrw+Z/5WfkF+Un4nvdM9xr3XvfL9yv4ofjb+Oz4M/mO+Sz6vvoI/OT8Vf2k/Rf+QP5I/gb/hP/0/2IAnwFGAoAC1wIoA4EDRwSdBYsGygZSB+QH9Qf2CHYKewucC/QLJQwqDJ0MXA2vDbENOA6nDuAOnw6dDjUOcQ1GDZ4NsQ1iDVENiAy1C/wKjgoDCjUJ0wgrCEYHMgaJBXYELgOMAhsCcgGXACUAM/+b/av86Pv5+mj6Bvpg+Z74Uvj19yj33/al9lj2UfaA9o72UvaE9nT20/Y596b3FfhW+KH4v/jM+GL47PeS9wH4nPhu+Wr6DPt8+8f7+ftO/JX8v/ya/Hv8sfyN/M/8zPyk/Kz82vwn/aH9G/7m/Vv9Q/w5+wf6D/mw+Gj4VfhZ+LD44Pjl+JH45PcT9/z1EfVh9PXzyPME9G70GfWz9TP2qvaZ9tL2F/c292H3VPeH99f3Ffjq+Az6FPvu++v8iv2b/fz9Iv4n/p7+Cv8r/zz/lv+9/7z/KwC2AP8AGgEZAYEA5P+b/5H/qP8TAKQANQGdAdIBCAK/Aa4B0QGVAasBOAJ3AgwDygOMBHQFjQaaB04I8AgMCaEIoAgxCZMJZAqAC2cMrgwLDW8NRg3ODKMMLQxaC+IKQQqDCfUIwQhjCDcIuQctB+sF0QS0A1cCYQFaAKn/Mf/t/rv+/P7c/rH+Pf4B/hX+L/7//c790f25/Rb+sv6B//v/xgB1AToC/QKMA/oDGARMBIkEBgVcBbgFMQbaBj8HzQdtCNsIAwlCCWkJ/QgNCQoJCAkoCSkJYQmKCcYJ8wm0CZUJJAmaCDMIqAfbBksG0QVhBUIFHgXCBHEEPgSSA7sC4wEVARoArP9p/+n+RP7V/Vb9l/w9/O37fvvS+kz6sPkF+YL4Nfjx96b3kffR9xP4iPgC+eT4CPn7+Kn4tPj5+AD56fgb+V75uflP+u/6NPth+3r7IPu6+nj6S/p++sH6RvvJ+yL8bfyk/L78dvyC/JL8NvwU/FH8aPzW/Hj9HP6d/rT+rP6c/iz+cv1k/T/96vy3/Pz8xfxy/LL8V/zl+4P7RPtC+hL5WfhH9x/2nPWb9WH1hvW09TX1efTJ8xvzY/LS8ZHxZfFy8cDx9PEO8m/y8/Jg8wr0rvQ29Zj1HPbW9nf3Vfg6+U36mPvs/F3+bf/p/xQAoABVAfoBGwNYBCkFuAWyBkQHegcgCMgIQQkECtYKHgssCxwLEAvpCkcLvAvpCwQMEgyxCykL8grOCsoK0wrSCtQK6wq6CqsKXwoGCpkJQwkECd4Ihwj5B1IH0wafBmgGXwb8BVoFfgSoA8ACTwLlAXgBWQFtAVEB+gDGAGYAEgDo/+j/9P/n//D/AwD8/x4AYACuACQBeAHAARICLwJRAlgCdQK4AhwDuQNKBKgE/wQABSYFRQV+BbkFsAXCBbgF7wXFBUkFzgSzBMEE1gQQBSEF1gRDBJ0DXQNiA38DZwM9A1QDGwPvAqoCWALWAccBqgHTASECHwK/AQ8B3wCoAJ0AvAADAcoAdAAvAOf/ev80/1z/dv+A/6D/XP+q/kb+I/7q/bz98/3r/aj9mv2S/YH9Wf0//YD9X/2F/c79xf2T/Tz9Lv3e/A79T/11/UH9Nv0g/Zj8ZPz8+/P7vvvV+/z7yPuR+0f78PqJ+mz6ZPpe+jL6Kvq7+UH5/Pjq+L74v/gd+c/4vfii+Gn4/ve99373Uvd496L31/fS99338ff89+v3FPj09wH4+/e/96H3mvfA9xb4afjP+Dz5Pvlt+Wb5hPm6+QT6Tfp7+u76JPsz+2f7vvs0/M/8Ov2Z/ez9D/5L/n/+zf4H/1H/wP/6/wgARwCKAMQAIwE4AX8BwgGZAZMBfwFyAWgBZQGtAd0B3AHsAQQC6AHHAagBYwFfAVkBCAEYASgBcQGfARACdQLVAi4DRAODA2cDwQMRBIAEywQvBYoFFwaSBvkGjQfaBxgIDAgwCCgIFggqCDQIOwhrCLMI+wjUCMsIugh+CCgIywd+B9sGjQZaBicGzgWBBVIFDAX9BLgEZwQNBIQD/gK0AooCPAJXAkwCcwJgAi4CSgInAhECTQJXAiYCEQJYArQCxQInA4cD0QPPAx0EYwRlBFoEeARWBGgETgR8BJAE1ATkBLkEbgQbBMkDcgP5AngCoAJyAngC9QEBAmUBWgEdAbkBwgBEAR4AugCLAFUF7QxoDdoMKwkwC8IFTANkApL6rvHv857+EgRzCMQDt/cu7fnws/odAmUEHP/U9ELsYvCD+RkBfQJqABv5n/K68QP0v/lq/XcBv/4c/PL8Z/+/ADYA3P4K+tL40/q5+qH5pPca9c/yovQ9+5X/7v4I+oX3JPZ698P67Py2+g34Nfde90z6+v3Z/jv6dfin+ZL61vlt+wr95Pu7+Dr2wvOd9gYBkQcRBnr+qvjV9Bf21PsTAUn9hPY586n2R/33AEcBSfyV+E73SPg9+SL8t/jy8TDvc/NI+NL6x/4+/eb1JfNu9Rf3kfh++0X8+/dP+J77K/9HANsB6gBk/wD9u/sd/owBugM3AX//CgBqA24GjAkXCkcIkQSpAykF9gb9B/4H+QauBVoGHAimCvwKhgqpCF8IugimCcIK6Aq4Cd8HWAicCpkMJw0mDeILGgnZB8cJZwsXDKALswo5CSkJ5AvTDQkOeAwjCx0KvgkhC3MM+AtOCVAHPwdjCAUK0wvAC4oJjgdmBzgIBgnlCHwHogU8BpMIDwmOCSUJQgdoBGkDgwU7B88H/gUQAqkADgHDAl4EMQWjA9EAd/9h//H/8v9YALX/JP/y/Qv9D/3l/SX+e/3v/F79EP3h/K/8xfuj+jb54vjv+YH6P/oU+tn54/mB+X/59/j3+GX4nfhg93z3IvdW9u71nvV+9sH1r/WY9TH2wPPr8Wvx8fBy8R7yKvI88orx4+8f8KTx0/HY8K7x5PAs7xjvn+8/7zjuz+/08MbvDvBw8cnx5u9C78nvFe5L7F7s+ewL7L3pCus268bptuqg6wfsmuo27a3w2PRM/PUCogdRCIcF4AMcA+8ETwqbD9ATIBT9FhIa3R16IoYk0CRzIjEgUx9dHksbOhcFE8MQ9A6+Ea8T9RM1EC0LsAYDAbP9YPra98rzePGK8MrwlfAx8sfyr/Kb8WryD/P98dLx2vGQ8VPwtvJR9m/7NgCzBfoIqQq5C/QLKQycC9UL8gw+DpoQCBO7FMwV6xVeFqwWqBbtFDITvRKEEeoQ6BHGER8Pzww/DLcLqQtGDNcLHwkMBosD+wLHAqkDvwUCB/MGPAcgB5cFFwUzBRYGbwZvBhEHfAgACVEKFgznDIINBQ8xEcIRYhETEBwOpgylDJgN7w3EDW0NKAwNCxYKrAg3BkEDzQDA/kn9tPxf/B36pPcC9m/0lfMP9H70qfNN8vzwGe9u7TbtIO087dXtp+4h77Tv2++H7w3vju5X7pXu4+4C77Du1O3m7VvuxO7X77DwAfHF8Nnw9vB18A7wZ++J76jvq/E29dL1zfX89SHyHe3C6srqpOiP6ibtx+x865Dp8OhT6APoo+c56LnjsON748Lm3+zn81D8YQK4CoIMkw6kDogLSAv0DA4Q0hKNFu8ZXhttIFcl1yjlKuIoJSZEIiMeTBjQEhMMFwXPAtwBLALfAwIECAHY/tH6X/UK8GfqxuWW4RbfFt7t37HhWeSE6F3ss+8285r3//lj+s76Wfq3+BH5xvtgAMcFSAzcEgcYmxuyHUsfSB5HHBkayBdgFR8TvBFLEDoPhQ4gDhUOBA7aDKcKfwcQAnT9UPnC9VL05/Oq8230AffQ+Ef8Yf8hAOQAygFKApYEoQb5BtwHdwgoCWQMsBHDFdEZIhzGHP8bZRvsGscYgRZmE6QR9BBzEQ4TExRmE5oRUBCiDtAMdgshCXkF8QHc/uP8m/vH+3j8ZfwJ/CL8jvxG/Gz80vt4+tX45fcQ+K34rvkZ+8H7G/w0/Qj+Kf/h/1UAdgAWAHL///2h/NX6Wvl1+O722vYv9mX1L/Q68kPwDO4h7WXr5ura6cznHOc/5hHmCeY+55boUOgi6YPpFOrP6ZPp7+n65inm8uaY6MHp6Ot/7vTsbe1v7a7ttu037WTu1u4P8Zrznfio/TkBDQjrDYQTCRgjG7obShnFGGYY7Bk4G5MbtR0lHtIeSSHHI5cj6iHIINgcUxg7E7sNlQeFAMD76/dd9ffzbvQQ9bXz0/LX8c7vae1m69zpMefl5Irk/+Q95vLokO0D8kn2aPswANEDQwYxCBsJxAglCIkIuQmNCkYMag70D1YRIxOsFPkUrBT9EhwQawxaCMMDmP97+3P35PMT8jvxz/DY8YTyRPIq8c7w5++T72jvDO9B7n3uPO+u9eX9lQRtDbYTRBZ4F70eKyGpJHAnaCZoJBghgR+CHoUgNR90IbEgFR8NH5MeZBuMFskRsAnzBMoA/v69+0X5cfV489T0h/U8+d/6cfvK+eP47faB9o72g/RF81/yCPOk9Pb4e/ss/pX/PQADAq0DewUpBp4FzAJyAHL+Pf1s/eP9CP5e/YT9i/1Y/v7+Gf5n/Ib53PYQ9DHy3+587NPp0OYZ5YTlxuZk54jp+unt6Rzq0+yI7SLuSO5a6+Xn1+WV5m/m4eez6PrpEuu562vuTvAU8qnxHPCK7QPrD+rQ6fDskvEg+oUElg9kGbwdzh+PH2shXSQuJzAnBSTXIB8c5RpdHJAebyA0Ii4kaiTMJREmQiIeGr4PlAZP/ob56vUO8SrrXuXX4ori4uQH6I/rLu4N7zvwxvB28HPvnu647czsre6O8pz32vyEAAoEdwddCxMQBRZyG14eVB+gHRIaORaTE1QR8Q6gDBwKFAgXB8QGRwXrAmIAuv2v+9L5vfeL9OrvAev75bLiy+D54Gbi0+Of5ffnTOvL7y70bfhQ/I8AXQRZC8MTnBeGGwweLh7nGxYisSYuKTMr6SveKdYkyCSmIRUhMRx3GzYWARFtDbgJkwZb/3799vaC9RzznfQq8tLurOyq6J/pKerZ747xVvWu9Vz26fbA90D6ivt1/k/+GQCvALsC9ALwA60DVQPXBPQGXQkZCk8K2gbCA3EA2/+B/6b/rv4G/BD5ivVi9NjyG/KE8DbvAu6j7fbsOOvU6bTnn+Z35cnmnOdb6DboLudH5tXlHufL58TqFOxD7aDuk/GO8jDzffSw8sLxcPJt9Lfz3vPM8v7v7usF60fuj/Ej96n9fgPiB2EOoRXsG14gnyJDJBkkMyTFJNEk0SKMH6wc/xlyGp4cCiCWIoUiOR+2G6YZDha6EsEOjAj6ACv7cvXm7zTrY+eL5OziWeMI5gTqNu3p73jxRfLC8xT3lvqH/Qn/Tf8J/zv+Gf7a/gkA5wHsBLgIigxMEIoTTxaPF3YXZxcsF08WohQEEsEM6AWXAIL8J/n/95L3o/aA9S/1pvSx9Nb0yvRo9Hrz3/JH8jPyqvG88OTv6+9B8dzzxvfW+zX/FQK3BS4NJRRGG0UhfCZTJeIkiidzJ24mEiOrILgYjBTfDzAPeAylC24LMwk6CS0IfwvhCDIIVgK//0767fbf84fv4OzO50Do5ub469DutfS89036SP0J/wUDGgTTBj0F2gPzAEAA5P7s/Hr8P/pb+cH4/vpK+6z8wf2I/Zz8avuX+1D6+vlC98jznu+c7IDqR+lh6BDnQObq5DDlWOXg5fzm++eQ6OXop+oA7DfsvuzQ67fqp+mq6sTriOy/7PDsuexa7bvvFfG98srzWfVt9Tr2zPUd9QT2ivYe9v73w/gc+f/+ngZXDgsW9Ry0HrMg3SN3KeEu6jCxMEssRyYCIoQi0CHvHzEdmBmkFnAVBhfqFiQUiw6lCREG7AOJA18Bvfy59MLt7ujY5lPnj+fu53rnt+eg6XfvM/RJ+Mz9tQD5AxMHTwqeDK8LNQqTCCkGZgUlB1QJ3wqyC7ELkwu3DJMPLBI5FIYTDBELDooK4AfsBKYBcv1B+d/12/M18pPwq+5k7Mvq4urv7FTvO/Jz9DT1dPVL97f5G/y2/vf/vQF+AyAGKAlJDOENOw82EsQVcRr2HqIi8SMeI6QgJx8RHXobgRm7FnAR1AsECDwE/gFgAHEAKv8Y/4H+DP8V/p/9k/w8+nD5nPcF+KT2lvbK9Bf0APTz9QH5ufuD/2EARwLCAokEsgRiBekEfwPkAUf/b/7F+936zfg4+Db3wPYh9+n28/ZF9bP0mvIN8vDwevAw7xPtJeve6HDo6ue+6KXo3eh85+jmpOdV6Afpsulz6qLpH+rL6tHr9+t164XrXOsR66PrJe0b7ZrrNety6pfppumc663sJ+zr7P/uzvF19V79NgUjDJ0RExgVHBgfVCXPKwAw0TDuMT0wpi2AK24rhChhI9weMBtOF8oTfxJpD+gKNwZEBLgCGQIgAVH/H/sX9Z/wv+0W7CXpSedp5UPjc+IU5Ojn9Opc78X0S/or/4UEEws6D6IRlhOCFT0WLhd0GEsY9xW0EnwQ8A7MDacNCA5RDTsLgAnoCPQHGgdFBvkE5gEF/xL9n/pj93Hz4e8z7EzpNOii6KvoRuig6I7pcuuo7qDzofik/Kf/2gJgBqkJCA17EKES0RMMGI4c3x4hIQEjzyBrH18iUSXyJL4kViNnHs0YIRb5FNwQbw59C4IH/wAb/3f+Jv1l+s34I/gu9SH2EfZl9hjyxvHy8Ijyx/NL9hn6RfmR+r75eP0x/n4CKgQUBfYCRgDLAPz+U/+4+x38hPjX97D2nPYA9vTz1fR18nbzfvIA9Tb0uPJF8LftqOyI64ftd+wC7FLpMOi/5n3mq+eR6DPqDeof6+vqJ+z17W7vEPA68O7wdfAV8cvwee8n7fLqquoj6rzph+ne6XzowedT6ZTq0+y98F73lv2NBDcLahGGFVAZlh8kJoIsNTAFM1Qx7C67LIcswyvaKM0lKCEiHdwXHhWmEYYNUwg4BRsDTwAH/2P8A/ni8tTuQeyH6onoTOcA5h/i6d+Y3w/hjeJA5vrqIO/J8gf3MPx+ALUFxgqoD8oSbRUqGLkZWhrHGfQYPRccFh4VSBQRE2wQXQ13CnsI6gZnBkgGQAWsAkwAsf7L+wX5w/YI9EjxN+/S7Ujsxerk6YfpbOlm6g3tHvDe8sv11fh6++H+FQMCCFoM5A+4Et8U9xgiHRYgHiPjJOciDCIOJPkk4yMNJHUinB30GTYZOBgJFUQTqhCuDLQGQAWCBFcDFwHf/+799vlH+ZH4Efmh9IrzpPGL8XjwHfGJ82zyrPNp9CX5/vku/vcAFwPgAZcAmAJ4AeYB5f8SAIr7KvkD+JT3P/Ym9LH1UPRM9IHzkPUk9aH0mvQ99EX0WvNF9Wj0nvKc75nua+1A7B7s8eo76lfo9uhY6cLpWupm66rsNOzE7LvsNe147L3rYOoW6ZDo++d36KDns+Yn5X3lHOZ9513pduwd8Pf0fPzaAyML1BA2Fk4asR9EJ5Yu1zMONqc0oDFPLxgvri6hLLIoiiLfGxkWRxLzDboJ0ATNACL9lfpE+eD2KfOg7hvrgOjv5+nnrufe5dfileDn32zhBuQV6PTrr+7r8PDzZvgl/aYCeAh+Dc8QgxQHGI4aHByYHIwcihsBG1oaVBlaFgISIw2iCFAFWQMAA70Bdv8O/Pr4q/Ys9e30pfSi8+7xiPBC79/t1exY7N/rZOvm64ztCPAa8h/0kPa4+B78yAByBoYLdg8/EqUUkxafGREfeyPPJVcnCyc8JBAjLyRoJFUisiAXHswZJRYUFVMTQRDuDd4MVAuzCIkIngfwBMAAB/+1/Hb6j/kX+ar2o/Ek75PtN+5z7mbxdvMz9DT1dvdH+4X9KQEfBM0GHwYlB1kIwAd6BpQEXAMqAH3/Vf5b/Sr6//Zx9YrzN/Mr80X1w/Si9B/0t/NE82jzhPV69Vz1qfOi83TysvEG8WXwh+/I7RXuXO0J7QbsOO1b7RLt5u0h7y/wJvCX8a/xCvFw8Bjxo/CR72vv6e7K7fzrjOth6iLpo+j96NDoj+iP63PwSvcP/msFCwsED0UUrBvmI3AqiTB1MgcxHi5jLfUsGiuAKOojxB2vFnUSVA4hCiQFugCS/A752vf39t710fLM75Hs7url6nLrwuvy6QTnDeTY4qvi3uPs5dLnX+ng6jTuN/JO9+b8TAIZB50L0BC8FV0aiR16H4Ef0R5/HiEeYByrGT0WMRFXDKAI+AVJAzsBJP9E/ID5+Pei9zL3N/Z29WH0EPM88ozxtPBJ7/ztyuzC69fryOwe7rvvf/Hh8333fvzcAV0HXgxFEPcTJhhMHGwftyEMI9siFSMlJDwkrCPmIjggxBxrG0YbTRoqGdMXMBSoD/EMdQuqCfwH/gViA77+zPpC+Ir2HPRb8kDxpO6Y7fXt3e/i7+HwbfKj9Yj4FPyBAEgCzQNpBPIGQQfgCMUKmwsGCg4HqQWMA9kCkAFjAe3+Y/w5+1z6ZPme95P3SfYW9tP19faO90/3cPeh9kj2XPVu93z4EPm/9zz28vTe8xr1aPXe9bv0vfTk89bzD/SL9IL1PPXZ9Rb1YPU/9bX16fT58nLxIPD1787ua+7y60rpH+ej5ezkq+St5IzjdOJu4J/gZuSi62z0T/1xA+8FgwgGDhoX5iAFKiYvsC6gKwIqKitFLOcrnSlEJDAdKRhYFroTLw+1CX8DJf4Z+1j7PPtG+PvyDO0d6JPlpOaJ6AvoquTU4KHdvNyO3trhseQx5sLnseky7f7x3vc1/VgBGwWQCU0PTRWbGhMdZB3qHBMdXB7bHw8g1x2YGREUUw8jDBMKdgg4BpICsv2/+Zn30fbU9aT0MfPP8AHwuPBg8fbwUfB575nu+u4w8f/z5PXy9pL3c/im+ij/ggQNCdQLRA7lEGAUrBhTHPMeJyDjICQhbyGCIWQgUh5lGyYY1hQwEoUQdQ5vC+AHWASMAQoAKgBZALD/YP7L/Gz7kvrS+hv7vvqk+Yn4wPdo9/X39vjX+Tb6XvtL/Wn/ygEsBM8FRgYkBzsIhQmzCicL8gmrB4EFUANAAh0BSADR/ur8jvut+p/60Pof++L6UfsC/AL9Yf6m/xgAev9I/0v/iv/J//D/5v7v/Fj7h/of+qX57Pl8+ej4cfi0+Cf5XvnD+YP5UPn2+Dv5NflL+NL2CvXa8n/xdfE48YnwWe+57dDrsOrV6lXr0Oug6+nq3OlS6cPpiOo160brC+vB6sXqA+tv6/DsPPAI9WH7wwHLBr0J2gy5ERkYQR/PJWwpICmqJ7UmoSaoJVUkZCFgHMUWVRJuDmsJUgR4/zP6APUs8mHwju4m7EbpduVI4nbhQOLp44nkKuTM4rvhC+L/40/n+OqF7o3xqvR8+Dz9fwLcB40MWhCAFDgZyB2ZIc0jDiSjI+IjTiQ4JEgjWCGoHSwZOhViEZwNIAopBy0DKv+v+z74SfWZ8svwj+5f7MrqnenI6DHoEujN547nKOjx6ZTs2O+q8nL1EvhC+3n/1QMUCLYLEA8lEigVJRhfGmIbqBuZGzgbgRrWGe8XtBQwEboNQwoICIAHpAYgBQEE8AGZ/33/LgBeAEYAmAAcAGj+WP1N/Z78PPvH+g/7MPoz+sr74/xB/W3+BgAvAbgD9Qb6CW0LBQw8DMIMUg3cDdoOLA6gDAcL/wl3CL4GQgWbA1ECyQBCAAgA0v+C/5D/yv+9/w8AdQCYAPH/k/+L/m/9KPzs+rT5/fcL92H2tfXB9L30FPXP9Rb3Mfgo+Z75jfpS++37YfyP/Gz8xPu5+iX5kffe9bT0YfOm8S3wzO5r7b7rfOqf6bfoMujN5w/nw+Vf5Sjl3+Sa5LfkHeVw5YLmKefB5yLoc+u58TX54wBfCJsMvQ5IEyEadiExKHUtVy0LKh4n/SUWJOIgbxxnFrMOxQhcBfMATvuw9SrxW+zj6dnp2Omj6D3nquWN42jiueOJ5oPoIOrp6kvrS+wg78zzyfjH/f8BVgYQC7EQIBcoHbAhNSRLJrAoFSwJL+Uvvy1pKYokqCCSHeAZBBW3DuUHtQEv/Z/4DvTk7+LrW+jS5d3kzeOW4lThDOAO3+DeLuDX4W/jWeVp5+voz+rJ7VHxofX6+j0A4wR8CTIOHxOhF+UbeR83InEkmSbKJ/gmxyQrIbQccRhRFWwStw5eCpoFrgCK/Af6+vji98L2L/ZM9XL0nPRY9Sj19/Qh9qP3JvmD+7/9JP8HAK4BJAS/BioKlg2kEN4SsRTrFQkXOhjWGGEZ7BjmF80VcROzEEsN8wkCByEERQG3/0n+t/zE+mX5Sfhy9773h/ht+Yv5ufnR+Zz5evnC+fr5+/me+if7ifuZ+zb8svxF/aP+sP+iAAwC+wMEBb8FAgauBcQE8wOEA20C9AAA/5j8bPmA9g/0+PEr8JDuYO0u7BvrHuql6W7pcunA6TfqkOo36gbq3Omz6VTpKOn+6BnoWOf65vXmfeYG59bneug66VnqreuV7F/u3vBN9ib9KQRHC/YP6hFqEz4XGxyDIJYjsSNYIAMc7xlkGIsVORIBD6sKLAc7Bl4FlAKT/4j9tfoO+SD5e/ky+HX2oPTv8Wbvxe2Q7W7tW+4e8HPxoPJJ9OX2Yfru/p8DaQe9Cj0OEhLdFQEZ4Rm0GCAXcxZyFhkWdBR2EEsLsQbuA7EB9P8e/i77T/jd9pX2xvUq9dvzy/Ek8P3vy/C28OPvvu5E7d/rVez67SzvxPCN86P23vmn/XUBKgX2CG8NVxKCFhUaOx31HuseDh6AHI4afxjBFq0UeBGfDWoJdAWwAUP/1/3V/OH74vra+Yj4MfiH+Jr5lvu6/Un/ugGtAwwE1QRYBusGngdcCpcM2A1CDwARoBBVEGsRchM3FC0VTxZgFU4UIhM0EgQPDwxmCYIHdgX4AygCev/3/Fj6fPmL+B/5j/nX+ZH5F/lV+ZD5IvoM+kj6dPpi+xH9d/4d/9L+5f5B/3UAsQEEA6ADLAQNBRMFNAUhBEcDLwKnATMBmwAWAE7+pvxj+rn4bPca93v2pfVU9ZT0vvNr8kbxmO977t3t5+1G7errlOpB6cHoj+jo6CDpB+qe64ztte9q8eTyxfOi9PH1cPfI+GX5fPkx+Kj2JfWp85Xxb+/B7RzsPu318ZT4Gf/xBJoIlQpZDcQSdxjuHGofLh5qGiEXnRVSE2EPzwqeBWYBCgBDAHz/6/yW+mb4Wfer91b42vdw9o/1E/Qx8lzwZ+5V7Cnrq+u87H7u3fAZ86D1qvmb/u0C4AY1CqUNRxGSFdEYCBm/FvATBRJ6EJ8PLw4tC4oHpwTEAh0BKgDx/gb9VPur+tr68vpx+mb4CPVn8TrvEO757eXtf+067c7tne/H8cf0OvhT/AkBdwbYC3oQRhQJF+wYeBq0G6gcFh2OHDYbCBmpFsQTxRDYDfIKvAhLB0MGgwQ9AgYA7/01/Ev7YfpM+Vf49vfc9yn4gPjf+IP6Af2+/8kDxgfkCTEMoQ51EIURuxPWFMYUqRS6FJkTzRHNEGkPiA2nCw4LyQnxCPkHFAf3BJ8CrgDq/uP8gfqv+ND2efWa82zyOfEt8GLwmPGA8wf1offk+in+HAG+Az8Gegd4CdAK7AviC7MLJwvjCXYIlAa6BXME0wPlAp4CHgIRAsICZgIeAeP/Jf+m/eP8/fsx+u73tPXL8xLxTe/p7cjt8+187q3vUfDl8UvzW/VY9rL3Afl0+lz7tfvX+6/6T/qv+Rf57PeS93f3Kff/9vj2FPav9BT06/Jb8XvvVO5d7OLp+uf75bLjC+JT4TjhDePh58PuVPY2/Q8C0wVfCYoNZBH1FFIWqxVMFBATqhFtDwEN/wkcB68FpgawBzcIDAhZB80FPQReAv3/zvwZ+cX1b/JO7x3s2ugm5ujkVeWc55rrNfCU9Av6g/8oBaQKGg+wEbQS0RMJFf4VqhUUFEYRAA5MC9YJKAmpCHcIfgjhCJUJQwpUCkQJrQY1A0EAy/2M+9r4dvVZ8ajthOux6uvqHOx37tDxSvaA+2EAnAR+CP0LFA/OEd8T7BRNFTUV2RQmFF0TRhIJEQIQXQ8pD2wP6Q/ND9MONA2AC18JxwbiA/oAyf0J+974+vb69FjzFPKZ8Rry6/NZ9vD4OPsZ/fb+SQBLA1IGDQmHC7QNOA4nD44QmxBeD/oOUQ4UDesN5w6HDs4MLww9Ch0InQZrBdUCmAB+/+/9L/z3+mr6Bfna+Lb5fvoI/Jv+0wCBAnwEOwZlB3EImAmHCqAKeAtEDLUM9Qs/C/IJwQgUCLIHVAdTBt4FYQSeAkwAe/6z+0H5Ivcg9S7zePGp8Jvvvu5g7vbuAPDQ8fHzhvW59qD4+vm6+hn7uvrd+U35Xflg+VX59fg8+J732/be9iz3lvcL+Dz4/Pdv9273pvbq9cD0QPOi8YHwk+9T7krtDOxR643q++l+6Ufp3Oi26AHpz+ia6KroDem/6cHrGu8e8yT4Ff71A4kJJg72EV0UixVKFtQWshYdFnoVEhRpEuEQdg/HDWAMSQvTCnIKGAoqCVQHjQQyAVD95Pix9Mbwf+0h68npuOiS6E/p3OpZ7bXwAvWX+br9rAGZBcgIHQvMDCoNhAzuC2cLMwspC7EKNArKCbIJ1AlrCpYKTwoSCqMJDgkMCNwGBQWOAuD/mf1d+8L5qPhR+HX45vgr+rL7f/1B/y0BFQO6BHUG0QfgCGkJmgk4CV4IwgdgB4UHowc1CO0IrglcCvcKXQtdC3sKgAldCAcHhgXoAwcCTwCr/gT9svu6+qX6F/s9/Fj95v7O/+IBbwTbBisJeAsYDFgMYA2YDfoMHwwRDDAKQgm7CSYKwAkcCl4KWAn+CDgJywhwBzwGtwQ4AjgAA/9N/U37v/o8+lj6qvuq/YL/MQEDBLcF2wd+CcoKbQqPCZYIFQdFBnAF4gSCA3kCngEzAfcACgEBAV4AFgC1/wL/yv0a/Jv5I/ft9NnyxvEH8XTwEPCA8CjxH/Jx87T0XPUc9nv3RfgU+YX5gvmF+Nz3fffb9qX2mfbh9vH2kveB+Nz4tPgc+fT4cPig+LT4FfhM9xP3CfZ09I3zD/Nv8VrwJPCF78DuLO+97zDvBu9p70Hv5e4D7w3v7e4u8DbzQPeF/NkBxgbLCvsNPhDdEQATABOdEUgQGQ/4DQEN+gt/ChMIggaTBbQEFAR/A5IC9wDA/yD+PfvQ9wv0IfDw7Djrv+pB62DsEe6d79rxrPSv97760v12AO0CDwYvCXALwQyYDYgNMQ1/DVMOLA82EDQRkRFsEUERiRAgD2sNPQuZCJIG+gSFA8ABNwBc/vn7kfrU+Uv5M/m3+RX6dPpc+0/8jfzm/D/9qf1U/r7/lAFxA5EF6wfnCcILCg72D5QR4RLkE/QTmxPXElURTQ/hDKAKGQjZBTQEWALrADkA+f+w/6j/rv8H/5P+Fv6X/dH8SPyw+936X/pM+mH6z/p4+2H8iP0M/xUBBQMFBYgGGwiXCO0JJwuwC04MQw3tDP8LOwx5CwYKuggcCPgFTQQYBOEDDQMEAyQD1AGAADMAnf8S/vb8g/xr+wX7IfsY+5L6y/oZ+7D7JP2S/iQAmgF1AyAELQVqBTkFRQSiA9YC7wHsAQICyAEPAQ8BwABdABoA+P+//wz/AP+Y/v39Vv1n/GT7Q/q3+aj4cfhT+Ar4nPfe97P3X/de92v3Pfcd93n3X/d796f3KvhA+FL4Zvg7+Av4Efg/+C/46vfz9973kPdo94f3qvYU9rz1UPU/9bT19PV59Z71pfWe9b/17/Vz9Zj09fNE85LyQPIL8tDxgfGW8Xnxc/Gl8fTxv/Gl8dHx4fHx8c7xVvGy8MXwXPLV9bH6UgDnBSAL9Q4sEkUUBxUqFGkSBxDADWoMJwxWDF0MmQy9DL0MzQxADSQNswzWC8gKFAkKB38EVAHj/Uv6Tvcd9X70TvXl9h/5s/tl/oAAbQKuAx8ETASGBOAEjAXKBh4IVwmVCuwLGw1PDrwPJxEQEt8SlBOxE0ATgxJjEGkNygmcBrEDXwE2AHD/7P6v/iL/E/8L/5f+p/1b/KD7BfuQ+m36b/pp+ir6k/o1+wr8L/3f/hsAyAHlAwEGxQfwCKAJcgmyCNgH5gYbBnMFJAUOBSAFYAWyBd8FjAUiBQQE9wLHATkBEgBxADUB3gFOAysFuwWVBWIHXAfOBgUHSAhVB/8GWgiKCFYHUQc1CCQHWAZxB9kH1QbXBm0HJwaSBPEDkgLLAKf/Lf8J/nL9C/1L/QP9G/3y/OT82vyq/Er84/ul+576RfoR+gf6hfnn+bX67PpD+yr89fzq/ED9vP1X/aD8MfwI/PP6HPqd+TP5ZPiV+C/5fvn++V76x/ps+ir6kPkY+UP4hvfN9kH21fVN9dH0n/RO9OzzH/Ri9Gb0KvTB9CX1R/Wx9Wv2MvZX9Sj1A/XX9N30gfW29bH1tPUw9ln2/fXM9Xz1rPT88xz0g/Ry9C70W/Q49G30i/XR9w76J/2mAE4EqAdoClUM6AxkDDAL0gmdCAEI2AeXCNoJNgt6DO8NWA6/DTYMigr+Bw0FaQKAABz+wfuD+tL4RPee9jz38Pc/+YP71v1g/9QAPgLWAioCmgGyAPv/8P+bAEECjgSHB5gKow0fELMRShJUEjkR1A9ODukM5QqyCMYGdAQyAlwAk/+9/lj+zf5l/9r////9/0n/z/0Y/H/6EfkL+Lz3jvjF+YT79f1TALAC9ARVByYJjQpmCzUMeAw7DDsMDQxXC28K5AkvCagIaghxCFoIMggmCNkHNgchBpgEhQKHAJ/+vfxZ+376AfoK+oz6R/sO/MT8Z/10/ZX9vP0T/gH+pv4j/ywAxgHiA3wG5Qh6CkgL2wzUDFcMuQs2C/cIXweeBjMFoAPPAmcC4QD2/4n/8f59/X78GPyl+jX5r/gT+D/3wPad9l32z/aT9zb5JPvl/CX+DAC0ARgDpAQ0Br4GMQZxBlcGqwXhBP4EEATfAm4CbwLoAZUB8AE6AUgAp//M/nn9u/s5+kj4j/ZV9ZX0VPRu9Ab1ePVa9sj2o/dg+Dz5t/nR+fH5vvmy+ab59fm4+cD5+/k5+n/6OPun+8T7hfsL+zv6Hvkd+Pv2o/UA9H7zG/NU80/0wfVi9mD3h/jp+C/5uvm0+Sn5tfg8+Dn4A/hP+K74QPmV+dL66vv7/ND91f4T/yL/MP+w/i7+Nv1+/Kr7fPsT+3X7Nfw0/aL9dv7J/oX+GP5y/pH/mAAPA+oFaAgGCucLBg3tDB4MbwstCgcJTAl/CokL5AzADscP0Q+6D0APOA00C3AJTgf+BNMDkQI/AW8ADwCJ//n+Vf+0//f/rwD4AVgCigLNAmgCOAF2AAkAUf9I/yAADAGLAvwEOQedCAkKVwtLC/YKyAoZCoMIcAefBlgFJwRSA1gCCwE/APH/if8v/z3/TP/M/q7+5P5k/vn9oP1U/fz8Wf0r/sr+o/+cAKkBIQKTAuMCjgIdAtwBcwEmAXkB4gF4AhUD9wMzBHAEZgSKBDgE0AOAA9wC2wFgAXQCmALQAwwGqAdBB+gIxglhCKMHugemBfMCBANsApsBmAH2ApkC3AEhAocCNgEmAE8AjP+H/fv8RP0+/JH7MPwj/CX7zvve/MT9Sf5+//j/k/8j/+v+Jv71/Hv8Hfxw+3j7C/x6/P78av1i/aL8D/xT+6P6+vlq+aD4Bfj99+P34Pfb9/r3D/gL+IL42Pgg+Uj5kfls+ef4l/jf9xj3S/Ys9tr11fWh9pj3SPj9+Lj5y/l3+dz4QvhT91n2wfXF9cf1KvZi9374aPm9+vv7kPw//dz9y/1Q/QH9WfyI+zX75frf+uD6E/uI+/H7kPwa/Xj9av18/ZX9XP2b/fr9U/49/7IA/AJfBmwKow5AEoUUihXqFNASxQ+TDB0J6wU0BI8D+QNuBawHTwkpCiEK0AhqBmUDTQAD/dX5Y/fE9ej05vT49W/3PvlD+039Yv8FAf4CIwS8BMEEKQRpA78CXgIuAs8C+wP6BVcI2goPDX0Oug78DQwMPAkjBgcDTQBD/uf8S/xo/N/82/2g/kD/xf8BAP7/BQDN/27/of7n/VT9xfyy/Pz8Gf5X/xwBYAPtBR0IvAnhChwLtgrVCYkIAAeVBakEXgRhBMsEhQX1BSQGLQa6BX0EGwOYAQcApf5C/TT8LfsG+wz7pPuZ/NX9Rf9gAOEBIAMCBK8EvQR8BOkDTwOfAuEBxgHaAUoCAAOPBIwF4QYKCLAIYgi3B3kGJgRPAn4AFP+J/fP8Yvw2/KD8//xC/Uj9LP10/Hj7ufrF+f34a/gR+O73Q/j/+PP5HPtI/Ib9rP7Y/3YAxgDUAJkAGQCU/8f+5v1m/Vb9bf31/dL+mf/f/y8AOwDn/0H/R/4K/aH7zvrZ+T35Ffn5+Mj46/hb+bT55/mu+i77lvv++178PPza+7r7Zfsc+wX7xvs2/MT8tP2X/tf+Pf+I/1D/7P6w/pn+N/5S/oP+qP7//k3/qP+t/1v/+v59/rb92fxB/En7iPok+gf6rfnp+RX6cPrK+vn6Xfue+xb8XPz2/ED98P1r/un+Qv9//8n/8P8pADsAcgDFAA4BEgGGAecBqAGRAVYB/gBUAAoAzv/7/nP+3f2m/T79jf1E/uz+0v8lAbwC4wMGBRwGrQYFB10HfQcVB98G8QYXB0oHxwdsCIII0AjZCKgIuQf8Bs4FYwQEA8cBuADl/5j/Qf8G/9n+O/9Z/5//3v8sAHsA5wCSAfQBSgK2AiMDaQOxA1sE3ASNBRQGrwYFB+sG5QZNBpIFxgRABFwDggLLARcBjgBYAAwAsP9M//L+Xf4C/sf9hf12/WH9sf2m/RH+F/6n/qz+Jf+C/6H/8/8dALIA0wCmAagB/QH2AQQC2wHyAccBUQJgA5QEvQaOCE4JnAmPCdYHJwY1BF0CCQDt/mr+BP62/uP/9ABvAaEBtAGEALv/Af9f/mH9Cv3k/dX9zf7M/+sAJQEjAsICmgJ+AnsCQAJkAecARAA1/wD+jf0X/Y/80Pxv/Yr95f03/iX+Ef0m/Kn6mvgN9+z1X/UQ9fj1Bvcp+H35tfp4+5P78PvX+0T78fqr+pf60vp1+wL8mPxl/Uv+6v6M/xAACQAdAAMA0v/1/if+av2I/Oj7ofvT+/b7w/zg/a3+G/8Q/8v+1P11/Hn7OPpo+SD5oPl2+o77Uv3a/uP/iQD8AOsA0QCCADQAEAD9////9f/4/z0A5QDoAccCuwNsBM8E2wQkBD0DpgFKAMP+e/1m/Ob7Svzb/EX+UP88AJAACgHUAEAAqv/L/jj+0P0P/qD+jv+GAOgBWwOZBHoF2gWEBTYFkwTBA8ACWgLNAWkBcwGxATUCXwLuAhoDMgPwAtkCUQKHAa0ADQCA/5j+RP5G/kP++P7J/2oAQQEuAuQCJAOIAxcD0QJXAucBuAGGAcEB4wF4AucCPwOtAw0EUwR6BFkEHgSXAwkDXALvAXUB+wDTAMUA2AD5AKcByAHlAcMBtgEgAboAmQBOAD0AXQDnAFIBRgKrA9EEjwWMBqMGJwapBfMEWQMsAjsBVwA4AEEAvABjAVYCUwNFBGcETwQIBAED+wHaAMb/2P5Q/i7+jf46/93/nwBjAd8BLQJuAtsBDwE1AFD/1P3Q/Nz74PqK+l/6qfoa+8n7NfzS/Oj83vyC/Mn7MftI+sb5W/lF+af5XvpN+zb8d/1S/s/+Gv86//j+Wv4I/qz9Uf1Z/YD9hf2J/d/9F/4c/oH+xf7h/uH+Gf/z/sD+tv6a/mb+Lv4k/vP9E/6E/vr+cP/Y//7//f8GAOv/av8P/5T+8/2L/UL9I/0W/Uf9i/3I/ez9Mf5M/kb+Z/54/nb+N/42/ij+Hf5Y/oz+qf7I/gD/CP9H/5D/kf+X/5n/vP/T/+D/3//k/87/r/+w/1P/FP/W/pf+e/6S/rH+uP6//sz+v/6K/jP+FP4E/h7+a/6T/gb/Q/+e/8X/+P8HAPn/BQAFAEEATwB+AFoAVQBSADYATAAxAIwABAGkATkC9AJUA2MDgQNOA7UCMgLoAWYBVgFuAacBCAKEAhYDwwP2A2IEqQRdBA8E9wNqA98CwgJ4Am0CjQLtAi8DngM1BLQEKQWbBdUFygWYBVIF0gRdBCYE6QO0A9YD+QNIBFUEfARbBPEDigMHA3UC3QGPAQYB7wDPAMEAoACiAHoAKgAiAPr/BgD7/wgANAA2ADkAHAAoAAoA5P/E/7D/jf+J/6//rv+o/6D/uf9r/0P/Gv/y/uH+Cv8v/wz/Of89/xb/zv6M/ln+Gf4L/gH++P30/e/9wv2m/Yn9Yv0T/Qn9Hv0f/Uz9mf3p/RP+Lv45/hb+8v0Z/uz98v30/Sz+Q/50/rf+pv6w/oH+Yv4s/k3+Tv5//tb+Cv9c/27/j/+e/6b/r/+e/6D/aP9f/yv/5f76/tb+pP5r/kr+E/4B/u/95/2p/W79bf11/b/9Iv65/kn/u/8LAGAAowCzAJUAZQAhAPb/3v/p/wkAQwCzADgBVwFWASsBvABPALP/B/8u/lb9vfzH/Kn83vxl/aH9N/6j/iz/gv+s/5//af8O/3r+TP7d/e39Qv7u/n3/MgAnAdUBeALCAuICggJBAvIBdwETAQQB+QAvAYwB6gEgAmMCjAKRAskCmQJvAj4C5wGfAWwBKAHpAN4AsgChANAA5AD4ACsBDQGmAIoALAD1/9X/of96/4v/x//z/x8AhwDvAC8BeQFfATEB7ACtAGYAdQCaAP0AngFSAu0CNgOTA4cDeAMXA7ACVQLEAYgBQwELAdcA5wDQANUA7wDTAOMAvwCSAGMASQAWAPr/9P/L/33/Zv93/5P/t//Q//X/6v/6/wAAAAAJADIAOwBRAIkAtQC2ANMADQHiANAAvQCpAGkAYQCGAG0AhADSANEAwQDBAIAAUgAKAP7/wf9t/2P/Kv/U/pL+of5p/lz+ff53/oL+hv6W/ob+bv4s/gP+uf1I/Q79y/ym/Kj89/xd/Yv98v1N/nT+cv6l/p/+h/6L/nr+jf6i/vn+OP+I/7H/jv9v/xL/nP5l/j3+av6Q/sr+1f7J/qH+Zv5s/iL+CP41/k/+cv7c/tj+5v4C/9b+vP7K/sr+4/5p/93//f9EAGYAUAA8AAsABwD6/wwAGwBtAMgA7wD9AOMAogBvADAAJABFACcAVgCOANAA7gD8APkAagAWANb/Z/8l//7+//4b/1X/lP+l/6f/xv/q//f/9/8AAP//AwD5/yMASQCAALMA6QBSAbQBUALxAmADvwPfA6oDRgOdAv0BWwHvAKoAjQBqAHAAfwCBAE4AAwD4/6n/Sv8I//r+6f4L/47/9v9AALoAEAFIAXcBngGPAXIBggFcATYBMAEbARoBLAEYAQcBIAE4ATIBSwFJAQ0B3gCuAGwAHwAIAAwAQQB/AM8ALwFNAVEBNQEHAb4AdAA0AA0A4//T/9z/+P8eAHAAxAC+AMMAuACtANAA9QAtAV4BkgG/AQMCSwKvAgUDJAMnA9cCpQJnAjEC4AGdAUIB3gB4ABcAAADp/+f/9f+//1L/3v4v/nP9q/w+/BL8DPxH/Kz8IP2y/Vz+5/46/2n/Tf/v/pT+Qv4B/rn9uP3W/Q/+eP7P/jD/i//W/wUA/f/Q/6P/Pv/r/rj+h/5P/lv+oP6x/iT/f/+6/8n/qf9Z/+z+yf6P/p3+ov7b/g//9P7y/t/+Hv85/6z/FQA0AFoAYgA4APb/3/9O/9T+Uf7r/a79vP3+/Tn+q/4Z/3H/hv+0/6n/uv/m/wEAKwBJAF0ATAAjAP//BwD2/0EAoQAgAWwBSAH2AFIA6P85/17+/P2g/Wn9qP0l/sD+MP/A//j///8CAP3/AwD+/wIA/v8CAP7/CwACAAsAQgClABABbgGyAcYBnwEyAcoASgD8//r/7//k/9H/6v8AAAAAAAAAAAAA9f8AAP7/EwA5AE4AUQBDACEAAQABAPX/8/8LAEIAcwCnAO8ABQH6ABwBPwEwASUBEAHvAOEA3gDwAL8AmgCDAIUAnwCrAPsAQAFuAWQBaAFBARoBAwEIARoBGQEcAQYBAQHAAJkAewBUAD0AUgBdAGIAcQBcACoACwD8/97/5v/p/+j///8AAAAAAAAAAAAA//8BAPP/9//9/yQAJQBLAGgAWwBeAFwAXgA9AEcAUgBeAGYAjACyALMAsgCUAHYAggBxAIkAqgDEAPMAEgEZAd4AmQBeAEcAPwAgAP7/AAABAPr/+v8AAAEA8//z/wQA8v/4/wAAAAAAAPb/AADu/9v/2P/0//n/GgBxALUAygCmAGEAIAADAAAAAAABAP///f/T/8H/t/+h/4//RP/3/rn+WP4V/uj9tv21/cv90f3Z/e79FP5K/nH+o/7f/vv+8f7f/sT+zf7L/gD/ef/b/wQAAADv/8j/i/9S/zr/7v6S/nj+Xf5L/lb+iP6a/qb+0f7z/lr/jP/o/wMAAwAVAPv/BAD8/wUA+v8eAFQAnwD4APsA8wDgAN8A1ADXAOgAswCqAIsAbgBqAIcAgQBhAE4AMQBfAIkA5QAeARUBywBkAA0A+P/4/9b/9f8CABAALwBlAG8AZwBpAE0APgBAACUACwARABYAGAA8AHUAqAAAAUEBaAF2AT8B1QCJABkA2f+f/17/XP+K//H/AgA7AGIAeQBXABgACQDR/4v/U/9c/13/Wv9s/33/jf+z/83/6f/S/3j/Vv8x/wX/8f7b/tv+7P4t/4z/7P8PAGQAmwB2AGEAFwAJAOX/1//r/wIALwBuALYAzgDeAKoAhwA0AAAA/f/t/wAAAAASAEYAkQDZADYBTwGMAaoBmQGBAS8BxABSAB4A/P8FAAQAQABlAG0AfQB4AHQAOwAJAPv/vP+M/4P/Vv8l/zT/UP9r/67/6v8AABwAcABiAE4AGAD7/wMA/v8BAAcAIwBEAF0ASgAYAP3/AwDZ/5D/Yf9j/yz/Qf9c/0z/Iv8s/1b/V/9s/3r/dP86/yn/6/6S/mb+XP5o/sD+EP9w/6//wf+r/2n/Ov/y/uT+5v4R/xv/Av8A/+P+xv7N/gb/Tf9Y/3T/Z/8h/wD/0/7f/vD+DP8n/0r/iv+3/+f/BwAxAFkANQAJAA8ADwAvAGcAsADFAM8ABAEjATsBewGgAZUBewFMARABuADXABwBZgGhAa4BnAFnAUABNgFmAaABwAGqAWYBCgGOADcAFwAcAE0AUQBlAFoAXQB3AG8AgACCAGoAIgABAPH/0P/k/wMA/f8DAP3/BAAaAF4AuwCyAK0AbwBLAB0A9/8GAPv/BAD9/wMA/f8DAPv/+P8CAO//9/8EAPz/BgDk/3r/Rf80/0b/k//m/wAAAgD9/wQA+P/7/wAAAgD7/xQAKgAuAFsAOwAmABEALgALAP//6P+9/8D/vf/3//z/SACPALIAwgCbAG0APgAdAAcA7//P/+L/+/8VAE8AggB3AE8AGQAUAP7/AgDw/3b/A/+H/l/+YP66/iv/t/8AAB0AOgBGAEEALAAwADoAKQAIAB4ABQAKABIADAAPAEYAYgBjAGQAUQAYABUABwAAANf/d/82/9X+2P7p/gb/UP+U/4L/iP+L/2n/aP9s/3f/gf9L/wr/6v7R/hj/bP/U/wwADAAbAP3/CADK/4b/gv9h/2P/hf+n/53/sv/B/+X/AAAAAAAAAAD7/8f/kv9i/2z/of/u/wEA//8MACQAagBeAE4AFAD0//n/4v8FAPz/4P+t/9X/CAD5/xIACAAAAAAAAAD//wEA//8BAP//AQD//wEA//8BAP//IACTALEAxACZAEwA//8DAPr/FABjAK4AJwFFAYcBmwGdAZ8BngGSAXoBIgG3AJUAjwCgAMMA0wDxAOkArgCJADUACgD8/+n/1//U/+j/+f8AAAAAAQD+/wMA9P/G/6T/bv8t/zT/J/8K/x//IP9//9L/7/8EAAcAAwD+/wEAAADx/9P/2f/K/8z/1//1/wIABAAzACEAAAD+/9z/k/9x/2P/WP+E/7j/8v8AAA4AQwByAIsAeABPACIAAwD+/wIA/v8CAP7/HgBUAH8AkgCvALMAjgBBAAAABQDg/6//f/9B/8P+kv6T/tb+Q//D/wUA8/8AAOf/2//O/93/qf+W/1D/IP8u/3b/3P8FAGgAnwCXAH8APgADAML/aP8//xj/JP8a/yP/Ef9X/6v/2f8NAGMAqACNAIwATgALAOH/2f/E/9L/+/80AIIA1AAcAQ4B3gC6AE0AAADh/6H/Wv9K/yn/Lf9c/47/zv/k/wYA/f8AAPb/+P/j/9H/0P++/7f/xv/i/+7/AwAgAGEAsADLAMgAjgBPAB8A/v/q/7j/uv+1/7j/gv9k/4H/iP+T/5L/ef9c/y3/Nv9T/1H/gP+N/5j/pf+0/7//6v/n/93/6f/J/+///f8HAAcA/P8EAPz/BQAIABwACwAtAHQAsgDGAMMA1wDfAN4AuACJAE0AJgAdADsAWQCcAM4AtgCEAGQAaQBnAHYAuwDZANAAzQDvABEB/gDnANYAzQDQAPEABgHnAN0A2QCsAJUAcABIAAwA/P8FADsAXQCSANIAqwCdAG0AaAB2AMkA/wACAbsAYQA3AP7/AwAAABsA7//5/+7/5P/x/+j/5f/f/+f/6f/z/wwAOAB7AL4AsAC7AHoAfQB0AI8AwwD3APIA1wCkAEQAKAAKAPP/uv+T/27/SP8r/zv/Ef8F/+D+Ff8f/zb/av+W/9n/4v8AAPb/9f/z/wQA//8AAAEA2f+r/8H/zP/5/wMA/f8CAP7/AgD+/wIA///q/8r/yv/S/83/4f/k/83/5f/p/7//j/9x/2b/YP8w/yT/C/8N/yf/b//C/87/+v/v//z/+f/8/wIAAAAAAPX/+v/6/wkABAAAAAAA5f+r/6n/l/+5//z/9/8CAPz/6P/G/4L/T/89/zT/T/9n/3z/hf96/4n/Z/8v/+r+vf6r/tP+Bv8z/33/l//t//7/DgAUAAQA4f+m/8P/3P/u/wAAAADv//L///8AAAQAIQAeABQAAgAAAP3/vf+q/93/8v/7////9v/p/+z/zv+f/3L/Z/9d/zH/J/8V/0f/ZP/E/wkAKgA+AE4AWgAhABIAAwAcAA0ADQAQABEAGAAMAAQAFgAOABYAGAAGAAkAAAAAAAUACQAMAB0AMQBKAGEArQDFAP8AJAH7ANkAuQCFAGEAMAD9/wAA9f8AAAEA/v8IAAQAAAAAAAAA//8BAP//AAAAAAAAAwAnAFYAUwCSAKMA0QDjAPUA/gD5AAkB2gCYAEEAHQAAABkANgBKAEcAVgBaAIkAtQCtAMAAswCgAH4ASwBJADsAOwBaAEQATQA8ACQALAAOAAcABQD//wAAAAAAAAAAAAAAAAAAAAAAAAAAAAAAAAEA/v8KABkAVgBaAHIAawBAACUACAAIAPn/DAACAAAAAAAAAAAAAAACAPH/yf+4/8L/uP+m/4b/Xf9G/1H/V/9x/6r/xP/7/wEABAAVAAcACwD//wQACAAAAP7/AwD7/x8ALwA6ACYABAAVAAUAEQAGABIACgD//wEA/v8AANv/6P/h/8v/m/+l/8D/tv/q/wAA+v/i//b/AgD9/xAAEwAPACAAVwCcAKMAjABiAE4ARQBfAKEAhAB+AFoAFAAAAP//CAAXACEAGwAhACQAHQAnADkANQAkACsAEADu/93/qf9//2r/WP9H/1b/ev+g/6b/qf+l/6z/p/+c/7T/t//A/+T/AQAAAAAA///p/+L//v8JABAABAAIAO3/yv+h/4f/gf9a/3D/av+O/67/tP+1/5r/Wv8v/+z+yP7Z/uT+BP8k/z7/WP+x//f//v8CAPv/wf+1/6f/r//E/8L/y//z//7/GgAfACgAHAAAADIALAA/AEEANgA6AC8AIQBSAHIAhwCFAHkATwA0ADoALgAoAAcABgD8/wMA/v8WAB8AIgAPAPz/BAAJAB4AAgAAAO7/5//i//r/BAD9/wMA/P8kAB0AFAAQAAAA/P/4//j/7P/C/77/tP+e/8n////9/wwAFwAAAAAA3//C/7r/xf/L/9r/0v/v/9//5v8GAP//8v/S/9j/sf/E/+r/0v+9/8D/tP+b/7b/rP+h/5D/ff98/4r/tf+s/7v/sf+u/9f/AAAAAPf//f/4//3/DQA8AE8AMgA2ABgACQAXAAwAKQAfAAQA/v8CAP7/AgD9/xwAKgBKAEsALAA0ACQAFQARAAMAAAAGACQAQQBbAGoATgBdAD8AVQBZAHEAVQBPAEsANgBGAFUAXABDAGwAWABfAF0ALQAJAP3/+f/3/8//3v/b/9z/6//u/wMAAAD8//j/AQABAPz/EQAUADUARABNAFMAMwBGACgAEwAJAAUABgAHAP//AAAAAAAA//8SAAYA/v8BAAAAAAAAAAAAGgBCABUALAAXAPv/BQA7AE0ATABOABMAAAD//wAAAQD2//L/9//x//3/9f/8/wUABQAjAD8AOwA9ABoABgAGAAgAQwBCAFwALgBCAEsARQBeAFgAdwBMAEgAPABMABoACgD7//L//v8BAP//AQAKAAAA//8MADUAIwAYAP3/AgD9/wkAAwAXACAAKABAAEkAMwBSAEwABQAcAAMAAAD4/+H/1f/G/7//5f/Z/+3/BAD+/wEAFQAMAAoADwD4/wYA4//Y/9n/6//w/9///////+b/6v/5/wUA8f/p/+b/6//x/+r/5f/s/+3/9v/y/+f/5P/Y/+r/5v/r//X//v/4/+3/5v/s//L/7//x//D/7//0//f/1f+7/5z/iP+c/63/vv/F/7z/n/+g/5r/hv+H/4b/qP/H/+r/7f/Q/8P/qf+K/4D/bf90/4D/hP+h/6P/qP+2/8X/sP+h/6n/mv9+/4H/g/+P/53/uf/U/8f/7/8AAAAAAAAAAAAAAAAAAAAAAAAAAAAAAAAAAAAAAAAAAA0AEgAeAAgADgATABQALgAnAC4AJwAjAC8AIQALAAAAAAABAP7/CQAaABYAIwAaAAYA/f8GAAUAGwA6AE4AWABLAEYAIgAeABYAOwBVAEwAZQBWAFEATABJAEQAPAApAAEAAAAAAAAAAAAAAAAABgASABcADgADAAAAAAABAP7/CQAEAP//AAAAAP7/DwAoACQAKwAlACcACwACAAkA//8LAAAAAAAAAAAAAQD//wEA/v8KAAsAAgD+/wQACAAAAP//AQD+/wQABwAEAAgA/v8BAAAAAAAAAAAAAAAAAAgABAAGAAoAEgAIAAkAHgAOABIADQAVABgABwAQABIABAAIAB4ACAAhABwAHwAdABUAFgAFAB8AHAAgABwAFQAOACsAHAAXADYAIgAJABMAGwAOACgAGgAgACQAIAAoACAAHgAYAAwABwAEAP7/7//P/7j/p/+l/4n/lv+j/6P/v/+9/6v/tv+z/67/xv/a/+D/s/+9/7b/mP+G/3j/ff9x/4z/nv+h/67/tf/Y/+f/7v/w/+r/5//e/7X/u/+5/6D/wf+4/7n/ov+9/9L/3//7/+v/2v/o/wQA/v8BAPT/7//y/+X/8P/u/+7/AwD//wEAAAAPACQAJwAWACoAGgAhACoAEwAZAAMAHgAVABIAGAAdAB8AOABWAHcAdwBlAHoAXgBVAFIAQQAnAA4AGAAkABUAHQAiAA0ABgANAAUAEwAJAAIACgAFABMACQAIABMAGwALAP7/AAAAAPn/+f8EAPj/+v8BAAAAAAAAAAAA//8CAPb//v/9//b/AwD+/wEA//8BAAAAAAAAAP//CwAAAAYAJgAqABUAKAAVAP3/AgD//wEA//8AAAAAAAAAAAAAAAAAAAAAAAAAAAAAAAAAAAAAAAAAAAAAAAAAAAAAAQD//wEA+v/T/83/xP/Y/9b/4P/s/97/4//m//f//P/5//v/AwDv/+v/BgDx/+z/3P/Z/8//zP/w//j/AADi//b/9P/1//T/9f/z/+r/8v/q/wAA7f/o/+n/9v/8//n/+//6//b/9v/s/9j/2P/d/+v/2//X/9j/0P/L/8z/vf/N/+L/1//i/+3//v/3//7/AgD+/wIA/v8CAP7/AgD9/wMA+f/r/+//3//+/wEA/v8DAP3/BQDv/+3//v/5//b//f/n//D/7v/k/9//5v8GAPL/9////+z/5f/4//f///8AAAAAAAD2//P/9//+//f/+P/9/wIA//8BAP//AQAAAAAAAAAAAAMACgAGAAQACAAAAP//BAAsACsAJgBFAFMAQQA6ADcAOQASAP3/AgD//wEA//8BAP7/EwAFAP7/AQD//wYAGQAdACsAKwAeACAAAgAAAAAAAAAAAAAAAAAAAAAAAAAAAAAAAAAAAAAAAAAAAAEAEwBAAFgAUQA/AFEAPQBKAFYAUgA8AEoAZwBoAI0AeQCFAIAAggCKAHwAZQBjAFQAUwBlAGoAbwByAGYAXQByAHAAdwBvAHwAbABRAFoAVAA7ADMALwA1AEEAMAA8AC0AMQA1ACcAIgAVACUAFwAgADIAMQAjAB8AKAANAAAAAAAAAAAAAAAAAAAAAAAAAAAAAAAAAAAAAAAAAAAAAAAAAAAAAAAAAAAAAAAAAAAAAAD8//D/3P/W/+T/7//v/+f/4f/G/6//uv+0/8P/z//V/9b/4f/R/8T/4P/q/wIA/f8JAAUA/v8BAP//AgD+/wQA8P/2/wEA9P8BAAAAAAAAAAAAAAD//wEA/v8DAOv/3f/S/9L/yf+//8n/tv/M/8P/tf+o/6D/tP+4/7v/x//I/7T/vP/A/7X/yP/G/8L/vv+p/6//ov+h/5X/kv+f/7//1P/N/7X/mP93/2n/bf9j/2f/Q/9r/1f/ff+Z/4v/i/+J/6L/uP/I/8T/0v+g/7X/rf+E/3r/oP+m/7b/yv/X/9//3v//////AQD//wEA//8BAP//AQD+/wcABwAQAAYA/f8DAP3/FQAXAAMABgALAAMACAAZACEAHAAVABsADgD+/wEA//8BAP//AQD//wEA/v8CAPz/DQANAAQAIAAiADUALwAsAAwABAAAAP//AQD//wEAAAAAAAAAAAAAAAAAAAAAAAAAAQD//wIA+P/8/wEAAAAAAAEA/v8LABkAGAAXABoAFQAlACkAHwAVABsAIQAbACsAHAAoABsAGAAWABsAEAASAAQAAQAVACsAUQBFAEMAQgA7ACUAKwAcAAUACgALAAIACQABAP//AAAJAAIAAAANAPz/BwAHAP//AAAAAAAA//8BAP7/AgD9/wcADgAZAC0AHwAxAD4AUABNAE8APQAaAA8AAwATABIABwAAAAAAAAAAAAAAAAAAAAAAAAAAAAAAAAAAAAAAAQD4//r/6v/x/+r/5//+/wAAAAAAAAAAAAAAAAAAAAAAAAAAAAABAP//AQD+/wQA8v/1//7/9v8DAP7/AQD//wAAAAAAAAAAAAAAAAAAAAAAAAAAAAAAAAAAAAD//wIA9f///wAAAAD//wQACQAAAC0ALwAdACsAFgD+/wIA/f8KAAsABgAbACoAKwApADgARgAwACMAIAALABMAAgAHAAYA/v8BAP//AQD//wAAAAAAAAAAAAAAAAAAAAAAAAAAAAAAAAAAAAAAAAAAAAAAAAAAAAAAAAAAAAAAAAAAAAAAAAAAAAAAAAAAAAAAAAAAAAAAAAAAAAAAAAAAAAAAAAAAAAAAAAAAAAAAAAAAAQD+//b/AQAAAAAAAAAAAAAAAAAAAAAAAAAAAAAAAAAAAAAAAAAAAAAAAAAAAAAAAAAAAAAAAAAAAAAAAAAAAAAAAAAAAAAAAAAAAAAAAAAAAAAAAAAAAAAAAAAAAAAAAAAAAAAAAAAAAAAAAAAAAAAAAAAAAAAAAAAAAAAAAAAAAAAAAAAAAAAAAAAAAAAAAAAAAAAAAAAAAAAAAAAAAPH/2v/D/9f/5v/w/wEAAAD3/9z/x//Y//H/6P/r/+n/tP+y/7f/uv+t/6X/v/+r/73/2P/a/+r/8f/y/wIA//8BAPr/+P8EAPT/AAAAAAEA/v/2/wEAAAAAAAAAAQD3//3/AgD+/wgABQD+/wIABwAVAA8A/v8BAAAAAAAAAAAAAAAAAAAAAAAAAAAAAAAAAAAAAAAAAAAAAAAAAAAAAAAAAAAAAAAAAAAAAAAAAAAAAAAAAAAAAAAAAAAAAAAAAP//9v8BAAAA8//u//P/6//q//j/+P/7//z/9v/y//f/+//1/wIA+//4/wEA8P/x/+r//v8BAP//AgD+/wMA/P8TABEABgAGAP7/AQD//wEAAAAAAAAAAAAAAAAABwAOACQADwAWACQAAwAUACgAIwAIABAAFQAMAB0ADgAUABUAEAAKAAkAAAAUAA4AAAAVAAkAAQAAAP//BAAJAAcAEwALAA0AAQAOABAACgAFAAcAFwD+/xEAHQAYABUAAQAJABMABQD+/wUAEwAAAAAACAAGABUAGgAGAP//FwAeADYAMAAnACYAFQAAAAUAFwAaABQAHwAUABsAMgAjAEkARAA2ADgAPAAzABkACwATABsAFQAEAAYABgD8/wQABwABAP7/AgD+/wIA/v8CAP7/AwD5//T/5f/u//D/5//0/+j//P/z//n/AgD+//b/AAAAAPb/9P8BAP3/9v8CAPP/AgD3//z/AgD//wEAAAAAAAAAAAAAAAAAAAAAAAAAAAAAAAAAAAAAAAAAAAAAAAAAAAAAAAAAAAAAAAAAAAAAAAAAAAAAAAAAAAAAAAAAAAAAAAAAAAAAAP//BgAcAAsAIAAOAPv/AwD+/wIA//8BAP//AQD//wAAAAAAAAAAAAAAAAAAAAAAAAAAAAABAP//AQD//wIA/v8DAPr/7//v/+X/3f/u//H/5f/7//b//P/r//v/+f/w//v/+//6//H/AgD//wEA//8AAAAAAAD//wEA+//3/wIA//8BAP//AQD8/+D/4v/s//3/AQD//wEA//8BAP//AQD//wEA//8CAPr/+f8BAAAAAAAAAAAAAAAAAAAAAAAAAAAAAAAAAAAAAAD3//7/9/8AAAAAAAAAAAAAAAAAAAAAAAD1//b/7f/o/+X/3f/i/9//3f/b/+P/3P/p/+v/7P/w//T/2f/f/+z/3//Z/+n/4f/W/+v/5//p/+f/6f/a/9//z//o/+z/7P/x/+T/6//p//n//f8CAP7/AQAAAAAABgAHAP3/AgD+/wEA//8AAAcACQARAAMAEgALAAEADgAXAAUABQAOAAsAAQAFABUABQACAP7/AgAJAAEAAAAaABIACwAKAAAAAAAAAAsA//8IAAUA/v8BAP//AAAAAAAAAAD//wcABgD+/wEA//8AAAAAAAAAAAAACgAMAAAAAAAAAAAAAAAAAAAAAAAAAAAAAAAAAAAAAAAAAAAA//8HAAcA/P8GAAcA//8AAAAAAAAAAAEACQAHAAYA/P8HAAcA//8BAAAAAAD//wEA/v8KAAIADAAcACEAGQAXABEAEQA+AFYAWwBPAFMAQAAzADkAOgA5ACkAJgAxADsAQAAtADAAHQATADMAGAAUAA0AEgANAAAAAAANABsACQAKAAUACwAAAAEA//8CAP3/BwAGAAAACgAAABUA//8RABUABQALAAIAAAAAAAAAAAAAAAAA9v///wEA/v8CAPP/AwD1//P/9v/v/+v/7f/r/+n/5P/c/+T/5v/y/+3/5//f/+T/3//S/9H/xP/R//z/AQAAAAAAAAAAAAAAAAAAAAAAAAAAAAAAAAAAAAAAAAAAAAAAAAAAAAAAAAAKAAAAAAAAAAAAAAAAAAAAAAAAAAAA//8CAPf//f8BAAAAAAAAAP7/7P8AAAAAAAAAAAAAAAAAAAAAAAAAAAEA8v/l/+r/5v/q/+b/6P/D/9T/6P/c/9D/1v/X/9D/2v/b/+H/2v/c/9//3f/Z/+X/3P/T/9n/0P/P/9L/yP/Y/9P/x//W/8r/3P/S/9P/4v/d/8//0//r/+b/+/8AAAAAAAAAAAAAAAAAAAAAAAAAAAAAAAAAAAAAAAAAAAAAAAAAAAAAAAAAAAAAAAAAAAAAAAAAAAAAAAAAAAAAAAAAAAAAAAAAAAAAAAAAAAAAAAAAAAAAAAAAAAAAAAAAAAAAAAAAAAAAAAAAAAAAAAAAAAEA9//8/wIA9f///wEA/v8EAO//+f/w//r/AADw//r/9//s/+n//P/r/+X/8f/6//T/8P/1/wMA/v8BAAAAAAAKAAAAEQAGABMAGgAlADYAFwANAAAABAAVAAYACwAYABwAIAAlADoAPgAyADsAJAATABwAEwANAAEAAAAAAAAAAAAAAAAAAAAAAAAAAAAAAAAAAAAAAAAAAAAAAAEACgAAAAAAAAAAAP//BwAHAP3/AwD9/wQA+v8YABAA/P8NAP//AQD//wEA//8BAP//AQD//wIA/f8JAAMAAgAJAAMACgD8/wIA/v8CAP7/AgD9/wUABgAFAAcAAwAQABYACgAQACkAFgD//w0AGQAPAA8ABgAOAAIA//8BAP//AgAMABIACwAAAAAAEgAMAAUADgAEAAAA//8EAAkA/f8TAAUA/v8BAP//AQD//wIA/v8CAP3/CAAYABkAFQAeAB8AFgAYAAIAAAAAAAAAAAAAAAAAAAAAAAAAAAAAAAAAAAAAAAAAAAAAAAAAAAAAAAAAAAAAAAAAAAAAAAAAAAAAAAAAAAAAAAAAAAAAAAAAAAAAAAAAAAAAAAAAAAAAAAAAAAAAAAAAAAAAAAAAAAAAAAAAAQD4//L/5f/w/+3/7/8DAP7/AQD//wEAAAAAAAAAAAAAAAAAAAAAAAAAAQD6/+X/8v/u////AAAAAAAAAAAAAP//AQD+/woAAgAKAAAABQAIAAoACwD9/wMA/f8KAAMA//8AAAAAAAAAAAAA//8BAP//AgD9//T/9P/l/+n/7v/j/+3/7P/x/9f/3//i/+P/4v/Q/9T/z//b/9z/w//I/9j/y//V/7v/y//I/8T/pf+9/87/x//S/9H/2//E/8r/w//X/+j/AAD3//j/+v8DAP3/BADo/+D/6//g/9b/1P/c/9//3v/P//L/4f/e/+T//f/q//T/BQD8/wMA7f///+7/7v8AAOv/7v/7/wAAAQD//wEA//8AAAAAAAAAAAAAAAAAAAAAAAAAAAAAAAAAAAAAAAAAAP//AQD+/wMA9P/y/wMA//8BAAAAAAAAAAAAAAAAAAAAAAAAAAAAAAAAAAAAAAAAAAAAAQD//wEA/v8OABsABgAKAP//CQANAAAAAAAAAAAAAAAAAAAAAAAAAAAAAAAKAAAABgAIABAAAgD+/wEA//8BAP//AQD//wEA//8AAAAAAAALAP//AwAKAP7/AQD//wEAAAAAAAAAAQAKAAAAAAAAAAAAAAAAAAAAAAAAAAEACgAAAAAAAAAAAAAAAAAAAAAAAAAAAAAAAAAAAAAAAAAAAAAAAAAAAAAAAAAKAA0AEQAfAB8ADQAUABYAIAAqACQAFQAFAAoACQATABEAFwA1AC0AGgAYAAgA/v8BAP//AAAAAAAAAAAAAAAAAAAAAAAAAAAAAAAAAAAAAAAAAAAAAAAAAAAAAAAAAAAAAAAAAAAAAAAAAAAAAAAAAAAAAAAAAAAAAAAAAAAAAAAAAAAAAAAAAAAAAAAAAAAAAAAAAAAAAAAAAAAAAAAAAAAAAAAAAAAAAAAAAAAAAAAAAAAAAAAAAAAAAAAAAAAAAAAAAAAAAAAAAAAAAAAAAAAAAAAAAAAAAAAAAAAAAAAAAAAAAAAAAAAAAAAAAAAAAAAAAAAAAAAAAAAAAAAAAAAAAAAAAAAAAAAAAAAAAAAAAAAAAAAAAAAAAAAAAAAAAAAAAAAAAAAAAAAAAAAAAAAAAAAAAAAAAAAAAAAAAAAAAAAAAAAAAAAAAAAAAAAAAAAAAAAAAAAAAAAAAAAAAAAAAAAAAQD//wIACgAAAAAAAAAAAAAAAAAAAAAAAAAAAAAAAAD//w4ADwAKAAcADwAOAAAAAAAAAAAAAAAAAAAAAAAAAAAAAAAAAAAAAAAAAAAAAAAAAAAAAAAAAAAAAAAAAAAAAAAAAAAAAAAAAAAAAAAAAAAAAAD2//P/9v8BAAAAAQDz//j/9v/v/+7/5P/s/+P/3//X/+j/8P/5/wIA//8AAAAA+v/5/wMA///4//3/AwD2//z/AQD//wIA+P/7/wEAAAAAAAEA+P/7/wIA//8BAAAAAAAAAAAA9v/+/wMA9v/+/wAAAgD4//z/+f/7/wIA//8AAAAAAAAAAAEA+v/4//j/AAD3//P/AAD2//r/+//7//f/6f/7//z/9f/9//n/7/8DAPz/7v/8//D/8f8DAPb/9P/7/+T/9P/5//z/AgD+/wEA/v/z//j/+f/4/+f/6v/+//n/6//w//r/4//u////AAAAAAAAAAAAAAAAAAAAAAAAAAAAAAAAAAAAAAMACwD7/xUAAwAIABoA/f8HAAcACgAOAAcAAwAJAP3/AgD+/wEACAADAAgAAQD//wUACgD6/xQAHQAYABIAFAAqABkACgAiABYAIwA9ACQAKAA6ADgAQwBTAE4AXgBjAF8AdQBrAHIAdgBiAGsAYgBeAFQAVQBVAEkASAA0ACQAMQAeAB0AIQAjACoAKAAjAB8ALgAYABkAEgD//wEAEwACAP//DAAAAAAAAAAAAAAAAAAAAAAAAAAAAAAAAAAAAAAAAAAAAAEA/v8LABEAEAABAP//AAAAAAAAAAAAAAAAAAAAAAAAAAAKAAAA//8JAAMA/v8TAAYA/v8KAAUADQAKAA4AAgAAAAAAAAAAAAAAAAAAAAAAAAAAAAAAAQD//wEA//8BAP//AgD+//j//P/6//T/7//6//b/8v/3/+n/4//5/+z/+f/n//f//f/r//f/5v/6/+b/7P/e/+T/6P/q/9//uf/L/8P/v//I/9L/zv/S/7j/vP/J/8j/0f/Q/8f/yf+4/7D/yP+5/7j/tv/E/7X/wf+8/7f/tv+//73/vv/T/7b/uf/F/9z/0//Q/8//0f/O/9L/zP/g/9v/zv/L/8D/4//s/wAAAAAAAAAAAAAAAAAAAAAAAAAAAAAAAAAAAAAAAAAAAAAAAAAAAAAAAP//AQD+//n/4v/O/8z/xv/S/8//0P/S/93/5//Z/8z/6P/m/+3/AAD1/wEA+P/8//r/9v/8/wAAAAAAAAEA//8BAP//AQD//wEA//8BAP//AAAJAAMACQAAABYADAD8/w0AAwASAB4AIwAnABoAFQAcACMAJgAfABwADQASABQACgAQAA8AFgABAAsAHgANAAAA//8CAP3/CAAGAP//AAAAAAAAAAAAAAAAAAAAAAAAAAAAAAAAAAAAAAAAAAAAAAAAAAAAAAAAAAD//wMAFAAJABIADQAFABQAKQAXAAMAIAAAAAAACQACAP7/AgD9/xAAFQAMACYAEAASAAgAFQADAAkAGQATAA8A/f8AAAEAFAAfAB4ADAAEAAAA//8GAAcA/v8AAAAAAAAAAAAAAAAAAAAAAAAAAAAAAAAAAAAAAAAAAAAAAAAAAAAAAAAAAAAAAAAAAAAAAAAAAAAAAAAAAAAAAAAAAAAAAAAAAAAAAAAAAAAAAAAAAAAAAAAAAAAAAAAAAAAAAAAAAAAAAAAAAAAAAAAAAAAAAAD///b/AAAAAAAAAAAAAAEA//8DAPD/9v8DAP7/AgD1////AAAAAAAAAAAAAPX/AAAAAAAAAAAAAAAAAAAAAAAAAQD+/xIAEwD7/wYABgAEAAoABwAYABMADQD+/w4AHwAHACsAIQAUACEAHgAtACgAKQAjABgAFQALAAIAAAAAABMABAD+/wYACAAIAAEA//8BAP//AQAKAAAAAAD//wYABwARABoAFwAKAAcAAgD+/wEA//8BAP//AAAAAAAAAAAAAAAAAQD3//3/AgD+/wIA/P/4//7/8f/7/wEA//8BAPT/AAD5//r/AgD///f//v8BAP//AQAAAAAAAAAAAAAAAAAAAAAAAAAAAAAAAAAAAAAAAAAAAAAAAAAAAAAAAAABAP3/8//p/+f/6P/o/+j/6f/j/9j/7f/4/+X/2f/j/+n/7//6/wAAAAAAAP//8v/5//j/+P/5//j/AAAAAAAAAAAAAAAAAAAAAAAAAAAAAAAAAAAAAAEA/v/2/wEAAAAAAAAAAAAAAAAAAAAAAAAAAAAAAAAAAAAAAAAAAAABAP//AgD3//z/AAAAAP//AgD3//3//v/2/wIA9P8AAAAAAAAAAAAAAAAAAAAAAAAAAAAAAAAAAAAAAAAAAAAAAAAAAAAAAAAAAAAAAAAAAAAAAAAAAAAAAAAAAAAAAAAAAAAAAAAAAAAAAAAAAAAAAAAAAAAAAAAAAAAAAAAAAAAAAAAAAAAAAAAAAAAAAAAAAAAAAAAKAAEA//8AAAAAAAAAAAAABgAIABAABAD8/woAAwAAAAAAAQD//wEA/v8CAP3/BwAYABgAGAAMAAUABQD7/wUADwAJAA8ABwAYAAMAAAAAAAUACAD9/wIA/v8BAP//AAAAAAAAAAAAAAAAAAABAP//AQD//wIACgAUAAAAAwAPAAMABwAHABMA//8SAAUAAAAUAAsAAAAIAAQACQAYAAEAEQACAAAAAAAAAAAAAAAAAAAAAAAAAAAAAAAAAAAAAAAAAAAAAAAAAAAAAAAAAAAAAAAAAAAAAAAAAAAAAAAAAAAAAAAAAAAAAAAAAAAAAAAAAAAAAAAAAAAAAAAAAAAAAAAAAAAAAAAAAAAAAAAAAAAAAAAAAAAAAAAAAAEA+f/5/wQA8//3/+3/+/8AAPD//P/w//j/AwD+/+n/9v/5//7/AgD//wEA//8BAP//AAAAAAAAAAAAAAAAAAAAAAAAAAAAAAAAAAAAAAAAAAAAAAAAAAAAAAAAAAAAAAAAAAAAAAAAAAAAAAAAAAAAAAAAAAAAAAAAAAAAAAAAAAAAAAAAAAAAAAAAAAAAAAAAAAAAAAAAAAAAAAAAAAAAAAAAAAAAAAAAAAAAAAAAAAAAAAAAAAAAAAAAAAAAAAAAAAAAAAAAAAAAAAAA7v/k//X/AQAAAAAAAAAAAAAAAAAAAAAAAAAAAAAAAAAAAAAAAAAAAAAAAAAAAAAAAAAAAAAAAAAAAAAAAQD3//D/4P/g//P/1f/p/+//9P/o/+j/4//k/+j/7/8AAPT/AwD//wEAAAAAAAAAAAAAAAEA+f/4//X/9P/0//r/AgD+/wEA//8BAP//AAAAAAAAAAAAAAAAAAAAAAAAAAAAAAAAAAAAAAAAAAAAAAAAAAABAP//AQD9//f/AAAAAAAAAAD//wIA+//4/wIAAAAAAAAAAAAAAAAAAAAAAAAAAAAAAAAAAAAAAAAAAAAAAAAAAAAAAAAAAAAAAAAAAAAAAAAAAAAAAAAAAAAAAAAAAAAAAAAAAAAAAAAAAAAAAAAAAAAAAAAAAAAAAAAAAAAAAAAAAAAAAAAAAAAAAAAAAAAAAAAAAAAAAAAAAAAAAAAAAAAAAAAAAAAAAAAAAAAAAAEA//8BAP//AQD+/wQACQD//wsAAAAAAAAAAAAAAAAA//8IAAQA/v8BAAAAAAAAAAAAAAAAAAAAAAAAAAAAAAALAAAAAAAAAAAA//8HAAYA/v8BAP//AAAAAAAAAAAAAAAAAAAAAAAAAgAUAAoAAQD//wEA//8BAP//AgD9/w0AFwAAAAsAAAAAAP//DQAQABQAGwAAAAYAIgAUAC4AJwAfADYAKwA2ABcAJgAjACQAJgAMAAEA//8JAAcABwACABIAEwAWAA4AAAAAAAAAAAAAAAAAAAAAAAAAAAAAAAAAAAAAAAAAAAAAAAAAAAAAAAAAAAAAAAAAAAAAAAAAAAAAAAAAAAAAAAAAAAAAAAAAAAAAAAAAAAAAAAAA//8CAPD/7P/z/+D/6v/s/+f/6P/o/+L/1v/d/+z/5v/r/+b/6//h/+H/6v/n/+r/2v/X/9j/6//e/+b/2v/d/+f/3f/w/+H/8//3/97/5//q/+X/7//z//n/7v/m/97/3P/b/9H/8//1/+f/4v/i//D/6//o/83/0//Z/9H/5//f/+X/6v/l//P/6//n/+j/6f/2//H/8P/x/+//8v/n/+r/3P/e/+H/3P/v/+j/5//5/wEA//8AAAAAAAAAAAAAAAAAAAAAAAAAAAAAAAAAAAAAAAAAAAAAAAAAAAAAAAAAAAAAAAAAAAAAAAAAAAAAAAAAAAAAAAAAAAAAAAAAAAAAAAAAAAAAAAABAPn/+v8CAP//AQD//wAAAAAAAAAA9f8AAAAAAQD//wMA9//9//f/8P8EAP7/AQD//wAAAAAAAAAA//8HAA8AGgASAAUAFAAPABcAAAAYAB8ACgAbAAwAFwAHABAAFAAQABQAEAAeABEAEgAUAAMA/v8CAAoA//8KAAEABAAIAAoACgABAAsABQALABEAEQAmACAAIgAuACgAJgASADAAOgBAAEcAMQAaAA8AGAARAAoABwARAAwACgARAAkAGAATAP//AAALAA8A+v8FAAUADAAXAAAAAAAAAAAAAAAAAAAAAAAAAAAAAAAAAAAAAAAAAAAAAAAAAAAAAAAAAAAAAAAAAAAAAAAAAAAAAAAAAAAAAAAAAAAAAAAAAAAAAAAAAAAAAAAAAAAAAAAAAAAAAAAAAAAAAAAAAAAAAAAAAAAAAAAAAAAAAAAAAAAAAAAAAAAAAAAAAAAAAAAAAAAAAAAAAAAAAAAAAAAAAAAAAAAAAAAAAAAAAAAAAAAAAAAAAAAAAAAAAAAAAAAAAAAAAAAAAAAAAAAAAAAAAAAAAAAAAAAAAAAAAAAAAAAAAAAAAAAAAAAAAAAAAAAAAAAAAAAAAAAAAAAAAAAAAAAAAAAAAAAAAAAAAAAAAAAAAAAAAAAAAAAAAAAAAAAAAAAAAAAAAAAAAAAAAAAAAAAAAAAAAAAAAAAAAAAAAAAAAAAAAAAAAAAAAAAAAAD//wIA/f8LAA4A/v8AAAEA/f8MAA0ABgAEAP7/AQD//wAAAAAAAAAAAAAAAAAAAAAAAPr/9//5/wAAAQD//wEA/f/0//P/+f8DAPf/7f/z/+z/+f8AAAAA//8CAPr/+f8BAAAAAAAAAAAAAAAAAAAAAAAAAAAAAAD//+r/9P8EAP3/+P///wEAAAD2//T/7v/8/wAA8f/r/+b/6v/n/+n/6P/o/+r/9f/y/+3/9P/p//T/9f/y/wMA//8AAAAAAAAAAAAAAAAAAAAAAAAAAAAAAAAAAAAAAAAAAAAAAAABAP//AwD4//D/7v/9//7/9v8CAP//AAAAAAAAAAAAAAEA//8CAPv/7v8AAAAAAAAAAAAAAAAAAAAAAAAAAAAAAAAAAAAAAAAAAAAAAAAAAAAAAAAAAAAAAAAAAAAAAAAAAAAAAAAAAAAAAAAAAAAAAAAAAAAAAAAAAAAAAAAAAAAAAAAAAAAAAAAAAAAAAAAAAAAAAAAAAAAAAAAAAAAAAAAAAAAAAAAAAAAAAAAAAAAAAAAAAAAAAAAAAAAAAAAAAAAAAAAAAAAAAAAAAAAAAAAAAAEADAAKAP7/AQD//wEAAAAAAAAAAAAAAAAAAAD//wIA/f8KABAAIwAfABoAAwAJAA8AFgASAAwAGgAOABsABgATAAkACAABAP//AQABABEAAQAJAAQA/f8RAAkA/P8KAAsADwAcAAMAAgAKAP//AAAAAP//AwAIAAEAGQAXABgAGAAYABgAGAAWAA0AEgAGAAAAAAAAAAAAAAAAAAoAAAAAAAAAAAAAAAAAAAAAAAAAAAAAAAAAAAAAAAAA//8BAPr/8v/9/wEAAAAAAAAA7//z////AAAAAAAAAAAAAAAAAAD///b/AAAAAAAAAAAAAAAAAAAAAPX/AAAAAAAAAAAAAAEA+f/6/wIA//8BAP//AAAAAAAAAAAAAAEA7P////X/5v/a/9j/5P/r/+L/5P8CAAAA+v/z//v/9/8DAP3/9/8AAAAAAAAAAAAAAAAAAAAAAAAAAAAAAAABAP//AgD3//z/AQD//wAAAAAAAAAAAAAAAAEA/v/2/wAAAQD7//j/+P/7/+T/8/8EAP7/AQAAAAAAAQD5//r/AQAAAPz/+P/9//b/+f8AAPP/7//9//P/8P/w//D/+/8BAAAAAAD+//D//f/6//P/9P////3/8P/+/wAAAAAAAAAAAAAAAAAAAAAAAAAAAAAAAAAAAAAAAAAAAAAAAAAAAAAAAAAAAAAAAAAAAAAAAAAAAAAAAAAAAAAAAP//AQD//wIA/v8EAAYADQAMAP3/AQD//wEAAAABAAkAFAADAAcABAD+/wEA//8BAAAAAAABAPn/+f8DAP7/AQD//wAAAAAAAAAAAAAAAAAAAAAAAAAA9f8AAAAAAAAAAAAA//8CAAoA//8BAP//BwAYAAsAAwAHAAQACAACAP3/BgAIAP//AAAAAAAAAAAAAAAAAAAAAAAAAAD//wcABgD+/wEAAAAAABMAEQASABIADgABAP//AQD//wAAAAAAAAAAAAAAAP//BwAHAP3/CgAMAAsAAQD//wMACQD//wEACgAAAAAAAAAAAAAAAAAAAAAAAAAAAAAAAAAAAP//CwALAAEACgAWABUACgABAP//AAAAAAAAAAAAAAAAAAAAAAAAAAAAAAAAAAAAAAAAAAAAAAAAAAAAAAAAAAAAAAAAAAAAAAAAAAAAAAAAAAAAAAAAAAAAAAAAAAAAAAAAAAAAAAAAAAAAAAAAAAAAAAAAAAAAAAAA//8KAAMA//8AAAAAAAAAAAAAAAAAAAAA//8FAAgA/v8CAA0ACQD+/wEA//8HAA0ACwACAP//DQD9/wUACAAAAAsAAAAAAAAAAAAAAP//AQD//wEA/f8IAAUABQAPAAAAAAAAAAAAAAAAAAAAAAAAAAAAAAAAAAAAAAAAAAAAAAAAAAAAAAAAAAAAAAAAAAEA//8DAPT/5//x//3/+f/7/wEAAAD8//b/+v/1/+b/6v/i/8//3//X/9n/3P/i/+n/2v/c/9b/4v/g/+r/6P/m//j/8f/3//H/+P/1//j/+P///wAAAQD7//j/AgDs/+b/8//r/9z/3P/d/+r/5//f/+T/8//r/+n/2f/a/8//2v/g/8v/0v/Z/97/2f/s/+H/6//V/9b/7P/l/+r/6v/7/+f/3//t/+b/7f/s/+n/9f/+//T/4v/z/+3/9f/9//j//f/3/wAAAAAAAAAAAAAAAAAA9//+/wEA/v/0//f/AgD+//f///8CAPX///8AAAEA9//8/wIA//8AAAAAAAAAAAAAAQD5//r/AgD+/wEA//8CAPf//P8BAP//AQD//wIA9f///wAAAAAAAAAAAAAAAAAAAQD+/+3///8BAAAAAAD//wEA//8BAP//AQD+/wUACQD9/wkABQD+/wEA//8BAP//CAANAAEAAAAAAAAAAAAAAAAAAAAAAAAAAAAAAAAAAAAAAAAAAAAAAAAAAAAAAAAAAAAAAAEA/v8LABgAAQAcAA4ABwAcABQAHwAgABAAEAAeAAUABwAQABMAEAARAAoAEgAXAA0AFwABAP//AQD+/wMA+/8VACEAGwAjAB8AMQAkADEAKAAqAB0AFgAZABcAJgAhADYANgArAC8AQQAtADIALgAzACcAHgAmAB4AIQAWABgAGgAiAB0ADAASABgACwAEAP//DAAAAAAAAAAAAAAA//8BAP//AgD+/wMA/P8LAAIAAQD9/wkADwAIABkAAAAAAAAAAAAAAAAAAAAAAP//CAAFAP7/AQD//wEA//8BAAAAAAAAAAAAAAAAAAAAAAAAAAAAAAAAAAAAAAAAAAAAAAAAAAAA9f8AAAAAAAAAAAAAAAAAAAAAAAAAAAAAAAAAAAAAAAAAAP//AQD3//z/AQD//wAAAAAAAAAAAAAAAAAAAAAAAAAAAAAAAAAAAAAAAAAAAAAAAAAAAAAAAAAAAAAAAAAAAAAAAAAAAAAAAAAAAAAAAAAAAAAAAAAAAAAAAAAAAAAAAAAAAAAAAAAAAAD//wIA8P/3//P/7/8AAAAAAQD//wEA//8BAP//AQD//wEA//8BAP7/AgD9//n//P/4/wAAAAD+//D/7v/2/wIAAAAAAAAAAAD3//3/AwD3//r/9v8EAPf//P////X/AwD+/wIA/P/5//b////8//f/+f8AAAAAAAAAAP//AQD2//7/9//+/wEA//8BAPX/9f8AAAAAAAAAAAAAAAAAAAAAAAAAAAAAAAAAAAAAAAAAAAAAAAAAAAAAAAAAAAAAAAAAAAAAAAAAAAAAAAAAAAAAAAAAAAAAAAAAAAAAAAAAAAAAAAAAAAAAAAAAAAAAAAAAAAAAAAAAAAAAAAAAAAAAAAAAAAAAAAAAAAAAAAAAAAAAAAAAAAAAAAAAAAAAAAAAAAAAAAAAAAAAAAAAAAAAAAAAAAAAAAAAAAAAAAAAAAAAAAAAAAAAAAAAAAAAAAAAAAAAAAAAAAAAAAAAAAAAAAAAAAAAAAAAAAAAAAAAAAAAAAAAAAAAAAAAAAAAAAAAAAAAAAAAAAAAAAAAAAAAAAAAAAAA/v8NAA0ACQATABIACgANABQABwAAAAAAAAAAAAAAAAAAAA0ADwAJAAUADQAHABoAHAAZACUALAAnACAALAAdACIADQAYABkADgARAAMAEQAAAAUAEQAHAAYA//8AAAAAAAAAAAAAAAAAAAAAAAAAAAAAAAAAAAAAAAAAAP//AQD+/wYABwD+/wEAAAAAAAAAAAAAAAAAAAAAAAAAAAAAAAAAAAAAAAAAAAAAAAAAAAAAAAAAAAAAAAAAAAAAAAAAAAAAAAAAAAAAAAAAAAAAAAAAAAAAAAAAAAAAAAAAAAAAAAAAAAAAAAAAAAAAAAAAAAAAAAAAAAAAAAAAAAAAAAAAAAAAAAAAAAAAAAAAAAAAAAAAAAAAAAAAAAAAAAAAAAAAAAAAAAAAAAAAAAAAAAAAAAAAAAAAAAAAAAAAAAAAAAAAAAAAAAAAAAAAAAAAAAAAAAAAAAAAAAAAAAAAAAAAAAD//wEA7f/n/+j/8f/5/wIA/v/2/wMA8f/2//T/8//9//n/8v/3//H/+f/k/+7//P/y//b/4//5//L/5//z/+//8P/y/+D/5//z//b/+v8AAAEA//8BAP//AQD1////AAAAAAAAAAAAAAAAAAAAAAAAAAAAAAAAAAAAAAAAAAAAAAAAAAAAAAAAAAAAAAAAAAAAAAAAAAAAAAAAAAAAAAAAAAAAAAAAAAAAAAAAAAAAAAAAAAAAAAAAAAAAAAAAAAAAAAAAAAAAAAAAAAAAAAAAAAAAAAAAAAAAAAAAAAAAAAAAAAAAAAAAAAAAAAAAAAAAAAAAAAAAAAAAAAAAAAAAAAAAAAAAAAAAAAAAAAAAAAAAAAAAAAAAAAAAAAAAAAAAAAAAAAAAAAAAAAAAAAAAAAAAAAAAAAAAAAAAAAAAAAAAAAAAAAAAAAAAAAAAAAAAAAAAAAAAAAAAAAAAAAAAAAAAAAAAAAAAAAAAAAAAAAAAAAAAAAAAAAAAAAAAAAAAAAAAAAAAAAAAAAAAAAAAAAAAAAAAAAAAAAAAAAAAAAAAAAAAAAAAAQAMAPv/EwASABEAGQABAP//BgAHAP7/AQD//wAAAAAAAAAAAAAAAAAAAAAAAAAAAAAAAAAAAAAAAAAAAAAAAAAAAAAAAAAAAAAAAAAAAAAAAAAAAAAAAAAAAAAAAAAAAAAAAAAAAAAAAAAAAAAAAAAAAAAAAAAAAAAAAAAAAAAAAAAAAAAAAAAAAAAAAAAAAAAAAAAAAAAAAAAAAAAAAAAAAAAAAAAAAAAAAAAAAAAAAAAAAAAAAAAAAAAAAAAAAAAAAAAAAAAAAAAAAAAAAAAAAAAAAAAAAAAAAAAAAAAAAAAAAAAAAAAAAAAAAAAAAAAAAAAAAAAAAAAAAAAAAAAAAAAAAAAAAAAAAAAAAAAAAAAAAAAAAAAAAAAAAAAAAAAAAAAAAAAAAAAAAAAAAAAAAAAAAAAAAAAAAAAAAAAAAAAAAAAAAAAAAAAAAAAAAAAAAAAAAAAAAAAAAAAAAAAAAAAAAAAAAAAAAAAAAAAAAAAAAAAAAAAAAAAAAPv/5P/0/+r/6f/b/9//4P/b/+H/4P/q/+f/6f/n//b/+v/3/+n//f8BAP//AQD//wEA//8BAP//AQAAAAAAAAAAAAAAAAAAAAAAAAAAAAAAAAAAAAAAAAAAAAAA//8BAP//AgD5//r/AQAAAP//5v/6/wEAAAAAAAAA/f/w//3/AAAAAP//AgD4//v/AgD//wAAAAAAAAAAAAAAAAAAAAAAAAAAAAAAAAAAAAAAAAAAAAAAAAAAAAAAAAAAAAAAAAAAAAAAAAAAAAAAAAAAAAAAAAAAAAAAAAAA/v/2/wIA/v8DAPf/6P8AAAAAAAAAAAAAAAAAAAAAAAAAAAAAAAAAAAAAAAAAAAAAAAAAAAAAAAAAAAAAAAAAAAAAAAAAAAAAAAAAAAAAAAAAAAAAAAAAAAAAAAAAAAAAAAAAAAAAAAAAAAAAAAAAAAAAAAAAAAAAAAAAAAAAAAAAAAAAAAAAAAAAAgALAPr/DAANAAgACwASAAgACgAKAAYADgAAAAsAAAAAAAAAAAD//wYACAAQAAQA/f8NAP//AAAHAAUA/P8EAAgAAQD//wEA//8AAAYACQAQAAMA/P8KAAMAAQAMAPv/CwAPAP//AAABAP7/CQAQAP3/AQAAAAAAAAAAAAAAAAAAAAAAAAAAAAAAAAAAAAAAAAAAAAAAAAAAAAAAAAAAAAAAAAAAAAAAAAAAAAAAAAAAAAAAAAAAAAAAAAAAAAAAAAAAAAAAAAAAAAAAAAAAAAAAAAAAAAAAAAAAAAAAAAAAAAAAAAAAAAAAAAAAAAAAAAAAAAAAAAAAAAAAAAAAAAAAAAAAAAAAAAAAAAAAAAAAAAAAAAAAAAAAAAAAAAAAAAAAAAAAAAAAAAAAAAAAAAAAAAAAAAAAAAAAAAAAAAAAAAAAAAAAAAAAAAAAAAAAAAAAAAAAAAAAAAAAAAAAAAAAAAAAAAAAAAAAAAAAAAAAAAAAAAAAAAAAAAAAAAAAAAAAAAEA+f/6/+///f8BAAAA+f/s//r/AAD3//L/9//r/+//+v8AAAAAAAAAAAAAAAAAAAAAAAAAAAAAAAAAAAAAAAAAAAAAAAAAAAAAAAAAAAAAAAAAAAAAAAAAAAAAAAAAAAAAAAAAAAAAAAAAAAAAAAAAAAAAAAAAAAAAAAAAAAAAAAAAAAAAAAAAAAAAAAAAAAAAAAAAAAAAAAAAAAAAAAAAAAAAAAAAAAAAAAAAAAAAAAAAAAAAAAAAAAAAAAAAAAAAAAAAAAAAAAAAAAAAAAAAAAAAAAAAAAAAAAAAAAAAAAAAAAAAAAAAAAAAAAAAAAAAAAAAAAAAAAAAAAAAAAAAAAAAAAAAAAAAAAAAAAAAAAAAAAAAAAAAAAAAAAAAAAAAAAAAAAAAAAAAAAAAAAAAAAAAAAAAAAAAAAAAAAAAAAAAAAAAAAAAAAAAAAAAAAAAAAAAAAAAAAAAAAAAAAAAAAAAAAAAAAAAAAAAAAAAAAABAP7/BwAHAP7/AQD//wAAAAAAAAAAAAAAAAAAAAAAAAAAAAAAAAAAAAD//wkAAwD//wEAAAAAAAAAAAAAAAAAAAAAAAAAAAAAAAAAAAAAAAAAAAAAAAAAAAAAAAAAAAAAAAAAAAAAAAAAAAAAAAAAAAAAAAAAAAAAAAAAAAAAAAAAAAAAAAAAAAAAAAAAAAAAAAAAAAAAAAAAAAAAAAAAAAAAAAAAAAAAAAAAAAAAAAAAAAAAAAAAAAAAAAAAAAAAAAAAAAAAAAAAAAAAAAAAAAAAAAAAAAAAAAAAAAAAAAAAAAAAAAAAAAAAAAAAAAAAAAAAAAAAAAAAAAAAAAAAAAAAAAAAAAAAAAAAAAAAAAAAAAAAAAAAAAAAAAAAAAAAAAAAAAAAAAAAAAAAAAAAAAAAAAAAAAAAAAAAAAAAAAAAAAAAAAAAAAAAAAAAAAAAAAAAAAAAAAAAAAAAAAAAAAAAAAAAAAAAAAAAAAAAAAAAAAAAAAAAAAAAAAAAAAAAAAAAAAAAAAAAAAAAAAAAAAAAAAAAAAAAAAAAAAAAAAEA//8CAPn/+v8AAAEA8v/0/wQA/v8BAP//AQAAAAAAAAAAAAAAAAAAAAAAAAAAAAAAAAAAAAAAAAAAAAEA//8BAP7/9/8AAAAAAAAAAAAAAAAAAAEA//8BAP3/9/8BAAAAAAAAAAAAAAAAAAAAAAAAAAAAAAAAAAAAAAAAAAAAAAAAAAAAAAAAAAAAAAAAAAAAAAAAAAAAAAAAAAAAAAAAAAAAAAAAAAAAAAAAAAAAAAAAAAAAAAAAAAAAAAAAAAAAAAAAAAAAAAAAAAAAAAAAAAAAAAAAAAAAAAAAAAAAAAAAAAAAAAAAAAAAAAAAAAAAAAAAAAAAAAAAAAAAAAAAAAAAAAAAAAAAAAAAAAAAAAAAAAAAAAAAAAAAAAAAAAAAAAAAAAAAAAAAAAAAAAAAAAAAAAAAAAAAAAAAAAAAAAAAAAAAAAAAAAAAAAAAAAAAAAAAAAAACgACAP7/CQAEAP//AAAAAAAAAAD+/xAACQADAAoADwAFAP//FAALAAEABQALAAQADQAOAA4ADgAOAA4ADQAkABQAAgAIABQABgD//wAAAAD//wYABwD+/wEA//8BAAAAAAAAAAAAAAAAAAAAAAAAAAAAAAAAAAAAAAAAAAAAAAAAAAAAAAAAAAAAAAAAAAAAAAAAAAAAAAAAAAAAAAAAAAAAAAAAAAAAAAAAAAAAAAAAAAAAAAAAAAAAAAAAAAAAAAAAAAAAAAAAAAAAAAAAAAAAAQD//wEA//8CAAgAAwAKAP7/AQD//wEA//8FAAgA/v8BAP//AAAAAAAAAAAAAAAAAAAAAAAAAAAAAAAAAAAAAAAAAAAAAAAAAAAAAAAAAAAAAAAAAAAAAAAAAAAAAAAAAAAAAAAAAAAAAAAAAAAAAAAAAAAAAAAAAAAAAAAAAAAAAAAAAAABAP//AgD7//j/AgD+/wIA/v8DAPf//P/+//j//f/4//H/+P8DAP7/AQD//wAAAAAAAAAAAAAAAAAAAAAAAAEA//8BAP//7v/8/wIA8//3//3/9/8AAAAAAAAAAAAAAAAAAAAAAAAAAP//AQD1/wAAAADz//b/AgD+//n/9f/x/wMA//8BAAAAAAAAAAAAAAAAAAAAAAAAAP//AgD5/+3/+f///+j/6f/n//f/7//1////5v/r//T/9f/6//f/+f/9//f/6f/s//3/8P/x/+//9P/0////AAAAAP//8f/6//7/7v/1//7/7f/8/+b/6v/7/+v/5f/w/+//5//+/+v/7v/r/+n/5//o//L/4f/w/+r//P8CAP7/AQD//wEA//8BAP//AQD//wAAAAAAAAAAAAAAAAEA/f/x//v/AQAAAAAAAAAAAAAAAAAAAP//AgD5//n/AgD//wAAAAAAAAAAAAAAAAAAAAAAAAAAAAAAAAAAAAAAAAAAAAAAAAAAAAAAAAAAAAAAAAAAAAAAAAAAAAAAAAAAAAAAAAAAAAAAAAAA//8JAAQA/v8BAP//AQD//wEA//8BAP//AQD//wIA/f8UABEA/v8ZAAkABwAUABIACAAQAAMAEgARAAAACwAGAA4AAAAAAA4ABgAEABIAEQAGAP//AAALAAAABgAcAAwA//8eAAAADAAgABAAJQATABsAFQAbABUAFgANAAgAEgAOABEABAAQABsADwAKABcAFwATAA0ADQAKAAUAAAAAAAAAAAAAAAAAAAAMAP3/BgAGAAUAEwAKABEAEQAJAA4ADwAZACUAJQAfABYAGAAYABUAAwAQAAMAAAD//wUACAD//wsAAAAAAAAA//8DAAcADAANAP3/AQAAAAAAAAAAAAAAAAAAAAAAAAAAAAAAAAAAAAAAAAAAAAAAAAAAAAAAAAAAAAAAAAAAAAAAAAAAAAAAAAAAAAAAAAAAAAAAAAAAAAAAAAAAAAAAAAAAAAAAAAAAAAAAAQD//wEA/v/4//f//f8AAPf/+P/6/wEAAAAAAAAAAAAAAAAAAAAAAAAAAAAAAAAAAAAAAAAAAAAAAAAAAAAAAAAAAAAAAAAAAAAAAAAAAAD//wIA+v/5/wIA//8BAP//AQD+//f/AAAAAP//AgD4//v/AQAAAAAAAAAAAAAAAAD2////AQAAAAAAAAAAAAAAAAAAAAAAAAAAAAAAAAAAAAAAAAAAAAAAAAABAPb//v8BAAAAAAAAAAAAAAAAAAAAAAAAAAAAAAAAAAAAAAAAAAAAAAAAAAAAAAAAAAAAAAAAAAAAAAAAAAAAAAAAAAAAAAAAAAAAAAAAAAAAAAAAAAAAAAAAAAAAAAAAAAAAAAAAAAAAAAAAAAAAAAAAAAAAAAAAAAAAAAAAAAAAAAAAAAAAAAAAAAAAAAAAAAAAAAAAAAAAAAAAAAAAAAAAAAAAAAAAAAAAAAAAAAAAAAAAAAAAAAAAAAAAAAAAAAAAAAAAAAAAAAAAAAAAAAAAAAAAAAAAAAAAAAAAAAAAAAAAAAAAAAAAAAAAAAAAAAAAAAAAAAAAAAAAAAAAAAAAAAAAAAAAAAAAAAAAAAAAAAAAAAAAAAAAAAAAAAAAAAAAAAAAAAAAAAAKAAAAAAAAAAAAAAAAAAAAAAAAAAAAAAAAAAAAAAAAAAAAAAAAAAAAAAAAAAAAAAAAAAAAAAAAAAAAAAAAAAAAAAAKAAEA//8BAP//BQAJAPz/BAAHAAMACQD+/wEAAAAAAAAAAAAAAAAAAAAAAAAAAAAAAAAAAAAAAAAAAAAAAAAAAAAAAAAAAAAAAAAAAAAAAAAAAAAAAAAAAAAAAAAAAAAAAAAAAAAAAAAAAAAAAAAAAAAAAAAAAAAAAAAAAAAAAAAAAAAAAAAAAAAAAAAAAAAAAAAAAAAAAAAAAAAAAAAAAAAAAAAAAAAAAAAAAAAAAAAAAAAAAAAAAAAAAAAAAAAAAAAAAAAAAAAAAAAAAAAAAAAAAAAAAAAAAAAAAAAAAAAAAAAAAAAAAAAAAAAAAAAAAAAAAAAAAAAAAAAAAAAAAAAAAAAAAAAAAAAAAAAAAAAAAAAAAAAAAAAAAAAA//8BAP3/7v/6//j/9/8AAOj/7f///wMA9P/z//f/7f/9/wAAAAAAAP//AQD+//f/AAAAAPD/8v/+/wIA/f8EAPj/8P8AAAEA/P/3/wMA+f/6/wIA//8AAAEA7f/u//H/9P/x/+X/6v/n//H/8f/u//j/AgAAAP//8f/7/wEAAAAAAAAAAAAAAAAAAAAAAAAAAAAAAAAAAAAAAAAAAAAAAAAAAAAAAAAAAAABAP3/9//4//3/AwD3//z/AQAAAAAAAAAAAAAAAAAAAAAAAAAAAAAAAAAAAAAAAAAAAAAAAAAAAAAAAAAAAAAAAAAAAAAAAAAAAAAAAAAAAAAAAAAAAAAAAAAAAAAAAAAAAAAAAAAAAAAAAAAAAAAAAAAAAAAAAAAAAAAAAAAAAAAAAAAAAAEA//8CAP3/BwAFAAUABwD+/wEA//8AAAAAAAAAAAAAAAAAAAAAAQD+/wUACAD+/wEAAAAAAAAAAAAAAAAAAAAAAAAAAAABAP//AQD+/wcABgAAAA0A+/8SABMACgAMABIAAgD//wwA//8BAP//CwABAAAAAAAIAAUA/f8OAP3/BAAIAAAABwAKAA8A//8AAAEA/v8JAAMABwAEAP7/AQAAAAAACQADAP//AQAAAAAAAAAAAAAAAAAAAAAAAAAAAAAAAAAAAAAAAAAAAAAAAAAAAAAAAAAAAAAAAAAAAAAAAAAAAAAA//8KAAMA//8AAAAAAAAAAAAAAAD//wIACgD//wAAAAAAAAAAAAAAAAAAAAAAAAAAAAAAAAAAAAAAAAAAAAAAAAAAAAAAAAAAAAAAAAAAAAAAAAAAAAAAAAAAAAAAAAAAAAAAAAAAAAAAAAAAAAAAAAAAAAAAAAAAAAAAAAAAAAAAAAAAAAAAAAAAAAAAAAAAAAAAAAAAAAAAAAAAAAAAAAAAAAAAAAAAAAAAAAAAAAAAAAAAAAAAAAAAAAAAAAAAAAAAAAAAAAAAAAAAAAAAAAAAAAAAAAAAAAAAAAAAAAAAAAAAAAAAAAEA//8CAPz/9/8BAAAAAAAAAAAAAAAAAAAAAAAAAAAA//8CAPn/+v8DAPb//f8CAPH/+v/z//T/AwD//wAAAAAAAAEA+v/4/wMA9v/9/wEA//8AAAAAAAAAAAAAAAAAAAAAAAAAAAAAAAAAAAAA//8CAPn/+f8CAP//AQD1/wAAAAAAAAAAAAAAAPT/AQD//wIA+v/4/wMA9//8//v/9f/9//7/9/8AAAMA+P/x//j/7f/3//L/8P/9/+//AQD5//v/+f/8//n/+/8CAPX/AAAAAAAAAAD//wEA/v/2/wAAAAAAAAAA///1/wMA+v/v/+//+v8CAP//AQD//wAA7P/+/wAAAAAAAAEA/f/3//j//v8BAAAA/v/2//n//f8CAP//AQD//wAAAAAAAAAAAAAAAAAAAAAAAAAAAAAAAAAAAAAAAAAAAAAAAAAAAAAAAAAAAAAAAAAAAAAAAAAAAAAAAAAAAAAAAAAAAAAAAAAAAAAAAAAAAAD//wEA/v8FAAgA/v8BAAAAAAAAAAAAAAAAAAAAAAAAAAAAAAAAAAAAAAAAAAAAAAAAAAAAAAAAAAAABgAOAAoABwAMAAcACAACAA4AEAAFAA4ACwAGABUAJAAYABMAFAAUABsAEQAAAA0ACQD//wEA//8CAP3/BgAHAAAA//8DAA8AEwAHABAAFAAHAAAAAAAJAAMABwAKAAEABAAIAAIAEAAIAAkADwASABkABQANACwAEgAPABsAAQAZAAgABAAJAPz/CgAMAAoAEgASAPz/CgANAAAAEQAHAP3/AgD//wEAAAAAAAAAAAAAAAAAAAAAAAAA//8BAP7/AwAIAAAA/v8IAAQABgAFAP7/AQD//wAAAAAAAAAAAAAAAAAAAAAAAAAAAAAAAAAAAAAAAAAAAAAAAAAAAAAAAAAAAAAAAAAAAAAAAAAAAAAAAAAAAAAAAAAAAAAAAAAAAAAAAAAAAAAAAAAAAAAAAAAAAAAAAAAAAAAAAAAAAAAAAAAAAAAAAAAAAAAAAAAAAAAAAAAA/v/1/wUA9//w/wIA/v8CAO//8v/2//H/7//u/+L/9f/3//f/8//y//3/5v/8//b/AwD6//f/+P/q/wEA+v/5//f/AAAAAPj/7v/n/+n//f8CAPX/AAAAAAEA9//6/+n/6f/z/+n/5f/e/+v/2//p/+j/3//u//H/9P/w//L/+P/3//z/+v/6/wMA+v/4//f/8v/4/wAAAAAAAAAAAAAAAAAAAAAAAAAAAAAAAAAAAAAAAP//AgD7//j/AgD//wAAAAAAAPb///8AAAAAAAAAAPz/9v8HAPD/9//9//f/AgD//wEAAAAAAAAAAAAAAAAAAAAAAAAAAAAAAAAAAAAAAAAAAAAAAAAAAAAAAAAAAAAAAAAAAAAAAAAAAAAAAAAAAAAAAAAAAAAAAAAAAAAAAAAAAAAAAAAAAAAAAAAAAAAAAAAAAAAAAAAAAAAAAAAAAAAAAAAAAAAAAP//FAACAAMACgD9/wIA//8BAAAAAAAAAAAAAAAAAAAAAAAAAAAAAAAAAAAAAAAAAAAAAAAAAAAAAAAAAAAAAAAAAAAAAAAAAAAAAAAAAAsACwD//wAACAAOAP7/CQAZAAAAAAD//xIABQAAABEABAABAP7/BAAKAA8AAwAUAA8ACAATAAgACwAEAA0ADgD9/wEA//8BAP//AAAAAAAACgAAAAAAAAAAAAAACwAEABQACAAOABoADAAZABgAGAAOAAkAEQANABcAEwAEAA4AGgAhAAUAGAAVAAgADwABAAAAAAAAAAAAAAAAAAAAAAAAAAAAAAAAAAAAAAAAAAAAAAAAAAAAAAAAAAAAAAAAAAAAAAAAAAAAAAAAAAAAAAAAAAAAAAAAAAAAAAAAAAAAAAAAAAAAAAAAAAAAAAAAAAAAAAAAAAAAAAAAAAAAAAAAAAAAAAAAAAAAAAAAAAAAAAAAAAAAAAAAAAAAAAAAAAAAAAAAAAAAAAAAAAAAAAAAAAAAAAAAAAAAAAAAAAAAAAAAAAAAAAAAAAAAAAAAAAAAAAAAAAAAAAAAAAAAAAAAAAAAAAAAAP//AQAAAPv/9f/9//n/+/8AAPb/AQAAAAAAAAAAAPj/8//8//H//f8AAOj/7f/w/+z/BAD8/+7///8AAAAA8f/7//H/7f/v//v/+P/v/wUA/f8CAPH/+f8AAAAAAAAAAAAAAAAAAAAAAQDt//z/AgD1//T/AAAAAAAAAAAAAAAAAAAAAAAAAAAAAAAAAAAAAAAAAAAAAAAAAAAAAAAAAAAAAAAAAAAAAAAAAAAAAAAAAAAAAAAAAAAAAAAAAAAAAAAAAAAAAAAAAAAAAAAAAAAAAAAAAAAAAAAAAAAAAAAAAAAAAAAAAAAAAAAAAAABAP//AgAKAP//AAAAAAAAAAAAAAAAAAAAAAAAAAAAAAAAAAAAAAAAAAAAAAAAAAAAAAAAAAAAAAAAAAAAAAAAAAAAAAAAAAAAAAAAAAAAAAAAAAAAAAAA//8FAA0ADQARAAoACQALABMAEgAQABcAGQAXAAcACgANABQAEAAQAAoAAAAMAPz/AwAIAAMACQABAA8ABQAAAP//AwAJAP7/AQD//wcADgAAAAQADwACAAgABAD+/wwAEQAGAAQACwAEAAAA//8BAP//AAANABEAAAAEAAgAAgAKAPr/BwAFAAYABgAAAAkAAwAIAAQACAD+/wIADQAIAP//AAAAAAAAAAAAAAAAAAAAAAAAAAAAAAAAAAAAAAAAAAAAAAAAAAAAAAAAAAAAAAAAAAAAAAAAAAAAAAAAAAAAAAAAAAAAAAAAAAAAAAAAAAAAAAAAAAAAAAAAAAAAAAAAAAAAAAAAAAAAAAAAAAAAAAAAAAAAAAAAAAAAAAAAAAAAAAAAAAAAAAAAAAABAPf//f8BAP//AAAAAAAAAAAAAAAAAAAAAAAAAAAAAAAAAAAAAAAAAAAAAAAAAAAAAAAAAAAAAAAAAAABAP//AQD+//b/AQD2////AQAAAAAAAAAAAPX/AAABAPb//v/y//X/BgD6//L/9v/8//P/+f/8//D/9//8/+v/9P/u/+n/9f/r//z/AQD9//L/+v8CAP//AgD1////AAABAP3/9v8BAAAAAAAAAAAAAAAAAAAAAAAAAAAAAAAAAAAAAAAAAAAAAAAAAAAAAAAAAAAAAAAAAAAAAAAAAAAAAAAAAAAAAAABAP//AgD4//v/AgD//wEA+v/4/wMA/f8CAP7/AgD9//D/+P/w//7/+P/+/+7//P8CAP7/AgD+/wEA//8BAP//AQD//wAAAAAAAAAAAAAAAAAAAAAAAAAAAAAAAAAAAAAAAAAAAAAAAAAAAAAAAAAAAAAAAAAAAAAAAAAAAAAAAAAAAAAAAAAAAAAAAAAAAAAAAAAAAAAAAAAAAAAAAAAAAAAAAAAAAAAAAAAAAAAAAAAAAAAAAAAAAAAAAAAAAAAAAAAAAAAAAAAAAAAAAAAAAAAAAAAAAAAAAAAAAAAAAAAAAAAAAAAAAAAAAAAAAAAAAAAAAAAAAAAAAAAAAAEA//8CAP3/EAAUAP//AAAAAAAAAQAIAAQABgANAAwAAAAcABQADwAOAPr/FAAFAAcAGQAJAAMADAATAAsAAAAGABQABwALAAoAFwAKAAwADQAEABMAAwAjABgAJgANAA8AHgAPABMABQAGAAAACwD8/wgABwAJAP7/DwAMAAUAGAD//w4AGQAXABoADQAGAAYA/P8EAAcACAAPABoAFgAOABYADAAlABgADgAjABgAFQANABwAFAARAAwA/////xIAEgADAAkA+f8VAAQABwAYAAsAHgAEAAEACAAJAAMA//8AAAAAAAABAP3/EQATAP7/AQD//wAAAAANAAoAAAAAAAsAAAABAAkABwAEAP7/AQD//wEAAAAAAAAAAAAAAAAAAAAAAAAAAAAAAAAAAAAAAAAAAAAAAAAAAAAAAAAAAAAAAAAAAAAAAAAAAAAAAAAAAAAAAAAAAAAAAAAAAAAAAAAAAAAAAAAAAAAAAAAAAAAAAAAAAAD//wIA+//v//v/9P/s/+3/5//0/+b/8v/5/+X/6f/2//n///8BAPf/7//r/wQA6P/0/wAA5P/x/+7/5//p/+j/6P/p//P/+//y//r//f/k//P/AADm/+//8P/m/+r/5//p/+f/6v/z/+f/6P/o/+j/6v/0//z/6f/o/+f//P/r/+r/AAD0/+f/7f/s//P/+v/8//P/7/8BAPr/+v/w//j/+P8BAPv/7v/w//r/AgAAAPz/+P/+//X/+////wEA//8BAP//AQD//wEA/v/3/wAAAAAAAAEA/v/2/wEAAAAAAAAAAAAAAAAAAAAAAAAAAAAAAAAAAAAAAAAAAAAAAAAAAAAAAAAAAAAAAAAAAAAAAAAAAAAAAAAAAAAAAAAAAAAAAAAAAAAAAAAAAAAAAAAAAAAAAAAAAAAAAAAAAAAAAAAAAAAAAAAAAAAAAAAAAAAAAAAAAQD//wsAAQAAAAAAAAAAAAAAAAAAAAAA//8KAAIACQACAAsA/f8PABQAAwAcABMADQABAP//EgAHAA8ADgD//wcABwAQAA0AAgD+/xQAEAAFAAcAFgAUAA4ACQAOAA8AAgASAA0AFgANAAUAFAAWAA4AAwAXAAsA/f8DAP3/CwAJABMAEgAQAA0ABgAKAA8ADgAHAAYADQAPAAgABQABAAkACAANAAsADQAJAAYACQAGAP//AAD//woACwAHAAYABAAPAAoAAwD+/wEA//8BAP//AAAAAAAAAAAAAAAAAAAQAA8AAAAEAAkA/v8BAAAADgARAAEA//8BAP7/BQAIAP//AAAAAAAAAAAAAAAAAAAAAAAAAAAAAAAAAAAAAAAAAAAAAAAAAAAAAAAAAAAAAAAAAAAAAAAAAAAAAAAAAAAAAAAAAAAAAAAAAAAAAAAAAAAAAAAAAAAAAAAAAAAAAAAAAAAAAAAAAAAAAAAAAAAAAPX/AQD//wMA+f/7//r/+/////b/AgAAAAAAAQD8//X/8v/x/+7//P8BAPb//v/y/+7/9P8BAPb/9P/7//j/BgD4/+3/7v/1//f//v/9//H/7//y/+//8//p/+n/8//p//z/9P/0//r/AgD+/+3//P/y//v/9f/0//j/+f/x//j//v/u//7/AgD///z/9P/9//n/8P/t/9v/6//m/+D/7f/3/+r/4P/x/+7/7P/m/+n/8f/q//f/9//1////9v/2/+3/AAD9//b/AgD+/wMA9f/y/wMA//8BAPr/4//3//j/9P////b/+v/u//X/+f/x//f/8f/6//f/7//2//v/+//5/wAAAAAAAAEA//8BAP//9v8AAAAAAAAAAAAAAAAAAAAAAAAAAAAAAAAAAAAAAAAAAAAAAAAAAAAAAAAAAAAAAAAAAAAAAAAAAAAAAAAAAAAAAAAAAAAAAAAAAAAAAAAAAAAAAAAAAAAAAAAAAAAAAAAAAAAAAAD//wkAAwAIAAIA//8BAAAAAAAPABAABQALABYACwD8/wgADAANACUAFQD+/xIADQADAP//BQAaABYABgAQABEACQAIAA0AEQAfAB8AFwAZACYAIQANAB8AFgAdABYAGQAdABAAIAAmABsAFgAZACIAGAAgAC4AGQArAB4AKwAwABkAFwAkACMAFwAYABgAGAAXABoAIwAnABMAJgAhABsAJAAdABkAIgAmACEAGAAYABgAFwAZABMAGgApABkAHAAlABkAFQAfACoAGwArACMAGQAGABUAIwARAA8AGgAeACUAHgATABUAEAATABAAGgAAAAMADAADAA8ACgAKAAEAAQAJAAIAEAAIAAUACwAKAAAAAAABAP//AQD//wEA//8AAAAAAAAAAAAAAAAAAAAAAAAAAAAAAAAAAAAAAAAAAAAAAAAAAAAAAAAAAAAAAAAAAAAAAAAAAAAAAAAAAAAAAAAAAAAAAAAAAAAAAAAAAAAAAAAAAAAAAQD1////AADz//X/6//w//z/AAABAPz/9//4/+//8P/y/+P/6//0/+z/6f/l//T/6P/v//v/5f/q/+b/9P/p/+j/6f/n//P/6v/m/97/6P/x/+z/5f/s/+L/6f/s/+f/6f/o/+j/6P/o/+j/8//p//X/2//f/9//5P/y/9v/7P/m/+r/2f/g/9//3P/h/9T/7P/W/+T/4f/W/+n/6P/o/+L/8P/g/+3/6P/q//3/8v/q/+j/9//v/+f/3f/n/+n/5v/t//X//P/u//b/9P/w//X/+v/v/+X/6v/g/+z/7f/n/+j/8f/t/97/5P/p/+n/5//q//H/7P/w//P/6P/6/+//7f/6/wAAAAD1/wAAAAAAAP//AgD4//v/AQAAAPf/8/8BAAAAAAAAAAAAAAAAAAAAAAAAAPb///8BAPf/+v/y//z/+v/6/wMA///3//7/AQD//wEAAAAAAAAAAAAAAAAAAAAAAAAAAAAAAAAAAAAAAAAAAAAAAAAAAAAAAAAAAAAAAAAAAAAAAAAAAAAAAAAAAAAAAAAAAAABAP7/CAAFAP//AAAKAAEAAAAAAAMACgD9/wIA/v8EAAgA//8AAAAA//8IAA0AAAAAAAAAAAAAAAAAAAAAAAEA//8EAAkABwAIABsADAAFABUABAAHABoAGAAOABYADAAbAAsACgAdAA8ABQAQABcAGgASAAoAEQAPABoACgAGABYAJAAOABMAGwAQABAAHQAgABgAIAAiABUADwAPABsAEAAGABoAFwAYABgAGAAGAA8AEAAYAB4ADgARABUAHQAhABUADgADABUAHgASABgAGgAhACMAKgASABUALQAaABkADAAZACAAJAAkAAsAMAAQAB0AKQAWADIAJQAfABUAGQAXABgAGQAQABIAEgARAB0AAgAGAA4ABAAUAP7/CAAXAAsABAAPAAMACAAEAAkAHQAHAP7/CAAMAAYAEgABAP//AQD+/wYABwD//wAAAAAAAAAAAAAAAAAAAAAAAAAAAAAAAAAAAAAAAAAAAAAAAAAAAAAAAAAAAAAAAAAAAAAAAAAAAAAAAAAAAAAAAAAAAAAAAAAAAAAAAAAAAAAAAAAAAAAAAAAAAAAAAAAAAAAAAAAAAAAAAAAAAAAAAAAAAQD3//7//v/u//P/AQD3//3/+f/q//D/+P8AAN//6P/3/97/7f/1//X////1/wIA/f/n//r//P/2//P/7P/5//3/7//y/+z/5v/0/+j/6f////j/+P/5//L/7//q/+7////m/9z/7P/f/9//5v/p/+j/6P/f/+r/4v/e/+H/4f/u/+H/6v/i/8//5//p/+f/6v/k/9//6f/o/93/5//c/+z/2//o/+f/6v/1/9v/8v/o/+r/4//p/+z/6P/m//L/6v/2//T/5//i/+L//v/l/+n/3v/s//L/5v/2/wMA7v/o//X/6v/l/+b/8P8BAPj/+/8EAPz/BQDy//X/+P/z//T/AQD8//j/+P/+/wIA9//8//r/7f/o//v/AgD///j//P/4//3/9f/0//T/+f8CAP7/AQD//wEAAAAAAAAAAAAAAAAAAAAAAAAAAAAAAAAAAAAAAAAAAAAAAAAAAAAAAAAAAAAAAAAAAAAAAAAAAAAAAAAAAAAAAAAAAAAAAAAAAAAAAAAAAAAAAAEA//8BAP7/BwAHAP3/AgD9/wcABgAAAAwADQAHAAoAEAARAP7/EQAHABIAEAAIAA8A//8RAAUACQACAAkAAAD//wcACwAQAAsACAACAAAAAAAJAAMACQABAAUACgAFAAUABwAEAAsABQANABoAEwAHAAkAGgD+/xEAFAAIABQAAQAAAAQAEAAUABAADAD9/wEAEAAPABgADgAUAA8ACQAPAAAABgAGAAMAEAABAAAA//8GAAgA/P8EAPv/FAAPAAcABAAHAAUA/P8JABIACAD//wsAAAABAAkACAACAA4ACwAGAAAACAAEAP7/AQD//wAAAwALAAUACgADAAcACQAGAP//AAAAAAAAAAAAAAAAAAAAAAAAAAAAAAAAAAAAAAAAAAAAAAAAAAAAAAAAAAAAAAAAAAAAAAAAAAAAAAAAAAAAAAAAAAAAAAAAAAAAAAAAAAAAAAAAAAAAAAAAAAAAAAAAAAAAAAAAAAAAAAAAAAAAAAAAAAAAAAAAAAAAAAAAAAAAAAAAAAAAAAAAAAAAAAAAAAAAAAAAAAAAAAAAAAAAAAAAAAAAAAAAAAAAAAAAAAAAAAAAAAAAAAAAAAAAAAAAAAAAAAAAAAAAAAAAAAAAAAAAAADy/+7/9f/+//b/AgD+//b/AAAAAAAA//8CAPf//P8BAP//AQD+//b/AQAAAPf/+v/y//3/AAAAAAAAAAAAAAAAAAABAP//AgD8//f/AAAAAP//AgD7//r/8v/1//r/6v////3/8v/6/wMA9P/w//X/+P8DAP3/9/8BAP//AQD+//b/AAAAAAAAAQD+//f/9v/s////9//+//X/8f8EAP3/AgD//wEA//8BAAAAAAAAAAAAAADx//D//f8AAAAAAAAAAAAAAAAAAAAAAAAAAAAAAAAAAAAAAAAAAAAAAAAAAAAAAAAAAAAAAAAAAAAAAAAAAAAAAAAAAAAAAAAAAAAAAAAAAAAAAAAAAAAAAAAAAAAAAAAAAAAAAAAAAAAAAAAAAAAAAAAAAAAAAAAAAAAAAAAAAAAAAAAAAAoAAQAAAAAAAAAAAAAACgAAAAAAAAD//wEA/v8JAAQA//8BAP//AQD+/woAAwD//wsAAAAAAAEA/v8IAAQABwAEAAgAAgAFABMA/f8BAAgAAwD//wAAAAD//wUABgAFAAYABQAHAAQADAAPAAAAAAAAAAAADAAKAAAAAAAAAAAAAAABAP//BQAIAP7/AQAAAAAAAAALAAwAAAAAAAAAAAAAAAAAAAABAP//AQAJAAEA//8BAP//AQAJAAIA/v8FAAgA//8AAAAAAAAAAAAAAAAAAAAAAAAAAAAAAAAAAAAAAAAAAAAAAAAAAAAAAAAAAAAAAAAAAAAAAAAAAAAAAAAAAAAAAAAAAAAAAAAAAAAAAAAAAAAAAAAAAAAAAAAAAAAAAAAAAAAAAAAAAAAAAAAAAAAAAAAAAAAAAAD//wIA+f/6/wEA8P/7/wAAAQD9//b/AQAAAAAAAAAAAAAAAAAAAAAAAAAAAAAAAAAAAAAAAAAAAAAAAAAAAAAAAAAAAAAAAAAAAAAAAAAAAAAAAAAAAAAAAAAAAAAAAAAAAAAAAAAAAAAAAAAAAPj//P8CAP//AQD//wAAAADx//X/+v/+/wEA//8BAAAA7v/7/wIA//8BAP//AQAAAAAAAAAAAAAAAAAAAAAAAAAAAAAAAAAAAAAAAAAAAAAAAAAAAAAAAAAAAAAAAAAAAAAAAAAAAAAAAAABAO7/+f8CAP//AQD//wEA///z//f/AQD//wAAAAAAAAAAAAAAAAAAAAAAAAAAAAAAAAAAAAAAAAAAAAAAAAAAAAAAAAAAAAAAAAAAAAAAAAAAAAAAAAAAAAAAAAAAAAAAAAAAAAAAAAAAAAAAAAAAAAAAAAAAAAAAAAAAAAAAAAAAAAAAAAAACgAMAP//AQD+/wUACAD+/wEA//8BAP//AQD+/wMACQAAAAAAAAAAAAEA//8BAP7/BwANAAQA/v8CAAcACwAPAP3/AQD//wEA//8BAP7/BgAHAP//AAADAAoA/v8MAAAAAAAAAAAAAAAAAAAAAAAAAAAAAAAAAAAAAAAAAAAACwAAAAAAAAAKAAIA//8BAP7/BAAJAP7/AQARAA0ACwADAP3/CQADAAEAFQD//wEA//8BAP7/BQATAP//AAAAAAAAAAAAAAAAAAAAAAAAAAAAAAAAAAAAAAAAAAAAAP//CQADAP//AQD//wAAAAAAAAAAAAAAAAAAAAAAAAAAAAAAAAAAAAAAAAAAAAAAAAAAAAAAAAAAAAAAAAAAAAAAAAAAAAAAAAAAAAAAAAAAAAAAAAAAAAAAAAAAAAAAAAAAAAAAAAAAAAAAAAAAAAAAAAAAAAAAAAAAAAAAAAAAAAAAAAAAAAAAAAAAAAAAAAAAAAAAAAAAAAAAAAAAAAAAAAAAAAAAAAAAAAAAAAAAAAAAAAAAAAAAAAAAAAAAAAAAAAAAAAAAAAAAAAAAAAAAAAAAAAAAAAAAAAAAAAAAAAAAAAAAAAAAAAAAAAAAAAAAAAAAAAAAAAAAAAAAAAAAAAAAAAAAAAAAAAAAAAAA8v/4/wAAAAAAAPX/AgD8//f/AADu/wAA9f///wAA9v8AAAAAAAD3//3/9/8AAPr/9//w////AAAAAP7/9v8DAP//7//6/wMA/f8DAPj/+/8CAP//AQD//wIA/f/3/wEA9v///wEA//8BAP//AQAAAAAAAAD4//z/BAD3//v/8//4/wEA9f/u//v/AQDl//r/AADu//n/7/////P/7v8AAP3/BAD3//D/9P8EAPH/7P8AAPb///8CAPv/+P8BAP//AQD9//b/AwD+//f/AAAAAAAAAAAAAAAAAAAAAAAAAAAAAAAAAAAAAAAAAAAAAAAAAAAAAAAAAAAAAAAAAAAAAAAAAAAAAAAAAAAAAAAAAAAAAAAAAAAAAAAAAAAAAAAAAAAAAAAAAAAAAAAAAAAAAAAAAAAAAAAAAAAAAAAAAAAAAAAAAAAAAAAAAAAAAAAAAAAAAAAAAAAAAAAAAAAAAAAAAAAAAAAAAAAAAAAAAAD//wYACAAIAAAAAAD//wcAFAAGAAAACQAOAAkAAAAAAAAAAAAAAAAAAAAAAAAAAAAAABUADwD6/xIAGAAUAAQADgAUAAUABwD+/wAACQADAP7/AQD+/wkABgANAAcA/f8DAPz/CAAEAAcABQAHAAUA/v8BAP//AAAAAAAAAAAAAAAAAAAAAAAAAAAAAAAAAAAAAAAAAAAAAAAAAAD//wUACQAIAAAACAAEAP7/AgD+/wQACQD+/wEACgAAAAAAAAAAAAAAAAAAAAAAAQD//wYADgADAP//AAAKAAAAAAAAAAAAAAAAAAAAAAAAAAAACwAAAAAAAAAAAAAAAAAAAAAAAAAAAAAAAAAAAAAAAAAAAAAAAAAAAAAAAAAAAAAAAAAAAAAAAAAAAAAAAAAAAAAAAAAAAAAAAAAAAAAAAAAAAAAAAAAAAAAAAAAAAAAAAAAAAAAAAAAAAAAAAAAAAAAAAAAAAAAAAAAAAAAAAAAAAAAAAAAAAAAAAAAAAAAAAAAAAAAAAAAAAAAAAAAAAAAAAAAAAAAA9v///wEA//8BAPb///8AAPP/9/8AAAAAAAAAAAAAAAAAAAAAAAAAAAAAAAAAAAAAAAAAAAAAAAAAAAAA//8CAPb//v8AAAAAAAABAPz/9/8CAP//AAAAAAEA9v///wEA//8BAP//AgD5//j/+P8AAAAAAAAAAAAAAAAAAAAAAAABAP//AgD7//j/AQAAAAAAAAAAAAAAAAAAAAAAAAAAAAAAAAAAAAAA9//6//L//P////b/9v/t//P/AAABAP//AQD//wAAAAAAAAAAAAAAAAAAAQD3//3/AQD//wAAAAAAAAAAAAAAAAAAAAAAAAAAAAAAAAAAAAAAAAAAAAAAAAAAAAAAAAAAAAAAAAAAAAAAAAAAAAAAAAAAAAAAAAAAAAAAAAAAAAAAAAAAAAAAAAAAAAAAAAAAAAAAAAAAAAAAAAAAAAAAAAAAAAAAAAAAAAAAAAAAAAAAAAAAAAAAAAAAAAAAAAAAAAAAAAAAAAAAAAAAAAAAAAAAAAAAAAAAAAAAAAAAAAAAAAAAAAAAAAAAAAAAAAAAAAAAAAAAAAAAAP//AQD+/wQACAADAAkA/v8BAAAAAAAIAAcABwD9/wMA/P8RABMA//8AAAAAAAAAAAsA//8IAAQA/v8BAP//AAAAAP//BQAHABAAFQAEAAIA/v8CAP7/AgD+/wYAEgD//wAAAAAAAAAAAAAAAAAAAAAAAAAAAAAAAP//AQD+/wcABwD+/wEAAAAAAAAAAAAAAAAAAAAAAAAAAAAAAAAAAAAAAAAAAAAAAAAAAAABAP//AwAJAP//AAAAAAAAAAAAAAAAAAAAAAAAAAAAAAAAAAAAAAAAAAAAAAAAAAAAAAAAAAAAAAAAAAAAAAAAAAAAAAAAAAAAAAAAAAAAAAAAAAAAAAAAAAAAAAAAAAAAAAAAAAAAAAAAAAAAAAAA//8BAP//AgD7//j/AQAAAP7/9v8BAAAAAAAAAAEA9f/t//7//v/4////AgD9//v/9P8AAPv/+//5//H/9//w/wIAAAAAAAEA/v8DAPH/9f8EAPf/8P/8/9//9f/1//L////r/+//8v/9//f/AAABAP//AAAAAOz/7//6//j/7P/8////9v8AAAEA+P/q//D/9f/+//b/BAD2/+T/+f/8//j/AwD//wAA8P/8/wAA8P/w//T/AwDy//j//f/4//j/9P/v//n/AwD+/wEAAADv//n/AwD+/wEAAAD7//f/+f8AAAAAAAAAAAAA//8CAPj/7/8BAAAAAAACAPn/+v8CAP//AAAAAAAAAAAAAAAAAAAAAAAAAAAAAAAAAAAAAAAAAAAAAAAAAAAAAAAAAAAAAAAAAAAAAAAAAAAAAAAAAAAAAAAAAAAAAAAAAAAAAAAAAAAAAAAAAAAAAAAAAAAAAAAAAAAAAAAAAAAAAAAAAAAAAAAAAAAAAAAAAAAAAAAAAAAAAAAAAAAAAAAAAAAAAAAAAAAAAAAAAAAAAAAAAAAAAAAAAAAAAAAAAAAAAP//BwAGAP7/AQD//wEACgAAAAAAAAAAAAAAAAD//wsAEwACAAcABwARAAYADQASAP//AAAHAAYA+/8KAAMAAgAJAP//AAAAAAAAAAD//wEA/v8DAAkAAAD+/wcABwD//wAAAAAAAP//BgAIAAgAAAAKAA0A//8AAAAAAAAAAAAAAAAAAAAAAAAAAAAAAAAAAAAAAAAAAAAAAAAAAAAAAAAAAAAAAAAAAAAAAAAAAAAAAAAAAAAAAAAAAAAAAAAAAAAAAAAAAAAAAAAAAAAAAAAAAAAAAAAAAAAAAAAAAAAAAAAAAAAAAAAAAAAAAAAAAAAAAAAAAAAAAAAAAAAAAAAAAAAAAAAAAAAAAAAAAAAAAAAAAAAAAAAAAAAAAAAAAAAAAAAAAAAAAAAAAAAAAAAAAAAAAAAAAAAAAAAAAAAAAAAAAAAAAAAAAAAAAAAAAAAAAAAAAAAAAAAAAAAAAAAAAAAAAAAAAAAAAAAAAAAAAAAAAAAAAAAAAAAAAAAAAAAAAAAAAAAAAAAAAPb///8AAAAAAAAAAAAAAAAAAAAAAAAAAP//AgD8//j/AAABAPn/+/8CAP//AAAAAAAAAAAAAAEA+v/4/wQA9f/+/wEA9f/0/wIA9//9/wIA8/8CAPb//f8BAAAAAAABAPf//P8CAPT/AAAAAPj/+P/5/wIA//8CAPz/7v////b///8BAP7/AwD3//3/9//v/wYA9//8//n/5v////D/8//3//D//P/2//v//P/x//3/AAAAAAAAAQD5//r/AgD//wEA//8BAAAAAAAAAPb/AAAAAAAAAAAAAAAAAAAAAAAAAAAAAAAAAAAAAAAAAAAAAAAAAAAAAAAAAAAAAAAAAAAAAAAAAAAAAAAAAAAAAAAAAAAAAAAAAAAAAAAAAAAAAAAAAAAAAAAAAAAAAAAAAAAAAAAAAAAAAAAAAAAAAAAAAAAAAAAAAAAAAAAAAAAAAAAAAAAAAAAAAAAAAAAAAAD//wIACgD//wEAAAABAP//BAAJAP//AAAAAAAAAAAAAAEA/f8LAA8A/f8CAP7/BgAOAAQADgAGAAAAAAACAA0ACQD9/wgABgAKABUAEAAJAA8AFAANAAkAEwAdABAAGwAVABwADwATABEAEQAcAAsADgARAAkAAAAYABcAGQAXABgABwAUAAYABQANAA8ADQAGAA4ABAAdAP3/CAAOAAgABAACAAkAAAD//wcAGAALAAsACAAFAAUACQAIAP7/BgAIAP3/AgD+/wYABwD//w0AEQADAAcABAD8/wsAAgAJAAIA//8BAP7/CwAAAAUACAD9/wQACQD+/wIACQABAP7/BgAHAP//AAAAAAAAAAD//wIACgAAAAAAAAAAAAAAAAAAAAAAAAAAAAAAAAAAAAAAAAAAAAAAAAAAAAAAAAAAAAAAAAAAAAAAAAAAAAAAAAAAAAAAAAAAAAAAAAAAAAAAAAAAAAAAAAAAAAAAAAAAAAAAAAAAAAAAAAAAAAAAAAAAAAAAAAAAAAAAAAAAAAAAAAAAAAAAAAAAAAAAAAAAAAAAAAD+//b/AQD//wAAAAAAAAAAAAAAAAEA/v/2/wAAAAAAAPX/AAD//+v/5v/6//H/5f8AAP3/6f/p/+b/8//4/+v/AADs/+7/9//i/+L//P/v/+X/8f/3/wMA7P/v/+///P8BAP7/6f/r/wEA8v/r//f/8//1//z/9f///wAAAAAAAP7/9f8FAPb/8P8CAP//+f/4//n/9/8AAAAAAAAAAAEA+f/y////AAAAAAAAAAAAAAAAAAAAAAAAAAAAAAAAAAAAAAAAAAAAAAAAAAAAAAAAAAAAAAAAAAAAAAAAAAAAAAAAAAAAAAAAAAAAAAAAAAAAAAAAAAAAAAAAAAAAAAAAAAAAAAAAAAAAAAAAAAAAAAAAAAAAAAAAAAAAAAAAAAAAAAAAAAAAAAAAAAAAAAAAAAAAAAAAAAAAAAAAAAAAAAAAAAAAAAAAAAAAAAAAAAAAAAAAAAAAAAAAAAAAAAAAAAAAAAAACgABAAAAAAAAAAAAAAAAAAAAAAAAAAoAAQD//wEA//8BAP//AgD9/w0ADgD9/wIA/v8DAAkA//8AAAAAAQALAP//AQD//wEA//8DAAoA/v8BAP//AQD//wEA/v8HAAYA//8AAAAAAAAAAAAAAgATAAEAAAAAAAAAAQD//wEA//8BAP7/AgD9/wgABQAAAAAAAwAUAAAAAQAMABIAAwD+/w4ACAAJAAMAAgAVAPz/BAAIAAIAFAD+/wgABQD+/wEACQACAP//AAABABYA/v8DAAgAAwAKAP7/AgD9/wsAAQANABYA/f8CAP//AQAAAAAAAAAAAAAAAAAAAAAAAAAAAAAAAAAAAAAAAAAAAAAAAAAAAAAAAAAAAAAAAAAAAAAAAAAAAAAAAAAAAAAAAAAAAAAAAAAAAAAAAAAAAAAAAAAAAAAAAAAAAAAAAAAAAAAAAAAAAAAAAAAAAAAAAAAAAAAAAAAAAAAAAAAAAAAAAAAAAAAA9//5//n/BAD1//7/AAAAAP7/9v8AAAAAAAABAP3/9//+//b/+f/w//n//P/v//P/+P/p//T/+P/1/+7/+v/7/+L/9/////D/7P/2//v/+v/w//v/8v/v//D/4v/y//j/+/8DAPL/9P8EAP7//P/2//H//P/5//z/+P8AAAEA9f8AAAAAAAAAAAAAAAABAPn/+P/4/wEA///1/wAAAAAAAAAAAAAAAAAAAAAAAAAAAAAAAAAAAAAAAAAAAAAAAAAAAAAAAAAAAAAAAAAAAAAAAAAAAAAAAAAAAAAAAAAAAAAAAAAAAAAAAAAAAAAAAAAAAAAAAAAAAAAAAAAAAAAAAAAAAAAAAAAAAAAAAAAAAAAAAAAAAAAAAAAAAAAAAAAAAAAAAAAAAAAAAAAAAAAAAAAAAAAAAAAAAAAAAAAAAAAAAAAAAAAAAAAAAAAAAAAAAAAAAAAAAAAAAAAAAAAAAAoAAQD//wIA/f8GAAcA//8AAAAAAAAAAAAAAAAAAAAAAAAAAAAAAAAAAAAAAAAAAAAA//8JAAMA//8BAAoAAAAAAAAAAQD//wIAEQAHAAcAAAALAAAAAAAAAAAAAAAAAAAAAAAAAP//AQAKAAAAAAAKAAIACgAAAAAAAAAAAAAAAAAAAAAAAAAAAAAAAAAAAAAAAAAAAAAAAAAAAAEA/v8HAAYA/v8BAAAAAAAAAAAAAAAAAAAAAAAAAAAAAAAAAAAAAAAAAAEA/v8FAAgA/v8BAAAAAAAAAAAAAAAAAAAAAAAAAAAAAAAAAAAAAAAAAAAAAAAAAAAAAAAAAAAAAAAAAAAAAAAAAAAAAAAAAAAAAAAAAAAAAAAAAAAAAAAAAAAAAAAAAAAAAAAAAAAAAAAAAAAAAAAAAAAAAAAAAAAAAAAAAAAAAAAAAAAAAAAAAAAAAAAAAAAAAAAAAAAAAAAAAAAAAAAAAAAAAAAAAAAAAAAAAAAAAAAAAAAAAAAAAAAAAAAAAAAAAAAAAAAAAAAAAAAAAAAAAAAAAAABAPf//f8BAP//AAAAAAAAAAAAAAAAAAAAAPf//f8CAP//AQD+/wMA+f/6/wEAAAAAAAAAAAAAAAAAAAD+/+f/+f8CAP//AQD//wIA+v/y//3/+v/3//r/9v8AAAAAAQAAAAAAAAAAAAAA9//+/wEA///t//3/AQAAAAAAAAD//wIA7//t//3/8f/2//z/AgD+/wEA/v8CAPr/+f8CAP//AQAAAPj/+P/6/wEAAAD3//3/AgD+/wEA///5//b//P8AAPX/BAD5//v/+//5/wMA/v/4//7/AQD//wEA//8BAAAAAAAAAAAAAAAAAAAAAAAAAAAAAAAAAAAAAAAAAAAAAAAAAAAAAAAAAAAAAAAAAAAAAAAAAAAAAAAAAAAAAAAAAAAAAAAAAAAAAAAAAAAAAAAAAAAAAAAAAAAAAAAAAAAAAAAAAAAAAAAAAAAAAAAAAAAAAAAAAAAAAAAAAAAAAAAAAAAAAAAAAAAAAAAAAAAAAAAAAAAAAAAAAAAAAAAAAAAAAAAAAAAAAAAAAAAA//8EAA8ABAD//wAAAAAAAAAAAQD//woAAgD//wEA/v8KAAEABAAJAPz/BQAIAP//AAD//wkABAAHAAQACAACAP//AQD//wEA//8BAP7/CgACAP//AQD//wkABAD+/wMA/P8OAAwAAgAKAP3/AAAHAAUA/f8DAAgAAgAKAP3/BgAHAP7/AQD//wsACwAAAP//CQAEAP7/AQAKAAAAAAAAAAAAAAABAAoA//8AAAAAAAAAAAAAAAAAAAAAAAAAAAAAAAAAAAAAAAAAAAAAAAAAAAAAAAAAAAAAAAAAAAAAAAAAAAAAAAAAAAAAAAAAAAAAAAAAAAAAAAAAAAAAAAAAAAAAAAAAAAAAAAAAAAAAAAAAAAAAAAAAAAAAAAAAAAAAAAAAAAAAAAAAAAAAAAAAAAAAAAAAAAAAAAAAAAAAAAAAAAAAAAAAAAAAAAABAP//AgD7//j/AgD//wAAAAAAAAAAAAAAAAAAAAAAAAAAAAD//wEA/P/3/wIA//8AAAAAAAAAAAAAAAAAAAAAAAAAAAAAAAAAAAAAAAAAAAAAAAAAAAAAAAAAAAAAAQD3//3/AgD+/wIA9//0//7/AgD+/wMA+v/6//z/+P8CAP//AAAAAAAAAAAAAAAAAAAAAAAAAAAAAAAAAAAAAAAAAAAAAAAAAAAAAAAAAAAAAAAAAAD2/wAAAAAAAAAAAAAAAAAAAAAAAAAAAAAAAAAAAAAAAAAAAAAAAAAAAAAAAAAAAAAAAAAAAAAAAAAAAAAAAAAAAAAAAAAAAAAAAAAAAAAAAAAAAAAAAAAAAAAAAAAAAAAAAAAAAAAAAAAAAAAAAAAAAAAAAAAAAAAAAAAAAAAAAAAAAAAAAAAAAAAAAAAAAAAAAAAAAAAAAAAAAAAAAAAAAAAAAAAAAAAAAAAAAAAAAAAAAAAAAAAAAAAAAAAAAAAAAAAAAAAAAAAAAAAAAAAAAAAAAAAAAAAAAAAAAAAAAAAAAAAAAAAAAAAAAAAAAAAAAAAAAAAAAAAAAAAAAAAAAAAAAAAAAAAAAAAAAAAAAAAAAAAAAAAAAAAAAAAAAAAAAAAAAAAAAAAAAAAAAAAAAAAAAAAAAAAAAAAAAAAAAAAAAAAAAAoAAQAAAAAAAAAAAAAAAAAAAAAAAAAAAAAAAAAAAAAAAAAAAAEACgAAAAAAAAAAAAAAAAAAAAAAAAAAAAAAAAAAAAAAAAABAAoAAAAAAAAAAAAAAAAAAAAAAAAAAAAAAAAAAAAAAAAAAAAAAAAAAAAAAAAAAAAAAAAAAAAAAAAAAAAAAAAAAAAAAAAAAAAAAAAAAAAAAAAAAAAAAAAAAAAAAAAAAAAAAAAAAAAAAAAAAAAAAAAAAAAAAAAAAAAAAAAAAAAAAAAAAAAAAAAAAAAAAAAAAAAAAP//AQD9//f/AAABAPr/+v8CAAAA9//9/wEA//8BAAAAAAAAAAAAAAAAAAAAAAAAAAAAAAAAAAAAAAAAAPT/AwD7//n/9v/1////9f8CAP//AAD0/wEA/v/p/+z/+P/9//f/AADw//z/+//y//3/AgD6//n/AgD//wAAAAAAAAAAAAAAAAEA+//3/wMA/v8BAP//AAAAAO7//P/6//v/AwD9//f/AAAAAAAAAAAAAAAAAAD//wIA+P/7/wEAAAAAAAAA///2/wAAAAAAAAAAAADt//7/+P/9/wEAAAD///X/AwD+/wEA//8BAAAAAAAAAAAAAAAAAAAAAAAAAAAAAAAAAAAAAAAAAAAAAAAAAAAAAAAAAAAAAAAAAAAAAAAAAAAAAAAAAAAAAAAAAAAAAAAAAAAAAAAAAAAAAAAAAAAAAAAAAAAAAAAAAAAAAAAAAAAAAAAAAAAAAAAAAAAAAAAAAAAAAAAAAAAAAAAAAAAAAAAAAAAAAAAAAAAAAAAAAAAAAAAAAAAAAAAKAAEA//8AAAAAAAAAAAAAAAAAAAAAAAAAAAAAAAAAAAAAAAAEABAADgD+/wAAAAAAAAAAAAAAAAAACwAAAAYACAAHAAAAAAALAAAAAAAAAAAAAAARAA4AAgAAAAAAAAAAAAAAAAAAAAAAAAAAAAAA//8BAP7/CQAEAP//AAAAAAAAAQD+/wUACAD//wAAAAD//wUACAD+/wAAAAAAAAAACgABAAAAAAD//wEA//8BAP//AQD//wEA/v8DAAgACQACAAAAAAAAAP//BAAJAP7/AQD//wEAAAAAAAAAAAAAAAAAAAAAAAoAAAAAAAAACgABAAAAAAAAAAAAAAAAAAAAAAD//woAAQAAAAAAAAAAAAAAAAAAAAAAAAAAAAAAAAAAAAAAAAAAAAAAAAAAAAAAAAAAAAAAAAAAAAAAAAAAAAAAAAAAAAAAAAAAAAAAAAAAAAAAAAAAAAAAAAAAAAAAAAAAAAAAAAAAAAAAAAAAAAAAAAAAAAAAAAAAAAAAAAAAAAAAAAAAAAAAAAAAAAAAAAAAAAAAAAAAAAAAAAAAAAAAAAAAAAAAAAAAAAAAAAAAAAAAAAAAAAAAAAAAAAAAAAAAAAAAAAAAAAAAAAAAAAAAAAAAAAAAAAAAAAAAAAAAAAAAAAD//wEA//8BAP3/7f////f///8BAP//AQD+/wMA9//8/wEAAAAAAAAAAAAAAAEA+//0//L/8f/8//D/+f/3/+r/9P/9/wEA//8BAPj/+P/4//j/8v8CAP3/7//y/wAA/v/4//z/+f/9//f/AwDr//7/AQD2/+//8f/9/wEA//8CAPj/7v8DAOj/BAD3//z/AADu//r/+f8BAPT/AQAAAAAA9//5//n/AwD7/+7/9f/0/wEA//8CAPn/+v8AAAIA8//0//r//f8CAP//AQD//wEAAAAAAAAAAAAAAAAAAAAAAAAAAAAAAAAAAAAAAAAAAAAAAAAAAAAAAAAAAAAAAAAAAAAAAAAAAAAAAAAAAAAAAAAAAAAAAAAAAAAAAAAAAAAAAAAAAAAAAAAAAAAAAAAAAAAAAAAAAAAAAAAAAAAAAAAAAAAAAAAAAAAAAAAAAAAAAAAAAAD//wEA/v8EAAgA//8AAAAA//8KAAMA//8CAAsAEwABAAAA//8HAAYA/v8CAP//AQAQAA4AAgD+/xEACAD9/wMA/v8DAAcAFwANAAEADQAXABMA/f8JAA0AAAALAP7/CwAOAAUADwAJAAAABgANAA4ADAAFAAQA/P8DAAQAFwACAAMADwASABIABgAGAP//FQAAAAAACgANAAgAAAD//wYABwD9/wsAHAAQAAcABgD+/wAAAAAAAAAACwD+/woAAgD//w0A/v8CAP7/AgD+/wMACQAAAAAAAQAKAAAAAAAAAAAAAAAAAAAAAAAAAAAAAAAAAAAAAAAAAAAAAAAAAAAAAAAAAAAAAAAAAAAAAAAAAAAAAAAAAAAAAAAAAAAAAAAAAAAAAAAAAAAAAAAAAAAAAAAAAAAAAAAAAAAAAAAAAAAAAAAAAAAAAAAAAAAAAAAAAAAAAAAAAAAAAAAAAAAAAAAAAAAAAAAAAAAAAAAAAAAAAAAAAAAAAAAAAAAAAAAAAAAAAAAAAAAAAAAAAAAAAAAAAAAAAAAAAAAAAAAAAAAAAAAAAAAAAAAAAAAAAAAAAAAAAAAAAAAAAAAAAAAAAAAAAAAAAAAAAAAAAAAAAAEA//8CAPv/+P/3//T/AAAAAAAAAAAAAAAA//8CAPv/+P8CAP//AAAAAAEA+//4/wMA/f8EAPj/+v8AAPX/AQAAAAAAAAAAAAAAAAAAAAAAAAAAAAAAAAAAAP//AQD4//v/AgD+/wMA9//8/wEAAAAAAAAAAAABAPz/9/8CAP7/AgD2//3/AQD//wEA//8BAP//AgD4//v/AQAAAPb///8AAAAAAAAAAAAA9f8AAAAAAAAAAAAAAAAAAAAAAAAAAAAAAAAAAAAAAAAAAAAAAAAAAAAAAAAAAAAAAAAAAAAAAAAAAAAAAAAAAAAAAAAAAAAAAAAAAAAAAAAAAAAAAAAAAAAAAAAAAAAAAAAAAAAAAAAAAAAAAAAAAAAAAAAAAAAAAAAAAAAAAAAAAAAAAAAAAAAAAAAAAAAAAAAAAAAAAAAAAAAAAAAAAAAAAAAAAAAAAAAAAAAAAAAAAAAAAAAAAAAAAAAAAAAAAAAAAAAAAAAAAAAAAAAAAAAAAAAAAAAAAAAAAAAAAAAAAAAAAAAAAAAAAAAAAAAAAAAAAAAAAAAAAAAAAAAAAAAAAAAAAAAAAAAAAAAAAAAAAAAAAAAAAAAAAAAAAAAAAAAAAAAAAAAAAAAAAAAAAAAAAAAAAAAAAAAAAAAAAAAAAAAAAAAAAAAAAAAAAAAAAAAAAAAAAAAAAAAAAAAAAAAAAAAAAAAAAAAAAAAAAAAAAAAAAAAAAAAAAAAAAAAAAAAAAAAAAAAAAAAAAAAAAAAAAAAAAAAAAAAAAAAAAAAAAAAAAAAAAAAAAAAAAAAAAAAAAAAAAAAAAAAAAAAAAAAAAAAAAAAAAAAAAAAAAAAAAAAAAAAAAAAAAAAAAAAAAAAAAAAAAAAAAAAAAAAAAAAAAAAAAAAAAAAAAAAAAAAAAAAAAAAAAAAAAAAAAAAAAAAAAAAAAAAAAAAAAAAAAAAAAAAAAAAAAAAAAAAAAAAAAAAAAAAAAAAAAAAAAAAAAAAAAAAAAAAAAAAAAAAAAAAAAAAAAAAAAAAAAAAAAAAAAAAAAAAAAAAAAAAAAAAAAAAAAAAAAAAAAAAAAAAAAAAAAAAAAAAAAAAAAAAAAAAAAAAAAQD2//7/AQD//wAAAAAAAAAAAAAAAAAAAAAAAAAAAAAAAAAAAAAAAAAAAAAAAAAAAAAAAAAAAAAAAAAAAAAAAAAAAAAAAAAAAAAAAAAAAAAAAAAAAAAAAAAAAAAAAAAAAAAAAAAAAAAAAAAAAAAAAAAAAAAAAAAAAAAAAAAAAAAAAAAAAAAAAAAAAAAAAAAAAAAAAAAAAAAAAAAAAAAAAAAAAAAAAAAAAAAAAAAAAAAAAAAAAAAAAAAAAAAAAAAAAAD//wEA/v8IAAUAAAD//wUACAD+/wEA//8AAAAAAAAAAAAAAAAAAAAAAAAAAAAAAAAAAAAAAAD//wEA/v8HABIA/v8BAAAAAAAAAAAAAAAAAAAAAAAAAAAAAAAAAAAAAAAAAAAAAAAAAAAAAAAAAAAAAAAAAAAAAAAAAAAAAAAAAAAAAAAAAAAAAAAAAAAAAAAAAAAAAAAAAAAAAAAAAAAAAAAAAAAAAAAAAAAAAAAAAAAAAAAAAAAAAAAAAAAAAAAAAAAAAAAAAAAAAAAAAAAAAAAAAAAAAAAAAAAAAAAAAAAAAAAAAAAAAAAAAAAAAAAAAAAAAAAAAAAAAAAAAAAAAAAAAAAAAAAAAAAAAAAAAAAAAAAAAAAAAAAAAAAAAAAAAAAAAAAAAAAAAAAAAAAAAAAAAAAAAAAAAAAAAAAAAAAAAAAAAAAAAAAAAAAAAAAAAAAAAAAAAAAAAAAAAAAAAAAAAAAAAAAAAAAAAAAAAAAAAAAAAAAAAAAAAAAAAAAAAAAAAAAAAAAAAAAAAAAAAAAAAAAAAAAAAAAAAAAAAAAAAAAAAAAAAAAAAAAAAAAAAAAAAAAAAAAAAAAAAAAAAAAAAAAAAAAAAAAAAAAAAAAAAAAAAAAAAAAAAAAAAAAAAAAAAAAAAAAAAAAAAAAAAAAAAAAAAAAAAAAAAAAAAAAAAAD//wEA/v8DAPj/+/8AAPX/AQAAAAAAAQD5//L///8AAAAAAAAAAAAAAAAAAAAAAAAAAAAAAAAAAAEA+P/8/wIA//8BAAAAAAAAAAAAAAAAAAAAAAAAAAAAAAAAAAAAAAAAAAAAAAAAAAAAAAAAAAAAAAAAAAAAAAAAAAAAAAAAAAAAAAAAAAAAAAAAAAAAAAAAAAAAAAAAAAAAAAAAAAAAAAAAAAAAAAAAAAAAAAAAAAAAAAAAAAAAAAAAAAAAAAAAAAEA9//9/wEA//8AAAAAAAAAAAAAAAAAAAAAAAAAAAAAAAAAAAAAAAAAAAAAAAAAAAAAAAAAAAAAAAAAAAAAAAAAAAAAAAAAAAAAAAAAAAAAAAAAAAAAAAAAAAAAAAAAAAAAAAAAAAAAAAAAAAAAAAAAAAAAAAAAAAAAAAAAAAAAAAAAAAAAAAAAAAAAAAAAAAAAAAAAAAAAAAAAAAAAAAAAAAAAAAAAAAAAAAAAAAAAAAAAAAAAAAAAAAAAAAAAAAAAAAAAAAAAAAAAAAAAAAAAAAAAAAAAAAAAAAAAAAAAAAAAAAAAAAD//wcABgD+/wIA//8BAP7/AwAJAAAAAAAAAAAAAAAAAAAAAAAAAAAAAAAAAAAACgABAP//AQAAAAAAAAAAAAAAAAAAAAEACgAAAAAAAAAAAAAAAAAAAAAAAAAAAAAAAAAAAAAAAAAAAAAAAAAAAAAAAAAAAAAAAAAAAAAAAAAAAAAAAAAAAAAAAAAAAAAAAAAAAAAAAAAAAAAAAAAAAAAAAAAAAAAAAAAAAAAAAAAAAAAAAAAAAAAAAAAAAAAAAAAAAAAAAAAAAAAAAAAAAAAAAAAAAAAAAAAAAAAAAAAAAAAAAAAAAAAAAAAAAAAAAAAAAAAAAAAAAAAAAAAAAAAAAAAAAAAAAAAAAAAAAAAAAAAAAAAAAAAAAAAAAAAAAAAAAAAAAAAAAAAAAAAAAAAAAAAAAAAAAAAAAAAAAAAAAAAAAAAAAAAAAAAAAAAAAAAAAAAAAAAAAAAAAAAAAAAAAAAAAAAAAAAAAAAAAAAAAAAAAAAAAAAAAAAAAAAAAAAAAAAAAAAAAAAAAAAAAAAAAAAAAAAAAAAAAAAAAAAAAAAAAAAAAAAAAAAAAAAAAAAAAAAAAAAAAAAAAAAAAAAAAAAAAAAAAAAAAAAAAAAAAAAAAAAAAAAAAAAAAAAAAAAAAAAAAAAAAAAAAAAAAAAAAAAAAAAAAAAAAAAAAAAAAAAAAAAAAAAAAAAAAAAAAAAAAAAAAAAAAAAAAAAAAAAAAAAAAAAAAAAAAAAAAAAAAAAAAAAAAAAAAAAAAAAAAAAAAAAAAAAAAAAAAAAAAAAAAAAAAAAAAAAAAAAAAAAAAAAAAAAAAAAAAAAAAAAAAAAAAAAAAAAAAAAAAAAAAAAAAAAAAAAAAAAAAAAAAAAAAAAAAAAAAAAAAAAAAAAAAAAAAAAAAAAAAAAAAAAAAAAAAAAAAAAAAAAAAAAAAAAAAAAAAAAAAAAAAAAAAAAAAAAAAAAAAAAAAAAAAAAAAAAAAAAAAAAAAAAAAAAAAAAAAAAAAAAAAAAAAAAAAAAAAAAAAAAAAAAAAAAAAAAAAAAAAAAAAAAAAAAAAAAAAAAAAAAAAAAAAAAAAAAAAAAAAAAAAAAAAAAAAAAAAAAAAAAAAAAAAAAAAAAAAAAAAAAAAAAAAAAAAAAAAAAAAAAAAAAAAAAAAAAAAAAAAAAAAAAAAAAAAAAAAAAAAAAAAAAAAAAAAAAAAAAAAAAAAAAAAAAAAAAAAAAAAAAAAAAAAAAAAAAAAAAAAAAAAAAAAAAAAAAAAAAAAAAAAAAAAAAAAAAAAAAAAAAAAAAAAAAAAAAAAAAAAAAAAAAAAAAAAAAAAAAAAAAAAAAAAAAAAAAAAAAAAAAAAAAAAAAAAAAAAAAAAAAAAAAAAAAAAAAAAAAAAAAAAAD//wIA/P/3/wIA//8AAAAAAAAAAAAAAAAAAAAAAAAAAAAAAAAAAAAAAAAAAAAAAAAAAAAAAAAAAAAAAAAAAAAAAAAAAAEA+P/7/wIA/v8CAPz/+P8AAAIA+f/6/wIA//8BAAAAAAAAAAAAAAAAAP//AQD9//b/AQAAAAAAAAABAPf//P8EAPf/+/8BAAAAAAAAAAAAAAAAAAAAAAAAAAAAAAAAAAAAAAAAAAAAAAAAAAAAAAAAAAAAAAAAAAAAAAAAAAAAAAAAAAAAAAAAAAAAAAAAAPb/AAAAAAAAAAAAAAAAAAAAAAAAAAAAAAAAAAAAAAAAAAAAAAAAAAAAAAAAAAAAAAAAAAAAAAAAAAAAAAAAAAAAAAAAAAAAAAAAAAAAAAAAAAAAAAAAAAAAAAAAAAAAAAAAAAAAAAAAAAAAAAAAAAAAAAAAAAAAAAAAAAAAAAAAAAAAAAAAAAAAAAAAAAAAAAAAAAAAAAAAAAAAAAAAAAAAAAAAAAAAAAAAAAAAAAAAAAAAAAAAAAAAAAAAAAAAAAAAAAAAAAAAAQD+/wcABgD+/wEAAAAAAAAAAAAAAAAAAAAAAAAAAAAAAAAAAAAAAAAAAAAAAAoAAgD//wAAAAAAAAAA//8HAAYA/v8BAP//AAAAAAAAAAAAAAAAAAAAAP//AQD9/wgABAAGAAYA/f8CAP//AQD//wEA/v8HAAcA/v8BAAAAAAAAAAAAAAAAAAAAAAAAAAAAAAAAAAAAAAAAAAAAAAAAAAAAAAAAAAAAAAAAAAAAAAAAAAAAAAAAAAAAAAAAAAAAAAAAAAAAAAAAAAAAAAAAAAAAAAAAAAAAAAAAAAAAAAAAAAAAAAAAAAAAAAAAAAAAAAAAAAAAAAAAAAAAAAAAAAAAAAAAAAAAAAAAAAAAAAAAAAAAAAAAAAAAAAAAAAAAAAAAAAAAAAAAAAAAAAAAAAAAAAAAAAAAAAAAAAAAAAAAAAAAAAAAAAAAAAAAAAAAAAAAAAAAAAAAAAAAAAAAAAAAAAAAAAAAAAAAAAAAAAAAAAAAAAAAAAAAAAAAAAAAAAAAAAAAAAAAAAAAAAAAAAAAAAAAAAAAAAAAAAAAAAAAAAAAAAAAAAAAAAAAAAAAAAAAAAAAAAAAAAAAAAAAAAAAAAAAAAAAAAAAAAAAAAAAAAAAAAAAAAAAAAAAAAAAAAAAAAAAAAAAAAAAAAAAAAAAAAAAAAAAAAAAAAAAAAAAAAAAAAAAAAAAAAAAAAAAAAAAAAAAAAAAAAAAAAAAAAAAAAAAAAAAAAAAAAAAAAAAAAAAAAAAAAAAAAAAAAAAAAAAAAAAAAAAAAAAAAAAAAAAAAAAAAAAAAAAAAAAAAAAAAAAAAAAAAAAAAAAAAAAAAAAAAAAAAAAAAAAAAAAAAAAAAAAAAAAAAAAAAAAAAAAAAAAAAAAAAAAAAAAAAAAAAAAAAAAAAAAAAAAAAAAAAAAAAAAAAAAAAAAAAAAAAAAAAAAAAAAAAAAAAAAAAAAAAAAAAAAAAAAAAAAAAAAAAAAAAAAAAAAAAAAAAAAAAAAAAAAAAAAAAAAAAAAAAAAAAAAAAAAAAAAAAAAAAAAAAAAAAAAAAAAAAAAAAAAAAAAAAAAAAAAAAAAAAAAAAAAAAAAAAAAAAAAAAAACgABAAAAAAAAAAAAAAAAAAAAAAAAAAAAAAAAAAAAAAAAAAAAAAAAAAAAAAAAAAAAAAAAAAAAAAAAAAAAAAAAAAAAAAAAAAAAAAAAAAAAAAAAAAAAAAAAAAAAAAAAAAAAAAAAAAAAAAAAAAAAAAAAAAAAAAAAAAAAAAAAAAAAAAAAAAAAAAAAAAAAAAAAAAAAAAAAAAAAAAAAAAAAAAAAAAAAAAAAAAAAAAAAAAAAAAAAAAAAAAAAAAAAAAAAAAAAAAAAAAAAAAAAAAAAAAAAAAAAAAAAAAAAAAAAAAAAAAAAAAAAAAAAAAAAAAAAAAAAAAAAAAAAAAAAAAAAAAAAAAAAAAAAAAAAAAAAAAAAAAAAAAAAAAAAAAAAAAAAAAAAAAAAAAAAAAAAAAAAAAAAAAAA//8CAPj//P8CAP//AAAAAAAAAAAAAAAAAAAAAAAAAAAAAAAAAAAAAAAAAAAAAAAAAAAAAAAAAAAAAAAAAAAAAAAAAAAAAAAAAAAAAAAAAAAAAAAAAAAAAAAAAAD//wEA/f/3/wEAAAAAAAAAAAAAAAAAAAAAAAAAAAAAAAAAAAAAAAAAAAAAAAAAAAAAAAAAAAAAAAAAAAAAAAAAAAAAAAAAAAAAAAAAAAAAAAAAAAAAAAAAAAAAAAAAAAAAAAAAAAAAAAAAAAAAAAAAAAAAAAAAAAAAAAAAAAAAAAAAAAAAAAAAAAAAAAAAAAAAAAAAAAAAAAAAAAAAAAAAAAAAAAAAAAAAAAAAAAAAAAAAAAAAAAAAAAAAAAAAAAAAAAAAAAAAAAAAAAAAAAAAAAAAAAAAAAAAAAAAAAAAAAAAAAAAAAAAAAAAAAAAAAAAAAAAAAAAAAAAAAAAAAAAAAAAAAAAAAAAAAAAAAAAAAAAAAAAAAAAAAAAAAAAAAAAAAAAAAAAAAAAAAAAAAAAAAAAAAAAAAAAAAAAAAAAAAAAAAAAAAAAAAAAAAAAAAAAAAAAAAAAAAAAAAAAAAAAAAAAAAAAAAAAAAAAAAAAAAAAAAAAAAAAAAAAAAAAAAAAAAAAAAAAAAAAAAAAAAAAAAAAAAAAAAAAAAAAAAAAAAAAAAAAAAAAAAAAAAAAAAAAAAAAAAAAAAAAAAAAAAAAAAAAAAAAAAAAAAAAAAAAAAAAAAAAAAAAAAAAAAAAAAAAAAAAAAAAAAAAAAAAAAAAAAAAAAAAAAAAAAAAAAAAAAAAAAAAAAAAAAAAAAAAAAAAAAAAAAAAAAAAAAAAAAAAAAAAAAAAAAAAAAAAAAAAAAAAAAAAAAAAAAAAAAAAAAAAAAAAAAAAAAAAAAAAAAAAAAAAAAAAAAAAAAAAAAAAAAAAAAAAAAAAAAAAAAAAAAAAAAAAAAAAAAAAAAAAAAAAAAAAAAAAAAAAAAAAAAAAAAAAAAAAAAAAAAAAAAAAAAAAAAAAAAAAAAAAAAAAAAAAAAAAAAAAAAAAAAAAAAAAAAAAAAAAAAAAAAAAAAAAAAAAAAAAAAAAAAAAAAAAAAAAAAAAAAAAAAAAAAAAAAAAAAAAAAAAAAAAAAAAAAAAAAAAAAAAAAAAAAAAAAAAAAAAAAAAAAAAAAAAAAAAAAAAAAAAAAAAAAAAAAAAAAAAAAAAAAAAAAAAAAAAAAAAAAAAAAAAAAAAAAAAAAAAAAAAAAAAAAAAAAAAAAAAAAAAAAAAAAAAAAAAAAAAAAAAAAAAAAAAAAAAAAAAAAAAAAAAAAAAAAAAAAAAAAAAAAAAAAAAAAAAAAAAAAAAAAAAAAAAAAAAAAAAAAAAAAAAAAAAAAAAAAAAAAAAAAAAAAAAAAAAAAAAAAAAAAAAAAAAAAAAAAAAAAAAAAAAAAAAAAAAAAAAAAAAAAAAAAAAAAAAAAAAAAAAAAAAAAAAAAAAAAAAAAAAAAAAAAAAAAAAAAAAAAAAAAAAAAAAAAAAAAAAAAAAAAAAAAAAAAAAAAAAAAAAAAAAAAAAAAAAAAAAAAAAAAAAAAAAAAAAAAAAAAAAAAAAAAAAAAAAAAAAAAAAAAAAAAAAAAAAAAAAAAAAAAAAAAAAAAABAP//AQD+/wUACAAAAAAAAgAKAP//AAAAAAAAAAAAAAAAAAAAAAAAAAAAAAAAAAAAAAAAAAAAAAAAAAAAAAAAAAAAAAAAAAAAAAAAAAAAAAAAAAAAAAAAAAAAAAAAAAAAAAAAAAAAAAAAAAAAAAAAAAAAAAAAAAAAAAAAAAAAAAAAAAAAAAAAAAAAAAAAAAAAAAAAAAAAAAAAAAAAAAAAAAAAAAAAAAAAAAAAAAAAAAAAAAAAAAAAAAAAAAAAAAAAAAAAAAAAAAAAAAAAAAAAAAAAAAAAAAAAAAAAAAAAAAAAAAAAAAAAAAAAAAAAAAAAAAAAAAAAAAAAAAAAAAAAAAAAAAAAAAAAAAAAAAAAAAAAAAAAAAAAAAAAAAAAAAAAAAAAAAAAAAAAAAAAAAAAAAAAAAAAAQD9//b/AgD//wIA/f/3/wEAAAAAAAAAAAAAAAAAAAAAAAAAAAAAAAAA///2/wAAAAAAAAAAAAAAAAAAAAAAAAAAAAAAAAAAAAAAAAAAAAAAAAAAAAAAAAAAAAAAAAAAAAAAAAAAAAAAAAAAAAAAAAAAAAAAAAAAAAAAAAAAAAAAAAAAAAAAAAAAAAAAAAAAAAAAAAAAAAAAAAAAAAAAAAAAAAAAAAAAAAAAAAAAAAAAAAAAAAABAPb//f8BAP//AAAAAAAAAAAAAAAAAAAAAAAAAAAAAAAAAAAAAAAAAAAAAAAAAAAAAAAAAAAAAAAAAAAAAAAAAAAAAAAAAAAAAAAAAAAAAAAAAAAAAAAAAAAAAAAAAAAAAAAAAAAAAAAAAAAAAAAAAAAAAAAAAAAAAAAAAAAAAAAAAAAAAAAAAAAAAAAAAAAAAAAAAAAAAAAAAAAAAAAAAAAAAAAAAAAAAAAAAAAAAAAAAAAAAAAAAAAAAAAAAAAAAAAAAAAAAAAAAAAAAAAAAAAAAAAAAAAAAAAAAQD//wIA/P8QAAkAAwAIAP3/AQD//wAAAAAAAAAAAAAAAAoAAQD//wEA//8AAAoAAAAGAAcA+/8IAAUAAAAAAAAACQACAP//DAD+/wEA//8AABAACAD7/wgADwAIAAUA//8IAA4AAAACAAkAAgAKAP7/AQD//wIACgD//wAAAAAAAAAAAAAAAAAAAAAAAAAAAAAAAAAAAAAAAAAAAAAAAAAAAAAAAAAACgACAP//AQAAAAAAAAAAAAAAAAAAAAAAAAAAAAAAAAAAAAAAAAAAAAAAAAAAAAAAAAAAAAAAAAAAAAAAAAAAAAAAAAAAAAAAAAAAAAAAAAAAAAAAAAAAAAAAAAAAAAAAAAAAAAAAAAAAAAAAAAAAAAAAAAAAAAAAAAAAAAAAAAAAAAAAAAAAAAAAAAAAAAAAAAAAAAAAAAAAAAAAAAAAAAAAAAAAAAAAAAAAAAAAAAAAAAAAAAAAAAAAAAAAAAAAAAAAAAAAAAAAAAAAAAAAAAAAAAAAAAAAAAAAAAAAAAD//wIA+v/5/wIA//8AAAAAAAAAAAAAAAAAAAAAAAAAAAAAAAAAAAAAAAAAAAAAAAAAAAAAAgD3//3/+P/9/wIA//8BAAAAAAAAAAAAAQD3//z/AgD0/wAAAAAAAAAAAAAAAAAAAAAAAAAAAAAAAAAAAAAAAAAAAAAAAAAAAAAAAAAAAAAAAAAAAAAAAAAAAAAAAAAAAAAAAAAAAAAAAAAAAAAAAAAAAAAAAAAAAAAAAAAAAAAAAAAAAAAAAAAAAAAAAAAAAAAAAAAAAAAAAAAAAAAAAAAAAAAAAAAAAAAAAAAAAAAAAAAAAAAAAAAAAAAAAAAAAAAAAAAAAAAAAAAAAAAAAAAAAAAAAAAAAAAAAAAAAAAAAAAAAAAAAAAAAAAAAAAAAAAAAAAAAAAAAAAAAAAAAAAAAAAAAAAAAAAAAAAAAAAAAAAAAAAAAAAAAAAAAAAAAAAAAAAAAAAAAAAAAAAAAAAAAAAAAAAAAAAAAAAAAAAAAAAAAAAAAAAAAAAAAAAAAAAAAAAAAAAAAAAAAAAAAAAAAAAAAAAAAAAAAAAAAAAAAAAAAAAAAAAAAAAAAAAAAAAAAAAAAAAAAAAAAAAAAAAAAAAAAAAAAAAAAAAAAAAAAAAAAAAAAAAAAAAAAAAAAAAAAAAAAAAAAAAAAAAAAAAAAAAAAAAAAAAAAAAAAAAAAAAAAAAAAAAAAAAAAAAAAAAAAAAAAAAAAAAAAAAAAAAAAAAAAAAAAAAAAAAAAAAAAAAAAAAAAAAAAAAAAAAAAAAAAAAAAAAAAAAAAAAAAAAAAAAAAAAAAAAAAAAAAAAAAAAAAAAAAAAAAAAAAAAAAAAAAAAAAAAAAAAAAAAAAAAAAAAAAAAAAAAAAAAAAAAAAAAAAAAAAAAAAAAAAAAAAAAAAAAAAAAAAAAAAAAAAAAAAAAAAAAAAAAAAAAAAAAAAAAAAAAAAAAAAAAAAAAAAAAAAAAAAAAAAAAAAAAAAAAAAAAAAAAAAAAAAAAAAAAAAAAAAAAAAAAAAAAAAAAAAAAAAAAAAAAAAAAAAAAAAAAAAAAAAAAAAAAAAAAAAAAAAAAAAAAAAAAAAAAAAAAAAAAAAAAAAAAAAAAAAAAAAAAAAAAAAAAAAAAAAAAAAAAAAAAAAAAAAAAAAAAAAAAAAAAAAAAAAAAAAAAAAAAAAAAAAAAAAAAAAAAAAAAAAAAAAAAAAAAAAAAAAAAAAAAAAAAAAAAAAAAAAAAAAAAAAAAAAAAAAAAAAAAAAAAAAAAAAAAAAAAAAAAAAAAAAAAAAAAAAAAAAAAAAAAAAAAAAAAAAAAAAAAAAAAAAAAAAAAAAAAAAAAAAAAAAAAAAAAAAAAAAAAAAAAAAAAAAAAAAAAAAAAAAAAAAAAAAAAAAAAAAAAAAAAAAAAAAAAAAAAAAAAAAAAAAAAAAAAAAAAAAAAAAAAAAAAAAAAAAAAAAAAAAAAAAAAAAAAAAAAAAAAAAAAAAAAAAAAAAAAAAAAAAAAAAAAAAAAAAAAAAAAAAAAAAAAAAAAAAAAAAAAAAAAAAAAAAAAAAAAAAAAAAAAAAAAAAAAAAAAAAAAAAAAAAAAAAAAAAAAAAAAAAAAAAAAAAAAAAAAAAAAAAAAAAAAAAAAAAAAAAAAAAAAAAAAAAAAAAAAAAAAAAAAAAAAAAAAAAAAAAAAAAAAAAAAAAAAAAAAAAAAAAAAAAAAAAAAAAAAAAAAAAAAAAAAAAAAAAAAAAAAAAAAAAAAAAAAAAAAAAAAAAAAAAAAAAAAAAAAAAAAAAAAAAAAAAAAAAAAAAAAAAAAAAAAAAAAAAAAAAAAAAAAAAAAAAAAAAAAAAAAAAAAAAAAAAAAAAAAAAAAAAAAAAAAAAAAAAAAAAAAAAAAAAAAAAAAAAAAAAAAAAAAAAAAAAAAAAAAAAAAAAAAAAAAAAAAAAAAAAAAAAAAAAAAAAAAAAAAAAAAAAAAAAAAAAAAAAAAAAAAAAAAAAAAAAAAAAAAAAAAAAAAAAAAAAAAAAAAAAAAAAAAAAAAAAA==\" type=\"audio/wav\" />\n",
              "                    Your browser does not support the audio element.\n",
              "                </audio>\n",
              "              "
            ],
            "text/plain": [
              "<IPython.lib.display.Audio object>"
            ]
          },
          "execution_count": 8,
          "metadata": {},
          "output_type": "execute_result"
        }
      ],
      "source": [
        "# PLAY AUDIO FILE\n",
        "sf.write(os.path.join(address , 'IPD_Audio_Files/MaleNeutral.wav'), x, sr)\n",
        "Audio(data=x, rate=sr)"
      ]
    },
    {
      "cell_type": "code",
      "execution_count": 9,
      "metadata": {
        "colab": {
          "base_uri": "https://localhost:8080/",
          "height": 472
        },
        "collapsed": true,
        "id": "0X0DbLuVKag4",
        "jupyter": {
          "outputs_hidden": true
        },
        "outputId": "8b25a2da-fc23-4148-a285-3f57759c72e6",
        "scrolled": true
      },
      "outputs": [
        {
          "data": {
            "image/png": "[encoded data removed]",
            "text/plain": [
              "<Figure size 640x480 with 2 Axes>"
            ]
          },
          "metadata": {},
          "output_type": "display_data"
        }
      ],
      "source": [
        "# CREATE LOG MEL SPECTROGRAM\n",
        "spectrogram = librosa.feature.melspectrogram(y=x, sr=sr, n_mels=128,fmax=8000)\n",
        "spectrogram = librosa.power_to_db(spectrogram)\n",
        "\n",
        "librosa.display.specshow(spectrogram, y_axis='mel', fmax=8000, x_axis='time');\n",
        "plt.title('Mel Spectrogram - Male Neutral')\n",
        "plt.savefig(f'{DATASET_PATH}/MelSpec_MaleNeutral.png')\n",
        "plt.colorbar(format='%+2.0f dB');"
      ]
    },
    {
      "cell_type": "markdown",
      "metadata": {
        "id": "sK3eluHjKag5"
      },
      "source": [
        "<font size = 5 color = seagreen><b> Female Calm"
      ]
    },
    {
      "cell_type": "code",
      "execution_count": 10,
      "metadata": {
        "collapsed": true,
        "id": "SgE2edyTKag5",
        "jupyter": {
          "outputs_hidden": true
        }
      },
      "outputs": [],
      "source": [
        "# LOAD IN FILE\n",
        "x, sr = librosa.load(address + '/ravdess-emotional-speech-audio/Actor_02/03-01-02-01-01-01-02.wav')"
      ]
    },
    {
      "cell_type": "code",
      "execution_count": null,
      "metadata": {
        "colab": {
          "base_uri": "https://localhost:8080/",
          "height": 410
        },
        "collapsed": true,
        "id": "YxLQbW4bKag6",
        "jupyter": {
          "outputs_hidden": true
        },
        "outputId": "f29e4146-d219-434c-eab0-c795a291f2f2"
      },
      "outputs": [],
      "source": [
        "# DISPLAY WAVEPLOT\n",
        "plt.figure(figsize=(8, 4))\n",
        "librosa.display.waveshow(x, sr=sr)\n",
        "plt.title('Waveplot - Female Calm')\n",
        "plt.savefig(f'{DATASET_PATH}/Waveplot_FemaleCalm.png')\n"
      ]
    },
    {
      "cell_type": "code",
      "execution_count": null,
      "metadata": {
        "colab": {
          "base_uri": "https://localhost:8080/",
          "height": 75
        },
        "id": "gVXkBGeTKag7",
        "outputId": "f32a8fc3-3c1b-4d91-d5a4-043c73562203"
      },
      "outputs": [],
      "source": [
        "# PLAY AUDIO FILE\n",
        "sf.write(os.path.join(address , 'IPD_Audio_Files/FemaleCalm.wav'), x, sr)\n",
        "Audio(data=x, rate=sr)"
      ]
    },
    {
      "cell_type": "code",
      "execution_count": null,
      "metadata": {
        "colab": {
          "base_uri": "https://localhost:8080/",
          "height": 472
        },
        "collapsed": true,
        "id": "N0rD6aVwKag7",
        "jupyter": {
          "outputs_hidden": true
        },
        "outputId": "9c126991-085a-401d-c347-b815228000ca",
        "scrolled": true
      },
      "outputs": [],
      "source": [
        "# CREATE LOG MEL SPECTROGRAM\n",
        "spectrogram = librosa.feature.melspectrogram(y=x, sr=sr, n_mels=128,fmax=8000)\n",
        "spectrogram = librosa.power_to_db(spectrogram)\n",
        "\n",
        "librosa.display.specshow(spectrogram, y_axis='mel', fmax=8000, x_axis='time');\n",
        "plt.title('Mel Spectrogram - Female Calm')\n",
        "plt.savefig(f'{DATASET_PATH}/MelSpec_FemaleCalm.png')\n",
        "plt.colorbar(format='%+2.0f dB');"
      ]
    },
    {
      "cell_type": "markdown",
      "metadata": {
        "id": "ZKII92T2Kag8"
      },
      "source": [
        "<font size = 5 color = seagreen><b> Male Happy"
      ]
    },
    {
      "cell_type": "code",
      "execution_count": 14,
      "metadata": {
        "collapsed": true,
        "id": "S4yfjT3kKag8",
        "jupyter": {
          "outputs_hidden": true
        }
      },
      "outputs": [],
      "source": [
        "# LOAD FILE\n",
        "x, sr = librosa.load(address + '/ravdess-emotional-speech-audio/Actor_03/03-01-03-01-01-01-03.wav')"
      ]
    },
    {
      "cell_type": "code",
      "execution_count": 14,
      "metadata": {
        "id": "Hq6f9oYUk7ML"
      },
      "outputs": [],
      "source": []
    },
    {
      "cell_type": "code",
      "execution_count": null,
      "metadata": {
        "colab": {
          "base_uri": "https://localhost:8080/",
          "height": 410
        },
        "collapsed": true,
        "id": "m9xSfSDhKag8",
        "jupyter": {
          "outputs_hidden": true
        },
        "outputId": "c52a1de4-55c5-4f5a-c882-a0b6f041dd16",
        "scrolled": true
      },
      "outputs": [],
      "source": [
        "# DISPLAY WAVEPLOT\n",
        "plt.figure(figsize=(8, 4))\n",
        "librosa.display.waveshow(x, sr=sr)\n",
        "plt.title('Waveplot - Male Happy')\n",
        "plt.savefig(f'{DATASET_PATH}/Waveplot_MaleHappy.png')"
      ]
    },
    {
      "cell_type": "code",
      "execution_count": null,
      "metadata": {
        "colab": {
          "base_uri": "https://localhost:8080/",
          "height": 75
        },
        "collapsed": true,
        "id": "L3UKeO4HKag9",
        "jupyter": {
          "outputs_hidden": true
        },
        "outputId": "778d1078-2c5e-4fb6-917c-542be5b8f9fd"
      },
      "outputs": [],
      "source": [
        "# PLAY AUDIO FILE\n",
        "sf.write(os.path.join(address , 'IPD_Audio_Files/MaleHappy.wav'), x, sr)\n",
        "Audio(data=x, rate=sr)"
      ]
    },
    {
      "cell_type": "code",
      "execution_count": null,
      "metadata": {
        "colab": {
          "base_uri": "https://localhost:8080/",
          "height": 472
        },
        "collapsed": true,
        "id": "PwpiUhraKag9",
        "jupyter": {
          "outputs_hidden": true
        },
        "outputId": "e0cf7c51-4fcb-479a-99a4-b12a4bdf6c4a"
      },
      "outputs": [],
      "source": [
        "# CREATE LOG MEL SPECTROGRAM\n",
        "x = librosa.feature.melspectrogram(y=x, sr=sr,n_mels=128,fmax=8000)\n",
        "x = librosa.power_to_db(x)\n",
        "\n",
        "librosa.display.specshow(x, y_axis='mel', fmax=8000, x_axis='time');\n",
        "plt.title('Mel Spectrogram - Male Happy')\n",
        "plt.savefig(f'{DATASET_PATH}/MelSpec_MaleHappy.png')\n",
        "plt.colorbar(format='%+2.0f dB');"
      ]
    },
    {
      "cell_type": "markdown",
      "metadata": {
        "id": "pdlXEEWSKag9"
      },
      "source": [
        "<font size = 5 color = seagreen><b> Female Sad"
      ]
    },
    {
      "cell_type": "code",
      "execution_count": 18,
      "metadata": {
        "collapsed": true,
        "id": "IWpLxG53Kag9",
        "jupyter": {
          "outputs_hidden": true
        }
      },
      "outputs": [],
      "source": [
        "# LOAD FILE\n",
        "x, sr = librosa.load(address + '/ravdess-emotional-speech-audio/Actor_04/03-01-04-01-01-01-04.wav')\n"
      ]
    },
    {
      "cell_type": "code",
      "execution_count": null,
      "metadata": {
        "colab": {
          "base_uri": "https://localhost:8080/",
          "height": 410
        },
        "collapsed": true,
        "id": "jh40yht2Kag9",
        "jupyter": {
          "outputs_hidden": true
        },
        "outputId": "39db65a9-9b0c-4740-eb4f-026de448d226",
        "scrolled": true
      },
      "outputs": [],
      "source": [
        "# DISPLAY WAVEPLOT\n",
        "plt.figure(figsize=(8, 4))\n",
        "librosa.display.waveshow(x, sr=sr)\n",
        "plt.title('Waveplot - Female Sad')\n",
        "plt.savefig(f'{DATASET_PATH}/Waveplot_FemaleSad.png')"
      ]
    },
    {
      "cell_type": "code",
      "execution_count": null,
      "metadata": {
        "colab": {
          "base_uri": "https://localhost:8080/",
          "height": 75
        },
        "collapsed": true,
        "id": "ThNx__QqKag9",
        "jupyter": {
          "outputs_hidden": true
        },
        "outputId": "c0da925e-f781-405f-a9c2-28b482cd93c5"
      },
      "outputs": [],
      "source": [
        "# PLAY AUDIO FILE\n",
        "sf.write(os.path.join(address , 'IPD_Audio_Files/FemaleSad.wav'), x, sr)\n",
        "Audio(data=x, rate=sr)"
      ]
    },
    {
      "cell_type": "code",
      "execution_count": null,
      "metadata": {
        "colab": {
          "base_uri": "https://localhost:8080/",
          "height": 472
        },
        "collapsed": true,
        "id": "0kRgj2evKag9",
        "jupyter": {
          "outputs_hidden": true
        },
        "outputId": "d8341cb7-081a-46aa-a648-4d1e5d57c94c"
      },
      "outputs": [],
      "source": [
        "# DISPLAY LOG MEL SPECTROGRAM\n",
        "x = librosa.feature.melspectrogram(y=x, sr=sr,n_mels=128,fmax=8000)\n",
        "y = librosa.power_to_db(x)\n",
        "\n",
        "librosa.display.specshow(y, y_axis='mel', fmax=8000, x_axis='time');\n",
        "plt.title('Mel Spectrogram - Female Sad');\n",
        "plt.savefig(f'{DATASET_PATH}/MelSpec_FemaleSad.png')\n",
        "plt.colorbar(format='%+2.0f dB');"
      ]
    },
    {
      "cell_type": "markdown",
      "metadata": {
        "id": "UZ6bb9jsKag-"
      },
      "source": [
        "<font size = 5 color = seagreen><b> Male Angry"
      ]
    },
    {
      "cell_type": "code",
      "execution_count": 22,
      "metadata": {
        "collapsed": true,
        "id": "x5_gbfvnKag-",
        "jupyter": {
          "outputs_hidden": true
        }
      },
      "outputs": [],
      "source": [
        "# LOAD FILE\n",
        "x, sr = librosa.load(address + '/ravdess-emotional-speech-audio/Actor_05/03-01-05-01-01-01-05.wav')\n"
      ]
    },
    {
      "cell_type": "code",
      "execution_count": null,
      "metadata": {
        "colab": {
          "base_uri": "https://localhost:8080/",
          "height": 410
        },
        "collapsed": true,
        "id": "mjCsbvFrKag-",
        "jupyter": {
          "outputs_hidden": true
        },
        "outputId": "a5a12922-f4b0-4f20-df55-59e8e7378a50",
        "scrolled": true
      },
      "outputs": [],
      "source": [
        "# DISPLAY WAVEPLOT\n",
        "plt.figure(figsize=(8, 4))\n",
        "librosa.display.waveshow(x, sr=sr)\n",
        "plt.title('Waveplot - Male Angry')\n",
        "plt.savefig(f'{DATASET_PATH}/Waveplot_MaleAngry.png')"
      ]
    },
    {
      "cell_type": "code",
      "execution_count": null,
      "metadata": {
        "colab": {
          "base_uri": "https://localhost:8080/",
          "height": 75
        },
        "collapsed": true,
        "id": "K296XbIGKag-",
        "jupyter": {
          "outputs_hidden": true
        },
        "outputId": "beda7f14-230e-4dfb-bc01-150e4e15f934"
      },
      "outputs": [],
      "source": [
        "# PLAY AUDIO FILE\n",
        "sf.write(os.path.join(address , 'IPD_Audio_Files/MaleAngry.wav'), x, sr)\n",
        "Audio(data=x, rate=sr)"
      ]
    },
    {
      "cell_type": "code",
      "execution_count": null,
      "metadata": {
        "colab": {
          "base_uri": "https://localhost:8080/",
          "height": 472
        },
        "collapsed": true,
        "id": "Z2-3Op-1Kag-",
        "jupyter": {
          "outputs_hidden": true
        },
        "outputId": "d8529a15-7ab5-4deb-897f-e482a75c15b9"
      },
      "outputs": [],
      "source": [
        "# DISPLAY LOG MEL SPECTROGRAM\n",
        "x = librosa.feature.melspectrogram(y=x, sr=sr,n_mels=128,fmax=8000)\n",
        "y = librosa.power_to_db(x)\n",
        "\n",
        "librosa.display.specshow(y, y_axis='mel', fmax=8000, x_axis='time');\n",
        "plt.title('Mel Spectrogram - Male Angry');\n",
        "plt.savefig(f'{DATASET_PATH}/MelSpec_MaleAngry.png')\n",
        "plt.colorbar(format='%+2.0f dB');"
      ]
    },
    {
      "cell_type": "markdown",
      "metadata": {
        "id": "Gnh4TaVFKahC"
      },
      "source": [
        "<font size = 5 color = seagreen><b> Female Fearful"
      ]
    },
    {
      "cell_type": "code",
      "execution_count": 26,
      "metadata": {
        "collapsed": true,
        "id": "N5JrrWvNKahC",
        "jupyter": {
          "outputs_hidden": true
        }
      },
      "outputs": [],
      "source": [
        "# LOAD FILE\n",
        "x, sr = librosa.load(address + '/ravdess-emotional-speech-audio/Actor_06/03-01-06-01-01-01-06.wav')"
      ]
    },
    {
      "cell_type": "code",
      "execution_count": null,
      "metadata": {
        "colab": {
          "base_uri": "https://localhost:8080/",
          "height": 410
        },
        "collapsed": true,
        "id": "UwTYna5WKahC",
        "jupyter": {
          "outputs_hidden": true
        },
        "outputId": "55ac19a3-4b16-4723-dae2-bc2e555cee4c",
        "scrolled": true
      },
      "outputs": [],
      "source": [
        "# DISPLAY WAVEPLOT\n",
        "plt.figure(figsize=(8, 4))\n",
        "librosa.display.waveshow(x, sr=sr)\n",
        "plt.title('Waveplot - Female Fearful')\n",
        "plt.savefig(f'{DATASET_PATH}/Waveplot_FemaleFearful.png')\n"
      ]
    },
    {
      "cell_type": "code",
      "execution_count": null,
      "metadata": {
        "colab": {
          "base_uri": "https://localhost:8080/",
          "height": 75
        },
        "collapsed": true,
        "id": "3vDsMyqzKahD",
        "jupyter": {
          "outputs_hidden": true
        },
        "outputId": "88218d83-22e6-41a6-d5dd-5c72ecd1ecbd"
      },
      "outputs": [],
      "source": [
        "# PLAY AUDIO FILE\n",
        "sf.write(os.path.join(address , 'IPD_Audio_Files/FemaleFearful.wav'), x, sr)\n",
        "Audio(data=x, rate=sr)"
      ]
    },
    {
      "cell_type": "code",
      "execution_count": null,
      "metadata": {
        "colab": {
          "base_uri": "https://localhost:8080/",
          "height": 472
        },
        "collapsed": true,
        "id": "-JOjLDJGKahD",
        "jupyter": {
          "outputs_hidden": true
        },
        "outputId": "17f8ae49-ac43-4901-e50b-51855c528195"
      },
      "outputs": [],
      "source": [
        "# DISPLAY LOG MEL SPECTROGRAM\n",
        "x = librosa.feature.melspectrogram(y=x, sr=sr,n_mels=128,fmax=8000)\n",
        "y = librosa.power_to_db(x)\n",
        "\n",
        "librosa.display.specshow(y, y_axis='mel', fmax=8000, x_axis='time');\n",
        "plt.title('Mel Spectrogram - Female Fearful')\n",
        "plt.savefig(f'{DATASET_PATH}/MelSpec_FemaleFearful.png')\n",
        "plt.colorbar(format='%+2.0f dB');"
      ]
    },
    {
      "cell_type": "markdown",
      "metadata": {
        "id": "hUMc6VyvKahE"
      },
      "source": [
        "<font size = 5 color = seagreen><b> Male Disgust"
      ]
    },
    {
      "cell_type": "code",
      "execution_count": 30,
      "metadata": {
        "collapsed": true,
        "id": "ZLEOKsGEKahE",
        "jupyter": {
          "outputs_hidden": true
        }
      },
      "outputs": [],
      "source": [
        "# LOAD FILE\n",
        "x, sr = librosa.load(address + '/ravdess-emotional-speech-audio/Actor_07/03-01-07-01-01-01-07.wav')"
      ]
    },
    {
      "cell_type": "code",
      "execution_count": null,
      "metadata": {
        "colab": {
          "base_uri": "https://localhost:8080/",
          "height": 410
        },
        "collapsed": true,
        "id": "VZIY_iLJKahE",
        "jupyter": {
          "outputs_hidden": true
        },
        "outputId": "d155f9ae-fc6e-4f5e-ce80-4e8df87d9e69",
        "scrolled": true
      },
      "outputs": [],
      "source": [
        "# DISPLAY WAVEPLOT\n",
        "plt.figure(figsize=(8, 4))\n",
        "librosa.display.waveshow(x, sr=sr)\n",
        "plt.title('Waveplot - Male Disgust')\n",
        "plt.savefig(f'{DATASET_PATH}/Waveplot_MaleDisgust.png')"
      ]
    },
    {
      "cell_type": "code",
      "execution_count": null,
      "metadata": {
        "colab": {
          "base_uri": "https://localhost:8080/",
          "height": 75
        },
        "collapsed": true,
        "id": "FM1HZXUiKahE",
        "jupyter": {
          "outputs_hidden": true
        },
        "outputId": "5ba13a5d-5d8d-4777-94c1-2f6a4bc70a81"
      },
      "outputs": [],
      "source": [
        "# PLAY AUDIO FILE\n",
        "sf.write(os.path.join(address , 'IPD_Audio_Files/MaleDisgust.wav'), x, sr)\n",
        "Audio(data=x, rate=sr)"
      ]
    },
    {
      "cell_type": "code",
      "execution_count": null,
      "metadata": {
        "colab": {
          "base_uri": "https://localhost:8080/",
          "height": 472
        },
        "collapsed": true,
        "id": "miUWjIZsKahF",
        "jupyter": {
          "outputs_hidden": true
        },
        "outputId": "0d46035e-2d6d-4f21-85aa-7851ad6879f9"
      },
      "outputs": [],
      "source": [
        "# DISPLAY LOG MEL SPECTROGRAM\n",
        "x = librosa.feature.melspectrogram(y=x, sr=sr,n_mels=128,fmax=8000)\n",
        "y = librosa.power_to_db(x)\n",
        "\n",
        "librosa.display.specshow(y, y_axis='mel', fmax=8000, x_axis='time');\n",
        "plt.title('Mel Spectrogram - Male Disgust')\n",
        "plt.savefig(f'{DATASET_PATH}/MelSpec_MaleDisgust.png')\n",
        "plt.colorbar(format='%+2.0f dB');"
      ]
    },
    {
      "cell_type": "markdown",
      "metadata": {
        "id": "I70Koo78KahF"
      },
      "source": [
        "<font size = 5 color = seagreen><b> Female Surprised"
      ]
    },
    {
      "cell_type": "code",
      "execution_count": 34,
      "metadata": {
        "collapsed": true,
        "id": "DqaL0ObBKahF",
        "jupyter": {
          "outputs_hidden": true
        }
      },
      "outputs": [],
      "source": [
        "# LOAD FILE\n",
        "x, sr = librosa.load(address + '/ravdess-emotional-speech-audio/Actor_08/03-01-08-01-01-01-08.wav')"
      ]
    },
    {
      "cell_type": "code",
      "execution_count": null,
      "metadata": {
        "colab": {
          "base_uri": "https://localhost:8080/",
          "height": 410
        },
        "collapsed": true,
        "id": "qz_gbPWHKahK",
        "jupyter": {
          "outputs_hidden": true
        },
        "outputId": "07d3f0b8-9953-4fa7-fa27-d3f73dd3ed0c"
      },
      "outputs": [],
      "source": [
        "# DISPLAY WAVEPLOT\n",
        "plt.figure(figsize=(8, 4))\n",
        "librosa.display.waveshow(x, sr=sr)\n",
        "plt.title('Waveplot - FemaleSurprised')\n",
        "plt.savefig(f'{DATASET_PATH}/Waveplot_FemaleSurprised.png')\n"
      ]
    },
    {
      "cell_type": "code",
      "execution_count": null,
      "metadata": {
        "colab": {
          "base_uri": "https://localhost:8080/",
          "height": 75
        },
        "collapsed": true,
        "id": "dOY3OXPRKahL",
        "jupyter": {
          "outputs_hidden": true
        },
        "outputId": "a257757b-48f4-4534-a39a-6aa1ad28724d"
      },
      "outputs": [],
      "source": [
        "# PLAY AUDIO FILE\n",
        "sf.write(os.path.join(address , 'IPD_Audio_Files/FemaleSurprised.wav'), x, sr)\n",
        "Audio(data=x, rate=sr)"
      ]
    },
    {
      "cell_type": "code",
      "execution_count": null,
      "metadata": {
        "colab": {
          "base_uri": "https://localhost:8080/",
          "height": 472
        },
        "collapsed": true,
        "id": "vVAc8gsoKahL",
        "jupyter": {
          "outputs_hidden": true
        },
        "outputId": "89b52634-5698-41e3-e5e1-c62d30b7c007",
        "scrolled": true
      },
      "outputs": [],
      "source": [
        "# DISPLAY LOG MEL SPECTROGRAM\n",
        "x = librosa.feature.melspectrogram(y=x, sr=sr,n_mels=128,fmax=8000)\n",
        "y = librosa.power_to_db(x)\n",
        "\n",
        "librosa.display.specshow(y, y_axis='mel', fmax=8000, x_axis='time');\n",
        "plt.title('Mel Spectrogram - Female Surprised')\n",
        "plt.savefig(f'{DATASET_PATH}/MelSpec_FemaleSurprised.png')\n",
        "plt.colorbar(format='%+2.0f dB');"
      ]
    },
    {
      "cell_type": "markdown",
      "metadata": {
        "id": "nKjAoR3ZdWv6"
      },
      "source": [
        "[top](#d0)"
      ]
    },
    {
      "cell_type": "markdown",
      "metadata": {
        "id": "jP3K1mdaKahL"
      },
      "source": [
        "##### <a id = 'd3'>\n",
        "<font size = 10 color = 'midnightblue'> <b>  Data Preprocessing"
      ]
    },
    {
      "cell_type": "markdown",
      "metadata": {
        "id": "UAaaOZnxKahL"
      },
      "source": [
        "<font size = 5 color = pwdrblue><b> Labeling Audio Files"
      ]
    },
    {
      "cell_type": "code",
      "execution_count": null,
      "metadata": {
        "colab": {
          "base_uri": "https://localhost:8080/"
        },
        "collapsed": true,
        "id": "MX6Y5cv2KahL",
        "jupyter": {
          "outputs_hidden": true
        },
        "outputId": "2ae089bd-ea97-467e-dec1-157738b67023",
        "scrolled": true
      },
      "outputs": [],
      "source": [
        "# CREATE DIRECTORY OF AUDIO FILES\n",
        "audio = address + \"/ravdess-emotional-speech-audio/\"\n",
        "actor_folders = os.listdir(audio) #list files in audio directory\n",
        "actor_folders.sort()\n",
        "actor_folders[0:5]"
      ]
    },
    {
      "cell_type": "code",
      "execution_count": null,
      "metadata": {
        "colab": {
          "base_uri": "https://localhost:8080/"
        },
        "collapsed": true,
        "id": "ibe37jj3cXZk",
        "jupyter": {
          "outputs_hidden": true
        },
        "outputId": "50932c35-1fa8-44e5-f10d-8e4267ba3d73"
      },
      "outputs": [],
      "source": [
        "actor_folders = [act for act in actor_folders if act not in('.DS_Store', 'ipynb_checkpoints')]\n",
        "len(actor_folders)"
      ]
    },
    {
      "cell_type": "markdown",
      "metadata": {
        "id": "H3qQo3XXdWv6"
      },
      "source": [
        "<font size = 5 color = pwdrblue><b> Create function to extract emotion number, actor and gender label"
      ]
    },
    {
      "cell_type": "code",
      "execution_count": 40,
      "metadata": {
        "collapsed": true,
        "id": "nhCQpXuBKahM",
        "jupyter": {
          "outputs_hidden": true
        }
      },
      "outputs": [],
      "source": [
        "emotion = []\n",
        "gender = []\n",
        "actor = []\n",
        "file_path = []\n",
        "\n",
        "for i in actor_folders:\n",
        "    filename = os.listdir(audio + i) #iterate over Actor folders\n",
        "    for f in filename: # go through files in Actor folder\n",
        "        part = f.split('.')[0].split('-')\n",
        "        emotion.append(int(part[2]))\n",
        "        actor.append(int(part[6]))\n",
        "        bg = int(part[6])\n",
        "        if bg%2 == 0:\n",
        "            bg = \"female\"\n",
        "        else:\n",
        "            bg = \"male\"\n",
        "        gender.append(bg)\n",
        "        file_path.append(audio + i + '/' + f)"
      ]
    },
    {
      "cell_type": "markdown",
      "metadata": {
        "id": "8LZxGkDYdWv7"
      },
      "source": [
        "<font size = 5 color = pwdrblue><b> Put extracted labels with filepath into dataframe"
      ]
    },
    {
      "cell_type": "code",
      "execution_count": null,
      "metadata": {
        "colab": {
          "base_uri": "https://localhost:8080/",
          "height": 424
        },
        "collapsed": true,
        "id": "EtA01VJCKahM",
        "jupyter": {
          "outputs_hidden": true
        },
        "outputId": "fbd635cc-9483-45a8-94b6-17315c5f1246",
        "scrolled": true
      },
      "outputs": [],
      "source": [
        "audio_df = pd.DataFrame(emotion)\n",
        "audio_df = audio_df.replace({1:'neutral', 2:'calm', 3:'happy', 4:'sad', 5:'angry', 6:'fear', 7:'disgust', 8:'surprise'})\n",
        "audio_df = pd.concat([pd.DataFrame(gender),audio_df,pd.DataFrame(actor)],axis=1)\n",
        "audio_df.columns = ['gender','emotion','actor']\n",
        "audio_df = pd.concat([audio_df,pd.DataFrame(file_path, columns = ['path'])],axis=1)\n",
        "audio_df"
      ]
    },
    {
      "cell_type": "markdown",
      "metadata": {
        "id": "wGk4P15TdWv7",
        "tags": []
      },
      "source": [
        "<font size = 5 color = pwdrblue><b>  Ensure gender,emotion, and actor column values are correct"
      ]
    },
    {
      "cell_type": "markdown",
      "metadata": {
        "id": "mcpOdDBddWv7"
      },
      "source": [
        "<font size = 5 color = pwdrblue><b> Look at distribution of classes"
      ]
    },
    {
      "cell_type": "code",
      "execution_count": null,
      "metadata": {
        "colab": {
          "base_uri": "https://localhost:8080/",
          "height": 511
        },
        "collapsed": true,
        "id": "Tm52aZ7kKahM",
        "jupyter": {
          "outputs_hidden": true
        },
        "outputId": "a0588697-71e9-4744-d54e-e5ee60746f0e",
        "scrolled": true
      },
      "outputs": [],
      "source": [
        "audio_df.emotion.value_counts().plot(kind='bar')"
      ]
    },
    {
      "cell_type": "markdown",
      "metadata": {
        "id": "-jCu3lMVdWv7"
      },
      "source": [
        "<font size = 5 color = pwdrblue><b> Export to csv file"
      ]
    },
    {
      "cell_type": "code",
      "execution_count": 43,
      "metadata": {
        "collapsed": true,
        "id": "HBKc4MozKahN",
        "jupyter": {
          "outputs_hidden": true
        }
      },
      "outputs": [],
      "source": [
        "audio_df.to_csv(address + '/audio.csv')"
      ]
    },
    {
      "cell_type": "markdown",
      "metadata": {
        "id": "gkNV4Z4MdWv7"
      },
      "source": [
        "[top](#d0)"
      ]
    },
    {
      "cell_type": "markdown",
      "metadata": {
        "id": "pltd4lkoKahN"
      },
      "source": [
        "##### <a id = 'd4'>\n",
        "<font size = 10 color = 'midnightblue'> <b>  Feature extraction"
      ]
    },
    {
      "cell_type": "markdown",
      "metadata": {
        "id": "9cyXhpggdWv7"
      },
      "source": [
        "<font size = 5 color = pwdrblue><b> Iterate over all audio files and extract log mel spectrogram mean values into df for modeling"
      ]
    },
    {
      "cell_type": "code",
      "execution_count": null,
      "metadata": {
        "colab": {
          "base_uri": "https://localhost:8080/",
          "height": 224
        },
        "collapsed": true,
        "id": "l8kWP6n3KahN",
        "jupyter": {
          "outputs_hidden": true
        },
        "outputId": "1d3f797f-c88f-4d4c-f7da-54c5ca8197c6",
        "scrolled": true
      },
      "outputs": [],
      "source": [
        "df = pd.DataFrame(columns=['mel_spectrogram'])\n",
        "\n",
        "counter=0\n",
        "\n",
        "for index,path in enumerate(audio_df.path):\n",
        "    X, sample_rate = librosa.load(path, res_type='kaiser_fast',duration=3,sr=44100,offset=0.5)\n",
        "\n",
        "    #get the mel-scaled spectrogram (ransform both the y-axis (frequency) to log scale, and the “color” axis (amplitude) to Decibels, which is kinda the log scale of amplitudes.)\n",
        "    spectrogram = librosa.feature.melspectrogram(y=X, sr=sample_rate, n_mels=128,fmax=8000)\n",
        "    db_spec = librosa.power_to_db(spectrogram)\n",
        "    #temporally average spectrogram\n",
        "    log_spectrogram = np.mean(db_spec, axis = 0)\n",
        "\n",
        "    df.loc[counter] = [log_spectrogram]\n",
        "    counter=counter+1\n",
        "\n",
        "print(len(df))\n",
        "df.head()"
      ]
    },
    {
      "cell_type": "code",
      "execution_count": 46,
      "metadata": {
        "collapsed": true,
        "id": "NmCCPeCZKahO",
        "jupyter": {
          "outputs_hidden": true
        }
      },
      "outputs": [],
      "source": [
        "# TURN ARRAY INTO LIST AND JOIN WITH AUDIO_DF TO GET CORRESPONDING EMOTION LABELS\n",
        "df_combined = pd.concat([audio_df,pd.DataFrame(df['mel_spectrogram'].values.tolist())],axis=1)\n",
        "df_combined = df_combined.fillna(0)"
      ]
    },
    {
      "cell_type": "code",
      "execution_count": 47,
      "metadata": {
        "collapsed": true,
        "id": "7ar-zb8yKahO",
        "jupyter": {
          "outputs_hidden": true
        }
      },
      "outputs": [],
      "source": [
        "# DROP PATH COLUMN FOR MODELING\n",
        "df_combined.drop(columns='path',inplace=True)"
      ]
    },
    {
      "cell_type": "code",
      "execution_count": null,
      "metadata": {
        "colab": {
          "base_uri": "https://localhost:8080/",
          "height": 256
        },
        "collapsed": true,
        "id": "6dUv7ZPIKahO",
        "jupyter": {
          "outputs_hidden": true
        },
        "outputId": "96749cc6-d0bf-4799-8b61-cf8ff12d9995",
        "scrolled": true
      },
      "outputs": [],
      "source": [
        "# CHECK TOP 5 ROWS\n",
        "df_combined.head()"
      ]
    },
    {
      "cell_type": "markdown",
      "metadata": {
        "id": "uZ6uIf18dWv8"
      },
      "source": [
        "[top](#d0)"
      ]
    },
    {
      "cell_type": "markdown",
      "metadata": {
        "id": "ObOofcv8KahP"
      },
      "source": [
        "##### <a id = 'd5'>\n",
        "<font size = 10 color = 'midnightblue'> <b>   Prepping Data for Modeling"
      ]
    },
    {
      "cell_type": "code",
      "execution_count": 49,
      "metadata": {
        "collapsed": true,
        "id": "lFZkauciKahP",
        "jupyter": {
          "outputs_hidden": true
        }
      },
      "outputs": [],
      "source": [
        "# TRAIN TEST SPLIT DATA\n",
        "train,test = train_test_split(df_combined, test_size=0.2, random_state=0,\n",
        "                               stratify=df_combined[['emotion','gender','actor']])"
      ]
    },
    {
      "cell_type": "code",
      "execution_count": null,
      "metadata": {
        "colab": {
          "base_uri": "https://localhost:8080/"
        },
        "collapsed": true,
        "id": "1Ugwx26xKahP",
        "jupyter": {
          "outputs_hidden": true
        },
        "outputId": "af31a52f-26c6-4e1a-85c6-02c21d8c64a4"
      },
      "outputs": [],
      "source": [
        "X_train = train.iloc[:, 3:]\n",
        "y_train = train.iloc[:,:2].drop(columns=['gender'])\n",
        "print(X_train.shape)"
      ]
    },
    {
      "cell_type": "code",
      "execution_count": null,
      "metadata": {
        "colab": {
          "base_uri": "https://localhost:8080/"
        },
        "collapsed": true,
        "id": "EmoetIIkKahP",
        "jupyter": {
          "outputs_hidden": true
        },
        "outputId": "65942c3c-210e-410b-ba71-04820ab29b99",
        "scrolled": true
      },
      "outputs": [],
      "source": [
        "X_test = test.iloc[:,3:]\n",
        "y_test = test.iloc[:,:2].drop(columns=['gender'])\n",
        "print(X_test.shape)"
      ]
    },
    {
      "cell_type": "markdown",
      "metadata": {
        "id": "oMEK4K9kKahQ"
      },
      "source": [
        "<font size = 5 color = pwdrblue><b>  Data standardization"
      ]
    },
    {
      "cell_type": "code",
      "execution_count": 52,
      "metadata": {
        "collapsed": true,
        "id": "KPkTq6Y-KahQ",
        "jupyter": {
          "outputs_hidden": true
        }
      },
      "outputs": [],
      "source": [
        "# NORMALIZE DATA\n",
        "mean = np.mean(X_train, axis=0)\n",
        "std = np.std(X_train, axis=0)\n",
        "X_train = (X_train - mean)/std\n",
        "X_test = (X_test - mean)/std"
      ]
    },
    {
      "cell_type": "code",
      "execution_count": 53,
      "metadata": {
        "collapsed": true,
        "id": "cySvbli_KahQ",
        "jupyter": {
          "outputs_hidden": true
        }
      },
      "outputs": [],
      "source": [
        "# TURN DATA INTO ARRAYS FOR KERAS\n",
        "X_train = np.array(X_train)\n",
        "y_train = np.array(y_train)\n",
        "X_test = np.array(X_test)\n",
        "y_test = np.array(y_test)"
      ]
    },
    {
      "cell_type": "code",
      "execution_count": null,
      "metadata": {
        "colab": {
          "base_uri": "https://localhost:8080/"
        },
        "collapsed": true,
        "id": "SITvA0ChKahQ",
        "jupyter": {
          "outputs_hidden": true
        },
        "outputId": "53654460-fc76-4b58-8f03-aecc3361b1b6"
      },
      "outputs": [],
      "source": [
        "# ONE HOT ENCODE THE TARGET\n",
        "# CNN REQUIRES INPUT AND OUTPUT ARE NUMBERS\n",
        "lb = LabelEncoder()\n",
        "y_train = to_categorical(lb.fit_transform(y_train))\n",
        "y_test = to_categorical(lb.fit_transform(y_test))\n",
        "\n",
        "print(y_test[0:10])"
      ]
    },
    {
      "cell_type": "code",
      "execution_count": null,
      "metadata": {
        "colab": {
          "base_uri": "https://localhost:8080/"
        },
        "collapsed": true,
        "id": "zzV-VhqsKahR",
        "jupyter": {
          "outputs_hidden": true
        },
        "outputId": "29033f5c-82b8-4b17-d754-94cd128f7a52",
        "scrolled": true
      },
      "outputs": [],
      "source": [
        "print(lb.classes_)"
      ]
    },
    {
      "cell_type": "code",
      "execution_count": null,
      "metadata": {
        "colab": {
          "base_uri": "https://localhost:8080/"
        },
        "collapsed": true,
        "id": "w9jLIxsvKahR",
        "jupyter": {
          "outputs_hidden": true
        },
        "outputId": "6ee8456f-61fa-42d9-c4e5-239dc8f990dd"
      },
      "outputs": [],
      "source": [
        "# RESHAPE DATA TO INCLUDE 3D TENSOR\n",
        "X_train = X_train[:,:,np.newaxis]\n",
        "X_test = X_test[:,:,np.newaxis]\n",
        "\n",
        "X_train.shape"
      ]
    },
    {
      "cell_type": "markdown",
      "metadata": {
        "id": "s7f3tXnpdWv9"
      },
      "source": [
        "##### <a id = 'd6'>\n",
        "<font size = 10 color = 'midnightblue'> <b>  Model development"
      ]
    },
    {
      "cell_type": "markdown",
      "metadata": {
        "id": "J97TyYgTKahR"
      },
      "source": [
        "<font size = 5 color = pwdrblue><b>   Base Model"
      ]
    },
    {
      "cell_type": "code",
      "execution_count": null,
      "metadata": {
        "colab": {
          "base_uri": "https://localhost:8080/"
        },
        "collapsed": true,
        "id": "-HoaUVGUKahR",
        "jupyter": {
          "outputs_hidden": true
        },
        "outputId": "d410fe7e-9a35-4ac3-b4c7-aac9b4757abe",
        "scrolled": true
      },
      "outputs": [],
      "source": [
        "X_train.shape"
      ]
    },
    {
      "cell_type": "code",
      "execution_count": null,
      "metadata": {
        "colab": {
          "base_uri": "https://localhost:8080/"
        },
        "collapsed": true,
        "id": "lzUq3a9AKahR",
        "jupyter": {
          "outputs_hidden": true
        },
        "outputId": "8a083423-8fc1-4452-df17-ef7249bbbd29"
      },
      "outputs": [],
      "source": [
        "X_test.shape"
      ]
    },
    {
      "cell_type": "code",
      "execution_count": null,
      "metadata": {
        "colab": {
          "base_uri": "https://localhost:8080/"
        },
        "collapsed": true,
        "id": "ZFimk9cQdWv9",
        "jupyter": {
          "outputs_hidden": true
        },
        "outputId": "ba02d550-fbfd-46da-9e37-ffc3b1a54e40"
      },
      "outputs": [],
      "source": [
        "y_train.shape, y_test.shape"
      ]
    },
    {
      "cell_type": "code",
      "execution_count": null,
      "metadata": {
        "colab": {
          "base_uri": "https://localhost:8080/"
        },
        "collapsed": true,
        "id": "DqSjqw5dKahS",
        "jupyter": {
          "outputs_hidden": true
        },
        "outputId": "20c861e0-0460-4a7f-cc21-22de89aa38dc"
      },
      "outputs": [],
      "source": [
        "import numpy as np\n",
        "from sklearn.dummy import DummyClassifier\n",
        "\n",
        "dummy_clf = DummyClassifier(strategy=\"stratified\")\n",
        "dummy_clf.fit(X_train, y_train)\n",
        "DummyClassifier(strategy='stratified')\n",
        "dummy_clf.predict(X_test)\n",
        "dummy_clf.score(X_test, y_test)\n"
      ]
    },
    {
      "cell_type": "markdown",
      "metadata": {
        "id": "qJ7gJsXdKahS"
      },
      "source": [
        "<font size = 5 color = pwdrblue><b>  Initial Model"
      ]
    },
    {
      "cell_type": "code",
      "execution_count": null,
      "metadata": {
        "colab": {
          "base_uri": "https://localhost:8080/",
          "height": 565
        },
        "collapsed": true,
        "id": "2Sh9Gd3sKahS",
        "jupyter": {
          "outputs_hidden": true
        },
        "outputId": "ad196cec-86a9-416b-a9f8-3b7e87907f61"
      },
      "outputs": [],
      "source": [
        "import tensorflow as tf\n",
        "from tensorflow import keras\n",
        "from tensorflow.keras import layers\n",
        "from tensorflow.keras.models import Sequential, load_model\n",
        "\n",
        "#BUILD 1D CNN LAYERS\n",
        "model = tf.keras.Sequential()\n",
        "model.add(layers.Conv1D(64, kernel_size=(10), activation='relu', input_shape=(X_train.shape[1],1)))\n",
        "model.add(layers.Conv1D(128, kernel_size=(10),activation='relu',kernel_regularizer=l2(0.01), bias_regularizer=l2(0.01)))\n",
        "model.add(layers.MaxPooling1D(pool_size=(8)))\n",
        "model.add(layers.Dropout(0.4))\n",
        "model.add(layers.Conv1D(128, kernel_size=(10),activation='relu'))\n",
        "model.add(layers.MaxPooling1D(pool_size=(8)))\n",
        "model.add(layers.Dropout(0.4))\n",
        "model.add(layers.Flatten())\n",
        "model.add(layers.Dense(256, activation='relu'))\n",
        "model.add(layers.Dropout(0.4))\n",
        "model.add(layers.Dense(8, activation='sigmoid'))\n",
        "opt = keras.optimizers.Adam(learning_rate=0.001)\n",
        "model.compile(loss='categorical_crossentropy', optimizer=opt,metrics=['accuracy'])\n",
        "model.summary()"
      ]
    },
    {
      "cell_type": "code",
      "execution_count": null,
      "metadata": {
        "colab": {
          "base_uri": "https://localhost:8080/"
        },
        "collapsed": true,
        "id": "Gv9_9qQDKahT",
        "jupyter": {
          "outputs_hidden": true
        },
        "outputId": "ea73f57c-feac-4b68-b6db-cab2ae738b31",
        "scrolled": true
      },
      "outputs": [],
      "source": [
        "import tensorflow.keras as keras\n",
        "\n",
        "# FIT MODEL AND USE CHECKPOINT TO SAVE BEST MODEL\n",
        "checkpoint = ModelCheckpoint(\"best_initial_model.weights.h5\", monitor='val_accuracy', verbose=1,\n",
        "    save_best_only=True, mode='max', save_freq=1, save_weights_only=True)\n",
        "\n",
        "model_history=model.fit(X_train, y_train,batch_size=32, epochs=40, validation_data=(X_test, y_test),callbacks=[checkpoint])"
      ]
    },
    {
      "cell_type": "code",
      "execution_count": null,
      "metadata": {
        "colab": {
          "base_uri": "https://localhost:8080/",
          "height": 927
        },
        "collapsed": true,
        "id": "cX1ueNBiKahT",
        "jupyter": {
          "outputs_hidden": true
        },
        "outputId": "6589208d-1f2e-4459-bd46-bedf135d57ef",
        "scrolled": true
      },
      "outputs": [],
      "source": [
        "# PLOT MODEL HISTORY OF ACCURACY AND LOSS OVER EPOCHS\n",
        "plt.plot(model_history.history['accuracy'])\n",
        "plt.plot(model_history.history['val_accuracy'])\n",
        "plt.title('Model Accuracy')\n",
        "plt.ylabel('Accuracy')\n",
        "plt.xlabel('Epoch')\n",
        "plt.legend(['Train', 'Test'], loc='upper left')\n",
        "plt.savefig(f'{DATASET_PATH}/Initial_Model_Accuracy.png')\n",
        "plt.show()\n",
        "# summarize history for loss\n",
        "plt.plot(model_history.history['loss'])\n",
        "plt.plot(model_history.history['val_loss'])\n",
        "plt.title('Model Loss')\n",
        "plt.ylabel('Loss')\n",
        "plt.xlabel('Epoch')\n",
        "plt.legend(['train', 'test'], loc='upper left')\n",
        "plt.savefig(f'{DATASET_PATH}/Initial_Model_loss.png')\n",
        "plt.show()"
      ]
    },
    {
      "cell_type": "markdown",
      "metadata": {
        "id": "_llkrC1gdWv9"
      },
      "source": [
        "[top](#do)"
      ]
    },
    {
      "cell_type": "markdown",
      "metadata": {
        "id": "iKWRj9v4KahU"
      },
      "source": [
        "##### <a id = 'd7'>\n",
        "<font size = 10 color = 'midnightblue'> <b>   Post-Model Analysis"
      ]
    },
    {
      "cell_type": "code",
      "execution_count": null,
      "metadata": {
        "colab": {
          "base_uri": "https://localhost:8080/"
        },
        "collapsed": true,
        "id": "aqOGir8uKahU",
        "jupyter": {
          "outputs_hidden": true
        },
        "outputId": "2c429abf-0b28-4615-a504-e56d2929997a",
        "scrolled": true,
        "tags": []
      },
      "outputs": [],
      "source": [
        "# PRINT LOSS AND ACCURACY PERCENTAGE ON TEST SET\n",
        "print(\"Loss of the model is - \" , model.evaluate(X_test,y_test)[0])\n",
        "print(\"Accuracy of the model is - \" , model.evaluate(X_test,y_test)[1]*100 , \"%\")"
      ]
    },
    {
      "cell_type": "code",
      "execution_count": null,
      "metadata": {
        "colab": {
          "base_uri": "https://localhost:8080/",
          "height": 380
        },
        "collapsed": true,
        "id": "v4wYABP-KahU",
        "jupyter": {
          "outputs_hidden": true
        },
        "outputId": "9074f2fb-34f2-4ba0-a504-71d24b27e5a8"
      },
      "outputs": [],
      "source": [
        "# PREDICTIONS\n",
        "predictions = model.predict(X_test)\n",
        "predictions=predictions.argmax(axis=1)\n",
        "predictions = predictions.astype(int).flatten()\n",
        "predictions = (lb.inverse_transform((predictions)))\n",
        "predictions = pd.DataFrame({'Predicted Values': predictions})\n",
        "\n",
        "# ACTUAL LABELS\n",
        "actual=y_test.argmax(axis=1)\n",
        "actual = actual.astype(int).flatten()\n",
        "actual = (lb.inverse_transform((actual)))\n",
        "actual = pd.DataFrame({'Actual Values': actual})\n",
        "\n",
        "# COMBINE BOTH\n",
        "finaldf = actual.join(predictions)\n",
        "finaldf[140:150]"
      ]
    },
    {
      "cell_type": "code",
      "execution_count": null,
      "metadata": {
        "colab": {
          "base_uri": "https://localhost:8080/",
          "height": 885
        },
        "collapsed": true,
        "id": "kwte2Hm9KahU",
        "jupyter": {
          "outputs_hidden": true
        },
        "outputId": "e4b2c52e-9975-485e-f2cd-6017752c1d31",
        "scrolled": true
      },
      "outputs": [],
      "source": [
        "# CREATE CONFUSION MATRIX OF ACTUAL VS. PREDICTION\n",
        "cm = confusion_matrix(actual, predictions)\n",
        "plt.figure(figsize = (12, 10))\n",
        "cm = pd.DataFrame(cm , index = [i for i in lb.classes_] , columns = [i for i in lb.classes_])\n",
        "ax = sns.heatmap(cm, linecolor='white', cmap='Blues', linewidth=1, annot=True, fmt='')\n",
        "bottom, top = ax.get_ylim()\n",
        "ax.set_ylim(bottom + 0.5, top - 0.5)\n",
        "plt.title('Confusion Matrix', size=20)\n",
        "plt.xlabel('Predicted Labels', size=14)\n",
        "plt.ylabel('Actual Labels', size=14)\n",
        "plt.savefig(f'{DATASET_PATH}/Initial_Model_Confusion_Matrix.png')\n",
        "plt.show()"
      ]
    },
    {
      "cell_type": "code",
      "execution_count": null,
      "metadata": {
        "colab": {
          "base_uri": "https://localhost:8080/"
        },
        "collapsed": true,
        "id": "wD2ZXoarKahV",
        "jupyter": {
          "outputs_hidden": true
        },
        "outputId": "ea6cdf58-3fc6-4ed1-a864-ebd325277bf9"
      },
      "outputs": [],
      "source": [
        "print(classification_report(actual, predictions, target_names = ['angry','calm','disgust','fear','happy','neutral','sad','surprise']))"
      ]
    }
  ],
  "metadata": {
    "accelerator": "GPU",
    "colab": {
      "gpuType": "T4",
      "provenance": []
    },
    "kernelspec": {
      "display_name": "nlp-play",
      "language": "python",
      "name": "python3"
    },
    "language_info": {
      "codemirror_mode": {
        "name": "ipython",
        "version": 3
      },
      "file_extension": ".py",
      "mimetype": "text/x-python",
      "name": "python",
      "nbconvert_exporter": "python",
      "pygments_lexer": "ipython3",
      "version": "3.12.7"
    }
  },
  "nbformat": 4,
  "nbformat_minor": 0
}
