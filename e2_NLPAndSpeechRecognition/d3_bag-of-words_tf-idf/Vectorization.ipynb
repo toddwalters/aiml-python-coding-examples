{
  "cells": [
    {
      "cell_type": "code",
      "execution_count": 1,
      "metadata": {
        "id": "xpCZ1r1yD4zi"
      },
      "outputs": [],
      "source": [
        "# https://scikit-learn.org/1.5/modules/generated/sklearn.feature_extraction.text.CountVectorizer.html\n",
        "from sklearn.feature_extraction.text import CountVectorizer"
      ]
    },
    {
      "cell_type": "code",
      "execution_count": 29,
      "metadata": {
        "id": "cfIVShM-EWpT"
      },
      "outputs": [],
      "source": [
        "# cv = CountVectorizer()\n",
        "# cv = CountVectorizer(stop_words='english')\n",
        "cv = CountVectorizer(stop_words='english', max_features=5)\n",
        "cv = CountVectorizer(stop_words='english', ngram_range=(1, 2))"
      ]
    },
    {
      "cell_type": "code",
      "execution_count": 30,
      "metadata": {
        "id": "IOP031FcF9dY"
      },
      "outputs": [],
      "source": [
        "data = [\n",
        "    'I love programming in Python Python.',\n",
        "    'Python is a great programming language.',\n",
        "    'I love coding and learning new programming languages.'\n",
        "]"
      ]
    },
    {
      "cell_type": "code",
      "execution_count": 31,
      "metadata": {
        "id": "1pTMHPh9GKmP"
      },
      "outputs": [
        {
          "name": "stdout",
          "output_type": "stream",
          "text": [
            "                                                Text\n",
            "0               I love programming in Python Python.\n",
            "1            Python is a great programming language.\n",
            "2  I love coding and learning new programming lan...\n"
          ]
        }
      ],
      "source": [
        "import pandas as pd\n",
        "data1 = pd.DataFrame(data, columns=[\"Text\"])\n",
        "print(data1)"
      ]
    },
    {
      "cell_type": "code",
      "execution_count": 32,
      "metadata": {},
      "outputs": [
        {
          "data": {
            "text/plain": [
              "<Compressed Sparse Row sparse matrix of dtype 'int64'\n",
              "\twith 1 stored elements and shape (1, 1)>"
            ]
          },
          "execution_count": 32,
          "metadata": {},
          "output_type": "execute_result"
        }
      ],
      "source": [
        "cv.fit_transform(data1)"
      ]
    },
    {
      "cell_type": "code",
      "execution_count": 33,
      "metadata": {
        "id": "tf0iEGaqGQEV"
      },
      "outputs": [],
      "source": [
        "x = cv.fit_transform(data1[\"Text\"])"
      ]
    },
    {
      "cell_type": "code",
      "execution_count": 34,
      "metadata": {},
      "outputs": [
        {
          "data": {
            "text/plain": [
              "array([[0, 0, 0, 0, 0, 0, 0, 0, 1, 0, 1, 0, 0, 1, 0, 0, 1, 2, 0, 1],\n",
              "       [0, 0, 1, 1, 1, 0, 0, 0, 0, 0, 0, 0, 0, 1, 1, 0, 0, 1, 1, 0],\n",
              "       [1, 1, 0, 0, 0, 1, 1, 1, 1, 1, 0, 1, 1, 1, 0, 1, 0, 0, 0, 0]])"
            ]
          },
          "execution_count": 34,
          "metadata": {},
          "output_type": "execute_result"
        }
      ],
      "source": [
        "x.toarray()"
      ]
    },
    {
      "cell_type": "code",
      "execution_count": 36,
      "metadata": {
        "id": "OByl9wUuGfwa"
      },
      "outputs": [],
      "source": [
        "x1 = x.toarray()"
      ]
    },
    {
      "cell_type": "code",
      "execution_count": 37,
      "metadata": {},
      "outputs": [
        {
          "data": {
            "text/plain": [
              "array(['coding', 'coding learning', 'great', 'great programming',\n",
              "       'language', 'languages', 'learning', 'learning new', 'love',\n",
              "       'love coding', 'love programming', 'new', 'new programming',\n",
              "       'programming', 'programming language', 'programming languages',\n",
              "       'programming python', 'python', 'python great', 'python python'],\n",
              "      dtype=object)"
            ]
          },
          "execution_count": 37,
          "metadata": {},
          "output_type": "execute_result"
        }
      ],
      "source": [
        "cv.get_feature_names_out()"
      ]
    },
    {
      "cell_type": "code",
      "execution_count": 38,
      "metadata": {},
      "outputs": [
        {
          "data": {
            "text/html": [
              "<div>\n",
              "<style scoped>\n",
              "    .dataframe tbody tr th:only-of-type {\n",
              "        vertical-align: middle;\n",
              "    }\n",
              "\n",
              "    .dataframe tbody tr th {\n",
              "        vertical-align: top;\n",
              "    }\n",
              "\n",
              "    .dataframe thead th {\n",
              "        text-align: right;\n",
              "    }\n",
              "</style>\n",
              "<table border=\"1\" class=\"dataframe\">\n",
              "  <thead>\n",
              "    <tr style=\"text-align: right;\">\n",
              "      <th></th>\n",
              "      <th>0</th>\n",
              "      <th>1</th>\n",
              "      <th>2</th>\n",
              "      <th>3</th>\n",
              "      <th>4</th>\n",
              "      <th>5</th>\n",
              "      <th>6</th>\n",
              "      <th>7</th>\n",
              "      <th>8</th>\n",
              "      <th>9</th>\n",
              "      <th>10</th>\n",
              "      <th>11</th>\n",
              "      <th>12</th>\n",
              "      <th>13</th>\n",
              "      <th>14</th>\n",
              "      <th>15</th>\n",
              "      <th>16</th>\n",
              "      <th>17</th>\n",
              "      <th>18</th>\n",
              "      <th>19</th>\n",
              "    </tr>\n",
              "  </thead>\n",
              "  <tbody>\n",
              "    <tr>\n",
              "      <th>0</th>\n",
              "      <td>0</td>\n",
              "      <td>0</td>\n",
              "      <td>0</td>\n",
              "      <td>0</td>\n",
              "      <td>0</td>\n",
              "      <td>0</td>\n",
              "      <td>0</td>\n",
              "      <td>0</td>\n",
              "      <td>1</td>\n",
              "      <td>0</td>\n",
              "      <td>1</td>\n",
              "      <td>0</td>\n",
              "      <td>0</td>\n",
              "      <td>1</td>\n",
              "      <td>0</td>\n",
              "      <td>0</td>\n",
              "      <td>1</td>\n",
              "      <td>2</td>\n",
              "      <td>0</td>\n",
              "      <td>1</td>\n",
              "    </tr>\n",
              "    <tr>\n",
              "      <th>1</th>\n",
              "      <td>0</td>\n",
              "      <td>0</td>\n",
              "      <td>1</td>\n",
              "      <td>1</td>\n",
              "      <td>1</td>\n",
              "      <td>0</td>\n",
              "      <td>0</td>\n",
              "      <td>0</td>\n",
              "      <td>0</td>\n",
              "      <td>0</td>\n",
              "      <td>0</td>\n",
              "      <td>0</td>\n",
              "      <td>0</td>\n",
              "      <td>1</td>\n",
              "      <td>1</td>\n",
              "      <td>0</td>\n",
              "      <td>0</td>\n",
              "      <td>1</td>\n",
              "      <td>1</td>\n",
              "      <td>0</td>\n",
              "    </tr>\n",
              "    <tr>\n",
              "      <th>2</th>\n",
              "      <td>1</td>\n",
              "      <td>1</td>\n",
              "      <td>0</td>\n",
              "      <td>0</td>\n",
              "      <td>0</td>\n",
              "      <td>1</td>\n",
              "      <td>1</td>\n",
              "      <td>1</td>\n",
              "      <td>1</td>\n",
              "      <td>1</td>\n",
              "      <td>0</td>\n",
              "      <td>1</td>\n",
              "      <td>1</td>\n",
              "      <td>1</td>\n",
              "      <td>0</td>\n",
              "      <td>1</td>\n",
              "      <td>0</td>\n",
              "      <td>0</td>\n",
              "      <td>0</td>\n",
              "      <td>0</td>\n",
              "    </tr>\n",
              "  </tbody>\n",
              "</table>\n",
              "</div>"
            ],
            "text/plain": [
              "   0   1   2   3   4   5   6   7   8   9   10  11  12  13  14  15  16  17  18  \\\n",
              "0   0   0   0   0   0   0   0   0   1   0   1   0   0   1   0   0   1   2   0   \n",
              "1   0   0   1   1   1   0   0   0   0   0   0   0   0   1   1   0   0   1   1   \n",
              "2   1   1   0   0   0   1   1   1   1   1   0   1   1   1   0   1   0   0   0   \n",
              "\n",
              "   19  \n",
              "0   1  \n",
              "1   0  \n",
              "2   0  "
            ]
          },
          "execution_count": 38,
          "metadata": {},
          "output_type": "execute_result"
        }
      ],
      "source": [
        "pd.DataFrame(x1)"
      ]
    },
    {
      "cell_type": "code",
      "execution_count": 39,
      "metadata": {
        "colab": {
          "base_uri": "https://localhost:8080/"
        },
        "id": "P-c1PQppG7sn",
        "outputId": "97dd445d-ea39-4d06-fb82-5d366e9fd461"
      },
      "outputs": [
        {
          "data": {
            "text/plain": [
              "20"
            ]
          },
          "execution_count": 39,
          "metadata": {},
          "output_type": "execute_result"
        }
      ],
      "source": [
        "len(cv.get_feature_names_out())"
      ]
    },
    {
      "cell_type": "code",
      "execution_count": 40,
      "metadata": {
        "id": "rD9qSt8yHJDv"
      },
      "outputs": [],
      "source": [
        "data2 = pd.DataFrame(x1, columns=cv.get_feature_names_out())"
      ]
    },
    {
      "cell_type": "code",
      "execution_count": 41,
      "metadata": {
        "colab": {
          "base_uri": "https://localhost:8080/",
          "height": 401
        },
        "id": "OCbxekImHSfJ",
        "outputId": "bf4d5d5a-a820-487e-a5eb-48b58dfe1461"
      },
      "outputs": [
        {
          "data": {
            "text/html": [
              "<div>\n",
              "<style scoped>\n",
              "    .dataframe tbody tr th:only-of-type {\n",
              "        vertical-align: middle;\n",
              "    }\n",
              "\n",
              "    .dataframe tbody tr th {\n",
              "        vertical-align: top;\n",
              "    }\n",
              "\n",
              "    .dataframe thead th {\n",
              "        text-align: right;\n",
              "    }\n",
              "</style>\n",
              "<table border=\"1\" class=\"dataframe\">\n",
              "  <thead>\n",
              "    <tr style=\"text-align: right;\">\n",
              "      <th></th>\n",
              "      <th>coding</th>\n",
              "      <th>coding learning</th>\n",
              "      <th>great</th>\n",
              "      <th>great programming</th>\n",
              "      <th>language</th>\n",
              "      <th>languages</th>\n",
              "      <th>learning</th>\n",
              "      <th>learning new</th>\n",
              "      <th>love</th>\n",
              "      <th>love coding</th>\n",
              "      <th>...</th>\n",
              "      <th>new</th>\n",
              "      <th>new programming</th>\n",
              "      <th>programming</th>\n",
              "      <th>programming language</th>\n",
              "      <th>programming languages</th>\n",
              "      <th>programming python</th>\n",
              "      <th>python</th>\n",
              "      <th>python great</th>\n",
              "      <th>python python</th>\n",
              "      <th>Text</th>\n",
              "    </tr>\n",
              "  </thead>\n",
              "  <tbody>\n",
              "    <tr>\n",
              "      <th>0</th>\n",
              "      <td>0</td>\n",
              "      <td>0</td>\n",
              "      <td>0</td>\n",
              "      <td>0</td>\n",
              "      <td>0</td>\n",
              "      <td>0</td>\n",
              "      <td>0</td>\n",
              "      <td>0</td>\n",
              "      <td>1</td>\n",
              "      <td>0</td>\n",
              "      <td>...</td>\n",
              "      <td>0</td>\n",
              "      <td>0</td>\n",
              "      <td>1</td>\n",
              "      <td>0</td>\n",
              "      <td>0</td>\n",
              "      <td>1</td>\n",
              "      <td>2</td>\n",
              "      <td>0</td>\n",
              "      <td>1</td>\n",
              "      <td>I love programming in Python Python.</td>\n",
              "    </tr>\n",
              "    <tr>\n",
              "      <th>1</th>\n",
              "      <td>0</td>\n",
              "      <td>0</td>\n",
              "      <td>1</td>\n",
              "      <td>1</td>\n",
              "      <td>1</td>\n",
              "      <td>0</td>\n",
              "      <td>0</td>\n",
              "      <td>0</td>\n",
              "      <td>0</td>\n",
              "      <td>0</td>\n",
              "      <td>...</td>\n",
              "      <td>0</td>\n",
              "      <td>0</td>\n",
              "      <td>1</td>\n",
              "      <td>1</td>\n",
              "      <td>0</td>\n",
              "      <td>0</td>\n",
              "      <td>1</td>\n",
              "      <td>1</td>\n",
              "      <td>0</td>\n",
              "      <td>Python is a great programming language.</td>\n",
              "    </tr>\n",
              "    <tr>\n",
              "      <th>2</th>\n",
              "      <td>1</td>\n",
              "      <td>1</td>\n",
              "      <td>0</td>\n",
              "      <td>0</td>\n",
              "      <td>0</td>\n",
              "      <td>1</td>\n",
              "      <td>1</td>\n",
              "      <td>1</td>\n",
              "      <td>1</td>\n",
              "      <td>1</td>\n",
              "      <td>...</td>\n",
              "      <td>1</td>\n",
              "      <td>1</td>\n",
              "      <td>1</td>\n",
              "      <td>0</td>\n",
              "      <td>1</td>\n",
              "      <td>0</td>\n",
              "      <td>0</td>\n",
              "      <td>0</td>\n",
              "      <td>0</td>\n",
              "      <td>I love coding and learning new programming lan...</td>\n",
              "    </tr>\n",
              "  </tbody>\n",
              "</table>\n",
              "<p>3 rows × 21 columns</p>\n",
              "</div>"
            ],
            "text/plain": [
              "   coding  coding learning  great  great programming  language  languages  \\\n",
              "0       0                0      0                  0         0          0   \n",
              "1       0                0      1                  1         1          0   \n",
              "2       1                1      0                  0         0          1   \n",
              "\n",
              "   learning  learning new  love  love coding  ...  new  new programming  \\\n",
              "0         0             0     1            0  ...    0                0   \n",
              "1         0             0     0            0  ...    0                0   \n",
              "2         1             1     1            1  ...    1                1   \n",
              "\n",
              "   programming  programming language  programming languages  \\\n",
              "0            1                     0                      0   \n",
              "1            1                     1                      0   \n",
              "2            1                     0                      1   \n",
              "\n",
              "   programming python  python  python great  python python  \\\n",
              "0                   1       2             0              1   \n",
              "1                   0       1             1              0   \n",
              "2                   0       0             0              0   \n",
              "\n",
              "                                                Text  \n",
              "0               I love programming in Python Python.  \n",
              "1            Python is a great programming language.  \n",
              "2  I love coding and learning new programming lan...  \n",
              "\n",
              "[3 rows x 21 columns]"
            ]
          },
          "execution_count": 41,
          "metadata": {},
          "output_type": "execute_result"
        }
      ],
      "source": [
        "data2[\"Text\"]=data1[\"Text\"]\n",
        "data2"
      ]
    },
    {
      "cell_type": "code",
      "execution_count": null,
      "metadata": {
        "colab": {
          "base_uri": "https://localhost:8080/"
        },
        "id": "83eVBFqFGtFI",
        "outputId": "5af79995-c59d-4531-9ac8-c0b7f36b64cf"
      },
      "outputs": [],
      "source": [
        "dir(cv)"
      ]
    },
    {
      "cell_type": "markdown",
      "metadata": {
        "id": "XFnxAboPNVxP"
      },
      "source": [
        "**TF IDF**"
      ]
    },
    {
      "cell_type": "code",
      "execution_count": 42,
      "metadata": {
        "id": "NVZ6HEU3GzxS"
      },
      "outputs": [],
      "source": [
        "# https://scikit-learn.org/1.5/modules/generated/sklearn.feature_extraction.text.TfidfVectorizer.html\n",
        "from sklearn.feature_extraction.text import TfidfVectorizer"
      ]
    },
    {
      "cell_type": "code",
      "execution_count": 43,
      "metadata": {
        "id": "LCVvF1k4Nc2G"
      },
      "outputs": [],
      "source": [
        "tf = TfidfVectorizer()"
      ]
    },
    {
      "cell_type": "code",
      "execution_count": 44,
      "metadata": {
        "id": "-NYtsjEdNg25"
      },
      "outputs": [],
      "source": [
        "x2 = tf.fit_transform(data1[\"Text\"])"
      ]
    },
    {
      "cell_type": "code",
      "execution_count": 45,
      "metadata": {
        "colab": {
          "base_uri": "https://localhost:8080/",
          "height": 163
        },
        "id": "EXukLSNANlwC",
        "outputId": "820c3ebf-d166-4e9f-eda4-061e3a47e438"
      },
      "outputs": [
        {
          "data": {
            "text/html": [
              "<div>\n",
              "<style scoped>\n",
              "    .dataframe tbody tr th:only-of-type {\n",
              "        vertical-align: middle;\n",
              "    }\n",
              "\n",
              "    .dataframe tbody tr th {\n",
              "        vertical-align: top;\n",
              "    }\n",
              "\n",
              "    .dataframe thead th {\n",
              "        text-align: right;\n",
              "    }\n",
              "</style>\n",
              "<table border=\"1\" class=\"dataframe\">\n",
              "  <thead>\n",
              "    <tr style=\"text-align: right;\">\n",
              "      <th></th>\n",
              "      <th>and</th>\n",
              "      <th>coding</th>\n",
              "      <th>great</th>\n",
              "      <th>in</th>\n",
              "      <th>is</th>\n",
              "      <th>language</th>\n",
              "      <th>languages</th>\n",
              "      <th>learning</th>\n",
              "      <th>love</th>\n",
              "      <th>new</th>\n",
              "      <th>programming</th>\n",
              "      <th>python</th>\n",
              "    </tr>\n",
              "  </thead>\n",
              "  <tbody>\n",
              "    <tr>\n",
              "      <th>0</th>\n",
              "      <td>0.000000</td>\n",
              "      <td>0.000000</td>\n",
              "      <td>0.000000</td>\n",
              "      <td>0.485596</td>\n",
              "      <td>0.000000</td>\n",
              "      <td>0.000000</td>\n",
              "      <td>0.000000</td>\n",
              "      <td>0.000000</td>\n",
              "      <td>0.369308</td>\n",
              "      <td>0.000000</td>\n",
              "      <td>0.286801</td>\n",
              "      <td>0.738616</td>\n",
              "    </tr>\n",
              "    <tr>\n",
              "      <th>1</th>\n",
              "      <td>0.000000</td>\n",
              "      <td>0.000000</td>\n",
              "      <td>0.504611</td>\n",
              "      <td>0.000000</td>\n",
              "      <td>0.504611</td>\n",
              "      <td>0.504611</td>\n",
              "      <td>0.000000</td>\n",
              "      <td>0.000000</td>\n",
              "      <td>0.000000</td>\n",
              "      <td>0.000000</td>\n",
              "      <td>0.298032</td>\n",
              "      <td>0.383770</td>\n",
              "    </tr>\n",
              "    <tr>\n",
              "      <th>2</th>\n",
              "      <td>0.410747</td>\n",
              "      <td>0.410747</td>\n",
              "      <td>0.000000</td>\n",
              "      <td>0.000000</td>\n",
              "      <td>0.000000</td>\n",
              "      <td>0.000000</td>\n",
              "      <td>0.410747</td>\n",
              "      <td>0.410747</td>\n",
              "      <td>0.312384</td>\n",
              "      <td>0.410747</td>\n",
              "      <td>0.242594</td>\n",
              "      <td>0.000000</td>\n",
              "    </tr>\n",
              "  </tbody>\n",
              "</table>\n",
              "</div>"
            ],
            "text/plain": [
              "        and    coding     great        in        is  language  languages  \\\n",
              "0  0.000000  0.000000  0.000000  0.485596  0.000000  0.000000   0.000000   \n",
              "1  0.000000  0.000000  0.504611  0.000000  0.504611  0.504611   0.000000   \n",
              "2  0.410747  0.410747  0.000000  0.000000  0.000000  0.000000   0.410747   \n",
              "\n",
              "   learning      love       new  programming    python  \n",
              "0  0.000000  0.369308  0.000000     0.286801  0.738616  \n",
              "1  0.000000  0.000000  0.000000     0.298032  0.383770  \n",
              "2  0.410747  0.312384  0.410747     0.242594  0.000000  "
            ]
          },
          "execution_count": 45,
          "metadata": {},
          "output_type": "execute_result"
        }
      ],
      "source": [
        "pd.DataFrame(x2.toarray(), columns=tf.get_feature_names_out())"
      ]
    },
    {
      "cell_type": "code",
      "execution_count": 77,
      "metadata": {
        "id": "5HhJlcySNmL9"
      },
      "outputs": [],
      "source": [
        "# x-mean/std\n",
        "\n",
        "# fit(x,y)=learn\n",
        "# transform=apply\n",
        "\n",
        "# fit_transform = train\n",
        "# transform = test"
      ]
    },
    {
      "cell_type": "markdown",
      "metadata": {
        "id": "fsg2pPQjcsaG"
      },
      "source": [
        "**Word2VEC**"
      ]
    },
    {
      "cell_type": "code",
      "execution_count": 49,
      "metadata": {},
      "outputs": [
        {
          "name": "stdout",
          "output_type": "stream",
          "text": [
            "Collecting gensim\n",
            "  Downloading gensim-4.3.3-cp312-cp312-macosx_11_0_arm64.whl.metadata (8.1 kB)\n",
            "Requirement already satisfied: numpy<2.0,>=1.18.5 in /opt/homebrew/anaconda3/envs/capstone/lib/python3.12/site-packages (from gensim) (1.26.4)\n",
            "Collecting scipy<1.14.0,>=1.7.0 (from gensim)\n",
            "  Downloading scipy-1.13.1-cp312-cp312-macosx_12_0_arm64.whl.metadata (60 kB)\n",
            "Collecting smart-open>=1.8.1 (from gensim)\n",
            "  Using cached smart_open-7.0.5-py3-none-any.whl.metadata (24 kB)\n",
            "Requirement already satisfied: wrapt in /opt/homebrew/anaconda3/envs/capstone/lib/python3.12/site-packages (from smart-open>=1.8.1->gensim) (1.16.0)\n",
            "Downloading gensim-4.3.3-cp312-cp312-macosx_11_0_arm64.whl (24.0 MB)\n",
            "\u001b[2K   \u001b[90m━━━━━━━━━━━━━━━━━━━━━━━━━━━━━━━━━━━━━━━━\u001b[0m \u001b[32m24.0/24.0 MB\u001b[0m \u001b[31m11.7 MB/s\u001b[0m eta \u001b[36m0:00:00\u001b[0ma \u001b[36m0:00:01\u001b[0m\n",
            "\u001b[?25hDownloading scipy-1.13.1-cp312-cp312-macosx_12_0_arm64.whl (30.4 MB)\n",
            "\u001b[2K   \u001b[90m━━━━━━━━━━━━━━━━━━━━━━━━━━━━━━━━━━━━━━━━\u001b[0m \u001b[32m30.4/30.4 MB\u001b[0m \u001b[31m11.7 MB/s\u001b[0m eta \u001b[36m0:00:00\u001b[0ma \u001b[36m0:00:01\u001b[0m\n",
            "\u001b[?25hUsing cached smart_open-7.0.5-py3-none-any.whl (61 kB)\n",
            "Installing collected packages: smart-open, scipy, gensim\n",
            "  Attempting uninstall: scipy\n",
            "    Found existing installation: scipy 1.14.1\n",
            "    Uninstalling scipy-1.14.1:\n",
            "      Successfully uninstalled scipy-1.14.1\n",
            "Successfully installed gensim-4.3.3 scipy-1.13.1 smart-open-7.0.5\n",
            "Note: you may need to restart the kernel to use updated packages.\n"
          ]
        }
      ],
      "source": [
        "%pip install gensim"
      ]
    },
    {
      "cell_type": "code",
      "execution_count": 51,
      "metadata": {
        "id": "Vy3o90HlcrrH"
      },
      "outputs": [],
      "source": [
        "from gensim.models import Word2Vec"
      ]
    },
    {
      "cell_type": "code",
      "execution_count": 52,
      "metadata": {
        "colab": {
          "base_uri": "https://localhost:8080/",
          "height": 178
        },
        "id": "-ErcVSzVc71W",
        "outputId": "5a99fb3a-f7c1-43d9-c82e-35081edce54b"
      },
      "outputs": [
        {
          "data": {
            "text/plain": [
              "0                 I love programming in Python Python.\n",
              "1              Python is a great programming language.\n",
              "2    I love coding and learning new programming lan...\n",
              "Name: Text, dtype: object"
            ]
          },
          "execution_count": 52,
          "metadata": {},
          "output_type": "execute_result"
        }
      ],
      "source": [
        "data1[\"Text\"]"
      ]
    },
    {
      "cell_type": "code",
      "execution_count": 53,
      "metadata": {
        "id": "OmvFSJIjdAek"
      },
      "outputs": [],
      "source": [
        "data1[\"list1\"] = data1[\"Text\"].apply(lambda x: x.split())"
      ]
    },
    {
      "cell_type": "code",
      "execution_count": 55,
      "metadata": {
        "colab": {
          "base_uri": "https://localhost:8080/",
          "height": 143
        },
        "id": "ozbddbKIdJLI",
        "outputId": "2eab7c73-ab94-47a9-e992-b34afd48cb34"
      },
      "outputs": [
        {
          "data": {
            "text/html": [
              "<div>\n",
              "<style scoped>\n",
              "    .dataframe tbody tr th:only-of-type {\n",
              "        vertical-align: middle;\n",
              "    }\n",
              "\n",
              "    .dataframe tbody tr th {\n",
              "        vertical-align: top;\n",
              "    }\n",
              "\n",
              "    .dataframe thead th {\n",
              "        text-align: right;\n",
              "    }\n",
              "</style>\n",
              "<table border=\"1\" class=\"dataframe\">\n",
              "  <thead>\n",
              "    <tr style=\"text-align: right;\">\n",
              "      <th></th>\n",
              "      <th>Text</th>\n",
              "      <th>list1</th>\n",
              "    </tr>\n",
              "  </thead>\n",
              "  <tbody>\n",
              "    <tr>\n",
              "      <th>0</th>\n",
              "      <td>I love programming in Python Python.</td>\n",
              "      <td>[I, love, programming, in, Python, Python.]</td>\n",
              "    </tr>\n",
              "    <tr>\n",
              "      <th>1</th>\n",
              "      <td>Python is a great programming language.</td>\n",
              "      <td>[Python, is, a, great, programming, language.]</td>\n",
              "    </tr>\n",
              "    <tr>\n",
              "      <th>2</th>\n",
              "      <td>I love coding and learning new programming lan...</td>\n",
              "      <td>[I, love, coding, and, learning, new, programm...</td>\n",
              "    </tr>\n",
              "  </tbody>\n",
              "</table>\n",
              "</div>"
            ],
            "text/plain": [
              "                                                Text  \\\n",
              "0               I love programming in Python Python.   \n",
              "1            Python is a great programming language.   \n",
              "2  I love coding and learning new programming lan...   \n",
              "\n",
              "                                               list1  \n",
              "0        [I, love, programming, in, Python, Python.]  \n",
              "1     [Python, is, a, great, programming, language.]  \n",
              "2  [I, love, coding, and, learning, new, programm...  "
            ]
          },
          "execution_count": 55,
          "metadata": {},
          "output_type": "execute_result"
        }
      ],
      "source": [
        "data1"
      ]
    },
    {
      "cell_type": "code",
      "execution_count": 56,
      "metadata": {
        "id": "_aRcXErpdPTe"
      },
      "outputs": [],
      "source": [
        "w1 = Word2Vec(data1[\"list1\"],vector_size=50, window=3, min_count=1, epochs=3)"
      ]
    },
    {
      "cell_type": "code",
      "execution_count": 58,
      "metadata": {
        "colab": {
          "base_uri": "https://localhost:8080/"
        },
        "id": "C8iR-avWdy9o",
        "outputId": "eb407483-aa8d-4725-a853-9aaec253a262"
      },
      "outputs": [
        {
          "data": {
            "text/plain": [
              "array([-0.01631583,  0.0089916 , -0.00827415,  0.00164907,  0.01699724,\n",
              "       -0.00892435,  0.009035  , -0.01357392, -0.00709698,  0.01879702,\n",
              "       -0.00315531,  0.00064274, -0.00828126, -0.01536538, -0.00301602,\n",
              "        0.00493959, -0.00177605,  0.01106732, -0.00548595,  0.00452013,\n",
              "        0.01091159,  0.01669191, -0.00290748, -0.01841629,  0.0087411 ,\n",
              "        0.00114357,  0.01488382, -0.00162657, -0.00527683, -0.01750602,\n",
              "       -0.00171311,  0.00565313,  0.01080286,  0.01410531, -0.01140624,\n",
              "        0.00371764,  0.01217773, -0.0095961 , -0.00621452,  0.01359526,\n",
              "        0.00326295,  0.00037983,  0.00694727,  0.00043555,  0.01923765,\n",
              "        0.01012121, -0.01783478, -0.01408312,  0.00180291,  0.01278507],\n",
              "      dtype=float32)"
            ]
          },
          "execution_count": 58,
          "metadata": {},
          "output_type": "execute_result"
        }
      ],
      "source": [
        "w1.wv['Python']"
      ]
    },
    {
      "cell_type": "code",
      "execution_count": 59,
      "metadata": {
        "colab": {
          "base_uri": "https://localhost:8080/"
        },
        "id": "grx91E1MfF1R",
        "outputId": "f1e50784-2600-4e5c-e281-781231956be3"
      },
      "outputs": [
        {
          "data": {
            "text/plain": [
              "50"
            ]
          },
          "execution_count": 59,
          "metadata": {},
          "output_type": "execute_result"
        }
      ],
      "source": [
        "len(w1.wv['Python'])"
      ]
    },
    {
      "cell_type": "code",
      "execution_count": 60,
      "metadata": {
        "colab": {
          "base_uri": "https://localhost:8080/"
        },
        "id": "qHzOn6sPfMFi",
        "outputId": "c07eb18b-1f73-4493-ecf0-a2faa9122c25"
      },
      "outputs": [
        {
          "data": {
            "text/plain": [
              "[('languages.', 0.12486252188682556),\n",
              " ('is', 0.0806228294968605),\n",
              " ('learning', 0.07401058822870255)]"
            ]
          },
          "execution_count": 60,
          "metadata": {},
          "output_type": "execute_result"
        }
      ],
      "source": [
        "w1.wv.most_similar(\"Python\",topn=3 )"
      ]
    },
    {
      "cell_type": "code",
      "execution_count": 61,
      "metadata": {
        "id": "4IfTGr4Afs-e"
      },
      "outputs": [],
      "source": [
        "w1.save(\"word2vec.h5\")"
      ]
    },
    {
      "cell_type": "code",
      "execution_count": 62,
      "metadata": {
        "colab": {
          "base_uri": "https://localhost:8080/"
        },
        "id": "AAqP3OIihSY0",
        "outputId": "a406daa0-f5c2-4404-d54e-0cbcdac740a8"
      },
      "outputs": [
        {
          "data": {
            "text/plain": [
              "[('programming', 0.08174727857112885)]"
            ]
          },
          "execution_count": 62,
          "metadata": {},
          "output_type": "execute_result"
        }
      ],
      "source": [
        "w1.wv.most_similar(positive=[\"Python\", \"language.\"] , negative=[\"new\"], topn=1)"
      ]
    },
    {
      "cell_type": "code",
      "execution_count": null,
      "metadata": {
        "id": "TBL3lOQshK7_"
      },
      "outputs": [],
      "source": []
    }
  ],
  "metadata": {
    "colab": {
      "provenance": []
    },
    "kernelspec": {
      "display_name": "capstone",
      "language": "python",
      "name": "python3"
    },
    "language_info": {
      "codemirror_mode": {
        "name": "ipython",
        "version": 3
      },
      "file_extension": ".py",
      "mimetype": "text/x-python",
      "name": "python",
      "nbconvert_exporter": "python",
      "pygments_lexer": "ipython3",
      "version": "3.12.6"
    }
  },
  "nbformat": 4,
  "nbformat_minor": 0
}
