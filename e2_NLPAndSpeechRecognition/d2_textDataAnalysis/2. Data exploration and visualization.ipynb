{
 "cells": [
  {
   "cell_type": "markdown",
   "id": "87bd43c2-a7a6-4592-be65-077fb644a7b4",
   "metadata": {
    "id": "87bd43c2-a7a6-4592-be65-077fb644a7b4",
    "tags": []
   },
   "source": [
    "# <center> <font size = 24 color = 'steelblue'> <b>Exploration and Visualization"
   ]
  },
  {
   "cell_type": "markdown",
   "id": "9c5e7e9a-ee50-45cc-a231-332acfa6db5b",
   "metadata": {},
   "source": [
    "<div class=\"alert alert-block alert-info\">\n",
    "    \n",
    "<font size = 4> \n",
    "\n",
    "**By the end of this notebook you will be able to:**\n",
    "- Learn to explore text data\n",
    "- Visualize text data using wordcloud"
   ]
  },
  {
   "cell_type": "markdown",
   "id": "e7359042-8df5-45e5-8074-7eedcd28f76e",
   "metadata": {},
   "source": [
    "# <a id= 'e0'> \n",
    "<font size = 4>\n",
    "    \n",
    "**Table of contents:**<br>\n",
    "[1. Installation and import of necessary packages](#e1)<br>\n",
    "[2. Download the necessary corpus from NLTK](#e2)<br>\n",
    "[3. Data extraction](#e3)<br>\n",
    ">[a. Check the files available in the corpus](#3.a)<br>\n",
    ">[b. Use the 'Canon_G3.txt'](#3.b)<br>\n",
    "\n",
    "[4. Data exploration and visualization](#e4)<br>\n",
    "> [4.1 Basic exploration](#4.1)<br>\n",
    "> [4.1 Detailed exploration](#4.2)<br>\n",
    "> [4.3 Word frequency analysis](#4.3)<br>\n",
    "> [4.4 Wordcloud generation](#4.4)<br>"
   ]
  },
  {
   "cell_type": "markdown",
   "id": "2b0b7a1f-0df4-4b18-9b01-42e09024c754",
   "metadata": {
    "tags": []
   },
   "source": [
    "##### <a id = 'e1'>\n",
    "<font size = 10 color = 'midnightblue'> <b>Installation and import of necessary packages"
   ]
  },
  {
   "cell_type": "code",
   "execution_count": 6,
   "id": "54f6fbc0",
   "metadata": {},
   "outputs": [
    {
     "name": "stdout",
     "output_type": "stream",
     "text": [
      "Requirement already satisfied: pandas in /opt/homebrew/anaconda3/envs/nlp-play/lib/python3.12/site-packages (2.2.3)\n",
      "Requirement already satisfied: matplotlib in /opt/homebrew/anaconda3/envs/nlp-play/lib/python3.12/site-packages (3.9.2)\n",
      "Collecting wordcloud\n",
      "  Downloading wordcloud-1.9.3-cp312-cp312-macosx_11_0_arm64.whl.metadata (3.4 kB)\n",
      "Requirement already satisfied: numpy>=1.26.0 in /opt/homebrew/anaconda3/envs/nlp-play/lib/python3.12/site-packages (from pandas) (2.0.2)\n",
      "Requirement already satisfied: python-dateutil>=2.8.2 in /opt/homebrew/anaconda3/envs/nlp-play/lib/python3.12/site-packages (from pandas) (2.9.0)\n",
      "Requirement already satisfied: pytz>=2020.1 in /opt/homebrew/anaconda3/envs/nlp-play/lib/python3.12/site-packages (from pandas) (2024.2)\n",
      "Requirement already satisfied: tzdata>=2022.7 in /opt/homebrew/anaconda3/envs/nlp-play/lib/python3.12/site-packages (from pandas) (2024.2)\n",
      "Requirement already satisfied: contourpy>=1.0.1 in /opt/homebrew/anaconda3/envs/nlp-play/lib/python3.12/site-packages (from matplotlib) (1.3.0)\n",
      "Requirement already satisfied: cycler>=0.10 in /opt/homebrew/anaconda3/envs/nlp-play/lib/python3.12/site-packages (from matplotlib) (0.12.1)\n",
      "Requirement already satisfied: fonttools>=4.22.0 in /opt/homebrew/anaconda3/envs/nlp-play/lib/python3.12/site-packages (from matplotlib) (4.54.1)\n",
      "Requirement already satisfied: kiwisolver>=1.3.1 in /opt/homebrew/anaconda3/envs/nlp-play/lib/python3.12/site-packages (from matplotlib) (1.4.7)\n",
      "Requirement already satisfied: packaging>=20.0 in /opt/homebrew/anaconda3/envs/nlp-play/lib/python3.12/site-packages (from matplotlib) (24.1)\n",
      "Requirement already satisfied: pillow>=8 in /opt/homebrew/anaconda3/envs/nlp-play/lib/python3.12/site-packages (from matplotlib) (10.4.0)\n",
      "Requirement already satisfied: pyparsing>=2.3.1 in /opt/homebrew/anaconda3/envs/nlp-play/lib/python3.12/site-packages (from matplotlib) (3.1.4)\n",
      "Requirement already satisfied: six>=1.5 in /opt/homebrew/anaconda3/envs/nlp-play/lib/python3.12/site-packages (from python-dateutil>=2.8.2->pandas) (1.16.0)\n",
      "Downloading wordcloud-1.9.3-cp312-cp312-macosx_11_0_arm64.whl (169 kB)\n",
      "Installing collected packages: wordcloud\n",
      "Successfully installed wordcloud-1.9.3\n"
     ]
    }
   ],
   "source": [
    "!pip install pandas matplotlib wordcloud"
   ]
  },
  {
   "cell_type": "code",
   "execution_count": 7,
   "id": "b3b7e56b-1923-457c-b7a0-bd197179c320",
   "metadata": {
    "id": "b3b7e56b-1923-457c-b7a0-bd197179c320",
    "tags": []
   },
   "outputs": [],
   "source": [
    "import nltk\n",
    "import pandas as pd\n",
    "import matplotlib.pyplot as plt\n",
    "from wordcloud import WordCloud"
   ]
  },
  {
   "cell_type": "markdown",
   "id": "69a11558-963d-4dba-bd0d-ed364b6a494d",
   "metadata": {},
   "source": [
    "[top](#e0)"
   ]
  },
  {
   "cell_type": "markdown",
   "id": "585cc1ec-c621-4b1d-af1c-59640fc6fdc3",
   "metadata": {
    "id": "585cc1ec-c621-4b1d-af1c-59640fc6fdc3"
   },
   "source": [
    "##### <a id = 'e2'>\n",
    "<font size = 10 color = 'midnightblue'> <b>Download necessary corpus and models from nltk"
   ]
  },
  {
   "cell_type": "code",
   "execution_count": 8,
   "id": "94dc113b-26d3-4611-ac9c-617647e2a2a7",
   "metadata": {
    "colab": {
     "base_uri": "https://localhost:8080/"
    },
    "executionInfo": {
     "elapsed": 844,
     "status": "ok",
     "timestamp": 1701922894578,
     "user": {
      "displayName": "Shubham Pandey",
      "userId": "10645658922718505789"
     },
     "user_tz": -330
    },
    "id": "94dc113b-26d3-4611-ac9c-617647e2a2a7",
    "outputId": "821158b6-9e6d-4f0c-c5b1-60e469eaddab",
    "tags": []
   },
   "outputs": [
    {
     "name": "stderr",
     "output_type": "stream",
     "text": [
      "[nltk_data] Downloading package product_reviews_1 to\n",
      "[nltk_data]     /Users/toddwalters/nltk_data...\n",
      "[nltk_data]   Unzipping corpora/product_reviews_1.zip.\n",
      "[nltk_data] Downloading package punkt to\n",
      "[nltk_data]     /Users/toddwalters/nltk_data...\n",
      "[nltk_data]   Package punkt is already up-to-date!\n",
      "[nltk_data] Downloading package stopwords to\n",
      "[nltk_data]     /Users/toddwalters/nltk_data...\n",
      "[nltk_data]   Package stopwords is already up-to-date!\n"
     ]
    },
    {
     "data": {
      "text/plain": [
       "True"
      ]
     },
     "execution_count": 8,
     "metadata": {},
     "output_type": "execute_result"
    }
   ],
   "source": [
    "nltk.download('product_reviews_1')\n",
    "nltk.download('punkt')\n",
    "nltk.download('stopwords')"
   ]
  },
  {
   "cell_type": "markdown",
   "id": "4816646d-0e5a-4d97-8293-be5adac1fadb",
   "metadata": {
    "id": "4816646d-0e5a-4d97-8293-be5adac1fadb",
    "tags": []
   },
   "source": [
    "<div class=\"alert alert-block alert-info\">\n",
    "<font size = 4> \n",
    "    \n",
    "<center><b>The product reviews corpus contains multiple products reviews for specific products.\n"
   ]
  },
  {
   "cell_type": "markdown",
   "id": "e21adbf0-6a04-4745-be89-6b5a1c970a28",
   "metadata": {},
   "source": [
    "[top](#e0)"
   ]
  },
  {
   "cell_type": "markdown",
   "id": "7facfddc-6894-40d2-9fe4-607bf192248e",
   "metadata": {},
   "source": [
    "##### <a id = 'e3'>\n",
    "<font size = 10 color = 'midnightblue'> <b>Data extraction"
   ]
  },
  {
   "cell_type": "markdown",
   "id": "7e005191-5c04-4eaf-b58e-2a3fd3622bdd",
   "metadata": {
    "id": "7e005191-5c04-4eaf-b58e-2a3fd3622bdd"
   },
   "source": [
    "<a id = '3.a'>\n",
    "<font size = 6 color = pwdrblue>  <b>Check the files available in the corpus"
   ]
  },
  {
   "cell_type": "code",
   "execution_count": 9,
   "id": "3dab3a1a-ac9c-499f-ba0a-38f1cdd31931",
   "metadata": {
    "colab": {
     "base_uri": "https://localhost:8080/"
    },
    "executionInfo": {
     "elapsed": 11,
     "status": "ok",
     "timestamp": 1701922894579,
     "user": {
      "displayName": "Shubham Pandey",
      "userId": "10645658922718505789"
     },
     "user_tz": -330
    },
    "id": "3dab3a1a-ac9c-499f-ba0a-38f1cdd31931",
    "outputId": "60deee58-955b-4fb3-d4c7-600f1db7f8a6",
    "tags": []
   },
   "outputs": [
    {
     "name": "stdout",
     "output_type": "stream",
     "text": [
      "['Apex_AD2600_Progressive_scan_DVD player.txt', 'Canon_G3.txt', 'Creative_Labs_Nomad_Jukebox_Zen_Xtra_40GB.txt', 'Nikon_coolpix_4300.txt', 'Nokia_6610.txt', 'README.txt']\n"
     ]
    }
   ],
   "source": [
    "file_ids = nltk.corpus.product_reviews_1.fileids()\n",
    "print(file_ids)"
   ]
  },
  {
   "cell_type": "markdown",
   "id": "e01f8a04-53bf-4983-90f2-ec280983e685",
   "metadata": {
    "id": "e01f8a04-53bf-4983-90f2-ec280983e685"
   },
   "source": [
    "<a id = '3.b'>\n",
    "<font size = 6 color = pwdrblue>  <b>Use the 'Canon_G3.txt' review file for this exercise"
   ]
  },
  {
   "cell_type": "markdown",
   "id": "d8da8496-c75b-40c5-b11e-d100dc60d967",
   "metadata": {
    "id": "d8da8496-c75b-40c5-b11e-d100dc60d967"
   },
   "source": [
    "<div class=\"alert alert-block alert-success\">\n",
    "<font size = 4> \n",
    "    \n",
    "**To extract text data from the file, there are multiple ways**\n",
    "\n",
    "  - `reviews` function extracts the reviews in an object form.\n",
    "  - `raw` function extracts the raw data from the text file.\n",
    "  - `sents` function extract tokenised list of all sentences in all the reviews."
   ]
  },
  {
   "cell_type": "code",
   "execution_count": 10,
   "id": "3c6bc581-edc5-4b6c-8354-0c1f70f735fe",
   "metadata": {
    "id": "3c6bc581-edc5-4b6c-8354-0c1f70f735fe",
    "tags": []
   },
   "outputs": [],
   "source": [
    "reviews = nltk.corpus.product_reviews_1.reviews(file_ids[1])\n",
    "raw_text = nltk.corpus.product_reviews_1.raw(file_ids[1])\n",
    "review_sentences = nltk.corpus.product_reviews_1.sents(file_ids[1])"
   ]
  },
  {
   "cell_type": "markdown",
   "id": "8d60afdf-6faa-4b4d-9b00-0376655a15ac",
   "metadata": {},
   "source": [
    "[top](#e0)"
   ]
  },
  {
   "cell_type": "markdown",
   "id": "eb40f363-4438-4a91-821f-1c766f852ade",
   "metadata": {},
   "source": [
    "##### <a id = 'e4'>\n",
    "<font size = 10 color = 'midnightblue'> <b>Data Exploration"
   ]
  },
  {
   "cell_type": "markdown",
   "id": "fb38571c-2a08-4383-a471-2d87d3d5a902",
   "metadata": {},
   "source": [
    "<a id = '4.a'>\n",
    "<font size = 6 color = pwdrblue>  <b>Basic exploration"
   ]
  },
  {
   "cell_type": "markdown",
   "id": "3e9333df-8fc2-42a6-869e-eca08a55b6dc",
   "metadata": {
    "id": "3e9333df-8fc2-42a6-869e-eca08a55b6dc"
   },
   "source": [
    "<div class=\"alert alert-block alert-success\">\n",
    "<font size = 4> \n",
    "\n",
    "**Let's start with simple exploration to check**\n",
    "  - The total number of reviews,\n",
    "  - Total number of review sentences,\n",
    "  - Title for each review, and\n",
    "  - Extract complete review texts"
   ]
  },
  {
   "cell_type": "code",
   "execution_count": 11,
   "id": "3390163d-6bd3-4993-b067-c8390d5c1d23",
   "metadata": {
    "colab": {
     "base_uri": "https://localhost:8080/"
    },
    "executionInfo": {
     "elapsed": 9,
     "status": "ok",
     "timestamp": 1701922894579,
     "user": {
      "displayName": "Shubham Pandey",
      "userId": "10645658922718505789"
     },
     "user_tz": -330
    },
    "id": "3390163d-6bd3-4993-b067-c8390d5c1d23",
    "outputId": "f6a04fa0-2b15-4bde-884f-d7d6974ca3b3",
    "tags": []
   },
   "outputs": [
    {
     "name": "stdout",
     "output_type": "stream",
     "text": [
      "Total no. of review available : 45\n"
     ]
    }
   ],
   "source": [
    "print(f\"Total no. of review available : {len(reviews)}\")"
   ]
  },
  {
   "cell_type": "code",
   "execution_count": 12,
   "id": "2dd803c3-0b45-44a2-a169-24f0e9350c09",
   "metadata": {
    "colab": {
     "base_uri": "https://localhost:8080/"
    },
    "executionInfo": {
     "elapsed": 8,
     "status": "ok",
     "timestamp": 1701922894579,
     "user": {
      "displayName": "Shubham Pandey",
      "userId": "10645658922718505789"
     },
     "user_tz": -330
    },
    "id": "2dd803c3-0b45-44a2-a169-24f0e9350c09",
    "outputId": "b103c28e-666f-4b2c-faa6-6337f3fb1027",
    "tags": []
   },
   "outputs": [
    {
     "name": "stdout",
     "output_type": "stream",
     "text": [
      "Total review sentences : 597\n"
     ]
    }
   ],
   "source": [
    "print(f\"Total review sentences : {len(review_sentences)}\")"
   ]
  },
  {
   "cell_type": "code",
   "execution_count": 13,
   "id": "384bd693-fab9-47aa-aa09-466e9740c5f3",
   "metadata": {
    "colab": {
     "base_uri": "https://localhost:8080/"
    },
    "executionInfo": {
     "elapsed": 8,
     "status": "ok",
     "timestamp": 1701922894579,
     "user": {
      "displayName": "Shubham Pandey",
      "userId": "10645658922718505789"
     },
     "user_tz": -330
    },
    "id": "384bd693-fab9-47aa-aa09-466e9740c5f3",
    "outputId": "b820b413-aef5-4c88-d5ef-83b6b26d51b9",
    "tags": []
   },
   "outputs": [
    {
     "name": "stdout",
     "output_type": "stream",
     "text": [
      "rev_1 : excellent picture quality / color\n",
      "rev_2 : cool toy\n",
      "rev_3 : canon g3 ? incredible camera\n",
      "rev_4 : great camera\n",
      "rev_5 : have n't had practice but i 'm already in love with it\n",
      "rev_6 : excellent for the semi-serious amateur\n",
      "rev_7 : fantastic digital camera\n",
      "rev_8 : the best of everything\n",
      "rev_9 : pure class & quality - a work of craftmanship\n",
      "rev_10 : great camera\n",
      "rev_11 : if you love an slr 35mm but need to go digital\n",
      "rev_12 : outstanding camera\n",
      "rev_13 : love my new g 3\n",
      "rev_14 : noise level\n",
      "rev_15 : the pictures are brillient\n",
      "rev_16 : great gadget\n",
      "rev_17 : ok for a digital camera\n",
      "rev_18 : within its limitations\n",
      "rev_19 : knock your socks off great\n",
      "rev_20 : great digital camera\n",
      "rev_21 : canon never ceases to amaze\n",
      "rev_22 : love the g2\n",
      "rev_23 : awesome pro-sumer camera\n",
      "rev_24 : upgraded from g2 and not looking back\n",
      "rev_25 : the catch\n",
      "rev_26 : 100 % happy\n",
      "rev_27 : the best 4mp out there\n",
      "rev_28 : love it more and more\n",
      "rev_29 : the last digital camera i 'll buy\n",
      "rev_30 : boxy ? no -- gorgeous\n",
      "rev_31 : very good choice in it 's price range\n",
      "rev_32 : best of the best\n",
      "rev_33 : you 'll take more pics\n",
      "rev_34 : excellent camera\n",
      "rev_35 : cannon\n",
      "rev_36 : powerful product\n",
      "rev_37 : best camera i 've used\n",
      "rev_38 : this camera is closest to perfect than any otherdigicam\n",
      "rev_39 : canon g3 review / response / recommendation\n",
      "rev_40 : beware\n",
      "rev_41 : major design flaw\n",
      "rev_42 : i love it more the longer i own it\n",
      "rev_43 : best non-slr digital camera under 5 megapixels\n",
      "rev_44 : the best so far\n",
      "rev_45 : great camera but g2 will do the same for less\n"
     ]
    }
   ],
   "source": [
    "review_titles = {f\"rev_{i+1}\" : reviews[i].title for i in range(len(reviews))}\n",
    "for tit in review_titles.keys():\n",
    "    print(f\"{tit} : {review_titles[tit]}\")"
   ]
  },
  {
   "cell_type": "code",
   "execution_count": 14,
   "id": "bb23d762-9f36-40e2-975d-3850e1ff890f",
   "metadata": {
    "id": "bb23d762-9f36-40e2-975d-3850e1ff890f",
    "tags": []
   },
   "outputs": [],
   "source": [
    "review_texts = []\n",
    "for i in range(len(reviews)):\n",
    "    review_lines = reviews[i].review_lines\n",
    "    line = ''\n",
    "    for j in range(len(review_lines)):\n",
    "        line += ' '.join(review_lines[j].sent)\n",
    "    review_texts.append(line)\n"
   ]
  },
  {
   "cell_type": "code",
   "execution_count": 15,
   "id": "0632052a-278f-4b81-ae7b-a752c940aad7",
   "metadata": {
    "colab": {
     "base_uri": "https://localhost:8080/"
    },
    "executionInfo": {
     "elapsed": 7,
     "status": "ok",
     "timestamp": 1701922894579,
     "user": {
      "displayName": "Shubham Pandey",
      "userId": "10645658922718505789"
     },
     "user_tz": -330
    },
    "id": "0632052a-278f-4b81-ae7b-a752c940aad7",
    "outputId": "60eb4db6-e225-455d-9ed9-c6c32efd8791",
    "tags": []
   },
   "outputs": [
    {
     "name": "stdout",
     "output_type": "stream",
     "text": [
      "                                                                Complete Review Texts                                                                 \n",
      "Title --> excellent picture quality / color :\n",
      "\n",
      "i recently purchased the canon powershot g3 and am extremely satisfied with the purchase .the camera is very easy to use , in fact on a recent trip this past week i was asked to take a picture of a vacationing elderly group .after i took their picture with their camera , they offered to take a picture of us .i just told them , press halfway , wait for the box to turn green and press the rest of the way .they fired away and the picture turned out quite nicely . ( as all of my pictures have thusfar ) .a few of my work constituants owned the g2 and highly recommended the canon for picture quality .i ' m easily enlarging pictures to 8 1 / 2 x 11 with no visable loss in picture quality and not even using the best possible setting as yet ( super fine ) .ensure you get a larger flash , 128 or 256 , some are selling with the larger flash , 32mb will do in a pinch but you ' ll quickly want a larger flash card as with any of the 4mp cameras .bottom line , well made camera , easy to use , very flexible and powerful features to include the ability to use external flash and lense / filters choices .i ' d highly recommend this camera for anyone who is looking for excellent quality pictures and a combination of ease of use and the flexibility to get advanced with many options to adjust if you like .great job canon !\n",
      "\n",
      "Summary --> \n",
      "Len of review : 265 words.\n",
      "\n",
      "Title --> cool toy :\n",
      "\n",
      "yep .this is my first digital camera , and what a ' toy ' it is !i am a software engineer and am very keen into technical details of everything i buy , i spend around 3 months before buying the digital camera ; and i must say , g3 worth every single cent i spent on it .just a little overview , powershot g3 is the flagship of canon ' s powershot series and its an slr - like camera , its 4 megapixel and ( alsmost ) full manual control gives the pictures a touch of brilliance .whether you are a novice or an expert , its ease of use and functionality goes together .+ you can have different kind of lens if you want + flashes , etc .as its 4mp , you might need bigger storage to store high quality images and recording movies ( you can record 3 minutes of video ) .i am using kingston 512mb cf which works great and is very fast .a good choice could be cf type ii , microdrives that can store around 1 gb of images .some things that i did n ' t like ( but hey . nothing is perfect ).* main dial is not backlit .* lens visible in optical viewfinder .( well thats only for old - school die - hard optical viewfinder fans ) use lcd instead which is brilliant and you can twist around too .overall i ' m happy with my toy .\n",
      "\n",
      "Summary --> \n",
      "Len of review : 252 words.\n",
      "\n",
      "Title --> canon g3 ? incredible camera :\n",
      "\n",
      "i did extensive research comparing different 4 and 5 megapixel cameras .a couple of online camera review sites were extremely helpful , as they provided complete exhaustive reviews of nearly every camera made , plus provided a great number of high resolution sample images to compare amongst the models .following my research , i decided on the g3 .in a word , \" awesome \" is how i would describe this camera .i wo n ' t go into the details here , as the online sites ( stevesdigicams , dpreviews ) go into great depth in their reviews , but i am very pleased with the features , the speed , the picture quality , the flexibility , the automation , and the functional conveniences this camera offers .with the automatic settings , i really have n ' t taken a bad picture yet .and with the panoramic \" stitch \" mode , it guides you through stitching together multiple pictures to build a seamless panoramic image .i am absolutely in awe of this camera , canon put enormous quality into the g3 .do n ' t walk , run and buy this camera if you have the budget , i guarantee you will not be disappointed .\n",
      "\n",
      "Summary --> \n",
      "Len of review : 209 words.\n",
      "\n",
      "Title --> great camera :\n",
      "\n",
      "i bought my canon g3 about a month ago and i have to say i am very satisfied .i have taken hundreds of photos with it and i continue to be amazed by their quality .the g3 is loaded with many useful features , and unlike many smaller digital cameras , it is easy to hold steady when using slower shutter speeds .flaws ?the lens is visible in the viewfinder when the lens is set to the wide angle , but since i use the lcd most of the time , this is not really much of a bother to me .still i am a little suprised that canon did not correct this design flaw before releasing the camera .despite this minor disappointment , i highly recommend the canon g3 anyone who is serious about digital photography .\n",
      "\n",
      "Summary --> \n",
      "Len of review : 138 words.\n",
      "\n",
      "Title --> have n't had practice but i 'm already in love with it :\n",
      "\n",
      "i have only had this camera for one full day and i have to say that it is wonderful .the photo quality is amazing and i know i ' m going to have fun with all the features .i ' ve figured out most of its features on my own already ( because i have used digital cameras before , so i know things like symbols ) .i ' m one of those people that can only concentrate on one screen at a time so i ' ve been having trouble paying attention to the little display panel on top , but that does n ' t stop me from loving this camera .the reason i rated it a four is because of that darn diopter adjustment dial . its very small and hard to turn so you can ' t get an accurate adjustment ( for those of you who do n ' t know what a diopter adjustment is , it is to adjust the focus of the viewfinder to your eyesight . )i am going to have so much fun with this camera and when i learn more i will post a more accurate review .\n",
      "\n",
      "Summary --> \n",
      "Len of review : 199 words.\n",
      "\n",
      "Title --> excellent for the semi-serious amateur :\n",
      "\n",
      "positives1 ) slr like programming and exposure control gives you latitude to be creative , yet its progam and auto exposure settings provide excellent photos if you do n ' t want to bother with the settings .excellent range of metering options as well .it ' s great to switch to spot metering and actually see it working on the lcd screen .2 ) 4mp is about right for the target market of this camera ( semi - serious amateur photographer )3 ) 4x zoom is nice4 ) the great thing about digital , in general , is that you can generally see the results of your exposure settings on the lcd screen before you take the picture , not two weeks later when you get the film developed .5 ) its focusing system is also very flexible .you can move the focus range to almost anywhere in the scene with the push of a button , and it has an on - screen manual focus mode that would be really helpful if shooting a scene that is tough to automatically focus .negatives1 ) quite bulky ( it ' s about the same size as my minolta vectis s - 1 aps slr ) and uses a heavy battery , although not very solid as it is contructed mostly of plastic ( unlike canon ' s elph line )2 ) not very ergonomical - you ' ll find even for a point - and - shoot lens )4 ) the viewfinder is borderuer lcd scoying .\n",
      "\n",
      "Summary --> \n",
      "Len of review : 256 words.\n",
      "\n",
      "Title --> fantastic digital camera :\n",
      "\n",
      "the camera has a wonderful set of features .the lcd screen pulls out and rotates in any direction for easy pictures .you can even take a picture of yourself while looking at the lcd .the optical zoom works great and the 14x digital zoom is a very nice addition although pictures at the highest digital zoom are a little blurry .the highest optical zoom pictures are perfect .i have not yet seen any of the usual problems with digital pictures ( purple fringing , etc ) so i am very pleased .the canon computer software used to download , sort , upload and manage your digital pictures on the computer is very nice and very easy to use .the only two minor issues i have with the camera are the lens cap ( it is not very snug and can come off too easily ) and the lens itself ( it partially obstructs the view through the viewfinder but not views through the lcd ) .the menus are easy to navigate and the buttons are easy to use .it is a fantastic camera and well worth the price .\n",
      "\n",
      "Summary --> \n",
      "Len of review : 189 words.\n",
      "\n",
      "Title --> the best of everything :\n",
      "\n",
      "recent price drops have made the g3 the best bargain in digital cameras currently available .advanced photobugs will find more creative control than imaginable .newbies will find the full auto setting will give them perfect pictures right out of the box .4 megapixels is enough for anybody and the photo quality is awesome .do n ' t get fooled by the 5 megapixel marketing hype .unless you want to print murals , you do n ' t need it .those used to 35mm cameras will find the g3 very comfortable and friendly to use .anyone looking for more than \" point and shoot \" can make a huge step up for a moderate price difference .the extended zoom range and faster lense put it at the top of it ' s class .i expect the g3 will please me for years to come .\n",
      "\n",
      "Summary --> \n",
      "Len of review : 144 words.\n",
      "\n",
      "Title --> pure class & quality - a work of craftmanship :\n",
      "\n",
      "i recommend unreservedly the powershot g3 to any potential buyer looking for a first - class digital camera at a reasonable price - there is no better camera out there - period !it gives great pictures , the controls are easy to use , the battery lasts forever on one single charge , the software is very user - friendly and it is beautiful in it chrome casing .i began taking pics as soon as i got this camera and am amazed at the quality of photos i have took simply by using the auto mode .absolutely breathtaking .i was considering the olympus camedia c - 5050 but was convinced to buy the g3 after visiting a store and holding it in my hands and trying it out .the olympus is a bit clumsy - looking and the user - interface not as friendly as the canon , but one of the features that sold me on the g3 was the battery life - no other camera out there gives you the type of battery life as the canon g3 .i would recommend a larger compact - flash card , at least 128 mb .i bought a 512 mb card by simpletech and it works great with my canon .\n",
      "\n",
      "Summary --> \n",
      "Len of review : 210 words.\n",
      "\n",
      "Title --> great camera :\n",
      "\n",
      "what else can you say about a camera that works for both of you ?i make photographs at work , and so wanted a camera good enough to compare with what i use professionally .at the same time , i wanted my wife to not be intimidated by knobs and buttons .i recieved the camera , inserted a larger cf card , charged the battery , and handed it to my wife .i showed her how to turn it on , where the lens zoom lever is , and she loves it !this camera has canon ' s great colorimetry , plus what you see in the lcd is what you get .the prints are beautiful !and you get about 120 images on a 256mb card at highest quality .i tried out some other brands in the stores , and was disappointed by the battery life of the other company ; plus what you see in the lcd ( no optical finder ) is n ' t what you get - not even for color ; the output was less than i expected .although canon ' s batteries are proprietary , they last a really long time , recharge fairly quickly in the camera , plus if you want ' more power ' , you can even find a knockoff charger and spare batteries right here on amazon .\n",
      "\n",
      "Summary --> \n",
      "Len of review : 229 words.\n",
      "\n",
      "Title --> if you love an slr 35mm but need to go digital :\n",
      "\n",
      "this is a great camera for you !the canon g3 gives tons of control for photo buffs but still has an \" auto \" mode that makes it very easy for the novice to use .i can hand this to anyone and know they will take some great photos !i love having the option to manually control the f - stop , shutter speed and even focus .i was able to take great photos of the 4th of july fire works , and got some amazing shots of the kids playing with sparklers .warning - i did read the manual !but if you ' ve used a slr 35mm camera , the controls are very intuitive !once i read the manual i was able to point and shoot without having to fumble around trying to figure out where the controls are located .with a quick spin of the dial you can select shutter priority ( for high speed subjects ) , aperture priority ( for focal length ) or full program mode where the camera selects both for ideal photo quality .the manual mode is easy to use with fast access for the selection of shutter speed and aperture without having to fumble through menu options .it does n ' t do you any good if a camera has all the features but you can ' t access them quickly when you need them !this camera also has a great feel and weight to it .you feel like you are holding something of substance , not some cheap plastic toy .the more i work with it , the more i love it !i would recomend that you purchase a lexar media cf for the camera as the sandisk card that comes packaged is too small and too slow !i did n ' t think i would find this quality and ease of use for under $ 1500 - i ' m thrilled with my purchase !\n",
      "\n",
      "Summary --> \n",
      "Len of review : 326 words.\n",
      "\n",
      "Title --> outstanding camera :\n",
      "\n",
      "this is my first digital camera , and i am very pleased with it .i do not know a whole lot about photography , but i am happy to know that this camera can always perform , even as i grow in skill and knowledge .seriously , this thing has everything that a pro or expert amateur could want .but at the same time , it takes wonderful pictures very easily in \" auto \" mode , so that even an average joe like me can use it !four megapixels is great .i know there are five mp cameras out there , but this thing does just fine for me .if you want , check out the canon website and they have some sample images , taken by this camera , for you to download .if you are looking for a very simple point and shoot camera , this is probably not what you are looking for .if you are looking for an outstanding camera that can take you from simple to complex , this is it .it is a very amazing product .i highly recommend it .\n",
      "\n",
      "Summary --> \n",
      "Len of review : 188 words.\n",
      "\n",
      "Title --> love my new g 3 :\n",
      "\n",
      "just received this camera two days ago and already love the features it has .takes excellent photos .night mode is clear as day .i have not played with all the features yet , but the camera is easy to use once you get used to it .the only drawback is the viewfinder is slightly blocked by the lens .however , using the lcd seems to eliminate this minor problem .overall it is the best camera on the market .i give it 10 stars !\n",
      "\n",
      "Summary --> \n",
      "Len of review : 84 words.\n",
      "\n",
      "Title --> noise level :\n",
      "\n",
      "this camera has significantly more noise at iso 100 than the nikon 4500 .\n",
      "\n",
      "Summary --> \n",
      "Len of review : 14 words.\n",
      "\n",
      "Title --> the pictures are brillient :\n",
      "\n",
      "i just bought the camera a few days ago .before i \" get used to it \" , here are my first feelings :a ) the picture quality ( color and sharpness of focusing ) are so great , it completely eliminated my doubt about digital imaging --- how could one eat rice one grain at a time : - ) )b ) the lens cover is surely loose , i already accidently finger - printed the len a few times , and au lens tigt and cause potential damage .i wish canon would work out some way for that issue .the zooming lever is shaky , i hope it does not operate mechanically , otherwise you ' ll feel uneasy .\n",
      "\n",
      "Summary --> \n",
      "Len of review : 122 words.\n",
      "\n",
      "Title --> great gadget :\n",
      "\n",
      "i bought this last week through amazon .got a great deal from a reputable seller .i love this camera .i am still trying to figure out the may options it has .took hundreds of pictures and they were great .great colors , pictures and white balance .has 4x optical zoom which is higher than any other in the same price range .it is generally overpriced a little bit but you get what you are paying for .\n",
      "\n",
      "Summary --> \n",
      "Len of review : 77 words.\n",
      "\n",
      "Title --> ok for a digital camera :\n",
      "\n",
      "maybe it is my lack of experience , but i found shots with this camera very disappointing .it was ( i sold it after a few months ) too expensive for the shots that i got .sure it had all the features , but when i tried to shoot a girl ' s basketball game it just wan ' t up to the task .i do n ' t think i was asking too much .any film zoom p and s would have given superior results with a minimal effort .and with the 500 you save you could print the results for the life of the camera .i found that low light situations combined with any sort of action left this camera in the dust .i wanted it to shoot concerts as well .that meant even less light and just as much action .sure , i adjusted the film speed to 400 .the grain was terrible .next time i set it at 100 and used the flash .well flash photos are never great , and there was still a lot of noise .when i took outdoor photos with plenty of light and the objects were n ' t moving , the photos were awesome .the camera was a marvel .getting the printer to help output them was another tale .overall i think that you need to consider what you wan ' t to do .for simple point and shoot photography , consider a cheaper digital .you do n ' t need the extra resolution or the cost .then again a one time use camera may do just as well .if you shoot in lots of light and desire high quality , this will be your camera .it is versatile and seems to be one of the best .me , i am going with a leica minilux ( the g3 was replacing mine which was stolen ) .sure .it is less versatile , but i am never disappointed with the output .\n",
      "\n",
      "Summary --> \n",
      "Len of review : 331 words.\n",
      "\n",
      "Title --> within its limitations :\n",
      "\n",
      "i am a long - time user of highly responsive film slrs and professional quality external flash equipment , just so you know my bias .i have been watching the development of digicams for years , waiting to make my first move .what i really want is a $ 1 , 500 digital slr with a full frame sensor that will take my nikon lenses .i figure that is at least three years off , and i am getting impatient .hence i decided to spring for a point - and - shoot digicam that that would have features that would let me get around their inherent limitations .i chose the g3 because of its reputation for very high quality , clean images .the two limitations i knew i would have to deal with are the very long lag time before it focus - locks ( even in bright light ) , and the unsatisfactory light quality of the built - in flash .as of this writing , technology has not solved the focus - lock lag time problem for point - and - shoot digicams and anyone who is satisfied with it simply has never used a modern film slr .at least once youve got focus lock , the shutter release lag time for the g3 is about 1 / 10 of a second , which from what ive read , is better than just about anything else available .what makes the focus - lock lag time something i can live with is the extreme depth of field obtainable with these point and shoot digicams at f8 .once i get focus lock , i can then wait until my restless subject ( a pet or a child ) strikes an amusing pose and then fire the shutter with some reasonable probability of getting my subject still in focus .now what about the flash problem ?relative to what i can easily achieve with external flash on my nikon slr , the internal flash on the g3 produces harsh , flat images with ugly hot spots .fortunately , the g3 has a hot shoe that can take an external flash , and fortunately for me , i already owned a one of the highest quality external flashes that money can buy : the metz 60 ct - 4 .i cant use my nikon external flash on a canon camera , but i can use my metz , with the proper metz module and extension cord connected between the g3 and the 60 ct - 4 .for those who have this metz flash ( or the 45cl - 3 ) and would like to get the absolute ultimate quality out of this g3 , the metz module you need is the sca 3102 and the connector cord is the sca 3000c .in order for this to work , you have to set the camera to manual mode and set the shutter speed and f - stop yourself .contrary to what ive read elsewhere , the g3 does sync at 1 / 250 of a second with third - party flashes , just as it does with the dedicated flashes from canon .you also have to set the g3 to second shutter sync , which is what youd want to do most of the time anyhow .then just forget about all the controls you have on the metz flash head itself and the sca 3102 control panel , because they are all ignored .the g3 completely takes over controlling the duration of the metz flash , and most of the time , the exposure is spot on and when it isnt , its because youve exceeded the range of the metz flash itself .this might happen if you get too close to the subject and you are not bounce - flashing , or if you are bounce flashing and the walls are simply too far away .unfortunately , the neutral density filters for the metz flash are no longer available , so the first problem cant easily be solved .the second problem is solved by more direct lighting from the metz ( with the attendant shadows unfortunately ) .but once youve got your exposure within an acceptable range , the g3 is shown to produce utterly stunning images that i can hardly get with my nikon f100 film camera .the 60 ct - 4 flash head can actually be reversed 180 degrees and then tilted , enabling you to bounce the flash off the walls behind you .the results are shadow - free images that look as if theyve been exposed with the gentlest natural light you could imagine .now there is one more complaint i have about the g3 and that is the software that comes with it for processing raw images ( i only shoot in raw image mode and the first thing i did was replace the 32 mbyte cf with a 512 mbyte cf , which gives me 130 raw images , as opposed to 7 !the canon software for raw images does not present you with a raw image at all , but the raw image after it has been processed by all the image - affecting settings in the camera .i believe this is enabled by a second file that comes out of the camera that stores all this information .maybe if you delete those files before you looked at them with the software , youd see the true , raw image that the camera actually produces .i didnt wait to experiment .instead , i bought the adobe photoshop camera raw plug - in .what this plug - in reveals is the truly stunning quality of the raw g3 hardware .without any tweaking at all , if the exposure is accurate , the colors are as realistic as ive ever seen produced by film , and this is a raw image !the adobe camera raw plug - in shows once again that hardware is miles ahead of software .what the g3 raw image software gives you is a fantasy world designed to please the uncritical .what the photoshop plug - in gives you is reality , and then if you want fantasy , you can use photoshop to create it .but at least youre starting with the most photorealistic images ive ever seen from a camera .i am stunned and amazed at the quality of the raw images i am getting from this g3 ( in conjunction with my professional flash system ) , and can easily put up with the cameras limitations , because ive never seen anything better within its resolution limits .\n",
      "\n",
      "Summary --> \n",
      "Len of review : 1107 words.\n",
      "\n",
      "Title --> knock your socks off great :\n",
      "\n",
      "i ' ve had this for 3 months now , and i am pleased with my decision .this is the perfect camera for a photo hobbiest who wants to have easy point and shoot ability as well .my girlfriend loved using this camera so much as a point and shoot that i had to pry it out of her hands most of the time .battery life , the drawback to most digital cameras , to quote k . reeves .whoa .manual functionality is excellent , downloading pictures is quick and a breeze , and the quality is astounding .i did a good month ' s worth of research before buying this over other similar priced digital cameras , and this is the best buy for the buck .not perfect ( yes , the viewfinder can get obstructed in instances . but the lcd works well enough in those instances ) , not the cheapest 4 . 0 mp , but the best 4 . 0 mp .if you do n ' t believe me on that , check the consumer reports review as well as the many digital camera review sites out there .or save time and just do it , you wo n ' t regret it .\n",
      "\n",
      "Summary --> \n",
      "Len of review : 209 words.\n",
      "\n",
      "Title --> great digital camera :\n",
      "\n",
      "after reading the very positive review of this camera in a leading consumer magazine , i decided to head here , to amazon , to read through the online reviews .the objections of the naysayers almost caused me to purchase a different camera , but , in the end , i figured i ' d give the g3 a try .i ' m very glad i did .the service from the supplier was exceptional .the camera arrived on time and in perfect condition .having used it for more than a month , i can say that it consistently produces topnotch photos .recently , i attended a \" flyball \" competition-- an event that involves dogs running and jumping hurdles .by cocking the shutter to the halfway position and getting the settings ready to shoot , i was able to produce excellent stopaction photos -- contrary to what other reviewers experienced .the camera is a dream to operate in automode , but also gives tremendous flexibility in aperture priority , shutter priority , and manual modes .in the coastal redwood forests i was able to use these additional features along with the macro - focussing option to shoot wonderful close - up photos of the trilliums and other flowers in bloom .about the only legitimate criticsm from the online reviews is that fact that the lens really does obstruct the viewfinder .this effect is increased when one buys and uses a telephoto doubler .but who cares ?i always shoot using the lcd panel .i can ' t write enough positive things about this great little camera !\n",
      "\n",
      "Summary --> \n",
      "Len of review : 266 words.\n",
      "\n",
      "Title --> canon never ceases to amaze :\n",
      "\n",
      "being a great fan of the g2 i set out with g3 with a somewhat negative expectation , difficult as it is to improve drastically on something already as ' perfect ' as the powershot g2 .but canon never fails to amaze .some of the great gains over g2 --1 . the ability to selectively switch to raw format during record review gives you incredible more post - processing flexibility .2 . battery life is over 4 . 5 hours , compared to about 2 . 5 hours for the g2 or the 2 hours for most nikons .3 . the remote capture and fileviewer software bundled for photo capture is mind - blowing .looks sort of like picasa software ( google it if you dont know ) in the interface and is as easy to install and operate as g2 ' s , but more intuitive .4 . the shape of this device is a little squarer , without losing the weight which means better balance and less shaking while clicking .a big plus in my book .5 . the 1 / 200 sec , f5 . 6 + nd filter for highly exposed ( or very brightly lit ) environments .the light auto - correction is awesome .you could take a picture of a stone glinting in the sun and still avoid the shining glaze and get the contours right .6 . the g2 ' s \" color effect \" exposure mode has now been removed , the replacement is a selectable \" effect func \" menu option available in all exposure modes .there are six default settings ( off , vivid , sepia , neutral , low sharpening , b & w ) as well as a ' custom effect ' that allows you to control sharpening , contrast and saturation .7 . a new photostich software for stiching your pics into a panoramic view .i can of course buy such a tool off the shelves separately but helps if it comes with my camera .( looks quite neat too suggesting that canon may have , er , canonized it a bit ).8 . perhaps inspired by the canon ' s factory white - correction settings ( which were found lacking and had to be altered by a user before the white edges from buildings etc could be cleaned out ) , the g3 has much sharper white offsets .in english , this means that even straight out of the box , you ' ll be amazed at the pics you end up taking .9 . in dim lit environs the g2 could easily outperform any other camera , and thankfully g3 maintains this rep .personally i believe it even outperforms the g2 in terms of less haze and astonishingly real colors .overall , the g3 delivers what must be considered the best image quality of any current > 4 megapixel digicams , from a detail , tonal balance and color response point of view .there ' s really very little about g3 images to criticize .short of the eos range from canon or the d100s from nikon ( both slrs ) .this is quite simply the best you can ask for .\n",
      "\n",
      "Summary --> \n",
      "Len of review : 536 words.\n",
      "\n",
      "Title --> love the g2 :\n",
      "\n",
      "i love my g2 so thought i would upgrade .big mistake .the g3 had problems focusing in low light and would not take the picture when the shutter was pressed but after the shutter had been released a few seconds .got way too many blurry pictures .i have returned the g3 ( actually i tried two of them ) and have my g2 !\n",
      "\n",
      "Summary --> \n",
      "Len of review : 64 words.\n",
      "\n",
      "Title --> awesome pro-sumer camera :\n",
      "\n",
      "when shopping for digital cameras i looked at the nikon cp5700 , olympus c5050 , nikon cp5000 , and the canon g3 .yes , all cameras except g3 were 5mp but i was looking for a lot more than just megapixel power .not only was i was shopping for a camera that would suit my casual and artistic photographic needs , i had to keep in mind that my fiance wanted to use this camera as well .her main focus was having a camera that is easy to understand and use .the nikon ' s are great cameras .+ they have great optics ( cp5700 has great optical zoom ) and features , not to mention take great pictures .- the drawbacks were that they were not user friendly for the casual photographer , the lcd screen is a little too small , cp5000 does not take photos in raw format .olympus c5050 is a very solid camera with a metal body .+ takes sharp 5mp photo ' s , has great features and relatively easy to use .- i did n ' t care much for the tilting lcd screen , it seemed very limited and not very usefull .photos had some artifacts and noise .my fiance just did n ' t like the way it felt in her hands .we also looked at the fuji fps602 .nice camera but does n ' t take as sharp as pictures i thought they would , and again .fiance did n ' t like the feel .the canon g3 .4mp , 4x optical zoom , takes absolutely beautiful photos with detail that challenges all of the above 5mp cameras , easy to understand and use ( has a great swivel lcd screen ) , a lot of features and add - on options , comes with great software ( not to be overlooked ) , and last but by far not least , received my fiance ' s stamp of approval ( two thumbs up ! )a lot of research went into digital camera ' s before i made this purchase , and hands down , the g3 had everything i needed plus more .the other cameras were great and i ' m sure many people will beg to differ from my observations , but to each his / her own .i have no buyers remorse with this baby , and i never will .always remember , cameras do n ' t take great pictures , people do !\n",
      "\n",
      "Summary --> \n",
      "Len of review : 418 words.\n",
      "\n",
      "Title --> upgraded from g2 and not looking back :\n",
      "\n",
      "the powershot g3 is a great camera .why ?because it can help a so - so photographer take spectacular photos !4 megapixels is plenty for all but pros , and you will not be disappointed with the results of this camera .it ' s slightly lighter than the g2 and packed with even more features .make sure you get a big compactflash card ( it comes with a 32mb ) -- the 512mb cards are pretty [ inexpensive ] here on amazon . com and can hold about 500 photos at a time !\n",
      "\n",
      "Summary --> \n",
      "Len of review : 94 words.\n",
      "\n",
      "Title --> the catch :\n",
      "\n",
      "the catch with the canon g3 camera , ( and perhaps all of digital cameras ) is that its unresponsiveness will cause you to miss precious shots .prior to the purchase , none of my digital camera friends mentioned the delay between pressing the shutter button and the camera taking the picture .no one told me , but i wanted to tell you .this is not the same thing as a film camera .and while it is cool and fun and has no film processing costs .they have n ' t got all the bugs worked out just yet .most of the time , my g3 is a well - behaved camera .but once in a while , i run up against it ' s major flaw :it sometimes takes the picture at some indefinite period of time after you press the shutter button .i am not talking milliseconds .picture this :your child is going to do a cannonball off the diving board , so you compose the shot and wait for your moment .when it arrives , you press the shutter release .splash !the moment passes , and then your new g3 camera takes the shot .perhaps there is a way around this delay .some feature i could turn on or off , or some attachment i could get .yes , i push the button down halfway first to avoid the autofocus delay .yes , i have red - eye off , and yes , i ' ve tried adding a flash .but after trying many adjustments , the camera remains unresponsive when compared to any film - based camera .i own another canon - an eos ( 35mm film ) camera .it focuses in a snap .dim or bright , it would never take a picture after the birthday candles had blown out , after the tae kwon do kick broke the board .canon ' s g3 does it consistently .it feels slow to focus , and unbearably slow to shoot .i challenge anyone ( who is not in direct sun at the beach at noon ) to say it is fast and responsive .and so i must ask , what are cameras for ?what task do they perform ?cameras capture moments .they stop time .because once the moment is gone , it is not coming back .the dive , the kick , the blow - out - the - candles moments are , to me , the reason for cameras .a 35mm film camera captures the moments you want , while these digital cameras ( my friends now inform me ) all seem to capture the moment immediately following the one you asked to capture .not all the time , but often enough to be a real problem .like i said , when the moment is gone , it is gone .so buy the g3 .buy it for fun , for lack of processing , because you want to use iphoto , or whatever .but do not assume , as i did , that the g3 has the same ability as [ your current film camera ] to stop the moment you choose .from a dime store disposable to a top of the line eos , all film cameras share this ability to capture the moment you tell them to .unfortunately , this digital moment - capturing device called the g3 sometimes captures the moment after the one you wanted .\n",
      "\n",
      "Summary --> \n",
      "Len of review : 574 words.\n",
      "\n",
      "Title --> 100 % happy :\n",
      "\n",
      "this is my first digital camera and i could n ' t be happier .i have but plan on selling my rebel ti and all of the equipment with it .i love the quality of the pictures .they look fantastic .i can take better pictures with this then my rebel ti with a good lens .it ' s just easier for me since i can make on the fly adjustments .\n",
      "\n",
      "Summary --> \n",
      "Len of review : 71 words.\n",
      "\n",
      "Title --> the best 4mp out there :\n",
      "\n",
      "the canon g3 is perhaps the best 4mp camera out there .i ' ve tried the sony s85 with the carl zeiss lens , but the pictures were too digital .with canon , you get pictures that appear to be photos , not still camcorder shots .i love the eos based controls and easy menus .i do n ' t need to go into exhustive review of this camera .many before me have done that already .i agree with the positive reviews .but there are two things i do n ' t like about the camera that were not mentioned in any previous reviews .1 ) the included lens cap is very loose on the camera .though the instruction booklet says that the camera should display \" lens \" when the cap and the camera are both on , the camera lens extends out and simply takes the lens cap off by itself .i ' m concerned that with the easily removed lens cap , i may damage the lens .very cheaply made .2 ) the body construction - buttons , casing , etc , are too plastic .the g2 was better in this respect .it had a heavier and more sturdy casing .despite these grieps , i still recommend the camera .\n",
      "\n",
      "Summary --> \n",
      "Len of review : 213 words.\n",
      "\n",
      "Title --> love it more and more :\n",
      "\n",
      "i used a canon powershot s20 for about 2 . 5 years and loved it !there were a few flaws that i learned to deal with and took thousands of pictures around the world , losing a few that i really regretted .i finally decided to upgrade , and started my research .canon was an obvious choice , but i did not want to limit my decision , so started researching all brands that would take my microdrives .i researched , held , tested , and observed 3 different brands .needless to say , the canon won , hands down .this camera performs like i can not believe !i bought it for my trip to beunos aires , and also used it at the iguazu falls , and could not have asked for more perfect performance !it was too new to have learned much about the advanced features , so i generally used the auto mode .this camera is worth every penny , and i highly recommend it !another point of note : the battery life is incredible !i did not have a backup battery , and had no need for one .i did have ability to charge it every night , so do n ' t know how long it would have actually gone before dying .this camera will stay with me for years !\n",
      "\n",
      "Summary --> \n",
      "Len of review : 226 words.\n",
      "\n",
      "Title --> the last digital camera i 'll buy :\n",
      "\n",
      "i ' ve been looking to buy a digital camera for a long time and v = finally decided that now was the time .after a lot of research , i decided on the g3 .am i ever glad that i decided on this camera !i ' ve only had it a week , but so far , everything about this camera is making me happy .forget the fact that it ' ll probably take me a year to figure out all the features this camera has to offer .i ' ve been able to change modes on this thing without even looking at the manual .very intuitive menus are a big plus on this camera .i charged it up the day i got it , took a bunch of pictures and i do n ' t think the battery indicator has budged from fully charged .the standard battery include with the g3 is a camcorder battery that will allow me to take pictures all day without worrying about charging .i was worried about this after seeing a friend change batteries on his olympus after about 20 - 30 pictures .the optical zoom is awesome , and the viewfinder reflects the settings of the zoom .one little minor flaw with this camera is that the lens is visible in the viewfinder , but does not detract from the image at all .as i said , this is the last digital camera i ' ll buy , and if you are in the market one , my advice is to buy the best thing you can afford and keep it forever .these things may get a lot better in the future , but from what i ' ve seen in the last few years , the technology for digital cameras is n ' t advancing at the pace of pc ' s , phones and hard drives .the best 4 megapixel / 4x optical zoom camera available and fairly easy to use .highly recommended .for more info on digital cameras , go to dpreviews .\n",
      "\n",
      "Summary --> \n",
      "Len of review : 344 words.\n",
      "\n",
      "Title --> boxy ? no -- gorgeous :\n",
      "\n",
      "you can read the other reviews for specs and performance opinions .i was perfectly happy with my g2 , so why did i trade up to the g3 ?because this camera is beautiful .the g2 was slightly curvy with a champagne finish -- very homely .the g3 looks like a work of art !its silver magnesium finish is stunning , and the sharp lines and excellent grip are better than any other camera i ' ve seen .the little digital elphs were the best - designed , most - elegant cameras until the g3 came along and squashed them .\n",
      "\n",
      "Summary --> \n",
      "Len of review : 100 words.\n",
      "\n",
      "Title --> very good choice in it 's price range :\n",
      "\n",
      "this is my first digital camera .i am very pleased with it so far .i wanted something that is able to take high quality photos but not be so bulky that i would wind up leaving it at home all the time .this seemed like a really good compromise .i compared it to the olympus c5050z , the sony dcs - f 717 and the nikon 5700 .based on the cameras features and about dozen online reviews , this one seemed like the best all round deal .it is not perfect though .here are the shortcomings i have noticed so far :it would have been a much easier choice if this were 5mp camera .you can see the lens barrel in the view - finder .( i knew this before hand , and it is not that bad ) there is no tiff format .that would be a nice compromise between jpeg and raw .to save a picture as raw , you have to have the display on , this seems like a waste of battery power .it seems to me that after the focus and metering are complete there is quite a lag before the shutter ?trips .( again this is my first digital camera and maybe that is just how they all are . )for those of you using a mac in os x + there is no twain utility to download your pics directly into photoshop .it is very simple to import via iphoto 2 and then move them to photoshop .i have not spent much time with the included software , so i don ' t know what to say about it other than it seems ok .i am quite happy with the camera .it comes with a clearly written manual and the learning curve is not too too steep .yes , i recommend it over the competition .\n",
      "\n",
      "Summary --> \n",
      "Len of review : 313 words.\n",
      "\n",
      "Title --> best of the best :\n",
      "\n",
      "best camera ever . from the image quality , color , function , i can say almost everything .this camera has a cool stitch pictures feature , to find out more just log on to canon ' s website .i had an olympus digital camera before and it was nothing compared to this .for those of you who already bought this camera , i suggest you buy a hi - ti dye - sub photo printer .\n",
      "\n",
      "Summary --> \n",
      "Len of review : 77 words.\n",
      "\n",
      "Title --> you 'll take more pics :\n",
      "\n",
      "i do n ' t write many reviews but i ' m compelled to do so with this camera .first and foremost , it will take better pic ' s than most film camera ' s .save them on computer and print out just the ones who want .duplicates are a no brainer and cheap .no more wasted time and money developing rolls of pic ' s for just a couple of keepers .crop and enlarge the best at practically no extra cost or time .the technology is finally here folks , to make your photo life easier .a great new use for that underutilized computer .a digital camera will stay at home if its a hassle to use .poor quality pics , short battery life , slow time consuming uploads and printing will ruin the digital camera experience and keep you buying film .this camera has none of these flaws and will be something you ' ll use all the time .my wife shuns all new technology and compained when i brought this home , but now she ' s forever asking for the digital camera .and i let my kids shoot as many pics as they want , let them review them on the camera and just print the good ones ( which are not many ) .get the canon 850 printer and an ex flash .in short , i have a new slr with an expensive lens and several film point and shoots .i have n ' t used any of them since i got the g3 .unless your a professional , now you will need only one camera . this one .\n",
      "\n",
      "Summary --> \n",
      "Len of review : 276 words.\n",
      "\n",
      "Title --> excellent camera :\n",
      "\n",
      "i spent a lot of time comparing different cameras , and i realized that there is not such thing as the best digital camera .you can always spend more money to get a better one .however , for a $ 600 - $ 800 budget , i think this camera is an excellent choice .it has a beautiful design , lots of features , very easy to use , very configurable and customizable , and the battery duration is amazing !also , the display is \" hinged \" and it can be placed in a myriad of positions , or to protect it against any damage .excellent idea !one bad thing is that it comes with a pitiful 32mb compactflash card , and for most purposes , it is not enough .however , it seems that this is the general rule for most digital cameras .another good thing is that this camera seems to introduce much less noise in dark places than others i ' ve seen .\n",
      "\n",
      "Summary --> \n",
      "Len of review : 168 words.\n",
      "\n",
      "Title --> cannon :\n",
      "\n",
      "i have owned this camera for a short time and would n ' t give it up for anything .it surpasses my greatest expectations in a 4mp camera ..\n",
      "\n",
      "Summary --> \n",
      "Len of review : 29 words.\n",
      "\n",
      "Title --> powerful product :\n",
      "\n",
      "bought this product about a month ago and have used it in a variety of situations .in general it is easy to use and well laid out .for `` cool factor '' buffs it looks and feels like a small plastic brick brick and does n ' t have any wow factor .it makes up for this by being extremely easy to use with well laid out controls that can be learned quickly .the g3 has most if not all of the features that you would want from a semi - pro / pro slr with a good range of manual options for those who know something about photography .in the hands of someone who does n ' t , it will yield good results on idiot program / auto mode .my wife , who has never used a camera before , picked it up and soon got the hang of the fact that if you do n ' t like what you have created you just delete and try again .the photos she took are better than the results i got from my nikon slr and range of lenses !this is a big plus for those who a shifting to digital and the g3 ' s large mobile screen helps with this .negative points :the included memory card is too small .go out and get a 256meg card , it ' s worth the expense .it is made of plastic .for those who are used to brass cameras that can be dropped , picking up a camera like the g3 is an unnerving experience .this is by no means unique to this model , i ' m sure .the zoom lens unit feels fragile and it is worth buying a good camera bag if you are going put to carry it round a lot .this is not a handbag camera .while light , it will not easily go in small handbags or pockets .the function lever - the one which switches between capture and view mode feels fragile .flash - as with all built - in flashes in small cameras , you get overilluminated main subjects with depth being lost .the g3 has a shoe which will take other powerful ( and expensive ) canon flashes that will allow bounce and reflected flash photography .the strap is horrible and gets in the way of parts of the camera you need access to .if you can afford this camera , you can afford to get a better strap elsewhere - a very minor quibble .good points :the functionality on this camera is mind - blowing .canon have packed a lot in here and the options and controls are easy to use and logically laid out .learning how to use it will not take very long .the image quality is excellent .messing around with images in photoshop ( a supplied software package ) and printing them on a good printer , yielded excellent results .unless you are making posters , a g3 is more than good enough .range of functions - as indicated above - it has something for everyone : point and shoot power plus advanced functions for those who are serious about photography .please note that this is the first digital camera i have owned or used .a lot of my opinions are more relevant for those who are switching from film .i did extensive research before chosing the g3 but there ' s nothing like picking one up and playing with it first .\n",
      "\n",
      "Summary --> \n",
      "Len of review : 586 words.\n",
      "\n",
      "Title --> best camera i 've used :\n",
      "\n",
      "this is by far the finest camera in its price and category i have ever used .it is also one of the few electronic items that works right out of the box .the macro works great for medical photographs and the auto mode is terrific for point and shoot .\n",
      "\n",
      "Summary --> \n",
      "Len of review : 50 words.\n",
      "\n",
      "Title --> this camera is closest to perfect than any otherdigicam :\n",
      "\n",
      "this camera is closest to perfect than any other digicam that is 4 - 5 megapixel .beats that sony f717 ; its archrival .i ' m glad canon decided to keep the 4mp resolution and improved upon it with new technology ;i can ' t fit all that resolution ( 4mp = 2272x 1704 resol . ) in my 19in flat monitor ( 1200x1024 resol . ) anyways .please go to read dpreview . com and you ' ll get the complete story .my story is based on personal usage .yes there is a corner lens barrel distortion ( i do n ' t like it too but no harm done since i always use the camea lcd screen to see exactly what i ' m going to get ) in the viewfinder when you do n ' t zoom ( when you zoom the lens distortion goes away ) , canon knows this and engineered it that way to minimize the parallax phenomenon ; that is what lmost exactly ot the picture .moving the viewfinder elsewhere on the camera will remove the lens distortion but increase the parallax phenomenon .the distortion is not a flaw .as with taking digital pictures , i notice other people including myself have errors on their compactflash which results in certain shots being partially taken or lost - this is an issue that seems to effect compactflash and other digicam brand .i ' ve have n ' t heard about a diagnos or fix for this .in terms of the shots taken , this camera is insanely great !the pictures are fabulous and their is a ( short ) learning curve to it ; there are tons of features i have n ' t even gotten to .in terms of the important accessories , i got myself an the extra litium battery .based on my used , 1 full charge was enough for at least 255 shots .i also got myself a 512mb viking compact flash ( enough for 255 shots at full 4mp resolution and max picture quality ) and a used $ 250 3lb subnotebook with usb connection and tons of hard drive space for long trips so i can verify what i ' ve taken and that subnotebook also saves me from having to buy extra compactflash .the compact flash is delicate and i hate to swap it in fear on the connetions ( camera and cf ) bending ( can lead to cf erros ) or losing it .anyways , canon has improved upon the g2 with this g3 .it ' s a winner .i ' ve been pleased with the picture quality and durability in snow , car , boat and wind .my only suggestion is to get a lens protector to help protect the shooting lens ( the lens coating will wear out after so many clean wipes ) and i ' m getting the those ( 52 mm adapter and uv lens filter ) at lensmateonline . com .they got the best lens adapter for the g3 - better than canon ' s .that ' s what i did and hopes this helps .\n",
      "\n",
      "Summary --> \n",
      "Len of review : 527 words.\n",
      "\n",
      "Title --> canon g3 review / response / recommendation :\n",
      "\n",
      "the camera ' s a work of art / science -- that ' s understood .it takes great pictures , operates quickly , and feels solid .to address two previous somewhat negative reviews : ( 1 ) yes , the lens barrel does obstruct part of the lower left corner in the lens viewfinder ; however , the lcd viewfinder is rather stunning and i find myself rarely using the lens viewfinder .( 2 ) there are , actually , several differences between the g2 and g3 , such as differences in continuous shooting , the optical lens , the control layout , playback zoom , image processing , and so on .\n",
      "\n",
      "Summary --> \n",
      "Len of review : 113 words.\n",
      "\n",
      "Title --> beware :\n",
      "\n",
      "you see , i can ' t rank the product since the merchant that amazon is collaborating with ( j and r camera . ) to bring us consumers better choices never sent me the product .although you may think you ' re dealing with amazon , you ' re dealing with some second rate store that you ' ve never heard of .after charging my card for the camera and for expedited shipping , 5 business days later , they still had n ' t shipped the product .i called them twice and both times they said it is \" about to ship \" .one of the calls was on a saturday and when i pressed the guy a bit , he said , \" actually we do n ' t ship on saturdays \" .so why lie about it ?so i finally gave them a deadline which they said they could meet .although they accepted that they will ship on mon - 6 jan , they still did n ' t ship it .they said it is in stock , but they are \" too busy \" .they were n ' t busy enough to charge the credit card , though !although i tried contacting amazon to see if they can do anything , the replies i got were inept as if they had n ' t taken time to read the complaint .i cancelled the order .hope to get my refund in a timely manner .thanks for nothing , amazon !\n",
      "\n",
      "Summary --> \n",
      "Len of review : 254 words.\n",
      "\n",
      "Title --> major design flaw :\n",
      "\n",
      "this camera has a major design flaw .when you look through the viewfinder ( not the lcd ) the bottom left corner of the picture ( about 15 % ) is blocked by the lens .i called the canon technical service center to see if i had a defective camera .after about a minute of trying to tell me that most people use the lcd and not the view finder , they finally admitted , it was a design flaw in the camera .everything else about the camera is great .if you strictly use the lcd and not the view finder , i highly recommend the camera .however for me , i occasionally use the view finder and trying to frame in a picture with the lens blocking the view is too much .i ' m sending mine back and am waiting for the problem to be corrected .\n",
      "\n",
      "Summary --> \n",
      "Len of review : 149 words.\n",
      "\n",
      "Title --> i love it more the longer i own it :\n",
      "\n",
      "i ' ve been using a powershot s330 for nearly a year , and wanted to upgrade to a 4 or 5 megapixel camera with a longer zoom , more adjustability , a hot shoe for an external flash , and a remote control .i looked at both the nikon coolpix 5700 and the canon g3 , and decided on the g3 due both to ergonomics ( much more comfortable to hold and use ) and the price .i ' ve had the camera for about two weeks and shot hundreds of pictures so far .and so far , i ' ve been very pleased .there ' s a noticeable difference in the quality of a 4 megapixel image versus the 2 megapixels of the s330 , especially if you want to crop and enlarge the pictures .the larger lens of the g3 gives better picture quality in low light , and the 4 - times optical zooms gets you just that much closer .the moveable lcd screen is great .you can take pictures with the camera held above your head , way down , or beside you with no problem , allowing you to position the camera for the best shot without contorting yourself .the tiny ( postage - stamp sized ) remote unit is wonderful : not only does it trigger the shutter , it can also be used to zoom and review pictures .i also purchased a good sturdy tripod : the combination of the new camera , tripod and remote control enabled me to take some remarkable indoor , natural - light portraits i never would have attempted before .the hot shoe flash attachment allowed me to buy and use a sophisticated flash unit :i chose the canon speedlite 420 .this has made the greatest difference in the quality of my photographs : the built - in flash on any of these cameras gives you flat photos , red - eye , and annoying shadows ; a good add - on flash unit can be bounced off the ceiling or wall for pleasing , almost - natural lighting .i needed three batteries to keep myself going with the s330 , but the battery in the g3 is a real powerhouse :i shot over 300 photos at my goddaughter ' s birthday party without switching out to my backup battery .the g3 has a different type of battery charging system from the smaller canon cameras : the battery needs to be charged while in the camera , but the charging system also enables you to use the camera while plugged in without running down the battery .i have yet to try using all of the adjustment options : shutter priority , aperature priority , light metering adjustments , etc . , but all controls are well thought out and and the manual is relatively clear .you can use this camera right out of the box on the automatic setting , or slowly get comfortable with the manual settings and what they can do .negatives ?i ' ve been bothered by blown - out highlights on the s330 , and the g3 seems to do only slightly better .( i ' m starting to think that this may just be one of the weaknesses of all digital photography at this level . )the on - off button feels somewhat flimsy , and has an awkward , tiny little lock - out button that needs to be depressed to turn on the camera .and the body / construction in general has quite a bit of plastic , a disappointment after the stainless steel heft of the s330 .i bought a 512 mb card , which seems to hold about 400 photos at the highest resolution .i was worried that 4 megapixel photos would download more slowly , but there ' s no difference in working with the files .i have a 120 gb remote drive i use to store my digital images :i can imagine that they ' d fill up my ibook ' s internal memory pretty quickly .at the same time i purchased this camera i also bought adobe ' s photoshop elments 2 . 0 software , and can ' t praise it highly enough .if you ' re investing in a camera at this level , buy this software !and as i said in my review of the s330 , all of these digital cameras are easier to use with apple computers .the bottom line : if you ' re serious about your digital photography , or been bitten with the bug after using a digital point - and - shoot , this may be just the camera for you .but make sure to buy a tripod and separate flash unit at the same time : you ' ll see the difference in your photos immediately .added 2 - 24 .i ' ve now had the camera for two months and i ' m even more pleased with it .i wound up buying a gray card and use it all the time with the custom white - balance setting .it helps avoid the problem of a color cast on the pictures , especially in mixed - light settings .if you do n ' t have a gray card , you can use a plain white piece of paper .i also discovered the exposure - bracket setting , which enables you to take three exposures with one press of the shutter : the first at the camera - determined exposure , then one lighter and one darker .especially useful with portraits and difficult - to - meter situations .i did buy the telephoto lens ( and the required extension ) .very easy to use .i ' ll probably also get the wide - angle now , too .very comfortable camera , easy to use , and the best digital photos you ' re going to get at this price .\n",
      "\n",
      "Summary --> \n",
      "Len of review : 994 words.\n",
      "\n",
      "Title --> best non-slr digital camera under 5 megapixels :\n",
      "\n",
      "i ' ve been using the g3 for about six weeks and it has proven itself to be all that it ' s advertised .after doing a hands - on comparison between the nikon coolpix 5700 and sony dsc - f 717 ( both of which lack the quality , feel , or features of the g3 ) , i ultimately chose the g3 because of its outstanding image quality ( resolution and coloration are superior ) .it beats the competition in almost every area including battery life , enthusiast features , external flash capabilities , available storage types , image formats , and more .this is a camera you will need to study and use in order to fully exploit its many features .it can be a point - and - shoot camera , but if you do not intend to \" get into \" it ' s finer features , i ' d suggest a less enthusiast featured choice .all - in - all , i believe this is arguably the best non - slr digital camera on the market .\n",
      "\n",
      "Summary --> \n",
      "Len of review : 183 words.\n",
      "\n",
      "Title --> the best so far :\n",
      "\n",
      "the canon g3 improves in almost all ways on the g1 and g2 before it , and in fact beats the nikon coolpix 5000 in performance ( picture quality and battery life ) -- which is amazing because the 5000 is a 5 megapixel camera and the canon is a 4 megapixel camera .canon ' s optics are better and i believe their processing algorithms are also better .simply , the canon g3 is the best digital camera out there today at this price point .the canon allows you to change lenses , and it accepts the ibm microdrive ( type ii compact flash ) , so you can have up to 1 gigabyte of storage .for me on the fine resolution setting ( not maximum but very close ) this adds up to over 1000 images with the 1 gig card .the battery life of this camera is twice that of the nikon 5000 and is better than anything else i ' ve seen .the only minor nits i have with the camera are it is fairly boxy looking , it needs a wrist strap instead of a neck strap , and it is a bit slow between shots .even with these shortcomings , i still think it is the best digital camera available under $ 1200 .\n",
      "\n",
      "Summary --> \n",
      "Len of review : 219 words.\n",
      "\n",
      "Title --> great camera but g2 will do the same for less :\n",
      "\n",
      "definetely a great camera .proven canon built quality and lens .feels solid in hand .rather heavy for point and shoot but a great camera for semi pros .\n",
      "\n",
      "Summary --> \n",
      "Len of review : 28 words.\n",
      "\n"
     ]
    }
   ],
   "source": [
    "print(\"Complete Review Texts\".center(150))\n",
    "i = 1\n",
    "for rev in review_texts:\n",
    "    print(f\"Title --> {review_titles[f'rev_{i}']} :\\n\\n{rev}\\n\")\n",
    "    print(f\"Summary --> \\nLen of review : {len(rev.split())} words.\\n\")\n",
    "    i += 1"
   ]
  },
  {
   "cell_type": "markdown",
   "id": "af4666a0-c292-44e5-a3a7-5fc71ca529aa",
   "metadata": {},
   "source": [
    "[top](#t0)"
   ]
  },
  {
   "cell_type": "markdown",
   "id": "62cb4ecc-b1bd-428d-b593-f6b702c042ae",
   "metadata": {},
   "source": [
    "<a id = '4.2'>\n",
    "<font size = 6 color = pwdrblue>  <b>Detailed exploration"
   ]
  },
  {
   "cell_type": "markdown",
   "id": "70880d65-7881-4dfd-8c80-f39a600eec7a",
   "metadata": {
    "id": "70880d65-7881-4dfd-8c80-f39a600eec7a",
    "tags": []
   },
   "source": [
    "<font size = 5 color = seagreen>  <b>Words per review"
   ]
  },
  {
   "cell_type": "code",
   "execution_count": 16,
   "id": "185a00ff-8f2b-43c0-a84a-07064cd4586f",
   "metadata": {
    "id": "185a00ff-8f2b-43c0-a84a-07064cd4586f",
    "tags": []
   },
   "outputs": [],
   "source": [
    "words_per_review = [len(rev) for rev in review_texts]"
   ]
  },
  {
   "cell_type": "code",
   "execution_count": 17,
   "id": "9e536500-7657-481f-99c7-c0d6fa59d12e",
   "metadata": {
    "colab": {
     "base_uri": "https://localhost:8080/"
    },
    "executionInfo": {
     "elapsed": 685,
     "status": "ok",
     "timestamp": 1701922895262,
     "user": {
      "displayName": "Shubham Pandey",
      "userId": "10645658922718505789"
     },
     "user_tz": -330
    },
    "id": "9e536500-7657-481f-99c7-c0d6fa59d12e",
    "outputId": "4d68e94e-df6a-4535-9241-ea72794323a0",
    "tags": []
   },
   "outputs": [
    {
     "name": "stdout",
     "output_type": "stream",
     "text": [
      "Largest review: 5568\n",
      "Smallest review: 73\n",
      "Average words per review: 1255\n"
     ]
    }
   ],
   "source": [
    "print(f\"Largest review: {max(words_per_review)}\")\n",
    "print(f\"Smallest review: {min(words_per_review)}\")\n",
    "print(f\"Average words per review: {sum(words_per_review)/ len(words_per_review):.0f}\")"
   ]
  },
  {
   "cell_type": "markdown",
   "id": "7c72d5e7-3f90-4517-a7b0-ad8e0379f6f3",
   "metadata": {
    "id": "7c72d5e7-3f90-4517-a7b0-ad8e0379f6f3",
    "tags": []
   },
   "source": [
    "<font size = 5 color = seagreen>  <b>Average sentence length analysis"
   ]
  },
  {
   "cell_type": "code",
   "execution_count": 18,
   "id": "074f64ad-0df3-422c-8b06-1ad1d8e30b54",
   "metadata": {
    "id": "074f64ad-0df3-422c-8b06-1ad1d8e30b54",
    "tags": []
   },
   "outputs": [],
   "source": [
    "sent_length = [len(rev) for rev in review_sentences]"
   ]
  },
  {
   "cell_type": "code",
   "execution_count": 19,
   "id": "ba3fcd06-88bf-4419-a9d9-f4cf5b4e0728",
   "metadata": {
    "colab": {
     "base_uri": "https://localhost:8080/"
    },
    "executionInfo": {
     "elapsed": 5,
     "status": "ok",
     "timestamp": 1701922895262,
     "user": {
      "displayName": "Shubham Pandey",
      "userId": "10645658922718505789"
     },
     "user_tz": -330
    },
    "id": "ba3fcd06-88bf-4419-a9d9-f4cf5b4e0728",
    "outputId": "9dda6b87-cc32-4faf-fb9f-b807d2f4c6cc",
    "tags": []
   },
   "outputs": [
    {
     "name": "stdout",
     "output_type": "stream",
     "text": [
      "Largest sentence: 84\n",
      "Smallest sentence: 1\n",
      "Average sentence length: 20\n"
     ]
    }
   ],
   "source": [
    "print(f\"Largest sentence: {max(sent_length)}\")\n",
    "print(f\"Smallest sentence: {min(sent_length)}\")\n",
    "print(f\"Average sentence length: {sum(sent_length)/ len(sent_length):.0f}\")"
   ]
  },
  {
   "cell_type": "markdown",
   "id": "9e199cd9-6db7-4856-a8ff-77ec3dc7aee3",
   "metadata": {
    "id": "f9cccab1-0653-4495-bae2-509174d1c0b3",
    "tags": []
   },
   "source": [
    "<font size = 5 color = seagreen>  <b>Review title analysis"
   ]
  },
  {
   "cell_type": "markdown",
   "id": "68b00c20-3311-4f74-9770-29312fadc1db",
   "metadata": {
    "id": "f9cccab1-0653-4495-bae2-509174d1c0b3",
    "tags": []
   },
   "source": [
    "<div class=\"alert alert-block alert-success\">\n",
    "<font size = 4> \n",
    "    \n",
    "- Explore the review titles to understand the sentiments.\n",
    "- For this we need to extract the titles using the review object.\n",
    "- This we ave done earlier."
   ]
  },
  {
   "cell_type": "code",
   "execution_count": 20,
   "id": "f8b514b1-0d00-4775-b6a0-447d9c1051f2",
   "metadata": {
    "id": "f8b514b1-0d00-4775-b6a0-447d9c1051f2",
    "tags": []
   },
   "outputs": [],
   "source": [
    "titles = ' '.join(list(review_titles.values()))"
   ]
  },
  {
   "cell_type": "code",
   "execution_count": 21,
   "id": "f6fc596b-9e19-4631-b093-1f9dae3db263",
   "metadata": {
    "id": "f6fc596b-9e19-4631-b093-1f9dae3db263",
    "tags": []
   },
   "outputs": [],
   "source": [
    "# tokenization\n",
    "tokens = nltk.word_tokenize(titles)"
   ]
  },
  {
   "cell_type": "markdown",
   "id": "0e3227ab-a0cb-4788-b663-16071d13a926",
   "metadata": {},
   "source": [
    "[top](#e0)"
   ]
  },
  {
   "cell_type": "markdown",
   "id": "957bc682-dc0f-4456-9766-9578793c8fcc",
   "metadata": {
    "id": "62477144-5283-4262-a339-c30d24f28d87"
   },
   "source": [
    "<a id = '4.3'>\n",
    "<font size = 6 color = pwdrblue>  <b>Word frequency distribution"
   ]
  },
  {
   "cell_type": "markdown",
   "id": "b736cc51-f374-4975-8881-bc0ae82f3c0f",
   "metadata": {
    "id": "62477144-5283-4262-a339-c30d24f28d87"
   },
   "source": [
    "<div class=\"alert alert-block alert-success\">\n",
    "<font size = 4> \n",
    "    \n",
    "- Analyze the word frequency using the _**Freq_dist**_ function of nltk.\n",
    "- This accounts for frequency of each word in the text being analyzed.\n",
    "- Create a dataframe for ease of analysis."
   ]
  },
  {
   "cell_type": "code",
   "execution_count": 22,
   "id": "21a55e92-f123-427f-bc0d-472ed8179f0e",
   "metadata": {
    "colab": {
     "base_uri": "https://localhost:8080/"
    },
    "executionInfo": {
     "elapsed": 4,
     "status": "ok",
     "timestamp": 1701922895262,
     "user": {
      "displayName": "Shubham Pandey",
      "userId": "10645658922718505789"
     },
     "user_tz": -330
    },
    "id": "21a55e92-f123-427f-bc0d-472ed8179f0e",
    "outputId": "4c66138f-5a5c-4709-8b3c-034fbc5165ef",
    "tags": []
   },
   "outputs": [
    {
     "data": {
      "text/plain": [
       "np.int64(213)"
      ]
     },
     "execution_count": 22,
     "metadata": {},
     "output_type": "execute_result"
    }
   ],
   "source": [
    "freq_dist = pd.DataFrame({\"words\" : nltk.FreqDist(tokens).keys(), \"freq\" : nltk.FreqDist(tokens).values()})\n",
    "freq_dist.sort_values('freq',ascending=False, inplace = True, ignore_index=True)\n",
    "freq_dist.freq.sum()"
   ]
  },
  {
   "cell_type": "markdown",
   "id": "24047bf3-ae1c-418d-afbb-753b5d9c9faa",
   "metadata": {
    "id": "24047bf3-ae1c-418d-afbb-753b5d9c9faa"
   },
   "source": [
    "<font size = 5 color = seagreen> **Stopword analysis**\n",
    "\n",
    "<div class=\"alert alert-block alert-success\">\n",
    "<font size = 4> \n",
    "    \n",
    "**Clean the data further to remove the frequently occurring stopwords.**"
   ]
  },
  {
   "cell_type": "code",
   "execution_count": 23,
   "id": "1d207667-d198-4745-bfc4-8e3fc4b0766f",
   "metadata": {
    "id": "1d207667-d198-4745-bfc4-8e3fc4b0766f",
    "tags": []
   },
   "outputs": [],
   "source": [
    "stp_words = nltk.corpus.stopwords.words('english')"
   ]
  },
  {
   "cell_type": "code",
   "execution_count": 24,
   "id": "d2de4e01-3970-4152-876f-852a33878af7",
   "metadata": {
    "colab": {
     "base_uri": "https://localhost:8080/",
     "height": 363
    },
    "executionInfo": {
     "elapsed": 593,
     "status": "ok",
     "timestamp": 1701922968796,
     "user": {
      "displayName": "Shubham Pandey",
      "userId": "10645658922718505789"
     },
     "user_tz": -330
    },
    "id": "d2de4e01-3970-4152-876f-852a33878af7",
    "outputId": "bd436ba8-3a00-4c46-9788-bfb80e8abff8",
    "tags": []
   },
   "outputs": [
    {
     "data": {
      "text/html": [
       "<div>\n",
       "<style scoped>\n",
       "    .dataframe tbody tr th:only-of-type {\n",
       "        vertical-align: middle;\n",
       "    }\n",
       "\n",
       "    .dataframe tbody tr th {\n",
       "        vertical-align: top;\n",
       "    }\n",
       "\n",
       "    .dataframe thead th {\n",
       "        text-align: right;\n",
       "    }\n",
       "</style>\n",
       "<table border=\"1\" class=\"dataframe\">\n",
       "  <thead>\n",
       "    <tr style=\"text-align: right;\">\n",
       "      <th></th>\n",
       "      <th>words</th>\n",
       "      <th>freq</th>\n",
       "    </tr>\n",
       "  </thead>\n",
       "  <tbody>\n",
       "    <tr>\n",
       "      <th>0</th>\n",
       "      <td>the</td>\n",
       "      <td>11</td>\n",
       "    </tr>\n",
       "    <tr>\n",
       "      <th>1</th>\n",
       "      <td>it</td>\n",
       "      <td>5</td>\n",
       "    </tr>\n",
       "    <tr>\n",
       "      <th>2</th>\n",
       "      <td>i</td>\n",
       "      <td>5</td>\n",
       "    </tr>\n",
       "    <tr>\n",
       "      <th>3</th>\n",
       "      <td>more</td>\n",
       "      <td>4</td>\n",
       "    </tr>\n",
       "    <tr>\n",
       "      <th>4</th>\n",
       "      <td>to</td>\n",
       "      <td>3</td>\n",
       "    </tr>\n",
       "    <tr>\n",
       "      <th>5</th>\n",
       "      <td>of</td>\n",
       "      <td>3</td>\n",
       "    </tr>\n",
       "    <tr>\n",
       "      <th>6</th>\n",
       "      <td>for</td>\n",
       "      <td>3</td>\n",
       "    </tr>\n",
       "    <tr>\n",
       "      <th>7</th>\n",
       "      <td>but</td>\n",
       "      <td>3</td>\n",
       "    </tr>\n",
       "    <tr>\n",
       "      <th>8</th>\n",
       "      <td>a</td>\n",
       "      <td>2</td>\n",
       "    </tr>\n",
       "    <tr>\n",
       "      <th>9</th>\n",
       "      <td>and</td>\n",
       "      <td>2</td>\n",
       "    </tr>\n",
       "  </tbody>\n",
       "</table>\n",
       "</div>"
      ],
      "text/plain": [
       "  words  freq\n",
       "0   the    11\n",
       "1    it     5\n",
       "2     i     5\n",
       "3  more     4\n",
       "4    to     3\n",
       "5    of     3\n",
       "6   for     3\n",
       "7   but     3\n",
       "8     a     2\n",
       "9   and     2"
      ]
     },
     "execution_count": 24,
     "metadata": {},
     "output_type": "execute_result"
    }
   ],
   "source": [
    "stp_wrd_freq_dist = freq_dist[freq_dist.words.isin(stp_words)].reset_index(drop = True)\n",
    "stp_wrd_freq_dist[:10]"
   ]
  },
  {
   "cell_type": "markdown",
   "id": "ac5fbc05-50cb-4a69-b9ef-a42ee8bbe6c0",
   "metadata": {
    "id": "ac5fbc05-50cb-4a69-b9ef-a42ee8bbe6c0",
    "tags": []
   },
   "source": [
    "<font size = 5 color = seagreen> <b>Use a bar chart to analyze the most frequent words in the text.\n",
    "    "
   ]
  },
  {
   "cell_type": "code",
   "execution_count": 25,
   "id": "37cd6135-28a4-46c6-bc1b-66c1ec56f628",
   "metadata": {
    "colab": {
     "base_uri": "https://localhost:8080/",
     "height": 383
    },
    "executionInfo": {
     "elapsed": 567,
     "status": "ok",
     "timestamp": 1701922969973,
     "user": {
      "displayName": "Shubham Pandey",
      "userId": "10645658922718505789"
     },
     "user_tz": -330
    },
    "id": "37cd6135-28a4-46c6-bc1b-66c1ec56f628",
    "outputId": "0be4990d-c3ef-4704-ebdb-9b9cba331bbd",
    "tags": []
   },
   "outputs": [
    {
     "data": {
      "image/png": "[encoded data removed]",
      "text/plain": [
       "<Figure size 2000x500 with 1 Axes>"
      ]
     },
     "metadata": {},
     "output_type": "display_data"
    }
   ],
   "source": [
    "plt.figure(figsize = (20,5))\n",
    "plt.bar(x = stp_wrd_freq_dist.words[:10], height=stp_wrd_freq_dist.freq[:10])\n",
    "for i in range(10):\n",
    "    plt.annotate(f\"{stp_wrd_freq_dist.freq[i]}\",xy = (i, stp_wrd_freq_dist.freq[i]+0.15) )\n",
    "plt.ylim(0,12)\n",
    "plt.show()"
   ]
  },
  {
   "cell_type": "markdown",
   "id": "98a44180-b73d-40be-bec7-62e0ff124066",
   "metadata": {
    "id": "98a44180-b73d-40be-bec7-62e0ff124066"
   },
   "source": [
    "<font size = 5 color = seagreen> <b>Perform a granular analysis exploring the top 20 words by frequency."
   ]
  },
  {
   "cell_type": "code",
   "execution_count": 26,
   "id": "f0962925-9670-4d9d-b179-8090681af1a7",
   "metadata": {
    "colab": {
     "base_uri": "https://localhost:8080/",
     "height": 424
    },
    "executionInfo": {
     "elapsed": 3,
     "status": "ok",
     "timestamp": 1701922970589,
     "user": {
      "displayName": "Shubham Pandey",
      "userId": "10645658922718505789"
     },
     "user_tz": -330
    },
    "id": "f0962925-9670-4d9d-b179-8090681af1a7",
    "outputId": "f14096b6-367f-41c6-a474-5d28b7ab3c2b",
    "tags": []
   },
   "outputs": [
    {
     "data": {
      "text/html": [
       "<div>\n",
       "<style scoped>\n",
       "    .dataframe tbody tr th:only-of-type {\n",
       "        vertical-align: middle;\n",
       "    }\n",
       "\n",
       "    .dataframe tbody tr th {\n",
       "        vertical-align: top;\n",
       "    }\n",
       "\n",
       "    .dataframe thead th {\n",
       "        text-align: right;\n",
       "    }\n",
       "</style>\n",
       "<table border=\"1\" class=\"dataframe\">\n",
       "  <thead>\n",
       "    <tr style=\"text-align: right;\">\n",
       "      <th></th>\n",
       "      <th>words</th>\n",
       "      <th>freq</th>\n",
       "    </tr>\n",
       "  </thead>\n",
       "  <tbody>\n",
       "    <tr>\n",
       "      <th>0</th>\n",
       "      <td>camera</td>\n",
       "      <td>14</td>\n",
       "    </tr>\n",
       "    <tr>\n",
       "      <th>1</th>\n",
       "      <td>best</td>\n",
       "      <td>7</td>\n",
       "    </tr>\n",
       "    <tr>\n",
       "      <th>2</th>\n",
       "      <td>digital</td>\n",
       "      <td>6</td>\n",
       "    </tr>\n",
       "    <tr>\n",
       "      <th>3</th>\n",
       "      <td>love</td>\n",
       "      <td>6</td>\n",
       "    </tr>\n",
       "    <tr>\n",
       "      <th>4</th>\n",
       "      <td>great</td>\n",
       "      <td>6</td>\n",
       "    </tr>\n",
       "    <tr>\n",
       "      <th>...</th>\n",
       "      <td>...</td>\n",
       "      <td>...</td>\n",
       "    </tr>\n",
       "    <tr>\n",
       "      <th>91</th>\n",
       "      <td>noise</td>\n",
       "      <td>1</td>\n",
       "    </tr>\n",
       "    <tr>\n",
       "      <th>92</th>\n",
       "      <td>3</td>\n",
       "      <td>1</td>\n",
       "    </tr>\n",
       "    <tr>\n",
       "      <th>93</th>\n",
       "      <td>g</td>\n",
       "      <td>1</td>\n",
       "    </tr>\n",
       "    <tr>\n",
       "      <th>94</th>\n",
       "      <td>new</td>\n",
       "      <td>1</td>\n",
       "    </tr>\n",
       "    <tr>\n",
       "      <th>95</th>\n",
       "      <td>less</td>\n",
       "      <td>1</td>\n",
       "    </tr>\n",
       "  </tbody>\n",
       "</table>\n",
       "<p>96 rows × 2 columns</p>\n",
       "</div>"
      ],
      "text/plain": [
       "      words  freq\n",
       "0    camera    14\n",
       "1      best     7\n",
       "2   digital     6\n",
       "3      love     6\n",
       "4     great     6\n",
       "..      ...   ...\n",
       "91    noise     1\n",
       "92        3     1\n",
       "93        g     1\n",
       "94      new     1\n",
       "95     less     1\n",
       "\n",
       "[96 rows x 2 columns]"
      ]
     },
     "execution_count": 26,
     "metadata": {},
     "output_type": "execute_result"
    }
   ],
   "source": [
    "top_20_words = freq_dist[~(freq_dist.words.isin(stp_words))].reset_index(drop = True)\n",
    "top_20_words"
   ]
  },
  {
   "cell_type": "code",
   "execution_count": 27,
   "id": "1087c788-d80b-4306-91d7-121ba0ccf843",
   "metadata": {
    "colab": {
     "base_uri": "https://localhost:8080/",
     "height": 378
    },
    "executionInfo": {
     "elapsed": 2,
     "status": "ok",
     "timestamp": 1701922972280,
     "user": {
      "displayName": "Shubham Pandey",
      "userId": "10645658922718505789"
     },
     "user_tz": -330
    },
    "id": "1087c788-d80b-4306-91d7-121ba0ccf843",
    "outputId": "b476337a-8f94-4307-8fc1-d1e4d265b9a0",
    "tags": []
   },
   "outputs": [
    {
     "data": {
      "image/png": "[encoded data removed]",
      "text/plain": [
       "<Figure size 2000x500 with 1 Axes>"
      ]
     },
     "metadata": {},
     "output_type": "display_data"
    }
   ],
   "source": [
    "plt.figure(figsize = (20,5))\n",
    "plt.bar(x = top_20_words.words[:10], height=top_20_words.freq[:10])\n",
    "for i in range(10):\n",
    "    plt.annotate(f\"{top_20_words.freq[i]}\",xy = (i, top_20_words.freq[i]+0.15) )\n",
    "# plt.ylim(0,12)\n",
    "plt.show()"
   ]
  },
  {
   "cell_type": "markdown",
   "id": "bc40fb06-bad5-4626-a217-1820d44c546e",
   "metadata": {
    "id": "bc40fb06-bad5-4626-a217-1820d44c546e",
    "tags": []
   },
   "source": [
    "<div class=\"alert alert-block alert-success\">\n",
    "<font size = 4>\n",
    "\n",
    "- Looking at the plot it seems terms like `camera`, `cannon`, `g2` which are terms identical to product name are present in abundance.\n",
    "- However they are not contributing much to analysis, hence these may be removed from the data.\n"
   ]
  },
  {
   "cell_type": "code",
   "execution_count": 29,
   "id": "247a3799-2752-4999-b6ce-64f2d2619310",
   "metadata": {
    "id": "247a3799-2752-4999-b6ce-64f2d2619310",
    "tags": []
   },
   "outputs": [],
   "source": [
    "word_list = ['camera', 'canon', 'g2', 'digital']\n",
    "most_list = top_20_words[~(top_20_words.words.isin(word_list))]"
   ]
  },
  {
   "cell_type": "code",
   "execution_count": 30,
   "id": "f2ac2bea-ad3f-4c50-b62c-b9678dcbf9a1",
   "metadata": {
    "id": "f2ac2bea-ad3f-4c50-b62c-b9678dcbf9a1",
    "tags": []
   },
   "outputs": [],
   "source": [
    "most_list = most_list[most_list.words.str.isalpha()]"
   ]
  },
  {
   "cell_type": "code",
   "execution_count": 31,
   "id": "c4b300c0-563f-400b-9f5b-a0b16d5091e8",
   "metadata": {
    "id": "c4b300c0-563f-400b-9f5b-a0b16d5091e8",
    "tags": []
   },
   "outputs": [],
   "source": [
    "word_freq = {word : freq for word, freq in zip(most_list.words, most_list.freq)}"
   ]
  },
  {
   "cell_type": "markdown",
   "id": "da6c47d8-551f-4119-8b98-d5388ef5e1f1",
   "metadata": {},
   "source": [
    "[top](#e0)"
   ]
  },
  {
   "cell_type": "markdown",
   "id": "0ed56003-16c4-4b0d-ae90-97b6d1d7842e",
   "metadata": {
    "id": "6ad02cf6-1a50-4ff0-92f7-0110f77ad77a"
   },
   "source": [
    "<a id = '4.4'>\n",
    "<font size = 6 color = pwdrblue>  <b>Wordcloud generation"
   ]
  },
  {
   "cell_type": "markdown",
   "id": "73ca9f74-b4e7-4517-9f56-705ab652d759",
   "metadata": {
    "id": "6ad02cf6-1a50-4ff0-92f7-0110f77ad77a"
   },
   "source": [
    "<div class=\"alert alert-block alert-success\">\n",
    "<font size = 4>\n",
    "    \n",
    "- Use a wordcloud to analyze the frequent terms in the text.\n",
    "- Wordclouds helps in identifying the theme of the text in use."
   ]
  },
  {
   "cell_type": "code",
   "execution_count": 32,
   "id": "dc7cc4ee-b9c4-404e-b92d-2d14be975f49",
   "metadata": {
    "colab": {
     "base_uri": "https://localhost:8080/",
     "height": 406
    },
    "executionInfo": {
     "elapsed": 2045,
     "status": "ok",
     "timestamp": 1701922978171,
     "user": {
      "displayName": "Shubham Pandey",
      "userId": "10645658922718505789"
     },
     "user_tz": -330
    },
    "id": "dc7cc4ee-b9c4-404e-b92d-2d14be975f49",
    "outputId": "a79126af-5a08-413d-bf0e-290c677a5b53",
    "tags": []
   },
   "outputs": [
    {
     "data": {
      "image/png": "[encoded data removed]",
      "text/plain": [
       "<Figure size 640x480 with 1 Axes>"
      ]
     },
     "metadata": {},
     "output_type": "display_data"
    }
   ],
   "source": [
    "wordcloud = WordCloud(width = 800, height = 600, background_color = \"white\", colormap = 'Accent')\n",
    "wordcloud.generate_from_frequencies(frequencies=word_freq)\n",
    "plt.figure()\n",
    "plt.imshow(wordcloud, interpolation=\"bilinear\")\n",
    "plt.axis(\"off\")\n",
    "plt.show()"
   ]
  },
  {
   "cell_type": "markdown",
   "id": "c2f262df-1290-4cea-8511-827dc74460cd",
   "metadata": {},
   "source": [
    "[top](#e0)"
   ]
  },
  {
   "cell_type": "code",
   "execution_count": null,
   "id": "d9566b2a-c2e4-4c1f-acab-61a7e8fe38c3",
   "metadata": {},
   "outputs": [],
   "source": []
  }
 ],
 "metadata": {
  "colab": {
   "provenance": []
  },
  "kernelspec": {
   "display_name": "Python 3 (ipykernel)",
   "language": "python",
   "name": "python3"
  },
  "language_info": {
   "codemirror_mode": {
    "name": "ipython",
    "version": 3
   },
   "file_extension": ".py",
   "mimetype": "text/x-python",
   "name": "python",
   "nbconvert_exporter": "python",
   "pygments_lexer": "ipython3",
   "version": "3.12.7"
  }
 },
 "nbformat": 4,
 "nbformat_minor": 5
}
