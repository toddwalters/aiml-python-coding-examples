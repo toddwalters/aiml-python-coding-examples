{
  "cells": [
    {
      "cell_type": "markdown",
      "id": "11612332-182c-4d75-b006-fffecbb76408",
      "metadata": {
        "id": "11612332-182c-4d75-b006-fffecbb76408",
        "tags": []
      },
      "source": [
        "# <center> <font size = 24 color = 'steelblue'> <b>Sentiment Analysis"
      ]
    },
    {
      "cell_type": "markdown",
      "id": "21162cf2-9c2b-4f44-b0a6-aae4acdf9d3a",
      "metadata": {
        "id": "21162cf2-9c2b-4f44-b0a6-aae4acdf9d3a"
      },
      "source": [
        "# <a id= 's0'>\n",
        "<font size = 4>\n",
        "    \n",
        "**Table of contents:**<br>\n",
        "[1. Introduction](#s1)<br>\n",
        "[2. Sentiment analysis using TextBlob](#s2)<br>\n",
        "[3. Sentiment analysis using VADER](#s3)<br>\n",
        "[4. Sentiment analysis using flair package](#s4)<br>"
      ]
    },
    {
      "cell_type": "markdown",
      "id": "4b4a1417-eb77-4461-9a3f-cebdca92c45d",
      "metadata": {
        "id": "4b4a1417-eb77-4461-9a3f-cebdca92c45d"
      },
      "source": [
        "##### <a id = 's1'>\n",
        "<font size = 10 color = 'midnightblue'> <b>Introduction"
      ]
    },
    {
      "cell_type": "markdown",
      "id": "228553d9-3f0b-46da-a87c-07fce7e9fd72",
      "metadata": {
        "id": "228553d9-3f0b-46da-a87c-07fce7e9fd72"
      },
      "source": [
        "<div class=\"alert alert-block alert-success\">    \n",
        "<font size = 4>\n",
        "\n",
        "- Sentiment analysis refers to a technique that involves determining the sentiment or emotional tone expressed in a piece of text.\n",
        "- The goal of sentiment analaysis is to identify and categorize the subjective opinions or feelings conveyed in the text as positive, negative, or neutral.\n",
        "- Python supports multiple pretrained models for performing sentiment analysis.\n",
        "- A few of them are discussed below."
      ]
    },
    {
      "cell_type": "markdown",
      "id": "91995cfc-77eb-42af-b778-ae09d84788f9",
      "metadata": {
        "id": "91995cfc-77eb-42af-b778-ae09d84788f9"
      },
      "source": [
        "\n",
        "<font size = 5 color = 'seagreen'>**Define the text to be used for analysis.**\n",
        "\n",
        "<div class=\"alert alert-block alert-success\">    \n",
        "<font size = 4>\n",
        "    \n",
        "  - Use the same texts for different functions and compare results.\n",
        "  - Four different text are used for specifying different emotions."
      ]
    },
    {
      "cell_type": "code",
      "execution_count": 1,
      "id": "df10cdbc-f3c4-4ad2-8c8b-dc1af9bf553c",
      "metadata": {
        "id": "df10cdbc-f3c4-4ad2-8c8b-dc1af9bf553c",
        "tags": [],
        "colab": {
          "base_uri": "https://localhost:8080/"
        },
        "outputId": "73c808a5-01b6-42ae-8c0d-3061503f6a74"
      },
      "outputs": [
        {
          "output_type": "stream",
          "name": "stdout",
          "text": [
            "Life's been a rollercoaster lately 🎢, with work stress piling up 😓.\n"
          ]
        }
      ],
      "source": [
        "text1 = \"Life's been a rollercoaster lately 🎢, with work stress piling up 😓.\"\n",
        "text2 = \"Thankfully, weekends bring joy and laughter with friends 🌟. \"\n",
        "text3 = \"Grateful for those moments, but hoping for smoother days ahead.\"\n",
        "text4 = \"Optimistic about the future despite the current challenges. 🌈 #LifeJourney\"\n",
        "print(text1)"
      ]
    },
    {
      "cell_type": "markdown",
      "id": "28066bd3-0efa-49b8-b09e-f641c1548e66",
      "metadata": {
        "id": "28066bd3-0efa-49b8-b09e-f641c1548e66",
        "tags": []
      },
      "source": [
        "##### <a id = 's2'>\n",
        "<font size = 10 color = 'midnightblue'> <b>Using Text Blob"
      ]
    },
    {
      "cell_type": "markdown",
      "id": "f251a350-8b11-4d38-b372-a240119f34ed",
      "metadata": {
        "id": "f251a350-8b11-4d38-b372-a240119f34ed",
        "tags": []
      },
      "source": [
        "<div class=\"alert alert-block alert-success\">    \n",
        "<font size = 4>\n",
        "\n",
        "- TextBlob is a popular Python library for processing textual data.\n",
        "- It provides a simple API for common NLP tasks, including sentiment analysis.\n",
        "- TextBlob uses a pre-trained sentiment analysis model to determine the sentiment polarity of a given text.\n",
        "- It does not require pre-cleaning of texts either."
      ]
    },
    {
      "cell_type": "markdown",
      "id": "e8619abd-b78b-4528-81a8-5d8c44897587",
      "metadata": {
        "id": "e8619abd-b78b-4528-81a8-5d8c44897587"
      },
      "source": [
        "<font size = 5 color = 'seagreen'> **Install TextBlob module**"
      ]
    },
    {
      "cell_type": "code",
      "execution_count": 2,
      "id": "e53c599d-25c6-4834-9e0b-42807fd4e6ac",
      "metadata": {
        "id": "e53c599d-25c6-4834-9e0b-42807fd4e6ac",
        "tags": [],
        "colab": {
          "base_uri": "https://localhost:8080/"
        },
        "outputId": "dd4e0046-d9e2-4229-c1be-cbf51745242d"
      },
      "outputs": [
        {
          "output_type": "stream",
          "name": "stdout",
          "text": [
            "Requirement already satisfied: textblob in /usr/local/lib/python3.10/dist-packages (0.17.1)\n",
            "Requirement already satisfied: nltk>=3.1 in /usr/local/lib/python3.10/dist-packages (from textblob) (3.8.1)\n",
            "Requirement already satisfied: click in /usr/local/lib/python3.10/dist-packages (from nltk>=3.1->textblob) (8.1.7)\n",
            "Requirement already satisfied: joblib in /usr/local/lib/python3.10/dist-packages (from nltk>=3.1->textblob) (1.4.2)\n",
            "Requirement already satisfied: regex>=2021.8.3 in /usr/local/lib/python3.10/dist-packages (from nltk>=3.1->textblob) (2024.5.15)\n",
            "Requirement already satisfied: tqdm in /usr/local/lib/python3.10/dist-packages (from nltk>=3.1->textblob) (4.66.5)\n"
          ]
        }
      ],
      "source": [
        "pip install textblob"
      ]
    },
    {
      "cell_type": "markdown",
      "id": "26771f50-7741-45df-84d3-fc9a2a53970b",
      "metadata": {
        "id": "26771f50-7741-45df-84d3-fc9a2a53970b",
        "tags": []
      },
      "source": [
        "\n",
        "<font size = 5 color = 'seagreen'> <b>Sentiment analysis is performed using `textblob` function from the package"
      ]
    },
    {
      "cell_type": "code",
      "execution_count": 3,
      "id": "57a016cd-2fab-4a75-a226-f3190f1db2ba",
      "metadata": {
        "id": "57a016cd-2fab-4a75-a226-f3190f1db2ba",
        "tags": []
      },
      "outputs": [],
      "source": [
        "from textblob import TextBlob"
      ]
    },
    {
      "cell_type": "markdown",
      "id": "tV3WJM2fmHp6",
      "metadata": {
        "id": "tV3WJM2fmHp6"
      },
      "source": [
        "<font size = 5 color = 'seagreen'> <b> Create a function for interpretation of sentiment scores."
      ]
    },
    {
      "cell_type": "code",
      "execution_count": 4,
      "id": "f2881c6a-0ed3-4a48-ba84-8f699a1cbb28",
      "metadata": {
        "id": "f2881c6a-0ed3-4a48-ba84-8f699a1cbb28",
        "tags": []
      },
      "outputs": [],
      "source": [
        "\n",
        "def getAnalysis(score):\n",
        "    if score < 0:\n",
        "        return 'Negative'\n",
        "    elif score == 0:\n",
        "        return 'Neutral'\n",
        "    else:\n",
        "        return 'Positive'"
      ]
    },
    {
      "cell_type": "markdown",
      "id": "qAUt4xlHndAi",
      "metadata": {
        "id": "qAUt4xlHndAi"
      },
      "source": [
        "<font size = 5 color = 'darkblue'> **For Text1:**\n",
        "<font size = 5 color = 'pwdrblue'> <b>  \"Life's been a rollercoaster lately 🎢, with work stress piling up 😓.\""
      ]
    },
    {
      "cell_type": "code",
      "execution_count": 5,
      "id": "45e5ecb0-3b0e-4bfb-9810-95a10ef558b4",
      "metadata": {
        "id": "45e5ecb0-3b0e-4bfb-9810-95a10ef558b4",
        "tags": []
      },
      "outputs": [],
      "source": [
        "# create a text blob object of the text\n",
        "blob = TextBlob(text1)\n",
        "\n",
        "# get the sentiment object with a polarity value\n",
        "sentiment_obj = blob.analyzer.analyze(text1)\n",
        "\n",
        "# get the sentiment based on polarity value\n",
        "sentiment = getAnalysis(blob.sentiment.polarity)"
      ]
    },
    {
      "cell_type": "code",
      "execution_count": 6,
      "id": "dd81141d-272d-4495-83eb-a145343b5689",
      "metadata": {
        "id": "dd81141d-272d-4495-83eb-a145343b5689",
        "tags": [],
        "colab": {
          "base_uri": "https://localhost:8080/"
        },
        "outputId": "8ba31721-c65c-4ac8-e8d6-426c7663e743"
      },
      "outputs": [
        {
          "output_type": "stream",
          "name": "stdout",
          "text": [
            "Text:  Life's been a rollercoaster lately 🎢, with work stress piling up 😓.\n",
            "Sentiment object :  Sentiment(polarity=-0.3, subjectivity=0.6)\n",
            "Sentiment :  Negative\n"
          ]
        }
      ],
      "source": [
        "# Display results\n",
        "print(\"Text: \", text1)\n",
        "print(\"Sentiment object : \", sentiment_obj)\n",
        "print(\"Sentiment : \",sentiment)"
      ]
    },
    {
      "cell_type": "markdown",
      "id": "fFfHKfeKmTDX",
      "metadata": {
        "id": "fFfHKfeKmTDX"
      },
      "source": [
        "<font size = 5 color = 'seagreen'> <b> Repeat for all the text to get polarity of the sentences."
      ]
    },
    {
      "cell_type": "markdown",
      "id": "OUU0EYK-mb3B",
      "metadata": {
        "id": "OUU0EYK-mb3B"
      },
      "source": [
        "<font size = 5 color = 'darkblue'> <b>For Text2 : <font size = 5 color = 'pwdrblue'> <b>  \"Thankfully, weekends bring joy and laughter with friends 🌟.\""
      ]
    },
    {
      "cell_type": "code",
      "execution_count": 7,
      "id": "47eeaf9a-b62b-4d58-949d-f524f0057007",
      "metadata": {
        "id": "47eeaf9a-b62b-4d58-949d-f524f0057007",
        "tags": []
      },
      "outputs": [],
      "source": [
        "# create a text blob object of the text\n",
        "blob = TextBlob(text2)\n",
        "\n",
        "# get the sentiment object with a polarity value\n",
        "sentiment_obj = blob.analyzer.analyze(text2)\n",
        "\n",
        "# get the sentiment based on polarity value\n",
        "sentiment = getAnalysis(blob.sentiment.polarity)"
      ]
    },
    {
      "cell_type": "code",
      "execution_count": 8,
      "id": "6c9b2dd1-3cd5-40bc-bb5f-5e1b4e4c6167",
      "metadata": {
        "id": "6c9b2dd1-3cd5-40bc-bb5f-5e1b4e4c6167",
        "tags": [],
        "colab": {
          "base_uri": "https://localhost:8080/"
        },
        "outputId": "528bcb6e-7a84-402d-9371-725984e83960"
      },
      "outputs": [
        {
          "output_type": "stream",
          "name": "stdout",
          "text": [
            "Text:  Thankfully, weekends bring joy and laughter with friends 🌟. \n",
            "Sentiment object :  Sentiment(polarity=0.8, subjectivity=0.2)\n",
            "Sentiment :  Positive\n"
          ]
        }
      ],
      "source": [
        "# Display results\n",
        "print(\"Text: \", text2)\n",
        "print(\"Sentiment object : \", sentiment_obj)\n",
        "print(\"Sentiment : \",sentiment)"
      ]
    },
    {
      "cell_type": "markdown",
      "id": "v7o4zu6cmguU",
      "metadata": {
        "id": "v7o4zu6cmguU"
      },
      "source": [
        "<font size = 5 color = 'darkblue'> <b>For Text3 : <font size = 5 color = 'pwdrblue'> <b>\"Grateful for those moments, but hoping for smoother days ahead.\""
      ]
    },
    {
      "cell_type": "code",
      "execution_count": 9,
      "id": "5426704f-29ad-4b86-af79-274a2c8217c2",
      "metadata": {
        "id": "5426704f-29ad-4b86-af79-274a2c8217c2",
        "tags": []
      },
      "outputs": [],
      "source": [
        "# create a text blob object of the text\n",
        "blob = TextBlob(text3)\n",
        "\n",
        "# get the sentiment object with a polarity value\n",
        "sentiment_obj = blob.analyzer.analyze(text3)\n",
        "\n",
        "# get the sentiment based on polarity value\n",
        "sentiment = getAnalysis(blob.sentiment.polarity)"
      ]
    },
    {
      "cell_type": "code",
      "execution_count": 10,
      "id": "5ae9c42c-9f34-4551-93b3-414aeee3923b",
      "metadata": {
        "id": "5ae9c42c-9f34-4551-93b3-414aeee3923b",
        "tags": [],
        "colab": {
          "base_uri": "https://localhost:8080/"
        },
        "outputId": "f43fe5d0-db3a-440b-cfa0-8e07c6388296"
      },
      "outputs": [
        {
          "output_type": "stream",
          "name": "stdout",
          "text": [
            "Text:  Grateful for those moments, but hoping for smoother days ahead.\n",
            "Sentiment object :  Sentiment(polarity=0.0, subjectivity=0.0)\n",
            "Sentiment :  Neutral\n"
          ]
        }
      ],
      "source": [
        "# Display results\n",
        "print(\"Text: \", text3)\n",
        "print(\"Sentiment object : \", sentiment_obj)\n",
        "print(\"Sentiment : \",sentiment)"
      ]
    },
    {
      "cell_type": "markdown",
      "id": "7cHdNKDGnDV5",
      "metadata": {
        "id": "7cHdNKDGnDV5"
      },
      "source": [
        "<font size = 5 color = 'darkblue'> <b>For Text4 : <font size = 5 color = 'pwdrblue'> <b>\"Optimistic about the future despite the current challenges. 🌈 #LifeJourney\""
      ]
    },
    {
      "cell_type": "code",
      "execution_count": 11,
      "id": "eb1adbe7-c283-4f2b-84ab-192d6812de99",
      "metadata": {
        "id": "eb1adbe7-c283-4f2b-84ab-192d6812de99",
        "tags": []
      },
      "outputs": [],
      "source": [
        "# create a text blob object of the text\n",
        "blob = TextBlob(text4)\n",
        "\n",
        "# get the sentiment object with a polarity value\n",
        "sentiment_obj = blob.analyzer.analyze(text4)\n",
        "\n",
        "# get the sentiment based on polarity value\n",
        "sentiment = getAnalysis(blob.sentiment.polarity)"
      ]
    },
    {
      "cell_type": "code",
      "execution_count": 12,
      "id": "c9076af3-2ac7-41b5-afe6-811b93e8941d",
      "metadata": {
        "id": "c9076af3-2ac7-41b5-afe6-811b93e8941d",
        "tags": [],
        "colab": {
          "base_uri": "https://localhost:8080/"
        },
        "outputId": "ca5ce4b3-5c91-465e-d218-738cd9e50b41"
      },
      "outputs": [
        {
          "output_type": "stream",
          "name": "stdout",
          "text": [
            "Text:  Optimistic about the future despite the current challenges. 🌈 #LifeJourney\n",
            "Sentiment object :  Sentiment(polarity=0.0, subjectivity=0.2625)\n",
            "Sentiment :  Neutral\n"
          ]
        }
      ],
      "source": [
        "# Display results\n",
        "print(\"Text: \", text4)\n",
        "print(\"Sentiment object : \", sentiment_obj)\n",
        "print(\"Sentiment : \",sentiment)"
      ]
    },
    {
      "cell_type": "markdown",
      "id": "5063b4e7-0a5d-4add-8814-0b6532c1e8b7",
      "metadata": {
        "id": "5063b4e7-0a5d-4add-8814-0b6532c1e8b7"
      },
      "source": [
        "[top](#s0)"
      ]
    },
    {
      "cell_type": "markdown",
      "id": "78767c9c-9e8a-4ca0-ae86-178f754bd1af",
      "metadata": {
        "id": "78767c9c-9e8a-4ca0-ae86-178f754bd1af"
      },
      "source": [
        "##### <a id = 's3'>\n",
        "<font size = 10 color = 'midnightblue'> <b> Using VADER sentiment"
      ]
    },
    {
      "cell_type": "markdown",
      "id": "5814ed8a-2cfb-4d57-ae4e-5b2474859e51",
      "metadata": {
        "id": "5814ed8a-2cfb-4d57-ae4e-5b2474859e51"
      },
      "source": [
        "<div class=\"alert alert-block alert-success\">    \n",
        "<font size = 4>\n",
        "\n",
        "- Valence aware dictionary for sentiment reasoning (VADER) is another popular rule-based sentiment analyzer.\n",
        "- It is a pre-built sentiment analysis tool that is specifically designed for social media text.\n",
        "- It is part of the NLTK library and is particularly useful for analyzing sentiments in short and informal texts, making it suitable for social media posts, comments, and reviews."
      ]
    },
    {
      "cell_type": "markdown",
      "id": "8b44fb8d-97c6-46ff-8159-2ee0d545b994",
      "metadata": {
        "id": "8b44fb8d-97c6-46ff-8159-2ee0d545b994"
      },
      "source": [
        "<font size = 5 color = 'seagreen'> <b>install package"
      ]
    },
    {
      "cell_type": "code",
      "source": [
        "!pip install vaderSentiment"
      ],
      "metadata": {
        "colab": {
          "base_uri": "https://localhost:8080/"
        },
        "id": "T3oP7ztqjkMj",
        "outputId": "a4414ac4-9342-4e38-f2a0-bca6ffba0f7f"
      },
      "id": "T3oP7ztqjkMj",
      "execution_count": 14,
      "outputs": [
        {
          "output_type": "stream",
          "name": "stdout",
          "text": [
            "Collecting vaderSentiment\n",
            "  Downloading vaderSentiment-3.3.2-py2.py3-none-any.whl.metadata (572 bytes)\n",
            "Requirement already satisfied: requests in /usr/local/lib/python3.10/dist-packages (from vaderSentiment) (2.32.3)\n",
            "Requirement already satisfied: charset-normalizer<4,>=2 in /usr/local/lib/python3.10/dist-packages (from requests->vaderSentiment) (3.3.2)\n",
            "Requirement already satisfied: idna<4,>=2.5 in /usr/local/lib/python3.10/dist-packages (from requests->vaderSentiment) (3.8)\n",
            "Requirement already satisfied: urllib3<3,>=1.21.1 in /usr/local/lib/python3.10/dist-packages (from requests->vaderSentiment) (2.0.7)\n",
            "Requirement already satisfied: certifi>=2017.4.17 in /usr/local/lib/python3.10/dist-packages (from requests->vaderSentiment) (2024.8.30)\n",
            "Downloading vaderSentiment-3.3.2-py2.py3-none-any.whl (125 kB)\n",
            "\u001b[2K   \u001b[90m━━━━━━━━━━━━━━━━━━━━━━━━━━━━━━━━━━━━━━━━\u001b[0m \u001b[32m126.0/126.0 kB\u001b[0m \u001b[31m3.1 MB/s\u001b[0m eta \u001b[36m0:00:00\u001b[0m\n",
            "\u001b[?25hInstalling collected packages: vaderSentiment\n",
            "Successfully installed vaderSentiment-3.3.2\n"
          ]
        }
      ]
    },
    {
      "cell_type": "markdown",
      "id": "efabca83-d012-4777-a15c-26c72097e5c8",
      "metadata": {
        "id": "efabca83-d012-4777-a15c-26c72097e5c8"
      },
      "source": [
        "<font size = 5 color = 'seagreen'> <b>import sentiment analyzer from vader sentiment"
      ]
    },
    {
      "cell_type": "code",
      "execution_count": 15,
      "id": "9a9175ea-17ef-417a-88c2-7f3e915b9660",
      "metadata": {
        "id": "9a9175ea-17ef-417a-88c2-7f3e915b9660",
        "tags": []
      },
      "outputs": [],
      "source": [
        "from vaderSentiment.vaderSentiment import SentimentIntensityAnalyzer"
      ]
    },
    {
      "cell_type": "markdown",
      "id": "21187813-80ce-4a9b-90ed-346913b4c2e2",
      "metadata": {
        "id": "21187813-80ce-4a9b-90ed-346913b4c2e2"
      },
      "source": [
        "<font size = 5 color = 'darkblue'> **For Text1:**\n",
        "<font size = 5 color = 'pwdrblue'> <b>  \"Life's been a rollercoaster lately 🎢, with work stress piling up 😓.\""
      ]
    },
    {
      "cell_type": "code",
      "execution_count": 16,
      "id": "dc864c9b-d2dc-4562-8d1b-01127ddebc4d",
      "metadata": {
        "id": "dc864c9b-d2dc-4562-8d1b-01127ddebc4d",
        "tags": [],
        "colab": {
          "base_uri": "https://localhost:8080/"
        },
        "outputId": "07181f01-0ecf-46ca-983b-b0023f136eb9"
      },
      "outputs": [
        {
          "output_type": "stream",
          "name": "stdout",
          "text": [
            "Life's been a rollercoaster lately 🎢, with work stress piling up 😓. \n",
            "{'neg': 0.286, 'neu': 0.714, 'pos': 0.0, 'compound': -0.6808}\n"
          ]
        }
      ],
      "source": [
        "# create an analyzer object\n",
        "analyzer = SentimentIntensityAnalyzer()\n",
        "\n",
        "# obtain the polarity scores\n",
        "vs = analyzer.polarity_scores(text1)\n",
        "\n",
        "# display results\n",
        "print(\"{} \\n{}\".format(text1, str(vs)))"
      ]
    },
    {
      "cell_type": "markdown",
      "id": "9f171069-0bac-4105-857c-11500baeefe0",
      "metadata": {
        "id": "9f171069-0bac-4105-857c-11500baeefe0"
      },
      "source": [
        "<div class=\"alert alert-block alert-info\">    \n",
        "<font size = 4>\n",
        "\n",
        "**NOTE:**\n",
        "\n",
        "- The key 'compound' in the dictionary represents the overall sentiment polarity of the text, where\n",
        "    - Positive values indicate positive sentiment,\n",
        "    - Negative values indicate negative sentiment, and\n",
        "    - Values around zero suggest a neutral sentiment.\n",
        "\n"
      ]
    },
    {
      "cell_type": "code",
      "execution_count": 17,
      "id": "463fab90-b29b-45e3-9397-e3af907a057d",
      "metadata": {
        "id": "463fab90-b29b-45e3-9397-e3af907a057d",
        "colab": {
          "base_uri": "https://localhost:8080/"
        },
        "outputId": "df738605-cf62-43e3-e6d5-01b7712627df"
      },
      "outputs": [
        {
          "output_type": "stream",
          "name": "stdout",
          "text": [
            "Sentiment :  Negative\n"
          ]
        }
      ],
      "source": [
        "print(\"Sentiment : \",getAnalysis(vs['compound']))"
      ]
    },
    {
      "cell_type": "markdown",
      "id": "0zq2estln8BV",
      "metadata": {
        "id": "0zq2estln8BV"
      },
      "source": [
        "<font size = 5 color = 'darkblue'> <b>For Text2 : <font size = 5 color = 'pwdrblue'> <b>  \"Thankfully, weekends bring joy and laughter with friends 🌟.\""
      ]
    },
    {
      "cell_type": "code",
      "execution_count": 18,
      "id": "14f3afc0-75fd-4fd7-bd93-9c890c7d2928",
      "metadata": {
        "id": "14f3afc0-75fd-4fd7-bd93-9c890c7d2928",
        "tags": [],
        "colab": {
          "base_uri": "https://localhost:8080/"
        },
        "outputId": "3af8e58d-a2a1-4f97-ad9e-b95300847213"
      },
      "outputs": [
        {
          "output_type": "stream",
          "name": "stdout",
          "text": [
            "Thankfully, weekends bring joy and laughter with friends 🌟.  \n",
            "{'neg': 0.0, 'neu': 0.317, 'pos': 0.683, 'compound': 0.9169}\n",
            "Sentiment :  Positive\n"
          ]
        }
      ],
      "source": [
        "# create an analyzer object\n",
        "analyzer = SentimentIntensityAnalyzer()\n",
        "\n",
        "# obtain the polarity scores\n",
        "vs = analyzer.polarity_scores(text2)\n",
        "\n",
        "# display results\n",
        "print(\"{} \\n{}\".format(text2, str(vs)))\n",
        "print(\"Sentiment : \",getAnalysis(vs['compound']))"
      ]
    },
    {
      "cell_type": "markdown",
      "id": "hVQWliBYoEPH",
      "metadata": {
        "id": "hVQWliBYoEPH"
      },
      "source": [
        "<font size = 5 color = 'darkblue'> <b>For Text3 : <font size = 5 color = 'pwdrblue'> <b>\"Grateful for those moments, but hoping for smoother days ahead.\""
      ]
    },
    {
      "cell_type": "code",
      "execution_count": 19,
      "id": "b667d6e3-82a5-42b6-b7fe-33054626ac5c",
      "metadata": {
        "id": "b667d6e3-82a5-42b6-b7fe-33054626ac5c",
        "tags": [],
        "colab": {
          "base_uri": "https://localhost:8080/"
        },
        "outputId": "2a6e9a0c-7aab-46d5-feb0-f7fc0f24ae32"
      },
      "outputs": [
        {
          "output_type": "stream",
          "name": "stdout",
          "text": [
            "Grateful for those moments, but hoping for smoother days ahead. \n",
            "{'neg': 0.0, 'neu': 0.584, 'pos': 0.416, 'compound': 0.6908}\n",
            "Sentiment :  Positive\n"
          ]
        }
      ],
      "source": [
        "# create an analyzer object\n",
        "analyzer = SentimentIntensityAnalyzer()\n",
        "\n",
        "# obtain the polarity scores\n",
        "vs = analyzer.polarity_scores(text3)\n",
        "\n",
        "# display results\n",
        "print(\"{} \\n{}\".format(text3, str(vs)))\n",
        "print(\"Sentiment : \",getAnalysis(vs['compound']))"
      ]
    },
    {
      "cell_type": "markdown",
      "id": "O81ACG5NoN-Z",
      "metadata": {
        "id": "O81ACG5NoN-Z"
      },
      "source": [
        "<font size = 5 color = 'darkblue'> <b>For Text4 : <font size = 5 color = 'pwdrblue'> <b>\"Optimistic about the future despite the current challenges. 🌈 #LifeJourney\""
      ]
    },
    {
      "cell_type": "code",
      "execution_count": 20,
      "id": "57a25d4b-042c-4d25-aff0-08fe1ac13ce0",
      "metadata": {
        "id": "57a25d4b-042c-4d25-aff0-08fe1ac13ce0",
        "tags": [],
        "colab": {
          "base_uri": "https://localhost:8080/"
        },
        "outputId": "d7111f5c-161a-4064-a55d-ee98a18523a9"
      },
      "outputs": [
        {
          "output_type": "stream",
          "name": "stdout",
          "text": [
            "Optimistic about the future despite the current challenges. 🌈 #LifeJourney \n",
            "{'neg': 0.106, 'neu': 0.694, 'pos': 0.2, 'compound': 0.2681}\n",
            "Sentiment :  Positive\n"
          ]
        }
      ],
      "source": [
        "# create an analyzer object\n",
        "analyzer = SentimentIntensityAnalyzer()\n",
        "\n",
        "# obtain the polarity scores\n",
        "vs = analyzer.polarity_scores(text4)\n",
        "\n",
        "# display results\n",
        "print(\"{} \\n{}\".format(text4, str(vs)))\n",
        "print(\"Sentiment : \",getAnalysis(vs['compound']))"
      ]
    },
    {
      "cell_type": "markdown",
      "id": "8399dce5-180f-4eb3-91d3-fbe7a72b8f3f",
      "metadata": {
        "id": "8399dce5-180f-4eb3-91d3-fbe7a72b8f3f"
      },
      "source": [
        "<div class=\"alert alert-block alert-info\">    \n",
        "<font size = 4>\n",
        "\n",
        "**NOTE:**\n",
        "- VADER is designed for general-purpose sentiment analysis.\n",
        "- It may not perform as effectively as domain-specific models in certain applications.\n",
        "- Depending on your specific use case, consider exploring alternative sentiment analysis tools.\n",
        "- Training your own sentiment analysis model could be a viable option for customization and enhanced performance.\n",
        "\n"
      ]
    },
    {
      "cell_type": "markdown",
      "id": "7c9db5f5-4f6c-4e49-9b85-8fe5aa06b74f",
      "metadata": {
        "id": "7c9db5f5-4f6c-4e49-9b85-8fe5aa06b74f"
      },
      "source": [
        "[top](#s0)"
      ]
    },
    {
      "cell_type": "markdown",
      "id": "d93ecc64-3c92-40a7-bfff-2bbf017a144b",
      "metadata": {
        "id": "d93ecc64-3c92-40a7-bfff-2bbf017a144b"
      },
      "source": [
        "##### <a id = 's4'>\n",
        "<font size = 10 color = 'midnightblue'> <b> Using flair package"
      ]
    },
    {
      "cell_type": "markdown",
      "id": "cee4013d-0841-40e2-b8b3-983cd4f5c711",
      "metadata": {
        "id": "cee4013d-0841-40e2-b8b3-983cd4f5c711"
      },
      "source": [
        "<div class=\"alert alert-block alert-success\">    \n",
        "<font size = 4>\n",
        "    \n",
        "- Flair is an open-source NLP library.\n",
        "- It provides state-of-the-art pre-trained models for various NLP tasks, including sentiment analysis, part-of-speech tagging, named entity recognition, and more."
      ]
    },
    {
      "cell_type": "markdown",
      "id": "4080ce12-ad09-4b34-a08f-3dcb08d58957",
      "metadata": {
        "id": "4080ce12-ad09-4b34-a08f-3dcb08d58957"
      },
      "source": [
        "<font size = 5 color = 'seagreen'>  <b> Install flair module"
      ]
    },
    {
      "cell_type": "code",
      "execution_count": 21,
      "id": "4b08dc10-fe95-4865-8b12-7cc46ea7575d",
      "metadata": {
        "id": "4b08dc10-fe95-4865-8b12-7cc46ea7575d",
        "tags": [],
        "colab": {
          "base_uri": "https://localhost:8080/"
        },
        "outputId": "61ec5833-554a-4f1f-cfba-240ddaa3a68d"
      },
      "outputs": [
        {
          "output_type": "stream",
          "name": "stdout",
          "text": [
            "Collecting flair\n",
            "  Downloading flair-0.14.0-py3-none-any.whl.metadata (12 kB)\n",
            "Collecting boto3>=1.20.27 (from flair)\n",
            "  Downloading boto3-1.35.12-py3-none-any.whl.metadata (6.6 kB)\n",
            "Collecting conllu<5.0.0,>=4.0 (from flair)\n",
            "  Downloading conllu-4.5.3-py2.py3-none-any.whl.metadata (19 kB)\n",
            "Collecting deprecated>=1.2.13 (from flair)\n",
            "  Downloading Deprecated-1.2.14-py2.py3-none-any.whl.metadata (5.4 kB)\n",
            "Collecting ftfy>=6.1.0 (from flair)\n",
            "  Downloading ftfy-6.2.3-py3-none-any.whl.metadata (7.8 kB)\n",
            "Requirement already satisfied: gdown>=4.4.0 in /usr/local/lib/python3.10/dist-packages (from flair) (5.1.0)\n",
            "Requirement already satisfied: huggingface-hub>=0.10.0 in /usr/local/lib/python3.10/dist-packages (from flair) (0.24.6)\n",
            "Collecting langdetect>=1.0.9 (from flair)\n",
            "  Downloading langdetect-1.0.9.tar.gz (981 kB)\n",
            "\u001b[2K     \u001b[90m━━━━━━━━━━━━━━━━━━━━━━━━━━━━━━━━━━━━━━━━\u001b[0m \u001b[32m981.5/981.5 kB\u001b[0m \u001b[31m18.8 MB/s\u001b[0m eta \u001b[36m0:00:00\u001b[0m\n",
            "\u001b[?25h  Preparing metadata (setup.py) ... \u001b[?25l\u001b[?25hdone\n",
            "Requirement already satisfied: lxml>=4.8.0 in /usr/local/lib/python3.10/dist-packages (from flair) (4.9.4)\n",
            "Requirement already satisfied: matplotlib>=2.2.3 in /usr/local/lib/python3.10/dist-packages (from flair) (3.7.1)\n",
            "Requirement already satisfied: more-itertools>=8.13.0 in /usr/local/lib/python3.10/dist-packages (from flair) (10.3.0)\n",
            "Collecting mpld3>=0.3 (from flair)\n",
            "  Downloading mpld3-0.5.10-py3-none-any.whl.metadata (5.1 kB)\n",
            "Collecting pptree>=3.1 (from flair)\n",
            "  Downloading pptree-3.1.tar.gz (3.0 kB)\n",
            "  Preparing metadata (setup.py) ... \u001b[?25l\u001b[?25hdone\n",
            "Requirement already satisfied: python-dateutil>=2.8.2 in /usr/local/lib/python3.10/dist-packages (from flair) (2.8.2)\n",
            "Collecting pytorch-revgrad>=0.2.0 (from flair)\n",
            "  Downloading pytorch_revgrad-0.2.0-py3-none-any.whl.metadata (1.7 kB)\n",
            "Requirement already satisfied: regex>=2022.1.18 in /usr/local/lib/python3.10/dist-packages (from flair) (2024.5.15)\n",
            "Requirement already satisfied: scikit-learn>=1.0.2 in /usr/local/lib/python3.10/dist-packages (from flair) (1.3.2)\n",
            "Collecting segtok>=1.5.11 (from flair)\n",
            "  Downloading segtok-1.5.11-py3-none-any.whl.metadata (9.0 kB)\n",
            "Collecting sqlitedict>=2.0.0 (from flair)\n",
            "  Downloading sqlitedict-2.1.0.tar.gz (21 kB)\n",
            "  Preparing metadata (setup.py) ... \u001b[?25l\u001b[?25hdone\n",
            "Requirement already satisfied: tabulate>=0.8.10 in /usr/local/lib/python3.10/dist-packages (from flair) (0.9.0)\n",
            "Requirement already satisfied: torch!=1.8,>=1.5.0 in /usr/local/lib/python3.10/dist-packages (from flair) (2.4.0+cu121)\n",
            "Requirement already satisfied: tqdm>=4.63.0 in /usr/local/lib/python3.10/dist-packages (from flair) (4.66.5)\n",
            "Collecting transformer-smaller-training-vocab>=0.2.3 (from flair)\n",
            "  Downloading transformer_smaller_training_vocab-0.4.0-py3-none-any.whl.metadata (8.1 kB)\n",
            "Requirement already satisfied: transformers<5.0.0,>=4.18.0 in /usr/local/lib/python3.10/dist-packages (from transformers[sentencepiece]<5.0.0,>=4.18.0->flair) (4.44.2)\n",
            "Collecting wikipedia-api>=0.5.7 (from flair)\n",
            "  Downloading wikipedia_api-0.7.1.tar.gz (17 kB)\n",
            "  Preparing metadata (setup.py) ... \u001b[?25l\u001b[?25hdone\n",
            "Collecting semver<4.0.0,>=3.0.0 (from flair)\n",
            "  Downloading semver-3.0.2-py3-none-any.whl.metadata (5.0 kB)\n",
            "Collecting bioc<3.0.0,>=2.0.0 (from flair)\n",
            "  Downloading bioc-2.1-py3-none-any.whl.metadata (4.6 kB)\n",
            "Collecting jsonlines>=1.2.0 (from bioc<3.0.0,>=2.0.0->flair)\n",
            "  Downloading jsonlines-4.0.0-py3-none-any.whl.metadata (1.6 kB)\n",
            "Collecting intervaltree (from bioc<3.0.0,>=2.0.0->flair)\n",
            "  Downloading intervaltree-3.1.0.tar.gz (32 kB)\n",
            "  Preparing metadata (setup.py) ... \u001b[?25l\u001b[?25hdone\n",
            "Collecting docopt (from bioc<3.0.0,>=2.0.0->flair)\n",
            "  Downloading docopt-0.6.2.tar.gz (25 kB)\n",
            "  Preparing metadata (setup.py) ... \u001b[?25l\u001b[?25hdone\n",
            "Collecting botocore<1.36.0,>=1.35.12 (from boto3>=1.20.27->flair)\n",
            "  Downloading botocore-1.35.12-py3-none-any.whl.metadata (5.7 kB)\n",
            "Collecting jmespath<2.0.0,>=0.7.1 (from boto3>=1.20.27->flair)\n",
            "  Downloading jmespath-1.0.1-py3-none-any.whl.metadata (7.6 kB)\n",
            "Collecting s3transfer<0.11.0,>=0.10.0 (from boto3>=1.20.27->flair)\n",
            "  Downloading s3transfer-0.10.2-py3-none-any.whl.metadata (1.7 kB)\n",
            "Requirement already satisfied: wrapt<2,>=1.10 in /usr/local/lib/python3.10/dist-packages (from deprecated>=1.2.13->flair) (1.16.0)\n",
            "Requirement already satisfied: wcwidth<0.3.0,>=0.2.12 in /usr/local/lib/python3.10/dist-packages (from ftfy>=6.1.0->flair) (0.2.13)\n",
            "Requirement already satisfied: beautifulsoup4 in /usr/local/lib/python3.10/dist-packages (from gdown>=4.4.0->flair) (4.12.3)\n",
            "Requirement already satisfied: filelock in /usr/local/lib/python3.10/dist-packages (from gdown>=4.4.0->flair) (3.15.4)\n",
            "Requirement already satisfied: requests[socks] in /usr/local/lib/python3.10/dist-packages (from gdown>=4.4.0->flair) (2.32.3)\n",
            "Requirement already satisfied: fsspec>=2023.5.0 in /usr/local/lib/python3.10/dist-packages (from huggingface-hub>=0.10.0->flair) (2024.6.1)\n",
            "Requirement already satisfied: packaging>=20.9 in /usr/local/lib/python3.10/dist-packages (from huggingface-hub>=0.10.0->flair) (24.1)\n",
            "Requirement already satisfied: pyyaml>=5.1 in /usr/local/lib/python3.10/dist-packages (from huggingface-hub>=0.10.0->flair) (6.0.2)\n",
            "Requirement already satisfied: typing-extensions>=3.7.4.3 in /usr/local/lib/python3.10/dist-packages (from huggingface-hub>=0.10.0->flair) (4.12.2)\n",
            "Requirement already satisfied: six in /usr/local/lib/python3.10/dist-packages (from langdetect>=1.0.9->flair) (1.16.0)\n",
            "Requirement already satisfied: contourpy>=1.0.1 in /usr/local/lib/python3.10/dist-packages (from matplotlib>=2.2.3->flair) (1.3.0)\n",
            "Requirement already satisfied: cycler>=0.10 in /usr/local/lib/python3.10/dist-packages (from matplotlib>=2.2.3->flair) (0.12.1)\n",
            "Requirement already satisfied: fonttools>=4.22.0 in /usr/local/lib/python3.10/dist-packages (from matplotlib>=2.2.3->flair) (4.53.1)\n",
            "Requirement already satisfied: kiwisolver>=1.0.1 in /usr/local/lib/python3.10/dist-packages (from matplotlib>=2.2.3->flair) (1.4.5)\n",
            "Requirement already satisfied: numpy>=1.20 in /usr/local/lib/python3.10/dist-packages (from matplotlib>=2.2.3->flair) (1.26.4)\n",
            "Requirement already satisfied: pillow>=6.2.0 in /usr/local/lib/python3.10/dist-packages (from matplotlib>=2.2.3->flair) (9.4.0)\n",
            "Requirement already satisfied: pyparsing>=2.3.1 in /usr/local/lib/python3.10/dist-packages (from matplotlib>=2.2.3->flair) (3.1.4)\n",
            "Requirement already satisfied: jinja2 in /usr/local/lib/python3.10/dist-packages (from mpld3>=0.3->flair) (3.1.4)\n",
            "Requirement already satisfied: scipy>=1.5.0 in /usr/local/lib/python3.10/dist-packages (from scikit-learn>=1.0.2->flair) (1.13.1)\n",
            "Requirement already satisfied: joblib>=1.1.1 in /usr/local/lib/python3.10/dist-packages (from scikit-learn>=1.0.2->flair) (1.4.2)\n",
            "Requirement already satisfied: threadpoolctl>=2.0.0 in /usr/local/lib/python3.10/dist-packages (from scikit-learn>=1.0.2->flair) (3.5.0)\n",
            "Requirement already satisfied: sympy in /usr/local/lib/python3.10/dist-packages (from torch!=1.8,>=1.5.0->flair) (1.13.2)\n",
            "Requirement already satisfied: networkx in /usr/local/lib/python3.10/dist-packages (from torch!=1.8,>=1.5.0->flair) (3.3)\n",
            "Requirement already satisfied: safetensors>=0.4.1 in /usr/local/lib/python3.10/dist-packages (from transformers<5.0.0,>=4.18.0->transformers[sentencepiece]<5.0.0,>=4.18.0->flair) (0.4.4)\n",
            "Requirement already satisfied: tokenizers<0.20,>=0.19 in /usr/local/lib/python3.10/dist-packages (from transformers<5.0.0,>=4.18.0->transformers[sentencepiece]<5.0.0,>=4.18.0->flair) (0.19.1)\n",
            "Requirement already satisfied: protobuf in /usr/local/lib/python3.10/dist-packages (from transformers[sentencepiece]<5.0.0,>=4.18.0->flair) (3.20.3)\n",
            "Requirement already satisfied: sentencepiece!=0.1.92,>=0.1.91 in /usr/local/lib/python3.10/dist-packages (from transformers[sentencepiece]<5.0.0,>=4.18.0->flair) (0.1.99)\n",
            "Requirement already satisfied: urllib3!=2.2.0,<3,>=1.25.4 in /usr/local/lib/python3.10/dist-packages (from botocore<1.36.0,>=1.35.12->boto3>=1.20.27->flair) (2.0.7)\n",
            "Requirement already satisfied: attrs>=19.2.0 in /usr/local/lib/python3.10/dist-packages (from jsonlines>=1.2.0->bioc<3.0.0,>=2.0.0->flair) (24.2.0)\n",
            "Requirement already satisfied: accelerate>=0.21.0 in /usr/local/lib/python3.10/dist-packages (from transformers[sentencepiece,torch]<5.0,>=4.1->transformer-smaller-training-vocab>=0.2.3->flair) (0.33.0)\n",
            "Requirement already satisfied: soupsieve>1.2 in /usr/local/lib/python3.10/dist-packages (from beautifulsoup4->gdown>=4.4.0->flair) (2.6)\n",
            "Requirement already satisfied: sortedcontainers<3.0,>=2.0 in /usr/local/lib/python3.10/dist-packages (from intervaltree->bioc<3.0.0,>=2.0.0->flair) (2.4.0)\n",
            "Requirement already satisfied: MarkupSafe>=2.0 in /usr/local/lib/python3.10/dist-packages (from jinja2->mpld3>=0.3->flair) (2.1.5)\n",
            "Requirement already satisfied: charset-normalizer<4,>=2 in /usr/local/lib/python3.10/dist-packages (from requests[socks]->gdown>=4.4.0->flair) (3.3.2)\n",
            "Requirement already satisfied: idna<4,>=2.5 in /usr/local/lib/python3.10/dist-packages (from requests[socks]->gdown>=4.4.0->flair) (3.8)\n",
            "Requirement already satisfied: certifi>=2017.4.17 in /usr/local/lib/python3.10/dist-packages (from requests[socks]->gdown>=4.4.0->flair) (2024.8.30)\n",
            "Requirement already satisfied: PySocks!=1.5.7,>=1.5.6 in /usr/local/lib/python3.10/dist-packages (from requests[socks]->gdown>=4.4.0->flair) (1.7.1)\n",
            "Requirement already satisfied: mpmath<1.4,>=1.1.0 in /usr/local/lib/python3.10/dist-packages (from sympy->torch!=1.8,>=1.5.0->flair) (1.3.0)\n",
            "Requirement already satisfied: psutil in /usr/local/lib/python3.10/dist-packages (from accelerate>=0.21.0->transformers[sentencepiece,torch]<5.0,>=4.1->transformer-smaller-training-vocab>=0.2.3->flair) (5.9.5)\n",
            "Downloading flair-0.14.0-py3-none-any.whl (776 kB)\n",
            "\u001b[2K   \u001b[90m━━━━━━━━━━━━━━━━━━━━━━━━━━━━━━━━━━━━━━━━\u001b[0m \u001b[32m776.5/776.5 kB\u001b[0m \u001b[31m41.1 MB/s\u001b[0m eta \u001b[36m0:00:00\u001b[0m\n",
            "\u001b[?25hDownloading bioc-2.1-py3-none-any.whl (33 kB)\n",
            "Downloading boto3-1.35.12-py3-none-any.whl (139 kB)\n",
            "\u001b[2K   \u001b[90m━━━━━━━━━━━━━━━━━━━━━━━━━━━━━━━━━━━━━━━━\u001b[0m \u001b[32m139.2/139.2 kB\u001b[0m \u001b[31m10.5 MB/s\u001b[0m eta \u001b[36m0:00:00\u001b[0m\n",
            "\u001b[?25hDownloading conllu-4.5.3-py2.py3-none-any.whl (16 kB)\n",
            "Downloading Deprecated-1.2.14-py2.py3-none-any.whl (9.6 kB)\n",
            "Downloading ftfy-6.2.3-py3-none-any.whl (43 kB)\n",
            "\u001b[2K   \u001b[90m━━━━━━━━━━━━━━━━━━━━━━━━━━━━━━━━━━━━━━━━\u001b[0m \u001b[32m43.0/43.0 kB\u001b[0m \u001b[31m2.7 MB/s\u001b[0m eta \u001b[36m0:00:00\u001b[0m\n",
            "\u001b[?25hDownloading mpld3-0.5.10-py3-none-any.whl (202 kB)\n",
            "\u001b[2K   \u001b[90m━━━━━━━━━━━━━━━━━━━━━━━━━━━━━━━━━━━━━━━━\u001b[0m \u001b[32m202.6/202.6 kB\u001b[0m \u001b[31m11.3 MB/s\u001b[0m eta \u001b[36m0:00:00\u001b[0m\n",
            "\u001b[?25hDownloading pytorch_revgrad-0.2.0-py3-none-any.whl (4.6 kB)\n",
            "Downloading segtok-1.5.11-py3-none-any.whl (24 kB)\n",
            "Downloading semver-3.0.2-py3-none-any.whl (17 kB)\n",
            "Downloading transformer_smaller_training_vocab-0.4.0-py3-none-any.whl (14 kB)\n",
            "Downloading botocore-1.35.12-py3-none-any.whl (12.5 MB)\n",
            "\u001b[2K   \u001b[90m━━━━━━━━━━━━━━━━━━━━━━━━━━━━━━━━━━━━━━━━\u001b[0m \u001b[32m12.5/12.5 MB\u001b[0m \u001b[31m51.9 MB/s\u001b[0m eta \u001b[36m0:00:00\u001b[0m\n",
            "\u001b[?25hDownloading jmespath-1.0.1-py3-none-any.whl (20 kB)\n",
            "Downloading jsonlines-4.0.0-py3-none-any.whl (8.7 kB)\n",
            "Downloading s3transfer-0.10.2-py3-none-any.whl (82 kB)\n",
            "\u001b[2K   \u001b[90m━━━━━━━━━━━━━━━━━━━━━━━━━━━━━━━━━━━━━━━━\u001b[0m \u001b[32m82.7/82.7 kB\u001b[0m \u001b[31m5.6 MB/s\u001b[0m eta \u001b[36m0:00:00\u001b[0m\n",
            "\u001b[?25hBuilding wheels for collected packages: langdetect, pptree, sqlitedict, wikipedia-api, docopt, intervaltree\n",
            "  Building wheel for langdetect (setup.py) ... \u001b[?25l\u001b[?25hdone\n",
            "  Created wheel for langdetect: filename=langdetect-1.0.9-py3-none-any.whl size=993221 sha256=71f158e4889ee6ce09c502bf8af9171d348354999bf763ae26bab2c83a6c8992\n",
            "  Stored in directory: /root/.cache/pip/wheels/95/03/7d/59ea870c70ce4e5a370638b5462a7711ab78fba2f655d05106\n",
            "  Building wheel for pptree (setup.py) ... \u001b[?25l\u001b[?25hdone\n",
            "  Created wheel for pptree: filename=pptree-3.1-py3-none-any.whl size=4609 sha256=db70b6634d17c48672a170ea06e51749e2e6a4ad80b7cb2676cf7b40cf8c2be7\n",
            "  Stored in directory: /root/.cache/pip/wheels/9f/b6/0e/6f26eb9e6eb53ff2107a7888d72b5a6a597593956113037828\n",
            "  Building wheel for sqlitedict (setup.py) ... \u001b[?25l\u001b[?25hdone\n",
            "  Created wheel for sqlitedict: filename=sqlitedict-2.1.0-py3-none-any.whl size=16863 sha256=7b4d56c51900301db51ba492c4d5e085e0fc7eee8421753847199b90daf6e417\n",
            "  Stored in directory: /root/.cache/pip/wheels/79/d6/e7/304e0e6cb2221022c26d8161f7c23cd4f259a9e41e8bbcfabd\n",
            "  Building wheel for wikipedia-api (setup.py) ... \u001b[?25l\u001b[?25hdone\n",
            "  Created wheel for wikipedia-api: filename=Wikipedia_API-0.7.1-py3-none-any.whl size=14347 sha256=5ef510f536e330e702a516b57e6ed7f0d1a54d3983c80778a7a9691f7fef16a5\n",
            "  Stored in directory: /root/.cache/pip/wheels/4c/96/18/b9201cc3e8b47b02b510460210cfd832ccf10c0c4dd0522962\n",
            "  Building wheel for docopt (setup.py) ... \u001b[?25l\u001b[?25hdone\n",
            "  Created wheel for docopt: filename=docopt-0.6.2-py2.py3-none-any.whl size=13704 sha256=5b804da76375ebcb678d73b019aa07785df68fbba61de50c69dda05d97c84a42\n",
            "  Stored in directory: /root/.cache/pip/wheels/fc/ab/d4/5da2067ac95b36618c629a5f93f809425700506f72c9732fac\n",
            "  Building wheel for intervaltree (setup.py) ... \u001b[?25l\u001b[?25hdone\n",
            "  Created wheel for intervaltree: filename=intervaltree-3.1.0-py2.py3-none-any.whl size=26096 sha256=a19670b8822739237c3f47297b4138408757ac3f09bf1ef6dcef7055e4ca3284\n",
            "  Stored in directory: /root/.cache/pip/wheels/fa/80/8c/43488a924a046b733b64de3fac99252674c892a4c3801c0a61\n",
            "Successfully built langdetect pptree sqlitedict wikipedia-api docopt intervaltree\n",
            "Installing collected packages: sqlitedict, pptree, docopt, semver, segtok, langdetect, jsonlines, jmespath, intervaltree, ftfy, deprecated, conllu, wikipedia-api, botocore, bioc, s3transfer, pytorch-revgrad, mpld3, boto3, transformer-smaller-training-vocab, flair\n",
            "Successfully installed bioc-2.1 boto3-1.35.12 botocore-1.35.12 conllu-4.5.3 deprecated-1.2.14 docopt-0.6.2 flair-0.14.0 ftfy-6.2.3 intervaltree-3.1.0 jmespath-1.0.1 jsonlines-4.0.0 langdetect-1.0.9 mpld3-0.5.10 pptree-3.1 pytorch-revgrad-0.2.0 s3transfer-0.10.2 segtok-1.5.11 semver-3.0.2 sqlitedict-2.1.0 transformer-smaller-training-vocab-0.4.0 wikipedia-api-0.7.1\n"
          ]
        }
      ],
      "source": [
        "!pip install flair"
      ]
    },
    {
      "cell_type": "markdown",
      "id": "388eb76d-e979-4240-aaf6-420e676e494c",
      "metadata": {
        "id": "388eb76d-e979-4240-aaf6-420e676e494c"
      },
      "source": [
        "<font size = 5 color = 'seagreen'>  <b> import necessary modules for sentiment classification"
      ]
    },
    {
      "cell_type": "code",
      "execution_count": 22,
      "id": "5bf64674-fa7e-4048-9e1c-6ca98c86b380",
      "metadata": {
        "id": "5bf64674-fa7e-4048-9e1c-6ca98c86b380",
        "tags": []
      },
      "outputs": [],
      "source": [
        "from flair.models import TextClassifier\n",
        "from flair.data import Sentence"
      ]
    },
    {
      "cell_type": "markdown",
      "id": "21969cf3-593a-4ce6-9d98-cd3b54ad9869",
      "metadata": {
        "id": "21969cf3-593a-4ce6-9d98-cd3b54ad9869"
      },
      "source": [
        "<font size = 5 color = 'seagreen'>  <b> TextClassifier class from Flair is used to load the pre-trained sentiment analysis model."
      ]
    },
    {
      "cell_type": "code",
      "execution_count": 23,
      "id": "de1f56dd-b87e-474e-a4e0-c1e64aaef10d",
      "metadata": {
        "id": "de1f56dd-b87e-474e-a4e0-c1e64aaef10d",
        "tags": [],
        "colab": {
          "base_uri": "https://localhost:8080/",
          "height": 234,
          "referenced_widgets": [
            "513dd2fb75cb48f2a29b2d33b4765c14",
            "56b1276a07024033b2823971d0da63f9",
            "c5ddba8d28854cedb494827031b0baa6",
            "1b65e96ccdf044de930914f3e23e9df1",
            "05f75e42e75b468c9da28eef4186cce5",
            "e45be43a90f540d086086b695978782e",
            "cd297723d1ae46a5b5ff349aa153f239",
            "d60405dcb78449acaa666760d4ac8bcb",
            "132ba4006c614435aaa16fbee6f2d0fa",
            "484c640fa759450b810278ca60c83c70",
            "35ed6890d537474e9b19fd76be90677f",
            "74be999a8e714654ab6e1924b435bcb0",
            "110d6bae80fd40c9bd1cd89c057a514c",
            "b8f9e0f9581a4c52988f32fc9c7d59d5",
            "6ee7d8d02c944b1882f757d40fcef70f",
            "a25f000dcf4047e68efc88c5085a93ff",
            "fe8d876f3cf642dc93df1927eed79ffb",
            "fc89f65e788842699204be6b27649fbf",
            "865d6ca0b9834b0b87c75bb42e426d91",
            "1e66d1d4a7464184b2ea1708eeef3927",
            "b248cc6e14d54723a5dac50564e29825",
            "d388e841c9a54445830a78b85bce7149",
            "c9e997bb6f534490b54f2b53f7a5f84b",
            "357b9dc18646467297852490bdb666cf",
            "ae8af720898a4dd9be54c3e272d05434",
            "3c8f0b358fd7453ebc26874e4007682b",
            "960448109fb34866824b4198b0972ddc",
            "7b2dfc4bbef146f28fed80338a2b70ca",
            "3453f84f41594fbfa2bdaad457baae12",
            "3f46eb692eaa4fd99baddc878f0c526b",
            "e9c3265909fb43d4a510f2e6c627ead3",
            "2ba27119db2042f69ab5a8bd4a975c3e",
            "350cd4bd5e5c48fa86f103073686ea83",
            "9994d618882b4839b6f7397fcb42ea3a",
            "3555c6261d2c42f69f9869f48892e5a4",
            "a6ac799049534982a4b5d24ec87c904e",
            "169395535ed5424ab3fd75b6aa5d8dec",
            "9498454b0dbf4df79033260e68a8af98",
            "a944237cc4134627a216b0989615f812",
            "1a3716be9d644b0cb9490fa0badef6eb",
            "e16eec8d8e84458ea2c428dbe4e692af",
            "ce41d50d7f9d4ded9f26662ab8edacb7",
            "7d5ebae19619423b9769f8c63fd687cd",
            "3ca05348b1374bdb96a3946bf9cf9e73"
          ]
        },
        "outputId": "6b0955f2-ff30-45c9-fc3f-0386dda5528a"
      },
      "outputs": [
        {
          "output_type": "stream",
          "name": "stdout",
          "text": [
            "2024-09-05 09:41:38,418 https://nlp.informatik.hu-berlin.de/resources/models/sentiment-curated-distilbert/sentiment-en-mix-distillbert_4.pt not found in cache, downloading to /tmp/tmpk8gdicw4\n"
          ]
        },
        {
          "output_type": "stream",
          "name": "stderr",
          "text": [
            "100%|██████████| 253M/253M [00:15<00:00, 17.0MB/s]\n"
          ]
        },
        {
          "output_type": "stream",
          "name": "stdout",
          "text": [
            "2024-09-05 09:41:54,523 copying /tmp/tmpk8gdicw4 to cache at /root/.flair/models/sentiment-en-mix-distillbert_4.pt\n",
            "2024-09-05 09:41:55,077 removing temp file /tmp/tmpk8gdicw4\n"
          ]
        },
        {
          "output_type": "display_data",
          "data": {
            "text/plain": [
              "tokenizer_config.json:   0%|          | 0.00/48.0 [00:00<?, ?B/s]"
            ],
            "application/vnd.jupyter.widget-view+json": {
              "version_major": 2,
              "version_minor": 0,
              "model_id": "513dd2fb75cb48f2a29b2d33b4765c14"
            }
          },
          "metadata": {}
        },
        {
          "output_type": "display_data",
          "data": {
            "text/plain": [
              "config.json:   0%|          | 0.00/483 [00:00<?, ?B/s]"
            ],
            "application/vnd.jupyter.widget-view+json": {
              "version_major": 2,
              "version_minor": 0,
              "model_id": "74be999a8e714654ab6e1924b435bcb0"
            }
          },
          "metadata": {}
        },
        {
          "output_type": "display_data",
          "data": {
            "text/plain": [
              "vocab.txt:   0%|          | 0.00/232k [00:00<?, ?B/s]"
            ],
            "application/vnd.jupyter.widget-view+json": {
              "version_major": 2,
              "version_minor": 0,
              "model_id": "c9e997bb6f534490b54f2b53f7a5f84b"
            }
          },
          "metadata": {}
        },
        {
          "output_type": "display_data",
          "data": {
            "text/plain": [
              "tokenizer.json:   0%|          | 0.00/466k [00:00<?, ?B/s]"
            ],
            "application/vnd.jupyter.widget-view+json": {
              "version_major": 2,
              "version_minor": 0,
              "model_id": "9994d618882b4839b6f7397fcb42ea3a"
            }
          },
          "metadata": {}
        }
      ],
      "source": [
        "classifier = TextClassifier.load('en-sentiment')"
      ]
    },
    {
      "cell_type": "markdown",
      "id": "2a237aca-d24e-401f-855a-40026c9aa6c5",
      "metadata": {
        "id": "2a237aca-d24e-401f-855a-40026c9aa6c5"
      },
      "source": [
        "<font size = 5 color = 'seagreen'>  <b> This model is applied to a sample text by creating a Sentence object and predicting the sentiment using the predict method."
      ]
    },
    {
      "cell_type": "markdown",
      "id": "14GrzSmhnzS3",
      "metadata": {
        "id": "14GrzSmhnzS3"
      },
      "source": [
        "<font size = 5 color = 'darkblue'> **For Text1:**\n",
        "<font size = 5 color = 'pwdrblue'> <b>  \"Life's been a rollercoaster lately 🎢, with work stress piling up 😓.\""
      ]
    },
    {
      "cell_type": "code",
      "execution_count": 24,
      "id": "1cda5674-6a06-4a4f-ae45-76c17432edf2",
      "metadata": {
        "id": "1cda5674-6a06-4a4f-ae45-76c17432edf2",
        "tags": []
      },
      "outputs": [],
      "source": [
        "sentence = Sentence(text1)\n",
        "classifier.predict(sentence)"
      ]
    },
    {
      "cell_type": "markdown",
      "id": "68818da0-a874-4bd8-8aeb-84ea1afa9fef",
      "metadata": {
        "id": "68818da0-a874-4bd8-8aeb-84ea1afa9fef"
      },
      "source": [
        "<font size = 5 color = 'seagreen'>  <b>The predicted sentiment label can be accessed through the sentence.labels attribute."
      ]
    },
    {
      "cell_type": "code",
      "execution_count": 25,
      "id": "b344a78f-3c50-4c86-a5c3-3e8d784aadc7",
      "metadata": {
        "id": "b344a78f-3c50-4c86-a5c3-3e8d784aadc7",
        "tags": [],
        "colab": {
          "base_uri": "https://localhost:8080/"
        },
        "outputId": "1ea1a9e3-743b-4155-9b00-73ec21484c52"
      },
      "outputs": [
        {
          "output_type": "stream",
          "name": "stdout",
          "text": [
            "Life's been a rollercoaster lately 🎢, with work stress piling up 😓.\n",
            "Sentiment is: POSITIVE\n",
            "Sentiment score is: 0.7040\n"
          ]
        }
      ],
      "source": [
        "# print the sentence with predicted labels\n",
        "print(text1)\n",
        "print(f'Sentiment is: {sentence.tag}')\n",
        "print(f'Sentiment score is: {sentence.score:0.4f}')"
      ]
    },
    {
      "cell_type": "markdown",
      "id": "qcmaG4CLn_Km",
      "metadata": {
        "id": "qcmaG4CLn_Km"
      },
      "source": [
        "<font size = 5 color = 'darkblue'> <b>For Text2 : <font size = 5 color = 'pwdrblue'> <b>  \"Thankfully, weekends bring joy and laughter with friends 🌟.\""
      ]
    },
    {
      "cell_type": "code",
      "execution_count": 26,
      "id": "13d7b82e-4b97-4c2c-93ce-5aad92f10c00",
      "metadata": {
        "id": "13d7b82e-4b97-4c2c-93ce-5aad92f10c00",
        "tags": [],
        "colab": {
          "base_uri": "https://localhost:8080/"
        },
        "outputId": "de3a5dba-4efc-4451-b0b8-fa13b3397285"
      },
      "outputs": [
        {
          "output_type": "stream",
          "name": "stdout",
          "text": [
            "Thankfully, weekends bring joy and laughter with friends 🌟. \n",
            "Sentiment is: POSITIVE\n",
            "Sentiment score is: 0.9966\n"
          ]
        }
      ],
      "source": [
        "sentence = Sentence(text2)\n",
        "classifier.predict(sentence)\n",
        "\n",
        "# print the sentence with predicted labels\n",
        "print(text2)\n",
        "print(f'Sentiment is: {sentence.tag}')\n",
        "print(f'Sentiment score is: {sentence.score:0.4f}')"
      ]
    },
    {
      "cell_type": "markdown",
      "id": "GQP0tks6oUSY",
      "metadata": {
        "id": "GQP0tks6oUSY"
      },
      "source": [
        "<font size = 5 color = 'darkblue'> <b>For Text3 : <font size = 5 color = 'pwdrblue'> <b>\"Grateful for those moments, but hoping for smoother days ahead.\""
      ]
    },
    {
      "cell_type": "code",
      "execution_count": 27,
      "id": "89b9cb1c-d8af-4050-b210-d5e26209a3d9",
      "metadata": {
        "id": "89b9cb1c-d8af-4050-b210-d5e26209a3d9",
        "tags": [],
        "colab": {
          "base_uri": "https://localhost:8080/"
        },
        "outputId": "59752e05-2dd9-488a-8a1b-49bae3e9392c"
      },
      "outputs": [
        {
          "output_type": "stream",
          "name": "stdout",
          "text": [
            "Grateful for those moments, but hoping for smoother days ahead.\n",
            "Sentiment is: NEGATIVE\n",
            "Sentiment score is: 0.5790\n"
          ]
        }
      ],
      "source": [
        "sentence = Sentence(text3)\n",
        "classifier.predict(sentence)\n",
        "\n",
        "# print the sentence with predicted labels\n",
        "print(text3)\n",
        "print(f'Sentiment is: {sentence.tag}')\n",
        "print(f'Sentiment score is: {sentence.score:0.4f}')"
      ]
    },
    {
      "cell_type": "markdown",
      "id": "zkRRXVNjoVeH",
      "metadata": {
        "id": "zkRRXVNjoVeH"
      },
      "source": [
        "<font size = 5 color = 'darkblue'> <b>For Text4 : <font size = 5 color = 'pwdrblue'> <b>\"Optimistic about the future despite the current challenges. 🌈 #LifeJourney\""
      ]
    },
    {
      "cell_type": "code",
      "execution_count": 28,
      "id": "76ce19da-de5e-41cb-b97d-ccf230a99e90",
      "metadata": {
        "id": "76ce19da-de5e-41cb-b97d-ccf230a99e90",
        "tags": [],
        "colab": {
          "base_uri": "https://localhost:8080/"
        },
        "outputId": "f5ab2d1c-971f-47b3-87c5-6ef772a73007"
      },
      "outputs": [
        {
          "output_type": "stream",
          "name": "stdout",
          "text": [
            "Optimistic about the future despite the current challenges. 🌈 #LifeJourney\n",
            "Sentiment is: POSITIVE\n",
            "Sentiment score is: 0.9959\n"
          ]
        }
      ],
      "source": [
        "sentence = Sentence(text4)\n",
        "classifier.predict(sentence)\n",
        "\n",
        "# print the sentence with predicted labels\n",
        "print(text4)\n",
        "print(f'Sentiment is: {sentence.tag}')\n",
        "print(f'Sentiment score is: {sentence.score:0.4f}')"
      ]
    }
  ],
  "metadata": {
    "colab": {
      "provenance": []
    },
    "kernelspec": {
      "display_name": "Python 3 (ipykernel)",
      "language": "python",
      "name": "python3"
    },
    "language_info": {
      "codemirror_mode": {
        "name": "ipython",
        "version": 3
      },
      "file_extension": ".py",
      "mimetype": "text/x-python",
      "name": "python",
      "nbconvert_exporter": "python",
      "pygments_lexer": "ipython3",
      "version": "3.11.5"
    },
    "widgets": {
      "application/vnd.jupyter.widget-state+json": {
        "513dd2fb75cb48f2a29b2d33b4765c14": {
          "model_module": "@jupyter-widgets/controls",
          "model_name": "HBoxModel",
          "model_module_version": "1.5.0",
          "state": {
            "_dom_classes": [],
            "_model_module": "@jupyter-widgets/controls",
            "_model_module_version": "1.5.0",
            "_model_name": "HBoxModel",
            "_view_count": null,
            "_view_module": "@jupyter-widgets/controls",
            "_view_module_version": "1.5.0",
            "_view_name": "HBoxView",
            "box_style": "",
            "children": [
              "IPY_MODEL_56b1276a07024033b2823971d0da63f9",
              "IPY_MODEL_c5ddba8d28854cedb494827031b0baa6",
              "IPY_MODEL_1b65e96ccdf044de930914f3e23e9df1"
            ],
            "layout": "IPY_MODEL_05f75e42e75b468c9da28eef4186cce5"
          }
        },
        "56b1276a07024033b2823971d0da63f9": {
          "model_module": "@jupyter-widgets/controls",
          "model_name": "HTMLModel",
          "model_module_version": "1.5.0",
          "state": {
            "_dom_classes": [],
            "_model_module": "@jupyter-widgets/controls",
            "_model_module_version": "1.5.0",
            "_model_name": "HTMLModel",
            "_view_count": null,
            "_view_module": "@jupyter-widgets/controls",
            "_view_module_version": "1.5.0",
            "_view_name": "HTMLView",
            "description": "",
            "description_tooltip": null,
            "layout": "IPY_MODEL_e45be43a90f540d086086b695978782e",
            "placeholder": "​",
            "style": "IPY_MODEL_cd297723d1ae46a5b5ff349aa153f239",
            "value": "tokenizer_config.json: 100%"
          }
        },
        "c5ddba8d28854cedb494827031b0baa6": {
          "model_module": "@jupyter-widgets/controls",
          "model_name": "FloatProgressModel",
          "model_module_version": "1.5.0",
          "state": {
            "_dom_classes": [],
            "_model_module": "@jupyter-widgets/controls",
            "_model_module_version": "1.5.0",
            "_model_name": "FloatProgressModel",
            "_view_count": null,
            "_view_module": "@jupyter-widgets/controls",
            "_view_module_version": "1.5.0",
            "_view_name": "ProgressView",
            "bar_style": "success",
            "description": "",
            "description_tooltip": null,
            "layout": "IPY_MODEL_d60405dcb78449acaa666760d4ac8bcb",
            "max": 48,
            "min": 0,
            "orientation": "horizontal",
            "style": "IPY_MODEL_132ba4006c614435aaa16fbee6f2d0fa",
            "value": 48
          }
        },
        "1b65e96ccdf044de930914f3e23e9df1": {
          "model_module": "@jupyter-widgets/controls",
          "model_name": "HTMLModel",
          "model_module_version": "1.5.0",
          "state": {
            "_dom_classes": [],
            "_model_module": "@jupyter-widgets/controls",
            "_model_module_version": "1.5.0",
            "_model_name": "HTMLModel",
            "_view_count": null,
            "_view_module": "@jupyter-widgets/controls",
            "_view_module_version": "1.5.0",
            "_view_name": "HTMLView",
            "description": "",
            "description_tooltip": null,
            "layout": "IPY_MODEL_484c640fa759450b810278ca60c83c70",
            "placeholder": "​",
            "style": "IPY_MODEL_35ed6890d537474e9b19fd76be90677f",
            "value": " 48.0/48.0 [00:00&lt;00:00, 2.37kB/s]"
          }
        },
        "05f75e42e75b468c9da28eef4186cce5": {
          "model_module": "@jupyter-widgets/base",
          "model_name": "LayoutModel",
          "model_module_version": "1.2.0",
          "state": {
            "_model_module": "@jupyter-widgets/base",
            "_model_module_version": "1.2.0",
            "_model_name": "LayoutModel",
            "_view_count": null,
            "_view_module": "@jupyter-widgets/base",
            "_view_module_version": "1.2.0",
            "_view_name": "LayoutView",
            "align_content": null,
            "align_items": null,
            "align_self": null,
            "border": null,
            "bottom": null,
            "display": null,
            "flex": null,
            "flex_flow": null,
            "grid_area": null,
            "grid_auto_columns": null,
            "grid_auto_flow": null,
            "grid_auto_rows": null,
            "grid_column": null,
            "grid_gap": null,
            "grid_row": null,
            "grid_template_areas": null,
            "grid_template_columns": null,
            "grid_template_rows": null,
            "height": null,
            "justify_content": null,
            "justify_items": null,
            "left": null,
            "margin": null,
            "max_height": null,
            "max_width": null,
            "min_height": null,
            "min_width": null,
            "object_fit": null,
            "object_position": null,
            "order": null,
            "overflow": null,
            "overflow_x": null,
            "overflow_y": null,
            "padding": null,
            "right": null,
            "top": null,
            "visibility": null,
            "width": null
          }
        },
        "e45be43a90f540d086086b695978782e": {
          "model_module": "@jupyter-widgets/base",
          "model_name": "LayoutModel",
          "model_module_version": "1.2.0",
          "state": {
            "_model_module": "@jupyter-widgets/base",
            "_model_module_version": "1.2.0",
            "_model_name": "LayoutModel",
            "_view_count": null,
            "_view_module": "@jupyter-widgets/base",
            "_view_module_version": "1.2.0",
            "_view_name": "LayoutView",
            "align_content": null,
            "align_items": null,
            "align_self": null,
            "border": null,
            "bottom": null,
            "display": null,
            "flex": null,
            "flex_flow": null,
            "grid_area": null,
            "grid_auto_columns": null,
            "grid_auto_flow": null,
            "grid_auto_rows": null,
            "grid_column": null,
            "grid_gap": null,
            "grid_row": null,
            "grid_template_areas": null,
            "grid_template_columns": null,
            "grid_template_rows": null,
            "height": null,
            "justify_content": null,
            "justify_items": null,
            "left": null,
            "margin": null,
            "max_height": null,
            "max_width": null,
            "min_height": null,
            "min_width": null,
            "object_fit": null,
            "object_position": null,
            "order": null,
            "overflow": null,
            "overflow_x": null,
            "overflow_y": null,
            "padding": null,
            "right": null,
            "top": null,
            "visibility": null,
            "width": null
          }
        },
        "cd297723d1ae46a5b5ff349aa153f239": {
          "model_module": "@jupyter-widgets/controls",
          "model_name": "DescriptionStyleModel",
          "model_module_version": "1.5.0",
          "state": {
            "_model_module": "@jupyter-widgets/controls",
            "_model_module_version": "1.5.0",
            "_model_name": "DescriptionStyleModel",
            "_view_count": null,
            "_view_module": "@jupyter-widgets/base",
            "_view_module_version": "1.2.0",
            "_view_name": "StyleView",
            "description_width": ""
          }
        },
        "d60405dcb78449acaa666760d4ac8bcb": {
          "model_module": "@jupyter-widgets/base",
          "model_name": "LayoutModel",
          "model_module_version": "1.2.0",
          "state": {
            "_model_module": "@jupyter-widgets/base",
            "_model_module_version": "1.2.0",
            "_model_name": "LayoutModel",
            "_view_count": null,
            "_view_module": "@jupyter-widgets/base",
            "_view_module_version": "1.2.0",
            "_view_name": "LayoutView",
            "align_content": null,
            "align_items": null,
            "align_self": null,
            "border": null,
            "bottom": null,
            "display": null,
            "flex": null,
            "flex_flow": null,
            "grid_area": null,
            "grid_auto_columns": null,
            "grid_auto_flow": null,
            "grid_auto_rows": null,
            "grid_column": null,
            "grid_gap": null,
            "grid_row": null,
            "grid_template_areas": null,
            "grid_template_columns": null,
            "grid_template_rows": null,
            "height": null,
            "justify_content": null,
            "justify_items": null,
            "left": null,
            "margin": null,
            "max_height": null,
            "max_width": null,
            "min_height": null,
            "min_width": null,
            "object_fit": null,
            "object_position": null,
            "order": null,
            "overflow": null,
            "overflow_x": null,
            "overflow_y": null,
            "padding": null,
            "right": null,
            "top": null,
            "visibility": null,
            "width": null
          }
        },
        "132ba4006c614435aaa16fbee6f2d0fa": {
          "model_module": "@jupyter-widgets/controls",
          "model_name": "ProgressStyleModel",
          "model_module_version": "1.5.0",
          "state": {
            "_model_module": "@jupyter-widgets/controls",
            "_model_module_version": "1.5.0",
            "_model_name": "ProgressStyleModel",
            "_view_count": null,
            "_view_module": "@jupyter-widgets/base",
            "_view_module_version": "1.2.0",
            "_view_name": "StyleView",
            "bar_color": null,
            "description_width": ""
          }
        },
        "484c640fa759450b810278ca60c83c70": {
          "model_module": "@jupyter-widgets/base",
          "model_name": "LayoutModel",
          "model_module_version": "1.2.0",
          "state": {
            "_model_module": "@jupyter-widgets/base",
            "_model_module_version": "1.2.0",
            "_model_name": "LayoutModel",
            "_view_count": null,
            "_view_module": "@jupyter-widgets/base",
            "_view_module_version": "1.2.0",
            "_view_name": "LayoutView",
            "align_content": null,
            "align_items": null,
            "align_self": null,
            "border": null,
            "bottom": null,
            "display": null,
            "flex": null,
            "flex_flow": null,
            "grid_area": null,
            "grid_auto_columns": null,
            "grid_auto_flow": null,
            "grid_auto_rows": null,
            "grid_column": null,
            "grid_gap": null,
            "grid_row": null,
            "grid_template_areas": null,
            "grid_template_columns": null,
            "grid_template_rows": null,
            "height": null,
            "justify_content": null,
            "justify_items": null,
            "left": null,
            "margin": null,
            "max_height": null,
            "max_width": null,
            "min_height": null,
            "min_width": null,
            "object_fit": null,
            "object_position": null,
            "order": null,
            "overflow": null,
            "overflow_x": null,
            "overflow_y": null,
            "padding": null,
            "right": null,
            "top": null,
            "visibility": null,
            "width": null
          }
        },
        "35ed6890d537474e9b19fd76be90677f": {
          "model_module": "@jupyter-widgets/controls",
          "model_name": "DescriptionStyleModel",
          "model_module_version": "1.5.0",
          "state": {
            "_model_module": "@jupyter-widgets/controls",
            "_model_module_version": "1.5.0",
            "_model_name": "DescriptionStyleModel",
            "_view_count": null,
            "_view_module": "@jupyter-widgets/base",
            "_view_module_version": "1.2.0",
            "_view_name": "StyleView",
            "description_width": ""
          }
        },
        "74be999a8e714654ab6e1924b435bcb0": {
          "model_module": "@jupyter-widgets/controls",
          "model_name": "HBoxModel",
          "model_module_version": "1.5.0",
          "state": {
            "_dom_classes": [],
            "_model_module": "@jupyter-widgets/controls",
            "_model_module_version": "1.5.0",
            "_model_name": "HBoxModel",
            "_view_count": null,
            "_view_module": "@jupyter-widgets/controls",
            "_view_module_version": "1.5.0",
            "_view_name": "HBoxView",
            "box_style": "",
            "children": [
              "IPY_MODEL_110d6bae80fd40c9bd1cd89c057a514c",
              "IPY_MODEL_b8f9e0f9581a4c52988f32fc9c7d59d5",
              "IPY_MODEL_6ee7d8d02c944b1882f757d40fcef70f"
            ],
            "layout": "IPY_MODEL_a25f000dcf4047e68efc88c5085a93ff"
          }
        },
        "110d6bae80fd40c9bd1cd89c057a514c": {
          "model_module": "@jupyter-widgets/controls",
          "model_name": "HTMLModel",
          "model_module_version": "1.5.0",
          "state": {
            "_dom_classes": [],
            "_model_module": "@jupyter-widgets/controls",
            "_model_module_version": "1.5.0",
            "_model_name": "HTMLModel",
            "_view_count": null,
            "_view_module": "@jupyter-widgets/controls",
            "_view_module_version": "1.5.0",
            "_view_name": "HTMLView",
            "description": "",
            "description_tooltip": null,
            "layout": "IPY_MODEL_fe8d876f3cf642dc93df1927eed79ffb",
            "placeholder": "​",
            "style": "IPY_MODEL_fc89f65e788842699204be6b27649fbf",
            "value": "config.json: 100%"
          }
        },
        "b8f9e0f9581a4c52988f32fc9c7d59d5": {
          "model_module": "@jupyter-widgets/controls",
          "model_name": "FloatProgressModel",
          "model_module_version": "1.5.0",
          "state": {
            "_dom_classes": [],
            "_model_module": "@jupyter-widgets/controls",
            "_model_module_version": "1.5.0",
            "_model_name": "FloatProgressModel",
            "_view_count": null,
            "_view_module": "@jupyter-widgets/controls",
            "_view_module_version": "1.5.0",
            "_view_name": "ProgressView",
            "bar_style": "success",
            "description": "",
            "description_tooltip": null,
            "layout": "IPY_MODEL_865d6ca0b9834b0b87c75bb42e426d91",
            "max": 483,
            "min": 0,
            "orientation": "horizontal",
            "style": "IPY_MODEL_1e66d1d4a7464184b2ea1708eeef3927",
            "value": 483
          }
        },
        "6ee7d8d02c944b1882f757d40fcef70f": {
          "model_module": "@jupyter-widgets/controls",
          "model_name": "HTMLModel",
          "model_module_version": "1.5.0",
          "state": {
            "_dom_classes": [],
            "_model_module": "@jupyter-widgets/controls",
            "_model_module_version": "1.5.0",
            "_model_name": "HTMLModel",
            "_view_count": null,
            "_view_module": "@jupyter-widgets/controls",
            "_view_module_version": "1.5.0",
            "_view_name": "HTMLView",
            "description": "",
            "description_tooltip": null,
            "layout": "IPY_MODEL_b248cc6e14d54723a5dac50564e29825",
            "placeholder": "​",
            "style": "IPY_MODEL_d388e841c9a54445830a78b85bce7149",
            "value": " 483/483 [00:00&lt;00:00, 30.5kB/s]"
          }
        },
        "a25f000dcf4047e68efc88c5085a93ff": {
          "model_module": "@jupyter-widgets/base",
          "model_name": "LayoutModel",
          "model_module_version": "1.2.0",
          "state": {
            "_model_module": "@jupyter-widgets/base",
            "_model_module_version": "1.2.0",
            "_model_name": "LayoutModel",
            "_view_count": null,
            "_view_module": "@jupyter-widgets/base",
            "_view_module_version": "1.2.0",
            "_view_name": "LayoutView",
            "align_content": null,
            "align_items": null,
            "align_self": null,
            "border": null,
            "bottom": null,
            "display": null,
            "flex": null,
            "flex_flow": null,
            "grid_area": null,
            "grid_auto_columns": null,
            "grid_auto_flow": null,
            "grid_auto_rows": null,
            "grid_column": null,
            "grid_gap": null,
            "grid_row": null,
            "grid_template_areas": null,
            "grid_template_columns": null,
            "grid_template_rows": null,
            "height": null,
            "justify_content": null,
            "justify_items": null,
            "left": null,
            "margin": null,
            "max_height": null,
            "max_width": null,
            "min_height": null,
            "min_width": null,
            "object_fit": null,
            "object_position": null,
            "order": null,
            "overflow": null,
            "overflow_x": null,
            "overflow_y": null,
            "padding": null,
            "right": null,
            "top": null,
            "visibility": null,
            "width": null
          }
        },
        "fe8d876f3cf642dc93df1927eed79ffb": {
          "model_module": "@jupyter-widgets/base",
          "model_name": "LayoutModel",
          "model_module_version": "1.2.0",
          "state": {
            "_model_module": "@jupyter-widgets/base",
            "_model_module_version": "1.2.0",
            "_model_name": "LayoutModel",
            "_view_count": null,
            "_view_module": "@jupyter-widgets/base",
            "_view_module_version": "1.2.0",
            "_view_name": "LayoutView",
            "align_content": null,
            "align_items": null,
            "align_self": null,
            "border": null,
            "bottom": null,
            "display": null,
            "flex": null,
            "flex_flow": null,
            "grid_area": null,
            "grid_auto_columns": null,
            "grid_auto_flow": null,
            "grid_auto_rows": null,
            "grid_column": null,
            "grid_gap": null,
            "grid_row": null,
            "grid_template_areas": null,
            "grid_template_columns": null,
            "grid_template_rows": null,
            "height": null,
            "justify_content": null,
            "justify_items": null,
            "left": null,
            "margin": null,
            "max_height": null,
            "max_width": null,
            "min_height": null,
            "min_width": null,
            "object_fit": null,
            "object_position": null,
            "order": null,
            "overflow": null,
            "overflow_x": null,
            "overflow_y": null,
            "padding": null,
            "right": null,
            "top": null,
            "visibility": null,
            "width": null
          }
        },
        "fc89f65e788842699204be6b27649fbf": {
          "model_module": "@jupyter-widgets/controls",
          "model_name": "DescriptionStyleModel",
          "model_module_version": "1.5.0",
          "state": {
            "_model_module": "@jupyter-widgets/controls",
            "_model_module_version": "1.5.0",
            "_model_name": "DescriptionStyleModel",
            "_view_count": null,
            "_view_module": "@jupyter-widgets/base",
            "_view_module_version": "1.2.0",
            "_view_name": "StyleView",
            "description_width": ""
          }
        },
        "865d6ca0b9834b0b87c75bb42e426d91": {
          "model_module": "@jupyter-widgets/base",
          "model_name": "LayoutModel",
          "model_module_version": "1.2.0",
          "state": {
            "_model_module": "@jupyter-widgets/base",
            "_model_module_version": "1.2.0",
            "_model_name": "LayoutModel",
            "_view_count": null,
            "_view_module": "@jupyter-widgets/base",
            "_view_module_version": "1.2.0",
            "_view_name": "LayoutView",
            "align_content": null,
            "align_items": null,
            "align_self": null,
            "border": null,
            "bottom": null,
            "display": null,
            "flex": null,
            "flex_flow": null,
            "grid_area": null,
            "grid_auto_columns": null,
            "grid_auto_flow": null,
            "grid_auto_rows": null,
            "grid_column": null,
            "grid_gap": null,
            "grid_row": null,
            "grid_template_areas": null,
            "grid_template_columns": null,
            "grid_template_rows": null,
            "height": null,
            "justify_content": null,
            "justify_items": null,
            "left": null,
            "margin": null,
            "max_height": null,
            "max_width": null,
            "min_height": null,
            "min_width": null,
            "object_fit": null,
            "object_position": null,
            "order": null,
            "overflow": null,
            "overflow_x": null,
            "overflow_y": null,
            "padding": null,
            "right": null,
            "top": null,
            "visibility": null,
            "width": null
          }
        },
        "1e66d1d4a7464184b2ea1708eeef3927": {
          "model_module": "@jupyter-widgets/controls",
          "model_name": "ProgressStyleModel",
          "model_module_version": "1.5.0",
          "state": {
            "_model_module": "@jupyter-widgets/controls",
            "_model_module_version": "1.5.0",
            "_model_name": "ProgressStyleModel",
            "_view_count": null,
            "_view_module": "@jupyter-widgets/base",
            "_view_module_version": "1.2.0",
            "_view_name": "StyleView",
            "bar_color": null,
            "description_width": ""
          }
        },
        "b248cc6e14d54723a5dac50564e29825": {
          "model_module": "@jupyter-widgets/base",
          "model_name": "LayoutModel",
          "model_module_version": "1.2.0",
          "state": {
            "_model_module": "@jupyter-widgets/base",
            "_model_module_version": "1.2.0",
            "_model_name": "LayoutModel",
            "_view_count": null,
            "_view_module": "@jupyter-widgets/base",
            "_view_module_version": "1.2.0",
            "_view_name": "LayoutView",
            "align_content": null,
            "align_items": null,
            "align_self": null,
            "border": null,
            "bottom": null,
            "display": null,
            "flex": null,
            "flex_flow": null,
            "grid_area": null,
            "grid_auto_columns": null,
            "grid_auto_flow": null,
            "grid_auto_rows": null,
            "grid_column": null,
            "grid_gap": null,
            "grid_row": null,
            "grid_template_areas": null,
            "grid_template_columns": null,
            "grid_template_rows": null,
            "height": null,
            "justify_content": null,
            "justify_items": null,
            "left": null,
            "margin": null,
            "max_height": null,
            "max_width": null,
            "min_height": null,
            "min_width": null,
            "object_fit": null,
            "object_position": null,
            "order": null,
            "overflow": null,
            "overflow_x": null,
            "overflow_y": null,
            "padding": null,
            "right": null,
            "top": null,
            "visibility": null,
            "width": null
          }
        },
        "d388e841c9a54445830a78b85bce7149": {
          "model_module": "@jupyter-widgets/controls",
          "model_name": "DescriptionStyleModel",
          "model_module_version": "1.5.0",
          "state": {
            "_model_module": "@jupyter-widgets/controls",
            "_model_module_version": "1.5.0",
            "_model_name": "DescriptionStyleModel",
            "_view_count": null,
            "_view_module": "@jupyter-widgets/base",
            "_view_module_version": "1.2.0",
            "_view_name": "StyleView",
            "description_width": ""
          }
        },
        "c9e997bb6f534490b54f2b53f7a5f84b": {
          "model_module": "@jupyter-widgets/controls",
          "model_name": "HBoxModel",
          "model_module_version": "1.5.0",
          "state": {
            "_dom_classes": [],
            "_model_module": "@jupyter-widgets/controls",
            "_model_module_version": "1.5.0",
            "_model_name": "HBoxModel",
            "_view_count": null,
            "_view_module": "@jupyter-widgets/controls",
            "_view_module_version": "1.5.0",
            "_view_name": "HBoxView",
            "box_style": "",
            "children": [
              "IPY_MODEL_357b9dc18646467297852490bdb666cf",
              "IPY_MODEL_ae8af720898a4dd9be54c3e272d05434",
              "IPY_MODEL_3c8f0b358fd7453ebc26874e4007682b"
            ],
            "layout": "IPY_MODEL_960448109fb34866824b4198b0972ddc"
          }
        },
        "357b9dc18646467297852490bdb666cf": {
          "model_module": "@jupyter-widgets/controls",
          "model_name": "HTMLModel",
          "model_module_version": "1.5.0",
          "state": {
            "_dom_classes": [],
            "_model_module": "@jupyter-widgets/controls",
            "_model_module_version": "1.5.0",
            "_model_name": "HTMLModel",
            "_view_count": null,
            "_view_module": "@jupyter-widgets/controls",
            "_view_module_version": "1.5.0",
            "_view_name": "HTMLView",
            "description": "",
            "description_tooltip": null,
            "layout": "IPY_MODEL_7b2dfc4bbef146f28fed80338a2b70ca",
            "placeholder": "​",
            "style": "IPY_MODEL_3453f84f41594fbfa2bdaad457baae12",
            "value": "vocab.txt: 100%"
          }
        },
        "ae8af720898a4dd9be54c3e272d05434": {
          "model_module": "@jupyter-widgets/controls",
          "model_name": "FloatProgressModel",
          "model_module_version": "1.5.0",
          "state": {
            "_dom_classes": [],
            "_model_module": "@jupyter-widgets/controls",
            "_model_module_version": "1.5.0",
            "_model_name": "FloatProgressModel",
            "_view_count": null,
            "_view_module": "@jupyter-widgets/controls",
            "_view_module_version": "1.5.0",
            "_view_name": "ProgressView",
            "bar_style": "success",
            "description": "",
            "description_tooltip": null,
            "layout": "IPY_MODEL_3f46eb692eaa4fd99baddc878f0c526b",
            "max": 231508,
            "min": 0,
            "orientation": "horizontal",
            "style": "IPY_MODEL_e9c3265909fb43d4a510f2e6c627ead3",
            "value": 231508
          }
        },
        "3c8f0b358fd7453ebc26874e4007682b": {
          "model_module": "@jupyter-widgets/controls",
          "model_name": "HTMLModel",
          "model_module_version": "1.5.0",
          "state": {
            "_dom_classes": [],
            "_model_module": "@jupyter-widgets/controls",
            "_model_module_version": "1.5.0",
            "_model_name": "HTMLModel",
            "_view_count": null,
            "_view_module": "@jupyter-widgets/controls",
            "_view_module_version": "1.5.0",
            "_view_name": "HTMLView",
            "description": "",
            "description_tooltip": null,
            "layout": "IPY_MODEL_2ba27119db2042f69ab5a8bd4a975c3e",
            "placeholder": "​",
            "style": "IPY_MODEL_350cd4bd5e5c48fa86f103073686ea83",
            "value": " 232k/232k [00:00&lt;00:00, 1.81MB/s]"
          }
        },
        "960448109fb34866824b4198b0972ddc": {
          "model_module": "@jupyter-widgets/base",
          "model_name": "LayoutModel",
          "model_module_version": "1.2.0",
          "state": {
            "_model_module": "@jupyter-widgets/base",
            "_model_module_version": "1.2.0",
            "_model_name": "LayoutModel",
            "_view_count": null,
            "_view_module": "@jupyter-widgets/base",
            "_view_module_version": "1.2.0",
            "_view_name": "LayoutView",
            "align_content": null,
            "align_items": null,
            "align_self": null,
            "border": null,
            "bottom": null,
            "display": null,
            "flex": null,
            "flex_flow": null,
            "grid_area": null,
            "grid_auto_columns": null,
            "grid_auto_flow": null,
            "grid_auto_rows": null,
            "grid_column": null,
            "grid_gap": null,
            "grid_row": null,
            "grid_template_areas": null,
            "grid_template_columns": null,
            "grid_template_rows": null,
            "height": null,
            "justify_content": null,
            "justify_items": null,
            "left": null,
            "margin": null,
            "max_height": null,
            "max_width": null,
            "min_height": null,
            "min_width": null,
            "object_fit": null,
            "object_position": null,
            "order": null,
            "overflow": null,
            "overflow_x": null,
            "overflow_y": null,
            "padding": null,
            "right": null,
            "top": null,
            "visibility": null,
            "width": null
          }
        },
        "7b2dfc4bbef146f28fed80338a2b70ca": {
          "model_module": "@jupyter-widgets/base",
          "model_name": "LayoutModel",
          "model_module_version": "1.2.0",
          "state": {
            "_model_module": "@jupyter-widgets/base",
            "_model_module_version": "1.2.0",
            "_model_name": "LayoutModel",
            "_view_count": null,
            "_view_module": "@jupyter-widgets/base",
            "_view_module_version": "1.2.0",
            "_view_name": "LayoutView",
            "align_content": null,
            "align_items": null,
            "align_self": null,
            "border": null,
            "bottom": null,
            "display": null,
            "flex": null,
            "flex_flow": null,
            "grid_area": null,
            "grid_auto_columns": null,
            "grid_auto_flow": null,
            "grid_auto_rows": null,
            "grid_column": null,
            "grid_gap": null,
            "grid_row": null,
            "grid_template_areas": null,
            "grid_template_columns": null,
            "grid_template_rows": null,
            "height": null,
            "justify_content": null,
            "justify_items": null,
            "left": null,
            "margin": null,
            "max_height": null,
            "max_width": null,
            "min_height": null,
            "min_width": null,
            "object_fit": null,
            "object_position": null,
            "order": null,
            "overflow": null,
            "overflow_x": null,
            "overflow_y": null,
            "padding": null,
            "right": null,
            "top": null,
            "visibility": null,
            "width": null
          }
        },
        "3453f84f41594fbfa2bdaad457baae12": {
          "model_module": "@jupyter-widgets/controls",
          "model_name": "DescriptionStyleModel",
          "model_module_version": "1.5.0",
          "state": {
            "_model_module": "@jupyter-widgets/controls",
            "_model_module_version": "1.5.0",
            "_model_name": "DescriptionStyleModel",
            "_view_count": null,
            "_view_module": "@jupyter-widgets/base",
            "_view_module_version": "1.2.0",
            "_view_name": "StyleView",
            "description_width": ""
          }
        },
        "3f46eb692eaa4fd99baddc878f0c526b": {
          "model_module": "@jupyter-widgets/base",
          "model_name": "LayoutModel",
          "model_module_version": "1.2.0",
          "state": {
            "_model_module": "@jupyter-widgets/base",
            "_model_module_version": "1.2.0",
            "_model_name": "LayoutModel",
            "_view_count": null,
            "_view_module": "@jupyter-widgets/base",
            "_view_module_version": "1.2.0",
            "_view_name": "LayoutView",
            "align_content": null,
            "align_items": null,
            "align_self": null,
            "border": null,
            "bottom": null,
            "display": null,
            "flex": null,
            "flex_flow": null,
            "grid_area": null,
            "grid_auto_columns": null,
            "grid_auto_flow": null,
            "grid_auto_rows": null,
            "grid_column": null,
            "grid_gap": null,
            "grid_row": null,
            "grid_template_areas": null,
            "grid_template_columns": null,
            "grid_template_rows": null,
            "height": null,
            "justify_content": null,
            "justify_items": null,
            "left": null,
            "margin": null,
            "max_height": null,
            "max_width": null,
            "min_height": null,
            "min_width": null,
            "object_fit": null,
            "object_position": null,
            "order": null,
            "overflow": null,
            "overflow_x": null,
            "overflow_y": null,
            "padding": null,
            "right": null,
            "top": null,
            "visibility": null,
            "width": null
          }
        },
        "e9c3265909fb43d4a510f2e6c627ead3": {
          "model_module": "@jupyter-widgets/controls",
          "model_name": "ProgressStyleModel",
          "model_module_version": "1.5.0",
          "state": {
            "_model_module": "@jupyter-widgets/controls",
            "_model_module_version": "1.5.0",
            "_model_name": "ProgressStyleModel",
            "_view_count": null,
            "_view_module": "@jupyter-widgets/base",
            "_view_module_version": "1.2.0",
            "_view_name": "StyleView",
            "bar_color": null,
            "description_width": ""
          }
        },
        "2ba27119db2042f69ab5a8bd4a975c3e": {
          "model_module": "@jupyter-widgets/base",
          "model_name": "LayoutModel",
          "model_module_version": "1.2.0",
          "state": {
            "_model_module": "@jupyter-widgets/base",
            "_model_module_version": "1.2.0",
            "_model_name": "LayoutModel",
            "_view_count": null,
            "_view_module": "@jupyter-widgets/base",
            "_view_module_version": "1.2.0",
            "_view_name": "LayoutView",
            "align_content": null,
            "align_items": null,
            "align_self": null,
            "border": null,
            "bottom": null,
            "display": null,
            "flex": null,
            "flex_flow": null,
            "grid_area": null,
            "grid_auto_columns": null,
            "grid_auto_flow": null,
            "grid_auto_rows": null,
            "grid_column": null,
            "grid_gap": null,
            "grid_row": null,
            "grid_template_areas": null,
            "grid_template_columns": null,
            "grid_template_rows": null,
            "height": null,
            "justify_content": null,
            "justify_items": null,
            "left": null,
            "margin": null,
            "max_height": null,
            "max_width": null,
            "min_height": null,
            "min_width": null,
            "object_fit": null,
            "object_position": null,
            "order": null,
            "overflow": null,
            "overflow_x": null,
            "overflow_y": null,
            "padding": null,
            "right": null,
            "top": null,
            "visibility": null,
            "width": null
          }
        },
        "350cd4bd5e5c48fa86f103073686ea83": {
          "model_module": "@jupyter-widgets/controls",
          "model_name": "DescriptionStyleModel",
          "model_module_version": "1.5.0",
          "state": {
            "_model_module": "@jupyter-widgets/controls",
            "_model_module_version": "1.5.0",
            "_model_name": "DescriptionStyleModel",
            "_view_count": null,
            "_view_module": "@jupyter-widgets/base",
            "_view_module_version": "1.2.0",
            "_view_name": "StyleView",
            "description_width": ""
          }
        },
        "9994d618882b4839b6f7397fcb42ea3a": {
          "model_module": "@jupyter-widgets/controls",
          "model_name": "HBoxModel",
          "model_module_version": "1.5.0",
          "state": {
            "_dom_classes": [],
            "_model_module": "@jupyter-widgets/controls",
            "_model_module_version": "1.5.0",
            "_model_name": "HBoxModel",
            "_view_count": null,
            "_view_module": "@jupyter-widgets/controls",
            "_view_module_version": "1.5.0",
            "_view_name": "HBoxView",
            "box_style": "",
            "children": [
              "IPY_MODEL_3555c6261d2c42f69f9869f48892e5a4",
              "IPY_MODEL_a6ac799049534982a4b5d24ec87c904e",
              "IPY_MODEL_169395535ed5424ab3fd75b6aa5d8dec"
            ],
            "layout": "IPY_MODEL_9498454b0dbf4df79033260e68a8af98"
          }
        },
        "3555c6261d2c42f69f9869f48892e5a4": {
          "model_module": "@jupyter-widgets/controls",
          "model_name": "HTMLModel",
          "model_module_version": "1.5.0",
          "state": {
            "_dom_classes": [],
            "_model_module": "@jupyter-widgets/controls",
            "_model_module_version": "1.5.0",
            "_model_name": "HTMLModel",
            "_view_count": null,
            "_view_module": "@jupyter-widgets/controls",
            "_view_module_version": "1.5.0",
            "_view_name": "HTMLView",
            "description": "",
            "description_tooltip": null,
            "layout": "IPY_MODEL_a944237cc4134627a216b0989615f812",
            "placeholder": "​",
            "style": "IPY_MODEL_1a3716be9d644b0cb9490fa0badef6eb",
            "value": "tokenizer.json: 100%"
          }
        },
        "a6ac799049534982a4b5d24ec87c904e": {
          "model_module": "@jupyter-widgets/controls",
          "model_name": "FloatProgressModel",
          "model_module_version": "1.5.0",
          "state": {
            "_dom_classes": [],
            "_model_module": "@jupyter-widgets/controls",
            "_model_module_version": "1.5.0",
            "_model_name": "FloatProgressModel",
            "_view_count": null,
            "_view_module": "@jupyter-widgets/controls",
            "_view_module_version": "1.5.0",
            "_view_name": "ProgressView",
            "bar_style": "success",
            "description": "",
            "description_tooltip": null,
            "layout": "IPY_MODEL_e16eec8d8e84458ea2c428dbe4e692af",
            "max": 466062,
            "min": 0,
            "orientation": "horizontal",
            "style": "IPY_MODEL_ce41d50d7f9d4ded9f26662ab8edacb7",
            "value": 466062
          }
        },
        "169395535ed5424ab3fd75b6aa5d8dec": {
          "model_module": "@jupyter-widgets/controls",
          "model_name": "HTMLModel",
          "model_module_version": "1.5.0",
          "state": {
            "_dom_classes": [],
            "_model_module": "@jupyter-widgets/controls",
            "_model_module_version": "1.5.0",
            "_model_name": "HTMLModel",
            "_view_count": null,
            "_view_module": "@jupyter-widgets/controls",
            "_view_module_version": "1.5.0",
            "_view_name": "HTMLView",
            "description": "",
            "description_tooltip": null,
            "layout": "IPY_MODEL_7d5ebae19619423b9769f8c63fd687cd",
            "placeholder": "​",
            "style": "IPY_MODEL_3ca05348b1374bdb96a3946bf9cf9e73",
            "value": " 466k/466k [00:00&lt;00:00, 3.79MB/s]"
          }
        },
        "9498454b0dbf4df79033260e68a8af98": {
          "model_module": "@jupyter-widgets/base",
          "model_name": "LayoutModel",
          "model_module_version": "1.2.0",
          "state": {
            "_model_module": "@jupyter-widgets/base",
            "_model_module_version": "1.2.0",
            "_model_name": "LayoutModel",
            "_view_count": null,
            "_view_module": "@jupyter-widgets/base",
            "_view_module_version": "1.2.0",
            "_view_name": "LayoutView",
            "align_content": null,
            "align_items": null,
            "align_self": null,
            "border": null,
            "bottom": null,
            "display": null,
            "flex": null,
            "flex_flow": null,
            "grid_area": null,
            "grid_auto_columns": null,
            "grid_auto_flow": null,
            "grid_auto_rows": null,
            "grid_column": null,
            "grid_gap": null,
            "grid_row": null,
            "grid_template_areas": null,
            "grid_template_columns": null,
            "grid_template_rows": null,
            "height": null,
            "justify_content": null,
            "justify_items": null,
            "left": null,
            "margin": null,
            "max_height": null,
            "max_width": null,
            "min_height": null,
            "min_width": null,
            "object_fit": null,
            "object_position": null,
            "order": null,
            "overflow": null,
            "overflow_x": null,
            "overflow_y": null,
            "padding": null,
            "right": null,
            "top": null,
            "visibility": null,
            "width": null
          }
        },
        "a944237cc4134627a216b0989615f812": {
          "model_module": "@jupyter-widgets/base",
          "model_name": "LayoutModel",
          "model_module_version": "1.2.0",
          "state": {
            "_model_module": "@jupyter-widgets/base",
            "_model_module_version": "1.2.0",
            "_model_name": "LayoutModel",
            "_view_count": null,
            "_view_module": "@jupyter-widgets/base",
            "_view_module_version": "1.2.0",
            "_view_name": "LayoutView",
            "align_content": null,
            "align_items": null,
            "align_self": null,
            "border": null,
            "bottom": null,
            "display": null,
            "flex": null,
            "flex_flow": null,
            "grid_area": null,
            "grid_auto_columns": null,
            "grid_auto_flow": null,
            "grid_auto_rows": null,
            "grid_column": null,
            "grid_gap": null,
            "grid_row": null,
            "grid_template_areas": null,
            "grid_template_columns": null,
            "grid_template_rows": null,
            "height": null,
            "justify_content": null,
            "justify_items": null,
            "left": null,
            "margin": null,
            "max_height": null,
            "max_width": null,
            "min_height": null,
            "min_width": null,
            "object_fit": null,
            "object_position": null,
            "order": null,
            "overflow": null,
            "overflow_x": null,
            "overflow_y": null,
            "padding": null,
            "right": null,
            "top": null,
            "visibility": null,
            "width": null
          }
        },
        "1a3716be9d644b0cb9490fa0badef6eb": {
          "model_module": "@jupyter-widgets/controls",
          "model_name": "DescriptionStyleModel",
          "model_module_version": "1.5.0",
          "state": {
            "_model_module": "@jupyter-widgets/controls",
            "_model_module_version": "1.5.0",
            "_model_name": "DescriptionStyleModel",
            "_view_count": null,
            "_view_module": "@jupyter-widgets/base",
            "_view_module_version": "1.2.0",
            "_view_name": "StyleView",
            "description_width": ""
          }
        },
        "e16eec8d8e84458ea2c428dbe4e692af": {
          "model_module": "@jupyter-widgets/base",
          "model_name": "LayoutModel",
          "model_module_version": "1.2.0",
          "state": {
            "_model_module": "@jupyter-widgets/base",
            "_model_module_version": "1.2.0",
            "_model_name": "LayoutModel",
            "_view_count": null,
            "_view_module": "@jupyter-widgets/base",
            "_view_module_version": "1.2.0",
            "_view_name": "LayoutView",
            "align_content": null,
            "align_items": null,
            "align_self": null,
            "border": null,
            "bottom": null,
            "display": null,
            "flex": null,
            "flex_flow": null,
            "grid_area": null,
            "grid_auto_columns": null,
            "grid_auto_flow": null,
            "grid_auto_rows": null,
            "grid_column": null,
            "grid_gap": null,
            "grid_row": null,
            "grid_template_areas": null,
            "grid_template_columns": null,
            "grid_template_rows": null,
            "height": null,
            "justify_content": null,
            "justify_items": null,
            "left": null,
            "margin": null,
            "max_height": null,
            "max_width": null,
            "min_height": null,
            "min_width": null,
            "object_fit": null,
            "object_position": null,
            "order": null,
            "overflow": null,
            "overflow_x": null,
            "overflow_y": null,
            "padding": null,
            "right": null,
            "top": null,
            "visibility": null,
            "width": null
          }
        },
        "ce41d50d7f9d4ded9f26662ab8edacb7": {
          "model_module": "@jupyter-widgets/controls",
          "model_name": "ProgressStyleModel",
          "model_module_version": "1.5.0",
          "state": {
            "_model_module": "@jupyter-widgets/controls",
            "_model_module_version": "1.5.0",
            "_model_name": "ProgressStyleModel",
            "_view_count": null,
            "_view_module": "@jupyter-widgets/base",
            "_view_module_version": "1.2.0",
            "_view_name": "StyleView",
            "bar_color": null,
            "description_width": ""
          }
        },
        "7d5ebae19619423b9769f8c63fd687cd": {
          "model_module": "@jupyter-widgets/base",
          "model_name": "LayoutModel",
          "model_module_version": "1.2.0",
          "state": {
            "_model_module": "@jupyter-widgets/base",
            "_model_module_version": "1.2.0",
            "_model_name": "LayoutModel",
            "_view_count": null,
            "_view_module": "@jupyter-widgets/base",
            "_view_module_version": "1.2.0",
            "_view_name": "LayoutView",
            "align_content": null,
            "align_items": null,
            "align_self": null,
            "border": null,
            "bottom": null,
            "display": null,
            "flex": null,
            "flex_flow": null,
            "grid_area": null,
            "grid_auto_columns": null,
            "grid_auto_flow": null,
            "grid_auto_rows": null,
            "grid_column": null,
            "grid_gap": null,
            "grid_row": null,
            "grid_template_areas": null,
            "grid_template_columns": null,
            "grid_template_rows": null,
            "height": null,
            "justify_content": null,
            "justify_items": null,
            "left": null,
            "margin": null,
            "max_height": null,
            "max_width": null,
            "min_height": null,
            "min_width": null,
            "object_fit": null,
            "object_position": null,
            "order": null,
            "overflow": null,
            "overflow_x": null,
            "overflow_y": null,
            "padding": null,
            "right": null,
            "top": null,
            "visibility": null,
            "width": null
          }
        },
        "3ca05348b1374bdb96a3946bf9cf9e73": {
          "model_module": "@jupyter-widgets/controls",
          "model_name": "DescriptionStyleModel",
          "model_module_version": "1.5.0",
          "state": {
            "_model_module": "@jupyter-widgets/controls",
            "_model_module_version": "1.5.0",
            "_model_name": "DescriptionStyleModel",
            "_view_count": null,
            "_view_module": "@jupyter-widgets/base",
            "_view_module_version": "1.2.0",
            "_view_name": "StyleView",
            "description_width": ""
          }
        }
      }
    }
  },
  "nbformat": 4,
  "nbformat_minor": 5
}