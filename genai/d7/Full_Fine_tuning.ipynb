{
  "nbformat": 4,
  "nbformat_minor": 0,
  "metadata": {
    "colab": {
      "provenance": []
    },
    "kernelspec": {
      "name": "python3",
      "display_name": "Python 3"
    },
    "language_info": {
      "name": "python"
    }
  },
  "cells": [
    {
      "cell_type": "code",
      "source": [
        "!pip install datasets"
      ],
      "metadata": {
        "id": "ySGK7RkqEu8P"
      },
      "execution_count": null,
      "outputs": []
    },
    {
      "cell_type": "code",
      "source": [
        "from transformers import AutoModelForSequenceClassification, AutoTokenizer, TrainingArguments, Trainer\n",
        "from datasets import load_dataset\n",
        "import torch"
      ],
      "metadata": {
        "id": "BjKDMxWNX1ji"
      },
      "execution_count": null,
      "outputs": []
    },
    {
      "cell_type": "code",
      "source": [
        "dataset = load_dataset(\"imdb\")"
      ],
      "metadata": {
        "id": "UL1CaoeeX3fv"
      },
      "execution_count": null,
      "outputs": []
    },
    {
      "cell_type": "code",
      "source": [
        "train_dataset = dataset[\"train\"].shuffle(seed=42).select(range(200))  # Subset of train split\n",
        "test_dataset = dataset[\"test\"].shuffle(seed=42).select(range(50))  # Subset of test split"
      ],
      "metadata": {
        "id": "LxIYagfOX6tT"
      },
      "execution_count": null,
      "outputs": []
    },
    {
      "cell_type": "code",
      "source": [
        "model_name = \"bert-base-uncased\"\n",
        "model = AutoModelForSequenceClassification.from_pretrained(model_name, num_labels=2)\n",
        "tokenizer = AutoTokenizer.from_pretrained(model_name)"
      ],
      "metadata": {
        "id": "B4nq0VpqX9Su"
      },
      "execution_count": null,
      "outputs": []
    },
    {
      "cell_type": "code",
      "source": [
        "def preprocess_function(examples):\n",
        "    return tokenizer(examples[\"text\"], truncation=True, padding=\"max_length\", max_length=128)"
      ],
      "metadata": {
        "id": "8wE31HBFYA85"
      },
      "execution_count": null,
      "outputs": []
    },
    {
      "cell_type": "code",
      "source": [
        "train_dataset = train_dataset.map(preprocess_function, batched=True)\n",
        "test_dataset = test_dataset.map(preprocess_function, batched=True)"
      ],
      "metadata": {
        "id": "azLeJrVZYCyv"
      },
      "execution_count": null,
      "outputs": []
    },
    {
      "cell_type": "code",
      "source": [
        "train_dataset.set_format(type=\"torch\", columns=[\"input_ids\", \"attention_mask\", \"label\"])\n",
        "test_dataset.set_format(type=\"torch\", columns=[\"input_ids\", \"attention_mask\", \"label\"])"
      ],
      "metadata": {
        "id": "IOMOsJK9YGH_"
      },
      "execution_count": null,
      "outputs": []
    },
    {
      "cell_type": "code",
      "source": [
        "training_args = TrainingArguments(\n",
        "    output_dir=\"./results\",\n",
        "    evaluation_strategy=\"epoch\",\n",
        "    save_strategy=\"epoch\",\n",
        "    learning_rate=2e-5,\n",
        "    per_device_train_batch_size=16,\n",
        "    per_device_eval_batch_size=16,\n",
        "    num_train_epochs=3,\n",
        "    weight_decay=0.01,\n",
        "    save_total_limit=2,\n",
        "    logging_dir=\"./logs\",\n",
        "    logging_steps=10,\n",
        "    load_best_model_at_end=True,\n",
        "    metric_for_best_model=\"eval_loss\",\n",
        ")"
      ],
      "metadata": {
        "id": "cG9IOjWTYJwt"
      },
      "execution_count": null,
      "outputs": []
    },
    {
      "cell_type": "code",
      "source": [
        "trainer = Trainer(\n",
        "    model=model,\n",
        "    args=training_args,\n",
        "    train_dataset=train_dataset,\n",
        "    eval_dataset=test_dataset,\n",
        "    tokenizer=tokenizer,\n",
        ")"
      ],
      "metadata": {
        "id": "HBIYICcaYOCg"
      },
      "execution_count": null,
      "outputs": []
    },
    {
      "cell_type": "code",
      "source": [
        "trainer.train()"
      ],
      "metadata": {
        "id": "e2M5OJKcYQGz"
      },
      "execution_count": null,
      "outputs": []
    },
    {
      "cell_type": "code",
      "source": [
        "eval_results = trainer.evaluate()\n",
        "print(\"Evaluation Results:\", eval_results)"
      ],
      "metadata": {
        "id": "sEXnxOVnYRvV"
      },
      "execution_count": null,
      "outputs": []
    },
    {
      "cell_type": "code",
      "source": [
        "model.save_pretrained(\"./full_finetuned_model\")\n",
        "tokenizer.save_pretrained(\"./full_finetuned_model\")"
      ],
      "metadata": {
        "id": "9cv-NGFDYT_T"
      },
      "execution_count": null,
      "outputs": []
    },
    {
      "cell_type": "code",
      "source": [
        "# Load the Fine-Tuned Model and Tokenizer\n",
        "fine_tuned_model = AutoModelForSequenceClassification.from_pretrained(\"./full_finetuned_model\")\n",
        "fine_tuned_tokenizer = AutoTokenizer.from_pretrained(\"./full_finetuned_model\")"
      ],
      "metadata": {
        "id": "fj8hKUPJYb6g"
      },
      "execution_count": null,
      "outputs": []
    },
    {
      "cell_type": "code",
      "source": [
        "examples = [\n",
        "    \"The movie was absolutely fantastic! The storyline and acting were top-notch.\",\n",
        "    \"I did not enjoy this film. It was boring and poorly made.\",\n",
        "    \"An average movie. Some parts were good, but it lacked overall depth.\",\n",
        "]"
      ],
      "metadata": {
        "id": "K_wbN-0nYeQN"
      },
      "execution_count": null,
      "outputs": []
    },
    {
      "cell_type": "code",
      "source": [
        "inputs = fine_tuned_tokenizer(examples, truncation=True, padding=True, max_length=128, return_tensors=\"pt\")"
      ],
      "metadata": {
        "id": "y_A3W3vfYg0E"
      },
      "execution_count": null,
      "outputs": []
    },
    {
      "cell_type": "code",
      "source": [
        "fine_tuned_model.eval()  # Set the model to evaluation mode\n",
        "with torch.no_grad():  # Disable gradient computation for inference\n",
        "    outputs = fine_tuned_model(**inputs)"
      ],
      "metadata": {
        "id": "4dNu2wAPYksm"
      },
      "execution_count": null,
      "outputs": []
    },
    {
      "cell_type": "code",
      "source": [
        "predicted_logits = outputs.logits\n",
        "predicted_probabilities = torch.nn.functional.softmax(predicted_logits, dim=-1)\n",
        "predicted_classes = torch.argmax(predicted_probabilities, dim=1)"
      ],
      "metadata": {
        "id": "RIXCLr3dYn0w"
      },
      "execution_count": null,
      "outputs": []
    },
    {
      "cell_type": "code",
      "source": [
        "for i, example in enumerate(examples):\n",
        "    label = \"POSITIVE\" if predicted_classes[i] == 1 else \"NEGATIVE\"\n",
        "    confidence = predicted_probabilities[i][predicted_classes[i]].item()\n",
        "    print(f\"Text: {example}\")\n",
        "    print(f\"Prediction: {label} with confidence {confidence:.4f}\\n\")\n"
      ],
      "metadata": {
        "id": "ULv8Zuj_EaA1"
      },
      "execution_count": null,
      "outputs": []
    },
    {
      "cell_type": "code",
      "source": [],
      "metadata": {
        "id": "Clb0t9IKEdeu"
      },
      "execution_count": null,
      "outputs": []
    }
  ]
}