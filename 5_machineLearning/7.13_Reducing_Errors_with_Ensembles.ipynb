{
 "cells": [
  {
   "cell_type": "markdown",
   "metadata": {
    "id": "Ti5fN4ucnSLa"
   },
   "source": [
    "## __Reducing Errors with Ensembles__\n",
    "Let's look at how to reduce errors with ensembles."
   ]
  },
  {
   "cell_type": "markdown",
   "metadata": {
    "id": "_l0k0vZf9wsx"
   },
   "source": [
    "## Step 1: Import the Required Libraries and Load the Data Set\n",
    "\n",
    "- Import pandas, NumPy, SimpleImputer, and MinMaxScaler\n",
    "- Load the breast cancer data set\n",
    "- SimpleImputer is used for treating missing values.\n",
    "- Instead of using standard sklearn, we will use MinMaxScaler.\n"
   ]
  },
  {
   "cell_type": "code",
   "execution_count": null,
   "metadata": {
    "id": "dxvmlyRz9c5a"
   },
   "outputs": [],
   "source": [
    "import pandas as pd\n",
    "import numpy as np\n",
    "from sklearn.impute import SimpleImputer\n",
    "from sklearn.preprocessing import MinMaxScaler"
   ]
  },
  {
   "cell_type": "code",
   "execution_count": null,
   "metadata": {
    "id": "nfW4MyWh9c5c"
   },
   "outputs": [],
   "source": [
    "data = pd.read_csv('https://archive.ics.uci.edu/ml/machine-learning-databases/breast-cancer-wisconsin/breast-cancer-wisconsin.data', header=None)\n",
    "data.columns = ['Sample code', 'Clump Thickness', 'Uniformity of Cell Size', 'Uniformity of Cell Shape',\n",
    "                'Marginal Adhesion', 'Single Epithelial Cell Size', 'Bare Nuclei', 'Bland Chromatin',\n",
    "                'Normal Nucleoli', 'Mitoses','Class']"
   ]
  },
  {
   "cell_type": "code",
   "execution_count": null,
   "metadata": {
    "colab": {
     "base_uri": "https://localhost:8080/",
     "height": 285
    },
    "executionInfo": {
     "elapsed": 1435,
     "status": "ok",
     "timestamp": 1683189719844,
     "user": {
      "displayName": "Sreelakshmi C V",
      "userId": "04477517605899898333"
     },
     "user_tz": -330
    },
    "id": "5FGsqmdj9c5c",
    "outputId": "5e935aed-a7cf-4afe-f4d0-777225e69653"
   },
   "outputs": [],
   "source": [
    "data.head()"
   ]
  },
  {
   "cell_type": "markdown",
   "metadata": {
    "id": "c2YUYPth6DC-"
   },
   "source": [
    "__Observation:__\n",
    "- Here, we can see the first few rows of the breast cancer data."
   ]
  },
  {
   "cell_type": "code",
   "execution_count": null,
   "metadata": {
    "colab": {
     "base_uri": "https://localhost:8080/"
    },
    "executionInfo": {
     "elapsed": 3,
     "status": "ok",
     "timestamp": 1683189724479,
     "user": {
      "displayName": "Sreelakshmi C V",
      "userId": "04477517605899898333"
     },
     "user_tz": -330
    },
    "id": "8wnjAaaP9c5c",
    "outputId": "67f7111a-4283-43ea-b8d9-0a0f508d34ac"
   },
   "outputs": [],
   "source": [
    "data.info()"
   ]
  },
  {
   "cell_type": "markdown",
   "metadata": {
    "id": "VYehMOYR6ejn"
   },
   "source": [
    "__Observation:__\n",
    "- Here, we can see information about the data."
   ]
  },
  {
   "cell_type": "code",
   "execution_count": null,
   "metadata": {
    "colab": {
     "base_uri": "https://localhost:8080/",
     "height": 379
    },
    "executionInfo": {
     "elapsed": 656,
     "status": "ok",
     "timestamp": 1683189729086,
     "user": {
      "displayName": "Sreelakshmi C V",
      "userId": "04477517605899898333"
     },
     "user_tz": -330
    },
    "id": "U_O8y30n6nsU",
    "outputId": "1ecac888-163b-43cb-cb86-809b8bb5c098"
   },
   "outputs": [],
   "source": [
    "data.drop(['Sample code'], axis =1, inplace=True)\n",
    "data.describe()"
   ]
  },
  {
   "cell_type": "markdown",
   "metadata": {
    "id": "wWh0lUCP7ZCY"
   },
   "source": [
    "__Observations:__\n",
    "- Here, we have dropped the sample codes, which are of no use.\n",
    "- Then we described the data and checked for descriptive statistics.\n",
    "- From the data information, we can see that Bare Nuclei is defined as an object, but it's an integer.\n",
    "- Let's find out what went wrong."
   ]
  },
  {
   "cell_type": "code",
   "execution_count": null,
   "metadata": {
    "colab": {
     "base_uri": "https://localhost:8080/"
    },
    "executionInfo": {
     "elapsed": 6,
     "status": "ok",
     "timestamp": 1683190801523,
     "user": {
      "displayName": "Sreelakshmi C V",
      "userId": "04477517605899898333"
     },
     "user_tz": -330
    },
    "id": "Am-iE-Bk9c5d",
    "outputId": "2f29328e-4e1a-4972-989c-2f2ae2f666c4"
   },
   "outputs": [],
   "source": [
    "data['Bare Nuclei'].value_counts()"
   ]
  },
  {
   "cell_type": "markdown",
   "metadata": {
    "id": "NHBmZIxn_ZQw"
   },
   "source": [
    "__Observations:__\n",
    "- As we can see, there is a question mark, and that's why it was considered an object.\n",
    "- Replace the question mark with 0 and convert it into an integer\n"
   ]
  },
  {
   "cell_type": "code",
   "execution_count": null,
   "metadata": {
    "colab": {
     "base_uri": "https://localhost:8080/"
    },
    "executionInfo": {
     "elapsed": 606,
     "status": "ok",
     "timestamp": 1683191287146,
     "user": {
      "displayName": "Sreelakshmi C V",
      "userId": "04477517605899898333"
     },
     "user_tz": -330
    },
    "id": "j9gRk5WZAw2d",
    "outputId": "5ebbdf13-0ee3-4fee-c47a-6f15ec79f3d8"
   },
   "outputs": [],
   "source": [
    "data.replace('?', 0, inplace=True)\n",
    "data['Bare Nuclei'] = data['Bare Nuclei'].astype('int64')\n",
    "data.info()"
   ]
  },
  {
   "cell_type": "markdown",
   "metadata": {
    "id": "vy3JGWIkBQ-B"
   },
   "source": [
    "__Observations:__\n",
    "- Let's check the data information again.\n",
    "- Now, all columns are defined as integers."
   ]
  },
  {
   "cell_type": "markdown",
   "metadata": {
    "id": "_6Q1-voZBzcU"
   },
   "source": [
    "## Step 2: Apply a SimpleImputer and Normalize the Data Using MinMaxScaler"
   ]
  },
  {
   "cell_type": "code",
   "execution_count": null,
   "metadata": {
    "id": "7G1tucZD9c5d"
   },
   "outputs": [],
   "source": [
    "values = data.values\n",
    "\n",
    "imputer = SimpleImputer()\n",
    "imputeData = imputer.fit_transform(values)"
   ]
  },
  {
   "cell_type": "markdown",
   "metadata": {
    "id": "pjN8NABLFP8H"
   },
   "source": [
    "- Keep the **range** between **0** and **1**"
   ]
  },
  {
   "cell_type": "code",
   "execution_count": null,
   "metadata": {
    "id": "RiJOXtmT9c5d"
   },
   "outputs": [],
   "source": [
    "scaler = MinMaxScaler(feature_range=(0,1))\n",
    "normalizeddata = scaler.fit_transform(imputeData)"
   ]
  },
  {
   "cell_type": "markdown",
   "metadata": {
    "id": "q77SPpQ7FXsP"
   },
   "source": [
    "- Now, the data is normalized."
   ]
  },
  {
   "cell_type": "markdown",
   "metadata": {
    "id": "Ic5oI9vJ95bw"
   },
   "source": [
    "## Step 3: Import the BaggingClassifier and DecisionTreeClassifier\n",
    "\n",
    "- Prepare the data set for training\n",
    "- Train and evaluate BaggingClassifier using DecisionTreeClassifier and 10-fold cross-validation\n",
    "- Train and evaluate AdaBoostClassifier using 10-fold cross-validation\n"
   ]
  },
  {
   "cell_type": "code",
   "execution_count": null,
   "metadata": {
    "id": "NQ_lX8el9c5e"
   },
   "outputs": [],
   "source": [
    "from sklearn import model_selection \n",
    "from sklearn.ensemble import BaggingClassifier\n",
    "from sklearn.tree import DecisionTreeClassifier"
   ]
  },
  {
   "cell_type": "markdown",
   "metadata": {
    "id": "bmRtD7bFA0QW"
   },
   "source": [
    "- Define the feature matrix X and the target vector y"
   ]
  },
  {
   "cell_type": "code",
   "execution_count": null,
   "metadata": {
    "id": "CRLK8zQj9c5e"
   },
   "outputs": [],
   "source": [
    "X = normalizeddata[:, 0:9]\n",
    "y = normalizeddata[:, 9]"
   ]
  },
  {
   "cell_type": "markdown",
   "metadata": {
    "id": "3SNp6HsABL_2"
   },
   "source": [
    "- Create **kfold** with **n-split** as **10**\n",
    "- Select the **BaggingClassifier** and check the cross-value score"
   ]
  },
  {
   "cell_type": "code",
   "execution_count": null,
   "metadata": {
    "colab": {
     "base_uri": "https://localhost:8080/"
    },
    "executionInfo": {
     "elapsed": 2335,
     "status": "ok",
     "timestamp": 1683192850184,
     "user": {
      "displayName": "Sreelakshmi C V",
      "userId": "04477517605899898333"
     },
     "user_tz": -330
    },
    "id": "ZTiS0rbD9c5e",
    "outputId": "3ed0b3ef-7058-4ff2-b6b2-a55b3c51cb11"
   },
   "outputs": [],
   "source": [
    "kfold =  model_selection.KFold(n_splits=10, random_state=7, shuffle=True)\n",
    "cart = DecisionTreeClassifier()\n",
    "num_trees = 100\n",
    "model = BaggingClassifier(estimator=cart, n_estimators=num_trees, random_state=7)\n",
    "results = model_selection.cross_val_score(model, X, y, cv=kfold)\n",
    "print(results.mean())"
   ]
  },
  {
   "cell_type": "markdown",
   "metadata": {
    "id": "HEGr4PlIHTRC"
   },
   "source": [
    "__Observation:__\n",
    "- With the basic models of BaggingClassifier and DecisionTree, we have an accuracy of 95%."
   ]
  },
  {
   "cell_type": "markdown",
   "metadata": {
    "id": "h03C5IvfHqvm"
   },
   "source": [
    "## Step 4: Use an Ensemble with AdaBoost and Reduce the Errors"
   ]
  },
  {
   "cell_type": "markdown",
   "metadata": {
    "id": "EiBPQQQmA8ds"
   },
   "source": [
    "**AdaBoost Classifier**\n",
    "\n",
    "- Set the seed value and the number of trees for the AdaBoost Classifier\n",
    "- Create an AdaBoost Classifier model\n",
    "- Evaluate the model using cross-validation\n",
    "- Print the mean of the cross-validation results"
   ]
  },
  {
   "cell_type": "code",
   "execution_count": null,
   "metadata": {
    "colab": {
     "base_uri": "https://localhost:8080/"
    },
    "executionInfo": {
     "elapsed": 1892,
     "status": "ok",
     "timestamp": 1683193320830,
     "user": {
      "displayName": "Sreelakshmi C V",
      "userId": "04477517605899898333"
     },
     "user_tz": -330
    },
    "id": "W-rXao3V9c5e",
    "outputId": "f699a200-fe3b-46b0-963f-9cb4871ea412"
   },
   "outputs": [],
   "source": [
    "from sklearn.ensemble import AdaBoostClassifier\n",
    "seed = 7\n",
    "num_trees = 70\n",
    "kfold = model_selection.KFold(n_splits=10, random_state=seed, shuffle=True)\n",
    "model =  AdaBoostClassifier(n_estimators=num_trees, random_state=seed)\n",
    "results = model_selection.cross_val_score(model, X, y, cv = kfold)\n",
    "print(results.mean())"
   ]
  },
  {
   "cell_type": "markdown",
   "metadata": {
    "id": "WHnDQ2T1ID4E"
   },
   "source": [
    "__Observation:__\n",
    "- Here, we can observe a slight increase in accuracy when compared to BaggingClassifier and DecisionTree."
   ]
  }
 ],
 "metadata": {
  "colab": {
   "provenance": []
  },
  "kernelspec": {
   "display_name": "Python 3 (ipykernel)",
   "language": "python",
   "name": "python3"
  },
  "language_info": {
   "codemirror_mode": {
    "name": "ipython",
    "version": 3
   },
   "file_extension": ".py",
   "mimetype": "text/x-python",
   "name": "python",
   "nbconvert_exporter": "python",
   "pygments_lexer": "ipython3",
   "version": "3.11.7"
  }
 },
 "nbformat": 4,
 "nbformat_minor": 4
}
