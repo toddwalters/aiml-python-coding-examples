{
 "cells": [
  {
   "cell_type": "markdown",
   "metadata": {
    "id": "09CcaN1uJTIo"
   },
   "source": [
    "## __Applying Averaging and Max Voting__\n",
    "Let's look at averaging and voting techniques."
   ]
  },
  {
   "cell_type": "markdown",
   "metadata": {
    "id": "kaoQln5OCO1k"
   },
   "source": [
    "## Step 1: Import the Required Libraries and Load the Dataset\n",
    "\n",
    "- Import **pandas, NumPy, SimpleImputer**, and **MinMaxScaler**\n",
    "- Load the breast cancer dataset and preprocess it\n"
   ]
  },
  {
   "cell_type": "code",
   "execution_count": null,
   "metadata": {
    "id": "ZRcPnS07B_gt"
   },
   "outputs": [],
   "source": [
    "import pandas as pd\n",
    "import numpy as np\n",
    "from sklearn.impute import SimpleImputer\n",
    "from sklearn.preprocessing import MinMaxScaler"
   ]
  },
  {
   "cell_type": "code",
   "execution_count": null,
   "metadata": {
    "id": "v_K9bXkaB_gv"
   },
   "outputs": [],
   "source": [
    "data = pd.read_csv('https://archive.ics.uci.edu/ml/machine-learning-databases/breast-cancer-wisconsin/breast-cancer-wisconsin.data', header=None)\n",
    "data.columns = ['Sample code', 'Clump Thickness', 'Uniformity of Cell Size', 'Uniformity of Cell Shape',\n",
    "                'Marginal Adhesion', 'Single Epithelial Cell Size', 'Bare Nuclei', 'Bland Chromatin',\n",
    "                'Normal Nucleoli', 'Mitoses','Class']"
   ]
  },
  {
   "cell_type": "markdown",
   "metadata": {
    "id": "oysxfFIiMpNe"
   },
   "source": [
    "- Drop the sample, which is of no use\n",
    "- Convert Bare Nuclei into an integer"
   ]
  },
  {
   "cell_type": "code",
   "execution_count": null,
   "metadata": {
    "colab": {
     "base_uri": "https://localhost:8080/"
    },
    "executionInfo": {
     "elapsed": 6,
     "status": "ok",
     "timestamp": 1683194372606,
     "user": {
      "displayName": "Sreelakshmi C V",
      "userId": "04477517605899898333"
     },
     "user_tz": -330
    },
    "id": "If2t2TRoB_gv",
    "outputId": "8071d887-cbab-4b2d-86c6-ee3b77fe94b2"
   },
   "outputs": [],
   "source": [
    "data.drop(['Sample code'], axis =1, inplace=True)\n",
    "data.replace('?', 0, inplace=True)\n",
    "data['Bare Nuclei'] = data['Bare Nuclei'].astype('int64')\n",
    "data.info()"
   ]
  },
  {
   "cell_type": "markdown",
   "metadata": {
    "id": "TWN88AhONGo7"
   },
   "source": [
    "__Observation:__\n",
    "- Now, you can see that all columns are defined as integers."
   ]
  },
  {
   "cell_type": "markdown",
   "metadata": {
    "id": "ABSloHW2Cz6Q"
   },
   "source": [
    "## Step 2: Impute and Normalize the Data\n",
    "\n",
    "- Impute missing values using SimpleImputer\n",
    "- Normalize the data using MinMaxScaler"
   ]
  },
  {
   "cell_type": "code",
   "execution_count": null,
   "metadata": {
    "id": "M7fv4GvqB_gw"
   },
   "outputs": [],
   "source": [
    "values = data.values\n",
    "imputer = SimpleImputer()\n",
    "imputeData = imputer.fit_transform(values)"
   ]
  },
  {
   "cell_type": "code",
   "execution_count": null,
   "metadata": {
    "id": "mOGjCWfLB_gw"
   },
   "outputs": [],
   "source": [
    "scaler = MinMaxScaler(feature_range=(0,1))\n",
    "normalizedData = scaler.fit_transform(imputeData)"
   ]
  },
  {
   "cell_type": "markdown",
   "metadata": {
    "id": "YmBTzvO0SdTY"
   },
   "source": [
    "Let's split X and y."
   ]
  },
  {
   "cell_type": "code",
   "execution_count": null,
   "metadata": {
    "id": "W6cMp7taA-sr"
   },
   "outputs": [],
   "source": []
  },
  {
   "cell_type": "code",
   "execution_count": null,
   "metadata": {
    "id": "02intBD_B_gx"
   },
   "outputs": [],
   "source": [
    "X = normalizedData[:, 0:9]\n",
    "y = normalizedData[:, 9]"
   ]
  },
  {
   "cell_type": "markdown",
   "metadata": {
    "id": "ktuPlwJtDX9L"
   },
   "source": [
    "## Step 3: Train the Classifiers and Calculate Average Predictions\n",
    "\n",
    "- In this example, we are applying three different algorithms, namely train **LogisticRegression**, **DecisionTreeClassifier**, and **SVC**, to get the average.\n",
    "- Calculate the average predictions and R2 score\n"
   ]
  },
  {
   "cell_type": "code",
   "execution_count": null,
   "metadata": {
    "colab": {
     "base_uri": "https://localhost:8080/",
     "height": 75
    },
    "executionInfo": {
     "elapsed": 4,
     "status": "ok",
     "timestamp": 1683196015642,
     "user": {
      "displayName": "Sreelakshmi C V",
      "userId": "04477517605899898333"
     },
     "user_tz": -330
    },
    "id": "C4KY6vH1B_gx",
    "outputId": "7b0ccafb-4c50-4fce-9e05-1f9c02d270b6"
   },
   "outputs": [],
   "source": [
    "from sklearn.metrics import accuracy_score\n",
    "from sklearn.linear_model import LogisticRegression\n",
    "from sklearn.tree import DecisionTreeClassifier\n",
    "from sklearn.svm import SVC\n",
    "LogRefg_clf  = LogisticRegression()\n",
    "Dtree_clf = DecisionTreeClassifier()\n",
    "svc_slf = SVC()\n",
    "\n",
    "LogRefg_clf.fit(X, y)\n",
    "Dtree_clf.fit(X,y)\n",
    "svc_slf.fit(X,y)"
   ]
  },
  {
   "cell_type": "markdown",
   "metadata": {
    "id": "iWZrb4hvTfrd"
   },
   "source": [
    "- Let's predict the text datasets for all three models and calculate the accuracy by taking the mean square of all three models."
   ]
  },
  {
   "cell_type": "code",
   "execution_count": null,
   "metadata": {
    "colab": {
     "base_uri": "https://localhost:8080/"
    },
    "executionInfo": {
     "elapsed": 4,
     "status": "ok",
     "timestamp": 1683196242631,
     "user": {
      "displayName": "Sreelakshmi C V",
      "userId": "04477517605899898333"
     },
     "user_tz": -330
    },
    "id": "cgIUteskB_gy",
    "outputId": "a66187c8-ecc5-4156-d50f-c63bb46ee52c"
   },
   "outputs": [],
   "source": [
    "LogRefg_pred = LogRefg_clf.predict(X) # predict_proba\n",
    "Dtree_pred = Dtree_clf.predict(X)\n",
    "svc_pred = svc_slf.predict(X)\n",
    "\n",
    "avg_preds = (LogRefg_pred + Dtree_pred + svc_pred)//3\n",
    "\n",
    "acc = accuracy_score(y, avg_preds)\n",
    "\n",
    "print(acc)"
   ]
  },
  {
   "cell_type": "markdown",
   "metadata": {
    "id": "gAXkccy7UVLg"
   },
   "source": [
    "__Observations:__\n",
    "- We have 91% accuracy.\n",
    "- We will take the average prediction and then consider that as the final predictive value.\n",
    "- Let's take a look at the predicted values that the algorithm has predicted by taking the average."
   ]
  },
  {
   "cell_type": "code",
   "execution_count": null,
   "metadata": {
    "colab": {
     "base_uri": "https://localhost:8080/"
    },
    "executionInfo": {
     "elapsed": 5,
     "status": "ok",
     "timestamp": 1683196249575,
     "user": {
      "displayName": "Sreelakshmi C V",
      "userId": "04477517605899898333"
     },
     "user_tz": -330
    },
    "id": "Mu3nRajHB_gy",
    "outputId": "bfbb0ac9-bf17-4616-d4b0-966f87fdc840"
   },
   "outputs": [],
   "source": [
    "avg_preds"
   ]
  },
  {
   "cell_type": "markdown",
   "metadata": {
    "id": "Xv4soKjUU2Ye"
   },
   "source": [
    "__Observation:__\n",
    "- These are the predicted values that the algorithm has predicted by taking the average."
   ]
  },
  {
   "cell_type": "markdown",
   "metadata": {
    "id": "K--A3yf9Do59"
   },
   "source": [
    "## Step 4: Implement the Voting Ensemble\n",
    "\n",
    "- Import VotingClassifier and model_selection from sklearn\n",
    "- Perform k-fold cross-validation and calculate the mean of the results"
   ]
  },
  {
   "cell_type": "code",
   "execution_count": null,
   "metadata": {
    "colab": {
     "base_uri": "https://localhost:8080/"
    },
    "executionInfo": {
     "elapsed": 2075,
     "status": "ok",
     "timestamp": 1683196659409,
     "user": {
      "displayName": "Sreelakshmi C V",
      "userId": "04477517605899898333"
     },
     "user_tz": -330
    },
    "id": "isDMQqYzB_gy",
    "outputId": "0389f1c2-af70-46d8-f45e-91a2dd15b7b5"
   },
   "outputs": [],
   "source": [
    "from sklearn.ensemble import VotingClassifier\n",
    "from sklearn import model_selection\n",
    "\n",
    "kfold = model_selection.KFold(n_splits =10, random_state=7, shuffle=True)\n",
    "estimators= []\n",
    "model1 = LogisticRegression()\n",
    "estimators.append(('logistic', model1))\n",
    "model2 = DecisionTreeClassifier()\n",
    "estimators.append(('cart', model2))\n",
    "model3 = SVC()\n",
    "estimators.append(('svm', model3))\n",
    "\n",
    "ensemble = VotingClassifier(estimators)\n",
    "results =  model_selection.cross_val_score(ensemble, X,y, cv=kfold)\n",
    "print(results.mean())"
   ]
  },
  {
   "cell_type": "markdown",
   "metadata": {
    "id": "vBmTDL74Vo7F"
   },
   "source": [
    "__Observations:__\n",
    "- Now we can compare the scores.\n",
    "- In the earlier case, it was 91.13%.\n",
    "- In this case, using the voting ensemble, it is 96.27%."
   ]
  }
 ],
 "metadata": {
  "colab": {
   "provenance": []
  },
  "kernelspec": {
   "display_name": "Python 3 (ipykernel)",
   "language": "python",
   "name": "python3"
  },
  "language_info": {
   "codemirror_mode": {
    "name": "ipython",
    "version": 3
   },
   "file_extension": ".py",
   "mimetype": "text/x-python",
   "name": "python",
   "nbconvert_exporter": "python",
   "pygments_lexer": "ipython3",
   "version": "3.11.7"
  }
 },
 "nbformat": 4,
 "nbformat_minor": 4
}
