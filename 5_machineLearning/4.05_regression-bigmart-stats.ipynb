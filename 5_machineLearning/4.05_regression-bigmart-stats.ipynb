{
 "cells": [
  {
   "cell_type": "markdown",
   "metadata": {
    "id": "ntFwQcVbCtZ5"
   },
   "source": [
    "# **BigMart Sales Prediction**"
   ]
  },
  {
   "cell_type": "markdown",
   "metadata": {
    "id": "ckKZFtumStuf"
   },
   "source": [
    "-----------------------------\n",
    "## **Context**\n",
    "-----------------------------\n",
    "\n",
    "In today’s modern world, huge shopping centers such as big malls and marts are recording data related to sales of items or products as an important step to predict the sales and get an idea about future demands that can help with inventory management. Understanding what role certain properties of an item play and how they affect their sales is imperative to any retail business\n",
    "\n",
    "The Data Scientists at BigMart have collected 2013 sales data for 1559 products across 10 stores in different cities. Also, certain attributes of each product and store have been defined. Using this data, **BigMart is trying to understand the properties of products and stores which play a key role in increasing sales**.\n",
    "\n",
    "-----------------------------\n",
    "## **Objective**\n",
    "-----------------------------\n",
    "\n",
    "To build a predictive model that can find out the sales of each product at a particular store and then provide actionable recommendations to the BigMart sales team to understand the properties of products and stores which play a key role in increasing sales.\n",
    "\n",
    "-----------------------------\n",
    "## **Dataset**\n",
    "-----------------------------\n",
    "\n",
    "- Item_Identifier : Unique product ID\n",
    "\n",
    "- Item_Weight : Weight of the product\n",
    "\n",
    "- Item_Fat_Content : Whether the product is low fat or not\n",
    "\n",
    "- Item_Visibility : The % of the total display area of all products in a store allocated to the particular product\n",
    "\n",
    "- Item_Type : The category to which the product belongs\n",
    "\n",
    "- Item_MRP : Maximum Retail Price (list price) of the product\n",
    "\n",
    "- Outlet_Identifier : Unique store ID\n",
    "\n",
    "- Outlet_Establishment_Year : The year in which the store was established\n",
    "\n",
    "- Outlet_Size : The size of the store in terms of ground area covered\n",
    "\n",
    "- Outlet_Location_Type : The type of city in which the store is located\n",
    "\n",
    "- Outlet_Type : Whether the outlet is just a grocery store or some sort of supermarket\n",
    "\n",
    "- Item_Outlet_Sales : Sales of the product in the particular store. This is the outcome variable to be predicted.\n",
    "\n",
    "We have two datasets - train (8523) and test (5681) data. The training dataset has both input and output variable(s). You will need to predict the sales for the test dataset.\n",
    "\n",
    "Please note that the data may have missing values as some stores might not report all the data due to technical glitches. Hence, it will be required to treat them accordingly."
   ]
  },
  {
   "cell_type": "markdown",
   "metadata": {
    "id": "ZGh2xQ6uStu5"
   },
   "source": [
    "## **Importing the libraries and overview of the dataset**"
   ]
  },
  {
   "cell_type": "code",
   "execution_count": null,
   "metadata": {
    "id": "Xa1S_t2CStu8"
   },
   "outputs": [],
   "source": [
    "# Importing libraries for data manipulation\n",
    "import numpy as np\n",
    "\n",
    "import pandas as pd\n",
    "\n",
    "# Importing libraries for data visualization\n",
    "import seaborn as sns\n",
    "\n",
    "import matplotlib.pyplot as plt\n",
    "\n",
    "# Importing libraries for building linear regression model\n",
    "import statsmodels.api as sm\n",
    "\n",
    "from statsmodels.stats.outliers_influence import variance_inflation_factor\n",
    "\n",
    "# Importing libraries for scaling the data\n",
    "from sklearn.preprocessing import MinMaxScaler\n",
    "\n",
    "\n",
    "# To ignore warnings\n",
    "import warnings\n",
    "warnings.filterwarnings(\"ignore\")"
   ]
  },
  {
   "cell_type": "markdown",
   "metadata": {
    "id": "GxT6F78PjBG5"
   },
   "source": [
    "### Note: The first section of the notebook is the section that has been covered in the previous case studies. For this discussion, this part can be skipped and we can directly refer to this **<a href = #link1>summary</a>** of data description and observations from EDA."
   ]
  },
  {
   "cell_type": "markdown",
   "metadata": {
    "id": "gIF5qYELStu_"
   },
   "source": [
    "### **Loading the datasets**"
   ]
  },
  {
   "cell_type": "code",
   "execution_count": null,
   "metadata": {
    "id": "yPhwd9eYStvC"
   },
   "outputs": [],
   "source": [
    "# Loading both train and test datasets\n",
    "\n",
    "train_df = pd.read_csv('bigMartSales.csv')\n",
    "\n",
    "test_df = pd.read_csv('BM_Test.csv')"
   ]
  },
  {
   "cell_type": "code",
   "execution_count": null,
   "metadata": {
    "colab": {
     "base_uri": "https://localhost:8080/",
     "height": 313
    },
    "id": "Crh3kItoStvF",
    "outputId": "2e46a76b-98e3-4534-8bdf-261c75156daa"
   },
   "outputs": [],
   "source": [
    "# Checking the first 5 rows of the dataset\n",
    "train_df.head()"
   ]
  },
  {
   "cell_type": "markdown",
   "metadata": {
    "id": "Z_aocqTOStvM"
   },
   "source": [
    "**Observations:**\n",
    "\n",
    "- As the variables **Item_Identifier** and **Outlet_Identifier** are only ID variables, we assume that they don't have any predictive power to predict the dependent variable - **Item_Outlet_Sales**.\n",
    "- We will remove these two variables from both the datasets."
   ]
  },
  {
   "cell_type": "code",
   "execution_count": null,
   "metadata": {
    "id": "HqXfuRtnStvO"
   },
   "outputs": [],
   "source": [
    "train_df = train_df.drop(['Item_Identifier', 'Outlet_Identifier'], axis = 1)\n",
    "\n",
    "test_df = test_df.drop(['Item_Identifier', 'Outlet_Identifier'], axis = 1)"
   ]
  },
  {
   "cell_type": "markdown",
   "metadata": {
    "id": "N_mGLhk1StvQ"
   },
   "source": [
    "Now, let's find out some more information about the training dataset, i.e., the total number of observations in the dataset, columns and their data types, etc."
   ]
  },
  {
   "cell_type": "markdown",
   "metadata": {
    "id": "0uVtR8HQP8Wl"
   },
   "source": [
    "### **Checking the info of the training data**"
   ]
  },
  {
   "cell_type": "code",
   "execution_count": null,
   "metadata": {
    "colab": {
     "base_uri": "https://localhost:8080/"
    },
    "id": "yMQfbgkuStvS",
    "outputId": "38a0ce63-9de7-43a8-95eb-5e16fd2559e4"
   },
   "outputs": [],
   "source": [
    "train_df.info()"
   ]
  },
  {
   "cell_type": "markdown",
   "metadata": {
    "id": "XtIlhemsStvU"
   },
   "source": [
    "**Observations:**\n",
    "\n",
    "- The train dataset has **8523 observations and 10 columns**.\n",
    "- Two columns **Item_Weight** and **Outlet_Size** have missing values as the number of non-null values is less the total number of observations for these two variables.\n",
    "- We observe that the columns **Item_Fat_Content**, **Item_Type**, **Outlet_Size**, **Outlet_Location_Type**, and **Outlet_Type** have data type **object**, which means they are strings or categorical variables.\n",
    "- The remaining variables are all numerical in nature."
   ]
  },
  {
   "cell_type": "markdown",
   "metadata": {
    "id": "K1URNcD1StvX"
   },
   "source": [
    "As we have already seen, two columns have missing values in the dataset. Let's check the **percentage of missing values** using the below code."
   ]
  },
  {
   "cell_type": "code",
   "execution_count": null,
   "metadata": {
    "colab": {
     "base_uri": "https://localhost:8080/"
    },
    "id": "-HvFZkt8StvZ",
    "outputId": "e3d2d6ed-ad17-49e8-b356-11912b152c2b"
   },
   "outputs": [],
   "source": [
    "(train_df.isnull().sum() / train_df.shape[0])*100"
   ]
  },
  {
   "cell_type": "markdown",
   "metadata": {
    "id": "rupo2xfeStvb"
   },
   "source": [
    "The percentage of missing values for the columns **Item_Weight** and **Outlet_Size** is ~17% and ~28% respectively. Now, let's see next how to treat these missing values."
   ]
  },
  {
   "cell_type": "markdown",
   "metadata": {
    "id": "nOlU9ZqbStvd"
   },
   "source": [
    "## **EDA and Data Preprocessing**"
   ]
  },
  {
   "cell_type": "markdown",
   "metadata": {
    "id": "OHDVC-7iStve"
   },
   "source": [
    "Now that we have an understanding of the business problem we want to solve, and we have loaded the datasets, the next step to follow is to have a better understanding of the dataset, i.e., what is the distribution of the variables, what are different relationships that exist between variables, etc. If there are any data anomalies like missing values or outliers, how do we treat them to prepare the dataset for building the predictive model?"
   ]
  },
  {
   "cell_type": "markdown",
   "metadata": {
    "id": "xutlt_PpStvh"
   },
   "source": [
    "### **Univariate Analysis**"
   ]
  },
  {
   "cell_type": "markdown",
   "metadata": {
    "id": "PIALSmqwStvj"
   },
   "source": [
    "Let us now start exploring the dataset, by performing univariate analysis of the dataset, i.e., analyzing/visualizing the dataset by taking one variable at a time. Data visualization is a very important skill to have and we need to decide what charts to plot to better understand the data. For example, what chart makes sense to analyze categorical variables or what charts are suited for numerical variables, and also it depends on what relationship between variables we want to show."
   ]
  },
  {
   "cell_type": "markdown",
   "metadata": {
    "id": "jRI8vbAyStvm"
   },
   "source": [
    "Let's start with analyzing the **categorical** variables present in the data. There are five categorical variables in this dataset and we will create univariate bar charts for each of them to check their distribution."
   ]
  },
  {
   "cell_type": "markdown",
   "metadata": {
    "id": "AC7oJpD8Stvo"
   },
   "source": [
    "Below we are creating 4 subplots to plot four out of the five categorical variables in a single frame."
   ]
  },
  {
   "cell_type": "code",
   "execution_count": null,
   "metadata": {
    "colab": {
     "base_uri": "https://localhost:8080/",
     "height": 575
    },
    "id": "zPL_2JzPStvq",
    "outputId": "ccb4f781-ed0a-476f-ae16-871e40d27096"
   },
   "outputs": [],
   "source": [
    "fig, axes = plt.subplots(2, 2, figsize = (18, 10))\n",
    "\n",
    "fig.suptitle('Bar plot for all categorical variables in the dataset')\n",
    "\n",
    "sns.countplot(ax = axes[0, 0], x = 'Item_Fat_Content', data = train_df, color = 'blue',\n",
    "              order = train_df['Item_Fat_Content'].value_counts().index);\n",
    "\n",
    "sns.countplot(ax = axes[0, 1], x = 'Outlet_Size', data = train_df, color = 'blue',\n",
    "              order = train_df['Outlet_Size'].value_counts().index);\n",
    "\n",
    "sns.countplot(ax = axes[1, 0], x = 'Outlet_Location_Type', data = train_df, color = 'blue',\n",
    "              order = train_df['Outlet_Location_Type'].value_counts().index);\n",
    "\n",
    "sns.countplot(ax = axes[1, 1], x = 'Outlet_Type', data = train_df, color = 'blue',\n",
    "              order = train_df['Outlet_Type'].value_counts().index);"
   ]
  },
  {
   "cell_type": "markdown",
   "metadata": {
    "id": "3CMinhGlStvs"
   },
   "source": [
    "**Observations:**\n",
    "\n",
    "- From the above univariate plot for the variable **Item_Fat_Content**, it seems like there are errors in the data. The category - **Low Fat** is also written as **low fat** and **LF**. Similarly, the category **Regular** is also written as **reg** sometimes. So, **we need to fix this issue in the data**.\n",
    "- For the column **Outlet_Size**, we can see that the most common category is - **Medium** followed by Small and High.\n",
    "- The most common category for the column **Outlet_Location_Type** is **Tier 3**, followed by Tier 2 and Tier 1. This makes sense now if we combine this information with the information on column **Outlet_Size**. We would expect High outlet size stores to be present in Tier 1 cities and the count of tier 1 cities is less so the count of high outlets size is also less. And we would expect more medium and small outlet sizes in the dataset because we have more number outlets present in tier 3 and tier 2 cities in the dataset.\n",
    "- In the column **Outlet_Type**, the majority of the stores are of **Supermarket Type 1** and we have a less and almost equal number of representatives in the other categories - Supermarket Type 2, Supermarket Type 3, and Grocery Store."
   ]
  },
  {
   "cell_type": "markdown",
   "metadata": {
    "id": "nIFZjWXtStvu"
   },
   "source": [
    "Below we are analyzing the categorical variable **Item_Type**."
   ]
  },
  {
   "cell_type": "code",
   "execution_count": null,
   "metadata": {
    "colab": {
     "base_uri": "https://localhost:8080/",
     "height": 392
    },
    "id": "nt9S2yL3Stvv",
    "outputId": "1037ccca-213d-4b93-bc8b-34ae69a75e04"
   },
   "outputs": [],
   "source": [
    "fig = plt.figure(figsize = (18, 6))\n",
    "\n",
    "sns.countplot(x = 'Item_Type', data = train_df, color = 'blue', order = train_df['Item_Type'].value_counts().index);\n",
    "\n",
    "plt.xticks(rotation = 45);"
   ]
  },
  {
   "cell_type": "markdown",
   "metadata": {
    "id": "4pPMAibqStvx"
   },
   "source": [
    "**Observation:**\n",
    "\n",
    "- From the above plot, we observe that majority of the items sold in these stores are **Fruits and Vegetables**, followed by **Snack Foods** and **Household items**."
   ]
  },
  {
   "cell_type": "markdown",
   "metadata": {
    "id": "ApCBE0coStvy"
   },
   "source": [
    "Before we move ahead with the univariate analysis for the numerical variables, let's first fix the data issues that we have found for the column **Item_Fat_Content**."
   ]
  },
  {
   "cell_type": "markdown",
   "metadata": {
    "id": "JWACZl35Stvz"
   },
   "source": [
    "In the below code, we are replacing the categories - **low fat** and **LF** by **Low Fat** using lambda function and also we are replacing the category **reg** by Regular."
   ]
  },
  {
   "cell_type": "code",
   "execution_count": null,
   "metadata": {
    "id": "x4df1we6Stv3"
   },
   "outputs": [],
   "source": [
    "train_df['Item_Fat_Content'] = train_df['Item_Fat_Content'].apply(lambda x: 'Low Fat' if x == 'low fat' or x == 'LF' else x)\n",
    "\n",
    "train_df['Item_Fat_Content'] = train_df['Item_Fat_Content'].apply(lambda x: 'Regular' if x == 'reg' else x)"
   ]
  },
  {
   "cell_type": "markdown",
   "metadata": {
    "id": "GzstIj9mStv5"
   },
   "source": [
    "The data preparation steps that we do on the training data, we need to perform the same steps on the test data as well. So, below we are performing the same transformations on the **test** dataset."
   ]
  },
  {
   "cell_type": "code",
   "execution_count": null,
   "metadata": {
    "id": "1gwGQ5J9Stv6"
   },
   "outputs": [],
   "source": [
    "test_df['Item_Fat_Content'] = test_df['Item_Fat_Content'].apply(lambda x: 'Low Fat' if x == 'low fat' or x == 'LF' else x)\n",
    "\n",
    "test_df['Item_Fat_Content'] = test_df['Item_Fat_Content'].apply(lambda x: 'Regular' if x == 'reg' else x)"
   ]
  },
  {
   "cell_type": "markdown",
   "metadata": {
    "id": "IiEW9fw1Stv8"
   },
   "source": [
    "Below we are analyzing all the **numerical** variables present in the data. And since we want to visualize one numerical variable at a time, histogram is the best choice to visualize the data."
   ]
  },
  {
   "cell_type": "code",
   "execution_count": null,
   "metadata": {
    "colab": {
     "base_uri": "https://localhost:8080/",
     "height": 575
    },
    "id": "2jjwrsucWAmB",
    "outputId": "f350185d-3b3c-49dd-d7a5-c3aa24b199e3"
   },
   "outputs": [],
   "source": [
    "fig, axes = plt.subplots(2, 2, figsize = (18, 10))\n",
    "\n",
    "fig.suptitle('Bar plot for all categorical variables in the dataset')\n",
    "\n",
    "sns.countplot(ax = axes[0, 0], x = 'Item_Fat_Content', data = train_df, color = 'blue',\n",
    "              order = train_df['Item_Fat_Content'].value_counts().index);\n",
    "\n",
    "sns.countplot(ax = axes[0, 1], x = 'Outlet_Size', data = train_df, color = 'blue',\n",
    "              order = train_df['Outlet_Size'].value_counts().index);\n",
    "\n",
    "sns.countplot(ax = axes[1, 0], x = 'Outlet_Location_Type', data = train_df, color = 'blue',\n",
    "              order = train_df['Outlet_Location_Type'].value_counts().index);\n",
    "\n",
    "sns.countplot(ax = axes[1, 1], x = 'Outlet_Type', data = train_df, color = 'blue',\n",
    "              order = train_df['Outlet_Type'].value_counts().index);"
   ]
  },
  {
   "cell_type": "code",
   "execution_count": null,
   "metadata": {
    "colab": {
     "base_uri": "https://localhost:8080/",
     "height": 335
    },
    "id": "DQ4IHUL8Stv9",
    "outputId": "5cebebb7-5a63-4092-8bd3-8357a9ae4cd4"
   },
   "outputs": [],
   "source": [
    "fig, axes = plt.subplots(1, 3, figsize = (20, 6))\n",
    "\n",
    "fig.suptitle('Histogram for all numerical variables in the dataset')\n",
    "\n",
    "sns.histplot(x = 'Item_Weight', data = train_df, kde = True, ax = axes[0]);\n",
    "\n",
    "sns.histplot(x = 'Item_Visibility', data = train_df, kde = True, ax = axes[1]);\n",
    "\n",
    "sns.histplot(x = 'Item_MRP', data = train_df, kde = True, ax = axes[2]);"
   ]
  },
  {
   "cell_type": "markdown",
   "metadata": {
    "id": "BUH_f842StwB"
   },
   "source": [
    "#### **Observations:**"
   ]
  },
  {
   "cell_type": "markdown",
   "metadata": {
    "id": "CB1m7GczStwC"
   },
   "source": [
    "- The variable **Item_Weight** is approx uniformly distributed and when we will impute the missing values for this column, we will need to keep in mind that we don't end up changing the distribution significantly after imputing those missing values.\n",
    "- The variable **Item_Visibility** is a right-skewed distribution which means that there are certain items whose percentage of the display area is much higher than the other items.\n",
    "- The variable **Item_MRP** is following an approx multi-modal normal distribution."
   ]
  },
  {
   "cell_type": "markdown",
   "metadata": {
    "id": "TL6S28nYStwD"
   },
   "source": [
    "### **Bivariate Analysis**"
   ]
  },
  {
   "cell_type": "markdown",
   "metadata": {
    "id": "EHmf3_bNStwE"
   },
   "source": [
    "Now, let's move ahead with bivariate analysis to understand how variables are related to each other and if there is a strong relationship between dependent and independent variables present in the training dataset."
   ]
  },
  {
   "cell_type": "markdown",
   "metadata": {
    "id": "F4s-kmcDStwF"
   },
   "source": [
    "In the below plot, we are analyzing the variables **Outlet_Establishment_Year** and **Item_Outlet_Sales**. Here, since the variable **Outlet_Establishment_Year** is defining a time component, the best chart to analyze this relationship will be a line plot."
   ]
  },
  {
   "cell_type": "code",
   "execution_count": null,
   "metadata": {
    "colab": {
     "base_uri": "https://localhost:8080/",
     "height": 329
    },
    "id": "_iJCicN8StwH",
    "outputId": "71d66fd2-b011-4ad1-e4e8-a7998616371c"
   },
   "outputs": [],
   "source": [
    "fig = plt.figure(figsize = (18, 6))\n",
    "\n",
    "sns.lineplot(x = 'Outlet_Establishment_Year', y = 'Item_Outlet_Sales', data = train_df, ci = None, estimator = 'mean');"
   ]
  },
  {
   "cell_type": "markdown",
   "metadata": {
    "id": "fwU75J9hStwJ"
   },
   "source": [
    "**Observations:**\n",
    "\n",
    "- The average sales are almost constant every year, we don't see any increasing/decreasing trend in sales with time. So, the variable year might not be a good predictor to predict sales, which we can check later in the modeling phase.\n",
    "- Also, in the year 1998, the average sales plummeted. This might be due to some external factors which are not included in the data."
   ]
  },
  {
   "cell_type": "markdown",
   "metadata": {
    "id": "z3fga3jTStwL"
   },
   "source": [
    "Next, we are trying to find out linear correlations between the variables. This will help us to know which numerical variables are correlated with the target variable. Also, we can find out **multi-collinearity**, i.e., which pair of independent variables are correlated with each other."
   ]
  },
  {
   "cell_type": "code",
   "execution_count": null,
   "metadata": {},
   "outputs": [],
   "source": [
    "train_df.corr(numeric_only=True)"
   ]
  },
  {
   "cell_type": "code",
   "execution_count": null,
   "metadata": {
    "colab": {
     "base_uri": "https://localhost:8080/",
     "height": 405
    },
    "id": "PRfBJcXhStwM",
    "outputId": "6a8935fa-04a6-406d-b268-08b5b263d685"
   },
   "outputs": [],
   "source": [
    "fig = plt.figure(figsize = (18, 6))\n",
    "\n",
    "sns.heatmap(train_df.corr(numeric_only=True), annot = True)\n",
    "\n",
    "plt.xticks(rotation = 45);"
   ]
  },
  {
   "cell_type": "markdown",
   "metadata": {
    "id": "MwA1Fp29StwO"
   },
   "source": [
    "**Observations:**\n",
    "\n",
    "- From the above plot, it seems that only the independent variable **Item_MRP** has a moderate linear relationship with the dependent variable **Item_Outlet_Sales**.\n",
    "- For the remaining, it does not seem like there is any strong positive/negative correlation between the variables."
   ]
  },
  {
   "cell_type": "markdown",
   "metadata": {
    "id": "7imH3W36StwP"
   },
   "source": [
    "Next, we are creating the bivariate scatter plots to check relationships between the pair of independent and dependent variables."
   ]
  },
  {
   "cell_type": "code",
   "execution_count": null,
   "metadata": {
    "colab": {
     "base_uri": "https://localhost:8080/",
     "height": 332
    },
    "id": "nhCOa7qCStwQ",
    "outputId": "dbccdc8f-e418-4bb5-9f24-cb0ca564c62c"
   },
   "outputs": [],
   "source": [
    "fig, axes = plt.subplots(1, 3, figsize = (20, 6))\n",
    "\n",
    "fig.suptitle('Bi-variate scatterplot for all numerical variables with the dependent variable')\n",
    "\n",
    "sns.scatterplot(x = 'Item_Weight', y = 'Item_Outlet_Sales', data = train_df, ax = axes[0]);\n",
    "\n",
    "sns.scatterplot(x = 'Item_Visibility', y = 'Item_Outlet_Sales', data = train_df, ax = axes[1]);\n",
    "\n",
    "sns.scatterplot(x = 'Item_MRP', y = 'Item_Outlet_Sales', data = train_df, ax = axes[2]);"
   ]
  },
  {
   "cell_type": "markdown",
   "metadata": {
    "id": "hxo88e_CStwZ"
   },
   "source": [
    "**Observations:**\n",
    "\n",
    "- The first scatter plot shows the data is completely random and there is no relationship between **Item_Weight** and **Item_outlet_Sales**. This is also evident from the correlation value which we got above, i.e., there is no strong correlation between these two variables.\n",
    "- The second scatter plot between **Item_Visibility** and **Item_outlet_Sales** shows that there is no strong relationship between them. But we can see a pattern, as the **Item_Visibility** increases from **0.19**, the sales decrease. This might be due to the reason that the management has given more visibility to those items which are not generally sold often, thinking that better visibility would increase the sales. This information can also help us to engineer new features like - a categorical variable with categories - **high visibility** and **low visibility**. But we are not doing that here. This is an idea, we may want to pursue in the future.\n",
    "- From the third scatter plot between the variables - **Item_MRP** and **Item_outlet_Sales**, it is clear that there is a positive correlation between them, and the variable **Item_MRP** would have a good predictive power to predict the sales."
   ]
  },
  {
   "cell_type": "markdown",
   "metadata": {
    "id": "SsbZF4usjBG9"
   },
   "source": [
    "### <a id='link1'>Summary of EDA</a>\n",
    "\n",
    "**Data Description:**\n",
    "\n",
    "* We have two datasets - train (8523) and test (5681) data. The training dataset has both input and output variable(s). You will need to predict the sales for the test dataset.\n",
    "* The data may have missing values as some stores might not report all the data due to technical glitches. Hence, it will be required to treat them accordingly.\n",
    "* As the variables Item_Identifier and Outlet_Identifier are ID variables, we assume that they don't have any predictive power to predict the dependent variable - Item_Outlet_Sales. We will remove these two variables from both datasets.\n",
    "* The training dataset has 8523 observations and 10 columns.\n",
    "* Two columns Item_Weight and Outlet_Size have missing values as the number of non-null values is less than the total number of observations for these two variables.\n",
    "* We observe that the columns Item_Fat_Content, Item_Type, Outlet_Size, Outlet_Location_Type, and Outlet_Type have data type objects, which means they are strings or categorical variables.\n",
    "* The remaining variables are all numerical in nature.\n",
    "\n",
    "\n",
    "**Observations from EDA:**\n",
    "\n",
    "* From the Univariate plot for the variable Item_Fat_Content, it seems like there are errors in the data. The category - Low Fat is also written as low fat and LF. Similarly, the category Regular is also written as reg sometimes. So, we need to fix this issue in the data.\n",
    "* For the column Outlet_Size, we can see that the most common category is - Medium followed by Small and High.\n",
    "* The most common category for the column Outlet_Location_Type is Tier 3, followed by Tier 2 and Tier 1. This makes sense now if we combine this information with the information on column Outlet_Size. We would expect High outlet size stores to be present in Tier 1 cities and the count of tier 1 cities is less so the count of high outlets size is also less. And we would expect more medium and small outlet sizes in the dataset because we have more number outlets present in tier 3 and tier 2 cities in the dataset.\n",
    "* In the column Outlet_Type, the majority of the stores are of Supermarket Type 1 and we have a less and almost equal number of representatives in the other categories - Supermarket Type 2, Supermarket Type 3, and Grocery Store.\n",
    "* We observed that majority of the items sold in these stores are Fruits and Vegetables, followed by Snack Foods and Household items.\n",
    "* The variable Item_Weight is approx uniformly distributed and when we will impute the missing values for this column, we will need to keep in mind that we don't end up changing the distribution significantly after imputing those missing values.\n",
    "* The variable Item_Visibility is a right-skewed distribution which means that there are certain items whose percentage of the display area is much higher than the other items.\n",
    "* The variable Item_MRP is following an approx multi-modal normal distribution.\n",
    "* The average sales are almost constant every year, we don't see any increasing/decreasing trend in sales with time. So, the variable year might not be a good predictor to predict sales, which we can check later in the modeling phase.\n",
    "* Also, in the year 1998, the average sales plummeted. This might be due to some external factors which are not included in the data.\n",
    "* It seems that only the independent variable Item_MRP has a moderate linear relationship with the dependent variable Item_Outlet_Sales.\n",
    "* For the remaining, it does not seem like there is any strong positive/negative correlation between the variables.\n",
    "* The scatter plot between Item_Weight and Item_outlet_Sales shows the data is completely random and there is no relationship between Item_Weight and Item_outlet_Sales. This is also evident from the correlation value which we got above, i.e., there is no strong correlation between these two variables.\n",
    "* The scatter plot between Item_Visibility and Item_outlet_Sales shows that there is no strong relationship between them. But we can see a pattern, as the Item_Visibility increases from 0.19, the sales decrease. This might be due to the reason that the management has given more visibility to those items which are not generally sold often, thinking that better visibility would increase the sales. This information can also help us to engineer new features like - a categorical variable with categories - high visibility and low visibility. But we are not doing that here. This is an idea, we may want to pursue in the future.\n",
    "* Scatter plot between the variables - Item_MRP and Item_outlet_Sales, shows that there is a positive correlation between them, and the variable Item_MRP would have a good predictive power to predict the sales."
   ]
  },
  {
   "cell_type": "markdown",
   "metadata": {
    "id": "wOo--wgcStwa"
   },
   "source": [
    "### **Missing Value Treatment**"
   ]
  },
  {
   "cell_type": "markdown",
   "metadata": {
    "id": "rJH_X9GSStwb"
   },
   "source": [
    "Here, we are imputing missing values for the variable **Item_Weight**. There are many ways to impute missing values, we can impute the missing values by its **mean**, **median**, and using advanced imputation algorithms like **knn**, etc. But, here we are trying to find out some relationship of the variable **Item_Weight** with other variables in the dataset to impute those missing values."
   ]
  },
  {
   "cell_type": "markdown",
   "metadata": {
    "id": "eqdaY1uKStwd"
   },
   "source": [
    "And also, after imputing the missing values for the variables, the overall distribution of the variable should not change significantly."
   ]
  },
  {
   "cell_type": "code",
   "execution_count": null,
   "metadata": {
    "colab": {
     "base_uri": "https://localhost:8080/",
     "height": 286
    },
    "id": "Upuae8zhStwf",
    "outputId": "5c8a58fd-689c-4e43-9240-19f495249581"
   },
   "outputs": [],
   "source": [
    "fig = plt.figure(figsize = (18, 3))\n",
    "\n",
    "sns.heatmap(train_df.pivot_table(index = 'Item_Fat_Content', columns = 'Item_Type', values = 'Item_Weight'), annot = True);\n",
    "\n",
    "plt.xticks(rotation = 45);"
   ]
  },
  {
   "cell_type": "code",
   "execution_count": null,
   "metadata": {},
   "outputs": [],
   "source": [
    "train_df.pivot_table(index = 'Item_Fat_Content', columns = 'Item_Type', values = 'Item_Weight')"
   ]
  },
  {
   "cell_type": "markdown",
   "metadata": {
    "id": "njfSIbGyStwi"
   },
   "source": [
    "**Observation:**\n",
    "\n",
    "- In the above heatmap, we can see that, based on different combinations of **Item_Types** and **Item_Fat_Content**, the average range of values for the column **Item_Weight** lies between the minimum value of 10 and the maximum value of 14."
   ]
  },
  {
   "cell_type": "code",
   "execution_count": null,
   "metadata": {
    "colab": {
     "base_uri": "https://localhost:8080/",
     "height": 214
    },
    "id": "kH_582RGStwj",
    "outputId": "089a2896-f7dc-4680-b746-0ad0d14fdd82"
   },
   "outputs": [],
   "source": [
    "fig = plt.figure(figsize = (18, 3))\n",
    "\n",
    "sns.heatmap(train_df.pivot_table(index = 'Outlet_Type', columns = 'Outlet_Location_Type', values = 'Item_Weight'), annot = True);\n",
    "\n",
    "plt.xticks(rotation = 45);"
   ]
  },
  {
   "cell_type": "markdown",
   "metadata": {
    "id": "Q1XK0FukStwm"
   },
   "source": [
    "**Observation:**\n",
    "\n",
    "- In the above heatmap, we can see that, based on different combinations of **Outlet_Type** and **Outlet_Location_Type**, the average range of values for the column **Item_Weight** is constant at 13."
   ]
  },
  {
   "cell_type": "code",
   "execution_count": null,
   "metadata": {},
   "outputs": [],
   "source": [
    "train_df.pivot_table(index = 'Outlet_Type', columns = 'Outlet_Location_Type', values = 'Item_Weight')"
   ]
  },
  {
   "cell_type": "code",
   "execution_count": null,
   "metadata": {
    "colab": {
     "base_uri": "https://localhost:8080/",
     "height": 241
    },
    "id": "ITnRFJVGStwn",
    "outputId": "5433b998-a973-4e79-e26b-ea817ca1bf9f"
   },
   "outputs": [],
   "source": [
    "fig = plt.figure(figsize = (18, 3))\n",
    "\n",
    "sns.heatmap(train_df.pivot_table(index = 'Item_Fat_Content', columns = 'Outlet_Size', values = 'Item_Weight'), annot = True);\n",
    "\n",
    "plt.xticks(rotation = 45);"
   ]
  },
  {
   "cell_type": "markdown",
   "metadata": {
    "id": "HwTTVe_QStwp"
   },
   "source": [
    "**Observation:**\n",
    "\n",
    "- In the above heatmap, we can see that, based on different combinations of **Item_Fat_Content** and **Outlet_Size**, the average range of values for the column **Item_Weight** is also constant at 13."
   ]
  },
  {
   "cell_type": "markdown",
   "metadata": {
    "id": "Vs6YidMQStwq"
   },
   "source": [
    "We will impute the missing values using an uniform distribution with parameters a=10 and b=14, as shown below:"
   ]
  },
  {
   "cell_type": "code",
   "execution_count": null,
   "metadata": {},
   "outputs": [],
   "source": [
    "train_df.pivot_table(index = 'Item_Fat_Content', columns = 'Outlet_Size', values = 'Item_Weight')"
   ]
  },
  {
   "cell_type": "code",
   "execution_count": null,
   "metadata": {
    "id": "fCrmr8gPStwr"
   },
   "outputs": [],
   "source": [
    "item_weight_indices_to_be_updated = train_df[train_df['Item_Weight'].isnull()].index\n",
    "\n",
    "train_df.loc[item_weight_indices_to_be_updated, 'Item_Weight'] = np.random.uniform(10, 14,\n",
    "                                                                                   len(item_weight_indices_to_be_updated))"
   ]
  },
  {
   "cell_type": "markdown",
   "metadata": {
    "id": "54JOZwC9Stws"
   },
   "source": [
    "Performing the same transformation on the **test** dataset."
   ]
  },
  {
   "cell_type": "code",
   "execution_count": null,
   "metadata": {
    "id": "F8d612MgStwt"
   },
   "outputs": [],
   "source": [
    "item_weight_indices_to_be_updated = test_df[test_df['Item_Weight'].isnull()].index\n",
    "\n",
    "test_df.loc[item_weight_indices_to_be_updated, 'Item_Weight'] = np.random.uniform(10, 14,\n",
    "                                                                                   len(item_weight_indices_to_be_updated))"
   ]
  },
  {
   "cell_type": "markdown",
   "metadata": {
    "id": "1KMsKl4-Stwu"
   },
   "source": [
    "Next, we will be imputing missing values for the column **Outlet_Size**. Below, we are creating two different datasets - one where we have non-null values for the column **Outlet_Size** and in the other dataset, all the values of the column **Outlet_Size** are missing. We then check the distribution of the other variables in the dataset where **Outlet_Size** is missing to identify if there is any pattern present or not."
   ]
  },
  {
   "cell_type": "code",
   "execution_count": null,
   "metadata": {
    "id": "5akZ0BuQStww"
   },
   "outputs": [],
   "source": [
    "outlet_size_data = train_df[train_df['Outlet_Size'].notnull()]\n",
    "\n",
    "outlet_size_missing_data = train_df[train_df['Outlet_Size'].isnull()]"
   ]
  },
  {
   "cell_type": "code",
   "execution_count": null,
   "metadata": {
    "colab": {
     "base_uri": "https://localhost:8080/",
     "height": 367
    },
    "id": "xSQCXKOBStwx",
    "outputId": "09777d1a-3d31-4c30-f443-87db75ee65ea"
   },
   "outputs": [],
   "source": [
    "fig, axes = plt.subplots(1, 3, figsize = (18, 6))\n",
    "\n",
    "fig.suptitle('Bar plot for all categorical variables in the dataset where the variable Outlet_Size is missing')\n",
    "\n",
    "sns.countplot(ax = axes[0], x = 'Outlet_Type', data = outlet_size_missing_data, color = 'blue',\n",
    "              order = outlet_size_missing_data['Outlet_Type'].value_counts().index);\n",
    "\n",
    "sns.countplot(ax = axes[1], x = 'Outlet_Location_Type', data = outlet_size_missing_data, color = 'blue',\n",
    "              order = outlet_size_missing_data['Outlet_Location_Type'].value_counts().index);\n",
    "\n",
    "sns.countplot(ax = axes[2], x = 'Item_Fat_Content', data = outlet_size_missing_data, color = 'blue',\n",
    "              order = outlet_size_missing_data['Item_Fat_Content'].value_counts().index);"
   ]
  },
  {
   "cell_type": "markdown",
   "metadata": {
    "id": "min9GNmMStwz"
   },
   "source": [
    "**Observation:**\n",
    "\n",
    "- We can see that, wherever **Outlet_Size** is missing in the dataset, the majority of them have **Outlet_Type** as Supermarket Type 1, **Outlet_Location_Type** as Tier 2, and **Item_Fat_Content** as **Low Fat**."
   ]
  },
  {
   "cell_type": "markdown",
   "metadata": {
    "id": "dzZ5_iPtStw1"
   },
   "source": [
    "Now, we are creating a cross-tab of all the above categorical variables against the column **Outlet_Size**, where we want to impute the missing values."
   ]
  },
  {
   "cell_type": "code",
   "execution_count": null,
   "metadata": {
    "colab": {
     "base_uri": "https://localhost:8080/",
     "height": 221
    },
    "id": "x0a9piRPStw2",
    "outputId": "245e91ad-467b-411b-84c8-1ad29d157683"
   },
   "outputs": [],
   "source": [
    "fig= plt.figure(figsize = (18, 3))\n",
    "\n",
    "sns.heatmap(pd.crosstab(index = outlet_size_data['Outlet_Type'], columns = outlet_size_data['Outlet_Size']), annot = True, fmt = 'g')\n",
    "\n",
    "plt.xticks(rotation = 45);"
   ]
  },
  {
   "cell_type": "code",
   "execution_count": null,
   "metadata": {},
   "outputs": [],
   "source": [
    "pd.crosstab(index = outlet_size_data['Outlet_Type'], columns = outlet_size_data['Outlet_Size'])"
   ]
  },
  {
   "cell_type": "code",
   "execution_count": null,
   "metadata": {
    "colab": {
     "base_uri": "https://localhost:8080/"
    },
    "id": "ucsQrg1JYLwq",
    "outputId": "5aeacc8a-8c1c-47f8-f4e3-05e6b209a3a7"
   },
   "outputs": [],
   "source": [
    "train_df.info()"
   ]
  },
  {
   "cell_type": "markdown",
   "metadata": {
    "id": "MreHi_luStw3"
   },
   "source": [
    "**Observations:**\n",
    "\n",
    "- We observe from the above heatmap that all the grocery stores have **Outlet_Size** as small.\n",
    "- All the Supermarket Type 2 and Supermarket Type 3 have **Outlet_Size** as Medium."
   ]
  },
  {
   "cell_type": "code",
   "execution_count": null,
   "metadata": {
    "colab": {
     "base_uri": "https://localhost:8080/",
     "height": 240
    },
    "id": "DpKW7JI9Stw5",
    "outputId": "fe46cd89-f9a7-4bba-c6ac-496beacf295f"
   },
   "outputs": [],
   "source": [
    "fig = plt.figure(figsize = (18, 3))\n",
    "\n",
    "sns.heatmap(pd.crosstab(index = outlet_size_data['Outlet_Location_Type'], columns = outlet_size_data['Outlet_Size']), annot = True, fmt = 'g')\n",
    "\n",
    "plt.xticks(rotation = 45);"
   ]
  },
  {
   "cell_type": "code",
   "execution_count": null,
   "metadata": {},
   "outputs": [],
   "source": [
    "pd.crosstab(index = outlet_size_data['Outlet_Location_Type'], columns = outlet_size_data['Outlet_Size'])"
   ]
  },
  {
   "cell_type": "markdown",
   "metadata": {
    "id": "VUXew-fIStw7"
   },
   "source": [
    "**Observation:**\n",
    "\n",
    "- We observe from the above heatmap that all the Tier 2 stores have **Outlet_Size** as Small."
   ]
  },
  {
   "cell_type": "code",
   "execution_count": null,
   "metadata": {
    "colab": {
     "base_uri": "https://localhost:8080/",
     "height": 240
    },
    "id": "yJbyRZ0EStw9",
    "outputId": "9e7e1b17-e9d8-45bf-cbe8-5f24d4a54083"
   },
   "outputs": [],
   "source": [
    "fig = plt.figure(figsize = (18, 3))\n",
    "\n",
    "sns.heatmap(pd.crosstab(index = outlet_size_data['Item_Fat_Content'], columns = outlet_size_data['Outlet_Size']), annot = True, fmt = 'g')\n",
    "\n",
    "plt.xticks(rotation = 45);"
   ]
  },
  {
   "cell_type": "code",
   "execution_count": null,
   "metadata": {},
   "outputs": [],
   "source": [
    "pd.crosstab(index = outlet_size_data['Item_Fat_Content'], columns = outlet_size_data['Outlet_Size'])"
   ]
  },
  {
   "cell_type": "markdown",
   "metadata": {
    "id": "S6rBxSKqStw_"
   },
   "source": [
    "**Observation:**\n",
    "\n",
    "- There does not seem to be any clear pattern between the variables **Item_Fat_Content** and **Outlet_Size**."
   ]
  },
  {
   "cell_type": "markdown",
   "metadata": {
    "id": "WEaP9j5XStxA"
   },
   "source": [
    "Now, we will use the patterns we have from the variables **Outlet_Type** and **Outlet_Location_Type** to impute the missing values for the column **Outlet_Size**."
   ]
  },
  {
   "cell_type": "markdown",
   "metadata": {
    "id": "qEuDlf60StxB"
   },
   "source": [
    "Below, we are identifying the indices in the DataFrame where **Outlet_Size** is null/missing and **Outlet_Type** is Grocery Store, so that we can replace those missing values with the value Small based on the pattern we have identified in above visualizations. Similarly, we are also identifying the indices in the DataFrame where **Outlet_Size** is null/missing and **Outlet_Location_Type** is Tier 2, to impute those missing values."
   ]
  },
  {
   "cell_type": "code",
   "execution_count": null,
   "metadata": {
    "id": "ajJr8yY_StxD"
   },
   "outputs": [],
   "source": [
    "grocery_store_indices = train_df[train_df['Outlet_Size'].isnull()].query(\" Outlet_Type == 'Grocery Store' \").index\n",
    "\n",
    "tier_2_indices = train_df[train_df['Outlet_Size'].isnull()].query(\" Outlet_Location_Type == 'Tier 2' \").index"
   ]
  },
  {
   "cell_type": "markdown",
   "metadata": {
    "id": "1JTzudChStxE"
   },
   "source": [
    "Now, we are updating those indices for the column **Outlet_Size** with the value Small."
   ]
  },
  {
   "cell_type": "code",
   "execution_count": null,
   "metadata": {
    "id": "9KuCG1UmStxH"
   },
   "outputs": [],
   "source": [
    "train_df.loc[grocery_store_indices, 'Outlet_Size'] = 'Small'\n",
    "\n",
    "train_df.loc[tier_2_indices, 'Outlet_Size'] = 'Small'"
   ]
  },
  {
   "cell_type": "markdown",
   "metadata": {
    "id": "2Pp4PRgdStxI"
   },
   "source": [
    "Performing the same transformations on the **test** dataset."
   ]
  },
  {
   "cell_type": "code",
   "execution_count": null,
   "metadata": {
    "id": "nm3O5DgiStxJ"
   },
   "outputs": [],
   "source": [
    "grocery_store_indices = test_df[test_df['Outlet_Size'].isnull()].query(\" Outlet_Type == 'Grocery Store' \").index\n",
    "\n",
    "tier_2_indices = test_df[test_df['Outlet_Size'].isnull()].query(\" Outlet_Location_Type == 'Tier 2' \").index"
   ]
  },
  {
   "cell_type": "code",
   "execution_count": null,
   "metadata": {
    "id": "aEoDE-9nStxK"
   },
   "outputs": [],
   "source": [
    "test_df.loc[grocery_store_indices, 'Outlet_Size'] = 'Small'\n",
    "\n",
    "test_df.loc[tier_2_indices, 'Outlet_Size'] = 'Small'"
   ]
  },
  {
   "cell_type": "markdown",
   "metadata": {
    "id": "l-_aypfmStxL"
   },
   "source": [
    "After we have imputed the missing values, let's check again if we still have missing values in both train and test datasets."
   ]
  },
  {
   "cell_type": "code",
   "execution_count": null,
   "metadata": {
    "colab": {
     "base_uri": "https://localhost:8080/"
    },
    "id": "xgNlrYp1StxM",
    "outputId": "979f39a3-1ef6-4956-8488-06ba041d594a"
   },
   "outputs": [],
   "source": [
    "train_df.isnull().sum()"
   ]
  },
  {
   "cell_type": "code",
   "execution_count": null,
   "metadata": {
    "colab": {
     "base_uri": "https://localhost:8080/"
    },
    "id": "bkspTN6-StxN",
    "outputId": "1adaf0f5-d25d-419a-9a9a-228f26408ab5"
   },
   "outputs": [],
   "source": [
    "test_df.isnull().sum()"
   ]
  },
  {
   "cell_type": "markdown",
   "metadata": {
    "id": "D7Jj7hcbStxP"
   },
   "source": [
    "There are **no missing values** in the datasets."
   ]
  },
  {
   "cell_type": "markdown",
   "metadata": {
    "id": "XU2sr5oDStxQ"
   },
   "source": [
    "### **Feature Engineering**"
   ]
  },
  {
   "cell_type": "markdown",
   "metadata": {
    "id": "115VfFYTStxS"
   },
   "source": [
    "Now that we have completed the data understanding and data preparation step, before starting with the modeling task, we think that certain features are not present in the dataset, but we can create them using the existing columns, which can have the predictive power to predict the sales. This step of creating a new feature from the existing features in the dataset is known as **Feature Engineering**. So, we will start with a hypothesis - As the store gets older, the sales increase. Now, how do we define old? We know the establishment year and this data is collected in 2013, so the age can be found by subtracting the establishment year from 2013. This is what we are doing in the below code."
   ]
  },
  {
   "cell_type": "markdown",
   "metadata": {
    "id": "6Cg0wgDbStxU"
   },
   "source": [
    "We are creating a new feature **Outlet_Age** which indicates how old the outlet is."
   ]
  },
  {
   "cell_type": "code",
   "execution_count": null,
   "metadata": {
    "id": "lTd3lDu_StxV"
   },
   "outputs": [],
   "source": [
    "train_df['Outlet_Age'] = 2013 - train_df['Outlet_Establishment_Year']\n",
    "\n",
    "test_df['Outlet_Age'] = 2013 - test_df['Outlet_Establishment_Year']"
   ]
  },
  {
   "cell_type": "code",
   "execution_count": null,
   "metadata": {
    "colab": {
     "base_uri": "https://localhost:8080/",
     "height": 329
    },
    "id": "Bfexkfw-StxX",
    "outputId": "2f808953-2a84-4768-9ed7-07dc8ceb79cf"
   },
   "outputs": [],
   "source": [
    "fig = plt.figure(figsize = (18, 6))\n",
    "\n",
    "sns.boxplot(x = 'Outlet_Age', y = 'Item_Outlet_Sales', data = train_df);"
   ]
  },
  {
   "cell_type": "markdown",
   "metadata": {
    "id": "WlDXEF2IStxa"
   },
   "source": [
    "**Observations:**\n",
    "* The hypothesis that we had - **As the store gets older, the sales increase** does not seem to hold based on the above plot. Because of the different ages of stores, the sales have similar distribution approximately. But let's keep this variable as of now, and we will revisit this variable at the time of model building and we can remove this variable by observing its significance later on."
   ]
  },
  {
   "cell_type": "markdown",
   "metadata": {
    "id": "bxq--d5CStxc"
   },
   "source": [
    "## **Modeling**"
   ]
  },
  {
   "cell_type": "markdown",
   "metadata": {
    "id": "wmWQcrmaStxd"
   },
   "source": [
    "Now, that we have analyzed all the variables in the dataset, we are ready to start building the model. We have observed that not all the independent variables are important to predict the outcome variable. But at the beginning, we will use all the variables, and then from the model summary, we will decide on which variable to remove from the model. Model building is an iterative task."
   ]
  },
  {
   "cell_type": "code",
   "execution_count": null,
   "metadata": {
    "id": "RT-S3iO9Stxf"
   },
   "outputs": [],
   "source": [
    "# We are removing the outcome variable from the feature set\n",
    "# Also removing the variable Outlet_Establishment_Year, as we have created a new variable Outlet_Age\n",
    "train_features = train_df.drop(['Item_Outlet_Sales', 'Outlet_Establishment_Year'], axis = 1)\n",
    "\n",
    "# And then we are extracting the outcome variable separately\n",
    "train_target = train_df['Item_Outlet_Sales']"
   ]
  },
  {
   "cell_type": "markdown",
   "metadata": {
    "id": "POVz5eD5Stxh"
   },
   "source": [
    "Whenever we have categorical variables as independent variables, we need to create **one hot encoded** representation (which is also known as dummy variables) of those categorical variables. The below code is creating dummy variables and we are removing the first category in those variables, known as **reference variable**. The reference variable helps to interpret the linear regression which we will see later."
   ]
  },
  {
   "cell_type": "code",
   "execution_count": null,
   "metadata": {
    "colab": {
     "base_uri": "https://localhost:8080/",
     "height": 273
    },
    "id": "UgYmr_a-Stxi",
    "outputId": "80befe18-0544-43e2-d93e-645dcbf3d71a"
   },
   "outputs": [],
   "source": [
    "# Creating dummy variables for the categorical variables\n",
    "train_features = pd.get_dummies(train_features, drop_first = True,dtype=\"int32\")\n",
    "\n",
    "train_features.head()"
   ]
  },
  {
   "cell_type": "code",
   "execution_count": null,
   "metadata": {
    "colab": {
     "base_uri": "https://localhost:8080/",
     "height": 313
    },
    "id": "98kim-AedVEd",
    "outputId": "a210f59d-df6e-4233-aedd-5bd0d471066f"
   },
   "outputs": [],
   "source": [
    "train_df.head()"
   ]
  },
  {
   "cell_type": "code",
   "execution_count": null,
   "metadata": {
    "colab": {
     "base_uri": "https://localhost:8080/",
     "height": 424
    },
    "id": "v3ja1M56dapg",
    "outputId": "bafeab66-f8d2-4e78-c044-26b71cb32943"
   },
   "outputs": [],
   "source": [
    "df2 = train_df[['Item_Weight','Item_Fat_Content']]\n",
    "pd.get_dummies(df2)"
   ]
  },
  {
   "cell_type": "code",
   "execution_count": null,
   "metadata": {
    "colab": {
     "base_uri": "https://localhost:8080/",
     "height": 424
    },
    "id": "FZjB6aXjdhrQ",
    "outputId": "5724a441-cf94-4678-f59e-60658dd047f8"
   },
   "outputs": [],
   "source": [
    "pd.get_dummies(df2,drop_first=True)"
   ]
  },
  {
   "cell_type": "markdown",
   "metadata": {
    "id": "pDYJ4S4YStxj"
   },
   "source": [
    "**Observations:**\n",
    "\n",
    "- Notice that the column names of all the categorical variables, and also the overall number of columns has increased after we created the dummy variables.\n",
    "- For each of those categorical variables, the first category has been removed, e.g., the category **Low Fat** of the categorical variable **Item_Fat_Content** has been removed and became the **reference variable**, and we only have the category **Regular** as a new column **Item_Fat_Content_Regular**."
   ]
  },
  {
   "cell_type": "markdown",
   "metadata": {
    "id": "vf12dooCStxk"
   },
   "source": [
    "Below, we are scaling the numerical variables in the dataset to have the same range. If we don't do this, then the model will be biased towards a variable where we have a higher range and the model will not learn from the variables with a lower range. There are many ways to do scaling. Here, we are using **MinMaxScaler** as we have both categorical and numerical variables in the dataset and don't want to change the dummy encodings of the categorical variables that we have already created. For more information on different ways of doing scaling, refer to the **section 6.3.1** of this page [here](https://scikit-learn.org/stable/modules/preprocessing.html#preprocessing-scaler)"
   ]
  },
  {
   "cell_type": "code",
   "execution_count": null,
   "metadata": {
    "colab": {
     "base_uri": "https://localhost:8080/",
     "height": 367
    },
    "id": "3peFG1t2Safg",
    "outputId": "febfc018-6dfe-41dd-cb0f-d696f53ed3c6"
   },
   "outputs": [],
   "source": [
    "train_features.describe()"
   ]
  },
  {
   "cell_type": "code",
   "execution_count": null,
   "metadata": {
    "colab": {
     "base_uri": "https://localhost:8080/",
     "height": 273
    },
    "id": "4JEtCIPMStxl",
    "outputId": "17f653e5-c981-46c1-a21d-413c0731f4ee"
   },
   "outputs": [],
   "source": [
    "# Creating an instance of the MinMaxScaler\n",
    "scaler = MinMaxScaler() # convert all the values in the required min - 0, max - 1\n",
    "\n",
    "# Applying fit_transform on the training features data\n",
    "train_features_scaled = scaler.fit_transform(train_features)\n",
    "\n",
    "# The above scaler returns the data in array format, below we are converting it back to pandas DataFrame\n",
    "train_features_scaled = pd.DataFrame(train_features_scaled, index = train_features.index, columns = train_features.columns)\n",
    "\n",
    "train_features_scaled.head()"
   ]
  },
  {
   "cell_type": "code",
   "execution_count": null,
   "metadata": {
    "colab": {
     "base_uri": "https://localhost:8080/",
     "height": 367
    },
    "id": "eOZgFYAMSjos",
    "outputId": "3d2dc3c9-6edb-48f5-f375-3bdcfaa484ba"
   },
   "outputs": [],
   "source": [
    "train_features_scaled.describe()"
   ]
  },
  {
   "cell_type": "markdown",
   "metadata": {
    "id": "76SIsm9FStxm"
   },
   "source": [
    "Now, as the dataset is ready, we are set to build the model using the **statsmodels** package."
   ]
  },
  {
   "cell_type": "code",
   "execution_count": null,
   "metadata": {
    "colab": {
     "base_uri": "https://localhost:8080/"
    },
    "id": "srYbzDrLStxn",
    "outputId": "59cb3309-27af-48b9-ee51-56ae3afce146"
   },
   "outputs": [],
   "source": [
    "# Adding the intercept term\n",
    "train_features_scaled = sm.add_constant(train_features_scaled) # learn the intercept\n",
    "\n",
    "# Calling the OLS algorithm on the train features and the target variable\n",
    "ols_model_0 = sm.OLS(train_target, train_features_scaled)\n",
    "\n",
    "# Fitting the Model\n",
    "ols_res_0 = ols_model_0.fit()\n",
    "\n",
    "print(ols_res_0.summary())"
   ]
  },
  {
   "cell_type": "markdown",
   "metadata": {
    "id": "s2VREEPjStxp"
   },
   "source": [
    "**Observations:**\n",
    "\n",
    "- We can see that the **R-squared** for the model is **0.563**.\n",
    "- Not all the variables are statistically significant to predict the outcome variable. To check which variables are statistically significant or have predictive power to predict the target variable, we need to check the **p-value** against all the independent variables.\n",
    "\n",
    "**Interpreting the Regression Results:**\n",
    "\n",
    "1. **Adj. R-squared**: It reflects the fit of the model.\n",
    "    - Adjusted R-squared values range from 0 to 1, where a higher value generally indicates a better fit, assuming certain conditions are met.\n",
    "    - In our case, the value for Adjusted R-squared is **0.562**.\n",
    "\n",
    "2. **coeff**: It represents the change in the output Y due to a change of one unit in the independent variable (everything else held constant).\n",
    "3. **std err**: It reflects the level of accuracy of the coefficients.\n",
    "    - The lower it is, the more accurate the coefficients are.\n",
    "4. **P >|t|**: It is the p-value.\n",
    "\n",
    "   * Pr(>|t|) : For each independent feature, there is a null hypothesis and alternate hypothesis.\n",
    "\n",
    "    Ho : Independent feature is not significant.\n",
    "\n",
    "    Ha : Independent feature is significant.\n",
    "\n",
    "   * The p-value of less than 0.05 is considered to be statistically significant with a confidence level of 95%.\n",
    "\n",
    "\n",
    "5. **Confidence Interval**: It represents the range in which our coefficients are likely to fall (with a likelihood of 95%)."
   ]
  },
  {
   "cell_type": "markdown",
   "metadata": {
    "id": "GZLvLzGeStxq"
   },
   "source": [
    "To understand in detail how p-values can help to identify statistically significant variables to predict the sales, we need to understand the hypothesis testing framework."
   ]
  },
  {
   "cell_type": "markdown",
   "metadata": {
    "id": "cm7rO6TsStxr"
   },
   "source": [
    "In the following example, we are showing the null hypothesis between the independent variable **Outlet_Size** and the dependent variable **Item_Outlet_Sales** to identify if there is any relationship between them or not."
   ]
  },
  {
   "cell_type": "markdown",
   "metadata": {
    "id": "vnksNRw1Stxs"
   },
   "source": [
    "- **Null hypothesis:** There is nothing going on or there is no relationship between variables **Outlet_Size** and **Item_Outlet_Sales**, i.e."
   ]
  },
  {
   "cell_type": "markdown",
   "metadata": {
    "id": "ZuS0JEhrStxt"
   },
   "source": [
    "<center>$\\mu_{\\text {outlet size }=\\text { High }}=\\mu_{\\text {outlet size }=\\text { Medium }}=\\mu_{\\text {outlet size }=\\text { Small }}$</center> where, $\\mu$ represents mean sales."
   ]
  },
  {
   "cell_type": "markdown",
   "metadata": {
    "id": "BE2MSOv3Stxt"
   },
   "source": [
    "- **Alternate hypothesis:** There is something going on, because of which, there is a relationship between variables **Outlet_Size** and **Item_Outlet_Sales**, i.e."
   ]
  },
  {
   "cell_type": "markdown",
   "metadata": {
    "id": "xXCeljJTStxv"
   },
   "source": [
    "<center>$\\mu_{\\text {outlet size = High }} \\neq \\mu_{\\text {outlet size = Medium }} \\neq \\mu_{\\text {outlet size }=\\text { small }}$</center> where, $\\mu$ represents mean sales."
   ]
  },
  {
   "cell_type": "markdown",
   "metadata": {
    "id": "uV2OFTpOStxw"
   },
   "source": [
    "From the above model summary, if the p-value is less than the significance level of 0.05, then we will reject the null hypothesis in favor of the alternate hypothesis. In other words, we have enough statistical evidence that there is some relationship between the variables **Outlet_Size** and **Item_Outlet_Sales**."
   ]
  },
  {
   "cell_type": "markdown",
   "metadata": {
    "id": "WU8lYvTcStxw"
   },
   "source": [
    "Based on the above analysis, if we observe the above model summary, we can see only some of the variables or some of the categories of a categorical variables have a p-value lower than 0.05."
   ]
  },
  {
   "cell_type": "markdown",
   "metadata": {
    "id": "q_VqM9JOStxx"
   },
   "source": [
    "## **Feature Selection**"
   ]
  },
  {
   "cell_type": "markdown",
   "metadata": {
    "id": "QZmFtvfrTzyQ"
   },
   "source": [
    "### **Removing Multicollinearity**\n"
   ]
  },
  {
   "cell_type": "markdown",
   "metadata": {
    "id": "fDTA8u-SU6_7"
   },
   "source": [
    "* Multicollinearity occurs when predictor variables in a regression model are correlated. This correlation is a problem because predictor variables should be independent. If the correlation between independent variables is high, it can cause problems when we fit the model and interpret the results. When we have multicollinearity in the linear model, the coefficients that the model suggests are unreliable.\n",
    "\n",
    "* There are different ways of detecting (or testing) multicollinearity. One such way is the Variation Inflation Factor.\n",
    "\n",
    "* **Variance Inflation factor**:  Variance inflation factor measures the inflation in the variances of the regression parameter estimates due to collinearities that exist among the predictors.  It is a measure of how much the variance of the estimated regression coefficient βk is “inflated” by the existence of correlation among the predictor variables in the model.\n",
    "\n",
    "* General Rule of thumb: If VIF is 1, then there is no correlation between the kth predictor and the remaining predictor variables, and hence the variance of β̂k is not inflated at all. Whereas, if VIF exceeds 5 or is close to exceeding 5, we say there is moderate VIF and if it is 10 or exceeds 10, it shows signs of high multicollinearity."
   ]
  },
  {
   "cell_type": "code",
   "execution_count": null,
   "metadata": {
    "colab": {
     "base_uri": "https://localhost:8080/"
    },
    "id": "CyUJ0TE52PsP",
    "outputId": "93e0fae5-c2e1-43ea-edde-d400583a7fb8"
   },
   "outputs": [],
   "source": [
    "vif_series = pd.Series(\n",
    "    [variance_inflation_factor(train_features_scaled.values, i) for i in range(train_features_scaled.shape[1])],\n",
    "    index = train_features_scaled.columns,\n",
    "    dtype = float)\n",
    "\n",
    "print(\"VIF Scores: \\n\\n{}\\n\".format(vif_series))"
   ]
  },
  {
   "cell_type": "markdown",
   "metadata": {
    "id": "ODxWmOU8T5-a"
   },
   "source": [
    "Outlet_Age has a high VIF score. Hence, we are dropping Outlet_Age and building the model."
   ]
  },
  {
   "cell_type": "code",
   "execution_count": null,
   "metadata": {
    "colab": {
     "base_uri": "https://localhost:8080/"
    },
    "id": "Pi_7roqg2P_v",
    "outputId": "0e2845c7-b00d-4f02-8112-d70991798f25"
   },
   "outputs": [],
   "source": [
    "train_features_scaled_new = train_features_scaled.drop(\"Outlet_Age\", axis = 1)\n",
    "\n",
    "vif_series = pd.Series(\n",
    "    [variance_inflation_factor(train_features_scaled_new.values, i) for i in range(train_features_scaled_new.shape[1])],\n",
    "    index = train_features_scaled_new.columns,\n",
    "    dtype = float)\n",
    "\n",
    "print(\"VIF Scores: \\n\\n{}\\n\".format(vif_series))"
   ]
  },
  {
   "cell_type": "markdown",
   "metadata": {
    "id": "6fzJ3ekVUdvc"
   },
   "source": [
    "Now, let's build the model and observe the p-values."
   ]
  },
  {
   "cell_type": "code",
   "execution_count": null,
   "metadata": {
    "id": "NN0oD4waStx1"
   },
   "outputs": [],
   "source": [
    "ols_model_2 = sm.OLS(train_target, train_features_scaled_new)\n",
    "\n",
    "ols_res_2 = ols_model_2.fit()"
   ]
  },
  {
   "cell_type": "code",
   "execution_count": null,
   "metadata": {
    "colab": {
     "base_uri": "https://localhost:8080/"
    },
    "id": "nxb-ZzKzStx2",
    "outputId": "07a21f5f-7f05-41fd-c45b-f3c82d2686f9"
   },
   "outputs": [],
   "source": [
    "print(ols_res_2.summary())"
   ]
  },
  {
   "cell_type": "markdown",
   "metadata": {
    "id": "U7LhEAOwW0sl"
   },
   "source": [
    "It is not a good practice to consider VIF values for dummy variables as they are correlated to other categories and hence have a high VIF usually. So, we built the model and calculated the p-values. We can see that all the categories in the Item_Type column show a p-value higher than 0.05. So, we can drop the Item_Type column."
   ]
  },
  {
   "cell_type": "code",
   "execution_count": null,
   "metadata": {
    "colab": {
     "base_uri": "https://localhost:8080/"
    },
    "id": "pTBOcpr7XFTS",
    "outputId": "d5d09319-6999-4332-fc71-a8a2eb22aeed"
   },
   "outputs": [],
   "source": [
    "train_features_scaled_new2 = train_features_scaled_new.drop(['Item_Type_Breads',\n",
    "'Item_Type_Breakfast',\n",
    "'Item_Type_Canned',\n",
    "'Item_Type_Dairy',\n",
    "'Item_Type_Frozen Foods',\n",
    "'Item_Type_Fruits and Vegetables',\n",
    "'Item_Type_Hard Drinks',\n",
    "'Item_Type_Health and Hygiene',\n",
    "'Item_Type_Household',\n",
    "'Item_Type_Meat',\n",
    "'Item_Type_Others',\n",
    "'Item_Type_Seafood',\n",
    "'Item_Type_Snack Foods',\n",
    "'Item_Type_Soft Drinks',\n",
    "'Item_Type_Starchy Foods'], axis = 1)\n",
    "\n",
    "vif_series = pd.Series(\n",
    "    [variance_inflation_factor(train_features_scaled_new2.values, i) for i in range(train_features_scaled_new2.shape[1])],\n",
    "    index = train_features_scaled_new2.columns,\n",
    "    dtype = float)\n",
    "\n",
    "print(\"VIF Scores: \\n\\n{}\\n\".format(vif_series))"
   ]
  },
  {
   "cell_type": "code",
   "execution_count": null,
   "metadata": {
    "colab": {
     "base_uri": "https://localhost:8080/"
    },
    "id": "0xJgHCDaYe8J",
    "outputId": "6cc3e21e-7f20-4b9e-9828-9093eb433880"
   },
   "outputs": [],
   "source": [
    "ols_model_3 = sm.OLS(train_target, train_features_scaled_new2)\n",
    "\n",
    "ols_res_3 = ols_model_3.fit()\n",
    "\n",
    "print(ols_res_3.summary())"
   ]
  },
  {
   "cell_type": "markdown",
   "metadata": {
    "id": "suo4xc2bZVhz"
   },
   "source": [
    "Now, from the p-values, we can see that we can remove the Item_Weight column as it has the highest p-value, i.e., it is the most insignificant variable."
   ]
  },
  {
   "cell_type": "code",
   "execution_count": null,
   "metadata": {
    "colab": {
     "base_uri": "https://localhost:8080/"
    },
    "id": "AJzApEPiZofP",
    "outputId": "a6fbd4f8-dd72-407c-cad5-357ce43d6d76"
   },
   "outputs": [],
   "source": [
    "train_features_scaled_new3 = train_features_scaled_new2.drop(\"Item_Weight\", axis = 1)\n",
    "\n",
    "vif_series = pd.Series(\n",
    "    [variance_inflation_factor(train_features_scaled_new3.values, i) for i in range(train_features_scaled_new3.shape[1])],\n",
    "    index = train_features_scaled_new3.columns,\n",
    "    dtype = float)\n",
    "\n",
    "print(\"VIF Scores: \\n\\n{}\\n\".format(vif_series))"
   ]
  },
  {
   "cell_type": "markdown",
   "metadata": {
    "id": "ZoyNrZWFZ7MQ"
   },
   "source": [
    "Let's build the model again."
   ]
  },
  {
   "cell_type": "code",
   "execution_count": null,
   "metadata": {
    "colab": {
     "base_uri": "https://localhost:8080/"
    },
    "id": "47cr9H1MaCja",
    "outputId": "595393d6-2191-45e6-daba-f46edf0af598"
   },
   "outputs": [],
   "source": [
    "ols_model_4 = sm.OLS(train_target, train_features_scaled_new3)\n",
    "\n",
    "ols_res_4 = ols_model_4.fit()\n",
    "\n",
    "print(ols_res_4.summary())"
   ]
  },
  {
   "cell_type": "markdown",
   "metadata": {
    "id": "_f3957rZaLAF"
   },
   "source": [
    "From the above p-values, both the categories of the column Outlet_Location_Type have a p-value lower than 0.05. So, we can remove the categories of Outlet_Location_Type."
   ]
  },
  {
   "cell_type": "code",
   "execution_count": null,
   "metadata": {
    "colab": {
     "base_uri": "https://localhost:8080/"
    },
    "id": "FNq4ju7saVCL",
    "outputId": "3fddc895-5238-4dbc-abd4-142fcf85643a"
   },
   "outputs": [],
   "source": [
    "train_features_scaled_new4 = train_features_scaled_new3.drop([\"Outlet_Location_Type_Tier 2\", \"Outlet_Location_Type_Tier 3\"], axis = 1)\n",
    "\n",
    "vif_series = pd.Series(\n",
    "    [variance_inflation_factor(train_features_scaled_new4.values, i) for i in range(train_features_scaled_new4.shape[1])],\n",
    "    index = train_features_scaled_new4.columns,\n",
    "    dtype = float)\n",
    "\n",
    "print(\"VIF Scores: \\n\\n{}\\n\".format(vif_series))"
   ]
  },
  {
   "cell_type": "code",
   "execution_count": null,
   "metadata": {
    "colab": {
     "base_uri": "https://localhost:8080/"
    },
    "id": "sccGhCXZa_lL",
    "outputId": "a63f21f2-986c-470b-b491-ee9f42f1819f"
   },
   "outputs": [],
   "source": [
    "ols_model_5 = sm.OLS(train_target, train_features_scaled_new4)\n",
    "\n",
    "ols_res_5 = ols_model_5.fit()\n",
    "\n",
    "print(ols_res_5.summary())"
   ]
  },
  {
   "cell_type": "markdown",
   "metadata": {
    "id": "25poGvnxFo6s"
   },
   "source": [
    "From the above p-values, both the categories of the column Outlet_Size have a p-value lower than 0.05. So, we can remove the categories of Outlet_Size."
   ]
  },
  {
   "cell_type": "code",
   "execution_count": null,
   "metadata": {
    "colab": {
     "base_uri": "https://localhost:8080/"
    },
    "id": "DvOB-gLYvYDu",
    "outputId": "e27617a6-2067-4280-c1de-7c9f0372f6c5"
   },
   "outputs": [],
   "source": [
    "train_features_scaled_new5 = train_features_scaled_new4.drop([\"Outlet_Size_Small\", \"Outlet_Size_Medium\"], axis=1)\n",
    "\n",
    "vif_series = pd.Series(\n",
    "    [variance_inflation_factor(train_features_scaled_new5.values, i) for i in range(train_features_scaled_new5.shape[1])],\n",
    "    index = train_features_scaled_new5.columns,\n",
    "    dtype = float)\n",
    "\n",
    "print(\"VIF Scores: \\n\\n{}\\n\".format(vif_series))"
   ]
  },
  {
   "cell_type": "code",
   "execution_count": null,
   "metadata": {
    "colab": {
     "base_uri": "https://localhost:8080/"
    },
    "id": "1kCgPXFqvnds",
    "outputId": "3c054438-ae1a-4a89-b054-c623b2b132b1"
   },
   "outputs": [],
   "source": [
    "ols_model_6 = sm.OLS(train_target, train_features_scaled_new5)\n",
    "ols_res_6 = ols_model_6.fit()\n",
    "print(ols_res_6.summary())"
   ]
  },
  {
   "cell_type": "markdown",
   "metadata": {
    "id": "2IR1Qe-IF2N8"
   },
   "source": [
    "Finally, let's drop the Item_Visibility."
   ]
  },
  {
   "cell_type": "code",
   "execution_count": null,
   "metadata": {
    "colab": {
     "base_uri": "https://localhost:8080/"
    },
    "id": "k5ITEjfEv9m7",
    "outputId": "53c1025c-71d2-441e-ae6e-12d10ec48a20"
   },
   "outputs": [],
   "source": [
    "train_features_scaled_new6 = train_features_scaled_new5.drop(\"Item_Visibility\", axis = 1)\n",
    "\n",
    "vif_series = pd.Series(\n",
    "    [variance_inflation_factor(train_features_scaled_new6.values, i) for i in range(train_features_scaled_new6.shape[1])],\n",
    "    index = train_features_scaled_new6.columns,\n",
    "    dtype = float)\n",
    "\n",
    "print(\"VIF Scores: \\n\\n{}\\n\".format(vif_series))"
   ]
  },
  {
   "cell_type": "code",
   "execution_count": null,
   "metadata": {
    "colab": {
     "base_uri": "https://localhost:8080/"
    },
    "id": "Nw6hMaGlwKgV",
    "outputId": "b20062a5-a766-442e-dbab-f383ddcdde0b"
   },
   "outputs": [],
   "source": [
    "ols_model_7 = sm.OLS(train_target, train_features_scaled_new6)\n",
    "ols_res_7 = ols_model_7.fit()\n",
    "print(ols_res_7.summary())"
   ]
  },
  {
   "cell_type": "markdown",
   "metadata": {
    "id": "-6qMLLqqStx3"
   },
   "source": [
    "**Observations:**\n",
    "\n",
    "- All the VIF Scores are now less than 5 indicating no multicollinearity.\n",
    "- Now, all the p values are lesser than 0.05 implying all the current variables are significant for the model.\n",
    "- The R-Squared value did not change by much. It is still coming out to be ~0.56 which implies that all other variables were not adding any value to the model.\n",
    "\n",
    "Lets' check the assumptions of the linear regression model."
   ]
  },
  {
   "cell_type": "markdown",
   "metadata": {
    "id": "xHzakgF2Stx3"
   },
   "source": [
    "## **Checking for the assumptions and rebuilding the model**"
   ]
  },
  {
   "cell_type": "markdown",
   "metadata": {
    "id": "bJ02Do_mStx4"
   },
   "source": [
    "In this step, we will check whether the below assumptions hold true or not for the model. In case there is an issue, we will rebuild the model after fixing those issues."
   ]
  },
  {
   "cell_type": "markdown",
   "metadata": {
    "id": "p_eyMW7MStx4"
   },
   "source": [
    "1. Mean of residuals should be 0\n",
    "2. Normality of error terms\n",
    "3. Linearity of variables\n",
    "4. No heteroscedasticity"
   ]
  },
  {
   "cell_type": "markdown",
   "metadata": {
    "id": "IDvXb8s3StyD"
   },
   "source": [
    "### **Mean of residuals should be 0 and normality of error terms**"
   ]
  },
  {
   "cell_type": "code",
   "execution_count": null,
   "metadata": {
    "id": "2wQVSHPNStyD"
   },
   "outputs": [],
   "source": [
    "# Residuals\n",
    "residual = ols_res_7.resid"
   ]
  },
  {
   "cell_type": "code",
   "execution_count": null,
   "metadata": {
    "colab": {
     "base_uri": "https://localhost:8080/"
    },
    "id": "1ioxkrPdStyD",
    "outputId": "4c27b4ac-f1dd-4ae5-d76e-8894a21f4464"
   },
   "outputs": [],
   "source": [
    "residual.mean()"
   ]
  },
  {
   "cell_type": "markdown",
   "metadata": {
    "id": "aWokAlsJStyE"
   },
   "source": [
    "- The mean of residuals is very close to 0. Hence, the corresponding assumption is satisfied."
   ]
  },
  {
   "cell_type": "markdown",
   "metadata": {
    "id": "aI4_xR2yStyE"
   },
   "source": [
    "### **Tests for Normality**\n",
    "\n",
    "**What is the test?**\n",
    "\n",
    "* Error terms/Residuals should be normally distributed.\n",
    "\n",
    "* If the error terms are non-normally distributed, confidence intervals may become too wide or narrow. Once the confidence interval becomes unstable, it leads to difficulty in estimating coefficients based on the minimization of least squares.\n",
    "\n",
    "**What does non-normality indicate?**\n",
    "\n",
    "* It suggests that there are a few unusual data points that must be studied closely to make a better model.\n",
    "\n",
    "**How to check the normality?**\n",
    "\n",
    "* We can plot the histogram of residuals and check the distribution visually.\n",
    "\n",
    "* It can be checked via QQ Plot. Residuals following normal distribution will make a straight line plot otherwise not.\n",
    "\n",
    "* Another test to check for normality: The Shapiro-Wilk test.\n",
    "\n",
    "**What if the residuals are not-normal?**\n",
    "\n",
    "* We can apply transformations like log, exponential, arcsinh, etc. as per our data."
   ]
  },
  {
   "cell_type": "code",
   "execution_count": null,
   "metadata": {
    "colab": {
     "base_uri": "https://localhost:8080/",
     "height": 447
    },
    "id": "ovgeB61FStyE",
    "outputId": "f0016652-b6f6-40e0-e6f0-8ba248e916b2"
   },
   "outputs": [],
   "source": [
    "# Plot histogram of residuals\n",
    "sns.histplot(residual, kde = True)"
   ]
  },
  {
   "cell_type": "markdown",
   "metadata": {
    "id": "i3Ir2ZpaStyF"
   },
   "source": [
    "We can see that the error terms are normally distributed. The assumption of normality is satisfied."
   ]
  },
  {
   "cell_type": "markdown",
   "metadata": {
    "id": "oBRU_BQDStyF"
   },
   "source": [
    "### **Linearity of Variables**\n",
    "\n",
    "It states that the predictor variables must have a linear relation with the dependent variable.\n",
    "\n",
    "To test this assumption, we'll plot the residuals and the fitted values and ensure that residuals do not form a strong pattern. They should be randomly and uniformly scattered on the x-axis."
   ]
  },
  {
   "cell_type": "code",
   "execution_count": null,
   "metadata": {
    "colab": {
     "base_uri": "https://localhost:8080/",
     "height": 472
    },
    "id": "hfDsNikpStyF",
    "outputId": "65005f24-ea14-4b17-9ab9-3811f6e156f2"
   },
   "outputs": [],
   "source": [
    "# Predicted values\n",
    "fitted = ols_res_7.fittedvalues\n",
    "\n",
    "sns.residplot(x = fitted, y = residual, color = \"lightblue\")\n",
    "\n",
    "plt.xlabel(\"Fitted Values\")\n",
    "\n",
    "plt.ylabel(\"Residual\")\n",
    "\n",
    "plt.title(\"Residual PLOT\")\n",
    "\n",
    "plt.show()"
   ]
  },
  {
   "cell_type": "markdown",
   "metadata": {
    "id": "VNG5Yw8WStyG"
   },
   "source": [
    "**Observations:**\n",
    "\n",
    "- We can see that there is some pattern in fitted values and residuals, i.e., the residuals are not randomly distributed.\n",
    "- Let's try to fix this. We can apply the log transformation on the target variable and try to build a new model."
   ]
  },
  {
   "cell_type": "code",
   "execution_count": null,
   "metadata": {
    "id": "ecG-EHp1StyG"
   },
   "outputs": [],
   "source": [
    "# Log transformation on the target variable\n",
    "train_target_log = np.log(train_target)"
   ]
  },
  {
   "cell_type": "code",
   "execution_count": null,
   "metadata": {
    "id": "SsqACrL5StyH"
   },
   "outputs": [],
   "source": [
    "# Fitting new model with the transformed target variable\n",
    "ols_model_7 = sm.OLS(train_target_log, train_features_scaled_new6)\n",
    "\n",
    "ols_res_7 = ols_model_7.fit()"
   ]
  },
  {
   "cell_type": "code",
   "execution_count": null,
   "metadata": {
    "colab": {
     "base_uri": "https://localhost:8080/",
     "height": 472
    },
    "id": "D66nKbjhStyH",
    "outputId": "54e6caf0-58f2-4a19-cd91-9752a4b858d0"
   },
   "outputs": [],
   "source": [
    "# Predicted values\n",
    "fitted = ols_res_7.fittedvalues\n",
    "\n",
    "residual1 = ols_res_7.resid\n",
    "\n",
    "sns.residplot(x = fitted, y = residual1, color = \"lightblue\")\n",
    "\n",
    "plt.xlabel(\"Fitted Values\")\n",
    "\n",
    "plt.ylabel(\"Residual\")\n",
    "\n",
    "plt.title(\"Residual PLOT\")\n",
    "\n",
    "plt.show()"
   ]
  },
  {
   "cell_type": "markdown",
   "metadata": {
    "id": "eXE6BbSTStyI"
   },
   "source": [
    "**Observations:**\n",
    "\n",
    "- We can see that there is no pattern in the residuals vs fitted values scatter plot now, i.e., the linearity assumption is satisfied.\n",
    "- Let's check the model summary of the latest model we have fit."
   ]
  },
  {
   "cell_type": "code",
   "execution_count": null,
   "metadata": {
    "colab": {
     "base_uri": "https://localhost:8080/"
    },
    "id": "Nk1qfEoAStyI",
    "outputId": "bf5dcdca-7455-4061-cb87-5e82e5b0a490"
   },
   "outputs": [],
   "source": [
    "print(ols_res_7.summary())"
   ]
  },
  {
   "cell_type": "markdown",
   "metadata": {
    "id": "7CNX8nYpStyI"
   },
   "source": [
    "- The model performance has improved significantly. The R-Squared has increased from 0.56 to 0.720.\n",
    "\n",
    "Let's check the final assumption of homoscedasticity."
   ]
  },
  {
   "cell_type": "markdown",
   "metadata": {
    "id": "kfmdhTOmStyJ"
   },
   "source": [
    "### **No Heteroscedasticity**"
   ]
  },
  {
   "cell_type": "markdown",
   "metadata": {
    "id": "g2c-OV0HStyJ"
   },
   "source": [
    "#### **Test for Homoscedasticity**\n",
    "\n",
    "* **Homoscedasticity -** If the variance of the residuals are symmetrically distributed across the regression line, then the data is said to homoscedastic.\n",
    "\n",
    "* **Heteroscedasticity -** If the variance is unequal for the residuals across the regression line, then the data is said to be heteroscedastic. In this case, the residuals can form an arrow shape or any other non symmetrical shape.\n",
    "\n",
    "- We will use Goldfeld–Quandt test to check homoscedasticity.\n",
    "\n",
    "    - Null hypothesis : Residuals are homoscedastic\n",
    "\n",
    "    - Alternate hypothesis : Residuals are hetroscedastic"
   ]
  },
  {
   "cell_type": "code",
   "execution_count": null,
   "metadata": {
    "id": "3TucwhK7StyK"
   },
   "outputs": [],
   "source": [
    "from statsmodels.stats.diagnostic import het_white\n",
    "\n",
    "from statsmodels.compat import lzip\n",
    "\n",
    "import statsmodels.stats.api as sms"
   ]
  },
  {
   "cell_type": "code",
   "execution_count": null,
   "metadata": {
    "colab": {
     "base_uri": "https://localhost:8080/"
    },
    "id": "LP1NYmW7StyK",
    "outputId": "27156ee5-a3c1-4cf7-9be5-1dca470c3fac"
   },
   "outputs": [],
   "source": [
    "import statsmodels.stats.api as sms\n",
    "\n",
    "from statsmodels.compat import lzip\n",
    "\n",
    "name = [\"F statistic\", \"p-value\"]\n",
    "\n",
    "test = sms.het_goldfeldquandt(train_target_log, train_features_scaled_new6)\n",
    "\n",
    "lzip(name, test)"
   ]
  },
  {
   "cell_type": "markdown",
   "metadata": {
    "id": "j1zQOvFJStyL"
   },
   "source": [
    "- As we observe from the above test, the p-value is greater than 0.05, so we fail to reject the null-hypothesis. That means the residuals are homoscedastic."
   ]
  },
  {
   "cell_type": "markdown",
   "metadata": {
    "id": "MKhAWyx1StyL"
   },
   "source": [
    "We have verified all the assumptions of the linear regression model. The final equation of the model is as follows:"
   ]
  },
  {
   "cell_type": "code",
   "execution_count": null,
   "metadata": {
    "colab": {
     "base_uri": "https://localhost:8080/"
    },
    "id": "-H-Mvz5YFiqj",
    "outputId": "f9c6b7c1-7d81-498e-9c67-895c2e56d1fb"
   },
   "outputs": [],
   "source": [
    "print(ols_res_7.summary())"
   ]
  },
  {
   "cell_type": "markdown",
   "metadata": {
    "id": "YqOh4hJyStyL"
   },
   "source": [
    "**$\\log ($ Item_Outlet_Sales $)$ $= 4.6356 + 1.9555 *$ Item_MRP$ + 0.0158 *$ Item_Fat_Content_Regular $ + 1.9550 *$ Outlet_Type_Supermarket Type1 $ + 1.7737 *$ Outlet_Type_Supermarket Type2$ + 2.4837*$ Outlet_Type_Supermarket Type3**"
   ]
  },
  {
   "cell_type": "markdown",
   "metadata": {
    "id": "d4pJ6xMPmbKo"
   },
   "source": [
    "Now, let's make the final test predictions."
   ]
  },
  {
   "cell_type": "code",
   "execution_count": null,
   "metadata": {
    "colab": {
     "base_uri": "https://localhost:8080/",
     "height": 244
    },
    "id": "itsIv2CV354z",
    "outputId": "1e5b44eb-e88e-40b4-8c89-92bed54ad51a"
   },
   "outputs": [],
   "source": [
    "without_const = train_features_scaled.iloc[:, 1:]\n",
    "\n",
    "test_features = pd.get_dummies(test_df, drop_first = True)\n",
    "\n",
    "test_features = test_features[list(without_const)]\n",
    "\n",
    "# Applying transform on the test data\n",
    "test_features_scaled = scaler.transform(test_features)\n",
    "\n",
    "test_features_scaled = pd.DataFrame(test_features_scaled, columns = without_const.columns)\n",
    "\n",
    "test_features_scaled = sm.add_constant(test_features_scaled)\n",
    "\n",
    "test_features_scaled = test_features_scaled.drop([\"Item_Weight\", \"Item_Visibility\", \"Item_Type_Breads\", \"Item_Type_Breakfast\", \"Item_Type_Canned\", \"Item_Type_Dairy\",\"Item_Type_Frozen Foods\",\"Item_Type_Fruits and Vegetables\", \"Item_Type_Hard Drinks\", \"Item_Type_Health and Hygiene\", \"Item_Type_Household\", \"Item_Type_Meat\", \"Item_Type_Others\", \"Item_Type_Seafood\", \"Item_Type_Snack Foods\", \"Item_Type_Soft Drinks\", \"Item_Type_Starchy Foods\", \"Outlet_Size_Medium\", \"Outlet_Size_Small\", \"Outlet_Location_Type_Tier 2\", \"Outlet_Location_Type_Tier 3\", 'Outlet_Age'], axis = 1)\n",
    "\n",
    "test_features_scaled.head()"
   ]
  },
  {
   "cell_type": "markdown",
   "metadata": {
    "id": "cGM8GY2cStyN"
   },
   "source": [
    "## **Evaluation Metrics**"
   ]
  },
  {
   "cell_type": "markdown",
   "metadata": {
    "id": "uCq3YWMvStyN"
   },
   "source": [
    "### **R-Squared**"
   ]
  },
  {
   "cell_type": "markdown",
   "metadata": {
    "id": "zpEQfD9mStyN"
   },
   "source": [
    "The R-squared metric gives us an indication that how good/bad our model is from a baseline model. Here, we have explained ~98% variance in the data as compared to the baseline model when there is no independent variable."
   ]
  },
  {
   "cell_type": "code",
   "execution_count": null,
   "metadata": {
    "colab": {
     "base_uri": "https://localhost:8080/"
    },
    "id": "O3QpcKLaStyN",
    "outputId": "8fa782e6-6229-4c1c-8207-0f9a405d08c7"
   },
   "outputs": [],
   "source": [
    "print(ols_res_7.rsquared)"
   ]
  },
  {
   "cell_type": "markdown",
   "metadata": {
    "id": "0NOqkCE4StyO"
   },
   "source": [
    "### **Mean Squared Error**"
   ]
  },
  {
   "cell_type": "markdown",
   "metadata": {
    "id": "V-jWvUtuStyO"
   },
   "source": [
    "This metric measures the average of the squares of the errors, i.e., the average squared difference between the estimated values and the actual value."
   ]
  },
  {
   "cell_type": "code",
   "execution_count": null,
   "metadata": {
    "colab": {
     "base_uri": "https://localhost:8080/"
    },
    "id": "GgNVfmUEStyO",
    "outputId": "c2397266-2fff-4abd-849c-d5caf3f51702"
   },
   "outputs": [],
   "source": [
    "print(ols_res_7.mse_resid)"
   ]
  },
  {
   "cell_type": "markdown",
   "metadata": {
    "id": "1ND_oJoYStyP"
   },
   "source": [
    "### **Root Mean Squared Error**"
   ]
  },
  {
   "cell_type": "markdown",
   "metadata": {
    "id": "aj_g2UwkStyP"
   },
   "source": [
    "This metric is the same as the above but, instead of simply taking the average, we also take the square root of MSE to get RMSE. This helps to get the metric in the same unit as the target variable."
   ]
  },
  {
   "cell_type": "code",
   "execution_count": null,
   "metadata": {
    "colab": {
     "base_uri": "https://localhost:8080/"
    },
    "id": "kDlVQ87AStyP",
    "outputId": "c6e8753d-cf3c-47dd-8b41-324661a74b9c"
   },
   "outputs": [],
   "source": [
    "print(np.sqrt(ols_res_7.mse_resid))"
   ]
  },
  {
   "cell_type": "markdown",
   "metadata": {
    "id": "8-Tf7VbeStyQ"
   },
   "source": [
    "Below, we are checking the cross-validation score to identify if the model that we have built is **underfitted**, **overfitted** or **just right fit** model."
   ]
  },
  {
   "cell_type": "code",
   "execution_count": null,
   "metadata": {
    "colab": {
     "base_uri": "https://localhost:8080/"
    },
    "id": "LokqPuwUStyQ",
    "outputId": "31caa413-4149-4a5d-ceff-7774693a5cd4"
   },
   "outputs": [],
   "source": [
    "# Fitting linear model\n",
    "\n",
    "from sklearn.linear_model import LinearRegression\n",
    "from sklearn.model_selection import cross_val_score\n",
    "\n",
    "linearregression = LinearRegression()\n",
    "\n",
    "cv_Score11 = cross_val_score(linearregression, train_features_scaled_new6, train_target_log, cv = 10)\n",
    "\n",
    "cv_Score12 = cross_val_score(linearregression, train_features_scaled_new6, train_target_log, cv = 10,\n",
    "                             scoring = 'neg_mean_squared_error')\n",
    "\n",
    "\n",
    "print(\"RSquared: %0.4f (+/- %0.4f)\" % (cv_Score11.mean(), cv_Score11.std()*2))\n",
    "\n",
    "print(\"Mean Squared Error: %0.3f (+/- %0.3f)\" % (-1*cv_Score12.mean(), cv_Score12.std()*2))"
   ]
  },
  {
   "cell_type": "markdown",
   "metadata": {
    "id": "GU0OOAdeStyR"
   },
   "source": [
    "**Observations:**\n",
    "\n",
    "- The R-Squared on the cross-validation is 0.718 which is almost similar to the R-Squared on the training dataset.\n",
    "- The MSE on cross-validation is 0.290 which is almost similar to the R-Squared on the training dataset."
   ]
  },
  {
   "cell_type": "markdown",
   "metadata": {
    "id": "d_bjff0XStyR"
   },
   "source": [
    "It seems like that our model is **just right fit**. It is giving a generalized performance."
   ]
  },
  {
   "cell_type": "markdown",
   "metadata": {
    "id": "AcoUwRbUStyR"
   },
   "source": [
    "Since this model that we have developed is a linear model which is not capable of capturing non-linear patterns in the data, we may want to build more advanced regression model which can capture the non-linearities in the data and improve this model further. But that is out of the scope of this case study."
   ]
  },
  {
   "cell_type": "markdown",
   "metadata": {
    "id": "fKXCINi3StyR"
   },
   "source": [
    "## **Predictions on the Test Dataset**"
   ]
  },
  {
   "cell_type": "markdown",
   "metadata": {
    "id": "QRhOPgSgStyS"
   },
   "source": [
    "Once our model is built and validated, we can now use this to predict the sales in our test data as shown below:"
   ]
  },
  {
   "cell_type": "code",
   "execution_count": null,
   "metadata": {
    "colab": {
     "base_uri": "https://localhost:8080/"
    },
    "id": "gcahY82jStyS",
    "outputId": "3b4df9e0-0621-4453-dff0-e327ec21a11f"
   },
   "outputs": [],
   "source": [
    "# These test predictions will be on a log scale\n",
    "test_predictions = ols_res_7.predict(test_features_scaled)\n",
    "\n",
    "# We are converting the log scale predictions to its original scale\n",
    "test_predictions_inverse_transformed = np.exp(test_predictions)\n",
    "\n",
    "test_predictions_inverse_transformed"
   ]
  },
  {
   "cell_type": "markdown",
   "metadata": {
    "id": "1k5kO5HaStyS"
   },
   "source": [
    "**Point to remember:** The output of this model is in log scale. So, after making prediction, we need to transform this value from log scale back to its original scale by doing the inverse of log transformation, i.e., taking exponentiation.</font>"
   ]
  },
  {
   "cell_type": "code",
   "execution_count": null,
   "metadata": {
    "colab": {
     "base_uri": "https://localhost:8080/",
     "height": 459
    },
    "id": "xshtuy1XStyT",
    "outputId": "4cfe3816-f237-4cc2-cd43-43a8af7ac3c8"
   },
   "outputs": [],
   "source": [
    "fig, ax = plt.subplots(1, 2, figsize = (24, 12))\n",
    "\n",
    "sns.histplot(test_predictions, ax = ax[0]);\n",
    "\n",
    "sns.histplot(test_predictions_inverse_transformed, ax = ax[1]);"
   ]
  },
  {
   "cell_type": "markdown",
   "metadata": {
    "id": "J0MB2PtMStyT"
   },
   "source": [
    "## **Conclusions and Recommendations**"
   ]
  },
  {
   "cell_type": "markdown",
   "metadata": {
    "id": "gsA0Dq2eStyT"
   },
   "source": [
    "- We performed EDA, univariate and bivariate analysis, on all the variables in the dataset.\n",
    "- We then performed missing values treatment using the relationship between variables.\n",
    "- We started the model building process with all the features.\n",
    "- We removed multicollinearity from the data and analyzed the model summary report to drop insignificant features.\n",
    "- We checked for different assumptions of linear regression and fixed the model iteratively if any assumptions did not hold true.\n",
    "- Finally, we evaluated the model using different evaluation metrics."
   ]
  },
  {
   "cell_type": "markdown",
   "metadata": {
    "id": "lxDMyAliStyU"
   },
   "source": [
    "Lastly below is the model equation:"
   ]
  },
  {
   "cell_type": "markdown",
   "metadata": {
    "id": "DrmenJwgStyU"
   },
   "source": [
    "**$\\log ($ Item_Outlet_Sales $)$ $= 4.6356 + 1.9555 *$ Item_MRP$ + 0.0158 *$ Item_Fat_Content_Regular $ + 1.9550 *$ Outlet_Type_Supermarket Type1 $ + 1.7737 *$ Outlet_Type_Supermarket Type2$ + 2.4837*$ Outlet_Type_Supermarket Type3**"
   ]
  },
  {
   "cell_type": "markdown",
   "metadata": {
    "id": "iZssJBBJStyU"
   },
   "source": [
    "- From the above equation, we can interpret that, with one unit change in the variable **Item_MRP**, the outcome variable, i.e., log of **Item_Outlet_Sales** increases by 1.9555 units. So, if we want to increase the sales, we may want to store higher MRP items in the high visibility area.\n",
    "\n",
    "- On average, keeping other factors constant, the log sales of stores with type Supermarket type 3 are 1.4 (2.4837/1.7737) times the log sales of stores with type 2 and 1.27 (2.4837/1.9550) times the log sales of those stores with type 1."
   ]
  },
  {
   "cell_type": "markdown",
   "metadata": {
    "id": "fI4LvBDeStyV"
   },
   "source": [
    "After interpreting this linear regression equation, it is clear that large stores of supermarket type 3 have more sales than other types of outlets. So, we want to maintain or improve the sales in these stores and for the remaining ones, we may want to make strategies to improve the sales, for example, providing better customer service, better training for store staffs, providing more visibility of high MRP item, etc."
   ]
  }
 ],
 "metadata": {
  "colab": {
   "provenance": []
  },
  "kernelspec": {
   "display_name": "Python 3 (ipykernel)",
   "language": "python",
   "name": "python3"
  },
  "language_info": {
   "codemirror_mode": {
    "name": "ipython",
    "version": 3
   },
   "file_extension": ".py",
   "mimetype": "text/x-python",
   "name": "python",
   "nbconvert_exporter": "python",
   "pygments_lexer": "ipython3",
   "version": "3.11.7"
  }
 },
 "nbformat": 4,
 "nbformat_minor": 4
}
