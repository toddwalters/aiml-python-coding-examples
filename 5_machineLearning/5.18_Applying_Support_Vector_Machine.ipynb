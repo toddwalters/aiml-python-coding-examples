{
 "cells": [
  {
   "cell_type": "markdown",
   "metadata": {
    "id": "u9g_5CfHSwTp"
   },
   "source": [
    "#__Applying Support Vector Machine__\n",
    "\n",
    "Let's examine how to construct a support vector machine."
   ]
  },
  {
   "cell_type": "markdown",
   "metadata": {
    "id": "TXv-ST6yoBxr"
   },
   "source": [
    "## Step 1: Import Required Libraries and Load the Dataset\n",
    "\n",
    "- Install and import required libraries: NumPy, pandas, Seaborn, matplotlib, and scikit-learn\n",
    "- Load the heart.csv dataset\n"
   ]
  },
  {
   "cell_type": "code",
   "execution_count": null,
   "metadata": {
    "colab": {
     "base_uri": "https://localhost:8080/"
    },
    "executionInfo": {
     "elapsed": 4357,
     "status": "ok",
     "timestamp": 1683019931461,
     "user": {
      "displayName": "Payal Prakash",
      "userId": "09532794939522559997"
     },
     "user_tz": -330
    },
    "id": "WbuH6yRkyCpu",
    "outputId": "c65adb83-599c-4fd9-ab03-c890e9c5cccc"
   },
   "outputs": [],
   "source": [
    "pip install --upgrade scikit-learn"
   ]
  },
  {
   "cell_type": "code",
   "execution_count": null,
   "metadata": {
    "id": "0U0cDz8Emry0"
   },
   "outputs": [],
   "source": [
    "import numpy as np \n",
    "import pandas as pd \n",
    "import seaborn as sns\n",
    "import matplotlib.pyplot as plt\n",
    "from sklearn.model_selection import train_test_split \n",
    "from sklearn import svm\n",
    "from sklearn import metrics\n",
    "from sklearn.metrics import confusion_matrix, classification_report\n",
    "from sklearn.metrics import ConfusionMatrixDisplay"
   ]
  },
  {
   "cell_type": "code",
   "execution_count": null,
   "metadata": {
    "id": "jxWBmJcWmry2"
   },
   "outputs": [],
   "source": [
    "df = pd.read_csv(\"heart.csv\")"
   ]
  },
  {
   "cell_type": "markdown",
   "metadata": {
    "id": "FP0hKgJ0oE9B"
   },
   "source": [
    "## Step 2: Explore and visualize the dataset\n",
    "\n",
    "- Display dataset information and summary statistics\n",
    "- Create a scatter plot of age and cholesterol\n",
    "- Check for missing values\n",
    "-  Describe and see the basic statistic of the given features\n"
   ]
  },
  {
   "cell_type": "code",
   "execution_count": null,
   "metadata": {
    "colab": {
     "base_uri": "https://localhost:8080/",
     "height": 206
    },
    "executionInfo": {
     "elapsed": 101,
     "status": "ok",
     "timestamp": 1683019931464,
     "user": {
      "displayName": "Payal Prakash",
      "userId": "09532794939522559997"
     },
     "user_tz": -330
    },
    "id": "A5hRWM6Amry3",
    "outputId": "637c46fb-0921-4be8-cea4-8950fd338f14"
   },
   "outputs": [],
   "source": [
    "df.head()"
   ]
  },
  {
   "cell_type": "markdown",
   "metadata": {
    "id": "ae18--i_J6bJ"
   },
   "source": [
    "__Observation__\n",
    "- Here, we can see a few rows of the dataset."
   ]
  },
  {
   "cell_type": "code",
   "execution_count": null,
   "metadata": {
    "colab": {
     "base_uri": "https://localhost:8080/"
    },
    "executionInfo": {
     "elapsed": 99,
     "status": "ok",
     "timestamp": 1683019931466,
     "user": {
      "displayName": "Payal Prakash",
      "userId": "09532794939522559997"
     },
     "user_tz": -330
    },
    "id": "knvza0bKmry4",
    "outputId": "05a769c8-1512-4637-a825-73ce7043ed95"
   },
   "outputs": [],
   "source": [
    "df.info()"
   ]
  },
  {
   "cell_type": "markdown",
   "metadata": {
    "id": "_wM0KCVKKEif"
   },
   "source": [
    "__Observations__\n",
    "- As you can see here, we have 303 observations and 14 features.\n",
    "- All the features have a numeric data type except for ChestPain and Thal,\n",
    "and there are no missing values."
   ]
  },
  {
   "cell_type": "markdown",
   "metadata": {
    "id": "-9TbWI4fKskk"
   },
   "source": [
    "Let’s describe and see the basic statistics of these features."
   ]
  },
  {
   "cell_type": "code",
   "execution_count": null,
   "metadata": {
    "colab": {
     "base_uri": "https://localhost:8080/",
     "height": 300
    },
    "executionInfo": {
     "elapsed": 89,
     "status": "ok",
     "timestamp": 1683019931466,
     "user": {
      "displayName": "Payal Prakash",
      "userId": "09532794939522559997"
     },
     "user_tz": -330
    },
    "id": "2DtOlcDWmry4",
    "outputId": "cbd58a49-fd3d-41db-d2e2-71808323ca7b"
   },
   "outputs": [],
   "source": [
    "df.describe()"
   ]
  },
  {
   "cell_type": "markdown",
   "metadata": {
    "id": "Pwyix6MMVFO1"
   },
   "source": [
    "__Observations__\n",
    "- The average age is 54, and the standard deviation is 9.\n",
    "- The average cholesterol is 246."
   ]
  },
  {
   "cell_type": "markdown",
   "metadata": {
    "id": "LxmcD8lKLkRY"
   },
   "source": [
    "- Let’s plot age and cholesterol.\n",
    "- Let's see if there is any relationship between age and cholesterol."
   ]
  },
  {
   "cell_type": "code",
   "execution_count": null,
   "metadata": {
    "colab": {
     "base_uri": "https://localhost:8080/",
     "height": 489
    },
    "executionInfo": {
     "elapsed": 87,
     "status": "ok",
     "timestamp": 1683019931467,
     "user": {
      "displayName": "Payal Prakash",
      "userId": "09532794939522559997"
     },
     "user_tz": -330
    },
    "id": "-W4UF_mnmry4",
    "outputId": "6461e303-c370-4a81-d1df-fe2e721251a3"
   },
   "outputs": [],
   "source": [
    "df.plot(kind='scatter', x='Age', y='Chol', alpha=0.5, c='Chol', cmap='Reds')\n",
    "plt.xlabel('Age')\n",
    "plt.ylabel('Cholesterol')\n",
    "plt.title('Age-Cholesterol Plot')"
   ]
  },
  {
   "cell_type": "markdown",
   "metadata": {
    "id": "f6H2uB7fWw4W"
   },
   "source": [
    "__Observations__\n",
    "- Clearly, we can see if the age increases, cholesterol is also high."
   ]
  },
  {
   "cell_type": "code",
   "execution_count": null,
   "metadata": {
    "colab": {
     "base_uri": "https://localhost:8080/"
    },
    "executionInfo": {
     "elapsed": 80,
     "status": "ok",
     "timestamp": 1683019931468,
     "user": {
      "displayName": "Payal Prakash",
      "userId": "09532794939522559997"
     },
     "user_tz": -330
    },
    "id": "t98QiiXOmry5",
    "outputId": "738f1adf-e49e-4494-d10d-fad83fdc11a2"
   },
   "outputs": [],
   "source": [
    "df.isna().sum()"
   ]
  },
  {
   "cell_type": "markdown",
   "metadata": {
    "id": "teJqzs4qoIVZ"
   },
   "source": [
    "## Step 3: Preprocess the Dataset\n",
    "\n",
    "- Create dummy variables for categorical features\n",
    "- Separate feature and target matrices\n",
    "- Split the dataset into training and testing sets\n"
   ]
  },
  {
   "cell_type": "code",
   "execution_count": null,
   "metadata": {
    "id": "HkR-d98Hmry5"
   },
   "outputs": [],
   "source": [
    "df_new = pd.get_dummies(df, columns= ['ChestPain', 'Thal'],drop_first= True)"
   ]
  },
  {
   "cell_type": "markdown",
   "metadata": {
    "id": "xfzj4M4gd3sF"
   },
   "source": [
    "Let's create x and y."
   ]
  },
  {
   "cell_type": "code",
   "execution_count": null,
   "metadata": {
    "id": "N6C_5z2omry5"
   },
   "outputs": [],
   "source": [
    "x = df_new.drop('AHD',axis = 1) \n",
    "y = df_new.AHD"
   ]
  },
  {
   "cell_type": "markdown",
   "metadata": {
    "id": "M8-ipXTGd_SL"
   },
   "source": [
    "Let's split the data into train and test."
   ]
  },
  {
   "cell_type": "code",
   "execution_count": null,
   "metadata": {
    "id": "xmP1LSJZmry6"
   },
   "outputs": [],
   "source": [
    "x_train, x_test, y_train, y_test = train_test_split(x, y, test_size=0.2,random_state=100)"
   ]
  },
  {
   "cell_type": "markdown",
   "metadata": {
    "id": "NUjTh2lroSwx"
   },
   "source": [
    "## Step 4: Perform Hyperparameter Tuning and Fit the SVM Model\n",
    "- Let’s import the GridSearchCV from the model selection.\n",
    "- Create an SVM classifier\n",
    "- Define the parameter grid for tuning\n",
    "- Use GridSearchCV for hyperparameter tuning\n",
    "- The values inserted into param_grid are SVM model hyperparameter values such as C, Gamma, and kernel.\n",
    "- Fit the model to the training data\n"
   ]
  },
  {
   "cell_type": "code",
   "execution_count": null,
   "metadata": {
    "colab": {
     "base_uri": "https://localhost:8080/"
    },
    "executionInfo": {
     "elapsed": 3001,
     "status": "ok",
     "timestamp": 1683019934395,
     "user": {
      "displayName": "Payal Prakash",
      "userId": "09532794939522559997"
     },
     "user_tz": -330
    },
    "id": "l-iFxc3Hmry6",
    "outputId": "9428e66a-2c16-4962-c8ac-aa320d9159f9"
   },
   "outputs": [],
   "source": [
    "from sklearn.model_selection import GridSearchCV\n",
    "\n",
    "ml = svm.SVC() \n",
    "  \n",
    "param_grid = {'C': [ 1, 10, 100, 1000,10000], \n",
    "              'gamma': [1,0.1,0.01,0.001,0.0001],\n",
    "              'kernel': ['rbf']} \n",
    "  \n",
    "grid = GridSearchCV(ml, param_grid, refit = True, verbose = 1, cv=5, n_jobs=-1)\n",
    "  \n",
    "grid_search=grid.fit(x_train, y_train)"
   ]
  },
  {
   "cell_type": "code",
   "execution_count": null,
   "metadata": {
    "colab": {
     "base_uri": "https://localhost:8080/"
    },
    "executionInfo": {
     "elapsed": 10,
     "status": "ok",
     "timestamp": 1683019934395,
     "user": {
      "displayName": "Payal Prakash",
      "userId": "09532794939522559997"
     },
     "user_tz": -330
    },
    "id": "eHKkM-VXmry6",
    "outputId": "c50ecf4f-3bfe-45e4-fa96-5f4ee8e8a7bf"
   },
   "outputs": [],
   "source": [
    "print(grid_search.best_params_)"
   ]
  },
  {
   "cell_type": "markdown",
   "metadata": {
    "id": "co4QaL7iYAaf"
   },
   "source": [
    "__Observation__\n",
    "- Based on the grid search, the best parameters are C at 10, gamma at 0.001, and kernel at rbf."
   ]
  },
  {
   "cell_type": "markdown",
   "metadata": {
    "id": "O3-GcrRdoaI-"
   },
   "source": [
    "## Step 5: Evaluate the Model\n",
    "\n",
    "- Calculate the accuracy of the training data\n",
    "- Predict the target variable for the test data\n",
    "- Calculate the accuracy of the test data\n",
    "- Display the confusion matrix and classification report"
   ]
  },
  {
   "cell_type": "code",
   "execution_count": null,
   "metadata": {
    "id": "jGn6HtI5mry7"
   },
   "outputs": [],
   "source": [
    "accuracy = grid_search.best_score_ \n"
   ]
  },
  {
   "cell_type": "code",
   "execution_count": null,
   "metadata": {
    "colab": {
     "base_uri": "https://localhost:8080/"
    },
    "executionInfo": {
     "elapsed": 9,
     "status": "ok",
     "timestamp": 1683019934396,
     "user": {
      "displayName": "Payal Prakash",
      "userId": "09532794939522559997"
     },
     "user_tz": -330
    },
    "id": "VZY_5nOTmT0P",
    "outputId": "8664e560-1dd4-4e60-90e4-cecc0d78e782"
   },
   "outputs": [],
   "source": [
    "accuracy"
   ]
  },
  {
   "cell_type": "markdown",
   "metadata": {
    "id": "81GKT71ahL5Y"
   },
   "source": [
    "__Observation__\n",
    "- The accuracy is 75%."
   ]
  },
  {
   "cell_type": "code",
   "execution_count": null,
   "metadata": {
    "id": "iIgZornUmry7"
   },
   "outputs": [],
   "source": [
    "y_test_hat = grid.predict(x_test)"
   ]
  },
  {
   "cell_type": "markdown",
   "metadata": {
    "id": "dGludKwchdua"
   },
   "source": [
    "Let's check the confusion matrix for the test case."
   ]
  },
  {
   "cell_type": "code",
   "execution_count": null,
   "metadata": {
    "colab": {
     "base_uri": "https://localhost:8080/",
     "height": 184
    },
    "executionInfo": {
     "elapsed": 643,
     "status": "error",
     "timestamp": 1683019961123,
     "user": {
      "displayName": "Payal Prakash",
      "userId": "09532794939522559997"
     },
     "user_tz": -330
    },
    "id": "wd2J3SZemry7",
    "outputId": "f1fb9c33-de7d-4fca-f48e-68f0031be259"
   },
   "outputs": [],
   "source": [
    "confusion_mat = confusion_matrix(y_test, y_test_hat)\n",
    "disp = ConfusionMatrixDisplay(confusion_matrix=confusion_mat, display_labels=grid.classes_)\n",
    "disp.plot(cmap=plt.cm.Blues, ax=plt.gca())\n",
    "plt.show()"
   ]
  },
  {
   "cell_type": "markdown",
   "metadata": {
    "id": "lYbZ58gPhqWT"
   },
   "source": [
    "__Observations__\n",
    "- There are 31 cases where the model has misclassified as **No** instead of **Yes**.\n",
    "- 23 cases are predicted as **Yes** instead of **No**."
   ]
  },
  {
   "cell_type": "markdown",
   "metadata": {
    "id": "TCyxFu00iD9y"
   },
   "source": [
    "Let's check the classification report."
   ]
  },
  {
   "cell_type": "code",
   "execution_count": null,
   "metadata": {
    "executionInfo": {
     "elapsed": 7,
     "status": "aborted",
     "timestamp": 1683019934398,
     "user": {
      "displayName": "Payal Prakash",
      "userId": "09532794939522559997"
     },
     "user_tz": -330
    },
    "id": "YISsfsn2mry7",
    "outputId": "23131c80-3c92-49e9-f8db-a0c195aba862"
   },
   "outputs": [],
   "source": [
    "print(classification_report(y_test,y_test_hat))"
   ]
  },
  {
   "cell_type": "markdown",
   "metadata": {
    "id": "aW02e-BpiIew"
   },
   "source": [
    "__Observation__\n",
    "- We can see from the result that the accuracy is 0.89, while the precision and recall are 0.88 and 0.85, respectively."
   ]
  },
  {
   "cell_type": "code",
   "execution_count": null,
   "metadata": {},
   "outputs": [],
   "source": [
    "model = grid.best_estimator_"
   ]
  },
  {
   "cell_type": "code",
   "execution_count": null,
   "metadata": {},
   "outputs": [],
   "source": [
    "len(model.support_vectors_)"
   ]
  },
  {
   "cell_type": "code",
   "execution_count": null,
   "metadata": {},
   "outputs": [],
   "source": [
    "model.support_vectors_"
   ]
  },
  {
   "cell_type": "code",
   "execution_count": null,
   "metadata": {},
   "outputs": [],
   "source": []
  }
 ],
 "metadata": {
  "colab": {
   "provenance": []
  },
  "kernelspec": {
   "display_name": "Python 3 (ipykernel)",
   "language": "python",
   "name": "python3"
  },
  "language_info": {
   "codemirror_mode": {
    "name": "ipython",
    "version": 3
   },
   "file_extension": ".py",
   "mimetype": "text/x-python",
   "name": "python",
   "nbconvert_exporter": "python",
   "pygments_lexer": "ipython3",
   "version": "3.11.7"
  }
 },
 "nbformat": 4,
 "nbformat_minor": 4
}
