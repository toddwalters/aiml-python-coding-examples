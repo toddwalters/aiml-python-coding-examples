{
 "cells": [
  {
   "cell_type": "markdown",
   "metadata": {
    "id": "bBb-ccVYo5jl"
   },
   "source": [
    "#__Boosting__\n",
    "Next, let us understand the ensemble technique of boosting."
   ]
  },
  {
   "cell_type": "markdown",
   "metadata": {
    "id": "uJbUl6467YOs"
   },
   "source": [
    "## Step 1: Import Required Libraries and Load the Dataset\n",
    "\n",
    "- Import pandas, NumPy, sklearn.metrics, sklearn.model_selection, and sklearn.ensemble libraries\n",
    "\n"
   ]
  },
  {
   "cell_type": "code",
   "execution_count": null,
   "metadata": {
    "id": "hmrbnOb27Ah9"
   },
   "outputs": [],
   "source": [
    "import pandas as pd\n",
    "import numpy as np\n",
    "from sklearn.metrics import classification_report\n",
    "from sklearn.model_selection import KFold\n",
    "from sklearn.datasets import load_breast_cancer\n",
    "from sklearn.ensemble import GradientBoostingClassifier, AdaBoostClassifier"
   ]
  },
  {
   "cell_type": "markdown",
   "metadata": {
    "id": "dSqX50KqpJXU"
   },
   "source": [
    "- Load the breast cancer dataset and create a DataFrame df\n",
    "- Assign the feature names of the dataset to columns and assign the target column to y\n",
    "- Using the head() method, we can check the first 5 rows of the dataset. "
   ]
  },
  {
   "cell_type": "markdown",
   "metadata": {
    "id": "W20hGKTc8t11"
   },
   "source": [
    "Let us load the data."
   ]
  },
  {
   "cell_type": "code",
   "execution_count": null,
   "metadata": {
    "colab": {
     "base_uri": "https://localhost:8080/",
     "height": 334
    },
    "executionInfo": {
     "elapsed": 537,
     "status": "ok",
     "timestamp": 1683223752995,
     "user": {
      "displayName": "Sreelakshmi C V",
      "userId": "04477517605899898333"
     },
     "user_tz": -330
    },
    "id": "ut7kTyWl7Ah_",
    "outputId": "7c28f9ea-5e77-475c-c8d8-f8947c2e118f"
   },
   "outputs": [],
   "source": [
    "df = pd.DataFrame(load_breast_cancer()['data'],\n",
    "columns=load_breast_cancer()['feature_names'])\n",
    "df['y'] = load_breast_cancer()['target']\n",
    "df.head(5)"
   ]
  },
  {
   "cell_type": "markdown",
   "metadata": {
    "id": "RGxELVmbaCkJ"
   },
   "source": [
    "__Observation:__\n",
    "- This is the head of the dataset."
   ]
  },
  {
   "cell_type": "markdown",
   "metadata": {
    "id": "H2VvvKP1sH-_"
   },
   "source": [
    "Let's check the data types and find information about the dataset."
   ]
  },
  {
   "cell_type": "code",
   "execution_count": null,
   "metadata": {
    "colab": {
     "base_uri": "https://localhost:8080/"
    },
    "executionInfo": {
     "elapsed": 4,
     "status": "ok",
     "timestamp": 1683223757048,
     "user": {
      "displayName": "Sreelakshmi C V",
      "userId": "04477517605899898333"
     },
     "user_tz": -330
    },
    "id": "0Cs_t2Pirkjv",
    "outputId": "b67b938c-b4f9-465f-f8d3-684b8b66930a"
   },
   "outputs": [],
   "source": [
    "df.info()"
   ]
  },
  {
   "cell_type": "markdown",
   "metadata": {
    "id": "e0Uftbmqrjx_"
   },
   "source": [
    "__Observation:__\n",
    "- There are no missing or null values."
   ]
  },
  {
   "cell_type": "markdown",
   "metadata": {
    "id": "lhv7QeVJ7tsM"
   },
   "source": [
    "## Step 2: Perform K-Fold Cross-Validation and Fit the Model\n",
    "- Define X and y\n",
    "- Assign the DataFrame df, except the target column, to X\n",
    "- Assign the y column to variable y\n",
    "- Create a K-fold\n",
    " - Iterate over the K-fold splits\n",
    "- Split the data into training and validation sets"
   ]
  },
  {
   "cell_type": "code",
   "execution_count": null,
   "metadata": {},
   "outputs": [],
   "source": [
    "from sklearn.model_selection import train_test_split"
   ]
  },
  {
   "cell_type": "code",
   "execution_count": null,
   "metadata": {},
   "outputs": [],
   "source": [
    "ada = AdaBoostClassifier(n_estimators=50)\n",
    "\n",
    "X_train,X_test,y_train,y_test = train_test_split(df.drop(columns=\"y\"),df['y'], test_size=0.2, random_state=42)"
   ]
  },
  {
   "cell_type": "code",
   "execution_count": null,
   "metadata": {},
   "outputs": [],
   "source": [
    "ada.fit(X_train,y_train)"
   ]
  },
  {
   "cell_type": "code",
   "execution_count": null,
   "metadata": {},
   "outputs": [],
   "source": [
    "from sklearn.metrics import f1_score\n",
    "f1_score(y_test,ada.predict(X_test))"
   ]
  },
  {
   "cell_type": "markdown",
   "metadata": {},
   "source": [
    "# Gradient Boosting"
   ]
  },
  {
   "cell_type": "code",
   "execution_count": null,
   "metadata": {},
   "outputs": [],
   "source": [
    "import numpy as np\n",
    "from sklearn.tree import DecisionTreeRegressor\n",
    "\n",
    "np.random.seed(42)\n",
    "X = np.random.rand(100, 1) - 0.5\n",
    "y = 3 * X[:, 0] ** 2 + 0.05 * np.random.randn(100)  # y = 3x² + Gaussian noise\n",
    "\n",
    "tree_reg1 = DecisionTreeRegressor(max_depth=2, random_state=42)\n",
    "tree_reg1.fit(X, y)"
   ]
  },
  {
   "cell_type": "code",
   "execution_count": null,
   "metadata": {},
   "outputs": [],
   "source": [
    "import matplotlib.pyplot as plt"
   ]
  },
  {
   "cell_type": "code",
   "execution_count": null,
   "metadata": {},
   "outputs": [],
   "source": [
    "plt.plot(X,y,\"o\")"
   ]
  },
  {
   "cell_type": "code",
   "execution_count": null,
   "metadata": {},
   "outputs": [],
   "source": []
  },
  {
   "cell_type": "code",
   "execution_count": null,
   "metadata": {},
   "outputs": [],
   "source": []
  },
  {
   "cell_type": "code",
   "execution_count": null,
   "metadata": {},
   "outputs": [],
   "source": []
  },
  {
   "cell_type": "code",
   "execution_count": null,
   "metadata": {},
   "outputs": [],
   "source": []
  },
  {
   "cell_type": "markdown",
   "metadata": {
    "id": "0HusBqCvwR13",
    "jupyter": {
     "source_hidden": true
    }
   },
   "source": [
    "- Create a GradientBoostingClassifier object with a learning rate of 0.1\n"
   ]
  },
  {
   "cell_type": "code",
   "execution_count": null,
   "metadata": {
    "colab": {
     "base_uri": "https://localhost:8080/"
    },
    "executionInfo": {
     "elapsed": 822,
     "status": "ok",
     "timestamp": 1683223896863,
     "user": {
      "displayName": "Sreelakshmi C V",
      "userId": "04477517605899898333"
     },
     "user_tz": -330
    },
    "id": "TWuyqvJ17AiA",
    "outputId": "0faff79e-6ff4-40d9-a7d2-fb36bae50037"
   },
   "outputs": [],
   "source": [
    "gradient_booster = GradientBoostingClassifier(learning_rate=0.1)\n",
    "gradient_booster.get_params()"
   ]
  },
  {
   "cell_type": "markdown",
   "metadata": {
    "id": "DraGWQGuxW-e"
   },
   "source": [
    "__Observation:__\n",
    "- The above output shows the parameters that can be treated. In this demo, we apply gradient boosting with the default value."
   ]
  },
  {
   "cell_type": "markdown",
   "metadata": {
    "id": "UjFe4QRh9u8W"
   },
   "source": [
    "Next, let's fit the model on the training data. "
   ]
  },
  {
   "cell_type": "code",
   "execution_count": null,
   "metadata": {
    "colab": {
     "base_uri": "https://localhost:8080/"
    },
    "executionInfo": {
     "elapsed": 1521,
     "status": "ok",
     "timestamp": 1683223943230,
     "user": {
      "displayName": "Sreelakshmi C V",
      "userId": "04477517605899898333"
     },
     "user_tz": -330
    },
    "id": "H2MJHd5e7AiA",
    "outputId": "c540665a-b299-4894-a231-3c00061258a1"
   },
   "outputs": [],
   "source": [
    "gradient_booster.fit(X_train,y_train)\n",
    "print(classification_report(y_val,gradient_booster.predict(X_val)))"
   ]
  },
  {
   "cell_type": "markdown",
   "metadata": {
    "id": "TV75BVGDabPH"
   },
   "source": [
    "__Observations:__\n",
    "\n",
    "- The accuracy is 0.96.\n",
    "- Precision and recall do not have much difference between them."
   ]
  },
  {
   "cell_type": "code",
   "execution_count": null,
   "metadata": {},
   "outputs": [],
   "source": [
    "# Adaboost\n",
    "\n",
    "'''\n",
    "1. Generally better to avoid overfit\n",
    "2. Easy to implement\n",
    "3. Great because of deicision tree\n",
    "4. Binary Classification\n",
    "'''"
   ]
  },
  {
   "cell_type": "code",
   "execution_count": null,
   "metadata": {},
   "outputs": [],
   "source": [
    "# Gradient Boost\n",
    "\n",
    "'''\n",
    "1. Achieve highest accuracy than adaboost\n",
    "2. offers better control during fine tuning\n",
    "3. more time in hyper paraters tuning\n",
    "4. Regression/classification\n",
    "5. Computationally expensive compared to adaboost\n",
    "'''"
   ]
  },
  {
   "cell_type": "code",
   "execution_count": null,
   "metadata": {},
   "outputs": [],
   "source": [
    "!pip install xgboost"
   ]
  },
  {
   "cell_type": "code",
   "execution_count": null,
   "metadata": {},
   "outputs": [],
   "source": [
    "import xgboost"
   ]
  },
  {
   "cell_type": "code",
   "execution_count": null,
   "metadata": {},
   "outputs": [],
   "source": [
    "model = xgboost.XGBClassifier()\n",
    "model.fit(X_train,y_train)"
   ]
  },
  {
   "cell_type": "code",
   "execution_count": null,
   "metadata": {},
   "outputs": [],
   "source": [
    "f1_score(y_test,model.predict(X_test))"
   ]
  },
  {
   "cell_type": "code",
   "execution_count": null,
   "metadata": {},
   "outputs": [],
   "source": [
    "# MSE"
   ]
  },
  {
   "cell_type": "code",
   "execution_count": null,
   "metadata": {},
   "outputs": [],
   "source": [
    "# ovo and ovr technique"
   ]
  },
  {
   "cell_type": "code",
   "execution_count": null,
   "metadata": {},
   "outputs": [],
   "source": [
    "from sklearn.ensemble import StackingClassifier, RandomForestClassifier\n",
    "from sklearn.tree import DecisionTreeClassifier\n",
    "from sklearn.linear_model import LogisticRegression\n",
    "\n",
    "base_learner = [(\"rf\", RandomForestClassifier()),\n",
    "                (\"log\", LogisticRegression()),\n",
    "                ('dtree',DecisionTreeClassifier())]\n",
    "meta_learner = xgboost.XGBClassifier() "
   ]
  },
  {
   "cell_type": "code",
   "execution_count": null,
   "metadata": {},
   "outputs": [],
   "source": [
    "stacking_clf =StackingClassifier(estimators=base_learner, final_estimator=meta_learner)\n",
    "stacking_clf.fit(X_train,y_train)"
   ]
  },
  {
   "cell_type": "code",
   "execution_count": null,
   "metadata": {},
   "outputs": [],
   "source": [
    "f1_score(y_test,stacking_clf.predict(X_test))"
   ]
  },
  {
   "cell_type": "code",
   "execution_count": null,
   "metadata": {},
   "outputs": [],
   "source": []
  }
 ],
 "metadata": {
  "colab": {
   "provenance": []
  },
  "kernelspec": {
   "display_name": "Python 3 (ipykernel)",
   "language": "python",
   "name": "python3"
  },
  "language_info": {
   "codemirror_mode": {
    "name": "ipython",
    "version": 3
   },
   "file_extension": ".py",
   "mimetype": "text/x-python",
   "name": "python",
   "nbconvert_exporter": "python",
   "pygments_lexer": "ipython3",
   "version": "3.11.7"
  }
 },
 "nbformat": 4,
 "nbformat_minor": 4
}
