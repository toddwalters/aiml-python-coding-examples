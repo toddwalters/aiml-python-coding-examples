{
 "cells": [
  {
   "cell_type": "markdown",
   "id": "0",
   "metadata": {
    "id": "bRS6XbwyaII5"
   },
   "source": [
    "##**Applying Hierarchical Clustering**"
   ]
  },
  {
   "cell_type": "markdown",
   "id": "1",
   "metadata": {
    "id": "nuIN5K-NeX8j"
   },
   "source": [
    "## Step 1: Import Required Libraries and Configure Settings\n",
    "\n",
    "- Import the pandas, NumPy, and matplotlib.pyplot libraries\n",
    "- Configure matplotlib settings\n"
   ]
  },
  {
   "cell_type": "code",
   "execution_count": null,
   "id": "2",
   "metadata": {
    "id": "l28GB-q80z84"
   },
   "outputs": [],
   "source": [
    "import matplotlib.pyplot as plt\n",
    "import pandas as pd\n",
    "%matplotlib inline\n",
    "import numpy as np"
   ]
  },
  {
   "cell_type": "markdown",
   "id": "3",
   "metadata": {
    "id": "-a7J0SbAeadW"
   },
   "source": [
    "## Step 2: Load the Dataset\n",
    "\n",
    "- Load the data set Mall_customers.csv\n",
    "- Display the first few rows of the data set\n",
    "- Extract the necessary columns and store them in a variable called df\n"
   ]
  },
  {
   "cell_type": "code",
   "execution_count": null,
   "id": "4",
   "metadata": {
    "id": "415hp9Hv0z86"
   },
   "outputs": [],
   "source": [
    "df = pd.read_csv('Mall_customers.csv')"
   ]
  },
  {
   "cell_type": "code",
   "execution_count": null,
   "id": "5",
   "metadata": {
    "colab": {
     "base_uri": "https://localhost:8080/",
     "height": 206
    },
    "executionInfo": {
     "elapsed": 384,
     "status": "ok",
     "timestamp": 1682620851941,
     "user": {
      "displayName": "Sreelakshmi C V",
      "userId": "04477517605899898333"
     },
     "user_tz": -330
    },
    "id": "Tg5VGuLc0z86",
    "outputId": "ea02ea38-69ee-48ef-900d-0f6106a815c3"
   },
   "outputs": [],
   "source": [
    "df.head()"
   ]
  },
  {
   "cell_type": "markdown",
   "id": "6",
   "metadata": {
    "id": "KNMKCeBk-igI"
   },
   "source": [
    "__Observations:__\n",
    "- Here, we are using customer data from a mall.\n",
    "- We have their gender, age, income, and spending score."
   ]
  },
  {
   "cell_type": "code",
   "execution_count": null,
   "id": "7",
   "metadata": {
    "colab": {
     "base_uri": "https://localhost:8080/"
    },
    "executionInfo": {
     "elapsed": 6,
     "status": "ok",
     "timestamp": 1682620914818,
     "user": {
      "displayName": "Sreelakshmi C V",
      "userId": "04477517605899898333"
     },
     "user_tz": -330
    },
    "id": "7xlZzJ7_BUOE",
    "outputId": "8cb3f623-55ce-45f6-8a19-bbd0702a02b3"
   },
   "outputs": [],
   "source": [
    "df.info()"
   ]
  },
  {
   "cell_type": "markdown",
   "id": "8",
   "metadata": {
    "id": "oyE6aZsGBfgI"
   },
   "source": [
    "__Observation:__\n",
    "- Here, we can see that there are non-null values or no missing values.\n",
    "\n",
    "\n",
    "- Create a df1"
   ]
  },
  {
   "cell_type": "code",
   "execution_count": null,
   "id": "9",
   "metadata": {
    "id": "zc1ikEMn0z87"
   },
   "outputs": [],
   "source": [
    "df1 = df.iloc[:, 3:5].values"
   ]
  },
  {
   "cell_type": "code",
   "execution_count": null,
   "id": "10",
   "metadata": {
    "colab": {
     "base_uri": "https://localhost:8080/"
    },
    "executionInfo": {
     "elapsed": 4,
     "status": "ok",
     "timestamp": 1682621307414,
     "user": {
      "displayName": "Sreelakshmi C V",
      "userId": "04477517605899898333"
     },
     "user_tz": -330
    },
    "id": "tESkx3vX0z87",
    "outputId": "874cfeee-23af-4daa-f9d8-2b046cb9254a"
   },
   "outputs": [],
   "source": [
    "df1"
   ]
  },
  {
   "cell_type": "markdown",
   "id": "11",
   "metadata": {
    "id": "-QrtTwNJDRyl"
   },
   "source": [
    "__Observation:__\n",
    "- Here, we can see the annual income and spending score data."
   ]
  },
  {
   "cell_type": "markdown",
   "id": "12",
   "metadata": {
    "id": "lcssp-yvecfb"
   },
   "source": [
    "## Step 3: Create a Dendrogram Using Scipy\n",
    "\n",
    "- Import the scipy.cluster.hierarchy library\n",
    "- Create a dendrogram of the data set\n"
   ]
  },
  {
   "cell_type": "code",
   "execution_count": null,
   "id": "13",
   "metadata": {
    "colab": {
     "base_uri": "https://localhost:8080/",
     "height": 621
    },
    "executionInfo": {
     "elapsed": 4490,
     "status": "ok",
     "timestamp": 1682621909727,
     "user": {
      "displayName": "Sreelakshmi C V",
      "userId": "04477517605899898333"
     },
     "user_tz": -330
    },
    "id": "nd4U4E3c0z87",
    "outputId": "dc7081a9-9287-42cf-e42b-bf0733e8f68b"
   },
   "outputs": [],
   "source": [
    "import scipy.cluster.hierarchy as shc\n",
    "\n",
    "plt.figure(figsize=(10, 7))\n",
    "plt.title(\"Customer Dendograms\")\n",
    "dend = shc.dendrogram(shc.linkage(df1, method='ward'))"
   ]
  },
  {
   "cell_type": "code",
   "execution_count": null,
   "id": "14",
   "metadata": {},
   "outputs": [],
   "source": [
    "plt.figure(figsize=(10, 7))\n",
    "plt.title(\"Customer Dendograms\")\n",
    "dend = shc.dendrogram(shc.linkage(df1, method='complete'))"
   ]
  },
  {
   "cell_type": "code",
   "execution_count": null,
   "id": "15",
   "metadata": {},
   "outputs": [],
   "source": [
    "plt.figure(figsdfize=(10, 7))\n",
    "plt.title(\"Customer Dendograms\")\n",
    "dend = shc.dendrogram(shc.linkage(df1, method='single'))"
   ]
  },
  {
   "cell_type": "code",
   "execution_count": null,
   "id": "16",
   "metadata": {},
   "outputs": [],
   "source": [
    "plt.figure(figsize=(10, 7))\n",
    "plt.title(\"Customer Dendograms\")\n",
    "dend = shc.dendrogram(shc.linkage(df1, method='average'))"
   ]
  },
  {
   "cell_type": "markdown",
   "id": "17",
   "metadata": {
    "id": "xSI5XszYDlsM"
   },
   "source": [
    "__Observations:__\n",
    "- Here, we can see the dendrogram for customer data.\n",
    "- As you can see, there are different clusters that have been created.\n",
    "- Blue represents one cluster; red represents one cluster; and the entire green represents one whole cluster.\n"
   ]
  },
  {
   "cell_type": "markdown",
   "id": "18",
   "metadata": {
    "id": "eukmb9NYefD0"
   },
   "source": [
    "## Step 4: Perform Agglomerative Clustering to Identify More Clusters\n",
    "\n",
    "- Import AgglomerativeClustering from sklearn.cluster\n",
    "- Fit and predict the clusters using agglomerative clustering\n",
    "- Display the predicted cluster labels\n"
   ]
  },
  {
   "cell_type": "code",
   "execution_count": null,
   "id": "19",
   "metadata": {
    "colab": {
     "base_uri": "https://localhost:8080/"
    },
    "executionInfo": {
     "elapsed": 2097,
     "status": "ok",
     "timestamp": 1682621958063,
     "user": {
      "displayName": "Sreelakshmi C V",
      "userId": "04477517605899898333"
     },
     "user_tz": -330
    },
    "id": "7R_6iEE80z88",
    "outputId": "e96b097e-1de5-4820-ec54-6295e43a2aee"
   },
   "outputs": [],
   "source": [
    "from sklearn.cluster import AgglomerativeClustering\n",
    "\n",
    "model = AgglomerativeClustering(n_clusters=5, metric='euclidean', linkage='ward')\n",
    "labels_=model.fit_predict(df1)"
   ]
  },
  {
   "cell_type": "code",
   "execution_count": null,
   "id": "20",
   "metadata": {
    "colab": {
     "base_uri": "https://localhost:8080/"
    },
    "executionInfo": {
     "elapsed": 393,
     "status": "ok",
     "timestamp": 1682622776822,
     "user": {
      "displayName": "Sreelakshmi C V",
      "userId": "04477517605899898333"
     },
     "user_tz": -330
    },
    "id": "xMW3-WR30z88",
    "outputId": "cf2bef94-81e9-4c3b-86c8-8b8b4124031c"
   },
   "outputs": [],
   "source": [
    "labels_"
   ]
  },
  {
   "cell_type": "markdown",
   "id": "21",
   "metadata": {
    "id": "6ocXf_ZEIjvK"
   },
   "source": [
    "__Observation:__\n",
    "- Here, we can see the labels."
   ]
  },
  {
   "cell_type": "markdown",
   "id": "22",
   "metadata": {
    "id": "VofBoVa1eg_r"
   },
   "source": [
    "## Step 5: Plot the Clusters\n",
    "\n",
    "- Create a scatter plot of the data set with colors corresponding to the predicted cluster labels.\n"
   ]
  },
  {
   "cell_type": "code",
   "execution_count": null,
   "id": "23",
   "metadata": {
    "colab": {
     "base_uri": "https://localhost:8080/",
     "height": 616
    },
    "executionInfo": {
     "elapsed": 10,
     "status": "ok",
     "timestamp": 1682622148289,
     "user": {
      "displayName": "Sreelakshmi C V",
      "userId": "04477517605899898333"
     },
     "user_tz": -330
    },
    "id": "DIf3f3rO0z88",
    "outputId": "7bb7761a-bba5-4c9e-901e-cacae319541d"
   },
   "outputs": [],
   "source": [
    "plt.figure(figsize=(10, 7))\n",
    "plt.scatter(df1[:,0], df1[:,1], c=model.labels_, cmap='rainbow')"
   ]
  },
  {
   "cell_type": "code",
   "execution_count": null,
   "id": "24",
   "metadata": {},
   "outputs": [],
   "source": [
    "df.head()"
   ]
  },
  {
   "cell_type": "code",
   "execution_count": null,
   "id": "25",
   "metadata": {},
   "outputs": [],
   "source": [
    "df['cluster'] = labels_"
   ]
  },
  {
   "cell_type": "code",
   "execution_count": null,
   "id": "26",
   "metadata": {},
   "outputs": [],
   "source": [
    "df.drop(columns=['CustomerID','Gender']).groupby([\"cluster\"]).agg([\"mean\",\"median\"])"
   ]
  },
  {
   "cell_type": "markdown",
   "id": "27",
   "metadata": {
    "id": "5hHiCKeVGH7i"
   },
   "source": [
    "__Observations:__\n",
    "- Within the spread, we can see that five separate clusters have been created, forming the agglomerative cluster of five clusters.\n",
    "-  The cluster is represented by red, green, blue, violet, and yellow.\n"
   ]
  },
  {
   "cell_type": "code",
   "execution_count": null,
   "id": "28",
   "metadata": {},
   "outputs": [],
   "source": []
  }
 ],
 "metadata": {
  "colab": {
   "provenance": []
  },
  "kernelspec": {
   "display_name": "Python 3 (ipykernel)",
   "language": "python",
   "name": "python3"
  },
  "language_info": {
   "codemirror_mode": {
    "name": "ipython",
    "version": 3
   },
   "file_extension": ".py",
   "mimetype": "text/x-python",
   "name": "python",
   "nbconvert_exporter": "python",
   "pygments_lexer": "ipython3",
   "version": "3.11.7"
  }
 },
 "nbformat": 4,
 "nbformat_minor": 5
}
