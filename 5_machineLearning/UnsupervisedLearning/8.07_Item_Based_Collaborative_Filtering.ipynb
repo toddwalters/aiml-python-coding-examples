{
 "cells": [
  {
   "cell_type": "markdown",
   "metadata": {
    "id": "r73-qx3OlIvW"
   },
   "source": [
    "#__Item-Based Collaborative Filtering__\n",
    "\n",
    "- Let's explore how to create collaborative filtering based on items.\n"
   ]
  },
  {
   "cell_type": "markdown",
   "metadata": {
    "id": "pFE67u9uNz5u"
   },
   "source": [
    "## Step 1: Import Required Libraries\n",
    "\n",
    "- Import pandas and cosine_similarity from sklearn"
   ]
  },
  {
   "cell_type": "code",
   "execution_count": null,
   "metadata": {
    "id": "6ZXtKqOwMDrE"
   },
   "outputs": [],
   "source": [
    "import pandas as pd\n",
    "from sklearn.metrics.pairwise import cosine_similarity"
   ]
  },
  {
   "cell_type": "markdown",
   "metadata": {
    "id": "0fHsrGjOOqZx"
   },
   "source": [
    "## Step 2: Define the Dataset\n",
    "\n",
    "- Create a dictionary with users and their ratings for different web series\n"
   ]
  },
  {
   "cell_type": "code",
   "execution_count": null,
   "metadata": {
    "id": "8nplvUBfMDrF"
   },
   "outputs": [],
   "source": [
    "dataset={\n",
    "        'user1': {'Special Ops': 5,\n",
    "                  'Criminal Justice': 3,\n",
    "                  'Panchayat': 3,\n",
    "                  'Sacred Games': 3,\n",
    "                  'Apharan': 2,\n",
    "                  'Mirzapur': 3},\n",
    "    \n",
    "        'user2': {'Special Ops': 5,\n",
    "                    'Criminal Justice': 3,\n",
    "                    'Sacred Games': 5,\n",
    "                    'Panchayat':5,\n",
    "                    'Mirzapur': 3,\n",
    "                    'Apharan': 3},\n",
    "    \n",
    "        'user3': {'Special Ops': 2,\n",
    "                   'Panchayat': 5,\n",
    "                   'Sacred Games': 3,\n",
    "                   'Mirzapur': 4},\n",
    "    \n",
    "        'user4': {'Panchayat': 5,\n",
    "                   'Mirzapur': 4,\n",
    "                   'Sacred Games': 4,},\n",
    "    \n",
    "       'user5': {'Special Ops': 4,\n",
    "                    'Criminal Justice': 4,\n",
    "                    'Panchayat': 4,\n",
    "                    'Mirzapur': 3,\n",
    "                    'Apharan': 2},\n",
    "    \n",
    "       'user6': {'Special Ops': 3,\n",
    "                  'Panchayat': 4,\n",
    "                  'Mirzapur': 3,\n",
    "                  'Sacred Games': 5,\n",
    "                  'Apharan': 3},\n",
    "    \n",
    "      'user7': {'Panchayat':4,\n",
    "                  'Apharan':1,\n",
    "                  'Sacred Games':4}}"
   ]
  },
  {
   "cell_type": "markdown",
   "metadata": {
    "id": "a-xYewaeZjco"
   },
   "source": [
    "__Observation:__\n",
    "- The used dataset is based on the number of users, the web series they watched, and the rating given by them."
   ]
  },
  {
   "cell_type": "markdown",
   "metadata": {
    "id": "VvEh0xAkOtsj"
   },
   "source": [
    "## Step 3: Create a DataFrame of the Dataset\n",
    "\n",
    "- Convert the dataset to a DataFrame\n",
    "- Once it is converted into a DataFrame, it is observed that some of the users did not watch certain web series.\n",
    "- Hence, add values **Not Seen Yet**\n"
   ]
  },
  {
   "cell_type": "code",
   "execution_count": null,
   "metadata": {
    "colab": {
     "base_uri": "https://localhost:8080/",
     "height": 238
    },
    "executionInfo": {
     "elapsed": 1272,
     "status": "ok",
     "timestamp": 1683198832200,
     "user": {
      "displayName": "Sreelakshmi C V",
      "userId": "04477517605899898333"
     },
     "user_tz": -330
    },
    "id": "N-SX3TVDMDrG",
    "outputId": "526729d7-4cb2-4142-c13f-6bfcb9335690"
   },
   "outputs": [],
   "source": [
    "dataset_df=pd.DataFrame(dataset)\n",
    "dataset_df.fillna(\"Not Seen Yet\",inplace=True)\n",
    "dataset_df"
   ]
  },
  {
   "cell_type": "markdown",
   "metadata": {
    "id": "fXJSNlnStL6y"
   },
   "source": [
    "__Observations:__\n",
    "- The users who watch various series can be seen above.\n",
    "- As shown, we have different users and web series they have watched."
   ]
  },
  {
   "cell_type": "markdown",
   "metadata": {
    "id": "1se9QXNvOxJp"
   },
   "source": [
    "## Step 4: Define unique_items Function\n",
    "\n",
    "- Create a custom function to get the unique web series in the dataset\n"
   ]
  },
  {
   "cell_type": "code",
   "execution_count": null,
   "metadata": {
    "id": "eVQXN8fvMDrG"
   },
   "outputs": [],
   "source": [
    "def unique_items():\n",
    "    unique_items_list = []\n",
    "    for person in dataset.keys():\n",
    "        for items in dataset[person]:\n",
    "            unique_items_list.append(items)\n",
    "    s=set(unique_items_list)\n",
    "    unique_items_list=list(s)\n",
    "    return unique_items_list"
   ]
  },
  {
   "cell_type": "code",
   "execution_count": null,
   "metadata": {
    "id": "wgAW4FnM7GcT"
   },
   "outputs": [],
   "source": []
  },
  {
   "cell_type": "code",
   "execution_count": null,
   "metadata": {
    "colab": {
     "base_uri": "https://localhost:8080/"
    },
    "executionInfo": {
     "elapsed": 6,
     "status": "ok",
     "timestamp": 1683199002087,
     "user": {
      "displayName": "Sreelakshmi C V",
      "userId": "04477517605899898333"
     },
     "user_tz": -330
    },
    "id": "BxQfBz8nMDrH",
    "outputId": "7dcf3f67-67ed-45d8-ff81-183d7217595d"
   },
   "outputs": [],
   "source": [
    "unique_items()"
   ]
  },
  {
   "cell_type": "markdown",
   "metadata": {
    "id": "j8DI7RIXt9n2"
   },
   "source": [
    "__Observations:__\n",
    "- Here, we can see the list of unique items we have.\n",
    "- Defining the similarity between two items with text is not possible.\n",
    "- Hence, define a function to find similarities between two items."
   ]
  },
  {
   "cell_type": "markdown",
   "metadata": {
    "id": "GvpTRv3KMDrH"
   },
   "source": [
    "## Step 5: Define a Function to Find item_similarity\n",
    "- Compare people and items to get ratings.\n",
    "\n",
    "- Get item ratings for items 1 and 2.\n",
    "\n",
    "- Calculate the cosine similarity for item 1 and item 2 ratings."
   ]
  },
  {
   "cell_type": "code",
   "execution_count": null,
   "metadata": {
    "id": "fNw872ktMDrI"
   },
   "outputs": [],
   "source": [
    "def item_similarity(item1,item2):\n",
    "    both_rated = {}\n",
    "    for person in dataset.keys():\n",
    "        if item1 in dataset[person] and item2 in dataset[person]:\n",
    "            both_rated[person] = [dataset[person][item1],dataset[person][item2]]\n",
    "\n",
    "    number_of_ratings = len(both_rated)\n",
    "    if number_of_ratings == 0:\n",
    "        return 0\n",
    "\n",
    "    item1_ratings = [[dataset[k][item1] for k,v in both_rated.items() if item1 in dataset[k] and item2 in dataset[k]]]\n",
    "    item2_ratings = [[dataset[k][item2] for k, v in both_rated.items() if item1 in dataset[k] and item2 in dataset[k]]]\n",
    "    # print(f\"{item1} ratings are {item1_ratings}\")\n",
    "    # print(f\"{item2} ratings are {item2_ratings}\")\n",
    "    cs = cosine_similarity(item1_ratings,item2_ratings)\n",
    "    return cs[0][0]"
   ]
  },
  {
   "cell_type": "code",
   "execution_count": null,
   "metadata": {},
   "outputs": [],
   "source": [
    "dataset.keys()"
   ]
  },
  {
   "cell_type": "code",
   "execution_count": null,
   "metadata": {},
   "outputs": [],
   "source": [
    "for p in dataset.keys():\n",
    "    print(\"Panchayat\" in dataset[p])\n",
    "    print('Special Ops' in dataset[p])\n",
    "    print(\"--------------------------------\")"
   ]
  },
  {
   "cell_type": "code",
   "execution_count": null,
   "metadata": {
    "colab": {
     "base_uri": "https://localhost:8080/"
    },
    "executionInfo": {
     "elapsed": 18,
     "status": "ok",
     "timestamp": 1683201137362,
     "user": {
      "displayName": "Sreelakshmi C V",
      "userId": "04477517605899898333"
     },
     "user_tz": -330
    },
    "id": "dkyFq7TgMDrI",
    "outputId": "5fdf18b8-27b0-4493-8726-2120739f622e"
   },
   "outputs": [],
   "source": [
    "print(\"Cosine Similarity:: \",item_similarity('Panchayat','Special Ops'))"
   ]
  },
  {
   "cell_type": "code",
   "execution_count": null,
   "metadata": {},
   "outputs": [],
   "source": [
    "dataset"
   ]
  },
  {
   "cell_type": "markdown",
   "metadata": {
    "id": "QZCmqp7cm2p2"
   },
   "source": [
    "__Observation:__\n",
    "- The cosine similarity is 0.9199."
   ]
  },
  {
   "cell_type": "markdown",
   "metadata": {
    "id": "KLw9cx8mMDrJ"
   },
   "source": [
    "##Step 6: Check for Similarity Between Multiple Items\n",
    "- Define a function and call it the most similar item"
   ]
  },
  {
   "cell_type": "code",
   "execution_count": null,
   "metadata": {
    "id": "NymicmRhMDrJ"
   },
   "outputs": [],
   "source": [
    "def most_similar_items(target_item):\n",
    "    un_lst=unique_items()\n",
    "    scores = [(item_similarity(target_item,other_item),target_item+\" --> \"+other_item) for other_item in un_lst if other_item!=target_item]\n",
    "    scores.sort(reverse=True)\n",
    "    return scores"
   ]
  },
  {
   "cell_type": "code",
   "execution_count": null,
   "metadata": {},
   "outputs": [],
   "source": [
    "unique_items()"
   ]
  },
  {
   "cell_type": "code",
   "execution_count": null,
   "metadata": {
    "colab": {
     "base_uri": "https://localhost:8080/"
    },
    "executionInfo": {
     "elapsed": 13,
     "status": "ok",
     "timestamp": 1682931144304,
     "user": {
      "displayName": "Payal Prakash",
      "userId": "09532794939522559997"
     },
     "user_tz": -330
    },
    "id": "PEAwDSDvMDrJ",
    "outputId": "4f39a31a-b3e6-4601-ccf2-a33d20ab2459"
   },
   "outputs": [],
   "source": [
    "print(most_similar_items('Panchayat'))"
   ]
  },
  {
   "cell_type": "markdown",
   "metadata": {
    "id": "RaUDyiVIxHIM"
   },
   "source": [
    "__Observations:__\n",
    "- If we consider the panchayat and look for similar items, we will get a similarity score for all the other items.\n",
    "- In the above output, we can see similarity scores for various items."
   ]
  },
  {
   "cell_type": "markdown",
   "metadata": {
    "id": "wDEVEGJzVNgI"
   },
   "source": [
    "## Step 7: Define Target Movies to Users\n",
    "\n",
    "- Define target movies to the user based on the target users and unseen movies\n"
   ]
  },
  {
   "cell_type": "code",
   "execution_count": null,
   "metadata": {
    "id": "TFPMJIQEMDrK"
   },
   "outputs": [],
   "source": [
    "def target_movies_to_users(target_person):\n",
    "    target_person_movie_lst = []\n",
    "    unique_list =unique_items()\n",
    "    for movies in dataset[target_person]:\n",
    "        target_person_movie_lst.append(movies)\n",
    "\n",
    "    s=set(unique_list)\n",
    "    recommended_movies=list(s.difference(target_person_movie_lst))\n",
    "    a = len(recommended_movies)\n",
    "    if a == 0:\n",
    "        return 0\n",
    "    return recommended_movies,target_person_movie_lst"
   ]
  },
  {
   "cell_type": "markdown",
   "metadata": {
    "id": "S3Hkw92d3bpC"
   },
   "source": [
    "__Observations:__\n",
    "- The def function returns recommended movies and the target person's movie list\n",
    "- Check the function unseen movies and seen movies for user 7\n",
    "- Create a dictionary for unseen movies and seen movies"
   ]
  },
  {
   "cell_type": "code",
   "execution_count": null,
   "metadata": {
    "colab": {
     "base_uri": "https://localhost:8080/",
     "height": 143
    },
    "executionInfo": {
     "elapsed": 12,
     "status": "ok",
     "timestamp": 1682931144305,
     "user": {
      "displayName": "Payal Prakash",
      "userId": "09532794939522559997"
     },
     "user_tz": -330
    },
    "id": "A1wqeIvKMDrK",
    "outputId": "22384c30-d5e4-40fa-cbfa-00d22035fda9"
   },
   "outputs": [],
   "source": [
    "unseen_movies,seen_movies=target_movies_to_users('user7')\n",
    "\n",
    "dct = {\"Unseen Movies\":unseen_movies,\"Seen Movies\":seen_movies}\n",
    "pd.DataFrame(dct)"
   ]
  },
  {
   "cell_type": "markdown",
   "metadata": {
    "id": "Wej5vICyzHlU"
   },
   "source": [
    "__Observation:__\n",
    "- In the above output, we can see the list of movies seen and unseen by user 7."
   ]
  },
  {
   "cell_type": "code",
   "execution_count": null,
   "metadata": {
    "id": "vdvhug1E-AjQ"
   },
   "outputs": [],
   "source": []
  }
 ],
 "metadata": {
  "colab": {
   "provenance": []
  },
  "kernelspec": {
   "display_name": "Python 3 (ipykernel)",
   "language": "python",
   "name": "python3"
  },
  "language_info": {
   "codemirror_mode": {
    "name": "ipython",
    "version": 3
   },
   "file_extension": ".py",
   "mimetype": "text/x-python",
   "name": "python",
   "nbconvert_exporter": "python",
   "pygments_lexer": "ipython3",
   "version": "3.11.7"
  }
 },
 "nbformat": 4,
 "nbformat_minor": 4
}
