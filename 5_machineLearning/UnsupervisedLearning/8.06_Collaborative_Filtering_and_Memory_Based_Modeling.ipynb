{
 "cells": [
  {
   "cell_type": "markdown",
   "metadata": {
    "id": "qQIbK0pOV3Q2"
   },
   "source": [
    "## __Collaborative Filtering and Memory-Based Modeling__ #\n",
    "Collaborative filtering is a technique that can filter items a user might like based on reactions by similar users. It is a recommendation engine.\n"
   ]
  },
  {
   "cell_type": "markdown",
   "metadata": {
    "id": "8SVmoxo1X-6x"
   },
   "source": [
    "## Step 1: Import Required Libraries and Load the Dataset\n",
    "\n",
    "- Import the pandas and NumPy libraries\n",
    "- Load the dataset using pandas\n"
   ]
  },
  {
   "cell_type": "code",
   "execution_count": null,
   "metadata": {
    "id": "SJhbrjpcV3Q4"
   },
   "outputs": [],
   "source": [
    "import pandas as pd\n",
    "import numpy as np"
   ]
  },
  {
   "cell_type": "code",
   "execution_count": null,
   "metadata": {
    "colab": {
     "base_uri": "https://localhost:8080/",
     "height": 206
    },
    "executionInfo": {
     "elapsed": 348,
     "status": "ok",
     "timestamp": 1683083919562,
     "user": {
      "displayName": "Sreelakshmi C V",
      "userId": "04477517605899898333"
     },
     "user_tz": -330
    },
    "id": "enpalIiFV3Q5",
    "outputId": "da9df83a-44fa-4dd9-b828-60e03a0ced3f"
   },
   "outputs": [],
   "source": [
    "header =['user_id', 'item_id', 'rating', 'timestamp']\n",
    "df = pd.read_csv('https://raw.githubusercontent.com/nachikethmurthy/Source-Code-Dataset-for-Machine-Learning-using-Python/main/Data/ratings.csv')\n",
    "df.head()"
   ]
  },
  {
   "cell_type": "markdown",
   "metadata": {
    "id": "KJ5FKiVk83Pb"
   },
   "source": [
    "__Observations:__\n",
    "- Here, we have defined the headers, as the user data has these columns.\n",
    "- The data contains user_id, item_id, rating, and timestamp."
   ]
  },
  {
   "cell_type": "markdown",
   "metadata": {
    "id": "6Tm3GqEvYhUL"
   },
   "source": [
    "## Step 2: Create a N User\n",
    "\n",
    "- Create an N user by taking unique values for the user and applying the same to the items\n",
    "\n",
    "\n"
   ]
  },
  {
   "cell_type": "code",
   "execution_count": null,
   "metadata": {},
   "outputs": [],
   "source": [
    "df.columns = header"
   ]
  },
  {
   "cell_type": "code",
   "execution_count": null,
   "metadata": {},
   "outputs": [],
   "source": [
    "df['user_id'].nunique()"
   ]
  },
  {
   "cell_type": "code",
   "execution_count": null,
   "metadata": {
    "colab": {
     "base_uri": "https://localhost:8080/"
    },
    "executionInfo": {
     "elapsed": 500,
     "status": "ok",
     "timestamp": 1683083925660,
     "user": {
      "displayName": "Sreelakshmi C V",
      "userId": "04477517605899898333"
     },
     "user_tz": -330
    },
    "id": "6DK6d3NZV3Q6",
    "outputId": "3109236c-b0f0-4b73-9e81-5ac3f193d44f"
   },
   "outputs": [],
   "source": [
    "n_users = df.user_id.unique().shape[0]\n",
    "n_items = df.item_id.unique().shape[0]\n",
    "print('number of user = ' + str(n_users) + ' | number of items = ' + str(n_items))"
   ]
  },
  {
   "cell_type": "markdown",
   "metadata": {
    "id": "TSuFyMj4C0no"
   },
   "source": [
    "__Observation:__\n",
    "- There are 610 users and 9724 items."
   ]
  },
  {
   "cell_type": "markdown",
   "metadata": {
    "id": "FJTtRJp1YmA9"
   },
   "source": [
    "## Step 3: Split the Data into Train and Test Sets\n",
    "\n",
    "- Import train_test_split from sklearn.model_selection\n",
    "- Split the data into train and test sets\n"
   ]
  },
  {
   "cell_type": "code",
   "execution_count": null,
   "metadata": {
    "id": "o6mzV8xgV3Q7"
   },
   "outputs": [],
   "source": [
    "from sklearn.model_selection import train_test_split\n",
    "train_data, test_data = train_test_split(df, test_size=0.25)"
   ]
  },
  {
   "cell_type": "markdown",
   "metadata": {
    "id": "4HJgp2sjYpFI"
   },
   "source": [
    "## Step 4: Create a Matrix for Train and Test Sets\n",
    "\n",
    "- Create user-item matrices"
   ]
  },
  {
   "cell_type": "code",
   "execution_count": null,
   "metadata": {},
   "outputs": [],
   "source": [
    "train_data"
   ]
  },
  {
   "cell_type": "code",
   "execution_count": null,
   "metadata": {
    "id": "W9xY7g_uV3Q7"
   },
   "outputs": [],
   "source": [
    "# train_data_mat = np.zeros((n_users, n_items))\n",
    "# for line in train_data.itertuples():\n",
    "#     train_data_mat[line[1]-1, line[2]-1] = line[3]\n",
    "                      \n",
    "# test_data_mat = np.zeros((n_users, n_items))\n",
    "# for line in test_data.itertuples():\n",
    "#     test_data_mat[line[1]-1, line[2]-1] = line[3]                       "
   ]
  },
  {
   "cell_type": "code",
   "execution_count": null,
   "metadata": {},
   "outputs": [],
   "source": [
    "train_pivot = train_data.pivot_table(values=\"rating\",index=\"user_id\",columns=\"item_id\")"
   ]
  },
  {
   "cell_type": "code",
   "execution_count": null,
   "metadata": {},
   "outputs": [],
   "source": [
    "test_pivot = test_data.pivot_table(values=\"rating\",index=\"user_id\",columns=\"item_id\")"
   ]
  },
  {
   "cell_type": "code",
   "execution_count": null,
   "metadata": {},
   "outputs": [],
   "source": [
    "test_pivot = test_pivot.fillna(0)"
   ]
  },
  {
   "cell_type": "markdown",
   "metadata": {
    "id": "Y8BWrCwKDxrt"
   },
   "source": [
    "__Observation:__\n",
    "-  Here, we have created user-item matrices for train and test sets by comparing line items.\n"
   ]
  },
  {
   "cell_type": "markdown",
   "metadata": {
    "id": "WUYFj-b3YyL-"
   },
   "source": [
    "## Step 5: Calculate Similarity Matrices for Users and Items\n",
    "\n",
    "- Import pairwise_distances from sklearn.metrics.pairwise\n",
    "- Calculate similarity matrices for users and items\n"
   ]
  },
  {
   "cell_type": "code",
   "execution_count": null,
   "metadata": {},
   "outputs": [],
   "source": [
    "train_pivot = train_pivot.fillna(0)"
   ]
  },
  {
   "cell_type": "code",
   "execution_count": null,
   "metadata": {},
   "outputs": [],
   "source": [
    "train_pivot.isna().sum().sum()"
   ]
  },
  {
   "cell_type": "code",
   "execution_count": null,
   "metadata": {},
   "outputs": [],
   "source": [
    "train_pivot"
   ]
  },
  {
   "cell_type": "code",
   "execution_count": null,
   "metadata": {
    "id": "9sXuNEMvV3Q7"
   },
   "outputs": [],
   "source": [
    "from sklearn.metrics.pairwise import pairwise_distances\n",
    "user_sim = 1 - pairwise_distances(train_pivot.values,metric='cosine' )\n",
    "item_sim = 1- pairwise_distances(train_pivot.T,metric='cosine')"
   ]
  },
  {
   "cell_type": "code",
   "execution_count": null,
   "metadata": {},
   "outputs": [],
   "source": [
    "user_sim"
   ]
  },
  {
   "cell_type": "code",
   "execution_count": null,
   "metadata": {},
   "outputs": [],
   "source": [
    "item_sim"
   ]
  },
  {
   "cell_type": "code",
   "execution_count": null,
   "metadata": {},
   "outputs": [],
   "source": [
    "np.fill_diagonal(user_sim,0)\n",
    "np.fill_diagonal(item_sim,0)"
   ]
  },
  {
   "cell_type": "code",
   "execution_count": null,
   "metadata": {},
   "outputs": [],
   "source": [
    "item_sim"
   ]
  },
  {
   "cell_type": "code",
   "execution_count": null,
   "metadata": {},
   "outputs": [],
   "source": [
    "user_df = pd.DataFrame(user_sim, train_pivot.index, columns=train_pivot.index)"
   ]
  },
  {
   "cell_type": "code",
   "execution_count": null,
   "metadata": {},
   "outputs": [],
   "source": [
    "user_df.iloc[0].sort_values(ascending=False)"
   ]
  },
  {
   "cell_type": "code",
   "execution_count": null,
   "metadata": {},
   "outputs": [],
   "source": [
    "item_df = pd.DataFrame(item_sim, train_pivot.columns, columns=train_pivot.columns)\n",
    "item_df.iloc[0].sort_values(ascending=False)"
   ]
  },
  {
   "cell_type": "code",
   "execution_count": null,
   "metadata": {},
   "outputs": [],
   "source": [
    "user_sim.shape"
   ]
  },
  {
   "cell_type": "code",
   "execution_count": null,
   "metadata": {},
   "outputs": [],
   "source": [
    "user_sim[:5]"
   ]
  },
  {
   "cell_type": "code",
   "execution_count": null,
   "metadata": {},
   "outputs": [],
   "source": [
    "item_sim.shape"
   ]
  },
  {
   "cell_type": "markdown",
   "metadata": {
    "id": "bygp-xF5XkEc"
   },
   "source": [
    "## Step 6: Define the Prediction Function\n",
    "\n",
    "- Define a `predict` function that takes the following parameters:\n",
    "  - ratings: the user-item matrix\n",
    "  - similarity: the similarity matrix\n",
    "  - type (default = user): the type of collaborative filtering (user or item)"
   ]
  },
  {
   "cell_type": "code",
   "execution_count": null,
   "metadata": {},
   "outputs": [],
   "source": [
    "train_pivot.mean(axis=1)"
   ]
  },
  {
   "cell_type": "code",
   "execution_count": null,
   "metadata": {
    "id": "nHYLPKw1V3Q8"
   },
   "outputs": [],
   "source": [
    "def predict(ratings, similarity, type='user'):\n",
    "    if type == 'user':\n",
    "        mean_user_rating = ratings.mean(axis=1)\n",
    "        ratings_diff = (ratings - mean_user_rating[:, np.newaxis])\n",
    "        pred = mean_user_rating[:, np.newaxis] + similarity.dot(ratings_diff) / np.array([np.abs(similarity).sum(axis=1)]).T\n",
    "    elif type == 'item':\n",
    "        pred = ratings.dot(similarity) / np.array([np.abs(similarity).sum(axis=1)])\n",
    "    return pred"
   ]
  },
  {
   "cell_type": "code",
   "execution_count": null,
   "metadata": {
    "id": "sRYPWk0eocyO"
   },
   "outputs": [],
   "source": [
    "item_prediction = predict(train_pivot.values, item_sim, type='item')\n",
    "user_prediction = predict(train_pivot.values, user_sim, type='user')"
   ]
  },
  {
   "cell_type": "code",
   "execution_count": null,
   "metadata": {
    "id": "4a_7uRAzzuV0"
   },
   "outputs": [],
   "source": [
    "item_prediction.shape"
   ]
  },
  {
   "cell_type": "code",
   "execution_count": null,
   "metadata": {},
   "outputs": [],
   "source": [
    "user_prediction.shape"
   ]
  },
  {
   "cell_type": "code",
   "execution_count": null,
   "metadata": {},
   "outputs": [],
   "source": [
    "user_prediction"
   ]
  },
  {
   "cell_type": "markdown",
   "metadata": {
    "id": "JL4vdfWuoer9"
   },
   "source": [
    "__Observations:__\n",
    "- Item predictions and user predictions are saved.\n",
    "- Though the memory algorithm is easy to implement, there are drawbacks, such as not scaling up to the real-world scenario and not addressing the well-known cold start problem.\n",
    "- The problem with a cold start is that when a new user or a new item enters the system, they won’t be able to create a recommendation."
   ]
  },
  {
   "cell_type": "markdown",
   "metadata": {
    "id": "vLL80SyPXR_i"
   },
   "source": [
    "## Step 7: Create a Function for RMSE\n",
    "\n",
    "- Import mean_squared_error from sklearn.metrics\n",
    "- Define the RMSE function\n",
    "- Calculate RMSE for user-based and item-based predictions\n"
   ]
  },
  {
   "cell_type": "code",
   "execution_count": null,
   "metadata": {
    "colab": {
     "base_uri": "https://localhost:8080/"
    },
    "executionInfo": {
     "elapsed": 540,
     "status": "ok",
     "timestamp": 1683084079144,
     "user": {
      "displayName": "Sreelakshmi C V",
      "userId": "04477517605899898333"
     },
     "user_tz": -330
    },
    "id": "nWth8zZoV3RE",
    "outputId": "213c95df-3ba4-43eb-86c0-c3483b2ea477"
   },
   "outputs": [],
   "source": [
    "from sklearn.metrics import mean_squared_error\n",
    "from math import sqrt\n",
    "\n",
    "def rmse(prediction, ground_truth):\n",
    "    prediction = prediction[ground_truth.nonzero()].flatten()\n",
    "    ground_truth = ground_truth[ground_truth.nonzero()].flatten()\n",
    "    return sqrt(mean_squared_error(prediction, ground_truth))\n",
    "\n",
    "print('User-based CF RMSE: ' + str(rmse(user_prediction, test_pivot.values)))\n",
    "print('Item-based CF RMSE: ' + str(rmse(item_prediction, test_pivot.values)))"
   ]
  },
  {
   "cell_type": "markdown",
   "metadata": {
    "id": "uTUIW-jfoP7e"
   },
   "source": [
    "__Observation:__\n",
    "- As shown, we have calculated the RMSE for user-based and item-based predictions.\n"
   ]
  },
  {
   "cell_type": "markdown",
   "metadata": {
    "id": "WZ9f55u7rTxS"
   },
   "source": [
    "This is how we evaluate the recommendation called collaborative filtering with memory."
   ]
  },
  {
   "cell_type": "code",
   "execution_count": null,
   "metadata": {
    "id": "bJj6Yaw61jCt"
   },
   "outputs": [],
   "source": []
  }
 ],
 "metadata": {
  "colab": {
   "provenance": []
  },
  "kernelspec": {
   "display_name": "Python 3 (ipykernel)",
   "language": "python",
   "name": "python3"
  },
  "language_info": {
   "codemirror_mode": {
    "name": "ipython",
    "version": 3
   },
   "file_extension": ".py",
   "mimetype": "text/x-python",
   "name": "python",
   "nbconvert_exporter": "python",
   "pygments_lexer": "ipython3",
   "version": "3.11.7"
  }
 },
 "nbformat": 4,
 "nbformat_minor": 4
}
