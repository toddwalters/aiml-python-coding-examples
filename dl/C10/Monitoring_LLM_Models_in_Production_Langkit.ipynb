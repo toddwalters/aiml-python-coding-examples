{
 "cells": [
  {
   "cell_type": "markdown",
   "metadata": {
    "id": "-nE0Tm_YaYVA"
   },
   "source": [
    "# Introduction to Langkit"
   ]
  },
  {
   "cell_type": "code",
   "execution_count": null,
   "metadata": {
    "colab": {
     "base_uri": "https://localhost:8080/"
    },
    "id": "imx9MXMuT3WK",
    "outputId": "3d977bf9-98c5-4870-88f2-c515a5134eb6"
   },
   "outputs": [],
   "source": [
    "!pip install langkit[all]"
   ]
  },
  {
   "cell_type": "code",
   "execution_count": null,
   "metadata": {
    "colab": {
     "base_uri": "https://localhost:8080/",
     "height": 325,
     "referenced_widgets": [
      "fb8041e5136344a58eec1536a28be557",
      "c9edff23957b4dae9f1f8b1b00c00081",
      "8a385129a94e45a0ab7b46c08a2b9059",
      "3482a8013cef4d3ebe660aa9f550d721",
      "0474137d15664264b4d9a324451c5aa2",
      "f47083c2c7cc40a3ac8605fccb18c0ef",
      "61be70e7c141493aa07c52e684ea87cf",
      "b15eae1c563e4018995ee55b2e039bf7",
      "80adf4b38eb54138a57e774e5d7a578f",
      "fabe1018bce149ffbb605bad3518d3e5",
      "9506878c24fa4431b758f5e8c770c67e",
      "1c7d9d097cbe48a4bb821cec0c80af87",
      "59be2518ffe64ebea6254611e4541e52",
      "9f08761108c946a889278e10fa4d7d81",
      "933a36ecf91f436a9a6fdd68c332a759",
      "d3f5e4a0a25042d7a7f9fa3cd49a12ee",
      "8513b5953d364a0cb4506dabb584a883",
      "182eafc7d50b4ed6a50cc05ff099eba2",
      "8d18228c65f34c7f83d2e482884f68d1",
      "16bbcdce535f4ddf9437ca360424bc61",
      "b666b9aa00a049529fdae1c18704d66d",
      "19f888bf3f4940b6881818782110f82b",
      "3a3f6e01417c4b79bcdaea572a430bd2",
      "40f4b616e3914976b602a90a2ab21f95",
      "1ecca2df532f4f1994b2a0bf2e4bd1e0",
      "d5a8a1d8a7f547948fe12f796c0871e2",
      "acfcfbb46694458880ef50e3f7879bfc",
      "fb46bd1de7434f47893fabed8db5baea",
      "9353ff1cf65948d2b21d0099138c264a",
      "2b049d9ada784cec95e2e02de106511f",
      "166bc2a577614beb8f0cdcd8e49f2df0",
      "019aa52b6fa5456fa682d1bad2922322",
      "db7ea941e33f48fc87f1e620304da2f6",
      "da3a13700c504f838016fb0001ff93b4",
      "2ca0b9ce83f34888aa626db9b4d1c655",
      "c86c005e4e934d36917a64a2a31cbf44",
      "f5ea37d7e98947d5b3799109d4547868",
      "c7a3e5e62bfb4cfb8a9f6d73a05cee79",
      "371bfc6e81114d5083fe9db88f511faf",
      "b3cffbe97100494b9d22a71c8ee05649",
      "f54955b4e2ab4434b7ca0bfc41281c24",
      "f05cb4cf38d14a3a9412057fc172bb60",
      "87d99a0e83d740dea9f3a3ffc51035ef",
      "3eb22560eb904336931e81f6385f3c3b",
      "e5023ba11d864011a78867c17bb78902",
      "49c0313eb8b742d291fbacc82a84db97",
      "58a8080ea51e4f06b57aef1e5deb4de4",
      "d6f9f4dd5ad5472cb770db7f043c8abf",
      "c6027379059b4cb1a37674cfa3760324",
      "0d582bfe899d42fe8f52dbf5d1d22bdf",
      "1201ea4daf4041298bd1b1722b0fd6fa",
      "db0103fd35f9420f9f33940ea2003c97",
      "0cb46b63a877484caafd0e38be44dbd0",
      "e2789a10ccb74d2e8323f0726cc5915c",
      "f5e605f5089a45ab9a68968a88a6c797",
      "16a06f3fb06f441f87c137b9f21b636f",
      "f9f263195cde4122bc3a6711faeecf8b",
      "a2049bc7392541b3aecffbdd0b607bd3",
      "d6f80580d613418097da32e77ae02d7b",
      "3175bdf8efc149028f7d0e80e1f0412a",
      "1b3b8a63716547bb91966745eeb470df",
      "2cd9c9ede8cc4017b313fc0aef072e86",
      "8ec8a1f769b24d888d26740467b02b16",
      "3d5aa310e99c4dd09ec655d3e6f0cc9d",
      "559773ffddbf4c8ebd7cf6d15c924034",
      "b694613d2bd745d488bcd4536332c480",
      "283b56ced2de4767b541cc4622100192",
      "5d2d2061b52947dca2d8f44db80f7654",
      "32eab2fb981e4e35b83f7c39c8ab5517",
      "1fda0a9765004e4db7e57dbd82255835",
      "9b4c1325c8fb4e29bebebed43cf0d0d7",
      "2c41bda0041a4ee68176c153ecd71e5a",
      "7657b8e16d6546c4b9a25bf5364ed6bc",
      "d95149edf7724510bc2611c0300767df",
      "4c2407f7aa4f4868b124f7c7c57d4130",
      "893a60cd3d5e428796d78b6516a17e33",
      "bcc193a5cc5942d489a8007d5b079600",
      "a8e42d95547e4b58ad7594515664e48f",
      "e63fc836ec194e8da1fa41db025f6f3b",
      "3425a45a41d449c7883362589f76cb17",
      "7a47b1255c9644ba810cccee1316579d",
      "efa7afe9b6aa4ea983007842d9eb9b36",
      "ed7c8e91b86c43549e67671c68d3a57c",
      "06c035ded2de457c8e4a24529ade4883",
      "596516bd865445fda6ade550792c3b10",
      "923576c0261a46d08bf971d04712d4ce",
      "aa36d9fd0ec54458807baf009154ff6f",
      "22d2a92b928d4911ad55a3804dbe69ee",
      "ed393f997c664f7faed65a9db1f6a0b9",
      "b79635ab6c084b53ae37b36996dcec13",
      "4e9b59b6f82a41509faaeab159e35d20",
      "c0d8d97e52e64c3080ba385df513f40d",
      "a09c213e90a547449cb37f9be0751460",
      "83243bb7a3384db499a1af340be20fad",
      "670a3918d4664fcb8da083ffe817ea86",
      "a34289bcb7f5447d81719ddf52a6ea17",
      "8b8abac0afc44348967bbd1d01ff82a6",
      "9903bff84e8543abaacbd319a18edb7c",
      "fbc4375dd72e4dc49c74f74425dfaeb3",
      "66c23cdce0334810afa39b3f9e25cd2b",
      "d2752e35d18b42e59770184ec5598849",
      "12b408114ae44e62933897afb34df9cb",
      "4ee41369eb4b42718f45b5f941b19f79",
      "78e0818a5394417d8345033c7a6b4815",
      "e44c7ace4acf43ffb0c86a061d2c9cf5",
      "01f798504ac2448891b0cbde377c5f73",
      "7556badca8ce4838bdb35654c73d497e",
      "adbfe35bef6349cd9493282d90fee7e0",
      "b29987507b774f1092979556d814e9d4",
      "57559b5d498c4b99ad37f9b5ef202b6f",
      "10506ac5594649928ddfdb72222bd525",
      "e36d9afbfb00464f9aca24b0a99fc9b0",
      "0035f527f9cd4e4390cad9f8c7a5bd1f",
      "8a9f6cd6dcd04189b71a9fa634d77293",
      "d1b2c836a00d4376a622cb4c47c14d9f",
      "5eb2fddf366a4f84bfc3abde016e8fed",
      "aaa911ff147649b7ba3f377d8f70b553",
      "2440edc221c54317a1545452789a148a",
      "f710abf68e0e4c278030488e70acfe66",
      "d75c9606c1b848778e577df7dff96c37",
      "0fff2e485ca3458ab91a3155df4d835c",
      "1d0c34146b014fd6883cc31ebb565d44",
      "c31246958bdb430d9133bc3a3bdccad5",
      "b6eddff35c1f4dd58eab09d7bd2bf99b",
      "2326a4ab50c74a2eaeb4b0576a2f857e",
      "8aba631973764abc822844b936153646",
      "7379c087a8a642438a4dc8b442cd9dcb",
      "c81ffb33f7d842b3a633818f1f58b89a",
      "1914c7209eca4a30902e33218569145d",
      "69556a0999454340b1f10dd2294e2387",
      "c3db14f7a2b746509f49eeb4db01f6cd",
      "796360d3f01b4f4ea21d245d24e0c6a2",
      "266542039fe24b25a51cdf222f42c164",
      "4dfd7f09e07748c6b2a1c4ef59d2be77",
      "c1389c3ce3ef494fade2695c3c4e7aa8",
      "36c7f49552214f83a012e9389af011fa",
      "83381bb52474416aa81de2b0863e20b2",
      "536f3c657d8343b69ab2d9d9f33a1214",
      "946af60697d94ea4ad5d8c411930847a",
      "b77be057f71045da95113541b3821c8e",
      "f4d902b31e2d4c9b896aa0470eb5499e",
      "4b74bc49a5a142829dadc5f75dcfae9c",
      "b5da1893637a4081824f2e51226215c0",
      "56ac62b057da419098f81295c7e7017d",
      "5b928fdee1be4637b1c17b8f49b5e437",
      "19fdf83fefbf4228bd41f83ccef97766",
      "becbd64f0a6b40a09e037b885f0488f4",
      "6c1edc68330a44229dd542e54691b6e2",
      "c291cd1ca6924fdeb983fd2a64b9f833",
      "f2c2b5247ccb4cf4bc32566525fb8399",
      "3fa24e9cdd934e11b3553f717b0a1232",
      "0c778315c7914f1291ba45f3c5be0985",
      "a2f4167e1a1041f3aa1b178fd5499894",
      "4bc80070baa04476ae1553a0be2071e6",
      "50894066057c4f38ba8e8d45743a4390",
      "d1c29f7ca01b48f5b8f7a8cf9c391fd9",
      "45e7c335382a47e899cc8c4e401fe169",
      "f1afb12255e542b5ad21448ade3a5984",
      "7b8b9457e4674d639a43e0dcc75fac33",
      "1f99218cfa7d42d4ba9d44b999bac348",
      "261345d70b2542feb1e84a244e806f1f",
      "00543348130143768eca953b5a345c5a",
      "3890b881547543e094d441da554bb94b",
      "330293141d354c2eb02250761961ca54",
      "e4e0de4bab14463caafbf900b2050a67",
      "db8e83ebe28b4fe9b2ba4fa17a161dee",
      "d56f451f9dde40149d18e4230191a2d8",
      "374280319d2841d093b495aeb70ad560",
      "1165f20657cd4cfca7da3a5cc43a3690",
      "308e2ba7ca4b47deb1cb5f428776ff1c",
      "1a952d9a527d449f8cc17bd318125e6b",
      "028b7c62ae2b484abe6d1d30d79206c1",
      "454a2d44f6fb413889bd2e5666e7205f",
      "04d7fcbbbae34071aa3af55dfca13a9e",
      "8bc3a8d373024d728c56bf35d4cafab1",
      "1855e2c629bc4334a5b4b0a31b8bc17a",
      "c9d666b597ea4b438ff6e3120b36a6e4",
      "cbf9c56549bc446480d49b9b0d67aa71",
      "79f1f23f47fb490ab00c8ef308948db0",
      "ec66569879174c5da4ccf58c117f172d",
      "b1ccd4d683794f7583d73843cc0b2fe3",
      "0d7c4f7e0d8243f1966561df2bd28d01",
      "374c899e86fc4b65b1e8ee4232714f0a",
      "9fd0a10754044bb8b5655e9379ebf5f1",
      "b4ce49658f184139bcaa15bb4d74586e",
      "3cc6c38a0ea2432a88df732105a5b796",
      "a518a211b7be4e01aab9cfe47f0b15cb"
     ]
    },
    "id": "bZJ_TH7Taa_2",
    "outputId": "96406141-9978-4884-db03-a34670306363"
   },
   "outputs": [],
   "source": [
    "from langkit import llm_metrics\n",
    "import whylogs as why\n",
    "\n",
    "why.init()\n",
    "schema = llm_metrics.init()"
   ]
  },
  {
   "cell_type": "code",
   "execution_count": null,
   "metadata": {
    "colab": {
     "base_uri": "https://localhost:8080/"
    },
    "id": "9MyQj2ySaa9P",
    "outputId": "94c82f55-1c97-4e09-a31f-f49d3d28e040"
   },
   "outputs": [],
   "source": [
    "from langkit.whylogs.samples import load_chats, show_first_chat\n",
    "\n",
    "chats = load_chats()\n",
    "len(chats)"
   ]
  },
  {
   "cell_type": "code",
   "execution_count": null,
   "metadata": {
    "colab": {
     "base_uri": "https://localhost:8080/"
    },
    "id": "x0U1M9I5aa6p",
    "outputId": "1754e0de-3bb6-45e2-bb95-1c82d49cf716"
   },
   "outputs": [],
   "source": [
    "show_first_chat(chats)"
   ]
  },
  {
   "cell_type": "code",
   "execution_count": null,
   "metadata": {
    "colab": {
     "base_uri": "https://localhost:8080/"
    },
    "id": "k7oQSiDRo9yT",
    "outputId": "53fcfd6f-f6df-4764-ac6c-90dee962c1ad"
   },
   "outputs": [],
   "source": [
    "results = why.log(chats,name='langkit-demo',schema=schema)"
   ]
  },
  {
   "cell_type": "markdown",
   "metadata": {
    "id": "ofdxDejEabPQ"
   },
   "source": [
    "# Working with WhyLabs & Telemetry Agents"
   ]
  },
  {
   "cell_type": "code",
   "execution_count": null,
   "metadata": {
    "colab": {
     "base_uri": "https://localhost:8080/",
     "height": 1000
    },
    "id": "ftsbAI7XwPw_",
    "outputId": "cca1938b-2340-45ae-d659-0c507525b9a0"
   },
   "outputs": [],
   "source": [
    "!pip install transformers\n",
    "!pip install langkit[all]"
   ]
  },
  {
   "cell_type": "code",
   "execution_count": null,
   "metadata": {
    "colab": {
     "base_uri": "https://localhost:8080/"
    },
    "id": "CEslt-s_aelY",
    "outputId": "dcb9d58f-6faf-4e99-b0b8-8c2a938b2174"
   },
   "outputs": [],
   "source": [
    "from transformers import GPT2LMHeadModel, GPT2Tokenizer\n",
    "\n",
    "tokenizer = GPT2Tokenizer.from_pretrained('gpt2')\n",
    "model = GPT2LMHeadModel.from_pretrained('gpt2')"
   ]
  },
  {
   "cell_type": "code",
   "execution_count": null,
   "metadata": {
    "id": "pcSNjJ6humiB"
   },
   "outputs": [],
   "source": [
    "def gpt_model(prompt):\n",
    "\n",
    "  # Encode\n",
    "  input_ids = tokenizer.encode(prompt, return_tensors='pt')\n",
    "\n",
    "  # Generate a response\n",
    "  output = model.generate(input_ids, max_length=100, temperature=0.8,\n",
    "                          do_sample=True, pad_token_id=tokenizer.eos_token_id)\n",
    "\n",
    "  # Decode\n",
    "\n",
    "  response = tokenizer.decode(output[0], skip_special_tokens=True)\n",
    "  pandr = {\n",
    "      \"prompt\": prompt,\n",
    "      \"response\": response\n",
    "  }\n",
    "\n",
    "  return pandr"
   ]
  },
  {
   "cell_type": "code",
   "execution_count": null,
   "metadata": {
    "colab": {
     "base_uri": "https://localhost:8080/"
    },
    "id": "CRqVjI_XumfM",
    "outputId": "58a0462d-b049-45b5-e3de-6109e9b91e44"
   },
   "outputs": [],
   "source": [
    "pandr = gpt_model(\"Tell me a story about a cute cat\")\n",
    "print(pandr)"
   ]
  },
  {
   "cell_type": "code",
   "execution_count": null,
   "metadata": {
    "colab": {
     "base_uri": "https://localhost:8080/"
    },
    "id": "4OuA7C6kzD_q",
    "outputId": "4a4a2448-500e-4eb1-8637-f97e486968da"
   },
   "outputs": [],
   "source": [
    "!pip install langkit[all]"
   ]
  },
  {
   "cell_type": "code",
   "execution_count": null,
   "metadata": {
    "colab": {
     "base_uri": "https://localhost:8080/"
    },
    "id": "yYkuqvYTumYp",
    "outputId": "9a26d310-7bf9-4a42-9826-415e7ec54a95"
   },
   "outputs": [],
   "source": [
    "from langkit import llm_metrics # alternatively use 'light_metrics'\n",
    "import whylogs as why\n",
    "import pandas as pd\n",
    "\n",
    "# Set to show all columns in dataframe\n",
    "pd.set_option(\"display.max_columns\", None)\n",
    "\n",
    "# Note: llm_metrics.init() downloads models so this is slow first time.\n",
    "schema = llm_metrics.init()"
   ]
  },
  {
   "cell_type": "code",
   "execution_count": null,
   "metadata": {
    "colab": {
     "base_uri": "https://localhost:8080/"
    },
    "id": "N276yBGlwuNI",
    "outputId": "f91a62e8-56e5-4856-cacb-0dba7472c7ed"
   },
   "outputs": [],
   "source": [
    "profile = why.log(pandr, schema=schema).profile()"
   ]
  },
  {
   "cell_type": "code",
   "execution_count": null,
   "metadata": {
    "colab": {
     "base_uri": "https://localhost:8080/",
     "height": 1000
    },
    "id": "KcGWJARkwvMe",
    "outputId": "64efe907-443e-4a4c-b5f0-f4d56a27a5c4"
   },
   "outputs": [],
   "source": [
    "profview = profile.view()\n",
    "profview.to_pandas()"
   ]
  },
  {
   "cell_type": "markdown",
   "metadata": {
    "id": "zkjGdn4BwwgE"
   },
   "source": [
    "# Demo with Multiple Prompts"
   ]
  },
  {
   "cell_type": "code",
   "execution_count": null,
   "metadata": {
    "id": "IAxH0E3ewyJ2"
   },
   "outputs": [],
   "source": [
    "prompts = [\"What is ML?\",\n",
    "           \"Tell me a joke on cats.\",\n",
    "           \"Who won the world series in 2012?\"]"
   ]
  },
  {
   "cell_type": "code",
   "execution_count": null,
   "metadata": {
    "id": "ljHaldMrw4Lw"
   },
   "outputs": [],
   "source": [
    "for num, prompt in enumerate(prompts):\n",
    "\n",
    "  pandr = gpt_model(prompt)\n",
    "\n",
    "  # initial profile schema on first profile\n",
    "  # if num == 0:\n",
    "  #   profile = why.log(pandr, schema=schema).profile()\n",
    "  profile.track(pandr)"
   ]
  },
  {
   "cell_type": "code",
   "execution_count": null,
   "metadata": {
    "colab": {
     "base_uri": "https://localhost:8080/",
     "height": 1000
    },
    "id": "hlbzps8-w5Kg",
    "outputId": "35ea95f6-6a05-4b75-c273-6404872f6518"
   },
   "outputs": [],
   "source": [
    "profview = profile.view()\n",
    "profview.to_pandas()"
   ]
  },
  {
   "cell_type": "markdown",
   "metadata": {
    "id": "svHpMxlsw9wN"
   },
   "source": [
    "# Push Metrics to WhyLabs"
   ]
  },
  {
   "cell_type": "code",
   "execution_count": null,
   "metadata": {
    "id": "hUDdtMtqw-7C"
   },
   "outputs": [],
   "source": [
    "import os\n",
    "# set authentication & project keys\n",
    "os.environ[\"WHYLABS_DEFAULT_ORG_ID\"] = 'org-rdPzFz'\n",
    "os.environ[\"WHYLABS_API_KEY\"] = '6MT1PHbNIH.TMEKdtTmiZQxhhZuO6CAI47xpYruaHZ2Rht2VqvygeO370gwCcSnD:org-rdPzFz'\n",
    "os.environ[\"WHYLABS_DEFAULT_DATASET_ID\"] = 'model-9'"
   ]
  },
  {
   "cell_type": "code",
   "execution_count": null,
   "metadata": {
    "id": "p_7kFeuCxF-A"
   },
   "outputs": [],
   "source": [
    "from whylogs.api.writer.whylabs import WhyLabsWriter\n",
    "from langkit import llm_metrics\n",
    "import whylogs as why\n",
    "\n",
    "\n",
    "schema = llm_metrics.init()"
   ]
  },
  {
   "cell_type": "code",
   "execution_count": null,
   "metadata": {
    "colab": {
     "base_uri": "https://localhost:8080/"
    },
    "id": "dqH1FvEwxHL5",
    "outputId": "37b2cfd8-58aa-4f8a-8bcb-34633630ce7b"
   },
   "outputs": [],
   "source": [
    "telemetry_agent = WhyLabsWriter()\n",
    "profile = why.log(pandr, schema=schema)\n",
    "telemetry_agent.write(profile.view())"
   ]
  },
  {
   "cell_type": "code",
   "execution_count": null,
   "metadata": {
    "id": "QVJO2RWPxKrj"
   },
   "outputs": [],
   "source": [
    "#Filling the data with WhyLabs\n",
    "\n",
    "prompt_lists = [\n",
    "    [\"How can I create a new account?\", \"Great job to the team\", \"Fantastic product, had a good experience\"],\n",
    "    [\"This product made me angry, can I return it? Give a phone number to call 800-987-6543\", \"You dumb and smell bad\", \"I hated the experience, and I was over charged\"],\n",
    "    [\"This seems amazing, could you share the pricing?\", \"Incredible site, could we setup a call?\", \"Hello! Can you kindly guide me through the documentation?\"],\n",
    "    [\"This looks impressive, could you provide some information on the cost?\", \"Stunning platform, can we arrange a chat?\", \"Hello there! Could you assist me with the documentation?\"],\n",
    "    [\"This looks remarkable, could you tell me the price range?\", \"Fantastic webpage, is it possible to organize a call?\", \"Greetings! Can you help me with the relevant documents?\"],\n",
    "    [\"This is great, Ilove it, could you inform me about the charges?\", \"love the interface, can we have a teleconference?\", \"Hello! Can I take a look at the user manuals?\"],\n",
    "    [\"This seems fantastic, how much does it cost?\", \"Excellent website, can we setup a call?\", \"Hello! Could you help me find the resource documents?\"]\n",
    "]"
   ]
  },
  {
   "cell_type": "code",
   "execution_count": null,
   "metadata": {
    "id": "1bTIlZ2FxPLC"
   },
   "outputs": [],
   "source": [
    "import datetime\n",
    "\n",
    "\n",
    "telemetry_agent = WhyLabsWriter()\n",
    "all_prompts_and_responses = []  # This list will store all the prompts and responses.\n",
    "\n",
    "\n",
    "for i, day in enumerate(prompt_lists):\n",
    "  telemetry_agent = WhyLabsWriter()\n",
    "  # walking backwards. Each dataset has to map to a date to show up as a different batch in WhyLabs\n",
    "  dt = datetime.datetime.now(tz=datetime.timezone.utc) - datetime.timedelta(days=i)\n",
    "  for prompt in day:\n",
    "    pandr = gpt_model(prompt)\n",
    "    profile = why.log(pandr, schema=schema)\n",
    "\n",
    "     # Save the prompt and its response in the list.\n",
    "    all_prompts_and_responses.append(pandr)\n",
    "\n",
    "    # set the dataset timestamp for the profile\n",
    "    profile.set_dataset_timestamp(dt)\n",
    "    telemetry_agent.write(profile.view())"
   ]
  },
  {
   "cell_type": "code",
   "execution_count": null,
   "metadata": {
    "colab": {
     "base_uri": "https://localhost:8080/"
    },
    "id": "YGpo6mQexPIc",
    "outputId": "a4e0009a-008a-485d-f4d2-67a90ece842b"
   },
   "outputs": [],
   "source": [
    "all_prompts_and_responses"
   ]
  },
  {
   "cell_type": "code",
   "execution_count": null,
   "metadata": {
    "colab": {
     "base_uri": "https://localhost:8080/"
    },
    "id": "hwgorISD_T8o",
    "outputId": "0c9a0d4f-0f9e-41c0-a459-0a36e2fc9588"
   },
   "outputs": [],
   "source": [
    "!pip install gradio"
   ]
  },
  {
   "cell_type": "code",
   "execution_count": null,
   "metadata": {
    "id": "W93xMtjT_Spi"
   },
   "outputs": [],
   "source": [
    "import datetime\n",
    "import gradio as gr"
   ]
  },
  {
   "cell_type": "code",
   "execution_count": null,
   "metadata": {
    "colab": {
     "base_uri": "https://localhost:8080/",
     "height": 648
    },
    "id": "3NcgsRIO_Paw",
    "outputId": "c5a088d9-b038-45a6-a86b-420c996478d8"
   },
   "outputs": [],
   "source": [
    "def llm_response(message, days_to_subtract):\n",
    "\n",
    "      dt = datetime.datetime.now(tz=datetime.timezone.utc) - datetime.timedelta(days=days_to_subtract)\n",
    "\n",
    "      telemetry_agent = WhyLabsWriter()\n",
    "      prompt_and_response = gpt_model(message)\n",
    "      # prompt_and_response = gpt_model(message)\n",
    "      profile = why.log(prompt_and_response, schema=schema).profile()\n",
    "\n",
    "      profile.set_dataset_timestamp(dt)\n",
    "      telemetry_agent.write(profile.view())\n",
    "\n",
    "      # Could add gaurdrail here! (Next section)\n",
    "\n",
    "      response = prompt_and_response[\"response\"]\n",
    "\n",
    "      return response\n",
    "\n",
    "\n",
    "iface = gr.Interface(\n",
    "    fn=llm_response,\n",
    "    inputs=[\"text\", gr.Slider(minimum=0, maximum=6, step=1,  value=\"Number of days to subtract from todays date (0=today, 6=week ago)\")],\n",
    "    outputs=\"text\",\n",
    "    live=False,\n",
    ")\n",
    "\n",
    "iface.launch()"
   ]
  },
  {
   "cell_type": "markdown",
   "metadata": {
    "id": "Unsju-fBx2Pr"
   },
   "source": [
    "# Guardrails and Validation"
   ]
  },
  {
   "cell_type": "code",
   "execution_count": null,
   "metadata": {
    "colab": {
     "base_uri": "https://localhost:8080/"
    },
    "id": "9bFOQ6umxPF1",
    "outputId": "4b2844ba-5008-4a73-f2ab-3f28cdd3a33d"
   },
   "outputs": [],
   "source": [
    "import os\n",
    "import whylogs as why\n",
    "import langkit.toxicity\n",
    "import pandas as pd\n",
    "\n",
    "from langkit import llm_metrics\n",
    "\n",
    "print(\"downloading models and initialized metrics...\")\n",
    "text_metrics_schema = llm_metrics.init()\n",
    "\n",
    "# Set to show all columns in dataframe\n",
    "pd.set_option(\"display.max_columns\", None)"
   ]
  },
  {
   "cell_type": "code",
   "execution_count": null,
   "metadata": {
    "colab": {
     "base_uri": "https://localhost:8080/"
    },
    "id": "I0GVLSLMxPDO",
    "outputId": "d2e21160-85ba-4f1c-ca34-165b5b2187a2"
   },
   "outputs": [],
   "source": [
    "print(\"downloading models and initialized metrics...\")\n",
    "text_metrics_schema = llm_metrics.init()\n"
   ]
  },
  {
   "cell_type": "code",
   "execution_count": null,
   "metadata": {
    "id": "peh0uBe2xPAX"
   },
   "outputs": [],
   "source": [
    "def is_not_toxic(prompt_message):\n",
    "\n",
    "    profile = why.log({\"prompt\": prompt_message}, schema=text_metrics_schema).profile().view()\n",
    "\n",
    "    profile_dict = profile.get_column('prompt.toxicity').to_summary_dict()\n",
    "    tox_max = profile_dict['distribution/max']\n",
    "\n",
    "    print(f'Toxic score: {tox_max}')\n",
    "\n",
    "    if tox_max > 0.5:\n",
    "      return False\n",
    "    else:\n",
    "      return True"
   ]
  },
  {
   "cell_type": "code",
   "execution_count": null,
   "metadata": {
    "colab": {
     "base_uri": "https://localhost:8080/"
    },
    "id": "DzE0EHp7xO9g",
    "outputId": "e060a468-dce4-4f26-fe99-158bd3bf92e1"
   },
   "outputs": [],
   "source": [
    "is_not_toxic(\"Do you like fruit?\")"
   ]
  },
  {
   "cell_type": "code",
   "execution_count": null,
   "metadata": {
    "colab": {
     "base_uri": "https://localhost:8080/"
    },
    "id": "GQt2eW4yxO65",
    "outputId": "712797c1-c561-48af-962a-40b8fc6b10a5"
   },
   "outputs": [],
   "source": [
    "is_not_toxic(\"You dumb and smell bad\")"
   ]
  },
  {
   "cell_type": "code",
   "execution_count": null,
   "metadata": {
    "colab": {
     "base_uri": "https://localhost:8080/"
    },
    "id": "MhTzWtxoxO4C",
    "outputId": "b97d3432-95ef-47bd-b72c-56c094abadcb"
   },
   "outputs": [],
   "source": [
    "user_prompt = \"Do you like fruit?\"\n",
    "\n",
    "if is_not_toxic(user_prompt):\n",
    "  pandr = gpt_model(user_prompt)\n",
    "  print(pandr['response'])\n",
    "\n",
    "else:\n",
    "  print(\"As a large language model...\")"
   ]
  },
  {
   "cell_type": "code",
   "execution_count": null,
   "metadata": {
    "colab": {
     "base_uri": "https://localhost:8080/"
    },
    "id": "O0bot_0gxO1a",
    "outputId": "93172e10-3f24-4da8-b77c-e483d7419139"
   },
   "outputs": [],
   "source": [
    "user_prompt = \"You dumb and smell bad\"\n",
    "\n",
    "if is_not_toxic(user_prompt):\n",
    "  pandr = gpt_model(user_prompt)\n",
    "  print(pandr['response'])\n",
    "\n",
    "else:\n",
    "  print(\"As a large language model...\")"
   ]
  },
  {
   "cell_type": "code",
   "execution_count": null,
   "metadata": {
    "id": "X5GbWxg8xOyj"
   },
   "outputs": [],
   "source": []
  },
  {
   "cell_type": "code",
   "execution_count": null,
   "metadata": {
    "id": "UnrFlMzaxOwO"
   },
   "outputs": [],
   "source": []
  },
  {
   "cell_type": "code",
   "execution_count": null,
   "metadata": {
    "id": "qN-bBI00xOtX"
   },
   "outputs": [],
   "source": []
  },
  {
   "cell_type": "code",
   "execution_count": null,
   "metadata": {
    "id": "e_5_3vJExOqx"
   },
   "outputs": [],
   "source": []
  }
 ],
 "metadata": {
  "colab": {
   "provenance": []
  },
  "kernelspec": {
   "display_name": "Python 3",
   "name": "python3"
  },
  "language_info": {
   "name": "python"
  }
 },
 "nbformat": 4,
 "nbformat_minor": 0
}
