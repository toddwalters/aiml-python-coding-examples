{
 "cells": [
  {
   "cell_type": "markdown",
   "metadata": {
    "colab_type": "text",
    "id": "view-in-github"
   },
   "source": [
    "<a href=\"https://colab.research.google.com/github/toddwalters/pgaiml-python-coding-examples/blob/main/deep-learning/C10/LEP_Implementing_of_Hyperparameter_Tuning.ipynb\" target=\"_parent\"><img src=\"https://colab.research.google.com/assets/colab-badge.svg\" alt=\"Open In Colab\"/></a>"
   ]
  },
  {
   "cell_type": "markdown",
   "metadata": {
    "id": "SDt5EKeIdYdr",
    "tags": []
   },
   "source": [
    "# __Hyperparameter Tuning__\n",
    "- Hyperparameter tuning is the process of systematically searching for the best combination of hyperparameter values for a machine learning model.\n",
    "- It involves selecting a subset of hyperparameters and exploring different values for each hyperparameter to find the configuration that optimizes the model's performance on a given dataset.\n"
   ]
  },
  {
   "cell_type": "markdown",
   "metadata": {
    "id": "ovC08-LtG9-v"
   },
   "source": [
    "## Steps to Be Followed:\n",
    "1. Importing the required libraries\n",
    "2. Loading the dataset\n",
    "3. Analyzing the target distribution\n",
    "4. Splitting the data into train and test\n",
    "5. Initializing the hyperparameter space"
   ]
  },
  {
   "cell_type": "markdown",
   "metadata": {
    "id": "SHDFVGGzdYdv"
   },
   "source": [
    "### Step 1: Importing the Required Libraries\n",
    "\n",
    "- Importing libraries: It imports necessary libraries for data manipulation, evaluation metrics, cross-validation, and implementation of a multilayer perceptron (MLP) classifier.\n",
    "\n",
    "- Loading the dataset: It loads the breast cancer dataset, which contains information about breast cancer tumors and their labels.\n",
    "\n",
    "- Importing evaluation metrics: It imports metrics like accuracy and ROC-AUC scores, which are commonly used for assessing classification model performance.\n",
    "\n",
    "- Importing MLPClassifier: It imports the MLPClassifier class, which is used to implement a neural network classifier for the breast cancer dataset."
   ]
  },
  {
   "cell_type": "code",
   "execution_count": null,
   "metadata": {
    "id": "qHsqGlzNdYdw"
   },
   "outputs": [],
   "source": [
    "import numpy as np\n",
    "import pandas as pd\n",
    "\n",
    "from sklearn.datasets import load_breast_cancer\n",
    "from sklearn.metrics import accuracy_score, roc_auc_score\n",
    "from sklearn.model_selection import cross_val_score, train_test_split\n",
    "from sklearn.neural_network import MLPClassifier"
   ]
  },
  {
   "cell_type": "markdown",
   "metadata": {
    "id": "B6qFgqbDH5Ol"
   },
   "source": [
    "- It uses **hyperopt** library to perform hyperparameter optimization. It defines a search space for hyperparameters and uses the Tree of Parzen Estimators (TPE) algorithm to optimize these parameters."
   ]
  },
  {
   "cell_type": "code",
   "execution_count": null,
   "metadata": {
    "id": "6JwDj1KddYdz"
   },
   "outputs": [],
   "source": [
    "from hyperopt import hp, fmin\n",
    "from hyperopt import tpe"
   ]
  },
  {
   "cell_type": "markdown",
   "metadata": {
    "id": "yRyQurw2jsMi"
   },
   "source": [
    "### Step 2: Loading the Dataset\n",
    "- In this code, the breast cancer dataset is loaded using the **load_breast_cancer** function.\n",
    "- The features are stored in the **breast_cancer_X** variable, and the corresponding labels are stored in **breast_cancer_y**.\n",
    "- The features are then converted into a pandas DataFrame X, and the labels are converted into a Pandas Series y, where the class labels are mapped to 1 and 0.\n",
    "-  **X.head()** is used to display the first few rows of the DataFrame X."
   ]
  },
  {
   "cell_type": "code",
   "execution_count": null,
   "metadata": {
    "colab": {
     "base_uri": "https://localhost:8080/",
     "height": 255
    },
    "id": "-k-7dw0udYd0",
    "outputId": "d218ce96-4fe8-4646-e2a3-b86c1973f6c8"
   },
   "outputs": [],
   "source": [
    "# load dataset\n",
    "breast_cancer_X, breast_cancer_y = load_breast_cancer(return_X_y=True)\n",
    "X = pd.DataFrame(breast_cancer_X)\n",
    "y = pd.Series(breast_cancer_y).map({0:1, 1:0})\n",
    "\n",
    "X.head()"
   ]
  },
  {
   "cell_type": "markdown",
   "metadata": {
    "id": "gxPtRRISkSYc"
   },
   "source": [
    "**Observation**\n",
    "\n",
    "- The output represents a portion of a tabular dataset with 5 rows and 30 columns.\n",
    "- Each row corresponds to a sample or observation, and each column represents a different feature or attribute of the data.\n",
    "- The values in the cells represent the measurements or values associated with each feature for a specific sample."
   ]
  },
  {
   "cell_type": "markdown",
   "metadata": {
    "id": "qZsObONRki1-"
   },
   "source": [
    "### Step 3: Analyzing the Target Distribution\n",
    "- It calculates the frequency count of each unique value in the target variable **y** and divides it by the total length of **y**.\n",
    "- This expression provides the proportion or percentage of occurrences of each unique value in the target variable, giving an understanding of the distribution or imbalance between the different classes in the dataset."
   ]
  },
  {
   "cell_type": "code",
   "execution_count": null,
   "metadata": {
    "colab": {
     "base_uri": "https://localhost:8080/"
    },
    "id": "7EMzKZEJdYd1",
    "outputId": "22df7468-817b-4e12-c36b-92c010d67333"
   },
   "outputs": [],
   "source": [
    "y.value_counts () / len(y)\n",
    "\n"
   ]
  },
  {
   "cell_type": "markdown",
   "metadata": {
    "id": "LCTVCdNrlspK"
   },
   "source": [
    "**Observation**\n",
    "\n",
    "- The result is that approximately 62.74% of the target values are labeled as 0, while approximately 37.26% are labeled as 1."
   ]
  },
  {
   "cell_type": "markdown",
   "metadata": {
    "id": "AHDK8vEbl9jU"
   },
   "source": [
    "### Step 4: Splitting the Data into Train and Test\n",
    "- It splits the dataset into training and testing sets using a test size of 30% and prints the shapes of the training and testing data."
   ]
  },
  {
   "cell_type": "code",
   "execution_count": null,
   "metadata": {
    "colab": {
     "base_uri": "https://localhost:8080/"
    },
    "id": "QfeRXRDtdYd2",
    "outputId": "6b711965-1e30-4640-efd9-656ec9a9dcf9"
   },
   "outputs": [],
   "source": [
    "X_train, X_test, y_train, y_test = train_test_split(\n",
    "    X, y, test_size=0.3, random_state=0)\n",
    "\n",
    "X_train.shape, X_test.shape"
   ]
  },
  {
   "cell_type": "markdown",
   "metadata": {
    "id": "4mVDFg-omxOx"
   },
   "source": [
    "**Observation**\n",
    "- The observation is that the training set contains 398 samples with 30 features, while the testing set contains 171 samples with the same 30 features."
   ]
  },
  {
   "cell_type": "markdown",
   "metadata": {
    "id": "S3w1EHOEnLWd"
   },
   "source": [
    "### Step 5: Initializing the Hyperparameter Space\n",
    "- It defines the hyperparameter space for a neural network classifier.\n",
    "- It includes choices for the hidden layer sizes, activation function, solver algorithm, and initial learning rate.\n",
    "\n",
    "- The objective function takes a dictionary of parameters as input.\n",
    "- It creates a **params_dict** dictionary that maps the parameter names to their corresponding values.\n",
    "- An instance of the **MLPClassifier** is created using the parameters from the **params_dict**.\n",
    "- Cross-validation is performed using the created **MLPClassifier** on the training data (**X_train** and **y_train**) with 3-fold cross-validation and using the accuracy metric.\n",
    "- The average accuracy score from cross-validation is calculated using the mean() function.\n",
    "- The negative score is returned, as the optimization algorithm used in hyperparameter tuning aims to minimize the objective function."
   ]
  },
  {
   "cell_type": "code",
   "execution_count": null,
   "metadata": {
    "id": "ef-uEPxAdYd2"
   },
   "outputs": [],
   "source": [
    "param_grid = {\n",
    "    'hidden_layer_sizes': hp.choice('hidden_layer_sizes', [(10), (10, 20), (10, 20, 30)]),\n",
    "    'activation': hp.choice('activation', [\"tanh\", \"relu\"]),\n",
    "    'solver': hp.choice('solver', [\"adam\", \"sgd\"]),\n",
    "    'learning_rate_init': hp.loguniform('learning_rate_init', np.log(0.001), np.log(1)),\n",
    "}"
   ]
  },
  {
   "cell_type": "code",
   "execution_count": null,
   "metadata": {
    "id": "qzuONcj-dYd3"
   },
   "outputs": [],
   "source": [
    "def objective(params):\n",
    "\n",
    "    params_dict = {\n",
    "        'hidden_layer_sizes': params['hidden_layer_sizes'],\n",
    "        'activation': params['activation'],\n",
    "        'solver': params['solver'],\n",
    "        'learning_rate_init': params['learning_rate_init'],\n",
    "        'random_state': 1000,\n",
    "        'max_iter': 100,\n",
    "    }\n",
    "\n",
    "\n",
    "    mlp = MLPClassifier(**params_dict)\n",
    "\n",
    "\n",
    "    score = cross_val_score(mlp, X_train, y_train,\n",
    "                            scoring='accuracy', cv=3, n_jobs=4).mean()\n",
    "\n",
    "\n",
    "    return -score\n"
   ]
  },
  {
   "cell_type": "markdown",
   "metadata": {
    "id": "b4IqtCJ3KV7P"
   },
   "source": [
    "- It performs a hyperparameter search using the Tree of Parzen Estimators (TPE) algorithm with a maximum of 50 evaluations."
   ]
  },
  {
   "cell_type": "code",
   "execution_count": null,
   "metadata": {
    "colab": {
     "base_uri": "https://localhost:8080/"
    },
    "id": "afxgeOAadYd3",
    "outputId": "f254df85-d6d0-4498-d282-c34e43c77e89"
   },
   "outputs": [],
   "source": [
    "search = fmin(\n",
    "    fn = objective,\n",
    "    space = param_grid,\n",
    "    max_evals = 50,\n",
    "\n",
    "    algo = tpe.suggest)\n"
   ]
  },
  {
   "cell_type": "code",
   "execution_count": null,
   "metadata": {
    "colab": {
     "base_uri": "https://localhost:8080/"
    },
    "id": "KLBI4nEbdYd4",
    "outputId": "ce3b3852-423c-4281-c42a-813b0cb12833"
   },
   "outputs": [],
   "source": [
    "search"
   ]
  },
  {
   "cell_type": "markdown",
   "metadata": {
    "id": "98VeSPHzqMdK"
   },
   "source": [
    "**Observation**\n",
    "\n",
    "- It indicates the progress of the hyperparameter search using the TPE algorithm. It shows that 50 iterations (or trials) were performed, and it took approximately 13 seconds to complete. The best loss achieved during the search was -0.9246031746031745.\n",
    "\n",
    "- The dictionary shown afterwards contains the hyperparameter configuration that resulted in the best performance. It specifies the values chosen for the **activation**, **hidden_layer_sizes**, **learning_rate_init**, and **solver** hyperparameters."
   ]
  },
  {
   "cell_type": "code",
   "execution_count": null,
   "metadata": {
    "id": "wnh8Ca5CdYd4"
   },
   "outputs": [],
   "source": []
  }
 ],
 "metadata": {
  "colab": {
   "include_colab_link": true,
   "provenance": []
  },
  "kernelspec": {
   "display_name": "Python 3",
   "language": "python",
   "name": "python3"
  },
  "language_info": {
   "codemirror_mode": {
    "name": "ipython",
    "version": 3
   },
   "file_extension": ".py",
   "mimetype": "text/x-python",
   "name": "python",
   "nbconvert_exporter": "python",
   "pygments_lexer": "ipython3",
   "version": "3.7.6"
  }
 },
 "nbformat": 4,
 "nbformat_minor": 0
}
