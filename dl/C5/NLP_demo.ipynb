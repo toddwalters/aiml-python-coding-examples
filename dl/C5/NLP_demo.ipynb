{
 "cells": [
  {
   "cell_type": "markdown",
   "metadata": {
    "colab_type": "text",
    "id": "view-in-github"
   },
   "source": [
    "<a href=\"https://colab.research.google.com/github/toddwalters/pgaiml-python-coding-examples/blob/main/deep-learning/C5/NLP_demo.ipynb\" target=\"_parent\"><img src=\"https://colab.research.google.com/assets/colab-badge.svg\" alt=\"Open In Colab\"/></a>"
   ]
  },
  {
   "cell_type": "code",
   "execution_count": null,
   "metadata": {
    "colab": {
     "base_uri": "https://localhost:8080/"
    },
    "id": "CF8zTnlguMZ3",
    "outputId": "ede06c06-3773-43ed-93ba-c663e067bd8d"
   },
   "outputs": [],
   "source": [
    "import nltk\n",
    "nltk.download('stopwords')"
   ]
  },
  {
   "cell_type": "code",
   "execution_count": null,
   "metadata": {
    "colab": {
     "base_uri": "https://localhost:8080/"
    },
    "id": "jvcmtykJt9Y9",
    "outputId": "7dd0bd84-a0b1-4cd9-c202-d4b78efc4430"
   },
   "outputs": [],
   "source": [
    "nltk.download(\"all\")"
   ]
  },
  {
   "cell_type": "code",
   "execution_count": null,
   "metadata": {
    "id": "8Ju4n-1LuCbs"
   },
   "outputs": [],
   "source": [
    "string_list = [\"Large language models are based out of transformer architecture\", \"LLMs are very good\",\"LLMs are very bad\"]"
   ]
  },
  {
   "cell_type": "code",
   "execution_count": null,
   "metadata": {
    "colab": {
     "base_uri": "https://localhost:8080/"
    },
    "id": "m-VVsEOfubvu",
    "outputId": "e9cdb15d-be4f-4553-9011-fc74a2f47d14"
   },
   "outputs": [],
   "source": [
    "from nltk.tokenize import word_tokenize\n",
    "\n",
    "word_tokenize(string_list[0])"
   ]
  },
  {
   "cell_type": "code",
   "execution_count": null,
   "metadata": {
    "id": "5CESF1B7usji"
   },
   "outputs": [],
   "source": [
    "# Represent the text to numerical format\n",
    "# Count Vectorizer\n",
    "\n",
    "# First for the given corpus learn the unique words of the given dataset - fit\n",
    "# We make each unique word as column in Dataframe\n",
    "# Depending on occurace of each word in that sentence we will specify how many times words are used"
   ]
  },
  {
   "cell_type": "code",
   "execution_count": null,
   "metadata": {
    "id": "XVRtss1XvoRr"
   },
   "outputs": [],
   "source": [
    "string_list = [\"Large language models are based out of transformer architecture. It is large in size\", \"LLMs are very good\",\"LLMs are very bad\"]"
   ]
  },
  {
   "cell_type": "code",
   "execution_count": null,
   "metadata": {
    "id": "onhnV_GlvsLk"
   },
   "outputs": [],
   "source": [
    "#count vectorize\n",
    "from sklearn.feature_extraction.text import CountVectorizer\n",
    "\n",
    "cv = CountVectorizer()"
   ]
  },
  {
   "cell_type": "code",
   "execution_count": null,
   "metadata": {
    "colab": {
     "base_uri": "https://localhost:8080/",
     "height": 74
    },
    "id": "kdmzZtirv1G6",
    "outputId": "4063834c-dfe9-4db0-e611-fadf4af95af8"
   },
   "outputs": [],
   "source": [
    "cv.fit(string_list)"
   ]
  },
  {
   "cell_type": "code",
   "execution_count": null,
   "metadata": {
    "colab": {
     "base_uri": "https://localhost:8080/"
    },
    "id": "x7JLxccVv3Z1",
    "outputId": "a4ac1d45-9ccb-4ac6-c81a-979e806a2f65"
   },
   "outputs": [],
   "source": [
    "cv.vocabulary_"
   ]
  },
  {
   "cell_type": "code",
   "execution_count": null,
   "metadata": {
    "colab": {
     "base_uri": "https://localhost:8080/"
    },
    "id": "_-XfWkhgv8dp",
    "outputId": "cd94d16d-7faa-40d8-b393-2ee100ba976e"
   },
   "outputs": [],
   "source": [
    "cv.get_feature_names_out()"
   ]
  },
  {
   "cell_type": "code",
   "execution_count": null,
   "metadata": {
    "id": "cgxPcz9lwCZc"
   },
   "outputs": [],
   "source": [
    "out = cv.transform(string_list)"
   ]
  },
  {
   "cell_type": "code",
   "execution_count": null,
   "metadata": {
    "colab": {
     "base_uri": "https://localhost:8080/"
    },
    "id": "jZ_z8yZfwLQw",
    "outputId": "595f8a01-e031-477c-8760-7bc464d79953"
   },
   "outputs": [],
   "source": [
    "out.toarray()"
   ]
  },
  {
   "cell_type": "code",
   "execution_count": null,
   "metadata": {
    "colab": {
     "base_uri": "https://localhost:8080/",
     "height": 143
    },
    "id": "cF3vP4PMwOOe",
    "outputId": "9542f7cc-a00d-4d5e-8a95-c5bc219ec29b"
   },
   "outputs": [],
   "source": [
    "import pandas as pd\n",
    "\n",
    "df = pd.DataFrame(out.toarray(), columns = cv.get_feature_names_out())\n",
    "df"
   ]
  },
  {
   "cell_type": "code",
   "execution_count": null,
   "metadata": {
    "colab": {
     "base_uri": "https://localhost:8080/",
     "height": 35
    },
    "id": "m3L48ol1wbF7",
    "outputId": "b4b5bfb2-c3b7-439e-eca2-af275a585087"
   },
   "outputs": [],
   "source": [
    "string_list[0]"
   ]
  },
  {
   "cell_type": "code",
   "execution_count": null,
   "metadata": {
    "colab": {
     "base_uri": "https://localhost:8080/"
    },
    "id": "GwcutpPSwdum",
    "outputId": "877c8fa0-69e9-4328-8f8c-ab2226f17ad9"
   },
   "outputs": [],
   "source": [
    "df.shape"
   ]
  },
  {
   "cell_type": "code",
   "execution_count": null,
   "metadata": {
    "id": "pfMAAZxCwspW"
   },
   "outputs": [],
   "source": []
  }
 ],
 "metadata": {
  "colab": {
   "include_colab_link": true,
   "provenance": []
  },
  "kernelspec": {
   "display_name": "Python 3",
   "name": "python3"
  },
  "language_info": {
   "name": "python"
  }
 },
 "nbformat": 4,
 "nbformat_minor": 0
}
