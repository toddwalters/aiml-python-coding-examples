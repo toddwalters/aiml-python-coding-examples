{
 "cells": [
  {
   "cell_type": "code",
   "execution_count": null,
   "metadata": {
    "colab": {
     "base_uri": "https://localhost:8080/"
    },
    "id": "Pu0dcneO144Q",
    "outputId": "22f41319-7cd8-4ce7-8279-302e82ced22c"
   },
   "outputs": [],
   "source": [
    "!pip install transformers"
   ]
  },
  {
   "cell_type": "code",
   "execution_count": null,
   "metadata": {
    "colab": {
     "base_uri": "https://localhost:8080/"
    },
    "id": "vtOl8_oP2MjC",
    "outputId": "67fc92cc-18ec-40bd-b4e1-934393e82b8c"
   },
   "outputs": [],
   "source": [
    "!pip install datasets"
   ]
  },
  {
   "cell_type": "code",
   "execution_count": null,
   "metadata": {
    "id": "Bv9DYhHt2Pb0"
   },
   "outputs": [],
   "source": [
    "import datasets\n",
    "import transformers"
   ]
  },
  {
   "cell_type": "code",
   "execution_count": null,
   "metadata": {
    "id": "qIz2m0l-3Pkn"
   },
   "outputs": [],
   "source": [
    "text = \"\"\"Dear Amazon, last week I ordered an Optimus Prime action figure \\\n",
    "from your online store in Germany. Unfortunately, when I opened the package, \\\n",
    "I discovered to my horror that I had been sent an action figure of Megatron \\\n",
    "instead! As a lifelong enemy of the Decepticons, I hope you can understand my \\\n",
    "dilemma. To resolve the issue, I demand an exchange of Megatron for the \\\n",
    "Optimus Prime figure I ordered. Enclosed are copies of my records concerning \\\n",
    "this purchase. I expect to hear from you soon. Sincerely, Bumblebee.\"\"\""
   ]
  },
  {
   "cell_type": "code",
   "execution_count": null,
   "metadata": {
    "id": "4jjd70ke3ZJW"
   },
   "outputs": [],
   "source": [
    "# pipeline\n",
    "\n",
    "from transformers import pipeline\n",
    "\n",
    "classifier = pipeline(task=\"text-classification\",model=\"distilbert-base-uncased-finetuned-sst-2-english\")"
   ]
  },
  {
   "cell_type": "code",
   "execution_count": null,
   "metadata": {
    "colab": {
     "base_uri": "https://localhost:8080/"
    },
    "id": "3buz4ryU3x-v",
    "outputId": "b1a899b8-65df-4e35-a02f-29670d7bb0d7"
   },
   "outputs": [],
   "source": [
    "import pandas as pd\n",
    "outputs = classifier(text)\n",
    "outputs"
   ]
  },
  {
   "cell_type": "code",
   "execution_count": null,
   "metadata": {
    "colab": {
     "base_uri": "https://localhost:8080/",
     "height": 332,
     "referenced_widgets": [
      "0a712e88e91141c2b268ba21d15980dc",
      "659604e899684439bc67ee9d25fa9a75",
      "876e4775931045adbd37b783a1401333",
      "d471f63dbec94a90b394c8c012fbc154",
      "5be4f16e01fc46c9a6f1defdd2f53519",
      "2c1d2ce5253340d3b0602c1f8745d72a",
      "22af3f9acf9d4b3baf22113f69926631",
      "90226af9b3ec451794f321feccde24bb",
      "ec0d8aa6726745b8890d72216d3858a4",
      "0afd7c61c1cc4211b9e21a853801720d",
      "070c6747c738485db2b8cea3b2a23bd7",
      "96fd8f0004704eb5a156c75d1f753cfc",
      "fd59ceda2d0449b29b68ef26ad7c735b",
      "032fee7826b54549921745a728a3dfce",
      "b7a34ca7cb204e1dbd6a5df0026477af",
      "bfa716e2229241e2bc49447dde891448",
      "1bee2958a17845f6b93f8b42c593bd5a",
      "9249b7541bc14f07869eb23cf7f228a9",
      "e03668577dbf4bc3a806acf2dc812fc7",
      "9c3607fc8e764eb38cb1fbfb1eec69c5",
      "bcc3b078fb584816963beb20446915f3",
      "c9bf470ebb1b4408abe3fca2bd322efb",
      "3b233784a79d4614889c6433b6eb9ecd",
      "c5b0f6f5ae674af6bd7a588c3fa0f1c6",
      "e225bf540b004a64a4a052f6dc44f0e3",
      "c412782799d348a3bd66e5dcef9b7fbc",
      "5ebb8196ca5a469582b02f2e6e4a1651",
      "e147d8fde0ae4d23b770ce7b4460ea07",
      "ba9f815452cf487b9dec7e59c93dcaa0",
      "e0c84ab697774b9fa148436b4d8266b9",
      "1343b893a9b146198426283d5e22b583",
      "a7b8f69e3abe4f49b6110916fd9cffd9",
      "0c602249c86c4bcc8cb0f88eb874dd37",
      "ac308f6a3afc4b289dcf2b8c194856bc",
      "b32b0d89f7ec4c3a9c39ae3ee5a53fb6",
      "df70b465d9f84231acc49e1fe8044feb",
      "538536645b1d450cb93b13905fd63e81",
      "b0674dbac2b14c8db8eb69c676c87ba7",
      "278a8e8bcf504f36a960a09aeddb920e",
      "c5789fe06ed94314bd8c1b4361ca21a6",
      "0b68f9b47b5f4d01a29f6a400d168ae5",
      "834067f4195a409e8e49e46c68ed63db",
      "1ca012419a8943f79ebec7cccc95ed01",
      "418189dd0df340bf8f9ae5fb77d151cc",
      "57b7b785b2d446c78a0d8582e637317b",
      "10e4a2ceb3e44ea8b4206c80a36127e1",
      "06ee7394e4e34d99877b654fe30d5cf8",
      "af83230ae20e4f2ab71119f30e47b600",
      "5a59854a0bd048d7becda09ca37e9c61",
      "776eab40616e44abb0bd64a16edc9af9",
      "79b04c438b7d4a5a84b24b3109cbe937",
      "9f036ba54a354117ba2eb967e2a0837e",
      "f01a5dbb762b4cfc93d00327038cc415",
      "09ec69f68ba64fcbada0d5681a6369c2",
      "59ca487c49074930bc13744d63078389"
     ]
    },
    "id": "VgG2wiKN4CGT",
    "outputId": "70a1083f-0ea4-4589-bace-292cc2a29b2f"
   },
   "outputs": [],
   "source": [
    "reader = pipeline(\"question-answering\")\n",
    "question = \"What does the customer want?\"\n",
    "outputs = reader(question=question, context=text)\n",
    "pd.DataFrame([outputs])"
   ]
  },
  {
   "cell_type": "code",
   "execution_count": null,
   "metadata": {
    "colab": {
     "base_uri": "https://localhost:8080/",
     "height": 287,
     "referenced_widgets": [
      "6e223335875a4f9c9a11e5b8adffd2af",
      "90f09512eefc47a498edfaf530889842",
      "7f95b46d586b4a23a1aae493f4490c70",
      "3fe50520bccf49a5a22495828da3948d",
      "b46a1365c0b44005824c500314779af2",
      "74bd9afa4dce45aca38e585a3b972711",
      "6e9595697b2649afb0d28a791f13164a",
      "838f514fa0ea492e92775a7669ef7a73",
      "ca355aff13a74a9da9b425ea1b40ecd7",
      "dd6ee19a416c4a8cbde2ae5ba3de3a7c",
      "0e07e4fe070e430c81f2cb5e6a1abdc4",
      "f7527aa34e0342439a5a4f4afa1afb16",
      "3296b9248b0b49708bc26a7e2ff2169b",
      "282d6d9861154a9695eeab299b4f58b6",
      "8391a869577641a196c90d41f2066d75",
      "89fb507c3317474caeb245f081a352ce",
      "4b0f1005d0db4754935f852b7dbf04b6",
      "e9383c09675249878c8252312ed11dcf",
      "8ca399ecda134f08b5f6d7c42717f55b",
      "387db54da5f54fc880460311cfa7aa91",
      "666fda0ba4ee48f0917d25c3eafdefd9",
      "6e0f4532caad4203b525069ca1c6ec1e",
      "a8e74e5f85a94e2ca92041e22a613d13",
      "e781f471b42f41c98a2d487070dd51e8",
      "33f08ddb9fff47f49279c2203af94d80",
      "72145d82647c4a34a2e4037977b9a6b3",
      "2b7e10fca2d749cb9f8ff7f8239effe8",
      "02d95b6f850c46d28db0a693e05e3ad7",
      "0377aa0deb064611926aa691f7a2d3d5",
      "8483cfdcb38f43e98428d5dfa5d1df59",
      "cdb723bef9134084ab763f132762c2d8",
      "ab7ff2aaa0cb48f0b15c1446da80afad",
      "99a744d7809b4feabf7b32249f3eec1e",
      "33c053f0082b4fbabb3dc29080f639f6",
      "3fd19f1557d44289b00428795ba58d29",
      "4ca847f93f054e969efaf29fbe50d406",
      "c2a9ca17f2704c3eb209b7dcde728301",
      "8a4374ed726644c194b0624f078f0717",
      "69ddcbcd998c47f7b20a887b6c3f9957",
      "556f6e9c17c0497fbc139bca3118536f",
      "a7d128d1658340c4ba0931634cde2b44",
      "c6140bd4087043f8bedb8a7fae61be49",
      "acb61308e0284fb69eee0934b99e5f50",
      "4e7548fbb21844cfbac1dc69b0154053",
      "3616a6245e2e47509138395582829bda",
      "0769650b72014ad4a3ef21fe745bdf93",
      "613b0c6e56aa4b9eab6510aa21b770be",
      "efd1cd83d7fb47bdb67f54b11760509f",
      "8b9dd36edc444243bbdb4e09c12d1f7f",
      "09832bd4fe7341a2a07c74d5bd8933f9",
      "22e0311244004804a26aa262176e7866",
      "027de7cad59147afb88f1f4029c3dd3b",
      "f3c0e9d5f5ff4fa89bc9c8dc35c74040",
      "87da81c662d34182896a6b23f697ba38",
      "8b012c4744584d66bd77466250b42598"
     ]
    },
    "id": "WyOmsjmR4c0T",
    "outputId": "df52ec3f-c5ab-45c7-9f23-44701bedbcda"
   },
   "outputs": [],
   "source": [
    "summarizer = pipeline(\"summarization\")\n",
    "outputs = summarizer(text, max_length=60, clean_up_tokenization_spaces=True)\n",
    "print(outputs[0]['summary_text'])"
   ]
  },
  {
   "cell_type": "code",
   "execution_count": null,
   "metadata": {
    "id": "rOUFzkaj4rVe"
   },
   "outputs": [],
   "source": []
  }
 ],
 "metadata": {
  "colab": {
   "provenance": []
  },
  "kernelspec": {
   "display_name": "Python 3",
   "name": "python3"
  },
  "language_info": {
   "name": "python"
  }
 },
 "nbformat": 4,
 "nbformat_minor": 0
}
