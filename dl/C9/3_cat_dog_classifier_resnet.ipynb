{
 "cells": [
  {
   "cell_type": "markdown",
   "metadata": {
    "id": "UY-v_FBKXIgs"
   },
   "source": [
    "# Implementation of Convolutional Neural Networks"
   ]
  },
  {
   "cell_type": "code",
   "execution_count": null,
   "metadata": {
    "colab": {
     "base_uri": "https://localhost:8080/"
    },
    "id": "SvUGM1RNSm_y",
    "outputId": "7fa51a75-53bd-4d16-ce63-cc7d2cd7144e"
   },
   "outputs": [],
   "source": [
    "!wget https://www.dropbox.com/s/31k0qimdnxo53rh/dogs-vs-cats.zip\n",
    "!unzip \"dogs-vs-cats.zip\"\n",
    "!rm \"dogs-vs-cats.zip\"\n",
    "!unzip 'train.zip'\n",
    "!unzip 'test1.zip'\n",
    "!rm 'train.zip'\n",
    "!rm 'test1.zip'"
   ]
  },
  {
   "cell_type": "code",
   "execution_count": null,
   "metadata": {
    "id": "G6StKhE3TEM4"
   },
   "outputs": [],
   "source": [
    "import numpy as np\n",
    "import pandas as pd\n",
    "import matplotlib.pyplot as plt\n",
    "import seaborn as sns\n",
    "\n",
    "from tensorflow.keras.preprocessing.image import ImageDataGenerator\n",
    "from tensorflow.keras.utils import to_categorical,load_img\n",
    "from sklearn.model_selection import train_test_split\n",
    "import os"
   ]
  },
  {
   "cell_type": "code",
   "execution_count": null,
   "metadata": {
    "id": "UNHTNmXMTP83"
   },
   "outputs": [],
   "source": [
    "Image_width = 128\n",
    "Image_height = 128\n",
    "Image_size = (Image_width , Image_height)\n",
    "Image_channel = 3\n",
    "\n",
    "Image_rgb_size = (Image_width ,Image_height , 3 )"
   ]
  },
  {
   "cell_type": "code",
   "execution_count": null,
   "metadata": {
    "colab": {
     "base_uri": "https://localhost:8080/",
     "height": 206
    },
    "id": "hE8gE6MJTZp0",
    "outputId": "483b75fe-43b9-4ca7-a877-f2bfa20b67c0"
   },
   "outputs": [],
   "source": [
    "filenames = os.listdir('/content/train')\n",
    "categories = []\n",
    "for filename in filenames:\n",
    "    category = filename.split('.')[0]\n",
    "    categories.append(category)\n",
    "data = pd.DataFrame({'filename' : filenames , 'category' : categories})\n",
    "data.head()"
   ]
  },
  {
   "cell_type": "code",
   "execution_count": null,
   "metadata": {
    "colab": {
     "base_uri": "https://localhost:8080/"
    },
    "id": "ylQnfsEhTorA",
    "outputId": "64349bb9-788a-47b2-dbfb-27afe0ce1301"
   },
   "outputs": [],
   "source": [
    "data['category'].value_counts()"
   ]
  },
  {
   "cell_type": "code",
   "execution_count": null,
   "metadata": {
    "colab": {
     "base_uri": "https://localhost:8080/",
     "height": 435
    },
    "id": "LWWPNMemTuos",
    "outputId": "976c3f34-8109-47a7-bc24-a6985e7bebf3"
   },
   "outputs": [],
   "source": [
    "import random\n",
    "sample = random.choice(filenames)\n",
    "image = load_img(f'train/{sample}')\n",
    "plt.imshow(image)\n",
    "plt.show()"
   ]
  },
  {
   "cell_type": "code",
   "execution_count": null,
   "metadata": {
    "id": "jA2hSNG_UBVh"
   },
   "outputs": [],
   "source": [
    "train_df , val_df = train_test_split(data , test_size = 0.2 , random_state = 42)\n",
    "train_df = train_df.reset_index(drop = True)\n",
    "val_df = val_df.reset_index(drop = True)"
   ]
  },
  {
   "cell_type": "code",
   "execution_count": null,
   "metadata": {
    "colab": {
     "base_uri": "https://localhost:8080/"
    },
    "id": "HsGXhmY8UI7N",
    "outputId": "3e791840-588e-452f-eb70-72a1966fc32d"
   },
   "outputs": [],
   "source": [
    "train_df.shape , val_df.shape"
   ]
  },
  {
   "cell_type": "code",
   "execution_count": null,
   "metadata": {
    "colab": {
     "base_uri": "https://localhost:8080/",
     "height": 206
    },
    "id": "zO-6lqCIUKYs",
    "outputId": "0b47464c-c259-4c31-9a43-a1241c3715c5"
   },
   "outputs": [],
   "source": [
    "train_df.head()"
   ]
  },
  {
   "cell_type": "code",
   "execution_count": null,
   "metadata": {
    "id": "UvWibhtPUNbz"
   },
   "outputs": [],
   "source": [
    "batch_size  = 32\n",
    "epochs = 7\n",
    "total_train = train_df.shape[0]\n",
    "total_validate = val_df.shape[0]"
   ]
  },
  {
   "cell_type": "code",
   "execution_count": null,
   "metadata": {
    "id": "-PFuXi8NUYfm"
   },
   "outputs": [],
   "source": [
    "train_dategen = ImageDataGenerator(rotation_range = 15 ,\n",
    "                                  rescale = 1.0/255 ,\n",
    "                                  shear_range = 0.1,\n",
    "                                  zoom_range = 0.2 ,\n",
    "                                  horizontal_flip = True ,\n",
    "                                  width_shift_range = 0.1 ,\n",
    "                                  height_shift_range = 0.1\n",
    "                                  )"
   ]
  },
  {
   "cell_type": "code",
   "execution_count": null,
   "metadata": {
    "colab": {
     "base_uri": "https://localhost:8080/"
    },
    "id": "umgTaom8Um4Q",
    "outputId": "b037ed7b-c6fa-43a5-d5dc-e5d0a566bcee"
   },
   "outputs": [],
   "source": [
    "train_generator = train_dategen.flow_from_dataframe(\n",
    "    train_df,\n",
    "    \"/content/train\",\n",
    "    x_col='filename',\n",
    "    y_col='category',\n",
    "    target_size=Image_size,\n",
    "    class_mode='categorical',\n",
    "    batch_size=batch_size\n",
    ")"
   ]
  },
  {
   "cell_type": "code",
   "execution_count": null,
   "metadata": {
    "colab": {
     "base_uri": "https://localhost:8080/"
    },
    "id": "2Z9bN3NaUyGU",
    "outputId": "db88a790-70f1-4651-c16f-a73107d5adfb"
   },
   "outputs": [],
   "source": [
    "validation_datagen = ImageDataGenerator(rescale = 1./255)\n",
    "val_generator = validation_datagen.flow_from_dataframe(\n",
    "    val_df,\n",
    "    \"/content/train\",\n",
    "    x_col='filename',\n",
    "    y_col='category',\n",
    "    target_size=Image_size,\n",
    "    class_mode='categorical',\n",
    "    batch_size=batch_size\n",
    ")"
   ]
  },
  {
   "cell_type": "code",
   "execution_count": null,
   "metadata": {
    "colab": {
     "base_uri": "https://localhost:8080/"
    },
    "id": "tpD17VzdU1wy",
    "outputId": "252b9371-e6c9-4c9b-e1b4-c2a913b905bc"
   },
   "outputs": [],
   "source": [
    "from tensorflow.keras.layers import GlobalAveragePooling2D\n",
    "from tensorflow.keras.models import Model\n",
    "from  tensorflow.keras.models import Sequential\n",
    "from  tensorflow.keras.layers import Conv2D , MaxPooling2D , Dropout , Flatten , Dense , Activation , BatchNormalization\n",
    "\n",
    "model = Sequential()\n",
    "model.add(Conv2D(filters=10, kernel_size=(3,3), strides=(1, 1),padding='valid', input_shape=(128,128,3)))\n",
    "model.add(Conv2D(filters=10, kernel_size=(3,3), strides=(1, 1),padding='valid'))\n",
    "model.add(Conv2D(filters=10, kernel_size=(3,3), strides=(1, 1),padding='valid'))\n",
    "model.add(MaxPooling2D())\n",
    "\n",
    "model.add(Conv2D(filters=10, kernel_size=(3,3), strides=(1, 1),padding='valid'))\n",
    "model.add(Conv2D(filters=10, kernel_size=(3,3), strides=(1, 1),padding='valid'))\n",
    "model.add(Conv2D(filters=10, kernel_size=(3,3), strides=(1, 1),padding='valid'))\n",
    "model.add(MaxPooling2D())\n",
    "\n",
    "model.add(Flatten())\n",
    "model.add(Dense(20,activation='relu'))\n",
    "model.add(Dense(2,activation='softmax'))\n",
    "model.summary()"
   ]
  },
  {
   "cell_type": "code",
   "execution_count": null,
   "metadata": {
    "id": "x0vgQRNkVq3Q"
   },
   "outputs": [],
   "source": [
    "from tensorflow.keras.optimizers import Adam\n",
    "# sgd = SGD(lr=lrate, momentum=0.9, decay=decay, nesterov=False)\n",
    "adam = Adam(learning_rate=0.0001)\n",
    "model.compile(optimizer= adam, loss='categorical_crossentropy', metrics=['accuracy'])"
   ]
  },
  {
   "cell_type": "code",
   "execution_count": null,
   "metadata": {
    "colab": {
     "base_uri": "https://localhost:8080/"
    },
    "id": "Vuhwd3-UV2E4",
    "outputId": "4ded0ca3-ed9f-4c51-c6c1-16c3a2018ad3"
   },
   "outputs": [],
   "source": [
    "total_train = train_df.shape[0]\n",
    "total_validate = val_df.shape[0]\n",
    "\n",
    "history = model.fit(train_generator,epochs=epochs,\n",
    "                    validation_data = val_generator,\n",
    "                    validation_steps = total_validate//batch_size,\n",
    "                    steps_per_epoch = total_train//batch_size)"
   ]
  },
  {
   "cell_type": "markdown",
   "metadata": {
    "id": "vCZ7uNfGXFOb"
   },
   "source": [
    "# Transfer Learning"
   ]
  },
  {
   "cell_type": "code",
   "execution_count": null,
   "metadata": {
    "id": "nN6lKMo7WmXy"
   },
   "outputs": [],
   "source": [
    "import tensorflow as tf\n",
    "base = tf.keras.applications.resnet50.ResNet50(weights = 'imagenet' , include_top = False ,\n",
    "                                                       input_shape = Image_rgb_size)\n",
    "\n",
    "x = base.output\n",
    "x = GlobalAveragePooling2D()(x)\n",
    "x = Dropout(0.7)(x)\n",
    "predictions = Dense(2, activation= 'softmax')(x)\n",
    "model = Model(inputs = base.input, outputs = predictions)\n",
    "\n",
    "\n",
    "from tensorflow.keras.optimizers import Adam\n",
    "# sgd = SGD(lr=lrate, momentum=0.9, decay=decay, nesterov=False)\n",
    "adam = Adam(learning_rate=0.0001)\n",
    "model.compile(optimizer= adam, loss='categorical_crossentropy', metrics=['accuracy'])"
   ]
  },
  {
   "cell_type": "code",
   "execution_count": null,
   "metadata": {
    "id": "gUg1JkMhWmU0"
   },
   "outputs": [],
   "source": [
    "from tensorflow.keras.callbacks import EarlyStopping, ReduceLROnPlateau,ModelCheckpoint\n",
    "earlystop = EarlyStopping(patience = 10)\n",
    "learning_rate_reduction = ReduceLROnPlateau(monitor='val_acc',\n",
    "                                            patience=2,\n",
    "                                            verbose=1,\n",
    "                                            factor=0.5,\n",
    "                                            min_lr=0.00001)\n",
    "mc = ModelCheckpoint(\n",
    "        \"resnet_v1_{epoch:02d}_{val_accuracy:.3f}.h5\",\n",
    "        monitor=\"val_accuracy\",\n",
    "        save_best_only=True,\n",
    "        mode='max'\n",
    "    )\n",
    "callbacks = [earlystop , learning_rate_reduction,mc]"
   ]
  },
  {
   "cell_type": "code",
   "execution_count": null,
   "metadata": {
    "id": "zRnrH0MxWmRV"
   },
   "outputs": [],
   "source": [
    "history = model.fit(\n",
    "    train_generator ,\n",
    "    epochs = epochs ,\n",
    "    validation_data=val_generator,\n",
    "    validation_steps=total_validate//batch_size,\n",
    "    steps_per_epoch=total_train//batch_size,\n",
    "    callbacks=callbacks\n",
    ")"
   ]
  },
  {
   "cell_type": "code",
   "execution_count": null,
   "metadata": {
    "id": "KCR2q7_3WK8I"
   },
   "outputs": [],
   "source": [
    "test_filenames = os.listdir('/content/test1')\n",
    "test = pd.DataFrame({'filename' : test_filenames})\n",
    "nb_samples = test.shape[0]"
   ]
  },
  {
   "cell_type": "code",
   "execution_count": null,
   "metadata": {
    "id": "Tgx9FbOZW2Oj"
   },
   "outputs": [],
   "source": [
    "test.head()"
   ]
  },
  {
   "cell_type": "code",
   "execution_count": null,
   "metadata": {
    "id": "j1dul2cDW3Mo"
   },
   "outputs": [],
   "source": [
    "test_gen = ImageDataGenerator(rescale=1./255)\n",
    "test_generator = test_gen.flow_from_dataframe(\n",
    "    test ,\n",
    "    '/content/test1' ,\n",
    "    x_col='filename',\n",
    "    y_col=None,\n",
    "    class_mode=None,\n",
    "    target_size=Image_size,\n",
    "    batch_size=batch_size,\n",
    "    shuffle=False\n",
    "    )"
   ]
  },
  {
   "cell_type": "code",
   "execution_count": null,
   "metadata": {
    "id": "K4hX1g0DW4XC"
   },
   "outputs": [],
   "source": [
    "img_id = '1366.jpg'\n",
    "image = load_img(f'/content/test1/{img_id}')\n",
    "plt.imshow(image)"
   ]
  },
  {
   "cell_type": "code",
   "execution_count": null,
   "metadata": {
    "id": "GvEISlSrW9P1"
   },
   "outputs": [],
   "source": [
    "from tensorflow.keras.applications.resnet import preprocess_input"
   ]
  },
  {
   "cell_type": "code",
   "execution_count": null,
   "metadata": {
    "id": "HEzoiJz8W-5g"
   },
   "outputs": [],
   "source": [
    "labels = {0:'Cats',1:'Dogs'}"
   ]
  },
  {
   "cell_type": "code",
   "execution_count": null,
   "metadata": {
    "id": "RqCG3SBOW_o_"
   },
   "outputs": [],
   "source": [
    "img_id = '1366.jpg'\n",
    "image = load_img(f'/content/test1/{img_id}')\n",
    "plt.imshow(image)\n",
    "\n",
    "path = f'/content/test1/{img_id}'\n",
    "img = load_img(path, target_size=Image_size)\n",
    "import numpy as np\n",
    "x = np.array(img)\n",
    "X = np.array([x])\n",
    "X = preprocess_input(X)\n",
    "pred = model.predict(X)\n",
    "print(f\"Predicton from model is {labels[pred[0].argmax()]}\")"
   ]
  },
  {
   "cell_type": "code",
   "execution_count": null,
   "metadata": {
    "id": "_oUY-0CmXA-f"
   },
   "outputs": [],
   "source": [
    "predict = model.predict(test_generator , steps = np.ceil(nb_samples/batch_size))\n",
    "test['category'] = np.argmax(predict  , axis= -1)\n",
    "test.head()"
   ]
  },
  {
   "cell_type": "code",
   "execution_count": null,
   "metadata": {
    "id": "qXatwhQjXEMK"
   },
   "outputs": [],
   "source": []
  }
 ],
 "metadata": {
  "accelerator": "GPU",
  "colab": {
   "provenance": []
  },
  "gpuClass": "standard",
  "kernelspec": {
   "display_name": "Python 3",
   "name": "python3"
  },
  "language_info": {
   "name": "python"
  }
 },
 "nbformat": 4,
 "nbformat_minor": 0
}
