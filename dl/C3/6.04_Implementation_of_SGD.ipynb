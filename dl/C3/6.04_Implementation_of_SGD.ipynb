{
 "cells": [
  {
   "cell_type": "markdown",
   "metadata": {
    "id": "Af46ONne8Kok"
   },
   "source": [
    "# __Stochastic Gradient Descent (SGD)__\n",
    "- Stochastic Gradient Descent (SGD) is an optimization algorithm, commonly used in machine learning to train models. It is easier to fit into memory due to a single training sample being processed by the network.\n",
    "- It is computationally fast as only one sample is processed at a time. For larger datasets, it can converge faster as it causes updates to the parameters more frequently."
   ]
  },
  {
   "cell_type": "markdown",
   "metadata": {
    "id": "P2WN2sjS6tOz"
   },
   "source": [
    "## Steps to Be Followed:\n",
    "1. Importing the required library\n",
    "2. Loading the dataset\n",
    "3. Preparing the data\n",
    "4. Filtering the DataFrames\n",
    "5. Initializing the scale variable\n",
    "6. Implementing the SGD algorithm\n",
    "7. Plotting the graph"
   ]
  },
  {
   "cell_type": "markdown",
   "metadata": {
    "id": "kGJaVWRa9ztn"
   },
   "source": [
    "  ### Step 1: Importing the Required Libraries\n",
    "\n",
    "  - It imports the necessary libraries and modules for data analysis and evaluation tasks.\n",
    "\n",
    "  - It specifically imports NumPy (for numerical operations), Pandas (for data manipulation), Matplotlib (for data visualization), and scikit-learn (for machine learning tasks) modules and functions.\n",
    "  - The **fetch_california_housing** function is used to load the California housing dataset, and **mean_squared_error** is a metric function used to evaluate the performance of a regression model."
   ]
  },
  {
   "cell_type": "code",
   "execution_count": null,
   "metadata": {
    "id": "IqYyhHl_8Koo"
   },
   "outputs": [],
   "source": [
    "import numpy as np\n",
    "import pandas as pd\n",
    "import matplotlib.pyplot as plt\n",
    "from sklearn.datasets import fetch_california_housing\n",
    "from sklearn.metrics import mean_squared_error"
   ]
  },
  {
   "cell_type": "markdown",
   "metadata": {
    "id": "cLS7wopi-DOG"
   },
   "source": [
    "### Step 2: Loading the Dataset\n",
    "- The **housing_data = fetch_california_housing()** loads the California housing dataset into the **housing_data** variable. This dataset contains information about housing prices and various features related to housing in different regions of California."
   ]
  },
  {
   "cell_type": "code",
   "execution_count": null,
   "metadata": {
    "id": "7fatQBEK8Koq"
   },
   "outputs": [],
   "source": [
    "housing_data = fetch_california_housing()\n"
   ]
  },
  {
   "cell_type": "markdown",
   "metadata": {
    "id": "0vALXx_--4ma"
   },
   "source": [
    "### Step 3: Preparing the Data\n",
    "\n",
    "- Create a DataFrame **Features** to store the feature data from the Boston Housing dataset.\n",
    "- Creates another DataFrame **Target** to store the target variable values\n",
    "- Use the **join()** method to combine the feature and target DataFrames\n",
    "- Use the **head()** function is used to display the first 5 rows of the DataFrame df"
   ]
  },
  {
   "cell_type": "code",
   "execution_count": null,
   "metadata": {
    "id": "_mu2tkIr8Koq"
   },
   "outputs": [],
   "source": [
    "\n",
    "Features = pd.DataFrame(housing_data.data, columns = housing_data.feature_names)\n",
    "Target = pd.DataFrame(housing_data.target, columns = [\"Target\"])"
   ]
  },
  {
   "cell_type": "code",
   "execution_count": null,
   "metadata": {
    "id": "Jwg_e0tI8Koq"
   },
   "outputs": [],
   "source": [
    "df = Features.join(Target)"
   ]
  },
  {
   "cell_type": "code",
   "execution_count": null,
   "metadata": {
    "colab": {
     "base_uri": "https://localhost:8080/",
     "height": 206
    },
    "id": "IiAdu8U_8Kor",
    "outputId": "ebc2b903-20c6-4984-984d-a0c9321909a4"
   },
   "outputs": [],
   "source": [
    "df.head(5)"
   ]
  },
  {
   "cell_type": "markdown",
   "metadata": {
    "id": "-k9s0EzKAY4c"
   },
   "source": [
    "**Observation**\n",
    "\n",
    "- The output represents a DataFrame with several columns:\n",
    "\n",
    "  - **MedInc**: Median income in the block.\n",
    "  - **HouseAge**: Median house age in the block.\n",
    "  - **AveRooms**: Average number of rooms per dwelling.\n",
    "  - **AveBedrms**: Average number of bedrooms per dwelling.\n",
    "  - **Population**: Block population.\n",
    "  - **AveOccup**: Average number of occupants per dwelling.\n",
    "  - **Latitude**: Latitude of the block's location.\n",
    "  - **Longitude**: Longitude of the block's location.\n",
    "  - **Target**: Target variable, representing the median house value for the block.\n",
    "- Each row in the DataFrame corresponds to a specific block or housing unit, and the columns represent different features and the target variable associated with each block."
   ]
  },
  {
   "cell_type": "markdown",
   "metadata": {
    "id": "lsLufVWIAqp-"
   },
   "source": [
    "### Step 4: Filtering the DataFrames\n",
    "\n",
    "- It filters the DataFrame df based on two conditions:\n",
    "\n",
    "  - **df[df.Target < 3.5]**: This line filters the DataFrame to include only rows where the value in the \"Target\" column is less than 3.5. It creates a new DataFrame with only those rows that meet this condition.\n",
    "\n",
    "  - **df[df.MedInc < 8]**: This line further filters the previously filtered DataFrame to include only rows where the value in the \"MedInc\" column is less than 8. It creates another new DataFrame with rows that meet both conditions (Target < 3.5 and MedInc < 8)."
   ]
  },
  {
   "cell_type": "code",
   "execution_count": null,
   "metadata": {
    "id": "YL8M9DE18Kor"
   },
   "outputs": [],
   "source": [
    "df = df[df.Target < 3.5]\n",
    "df = df[df.MedInc < 8]"
   ]
  },
  {
   "cell_type": "markdown",
   "metadata": {
    "id": "K4_D_O7iAU0C"
   },
   "source": [
    "\n",
    "\n",
    "- It computes the descriptive statistics of the **MedInc** and **Target** columns in the DataFrame df and returns the statistics excluding the count."
   ]
  },
  {
   "cell_type": "code",
   "execution_count": null,
   "metadata": {
    "colab": {
     "base_uri": "https://localhost:8080/",
     "height": 269
    },
    "id": "nMAbK2mN8Kor",
    "outputId": "31167e50-881e-4a60-852a-999b61fd84b2"
   },
   "outputs": [],
   "source": [
    "df[['MedInc', 'Target']].describe()[1:]"
   ]
  },
  {
   "cell_type": "markdown",
   "metadata": {
    "id": "uxi0IrO7EC8E"
   },
   "source": [
    "**Observation**\n",
    "- The given step computes and displays the descriptive statistics, such as mean, standard deviation, minimum, 25th percentile, 50th percentile, 75th percentile, and maximum, for the 'MedInc' and 'Target' columns of the DataFrame df."
   ]
  },
  {
   "cell_type": "markdown",
   "metadata": {
    "id": "tPhltMJXEzZT"
   },
   "source": [
    "### Step 5: Initializing the Scale Variable\n",
    "\n",
    "- The function **scale(x)** is defined to perform feature scaling on a given input **x**, using min-max normalization.\n",
    "- The **min** and **max** variables are calculated as the minimum and maximum values of **x**, respectively.\n",
    "- The function returns a Pandas Series object with scaled values, obtained by subtracting the minimum value from each element of **x** and dividing it by the range (difference between the maximum and minimum values) of **x**."
   ]
  },
  {
   "cell_type": "code",
   "execution_count": null,
   "metadata": {
    "id": "1iUOnvHN8Kos"
   },
   "outputs": [],
   "source": [
    "def scale(x):\n",
    "    min = x.min()\n",
    "    max = x.max()\n",
    "    return pd.Series([(i - min)/(max - min) for i in x])\n",
    "\n",
    "X = scale(df.MedInc)\n",
    "y = scale(df.Target)"
   ]
  },
  {
   "cell_type": "markdown",
   "metadata": {
    "id": "b69wzdcjFHnu"
   },
   "source": [
    "### Step 6: Implementing the SGD Algorithm\n",
    "- The given step implements the SGD algorithm for a single feature, **MedInc**, and its corresponding target variable, **Target**.\n",
    "- The algorithm starts with initial parameter values of m = 0.5 and b = 0.5.\n",
    "- It iteratively updates the parameters using random samples of **batch_size** from the dataset, calculates the mean squared error, and stores the learning process in terms of the updated parameters and MSE values."
   ]
  },
  {
   "cell_type": "code",
   "execution_count": null,
   "metadata": {
    "id": "eMqxyv1x8Kos"
   },
   "outputs": [],
   "source": [
    "X = df.MedInc\n",
    "y = df.Target\n",
    "\n",
    "\n",
    "def SGD(X, y, lr=0.05, epoch=10, batch_size=1):\n",
    "\n",
    "    '''\n",
    "    Stochastic Gradient Descent for a single feature\n",
    "    '''\n",
    "\n",
    "    m, b = 0.5, 0.5\n",
    "    log, mse = [], []\n",
    "\n",
    "    for _ in range(epoch):\n",
    "\n",
    "        indexes = np.random.randint(0, len(X), batch_size)\n",
    "\n",
    "        Xs = np.take(X.values, indexes)\n",
    "        ys = np.take(y.values, indexes)\n",
    "        N = len(Xs)\n",
    "\n",
    "        f = ys - (m*Xs + b)\n",
    "\n",
    "\n",
    "        m -= lr * (-2 * Xs.dot(f).sum() / N)\n",
    "        b -= lr * (-2 * f.sum() / N)\n",
    "\n",
    "        log.append((m, b))\n",
    "        mse.append(mean_squared_error(y, m*X+b))\n",
    "\n",
    "    return m, b, log, mse\n",
    "\n",
    "\n"
   ]
  },
  {
   "cell_type": "markdown",
   "metadata": {
    "id": "-2ix4QY6GLnH"
   },
   "source": [
    "  - It performs SGD optimization to train a model on the input features **X** and target variable **y**, and returns the trained model parameters **m** and **b**, the training loss history **log**, and the mean squared error (**mse**)."
   ]
  },
  {
   "cell_type": "code",
   "execution_count": null,
   "metadata": {
    "id": "tSxhjJfh8Kos"
   },
   "outputs": [],
   "source": [
    "m, b, log, mse = SGD(X,y, lr = 0.01, epoch = 10, batch_size = 2)\n"
   ]
  },
  {
   "cell_type": "markdown",
   "metadata": {
    "id": "9hvMEngkAtX_"
   },
   "source": [
    "- It calculates the predicted values **y_pred** using the model parameters **m**, **b**, and the input features **X**, computes the MSE between the predicted values **y_pred** and the actual target values **y**, and prints the MSE."
   ]
  },
  {
   "cell_type": "code",
   "execution_count": null,
   "metadata": {
    "colab": {
     "base_uri": "https://localhost:8080/"
    },
    "id": "8AdJBg2l8Kos",
    "outputId": "9d2d72f7-42f0-4481-8fb0-2c120f348186"
   },
   "outputs": [],
   "source": [
    "y_pred = m*X + b\n",
    "\n",
    "print(\"MSE:\",mean_squared_error(y, y_pred))\n"
   ]
  },
  {
   "cell_type": "markdown",
   "metadata": {
    "id": "QU4uq6dZGWtP"
   },
   "source": [
    "**Observation**\n",
    "- The mean squared error between the predicted values **y_pred** and the actual target values **y** is calculated and printed.\n",
    "- The mean squared error is 0.34369."
   ]
  },
  {
   "cell_type": "markdown",
   "metadata": {
    "id": "LiiaJgRMIJUJ"
   },
   "source": [
    " Note: It is ideal to use the standard implementation of SGD as it is optimized for speed and accuracy.\n"
   ]
  },
  {
   "cell_type": "markdown",
   "metadata": {
    "id": "YacSroBGVzym"
   },
   "source": [
    "### Step 7: Plotting the Graph\n",
    "- Plotting the original data points in blue, representing the relationship between the feature **MedInc** and the **target** variable.\n",
    "- Adding the fitted regression line in red to represent the predicted values against the **MedInc** feature.\n",
    "- Labeling the x and y axes, adding a legend to distinguish between the original data and the fitted line, and finally displaying the plot."
   ]
  },
  {
   "cell_type": "code",
   "execution_count": null,
   "metadata": {
    "colab": {
     "base_uri": "https://localhost:8080/",
     "height": 449
    },
    "id": "_bvOc2ZxVMc7",
    "outputId": "d95bbe5c-0920-45fe-d5b2-1286f563ba83"
   },
   "outputs": [],
   "source": [
    "\n",
    "plt.scatter(X, y, color='blue', label='Original Data')\n",
    "plt.plot(X, y_pred, color='red', label='Fitted Line')\n",
    "plt.xlabel('MedInc')\n",
    "plt.ylabel('Target')\n",
    "plt.legend()\n",
    "plt.show()"
   ]
  },
  {
   "cell_type": "markdown",
   "metadata": {
    "id": "szOHGtFmWumb"
   },
   "source": [
    "**Observation:**\n",
    "- The visual representation includes both the original data points and the fitted regression line, illustrating the relationship between the **MedInc** feature and the **target** variable."
   ]
  }
 ],
 "metadata": {
  "colab": {
   "provenance": [],
   "toc_visible": true
  },
  "kernelspec": {
   "display_name": "Python 3 (ipykernel)",
   "language": "python",
   "name": "python3"
  },
  "language_info": {
   "codemirror_mode": {
    "name": "ipython",
    "version": 3
   },
   "file_extension": ".py",
   "mimetype": "text/x-python",
   "name": "python",
   "nbconvert_exporter": "python",
   "pygments_lexer": "ipython3",
   "version": "3.11.7"
  }
 },
 "nbformat": 4,
 "nbformat_minor": 4
}
