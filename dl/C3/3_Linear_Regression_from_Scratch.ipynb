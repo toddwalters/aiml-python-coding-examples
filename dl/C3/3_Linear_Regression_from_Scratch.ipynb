{
 "cells": [
  {
   "cell_type": "markdown",
   "metadata": {
    "colab_type": "text",
    "id": "view-in-github"
   },
   "source": [
    "<a href=\"https://colab.research.google.com/github/toddwalters/pgaiml-python-coding-examples/blob/main/deep-learning/C3/3_Linear_Regression_from_Scratch.ipynb\" target=\"_parent\"><img src=\"https://colab.research.google.com/assets/colab-badge.svg\" alt=\"Open In Colab\"/></a>"
   ]
  },
  {
   "cell_type": "code",
   "execution_count": null,
   "metadata": {
    "id": "xid7Ggf0EhaO"
   },
   "outputs": [],
   "source": [
    "\"\"\"\n",
    "Now lets build a Linear Regression Model from Scratch using the Tensorflow library\n",
    "\n",
    "Now, to build any machine learning model ,\n",
    "Most Importantly, we need to have: Data , Model , Loss Function , Criteria\n",
    "\n",
    "So, I will first generate the data set like this.\n",
    "\"\"\""
   ]
  },
  {
   "cell_type": "code",
   "execution_count": null,
   "metadata": {
    "id": "gVXtqUPKEha9"
   },
   "outputs": [],
   "source": [
    "import tensorflow as tf\n",
    "import random"
   ]
  },
  {
   "cell_type": "code",
   "execution_count": null,
   "metadata": {
    "id": "SPOFx68EEhbL"
   },
   "outputs": [],
   "source": [
    "def Generate_Data(w, b, instances):\n",
    "    \"\"\"Generate y = Xw + b + noise.\"\"\"\n",
    "    X = tf.zeros((instances, w.shape[0]))\n",
    "    X += tf.random.normal(shape=X.shape)\n",
    "    y = tf.matmul(X, tf.reshape(w, (-1, 1))) + b\n",
    "    y += tf.random.normal(shape=y.shape, stddev=0.01) # Noise\n",
    "    y = tf.reshape(y, (-1, 1)) # Flattening\n",
    "    return X, y\n",
    "\n",
    "w_true = tf.constant([5.0,3.0]) # w1, w2\n",
    "b_true = 4.0\n",
    "features, labels = Generate_Data(w_true, b_true, 100)\n",
    "# (100,2) (100)"
   ]
  },
  {
   "cell_type": "code",
   "execution_count": null,
   "metadata": {
    "colab": {
     "base_uri": "https://localhost:8080/"
    },
    "id": "0fb9OqPfEhbZ",
    "outputId": "92d9241e-3715-4269-e16e-969442b9eb63"
   },
   "outputs": [],
   "source": [
    "features.shape"
   ]
  },
  {
   "cell_type": "code",
   "execution_count": null,
   "metadata": {
    "colab": {
     "base_uri": "https://localhost:8080/"
    },
    "id": "tJIy2xBqEhbs",
    "outputId": "90066103-425c-4b46-9396-25a68cbfbc95"
   },
   "outputs": [],
   "source": [
    "labels.shape"
   ]
  },
  {
   "cell_type": "code",
   "execution_count": null,
   "metadata": {
    "colab": {
     "base_uri": "https://localhost:8080/"
    },
    "id": "8oMtDl1dEhb2",
    "outputId": "b8c5e6ea-4639-4a58-a6e9-3eedf8f7d309"
   },
   "outputs": [],
   "source": [
    "features[0]"
   ]
  },
  {
   "cell_type": "code",
   "execution_count": null,
   "metadata": {
    "id": "z38zCPdrEhb8"
   },
   "outputs": [],
   "source": [
    "#Model Parameters\n",
    "w = tf.Variable(tf.random.normal(shape=(w_true.shape[0], 1), mean=0, stddev=0.01),\n",
    "                trainable=True)\n",
    "b = tf.Variable(tf.zeros(1), trainable=True)"
   ]
  },
  {
   "cell_type": "code",
   "execution_count": null,
   "metadata": {
    "id": "ZTiGM4NrEhcC"
   },
   "outputs": [],
   "source": [
    "w"
   ]
  },
  {
   "cell_type": "code",
   "execution_count": null,
   "metadata": {
    "id": "VSvHQr6LEhcN"
   },
   "outputs": [],
   "source": [
    "b"
   ]
  },
  {
   "cell_type": "code",
   "execution_count": null,
   "metadata": {
    "id": "kVzUky08Ehcj"
   },
   "outputs": [],
   "source": [
    "#Model\n",
    "def LR(X,w,b):\n",
    "    return tf.tensordot(X,w,axes=1) + b"
   ]
  },
  {
   "cell_type": "code",
   "execution_count": null,
   "metadata": {
    "id": "iapO-J6BEhcx"
   },
   "outputs": [],
   "source": [
    "#Loss Function\n",
    "def Squared_Error(y_hat, y):\n",
    "    y = tf.reshape(y,y_hat.shape)\n",
    "    return ((y_hat - y) ** 2 )"
   ]
  },
  {
   "cell_type": "code",
   "execution_count": null,
   "metadata": {
    "id": "Zy-zQLIWEhdA"
   },
   "outputs": [],
   "source": [
    "#Learning Algorithm\n",
    "def Gradient_Descent(params,grads,lr):\n",
    "    for param,grad in zip(params,grads):\n",
    "        param -= lr*grad"
   ]
  },
  {
   "cell_type": "code",
   "execution_count": null,
   "metadata": {
    "id": "d6bm9fP2EhdJ"
   },
   "outputs": [],
   "source": [
    "lr = 0.02\n",
    "n = 3\n",
    "loss = Squared_Error\n",
    "\n",
    "for epoch in range(n):\n",
    "    for X, y in zip(features,labels):\n",
    "        with tf.GradientTape() as g:\n",
    "            l = loss(LR(X, w, b), y)  # loss(y_hat,y)\n",
    "\n",
    "        dw, db = g.gradient(l, [w, b]) # gradients\n",
    "\n",
    "        Gradient_Descent([w, b], [dw, db], lr) #Parameter Update\n",
    "    train_loss = loss(LR(features, w, b), labels)\n",
    "    print(f'epoch {epoch + 1}, loss {float(tf.reduce_mean(train_loss)):f}')"
   ]
  },
  {
   "cell_type": "markdown",
   "metadata": {
    "id": "H6Bsvr7rEhdS"
   },
   "source": [
    "https://www.tensorflow.org/api_docs/python/tf/Variable#:~:text=assign_sub,-View%20source&text=Subtracts%20a%20value%20from%20this%20variable.&text=read_value-,if%20True%2C%20will%20return%20something%20which%20evaluates%20to%20the%20new,will%20return%20the%20assign%20op."
   ]
  },
  {
   "cell_type": "code",
   "execution_count": null,
   "metadata": {
    "id": "UsoklgItEhdT"
   },
   "outputs": [],
   "source": [
    "#Learning Algorithm with momentum\n",
    "def Gradient_Descent(params,grads,lr):\n",
    "  beta = 0.6\n",
    "  m = beta*m - lr*grad\n",
    "  for param,grad in zip(params,grads):\n",
    "        param.assign_sub(m)\n",
    "    # for param,grad in zip(params,grads):\n",
    "    #     param.assign_sub(lr*grad) # param -= lr*grad"
   ]
  },
  {
   "cell_type": "code",
   "execution_count": null,
   "metadata": {
    "colab": {
     "base_uri": "https://localhost:8080/"
    },
    "id": "Mu-6Q54NEhdd",
    "outputId": "731f12b1-2717-4f76-c6c0-3db5cc57230d"
   },
   "outputs": [],
   "source": [
    "lr = 0.02\n",
    "n = 10\n",
    "loss = Squared_Error\n",
    "\n",
    "for epoch in range(n):\n",
    "    for X, y in zip(features,labels):\n",
    "        with tf.GradientTape() as g:\n",
    "            l = loss(LR(X, w, b), y)\n",
    "\n",
    "        dw, db = g.gradient(l, [w, b]) # gradients\n",
    "\n",
    "        Gradient_Descent([w, b], [dw, db], lr) #Parameter Update\n",
    "    train_loss = loss(LR(features, w, b), labels)\n",
    "    print(f'epoch {epoch + 1}, loss {float(tf.reduce_mean(train_loss)):f}')"
   ]
  },
  {
   "cell_type": "code",
   "execution_count": null,
   "metadata": {
    "colab": {
     "base_uri": "https://localhost:8080/"
    },
    "id": "7OxgPQ_HEhdp",
    "outputId": "0a4773db-6676-44ca-e44c-389e4d2ac91b"
   },
   "outputs": [],
   "source": [
    "w"
   ]
  },
  {
   "cell_type": "code",
   "execution_count": null,
   "metadata": {
    "colab": {
     "base_uri": "https://localhost:8080/"
    },
    "id": "FjSwfxINEhdz",
    "outputId": "f81e11d6-2f53-441a-9cfe-f160193a25f4"
   },
   "outputs": [],
   "source": [
    "b"
   ]
  },
  {
   "cell_type": "code",
   "execution_count": null,
   "metadata": {
    "id": "oSXLWqMbEhd7"
   },
   "outputs": [],
   "source": [
    "w_true,b_true"
   ]
  },
  {
   "cell_type": "code",
   "execution_count": null,
   "metadata": {
    "id": "Za47qDzGJlJH"
   },
   "outputs": [],
   "source": []
  }
 ],
 "metadata": {
  "colab": {
   "include_colab_link": true,
   "provenance": []
  },
  "kernelspec": {
   "display_name": "Python 3",
   "language": "python",
   "name": "python3"
  },
  "language_info": {
   "codemirror_mode": {
    "name": "ipython",
    "version": 3
   },
   "file_extension": ".py",
   "mimetype": "text/x-python",
   "name": "python",
   "nbconvert_exporter": "python",
   "pygments_lexer": "ipython3",
   "version": "3.7.4"
  }
 },
 "nbformat": 4,
 "nbformat_minor": 0
}
