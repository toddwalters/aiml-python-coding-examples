{
 "cells": [
  {
   "cell_type": "code",
   "execution_count": null,
   "metadata": {
    "id": "w04s-cDXvwqe"
   },
   "outputs": [],
   "source": [
    "! pip uninstall -q transformers -y"
   ]
  },
  {
   "cell_type": "code",
   "execution_count": null,
   "metadata": {
    "id": "pWiz1bn0vSKt"
   },
   "outputs": [],
   "source": [
    "!pip install -q transformers==4.17.0"
   ]
  },
  {
   "cell_type": "code",
   "execution_count": null,
   "metadata": {
    "colab": {
     "base_uri": "https://localhost:8080/"
    },
    "id": "OwJdD96IcJ0O",
    "outputId": "ca621b09-8a79-461a-f9ce-3cfee16dbf9b"
   },
   "outputs": [],
   "source": [
    "!pip install datasets"
   ]
  },
  {
   "cell_type": "code",
   "execution_count": null,
   "metadata": {
    "colab": {
     "base_uri": "https://localhost:8080/"
    },
    "id": "LUyJC80MbR4s",
    "outputId": "39d8eef2-7b8c-4a9c-eaee-b43d7d71f454"
   },
   "outputs": [],
   "source": [
    "# datasets\n",
    "from datasets import load_dataset\n",
    "emotions = load_dataset('emotion')"
   ]
  },
  {
   "cell_type": "code",
   "execution_count": null,
   "metadata": {
    "colab": {
     "base_uri": "https://localhost:8080/"
    },
    "id": "iKMBQ-tgcPFV",
    "outputId": "7a5c4f75-5fc3-45b9-83eb-0628e65c7bf7"
   },
   "outputs": [],
   "source": [
    "type(emotions)"
   ]
  },
  {
   "cell_type": "code",
   "execution_count": null,
   "metadata": {
    "colab": {
     "base_uri": "https://localhost:8080/"
    },
    "id": "kz4I9bEXdOVs",
    "outputId": "9f71c517-ec84-4c54-ac1e-30adf22040a7"
   },
   "outputs": [],
   "source": [
    "emotions"
   ]
  },
  {
   "cell_type": "code",
   "execution_count": null,
   "metadata": {
    "id": "xU3IruoydQed"
   },
   "outputs": [],
   "source": [
    "train_ds = emotions['train']\n",
    "valid_ds = emotions['validation']\n",
    "test_ds = emotions['test']"
   ]
  },
  {
   "cell_type": "code",
   "execution_count": null,
   "metadata": {
    "colab": {
     "base_uri": "https://localhost:8080/"
    },
    "id": "J7vNY_UbdWIx",
    "outputId": "5cb96539-f4a3-419b-fc23-6ce886b60efb"
   },
   "outputs": [],
   "source": [
    "train_ds"
   ]
  },
  {
   "cell_type": "code",
   "execution_count": null,
   "metadata": {
    "colab": {
     "base_uri": "https://localhost:8080/"
    },
    "id": "faryO_-6deeb",
    "outputId": "47d5815c-e0e5-47f7-fc1c-3a0a1cff1017"
   },
   "outputs": [],
   "source": [
    "len(train_ds)"
   ]
  },
  {
   "cell_type": "code",
   "execution_count": null,
   "metadata": {
    "colab": {
     "base_uri": "https://localhost:8080/"
    },
    "id": "9LVkhQ81dlry",
    "outputId": "179197a6-bde8-4a99-eb94-721a4735b007"
   },
   "outputs": [],
   "source": [
    "train_ds[0]"
   ]
  },
  {
   "cell_type": "code",
   "execution_count": null,
   "metadata": {
    "colab": {
     "base_uri": "https://localhost:8080/"
    },
    "id": "5FVdf92MdvQI",
    "outputId": "010e826c-1de0-4786-b03f-545381acf4b4"
   },
   "outputs": [],
   "source": [
    "train_ds.column_names # Apache arrow - columnar format"
   ]
  },
  {
   "cell_type": "code",
   "execution_count": null,
   "metadata": {
    "colab": {
     "base_uri": "https://localhost:8080/"
    },
    "id": "7qUfkTvId09u",
    "outputId": "00835ecf-96f7-4c4c-a313-a8744b7195f7"
   },
   "outputs": [],
   "source": [
    "train_ds.features # feature names"
   ]
  },
  {
   "cell_type": "code",
   "execution_count": null,
   "metadata": {
    "colab": {
     "base_uri": "https://localhost:8080/"
    },
    "id": "BosqpiWSd-hW",
    "outputId": "a9cbedbc-d39b-4dcf-b9ba-e46f7c36ce4b"
   },
   "outputs": [],
   "source": [
    "train_ds.features['label']"
   ]
  },
  {
   "cell_type": "code",
   "execution_count": null,
   "metadata": {
    "colab": {
     "base_uri": "https://localhost:8080/"
    },
    "id": "Zqq69p3MeIzQ",
    "outputId": "dcc70fe1-7b63-4acc-bb91-771b87b05a86"
   },
   "outputs": [],
   "source": [
    "train_ds.features['label'].names"
   ]
  },
  {
   "cell_type": "code",
   "execution_count": null,
   "metadata": {
    "colab": {
     "base_uri": "https://localhost:8080/"
    },
    "id": "ileTWs3feK0s",
    "outputId": "358846fb-9dc8-45e3-e32c-841667e69375"
   },
   "outputs": [],
   "source": [
    "train_ds[:5]"
   ]
  },
  {
   "cell_type": "code",
   "execution_count": null,
   "metadata": {
    "colab": {
     "base_uri": "https://localhost:8080/",
     "height": 206
    },
    "id": "ZMnnWvBteX7L",
    "outputId": "c6166690-a809-462b-bb8a-71a52d316d64"
   },
   "outputs": [],
   "source": [
    "import pandas as pd\n",
    "pd.DataFrame(train_ds[:5])"
   ]
  },
  {
   "cell_type": "code",
   "execution_count": null,
   "metadata": {
    "id": "Bv-W61FteeXK"
   },
   "outputs": [],
   "source": [
    "# csv file\n",
    "# emotion_local = load_dataset(\"csv\", data_files=\"emotion.csv\", sep = \",\") # load from csv file"
   ]
  },
  {
   "cell_type": "code",
   "execution_count": null,
   "metadata": {
    "colab": {
     "base_uri": "https://localhost:8080/"
    },
    "id": "VgwhUNgoe4KX",
    "outputId": "75d38969-2d1f-4c45-b4e4-0db90d6ebf26"
   },
   "outputs": [],
   "source": [
    "train_ds"
   ]
  },
  {
   "cell_type": "code",
   "execution_count": null,
   "metadata": {
    "colab": {
     "base_uri": "https://localhost:8080/"
    },
    "id": "GelNDe-Re7vk",
    "outputId": "0a1a133f-bc29-4b24-e4ee-351eee5891fc"
   },
   "outputs": [],
   "source": [
    "emotions.set_format('pandas')\n",
    "emotions"
   ]
  },
  {
   "cell_type": "code",
   "execution_count": null,
   "metadata": {
    "id": "RrZzJCekfDdq"
   },
   "outputs": [],
   "source": [
    "df = emotions['train'][:] # loaded as df"
   ]
  },
  {
   "cell_type": "code",
   "execution_count": null,
   "metadata": {
    "colab": {
     "base_uri": "https://localhost:8080/",
     "height": 206
    },
    "id": "0jZ_2BylfKz8",
    "outputId": "a63a6585-66b7-4e49-e691-4ed38a5ecc41"
   },
   "outputs": [],
   "source": [
    "df.head()"
   ]
  },
  {
   "cell_type": "code",
   "execution_count": null,
   "metadata": {
    "colab": {
     "base_uri": "https://localhost:8080/"
    },
    "id": "p2ga_0H2fSbW",
    "outputId": "f4b84c9c-9b41-4096-e8db-4b0d299ad899"
   },
   "outputs": [],
   "source": [
    "emotions['train'].features[\"label\"]"
   ]
  },
  {
   "cell_type": "code",
   "execution_count": null,
   "metadata": {
    "colab": {
     "base_uri": "https://localhost:8080/",
     "height": 35
    },
    "id": "UA8Io-xPff6Q",
    "outputId": "36241c40-587b-4202-9263-05420990c22f"
   },
   "outputs": [],
   "source": [
    "emotions['train'].features[\"label\"].int2str(0)"
   ]
  },
  {
   "cell_type": "code",
   "execution_count": null,
   "metadata": {
    "colab": {
     "base_uri": "https://localhost:8080/",
     "height": 35
    },
    "id": "AsKIJLk3fm-l",
    "outputId": "e12c8aa3-2826-4f46-f875-733e6abb4a4b"
   },
   "outputs": [],
   "source": [
    "emotions['train'].features[\"label\"].int2str(1)"
   ]
  },
  {
   "cell_type": "code",
   "execution_count": null,
   "metadata": {
    "colab": {
     "base_uri": "https://localhost:8080/",
     "height": 35
    },
    "id": "ohk7sOj2fonA",
    "outputId": "e6b690a9-fa65-45fc-f509-ef83b933c70b"
   },
   "outputs": [],
   "source": [
    "emotions['train'].features[\"label\"].int2str(3)"
   ]
  },
  {
   "cell_type": "code",
   "execution_count": null,
   "metadata": {
    "colab": {
     "base_uri": "https://localhost:8080/",
     "height": 206
    },
    "id": "ITR8EDdmfp9S",
    "outputId": "75f7a3e2-7254-4934-f3fe-592d5da1d7f8"
   },
   "outputs": [],
   "source": [
    "df[\"label_name\"] = df[\"label\"].apply(emotions['train'].features[\"label\"].int2str)\n",
    "df.head()"
   ]
  },
  {
   "cell_type": "code",
   "execution_count": null,
   "metadata": {
    "colab": {
     "base_uri": "https://localhost:8080/",
     "height": 452
    },
    "id": "b8uvJQhWf1td",
    "outputId": "cc16bf8c-c775-477e-c5f3-f393a04ecfdc"
   },
   "outputs": [],
   "source": [
    "import matplotlib.pyplot as plt\n",
    "df['label_name'].value_counts(ascending=True).plot.barh()\n",
    "plt.title('Frequency of Classes')\n",
    "plt.show()"
   ]
  },
  {
   "cell_type": "code",
   "execution_count": null,
   "metadata": {
    "id": "VdvUE-fWgFk2"
   },
   "outputs": [],
   "source": [
    "emotions.reset_format()"
   ]
  },
  {
   "cell_type": "code",
   "execution_count": null,
   "metadata": {
    "id": "z8cH-UzRgZhU"
   },
   "outputs": [],
   "source": [
    "# Tokenization - Subword Tokenization\n",
    "\n",
    "from transformers import AutoTokenizer\n",
    "model_checkpoint = \"distilbert-base-uncased\"\n",
    "tokenizer = AutoTokenizer.from_pretrained(model_checkpoint)"
   ]
  },
  {
   "cell_type": "code",
   "execution_count": null,
   "metadata": {
    "id": "HNWvYkbkgrad"
   },
   "outputs": [],
   "source": [
    "# # alter way to import\n",
    "# from transformers import DistilBertTokenizer\n",
    "# tokenizer = DistilBertTokenizer.from_pretrained(model_checkpoint)"
   ]
  },
  {
   "cell_type": "code",
   "execution_count": null,
   "metadata": {
    "colab": {
     "base_uri": "https://localhost:8080/"
    },
    "id": "K427YWZng4lc",
    "outputId": "cc3a5e54-4095-4728-874c-3ca2a6c60947"
   },
   "outputs": [],
   "source": [
    "text = \"I love dominos pizza and masala dosa\"\n",
    "encoded_text = tokenizer(text)\n",
    "encoded_text"
   ]
  },
  {
   "cell_type": "markdown",
   "metadata": {
    "id": "BURmofM1hSow"
   },
   "source": [
    "![image.png](data:image/png;base64,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)"
   ]
  },
  {
   "cell_type": "code",
   "execution_count": null,
   "metadata": {
    "colab": {
     "base_uri": "https://localhost:8080/"
    },
    "id": "pmjv8fU3g-FP",
    "outputId": "88708d7c-8b8d-40d0-e6d1-1a8ee17e7f44"
   },
   "outputs": [],
   "source": [
    "tokenizer.convert_ids_to_tokens(encoded_text.input_ids)"
   ]
  },
  {
   "cell_type": "code",
   "execution_count": null,
   "metadata": {
    "colab": {
     "base_uri": "https://localhost:8080/"
    },
    "id": "lxnzTqp1iAPX",
    "outputId": "12fe859d-6383-4fb0-80d3-c1df1daec615"
   },
   "outputs": [],
   "source": [
    "tokenizer.vocab_size # vocabulory size"
   ]
  },
  {
   "cell_type": "code",
   "execution_count": null,
   "metadata": {
    "colab": {
     "base_uri": "https://localhost:8080/"
    },
    "id": "sVOzDIDAiU1w",
    "outputId": "0b8b8c54-c8a7-4e7a-96c0-82d95d949785"
   },
   "outputs": [],
   "source": [
    "tokenizer.model_max_length # context size"
   ]
  },
  {
   "cell_type": "code",
   "execution_count": null,
   "metadata": {
    "colab": {
     "base_uri": "https://localhost:8080/"
    },
    "id": "6juyN6KciZlL",
    "outputId": "d2a69a02-c9dc-465b-dfd0-454633ea0e1a"
   },
   "outputs": [],
   "source": [
    "tokenizer.model_input_names"
   ]
  },
  {
   "cell_type": "code",
   "execution_count": null,
   "metadata": {
    "id": "tDr0JCI0ii-h"
   },
   "outputs": [],
   "source": [
    "def tokenization(batch):\n",
    "    return tokenizer(batch[\"text\"], padding=True, truncation=True)"
   ]
  },
  {
   "cell_type": "code",
   "execution_count": null,
   "metadata": {
    "colab": {
     "base_uri": "https://localhost:8080/",
     "height": 49,
     "referenced_widgets": [
      "1e356f5ccb0346ad9ae9c466cf6d8f3d",
      "f19032a20b9e4ddeab0d557c5b5c6e40",
      "99780a5b884f42c0a96b4f8b46332cc4",
      "bbde489d3ca64dc3a429d0307ffeccc6",
      "b6d9d7e84d084ac48c524801c19451ac",
      "9ad297eb3f264c1d84e06227cd8a4cfe",
      "e6238f36fe714be0b0ecf71b965b659f",
      "df6bc10a08a34102a40959e1fb00d0df",
      "67b245f9fe5b47c5afa8d1b7aeb902b8",
      "be8ad2a7a46a47e2a4eed1b1709cf4e7",
      "8481a5f3e7854ac69898c4c69dec6fe1"
     ]
    },
    "id": "4t2QEe1Oi41b",
    "outputId": "392a1496-df47-4fcf-bdf1-237854c2d3bb"
   },
   "outputs": [],
   "source": [
    "emotions_encoded = emotions.map(tokenization,batched=True)"
   ]
  },
  {
   "cell_type": "code",
   "execution_count": null,
   "metadata": {
    "colab": {
     "base_uri": "https://localhost:8080/"
    },
    "id": "P_uR6SGEjABp",
    "outputId": "48dbcb29-1812-4526-a59b-e2b5bffa0dbd"
   },
   "outputs": [],
   "source": [
    "emotions_encoded"
   ]
  },
  {
   "cell_type": "code",
   "execution_count": null,
   "metadata": {
    "colab": {
     "base_uri": "https://localhost:8080/"
    },
    "id": "6LFyaxmujEPm",
    "outputId": "59b0dc75-8f14-4e34-ea28-2ad39e7707bf"
   },
   "outputs": [],
   "source": [
    "len(emotions_encoded[\"train\"][:][\"input_ids\"][0])"
   ]
  },
  {
   "cell_type": "code",
   "execution_count": null,
   "metadata": {
    "colab": {
     "base_uri": "https://localhost:8080/"
    },
    "id": "I-21Wr3ojOQY",
    "outputId": "0c1d651e-954e-47c0-e33a-21cd50de8e27"
   },
   "outputs": [],
   "source": [
    "emotions_encoded[\"train\"][:][\"input_ids\"][0]"
   ]
  },
  {
   "cell_type": "code",
   "execution_count": null,
   "metadata": {
    "colab": {
     "base_uri": "https://localhost:8080/"
    },
    "id": "URIQU78Ijc1Z",
    "outputId": "84baeb9a-3fab-47a4-8469-7a92200b3cb0"
   },
   "outputs": [],
   "source": [
    "emotions_encoded[\"train\"][:][\"attention_mask\"][0]"
   ]
  },
  {
   "cell_type": "code",
   "execution_count": null,
   "metadata": {
    "colab": {
     "base_uri": "https://localhost:8080/"
    },
    "id": "rZJa9hkFjjEx",
    "outputId": "bfd25940-639a-4f52-a45d-64db682056d7"
   },
   "outputs": [],
   "source": [
    "from transformers import TFAutoModel\n",
    "model_chkpt = \"distilbert-base-uncased\"\n",
    "model = TFAutoModel.from_pretrained(model_chkpt)"
   ]
  },
  {
   "cell_type": "code",
   "execution_count": null,
   "metadata": {
    "id": "04uz5txnmzCk"
   },
   "outputs": [],
   "source": [
    "inputs = tokenizer(text, return_tensors=\"tf\")"
   ]
  },
  {
   "cell_type": "code",
   "execution_count": null,
   "metadata": {
    "colab": {
     "base_uri": "https://localhost:8080/"
    },
    "id": "Nz4LibkHnSmS",
    "outputId": "b4aa3a8e-6f82-4f01-b302-1985cf4e10eb"
   },
   "outputs": [],
   "source": [
    "inputs"
   ]
  },
  {
   "cell_type": "code",
   "execution_count": null,
   "metadata": {
    "colab": {
     "base_uri": "https://localhost:8080/"
    },
    "id": "_7P4BHjenTSb",
    "outputId": "60bea8da-9106-4a6e-88d3-c4778d336300"
   },
   "outputs": [],
   "source": [
    "model(inputs)"
   ]
  },
  {
   "cell_type": "code",
   "execution_count": null,
   "metadata": {
    "colab": {
     "base_uri": "https://localhost:8080/"
    },
    "id": "x4mjQ3HwneLp",
    "outputId": "e6eca225-d4ed-4943-8a42-c3ec4121863f"
   },
   "outputs": [],
   "source": [
    "emotions_encoded"
   ]
  },
  {
   "cell_type": "code",
   "execution_count": null,
   "metadata": {
    "colab": {
     "base_uri": "https://localhost:8080/"
    },
    "id": "z5JmmpRioBqF",
    "outputId": "a3745532-6a93-4c30-fbd4-0e684439307e"
   },
   "outputs": [],
   "source": [
    "d = {\"a\":1, \"b\":2,\"c\":3}\n",
    "d.items()"
   ]
  },
  {
   "cell_type": "code",
   "execution_count": null,
   "metadata": {
    "colab": {
     "base_uri": "https://localhost:8080/"
    },
    "id": "cuOT1EsvojwK",
    "outputId": "032f1cf1-7676-49ea-82bd-e6ca30767757"
   },
   "outputs": [],
   "source": [
    "tokenizer.model_input_names"
   ]
  },
  {
   "cell_type": "code",
   "execution_count": null,
   "metadata": {
    "id": "pE5CQIVgu39l"
   },
   "outputs": [],
   "source": [
    "def tokenization(batch):\n",
    "    return tokenizer(batch[\"text\"], padding=True, truncation=True, return_tensors=\"tf\")"
   ]
  },
  {
   "cell_type": "code",
   "execution_count": null,
   "metadata": {
    "colab": {
     "base_uri": "https://localhost:8080/",
     "height": 49,
     "referenced_widgets": [
      "8623a311e6dd4fdfa0ac5ff12d4951c7",
      "9947dce3c8424b1c8a14850f92a171a1",
      "1159ed173a094331b0b3d935622f8b5d",
      "eda0ccc8385d43ea9b4fcd78f9173c75",
      "64e763c8e75b417485c9715deec7887f",
      "7d2289d27ace401283ad3248057190c9",
      "3c02aa54e33e491f99fa5b7b1c039043",
      "6461036e45934dfbb2e6eef5198089dc",
      "77bf942c711c4f86936631d81ee14f0f",
      "67a3094d4c38484d80685d4920614a20",
      "2bc384698fa9495da8c47ac4d59db272"
     ]
    },
    "id": "4Z7B51cevBzQ",
    "outputId": "6982eb21-e77b-4c15-b550-a939bedfa536"
   },
   "outputs": [],
   "source": [
    "emotions_encoded = emotions.map(tokenization,batched=True)"
   ]
  },
  {
   "cell_type": "code",
   "execution_count": null,
   "metadata": {
    "id": "sD7Lun5MoRUC"
   },
   "outputs": [],
   "source": [
    "def extract_hidden_states(batch):\n",
    "    inputs = {k:v for k,v in batch.items()\n",
    "              if k in tokenizer.model_input_names}\n",
    "    print(inputs)\n",
    "    last_hidden_state = model(**inputs).last_hidden_state\n",
    "    print(last_hidden_state.shape)\n",
    "    return {\"hidden_state\": last_hidden_state[:,0]}"
   ]
  },
  {
   "cell_type": "code",
   "execution_count": null,
   "metadata": {
    "colab": {
     "base_uri": "https://localhost:8080/",
     "height": 996,
     "referenced_widgets": [
      "62045886df6c40d5b69ec226533d2bf5",
      "b2106304fd6d4c81900ea97f9bdb0c10",
      "d2d0962746574b3da4d7fb5473153c2f",
      "09666ed8160447918d6e456a13896f06",
      "967e53a27ad84d5595fc15ff4205255f",
      "5d58cba8306447a69ece4eee8ebb7bf6",
      "0da38fff67be4bdaa9c4ffee57f4211c",
      "878500d8eb464dc69020af79723701da",
      "d1aaf3a3de034e3cb27988f37b38b4eb",
      "8be16827e43f4e0baaf24bd0c022c21e",
      "7336f6d2ebd94220aa15abef79dee4d0"
     ]
    },
    "id": "ikKX7_ayoxiK",
    "outputId": "3333ef2d-9eca-432e-f24a-d53a1dfe5577"
   },
   "outputs": [],
   "source": [
    "emotions_hidden = emotions_encoded.map(extract_hidden_states,batched=True)"
   ]
  },
  {
   "cell_type": "code",
   "execution_count": null,
   "metadata": {
    "id": "5XxGdaUUo3sQ"
   },
   "outputs": [],
   "source": []
  }
 ],
 "metadata": {
  "accelerator": "GPU",
  "colab": {
   "gpuType": "T4",
   "include_colab_link": true,
   "provenance": []
  },
  "kernelspec": {
   "display_name": "Python 3",
   "name": "python3"
  },
  "language_info": {
   "name": "python"
  }
 },
 "nbformat": 4,
 "nbformat_minor": 0
}
