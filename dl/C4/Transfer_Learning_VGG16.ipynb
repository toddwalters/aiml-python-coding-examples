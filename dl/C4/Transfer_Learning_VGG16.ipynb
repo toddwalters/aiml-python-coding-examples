{
 "cells": [
  {
   "cell_type": "code",
   "execution_count": null,
   "metadata": {
    "colab": {
     "base_uri": "https://localhost:8080/"
    },
    "id": "VqkwiqKAslhO",
    "outputId": "def33a55-b6af-4fcf-f72f-238791a63ab7"
   },
   "outputs": [],
   "source": [
    "import tensorflow as tf\n",
    "from tensorflow.keras.layers import Dense, Conv2D, Dropout, Flatten, MaxPooling2D, BatchNormalization\n",
    "from tensorflow.keras.models import Sequential\n",
    "from tensorflow.keras.optimizers import Adam\n",
    "from tensorflow.keras.datasets.cifar10 import load_data\n",
    "import numpy as np\n",
    "import matplotlib.pyplot as plt\n",
    "import os\n",
    "\n",
    "\n",
    "(x_train, y_train), (x_test, y_test) = load_data()\n",
    "num_classes = 10\n",
    "\n",
    "cifar10_classes = [\"airplane\",\"automobile\", \"bird\", \"cat\", \"deer\", \"dog\", \"frog\", \"horse\", \"ship\", \"truck\"]\n",
    "\n",
    "# normalize the data\n",
    "x_train_normalized = x_train/255.0\n",
    "x_test_normalized = x_test/255.0\n",
    "\n",
    "# one hot encoding of target\n",
    "\n",
    "y_train_encoded = tf.keras.utils.to_categorical(y_train, num_classes)\n",
    "y_test_encoded = tf.keras.utils.to_categorical(y_test, num_classes)"
   ]
  },
  {
   "cell_type": "code",
   "execution_count": null,
   "metadata": {
    "colab": {
     "base_uri": "https://localhost:8080/"
    },
    "id": "G3OEaEsjsxRQ",
    "outputId": "871babb9-bb80-41b3-96ca-cb87027cb565"
   },
   "outputs": [],
   "source": [
    "from tensorflow.keras.applications import VGG16\n",
    "pretrained_model = VGG16(weights='imagenet', include_top=False, input_shape=(32, 32, 3))\n",
    "pretrained_model.summary()"
   ]
  },
  {
   "cell_type": "code",
   "execution_count": null,
   "metadata": {
    "id": "iyKPpoJktI3a"
   },
   "outputs": [],
   "source": [
    "pretrained_model.trainable = False"
   ]
  },
  {
   "cell_type": "code",
   "execution_count": null,
   "metadata": {
    "colab": {
     "base_uri": "https://localhost:8080/"
    },
    "id": "Vj55dzO0tb5H",
    "outputId": "2c760916-dfa1-46e9-9b68-4acf9e79717e"
   },
   "outputs": [],
   "source": [
    "pretrained_model.summary()"
   ]
  },
  {
   "cell_type": "code",
   "execution_count": null,
   "metadata": {
    "id": "CJScmadrtd3N"
   },
   "outputs": [],
   "source": [
    "# Functional API method for creation of neural networks\n",
    "last_layer = pretrained_model.layers[-1].output\n",
    "x = Flatten()(last_layer)\n",
    "x = Dense(1024, activation='relu')(x)\n",
    "x = Dropout(0.2)(x)\n",
    "x = Dense(10, activation='softmax')(x)"
   ]
  },
  {
   "cell_type": "code",
   "execution_count": null,
   "metadata": {
    "colab": {
     "base_uri": "https://localhost:8080/"
    },
    "id": "kf-Xcroauc-e",
    "outputId": "2e78259f-a7ac-4bc8-f791-33fb1f6c32c7"
   },
   "outputs": [],
   "source": [
    "from tensorflow.keras import Model\n",
    "\n",
    "vgg16_new = Model(inputs=pretrained_model.input, outputs=x)\n",
    "vgg16_new.summary()"
   ]
  },
  {
   "cell_type": "code",
   "execution_count": null,
   "metadata": {
    "id": "EN6dwLVzulYF"
   },
   "outputs": [],
   "source": [
    "vgg16_new.compile(optimizer=Adam(learning_rate=0.001), loss='categorical_crossentropy', metrics=['accuracy'])"
   ]
  },
  {
   "cell_type": "code",
   "execution_count": null,
   "metadata": {
    "colab": {
     "base_uri": "https://localhost:8080/"
    },
    "id": "bItKxhcTu_Yx",
    "outputId": "e5eb9b44-57a8-4323-dfb6-27dc65bd1229"
   },
   "outputs": [],
   "source": [
    "history = vgg16_new.fit(x_train_normalized, y_train_encoded,\n",
    "                      validation_data=(x_test_normalized, y_test_encoded),\n",
    "                      batch_size=32, epochs=10)"
   ]
  },
  {
   "cell_type": "code",
   "execution_count": null,
   "metadata": {
    "id": "HZnajSILvD4Y"
   },
   "outputs": [],
   "source": [
    "plt.plot(history.history['accuracy'])\n",
    "\n",
    "plt.plot(history.history['val_accuracy'])\n",
    "\n",
    "plt.title('Model Accuracy')\n",
    "\n",
    "plt.ylabel('Accuracy')\n",
    "\n",
    "plt.xlabel('Epoch')\n",
    "\n",
    "plt.legend(['Train', 'Validation'], loc = 'upper left')\n",
    "\n",
    "# Display the plot\n",
    "plt.show()"
   ]
  },
  {
   "cell_type": "code",
   "execution_count": null,
   "metadata": {
    "id": "crLbUpFWvIBA"
   },
   "outputs": [],
   "source": []
  }
 ],
 "metadata": {
  "accelerator": "GPU",
  "colab": {
   "gpuType": "T4",
   "provenance": []
  },
  "kernelspec": {
   "display_name": "Python 3",
   "name": "python3"
  },
  "language_info": {
   "name": "python"
  }
 },
 "nbformat": 4,
 "nbformat_minor": 0
}
