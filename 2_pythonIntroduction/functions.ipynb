{
 "cells": [
  {
   "cell_type": "markdown",
   "id": "cbd686d4-d46c-45e2-acb7-3dd1a7337dc8",
   "metadata": {},
   "source": [
    "# Functions in Python\n",
    "\n",
    "```python\n",
    "\n",
    "def function_name(arguments):\n",
    "    statement(s)\n",
    "```"
   ]
  },
  {
   "cell_type": "code",
   "execution_count": 2,
   "id": "a633b114-6a6c-4590-b036-bc1b4f19a89f",
   "metadata": {
    "tags": []
   },
   "outputs": [],
   "source": [
    "def greeting(): # no parameters\n",
    "    print(\"Good morning\")\n",
    "    print(\"execution from function\")"
   ]
  },
  {
   "cell_type": "code",
   "execution_count": 4,
   "id": "44cdc7c8-32aa-47ab-94a7-742f6d119a38",
   "metadata": {
    "tags": []
   },
   "outputs": [
    {
     "name": "stdout",
     "output_type": "stream",
     "text": [
      "Good morning\n",
      "execution from function\n"
     ]
    }
   ],
   "source": [
    "#function_name(arguments)--> syntax for calling the function\n",
    "greeting()"
   ]
  },
  {
   "cell_type": "code",
   "execution_count": 5,
   "id": "9be197af-ef8f-43d5-b838-03a0f64e7603",
   "metadata": {
    "tags": []
   },
   "outputs": [
    {
     "ename": "TypeError",
     "evalue": "greeting() takes 0 positional arguments but 1 was given",
     "output_type": "error",
     "traceback": [
      "\u001b[0;31m---------------------------------------------------------------------------\u001b[0m",
      "\u001b[0;31mTypeError\u001b[0m                                 Traceback (most recent call last)",
      "Cell \u001b[0;32mIn[5], line 1\u001b[0m\n\u001b[0;32m----> 1\u001b[0m greeting(\u001b[38;5;124m\"\u001b[39m\u001b[38;5;124mhello\u001b[39m\u001b[38;5;124m\"\u001b[39m)\n",
      "\u001b[0;31mTypeError\u001b[0m: greeting() takes 0 positional arguments but 1 was given"
     ]
    }
   ],
   "source": [
    "greeting(\"hello\")"
   ]
  },
  {
   "cell_type": "code",
   "execution_count": 6,
   "id": "631b5754-db56-44b4-97af-59bd5758b703",
   "metadata": {
    "tags": []
   },
   "outputs": [],
   "source": [
    "# get the name and return the greeting\n",
    "def greeting(name): # 1 argument\n",
    "    print(f\"Good morning {name}\")\n",
    "    print(\"execution from function\")"
   ]
  },
  {
   "cell_type": "code",
   "execution_count": 8,
   "id": "fd396d42-394c-4da2-a082-ff694c58ad42",
   "metadata": {
    "tags": []
   },
   "outputs": [
    {
     "name": "stdout",
     "output_type": "stream",
     "text": [
      "Good morning Jack Reacher\n",
      "execution from function\n"
     ]
    }
   ],
   "source": [
    "greeting(\"Jack Reacher\")"
   ]
  },
  {
   "cell_type": "code",
   "execution_count": 9,
   "id": "2a456d24-69d3-440d-bd20-c705abe1fb66",
   "metadata": {
    "tags": []
   },
   "outputs": [],
   "source": [
    "# get the name and return the greeting\n",
    "def greeting(name,favorite_color): # 2 arguments\n",
    "    print(f\"Good morning {name} and your favorite color is {favorite_color}\")\n",
    "    print(\"execution from function\")"
   ]
  },
  {
   "cell_type": "code",
   "execution_count": 11,
   "id": "cb4bf464-f92d-45af-8fbd-d76aa9a47445",
   "metadata": {
    "tags": []
   },
   "outputs": [
    {
     "name": "stdout",
     "output_type": "stream",
     "text": [
      "Good morning Jack Reacher and your favorite color is Black\n",
      "execution from function\n"
     ]
    }
   ],
   "source": [
    "greeting(\"Jack Reacher\",\"Black\")"
   ]
  },
  {
   "cell_type": "code",
   "execution_count": 12,
   "id": "84713394-0b4b-41c2-a0ff-5d96457ecfdf",
   "metadata": {
    "tags": []
   },
   "outputs": [
    {
     "name": "stdout",
     "output_type": "stream",
     "text": [
      "Good morning Naruto and your favorite color is Orange\n",
      "execution from function\n"
     ]
    }
   ],
   "source": [
    "greeting(\"Naruto\",\"Orange\") # positional arguments"
   ]
  },
  {
   "cell_type": "code",
   "execution_count": 13,
   "id": "81898fc5-a6dc-4d8c-b156-320d0fc72016",
   "metadata": {
    "tags": []
   },
   "outputs": [
    {
     "name": "stdout",
     "output_type": "stream",
     "text": [
      "Good morning Naruto and your favorite color is Orange\n",
      "execution from function\n"
     ]
    }
   ],
   "source": [
    "greeting(name=\"Naruto\",favorite_color=\"Orange\") # keyworded argument"
   ]
  },
  {
   "cell_type": "code",
   "execution_count": 14,
   "id": "8fe9efd1-e1a2-43eb-9a57-2b0a131d1b4c",
   "metadata": {
    "tags": []
   },
   "outputs": [
    {
     "name": "stdout",
     "output_type": "stream",
     "text": [
      "Good morning Naruto and your favorite color is Orange\n",
      "execution from function\n"
     ]
    }
   ],
   "source": [
    "greeting(favorite_color=\"Orange\", name=\"Naruto\")"
   ]
  },
  {
   "cell_type": "code",
   "execution_count": 15,
   "id": "8adb3192-2dbc-4661-b630-920c286fb33f",
   "metadata": {
    "tags": []
   },
   "outputs": [],
   "source": [
    "def addition(n1,n2):\n",
    "    print(f\"first number is {n1}, and second number is {n2}\")\n",
    "    s = n1+n2\n",
    "    print(s)"
   ]
  },
  {
   "cell_type": "code",
   "execution_count": 16,
   "id": "bcf854ea-3a30-4cca-8a3a-d0234b9d0b07",
   "metadata": {
    "tags": []
   },
   "outputs": [
    {
     "name": "stdout",
     "output_type": "stream",
     "text": [
      "first number is 10, and second number is 20\n",
      "30\n"
     ]
    }
   ],
   "source": [
    "result = addition(10,20)"
   ]
  },
  {
   "cell_type": "code",
   "execution_count": 17,
   "id": "a13a9790-da6e-436a-9830-5ce6d62f336d",
   "metadata": {
    "tags": []
   },
   "outputs": [
    {
     "name": "stdout",
     "output_type": "stream",
     "text": [
      "None\n"
     ]
    }
   ],
   "source": [
    "print(result)"
   ]
  },
  {
   "cell_type": "code",
   "execution_count": 18,
   "id": "30ea1ca2-1ad8-40a7-af20-22d6dbe61b14",
   "metadata": {
    "tags": []
   },
   "outputs": [],
   "source": [
    "def addition(n1,n2):\n",
    "    print(f\"first number is {n1}, and second number is {n2}\")\n",
    "    s = n1+n2\n",
    "    print(s)\n",
    "    return s"
   ]
  },
  {
   "cell_type": "code",
   "execution_count": 19,
   "id": "2f07f3c9-061c-4c8c-aad9-f31946573d0e",
   "metadata": {
    "tags": []
   },
   "outputs": [
    {
     "name": "stdout",
     "output_type": "stream",
     "text": [
      "first number is 10, and second number is 20\n",
      "30\n"
     ]
    }
   ],
   "source": [
    "result = addition(10,20)"
   ]
  },
  {
   "cell_type": "code",
   "execution_count": 20,
   "id": "21a643b1-1a11-4c17-9631-984c542d2f3b",
   "metadata": {
    "tags": []
   },
   "outputs": [
    {
     "name": "stdout",
     "output_type": "stream",
     "text": [
      "30\n"
     ]
    }
   ],
   "source": [
    "print(result)"
   ]
  },
  {
   "cell_type": "code",
   "execution_count": 21,
   "id": "7b10bd03-c7ff-4ea8-af23-f6cba0238135",
   "metadata": {
    "tags": []
   },
   "outputs": [
    {
     "name": "stdout",
     "output_type": "stream",
     "text": [
      "first number is 10, and second number is 20\n",
      "30\n"
     ]
    },
    {
     "data": {
      "text/plain": [
       "30"
      ]
     },
     "execution_count": 21,
     "metadata": {},
     "output_type": "execute_result"
    }
   ],
   "source": [
    "addition(10,20)"
   ]
  },
  {
   "cell_type": "code",
   "execution_count": 22,
   "id": "ce5b8c36-4928-4c3d-882d-5c4984fd8a4b",
   "metadata": {
    "tags": []
   },
   "outputs": [
    {
     "ename": "TypeError",
     "evalue": "addition() takes 2 positional arguments but 3 were given",
     "output_type": "error",
     "traceback": [
      "\u001b[0;31m---------------------------------------------------------------------------\u001b[0m",
      "\u001b[0;31mTypeError\u001b[0m                                 Traceback (most recent call last)",
      "Cell \u001b[0;32mIn[22], line 1\u001b[0m\n\u001b[0;32m----> 1\u001b[0m addition(\u001b[38;5;241m10\u001b[39m,\u001b[38;5;241m20\u001b[39m,\u001b[38;5;241m30\u001b[39m)\n",
      "\u001b[0;31mTypeError\u001b[0m: addition() takes 2 positional arguments but 3 were given"
     ]
    }
   ],
   "source": [
    "addition(10,20,30)"
   ]
  },
  {
   "cell_type": "code",
   "execution_count": 23,
   "id": "d4d9dbf5-e592-473d-825d-aeccca14f695",
   "metadata": {
    "tags": []
   },
   "outputs": [],
   "source": [
    "def addition(n1,n2,*args):\n",
    "    print(f\"first number is {n1}, and second number is {n2}\")\n",
    "    s = n1+n2\n",
    "    print(s)\n",
    "    print(args, type(args))\n",
    "    return s"
   ]
  },
  {
   "cell_type": "code",
   "execution_count": 25,
   "id": "551f2653-a784-4f8e-b9bf-f82f87692110",
   "metadata": {
    "tags": []
   },
   "outputs": [
    {
     "name": "stdout",
     "output_type": "stream",
     "text": [
      "first number is 1, and second number is 2\n",
      "3\n",
      "(30, 40, 50) <class 'tuple'>\n"
     ]
    },
    {
     "data": {
      "text/plain": [
       "3"
      ]
     },
     "execution_count": 25,
     "metadata": {},
     "output_type": "execute_result"
    }
   ],
   "source": [
    "addition(1,2,30,40,50)"
   ]
  },
  {
   "cell_type": "code",
   "execution_count": 26,
   "id": "d63691ec-83e7-465a-b58a-8595c7aefbbe",
   "metadata": {
    "tags": []
   },
   "outputs": [],
   "source": [
    "def addition(n1,n2,**kwargs):\n",
    "    print(f\"first number is {n1}, and second number is {n2}\")\n",
    "    s = n1+n2\n",
    "    print(s)\n",
    "    print(kwargs, type(kwargs))\n",
    "    return s"
   ]
  },
  {
   "cell_type": "code",
   "execution_count": 28,
   "id": "40d4ccb2-3d27-43b1-b1ab-4c0a5a84b138",
   "metadata": {
    "tags": []
   },
   "outputs": [
    {
     "name": "stdout",
     "output_type": "stream",
     "text": [
      "first number is 20, and second number is 30\n",
      "50\n",
      "{'n3': 40, 'n4': 50, 'hello': 'world'} <class 'dict'>\n"
     ]
    },
    {
     "data": {
      "text/plain": [
       "50"
      ]
     },
     "execution_count": 28,
     "metadata": {},
     "output_type": "execute_result"
    }
   ],
   "source": [
    "addition(n1=20,n2=30,n3=40, n4=50,hello=\"world\")"
   ]
  },
  {
   "cell_type": "code",
   "execution_count": 29,
   "id": "7378003b-73ae-4127-bc87-f135f4600451",
   "metadata": {
    "tags": []
   },
   "outputs": [],
   "source": [
    "def addition(n1,n2):\n",
    "    print(f\"first number is {n1}, and second number is {n2}\")\n",
    "    s = n1+n2\n",
    "    print(s)\n",
    "    return s"
   ]
  },
  {
   "cell_type": "code",
   "execution_count": 30,
   "id": "c293d7dd-f6d2-4d39-aade-cb48cf608920",
   "metadata": {
    "tags": []
   },
   "outputs": [
    {
     "name": "stdout",
     "output_type": "stream",
     "text": [
      "first number is 10, and second number is 20\n",
      "30\n"
     ]
    }
   ],
   "source": [
    "result = addition(10,20)"
   ]
  },
  {
   "cell_type": "code",
   "execution_count": 31,
   "id": "44cb69cf-08f2-4c74-af03-a3c1b65d72b3",
   "metadata": {
    "tags": []
   },
   "outputs": [
    {
     "name": "stdout",
     "output_type": "stream",
     "text": [
      "30\n"
     ]
    }
   ],
   "source": [
    "print(result)"
   ]
  },
  {
   "cell_type": "code",
   "execution_count": 32,
   "id": "01c922d5-e3ca-49b4-912c-13745c677f49",
   "metadata": {
    "tags": []
   },
   "outputs": [
    {
     "ename": "NameError",
     "evalue": "name 's' is not defined",
     "output_type": "error",
     "traceback": [
      "\u001b[0;31m---------------------------------------------------------------------------\u001b[0m",
      "\u001b[0;31mNameError\u001b[0m                                 Traceback (most recent call last)",
      "Cell \u001b[0;32mIn[32], line 1\u001b[0m\n\u001b[0;32m----> 1\u001b[0m \u001b[38;5;28mprint\u001b[39m(s)\n",
      "\u001b[0;31mNameError\u001b[0m: name 's' is not defined"
     ]
    }
   ],
   "source": [
    "print(s)"
   ]
  },
  {
   "cell_type": "code",
   "execution_count": 33,
   "id": "653adbb1-1490-47cc-8a97-8eecca53d909",
   "metadata": {
    "tags": []
   },
   "outputs": [],
   "source": [
    "def addition(n1,n2):\n",
    "    print(f\"first number is {n1}, and second number is {n2}\")\n",
    "    global s\n",
    "    s = n1+n2\n",
    "    print(s)\n",
    "    return s"
   ]
  },
  {
   "cell_type": "code",
   "execution_count": 34,
   "id": "532df863-2b3c-408e-a110-6ee4ca5b79e9",
   "metadata": {
    "tags": []
   },
   "outputs": [
    {
     "name": "stdout",
     "output_type": "stream",
     "text": [
      "first number is 10, and second number is 20\n",
      "30\n"
     ]
    }
   ],
   "source": [
    "result = addition(10,20)"
   ]
  },
  {
   "cell_type": "code",
   "execution_count": 35,
   "id": "5e5fb173-5ce9-4911-9cd8-67b57f2fdc37",
   "metadata": {
    "tags": []
   },
   "outputs": [
    {
     "name": "stdout",
     "output_type": "stream",
     "text": [
      "30\n"
     ]
    }
   ],
   "source": [
    "print(s)"
   ]
  },
  {
   "cell_type": "markdown",
   "id": "1aec3e77-699b-4925-9b07-46d63daf35ba",
   "metadata": {},
   "source": [
    "### In Class Assignment\n",
    "\n",
    "- Create a function called BMI\n",
    "- This takes 2 inputs - weight (KG), and height in (meters)\n",
    "- return BMI = weight/height**2"
   ]
  },
  {
   "cell_type": "markdown",
   "id": "fa0ab970-6278-44a0-8ebe-e54bbc939724",
   "metadata": {},
   "source": [
    "## Lambda Functions\n",
    "\n",
    "Single line functions\n",
    "\n",
    "```python\n",
    "\n",
    "lambda arguments: expression\n",
    "\n",
    "```"
   ]
  },
  {
   "cell_type": "code",
   "execution_count": 36,
   "id": "1027a134-b718-4769-baf9-21f284a28276",
   "metadata": {
    "tags": []
   },
   "outputs": [],
   "source": [
    "f = lambda x : x**2"
   ]
  },
  {
   "cell_type": "code",
   "execution_count": 37,
   "id": "fc9bde13-6fc8-48fb-b029-b4c9e8f888d6",
   "metadata": {
    "tags": []
   },
   "outputs": [
    {
     "data": {
      "text/plain": [
       "25"
      ]
     },
     "execution_count": 37,
     "metadata": {},
     "output_type": "execute_result"
    }
   ],
   "source": [
    "f(5)"
   ]
  },
  {
   "cell_type": "code",
   "execution_count": 38,
   "id": "7ff7f1c5-3ca2-4233-a892-ed2fe31ad730",
   "metadata": {
    "tags": []
   },
   "outputs": [],
   "source": [
    "l1 = [10,20,30,40,50]"
   ]
  },
  {
   "cell_type": "code",
   "execution_count": 41,
   "id": "6a64e368-97f9-4793-b8c9-53e0a31598e6",
   "metadata": {
    "tags": []
   },
   "outputs": [
    {
     "data": {
      "text/plain": [
       "[100, 400, 900, 1600, 2500]"
      ]
     },
     "execution_count": 41,
     "metadata": {},
     "output_type": "execute_result"
    }
   ],
   "source": [
    "list(map(f,l1))"
   ]
  },
  {
   "cell_type": "code",
   "execution_count": 43,
   "id": "311f1e50-52e1-4d0f-ade3-749a8d891f04",
   "metadata": {
    "tags": []
   },
   "outputs": [
    {
     "data": {
      "text/plain": [
       "[1, 3, 5, 7]"
      ]
     },
     "execution_count": 43,
     "metadata": {},
     "output_type": "execute_result"
    }
   ],
   "source": [
    "f = lambda x : x%2\n",
    "\n",
    "l2 = [1,2,3,4,5,6,7,8]\n",
    "list(filter(f,l2))"
   ]
  },
  {
   "cell_type": "markdown",
   "id": "e695739f-7bc9-4a97-8a51-47ac7d20776d",
   "metadata": {},
   "source": [
    "# List Comprehension "
   ]
  },
  {
   "cell_type": "code",
   "execution_count": 44,
   "id": "496c1990-2747-4cb0-847f-3e03dcde1616",
   "metadata": {
    "tags": []
   },
   "outputs": [],
   "source": [
    "l1 = [1,2,3,4,5,6]\n",
    "result = [] # blank python list\n",
    "\n",
    "# Write a for loop and which squares every element in l1, and stores the output in result\n",
    "# result = [1,4,9,16,25,36]\n",
    "for i in l1:\n",
    "    result.append(i**2)"
   ]
  },
  {
   "cell_type": "code",
   "execution_count": 45,
   "id": "d08933e8-adbe-4d62-8900-2d02136bae33",
   "metadata": {
    "tags": []
   },
   "outputs": [
    {
     "name": "stdout",
     "output_type": "stream",
     "text": [
      "[1, 4, 9, 16, 25, 36]\n"
     ]
    }
   ],
   "source": [
    "print(result)"
   ]
  },
  {
   "cell_type": "markdown",
   "id": "6bddc963-ed42-4a85-9d37-71d7533f657a",
   "metadata": {},
   "source": [
    "List Comprehension:\n",
    "```python\n",
    "[expression for val in sequence if expression]\n",
    "```"
   ]
  },
  {
   "cell_type": "code",
   "execution_count": 46,
   "id": "fb58d77a-f28e-4d63-9b52-724cfbfbf704",
   "metadata": {
    "tags": []
   },
   "outputs": [
    {
     "name": "stdout",
     "output_type": "stream",
     "text": [
      "[1, 4, 9, 16, 25, 36]\n"
     ]
    }
   ],
   "source": [
    "l1 = [1,2,3,4,5,6]\n",
    "result = [i**2 for i in l1]\n",
    "print(result)"
   ]
  },
  {
   "cell_type": "code",
   "execution_count": 48,
   "id": "dcf57ec8-cde0-4917-9589-bc677a519763",
   "metadata": {
    "tags": []
   },
   "outputs": [],
   "source": [
    "f = lambda x : x**2"
   ]
  },
  {
   "cell_type": "code",
   "execution_count": 49,
   "id": "e92dd459-7ead-458c-a3dc-b92c51ead03b",
   "metadata": {
    "tags": []
   },
   "outputs": [
    {
     "name": "stdout",
     "output_type": "stream",
     "text": [
      "[4, 16, 36]\n"
     ]
    }
   ],
   "source": [
    "l1 = [1,2,3,4,5,6]\n",
    "result = [f(i) for i in l1 if i%2==0]\n",
    "print(result)"
   ]
  },
  {
   "cell_type": "markdown",
   "id": "67381bd5-2e8e-4bdb-92f4-9635d2e54061",
   "metadata": {},
   "source": [
    "# In Class Assignments:\n",
    "- Create a program that can get 10 inputs from the user, store the incoming value in a python list, and print the sum\n",
    "- Print the Largest Number\n",
    "- Print the Smallest Number"
   ]
  },
  {
   "cell_type": "code",
   "execution_count": null,
   "id": "2ce251c9-a5e5-4268-b040-8d6447a132ea",
   "metadata": {},
   "outputs": [],
   "source": [
    "# Class -\n",
    "# Blueprint of a home\n",
    "# Object - Realized blueprint (home)"
   ]
  }
 ],
 "metadata": {
  "kernelspec": {
   "display_name": "Python 3 (ipykernel)",
   "language": "python",
   "name": "python3"
  },
  "language_info": {
   "codemirror_mode": {
    "name": "ipython",
    "version": 3
   },
   "file_extension": ".py",
   "mimetype": "text/x-python",
   "name": "python",
   "nbconvert_exporter": "python",
   "pygments_lexer": "ipython3",
   "version": "3.11.3"
  }
 },
 "nbformat": 4,
 "nbformat_minor": 5
}
