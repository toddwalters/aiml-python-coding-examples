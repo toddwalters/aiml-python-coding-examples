{
 "cells": [
  {
   "cell_type": "markdown",
   "id": "61db36b8-dc30-4ce8-8203-8a7435138b78",
   "metadata": {},
   "source": [
    "# Agenda\n",
    "- Data Structures - List, Tuples, Dict, Sets\n",
    "- Conditional Statementes - if - else\n",
    "- Control Statements - for,while\n",
    "- String Formatting\n",
    "- Functions in Python\n",
    "- List comprehension\n",
    "- Introduction to OOPs"
   ]
  },
  {
   "cell_type": "markdown",
   "id": "f99b8de1-722d-4cbe-98ae-7856e42e1313",
   "metadata": {},
   "source": [
    "# List"
   ]
  },
  {
   "cell_type": "markdown",
   "id": "3dd88035-5795-4719-8f69-d233ceca0eb5",
   "metadata": {},
   "source": [
    "- it can hold multiple values (any data type)\n",
    "- values are separate by comma\n",
    "- entire collection is enclosed within square brackets\n",
    "- modified\n",
    "\n",
    "Operations:\n",
    "- Indexing - getting the element based on its position\n",
    "- Slicing - getting the collection of elements based on the position\n",
    "- Concatenation \n",
    "- Membership testing\n",
    "- len()\n"
   ]
  },
  {
   "cell_type": "code",
   "execution_count": 1,
   "id": "90f7347b-2248-400d-a270-11b4eab19324",
   "metadata": {
    "tags": []
   },
   "outputs": [
    {
     "data": {
      "text/plain": [
       "list"
      ]
     },
     "execution_count": 1,
     "metadata": {},
     "output_type": "execute_result"
    }
   ],
   "source": [
    "l1 = [10,\"hello\",25.5, 21,\"world\"]\n",
    "type(l1)"
   ]
  },
  {
   "cell_type": "code",
   "execution_count": 2,
   "id": "f704bc4a-61af-4d20-81d4-e8ac70cdd370",
   "metadata": {
    "tags": []
   },
   "outputs": [
    {
     "name": "stdout",
     "output_type": "stream",
     "text": [
      "<class 'list'>\n"
     ]
    }
   ],
   "source": [
    "print(type(l1))"
   ]
  },
  {
   "cell_type": "code",
   "execution_count": 3,
   "id": "c238fd92-37fb-4698-8eb1-4f14a9bc2ea0",
   "metadata": {
    "tags": []
   },
   "outputs": [
    {
     "data": {
      "text/plain": [
       "10"
      ]
     },
     "execution_count": 3,
     "metadata": {},
     "output_type": "execute_result"
    }
   ],
   "source": [
    "l1[0]"
   ]
  },
  {
   "cell_type": "code",
   "execution_count": 4,
   "id": "68423dda-5069-4aef-9bf0-96ce92484900",
   "metadata": {
    "tags": []
   },
   "outputs": [
    {
     "data": {
      "text/plain": [
       "21"
      ]
     },
     "execution_count": 4,
     "metadata": {},
     "output_type": "execute_result"
    }
   ],
   "source": [
    "l1[3]"
   ]
  },
  {
   "cell_type": "code",
   "execution_count": 5,
   "id": "3adfd629-fd2d-403d-a8df-0ec01ef4c9d4",
   "metadata": {
    "tags": []
   },
   "outputs": [
    {
     "data": {
      "text/plain": [
       "'hello'"
      ]
     },
     "execution_count": 5,
     "metadata": {},
     "output_type": "execute_result"
    }
   ],
   "source": [
    "l1[1]"
   ]
  },
  {
   "cell_type": "code",
   "execution_count": 6,
   "id": "5ef54784-fcc3-4ad4-8624-3fd800121382",
   "metadata": {
    "tags": []
   },
   "outputs": [
    {
     "data": {
      "text/plain": [
       "[10, 'hello', 25.5, 21, 'world']"
      ]
     },
     "execution_count": 6,
     "metadata": {},
     "output_type": "execute_result"
    }
   ],
   "source": [
    "l1"
   ]
  },
  {
   "cell_type": "code",
   "execution_count": 7,
   "id": "a6695849-67c1-4516-96be-d23f65093265",
   "metadata": {
    "tags": []
   },
   "outputs": [
    {
     "data": {
      "text/plain": [
       "[99, 'hello', 25.5, 21, 'world']"
      ]
     },
     "execution_count": 7,
     "metadata": {},
     "output_type": "execute_result"
    }
   ],
   "source": [
    "l1[0] = 99\n",
    "l1"
   ]
  },
  {
   "cell_type": "code",
   "execution_count": 8,
   "id": "39c50846-25fa-4d02-ad62-8a6fcf46158d",
   "metadata": {
    "tags": []
   },
   "outputs": [
    {
     "data": {
      "text/plain": [
       "[99, 'hello', 25.5]"
      ]
     },
     "execution_count": 8,
     "metadata": {},
     "output_type": "execute_result"
    }
   ],
   "source": [
    "l1[0:3] # start : end"
   ]
  },
  {
   "cell_type": "code",
   "execution_count": 10,
   "id": "099f8a29-55cf-4a4f-ad13-194aade647c7",
   "metadata": {
    "tags": []
   },
   "outputs": [
    {
     "data": {
      "text/plain": [
       "[25.5, 21]"
      ]
     },
     "execution_count": 10,
     "metadata": {},
     "output_type": "execute_result"
    }
   ],
   "source": [
    "l1[2:4]"
   ]
  },
  {
   "cell_type": "code",
   "execution_count": 11,
   "id": "8158af3f-4ab5-4716-93b6-0b42c9eb1b79",
   "metadata": {
    "tags": []
   },
   "outputs": [
    {
     "data": {
      "text/plain": [
       "5"
      ]
     },
     "execution_count": 11,
     "metadata": {},
     "output_type": "execute_result"
    }
   ],
   "source": [
    "len(l1) # len function"
   ]
  },
  {
   "cell_type": "code",
   "execution_count": 12,
   "id": "b4848952-05c4-491a-9bba-275c52559b7f",
   "metadata": {
    "tags": []
   },
   "outputs": [
    {
     "data": {
      "text/plain": [
       "[25.5, 21, 'world']"
      ]
     },
     "execution_count": 12,
     "metadata": {},
     "output_type": "execute_result"
    }
   ],
   "source": [
    "l1[2:5] # start: length of the sequence"
   ]
  },
  {
   "cell_type": "code",
   "execution_count": 13,
   "id": "7407180c-a971-4d98-9045-ce8ac97240aa",
   "metadata": {
    "tags": []
   },
   "outputs": [
    {
     "data": {
      "text/plain": [
       "[25.5, 21, 'world']"
      ]
     },
     "execution_count": 13,
     "metadata": {},
     "output_type": "execute_result"
    }
   ],
   "source": [
    "l1[2:] #start:  (default it will take till the end of the sequence)"
   ]
  },
  {
   "cell_type": "code",
   "execution_count": 14,
   "id": "1ec37e97-abfe-4781-91af-b363fbf42c33",
   "metadata": {
    "tags": []
   },
   "outputs": [
    {
     "data": {
      "text/plain": [
       "[99, 'hello', 25.5, 21]"
      ]
     },
     "execution_count": 14,
     "metadata": {},
     "output_type": "execute_result"
    }
   ],
   "source": [
    "l1[:4] # default = 0 l1[0:4]"
   ]
  },
  {
   "cell_type": "code",
   "execution_count": 15,
   "id": "fdea44d2-ec01-45f9-a772-a0d43447f5de",
   "metadata": {
    "tags": []
   },
   "outputs": [
    {
     "data": {
      "text/plain": [
       "[99, 'hello', 25.5, 21, 'world']"
      ]
     },
     "execution_count": 15,
     "metadata": {},
     "output_type": "execute_result"
    }
   ],
   "source": [
    "l1"
   ]
  },
  {
   "cell_type": "code",
   "execution_count": 16,
   "id": "9d97279b-5e76-4bf9-9c5a-4c8cdad7cdb1",
   "metadata": {
    "tags": []
   },
   "outputs": [],
   "source": [
    "l2 = [20,30,40]"
   ]
  },
  {
   "cell_type": "code",
   "execution_count": 17,
   "id": "fea08222-c62c-4c12-9172-81de854c096b",
   "metadata": {
    "tags": []
   },
   "outputs": [
    {
     "data": {
      "text/plain": [
       "[99, 'hello', 25.5, 21, 'world', 20, 30, 40]"
      ]
     },
     "execution_count": 17,
     "metadata": {},
     "output_type": "execute_result"
    }
   ],
   "source": [
    "l1 + l2"
   ]
  },
  {
   "cell_type": "code",
   "execution_count": 18,
   "id": "4d3287fe-fcf6-4770-8095-4542a694742c",
   "metadata": {
    "tags": []
   },
   "outputs": [
    {
     "data": {
      "text/plain": [
       "[99, 'hello', 25.5, 21, 'world']"
      ]
     },
     "execution_count": 18,
     "metadata": {},
     "output_type": "execute_result"
    }
   ],
   "source": [
    "l1"
   ]
  },
  {
   "cell_type": "code",
   "execution_count": 19,
   "id": "d5d96629-ae13-4eef-b099-d2b1dfaae8c1",
   "metadata": {
    "tags": []
   },
   "outputs": [
    {
     "data": {
      "text/plain": [
       "[20, 30, 40]"
      ]
     },
     "execution_count": 19,
     "metadata": {},
     "output_type": "execute_result"
    }
   ],
   "source": [
    "l2"
   ]
  },
  {
   "cell_type": "code",
   "execution_count": 20,
   "id": "58788eaf-64dd-4338-90be-9cad6b20d081",
   "metadata": {
    "tags": []
   },
   "outputs": [
    {
     "data": {
      "text/plain": [
       "True"
      ]
     },
     "execution_count": 20,
     "metadata": {},
     "output_type": "execute_result"
    }
   ],
   "source": [
    "99 in l1"
   ]
  },
  {
   "cell_type": "code",
   "execution_count": 21,
   "id": "cd89e09f-dbc5-4338-806d-98a34d99c599",
   "metadata": {
    "tags": []
   },
   "outputs": [
    {
     "data": {
      "text/plain": [
       "True"
      ]
     },
     "execution_count": 21,
     "metadata": {},
     "output_type": "execute_result"
    }
   ],
   "source": [
    "100 not in l1"
   ]
  },
  {
   "cell_type": "markdown",
   "id": "50b15a55-1aa4-4533-8e85-99c9916b8baf",
   "metadata": {},
   "source": [
    "## Built-in functions"
   ]
  },
  {
   "cell_type": "code",
   "execution_count": 22,
   "id": "642dd7a6-94af-49e3-85c8-097e0a094ee9",
   "metadata": {
    "tags": []
   },
   "outputs": [],
   "source": [
    "l1.append('python')"
   ]
  },
  {
   "cell_type": "code",
   "execution_count": 23,
   "id": "89869a9d-8072-4043-9afa-f26a34d1d1bb",
   "metadata": {
    "tags": []
   },
   "outputs": [
    {
     "data": {
      "text/plain": [
       "[99, 'hello', 25.5, 21, 'world', 'python']"
      ]
     },
     "execution_count": 23,
     "metadata": {},
     "output_type": "execute_result"
    }
   ],
   "source": [
    "l1"
   ]
  },
  {
   "cell_type": "code",
   "execution_count": 24,
   "id": "ca80f4d1-3326-4979-9c7e-b44e660df607",
   "metadata": {
    "tags": []
   },
   "outputs": [],
   "source": [
    "l1.remove(21)"
   ]
  },
  {
   "cell_type": "code",
   "execution_count": 25,
   "id": "8862b055-02f1-42d0-9550-2fdac19a1b21",
   "metadata": {
    "tags": []
   },
   "outputs": [
    {
     "data": {
      "text/plain": [
       "[99, 'hello', 25.5, 'world', 'python']"
      ]
     },
     "execution_count": 25,
     "metadata": {},
     "output_type": "execute_result"
    }
   ],
   "source": [
    "l1"
   ]
  },
  {
   "cell_type": "code",
   "execution_count": null,
   "id": "15e7306f-1c51-4304-a9c3-51116f93f79a",
   "metadata": {},
   "outputs": [],
   "source": [
    "# l1.<tab> - completion\n",
    "# l1.append(shift+tab) --> documentation"
   ]
  },
  {
   "cell_type": "markdown",
   "id": "70f68341-93d7-49e8-a2d9-8c1994791f9d",
   "metadata": {},
   "source": [
    "# Tuples\n",
    "\n",
    "- can hold the values of various data type\n",
    "- enclosed within parenthesis\n",
    "- values are immutable\n",
    "\n",
    "Operations of Sequences will work by default"
   ]
  },
  {
   "cell_type": "code",
   "execution_count": 26,
   "id": "168c1c95-8266-43d9-ade9-d021e78db40c",
   "metadata": {
    "tags": []
   },
   "outputs": [
    {
     "data": {
      "text/plain": [
       "tuple"
      ]
     },
     "execution_count": 26,
     "metadata": {},
     "output_type": "execute_result"
    }
   ],
   "source": [
    "tup = (10,20,30,40,\"hello\")\n",
    "type(tup)"
   ]
  },
  {
   "cell_type": "code",
   "execution_count": 27,
   "id": "93c25ed9-e5e3-49a7-8ffd-dc6505b03dda",
   "metadata": {
    "tags": []
   },
   "outputs": [
    {
     "data": {
      "text/plain": [
       "40"
      ]
     },
     "execution_count": 27,
     "metadata": {},
     "output_type": "execute_result"
    }
   ],
   "source": [
    "# indexing\n",
    "tup[3]"
   ]
  },
  {
   "cell_type": "code",
   "execution_count": 28,
   "id": "eebb4225-2398-4b14-b417-199010ffeb5c",
   "metadata": {
    "tags": []
   },
   "outputs": [
    {
     "data": {
      "text/plain": [
       "(10, 20, 30)"
      ]
     },
     "execution_count": 28,
     "metadata": {},
     "output_type": "execute_result"
    }
   ],
   "source": [
    "#slicing\n",
    "tup[0:3]"
   ]
  },
  {
   "cell_type": "code",
   "execution_count": 29,
   "id": "5b71953f-d430-4478-a2dc-5e438d274df0",
   "metadata": {
    "tags": []
   },
   "outputs": [
    {
     "data": {
      "text/plain": [
       "(10, 20, 30, 40, 'hello', 10, 20, 30)"
      ]
     },
     "execution_count": 29,
     "metadata": {},
     "output_type": "execute_result"
    }
   ],
   "source": [
    "#concatenation\n",
    "tup2 = (10,20,30)\n",
    "tup + tup2"
   ]
  },
  {
   "cell_type": "code",
   "execution_count": 30,
   "id": "cf71ab12-81db-4483-85a0-a096ec611416",
   "metadata": {
    "tags": []
   },
   "outputs": [
    {
     "data": {
      "text/plain": [
       "True"
      ]
     },
     "execution_count": 30,
     "metadata": {},
     "output_type": "execute_result"
    }
   ],
   "source": [
    "# membership testing\n",
    "10 in tup"
   ]
  },
  {
   "cell_type": "code",
   "execution_count": 31,
   "id": "a8133b41-149f-4d07-96bc-e0cd6bd32d89",
   "metadata": {
    "tags": []
   },
   "outputs": [
    {
     "data": {
      "text/plain": [
       "(10, 20, 30, 40, 'hello')"
      ]
     },
     "execution_count": 31,
     "metadata": {},
     "output_type": "execute_result"
    }
   ],
   "source": [
    "tup"
   ]
  },
  {
   "cell_type": "code",
   "execution_count": 32,
   "id": "97d9a037-267f-4f94-9c48-3b3c94b33948",
   "metadata": {
    "tags": []
   },
   "outputs": [
    {
     "ename": "TypeError",
     "evalue": "'tuple' object does not support item assignment",
     "output_type": "error",
     "traceback": [
      "\u001b[0;31m---------------------------------------------------------------------------\u001b[0m",
      "\u001b[0;31mTypeError\u001b[0m                                 Traceback (most recent call last)",
      "Cell \u001b[0;32mIn[32], line 1\u001b[0m\n\u001b[0;32m----> 1\u001b[0m tup[\u001b[38;5;241m2\u001b[39m] \u001b[38;5;241m=\u001b[39m \u001b[38;5;124m\"\u001b[39m\u001b[38;5;124mpython\u001b[39m\u001b[38;5;124m\"\u001b[39m\n",
      "\u001b[0;31mTypeError\u001b[0m: 'tuple' object does not support item assignment"
     ]
    }
   ],
   "source": [
    "tup[2] = \"python\""
   ]
  },
  {
   "cell_type": "code",
   "execution_count": 33,
   "id": "ef6cf4fa-0d3d-49c8-8782-abeca99140c8",
   "metadata": {
    "tags": []
   },
   "outputs": [],
   "source": [
    "# Tuples are faster than list"
   ]
  },
  {
   "cell_type": "markdown",
   "id": "b73a5c07-1387-4e1d-9429-5788df7563c8",
   "metadata": {},
   "source": [
    "# Dictionary\n",
    "- contains the key:value pair\n",
    "- each pair is seprated by comma\n",
    "- collection is enclosed within curly braces"
   ]
  },
  {
   "cell_type": "code",
   "execution_count": 34,
   "id": "cb2abf5c-a532-4479-b661-c65780dc74b2",
   "metadata": {
    "tags": []
   },
   "outputs": [
    {
     "data": {
      "text/plain": [
       "dict"
      ]
     },
     "execution_count": 34,
     "metadata": {},
     "output_type": "execute_result"
    }
   ],
   "source": [
    "d1 = {\"name\": \"jack\",\n",
    "     \"age\":42,\n",
    "     \"occupation\":\"army\"}\n",
    "type(d1)"
   ]
  },
  {
   "cell_type": "code",
   "execution_count": 35,
   "id": "3a4219fc-fb7b-4da0-95ef-f058f825be4d",
   "metadata": {
    "tags": []
   },
   "outputs": [
    {
     "data": {
      "text/plain": [
       "42"
      ]
     },
     "execution_count": 35,
     "metadata": {},
     "output_type": "execute_result"
    }
   ],
   "source": [
    "d1['age']"
   ]
  },
  {
   "cell_type": "code",
   "execution_count": 36,
   "id": "eaee3159-ce83-4671-b59c-2e82e2a2dbea",
   "metadata": {
    "tags": []
   },
   "outputs": [
    {
     "data": {
      "text/plain": [
       "'jack'"
      ]
     },
     "execution_count": 36,
     "metadata": {},
     "output_type": "execute_result"
    }
   ],
   "source": [
    "d1['name']"
   ]
  },
  {
   "cell_type": "code",
   "execution_count": 39,
   "id": "305fa495-4bd9-4efb-9c79-03612af38a5e",
   "metadata": {
    "tags": []
   },
   "outputs": [],
   "source": [
    "d1['last_name'] = \"Reacher\""
   ]
  },
  {
   "cell_type": "code",
   "execution_count": 40,
   "id": "b72b17be-7fba-4aa4-9fca-9f6b5d783a88",
   "metadata": {
    "tags": []
   },
   "outputs": [
    {
     "data": {
      "text/plain": [
       "{'name': 'jack', 'age': 42, 'occupation': 'army', 'last_name': 'Reacher'}"
      ]
     },
     "execution_count": 40,
     "metadata": {},
     "output_type": "execute_result"
    }
   ],
   "source": [
    "d1"
   ]
  },
  {
   "cell_type": "code",
   "execution_count": 41,
   "id": "7475c4e1-b6f9-4376-a791-e0a37ef6d7a5",
   "metadata": {
    "tags": []
   },
   "outputs": [],
   "source": [
    "d1['age'] = 50"
   ]
  },
  {
   "cell_type": "code",
   "execution_count": 42,
   "id": "455caea5-15e7-4d79-8019-53a88fa391eb",
   "metadata": {
    "tags": []
   },
   "outputs": [
    {
     "data": {
      "text/plain": [
       "{'name': 'jack', 'age': 50, 'occupation': 'army', 'last_name': 'Reacher'}"
      ]
     },
     "execution_count": 42,
     "metadata": {},
     "output_type": "execute_result"
    }
   ],
   "source": [
    "d1"
   ]
  },
  {
   "cell_type": "code",
   "execution_count": 43,
   "id": "73edeb0b-f81c-42e6-81f1-7ff98f187d42",
   "metadata": {
    "tags": []
   },
   "outputs": [
    {
     "data": {
      "text/plain": [
       "dict"
      ]
     },
     "execution_count": 43,
     "metadata": {},
     "output_type": "execute_result"
    }
   ],
   "source": [
    "d1 = {\"name\": \"jack\",\n",
    "     \"age\":42,\n",
    "     \"occupation\":\"army\",\n",
    "     'name':'reacher'}\n",
    "type(d1)"
   ]
  },
  {
   "cell_type": "code",
   "execution_count": 44,
   "id": "3380767a-adce-46be-9d24-cea9856294a0",
   "metadata": {
    "tags": []
   },
   "outputs": [
    {
     "data": {
      "text/plain": [
       "{'name': 'reacher', 'age': 42, 'occupation': 'army'}"
      ]
     },
     "execution_count": 44,
     "metadata": {},
     "output_type": "execute_result"
    }
   ],
   "source": [
    "d1"
   ]
  },
  {
   "cell_type": "code",
   "execution_count": 45,
   "id": "6d02de06-c9bf-4d93-ae42-5ab17ff5667a",
   "metadata": {
    "tags": []
   },
   "outputs": [
    {
     "data": {
      "text/plain": [
       "dict_keys(['name', 'age', 'occupation'])"
      ]
     },
     "execution_count": 45,
     "metadata": {},
     "output_type": "execute_result"
    }
   ],
   "source": [
    "# Built-in functions\n",
    "d1.keys()"
   ]
  },
  {
   "cell_type": "code",
   "execution_count": 47,
   "id": "6cc2a989-d293-4bd3-8af6-3557816b6e00",
   "metadata": {
    "tags": []
   },
   "outputs": [
    {
     "data": {
      "text/plain": [
       "dict_values(['reacher', 42, 'army'])"
      ]
     },
     "execution_count": 47,
     "metadata": {},
     "output_type": "execute_result"
    }
   ],
   "source": [
    "d1.values() # values"
   ]
  },
  {
   "cell_type": "code",
   "execution_count": 48,
   "id": "3bc917ff-88fe-4174-a7b6-35e56656a432",
   "metadata": {
    "tags": []
   },
   "outputs": [
    {
     "data": {
      "text/plain": [
       "dict_items([('name', 'reacher'), ('age', 42), ('occupation', 'army')])"
      ]
     },
     "execution_count": 48,
     "metadata": {},
     "output_type": "execute_result"
    }
   ],
   "source": [
    "d1.items() # return key-pair as tuples"
   ]
  },
  {
   "cell_type": "code",
   "execution_count": 50,
   "id": "47c0b821-191b-4ab9-a800-5f9285586944",
   "metadata": {
    "tags": []
   },
   "outputs": [
    {
     "data": {
      "text/plain": [
       "'reacher'"
      ]
     },
     "execution_count": 50,
     "metadata": {},
     "output_type": "execute_result"
    }
   ],
   "source": [
    "d1.pop('name')"
   ]
  },
  {
   "cell_type": "code",
   "execution_count": 51,
   "id": "d7bd94bf-0ba4-49ec-82db-1a3b869df3fc",
   "metadata": {
    "tags": []
   },
   "outputs": [
    {
     "data": {
      "text/plain": [
       "{'age': 42, 'occupation': 'army'}"
      ]
     },
     "execution_count": 51,
     "metadata": {},
     "output_type": "execute_result"
    }
   ],
   "source": [
    "d1"
   ]
  },
  {
   "cell_type": "markdown",
   "id": "67aa9501-d729-4825-b2c0-022bfc5b280d",
   "metadata": {},
   "source": [
    "# Sets\n",
    "- values are enclosed in curly braces\n",
    "- can contain only unique values\n",
    "- unordered"
   ]
  },
  {
   "cell_type": "code",
   "execution_count": 53,
   "id": "dae7d7c2-47b8-410e-900e-8c301d2e29bb",
   "metadata": {
    "tags": []
   },
   "outputs": [
    {
     "data": {
      "text/plain": [
       "{10, 20, 30, 'hello', 'jack', 'world'}"
      ]
     },
     "execution_count": 53,
     "metadata": {},
     "output_type": "execute_result"
    }
   ],
   "source": [
    "s1 = {10,20,30,10,20,\"hello\",\"world\",20,30,\"jack\"}\n",
    "s1"
   ]
  },
  {
   "cell_type": "code",
   "execution_count": 54,
   "id": "9a2220c6-d6b7-45da-b978-09d905bf3062",
   "metadata": {
    "tags": []
   },
   "outputs": [
    {
     "data": {
      "text/plain": [
       "True"
      ]
     },
     "execution_count": 54,
     "metadata": {},
     "output_type": "execute_result"
    }
   ],
   "source": [
    "# membership testing\n",
    "10 in s1"
   ]
  },
  {
   "cell_type": "code",
   "execution_count": 55,
   "id": "686c9f40-70fe-49be-8680-57b79bfd00af",
   "metadata": {
    "tags": []
   },
   "outputs": [
    {
     "ename": "TypeError",
     "evalue": "'set' object is not subscriptable",
     "output_type": "error",
     "traceback": [
      "\u001b[0;31m---------------------------------------------------------------------------\u001b[0m",
      "\u001b[0;31mTypeError\u001b[0m                                 Traceback (most recent call last)",
      "Cell \u001b[0;32mIn[55], line 1\u001b[0m\n\u001b[0;32m----> 1\u001b[0m s1[\u001b[38;5;241m0\u001b[39m]\n",
      "\u001b[0;31mTypeError\u001b[0m: 'set' object is not subscriptable"
     ]
    }
   ],
   "source": [
    "s1[0]"
   ]
  },
  {
   "cell_type": "code",
   "execution_count": 56,
   "id": "3e6af887-1805-4959-bcee-ceb723ecdaf0",
   "metadata": {
    "tags": []
   },
   "outputs": [],
   "source": [
    "s1.remove(10)"
   ]
  },
  {
   "cell_type": "code",
   "execution_count": 57,
   "id": "f476951a-2135-4990-86f7-3bf97924e6a3",
   "metadata": {
    "tags": []
   },
   "outputs": [
    {
     "data": {
      "text/plain": [
       "{20, 30, 'hello', 'jack', 'world'}"
      ]
     },
     "execution_count": 57,
     "metadata": {},
     "output_type": "execute_result"
    }
   ],
   "source": [
    "s1"
   ]
  },
  {
   "cell_type": "markdown",
   "id": "b606d46e-85ad-4fb8-9b10-0a08d955e6c0",
   "metadata": {},
   "source": [
    "# Assignment In Class\n",
    "\n",
    "## Tuple Basics:\n",
    "\n",
    "- Create a tuple named my_tuple containing five elements of your choice.\n",
    "- Print the third element of my_tuple.\n",
    "- Attempt to change the value of the third element of my_tuple to a new value and observe the error.\n",
    "\n",
    "## Tuple Operations:\n",
    "\n",
    "- Create two tuples, tuple1 and tuple2, each containing at least three elements.\n",
    "- Concatenate tuple1 and tuple2 and store the result in a new tuple named concatenated_tuple.\n",
    "- Print concatenated_tuple.\n",
    "\n",
    "\n",
    "## Dictionary Basics:\n",
    "\n",
    "- Create a dictionary named my_dict with the following key-value pairs:\n",
    "\"name\": Your name\n",
    "\"age\": Your age\n",
    "\"city\": Your city\n",
    "- Print my_dict.\n",
    "\n",
    "\n",
    "## Dictionary Operations:\n",
    "\n",
    "- Add a new key-value pair to my_dict: \"country\" with the value of your country.\n",
    "- Print my_dict.\n",
    "- Update the value of the \"city\" key to a new city.\n",
    "- Print my_dict.\n",
    "- Remove the \"country\" key from my_dict.\n",
    "- Print my_dict."
   ]
  },
  {
   "cell_type": "code",
   "execution_count": 58,
   "id": "a6e4d548-771a-4367-a932-fafdfd65b7d4",
   "metadata": {
    "tags": []
   },
   "outputs": [],
   "source": [
    "# Solution\n"
   ]
  },
  {
   "cell_type": "markdown",
   "id": "0e00663e-b9ad-4455-9006-4ed3d837ef60",
   "metadata": {},
   "source": [
    "# Conditional Statements in Python"
   ]
  },
  {
   "cell_type": "code",
   "execution_count": 59,
   "id": "f4a01523-8808-4f32-8c29-38030291def1",
   "metadata": {
    "tags": []
   },
   "outputs": [
    {
     "name": "stdout",
     "output_type": "stream",
     "text": [
      "hello\n",
      "good morning\n",
      "hello\n",
      "good morning\n"
     ]
    }
   ],
   "source": [
    "print(\"hello\")\n",
    "print(\"good morning\")\n",
    "print(\"hello\")\n",
    "print(\"good morning\")"
   ]
  },
  {
   "cell_type": "markdown",
   "id": "2129c3ea-0259-4ab9-9bd9-49685cd5802c",
   "metadata": {},
   "source": [
    "## Syntax of if condition statement\n",
    "\n",
    "```python\n",
    "\n",
    "if (expression):\n",
    "    statement(s)\n",
    "\n",
    "else :\n",
    "    statement(s)\n",
    "    \n",
    "```"
   ]
  },
  {
   "cell_type": "code",
   "execution_count": 61,
   "id": "692958da-42fd-4cce-8f7c-ccf1cdf8cddd",
   "metadata": {
    "tags": []
   },
   "outputs": [
    {
     "name": "stdout",
     "output_type": "stream",
     "text": [
      "x is 100 y is  20\n",
      "x is greater than y\n",
      "if block has been executed\n",
      "cell execution completed\n"
     ]
    }
   ],
   "source": [
    "x = 100\n",
    "y = 20\n",
    "print(\"x is\",x,\"y is \",y)\n",
    "if x>y:\n",
    "    print(\"x is greater than y\")\n",
    "    print(\"if block has been executed\")\n",
    "\n",
    "else :\n",
    "    print(\"x is less than y\")\n",
    "    print(\"else block has been executed\")\n",
    "print(\"cell execution completed\")"
   ]
  },
  {
   "cell_type": "code",
   "execution_count": 62,
   "id": "210fca7a-03fa-4368-a31d-8fecee163d2b",
   "metadata": {
    "tags": []
   },
   "outputs": [
    {
     "name": "stdout",
     "output_type": "stream",
     "text": [
      "x is 100 y is  100\n",
      "x is equal to y\n",
      "elif block has been executed\n",
      "cell execution completed\n"
     ]
    }
   ],
   "source": [
    "x = 100\n",
    "y = 100\n",
    "print(\"x is\",x,\"y is \",y)\n",
    "if x>y:\n",
    "    print(\"x is greater than y\")\n",
    "    print(\"if block has been executed\")\n",
    "\n",
    "elif x==y:\n",
    "    print(\"x is equal to y\")\n",
    "    print(\"elif block has been executed\")\n",
    "    \n",
    "else :\n",
    "    print(\"x is less than y\")\n",
    "    print(\"else block has been executed\")\n",
    "print(\"cell execution completed\")"
   ]
  },
  {
   "cell_type": "markdown",
   "id": "040a540c-d8be-4f07-8f24-10b63462ae04",
   "metadata": {},
   "source": [
    "# Control Statements\n",
    "\n",
    "- For\n",
    "- While"
   ]
  },
  {
   "cell_type": "markdown",
   "id": "f8d76884-77d0-40e9-8841-524e0ee1c58f",
   "metadata": {
    "tags": []
   },
   "source": [
    "## For Statement\n",
    "\n",
    "```python\n",
    "\n",
    "for value in sequence:\n",
    "    statement(s)\n",
    "```"
   ]
  },
  {
   "cell_type": "code",
   "execution_count": 66,
   "id": "56e80e99-3c12-4607-b2c2-add9ac484470",
   "metadata": {
    "tags": []
   },
   "outputs": [
    {
     "data": {
      "text/plain": [
       "5"
      ]
     },
     "execution_count": 66,
     "metadata": {},
     "output_type": "execute_result"
    }
   ],
   "source": [
    "l1 = [10,20,30,40,50]\n",
    "len(l1)"
   ]
  },
  {
   "cell_type": "code",
   "execution_count": 67,
   "id": "4afa5fe0-523a-4839-93fe-57aa31528e16",
   "metadata": {
    "tags": []
   },
   "outputs": [
    {
     "name": "stdout",
     "output_type": "stream",
     "text": [
      "hello\n",
      "world\n",
      "hello\n",
      "world\n",
      "hello\n",
      "world\n",
      "hello\n",
      "world\n",
      "hello\n",
      "world\n",
      "execution completed\n"
     ]
    }
   ],
   "source": [
    "for v in l1:\n",
    "    print(\"hello\")\n",
    "    print(\"world\")\n",
    "print(\"execution completed\")"
   ]
  },
  {
   "cell_type": "code",
   "execution_count": 68,
   "id": "28a0cd94-88a7-47e6-8166-6b96706f55a3",
   "metadata": {
    "tags": []
   },
   "outputs": [
    {
     "name": "stdout",
     "output_type": "stream",
     "text": [
      "10\n",
      "hello\n",
      "world\n",
      "20\n",
      "hello\n",
      "world\n",
      "30\n",
      "hello\n",
      "world\n",
      "40\n",
      "hello\n",
      "world\n",
      "50\n",
      "hello\n",
      "world\n",
      "execution completed\n"
     ]
    }
   ],
   "source": [
    "for v in l1:\n",
    "    print(v)\n",
    "    print(\"hello\")\n",
    "    print(\"world\")\n",
    "print(\"execution completed\")"
   ]
  },
  {
   "cell_type": "markdown",
   "id": "7f8ae62c-cb22-416d-8070-e647451c0c86",
   "metadata": {},
   "source": [
    "## Control statements\n",
    "- break : Stop the the execution of the loop, and the execution proceeds in the previous block\n",
    "\n",
    "- continue : stop the current loop, and proceeds with next iteration"
   ]
  },
  {
   "cell_type": "code",
   "execution_count": 69,
   "id": "7f3baf0c-3ac0-4e1e-8624-cea0d59e3023",
   "metadata": {
    "tags": []
   },
   "outputs": [
    {
     "data": {
      "text/plain": [
       "5"
      ]
     },
     "execution_count": 69,
     "metadata": {},
     "output_type": "execute_result"
    }
   ],
   "source": [
    "l1 = [10,20,30,40,50]\n",
    "len(l1)"
   ]
  },
  {
   "cell_type": "code",
   "execution_count": 70,
   "id": "1d621dd4-c774-420e-9e61-c9737218f27a",
   "metadata": {
    "tags": []
   },
   "outputs": [
    {
     "name": "stdout",
     "output_type": "stream",
     "text": [
      "10\n",
      "20\n",
      "execution completed\n"
     ]
    }
   ],
   "source": [
    "for v in l1:\n",
    "    if v == 30:\n",
    "        break\n",
    "    print(v)\n",
    "print(\"execution completed\")"
   ]
  },
  {
   "cell_type": "code",
   "execution_count": 71,
   "id": "c83d6cf0-5f5a-4573-b98b-c524a91f9c91",
   "metadata": {
    "tags": []
   },
   "outputs": [
    {
     "name": "stdout",
     "output_type": "stream",
     "text": [
      "10\n",
      "20\n",
      "40\n",
      "50\n",
      "execution completed\n"
     ]
    }
   ],
   "source": [
    "for v in l1:\n",
    "    if v == 30:\n",
    "        continue\n",
    "    print(v)\n",
    "print(\"execution completed\")"
   ]
  },
  {
   "cell_type": "code",
   "execution_count": 72,
   "id": "f1ad8314-ad16-4eaf-914e-9ae27d979a31",
   "metadata": {
    "tags": []
   },
   "outputs": [
    {
     "name": "stdout",
     "output_type": "stream",
     "text": [
      "10\n",
      "20\n",
      "40\n",
      "50\n",
      "execution completed\n"
     ]
    }
   ],
   "source": [
    "for sam in l1:\n",
    "    if sam == 30:\n",
    "        continue\n",
    "    print(sam)\n",
    "print(\"execution completed\")"
   ]
  },
  {
   "cell_type": "markdown",
   "id": "67e42b0a-8a11-4f61-8d8e-8464faf7fc6b",
   "metadata": {},
   "source": [
    "# While Loops\n",
    "\n",
    "Syntax:\n",
    "```python\n",
    "\n",
    "while (expression):\n",
    "    statement(s)\n",
    "```"
   ]
  },
  {
   "cell_type": "code",
   "execution_count": 74,
   "id": "ddfd71a3-70a8-4081-8935-c937c9f7406e",
   "metadata": {
    "tags": []
   },
   "outputs": [
    {
     "name": "stdout",
     "output_type": "stream",
     "text": [
      "Execution completed from while block\n",
      "10\n",
      "Execution completed from while block\n",
      "11\n",
      "Execution completed from while block\n",
      "12\n",
      "Execution completed from while block\n",
      "13\n",
      "Execution completed from while block\n",
      "14\n",
      "Execution completed from while block\n",
      "15\n",
      "Execution completed from while block\n",
      "16\n",
      "Execution completed from while block\n",
      "17\n",
      "Execution completed from while block\n",
      "18\n",
      "Execution completed from while block\n",
      "19\n",
      "execution completed\n"
     ]
    }
   ],
   "source": [
    "x = 10\n",
    "\n",
    "while (x<20):\n",
    "    print(\"Execution completed from while block\")\n",
    "    print(x)\n",
    "    x += 1\n",
    "print(\"execution completed\")"
   ]
  },
  {
   "cell_type": "markdown",
   "id": "e9a1543f-985f-4474-a7dc-96dfd7c9e29c",
   "metadata": {},
   "source": [
    "# In Class assignment :\n",
    "- Write a while loop that prints all even numbers between two values that you get from user \n",
    "(hint : x%2 == 0)\n",
    "- Write a while loop that counts down from 10 to 1 and prints each number."
   ]
  },
  {
   "cell_type": "code",
   "execution_count": 75,
   "id": "14efdecf-c981-4343-b201-7566da943f0f",
   "metadata": {
    "tags": []
   },
   "outputs": [
    {
     "name": "stdin",
     "output_type": "stream",
     "text": [
      "Enter the starting value:  10\n",
      "Enter the ending value:  20\n"
     ]
    },
    {
     "name": "stdout",
     "output_type": "stream",
     "text": [
      "10\n",
      "12\n",
      "14\n",
      "16\n",
      "18\n",
      "20\n"
     ]
    }
   ],
   "source": [
    "start = int(input(\"Enter the starting value: \"))\n",
    "end = int(input(\"Enter the ending value: \"))\n",
    "\n",
    "if start % 2 != 0:\n",
    "    start += 1\n",
    "current_number = start\n",
    "while current_number <= end:\n",
    "    print(current_number)\n",
    "    current_number += 2"
   ]
  },
  {
   "cell_type": "code",
   "execution_count": 76,
   "id": "47d21f08-9da0-422a-931b-9e8ee9516229",
   "metadata": {
    "tags": []
   },
   "outputs": [
    {
     "name": "stdout",
     "output_type": "stream",
     "text": [
      "10\n",
      "9\n",
      "8\n",
      "7\n",
      "6\n",
      "5\n",
      "4\n",
      "3\n",
      "2\n",
      "1\n"
     ]
    }
   ],
   "source": [
    "count = 10\n",
    "while count > 0:\n",
    "    print(count)\n",
    "    count -= 1"
   ]
  },
  {
   "cell_type": "markdown",
   "id": "4949efb7-5843-47c2-bfb1-e75a47718eca",
   "metadata": {},
   "source": [
    "# Range"
   ]
  },
  {
   "cell_type": "code",
   "execution_count": 77,
   "id": "75ea961f-ae79-41f4-bce0-943f6a402fe6",
   "metadata": {
    "tags": []
   },
   "outputs": [
    {
     "data": {
      "text/plain": [
       "range(0, 5)"
      ]
     },
     "execution_count": 77,
     "metadata": {},
     "output_type": "execute_result"
    }
   ],
   "source": [
    "range(5)"
   ]
  },
  {
   "cell_type": "code",
   "execution_count": 78,
   "id": "6663dacd-508b-46d4-967a-c33dbe702b9a",
   "metadata": {
    "tags": []
   },
   "outputs": [
    {
     "data": {
      "text/plain": [
       "[0, 1, 2, 3, 4]"
      ]
     },
     "execution_count": 78,
     "metadata": {},
     "output_type": "execute_result"
    }
   ],
   "source": [
    "list(range(5))"
   ]
  },
  {
   "cell_type": "code",
   "execution_count": 79,
   "id": "d91d12b2-10a2-4910-8172-7de431996f19",
   "metadata": {
    "tags": []
   },
   "outputs": [
    {
     "data": {
      "text/plain": [
       "range(2, 10)"
      ]
     },
     "execution_count": 79,
     "metadata": {},
     "output_type": "execute_result"
    }
   ],
   "source": [
    "range(2,10)"
   ]
  },
  {
   "cell_type": "code",
   "execution_count": 80,
   "id": "0b51058c-b6ae-47ee-b509-c07bb9343401",
   "metadata": {
    "tags": []
   },
   "outputs": [
    {
     "data": {
      "text/plain": [
       "[2, 3, 4, 5, 6, 7, 8, 9]"
      ]
     },
     "execution_count": 80,
     "metadata": {},
     "output_type": "execute_result"
    }
   ],
   "source": [
    "list(range(2,10))"
   ]
  },
  {
   "cell_type": "code",
   "execution_count": 81,
   "id": "c847c73b-3023-406e-bf6a-c1330881ebdc",
   "metadata": {
    "tags": []
   },
   "outputs": [
    {
     "name": "stdout",
     "output_type": "stream",
     "text": [
      "2\n",
      "3\n",
      "4\n",
      "5\n",
      "6\n",
      "7\n",
      "8\n",
      "9\n"
     ]
    }
   ],
   "source": [
    "for i in range(2,10):\n",
    "    print(i)"
   ]
  },
  {
   "cell_type": "code",
   "execution_count": 82,
   "id": "fe36e4b8-c918-4d98-93d1-c0a237c2005a",
   "metadata": {
    "tags": []
   },
   "outputs": [
    {
     "name": "stdin",
     "output_type": "stream",
     "text": [
      "Enter the starting value:  10\n",
      "Enter the ending value:  20\n"
     ]
    },
    {
     "name": "stdout",
     "output_type": "stream",
     "text": [
      "10\n",
      "12\n",
      "14\n",
      "16\n",
      "18\n",
      "20\n"
     ]
    }
   ],
   "source": [
    "start = int(input(\"Enter the starting value: \"))\n",
    "end = int(input(\"Enter the ending value: \"))\n",
    "\n",
    "for v in range(start, end+1):\n",
    "    if v%2 == 0:\n",
    "        print(v)"
   ]
  },
  {
   "cell_type": "markdown",
   "id": "6791b5dd-718d-4487-bcd2-e098a115a26a",
   "metadata": {},
   "source": [
    "# String Formatting"
   ]
  },
  {
   "cell_type": "markdown",
   "id": "ab814eb2-1a84-45aa-a311-840fffd38db1",
   "metadata": {},
   "source": [
    "Johnny, Johnny\n",
    "Yes, Papa\n",
    "Eating sugar?\n",
    "No, Papa\n",
    "Telling lies?\n",
    "No, Papa\n",
    "Open your mouth\n",
    "Ha! Ha! Ha!"
   ]
  },
  {
   "cell_type": "code",
   "execution_count": 83,
   "id": "3f49cb63-c6f4-4bfa-902a-276df159d9b3",
   "metadata": {
    "tags": []
   },
   "outputs": [
    {
     "name": "stdout",
     "output_type": "stream",
     "text": [
      "Jack Jack Yes, Sam Eating sugar? No, Sam\n"
     ]
    }
   ],
   "source": [
    "x = \"Jack\"\n",
    "y = \"Sam\"\n",
    "print(x,x,\"Yes,\",y,\"Eating sugar?\",\"No,\",y)"
   ]
  },
  {
   "cell_type": "code",
   "execution_count": 84,
   "id": "f36cc7e7-29bd-401a-972f-9cae9126ffc9",
   "metadata": {
    "tags": []
   },
   "outputs": [
    {
     "name": "stdout",
     "output_type": "stream",
     "text": [
      "Jack,Jack yes Sam, eating sugar?, No, Sam \n"
     ]
    }
   ],
   "source": [
    "result = \"{},{} yes {}, eating sugar?, No, {} \".format(x,x,y,y)\n",
    "print(result)"
   ]
  },
  {
   "cell_type": "code",
   "execution_count": 85,
   "id": "9208f441-cfa3-4e30-8968-b3d437f8e6ea",
   "metadata": {
    "tags": []
   },
   "outputs": [
    {
     "name": "stdout",
     "output_type": "stream",
     "text": [
      "Jack,Jack yes Sam, eating sugar?, No, Sam \n"
     ]
    }
   ],
   "source": [
    "result = \"{a},{a} yes {b}, eating sugar?, No, {b} \".format(a=x,b=y)\n",
    "print(result)"
   ]
  },
  {
   "cell_type": "code",
   "execution_count": 87,
   "id": "d00df967-9e2a-4101-95b5-3d54d12c2076",
   "metadata": {
    "tags": []
   },
   "outputs": [
    {
     "name": "stdout",
     "output_type": "stream",
     "text": [
      "john,john yes jill, eating sugar?, No, jill\n"
     ]
    }
   ],
   "source": [
    "# f-string\n",
    "x = \"john\"\n",
    "y = \"jill\"\n",
    "result = f\"{x},{x} yes {y}, eating sugar?, No, {y}\"\n",
    "print(result)"
   ]
  },
  {
   "cell_type": "markdown",
   "id": "3cd01917-0d0d-43ca-a691-adeea79fd55a",
   "metadata": {},
   "source": [
    "### In Class assignment\n",
    "\n",
    "- Write a Python program that defines two variables: name (your name) and age (your age).\n",
    "- Use an f-string to print a message in the format: \"My name is [name] and I am [age] years old.\""
   ]
  },
  {
   "cell_type": "code",
   "execution_count": null,
   "id": "dfc038b9-d676-4d2b-a60f-7bcf0e57cd73",
   "metadata": {},
   "outputs": [],
   "source": []
  },
  {
   "cell_type": "code",
   "execution_count": null,
   "id": "d2568db0-d008-4a6c-8126-bcadf55e7a5f",
   "metadata": {},
   "outputs": [],
   "source": []
  },
  {
   "cell_type": "code",
   "execution_count": null,
   "id": "809ea2eb-2a7a-4ef6-9c66-1f5890b2f0d4",
   "metadata": {},
   "outputs": [],
   "source": []
  }
 ],
 "metadata": {
  "kernelspec": {
   "display_name": "Python 3 (ipykernel)",
   "language": "python",
   "name": "python3"
  },
  "language_info": {
   "codemirror_mode": {
    "name": "ipython",
    "version": 3
   },
   "file_extension": ".py",
   "mimetype": "text/x-python",
   "name": "python",
   "nbconvert_exporter": "python",
   "pygments_lexer": "ipython3",
   "version": "3.11.3"
  }
 },
 "nbformat": 4,
 "nbformat_minor": 5
}
