{
 "cells": [
  {
   "cell_type": "code",
   "execution_count": 1,
   "id": "68c37fa1-29b3-43de-a8f0-3f0df8b0a687",
   "metadata": {
    "tags": []
   },
   "outputs": [],
   "source": [
    "import module_example"
   ]
  },
  {
   "cell_type": "code",
   "execution_count": 2,
   "id": "57703451-fb68-40cd-8bdc-818b30839b53",
   "metadata": {
    "tags": []
   },
   "outputs": [
    {
     "ename": "ModuleNotFoundError",
     "evalue": "No module named 'training_pipeline'",
     "output_type": "error",
     "traceback": [
      "\u001b[0;31m---------------------------------------------------------------------------\u001b[0m",
      "\u001b[0;31mModuleNotFoundError\u001b[0m                       Traceback (most recent call last)",
      "Cell \u001b[0;32mIn[2], line 1\u001b[0m\n\u001b[0;32m----> 1\u001b[0m \u001b[38;5;28;01mimport\u001b[39;00m \u001b[38;5;21;01mtraining_pipeline\u001b[39;00m\n",
      "\u001b[0;31mModuleNotFoundError\u001b[0m: No module named 'training_pipeline'"
     ]
    }
   ],
   "source": [
    "import training_pipeline"
   ]
  },
  {
   "cell_type": "markdown",
   "id": "08d78573-a40f-4633-acbf-cd04b1b5c466",
   "metadata": {},
   "source": [
    "# Module Search Path"
   ]
  },
  {
   "cell_type": "code",
   "execution_count": 3,
   "id": "5cf6f563-b0c3-47a5-af38-83c8d7acda0e",
   "metadata": {
    "tags": []
   },
   "outputs": [
    {
     "data": {
      "text/plain": [
       "['/Users/nachiketh/Desktop/nachiketh-live-sessions/simplilearn-class/Core-Python',\n",
       " '/Users/nachiketh/anaconda3/lib/python311.zip',\n",
       " '/Users/nachiketh/anaconda3/lib/python3.11',\n",
       " '/Users/nachiketh/anaconda3/lib/python3.11/lib-dynload',\n",
       " '',\n",
       " '/Users/nachiketh/anaconda3/lib/python3.11/site-packages',\n",
       " '/Users/nachiketh/anaconda3/lib/python3.11/site-packages/aeosa']"
      ]
     },
     "execution_count": 3,
     "metadata": {},
     "output_type": "execute_result"
    }
   ],
   "source": [
    "import sys\n",
    "sys.path"
   ]
  },
  {
   "cell_type": "code",
   "execution_count": 5,
   "id": "6dd3f959-1ccf-469b-b1d0-8b7ac658a986",
   "metadata": {
    "tags": []
   },
   "outputs": [],
   "source": [
    "sys.path.insert(0,\"/Users/nachiketh/Desktop/author-repo/prediction_model/prediction_model/\")"
   ]
  },
  {
   "cell_type": "code",
   "execution_count": 6,
   "id": "af9aa207-fdd1-484c-b6f3-58f0f3d205be",
   "metadata": {
    "tags": []
   },
   "outputs": [
    {
     "data": {
      "text/plain": [
       "['/Users/nachiketh/Desktop/author-repo/prediction_model/prediction_model/',\n",
       " '/Users/nachiketh/Desktop/nachiketh-live-sessions/simplilearn-class/Core-Python',\n",
       " '/Users/nachiketh/anaconda3/lib/python311.zip',\n",
       " '/Users/nachiketh/anaconda3/lib/python3.11',\n",
       " '/Users/nachiketh/anaconda3/lib/python3.11/lib-dynload',\n",
       " '',\n",
       " '/Users/nachiketh/anaconda3/lib/python3.11/site-packages',\n",
       " '/Users/nachiketh/anaconda3/lib/python3.11/site-packages/aeosa']"
      ]
     },
     "execution_count": 6,
     "metadata": {},
     "output_type": "execute_result"
    }
   ],
   "source": [
    "sys.path"
   ]
  },
  {
   "cell_type": "code",
   "execution_count": 7,
   "id": "9e4e53b2-f58b-4a27-8e3c-25dfc704db85",
   "metadata": {
    "tags": []
   },
   "outputs": [
    {
     "ename": "ModuleNotFoundError",
     "evalue": "No module named 'prediction_model'",
     "output_type": "error",
     "traceback": [
      "\u001b[0;31m---------------------------------------------------------------------------\u001b[0m",
      "\u001b[0;31mModuleNotFoundError\u001b[0m                       Traceback (most recent call last)",
      "Cell \u001b[0;32mIn[7], line 1\u001b[0m\n\u001b[0;32m----> 1\u001b[0m \u001b[38;5;28;01mimport\u001b[39;00m \u001b[38;5;21;01mtraining_pipeline\u001b[39;00m\n",
      "File \u001b[0;32m~/Desktop/author-repo/prediction_model/prediction_model/training_pipeline.py:3\u001b[0m\n\u001b[1;32m      1\u001b[0m \u001b[38;5;28;01mimport\u001b[39;00m \u001b[38;5;21;01mpandas\u001b[39;00m \u001b[38;5;28;01mas\u001b[39;00m \u001b[38;5;21;01mpd\u001b[39;00m\n\u001b[1;32m      2\u001b[0m \u001b[38;5;28;01mimport\u001b[39;00m \u001b[38;5;21;01mnumpy\u001b[39;00m \u001b[38;5;28;01mas\u001b[39;00m \u001b[38;5;21;01mnp\u001b[39;00m \n\u001b[0;32m----> 3\u001b[0m \u001b[38;5;28;01mfrom\u001b[39;00m \u001b[38;5;21;01mprediction_model\u001b[39;00m\u001b[38;5;21;01m.\u001b[39;00m\u001b[38;5;21;01mconfig\u001b[39;00m \u001b[38;5;28;01mimport\u001b[39;00m config  \n\u001b[1;32m      4\u001b[0m \u001b[38;5;28;01mfrom\u001b[39;00m \u001b[38;5;21;01mprediction_model\u001b[39;00m\u001b[38;5;21;01m.\u001b[39;00m\u001b[38;5;21;01mprocessing\u001b[39;00m\u001b[38;5;21;01m.\u001b[39;00m\u001b[38;5;21;01mdata_handling\u001b[39;00m \u001b[38;5;28;01mimport\u001b[39;00m load_dataset,save_pipeline\n\u001b[1;32m      5\u001b[0m \u001b[38;5;28;01mimport\u001b[39;00m \u001b[38;5;21;01mprediction_model\u001b[39;00m\u001b[38;5;21;01m.\u001b[39;00m\u001b[38;5;21;01mprocessing\u001b[39;00m\u001b[38;5;21;01m.\u001b[39;00m\u001b[38;5;21;01mpreprocessing\u001b[39;00m \u001b[38;5;28;01mas\u001b[39;00m \u001b[38;5;21;01mpp\u001b[39;00m \n",
      "\u001b[0;31mModuleNotFoundError\u001b[0m: No module named 'prediction_model'"
     ]
    }
   ],
   "source": [
    "import training_pipeline"
   ]
  },
  {
   "cell_type": "markdown",
   "id": "e71a8f58-c2f6-44ce-bf56-78c1dc22d6f0",
   "metadata": {},
   "source": [
    "# Package\n",
    "- Collection of modules"
   ]
  },
  {
   "cell_type": "code",
   "execution_count": 9,
   "id": "dc52b8ed-0e8e-4621-80b7-e8be25c335c9",
   "metadata": {
    "tags": []
   },
   "outputs": [],
   "source": [
    "import packageA"
   ]
  },
  {
   "cell_type": "code",
   "execution_count": 10,
   "id": "35c41fc3-9a9d-437a-a37c-1c9882f3f74a",
   "metadata": {
    "tags": []
   },
   "outputs": [],
   "source": [
    "from packageA import module_example"
   ]
  },
  {
   "cell_type": "code",
   "execution_count": null,
   "id": "d23bacbc-e219-4115-9959-ffa70e9b867f",
   "metadata": {},
   "outputs": [],
   "source": [
    "# arrays"
   ]
  }
 ],
 "metadata": {
  "kernelspec": {
   "display_name": "Python 3 (ipykernel)",
   "language": "python",
   "name": "python3"
  },
  "language_info": {
   "codemirror_mode": {
    "name": "ipython",
    "version": 3
   },
   "file_extension": ".py",
   "mimetype": "text/x-python",
   "name": "python",
   "nbconvert_exporter": "python",
   "pygments_lexer": "ipython3",
   "version": "3.11.3"
  }
 },
 "nbformat": 4,
 "nbformat_minor": 5
}
