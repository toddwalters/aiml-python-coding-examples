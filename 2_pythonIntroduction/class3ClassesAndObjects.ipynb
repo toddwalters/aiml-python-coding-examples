{
 "cells": [
  {
   "cell_type": "markdown",
   "id": "d2543f31-eaa0-4750-8408-7ea6bb398ef8",
   "metadata": {},
   "source": [
    "# Classes\n",
    "\n",
    "## Create Classes in python\n",
    "\n",
    "1. to define class we create with `class` keyword\n",
    "2. Variables inside a class is called `attribute`. To access an attribute, we call as - `object_name.attribute`\n",
    "3. Functions defined inside a class is called as `methods`\n",
    "4. class methods must have `self` as its first parameter (`self` is general name we use, but you are free to use any name)\n",
    "5. By using `self` in the method, we pass object itself as a first paramter\n",
    "6. So, when i call - `object.method()` , this will be converted to `class.method(object)`"
   ]
  },
  {
   "cell_type": "code",
   "execution_count": 2,
   "id": "7a6bb3f3-ed9e-4198-b389-d026b126ce2f",
   "metadata": {
    "tags": []
   },
   "outputs": [],
   "source": [
    "class example():\n",
    "    def fun(self):\n",
    "        pass # null statement"
   ]
  },
  {
   "cell_type": "code",
   "execution_count": 3,
   "id": "85aeebc0-4547-4e88-839d-3e39f114d34c",
   "metadata": {
    "tags": []
   },
   "outputs": [
    {
     "name": "stdout",
     "output_type": "stream",
     "text": [
      "<__main__.example object at 0x10aa72dd0>\n"
     ]
    }
   ],
   "source": [
    "# object_name = class_name()\n",
    "\n",
    "obj1 = example()\n",
    "print(obj1)"
   ]
  },
  {
   "cell_type": "code",
   "execution_count": 4,
   "id": "12b8522e-bc1a-4e53-94e1-6378f2a78b33",
   "metadata": {
    "tags": []
   },
   "outputs": [
    {
     "name": "stdout",
     "output_type": "stream",
     "text": [
      "<class '__main__.example'>\n"
     ]
    }
   ],
   "source": [
    "print(example)"
   ]
  },
  {
   "cell_type": "code",
   "execution_count": 5,
   "id": "08ff4e11-b36a-4106-a3c0-6ff875a344b6",
   "metadata": {
    "tags": []
   },
   "outputs": [],
   "source": [
    "obj1.fun() # call the method inside a class"
   ]
  },
  {
   "cell_type": "code",
   "execution_count": 6,
   "id": "b1e483f5-0ad3-4e65-835c-47043682ede0",
   "metadata": {
    "tags": []
   },
   "outputs": [
    {
     "name": "stdout",
     "output_type": "stream",
     "text": [
      "<__main__.example object at 0x10adb8710>\n"
     ]
    }
   ],
   "source": [
    "obj2 = example()\n",
    "print(obj2)"
   ]
  },
  {
   "cell_type": "markdown",
   "id": "b09e3dbe-5170-46d9-b111-d4918531a105",
   "metadata": {},
   "source": [
    "## Attributes\n",
    "\n",
    "Variables inside a class or object"
   ]
  },
  {
   "cell_type": "code",
   "execution_count": 8,
   "id": "dbf31a83-0fc5-46da-9b8d-b0fde2210cf5",
   "metadata": {
    "tags": []
   },
   "outputs": [],
   "source": [
    "class example():\n",
    "    def fun(self):\n",
    "        pass # null statement\n",
    "    \n",
    "obj1 = example()"
   ]
  },
  {
   "cell_type": "code",
   "execution_count": 9,
   "id": "5b1f7f8b-49fd-43d2-bb9e-4afb5fc4dfbf",
   "metadata": {
    "tags": []
   },
   "outputs": [],
   "source": [
    "obj1.name = \"john\" # assign the value for the object\n",
    "obj1.age = 45"
   ]
  },
  {
   "cell_type": "code",
   "execution_count": 10,
   "id": "5b827d70-d794-485c-b708-ee9580cf5608",
   "metadata": {
    "tags": []
   },
   "outputs": [
    {
     "data": {
      "text/plain": [
       "('john', 45)"
      ]
     },
     "execution_count": 10,
     "metadata": {},
     "output_type": "execute_result"
    }
   ],
   "source": [
    "obj1.name, obj1.age"
   ]
  },
  {
   "cell_type": "code",
   "execution_count": 11,
   "id": "53759bd6-6143-499e-ae81-93c6f5f02922",
   "metadata": {
    "tags": []
   },
   "outputs": [],
   "source": [
    "obj2 = example()"
   ]
  },
  {
   "cell_type": "code",
   "execution_count": 12,
   "id": "938abcd8-6901-4083-af23-6d1e9a6086ff",
   "metadata": {
    "tags": []
   },
   "outputs": [
    {
     "ename": "AttributeError",
     "evalue": "'example' object has no attribute 'name'",
     "output_type": "error",
     "traceback": [
      "\u001b[0;31m---------------------------------------------------------------------------\u001b[0m",
      "\u001b[0;31mAttributeError\u001b[0m                            Traceback (most recent call last)",
      "Cell \u001b[0;32mIn[12], line 1\u001b[0m\n\u001b[0;32m----> 1\u001b[0m obj2\u001b[38;5;241m.\u001b[39mname\n",
      "\u001b[0;31mAttributeError\u001b[0m: 'example' object has no attribute 'name'"
     ]
    }
   ],
   "source": [
    "obj2.name"
   ]
  },
  {
   "cell_type": "code",
   "execution_count": 13,
   "id": "0795baa4-b3c4-4c0a-84f0-438620615377",
   "metadata": {
    "tags": []
   },
   "outputs": [],
   "source": [
    "example.name = \"Johnny\""
   ]
  },
  {
   "cell_type": "code",
   "execution_count": 14,
   "id": "8835d151-db15-4d24-a296-cd0a63eb385f",
   "metadata": {
    "tags": []
   },
   "outputs": [
    {
     "data": {
      "text/plain": [
       "'Johnny'"
      ]
     },
     "execution_count": 14,
     "metadata": {},
     "output_type": "execute_result"
    }
   ],
   "source": [
    "example.name"
   ]
  },
  {
   "cell_type": "code",
   "execution_count": 15,
   "id": "1bc0955d-2858-4c0c-bd48-dadec5200239",
   "metadata": {
    "tags": []
   },
   "outputs": [],
   "source": [
    "obj3 = example()"
   ]
  },
  {
   "cell_type": "code",
   "execution_count": 16,
   "id": "2bbc48af-c918-4d72-93c8-522d2e6a7818",
   "metadata": {
    "tags": []
   },
   "outputs": [
    {
     "data": {
      "text/plain": [
       "'Johnny'"
      ]
     },
     "execution_count": 16,
     "metadata": {},
     "output_type": "execute_result"
    }
   ],
   "source": [
    "obj3.name"
   ]
  },
  {
   "cell_type": "code",
   "execution_count": 18,
   "id": "15d641ef-59ed-4ff8-852f-5625fb7dc853",
   "metadata": {
    "tags": []
   },
   "outputs": [
    {
     "data": {
      "text/plain": [
       "'Johnny'"
      ]
     },
     "execution_count": 18,
     "metadata": {},
     "output_type": "execute_result"
    }
   ],
   "source": [
    "obj2.name"
   ]
  },
  {
   "cell_type": "code",
   "execution_count": 19,
   "id": "aa3add09-19c1-4b59-9ab9-e80aee04f655",
   "metadata": {
    "tags": []
   },
   "outputs": [
    {
     "data": {
      "text/plain": [
       "'john'"
      ]
     },
     "execution_count": 19,
     "metadata": {},
     "output_type": "execute_result"
    }
   ],
   "source": [
    "obj1.name"
   ]
  },
  {
   "cell_type": "code",
   "execution_count": 20,
   "id": "53fc3cdb-37c8-4740-bea7-3faa56386e31",
   "metadata": {
    "tags": []
   },
   "outputs": [],
   "source": [
    "class example():\n",
    "    def fun(self):\n",
    "        return \"hello\""
   ]
  },
  {
   "cell_type": "code",
   "execution_count": 21,
   "id": "55cc4aec-6e7b-4fce-8fe0-75dce543ab70",
   "metadata": {
    "tags": []
   },
   "outputs": [],
   "source": [
    "obj1 = example()"
   ]
  },
  {
   "cell_type": "code",
   "execution_count": 22,
   "id": "e59ba619-45c0-4ee4-b321-23b73123fad0",
   "metadata": {
    "tags": []
   },
   "outputs": [
    {
     "data": {
      "text/plain": [
       "'hello'"
      ]
     },
     "execution_count": 22,
     "metadata": {},
     "output_type": "execute_result"
    }
   ],
   "source": [
    "obj1.fun()"
   ]
  },
  {
   "cell_type": "code",
   "execution_count": 23,
   "id": "444a963e-91f6-4b08-910d-57c934d48d2d",
   "metadata": {
    "tags": []
   },
   "outputs": [
    {
     "data": {
      "text/plain": [
       "'hello'"
      ]
     },
     "execution_count": 23,
     "metadata": {},
     "output_type": "execute_result"
    }
   ],
   "source": [
    "example.fun(obj1)"
   ]
  },
  {
   "cell_type": "markdown",
   "id": "eb47b772-8daa-48f9-8861-40b1af85b107",
   "metadata": {},
   "source": [
    "## Initialization"
   ]
  },
  {
   "cell_type": "code",
   "execution_count": 24,
   "id": "b7e41ef6-ad62-4db2-aaa1-b97aa15a70e7",
   "metadata": {
    "tags": []
   },
   "outputs": [],
   "source": [
    "class example():\n",
    "    def __init__(self, name):\n",
    "        self.n1 = name"
   ]
  },
  {
   "cell_type": "code",
   "execution_count": 25,
   "id": "4e3243c8-d92a-40d7-8410-be15cad1786d",
   "metadata": {
    "tags": []
   },
   "outputs": [
    {
     "ename": "TypeError",
     "evalue": "example.__init__() missing 1 required positional argument: 'name'",
     "output_type": "error",
     "traceback": [
      "\u001b[0;31m---------------------------------------------------------------------------\u001b[0m",
      "\u001b[0;31mTypeError\u001b[0m                                 Traceback (most recent call last)",
      "Cell \u001b[0;32mIn[25], line 1\u001b[0m\n\u001b[0;32m----> 1\u001b[0m obj1 \u001b[38;5;241m=\u001b[39m example()\n",
      "\u001b[0;31mTypeError\u001b[0m: example.__init__() missing 1 required positional argument: 'name'"
     ]
    }
   ],
   "source": [
    "obj1 = example() # error"
   ]
  },
  {
   "cell_type": "code",
   "execution_count": 27,
   "id": "a18f75fa-ae35-4d86-83f0-42cda7c77fe0",
   "metadata": {
    "tags": []
   },
   "outputs": [],
   "source": [
    "obj1 = example(name='jacob')"
   ]
  },
  {
   "cell_type": "code",
   "execution_count": 28,
   "id": "ebf0f667-a637-456e-9070-92d8ec50d6e9",
   "metadata": {
    "tags": []
   },
   "outputs": [
    {
     "data": {
      "text/plain": [
       "'jacob'"
      ]
     },
     "execution_count": 28,
     "metadata": {},
     "output_type": "execute_result"
    }
   ],
   "source": [
    "obj1.n1"
   ]
  },
  {
   "cell_type": "code",
   "execution_count": 29,
   "id": "3695eb69-7fab-4562-be62-7cf06bc2797b",
   "metadata": {
    "tags": []
   },
   "outputs": [],
   "source": [
    "class example():\n",
    "    def __init__(self, name):\n",
    "        self.name = name"
   ]
  },
  {
   "cell_type": "code",
   "execution_count": 30,
   "id": "b3e496d5-18f3-48a5-b169-7bd3d8265432",
   "metadata": {
    "tags": []
   },
   "outputs": [],
   "source": [
    "obj1 = example(name='jacob')"
   ]
  },
  {
   "cell_type": "code",
   "execution_count": 31,
   "id": "64c485f4-cfef-455f-8cdb-44a42a743a7a",
   "metadata": {
    "tags": []
   },
   "outputs": [
    {
     "data": {
      "text/plain": [
       "'jacob'"
      ]
     },
     "execution_count": 31,
     "metadata": {},
     "output_type": "execute_result"
    }
   ],
   "source": [
    "obj1.name"
   ]
  },
  {
   "cell_type": "code",
   "execution_count": 32,
   "id": "f7fe9ead-873b-46ae-8a9f-f532a86b83b7",
   "metadata": {
    "tags": []
   },
   "outputs": [],
   "source": [
    "obj1.name = \"lakshman\""
   ]
  },
  {
   "cell_type": "code",
   "execution_count": null,
   "id": "7958bd3d-ee59-4a91-bc9b-5acdb2295ae1",
   "metadata": {},
   "outputs": [],
   "source": [
    "# Write a class that takes two inputs - Name and favorite ice cream\n",
    "# Write a method which displays the same\n",
    "\n",
    "# Try out by creating 2 objects"
   ]
  },
  {
   "cell_type": "code",
   "execution_count": 35,
   "id": "a3238535-0b3f-43d9-a2dc-66357fed7bb7",
   "metadata": {
    "tags": []
   },
   "outputs": [],
   "source": [
    "class Person():\n",
    "    def __init__(self, name, fav_icecream):\n",
    "        self.name = name\n",
    "        self.fav_icecream = fav_icecream\n",
    "    \n",
    "    def print_preference(self):\n",
    "        print(f\"{self.name} -- {self.fav_icecream}\")"
   ]
  },
  {
   "cell_type": "code",
   "execution_count": 36,
   "id": "dd39eb12-002c-4030-9eed-69385de3dc16",
   "metadata": {
    "tags": []
   },
   "outputs": [],
   "source": [
    "p1 = Person(\"Jacob\",\"Pista\")\n",
    "p2 = Person(\"Sara\",\"Vanilla\")"
   ]
  },
  {
   "cell_type": "code",
   "execution_count": 37,
   "id": "e9341367-4d8f-464f-9b72-0a84a403ad03",
   "metadata": {
    "tags": []
   },
   "outputs": [
    {
     "name": "stdout",
     "output_type": "stream",
     "text": [
      "Jacob -- Pista\n"
     ]
    }
   ],
   "source": [
    "p1.print_preference()"
   ]
  },
  {
   "cell_type": "code",
   "execution_count": 38,
   "id": "637301ff-9392-4dcb-afa6-3b1f66585a13",
   "metadata": {
    "tags": []
   },
   "outputs": [
    {
     "name": "stdout",
     "output_type": "stream",
     "text": [
      "Sara -- Vanilla\n"
     ]
    }
   ],
   "source": [
    "p2.print_preference()"
   ]
  },
  {
   "cell_type": "markdown",
   "id": "f31d382c-6ed5-4871-8243-11b20f631394",
   "metadata": {},
   "source": [
    "## Inheritence"
   ]
  },
  {
   "cell_type": "code",
   "execution_count": 39,
   "id": "04c76b32-49a3-4a83-8d51-d5068f25b316",
   "metadata": {
    "tags": []
   },
   "outputs": [],
   "source": [
    "# syntax\n",
    "\n",
    "class Car():\n",
    "    pass\n",
    "\n",
    "class SUV(Car):\n",
    "    pass"
   ]
  },
  {
   "cell_type": "markdown",
   "id": "e3e88bc4-58a9-47cd-be7f-ef1dd05e4ea0",
   "metadata": {},
   "source": [
    "## Inherit from parent"
   ]
  },
  {
   "cell_type": "code",
   "execution_count": 40,
   "id": "42a30794-823f-4d9f-bda7-3bbfbe34250e",
   "metadata": {
    "tags": []
   },
   "outputs": [],
   "source": [
    "# syntax\n",
    "\n",
    "class Car():\n",
    "    def wheels(self):\n",
    "        print(\"I am FWD car\")\n",
    "\n",
    "class SUV(Car):\n",
    "    pass"
   ]
  },
  {
   "cell_type": "code",
   "execution_count": 41,
   "id": "5b5a2214-bc91-4f98-a57c-510ce456dbe5",
   "metadata": {
    "tags": []
   },
   "outputs": [],
   "source": [
    "c1 = Car()\n",
    "c2 = SUV()"
   ]
  },
  {
   "cell_type": "code",
   "execution_count": 42,
   "id": "ef508401-5cf5-4fee-b1ae-ce116960654a",
   "metadata": {
    "tags": []
   },
   "outputs": [
    {
     "name": "stdout",
     "output_type": "stream",
     "text": [
      "I am FWD car\n"
     ]
    }
   ],
   "source": [
    "c1.wheels()"
   ]
  },
  {
   "cell_type": "code",
   "execution_count": 43,
   "id": "98fe1c05-cdc3-49da-9ea4-f961224a87e5",
   "metadata": {
    "tags": []
   },
   "outputs": [
    {
     "name": "stdout",
     "output_type": "stream",
     "text": [
      "I am FWD car\n"
     ]
    }
   ],
   "source": [
    "c2.wheels()"
   ]
  },
  {
   "cell_type": "markdown",
   "id": "fb678f42-2c66-4181-adf8-c6e100d04c00",
   "metadata": {},
   "source": [
    "## Override a method"
   ]
  },
  {
   "cell_type": "code",
   "execution_count": 44,
   "id": "1ff11b67-5221-463b-bd86-2f7c7bbab072",
   "metadata": {
    "tags": []
   },
   "outputs": [],
   "source": [
    "# syntax\n",
    "\n",
    "class Car():\n",
    "    def wheels(self):\n",
    "        print(\"I am FWD car\")\n",
    "\n",
    "class SUV(Car):\n",
    "    def wheels(self):\n",
    "        print(\"I am 4WD Car\")"
   ]
  },
  {
   "cell_type": "code",
   "execution_count": 45,
   "id": "80ed0f6a-0b4c-460e-ba18-ce7b42fc9ee8",
   "metadata": {
    "tags": []
   },
   "outputs": [],
   "source": [
    "c1 = Car()\n",
    "c2 = SUV()"
   ]
  },
  {
   "cell_type": "code",
   "execution_count": 46,
   "id": "15927dac-1716-4944-bbfd-dc2fd128f46d",
   "metadata": {
    "tags": []
   },
   "outputs": [
    {
     "name": "stdout",
     "output_type": "stream",
     "text": [
      "I am FWD car\n"
     ]
    }
   ],
   "source": [
    "c1.wheels()"
   ]
  },
  {
   "cell_type": "code",
   "execution_count": 47,
   "id": "7e8e6b80-5111-455e-9dd2-b43a98caf611",
   "metadata": {
    "tags": []
   },
   "outputs": [
    {
     "name": "stdout",
     "output_type": "stream",
     "text": [
      "I am 4WD Car\n"
     ]
    }
   ],
   "source": [
    "c2.wheels()"
   ]
  },
  {
   "cell_type": "code",
   "execution_count": 48,
   "id": "95ad1a5d-9a54-47c4-b442-3d3e45f56f79",
   "metadata": {
    "tags": []
   },
   "outputs": [],
   "source": [
    "# syntax\n",
    "\n",
    "class Car():\n",
    "    def __init__(self,name):\n",
    "        self.name = name\n",
    "    \n",
    "    def wheels(self):\n",
    "        print(\"I am FWD car\")\n",
    "\n",
    "class SUV(Car):\n",
    "    def __init__(self,name):\n",
    "        self.name = name\n",
    "    def wheels(self):\n",
    "        print(\"I am 4WD Car\")"
   ]
  },
  {
   "cell_type": "markdown",
   "id": "89d45339-1b5a-444a-a98a-526cbea4224f",
   "metadata": {},
   "source": [
    "## Adding a new method in child class"
   ]
  },
  {
   "cell_type": "code",
   "execution_count": 49,
   "id": "318d0696-4279-40e2-ab53-5ece75956b22",
   "metadata": {
    "tags": []
   },
   "outputs": [],
   "source": [
    "# syntax\n",
    "\n",
    "class Car():\n",
    "    def __init__(self,name):\n",
    "        self.name = name\n",
    "    \n",
    "    def wheels(self):\n",
    "        print(\"I am FWD car\")\n",
    "\n",
    "class SUV(Car):\n",
    "    def __init__(self,name):\n",
    "        self.name = name\n",
    "    def wheels(self):\n",
    "        print(\"I am 4WD Car\")\n",
    "    def seater(self):\n",
    "        print(f\"this {self.name} has 5+ seat\")"
   ]
  },
  {
   "cell_type": "code",
   "execution_count": 50,
   "id": "02d94a79-df77-4c6c-97a7-a2a4375dd221",
   "metadata": {
    "tags": []
   },
   "outputs": [],
   "source": [
    "c1 = Car(\"Normal\")\n",
    "c2 = SUV(\"SUV Car\")"
   ]
  },
  {
   "cell_type": "code",
   "execution_count": 51,
   "id": "5dd65f5b-157f-451b-8a58-e3bccdba76c2",
   "metadata": {
    "tags": []
   },
   "outputs": [
    {
     "ename": "AttributeError",
     "evalue": "'Car' object has no attribute 'seater'",
     "output_type": "error",
     "traceback": [
      "\u001b[0;31m---------------------------------------------------------------------------\u001b[0m",
      "\u001b[0;31mAttributeError\u001b[0m                            Traceback (most recent call last)",
      "Cell \u001b[0;32mIn[51], line 1\u001b[0m\n\u001b[0;32m----> 1\u001b[0m c1\u001b[38;5;241m.\u001b[39mseater()\n",
      "\u001b[0;31mAttributeError\u001b[0m: 'Car' object has no attribute 'seater'"
     ]
    }
   ],
   "source": [
    "c1.seater()"
   ]
  },
  {
   "cell_type": "code",
   "execution_count": 52,
   "id": "6f02b07c-99fd-487b-87a0-41b97f304d11",
   "metadata": {
    "tags": []
   },
   "outputs": [
    {
     "name": "stdout",
     "output_type": "stream",
     "text": [
      "this SUV Car has 5+ seat\n"
     ]
    }
   ],
   "source": [
    "c2.seater()"
   ]
  },
  {
   "cell_type": "markdown",
   "id": "4e003c4e-38b6-435f-87a9-b7591997e19e",
   "metadata": {
    "tags": []
   },
   "source": [
    "### Multiple Inheritence"
   ]
  },
  {
   "cell_type": "code",
   "execution_count": 62,
   "id": "5934396c-a707-4d3d-82db-b1bf226d670c",
   "metadata": {
    "tags": []
   },
   "outputs": [],
   "source": [
    "class Animal():\n",
    "  def says(self):\n",
    "    return \"I can speak\"\n",
    "\n",
    "class Horse(Animal):\n",
    "  def says(self):\n",
    "    return \"Neigh\"\n",
    "\n",
    "class Dog(Animal):\n",
    "    pass\n",
    "  # def says(self):\n",
    "  #   return \"Woof\"\n",
    "\n",
    "class Tiger(Animal):\n",
    "    pass\n",
    "  # def says(self):\n",
    "  #   return \"Roar\"\n",
    "\n",
    "class Donkey(Animal):\n",
    "    pass\n",
    "  # def says(self):\n",
    "  #   return \"Hee-Haw\"\n",
    "\n",
    "class Mule(Donkey, Tiger, Dog):\n",
    "    pass\n",
    "    # def says(self):\n",
    "    #     return \"Mule Mule\""
   ]
  },
  {
   "cell_type": "code",
   "execution_count": 63,
   "id": "7139ec8f-0cf5-4c86-96f8-34a6023e89b9",
   "metadata": {
    "tags": []
   },
   "outputs": [
    {
     "data": {
      "text/plain": [
       "'I can speak'"
      ]
     },
     "execution_count": 63,
     "metadata": {},
     "output_type": "execute_result"
    }
   ],
   "source": [
    "m = Mule()\n",
    "m.says()"
   ]
  },
  {
   "cell_type": "code",
   "execution_count": 55,
   "id": "9158099b-953f-46c6-9d79-2806c0adb83c",
   "metadata": {
    "tags": []
   },
   "outputs": [
    {
     "data": {
      "text/plain": [
       "[__main__.Mule,\n",
       " __main__.Donkey,\n",
       " __main__.Tiger,\n",
       " __main__.Dog,\n",
       " __main__.Animal,\n",
       " object]"
      ]
     },
     "execution_count": 55,
     "metadata": {},
     "output_type": "execute_result"
    }
   ],
   "source": [
    "Mule.mro() # method Resolution order"
   ]
  },
  {
   "cell_type": "markdown",
   "id": "41947db9-a252-41af-832d-74d6eeb41c21",
   "metadata": {
    "tags": []
   },
   "source": [
    "\n",
    "Order of check:\n",
    "\n",
    "1.   Object itself\n",
    "2.   Object's class\n",
    "3.   Class's first parent\n",
    "4.   Class's Second parent\n",
    "5.   Class's Third parent\n",
    "6.   Original Class (Animal)\n",
    "\n"
   ]
  },
  {
   "cell_type": "markdown",
   "id": "0424f39d-6db3-4704-aa99-05880a7e6503",
   "metadata": {},
   "source": [
    "# Access Modifier"
   ]
  },
  {
   "cell_type": "code",
   "execution_count": 64,
   "id": "b14d81bb-d319-4af7-92a8-e65326cefcf2",
   "metadata": {
    "tags": []
   },
   "outputs": [],
   "source": [
    "class Person():\n",
    "    def __init__(self, name, age,fav_color):\n",
    "        self.name = name # public access modifier\n",
    "        self._age = age # protected\n",
    "        self.__fav_color = fav_color  # privite"
   ]
  },
  {
   "cell_type": "code",
   "execution_count": 65,
   "id": "4534af90-beb8-4c1f-ab21-91c0e49edfd6",
   "metadata": {
    "tags": []
   },
   "outputs": [],
   "source": [
    "p1 = Person(\"jackie\",25,\"blue\")"
   ]
  },
  {
   "cell_type": "code",
   "execution_count": 66,
   "id": "4d746d5f-83f6-42d8-b25d-4c5b964109ca",
   "metadata": {
    "tags": []
   },
   "outputs": [
    {
     "data": {
      "text/plain": [
       "'jackie'"
      ]
     },
     "execution_count": 66,
     "metadata": {},
     "output_type": "execute_result"
    }
   ],
   "source": [
    "p1.name"
   ]
  },
  {
   "cell_type": "code",
   "execution_count": 67,
   "id": "f23d8965-0eb2-4bda-9666-b2d0215033ac",
   "metadata": {
    "tags": []
   },
   "outputs": [
    {
     "data": {
      "text/plain": [
       "25"
      ]
     },
     "execution_count": 67,
     "metadata": {},
     "output_type": "execute_result"
    }
   ],
   "source": [
    "p1._age"
   ]
  },
  {
   "cell_type": "code",
   "execution_count": 68,
   "id": "21ae2a99-c36f-4912-a031-16505bda78a0",
   "metadata": {
    "tags": []
   },
   "outputs": [
    {
     "data": {
      "text/plain": [
       "'blue'"
      ]
     },
     "execution_count": 68,
     "metadata": {},
     "output_type": "execute_result"
    }
   ],
   "source": [
    "p1._Person__fav_color # this is also not a secret"
   ]
  },
  {
   "cell_type": "code",
   "execution_count": 69,
   "id": "7c1b82c8-eb08-4c14-a829-cc7764bd3c05",
   "metadata": {
    "tags": []
   },
   "outputs": [],
   "source": [
    "p1.name = \"jacob\""
   ]
  },
  {
   "cell_type": "code",
   "execution_count": 70,
   "id": "3b83fb43-0c66-4d30-8e00-6b4a9b071dca",
   "metadata": {
    "tags": []
   },
   "outputs": [],
   "source": [
    "p1._Person__fav_color = \"green\""
   ]
  },
  {
   "cell_type": "code",
   "execution_count": 71,
   "id": "c19d390c-0252-4abd-aa4b-99307ebec95c",
   "metadata": {
    "tags": []
   },
   "outputs": [
    {
     "data": {
      "text/plain": [
       "'green'"
      ]
     },
     "execution_count": 71,
     "metadata": {},
     "output_type": "execute_result"
    }
   ],
   "source": [
    "p1._Person__fav_color"
   ]
  },
  {
   "cell_type": "code",
   "execution_count": 72,
   "id": "3efb79e5-54eb-4950-bdc0-5e73da848ab2",
   "metadata": {
    "tags": []
   },
   "outputs": [],
   "source": [
    "p1._age = 75"
   ]
  },
  {
   "cell_type": "code",
   "execution_count": 73,
   "id": "cd3eba77-b663-4996-b00a-e6a753c53551",
   "metadata": {
    "tags": []
   },
   "outputs": [
    {
     "data": {
      "text/plain": [
       "75"
      ]
     },
     "execution_count": 73,
     "metadata": {},
     "output_type": "execute_result"
    }
   ],
   "source": [
    "p1._age"
   ]
  },
  {
   "cell_type": "code",
   "execution_count": 77,
   "id": "e2d5bc8d-515f-49b0-8ed9-2c4306565390",
   "metadata": {
    "tags": []
   },
   "outputs": [
    {
     "name": "stdout",
     "output_type": "stream",
     "text": [
      "Thread <_MainThread(MainThread, started 8041271296)> says: I'm the main program\n",
      "Thread <Thread(Thread-17 (do_this), started 6237696000)> says: I'm function 0\n",
      "Thread <Thread(Thread-18 (do_this), started 6237696000)> says: I'm function 1\n",
      "Thread <Thread(Thread-19 (do_this), started 6237696000)> says: I'm function 2\n",
      "Thread <Thread(Thread-20 (do_this), started 6237696000)> says: I'm function 3\n"
     ]
    }
   ],
   "source": [
    "import threading\n",
    "\n",
    "def do_this(what):\n",
    "    whoami(what)\n",
    "\n",
    "def whoami(what):\n",
    "    print(\"Thread %s says: %s\" % (threading.current_thread(), what))\n",
    "\n",
    "whoami(\"I'm the main program\")\n",
    "for n in range(4):\n",
    "    p = threading.Thread(target=do_this,\n",
    "        args=(\"I'm function %s\" % n,))\n",
    "    p.start()"
   ]
  },
  {
   "cell_type": "code",
   "execution_count": 78,
   "id": "aa0f0cab-7ba7-4a25-be41-e92af311363c",
   "metadata": {
    "tags": []
   },
   "outputs": [
    {
     "name": "stdout",
     "output_type": "stream",
     "text": [
      "Washing salad\n",
      "WashingDrying salad\n",
      " bread\n",
      "WashingDrying bread\n",
      " entree\n",
      "WashingDrying entree\n",
      " dessert\n",
      "Drying dessert\n"
     ]
    }
   ],
   "source": [
    "import threading, queue\n",
    "import time\n",
    "\n",
    "def washer(dishes, dish_queue):\n",
    "    for dish in dishes:\n",
    "        print (\"Washing\", dish)\n",
    "        time.sleep(5)\n",
    "        dish_queue.put(dish)\n",
    "\n",
    "def dryer(dish_queue):\n",
    "    while True:\n",
    "        dish = dish_queue.get()\n",
    "        print (\"Drying\", dish)\n",
    "        time.sleep(10)\n",
    "        dish_queue.task_done()\n",
    "\n",
    "dish_queue = queue.Queue()\n",
    "for n in range(2):\n",
    "    dryer_thread = threading.Thread(target=dryer, args=(dish_queue,))\n",
    "    dryer_thread.start()\n",
    "dishes = ['salad', 'bread', 'entree', 'dessert']\n",
    "washer(dishes, dish_queue)\n",
    "dish_queue.join()"
   ]
  },
  {
   "cell_type": "markdown",
   "id": "6e6660a5-2719-4f4d-b808-62097e9154ea",
   "metadata": {},
   "source": [
    "### Modules\n",
    "- A python file contianing the python definitions and statements\n",
    "- have .py extension\n",
    "- help us to logically organize the code\n",
    "\n",
    "Type: \n",
    "- Built-in module\n",
    "- User Defined module"
   ]
  },
  {
   "cell_type": "code",
   "execution_count": 79,
   "id": "ab276109-40aa-4d61-9a9c-b63a6aec0944",
   "metadata": {
    "tags": []
   },
   "outputs": [],
   "source": [
    "import math \n",
    "x = math.pi"
   ]
  },
  {
   "cell_type": "code",
   "execution_count": 80,
   "id": "fdf67037-2e07-45fd-85a5-5eb46761e0a6",
   "metadata": {
    "tags": []
   },
   "outputs": [
    {
     "data": {
      "text/plain": [
       "3.141592653589793"
      ]
     },
     "execution_count": 80,
     "metadata": {},
     "output_type": "execute_result"
    }
   ],
   "source": [
    "x"
   ]
  },
  {
   "cell_type": "code",
   "execution_count": 81,
   "id": "6b47debc-e1d8-41a9-9e81-7cd0242026bd",
   "metadata": {
    "tags": []
   },
   "outputs": [
    {
     "data": {
      "text/plain": [
       "5.0"
      ]
     },
     "execution_count": 81,
     "metadata": {},
     "output_type": "execute_result"
    }
   ],
   "source": [
    "math.sqrt(25)"
   ]
  },
  {
   "cell_type": "code",
   "execution_count": 82,
   "id": "ce445ab2-0bdc-438c-ac70-612ddd10122f",
   "metadata": {
    "tags": []
   },
   "outputs": [],
   "source": [
    "# 2nd way - importing specific variable/function\n",
    "from math import pi"
   ]
  },
  {
   "cell_type": "code",
   "execution_count": 83,
   "id": "88c39efc-56d7-4ab8-9469-91f3d178cb4d",
   "metadata": {
    "tags": []
   },
   "outputs": [
    {
     "data": {
      "text/plain": [
       "3.141592653589793"
      ]
     },
     "execution_count": 83,
     "metadata": {},
     "output_type": "execute_result"
    }
   ],
   "source": [
    "pi"
   ]
  },
  {
   "cell_type": "code",
   "execution_count": 84,
   "id": "063c7312-b29c-4330-aa3c-6adc04f0f9f6",
   "metadata": {
    "tags": []
   },
   "outputs": [],
   "source": [
    "from math import sqrt"
   ]
  },
  {
   "cell_type": "code",
   "execution_count": 86,
   "id": "62b34bbf-c106-4260-ba51-dbb19d52bc72",
   "metadata": {
    "tags": []
   },
   "outputs": [
    {
     "data": {
      "text/plain": [
       "5.0"
      ]
     },
     "execution_count": 86,
     "metadata": {},
     "output_type": "execute_result"
    }
   ],
   "source": [
    "sqrt(25)"
   ]
  },
  {
   "cell_type": "code",
   "execution_count": 87,
   "id": "da63341f-3f2b-4a91-ad4c-731c2c009b1c",
   "metadata": {
    "tags": []
   },
   "outputs": [],
   "source": [
    "# 3rd method import as alias name\n",
    "import math as m"
   ]
  },
  {
   "cell_type": "code",
   "execution_count": 88,
   "id": "4a59501a-3d68-4dde-a54d-7821d8fe3e70",
   "metadata": {
    "tags": []
   },
   "outputs": [
    {
     "data": {
      "text/plain": [
       "36002449668.69294"
      ]
     },
     "execution_count": 88,
     "metadata": {},
     "output_type": "execute_result"
    }
   ],
   "source": [
    "m.sinh(25)"
   ]
  },
  {
   "cell_type": "markdown",
   "id": "539f463d-317e-4f2e-985f-492c4beca308",
   "metadata": {},
   "source": [
    "## User Defined Module"
   ]
  },
  {
   "cell_type": "code",
   "execution_count": 3,
   "id": "cc3ec668-1706-43b6-808e-f89b6f13c3b7",
   "metadata": {
    "tags": []
   },
   "outputs": [],
   "source": [
    "import module_example"
   ]
  },
  {
   "cell_type": "code",
   "execution_count": 4,
   "id": "871e69ef-42d3-46ab-8afa-11ae3388ab79",
   "metadata": {},
   "outputs": [
    {
     "data": {
      "text/plain": [
       "10"
      ]
     },
     "execution_count": 4,
     "metadata": {},
     "output_type": "execute_result"
    }
   ],
   "source": [
    "module_example.n1"
   ]
  },
  {
   "cell_type": "code",
   "execution_count": 5,
   "id": "1c120cd5-54d7-458f-8319-a07f15b2a5b9",
   "metadata": {},
   "outputs": [
    {
     "data": {
      "text/plain": [
       "20"
      ]
     },
     "execution_count": 5,
     "metadata": {},
     "output_type": "execute_result"
    }
   ],
   "source": [
    "module_example.n2"
   ]
  },
  {
   "cell_type": "code",
   "execution_count": 6,
   "id": "9046bd9a-9c7b-457f-997b-494737e1b6b3",
   "metadata": {},
   "outputs": [
    {
     "data": {
      "text/plain": [
       "30"
      ]
     },
     "execution_count": 6,
     "metadata": {},
     "output_type": "execute_result"
    }
   ],
   "source": [
    "module_example.addition(10,20)"
   ]
  },
  {
   "cell_type": "code",
   "execution_count": null,
   "id": "9513ad04-3bd9-4781-a957-50a607c2d6e3",
   "metadata": {},
   "outputs": [],
   "source": []
  },
  {
   "cell_type": "code",
   "execution_count": null,
   "id": "215ade85-e82c-4493-a84c-d9430292babe",
   "metadata": {},
   "outputs": [],
   "source": []
  },
  {
   "cell_type": "code",
   "execution_count": null,
   "id": "89719e7e-b8e7-4b42-92e8-fe2972293e70",
   "metadata": {},
   "outputs": [],
   "source": []
  },
  {
   "cell_type": "code",
   "execution_count": null,
   "id": "32274eb9-0c02-4b65-8b88-0e429a75d99f",
   "metadata": {},
   "outputs": [],
   "source": []
  },
  {
   "cell_type": "code",
   "execution_count": null,
   "id": "c2da2fb9-6ebc-4c93-b94b-6d74d7d19f23",
   "metadata": {},
   "outputs": [],
   "source": []
  }
 ],
 "metadata": {
  "kernelspec": {
   "display_name": "Python 3 (ipykernel)",
   "language": "python",
   "name": "python3"
  },
  "language_info": {
   "codemirror_mode": {
    "name": "ipython",
    "version": 3
   },
   "file_extension": ".py",
   "mimetype": "text/x-python",
   "name": "python",
   "nbconvert_exporter": "python",
   "pygments_lexer": "ipython3",
   "version": "3.11.3"
  }
 },
 "nbformat": 4,
 "nbformat_minor": 5
}
