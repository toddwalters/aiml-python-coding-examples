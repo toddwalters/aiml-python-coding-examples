{
 "cells": [
  {
   "cell_type": "markdown",
   "metadata": {
    "colab_type": "text",
    "id": "view-in-github"
   },
   "source": [
    "<a href=\"https://colab.research.google.com/github/toddwalters/pgaiml-python-coding-examples/blob/main/advanced-deep-learning-computer-vision/Day1.ipynb\" target=\"_parent\"><img src=\"https://colab.research.google.com/assets/colab-badge.svg\" alt=\"Open In Colab\"/></a>"
   ]
  },
  {
   "cell_type": "code",
   "execution_count": null,
   "metadata": {
    "id": "g5vv8vtt5G7F"
   },
   "outputs": [],
   "source": [
    "collab = False"
   ]
  },
  {
   "cell_type": "code",
   "execution_count": null,
   "metadata": {
    "id": "FVOESYvkboTN"
   },
   "outputs": [],
   "source": [
    "# Import the libraries\n",
    "import cv2\n",
    "import matplotlib.pyplot as plt\n",
    "\n",
    "from matplotlib.pyplot import imshow\n",
    "\n",
    "if collab:\n",
    "  from google.colab.patches import cv2_imshow"
   ]
  },
  {
   "cell_type": "code",
   "execution_count": null,
   "metadata": {
    "colab": {
     "base_uri": "https://localhost:8080/"
    },
    "id": "cVAx8rANKHpx",
    "outputId": "821418d5-0368-4d7a-9d51-da65bd21e1d3"
   },
   "outputs": [],
   "source": [
    "# to install opencv\n",
    "!pip install opencv-python"
   ]
  },
  {
   "cell_type": "code",
   "execution_count": null,
   "metadata": {
    "id": "dxvyw9DSM07I"
   },
   "outputs": [],
   "source": [
    "# Function to display an image using matplotlib - used when working with Jupyter Notebooks vs Google Colab\n",
    "def display_image(image):\n",
    "    # Convert the image from BGR to RGB (if using OpenCV)\n",
    "    image_rgb = cv2.cvtColor(image, cv2.COLOR_BGR2RGB)\n",
    "    # Display the image using matplotlib\n",
    "    plt.imshow(image_rgb)\n",
    "    plt.axis('off')  # Hide the axis\n",
    "    plt.show()\n",
    "\n"
   ]
  },
  {
   "cell_type": "code",
   "execution_count": null,
   "metadata": {
    "id": "M2QTzARWLBKt"
   },
   "outputs": [],
   "source": [
    "if collab:\n",
    "    image_path = '/content/F1.jpg'\n",
    "else:\n",
    "    image_path = 'F1.jpg'\n",
    "    \n",
    "# Loading of image\n",
    "image = cv2.imread(image_path)"
   ]
  },
  {
   "cell_type": "code",
   "execution_count": null,
   "metadata": {
    "colab": {
     "base_uri": "https://localhost:8080/",
     "height": 517
    },
    "id": "QrT4dE55LfCo",
    "outputId": "3a1e2f33-2c91-4be5-b75b-59ee7550a22c"
   },
   "outputs": [],
   "source": [
    "image"
   ]
  },
  {
   "cell_type": "code",
   "execution_count": null,
   "metadata": {
    "colab": {
     "base_uri": "https://localhost:8080/",
     "height": 422
    },
    "id": "5bTiWpvTLoTN",
    "outputId": "8cd544ba-3396-4770-e34c-115ebc33bac8"
   },
   "outputs": [],
   "source": [
    "imshow(image)"
   ]
  },
  {
   "cell_type": "code",
   "execution_count": null,
   "metadata": {
    "colab": {
     "base_uri": "https://localhost:8080/",
     "height": 494
    },
    "id": "XboU15HiLzMo",
    "outputId": "451a6074-fb2b-4d89-8b43-d0478569d921"
   },
   "outputs": [],
   "source": [
    "if collab:\n",
    "  cv2_imshow(image)\n",
    "else:\n",
    "  display_image(image)"
   ]
  },
  {
   "cell_type": "code",
   "execution_count": null,
   "metadata": {
    "colab": {
     "base_uri": "https://localhost:8080/"
    },
    "id": "ijNcBbUtM3LS",
    "outputId": "aba8acc5-2167-4e3d-9735-309ff4d4391f"
   },
   "outputs": [],
   "source": [
    "image.shape"
   ]
  },
  {
   "cell_type": "code",
   "execution_count": null,
   "metadata": {
    "id": "WviQnwU4NFqP"
   },
   "outputs": [],
   "source": [
    "height,width,channel = image.shape"
   ]
  },
  {
   "cell_type": "code",
   "execution_count": null,
   "metadata": {
    "colab": {
     "base_uri": "https://localhost:8080/"
    },
    "id": "3IyJOVJ1NMMt",
    "outputId": "0957f3f0-393c-42db-cce7-da77304412fb"
   },
   "outputs": [],
   "source": [
    "print(f'Image dimension: {height} * {width} * {channel}')"
   ]
  },
  {
   "cell_type": "code",
   "execution_count": null,
   "metadata": {
    "id": "RBbOJREWNdiy"
   },
   "outputs": [],
   "source": [
    "# Input image in grayscale format\n",
    "img_gray = cv2.imread(image_path, cv2.IMREAD_GRAYSCALE)"
   ]
  },
  {
   "cell_type": "code",
   "execution_count": null,
   "metadata": {
    "colab": {
     "base_uri": "https://localhost:8080/",
     "height": 517
    },
    "id": "PmqdWPSfN45v",
    "outputId": "6197738d-3982-47b4-acea-6006b6960c6a"
   },
   "outputs": [],
   "source": [
    "img_gray"
   ]
  },
  {
   "cell_type": "code",
   "execution_count": null,
   "metadata": {
    "colab": {
     "base_uri": "https://localhost:8080/"
    },
    "id": "dZfGnZqHODa8",
    "outputId": "927645bd-ec6f-43ca-833d-9421594dd44c"
   },
   "outputs": [],
   "source": [
    "img_gray.shape"
   ]
  },
  {
   "cell_type": "code",
   "execution_count": null,
   "metadata": {
    "id": "Kc2G4yN5ORyx"
   },
   "outputs": [],
   "source": [
    "img_gray = cv2.imread(image_path, cv2.IMREAD_COLOR)"
   ]
  },
  {
   "cell_type": "code",
   "execution_count": null,
   "metadata": {
    "colab": {
     "base_uri": "https://localhost:8080/",
     "height": 517
    },
    "id": "acxADsXPOZWD",
    "outputId": "3f6f74fb-182f-413d-fe1b-0be18bb10ef4"
   },
   "outputs": [],
   "source": [
    "img_gray"
   ]
  },
  {
   "cell_type": "code",
   "execution_count": null,
   "metadata": {
    "id": "0oJwuP40Oshe"
   },
   "outputs": [],
   "source": [
    "# Convert to RGB\n",
    "img_color =cv2.cvtColor(image,cv2.COLOR_BGR2RGB)"
   ]
  },
  {
   "cell_type": "code",
   "execution_count": null,
   "metadata": {
    "colab": {
     "base_uri": "https://localhost:8080/",
     "height": 494
    },
    "id": "tZoD89A3PJNW",
    "outputId": "9e48ef9a-9f4f-409a-d9a2-b07b5082a137"
   },
   "outputs": [],
   "source": [
    "if collab:\n",
    "  cv2_imshow(img_color)\n",
    "else:\n",
    "  display_image(img_color)"
   ]
  },
  {
   "cell_type": "code",
   "execution_count": null,
   "metadata": {
    "id": "VQ1Gckq9PreZ"
   },
   "outputs": [],
   "source": [
    "# resizing of image\n",
    "new_image = cv2.resize(img_color,(400,400))\n",
    "# (width,height)"
   ]
  },
  {
   "cell_type": "code",
   "execution_count": null,
   "metadata": {
    "colab": {
     "base_uri": "https://localhost:8080/",
     "height": 454
    },
    "id": "fC508AjcQx26",
    "outputId": "f944c545-acea-4360-a427-da2424c71e6b"
   },
   "outputs": [],
   "source": [
    "imshow(new_image)"
   ]
  },
  {
   "cell_type": "code",
   "execution_count": null,
   "metadata": {
    "colab": {
     "base_uri": "https://localhost:8080/",
     "height": 417
    },
    "id": "msgxozkWTVu2",
    "outputId": "518559dc-990c-46eb-aaa1-48f19119df4a"
   },
   "outputs": [],
   "source": [
    "if collab:\n",
    "  cv2_imshow(new_image)\n",
    "else:\n",
    "  display_image(new_image)"
   ]
  },
  {
   "cell_type": "code",
   "execution_count": null,
   "metadata": {
    "id": "Vliun7OzRfD6"
   },
   "outputs": [],
   "source": [
    "crop_img =new_image[50:380,50:300]\n",
    " #(height(start:end), width(start:end))"
   ]
  },
  {
   "cell_type": "code",
   "execution_count": null,
   "metadata": {
    "colab": {
     "base_uri": "https://localhost:8080/",
     "height": 347
    },
    "id": "Wzot1QMESbvU",
    "outputId": "cbb9a27c-b832-43c2-bdb3-9d23c77dea5e"
   },
   "outputs": [],
   "source": [
    "if collab:\n",
    "  cv2_imshow(crop_img)\n",
    "else:\n",
    "  display_image(crop_img)"
   ]
  }
 ],
 "metadata": {
  "colab": {
   "include_colab_link": true,
   "provenance": []
  },
  "kernelspec": {
   "display_name": "Python 3",
   "name": "python3"
  },
  "language_info": {
   "codemirror_mode": {
    "name": "ipython",
    "version": 3
   },
   "file_extension": ".py",
   "mimetype": "text/x-python",
   "name": "python",
   "nbconvert_exporter": "python",
   "pygments_lexer": "ipython3",
   "version": "3.11.8"
  }
 },
 "nbformat": 4,
 "nbformat_minor": 0
}
