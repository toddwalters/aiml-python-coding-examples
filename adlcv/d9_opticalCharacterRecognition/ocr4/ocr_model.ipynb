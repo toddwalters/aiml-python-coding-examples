{
 "cells": [
  {
   "cell_type": "markdown",
   "metadata": {
    "id": "u4czcD0U6ab4"
   },
   "source": [
    "## **OCR MODEL**"
   ]
  },
  {
   "cell_type": "markdown",
   "metadata": {
    "id": "ENgiVZcb6eP9"
   },
   "source": [
    "# **About Dataset**\n",
    "\n",
    "# Context\n",
    "Consist 28x28 handwritten Alphabet images in pixel format\n",
    "\n",
    "## Content\n",
    "There are total 785 columns, each row consists an image of alphabets. The first column represents the alphabet numbering from 0-25 as A-Z."
   ]
  },
  {
   "cell_type": "markdown",
   "metadata": {
    "id": "W94jywA_7nc8"
   },
   "source": [
    "## Import Libraries"
   ]
  },
  {
   "cell_type": "code",
   "execution_count": null,
   "metadata": {
    "executionInfo": {
     "elapsed": 21854,
     "status": "ok",
     "timestamp": 1725725561158,
     "user": {
      "displayName": "Dr. Nisarg Gandhewar",
      "userId": "08865821500269811620"
     },
     "user_tz": -330
    },
    "id": "sBMWyOb06Yz8"
   },
   "outputs": [],
   "source": [
    "import numpy as np\n",
    "import pandas as pd\n",
    "import matplotlib.pyplot as plt\n",
    "import seaborn as sns\n",
    "import os\n",
    "from sklearn.preprocessing import MinMaxScaler\n",
    "import tensorflow as tf\n",
    "from keras.models import Sequential\n",
    "from keras.layers import Dense\n",
    "from keras.layers import Dropout\n",
    "from keras.layers import Flatten\n",
    "from keras.layers import Conv2D\n",
    "from keras.layers import MaxPooling2D\n",
    "from keras import backend as K\n",
    "#from tensorflow.keras.utils import np_utils\n",
    "from sklearn.model_selection import train_test_split"
   ]
  },
  {
   "cell_type": "code",
   "execution_count": null,
   "metadata": {
    "executionInfo": {
     "elapsed": 593,
     "status": "ok",
     "timestamp": 1725725564546,
     "user": {
      "displayName": "Dr. Nisarg Gandhewar",
      "userId": "08865821500269811620"
     },
     "user_tz": -330
    },
    "id": "ZFx8yIsZ6hwP"
   },
   "outputs": [],
   "source": [
    "# Ignores warning messages\n",
    "import warnings\n",
    "warnings.filterwarnings('ignore')"
   ]
  },
  {
   "cell_type": "code",
   "execution_count": null,
   "metadata": {
    "executionInfo": {
     "elapsed": 6,
     "status": "ok",
     "timestamp": 1725725566471,
     "user": {
      "displayName": "Dr. Nisarg Gandhewar",
      "userId": "08865821500269811620"
     },
     "user_tz": -330
    },
    "id": "T01Fxtbw7rEH"
   },
   "outputs": [],
   "source": [
    "sns.set()"
   ]
  },
  {
   "cell_type": "code",
   "execution_count": null,
   "metadata": {
    "colab": {
     "base_uri": "https://localhost:8080/",
     "height": 321
    },
    "executionInfo": {
     "elapsed": 10147,
     "status": "error",
     "timestamp": 1725725468577,
     "user": {
      "displayName": "Dr. Nisarg Gandhewar",
      "userId": "08865821500269811620"
     },
     "user_tz": -330
    },
    "id": "UDVG2eHG7tfk",
    "outputId": "c2f3efa9-1c27-4628-9b2c-79234f48e9b5"
   },
   "outputs": [],
   "source": [
    "# from google.colab import drive\n",
    "# drive.mount('/content/gdrive')"
   ]
  },
  {
   "cell_type": "code",
   "execution_count": null,
   "metadata": {
    "colab": {
     "base_uri": "https://localhost:8080/"
    },
    "executionInfo": {
     "elapsed": 7761,
     "status": "ok",
     "timestamp": 1725724607999,
     "user": {
      "displayName": "Dr. Nisarg Gandhewar",
      "userId": "08865821500269811620"
     },
     "user_tz": -330
    },
    "id": "7UFhFYV07vsj",
    "outputId": "2f72ba66-345d-4294-fb9f-dfe09270fabb"
   },
   "outputs": [],
   "source": [
    "!unzip /content/handwritten_data_785.csv.zip\n"
   ]
  },
  {
   "cell_type": "code",
   "execution_count": null,
   "metadata": {
    "executionInfo": {
     "elapsed": 35358,
     "status": "ok",
     "timestamp": 1725725606069,
     "user": {
      "displayName": "Dr. Nisarg Gandhewar",
      "userId": "08865821500269811620"
     },
     "user_tz": -330
    },
    "id": "zfh0OV7c71uL"
   },
   "outputs": [],
   "source": [
    "dataset = pd.read_csv(\"/content/handwritten_data_785.csv\").astype('float32')"
   ]
  },
  {
   "cell_type": "code",
   "execution_count": null,
   "metadata": {
    "executionInfo": {
     "elapsed": 597,
     "status": "ok",
     "timestamp": 1725724684601,
     "user": {
      "displayName": "Dr. Nisarg Gandhewar",
      "userId": "08865821500269811620"
     },
     "user_tz": -330
    },
    "id": "SoUYoiQi77zi"
   },
   "outputs": [],
   "source": [
    "dataset.rename(columns={'0':'label'}, inplace=True)"
   ]
  },
  {
   "cell_type": "code",
   "execution_count": null,
   "metadata": {
    "executionInfo": {
     "elapsed": 583,
     "status": "ok",
     "timestamp": 1725724738144,
     "user": {
      "displayName": "Dr. Nisarg Gandhewar",
      "userId": "08865821500269811620"
     },
     "user_tz": -330
    },
    "id": "c4zJW3rA7-MG"
   },
   "outputs": [],
   "source": [
    "# Splits the data into X - input data and y - output data\n",
    "X = dataset.drop('label',axis = 1)\n",
    "y = dataset['label']"
   ]
  },
  {
   "cell_type": "code",
   "execution_count": null,
   "metadata": {
    "executionInfo": {
     "elapsed": 600,
     "status": "ok",
     "timestamp": 1725724744798,
     "user": {
      "displayName": "Dr. Nisarg Gandhewar",
      "userId": "08865821500269811620"
     },
     "user_tz": -330
    },
    "id": "vtSbKgC68Gcq"
   },
   "outputs": [],
   "source": [
    "import string"
   ]
  },
  {
   "cell_type": "code",
   "execution_count": null,
   "metadata": {
    "executionInfo": {
     "elapsed": 5,
     "status": "ok",
     "timestamp": 1725724747076,
     "user": {
      "displayName": "Dr. Nisarg Gandhewar",
      "userId": "08865821500269811620"
     },
     "user_tz": -330
    },
    "id": "iziksSXG8Ihy"
   },
   "outputs": [],
   "source": [
    "# Change label to alphabets\n",
    "alphabets_map = dict(enumerate(string.ascii_uppercase, 0))\n",
    "dataset['label'] = dataset['label'].map(alphabets_map)"
   ]
  },
  {
   "cell_type": "markdown",
   "metadata": {
    "id": "jiDQA1GB8Ofz"
   },
   "source": [
    "## Data Exploration"
   ]
  },
  {
   "cell_type": "code",
   "execution_count": null,
   "metadata": {
    "colab": {
     "base_uri": "https://localhost:8080/"
    },
    "executionInfo": {
     "elapsed": 562,
     "status": "ok",
     "timestamp": 1725724753044,
     "user": {
      "displayName": "Dr. Nisarg Gandhewar",
      "userId": "08865821500269811620"
     },
     "user_tz": -330
    },
    "id": "rJX2lnDw8Ljp",
    "outputId": "ed6faacd-d38b-40c7-9884-d442c979de95"
   },
   "outputs": [],
   "source": [
    "print(X.info())"
   ]
  },
  {
   "cell_type": "code",
   "execution_count": null,
   "metadata": {
    "colab": {
     "base_uri": "https://localhost:8080/",
     "height": 255
    },
    "executionInfo": {
     "elapsed": 616,
     "status": "ok",
     "timestamp": 1725724759867,
     "user": {
      "displayName": "Dr. Nisarg Gandhewar",
      "userId": "08865821500269811620"
     },
     "user_tz": -330
    },
    "id": "OG-SzuXA8RRb",
    "outputId": "794c9ee9-fda0-4b82-b58c-26ee425b8000"
   },
   "outputs": [],
   "source": [
    "X.head(5)"
   ]
  },
  {
   "cell_type": "code",
   "execution_count": null,
   "metadata": {
    "colab": {
     "base_uri": "https://localhost:8080/",
     "height": 241
    },
    "executionInfo": {
     "elapsed": 607,
     "status": "ok",
     "timestamp": 1725724811829,
     "user": {
      "displayName": "Dr. Nisarg Gandhewar",
      "userId": "08865821500269811620"
     },
     "user_tz": -330
    },
    "id": "h24Tfpj2Np9Y",
    "outputId": "6570de29-44cf-4e71-dd7d-ec76305c7059"
   },
   "outputs": [],
   "source": [
    "y.head()"
   ]
  },
  {
   "cell_type": "code",
   "execution_count": null,
   "metadata": {
    "executionInfo": {
     "elapsed": 2152,
     "status": "ok",
     "timestamp": 1725724829604,
     "user": {
      "displayName": "Dr. Nisarg Gandhewar",
      "userId": "08865821500269811620"
     },
     "user_tz": -330
    },
    "id": "kRMAJ_Ep8YKk"
   },
   "outputs": [],
   "source": [
    "from sklearn.utils import shuffle\n",
    "X_shuffled = shuffle(X)"
   ]
  },
  {
   "cell_type": "code",
   "execution_count": null,
   "metadata": {
    "colab": {
     "base_uri": "https://localhost:8080/",
     "height": 788
    },
    "executionInfo": {
     "elapsed": 2962,
     "status": "ok",
     "timestamp": 1725724834617,
     "user": {
      "displayName": "Dr. Nisarg Gandhewar",
      "userId": "08865821500269811620"
     },
     "user_tz": -330
    },
    "id": "vsZrZLtT8ad2",
    "outputId": "28ae5615-ef1b-47e2-bf71-dd6625b93d49"
   },
   "outputs": [],
   "source": [
    "plt.figure(figsize = (10,10))\n",
    "row, columns = 4, 4\n",
    "for i in range(16):\n",
    "    plt.subplot(columns, row, i+1)\n",
    "    plt.imshow(X_shuffled.iloc[i].values.reshape(28,28),interpolation='nearest', cmap='Greys')\n",
    "plt.show()"
   ]
  },
  {
   "cell_type": "code",
   "execution_count": null,
   "metadata": {
    "colab": {
     "base_uri": "https://localhost:8080/",
     "height": 801
    },
    "executionInfo": {
     "elapsed": 732,
     "status": "ok",
     "timestamp": 1725724865212,
     "user": {
      "displayName": "Dr. Nisarg Gandhewar",
      "userId": "08865821500269811620"
     },
     "user_tz": -330
    },
    "id": "qjIwaOQa8cqD",
    "outputId": "04b97641-ec2d-4b70-9f3e-41f2e389e05a"
   },
   "outputs": [],
   "source": [
    "# Bar chart to show number of images per alphabet in training dataset\n",
    "\n",
    "label_size = dataset.groupby('label').size()\n",
    "label_size.plot.barh(figsize=(10,10))\n",
    "plt.xlabel(\"Number of images\")\n",
    "plt.ylabel(\"Alphabets\")\n",
    "plt.title(\"Number of images per alphabet\")\n",
    "plt.show()"
   ]
  },
  {
   "cell_type": "code",
   "execution_count": null,
   "metadata": {
    "colab": {
     "base_uri": "https://localhost:8080/"
    },
    "executionInfo": {
     "elapsed": 569,
     "status": "ok",
     "timestamp": 1725724920455,
     "user": {
      "displayName": "Dr. Nisarg Gandhewar",
      "userId": "08865821500269811620"
     },
     "user_tz": -330
    },
    "id": "AKXB6KYi8eso",
    "outputId": "5bc6ac1b-8df3-4b41-a927-8a2aa3b27a72"
   },
   "outputs": [],
   "source": [
    "print(\"We have very less number of images for F, I and V \")\n",
    "print(\"F count:\", label_size['F'])\n",
    "print(\"I count:\", label_size['I'])\n",
    "print(\"V count:\", label_size['V'])"
   ]
  },
  {
   "cell_type": "markdown",
   "metadata": {
    "id": "aPYhJbHL8iuX"
   },
   "source": [
    "## Data Preparation"
   ]
  },
  {
   "cell_type": "code",
   "execution_count": null,
   "metadata": {
    "executionInfo": {
     "elapsed": 6441,
     "status": "ok",
     "timestamp": 1725724974936,
     "user": {
      "displayName": "Dr. Nisarg Gandhewar",
      "userId": "08865821500269811620"
     },
     "user_tz": -330
    },
    "id": "mfFpG5_C8gsR"
   },
   "outputs": [],
   "source": [
    "# Splits the data\n",
    "\n",
    "X_train, XX, y_train, yy = train_test_split(X, y, test_size=0.4)\n",
    "X_valid, X_test, y_valid, y_test = train_test_split(XX, yy, test_size=0.6, shuffle=True)"
   ]
  },
  {
   "cell_type": "code",
   "execution_count": null,
   "metadata": {
    "colab": {
     "base_uri": "https://localhost:8080/"
    },
    "executionInfo": {
     "elapsed": 598,
     "status": "ok",
     "timestamp": 1725724982175,
     "user": {
      "displayName": "Dr. Nisarg Gandhewar",
      "userId": "08865821500269811620"
     },
     "user_tz": -330
    },
    "id": "DZgxWqck8lQK",
    "outputId": "23d07e42-5801-44f6-df39-19ef2c27fd1a"
   },
   "outputs": [],
   "source": [
    "print('X_train shape: {}'.format(X_train.shape))\n",
    "print('y_train shape: {}'.format(y_train.shape))\n",
    "print('X_valid shape: {}'.format(X_valid.shape))\n",
    "print('y_valid shape: {}'.format(y_valid.shape))\n",
    "print('X_test shape: {}'.format(X_test.shape))\n",
    "print('y_test shape: {}'.format(y_test.shape))"
   ]
  },
  {
   "cell_type": "code",
   "execution_count": null,
   "metadata": {
    "executionInfo": {
     "elapsed": 2698,
     "status": "ok",
     "timestamp": 1725725007687,
     "user": {
      "displayName": "Dr. Nisarg Gandhewar",
      "userId": "08865821500269811620"
     },
     "user_tz": -330
    },
    "id": "TTNeVulQ8nBl"
   },
   "outputs": [],
   "source": [
    "# Scales the data\n",
    "\n",
    "standard_scaler = MinMaxScaler()\n",
    "standard_scaler.fit(X_train)\n",
    "\n",
    "X_train = standard_scaler.transform(X_train)\n",
    "X_valid = standard_scaler.transform(X_valid)\n",
    "X_test = standard_scaler.transform(X_test)"
   ]
  },
  {
   "cell_type": "code",
   "execution_count": null,
   "metadata": {
    "colab": {
     "base_uri": "https://localhost:8080/",
     "height": 788
    },
    "executionInfo": {
     "elapsed": 7758,
     "status": "ok",
     "timestamp": 1725725019812,
     "user": {
      "displayName": "Dr. Nisarg Gandhewar",
      "userId": "08865821500269811620"
     },
     "user_tz": -330
    },
    "id": "mzwPTUpo8o1w",
    "outputId": "b121454c-9668-47a5-e2a2-7a00db385513"
   },
   "outputs": [],
   "source": [
    "# Data after scaling\n",
    "\n",
    "X_shuffled = shuffle(X_train)\n",
    "\n",
    "plt.figure(figsize = (10,10))\n",
    "row, colums = 4, 4\n",
    "for i in range(16):\n",
    "    plt.subplot(colums, row, i+1)\n",
    "    plt.imshow(X_shuffled[i].reshape(28,28),interpolation='nearest', cmap='Greys')\n",
    "plt.show()"
   ]
  },
  {
   "cell_type": "code",
   "execution_count": null,
   "metadata": {
    "colab": {
     "base_uri": "https://localhost:8080/"
    },
    "executionInfo": {
     "elapsed": 8328,
     "status": "ok",
     "timestamp": 1725725063545,
     "user": {
      "displayName": "Dr. Nisarg Gandhewar",
      "userId": "08865821500269811620"
     },
     "user_tz": -330
    },
    "id": "bjRTyEk0R8gs",
    "outputId": "0783a12c-8592-4984-8c58-7ae710ef31ca"
   },
   "outputs": [],
   "source": [
    "!pip install np_utils"
   ]
  },
  {
   "cell_type": "code",
   "execution_count": null,
   "metadata": {
    "executionInfo": {
     "elapsed": 1824,
     "status": "ok",
     "timestamp": 1725725361079,
     "user": {
      "displayName": "Dr. Nisarg Gandhewar",
      "userId": "08865821500269811620"
     },
     "user_tz": -330
    },
    "id": "NryPrFqi81zz"
   },
   "outputs": [],
   "source": [
    "from tensorflow.keras.utils import to_categorical\n",
    "\n",
    "\n",
    "X_train = X_train.reshape(X_train.shape[0], 28, 28, 1).astype('float32')\n",
    "X_valid = X_valid.reshape(X_valid.shape[0], 28, 28, 1).astype('float32')\n",
    "X_test = X_test.reshape(X_test.shape[0], 28, 28, 1).astype('float32')\n",
    "\n",
    "y_train = to_categorical(y_train)\n",
    "y_valid = to_categorical(y_valid)\n",
    "y_test =  to_categorical(y_test)"
   ]
  },
  {
   "cell_type": "markdown",
   "metadata": {
    "id": "0TIjMhXB85jw"
   },
   "source": [
    "## **Build the Model**"
   ]
  },
  {
   "cell_type": "code",
   "execution_count": null,
   "metadata": {
    "executionInfo": {
     "elapsed": 574,
     "status": "ok",
     "timestamp": 1725725364242,
     "user": {
      "displayName": "Dr. Nisarg Gandhewar",
      "userId": "08865821500269811620"
     },
     "user_tz": -330
    },
    "id": "clQ2dJ-Q83uR"
   },
   "outputs": [],
   "source": [
    "model = Sequential([Conv2D(32, (5, 5), input_shape=(28, 28, 1), activation='relu'),\n",
    "                  MaxPooling2D(pool_size=(2, 2)),\n",
    "                  Dropout(0.3),\n",
    "                  Flatten(),\n",
    "                  Dense(128, activation='relu'),\n",
    "                  Dense(len(y.unique()), activation='softmax')])"
   ]
  },
  {
   "cell_type": "code",
   "execution_count": null,
   "metadata": {
    "executionInfo": {
     "elapsed": 588,
     "status": "ok",
     "timestamp": 1725725366567,
     "user": {
      "displayName": "Dr. Nisarg Gandhewar",
      "userId": "08865821500269811620"
     },
     "user_tz": -330
    },
    "id": "gJlLxXSL8-Yq"
   },
   "outputs": [],
   "source": [
    "model.compile(loss='categorical_crossentropy', optimizer='adam', metrics=['accuracy'])"
   ]
  },
  {
   "cell_type": "code",
   "execution_count": null,
   "metadata": {
    "colab": {
     "base_uri": "https://localhost:8080/",
     "height": 356
    },
    "executionInfo": {
     "elapsed": 3048,
     "status": "error",
     "timestamp": 1725725373107,
     "user": {
      "displayName": "Dr. Nisarg Gandhewar",
      "userId": "08865821500269811620"
     },
     "user_tz": -330
    },
    "id": "c-W4AF_59BeC",
    "outputId": "8ffecb8e-0d23-4fde-b7dc-0d21bbcf8c31"
   },
   "outputs": [],
   "source": [
    "detail = model.fit(X_train, y_train, validation_data=(X_valid, y_valid), epochs=4, batch_size=128, verbose=2)"
   ]
  },
  {
   "cell_type": "code",
   "execution_count": null,
   "metadata": {
    "colab": {
     "base_uri": "https://localhost:8080/",
     "height": 480
    },
    "executionInfo": {
     "elapsed": 855,
     "status": "ok",
     "timestamp": 1725709939458,
     "user": {
      "displayName": "Dr. Nisarg Gandhewar",
      "userId": "08865821500269811620"
     },
     "user_tz": -330
    },
    "id": "OqmuPLpD9DgG",
    "outputId": "4e3b20ba-8556-4ad8-f518-e46942b29d3a"
   },
   "outputs": [],
   "source": [
    "plt.plot(detail.history['loss'])\n",
    "plt.plot(detail.history['val_loss'])\n",
    "plt.title('Model loss')\n",
    "plt.ylabel('Loss')\n",
    "plt.xlabel('Epoch')\n",
    "plt.legend(['Train', 'Test'], loc='upper left')\n",
    "plt.show()"
   ]
  },
  {
   "cell_type": "code",
   "execution_count": null,
   "metadata": {
    "colab": {
     "base_uri": "https://localhost:8080/"
    },
    "executionInfo": {
     "elapsed": 12316,
     "status": "ok",
     "timestamp": 1725709958849,
     "user": {
      "displayName": "Dr. Nisarg Gandhewar",
      "userId": "08865821500269811620"
     },
     "user_tz": -330
    },
    "id": "RRMSJyPY9GKi",
    "outputId": "bcedceda-bc12-4f78-aceb-1382154d2df1"
   },
   "outputs": [],
   "source": [
    "scores = model.evaluate(X_test,y_test, verbose=0)\n",
    "print(\"CNN Score:\",scores[1])"
   ]
  },
  {
   "cell_type": "code",
   "execution_count": null,
   "metadata": {
    "colab": {
     "base_uri": "https://localhost:8080/"
    },
    "executionInfo": {
     "elapsed": 749,
     "status": "ok",
     "timestamp": 1725709962692,
     "user": {
      "displayName": "Dr. Nisarg Gandhewar",
      "userId": "08865821500269811620"
     },
     "user_tz": -330
    },
    "id": "-Tfb7tQi9Ifq",
    "outputId": "39548e39-24bb-4f9d-f776-56cb0306b685"
   },
   "outputs": [],
   "source": [
    "model.save('ocr_model.h5')"
   ]
  },
  {
   "cell_type": "code",
   "execution_count": null,
   "metadata": {
    "colab": {
     "base_uri": "https://localhost:8080/"
    },
    "id": "pVvTa7OM9Ltz",
    "outputId": "edfdfc3a-4d2a-4dd6-83bb-5b70530e032a"
   },
   "outputs": [],
   "source": [
    "# !unzip gdrive/My\\ Drive/Test.zip"
   ]
  },
  {
   "cell_type": "code",
   "execution_count": null,
   "metadata": {
    "id": "tL8tYqbZ9ZkZ"
   },
   "outputs": [],
   "source": [
    "from keras.models import load_model\n",
    "from google.colab.patches import cv2_imshow\n",
    "import cv2\n",
    "import os\n",
    "\n",
    "def load_ocr_model(model_path):\n",
    "    # Loads the pre-trained OCR model\n",
    "    model = load_model(model_path)\n",
    "    return model\n",
    "\n",
    "def preprocess_image(img):\n",
    "    # Converts the image to grayscale, resize to 28x28, and invert colors\n",
    "    array = cv2.bitwise_not(cv2.resize(cv2.cvtColor(img, cv2.COLOR_BGR2GRAY), (28, 28), interpolation=cv2.INTER_AREA))\n",
    "\n",
    "    # Normalizes pixel values\n",
    "    array = array.reshape(1, 28, 28, 1).astype('float32') / 255\n",
    "\n",
    "    return array\n",
    "\n",
    "def predict_from_folder(model, folder_path):\n",
    "    # for filename in os.listdir(folder_path):\n",
    "    #     if filename.endswith('.jpg') or filename.endswith('.png'):\n",
    "    #         # Loads the image\n",
    "    #         image_path = os.path.join(folder_path, filename)\n",
    "            image_path = \"/content/a.jpg\"\n",
    "            img = cv2.imread(image_path)\n",
    "\n",
    "            array = preprocess_image(img)\n",
    "\n",
    "            prediction = model.predict(array)\n",
    "\n",
    "            # print(filename, chr(prediction.argmax() + 65))\n",
    "            cv2_imshow(img)"
   ]
  },
  {
   "cell_type": "code",
   "execution_count": null,
   "metadata": {
    "colab": {
     "base_uri": "https://localhost:8080/"
    },
    "executionInfo": {
     "elapsed": 847,
     "status": "ok",
     "timestamp": 1725711264219,
     "user": {
      "displayName": "Dr. Nisarg Gandhewar",
      "userId": "08865821500269811620"
     },
     "user_tz": -330
    },
    "id": "Z5r6HA5k9cAd",
    "outputId": "58cb93e0-c5c2-49fa-c5fb-59e6761bc722"
   },
   "outputs": [],
   "source": [
    "model = load_ocr_model('ocr_model.h5')\n",
    "image_path = \"/content/a2.JPG\"\n",
    "img = cv2.imread(image_path)\n",
    "array = preprocess_image(img)\n",
    "prediction = model.predict(array)\n",
    "# print(prediction.argmax()+65)\n",
    "print(chr(prediction.argmax() + 65))\n",
    "\n",
    "\n",
    "# folder_path = '/content/a.jpg'\n",
    "# predict_from_folder(model, folder_path)"
   ]
  },
  {
   "cell_type": "code",
   "execution_count": null,
   "metadata": {
    "id": "5IV4veHl9m4S"
   },
   "outputs": [],
   "source": []
  }
 ],
 "metadata": {
  "accelerator": "GPU",
  "colab": {
   "gpuType": "T4",
   "provenance": []
  },
  "kernelspec": {
   "display_name": "Python 3",
   "name": "python3"
  },
  "language_info": {
   "name": "python"
  }
 },
 "nbformat": 4,
 "nbformat_minor": 0
}
