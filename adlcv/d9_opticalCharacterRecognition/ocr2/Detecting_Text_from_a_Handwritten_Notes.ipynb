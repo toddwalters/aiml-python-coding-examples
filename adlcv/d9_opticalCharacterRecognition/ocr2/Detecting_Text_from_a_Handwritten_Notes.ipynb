{
 "cells": [
  {
   "cell_type": "markdown",
   "id": "0",
   "metadata": {
    "id": "dc43e109-e0dd-45f2-9c75-cf6ea10404a5"
   },
   "source": [
    "# Detecting Text from Handwritten Notes"
   ]
  },
  {
   "cell_type": "markdown",
   "id": "1",
   "metadata": {
    "id": "H0_bLC-7zt0a"
   },
   "source": [
    "## Step 1: Import the Required Libraries\n",
    "- Import the OpenCV library for image processing\n",
    "- Import the NumPy library for numerical operations\n",
    "- Import the matplotlib.pyplot library for visualizations\n"
   ]
  },
  {
   "cell_type": "code",
   "execution_count": null,
   "id": "2",
   "metadata": {
    "executionInfo": {
     "elapsed": 1007,
     "status": "ok",
     "timestamp": 1725718709926,
     "user": {
      "displayName": "Dr. Nisarg Gandhewar",
      "userId": "08865821500269811620"
     },
     "user_tz": -330
    },
    "id": "8a218672-187f-421d-9ae9-f8b7cb5f637c",
    "tags": []
   },
   "outputs": [],
   "source": [
    "import cv2\n",
    "import numpy as np\n",
    "import matplotlib.pyplot as plt"
   ]
  },
  {
   "cell_type": "markdown",
   "id": "3",
   "metadata": {
    "id": "a233535a-4f9c-4ba9-8f00-50c4e8f4d4bf"
   },
   "source": [
    "## Step 2: Read the Image File in Python and Display\n",
    "- You may use either plt, imshow, or cv2.imshow for displaying the images"
   ]
  },
  {
   "cell_type": "code",
   "execution_count": null,
   "id": "4",
   "metadata": {
    "colab": {
     "base_uri": "https://localhost:8080/",
     "height": 428
    },
    "executionInfo": {
     "elapsed": 1638,
     "status": "ok",
     "timestamp": 1725718738221,
     "user": {
      "displayName": "Dr. Nisarg Gandhewar",
      "userId": "08865821500269811620"
     },
     "user_tz": -330
    },
    "id": "2e666d0d-405d-4132-bbc0-41d2e2cb2a10",
    "outputId": "a3c983e1-f70c-40dc-c4df-ad1dcaa792c3",
    "tags": []
   },
   "outputs": [],
   "source": [
    "img = cv2.imread('AP_1.jpg')\n",
    "\n",
    "# cv2.imshow('original', img)\n",
    "# cv2.waitKey(0)\n",
    "# cv2.destroyAllWindows()\n",
    "\n",
    "plt.imshow(img)\n",
    "plt.title(\"Original\")\n",
    "plt.axis(\"off\")\n",
    "plt.show()"
   ]
  },
  {
   "cell_type": "markdown",
   "id": "5",
   "metadata": {
    "id": "87f7903b-3dec-4942-90d6-f907700401dd"
   },
   "source": [
    "**Observation**\n",
    "- The code will display the original image."
   ]
  },
  {
   "cell_type": "markdown",
   "id": "6",
   "metadata": {
    "id": "dbe8cfe1-c050-44da-b8cb-2036ef429ab9"
   },
   "source": [
    "## Step 3: Deskew the Image (If Required)"
   ]
  },
  {
   "cell_type": "markdown",
   "id": "7",
   "metadata": {
    "id": "BMWAOvI635Hp"
   },
   "source": [
    "- Check skewness and rotate the image using the function shown below\n",
    "- Convert the image to grayscale\n",
    "- Invert the grayscale image\n",
    "- Apply thresholding to create a binary image\n",
    "- Find the coordinates of non-zero (foreground) pixels in the binary image\n",
    "- Determine the angle of rotation based on the coordinates of the foreground pixels\n",
    "- Adjust the angle if it is negative\n",
    "- Get the dimensions of the image\n",
    "- Determine the center of rotation\n",
    "- Generate the rotation matrix\n",
    "- Apply the rotation to the image\n",
    "- Return the rotated image\n",
    "- Display the rotated image\n"
   ]
  },
  {
   "cell_type": "code",
   "execution_count": null,
   "id": "8",
   "metadata": {
    "executionInfo": {
     "elapsed": 456,
     "status": "ok",
     "timestamp": 1725718973355,
     "user": {
      "displayName": "Dr. Nisarg Gandhewar",
      "userId": "08865821500269811620"
     },
     "user_tz": -330
    },
    "id": "ab21c48f-a018-4a78-9c3c-1b0f1f44cb29",
    "tags": []
   },
   "outputs": [],
   "source": [
    "def rot_image(image):\n",
    "    gray = cv2.cvtColor(image, cv2.COLOR_BGR2GRAY)  # Covert to gray scale\n",
    "\n",
    "    #  Inverts the grayscale image (black becomes white, white becomes black),\n",
    "    # which helps in detecting the text or\n",
    "    #  shapes better for certain types of image data (like documents).\n",
    "    gray = cv2.bitwise_not(gray)\n",
    "\n",
    "    # It makes the image either black or white, helping in the detection of boundaries for skewed content.\n",
    "    thresh = cv2.threshold(gray, 0, 255,cv2.THRESH_BINARY | cv2.THRESH_OTSU)[1]\n",
    "\n",
    "    # Finds the coordinates of non-zero pixels in the thresholded image,\n",
    "    # which represent the foreground objects or text.\n",
    "    coords = np.column_stack(np.where(thresh > 0))\n",
    "\n",
    "    # Finds the smallest rectangle that encloses the detected coordinates,\n",
    "    # and from this rectangle, the rotation angle is extracted.\n",
    "    # if the angle is less than -45 degrees, it adds 90 degrees to it, otherwise,\n",
    "    # it negates the angle to bring it within a proper rotation range.\n",
    "    angle = cv2.minAreaRect(coords)[-1]\n",
    "    if angle < -45:\n",
    "        angle = -(90 + angle)\n",
    "    else:\n",
    "        angle = -angle\n",
    "    (h, w) = image.shape[:2]\n",
    "    center = (w // 2, h // 2)\n",
    "\n",
    "\n",
    "    M = cv2.getRotationMatrix2D(center, angle, 1.0)\n",
    "    #The image is rotated using the calculated rotation matrix, with cubic interpolation\n",
    "    # to maintain image quality and BORDER_REPLICATE to handle any new border areas created during the rotation.\n",
    "    rotated = cv2.warpAffine(image, M, (w, h),flags=cv2.INTER_CUBIC, borderMode=cv2.BORDER_REPLICATE)\n",
    "    return rotated"
   ]
  },
  {
   "cell_type": "code",
   "execution_count": null,
   "id": "9",
   "metadata": {
    "colab": {
     "base_uri": "https://localhost:8080/",
     "height": 428
    },
    "executionInfo": {
     "elapsed": 1894,
     "status": "ok",
     "timestamp": 1725718993483,
     "user": {
      "displayName": "Dr. Nisarg Gandhewar",
      "userId": "08865821500269811620"
     },
     "user_tz": -330
    },
    "id": "a6cb6393-a799-4c35-ab80-43f761664330",
    "outputId": "215ca9ca-e853-438e-81fd-2ac78da738f6",
    "tags": []
   },
   "outputs": [],
   "source": [
    "rotated = rot_image(img)\n",
    "# cv2.imshow('rotated', rotated)\n",
    "# cv2.waitKey(0)\n",
    "# cv2.destroyAllWindows()\n",
    "\n",
    "plt.imshow(rotated)\n",
    "plt.title(\"Rotated\")\n",
    "plt.axis(\"off\")\n",
    "plt.show()"
   ]
  },
  {
   "cell_type": "markdown",
   "id": "10",
   "metadata": {
    "id": "e5583935-0f2c-49ea-8ad7-71cdfbd77f5d"
   },
   "source": [
    "**Observation**\n",
    "- This code will give the rotated image."
   ]
  },
  {
   "cell_type": "markdown",
   "id": "11",
   "metadata": {
    "id": "3b9571f7-d52d-41ac-8c5c-c747e18b842b"
   },
   "source": [
    "## Step 4: Remove Noise from the Image\n",
    "- Apply median blur to the rotated image using a kernel size of 19\n",
    "- Subtract the median-blurred image from the rotated image to remove the background\n",
    "- Invert the resulting image\n",
    "- Define a kernel matrix for the erosion operation\n",
    "- Perform the erosion operation on the image using the defined kernel to remove white pixels from the edges and add black pixels"
   ]
  },
  {
   "cell_type": "code",
   "execution_count": null,
   "id": "12",
   "metadata": {
    "executionInfo": {
     "elapsed": 440,
     "status": "ok",
     "timestamp": 1725719021708,
     "user": {
      "displayName": "Dr. Nisarg Gandhewar",
      "userId": "08865821500269811620"
     },
     "user_tz": -330
    },
    "id": "b0fc4b49-1a4b-47ba-9d80-ccc7111721d2",
    "tags": []
   },
   "outputs": [],
   "source": [
    "median = cv2.medianBlur(rotated, 19)\n",
    "\n",
    "#Substracts removes the background from image\n",
    "img2=cv2.subtract(median,rotated)\n",
    "img2=cv2.bitwise_not(img2)\n",
    "\n",
    "#Erodes removes white pixels from the edges and add black pixels to it\n",
    "kernel = np.ones((3, 3), np.uint8)\n",
    "img_erode = cv2.erode(img2, kernel, iterations=1)"
   ]
  },
  {
   "cell_type": "code",
   "execution_count": null,
   "id": "13",
   "metadata": {
    "colab": {
     "base_uri": "https://localhost:8080/",
     "height": 428
    },
    "executionInfo": {
     "elapsed": 1177,
     "status": "ok",
     "timestamp": 1725719036433,
     "user": {
      "displayName": "Dr. Nisarg Gandhewar",
      "userId": "08865821500269811620"
     },
     "user_tz": -330
    },
    "id": "cd028b5f-858e-4ea3-b6b6-cc9ce27bc0ab",
    "outputId": "00e04771-9095-42b5-a280-1c432e8873c5",
    "tags": []
   },
   "outputs": [],
   "source": [
    "# cv2.imshow('denoised', img_erode)\n",
    "# cv2.waitKey(0)\n",
    "# cv2.destroyAllWindows()\n",
    "plt.imshow(img_erode)\n",
    "plt.title(\"Denoised\")\n",
    "plt.axis(\"off\")\n",
    "plt.show()"
   ]
  },
  {
   "cell_type": "markdown",
   "id": "14",
   "metadata": {
    "id": "7960fa80-8104-4baa-9e87-a3d092bd08da"
   },
   "source": [
    "**Observation**\n",
    "- The code processes the input image by removing the background, inverting its colors, and eroding it; it then displays the final **Denoised** image using matplotlib."
   ]
  },
  {
   "cell_type": "markdown",
   "id": "15",
   "metadata": {
    "id": "8f03534e-0321-4055-b538-0fb05cdfc769"
   },
   "source": [
    "## Step 5: Text Thinning\n",
    "\n",
    "- Further erode the denoised image using a 5x5 kernel\n",
    "- This process aims to make the text lines thinner.\n",
    "- Display the thinned image"
   ]
  },
  {
   "cell_type": "code",
   "execution_count": null,
   "id": "16",
   "metadata": {
    "executionInfo": {
     "elapsed": 466,
     "status": "ok",
     "timestamp": 1725719046816,
     "user": {
      "displayName": "Dr. Nisarg Gandhewar",
      "userId": "08865821500269811620"
     },
     "user_tz": -330
    },
    "id": "e5a7f474-9afe-43d3-8e96-902eb6aa6267",
    "tags": []
   },
   "outputs": [],
   "source": [
    "kernel = np.ones((5,5),np.uint8)\n",
    "erosion = cv2.erode(img_erode,kernel,iterations = 1)"
   ]
  },
  {
   "cell_type": "code",
   "execution_count": null,
   "id": "17",
   "metadata": {
    "colab": {
     "base_uri": "https://localhost:8080/",
     "height": 428
    },
    "executionInfo": {
     "elapsed": 1096,
     "status": "ok",
     "timestamp": 1725719075036,
     "user": {
      "displayName": "Dr. Nisarg Gandhewar",
      "userId": "08865821500269811620"
     },
     "user_tz": -330
    },
    "id": "5f3121df-00e1-4a97-b20d-0297712455ee",
    "outputId": "5097b56c-5ad0-481b-900b-4bbccae1b435",
    "tags": []
   },
   "outputs": [],
   "source": [
    "# cv2.imshow('thinning', erosion)\n",
    "# cv2.waitKey(0)\n",
    "# cv2.destroyAllWindows()\n",
    "\n",
    "plt.imshow(erosion)\n",
    "plt.title(\"Thinning\")\n",
    "plt.axis(\"off\")\n",
    "plt.show()"
   ]
  },
  {
   "cell_type": "markdown",
   "id": "18",
   "metadata": {
    "id": "5e8a5e25-2037-46a0-9931-33ea89ad9f70"
   },
   "source": [
    "**Observation**\n",
    "- The code applies an erosion operation on the **Denoised** image using a 5x5 kernel matrix, which results in thinning the white regions of the image."
   ]
  },
  {
   "cell_type": "markdown",
   "id": "19",
   "metadata": {
    "id": "e41dbd4b-8d90-4697-88e7-24c98a23da61",
    "tags": []
   },
   "source": [
    "## Step 6: Perform Word Segmentation on the Image\n",
    "- Convert the erosion image to grayscale\n",
    "- Display the grayscale image using matplotlib\n"
   ]
  },
  {
   "cell_type": "code",
   "execution_count": null,
   "id": "20",
   "metadata": {
    "colab": {
     "base_uri": "https://localhost:8080/",
     "height": 428
    },
    "executionInfo": {
     "elapsed": 1064,
     "status": "ok",
     "timestamp": 1725719103864,
     "user": {
      "displayName": "Dr. Nisarg Gandhewar",
      "userId": "08865821500269811620"
     },
     "user_tz": -330
    },
    "id": "64d7c9d7-d835-4fb4-b4a6-bc044b846308",
    "outputId": "1394387d-589c-45b4-fdae-3c5d7b80b7f4",
    "tags": []
   },
   "outputs": [],
   "source": [
    "gray_scale = cv2.cvtColor(erosion, cv2.COLOR_BGR2GRAY)\n",
    "# cv2.imshow('gray_scale', gray_scale)\n",
    "# cv2.waitKey(0)\n",
    "# cv2.destroyAllWindows()\n",
    "plt.imshow(gray_scale, cmap = 'gray')\n",
    "plt.title(\"Gray scale\")\n",
    "plt.axis(\"off\")\n",
    "plt.show()"
   ]
  },
  {
   "cell_type": "markdown",
   "id": "21",
   "metadata": {
    "id": "9prsCGD15J4T"
   },
   "source": [
    "- Apply thresholding to the grayscale image with a threshold value of 80\n",
    "- Uncomment the following lines to display the thresholded image using OpenCV\n",
    "- Display the thresholded image using matplotlib\n"
   ]
  },
  {
   "cell_type": "code",
   "execution_count": null,
   "id": "22",
   "metadata": {
    "colab": {
     "base_uri": "https://localhost:8080/",
     "height": 428
    },
    "executionInfo": {
     "elapsed": 589,
     "status": "ok",
     "timestamp": 1725719119686,
     "user": {
      "displayName": "Dr. Nisarg Gandhewar",
      "userId": "08865821500269811620"
     },
     "user_tz": -330
    },
    "id": "bac66ce5-4b06-40a7-9a8e-7d1f276f7a8a",
    "outputId": "44bd9aeb-7f10-4bd1-a1ca-9137f906d633",
    "tags": []
   },
   "outputs": [],
   "source": [
    "ret,thresh = cv2.threshold(gray_scale,80, 255,cv2.THRESH_BINARY_INV | cv2.THRESH_OTSU)\n",
    "# cv2.imshow('thresholding', thresh)\n",
    "# cv2.waitKey(0)\n",
    "# cv2.destroyAllWindows()\n",
    "plt.imshow(thresh, cmap = 'gray')\n",
    "plt.title(\"Thresholding\")\n",
    "plt.axis(\"off\")\n",
    "plt.show()"
   ]
  },
  {
   "cell_type": "markdown",
   "id": "23",
   "metadata": {
    "id": "ZmOatp4U5sy8"
   },
   "source": [
    "- Define a kernel for dilation operation\n",
    "- Apply dilation to the thresholded image using the defined kernel\n",
    "- Display the dilated image using matplotlib\n"
   ]
  },
  {
   "cell_type": "code",
   "execution_count": null,
   "id": "24",
   "metadata": {
    "colab": {
     "base_uri": "https://localhost:8080/",
     "height": 428
    },
    "executionInfo": {
     "elapsed": 814,
     "status": "ok",
     "timestamp": 1725719129283,
     "user": {
      "displayName": "Dr. Nisarg Gandhewar",
      "userId": "08865821500269811620"
     },
     "user_tz": -330
    },
    "id": "e50bf0d6-f909-4f74-8f56-36bbcb5500a9",
    "outputId": "cae7de2d-61ca-4ced-a39c-5f09d3dfc7c1",
    "tags": []
   },
   "outputs": [],
   "source": [
    "# Applying dilation\n",
    "kernel = np.ones((3,15), np.uint8)\n",
    "dilated = cv2.dilate(thresh, kernel, iterations = 1)\n",
    "# cv2.imshow('Dilation', dilated)\n",
    "# cv2.waitKey(0)\n",
    "# cv2.destroyAllWindows()\n",
    "plt.imshow(dilated, cmap = 'gray')\n",
    "plt.title(\"Dilation\")\n",
    "plt.axis(\"off\")\n",
    "plt.show()"
   ]
  },
  {
   "cell_type": "markdown",
   "id": "25",
   "metadata": {
    "id": "1ba2d628-2f1c-4e49-8630-3ec9383afe05"
   },
   "source": [
    "**Observation**\n",
    "- The code performs a dilation operation on the thresholded image using a kernel of size 3x15.\n",
    "- Dilation aims to increase the white region in the image."
   ]
  },
  {
   "cell_type": "markdown",
   "id": "26",
   "metadata": {
    "id": "7f4d4e64-2401-4fde-9c30-c62f90d6c445"
   },
   "source": [
    "## Step 7: Find Rectangle\n",
    "- Find contours in the dilated image using **cv2.findContours()**\n",
    "- Sort the contours based on the y-coordinate of their bounding rectangle's top-left corner\n"
   ]
  },
  {
   "cell_type": "code",
   "execution_count": null,
   "id": "27",
   "metadata": {
    "executionInfo": {
     "elapsed": 441,
     "status": "ok",
     "timestamp": 1725719136338,
     "user": {
      "displayName": "Dr. Nisarg Gandhewar",
      "userId": "08865821500269811620"
     },
     "user_tz": -330
    },
    "id": "70087dc4-3d33-47e6-9ec4-9f60049f98e4",
    "tags": []
   },
   "outputs": [],
   "source": [
    "(contours, heirarchy) = cv2.findContours(dilated.copy(), cv2.RETR_EXTERNAL, cv2.CHAIN_APPROX_NONE)\n",
    "sorted_contours_lines = sorted(contours, key = lambda ctr : cv2.boundingRect(ctr)[1])"
   ]
  },
  {
   "cell_type": "markdown",
   "id": "28",
   "metadata": {
    "id": "2846075a-4e82-4135-936a-c22b17e2e60b"
   },
   "source": [
    "## Step 8: Draw Rectangle onto Words\n",
    "- Create a copy of the rotated image to draw bounding rectangles\n",
    "- Initialize an empty list to store word coordinates\n",
    "- Iterate over each line contour in the sorted contours\n",
    "- Iterate over each word contour in the sorted word contours\n",
    "- Draw a bounding rectangle around the word on the **final_image**\n"
   ]
  },
  {
   "cell_type": "code",
   "execution_count": null,
   "id": "29",
   "metadata": {
    "executionInfo": {
     "elapsed": 443,
     "status": "ok",
     "timestamp": 1725719142720,
     "user": {
      "displayName": "Dr. Nisarg Gandhewar",
      "userId": "08865821500269811620"
     },
     "user_tz": -330
    },
    "id": "77d554f5-e34f-4d44-81bd-f975c4986b59",
    "tags": []
   },
   "outputs": [],
   "source": [
    "final_image = rotated.copy() # original rotated image\n",
    "words_list = []\n",
    "\n",
    "for line in sorted_contours_lines:\n",
    "\n",
    "    # roi of each line\n",
    "    x, y, w, h = cv2.boundingRect(line)\n",
    "    roi_line = dilated[y:y+w, x:x+w]\n",
    "\n",
    "    # Draw contours on each word\n",
    "    (cnt, heirarchy) = cv2.findContours(roi_line.copy(), cv2.RETR_EXTERNAL, cv2.CHAIN_APPROX_NONE)\n",
    "    sorted_contour_words = sorted(cnt, key=lambda cntr : cv2.boundingRect(cntr)[0])\n",
    "\n",
    "    for word in sorted_contour_words:\n",
    "\n",
    "        if cv2.contourArea(word) < 400:\n",
    "            continue\n",
    "\n",
    "        x2, y2, w2, h2 = cv2.boundingRect(word)\n",
    "        words_list.append([x+x2, y+y2, x+x2+w2, y+y2+h2])\n",
    "        cv2.rectangle(final_image, (x+x2, y+y2), (x+x2+w2, y+y2+h2), (255,255,100),2)"
   ]
  },
  {
   "cell_type": "code",
   "execution_count": null,
   "id": "30",
   "metadata": {
    "colab": {
     "base_uri": "https://localhost:8080/",
     "height": 428
    },
    "executionInfo": {
     "elapsed": 1629,
     "status": "ok",
     "timestamp": 1725719147583,
     "user": {
      "displayName": "Dr. Nisarg Gandhewar",
      "userId": "08865821500269811620"
     },
     "user_tz": -330
    },
    "id": "6e42c6cd-0364-4bd7-9adf-e33a7c647c9e",
    "outputId": "a855b002-17f3-4f32-80b3-114c40f46c12",
    "tags": []
   },
   "outputs": [],
   "source": [
    "# cv2.imshow('Word_Segmented', final_image)\n",
    "# cv2.waitKey(0)\n",
    "# cv2.destroyAllWindows()\n",
    "\n",
    "plt.imshow(final_image)\n",
    "plt.title(\"Word Segmented\")\n",
    "plt.axis(\"off\")\n",
    "plt.show()"
   ]
  },
  {
   "cell_type": "markdown",
   "id": "31",
   "metadata": {
    "id": "ab4bb79b-17ca-4bdc-8878-1886c0742151"
   },
   "source": [
    "**Observation**\n",
    "- This code gives the visual representation of the rotated image where individual words are highlighted using bounding rectangles, displaying how effectively words have been segmented from the image."
   ]
  }
 ],
 "metadata": {
  "availableInstances": [
   {
    "_defaultOrder": 0,
    "_isFastLaunch": true,
    "category": "General purpose",
    "gpuNum": 0,
    "hideHardwareSpecs": false,
    "memoryGiB": 4,
    "name": "ml.t3.medium",
    "vcpuNum": 2
   },
   {
    "_defaultOrder": 1,
    "_isFastLaunch": false,
    "category": "General purpose",
    "gpuNum": 0,
    "hideHardwareSpecs": false,
    "memoryGiB": 8,
    "name": "ml.t3.large",
    "vcpuNum": 2
   },
   {
    "_defaultOrder": 2,
    "_isFastLaunch": false,
    "category": "General purpose",
    "gpuNum": 0,
    "hideHardwareSpecs": false,
    "memoryGiB": 16,
    "name": "ml.t3.xlarge",
    "vcpuNum": 4
   },
   {
    "_defaultOrder": 3,
    "_isFastLaunch": false,
    "category": "General purpose",
    "gpuNum": 0,
    "hideHardwareSpecs": false,
    "memoryGiB": 32,
    "name": "ml.t3.2xlarge",
    "vcpuNum": 8
   },
   {
    "_defaultOrder": 4,
    "_isFastLaunch": true,
    "category": "General purpose",
    "gpuNum": 0,
    "hideHardwareSpecs": false,
    "memoryGiB": 8,
    "name": "ml.m5.large",
    "vcpuNum": 2
   },
   {
    "_defaultOrder": 5,
    "_isFastLaunch": false,
    "category": "General purpose",
    "gpuNum": 0,
    "hideHardwareSpecs": false,
    "memoryGiB": 16,
    "name": "ml.m5.xlarge",
    "vcpuNum": 4
   },
   {
    "_defaultOrder": 6,
    "_isFastLaunch": false,
    "category": "General purpose",
    "gpuNum": 0,
    "hideHardwareSpecs": false,
    "memoryGiB": 32,
    "name": "ml.m5.2xlarge",
    "vcpuNum": 8
   },
   {
    "_defaultOrder": 7,
    "_isFastLaunch": false,
    "category": "General purpose",
    "gpuNum": 0,
    "hideHardwareSpecs": false,
    "memoryGiB": 64,
    "name": "ml.m5.4xlarge",
    "vcpuNum": 16
   },
   {
    "_defaultOrder": 8,
    "_isFastLaunch": false,
    "category": "General purpose",
    "gpuNum": 0,
    "hideHardwareSpecs": false,
    "memoryGiB": 128,
    "name": "ml.m5.8xlarge",
    "vcpuNum": 32
   },
   {
    "_defaultOrder": 9,
    "_isFastLaunch": false,
    "category": "General purpose",
    "gpuNum": 0,
    "hideHardwareSpecs": false,
    "memoryGiB": 192,
    "name": "ml.m5.12xlarge",
    "vcpuNum": 48
   },
   {
    "_defaultOrder": 10,
    "_isFastLaunch": false,
    "category": "General purpose",
    "gpuNum": 0,
    "hideHardwareSpecs": false,
    "memoryGiB": 256,
    "name": "ml.m5.16xlarge",
    "vcpuNum": 64
   },
   {
    "_defaultOrder": 11,
    "_isFastLaunch": false,
    "category": "General purpose",
    "gpuNum": 0,
    "hideHardwareSpecs": false,
    "memoryGiB": 384,
    "name": "ml.m5.24xlarge",
    "vcpuNum": 96
   },
   {
    "_defaultOrder": 12,
    "_isFastLaunch": false,
    "category": "General purpose",
    "gpuNum": 0,
    "hideHardwareSpecs": false,
    "memoryGiB": 8,
    "name": "ml.m5d.large",
    "vcpuNum": 2
   },
   {
    "_defaultOrder": 13,
    "_isFastLaunch": false,
    "category": "General purpose",
    "gpuNum": 0,
    "hideHardwareSpecs": false,
    "memoryGiB": 16,
    "name": "ml.m5d.xlarge",
    "vcpuNum": 4
   },
   {
    "_defaultOrder": 14,
    "_isFastLaunch": false,
    "category": "General purpose",
    "gpuNum": 0,
    "hideHardwareSpecs": false,
    "memoryGiB": 32,
    "name": "ml.m5d.2xlarge",
    "vcpuNum": 8
   },
   {
    "_defaultOrder": 15,
    "_isFastLaunch": false,
    "category": "General purpose",
    "gpuNum": 0,
    "hideHardwareSpecs": false,
    "memoryGiB": 64,
    "name": "ml.m5d.4xlarge",
    "vcpuNum": 16
   },
   {
    "_defaultOrder": 16,
    "_isFastLaunch": false,
    "category": "General purpose",
    "gpuNum": 0,
    "hideHardwareSpecs": false,
    "memoryGiB": 128,
    "name": "ml.m5d.8xlarge",
    "vcpuNum": 32
   },
   {
    "_defaultOrder": 17,
    "_isFastLaunch": false,
    "category": "General purpose",
    "gpuNum": 0,
    "hideHardwareSpecs": false,
    "memoryGiB": 192,
    "name": "ml.m5d.12xlarge",
    "vcpuNum": 48
   },
   {
    "_defaultOrder": 18,
    "_isFastLaunch": false,
    "category": "General purpose",
    "gpuNum": 0,
    "hideHardwareSpecs": false,
    "memoryGiB": 256,
    "name": "ml.m5d.16xlarge",
    "vcpuNum": 64
   },
   {
    "_defaultOrder": 19,
    "_isFastLaunch": false,
    "category": "General purpose",
    "gpuNum": 0,
    "hideHardwareSpecs": false,
    "memoryGiB": 384,
    "name": "ml.m5d.24xlarge",
    "vcpuNum": 96
   },
   {
    "_defaultOrder": 20,
    "_isFastLaunch": false,
    "category": "General purpose",
    "gpuNum": 0,
    "hideHardwareSpecs": true,
    "memoryGiB": 0,
    "name": "ml.geospatial.interactive",
    "supportedImageNames": [
     "sagemaker-geospatial-v1-0"
    ],
    "vcpuNum": 0
   },
   {
    "_defaultOrder": 21,
    "_isFastLaunch": true,
    "category": "Compute optimized",
    "gpuNum": 0,
    "hideHardwareSpecs": false,
    "memoryGiB": 4,
    "name": "ml.c5.large",
    "vcpuNum": 2
   },
   {
    "_defaultOrder": 22,
    "_isFastLaunch": false,
    "category": "Compute optimized",
    "gpuNum": 0,
    "hideHardwareSpecs": false,
    "memoryGiB": 8,
    "name": "ml.c5.xlarge",
    "vcpuNum": 4
   },
   {
    "_defaultOrder": 23,
    "_isFastLaunch": false,
    "category": "Compute optimized",
    "gpuNum": 0,
    "hideHardwareSpecs": false,
    "memoryGiB": 16,
    "name": "ml.c5.2xlarge",
    "vcpuNum": 8
   },
   {
    "_defaultOrder": 24,
    "_isFastLaunch": false,
    "category": "Compute optimized",
    "gpuNum": 0,
    "hideHardwareSpecs": false,
    "memoryGiB": 32,
    "name": "ml.c5.4xlarge",
    "vcpuNum": 16
   },
   {
    "_defaultOrder": 25,
    "_isFastLaunch": false,
    "category": "Compute optimized",
    "gpuNum": 0,
    "hideHardwareSpecs": false,
    "memoryGiB": 72,
    "name": "ml.c5.9xlarge",
    "vcpuNum": 36
   },
   {
    "_defaultOrder": 26,
    "_isFastLaunch": false,
    "category": "Compute optimized",
    "gpuNum": 0,
    "hideHardwareSpecs": false,
    "memoryGiB": 96,
    "name": "ml.c5.12xlarge",
    "vcpuNum": 48
   },
   {
    "_defaultOrder": 27,
    "_isFastLaunch": false,
    "category": "Compute optimized",
    "gpuNum": 0,
    "hideHardwareSpecs": false,
    "memoryGiB": 144,
    "name": "ml.c5.18xlarge",
    "vcpuNum": 72
   },
   {
    "_defaultOrder": 28,
    "_isFastLaunch": false,
    "category": "Compute optimized",
    "gpuNum": 0,
    "hideHardwareSpecs": false,
    "memoryGiB": 192,
    "name": "ml.c5.24xlarge",
    "vcpuNum": 96
   },
   {
    "_defaultOrder": 29,
    "_isFastLaunch": true,
    "category": "Accelerated computing",
    "gpuNum": 1,
    "hideHardwareSpecs": false,
    "memoryGiB": 16,
    "name": "ml.g4dn.xlarge",
    "vcpuNum": 4
   },
   {
    "_defaultOrder": 30,
    "_isFastLaunch": false,
    "category": "Accelerated computing",
    "gpuNum": 1,
    "hideHardwareSpecs": false,
    "memoryGiB": 32,
    "name": "ml.g4dn.2xlarge",
    "vcpuNum": 8
   },
   {
    "_defaultOrder": 31,
    "_isFastLaunch": false,
    "category": "Accelerated computing",
    "gpuNum": 1,
    "hideHardwareSpecs": false,
    "memoryGiB": 64,
    "name": "ml.g4dn.4xlarge",
    "vcpuNum": 16
   },
   {
    "_defaultOrder": 32,
    "_isFastLaunch": false,
    "category": "Accelerated computing",
    "gpuNum": 1,
    "hideHardwareSpecs": false,
    "memoryGiB": 128,
    "name": "ml.g4dn.8xlarge",
    "vcpuNum": 32
   },
   {
    "_defaultOrder": 33,
    "_isFastLaunch": false,
    "category": "Accelerated computing",
    "gpuNum": 4,
    "hideHardwareSpecs": false,
    "memoryGiB": 192,
    "name": "ml.g4dn.12xlarge",
    "vcpuNum": 48
   },
   {
    "_defaultOrder": 34,
    "_isFastLaunch": false,
    "category": "Accelerated computing",
    "gpuNum": 1,
    "hideHardwareSpecs": false,
    "memoryGiB": 256,
    "name": "ml.g4dn.16xlarge",
    "vcpuNum": 64
   },
   {
    "_defaultOrder": 35,
    "_isFastLaunch": false,
    "category": "Accelerated computing",
    "gpuNum": 1,
    "hideHardwareSpecs": false,
    "memoryGiB": 61,
    "name": "ml.p3.2xlarge",
    "vcpuNum": 8
   },
   {
    "_defaultOrder": 36,
    "_isFastLaunch": false,
    "category": "Accelerated computing",
    "gpuNum": 4,
    "hideHardwareSpecs": false,
    "memoryGiB": 244,
    "name": "ml.p3.8xlarge",
    "vcpuNum": 32
   },
   {
    "_defaultOrder": 37,
    "_isFastLaunch": false,
    "category": "Accelerated computing",
    "gpuNum": 8,
    "hideHardwareSpecs": false,
    "memoryGiB": 488,
    "name": "ml.p3.16xlarge",
    "vcpuNum": 64
   },
   {
    "_defaultOrder": 38,
    "_isFastLaunch": false,
    "category": "Accelerated computing",
    "gpuNum": 8,
    "hideHardwareSpecs": false,
    "memoryGiB": 768,
    "name": "ml.p3dn.24xlarge",
    "vcpuNum": 96
   },
   {
    "_defaultOrder": 39,
    "_isFastLaunch": false,
    "category": "Memory Optimized",
    "gpuNum": 0,
    "hideHardwareSpecs": false,
    "memoryGiB": 16,
    "name": "ml.r5.large",
    "vcpuNum": 2
   },
   {
    "_defaultOrder": 40,
    "_isFastLaunch": false,
    "category": "Memory Optimized",
    "gpuNum": 0,
    "hideHardwareSpecs": false,
    "memoryGiB": 32,
    "name": "ml.r5.xlarge",
    "vcpuNum": 4
   },
   {
    "_defaultOrder": 41,
    "_isFastLaunch": false,
    "category": "Memory Optimized",
    "gpuNum": 0,
    "hideHardwareSpecs": false,
    "memoryGiB": 64,
    "name": "ml.r5.2xlarge",
    "vcpuNum": 8
   },
   {
    "_defaultOrder": 42,
    "_isFastLaunch": false,
    "category": "Memory Optimized",
    "gpuNum": 0,
    "hideHardwareSpecs": false,
    "memoryGiB": 128,
    "name": "ml.r5.4xlarge",
    "vcpuNum": 16
   },
   {
    "_defaultOrder": 43,
    "_isFastLaunch": false,
    "category": "Memory Optimized",
    "gpuNum": 0,
    "hideHardwareSpecs": false,
    "memoryGiB": 256,
    "name": "ml.r5.8xlarge",
    "vcpuNum": 32
   },
   {
    "_defaultOrder": 44,
    "_isFastLaunch": false,
    "category": "Memory Optimized",
    "gpuNum": 0,
    "hideHardwareSpecs": false,
    "memoryGiB": 384,
    "name": "ml.r5.12xlarge",
    "vcpuNum": 48
   },
   {
    "_defaultOrder": 45,
    "_isFastLaunch": false,
    "category": "Memory Optimized",
    "gpuNum": 0,
    "hideHardwareSpecs": false,
    "memoryGiB": 512,
    "name": "ml.r5.16xlarge",
    "vcpuNum": 64
   },
   {
    "_defaultOrder": 46,
    "_isFastLaunch": false,
    "category": "Memory Optimized",
    "gpuNum": 0,
    "hideHardwareSpecs": false,
    "memoryGiB": 768,
    "name": "ml.r5.24xlarge",
    "vcpuNum": 96
   },
   {
    "_defaultOrder": 47,
    "_isFastLaunch": false,
    "category": "Accelerated computing",
    "gpuNum": 1,
    "hideHardwareSpecs": false,
    "memoryGiB": 16,
    "name": "ml.g5.xlarge",
    "vcpuNum": 4
   },
   {
    "_defaultOrder": 48,
    "_isFastLaunch": false,
    "category": "Accelerated computing",
    "gpuNum": 1,
    "hideHardwareSpecs": false,
    "memoryGiB": 32,
    "name": "ml.g5.2xlarge",
    "vcpuNum": 8
   },
   {
    "_defaultOrder": 49,
    "_isFastLaunch": false,
    "category": "Accelerated computing",
    "gpuNum": 1,
    "hideHardwareSpecs": false,
    "memoryGiB": 64,
    "name": "ml.g5.4xlarge",
    "vcpuNum": 16
   },
   {
    "_defaultOrder": 50,
    "_isFastLaunch": false,
    "category": "Accelerated computing",
    "gpuNum": 1,
    "hideHardwareSpecs": false,
    "memoryGiB": 128,
    "name": "ml.g5.8xlarge",
    "vcpuNum": 32
   },
   {
    "_defaultOrder": 51,
    "_isFastLaunch": false,
    "category": "Accelerated computing",
    "gpuNum": 1,
    "hideHardwareSpecs": false,
    "memoryGiB": 256,
    "name": "ml.g5.16xlarge",
    "vcpuNum": 64
   },
   {
    "_defaultOrder": 52,
    "_isFastLaunch": false,
    "category": "Accelerated computing",
    "gpuNum": 4,
    "hideHardwareSpecs": false,
    "memoryGiB": 192,
    "name": "ml.g5.12xlarge",
    "vcpuNum": 48
   },
   {
    "_defaultOrder": 53,
    "_isFastLaunch": false,
    "category": "Accelerated computing",
    "gpuNum": 4,
    "hideHardwareSpecs": false,
    "memoryGiB": 384,
    "name": "ml.g5.24xlarge",
    "vcpuNum": 96
   },
   {
    "_defaultOrder": 54,
    "_isFastLaunch": false,
    "category": "Accelerated computing",
    "gpuNum": 8,
    "hideHardwareSpecs": false,
    "memoryGiB": 768,
    "name": "ml.g5.48xlarge",
    "vcpuNum": 192
   },
   {
    "_defaultOrder": 55,
    "_isFastLaunch": false,
    "category": "Accelerated computing",
    "gpuNum": 8,
    "hideHardwareSpecs": false,
    "memoryGiB": 1152,
    "name": "ml.p4d.24xlarge",
    "vcpuNum": 96
   },
   {
    "_defaultOrder": 56,
    "_isFastLaunch": false,
    "category": "Accelerated computing",
    "gpuNum": 8,
    "hideHardwareSpecs": false,
    "memoryGiB": 1152,
    "name": "ml.p4de.24xlarge",
    "vcpuNum": 96
   }
  ],
  "colab": {
   "provenance": []
  },
  "instance_type": "ml.t3.medium",
  "kernelspec": {
   "display_name": "Python 3 [3.10]",
   "language": "python",
   "name": "python3"
  },
  "language_info": {
   "codemirror_mode": {
    "name": "ipython",
    "version": 3
   },
   "file_extension": ".py",
   "mimetype": "text/x-python",
   "name": "python",
   "nbconvert_exporter": "python",
   "pygments_lexer": "ipython3",
   "version": "3.10.2"
  }
 },
 "nbformat": 4,
 "nbformat_minor": 5
}
