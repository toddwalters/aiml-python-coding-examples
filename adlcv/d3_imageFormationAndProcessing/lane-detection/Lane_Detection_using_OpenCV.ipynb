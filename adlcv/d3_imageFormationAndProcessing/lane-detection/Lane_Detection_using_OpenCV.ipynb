{
 "cells": [
  {
   "cell_type": "markdown",
   "id": "0",
   "metadata": {
    "colab_type": "text",
    "id": "view-in-github"
   },
   "source": [
    "<a href=\"https://colab.research.google.com/github/toddwalters/pgaiml-python-coding-examples/blob/main/advanced-deep-learning-computer-vision/d3/lane%20detection/Lane_Detection_using_OpenCV.ipynb\" target=\"_parent\"><img src=\"https://colab.research.google.com/assets/colab-badge.svg\" alt=\"Open In Colab\"/></a>"
   ]
  },
  {
   "cell_type": "code",
   "execution_count": null,
   "id": "1",
   "metadata": {
    "id": "6HO37-TGy2Mb"
   },
   "outputs": [],
   "source": []
  },
  {
   "cell_type": "code",
   "execution_count": null,
   "id": "2",
   "metadata": {
    "colab": {
     "base_uri": "https://localhost:8080/"
    },
    "id": "gsiGDOI9y3M5",
    "outputId": "61445c59-970f-41d2-c1f5-5dbbacd2cfb5"
   },
   "outputs": [],
   "source": [
    "from google.colab import drive\n",
    "drive.mount('/content/drive')"
   ]
  },
  {
   "cell_type": "code",
   "execution_count": null,
   "id": "3",
   "metadata": {
    "id": "QY4_6vM4zdC9"
   },
   "outputs": [],
   "source": [
    "file_path = '/content/drive/MyDrive/Colab Notebooks/datasets/advDLandCV/d3/Highway.jpg'"
   ]
  },
  {
   "cell_type": "markdown",
   "id": "4",
   "metadata": {
    "id": "0"
   },
   "source": [
    "# Lane Detection using OpenCV"
   ]
  },
  {
   "cell_type": "markdown",
   "id": "5",
   "metadata": {
    "id": "1"
   },
   "source": [
    "## Step 1: Importing All Necessary Packages\n",
    "- Import the Python package cv2, which is used for computer vision and image processing\n",
    "- Import the Python package NumPy, which manages arrays\n",
    "- Import the Python package matplotlib, which sets the padding between and around the subplots as well as the figure size"
   ]
  },
  {
   "cell_type": "code",
   "execution_count": null,
   "id": "6",
   "metadata": {
    "id": "2",
    "tags": []
   },
   "outputs": [],
   "source": [
    "import cv2\n",
    "import numpy as np\n",
    "import matplotlib.pyplot as plt\n",
    "\n",
    "def to_rgb(image):\n",
    "    return(cv2.cvtColor(image, cv2.COLOR_BGR2RGB))"
   ]
  },
  {
   "cell_type": "markdown",
   "id": "7",
   "metadata": {
    "id": "3"
   },
   "source": [
    "## Step 2: Reading an Image\n",
    "- Read and display the image"
   ]
  },
  {
   "cell_type": "code",
   "execution_count": null,
   "id": "8",
   "metadata": {
    "colab": {
     "base_uri": "https://localhost:8080/",
     "height": 397
    },
    "id": "4",
    "outputId": "14509664-3532-4d05-8997-71a8d496a403",
    "tags": []
   },
   "outputs": [],
   "source": [
    "image = cv2.imread(file_path)\n",
    "\n",
    "plt.imshow(to_rgb(image))\n",
    "plt.show()"
   ]
  },
  {
   "cell_type": "markdown",
   "id": "9",
   "metadata": {
    "id": "5"
   },
   "source": [
    "## Step 3: Processing Image\n",
    "- Convert the image to grayscale\n",
    "- Apply Gaussian blur to the grayscale image\n",
    "- Display the processed image\n",
    "\n"
   ]
  },
  {
   "cell_type": "code",
   "execution_count": null,
   "id": "10",
   "metadata": {
    "colab": {
     "base_uri": "https://localhost:8080/",
     "height": 416
    },
    "id": "6",
    "outputId": "03801f08-0312-448d-80fe-36b16d77da8a",
    "tags": []
   },
   "outputs": [],
   "source": [
    "gray = cv2.cvtColor(image, cv2.COLOR_BGR2GRAY)\n",
    "gray = cv2.GaussianBlur(gray, (11,11), 0)\n",
    "plt.imshow(gray)\n",
    "# plt.imshow(to_rgb(gray))\n",
    "# plt.show()"
   ]
  },
  {
   "cell_type": "markdown",
   "id": "11",
   "metadata": {
    "id": "7"
   },
   "source": [
    "**Observation**\n",
    "\n",
    "The image is converted to grayscale and displayed."
   ]
  },
  {
   "cell_type": "markdown",
   "id": "12",
   "metadata": {
    "id": "8"
   },
   "source": [
    "## Step 4: Detecting Edges with Canny\n",
    "- Detect edges using Canny edge detection\n",
    "- Display the edges"
   ]
  },
  {
   "cell_type": "code",
   "execution_count": null,
   "id": "13",
   "metadata": {
    "colab": {
     "base_uri": "https://localhost:8080/",
     "height": 397
    },
    "id": "9",
    "outputId": "d886856b-b953-47dd-ef4c-4eefb979c5c4",
    "tags": []
   },
   "outputs": [],
   "source": [
    "edges = cv2.Canny(gray, 50, 200)\n",
    "plt.imshow(edges)\n",
    "plt.show()"
   ]
  },
  {
   "cell_type": "markdown",
   "id": "14",
   "metadata": {
    "id": "10"
   },
   "source": [
    "**Observation**\n",
    "\n",
    "The edges in the image are detected and displayed.\n"
   ]
  },
  {
   "cell_type": "markdown",
   "id": "15",
   "metadata": {
    "id": "11"
   },
   "source": [
    "## Step 5: Applying Hough Transform\n",
    "- Detect lines using the Hough transform\n",
    "- Iterate over each line detected\n",
    "- Get the endpoints of the line and filter outlines at the top of the image\n",
    "- Draw the filtered lines on the original image\n",
    "- Display the modified image\n",
    "\n"
   ]
  },
  {
   "cell_type": "markdown",
   "id": "16",
   "metadata": {
    "id": "12"
   },
   "source": [
    "![image.png](data:image/png;base64,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)"
   ]
  },
  {
   "cell_type": "code",
   "execution_count": null,
   "id": "17",
   "metadata": {
    "id": "13",
    "tags": []
   },
   "outputs": [],
   "source": [
    "# edges: output of the edge detector\n",
    "# Lines: Coordinates of start and end of the line\n",
    "# rho: Resolution parameter in pixel\n",
    "# theta: Resolution parameter in radians\n",
    "# threshold: min number of intersecting points to detect line\n",
    "\n",
    "lines = cv2.HoughLinesP(edges, rho=1, theta=np.pi/180, threshold = 100, minLineLength=5, maxLineGap=250)\n"
   ]
  },
  {
   "cell_type": "code",
   "execution_count": null,
   "id": "18",
   "metadata": {
    "colab": {
     "base_uri": "https://localhost:8080/"
    },
    "id": "SggzCaGS2FDD",
    "outputId": "efcb8968-1495-4ab3-ca40-c1b5a37494c2"
   },
   "outputs": [],
   "source": [
    "lines[0]"
   ]
  },
  {
   "cell_type": "code",
   "execution_count": null,
   "id": "19",
   "metadata": {
    "id": "1Omh_Hob1oRM"
   },
   "outputs": [],
   "source": [
    "lines_copy = lines.copy()\n",
    "lines_copy_tmp = lines_copy.copy()"
   ]
  },
  {
   "cell_type": "code",
   "execution_count": null,
   "id": "20",
   "metadata": {
    "id": "14",
    "tags": []
   },
   "outputs": [],
   "source": [
    "for line in lines:\n",
    "    x1, y1, x2, y2 = line[0]\n",
    "    # if (y1 > 4000 or y2 > 4000): #Filter out the lines in the top of the image\n",
    "    if (y1 > 4000 or y2 > 4000):\n",
    "        cv2.line(image, (x1, y1), (x2, y2), (0, 255, 0), 3)"
   ]
  },
  {
   "cell_type": "code",
   "execution_count": null,
   "id": "21",
   "metadata": {
    "colab": {
     "base_uri": "https://localhost:8080/",
     "height": 397
    },
    "id": "15",
    "outputId": "7533c11f-d9ca-480b-a904-17c11cd37868",
    "tags": []
   },
   "outputs": [],
   "source": [
    "plt.imshow(to_rgb(image))\n",
    "plt.show()"
   ]
  },
  {
   "cell_type": "markdown",
   "id": "22",
   "metadata": {
    "id": "16"
   },
   "source": [
    "**Observation**\n",
    "\n",
    "The code detects lines in the image and displays them for visualization."
   ]
  }
 ],
 "metadata": {
  "availableInstances": [
   {
    "_defaultOrder": 0,
    "_isFastLaunch": true,
    "category": "General purpose",
    "gpuNum": 0,
    "hideHardwareSpecs": false,
    "memoryGiB": 4,
    "name": "ml.t3.medium",
    "vcpuNum": 2
   },
   {
    "_defaultOrder": 1,
    "_isFastLaunch": false,
    "category": "General purpose",
    "gpuNum": 0,
    "hideHardwareSpecs": false,
    "memoryGiB": 8,
    "name": "ml.t3.large",
    "vcpuNum": 2
   },
   {
    "_defaultOrder": 2,
    "_isFastLaunch": false,
    "category": "General purpose",
    "gpuNum": 0,
    "hideHardwareSpecs": false,
    "memoryGiB": 16,
    "name": "ml.t3.xlarge",
    "vcpuNum": 4
   },
   {
    "_defaultOrder": 3,
    "_isFastLaunch": false,
    "category": "General purpose",
    "gpuNum": 0,
    "hideHardwareSpecs": false,
    "memoryGiB": 32,
    "name": "ml.t3.2xlarge",
    "vcpuNum": 8
   },
   {
    "_defaultOrder": 4,
    "_isFastLaunch": true,
    "category": "General purpose",
    "gpuNum": 0,
    "hideHardwareSpecs": false,
    "memoryGiB": 8,
    "name": "ml.m5.large",
    "vcpuNum": 2
   },
   {
    "_defaultOrder": 5,
    "_isFastLaunch": false,
    "category": "General purpose",
    "gpuNum": 0,
    "hideHardwareSpecs": false,
    "memoryGiB": 16,
    "name": "ml.m5.xlarge",
    "vcpuNum": 4
   },
   {
    "_defaultOrder": 6,
    "_isFastLaunch": false,
    "category": "General purpose",
    "gpuNum": 0,
    "hideHardwareSpecs": false,
    "memoryGiB": 32,
    "name": "ml.m5.2xlarge",
    "vcpuNum": 8
   },
   {
    "_defaultOrder": 7,
    "_isFastLaunch": false,
    "category": "General purpose",
    "gpuNum": 0,
    "hideHardwareSpecs": false,
    "memoryGiB": 64,
    "name": "ml.m5.4xlarge",
    "vcpuNum": 16
   },
   {
    "_defaultOrder": 8,
    "_isFastLaunch": false,
    "category": "General purpose",
    "gpuNum": 0,
    "hideHardwareSpecs": false,
    "memoryGiB": 128,
    "name": "ml.m5.8xlarge",
    "vcpuNum": 32
   },
   {
    "_defaultOrder": 9,
    "_isFastLaunch": false,
    "category": "General purpose",
    "gpuNum": 0,
    "hideHardwareSpecs": false,
    "memoryGiB": 192,
    "name": "ml.m5.12xlarge",
    "vcpuNum": 48
   },
   {
    "_defaultOrder": 10,
    "_isFastLaunch": false,
    "category": "General purpose",
    "gpuNum": 0,
    "hideHardwareSpecs": false,
    "memoryGiB": 256,
    "name": "ml.m5.16xlarge",
    "vcpuNum": 64
   },
   {
    "_defaultOrder": 11,
    "_isFastLaunch": false,
    "category": "General purpose",
    "gpuNum": 0,
    "hideHardwareSpecs": false,
    "memoryGiB": 384,
    "name": "ml.m5.24xlarge",
    "vcpuNum": 96
   },
   {
    "_defaultOrder": 12,
    "_isFastLaunch": false,
    "category": "General purpose",
    "gpuNum": 0,
    "hideHardwareSpecs": false,
    "memoryGiB": 8,
    "name": "ml.m5d.large",
    "vcpuNum": 2
   },
   {
    "_defaultOrder": 13,
    "_isFastLaunch": false,
    "category": "General purpose",
    "gpuNum": 0,
    "hideHardwareSpecs": false,
    "memoryGiB": 16,
    "name": "ml.m5d.xlarge",
    "vcpuNum": 4
   },
   {
    "_defaultOrder": 14,
    "_isFastLaunch": false,
    "category": "General purpose",
    "gpuNum": 0,
    "hideHardwareSpecs": false,
    "memoryGiB": 32,
    "name": "ml.m5d.2xlarge",
    "vcpuNum": 8
   },
   {
    "_defaultOrder": 15,
    "_isFastLaunch": false,
    "category": "General purpose",
    "gpuNum": 0,
    "hideHardwareSpecs": false,
    "memoryGiB": 64,
    "name": "ml.m5d.4xlarge",
    "vcpuNum": 16
   },
   {
    "_defaultOrder": 16,
    "_isFastLaunch": false,
    "category": "General purpose",
    "gpuNum": 0,
    "hideHardwareSpecs": false,
    "memoryGiB": 128,
    "name": "ml.m5d.8xlarge",
    "vcpuNum": 32
   },
   {
    "_defaultOrder": 17,
    "_isFastLaunch": false,
    "category": "General purpose",
    "gpuNum": 0,
    "hideHardwareSpecs": false,
    "memoryGiB": 192,
    "name": "ml.m5d.12xlarge",
    "vcpuNum": 48
   },
   {
    "_defaultOrder": 18,
    "_isFastLaunch": false,
    "category": "General purpose",
    "gpuNum": 0,
    "hideHardwareSpecs": false,
    "memoryGiB": 256,
    "name": "ml.m5d.16xlarge",
    "vcpuNum": 64
   },
   {
    "_defaultOrder": 19,
    "_isFastLaunch": false,
    "category": "General purpose",
    "gpuNum": 0,
    "hideHardwareSpecs": false,
    "memoryGiB": 384,
    "name": "ml.m5d.24xlarge",
    "vcpuNum": 96
   },
   {
    "_defaultOrder": 20,
    "_isFastLaunch": false,
    "category": "General purpose",
    "gpuNum": 0,
    "hideHardwareSpecs": true,
    "memoryGiB": 0,
    "name": "ml.geospatial.interactive",
    "supportedImageNames": [
     "sagemaker-geospatial-v1-0"
    ],
    "vcpuNum": 0
   },
   {
    "_defaultOrder": 21,
    "_isFastLaunch": true,
    "category": "Compute optimized",
    "gpuNum": 0,
    "hideHardwareSpecs": false,
    "memoryGiB": 4,
    "name": "ml.c5.large",
    "vcpuNum": 2
   },
   {
    "_defaultOrder": 22,
    "_isFastLaunch": false,
    "category": "Compute optimized",
    "gpuNum": 0,
    "hideHardwareSpecs": false,
    "memoryGiB": 8,
    "name": "ml.c5.xlarge",
    "vcpuNum": 4
   },
   {
    "_defaultOrder": 23,
    "_isFastLaunch": false,
    "category": "Compute optimized",
    "gpuNum": 0,
    "hideHardwareSpecs": false,
    "memoryGiB": 16,
    "name": "ml.c5.2xlarge",
    "vcpuNum": 8
   },
   {
    "_defaultOrder": 24,
    "_isFastLaunch": false,
    "category": "Compute optimized",
    "gpuNum": 0,
    "hideHardwareSpecs": false,
    "memoryGiB": 32,
    "name": "ml.c5.4xlarge",
    "vcpuNum": 16
   },
   {
    "_defaultOrder": 25,
    "_isFastLaunch": false,
    "category": "Compute optimized",
    "gpuNum": 0,
    "hideHardwareSpecs": false,
    "memoryGiB": 72,
    "name": "ml.c5.9xlarge",
    "vcpuNum": 36
   },
   {
    "_defaultOrder": 26,
    "_isFastLaunch": false,
    "category": "Compute optimized",
    "gpuNum": 0,
    "hideHardwareSpecs": false,
    "memoryGiB": 96,
    "name": "ml.c5.12xlarge",
    "vcpuNum": 48
   },
   {
    "_defaultOrder": 27,
    "_isFastLaunch": false,
    "category": "Compute optimized",
    "gpuNum": 0,
    "hideHardwareSpecs": false,
    "memoryGiB": 144,
    "name": "ml.c5.18xlarge",
    "vcpuNum": 72
   },
   {
    "_defaultOrder": 28,
    "_isFastLaunch": false,
    "category": "Compute optimized",
    "gpuNum": 0,
    "hideHardwareSpecs": false,
    "memoryGiB": 192,
    "name": "ml.c5.24xlarge",
    "vcpuNum": 96
   },
   {
    "_defaultOrder": 29,
    "_isFastLaunch": true,
    "category": "Accelerated computing",
    "gpuNum": 1,
    "hideHardwareSpecs": false,
    "memoryGiB": 16,
    "name": "ml.g4dn.xlarge",
    "vcpuNum": 4
   },
   {
    "_defaultOrder": 30,
    "_isFastLaunch": false,
    "category": "Accelerated computing",
    "gpuNum": 1,
    "hideHardwareSpecs": false,
    "memoryGiB": 32,
    "name": "ml.g4dn.2xlarge",
    "vcpuNum": 8
   },
   {
    "_defaultOrder": 31,
    "_isFastLaunch": false,
    "category": "Accelerated computing",
    "gpuNum": 1,
    "hideHardwareSpecs": false,
    "memoryGiB": 64,
    "name": "ml.g4dn.4xlarge",
    "vcpuNum": 16
   },
   {
    "_defaultOrder": 32,
    "_isFastLaunch": false,
    "category": "Accelerated computing",
    "gpuNum": 1,
    "hideHardwareSpecs": false,
    "memoryGiB": 128,
    "name": "ml.g4dn.8xlarge",
    "vcpuNum": 32
   },
   {
    "_defaultOrder": 33,
    "_isFastLaunch": false,
    "category": "Accelerated computing",
    "gpuNum": 4,
    "hideHardwareSpecs": false,
    "memoryGiB": 192,
    "name": "ml.g4dn.12xlarge",
    "vcpuNum": 48
   },
   {
    "_defaultOrder": 34,
    "_isFastLaunch": false,
    "category": "Accelerated computing",
    "gpuNum": 1,
    "hideHardwareSpecs": false,
    "memoryGiB": 256,
    "name": "ml.g4dn.16xlarge",
    "vcpuNum": 64
   },
   {
    "_defaultOrder": 35,
    "_isFastLaunch": false,
    "category": "Accelerated computing",
    "gpuNum": 1,
    "hideHardwareSpecs": false,
    "memoryGiB": 61,
    "name": "ml.p3.2xlarge",
    "vcpuNum": 8
   },
   {
    "_defaultOrder": 36,
    "_isFastLaunch": false,
    "category": "Accelerated computing",
    "gpuNum": 4,
    "hideHardwareSpecs": false,
    "memoryGiB": 244,
    "name": "ml.p3.8xlarge",
    "vcpuNum": 32
   },
   {
    "_defaultOrder": 37,
    "_isFastLaunch": false,
    "category": "Accelerated computing",
    "gpuNum": 8,
    "hideHardwareSpecs": false,
    "memoryGiB": 488,
    "name": "ml.p3.16xlarge",
    "vcpuNum": 64
   },
   {
    "_defaultOrder": 38,
    "_isFastLaunch": false,
    "category": "Accelerated computing",
    "gpuNum": 8,
    "hideHardwareSpecs": false,
    "memoryGiB": 768,
    "name": "ml.p3dn.24xlarge",
    "vcpuNum": 96
   },
   {
    "_defaultOrder": 39,
    "_isFastLaunch": false,
    "category": "Memory Optimized",
    "gpuNum": 0,
    "hideHardwareSpecs": false,
    "memoryGiB": 16,
    "name": "ml.r5.large",
    "vcpuNum": 2
   },
   {
    "_defaultOrder": 40,
    "_isFastLaunch": false,
    "category": "Memory Optimized",
    "gpuNum": 0,
    "hideHardwareSpecs": false,
    "memoryGiB": 32,
    "name": "ml.r5.xlarge",
    "vcpuNum": 4
   },
   {
    "_defaultOrder": 41,
    "_isFastLaunch": false,
    "category": "Memory Optimized",
    "gpuNum": 0,
    "hideHardwareSpecs": false,
    "memoryGiB": 64,
    "name": "ml.r5.2xlarge",
    "vcpuNum": 8
   },
   {
    "_defaultOrder": 42,
    "_isFastLaunch": false,
    "category": "Memory Optimized",
    "gpuNum": 0,
    "hideHardwareSpecs": false,
    "memoryGiB": 128,
    "name": "ml.r5.4xlarge",
    "vcpuNum": 16
   },
   {
    "_defaultOrder": 43,
    "_isFastLaunch": false,
    "category": "Memory Optimized",
    "gpuNum": 0,
    "hideHardwareSpecs": false,
    "memoryGiB": 256,
    "name": "ml.r5.8xlarge",
    "vcpuNum": 32
   },
   {
    "_defaultOrder": 44,
    "_isFastLaunch": false,
    "category": "Memory Optimized",
    "gpuNum": 0,
    "hideHardwareSpecs": false,
    "memoryGiB": 384,
    "name": "ml.r5.12xlarge",
    "vcpuNum": 48
   },
   {
    "_defaultOrder": 45,
    "_isFastLaunch": false,
    "category": "Memory Optimized",
    "gpuNum": 0,
    "hideHardwareSpecs": false,
    "memoryGiB": 512,
    "name": "ml.r5.16xlarge",
    "vcpuNum": 64
   },
   {
    "_defaultOrder": 46,
    "_isFastLaunch": false,
    "category": "Memory Optimized",
    "gpuNum": 0,
    "hideHardwareSpecs": false,
    "memoryGiB": 768,
    "name": "ml.r5.24xlarge",
    "vcpuNum": 96
   },
   {
    "_defaultOrder": 47,
    "_isFastLaunch": false,
    "category": "Accelerated computing",
    "gpuNum": 1,
    "hideHardwareSpecs": false,
    "memoryGiB": 16,
    "name": "ml.g5.xlarge",
    "vcpuNum": 4
   },
   {
    "_defaultOrder": 48,
    "_isFastLaunch": false,
    "category": "Accelerated computing",
    "gpuNum": 1,
    "hideHardwareSpecs": false,
    "memoryGiB": 32,
    "name": "ml.g5.2xlarge",
    "vcpuNum": 8
   },
   {
    "_defaultOrder": 49,
    "_isFastLaunch": false,
    "category": "Accelerated computing",
    "gpuNum": 1,
    "hideHardwareSpecs": false,
    "memoryGiB": 64,
    "name": "ml.g5.4xlarge",
    "vcpuNum": 16
   },
   {
    "_defaultOrder": 50,
    "_isFastLaunch": false,
    "category": "Accelerated computing",
    "gpuNum": 1,
    "hideHardwareSpecs": false,
    "memoryGiB": 128,
    "name": "ml.g5.8xlarge",
    "vcpuNum": 32
   },
   {
    "_defaultOrder": 51,
    "_isFastLaunch": false,
    "category": "Accelerated computing",
    "gpuNum": 1,
    "hideHardwareSpecs": false,
    "memoryGiB": 256,
    "name": "ml.g5.16xlarge",
    "vcpuNum": 64
   },
   {
    "_defaultOrder": 52,
    "_isFastLaunch": false,
    "category": "Accelerated computing",
    "gpuNum": 4,
    "hideHardwareSpecs": false,
    "memoryGiB": 192,
    "name": "ml.g5.12xlarge",
    "vcpuNum": 48
   },
   {
    "_defaultOrder": 53,
    "_isFastLaunch": false,
    "category": "Accelerated computing",
    "gpuNum": 4,
    "hideHardwareSpecs": false,
    "memoryGiB": 384,
    "name": "ml.g5.24xlarge",
    "vcpuNum": 96
   },
   {
    "_defaultOrder": 54,
    "_isFastLaunch": false,
    "category": "Accelerated computing",
    "gpuNum": 8,
    "hideHardwareSpecs": false,
    "memoryGiB": 768,
    "name": "ml.g5.48xlarge",
    "vcpuNum": 192
   },
   {
    "_defaultOrder": 55,
    "_isFastLaunch": false,
    "category": "Accelerated computing",
    "gpuNum": 8,
    "hideHardwareSpecs": false,
    "memoryGiB": 1152,
    "name": "ml.p4d.24xlarge",
    "vcpuNum": 96
   },
   {
    "_defaultOrder": 56,
    "_isFastLaunch": false,
    "category": "Accelerated computing",
    "gpuNum": 8,
    "hideHardwareSpecs": false,
    "memoryGiB": 1152,
    "name": "ml.p4de.24xlarge",
    "vcpuNum": 96
   }
  ],
  "colab": {
   "include_colab_link": true,
   "provenance": []
  },
  "instance_type": "ml.g4dn.xlarge",
  "kernelspec": {
   "display_name": "Python 3 [3.10]",
   "language": "python",
   "name": "python3"
  },
  "language_info": {
   "codemirror_mode": {
    "name": "ipython",
    "version": 3
   },
   "file_extension": ".py",
   "mimetype": "text/x-python",
   "name": "python",
   "nbconvert_exporter": "python",
   "pygments_lexer": "ipython3",
   "version": "3.10.2"
  }
 },
 "nbformat": 4,
 "nbformat_minor": 5
}
