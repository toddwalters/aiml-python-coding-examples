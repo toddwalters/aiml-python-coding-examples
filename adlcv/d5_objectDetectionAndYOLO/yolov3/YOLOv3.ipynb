{
 "cells": [
  {
   "cell_type": "code",
   "execution_count": null,
   "metadata": {
    "colab": {
     "base_uri": "https://localhost:8080/"
    },
    "executionInfo": {
     "elapsed": 1642,
     "status": "ok",
     "timestamp": 1724399783907,
     "user": {
      "displayName": "Dr. Nisarg Gandhewar",
      "userId": "08865821500269811620"
     },
     "user_tz": -330
    },
    "id": "fJgbDDJntinG",
    "outputId": "e55cb2ef-72b4-4dcd-90fc-0d77ba1c1e8b"
   },
   "outputs": [],
   "source": [
    "!git clone https://github.com/pjreddie/darknet\n",
    "!cd darknet"
   ]
  },
  {
   "cell_type": "code",
   "execution_count": null,
   "metadata": {
    "colab": {
     "base_uri": "https://localhost:8080/"
    },
    "executionInfo": {
     "elapsed": 465,
     "status": "ok",
     "timestamp": 1724400070846,
     "user": {
      "displayName": "Dr. Nisarg Gandhewar",
      "userId": "08865821500269811620"
     },
     "user_tz": -330
    },
    "id": "m85Kk-Jstvd9",
    "outputId": "2b954b6b-e786-421d-8bda-ed79801345a4"
   },
   "outputs": [],
   "source": [
    "!pwd"
   ]
  },
  {
   "cell_type": "code",
   "execution_count": null,
   "metadata": {
    "colab": {
     "base_uri": "https://localhost:8080/"
    },
    "executionInfo": {
     "elapsed": 7,
     "status": "ok",
     "timestamp": 1724400072809,
     "user": {
      "displayName": "Dr. Nisarg Gandhewar",
      "userId": "08865821500269811620"
     },
     "user_tz": -330
    },
    "id": "2ODDoCntt1LW",
    "outputId": "81f6d142-33ed-4c55-9afc-93c8eeb069e2"
   },
   "outputs": [],
   "source": [
    "%cd /content/darknet"
   ]
  },
  {
   "cell_type": "code",
   "execution_count": null,
   "metadata": {
    "colab": {
     "base_uri": "https://localhost:8080/"
    },
    "executionInfo": {
     "elapsed": 11,
     "status": "ok",
     "timestamp": 1724400075652,
     "user": {
      "displayName": "Dr. Nisarg Gandhewar",
      "userId": "08865821500269811620"
     },
     "user_tz": -330
    },
    "id": "0mHuXll9t5Zk",
    "outputId": "f78fd66f-884f-4fc2-a0cb-16c510a44f2f"
   },
   "outputs": [],
   "source": [
    "!pwd"
   ]
  },
  {
   "cell_type": "code",
   "execution_count": null,
   "metadata": {
    "colab": {
     "base_uri": "https://localhost:8080/"
    },
    "executionInfo": {
     "elapsed": 25423,
     "status": "ok",
     "timestamp": 1724400102607,
     "user": {
      "displayName": "Dr. Nisarg Gandhewar",
      "userId": "08865821500269811620"
     },
     "user_tz": -330
    },
    "id": "XV8FCZaRt6V_",
    "outputId": "6b95a139-9a68-4ca1-95ff-067c3a49ecb0"
   },
   "outputs": [],
   "source": [
    "!make"
   ]
  },
  {
   "cell_type": "code",
   "execution_count": null,
   "metadata": {
    "colab": {
     "base_uri": "https://localhost:8080/"
    },
    "executionInfo": {
     "elapsed": 46877,
     "status": "ok",
     "timestamp": 1724400154574,
     "user": {
      "displayName": "Dr. Nisarg Gandhewar",
      "userId": "08865821500269811620"
     },
     "user_tz": -330
    },
    "id": "RaAC0sMSt8RT",
    "outputId": "4c9d5b9e-cec0-48ab-8e99-9684416dc455"
   },
   "outputs": [],
   "source": [
    "!wget https://pjreddie.com/media/files/yolov3.weights"
   ]
  },
  {
   "cell_type": "code",
   "execution_count": null,
   "metadata": {
    "colab": {
     "base_uri": "https://localhost:8080/"
    },
    "executionInfo": {
     "elapsed": 34470,
     "status": "ok",
     "timestamp": 1724400196114,
     "user": {
      "displayName": "Dr. Nisarg Gandhewar",
      "userId": "08865821500269811620"
     },
     "user_tz": -330
    },
    "id": "EeZNNwPkueSN",
    "outputId": "ff570b45-52ab-4701-fd0c-dd29242e9ae7"
   },
   "outputs": [],
   "source": [
    "!./darknet detect cfg/yolov3.cfg yolov3.weights /content/cat.3.jpg"
   ]
  },
  {
   "cell_type": "code",
   "execution_count": null,
   "metadata": {
    "colab": {
     "base_uri": "https://localhost:8080/",
     "height": 406
    },
    "executionInfo": {
     "elapsed": 2474,
     "status": "ok",
     "timestamp": 1724400205997,
     "user": {
      "displayName": "Dr. Nisarg Gandhewar",
      "userId": "08865821500269811620"
     },
     "user_tz": -330
    },
    "id": "GGQ7Hs5Vuvig",
    "outputId": "8315eef5-2e95-4fea-840a-6e7d09da3560"
   },
   "outputs": [],
   "source": [
    "import cv2\n",
    "import matplotlib.pyplot as plt\n",
    "import os.path\n",
    "\n",
    "fig, ax = plt.subplots()\n",
    "\n",
    "ax.tick_params(labelbottom=\"off\", bottom = \"off\")\n",
    "ax.tick_params(labelleft=\"off\", left = \"off\")\n",
    "ax.set_xticklabels([])\n",
    "ax.axis('off')\n",
    "\n",
    "file = './predictions.jpg'\n",
    "if os.path.exists(file):\n",
    "  img = cv2.imread(file)\n",
    "  show_img = cv2.cvtColor(img, cv2.COLOR_BGR2RGB)\n",
    "  plt.imshow(show_img)\n",
    "  plt.show\n",
    "\n"
   ]
  },
  {
   "cell_type": "code",
   "execution_count": null,
   "metadata": {
    "colab": {
     "base_uri": "https://localhost:8080/"
    },
    "executionInfo": {
     "elapsed": 23796,
     "status": "ok",
     "timestamp": 1724252521961,
     "user": {
      "displayName": "Dr. Nisarg Gandhewar",
      "userId": "08865821500269811620"
     },
     "user_tz": -330
    },
    "id": "KSv_VQAqwjho",
    "outputId": "7422802a-ad38-4edd-f194-d1d07f2e90b6"
   },
   "outputs": [],
   "source": [
    "!./darknet detect cfg/yolov3.cfg yolov3.weights /content/beach.jpg"
   ]
  },
  {
   "cell_type": "code",
   "execution_count": null,
   "metadata": {
    "colab": {
     "base_uri": "https://localhost:8080/",
     "height": 367
    },
    "executionInfo": {
     "elapsed": 2312,
     "status": "ok",
     "timestamp": 1724252538168,
     "user": {
      "displayName": "Dr. Nisarg Gandhewar",
      "userId": "08865821500269811620"
     },
     "user_tz": -330
    },
    "id": "ybkTETIAw1wB",
    "outputId": "3eb3a43d-f223-4388-ae62-96659a43bba2"
   },
   "outputs": [],
   "source": [
    "import cv2\n",
    "import matplotlib.pyplot as plt\n",
    "import os.path\n",
    "\n",
    "fig, ax = plt.subplots()\n",
    "\n",
    "ax.tick_params(labelbottom=\"off\", bottom = \"off\")\n",
    "ax.tick_params(labelleft=\"off\", left = \"off\")\n",
    "ax.set_xticklabels([])\n",
    "ax.axis('off')\n",
    "\n",
    "file = './predictions.jpg'\n",
    "if os.path.exists(file):\n",
    "  img = cv2.imread(file)\n",
    "  show_img = cv2.cvtColor(img, cv2.COLOR_BGR2RGB)\n",
    "  plt.imshow(show_img)\n",
    "  plt.show\n",
    "\n"
   ]
  },
  {
   "cell_type": "markdown",
   "metadata": {
    "id": "rhm9ocPXyjWr"
   },
   "source": []
  },
  {
   "cell_type": "code",
   "execution_count": null,
   "metadata": {
    "colab": {
     "base_uri": "https://localhost:8080/"
    },
    "id": "i79yWKwwxGcx",
    "outputId": "4ff53ecc-ecd9-4968-95c2-9434602cd2db"
   },
   "outputs": [],
   "source": [
    "!./darknet detect cfg/yolov3.cfg yolov3.weights /content/Person_car.jpeg"
   ]
  },
  {
   "cell_type": "code",
   "execution_count": null,
   "metadata": {
    "colab": {
     "base_uri": "https://localhost:8080/",
     "height": 367
    },
    "id": "QKY3gyrQyXYD",
    "outputId": "3817d894-7044-47b2-8d23-19c4846929c9"
   },
   "outputs": [],
   "source": [
    "import cv2\n",
    "import matplotlib.pyplot as plt\n",
    "import os.path\n",
    "\n",
    "fig, ax = plt.subplots()\n",
    "\n",
    "ax.tick_params(labelbottom=\"off\", bottom = \"off\")\n",
    "ax.tick_params(labelleft=\"off\", left = \"off\")\n",
    "ax.set_xticklabels([])\n",
    "ax.axis('off')\n",
    "\n",
    "file = './predictions.jpg'\n",
    "if os.path.exists(file):\n",
    "  img = cv2.imread(file)\n",
    "  show_img = cv2.cvtColor(img, cv2.COLOR_BGR2RGB)\n",
    "  plt.imshow(show_img)\n",
    "  plt.show\n",
    "\n"
   ]
  },
  {
   "cell_type": "code",
   "execution_count": null,
   "metadata": {
    "colab": {
     "base_uri": "https://localhost:8080/"
    },
    "id": "7-oZSx0TyqsO",
    "outputId": "18f2a36f-8be9-4907-95b5-72d9f5aeeac9"
   },
   "outputs": [],
   "source": [
    "!./darknet detect cfg/yolov3.cfg yolov3.weights /content/car_trafficLight.jpeg"
   ]
  },
  {
   "cell_type": "code",
   "execution_count": null,
   "metadata": {
    "colab": {
     "base_uri": "https://localhost:8080/",
     "height": 367
    },
    "id": "-61w5rkhyv9U",
    "outputId": "c0f911c8-2f25-41b1-c4c4-3ed843344931"
   },
   "outputs": [],
   "source": [
    "import cv2\n",
    "import matplotlib.pyplot as plt\n",
    "import os.path\n",
    "\n",
    "fig, ax = plt.subplots()\n",
    "\n",
    "ax.tick_params(labelbottom=\"off\", bottom = \"off\")\n",
    "ax.tick_params(labelleft=\"off\", left = \"off\")\n",
    "ax.set_xticklabels([])\n",
    "ax.axis('off')\n",
    "\n",
    "file = './predictions.jpg'\n",
    "if os.path.exists(file):\n",
    "  img = cv2.imread(file)\n",
    "  show_img = cv2.cvtColor(img, cv2.COLOR_BGR2RGB)\n",
    "  plt.imshow(show_img)\n",
    "  plt.show\n",
    "\n"
   ]
  },
  {
   "cell_type": "code",
   "execution_count": null,
   "metadata": {
    "colab": {
     "base_uri": "https://localhost:8080/"
    },
    "id": "RzecTMyRzMfl",
    "outputId": "e3ad88d7-ed47-45fb-a924-b5803c6a1f33"
   },
   "outputs": [],
   "source": [
    "!./darknet detect cfg/yolov3.cfg yolov3.weights /content/horseboy-photo05.jpg"
   ]
  },
  {
   "cell_type": "code",
   "execution_count": null,
   "metadata": {
    "colab": {
     "base_uri": "https://localhost:8080/",
     "height": 406
    },
    "id": "rEgB3UrnzTIC",
    "outputId": "f5d86352-4667-47e3-b543-ee4d5109e43e"
   },
   "outputs": [],
   "source": [
    "import cv2\n",
    "import matplotlib.pyplot as plt\n",
    "import os.path\n",
    "\n",
    "fig, ax = plt.subplots()\n",
    "\n",
    "ax.tick_params(labelbottom=\"off\", bottom = \"off\")\n",
    "ax.tick_params(labelleft=\"off\", left = \"off\")\n",
    "ax.set_xticklabels([])\n",
    "ax.axis('off')\n",
    "\n",
    "file = './predictions.jpg'\n",
    "if os.path.exists(file):\n",
    "  img = cv2.imread(file)\n",
    "  show_img = cv2.cvtColor(img, cv2.COLOR_BGR2RGB)\n",
    "  plt.imshow(show_img)\n",
    "  plt.show\n",
    "\n"
   ]
  },
  {
   "cell_type": "code",
   "execution_count": null,
   "metadata": {
    "id": "i9Cfbg3BzfI0"
   },
   "outputs": [],
   "source": []
  }
 ],
 "metadata": {
  "colab": {
   "provenance": []
  },
  "kernelspec": {
   "display_name": "Python 3",
   "name": "python3"
  },
  "language_info": {
   "name": "python"
  }
 },
 "nbformat": 4,
 "nbformat_minor": 0
}
