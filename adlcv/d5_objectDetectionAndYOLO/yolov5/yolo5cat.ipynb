{
 "cells": [
  {
   "cell_type": "markdown",
   "metadata": {
    "id": "hAQ207fGSiaY"
   },
   "source": [
    "**Use makesense.ai to annotate your own dataset**\n",
    "\n",
    "https://www.makesense.ai/"
   ]
  },
  {
   "cell_type": "code",
   "execution_count": null,
   "metadata": {
    "colab": {
     "base_uri": "https://localhost:8080/"
    },
    "executionInfo": {
     "elapsed": 22601,
     "status": "ok",
     "timestamp": 1724397638887,
     "user": {
      "displayName": "Dr. Nisarg Gandhewar",
      "userId": "08865821500269811620"
     },
     "user_tz": -330
    },
    "id": "Lfo_PoVcS14d",
    "outputId": "9032497b-ea1f-441c-f7d9-c5ce3870b492"
   },
   "outputs": [],
   "source": [
    "# Mount the drive\n",
    "from google.colab import drive\n",
    "drive.mount('/content/gdrive')"
   ]
  },
  {
   "cell_type": "code",
   "execution_count": null,
   "metadata": {
    "colab": {
     "background_save": true
    },
    "id": "WJJ6K8KQTH6z",
    "outputId": "55633d74-6ac0-4142-c66c-41e4c3395e59"
   },
   "outputs": [],
   "source": [
    "# Check Current Directory\n",
    "import os\n",
    "os.chdir(\"/content/gdrive/MyDrive\")\n",
    "os.getcwd()"
   ]
  },
  {
   "cell_type": "code",
   "execution_count": null,
   "metadata": {
    "colab": {
     "base_uri": "https://localhost:8080/"
    },
    "executionInfo": {
     "elapsed": 73773,
     "status": "ok",
     "timestamp": 1724397827541,
     "user": {
      "displayName": "Dr. Nisarg Gandhewar",
      "userId": "08865821500269811620"
     },
     "user_tz": -330
    },
    "id": "EXidtO9xSiaj",
    "outputId": "09945e76-a71f-4a60-f44f-d31f7e299c51"
   },
   "outputs": [],
   "source": [
    "# Install torch library\n",
    "!pip install torch  #YOLOv5 runs on top of PyTorch, so we need to import it to the notebook"
   ]
  },
  {
   "cell_type": "code",
   "execution_count": null,
   "metadata": {
    "executionInfo": {
     "elapsed": 3825,
     "status": "ok",
     "timestamp": 1724397855730,
     "user": {
      "displayName": "Dr. Nisarg Gandhewar",
      "userId": "08865821500269811620"
     },
     "user_tz": -330
    },
    "id": "wuOr7koTSiao"
   },
   "outputs": [],
   "source": [
    "import torch # YOLOv5 implemented using pytorch"
   ]
  },
  {
   "cell_type": "code",
   "execution_count": null,
   "metadata": {
    "executionInfo": {
     "elapsed": 631,
     "status": "ok",
     "timestamp": 1724397858691,
     "user": {
      "displayName": "Dr. Nisarg Gandhewar",
      "userId": "08865821500269811620"
     },
     "user_tz": -330
    },
    "id": "TBgpd1QOSiap"
   },
   "outputs": [],
   "source": [
    "from IPython.display import Image #this is to render predictions"
   ]
  },
  {
   "cell_type": "code",
   "execution_count": null,
   "metadata": {
    "colab": {
     "base_uri": "https://localhost:8080/"
    },
    "executionInfo": {
     "elapsed": 5787,
     "status": "ok",
     "timestamp": 1724397923856,
     "user": {
      "displayName": "Dr. Nisarg Gandhewar",
      "userId": "08865821500269811620"
     },
     "user_tz": -330
    },
    "id": "F7lMDawQSiaq",
    "outputId": "a9be686d-a313-4aaf-8385-c624d21eaa90"
   },
   "outputs": [],
   "source": [
    "# Clone the github repo\n",
    "!git clone https://github.com/ultralytics/yolov5"
   ]
  },
  {
   "cell_type": "code",
   "execution_count": null,
   "metadata": {
    "colab": {
     "base_uri": "https://localhost:8080/"
    },
    "executionInfo": {
     "elapsed": 511,
     "status": "ok",
     "timestamp": 1724397931376,
     "user": {
      "displayName": "Dr. Nisarg Gandhewar",
      "userId": "08865821500269811620"
     },
     "user_tz": -330
    },
    "id": "SYUrisVHSias",
    "outputId": "318494df-aae6-4863-cd57-997df7f7fd66"
   },
   "outputs": [],
   "source": [
    "%cd yolov5"
   ]
  },
  {
   "cell_type": "code",
   "execution_count": null,
   "metadata": {
    "colab": {
     "base_uri": "https://localhost:8080/",
     "height": 1000
    },
    "executionInfo": {
     "elapsed": 9124,
     "status": "ok",
     "timestamp": 1724397943171,
     "user": {
      "displayName": "Dr. Nisarg Gandhewar",
      "userId": "08865821500269811620"
     },
     "user_tz": -330
    },
    "id": "KeUiDp4vSiau",
    "outputId": "c7bd9260-a3eb-417b-ca44-4fef827d5769"
   },
   "outputs": [],
   "source": [
    "# Install dependencies\n",
    "!pip install -r requirements.txt"
   ]
  },
  {
   "cell_type": "markdown",
   "metadata": {
    "id": "CrI3dN38Sia1"
   },
   "source": [
    "# Create dataset.yaml\n",
    "\n",
    "### move the dataset’s dataset.yaml file to the /content/yolov5/data directory.\n",
    "### This file contains information required by YOLO to train the model on the custom data.\n",
    "\n",
    "![image.png](attachment:image.png)"
   ]
  },
  {
   "cell_type": "code",
   "execution_count": null,
   "metadata": {
    "colab": {
     "base_uri": "https://localhost:8080/"
    },
    "executionInfo": {
     "elapsed": 373982,
     "status": "ok",
     "timestamp": 1724398358883,
     "user": {
      "displayName": "Dr. Nisarg Gandhewar",
      "userId": "08865821500269811620"
     },
     "user_tz": -330
    },
    "id": "BtGeqk0MSia3",
    "outputId": "dd571a95-74a6-41f2-d6f5-2a24e5876b3e"
   },
   "outputs": [],
   "source": [
    "!python train.py --img 415 --batch 16 --epochs 20 --data /content/gdrive/MyDrive/yolov5/data/dataset.yaml --weights '/content/gdrive/MyDrive/yolov5/yolov5s.pt' --cache\n",
    "\n",
    "# !python train.py --resume /content/gdrive/MyDrive/yolov5/runs/train/exp5/weights/last.pt   #It is use for checkpointing"
   ]
  },
  {
   "cell_type": "code",
   "execution_count": null,
   "metadata": {
    "colab": {
     "base_uri": "https://localhost:8080/",
     "height": 36
    },
    "executionInfo": {
     "elapsed": 496,
     "status": "ok",
     "timestamp": 1724399470228,
     "user": {
      "displayName": "Dr. Nisarg Gandhewar",
      "userId": "08865821500269811620"
     },
     "user_tz": -330
    },
    "id": "djiGya7atZEs",
    "outputId": "ff1b51ef-0870-4bf3-ec57-061eab65a7e7"
   },
   "outputs": [],
   "source": [
    "os.getcwd()"
   ]
  },
  {
   "cell_type": "markdown",
   "metadata": {
    "id": "nY4jSBqxSia4"
   },
   "source": [
    "## At the end of the training, two files should be saved in yolov5/runs/train/exp/weights: last.pt and best.pt. We’ll use best.pt.\n",
    "\n"
   ]
  },
  {
   "cell_type": "markdown",
   "metadata": {
    "id": "9eRVK2r3Sia7"
   },
   "source": [
    "## Let’s explore now how confident our model is. We can plot a validation batch obtained during training and inspect the confidence score of each label"
   ]
  },
  {
   "cell_type": "code",
   "execution_count": null,
   "metadata": {
    "colab": {
     "base_uri": "https://localhost:8080/",
     "height": 1000
    },
    "executionInfo": {
     "elapsed": 1781,
     "status": "ok",
     "timestamp": 1724399483060,
     "user": {
      "displayName": "Dr. Nisarg Gandhewar",
      "userId": "08865821500269811620"
     },
     "user_tz": -330
    },
    "id": "jybSJe6ESia7",
    "outputId": "47f60846-83cd-46e6-9f07-787ed6976229"
   },
   "outputs": [],
   "source": [
    "Image(filename='/content/gdrive/MyDrive/yolov5/runs/train/exp/train_batch2.jpg', width=1000)\n",
    "\n"
   ]
  },
  {
   "cell_type": "markdown",
   "metadata": {
    "id": "fjMFROgGSia8"
   },
   "source": [
    "Training losses and performance metrics are also logged to Tensorboard and a custom results.txt logfile which is plotted as results.png (below) after training completes."
   ]
  },
  {
   "cell_type": "markdown",
   "metadata": {
    "id": "nxRy058rSia9"
   },
   "source": [
    "You’ll be implementing the detect.py script with the best.pt weights and image dimensions of 416x416 pixels (it’s really important to comply with that). The results will be saved to runs/detect/exp. To display the results, run the following code:"
   ]
  },
  {
   "cell_type": "code",
   "execution_count": null,
   "metadata": {
    "colab": {
     "base_uri": "https://localhost:8080/"
    },
    "executionInfo": {
     "elapsed": 14539,
     "status": "ok",
     "timestamp": 1724399530379,
     "user": {
      "displayName": "Dr. Nisarg Gandhewar",
      "userId": "08865821500269811620"
     },
     "user_tz": -330
    },
    "id": "PWKmbOosSia9",
    "outputId": "351d5018-2322-4a34-bb85-2cdc1a090809"
   },
   "outputs": [],
   "source": [
    "# testing of the model\n",
    "\n",
    "#!python detect.py --source runs/train/exp/testimg.jpg --weights runs/train/exp/weights/best.pt --conf 0.25\n",
    "\n",
    "!python detect.py --source /content/gdrive/MyDrive/yolo/test --weights /content/gdrive/MyDrive/yolov5/runs/train/exp/weights/best.pt\n",
    "\n"
   ]
  },
  {
   "cell_type": "code",
   "execution_count": null,
   "metadata": {
    "colab": {
     "base_uri": "https://localhost:8080/",
     "height": 814
    },
    "executionInfo": {
     "elapsed": 713,
     "status": "ok",
     "timestamp": 1724399552269,
     "user": {
      "displayName": "Dr. Nisarg Gandhewar",
      "userId": "08865821500269811620"
     },
     "user_tz": -330
    },
    "id": "Z62J-Oeqyp89",
    "outputId": "c4c2d89a-4521-44ef-fa4e-85c3c6323ee5"
   },
   "outputs": [],
   "source": [
    "Image(filename='runs/detect/exp2/cat.9.jpg', width=600)"
   ]
  },
  {
   "cell_type": "code",
   "execution_count": null,
   "metadata": {
    "colab": {
     "base_uri": "https://localhost:8080/"
    },
    "executionInfo": {
     "elapsed": 11896,
     "status": "ok",
     "timestamp": 1724399568942,
     "user": {
      "displayName": "Dr. Nisarg Gandhewar",
      "userId": "08865821500269811620"
     },
     "user_tz": -330
    },
    "id": "ZDAIheIluDQ0",
    "outputId": "79347578-ecab-4a07-99f5-be2fc3709eed"
   },
   "outputs": [],
   "source": [
    "!python detect.py --source /content/gdrive/MyDrive/yolo/test --weights /content/gdrive/MyDrive/yolov5/yolov5s.pt\n"
   ]
  },
  {
   "cell_type": "code",
   "execution_count": null,
   "metadata": {
    "colab": {
     "base_uri": "https://localhost:8080/",
     "height": 514
    },
    "executionInfo": {
     "elapsed": 1079,
     "status": "ok",
     "timestamp": 1724399576231,
     "user": {
      "displayName": "Dr. Nisarg Gandhewar",
      "userId": "08865821500269811620"
     },
     "user_tz": -330
    },
    "id": "y13DwUmOuuyP",
    "outputId": "b5ad6177-d5e3-437a-b434-2589b2173c5c"
   },
   "outputs": [],
   "source": [
    "Image(filename='runs/detect/exp3/cat.3.jpg', width=600)"
   ]
  },
  {
   "cell_type": "code",
   "execution_count": null,
   "metadata": {
    "id": "Gczi5lCLSia_"
   },
   "outputs": [],
   "source": []
  }
 ],
 "metadata": {
  "accelerator": "GPU",
  "colab": {
   "gpuType": "T4",
   "provenance": []
  },
  "kernelspec": {
   "display_name": "Python 3",
   "name": "python3"
  },
  "language_info": {
   "codemirror_mode": {
    "name": "ipython",
    "version": 3
   },
   "file_extension": ".py",
   "mimetype": "text/x-python",
   "name": "python",
   "nbconvert_exporter": "python",
   "pygments_lexer": "ipython3",
   "version": "3.7.6"
  }
 },
 "nbformat": 4,
 "nbformat_minor": 0
}
