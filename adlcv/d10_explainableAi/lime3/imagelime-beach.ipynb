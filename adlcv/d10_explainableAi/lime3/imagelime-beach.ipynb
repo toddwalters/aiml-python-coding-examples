{
 "cells": [
  {
   "cell_type": "code",
   "execution_count": null,
   "metadata": {
    "colab": {
     "base_uri": "https://localhost:8080/"
    },
    "id": "vQBTIIRF_Kws",
    "outputId": "0d27f9a4-b93f-4535-bf5b-294e5cfa9744"
   },
   "outputs": [],
   "source": [
    "!pip install lime"
   ]
  },
  {
   "cell_type": "code",
   "execution_count": null,
   "metadata": {
    "id": "3zjWT-q0-Obi"
   },
   "outputs": [],
   "source": [
    "import numpy as np\n",
    "import matplotlib.pyplot as plt\n",
    "import pandas as pd\n",
    "import matplotlib.image as img\n",
    "from IPython.display import Image, display"
   ]
  },
  {
   "cell_type": "code",
   "execution_count": null,
   "metadata": {
    "id": "k-WwYEj8-VKs"
   },
   "outputs": [],
   "source": [
    "import warnings\n",
    "warnings.filterwarnings('ignore')"
   ]
  },
  {
   "cell_type": "code",
   "execution_count": null,
   "metadata": {
    "id": "8X_5f8H--Vdn"
   },
   "outputs": [],
   "source": [
    "import tensorflow as tf\n",
    "from tensorflow import keras\n",
    "from tensorflow.keras.preprocessing import image\n",
    "from tensorflow.keras.applications.xception import Xception, preprocess_input, decode_predictions"
   ]
  },
  {
   "cell_type": "code",
   "execution_count": null,
   "metadata": {
    "colab": {
     "base_uri": "https://localhost:8080/"
    },
    "id": "7tM4V9vcB0Ub",
    "outputId": "dce5656c-c262-4f32-d491-adc37a4a8735"
   },
   "outputs": [],
   "source": [
    "!pip install lime"
   ]
  },
  {
   "cell_type": "code",
   "execution_count": null,
   "metadata": {
    "id": "-dOlUR0q-Vi_"
   },
   "outputs": [],
   "source": [
    "import lime\n",
    "from lime import lime_image"
   ]
  },
  {
   "cell_type": "code",
   "execution_count": null,
   "metadata": {
    "id": "7k5IyBQmAda3"
   },
   "outputs": [],
   "source": [
    "from skimage.segmentation import mark_boundaries\n",
    "np.random.seed(123)"
   ]
  },
  {
   "cell_type": "code",
   "execution_count": null,
   "metadata": {
    "id": "N1-Ae-Kj_JwR"
   },
   "outputs": [],
   "source": [
    "#path = '/content/cat2.jpg'"
   ]
  },
  {
   "cell_type": "code",
   "execution_count": null,
   "metadata": {
    "id": "sI2gE0JOFXJp"
   },
   "outputs": [],
   "source": [
    "path = '/content/beach.jpg'"
   ]
  },
  {
   "cell_type": "code",
   "execution_count": null,
   "metadata": {
    "id": "ATHJZPwKFXMg"
   },
   "outputs": [],
   "source": []
  },
  {
   "cell_type": "code",
   "execution_count": null,
   "metadata": {
    "colab": {
     "base_uri": "https://localhost:8080/",
     "height": 413
    },
    "id": "BksW9q_4_lB-",
    "outputId": "a2457f18-607c-4b97-8df7-4e4333b8b4e8"
   },
   "outputs": [],
   "source": [
    "img = image.load_img(path)\n",
    "img_arr = image.img_to_array(img)\n",
    "print(img_arr.shape)\n",
    "plt.imshow(img)\n",
    "plt.show()"
   ]
  },
  {
   "cell_type": "code",
   "execution_count": null,
   "metadata": {
    "id": "j7xICjP4-Vlj"
   },
   "outputs": [],
   "source": [
    "img = image.load_img(path, target_size=(299, 299))"
   ]
  },
  {
   "cell_type": "code",
   "execution_count": null,
   "metadata": {
    "colab": {
     "base_uri": "https://localhost:8080/",
     "height": 452
    },
    "id": "yV0K5TZg-Vok",
    "outputId": "5029fc43-4bcb-4780-ca5d-961c291f4fc4"
   },
   "outputs": [],
   "source": [
    "img_arr = image.img_to_array(img)\n",
    "print(img_arr.shape)\n",
    "plt.imshow(img)\n",
    "plt.show()"
   ]
  },
  {
   "cell_type": "code",
   "execution_count": null,
   "metadata": {
    "colab": {
     "base_uri": "https://localhost:8080/"
    },
    "id": "lhHNDOJrAD3r",
    "outputId": "755ce7dd-2a84-43e4-8bd6-822c1f99dfaf"
   },
   "outputs": [],
   "source": [
    "img_arr = np.expand_dims(img_arr, axis=0)\n",
    "print(img_arr.shape)"
   ]
  },
  {
   "cell_type": "code",
   "execution_count": null,
   "metadata": {
    "id": "6KSzk6maBPot"
   },
   "outputs": [],
   "source": [
    "norm_img = img_arr/255.0"
   ]
  },
  {
   "cell_type": "code",
   "execution_count": null,
   "metadata": {
    "colab": {
     "base_uri": "https://localhost:8080/",
     "height": 435
    },
    "id": "bGdPU1ofBTjb",
    "outputId": "b3c7197b-4bb9-44cd-b38e-79473b305a57"
   },
   "outputs": [],
   "source": [
    "norm_img = norm_img[0]\n",
    "plt.imshow(norm_img)\n",
    "plt.show()"
   ]
  },
  {
   "cell_type": "code",
   "execution_count": null,
   "metadata": {
    "colab": {
     "base_uri": "https://localhost:8080/"
    },
    "id": "9yxjWWWNZOM6",
    "outputId": "d99746ee-03e7-4386-ce1d-ca7574804887"
   },
   "outputs": [],
   "source": [
    "norm_img = np.expand_dims(norm_img, axis=0)\n",
    "print(norm_img.shape)"
   ]
  },
  {
   "cell_type": "code",
   "execution_count": null,
   "metadata": {
    "colab": {
     "base_uri": "https://localhost:8080/"
    },
    "id": "FgRDJrrLBXho",
    "outputId": "41a93e53-7543-49bf-ca46-f2427a3fd42e"
   },
   "outputs": [],
   "source": [
    "model = Xception(weights='imagenet')\n",
    "model_pred = model.predict(norm_img)"
   ]
  },
  {
   "cell_type": "code",
   "execution_count": null,
   "metadata": {
    "id": "TgaZjt1sEaVz"
   },
   "outputs": [],
   "source": [
    "pred_orig = decode_predictions(model_pred, top=1)[0][0]"
   ]
  },
  {
   "cell_type": "code",
   "execution_count": null,
   "metadata": {
    "colab": {
     "base_uri": "https://localhost:8080/"
    },
    "id": "WFn_WihEEj8Q",
    "outputId": "fd2d69b1-8287-4907-bf70-1c955396c319"
   },
   "outputs": [],
   "source": [
    "print(\"The image is :\", pred_orig[1])"
   ]
  },
  {
   "cell_type": "code",
   "execution_count": null,
   "metadata": {
    "id": "ne_Ean--Eoq0"
   },
   "outputs": [],
   "source": [
    "top5_pred = decode_predictions(model_pred, top=5)[0]"
   ]
  },
  {
   "cell_type": "code",
   "execution_count": null,
   "metadata": {
    "colab": {
     "base_uri": "https://localhost:8080/"
    },
    "id": "waIQOtlxE92f",
    "outputId": "306e3ebb-8e30-4073-8bc1-9cf514ca34c7"
   },
   "outputs": [],
   "source": [
    "top5_pred"
   ]
  },
  {
   "cell_type": "code",
   "execution_count": null,
   "metadata": {
    "id": "7M310w0DE_Ee"
   },
   "outputs": [],
   "source": [
    "explainer = lime.lime_image.LimeImageExplainer()"
   ]
  },
  {
   "cell_type": "code",
   "execution_count": null,
   "metadata": {
    "colab": {
     "base_uri": "https://localhost:8080/",
     "height": 882,
     "referenced_widgets": [
      "5dc59452d2654f70945dbaaeeb91a5a9",
      "2d4c8f5e99be4e5cb92a651f9d9cdd1d",
      "161897ebee7e43f6803ef2c03ea26986",
      "98b70bf2a87149dfb8940280c2a4d30e",
      "5bdf3e7de2484c6e8aa5a9be0c61f4de",
      "c477370999c34aa682b71ddcb9d96ace",
      "d08006cfe3b64113a10d48c8009e6180",
      "532d80a870b94d4881ce644e1769b41d",
      "1a91bdd267144e0384ecac3d5057e79c",
      "5969a0b302a340cb8bfad099159233b7",
      "b31c829143a44f86bad1f79ff5f36724"
     ]
    },
    "id": "FzjmcVTGIu3c",
    "outputId": "b34057b7-4b41-47dc-e8ae-db79f8f9b4ff"
   },
   "outputs": [],
   "source": [
    "result = explainer.explain_instance(norm_img[0],\n",
    "                                    model.predict,\n",
    "                                    top_labels=5,\n",
    "                                    num_samples=1000)"
   ]
  },
  {
   "cell_type": "code",
   "execution_count": null,
   "metadata": {
    "colab": {
     "base_uri": "https://localhost:8080/",
     "height": 202
    },
    "id": "zokpuZAUI24B",
    "outputId": "fa623f83-fc1d-4145-d2e7-7d9dd5e731b2"
   },
   "outputs": [],
   "source": [
    "f, ax = plt.subplots(1,6, figsize=(25,8))\n",
    "ax[0].imshow(norm_img[0])\n",
    "ax[0].axis(\"off\")\n",
    "ax[0].set_title(\"Original Image\")\n",
    "\n",
    "for axes in range(1,6):\n",
    "  image, mask = result.get_image_and_mask(result.top_labels[axes-1],\n",
    "                                          positive_only=True,\n",
    "                                          num_features=5,\n",
    "                                          hide_rest=True,\n",
    "                                          min_weight = 0.001)\n",
    "  ax[axes].imshow(mark_boundaries(image, mask))\n",
    "  ax[axes].axis(\"off\")\n",
    "\n",
    "  label = top5_pred[axes-1]\n",
    "  ax[axes].set_title(\"Pred : {}\\nScore : {:.4f}\".format(label[1], label[2]))\n",
    "plt.show()"
   ]
  },
  {
   "cell_type": "code",
   "execution_count": null,
   "metadata": {
    "id": "XGqIyUnrMIOs"
   },
   "outputs": [],
   "source": []
  }
 ],
 "metadata": {
  "colab": {
   "provenance": []
  },
  "kernelspec": {
   "display_name": "Python 3",
   "name": "python3"
  },
  "language_info": {
   "name": "python"
  }
 },
 "nbformat": 4,
 "nbformat_minor": 0
}
