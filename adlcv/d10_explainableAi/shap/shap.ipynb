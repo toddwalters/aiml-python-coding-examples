{
 "cells": [
  {
   "cell_type": "code",
   "execution_count": null,
   "metadata": {
    "colab": {
     "base_uri": "https://localhost:8080/"
    },
    "id": "qRlZXf26ceJ7",
    "outputId": "25af1b22-e986-451c-9492-7946bf001388"
   },
   "outputs": [],
   "source": [
    "!pip install shap"
   ]
  },
  {
   "cell_type": "code",
   "execution_count": null,
   "metadata": {
    "id": "u-B5bKPfdGdK"
   },
   "outputs": [],
   "source": [
    "import pandas as pd\n",
    "import numpy as np\n",
    "import matplotlib.pyplot as plt\n",
    "import shap\n",
    "from xgboost import XGBClassifier\n",
    "from sklearn.model_selection import train_test_split"
   ]
  },
  {
   "cell_type": "code",
   "execution_count": null,
   "metadata": {
    "id": "JnuyBOlkdZxM"
   },
   "outputs": [],
   "source": [
    "df = pd.read_csv('diabetes.csv')"
   ]
  },
  {
   "cell_type": "code",
   "execution_count": null,
   "metadata": {
    "colab": {
     "base_uri": "https://localhost:8080/"
    },
    "id": "6SDXdSw2dgvk",
    "outputId": "84f11ed9-fd63-4eac-bb6e-93ba3d0597b9"
   },
   "outputs": [],
   "source": [
    "df.shape"
   ]
  },
  {
   "cell_type": "code",
   "execution_count": null,
   "metadata": {
    "colab": {
     "base_uri": "https://localhost:8080/"
    },
    "id": "CTI8GHocdjNw",
    "outputId": "2d40ad4c-4fb7-455a-d6e9-4531a7dab9b4"
   },
   "outputs": [],
   "source": [
    "df.columns"
   ]
  },
  {
   "cell_type": "code",
   "execution_count": null,
   "metadata": {
    "id": "Em2LzXGRdlSK"
   },
   "outputs": [],
   "source": [
    "X = df[['Pregnancies', 'Glucose', 'BloodPressure', 'SkinThickness', 'Insulin',\n",
    "       'BMI', 'DiabetesPedigreeFunction', 'Age']]\n",
    "\n",
    "y = df[['Outcome']]"
   ]
  },
  {
   "cell_type": "code",
   "execution_count": null,
   "metadata": {
    "id": "U-jur_H9dvI0"
   },
   "outputs": [],
   "source": [
    "from sklearn.model_selection import train_test_split\n",
    "X_train, X_test, y_train, y_test = train_test_split(X, y, train_size =0.8, random_state=123)"
   ]
  },
  {
   "cell_type": "code",
   "execution_count": null,
   "metadata": {
    "colab": {
     "base_uri": "https://localhost:8080/",
     "height": 248
    },
    "id": "GGKdfIGCd6RE",
    "outputId": "5d35d303-e8f6-4ef0-b87c-fb68aa9bd8fd"
   },
   "outputs": [],
   "source": [
    "from xgboost import XGBClassifier\n",
    "\n",
    "xgb = XGBClassifier()\n",
    "xgb.fit(X_train, y_train)"
   ]
  },
  {
   "cell_type": "code",
   "execution_count": null,
   "metadata": {
    "colab": {
     "base_uri": "https://localhost:8080/",
     "height": 206
    },
    "id": "szD0ZNgigdE6",
    "outputId": "739b83e3-cb87-488e-d259-6b270c863256"
   },
   "outputs": [],
   "source": [
    "df.head()"
   ]
  },
  {
   "cell_type": "code",
   "execution_count": null,
   "metadata": {
    "colab": {
     "base_uri": "https://localhost:8080/",
     "height": 43
    },
    "id": "jyPjIRHleJLZ",
    "outputId": "9a3bd384-fa74-4ab7-9f58-8ed085402b24"
   },
   "outputs": [],
   "source": [
    "shap.initjs()"
   ]
  },
  {
   "cell_type": "code",
   "execution_count": null,
   "metadata": {
    "id": "iU5iIKH9f2u2"
   },
   "outputs": [],
   "source": [
    "# Xgboost Algorithm\n",
    "explainer = shap.TreeExplainer(xgb)\n",
    "shap_values = explainer.shap_values(X_test)"
   ]
  },
  {
   "cell_type": "code",
   "execution_count": null,
   "metadata": {
    "colab": {
     "base_uri": "https://localhost:8080/",
     "height": 493
    },
    "id": "D_-1eE9XgEhk",
    "outputId": "f05c2e53-79d5-43b0-b6ce-dec72ec11f78"
   },
   "outputs": [],
   "source": [
    "print(\"Variable Importance plot - Global Interpretation\")\n",
    "figure = plt.figure()\n",
    "shap.summary_plot(shap_values, X_test)"
   ]
  },
  {
   "cell_type": "code",
   "execution_count": null,
   "metadata": {
    "colab": {
     "base_uri": "https://localhost:8080/",
     "height": 178
    },
    "id": "b07Eon41gUi2",
    "outputId": "4d3ce668-6bc3-4b2c-bb4c-31e540279155"
   },
   "outputs": [],
   "source": [
    "df.Outcome.value_counts()"
   ]
  },
  {
   "cell_type": "code",
   "execution_count": null,
   "metadata": {
    "colab": {
     "base_uri": "https://localhost:8080/",
     "height": 178
    },
    "id": "dTtYTqkbkHZr",
    "outputId": "fd959d76-d3f7-4d33-c029-acc693b78ba8"
   },
   "outputs": [],
   "source": [
    "df.Outcome.value_counts(normalize = True)"
   ]
  },
  {
   "cell_type": "code",
   "execution_count": null,
   "metadata": {
    "colab": {
     "base_uri": "https://localhost:8080/"
    },
    "id": "mlAIZTpmkMS8",
    "outputId": "de5f93fb-3c9b-473c-a769-b9de37d43a88"
   },
   "outputs": [],
   "source": [
    "shap_values"
   ]
  },
  {
   "cell_type": "code",
   "execution_count": null,
   "metadata": {
    "colab": {
     "base_uri": "https://localhost:8080/",
     "height": 470
    },
    "id": "Ix26fGM_qvjN",
    "outputId": "73f18e2d-12a9-4ff5-ed3c-cfae092111a7"
   },
   "outputs": [],
   "source": [
    "# A dependence plot is a type of scatter plot that displays how a model's predictions are affected\n",
    "# by a specific feature (Subscription Length).\n",
    "\n",
    "shap.dependence_plot(\"BloodPressure\", shap_values, X_test, interaction_index=None)"
   ]
  },
  {
   "cell_type": "code",
   "execution_count": null,
   "metadata": {
    "colab": {
     "base_uri": "https://localhost:8080/",
     "height": 470
    },
    "id": "9qFtGyKRqvmL",
    "outputId": "c94ab52e-96f1-44de-e46b-01c3239c6ac0"
   },
   "outputs": [],
   "source": [
    "shap.dependence_plot(\"Age\", shap_values, X_test, interaction_index=None)"
   ]
  },
  {
   "cell_type": "code",
   "execution_count": null,
   "metadata": {
    "colab": {
     "base_uri": "https://localhost:8080/",
     "height": 470
    },
    "id": "leR5Zpi7qvpN",
    "outputId": "237c1a59-1a7b-41ac-d6e2-d560a5d6111c"
   },
   "outputs": [],
   "source": [
    "shap.dependence_plot(\"BMI\", shap_values, X_test, interaction_index=None)"
   ]
  }
 ],
 "metadata": {
  "colab": {
   "provenance": []
  },
  "kernelspec": {
   "display_name": "Python 3",
   "name": "python3"
  },
  "language_info": {
   "name": "python"
  }
 },
 "nbformat": 4,
 "nbformat_minor": 0
}
