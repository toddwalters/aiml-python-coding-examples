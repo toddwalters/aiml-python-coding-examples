{
 "cells": [
  {
   "cell_type": "markdown",
   "metadata": {
    "colab_type": "text",
    "id": "view-in-github"
   },
   "source": [
    "<a href=\"https://colab.research.google.com/github/toddwalters/pgaiml-python-coding-examples/blob/main/advanced-deep-learning-computer-vision/d2/Day2%20part2.ipynb\" target=\"_parent\"><img src=\"https://colab.research.google.com/assets/colab-badge.svg\" alt=\"Open In Colab\"/></a>"
   ]
  },
  {
   "cell_type": "code",
   "execution_count": null,
   "metadata": {
    "colab": {
     "base_uri": "https://localhost:8080/"
    },
    "id": "X6i6DCuRqAr_",
    "outputId": "bb236d21-a19c-45fb-bc3f-316c885d631d"
   },
   "outputs": [],
   "source": [
    "from google.colab import drive\n",
    "drive.mount('/content/drive')"
   ]
  },
  {
   "cell_type": "code",
   "execution_count": null,
   "metadata": {
    "id": "FQXEupIqWApz"
   },
   "outputs": [],
   "source": [
    "import cv2\n",
    "import numpy as np\n",
    "import matplotlib.pyplot as plt\n",
    "\n",
    "from google.colab.patches import cv2_imshow\n",
    "from matplotlib.pyplot import imshow"
   ]
  },
  {
   "cell_type": "code",
   "execution_count": null,
   "metadata": {
    "id": "26-0QYUVW8wu"
   },
   "outputs": [],
   "source": [
    "# Command to install opencv\n",
    "# !pip install opencv-python"
   ]
  },
  {
   "cell_type": "code",
   "execution_count": null,
   "metadata": {
    "id": "tcoU7esA5EdN"
   },
   "outputs": [],
   "source": []
  },
  {
   "cell_type": "markdown",
   "metadata": {
    "id": "fAKxZ7WjiA6S"
   },
   "source": [
    "**Channel Manipulation**"
   ]
  },
  {
   "cell_type": "code",
   "execution_count": null,
   "metadata": {
    "colab": {
     "base_uri": "https://localhost:8080/",
     "height": 517
    },
    "id": "RdRbqfPAiEUM",
    "outputId": "2af9392b-d544-4e69-c252-f67ab373a173"
   },
   "outputs": [],
   "source": [
    "# Loading of image\n",
    "# Uncomment if working in Google Colab\n",
    "path = '/content/drive/MyDrive/Colab Notebooks/datasets/advDLandCV'\n",
    "# Uncomment if working locally\n",
    "# path = '/Users/toddwalters/Library/CloudStorage/GoogleDrive-toddw4271@gmail.com/My Drive/Colab Notebooks/datasets/advDLandCV'\n",
    "image = cv2.imread(f'{path}/F1.jpg')   # BGR format\n",
    "\n",
    "img_color = cv2.imread(f'{path}/F1.jpg', cv2.IMREAD_COLOR)\n",
    "\n",
    "img_rgb = cv2.cvtColor(img_color, cv2.COLOR_BGR2RGB)\n",
    "\n",
    "img_rgb"
   ]
  },
  {
   "cell_type": "code",
   "execution_count": null,
   "metadata": {
    "colab": {
     "base_uri": "https://localhost:8080/",
     "height": 422
    },
    "id": "u8MnNeJviQyo",
    "outputId": "f5bb8df5-6d54-41a8-c1b5-658b19563dae"
   },
   "outputs": [],
   "source": [
    "# R G B (0, 1, 2)\n",
    "pic = img_rgb.copy()\n",
    "\n",
    "pic[:, :, 0] = 0 # removing the red channel\n",
    "# pic[:, :, 1] = 0 # removing the green channel\n",
    "# pic[:, :, 2] = 0 # removing the green channel\n",
    "\n",
    "plt.imshow(pic)"
   ]
  },
  {
   "cell_type": "code",
   "execution_count": null,
   "metadata": {
    "colab": {
     "base_uri": "https://localhost:8080/",
     "height": 422
    },
    "id": "mLd8ccDYkFcf",
    "outputId": "e92731db-02d6-4ce1-eaf1-0f6cfb469bb5"
   },
   "outputs": [],
   "source": [
    "# R G B (0, 1, 2)\n",
    "pic = img_rgb.copy()\n",
    "\n",
    "pic[:, :, 1] = 100 # removing the green channel\n",
    "\n",
    "plt.imshow(pic)"
   ]
  },
  {
   "cell_type": "code",
   "execution_count": null,
   "metadata": {
    "colab": {
     "base_uri": "https://localhost:8080/",
     "height": 422
    },
    "id": "Jc7e-euckLpC",
    "outputId": "7707edbc-3381-4fc2-b530-96cc82318bc8"
   },
   "outputs": [],
   "source": [
    "# R G B (0, 1, 2)\n",
    "pic = img_rgb.copy()\n",
    "\n",
    "pic[:, :, 2] = 0 # removing the blue channel\n",
    "\n",
    "plt.imshow(pic)"
   ]
  },
  {
   "cell_type": "markdown",
   "metadata": {
    "id": "K_5d9B_CqCtB"
   },
   "source": [
    "**Rotation**"
   ]
  },
  {
   "cell_type": "code",
   "execution_count": null,
   "metadata": {
    "colab": {
     "base_uri": "https://localhost:8080/",
     "height": 422
    },
    "id": "ZNWEvqwIqEH3",
    "outputId": "151dd266-5c5f-4138-89ff-487032a6854f"
   },
   "outputs": [],
   "source": [
    "img_color = cv2.imread(f'{path}/F1.jpg', cv2.IMREAD_COLOR)\n",
    "\n",
    "img_rgb = cv2.cvtColor(img_color, cv2.COLOR_BGR2RGB)\n",
    "\n",
    "plt.imshow(img_rgb)"
   ]
  },
  {
   "cell_type": "code",
   "execution_count": null,
   "metadata": {
    "colab": {
     "base_uri": "https://localhost:8080/",
     "height": 718
    },
    "id": "GKVX5LLyqxBz",
    "outputId": "894b653c-a50b-46c5-b2bc-b2502369178a"
   },
   "outputs": [],
   "source": [
    "rotated_90_clockwise = cv2.rotate(img_rgb, cv2.ROTATE_90_CLOCKWISE)\n",
    "\n",
    "rotated_180 = cv2.rotate(img_rgb, cv2.ROTATE_180)\n",
    "\n",
    "roated_90_Counterclockwise = cv2.rotate(img_rgb, cv2.ROTATE_90_COUNTERCLOCKWISE)\n",
    "\n",
    "\n",
    "plt.figure(figsize = (12,8))\n",
    "\n",
    "plt.subplot(2,2,1)\n",
    "plt.title(\"Original Image\")\n",
    "plt.imshow(img_rgb)\n",
    "\n",
    "plt.subplot(2,2,2)\n",
    "plt.title(\"Rotated 90 Clockwise\")\n",
    "plt.imshow(rotated_90_clockwise)\n",
    "\n",
    "plt.subplot(2,2,3)\n",
    "plt.title(\"Rotated 90 Counterclockwise\")\n",
    "plt.imshow(roated_90_Counterclockwise)\n",
    "\n",
    "plt.subplot(2,2,4)\n",
    "plt.title(\"Rotated 180\")\n",
    "plt.imshow(rotated_180)"
   ]
  },
  {
   "cell_type": "code",
   "execution_count": null,
   "metadata": {
    "colab": {
     "base_uri": "https://localhost:8080/"
    },
    "id": "rvS22cRjs7XS",
    "outputId": "f41b5fcf-09ec-4dc5-f500-9f9701af6697"
   },
   "outputs": [],
   "source": [
    "img_color = cv2.imread(f'{path}/F1.jpg', cv2.IMREAD_COLOR)\n",
    "\n",
    "img_rgb = cv2.cvtColor(img_color, cv2.COLOR_BGR2RGB)\n",
    "\n",
    "img_rgb.shape[:2]\n",
    "# img_rgb.shape"
   ]
  },
  {
   "cell_type": "code",
   "execution_count": null,
   "metadata": {
    "colab": {
     "base_uri": "https://localhost:8080/"
    },
    "id": "pppsdeh1tbn7",
    "outputId": "711235ff-0bbb-4b3d-90e5-1bf293db5e32"
   },
   "outputs": [],
   "source": [
    "(h, w ) = img_rgb.shape[:2]\n",
    "print(h)\n",
    "print(w)"
   ]
  },
  {
   "cell_type": "code",
   "execution_count": null,
   "metadata": {
    "colab": {
     "base_uri": "https://localhost:8080/",
     "height": 390
    },
    "id": "4pYcI7jZuxqc",
    "outputId": "705b36ed-163d-4446-b9d5-e139356e088f"
   },
   "outputs": [],
   "source": [
    "(h, w ) = img_rgb.shape[:2]\n",
    "\n",
    "center = (w//2, h//2)\n",
    "\n",
    "angle = 60\n",
    "\n",
    "scale = 1\n",
    "# scales the image up or down according to the value provided.\n",
    "\n",
    "M = cv2.getRotationMatrix2D(center, angle, scale)\n",
    "\n",
    "rotated_image = cv2.warpAffine(img_rgb, M, (w, h))   # Apply the roattion matrix to the image\n",
    "\n",
    "\n",
    "plt.figure(figsize = (12,8))\n",
    "\n",
    "plt.subplot(1,2,1)\n",
    "plt.title(\"Original Image\")\n",
    "plt.imshow(img_rgb)\n",
    "\n",
    "plt.subplot(1,2,2)\n",
    "plt.title(f\"Rotated Image by {angle} Degrees\")\n",
    "plt.imshow(rotated_image)"
   ]
  },
  {
   "cell_type": "markdown",
   "metadata": {
    "id": "lYp8rOorv-8y"
   },
   "source": [
    "**Brightness Adjustment**"
   ]
  },
  {
   "cell_type": "code",
   "execution_count": null,
   "metadata": {
    "colab": {
     "base_uri": "https://localhost:8080/",
     "height": 390
    },
    "id": "SNxzyDm2wFm-",
    "outputId": "a905ea45-ad4a-4455-84e2-8d8e67a82b5d"
   },
   "outputs": [],
   "source": [
    "# from collections.abc import Container\n",
    "\n",
    "img_color = cv2.imread(f'{path}/F1.jpg', cv2.IMREAD_COLOR)\n",
    "\n",
    "img_rgb = cv2.cvtColor(img_color, cv2.COLOR_BGR2RGB)\n",
    "\n",
    "\n",
    "brightness_value = 80\n",
    "\n",
    "#  to change the contrast and brightness of an image\n",
    "# cv2.convertScaleAbs(image, alpha, beta)\n",
    "\n",
    "# alpha= Contrast   beta = brigtness\n",
    "# To lower the contrast, use 0 < alpha < 1. And for higher contrast use alpha > 1.\n",
    "\n",
    "brightened_img = cv2.convertScaleAbs(img_rgb,  alpha = 2, beta = brightness_value)\n",
    "\n",
    "plt.figure(figsize = (12,8))\n",
    "\n",
    "plt.subplot(1,2,1)\n",
    "plt.title(\"Original Image\")\n",
    "plt.imshow(img_rgb)\n",
    "\n",
    "plt.subplot(1,2,2)\n",
    "plt.title(f\"Brightened Image by {brightness_value}\")\n",
    "plt.imshow(brightened_img)"
   ]
  },
  {
   "cell_type": "markdown",
   "metadata": {
    "id": "nVFklt2Gzl_A"
   },
   "source": [
    "**Negative of Image**"
   ]
  },
  {
   "cell_type": "code",
   "execution_count": null,
   "metadata": {
    "colab": {
     "base_uri": "https://localhost:8080/",
     "height": 390
    },
    "id": "qq7YlQ4bzkgS",
    "outputId": "cfda222e-0eeb-49fa-d38e-5203718b0ba7"
   },
   "outputs": [],
   "source": [
    "img_neg = img_rgb.copy()\n",
    "\n",
    "img_neg = 255 - img_neg\n",
    "\n",
    "plt.figure(figsize = (12,8))\n",
    "\n",
    "plt.subplot(1,2,1)\n",
    "plt.title(\"Original Image\")\n",
    "plt.imshow(img_rgb)\n",
    "\n",
    "plt.subplot(1,2,2)\n",
    "plt.title(\"Negative Image\")\n",
    "plt.imshow(img_neg)"
   ]
  },
  {
   "cell_type": "code",
   "execution_count": null,
   "metadata": {
    "id": "5R4PEeWFBFZW"
   },
   "outputs": [],
   "source": []
  },
  {
   "cell_type": "markdown",
   "metadata": {
    "id": "BNMa8nbnBG5q"
   },
   "source": [
    "**Thresholding**\n",
    "\n",
    "Popular segmentation technique, used for separating an object.\n",
    "\n",
    " If the pixel value is smaller than the threshold, it is set to 0, otherwise, it is set to a maximum value."
   ]
  },
  {
   "cell_type": "code",
   "execution_count": null,
   "metadata": {
    "colab": {
     "base_uri": "https://localhost:8080/",
     "height": 591
    },
    "id": "Rvx0v2hk3GKn",
    "outputId": "d745342b-c3a5-4f5c-c158-07ae61ded670"
   },
   "outputs": [],
   "source": [
    "# Binary Threshold\n",
    "# threshold(src, thresh, maxval)\n",
    "\n",
    "img1 = cv2.imread(f'{path}/lion.jpg', cv2.IMREAD_COLOR)\n",
    "img2 = cv2.cvtColor(img1, cv2.COLOR_BGR2RGB)\n",
    "\n",
    "ret, thres1 = cv2.threshold(img2, 155, 255, cv2.THRESH_BINARY)\n",
    "\n",
    "plt.figure(figsize = (12,8))\n",
    "\n",
    "plt.subplot(2,3,1)\n",
    "plt.title(\"Original Image\")\n",
    "plt.imshow(img2)\n",
    "\n",
    "plt.subplot(2,3,2)\n",
    "plt.title(\"Binary Threshold\")\n",
    "plt.imshow(thres1)\n",
    "\n",
    "# # Binary Inverted Threshold\n",
    "# # when the foreground is darker than the background\n",
    "ret, thres2 = cv2.threshold(img2, 125, 255, cv2.THRESH_BINARY_INV)\n",
    "\n",
    "plt.subplot(2,3,3)\n",
    "plt.title(\"Binary Inverted Threshold\")\n",
    "\n",
    "plt.imshow(thres2)\n",
    "\n",
    "# Truncated Threshold\n",
    "# Highlight lower intensity region\n",
    "# Value above the threshold is set to the threshold\n",
    "\n",
    "ret, thres3 = cv2.threshold(img2, 125, 255, cv2.THRESH_TRUNC)\n",
    "\n",
    "plt.subplot(2,3,4)\n",
    "plt.title(\"Truncated Threshold\")\n",
    "plt.imshow(thres3)\n",
    "\n",
    "\n",
    "# To zero Threshold\n",
    "# Enhance the brighter region in an image\n",
    "# value below a threshold is set to 0\n",
    "\n",
    "\n",
    "ret, thres4 = cv2.threshold(img2, 125, 255, cv2.THRESH_TOZERO)\n",
    "\n",
    "plt.subplot(2,3,5)\n",
    "plt.title(\"To zero Threshold\")\n",
    "plt.imshow(thres4)\n",
    "\n",
    "# To zero Inverted Threshold\n",
    "# Enhance the darker region in an image\n",
    "# value above a threshold is set to 0\n",
    "\n",
    "\n",
    "ret, thres5 = cv2.threshold(img2, 125, 255, cv2.THRESH_TOZERO_INV)\n",
    "\n",
    "plt.subplot(2,3,6)\n",
    "plt.title(\"To zero Inverted Threshold\")\n",
    "plt.imshow(thres5)"
   ]
  }
 ],
 "metadata": {
  "colab": {
   "include_colab_link": true,
   "provenance": []
  },
  "kernelspec": {
   "display_name": "Python 3",
   "name": "python3"
  },
  "language_info": {
   "codemirror_mode": {
    "name": "ipython",
    "version": 3
   },
   "file_extension": ".py",
   "mimetype": "text/x-python",
   "name": "python",
   "nbconvert_exporter": "python",
   "pygments_lexer": "ipython3",
   "version": "3.11.8"
  }
 },
 "nbformat": 4,
 "nbformat_minor": 0
}
