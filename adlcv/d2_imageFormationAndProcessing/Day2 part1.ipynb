{
 "cells": [
  {
   "cell_type": "markdown",
   "metadata": {
    "colab_type": "text",
    "id": "view-in-github"
   },
   "source": [
    "<a href=\"https://colab.research.google.com/github/toddwalters/pgaiml-python-coding-examples/blob/main/advanced-deep-learning-computer-vision/d2/Day2%20part1.ipynb\" target=\"_parent\"><img src=\"https://colab.research.google.com/assets/colab-badge.svg\" alt=\"Open In Colab\"/></a>"
   ]
  },
  {
   "cell_type": "code",
   "execution_count": null,
   "metadata": {
    "colab": {
     "base_uri": "https://localhost:8080/"
    },
    "id": "uu1_mAw7oDUe",
    "outputId": "2ac57fd3-5b0e-4755-c587-b3052cfc19c2"
   },
   "outputs": [],
   "source": [
    "from google.colab import drive\n",
    "drive.mount('/content/drive')"
   ]
  },
  {
   "cell_type": "code",
   "execution_count": null,
   "metadata": {
    "id": "FQXEupIqWApz"
   },
   "outputs": [],
   "source": [
    "import cv2\n",
    "import numpy as np\n",
    "import matplotlib.pyplot as plt\n",
    "\n",
    "from google.colab.patches import cv2_imshow\n",
    "from matplotlib.pyplot import imshow"
   ]
  },
  {
   "cell_type": "code",
   "execution_count": null,
   "metadata": {
    "id": "btR0ZDwJoAqV"
   },
   "outputs": [],
   "source": []
  },
  {
   "cell_type": "code",
   "execution_count": null,
   "metadata": {
    "id": "26-0QYUVW8wu"
   },
   "outputs": [],
   "source": [
    "# Command to install opencv\n",
    "# !pip install opencv-python"
   ]
  },
  {
   "cell_type": "code",
   "execution_count": null,
   "metadata": {
    "id": "xE4C5uqxXxxZ"
   },
   "outputs": [],
   "source": [
    "# Loading of image\n",
    "# Uncomment if working in Google Colab\n",
    "path = '/content/drive/MyDrive/Colab Notebooks/datasets/advDLandCV'\n",
    "# Uncomment if working locally\n",
    "# path = '/Users/toddwalters/Library/CloudStorage/GoogleDrive-toddw4271@gmail.com/My Drive/Colab Notebooks/datasets/advDLandCV'\n",
    "image = cv2.imread(f'{path}/F1.jpg')   # BGR format\n"
   ]
  },
  {
   "cell_type": "code",
   "execution_count": null,
   "metadata": {
    "colab": {
     "base_uri": "https://localhost:8080/",
     "height": 517
    },
    "id": "K2ttWwQvX2tA",
    "outputId": "a76b1d96-c883-4179-c010-bef90f552d67"
   },
   "outputs": [],
   "source": [
    "image\n",
    "# imshow(image)"
   ]
  },
  {
   "cell_type": "code",
   "execution_count": null,
   "metadata": {
    "colab": {
     "base_uri": "https://localhost:8080/"
    },
    "id": "WdZSVfBAX_F8",
    "outputId": "58229e58-778f-45c0-dca6-a9ce72e714ad"
   },
   "outputs": [],
   "source": [
    "# get the shape\n",
    "image.shape\n",
    "# height, width, channel"
   ]
  },
  {
   "cell_type": "code",
   "execution_count": null,
   "metadata": {
    "id": "V2cTVMyPY59r"
   },
   "outputs": [],
   "source": [
    "height, width, channels = image.shape\n",
    "\n",
    "print(f\"Image dimensions: {width} x {height}\")\n",
    "print(f\"Number of Channels: {channels}\")"
   ]
  },
  {
   "cell_type": "code",
   "execution_count": null,
   "metadata": {
    "id": "ZZc4cZi5ZEzq"
   },
   "outputs": [],
   "source": [
    "# Read image in gray scale format\n",
    "img_gray = cv2.imread('F1.jpg', cv2.IMREAD_GRAYSCALE)"
   ]
  },
  {
   "cell_type": "code",
   "execution_count": null,
   "metadata": {
    "id": "xoriicxZaSra"
   },
   "outputs": [],
   "source": [
    "img_gray"
   ]
  },
  {
   "cell_type": "code",
   "execution_count": null,
   "metadata": {
    "id": "Xr0q318GaUBx"
   },
   "outputs": [],
   "source": [
    "img_gray.shape"
   ]
  },
  {
   "cell_type": "code",
   "execution_count": null,
   "metadata": {
    "id": "AkUWae0eaY9n"
   },
   "outputs": [],
   "source": [
    "# get image in color\n",
    "img_color = cv2.imread('F1.jpg', cv2.IMREAD_COLOR)"
   ]
  },
  {
   "cell_type": "code",
   "execution_count": null,
   "metadata": {
    "id": "5K2fykpKbuiN"
   },
   "outputs": [],
   "source": [
    "img_color"
   ]
  },
  {
   "cell_type": "code",
   "execution_count": null,
   "metadata": {
    "id": "2wqZz-XlbwLT"
   },
   "outputs": [],
   "source": [
    "# Conevrt to RGB format\n",
    "img_rgb = cv2.cvtColor(img_color, cv2.COLOR_BGR2RGB)"
   ]
  },
  {
   "cell_type": "code",
   "execution_count": null,
   "metadata": {
    "id": "CaZMeTywc2Um"
   },
   "outputs": [],
   "source": [
    "img_rgb"
   ]
  },
  {
   "cell_type": "code",
   "execution_count": null,
   "metadata": {
    "id": "fgW22UdLcU_s"
   },
   "outputs": [],
   "source": []
  },
  {
   "cell_type": "markdown",
   "metadata": {
    "id": "dwVVzZuKdJIk"
   },
   "source": [
    "**Resize**"
   ]
  },
  {
   "cell_type": "code",
   "execution_count": null,
   "metadata": {
    "id": "rxB-itTKdSqi"
   },
   "outputs": [],
   "source": [
    "resized_image = cv2.resize(image, (350, 350))\n",
    "# (width x Height)\n",
    "\n",
    "imshow(resized_image)\n",
    "# cv2_imshow(resized_image)"
   ]
  },
  {
   "cell_type": "markdown",
   "metadata": {
    "id": "GJRvO5P8fMW5"
   },
   "source": [
    "**Cropping**"
   ]
  },
  {
   "cell_type": "code",
   "execution_count": null,
   "metadata": {
    "id": "vDlTwH_8eLmy"
   },
   "outputs": [],
   "source": [
    "cropped_image = resized_image[50:380,50:300]\n",
    "\n",
    "cv2_imshow(cropped_image)"
   ]
  },
  {
   "cell_type": "markdown",
   "metadata": {
    "id": "XqVj1LSJjRFa"
   },
   "source": [
    "**Day 2**\n",
    "\n",
    "**Blurring (Averaging)**"
   ]
  },
  {
   "cell_type": "code",
   "execution_count": null,
   "metadata": {
    "id": "sipFPZkOfb9E"
   },
   "outputs": [],
   "source": [
    "blurred_image1 = cv2.blur(image, (3,3))\n",
    "# (3,3) --> Kernel size\n",
    "\n",
    "cv2_imshow(blurred_image)"
   ]
  },
  {
   "cell_type": "code",
   "execution_count": null,
   "metadata": {
    "id": "J80LFZ_BjvrU"
   },
   "outputs": [],
   "source": [
    "blurred_image2 = cv2.blur(image, (5,5))\n",
    "\n",
    "cv2_imshow(blurred_image)"
   ]
  },
  {
   "cell_type": "code",
   "execution_count": null,
   "metadata": {
    "id": "3Y2A3ibYkKD1"
   },
   "outputs": [],
   "source": [
    "blurred_image3 = cv2.blur(image, (20 ,20))\n",
    "\n",
    "cv2_imshow(blurred_image)"
   ]
  },
  {
   "cell_type": "code",
   "execution_count": null,
   "metadata": {
    "id": "urwP4-DWV52T"
   },
   "outputs": [],
   "source": [
    "# Display both the images\n",
    "\n",
    "plt.figure(figsize = (10,5))\n",
    "\n",
    "plt.subplot(1,2,1)\n",
    "# row, col,\n",
    "plt.imshow(image)\n",
    "plt.title(\"Original Image\")\n",
    "\n",
    "plt.subplot(1,2,2)\n",
    "plt.imshow(blurred_image3)\n",
    "plt.title(\"Blurred Image\")"
   ]
  },
  {
   "cell_type": "markdown",
   "metadata": {
    "id": "MHiU5CS4k7Fe"
   },
   "source": [
    "**Median Blurring**"
   ]
  },
  {
   "cell_type": "code",
   "execution_count": null,
   "metadata": {
    "id": "KZ_TinzpkUN8"
   },
   "outputs": [],
   "source": [
    "median_blurred_image = cv2.medianBlur(image, 23)\n",
    "# kernel size must be odd\n",
    "\n",
    "cv2_imshow(median_blurred_image)"
   ]
  },
  {
   "cell_type": "code",
   "execution_count": null,
   "metadata": {
    "id": "s-nBvup_0vTZ"
   },
   "outputs": [],
   "source": []
  },
  {
   "cell_type": "code",
   "execution_count": null,
   "metadata": {
    "id": "dBvwv89Dl_uh"
   },
   "outputs": [],
   "source": [
    "median_blurred_image = cv2.medianBlur(image, 17)\n",
    "# kernel size must be odd\n",
    "\n",
    "cv2_imshow(median_blurred_image)"
   ]
  },
  {
   "cell_type": "markdown",
   "metadata": {
    "id": "Ww9mNY5zuK2p"
   },
   "source": [
    "**Gaussian Blurring**"
   ]
  },
  {
   "cell_type": "code",
   "execution_count": null,
   "metadata": {
    "id": "N3nttnewmCSo"
   },
   "outputs": [],
   "source": [
    "gaussian_blurrred_image = cv2.GaussianBlur(image, (17,17),0)\n",
    "# Kernel size must be odd\n",
    "cv2_imshow(gaussian_blurrred_image)\n"
   ]
  },
  {
   "cell_type": "markdown",
   "metadata": {
    "id": "JpnXprlDwa9n"
   },
   "source": [
    "**Edge Detection**\n",
    "\n",
    "*Canny Edge detection*\n",
    "\n",
    "*edge detection algorithm*."
   ]
  },
  {
   "cell_type": "code",
   "execution_count": null,
   "metadata": {
    "id": "Mc5g-TyYucJ8"
   },
   "outputs": [],
   "source": [
    "gray_image = cv2.cvtColor(image, cv2.COLOR_BGR2GRAY)\n",
    "gray_image"
   ]
  },
  {
   "cell_type": "code",
   "execution_count": null,
   "metadata": {
    "id": "t1z3BsJVxPI5"
   },
   "outputs": [],
   "source": [
    "edges = cv2.Canny(gray_image, 150, 300)\n",
    "# Lower threshold, Upper threshold\n",
    "cv2_imshow(edges)"
   ]
  },
  {
   "cell_type": "code",
   "execution_count": null,
   "metadata": {
    "id": "IeXY7AgNxf70"
   },
   "outputs": [],
   "source": [
    "edges = cv2.Canny(image, 150, 270)\n",
    "cv2_imshow(edges)"
   ]
  },
  {
   "cell_type": "code",
   "execution_count": null,
   "metadata": {
    "id": "w9YdVmC4yaNN"
   },
   "outputs": [],
   "source": [
    "# For Color Image\n",
    "img_color_1 = cv2.imread('/content/F1.jpg', cv2.IMREAD_COLOR)"
   ]
  },
  {
   "cell_type": "code",
   "execution_count": null,
   "metadata": {
    "id": "qhz0YYk8zO8g"
   },
   "outputs": [],
   "source": [
    "img_rgb_1 = cv2.cvtColor(img_color_1, cv2.COLOR_BGR2RGB)"
   ]
  },
  {
   "cell_type": "code",
   "execution_count": null,
   "metadata": {
    "id": "ANK2NerR0X9v"
   },
   "outputs": [],
   "source": [
    "img_rgb_1"
   ]
  },
  {
   "cell_type": "code",
   "execution_count": null,
   "metadata": {
    "id": "GpyY0pPxzdE2"
   },
   "outputs": [],
   "source": [
    "cv2_imshow(img_rgb_1)"
   ]
  },
  {
   "cell_type": "code",
   "execution_count": null,
   "metadata": {
    "id": "NtoHSCiYzfp3"
   },
   "outputs": [],
   "source": [
    "edges = cv2.Canny(img_rgb_1, 70 , 150)\n",
    "cv2_imshow(edges)"
   ]
  },
  {
   "cell_type": "markdown",
   "metadata": {
    "id": "xSiSuDBL1pmM"
   },
   "source": []
  },
  {
   "cell_type": "markdown",
   "metadata": {
    "id": "sTnUIdsl1rnA"
   },
   "source": [
    "**Morphological Operations**"
   ]
  },
  {
   "cell_type": "markdown",
   "metadata": {
    "id": "710XW9J611ZV"
   },
   "source": [
    "*Dilation*\n",
    "\n",
    "Foreground Object growth\n",
    "\n",
    "Original image --> Small square\n",
    "\n",
    "Dilated image --> Bigger square"
   ]
  },
  {
   "cell_type": "code",
   "execution_count": null,
   "metadata": {
    "id": "vx2fj-hPz30d"
   },
   "outputs": [],
   "source": [
    "kernel = np.ones((5,5), np.uint8)\n",
    "\n",
    "dilated_image = cv2.dilate(gray_image, kernel, iterations = 1)\n",
    "\n",
    "cv2_imshow(dilated_image)"
   ]
  },
  {
   "cell_type": "code",
   "execution_count": null,
   "metadata": {
    "id": "KsVCxSXP2J-W"
   },
   "outputs": [],
   "source": [
    "kernel = np.ones((5,5), np.uint8)\n",
    "\n",
    "dilated_image = cv2.dilate(image, kernel, iterations = 2)\n",
    "#dilated_image = cv2.dilate(image, kernel, iterations = 1)\n",
    "\n",
    "cv2_imshow(dilated_image)"
   ]
  },
  {
   "cell_type": "code",
   "execution_count": null,
   "metadata": {
    "id": "_jIwrelt3WqH"
   },
   "outputs": [],
   "source": [
    "kernel = np.ones((5,5), np.uint8)\n",
    "\n",
    "dilated_image = cv2.dilate(img_rgb_1, kernel, iterations = 4)\n",
    "#dilated_image = cv2.dilate(image, kernel, iterations = 1)\n",
    "\n",
    "cv2_imshow(dilated_image)"
   ]
  },
  {
   "cell_type": "markdown",
   "metadata": {
    "id": "ZoqLnKTR4xW3"
   },
   "source": [
    "**Erosion**"
   ]
  },
  {
   "cell_type": "code",
   "execution_count": null,
   "metadata": {
    "id": "noL4_Q3L6slE"
   },
   "outputs": [],
   "source": []
  },
  {
   "cell_type": "code",
   "execution_count": null,
   "metadata": {
    "id": "c-4v0l224cfp"
   },
   "outputs": [],
   "source": [
    "eroded_image = cv2.erode(image, kernel, iterations = 3)\n",
    "\n",
    "cv2_imshow(eroded_image)"
   ]
  },
  {
   "cell_type": "code",
   "execution_count": null,
   "metadata": {
    "id": "tcoU7esA5EdN"
   },
   "outputs": [],
   "source": []
  }
 ],
 "metadata": {
  "colab": {
   "include_colab_link": true,
   "provenance": []
  },
  "kernelspec": {
   "display_name": "Python 3",
   "name": "python3"
  },
  "language_info": {
   "name": "python"
  }
 },
 "nbformat": 4,
 "nbformat_minor": 0
}
