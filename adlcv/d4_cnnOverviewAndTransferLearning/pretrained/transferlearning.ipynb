{
 "cells": [
  {
   "cell_type": "markdown",
   "metadata": {
    "colab_type": "text",
    "id": "view-in-github"
   },
   "source": [
    "<a href=\"https://colab.research.google.com/github/toddwalters/pgaiml-python-coding-examples/blob/main/advanced-deep-learning-computer-vision/d4/pretrained/transferlearning.ipynb\" target=\"_parent\"><img src=\"https://colab.research.google.com/assets/colab-badge.svg\" alt=\"Open In Colab\"/></a>"
   ]
  },
  {
   "cell_type": "code",
   "execution_count": null,
   "metadata": {
    "id": "V01T0FN379KQ"
   },
   "outputs": [],
   "source": [
    "import numpy as np\n",
    "import pandas as pd\n",
    "import matplotlib.pyplot as plt\n",
    "import seaborn as sns\n",
    "import warnings\n",
    "warnings.filterwarnings('ignore')"
   ]
  },
  {
   "cell_type": "markdown",
   "metadata": {
    "id": "kfKTrrcyzZe0"
   },
   "source": [
    "https://keras.io/api/applications/"
   ]
  },
  {
   "cell_type": "code",
   "execution_count": null,
   "metadata": {
    "id": "36Pcf_oH3MvM"
   },
   "outputs": [],
   "source": [
    "from google.colab import drive\n",
    "drive.mount('/content/drive')"
   ]
  },
  {
   "cell_type": "code",
   "execution_count": null,
   "metadata": {
    "id": "XQzeXq03Cpt3"
   },
   "outputs": [],
   "source": [
    "from tensorflow.keras.applications import VGG16, VGG19, InceptionV3\n",
    "from tensorflow.keras.applications import Xception\n",
    "from tensorflow.keras.applications.resnet50 import ResNet50\n",
    "from tensorflow.keras.layers import Dense, Flatten, Dropout\n",
    "from tensorflow.keras.models import Model\n",
    "from tensorflow.keras.preprocessing.image import ImageDataGenerator\n",
    "from tensorflow.keras.optimizers import Adam\n",
    "from tensorflow.keras.callbacks import EarlyStopping, ModelCheckpoint"
   ]
  },
  {
   "cell_type": "code",
   "execution_count": null,
   "metadata": {
    "id": "kNyNEdpODAfT"
   },
   "outputs": [],
   "source": [
    "# ! unzip /content/cats_and_dogs.zip\n",
    "# ! unzip /content/cats_and_dogs.zip"
   ]
  },
  {
   "cell_type": "code",
   "execution_count": null,
   "metadata": {
    "id": "9VKySZb-DIxJ"
   },
   "outputs": [],
   "source": [
    "# Load VGG16 pretrained on ImageNet\n",
    "\n",
    "base_model = VGG16(weights='imagenet', include_top=False, input_shape=(224, 224, 3))\n",
    "\n",
    "base_model.trainable = False # freezing the convolution layer"
   ]
  },
  {
   "cell_type": "code",
   "execution_count": null,
   "metadata": {
    "id": "E-Zhk8jyXNv3"
   },
   "outputs": [],
   "source": [
    "# Load VGG19 pretrained on ImageNet\n",
    "\n",
    "base_model = VGG19(weights='imagenet', include_top=False, input_shape=(224, 224, 3))\n",
    "\n",
    "base_model.trainable = False # freezing the convolution layer"
   ]
  },
  {
   "cell_type": "code",
   "execution_count": null,
   "metadata": {
    "id": "eNIjNx_syXp5"
   },
   "outputs": [],
   "source": [
    "# Resnet model\n",
    "base_model = ResNet50(weights='imagenet', include_top=False, input_shape=(224, 224, 3))\n",
    "\n",
    "base_model.trainable = False # freezing the convolution layer\n"
   ]
  },
  {
   "cell_type": "code",
   "execution_count": null,
   "metadata": {
    "id": "CvOKTizGRBuN"
   },
   "outputs": [],
   "source": [
    "# Xception Model\n",
    "base_model = Xception(weights='imagenet', include_top=False, input_shape=(224, 224, 3))\n",
    "\n",
    "base_model.trainable = False # freezing the convolution layer"
   ]
  },
  {
   "cell_type": "markdown",
   "metadata": {
    "id": "0AWsNnvkE0LC"
   },
   "source": [
    "(Convolution + Pooling) --> (Convolution + Pooling) [taking form VGG16 or any other pretrained model]\n",
    "\n",
    " --> Flatten --> ANN [we are definig as per our need]"
   ]
  },
  {
   "cell_type": "code",
   "execution_count": null,
   "metadata": {
    "id": "Uxcp5WBRDiWD"
   },
   "outputs": [],
   "source": [
    "# Adding the top layers\n",
    "\n",
    "x = base_model.output\n",
    "x = Flatten()(x)\n",
    "\n",
    "# Hidden layer\n",
    "x = Dense(512, activation='relu')(x)\n",
    "x = Dropout(0.2)(x)\n",
    "\n",
    "# Output layer\n",
    "predictions = Dense(1, activation='sigmoid')(x)\n",
    "\n",
    "model = Model(inputs=base_model.input, outputs=predictions)"
   ]
  },
  {
   "cell_type": "code",
   "execution_count": null,
   "metadata": {
    "id": "f6zPpjSQFVTm"
   },
   "outputs": [],
   "source": [
    "# compile the model\n",
    "\n",
    "model.compile(optimizer='adam',\n",
    "              loss='binary_crossentropy',\n",
    "              metrics=['accuracy'])"
   ]
  },
  {
   "cell_type": "code",
   "execution_count": null,
   "metadata": {
    "id": "mFRf8G4YFcLZ"
   },
   "outputs": [],
   "source": [
    "train_datagen = ImageDataGenerator(rescale=1/255.0)\n",
    "validation_datagen = ImageDataGenerator(rescale=1/255.0)"
   ]
  },
  {
   "cell_type": "code",
   "execution_count": null,
   "metadata": {
    "id": "QULHZt9YFqS1"
   },
   "outputs": [],
   "source": [
    "train_gen = train_datagen.flow_from_directory(\"/content/drive/MyDrive/Adv Deep Learning /Day3/cats_and_dogs/train\",\n",
    "                                              target_size = (224,224),\n",
    "                                              batch_size = 32,\n",
    "                                              class_mode = 'binary')\n",
    "\n",
    "validation_gen = validation_datagen.flow_from_directory(\"/content/drive/MyDrive/Adv Deep Learning /Day3/cats_and_dogs/test\",\n",
    "                                              target_size = (224,224),\n",
    "                                              batch_size = 32,\n",
    "                                              class_mode = 'binary')"
   ]
  },
  {
   "cell_type": "code",
   "execution_count": null,
   "metadata": {
    "id": "P_CKdMxgGYEo"
   },
   "outputs": [],
   "source": [
    "mdl_history = model.fit(train_gen,\n",
    "                        validation_data = validation_gen,\n",
    "                        epochs = 10)"
   ]
  },
  {
   "cell_type": "code",
   "execution_count": null,
   "metadata": {
    "id": "dFqKm9A6HHnM"
   },
   "outputs": [],
   "source": [
    "model.summary()"
   ]
  },
  {
   "cell_type": "code",
   "execution_count": null,
   "metadata": {
    "id": "FmiN1XqlU7lF"
   },
   "outputs": [],
   "source": [
    "plt.plot(mdl_history.history['accuracy'])\n",
    "plt.plot(mdl_history.history['val_accuracy'])\n",
    "plt.xlabel('NUmber of epochs')\n",
    "plt.ylabel('accuracy')\n",
    "plt.legend(['train','validation'], loc = 'upper left')\n",
    "plt.show()"
   ]
  },
  {
   "cell_type": "code",
   "execution_count": null,
   "metadata": {
    "id": "_Br0Mx6iaYbh"
   },
   "outputs": [],
   "source": [
    "# Assignment\n",
    "\n",
    "# Run code on InceptionV3\n",
    "# (299,299)\n",
    "# ~24M parameters\n",
    "# 48 Layers\n"
   ]
  },
  {
   "cell_type": "code",
   "execution_count": null,
   "metadata": {
    "id": "ltMC6yNViGDe"
   },
   "outputs": [],
   "source": [
    "# Load VGG19 pretrained on ImageNet\n",
    "\n",
    "base_model = InceptionV3(weights='imagenet', include_top=False, input_shape=(299, 299, 3))\n",
    "\n",
    "base_model.trainable = False # freezing the convolution layer"
   ]
  },
  {
   "cell_type": "code",
   "execution_count": null,
   "metadata": {
    "id": "Uu_WybHAltSR"
   },
   "outputs": [],
   "source": [
    "# Adding the top layers\n",
    "\n",
    "x = base_model.output\n",
    "x = Flatten()(x)\n",
    "x = Dense(512, activation='relu')(x)\n",
    "x = Dropout(0.2)(x)\n",
    "\n",
    "\n",
    "predictions = Dense(1, activation='sigmoid')(x)\n",
    "\n",
    "model = Model(inputs=base_model.input, outputs=predictions)"
   ]
  },
  {
   "cell_type": "code",
   "execution_count": null,
   "metadata": {
    "id": "VyKYim5tlwdj"
   },
   "outputs": [],
   "source": [
    "# compile the model\n",
    "\n",
    "model.compile(optimizer='adam',\n",
    "              loss='binary_crossentropy',\n",
    "              metrics=['accuracy'])"
   ]
  },
  {
   "cell_type": "code",
   "execution_count": null,
   "metadata": {
    "id": "-JrEkJjcl0sh"
   },
   "outputs": [],
   "source": [
    "train_datagen = ImageDataGenerator(rescale=1/255.0)\n",
    "validation_datagen = ImageDataGenerator(rescale=1/255.0)"
   ]
  },
  {
   "cell_type": "code",
   "execution_count": null,
   "metadata": {
    "id": "IYGnhIx-l29C"
   },
   "outputs": [],
   "source": [
    "train_gen = train_datagen.flow_from_directory(\"/content/cats_and_dogs/train\",\n",
    "                                              target_size = (299,299),\n",
    "                                              batch_size = 32,\n",
    "                                              class_mode = 'binary')\n",
    "\n",
    "validation_gen = validation_datagen.flow_from_directory(\"/content/cats_and_dogs/validation\",\n",
    "                                              target_size = (299,299),\n",
    "                                              batch_size = 32,\n",
    "                                              class_mode = 'binary')"
   ]
  },
  {
   "cell_type": "code",
   "execution_count": null,
   "metadata": {
    "id": "-oxH42U_l5dG"
   },
   "outputs": [],
   "source": [
    "mdl_history = model.fit(train_gen,\n",
    "                        validation_data = validation_gen,\n",
    "                        epochs = 10)"
   ]
  },
  {
   "cell_type": "code",
   "execution_count": null,
   "metadata": {
    "id": "6o_qxipxl9AH"
   },
   "outputs": [],
   "source": [
    "plt.plot(mdl_history.history['accuracy'])\n",
    "plt.plot(mdl_history.history['val_accuracy'])\n",
    "plt.xlabel('NUmber of epochs')\n",
    "plt.ylabel('accuracy')\n",
    "plt.legend(['train','validation'], loc = 'upper left')\n",
    "plt.show()"
   ]
  },
  {
   "cell_type": "code",
   "execution_count": null,
   "metadata": {
    "id": "fpIYd3fBr3OL"
   },
   "outputs": [],
   "source": [
    "# Home Assignmet\n",
    "# Try ResNet50, EfficientNetB7, MobileNetV2"
   ]
  }
 ],
 "metadata": {
  "accelerator": "GPU",
  "colab": {
   "gpuType": "T4",
   "include_colab_link": true,
   "provenance": []
  },
  "kernelspec": {
   "display_name": "Python 3",
   "name": "python3"
  },
  "language_info": {
   "name": "python"
  }
 },
 "nbformat": 4,
 "nbformat_minor": 0
}
